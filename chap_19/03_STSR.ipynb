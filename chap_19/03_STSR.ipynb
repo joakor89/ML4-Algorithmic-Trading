{
 "cells": [
  {
   "cell_type": "markdown",
   "id": "ed1ab3fd-5787-4a83-8c94-8450ff98d849",
   "metadata": {},
   "source": [
    "# Stacked LSTMs for Time Series Regression\n",
    "\n",
    "### Loading Libraries"
   ]
  },
  {
   "cell_type": "code",
   "execution_count": 16,
   "id": "deef7092-0b43-4764-90bb-091bb26d473d",
   "metadata": {},
   "outputs": [],
   "source": [
    "# Numerical Computing\n",
    "import numpy as np\n",
    "\n",
    "# Data Manipulation\n",
    "import pandas as pd\n",
    "import pandas_datareader.data as web\n",
    "\n",
    "# Data Visualization\n",
    "import seaborn as sns\n",
    "import matplotlib.pyplot as plt\n",
    "from matplotlib.ticker import FuncFormatter\n",
    "\n",
    "# Warning\n",
    "import warnings\n",
    "\n",
    "# Path\n",
    "from pathlib import Path\n",
    "\n",
    "# SciPy\n",
    "from scipy.stats import spearmanr\n",
    "\n",
    "# Scikit-Learn\n",
    "from sklearn.metrics import roc_auc_score\n",
    "from sklearn.metrics import mean_squared_error\n",
    "from sklearn.preprocessing import MinMaxScaler\n",
    "\n",
    "# TensorFlow\n",
    "import tensorflow as tf\n",
    "import tensorflow.keras.backend as K\n",
    "from tensorflow.keras.models import Sequential, Model\n",
    "from tensorflow.keras.callbacks import ModelCheckpoint, EarlyStopping\n",
    "from tensorflow.keras.layers import Dense, LSTM, Input, concatenate, Embedding, Reshape, BatchNormalization"
   ]
  },
  {
   "cell_type": "code",
   "execution_count": 17,
   "id": "01d3ab60-7f48-43bb-b10d-58db28a1db03",
   "metadata": {},
   "outputs": [],
   "source": [
    "np.random.seed(42)\n",
    "\n",
    "idx = pd.IndexSlice\n",
    "\n",
    "sns.set_style('whitegrid')"
   ]
  },
  {
   "cell_type": "code",
   "execution_count": 18,
   "id": "b46e35c5-322c-44d3-b2dd-f6f15fff057f",
   "metadata": {},
   "outputs": [
    {
     "name": "stdout",
     "output_type": "stream",
     "text": [
      "Using GPU\n"
     ]
    }
   ],
   "source": [
    "gpu_devices = tf.config.experimental.list_physical_devices('GPU')\n",
    "if gpu_devices:\n",
    "    print('Using GPU')\n",
    "    tf.config.experimental.set_memory_growth(gpu_devices[0], True)\n",
    "else:\n",
    "    print('Using CPU')"
   ]
  },
  {
   "cell_type": "code",
   "execution_count": 19,
   "id": "5bb89355-98f6-4d28-bc38-bf5fcf3a65e8",
   "metadata": {},
   "outputs": [],
   "source": [
    "results_path = Path('results', 'lstm_embeddings')\n",
    "\n",
    "if not results_path.exists():\n",
    "    results_path.mkdir(parents=True)"
   ]
  },
  {
   "cell_type": "markdown",
   "id": "d70912bd-a200-4dee-af87-45d8c533eb73",
   "metadata": {},
   "source": [
    "### Data"
   ]
  },
  {
   "cell_type": "code",
   "execution_count": 25,
   "id": "153df6b2-6e47-4e92-adda-09cd08bae1a9",
   "metadata": {},
   "outputs": [],
   "source": [
    "data = pd.read_hdf('data.h5', 'returns_weekly').drop('label', axis=1)"
   ]
  },
  {
   "cell_type": "code",
   "execution_count": 27,
   "id": "804e1b91-657c-4991-b3a6-73182ef0f7fb",
   "metadata": {},
   "outputs": [],
   "source": [
    "data['ticker'] = pd.factorize(data.index.get_level_values('ticker'))[0]"
   ]
  },
  {
   "cell_type": "code",
   "execution_count": 29,
   "id": "bea728c7-0db1-41ca-a7b8-4712a9ca14bc",
   "metadata": {},
   "outputs": [],
   "source": [
    "data['month'] = data.index.get_level_values('date').month\n",
    "\n",
    "data = pd.get_dummies(data, columns=['month'], prefix='month')"
   ]
  },
  {
   "cell_type": "code",
   "execution_count": 31,
   "id": "cc91477a-3fc4-440a-81cd-91a416ba3e72",
   "metadata": {},
   "outputs": [],
   "source": [
    "data.info()"
   ]
  },
  {
   "cell_type": "markdown",
   "id": "7dbb9736-9fb9-41e0-af9d-8c2dc950bdbe",
   "metadata": {},
   "source": [
    "### Train-Test Split"
   ]
  },
  {
   "cell_type": "code",
   "execution_count": 34,
   "id": "66728dad-e5d7-40a1-b792-851e7a191451",
   "metadata": {},
   "outputs": [],
   "source": [
    "window_size=52\n",
    "\n",
    "sequence = list(range(1, window_size+1))\n",
    "\n",
    "ticker = 1\n",
    "\n",
    "months = 12\n",
    "\n",
    "n_tickers = data.ticker.nunique()"
   ]
  },
  {
   "cell_type": "code",
   "execution_count": 54,
   "id": "49e2eade-8fbd-4fb2-a96c-df76ba493ec0",
   "metadata": {},
   "outputs": [],
   "source": [
    "train_data = data.loc[idx[:, :'2016'], :]\n",
    "\n",
    "test_data = data.loc[idx[:, '2017'],:]"
   ]
  },
  {
   "cell_type": "code",
   "execution_count": 56,
   "id": "022be3ce-4dae-4af0-90d3-84b9a0f06b74",
   "metadata": {},
   "outputs": [],
   "source": [
    "X_train = [\n",
    "    train_data.loc[:, sequence].values.reshape(-1, window_size , 1),\n",
    "    train_data.ticker,\n",
    "    train_data.filter(like='month')\n",
    "]\n",
    "\n",
    "y_train = train_data.fwd_returns\n",
    "\n",
    "[x.shape for x in X_train], y_train.shape"
   ]
  },
  {
   "cell_type": "code",
   "execution_count": 58,
   "id": "acb90b5d-b008-40e6-948c-2246f74a1262",
   "metadata": {},
   "outputs": [],
   "source": [
    "X_test = [\n",
    "    test_data.loc[:, list(range(1, window_size+1))].values.reshape(-1, window_size , 1),\n",
    "    test_data.ticker,\n",
    "    test_data.filter(like='month')\n",
    "]\n",
    "\n",
    "y_test = test_data.fwd_returns\n",
    "\n",
    "[x.shape for x in X_test], y_test.shape"
   ]
  },
  {
   "cell_type": "markdown",
   "id": "e228c4ac-ec14-4d98-b412-b0f81bc75fd5",
   "metadata": {},
   "source": [
    "### Defining Model Architecture"
   ]
  },
  {
   "cell_type": "code",
   "execution_count": 60,
   "id": "be968da4-f123-4455-9eaf-024f5028db7c",
   "metadata": {},
   "outputs": [],
   "source": [
    "K.clear_session()"
   ]
  },
  {
   "cell_type": "code",
   "execution_count": 62,
   "id": "65307a69-e8bf-4e94-80dd-3428566f633b",
   "metadata": {},
   "outputs": [],
   "source": [
    "n_features = 1"
   ]
  },
  {
   "cell_type": "code",
   "execution_count": 64,
   "id": "fd2baf06-4a4f-4a29-975b-da298ab45778",
   "metadata": {},
   "outputs": [],
   "source": [
    "returns = Input(shape=(window_size, n_features), name='Returns')\n",
    "\n",
    "tickers = Input(shape=(1,), name='Tickers')\n",
    "\n",
    "months = Input(shape=(12,), name='Months')"
   ]
  },
  {
   "cell_type": "markdown",
   "id": "e690cfac-f2bc-486d-8e8c-62e9a31f34b0",
   "metadata": {},
   "source": [
    "### LSTM Layers"
   ]
  },
  {
   "cell_type": "code",
   "execution_count": 68,
   "id": "01815dab-432a-4f32-bff4-0a3a672f43fa",
   "metadata": {},
   "outputs": [],
   "source": [
    "lstm1_units = 25\n",
    "\n",
    "lstm2_units = 10"
   ]
  },
  {
   "cell_type": "code",
   "execution_count": 70,
   "id": "7b4d5d52-8f73-41f4-87f4-f43ab436d1f6",
   "metadata": {},
   "outputs": [],
   "source": [
    "lstm1 = LSTM(units=lstm1_units, \n",
    "             input_shape=(window_size, \n",
    "                          n_features), \n",
    "             name='LSTM1', \n",
    "             dropout=.2,\n",
    "             return_sequences=True)(returns)\n",
    "\n",
    "lstm_model = LSTM(units=lstm2_units, \n",
    "             dropout=.2,\n",
    "             name='LSTM2')(lstm1)"
   ]
  },
  {
   "cell_type": "markdown",
   "id": "e416f57f-b69f-4097-9571-295b3bec76ac",
   "metadata": {},
   "source": [
    "#### Embedding Layer"
   ]
  },
  {
   "cell_type": "code",
   "execution_count": 73,
   "id": "9834fb19-051c-4de8-a9b3-d6368b432e77",
   "metadata": {},
   "outputs": [],
   "source": [
    "ticker_embedding = Embedding(input_dim=n_tickers, \n",
    "                             output_dim=5, \n",
    "                             input_length=1)(tickers)\n",
    "\n",
    "ticker_embedding = Reshape(target_shape=(5,))(ticker_embedding)"
   ]
  },
  {
   "cell_type": "markdown",
   "id": "a1e4ff59-7ad8-4378-8747-947e7c4479f9",
   "metadata": {},
   "source": [
    "#### Concatenating Model Components"
   ]
  },
  {
   "cell_type": "code",
   "execution_count": 76,
   "id": "9e9e182b-eced-4875-84d5-ba3078a5b782",
   "metadata": {},
   "outputs": [],
   "source": [
    "merged = concatenate([lstm_model, \n",
    "                      ticker_embedding, \n",
    "                      months], name='Merged')\n",
    "\n",
    "bn = BatchNormalization()(merged)\n",
    "hidden_dense = Dense(10, name='FC1')(bn)\n",
    "\n",
    "output = Dense(1, name='Output')(hidden_dense)\n",
    "\n",
    "rnn = Model(inputs=[returns, tickers, months], outputs=output)"
   ]
  },
  {
   "cell_type": "code",
   "execution_count": 78,
   "id": "cf3dabfb-521e-4722-b0a0-0b898de7a342",
   "metadata": {},
   "outputs": [],
   "source": [
    "rnn.summary()"
   ]
  },
  {
   "cell_type": "markdown",
   "id": "0199b2f9-67cf-4325-8cb2-2b8419a2a13d",
   "metadata": {},
   "source": [
    "### Training Model"
   ]
  },
  {
   "cell_type": "code",
   "execution_count": 97,
   "id": "46cb3d71-5723-459a-821e-9aec8e987b40",
   "metadata": {},
   "outputs": [],
   "source": [
    "optimizer =tf.keras.optimizers.Adam()\n",
    "\n",
    "rnn.compile(loss='mse',\n",
    "            optimizer=optimizer)"
   ]
  },
  {
   "cell_type": "code",
   "execution_count": 99,
   "id": "eac1265c-5472-4125-82d5-4f6b5ebab32e",
   "metadata": {},
   "outputs": [],
   "source": [
    "lstm_path = (results_path / 'lstm.regression.h5').as_posix()\n",
    "\n",
    "checkpointer = ModelCheckpoint(filepath=lstm_path,\n",
    "                               verbose=1,\n",
    "                               monitor='val_loss',\n",
    "                               mode='min',\n",
    "                               save_best_only=True)"
   ]
  },
  {
   "cell_type": "code",
   "execution_count": 101,
   "id": "93c284a3-d6e6-4555-9999-f09ad2977adb",
   "metadata": {},
   "outputs": [],
   "source": [
    "early_stopping = EarlyStopping(monitor='val_loss', \n",
    "                              patience=5,\n",
    "                              restore_best_weights=True)"
   ]
  },
  {
   "cell_type": "code",
   "execution_count": 103,
   "id": "b5d142b4-c0ea-4de5-adf6-2918154c5d3d",
   "metadata": {},
   "outputs": [],
   "source": [
    "training = rnn.fit(X_train,\n",
    "                   y_train,\n",
    "                   epochs=50,\n",
    "                   batch_size=64,\n",
    "                   validation_data=(X_test, y_test),\n",
    "                   callbacks=[early_stopping, checkpointer],\n",
    "                   verbose=1)"
   ]
  },
  {
   "cell_type": "code",
   "execution_count": 105,
   "id": "b970dff0-3507-4a66-b776-1d491a2b9f46",
   "metadata": {},
   "outputs": [],
   "source": [
    "loss_history = pd.DataFrame(training.history)"
   ]
  },
  {
   "cell_type": "markdown",
   "id": "587bdd47-85b1-4812-afee-b904b7de63b7",
   "metadata": {},
   "source": [
    "#### Evaluating Model Performance"
   ]
  },
  {
   "cell_type": "code",
   "execution_count": 108,
   "id": "0e8b8e36-f6a3-4510-b624-e2f52687b3db",
   "metadata": {},
   "outputs": [],
   "source": [
    "test_predict = pd.Series(rnn.predict(X_test).squeeze(), index=y_test.index)"
   ]
  },
  {
   "cell_type": "code",
   "execution_count": 110,
   "id": "0d9ce9c0-ac53-458a-95fc-2bdf28a9e1a7",
   "metadata": {},
   "outputs": [],
   "source": [
    "df = y_test.to_frame('ret').assign(y_pred=test_predict)"
   ]
  },
  {
   "cell_type": "code",
   "execution_count": 112,
   "id": "5a17c6e5-dc28-4f1f-bc37-b305473bd318",
   "metadata": {},
   "outputs": [],
   "source": [
    "by_date = df.groupby(level='date')\n",
    "\n",
    "df['deciles'] = by_date.y_pred.apply(pd.qcut, q=5, labels=False, duplicates='drop')"
   ]
  },
  {
   "cell_type": "code",
   "execution_count": 114,
   "id": "2a28786a-cdc2-4ff4-a37a-edf4adf49ba8",
   "metadata": {},
   "outputs": [],
   "source": [
    "ic = by_date.apply(lambda x: spearmanr(x.ret, x.y_pred)[0]).mul(100)"
   ]
  },
  {
   "cell_type": "code",
   "execution_count": 116,
   "id": "121ab28b-daa5-41d4-be46-d71117198b07",
   "metadata": {},
   "outputs": [],
   "source": [
    "df.info()"
   ]
  },
  {
   "cell_type": "code",
   "execution_count": 118,
   "id": "778c88e0-b430-4093-901f-632fc9d5700c",
   "metadata": {},
   "outputs": [],
   "source": [
    "test_predict = test_predict.to_frame('prediction')\n",
    "\n",
    "test_predict.index.names = ['symbol', 'date']\n",
    "\n",
    "test_predict.to_hdf(results_path / 'predictions.h5', 'predictions')"
   ]
  },
  {
   "cell_type": "code",
   "execution_count": 120,
   "id": "e0bc7b9d-4414-4677-b4c7-a10b82c66d2c",
   "metadata": {},
   "outputs": [],
   "source": [
    "rho, p = spearmanr(df.ret, df.y_pred)\n",
    "\n",
    "print(f'{rho*100:.2f} ({p:.2%})')"
   ]
  },
  {
   "cell_type": "code",
   "execution_count": 122,
   "id": "f24f5c64-ff3f-4d0e-84a9-3b7f633d77f1",
   "metadata": {},
   "outputs": [],
   "source": [
    "fig, axes = plt.subplots(ncols=2, figsize=(14,4))\n",
    "\n",
    "sns.barplot(x='deciles', y='ret', data=df, ax=axes[0])\n",
    "\n",
    "axes[0].set_title('Weekly Fwd Returns by Predicted Quintile')\n",
    "axes[0].yaxis.set_major_formatter(FuncFormatter(lambda y, _: '{:.2%}'.format(y))) \n",
    "axes[0].set_ylabel('Weekly Returns')\n",
    "axes[0].set_xlabel('Quintiles')\n",
    "\n",
    "avg_ic = ic.mean()\n",
    "title = f'4-Week Rolling IC | Weekly avg: {avg_ic:.2f} | Overall: {rho*100:.2f}'\n",
    "ic.rolling(4).mean().dropna().plot(ax=axes[1], title=title)\n",
    "axes[1].axhline(avg_ic, ls='--', c='k', lw=1)\n",
    "axes[1].axhline(0, c='k', lw=1)\n",
    "axes[1].set_ylabel('IC')\n",
    "axes[1].set_xlabel('Date')\n",
    "\n",
    "sns.despine()\n",
    "fig.tight_layout()\n",
    "fig.savefig(results_path / 'lstm_reg');\n",
    "plt.grid()\n",
    "plt.show()"
   ]
  },
  {
   "cell_type": "code",
   "execution_count": null,
   "id": "8a116335-3174-46ec-adc6-0d3725dca453",
   "metadata": {},
   "outputs": [],
   "source": []
  },
  {
   "cell_type": "code",
   "execution_count": null,
   "id": "48b1c676-e89a-4a40-a838-745ab2a10037",
   "metadata": {},
   "outputs": [],
   "source": []
  }
 ],
 "metadata": {
  "kernelspec": {
   "display_name": "Python [conda env:MLAT] *",
   "language": "python",
   "name": "conda-env-MLAT-py"
  },
  "language_info": {
   "codemirror_mode": {
    "name": "ipython",
    "version": 3
   },
   "file_extension": ".py",
   "mimetype": "text/x-python",
   "name": "python",
   "nbconvert_exporter": "python",
   "pygments_lexer": "ipython3",
   "version": "3.12.9"
  }
 },
 "nbformat": 4,
 "nbformat_minor": 5
}
