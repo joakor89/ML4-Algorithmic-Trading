{
 "cells": [
  {
   "cell_type": "markdown",
   "id": "7687b573-1404-4c43-8bc3-f5b4ccd37847",
   "metadata": {},
   "source": [
    "# Creating a Dataset Formatted for RNN Examples\n",
    "\n",
    "### Loading Libraries"
   ]
  },
  {
   "cell_type": "code",
   "execution_count": 24,
   "id": "35df67dd-a77f-493c-9800-3d7d54146871",
   "metadata": {},
   "outputs": [],
   "source": [
    "# Numerical Computing\n",
    "import numpy as np\n",
    "\n",
    "# Data Manipulation\n",
    "import pandas as pd\n",
    "\n",
    "# Data Visualization\n",
    "import seaborn as sns\n",
    "import matplotlib.pyplot as plt\n",
    "\n",
    "# Warning\n",
    "import warnings\n",
    "\n",
    "# Path\n",
    "from pathlib import Path"
   ]
  },
  {
   "cell_type": "code",
   "execution_count": 26,
   "id": "f510014c-6791-4acf-ba0e-331c60f871b8",
   "metadata": {},
   "outputs": [],
   "source": [
    "np.random.seed(42)\n",
    "\n",
    "idx = pd.IndexSlice\n",
    "\n",
    "warnings.filterwarnings('ignore')"
   ]
  },
  {
   "cell_type": "markdown",
   "id": "4c35fd8a-ad9c-4644-8988-95c72cf4a82a",
   "metadata": {},
   "source": [
    "### Building Daily Dataset"
   ]
  },
  {
   "cell_type": "code",
   "execution_count": 29,
   "id": "d89c43ea-8d1b-4f84-94fc-94f2131fac77",
   "metadata": {},
   "outputs": [],
   "source": [
    "DATA_DIR = Path('..', 'data')"
   ]
  },
  {
   "cell_type": "code",
   "execution_count": 33,
   "id": "4031c9a8-8ca7-4717-b5c7-f135ed60e6af",
   "metadata": {},
   "outputs": [],
   "source": [
    "prices = (pd.read_hdf(DATA_DIR / 'assets.h5', 'quandl/wiki/prices')\n",
    "          .loc[idx['2010':'2017', :], ['adj_close', 'adj_volume']])\n",
    "\n",
    "prices.info()"
   ]
  },
  {
   "cell_type": "markdown",
   "id": "9c2eae7f-c644-49ca-a1fe-e7b9107f7f80",
   "metadata": {},
   "source": [
    "####  Most Traded Stocks Select"
   ]
  },
  {
   "cell_type": "code",
   "execution_count": 35,
   "id": "e39e432b-2555-48fe-8cd7-bf301c400bd7",
   "metadata": {},
   "outputs": [],
   "source": [
    "n_dates = len(prices.index.unique('date'))\n",
    "\n",
    "dollar_vol = (prices.adj_close.mul(prices.adj_volume)\n",
    "              .unstack('ticker')\n",
    "              .dropna(thresh=int(.95 * n_dates), axis=1)\n",
    "              .rank(ascending=False, axis=1)\n",
    "              .stack('ticker'))"
   ]
  },
  {
   "cell_type": "code",
   "execution_count": 38,
   "id": "f94b2dad-a3de-479f-9493-8eef34092743",
   "metadata": {},
   "outputs": [],
   "source": [
    "most_traded = dollar_vol.groupby(level='ticker').mean().nsmallest(500).index"
   ]
  },
  {
   "cell_type": "code",
   "execution_count": 40,
   "id": "ff204edc-c847-4ce5-ac10-a6ee57d88444",
   "metadata": {},
   "outputs": [],
   "source": [
    "returns = (prices.loc[idx[:, most_traded], 'adj_close']\n",
    "           .unstack('ticker')\n",
    "           .pct_change()\n",
    "           .sort_index(ascending=False))\n",
    "\n",
    "returns.info()"
   ]
  },
  {
   "cell_type": "markdown",
   "id": "9da4def6-315a-4712-abab-a854e73e0afa",
   "metadata": {},
   "source": [
    "#### Stacking 21-Day Time Series"
   ]
  },
  {
   "cell_type": "code",
   "execution_count": 43,
   "id": "9d042741-cb93-4d91-b432-1638ff2cc874",
   "metadata": {},
   "outputs": [],
   "source": [
    "n = len(returns)\n",
    "\n",
    "T = 21\n",
    "\n",
    "tcols = list(range(T))\n",
    "\n",
    "tickers = returns.columns"
   ]
  },
  {
   "cell_type": "code",
   "execution_count": 45,
   "id": "f3dbf811-b9e4-4001-9c23-83a8741ee2a8",
   "metadata": {},
   "outputs": [],
   "source": [
    "data = pd.DataFrame()\n",
    "\n",
    "for i in range(n-T-1):\n",
    "    df = returns.iloc[i:i+T+1]\n",
    "    date = df.index.max()\n",
    "    data = pd.concat([data, \n",
    "                      df.reset_index(drop=True).T\n",
    "                      .assign(date=date, ticker=tickers)\n",
    "                      .set_index(['ticker', 'date'])])\n",
    "\n",
    "data = data.rename(columns={0: 'label'}).sort_index().dropna()\n",
    "data.loc[:, tcols[1:]] = (data.loc[:, tcols[1:]].apply(lambda x: x.clip(lower=x.quantile(.01),\n",
    "                                                  upper=x.quantile(.99))))\n",
    "\n",
    "data.info()"
   ]
  },
  {
   "cell_type": "code",
   "execution_count": 47,
   "id": "65e70e4d-19a0-40a7-9dab-e2420ef95a81",
   "metadata": {},
   "outputs": [],
   "source": [
    "data.shape"
   ]
  },
  {
   "cell_type": "code",
   "execution_count": 49,
   "id": "adac803e-d33b-47eb-b14c-0e7cec67d751",
   "metadata": {},
   "outputs": [],
   "source": [
    "data.to_hdf('data.h5', 'returns_daily')"
   ]
  },
  {
   "cell_type": "markdown",
   "id": "83811cbf-9d37-4a56-8c27-ba7685dc80e9",
   "metadata": {},
   "source": [
    "#### Building Weekly Dataset"
   ]
  },
  {
   "cell_type": "code",
   "execution_count": null,
   "id": "6dcff72a-f61a-4fe8-8103-18db151cda2d",
   "metadata": {},
   "outputs": [],
   "source": [
    "prices = (pd.read_hdf(DATA_DIR / 'assets.h5', 'quandl/wiki/prices')\n",
    "          .adj_close\n",
    "          .unstack().loc['2007':])\n",
    "\n",
    "prices.info()"
   ]
  },
  {
   "cell_type": "markdown",
   "id": "2d7fa30f-6f0f-4e74-942a-a122dedebaf6",
   "metadata": {},
   "source": [
    "#### Resampling to Weekly Frequency"
   ]
  },
  {
   "cell_type": "code",
   "execution_count": 60,
   "id": "93a2b894-9f26-440d-86c1-4d8cc1377bf3",
   "metadata": {},
   "outputs": [],
   "source": [
    "returns = (prices\n",
    "           .resample('W')\n",
    "           .last()\n",
    "           .pct_change()\n",
    "           .loc['2008': '2017']\n",
    "           .dropna(axis=1)\n",
    "           .sort_index(ascending=False))\n",
    "\n",
    "returns.info()"
   ]
  },
  {
   "cell_type": "code",
   "execution_count": 62,
   "id": "0f65583c-0dd3-4919-aaa9-ac468c022ef3",
   "metadata": {},
   "outputs": [],
   "source": [
    "returns.head().append(returns.tail())"
   ]
  },
  {
   "cell_type": "markdown",
   "id": "8d0a0a8b-a3ef-4158-a507-577d4cadef22",
   "metadata": {},
   "source": [
    "#### Creating & Stacking 52-Week Sequences"
   ]
  },
  {
   "cell_type": "code",
   "execution_count": 65,
   "id": "5e7075c6-3057-4a5b-b566-b33916e9d20d",
   "metadata": {},
   "outputs": [],
   "source": [
    "n = len(returns)\n",
    "\n",
    "T = 52 \n",
    "\n",
    "tcols = list(range(T))\n",
    "\n",
    "tickers = returns.columns"
   ]
  },
  {
   "cell_type": "code",
   "execution_count": 67,
   "id": "0a343a6a-3b6c-4545-955c-0a13972c5a82",
   "metadata": {},
   "outputs": [],
   "source": [
    "data = pd.DataFrame()\n",
    "\n",
    "for i in range(n-T-1):\n",
    "    df = returns.iloc[i:i+T+1]\n",
    "    date = df.index.max()    \n",
    "    data = pd.concat([data, (df.reset_index(drop=True).T\n",
    "                             .assign(date=date, ticker=tickers)\n",
    "                             .set_index(['ticker', 'date']))])\n",
    "\n",
    "data.info()"
   ]
  },
  {
   "cell_type": "code",
   "execution_count": 69,
   "id": "800cdf06-dc20-47d0-986b-739ac60da448",
   "metadata": {},
   "outputs": [],
   "source": [
    "data[tcols] = (data[tcols].apply(lambda x: x.clip(lower=x.quantile(.01),\n",
    "                                                  upper=x.quantile(.99))))"
   ]
  },
  {
   "cell_type": "code",
   "execution_count": 71,
   "id": "ca6e7310-f0aa-431f-8c25-0cab00636315",
   "metadata": {},
   "outputs": [],
   "source": [
    "data = data.rename(columns={0: 'fwd_returns'})"
   ]
  },
  {
   "cell_type": "code",
   "execution_count": 76,
   "id": "ec61bd76-31b3-42b9-9d4e-8570b2e1d5d5",
   "metadata": {},
   "outputs": [],
   "source": [
    "data['label'] = (data['fwd_returns'] > 0).astype(int)"
   ]
  },
  {
   "cell_type": "code",
   "execution_count": 78,
   "id": "6cc23f88-2ef8-4c6a-94ea-6db57fcf03eb",
   "metadata": {},
   "outputs": [],
   "source": [
    "data.shape"
   ]
  },
  {
   "cell_type": "code",
   "execution_count": 80,
   "id": "00fce7ec-4e8c-4a3e-9453-b5aaa6c0bb72",
   "metadata": {},
   "outputs": [],
   "source": [
    "data.sort_index().to_hdf('data.h5', 'returns_weekly')"
   ]
  },
  {
   "cell_type": "code",
   "execution_count": null,
   "id": "29cf5aed-9e45-4dbc-ab72-1cb541e71d75",
   "metadata": {},
   "outputs": [],
   "source": []
  }
 ],
 "metadata": {
  "kernelspec": {
   "display_name": "Python [conda env:MLAT] *",
   "language": "python",
   "name": "conda-env-MLAT-py"
  },
  "language_info": {
   "codemirror_mode": {
    "name": "ipython",
    "version": 3
   },
   "file_extension": ".py",
   "mimetype": "text/x-python",
   "name": "python",
   "nbconvert_exporter": "python",
   "pygments_lexer": "ipython3",
   "version": "3.12.9"
  }
 },
 "nbformat": 4,
 "nbformat_minor": 5
}
