{
 "cells": [
  {
   "cell_type": "markdown",
   "id": "36ad947a-80b5-4a18-9e44-1aa23ed79733",
   "metadata": {},
   "source": [
    "# Stacked LSTMs for Time Series Classification with TensorFlow\n",
    "\n",
    "### Loading Libraries"
   ]
  },
  {
   "cell_type": "code",
   "execution_count": 13,
   "id": "192f95eb-08be-4be2-82b2-5fb5e398beea",
   "metadata": {},
   "outputs": [],
   "source": [
    "# Numerical Computing\n",
    "import numpy as np\n",
    "\n",
    "# Data Manipulation\n",
    "import pandas as pd\n",
    "import pandas_datareader.data as web\n",
    "\n",
    "# Data Visualization\n",
    "import seaborn as sns\n",
    "import matplotlib.pyplot as plt\n",
    "\n",
    "# Warning\n",
    "import warnings\n",
    "\n",
    "# Path\n",
    "from pathlib import Path\n",
    "\n",
    "# Scikit-Learn\n",
    "from sklearn.metrics import roc_auc_score\n",
    "from sklearn.metrics import mean_squared_error\n",
    "from sklearn.preprocessing import MinMaxScaler\n",
    "\n",
    "# TensorFlow\n",
    "import tensorflow as tf\n",
    "from tensorflow import keras\n",
    "import tensorflow.keras.backend as K\n",
    "from tensorflow.keras.models import Model\n",
    "from tensorflow.keras.models import Sequential\n",
    "from tensorflow.keras.layers import Dense, LSTM\n",
    "from tensorflow.keras.callbacks import ModelCheckpoint, EarlyStopping\n",
    "from tensorflow.keras.layers import Dense, LSTM, Input, concatenate, Embedding, Reshape, BatchNormalization"
   ]
  },
  {
   "cell_type": "code",
   "execution_count": 14,
   "id": "8afef7fe-22fb-494e-b312-4d9397dd8cce",
   "metadata": {},
   "outputs": [
    {
     "name": "stdout",
     "output_type": "stream",
     "text": [
      "Using GPU\n"
     ]
    }
   ],
   "source": [
    "gpu_devices = tf.config.experimental.list_physical_devices('GPU')\n",
    "\n",
    "if gpu_devices:\n",
    "    print('Using GPU')\n",
    "    tf.config.experimental.set_memory_growth(gpu_devices[0], True)\n",
    "else:\n",
    "    print('Using CPU')"
   ]
  },
  {
   "cell_type": "code",
   "execution_count": 15,
   "id": "a57f9731-ebb5-47a0-a6d8-99c8759456f5",
   "metadata": {},
   "outputs": [],
   "source": [
    "np.random.seed(42)\n",
    "\n",
    "idx = pd.IndexSlice\n",
    "\n",
    "sns.set_style('whitegrid')"
   ]
  },
  {
   "cell_type": "code",
   "execution_count": 19,
   "id": "3ba4798b-6aca-4eaf-9ab4-aa44603113f3",
   "metadata": {},
   "outputs": [],
   "source": [
    "results_path = Path('results', 'lstm_embeddings')\n",
    "\n",
    "if not results_path.exists():\n",
    "    results_path.mkdir(parents=True)"
   ]
  },
  {
   "cell_type": "markdown",
   "id": "36c84c23-2148-4aec-9cac-b816cfd4825d",
   "metadata": {},
   "source": [
    "### Data"
   ]
  },
  {
   "cell_type": "code",
   "execution_count": 23,
   "id": "d259d034-7075-4e53-8750-0cc46bdf9165",
   "metadata": {},
   "outputs": [],
   "source": [
    "data = pd.read_hdf('data.h5', 'returns_weekly')"
   ]
  },
  {
   "cell_type": "code",
   "execution_count": 25,
   "id": "105acddb-69d5-4ac3-b269-487c0f489cca",
   "metadata": {},
   "outputs": [],
   "source": [
    "data['ticker'] = pd.factorize(data.index.get_level_values('ticker'))[0]"
   ]
  },
  {
   "cell_type": "code",
   "execution_count": 27,
   "id": "a3bc3c25-f15e-4a3d-a434-65ff8adbbe10",
   "metadata": {},
   "outputs": [],
   "source": [
    "data['month'] = data.index.get_level_values('date').month\n",
    "\n",
    "data = pd.get_dummies(data, columns=['month'], prefix='month')"
   ]
  },
  {
   "cell_type": "code",
   "execution_count": 30,
   "id": "3ce4d529-e2d0-4548-9bbc-eaad782f04f4",
   "metadata": {},
   "outputs": [],
   "source": [
    "data.info()"
   ]
  },
  {
   "cell_type": "markdown",
   "id": "9197da3f-79e3-4d58-b2b0-662a7b6baab1",
   "metadata": {},
   "source": [
    "### Train-Test Split"
   ]
  },
  {
   "cell_type": "code",
   "execution_count": 45,
   "id": "2cdd8dc2-5daa-4a27-99e0-55e5bb745530",
   "metadata": {},
   "outputs": [],
   "source": [
    "window_size=52\n",
    "\n",
    "sequence = list(range(1, window_size+1))\n",
    "\n",
    "ticker = 1\n",
    "\n",
    "months = 12\n",
    "\n",
    "n_tickers = data.ticker.nunique()"
   ]
  },
  {
   "cell_type": "code",
   "execution_count": 47,
   "id": "e7da6c03-5139-4c39-9d3f-4a23676fdda0",
   "metadata": {},
   "outputs": [],
   "source": [
    "train_data = data.drop('fwd_returns', axis=1).loc[idx[:, :'2016'], :]\n",
    "\n",
    "test_data = data.drop('fwd_returns', axis=1).loc[idx[:, '2017'],:]"
   ]
  },
  {
   "cell_type": "code",
   "execution_count": 49,
   "id": "433ea472-b2c8-475b-a52d-5c04015cf0a4",
   "metadata": {},
   "outputs": [],
   "source": [
    "X_train = [\n",
    "    train_data.loc[:, sequence].values.reshape(-1, window_size , 1),\n",
    "    train_data.ticker,\n",
    "    train_data.filter(like='month')\n",
    "]\n",
    "\n",
    "y_train = train_data.label\n",
    "\n",
    "[x.shape for x in X_train], y_train.shape"
   ]
  },
  {
   "cell_type": "code",
   "execution_count": 51,
   "id": "ea17baf7-b040-440a-8c4c-e9061f8daef7",
   "metadata": {},
   "outputs": [],
   "source": [
    "X_test = [\n",
    "    test_data.loc[:, list(range(1, window_size+1))].values.reshape(-1, window_size , 1),\n",
    "    test_data.ticker,\n",
    "    test_data.filter(like='month')\n",
    "]\n",
    "\n",
    "y_test = test_data.label\n",
    "[x.shape for x in X_test], y_test.shape"
   ]
  },
  {
   "cell_type": "markdown",
   "id": "05e5a943-78d8-4a3d-be73-282cc00e96c0",
   "metadata": {},
   "source": [
    "#### Defining Model Architecture"
   ]
  },
  {
   "cell_type": "code",
   "execution_count": 53,
   "id": "265dc6f6-a739-4111-a40f-bfad45a1c95f",
   "metadata": {},
   "outputs": [],
   "source": [
    "K.clear_session()"
   ]
  },
  {
   "cell_type": "code",
   "execution_count": 55,
   "id": "c0557db5-8b96-4cdb-b711-3b59c137a1e4",
   "metadata": {},
   "outputs": [],
   "source": [
    "n_features = 1"
   ]
  },
  {
   "cell_type": "code",
   "execution_count": 57,
   "id": "7114b27e-ad01-4e92-b046-5db0dde5a4cf",
   "metadata": {},
   "outputs": [],
   "source": [
    "returns = Input(shape=(window_size, n_features),\n",
    "                name='Returns')\n",
    "\n",
    "tickers = Input(shape=(1,),\n",
    "                name='Tickers')\n",
    "\n",
    "months = Input(shape=(12,),\n",
    "               name='Months')"
   ]
  },
  {
   "cell_type": "markdown",
   "id": "54bc9cf0-ae26-4770-bebb-9de5e162940a",
   "metadata": {},
   "source": [
    "### LSTM Layers"
   ]
  },
  {
   "cell_type": "code",
   "execution_count": 61,
   "id": "2e948144-4f5e-46e6-b68a-9cc7aab55def",
   "metadata": {},
   "outputs": [],
   "source": [
    "lstm1_units = 25\n",
    "\n",
    "lstm2_units = 10"
   ]
  },
  {
   "cell_type": "code",
   "execution_count": 73,
   "id": "93c18cc7-b54e-49fb-a497-6618457b295a",
   "metadata": {},
   "outputs": [],
   "source": [
    "lstm1 = LSTM(units=lstm1_units, \n",
    "             input_shape=(window_size, \n",
    "                          n_features), \n",
    "             name='LSTM1', \n",
    "             dropout=.2,\n",
    "             return_sequences=True)(returns)\n",
    "\n",
    "lstm_model = LSTM(units=lstm2_units, \n",
    "             dropout=.2,\n",
    "             name='LSTM2')(lstm1)"
   ]
  },
  {
   "cell_type": "markdown",
   "id": "f9349519-e0b1-41d3-b5bc-e50df115d8a6",
   "metadata": {},
   "source": [
    "#### Embedding Layer"
   ]
  },
  {
   "cell_type": "code",
   "execution_count": 76,
   "id": "53997aac-8d4e-4c0f-bccd-a1068fa6b012",
   "metadata": {},
   "outputs": [],
   "source": [
    "ticker_embedding = Embedding(input_dim=n_tickers, \n",
    "                             output_dim=5, \n",
    "                             input_length=1)(tickers)\n",
    "\n",
    "ticker_embedding = Reshape(target_shape=(5,))(ticker_embedding)"
   ]
  },
  {
   "cell_type": "markdown",
   "id": "aceebf93-d8e3-4c95-bed3-0f8fcb3b8c0d",
   "metadata": {},
   "source": [
    "### Concatenating Model Components"
   ]
  },
  {
   "cell_type": "code",
   "execution_count": 79,
   "id": "1a9780fc-b82d-4a5e-ba32-a2dd7472c3de",
   "metadata": {},
   "outputs": [],
   "source": [
    "merged = concatenate([lstm_model, \n",
    "                      ticker_embedding, \n",
    "                      months], name='Merged')\n",
    "\n",
    "bn = BatchNormalization()(merged)\n",
    "hidden_dense = Dense(10, name='FC1')(bn)\n",
    "\n",
    "output = Dense(1, name='Output', activation='sigmoid')(hidden_dense)\n",
    "\n",
    "rnn = Model(inputs=[returns, tickers, months], outputs=output)"
   ]
  },
  {
   "cell_type": "code",
   "execution_count": 81,
   "id": "257d7143-b9a1-4758-88d1-e7c7ad7a9f25",
   "metadata": {},
   "outputs": [],
   "source": [
    "rnn.summary()"
   ]
  },
  {
   "cell_type": "markdown",
   "id": "fa2034f9-6db5-4cf8-bf84-cab10faedbe2",
   "metadata": {},
   "source": [
    "### Training Model"
   ]
  },
  {
   "cell_type": "code",
   "execution_count": 85,
   "id": "8b692c9a-4a9a-4b03-9b47-ff387a9428c4",
   "metadata": {},
   "outputs": [],
   "source": [
    "optimizer = tf.keras.optimizers.RMSprop(lr=0.001,\n",
    "                                        rho=0.9,\n",
    "                                        epsilon=1e-08,\n",
    "                                        decay=0.0)"
   ]
  },
  {
   "cell_type": "code",
   "execution_count": 87,
   "id": "eacdca67-e578-476f-be7d-5b12cd03e6ce",
   "metadata": {},
   "outputs": [],
   "source": [
    "rnn.compile(loss='binary_crossentropy',\n",
    "            optimizer=optimizer,\n",
    "            metrics=['accuracy', \n",
    "                     tf.keras.metrics.AUC(name='AUC')])"
   ]
  },
  {
   "cell_type": "code",
   "execution_count": 89,
   "id": "a5c11740-d432-4d69-87e7-87fe8d855130",
   "metadata": {},
   "outputs": [],
   "source": [
    "lstm_path = (results_path / 'lstm.classification.h5').as_posix()\n",
    "\n",
    "checkpointer = ModelCheckpoint(filepath=lstm_path,\n",
    "                               verbose=1,\n",
    "                               monitor='val_AUC',\n",
    "                               mode='max',\n",
    "                               save_best_only=True)"
   ]
  },
  {
   "cell_type": "code",
   "execution_count": 97,
   "id": "a6cc769e-5327-4a35-bef0-dbd6aac70785",
   "metadata": {},
   "outputs": [],
   "source": [
    "early_stopping = EarlyStopping(monitor='val_AUC', \n",
    "                              patience=5,\n",
    "                              restore_best_weights=True,\n",
    "                              mode='max')"
   ]
  },
  {
   "cell_type": "code",
   "execution_count": 99,
   "id": "b475c2c7-65a3-4a5b-a3ce-c8cc9d47d146",
   "metadata": {},
   "outputs": [],
   "source": [
    "training = rnn.fit(X_train,\n",
    "                   y_train,\n",
    "                   epochs=50,\n",
    "                   batch_size=32,\n",
    "                   validation_data=(X_test, y_test),\n",
    "                   callbacks=[early_stopping, checkpointer],\n",
    "                   verbose=1)"
   ]
  },
  {
   "cell_type": "code",
   "execution_count": 101,
   "id": "c28af3fb-486e-431d-80c8-4b5039ee11d0",
   "metadata": {},
   "outputs": [],
   "source": [
    "loss_history = pd.DataFrame(training.history)"
   ]
  },
  {
   "cell_type": "code",
   "execution_count": 105,
   "id": "a3eddc86-0596-4bcd-9cad-090a75af4c95",
   "metadata": {},
   "outputs": [],
   "source": [
    "def which_metric(m):\n",
    "    return m.split('_')[-1]"
   ]
  },
  {
   "cell_type": "code",
   "execution_count": 107,
   "id": "4b36032e-0e4e-4a95-839e-22be7f4ebf85",
   "metadata": {},
   "outputs": [],
   "source": [
    "fig, axes = plt.subplots(ncols=3, figsize=(18,4))\n",
    "\n",
    "for i, (metric, hist) in enumerate(loss_history.groupby(which_metric, axis=1)):\n",
    "    hist.plot(ax=axes[i], title=metric)\n",
    "    axes[i].legend(['Training', 'Validation'])\n",
    "\n",
    "sns.despine()\n",
    "fig.tight_layout()\n",
    "fig.savefig(results_path / 'lstm_stacked_classification', dpi=300);\n",
    "plt.grid()\n",
    "plt.show()"
   ]
  },
  {
   "cell_type": "markdown",
   "id": "fe0d2faf-fc85-4cf7-9716-6d290bf6cd9b",
   "metadata": {},
   "source": [
    "### Evaluating Model Performance"
   ]
  },
  {
   "cell_type": "code",
   "execution_count": 112,
   "id": "06f564fd-5204-4dca-92c3-f2791c2d9da7",
   "metadata": {},
   "outputs": [],
   "source": [
    "test_predict = pd.Series(rnn.predict(X_test).squeeze(), index=y_test.index)"
   ]
  },
  {
   "cell_type": "code",
   "execution_count": 114,
   "id": "d710e387-76e4-4889-a00e-659de62db12e",
   "metadata": {},
   "outputs": [],
   "source": [
    "roc_auc_score(y_score=test_predict, y_true=y_test)"
   ]
  },
  {
   "cell_type": "code",
   "execution_count": 116,
   "id": "4c28e05f-e96c-4ef2-aba4-d54a4de292d9",
   "metadata": {},
   "outputs": [],
   "source": [
    "((test_predict>.5) == y_test).astype(int).mean()"
   ]
  },
  {
   "cell_type": "code",
   "execution_count": 118,
   "id": "b3ea7b86-1ea7-4699-9f06-0587e84fca91",
   "metadata": {},
   "outputs": [],
   "source": [
    "spearmanr(test_predict, y_test)[0]"
   ]
  },
  {
   "cell_type": "code",
   "execution_count": null,
   "id": "352970ed-c3bc-4011-8885-d182d273bd30",
   "metadata": {},
   "outputs": [],
   "source": []
  }
 ],
 "metadata": {
  "kernelspec": {
   "display_name": "Python [conda env:MLAT] *",
   "language": "python",
   "name": "conda-env-MLAT-py"
  },
  "language_info": {
   "codemirror_mode": {
    "name": "ipython",
    "version": 3
   },
   "file_extension": ".py",
   "mimetype": "text/x-python",
   "name": "python",
   "nbconvert_exporter": "python",
   "pygments_lexer": "ipython3",
   "version": "3.12.9"
  }
 },
 "nbformat": 4,
 "nbformat_minor": 5
}
