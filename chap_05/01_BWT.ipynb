{
 "cells": [
  {
   "cell_type": "markdown",
   "id": "a191f753-4847-4f8e-86a7-842243b646c5",
   "metadata": {},
   "source": [
    "# `ZipLine MeanReversion` Backtest\n",
    "\n",
    "### Loading Libraries"
   ]
  },
  {
   "cell_type": "code",
   "execution_count": 6,
   "id": "ee2cb66c-ec6c-407f-8f9d-ea089de93100",
   "metadata": {},
   "outputs": [],
   "source": [
    "# System\n",
    "import sys\n",
    "\n",
    "# Numerical Computing\n",
    "import numpy as np\n",
    "\n",
    "# Data Manipulation\n",
    "import pandas as pd\n",
    "\n",
    "# \n",
    "from pytz import UTC\n",
    "\n",
    "# Warnings\n",
    "import warnings\n",
    "\n",
    "# ZipLine\n",
    "from zipline import run_algorithm\n",
    "from zipline.finance import commission, slippage\n",
    "from zipline.pipeline import Pipeline, CustomFactor\n",
    "from zipline.pipeline.factors import Returns, AverageDollarVolume\n",
    "\n",
    "from zipline.api import (attach_pipeline, \n",
    "                         date_rules, \n",
    "                         time_rules,\n",
    "                         get_datetime,\n",
    "                         order_target_percent,\n",
    "                         pipeline_output, \n",
    "                         record, \n",
    "                         schedule_function, \n",
    "                         get_open_orders, \n",
    "                         calendars,\n",
    "                         set_commission, \n",
    "                         set_slippage)\n",
    "# ZipLine Extractor\n",
    "from pyfolio.utils import extract_rets_pos_txn_from_zipline\n",
    "\n",
    "# Data Visualization\n",
    "import seaborn as sns\n",
    "import matplotlib.pyplot as plt"
   ]
  },
  {
   "cell_type": "code",
   "execution_count": 7,
   "id": "0b19eff4-0507-4636-9c9f-509b9d411c71",
   "metadata": {},
   "outputs": [],
   "source": [
    "sns.set_style('whitegrid')\n",
    "\n",
    "warnings.filterwarnings('ignore')"
   ]
  },
  {
   "cell_type": "markdown",
   "id": "7b6fb37d-7fb7-4fc2-a700-a8eadea61476",
   "metadata": {},
   "source": [
    "### Logging Setup"
   ]
  },
  {
   "cell_type": "code",
   "execution_count": 8,
   "id": "355aa9d5-a792-424c-a861-480de0912b81",
   "metadata": {},
   "outputs": [],
   "source": [
    "# Setup stdout Logging\n",
    "format_string = '[{record.time: %H:%M:%S.%f}]: {record.level_name}: {record.message}'\n",
    "zipline_logging = NestedSetup([NullHandler(level=DEBUG),\n",
    "                               StreamHandler(sys.stdout, format_string=format_string, level=INFO),\n",
    "                               StreamHandler(sys.stderr, level=ERROR)])\n",
    "\n",
    "zipline_logging.push_application()\n",
    "log = Logger('Algorithm')"
   ]
  },
  {
   "cell_type": "markdown",
   "id": "fb24794e-99df-4162-977a-5131d22acbf2",
   "metadata": {},
   "source": [
    "### Algo Settings"
   ]
  },
  {
   "cell_type": "code",
   "execution_count": 9,
   "id": "c3a6d70b-4575-4c19-ad9a-4cd2c0aff514",
   "metadata": {},
   "outputs": [],
   "source": [
    "# Settings\n",
    "MONTH = 21\n",
    "YEAR = 12 * MONTH\n",
    "N_LONGS = 50\n",
    "N_SHORTS = 50\n",
    "VOL_SCREEN = 500"
   ]
  },
  {
   "cell_type": "code",
   "execution_count": 10,
   "id": "d5748860-1003-45ed-9ac4-c313daf4b6d6",
   "metadata": {},
   "outputs": [],
   "source": [
    "start = pd.Timestamp('2013-01-01', tz=UTC)\n",
    "end = pd.Timestamp('2017-01-01', tz=UTC)\n",
    "\n",
    "capital_base = 1e7"
   ]
  },
  {
   "cell_type": "markdown",
   "id": "394738da-2536-43ae-b123-226819faa7a4",
   "metadata": {},
   "source": [
    "### Mean Reversion Factor"
   ]
  },
  {
   "cell_type": "code",
   "execution_count": 11,
   "id": "050bb291-1b57-44f6-aee6-77ba76e7a565",
   "metadata": {},
   "outputs": [],
   "source": [
    "class MeanReversion(CustomFactor):\n",
    "    \"\"\"Compute ratio of latest monthly return to 12m average,\n",
    "       normalized by std dev of monthly returns\"\"\"\n",
    "    inputs = [Returns(window_length=MONTH)]\n",
    "    window_length = YEAR\n",
    "\n",
    "    def compute(self, today, assets, out, monthly_returns):\n",
    "        df = pd.DataFrame(monthly_returns)\n",
    "        out[:] = df.iloc[-1].sub(df.mean()).div(df.std())"
   ]
  },
  {
   "cell_type": "markdown",
   "id": "8c3858bb-7296-4266-b569-26a99fc1afe1",
   "metadata": {},
   "source": [
    "### Create Pipeline"
   ]
  },
  {
   "cell_type": "code",
   "execution_count": 12,
   "id": "24cae338-be2c-4ed3-a4aa-118a6957a1d1",
   "metadata": {},
   "outputs": [],
   "source": [
    "def compute_factors():\n",
    "    \"\"\"Create factor pipeline incl. mean reversion,\n",
    "        filtered by 30d Dollar Volume; capture factor ranks\"\"\"\n",
    "    mean_reversion = MeanReversion()\n",
    "    dollar_volume = AverageDollarVolume(window_length=30)\n",
    "    return Pipeline(columns={'longs'  : mean_reversion.bottom(N_LONGS),\n",
    "                             'shorts' : mean_reversion.top(N_SHORTS),\n",
    "                             'ranking': mean_reversion.rank(ascending=False)},\n",
    "                    screen=dollar_volume.top(VOL_SCREEN))"
   ]
  },
  {
   "cell_type": "code",
   "execution_count": 13,
   "id": "4c26af6f-e563-4a9b-b617-36982d00083c",
   "metadata": {},
   "outputs": [],
   "source": [
    "def before_trading_start(context, data):\n",
    "    \"\"\"Run factor pipeline\"\"\"\n",
    "    context.factor_data = pipeline_output('factor_pipeline')\n",
    "    record(factor_data=context.factor_data.ranking)\n",
    "    assets = context.factor_data.index\n",
    "    record(prices=data.current(assets, 'price'))"
   ]
  },
  {
   "cell_type": "markdown",
   "id": "a1726654-f8e0-46e7-b646-c3de3ec5c7c7",
   "metadata": {},
   "source": [
    "### Set up Rebalancing"
   ]
  },
  {
   "cell_type": "code",
   "execution_count": 14,
   "id": "0f20802f-57ff-4fab-9849-b6d9b50111f3",
   "metadata": {},
   "outputs": [],
   "source": [
    "def rebalance(context, data):\n",
    "    \"\"\"Compute long, short and obsolete holdings; place trade orders\"\"\"\n",
    "    factor_data = context.factor_data\n",
    "    assets = factor_data.index\n",
    "    \n",
    "    longs = assets[factor_data.longs]\n",
    "    shorts = assets[factor_data.shorts]\n",
    "    divest = context.portfolio.positions.keys() - longs.union(shorts)\n",
    "    log.info('{} | Longs: {:2.0f} | Shorts: {:2.0f} | {:,.2f}'.format(get_datetime().date(),\n",
    "                                                                     len(longs), \n",
    "                                                                     len(shorts),\n",
    "                                                                     context.portfolio.portfolio_value))\n",
    "\n",
    "    exec_trades(data, assets=divest, target_percent=0)\n",
    "    exec_trades(data, assets=longs, target_percent=1 / N_LONGS if N_LONGS else 0)\n",
    "    exec_trades(data, assets=shorts, target_percent=-1 / N_SHORTS if N_SHORTS else 0)"
   ]
  },
  {
   "cell_type": "code",
   "execution_count": 15,
   "id": "7b36eef5-acac-4989-86b1-069042c9c87e",
   "metadata": {},
   "outputs": [],
   "source": [
    "def exec_trades(data, assets, target_percent):\n",
    "    \"\"\"Place orders for assets using target portfolio percentage\"\"\"\n",
    "    for asset in assets:\n",
    "        if data.can_trade(asset) and not get_open_orders(asset):\n",
    "            order_target_percent(asset, target_percent)"
   ]
  },
  {
   "cell_type": "markdown",
   "id": "cf2e46d7-13cf-485d-832c-e8c9e3ae2d8c",
   "metadata": {},
   "source": [
    "### Initialize Backtest"
   ]
  },
  {
   "cell_type": "code",
   "execution_count": 16,
   "id": "6f2ed15f-9fe9-409d-897c-ad2c73218743",
   "metadata": {},
   "outputs": [],
   "source": [
    "def initialize(context):\n",
    "    \"\"\"Setup: register pipeline, schedule rebalancing,\n",
    "        and set trading params\"\"\"\n",
    "    attach_pipeline(compute_factors(), 'factor_pipeline')\n",
    "    schedule_function(rebalance,\n",
    "                      date_rules.week_start(),\n",
    "                      time_rules.market_open(),\n",
    "                      calendar=calendars.US_EQUITIES)\n",
    "\n",
    "    set_commission(us_equities=commission.PerShare(cost=0.00075, \n",
    "                                                   min_trade_cost=.01))\n",
    "    set_slippage(us_equities=slippage.VolumeShareSlippage(volume_limit=0.0025, \n",
    "                                                          price_impact=0.01))"
   ]
  },
  {
   "cell_type": "markdown",
   "id": "4a75146c-dd5d-46ac-abbc-25b063c56c66",
   "metadata": {},
   "source": [
    "### Run Algorithm"
   ]
  },
  {
   "cell_type": "code",
   "execution_count": 18,
   "id": "6ee80f7c-8de0-4957-821d-10f0a321ad6f",
   "metadata": {},
   "outputs": [],
   "source": [
    "backtest = run_algorithm(start=start,\n",
    "                         end=end,\n",
    "                         initialize=initialize,\n",
    "                         before_trading_start=before_trading_start,\n",
    "                         bundle='quandl',\n",
    "                         capital_base=capital_base)"
   ]
  },
  {
   "cell_type": "markdown",
   "id": "8c98dd71-06d5-41b7-97c6-294a7aaa5c59",
   "metadata": {},
   "source": [
    "### Extract `pyfolio` Inputs"
   ]
  },
  {
   "cell_type": "code",
   "execution_count": 20,
   "id": "67416ef2-9390-4b0b-b09d-ccee1a3a06be",
   "metadata": {},
   "outputs": [],
   "source": [
    "returns, positions, transactions = extract_rets_pos_txn_from_zipline(backtest)"
   ]
  },
  {
   "cell_type": "markdown",
   "id": "599a8d4e-5f6a-413d-bd73-ee929fef8854",
   "metadata": {},
   "source": [
    "### Persist Results for use with `pyfolio`"
   ]
  },
  {
   "cell_type": "code",
   "execution_count": null,
   "id": "5e01ef0f-64b2-426c-a4ac-1185cb5ba99b",
   "metadata": {},
   "outputs": [],
   "source": [
    "with pd.HDFStore('backtests.h5') as store:\n",
    "    store.put('backtest/equal_weight', backtest)\n",
    "    store.put('returns/equal_weight', returns)\n",
    "    store.put('positions/equal_weight', positions)\n",
    "    store.put('transactions/equal_weight', transactions)"
   ]
  },
  {
   "cell_type": "markdown",
   "id": "16e536c4-8849-4130-9505-cad9604288a0",
   "metadata": {},
   "source": [
    "### Plotting Results"
   ]
  },
  {
   "cell_type": "code",
   "execution_count": 21,
   "id": "52aa6112-25a2-4f74-b4b2-fadd140966d2",
   "metadata": {},
   "outputs": [],
   "source": [
    "fig, axes= plt.subplots(nrows=2, figsize=(14,6))\n",
    "returns.add(1).cumprod().sub(1).plot(ax=axes[0], title='Cumulative Returns')\n",
    "transactions.groupby(transactions.dt.dt.day).txn_dollars.sum().cumsum().plot(ax=axes[1], title='Cumulative Transactions')\n",
    "fig.tight_layout()\n",
    "sns.despine();"
   ]
  },
  {
   "cell_type": "code",
   "execution_count": 23,
   "id": "81dc1a91-6937-4423-a187-3feda06ad4d5",
   "metadata": {},
   "outputs": [],
   "source": [
    "positions.index = positions.index.date"
   ]
  },
  {
   "cell_type": "code",
   "execution_count": 24,
   "id": "7526cf57-29f5-42c4-beb9-3d2375802869",
   "metadata": {},
   "outputs": [],
   "source": [
    "fig, ax = plt.subplots(figsize=(15, 8))\n",
    "\n",
    "sns.heatmap(positions.replace(0, np.nan).dropna(how='all', axis=1).T, \n",
    "            cmap=sns.diverging_palette(h_neg=20, h_pos=200), ax=ax, center=0);"
   ]
  },
  {
   "cell_type": "code",
   "execution_count": 25,
   "id": "9b52c267-a6b2-451f-b9d8-e74d9e2d0a77",
   "metadata": {},
   "outputs": [],
   "source": [
    "positions.head()"
   ]
  }
 ],
 "metadata": {
  "kernelspec": {
   "display_name": "Python 3 (ipykernel)",
   "language": "python",
   "name": "python3"
  },
  "language_info": {
   "codemirror_mode": {
    "name": "ipython",
    "version": 3
   },
   "file_extension": ".py",
   "mimetype": "text/x-python",
   "name": "python",
   "nbconvert_exporter": "python",
   "pygments_lexer": "ipython3",
   "version": "3.12.9"
  }
 },
 "nbformat": 4,
 "nbformat_minor": 5
}
