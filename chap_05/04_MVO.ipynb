{
 "cells": [
  {
   "cell_type": "markdown",
   "id": "d2ee844a-67e5-44df-a2e8-f1e70a3c05f7",
   "metadata": {},
   "source": [
    "# Mean-Variance Optimization\n",
    "\n",
    "### Loading Libraries"
   ]
  },
  {
   "cell_type": "code",
   "execution_count": 2,
   "id": "dc8fbefe-1542-48b5-a4e1-c08afd13a954",
   "metadata": {},
   "outputs": [],
   "source": [
    "# System\n",
    "import sys\n",
    "import logbook\n",
    "\n",
    "from logbook import (NestedSetup, NullHandler, Logger, \n",
    "                     StreamHandler, StderrHandler, \n",
    "                     INFO, WARNING, DEBUG, ERROR)\n",
    "\n",
    "# Pathlib\n",
    "from pathlib import Path\n",
    "\n",
    "# Numerical Computing\n",
    "import numpy as np\n",
    "from numpy.linalg import inv\n",
    "from numpy.random import random, uniform, dirichlet, choice\n",
    "\n",
    "# Data Manipulation\n",
    "import pandas as pd\n",
    "import pandas_datareader.data as web\n",
    "\n",
    "# \n",
    "from pytz import UTC\n",
    "\n",
    "# Warnings\n",
    "import warnings\n",
    "\n",
    "# ZipLine\n",
    "from zipline import run_algorithm\n",
    "from zipline.finance import commission, slippage\n",
    "from zipline.pipeline import Pipeline, CustomFactor\n",
    "from zipline.pipeline.factors import Returns, AverageDollarVolume\n",
    "\n",
    "from zipline.api import (attach_pipeline, \n",
    "                         date_rules, \n",
    "                         time_rules,\n",
    "                         get_datetime,\n",
    "                         order_target_percent,\n",
    "                         pipeline_output, \n",
    "                         record, \n",
    "                         schedule_function, \n",
    "                         get_open_orders, \n",
    "                         calendars,\n",
    "                         set_commission, \n",
    "                         set_slippage)\n",
    "# ZipLine Extractor\n",
    "from pyfolio.utils import extract_rets_pos_txn_from_zipline\n",
    "\n",
    "# Data Visualization\n",
    "import seaborn as sns\n",
    "import matplotlib.pyplot as plt\n",
    "from matplotlib.ticker import FuncFormatter\n",
    "\n",
    "# ScyPy\n",
    "from scipy.optimize import minimize\n",
    "\n",
    "#\n",
    "from pypfopt.efficient_frontier import EfficientFrontier\n",
    "from pypfopt import risk_models, objective_functions\n",
    "from pypfopt import expected_returns\n",
    "from pypfopt.exceptions import OptimizationError"
   ]
  },
  {
   "cell_type": "code",
   "execution_count": 3,
   "id": "3b58f39a-c4a0-4e3e-98c9-a3b4eb292925",
   "metadata": {},
   "outputs": [],
   "source": [
    "sns.set_style('whitegrid')\n",
    "\n",
    "warnings.filterwarnings('ignore')\n",
    "\n",
    "%matplotlib inline"
   ]
  },
  {
   "cell_type": "markdown",
   "id": "2f3e10ac-bb8a-45b9-8edf-9acce0a2a05c",
   "metadata": {},
   "source": [
    "### Loading Data"
   ]
  },
  {
   "cell_type": "code",
   "execution_count": 6,
   "id": "712b837d-2978-406d-bdda-dfe04fd6de30",
   "metadata": {},
   "outputs": [],
   "source": [
    "with pd.HDFStore('../data/assets.h5') as store:\n",
    "    sp500_stocks = store['sp500/stocks']"
   ]
  },
  {
   "cell_type": "code",
   "execution_count": 7,
   "id": "1fc05cee-5622-41cc-9567-3e77844ee6d4",
   "metadata": {},
   "outputs": [],
   "source": [
    "sp500_stocks.head()"
   ]
  },
  {
   "cell_type": "code",
   "execution_count": 8,
   "id": "9cb4b3ae-f663-4cbc-89e6-7cd3f62c76dd",
   "metadata": {},
   "outputs": [],
   "source": [
    "with pd.HDFStore('../data/assets.h5') as store:\n",
    "    prices = (store['quandl/wiki/prices']\n",
    "              .adj_close\n",
    "              .unstack('ticker')\n",
    "              .filter(sp500_stocks.index)\n",
    "              .sample(n=30, axis=1))"
   ]
  },
  {
   "cell_type": "markdown",
   "id": "dd163e1c-ce8d-4453-be31-610bc45c3537",
   "metadata": {},
   "source": [
    "### Compute Inputs\n",
    "\n",
    "#### Compute Returns"
   ]
  },
  {
   "cell_type": "code",
   "execution_count": 10,
   "id": "6d3757b2-5f1d-4723-b2df-08cae1614d8f",
   "metadata": {},
   "outputs": [],
   "source": [
    "start = 2008\n",
    "\n",
    "end = 2017"
   ]
  },
  {
   "cell_type": "code",
   "execution_count": 9,
   "id": "9593940d-ae7e-461b-ad2f-0b6a3a01184c",
   "metadata": {},
   "outputs": [],
   "source": [
    "weekly_returns = prices.loc[f'{start}':f'{end}'].resample('W').last().pct_change().dropna(how='all')\n",
    "weekly_returns = weekly_returns.dropna(axis=1)\n",
    "\n",
    "weekly_returns.info()"
   ]
  },
  {
   "cell_type": "markdown",
   "id": "7eab47e3-ee8c-438e-8f8c-ccd989df292f",
   "metadata": {},
   "source": [
    "#### Set Parameters"
   ]
  },
  {
   "cell_type": "code",
   "execution_count": 11,
   "id": "85959d4f-826a-436f-b01a-482ec69d9543",
   "metadata": {},
   "outputs": [],
   "source": [
    "stocks = weekly_returns.columns"
   ]
  },
  {
   "cell_type": "code",
   "execution_count": 12,
   "id": "64b76c22-b198-4b54-a9d2-6a120c696c47",
   "metadata": {},
   "outputs": [],
   "source": [
    "n_obs, n_assets = weekly_returns.shape\n",
    "\n",
    "n_assets, n_obs"
   ]
  },
  {
   "cell_type": "code",
   "execution_count": 13,
   "id": "29169107-5deb-4b67-a41c-fd58d128f2fe",
   "metadata": {},
   "outputs": [],
   "source": [
    "NUM_PF = 100000"
   ]
  },
  {
   "cell_type": "code",
   "execution_count": 14,
   "id": "dbb1e755-e581-42e1-8fe6-97a6e508de53",
   "metadata": {},
   "outputs": [],
   "source": [
    "x0 = uniform(0, 1, n_assets)\n",
    "\n",
    "x0 /= np.sum(np.abs(x0))"
   ]
  },
  {
   "cell_type": "markdown",
   "id": "90cdaf9e-8aa2-4d73-8f35-035c995da7b4",
   "metadata": {},
   "source": [
    "#### Annualization Factor"
   ]
  },
  {
   "cell_type": "code",
   "execution_count": 15,
   "id": "55f68a78-1ae2-412b-9bd4-8df0c818ff7c",
   "metadata": {},
   "outputs": [],
   "source": [
    "periods_per_year = round(weekly_returns.resample('A').size().mean())\n",
    "\n",
    "periods_per_year"
   ]
  },
  {
   "cell_type": "markdown",
   "id": "c71f207a-fecd-4fdb-98a5-8726dd57f942",
   "metadata": {},
   "source": [
    "#### Compute Mean Returns, Covariance & Precision Matrix"
   ]
  },
  {
   "cell_type": "code",
   "execution_count": 16,
   "id": "b4651ade-b5ac-4d68-8727-c1ab021dbad9",
   "metadata": {},
   "outputs": [],
   "source": [
    "mean_returns = weekly_returns.mean()\n",
    "\n",
    "cov_matrix = weekly_returns.cov()"
   ]
  },
  {
   "cell_type": "code",
   "execution_count": 17,
   "id": "ed47c0b8-b8da-48c5-a7e6-9c6f70e00750",
   "metadata": {},
   "outputs": [],
   "source": [
    "precision_matrix = pd.DataFrame(inv(cov_matrix), index=stocks, columns=stocks)"
   ]
  },
  {
   "cell_type": "markdown",
   "id": "78b3b9c0-1b66-4ac2-ade8-5812497bd52d",
   "metadata": {},
   "source": [
    "#### Risk-Free Rate"
   ]
  },
  {
   "cell_type": "code",
   "execution_count": 19,
   "id": "8d574c65-3ddf-42ea-b4d2-6ed763849bf1",
   "metadata": {},
   "outputs": [],
   "source": [
    "treasury_10yr_monthly = (web.DataReader('DGS10', 'fred', start, end)\n",
    "                         .resample('M')\n",
    "                         .last()\n",
    "                         .div(periods_per_year)\n",
    "                         .div(100)\n",
    "                         .squeeze())"
   ]
  },
  {
   "cell_type": "code",
   "execution_count": 18,
   "id": "0c52116c-4df3-4232-860e-d9f7eef6527b",
   "metadata": {},
   "outputs": [],
   "source": [
    "rf_rate = treasury_10yr_monthly.mean()"
   ]
  },
  {
   "cell_type": "markdown",
   "id": "e5bfda53-704c-47be-be0f-5c23e085552e",
   "metadata": {},
   "source": [
    "### Simulate Random Portfolios"
   ]
  },
  {
   "cell_type": "code",
   "execution_count": 20,
   "id": "08fe8dda-1f89-4df0-8650-572cf6877c35",
   "metadata": {},
   "outputs": [],
   "source": [
    "def simulate_portfolios(mean_ret, cov, rf_rate=rf_rate, short=True):\n",
    "    alpha = np.full(shape=n_assets, fill_value=.05)\n",
    "    weights = dirichlet(alpha=alpha, size=NUM_PF)\n",
    "    if short:\n",
    "        weights *= choice([-1, 1], size=weights.shape)\n",
    "\n",
    "    returns = weights @ mean_ret.values + 1\n",
    "    returns = returns ** periods_per_year - 1\n",
    "    std = (weights @ weekly_returns.T).std(1)\n",
    "    std *= np.sqrt(periods_per_year)\n",
    "    sharpe = (returns - rf_rate) / std\n",
    "    return pd.DataFrame({'Annualized Standard Deviation': std,\n",
    "                         'Annualized Returns': returns,\n",
    "                         'Sharpe Ratio': sharpe}), weights"
   ]
  },
  {
   "cell_type": "code",
   "execution_count": 21,
   "id": "ac2c28b4-1959-4c6b-ad8f-0522f2fcb046",
   "metadata": {},
   "outputs": [],
   "source": [
    "simul_perf, simul_wt = simulate_portfolios(mean_returns, cov_matrix, short=False)"
   ]
  },
  {
   "cell_type": "code",
   "execution_count": 22,
   "id": "76b0a1b7-fdeb-44c3-a73d-4ad878eebd0e",
   "metadata": {},
   "outputs": [],
   "source": [
    "df = pd.DataFrame(simul_wt)\n",
    "df.describe()"
   ]
  },
  {
   "cell_type": "markdown",
   "id": "bdff1abf-0592-4104-a90a-0dce5fc1a318",
   "metadata": {},
   "source": [
    "#### Plotting Simulated Portfolios"
   ]
  },
  {
   "cell_type": "code",
   "execution_count": 23,
   "id": "2310e494-9f3a-49d2-9626-6be8b5ce63ca",
   "metadata": {},
   "outputs": [],
   "source": [
    "ax = simul_perf.plot.scatter(x=0, y=1, c=2, cmap='Blues',\n",
    "                             alpha=0.5, figsize=(14, 9), colorbar=True,\n",
    "                             title=f'{NUM_PF:,d} Simulated Portfolios')\n",
    "\n",
    "max_sharpe_idx = simul_perf.iloc[:, 2].idxmax()\n",
    "sd, r = simul_perf.iloc[max_sharpe_idx, :2].values\n",
    "print(f'Max Sharpe: {sd:.2%}, {r:.2%}')\n",
    "ax.scatter(sd, r, marker='*', color='darkblue', s=500, label='Max. Sharpe Ratio')\n",
    "\n",
    "min_vol_idx = simul_perf.iloc[:, 0].idxmin()\n",
    "sd, r = simul_perf.iloc[min_vol_idx, :2].values\n",
    "ax.scatter(sd, r, marker='*', color='green', s=500, label='Min Volatility')\n",
    "plt.legend(labelspacing=1, loc='upper left')\n",
    "plt.tight_layout()"
   ]
  },
  {
   "cell_type": "markdown",
   "id": "4d6c12c6-fd8a-4f15-9e44-fb6b61fcaa53",
   "metadata": {},
   "source": [
    "### Compute Annualize PF Performance"
   ]
  },
  {
   "cell_type": "code",
   "execution_count": 24,
   "id": "e6b9e1ee-85e6-4d92-96d4-5cef72309622",
   "metadata": {},
   "outputs": [],
   "source": [
    "def portfolio_std(wt, rt=None, cov=None):\n",
    "    \"\"\"Annualized PF standard deviation\"\"\"\n",
    "    return np.sqrt(wt @ cov @ wt * periods_per_year)"
   ]
  },
  {
   "cell_type": "code",
   "execution_count": 25,
   "id": "b3c95af1-2b4e-4b6b-a471-461a1b9a3637",
   "metadata": {},
   "outputs": [],
   "source": [
    "def portfolio_returns(wt, rt=None, cov=None):\n",
    "    \"\"\"Annualized PF returns\"\"\"\n",
    "    return (wt @ rt + 1) ** periods_per_year - 1"
   ]
  },
  {
   "cell_type": "code",
   "execution_count": 26,
   "id": "1e455d72-45b0-48a2-9142-6b75f68cacd5",
   "metadata": {},
   "outputs": [],
   "source": [
    "def portfolio_performance(wt, rt, cov):\n",
    "    \"\"\"Annualized PF returns & standard deviation\"\"\"\n",
    "    r = portfolio_returns(wt, rt=rt)\n",
    "    sd = portfolio_std(wt, cov=cov)\n",
    "    return r, sd"
   ]
  },
  {
   "cell_type": "markdown",
   "id": "b66e35db-25fd-471a-bf2b-0a6e05d00aee",
   "metadata": {},
   "source": [
    "### Max Sharpe PF"
   ]
  },
  {
   "cell_type": "code",
   "execution_count": 27,
   "id": "6f534064-7ec7-4682-acca-6bbe3b4cc42f",
   "metadata": {},
   "outputs": [],
   "source": [
    "def neg_sharpe_ratio(weights, mean_ret, cov):\n",
    "    r, sd = portfolio_performance(weights, mean_ret, cov)\n",
    "    return -(r - rf_rate) / sd"
   ]
  },
  {
   "cell_type": "code",
   "execution_count": 28,
   "id": "582a6d97-9850-44b2-96c8-352f035323f5",
   "metadata": {},
   "outputs": [],
   "source": [
    "weight_constraint = {'type': 'eq', \n",
    "                     'fun': lambda x: np.sum(np.abs(x))-1}"
   ]
  },
  {
   "cell_type": "code",
   "execution_count": 29,
   "id": "df0cb286-2c72-4c29-9626-ac6e7983f0d4",
   "metadata": {},
   "outputs": [],
   "source": [
    "def max_sharpe_ratio(mean_ret, cov, short=False):\n",
    "    return minimize(fun=neg_sharpe_ratio,\n",
    "                    x0=x0,\n",
    "                    args=(mean_ret, cov),\n",
    "                    method='SLSQP',\n",
    "                    bounds=((-1 if short else 0, 1),) * n_assets,\n",
    "                    constraints=weight_constraint,\n",
    "                    options={'tol':1e-10, 'maxiter':1e4})"
   ]
  },
  {
   "cell_type": "markdown",
   "id": "78148191-335d-40ac-9c94-5149ff3e8c6b",
   "metadata": {},
   "source": [
    "### Compute Efficient Frontier"
   ]
  },
  {
   "cell_type": "code",
   "execution_count": 30,
   "id": "ca077ee8-3940-4e18-9dd8-d2d5f289cb36",
   "metadata": {},
   "outputs": [],
   "source": [
    "def min_vol_target(mean_ret, cov, target, short=False):\n",
    "\n",
    "    def ret_(wt):\n",
    "        return portfolio_returns(wt, mean_ret)\n",
    "\n",
    "    constraints = [{'type': 'eq',\n",
    "                    'fun': lambda x: ret_(x) - target},\n",
    "                   weight_constraint]\n",
    "\n",
    "    bounds = ((-1 if short else 0, 1),) * n_assets\n",
    "    return minimize(portfolio_std,\n",
    "                    x0=x0,\n",
    "                    args=(mean_ret, cov),\n",
    "                    method='SLSQP',\n",
    "                    bounds=bounds,\n",
    "                    constraints=constraints,\n",
    "                    options={'tol': 1e-10, 'maxiter': 1e4})"
   ]
  },
  {
   "cell_type": "markdown",
   "id": "d50c5172-c295-4d72-a254-96e7f874aecd",
   "metadata": {},
   "source": [
    "### Min Volatility Portfolio"
   ]
  },
  {
   "cell_type": "code",
   "execution_count": 31,
   "id": "345b8126-cca4-4625-a105-fead687d4539",
   "metadata": {},
   "outputs": [],
   "source": [
    "def min_vol(mean_ret, cov, short=False):\n",
    "    bounds = ((-1 if short else 0, 1),) * n_assets\n",
    "\n",
    "    return minimize(fun=portfolio_std,\n",
    "                    x0=x0,\n",
    "                    args=(mean_ret, cov),\n",
    "                    method='SLSQP',\n",
    "                    bounds=bounds,\n",
    "                    constraints=weight_constraint,\n",
    "                    options={'tol': 1e-10, 'maxiter': 1e4})"
   ]
  },
  {
   "cell_type": "code",
   "execution_count": 32,
   "id": "b3d6f6ef-2ee8-4682-8c86-b6ef7822fbc1",
   "metadata": {},
   "outputs": [],
   "source": [
    "def efficient_frontier(mean_ret, cov, ret_range, short=False):\n",
    "    return [min_vol_target(mean_ret, cov, ret) for ret in ret_range]"
   ]
  },
  {
   "cell_type": "markdown",
   "id": "72a960db-9116-4da6-97d9-667bf6309fec",
   "metadata": {},
   "source": [
    "### Run Calculation\n",
    "\n",
    "#### Getting Random `PF`"
   ]
  },
  {
   "cell_type": "code",
   "execution_count": 38,
   "id": "708c2c5a-ccb3-4c24-b83b-f57c6a43b365",
   "metadata": {},
   "outputs": [],
   "source": [
    "simul_perf, simul_wt = simulate_portfolios(mean_returns, cov_matrix, short=False)"
   ]
  },
  {
   "cell_type": "code",
   "execution_count": 39,
   "id": "fbe0b95e-e874-4df7-a310-22e208abad19",
   "metadata": {},
   "outputs": [],
   "source": [
    "print(simul_perf.describe())"
   ]
  },
  {
   "cell_type": "code",
   "execution_count": 40,
   "id": "23fb4b76-0535-41a1-a323-4c08b62afb43",
   "metadata": {},
   "outputs": [],
   "source": [
    "simul_max_sharpe = simul_perf.iloc[:, 2].idxmax()\n",
    "simul_perf.iloc[simul_max_sharpe]"
   ]
  },
  {
   "cell_type": "markdown",
   "id": "4f0783d5-fc03-46ff-a934-ac5c1df9f3f6",
   "metadata": {},
   "source": [
    "#### Getting Max Sharpe `PF`"
   ]
  },
  {
   "cell_type": "code",
   "execution_count": 41,
   "id": "8efc07c8-0437-4abf-9fbe-b16acfd03c89",
   "metadata": {},
   "outputs": [],
   "source": [
    "max_sharpe_pf = max_sharpe_ratio(mean_returns, cov_matrix, short=False)\n",
    "max_sharpe_perf = portfolio_performance(max_sharpe_pf.x, mean_returns, cov_matrix)"
   ]
  },
  {
   "cell_type": "code",
   "execution_count": 42,
   "id": "f7697f43-26f5-4d20-9cae-efda468a32da",
   "metadata": {},
   "outputs": [],
   "source": [
    "r, sd = max_sharpe_perf\n",
    "pd.Series({'ret': r, 'sd': sd, 'sr': (r-rf_rate)/sd})"
   ]
  },
  {
   "cell_type": "markdown",
   "id": "0ce1dbf4-be54-4013-8b46-830ce6a0136a",
   "metadata": {},
   "source": [
    "#### Getting Min Vol `PF`"
   ]
  },
  {
   "cell_type": "code",
   "execution_count": 43,
   "id": "e9e1ee35-0957-4385-b6a3-a602c18aa382",
   "metadata": {},
   "outputs": [],
   "source": [
    "min_vol_pf = min_vol(mean_returns, cov_matrix, short=False)\n",
    "min_vol_perf = portfolio_performance(min_vol_pf.x, mean_returns, cov_matrix)"
   ]
  },
  {
   "cell_type": "markdown",
   "id": "cafbeb1b-838f-4e83-9402-b72e79ba672a",
   "metadata": {},
   "source": [
    "#### Getting Efficent `PFs`"
   ]
  },
  {
   "cell_type": "code",
   "execution_count": 44,
   "id": "f40d1476-34f3-4075-a2a9-e3bf43675621",
   "metadata": {},
   "outputs": [],
   "source": [
    "ret_range = np.linspace(simul_perf.iloc[:, 1].min(), simul_perf.iloc[:, 1].max(), 50)\n",
    "eff_pf = efficient_frontier(mean_returns, cov_matrix, ret_range, short=True)\n",
    "eff_pf = pd.Series(dict(zip([p['fun'] for p in eff_pf], ret_range)))"
   ]
  },
  {
   "cell_type": "markdown",
   "id": "4167cd83-edf4-4c26-9261-a50927cb0902",
   "metadata": {},
   "source": [
    "#### Plotting Result"
   ]
  },
  {
   "cell_type": "code",
   "execution_count": 45,
   "id": "460c6207-b334-4c2c-be79-f55966e7cdf3",
   "metadata": {},
   "outputs": [],
   "source": [
    "fig, ax = plt.subplots()\n",
    "simul_perf.plot.scatter(x=0, y=1, c=2, ax=ax, cmap='Blues',alpha=0.25, \n",
    "                        figsize=(14, 9), colorbar=True)\n",
    "\n",
    "eff_pf[eff_pf.index.min():].plot(linestyle='--', lw=2, ax=ax, c='k',\n",
    "                                 label='Efficient Frontier')\n",
    "\n",
    "r, sd = max_sharpe_perf\n",
    "ax.scatter(sd, r, marker='*', color='k', s=500, label='Max Sharpe Ratio PF')\n",
    "\n",
    "r, sd = min_vol_perf\n",
    "ax.scatter(sd, r, marker='v', color='k', s=200, label='Min Volatility PF')\n",
    "\n",
    "kelly_wt = precision_matrix.dot(mean_returns).clip(lower=0).values\n",
    "kelly_wt /= np.sum(np.abs(kelly_wt))\n",
    "r, sd = portfolio_performance(kelly_wt, mean_returns, cov_matrix)\n",
    "ax.scatter(sd, r, marker='D', color='k', s=150, label='Kelly PF')\n",
    "\n",
    "std = weekly_returns.std()\n",
    "std /= std.sum()\n",
    "r, sd = portfolio_performance(std, mean_returns, cov_matrix)\n",
    "ax.scatter(sd, r, marker='X', color='k', s=250, label='Risk Parity PF')\n",
    "\n",
    "r, sd = portfolio_performance(np.full(n_assets, 1/n_assets), mean_returns, cov_matrix)\n",
    "ax.scatter(sd, r, marker='o', color='k', s=200, label='1/n PF')\n",
    "\n",
    "\n",
    "ax.legend(labelspacing=0.8)\n",
    "ax.set_xlim(0, eff_pf.max()+.4)\n",
    "ax.set_title('Mean-Variance Efficient Frontier', fontsize=16)\n",
    "ax.yaxis.set_major_formatter(FuncFormatter(lambda y, _: '{:.0%}'.format(y)))\n",
    "ax.xaxis.set_major_formatter(FuncFormatter(lambda y, _: '{:.0%}'.format(y)))\n",
    "sns.despine()\n",
    "fig.tight_layout();"
   ]
  },
  {
   "cell_type": "code",
   "execution_count": null,
   "id": "333d8784-3f75-443c-bc69-764c8ec1b9b0",
   "metadata": {},
   "outputs": [],
   "source": []
  }
 ],
 "metadata": {
  "kernelspec": {
   "display_name": "Python 3 (ipykernel)",
   "language": "python",
   "name": "python3"
  },
  "language_info": {
   "codemirror_mode": {
    "name": "ipython",
    "version": 3
   },
   "file_extension": ".py",
   "mimetype": "text/x-python",
   "name": "python",
   "nbconvert_exporter": "python",
   "pygments_lexer": "ipython3",
   "version": "3.12.9"
  }
 },
 "nbformat": 4,
 "nbformat_minor": 5
}
