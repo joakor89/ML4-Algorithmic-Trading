{
 "cells": [
  {
   "cell_type": "markdown",
   "id": "0c657894-84fc-4172-a3b4-07d49e1044e3",
   "metadata": {},
   "source": [
    "# MeanReversion backtest with Portfolio Optimization\n",
    "\n",
    "### Loading Libraries"
   ]
  },
  {
   "cell_type": "code",
   "execution_count": 5,
   "id": "835f8267-19e0-413c-be0e-bf6b4df06382",
   "metadata": {},
   "outputs": [],
   "source": [
    "# System\n",
    "import sys\n",
    "import logbook\n",
    "\n",
    "from logbook import (NestedSetup, NullHandler, Logger, \n",
    "                     StreamHandler, StderrHandler, \n",
    "                     INFO, WARNING, DEBUG, ERROR)\n",
    "\n",
    "# Numerical Computing\n",
    "import numpy as np\n",
    "\n",
    "# Data Manipulation\n",
    "import pandas as pd\n",
    "\n",
    "# \n",
    "from pytz import UTC\n",
    "\n",
    "# Warnings\n",
    "import warnings\n",
    "\n",
    "# ZipLine\n",
    "from zipline import run_algorithm\n",
    "from zipline.finance import commission, slippage\n",
    "from zipline.pipeline import Pipeline, CustomFactor\n",
    "from zipline.pipeline.factors import Returns, AverageDollarVolume\n",
    "\n",
    "from zipline.api import (attach_pipeline, \n",
    "                         date_rules, \n",
    "                         time_rules,\n",
    "                         get_datetime,\n",
    "                         order_target_percent,\n",
    "                         pipeline_output, \n",
    "                         record, \n",
    "                         schedule_function, \n",
    "                         get_open_orders, \n",
    "                         calendars,\n",
    "                         set_commission, \n",
    "                         set_slippage)\n",
    "# ZipLine Extractor\n",
    "from pyfolio.utils import extract_rets_pos_txn_from_zipline\n",
    "\n",
    "# Data Visualization\n",
    "import seaborn as sns\n",
    "import matplotlib.pyplot as plt\n",
    "\n",
    "#\n",
    "from pypfopt.efficient_frontier import EfficientFrontier\n",
    "from pypfopt import risk_models, objective_functions\n",
    "from pypfopt import expected_returns\n",
    "from pypfopt.exceptions import OptimizationError"
   ]
  },
  {
   "cell_type": "code",
   "execution_count": 2,
   "id": "3005bba7-be9c-45e4-a9cf-a21d03076f9c",
   "metadata": {},
   "outputs": [],
   "source": [
    "sns.set_style('whitegrid')\n",
    "\n",
    "warnings.filterwarnings('ignore')"
   ]
  },
  {
   "cell_type": "markdown",
   "id": "65af7ba2-0500-4787-9744-5cd37e0cedcf",
   "metadata": {},
   "source": [
    "### Logging Setup"
   ]
  },
  {
   "cell_type": "code",
   "execution_count": 6,
   "id": "18322a72-1508-4c4f-a963-e7ee0aa4db92",
   "metadata": {},
   "outputs": [],
   "source": [
    "# Setup stdout Logging\n",
    "format_string = '[{record.time: %H:%M:%S.%f}]: {record.level_name}: {record.message}'\n",
    "zipline_logging = NestedSetup([NullHandler(level=DEBUG),\n",
    "                               StreamHandler(sys.stdout, format_string=format_string, level=INFO),\n",
    "                               StreamHandler(sys.stdout, format_string=format_string, level=WARNING),\n",
    "                               StreamHandler(sys.stderr, level=ERROR)])\n",
    "\n",
    "zipline_logging.push_application()\n",
    "log = Logger('Algorithm')"
   ]
  },
  {
   "cell_type": "markdown",
   "id": "9abd06bd-193d-4d6f-93ff-ca89bef3fb43",
   "metadata": {},
   "source": [
    "### Algo Settings"
   ]
  },
  {
   "cell_type": "code",
   "execution_count": 7,
   "id": "e3ab445b-d7f5-4c69-9129-86caa4043108",
   "metadata": {},
   "outputs": [],
   "source": [
    "# Settings\n",
    "MONTH = 21\n",
    "YEAR = 12 * MONTH\n",
    "N_LONGS = 50\n",
    "N_SHORTS = 50\n",
    "MIN_POS = 5\n",
    "VOL_SCREEN = 1000"
   ]
  },
  {
   "cell_type": "code",
   "execution_count": 8,
   "id": "66e31e82-bdd0-41c6-85c1-41fbede386da",
   "metadata": {},
   "outputs": [],
   "source": [
    "start = pd.Timestamp('2013-01-01', tz=UTC)\n",
    "end = pd.Timestamp('2017-01-01', tz=UTC)\n",
    "\n",
    "capital_base = 1e7"
   ]
  },
  {
   "cell_type": "markdown",
   "id": "2b6f4c8d-5c06-4ff4-867d-ca6b611912cc",
   "metadata": {},
   "source": [
    "### Mean Reversion Factor"
   ]
  },
  {
   "cell_type": "code",
   "execution_count": 9,
   "id": "6a5b4eb8-0df5-4e19-94e3-f8da91c0ce2d",
   "metadata": {},
   "outputs": [],
   "source": [
    "class MeanReversion(CustomFactor):\n",
    "    \"\"\"Compute ratio of latest monthly return to 12m average,\n",
    "       normalized by std dev of monthly returns\"\"\"\n",
    "    inputs = [Returns(window_length=MONTH)]\n",
    "    window_length = YEAR\n",
    "\n",
    "    def compute(self, today, assets, out, monthly_returns):\n",
    "        df = pd.DataFrame(monthly_returns)\n",
    "        factor = df.iloc[-1].sub(df.mean()).div(df.std())\n",
    "        out[:] = factor"
   ]
  },
  {
   "cell_type": "markdown",
   "id": "a53e1afa-24a1-43d4-8d3f-fbc0c4f9b11e",
   "metadata": {},
   "source": [
    "### Create Pipeline"
   ]
  },
  {
   "cell_type": "code",
   "execution_count": 10,
   "id": "a21ab1b6-3fdd-4bd4-ae1c-ab4e423e5d8d",
   "metadata": {},
   "outputs": [],
   "source": [
    "def compute_factors():\n",
    "    \"\"\"Create factor pipeline incl. mean reversion,\n",
    "        filtered by 30d Dollar Volume; capture factor ranks\"\"\"\n",
    "    mean_reversion = MeanReversion()\n",
    "    dollar_volume = AverageDollarVolume(window_length=30)\n",
    "    return Pipeline(columns={'longs'  : mean_reversion.bottom(N_LONGS),\n",
    "                             'shorts' : mean_reversion.top(N_SHORTS),\n",
    "                             'ranking': mean_reversion.rank(ascending=False)},\n",
    "                    screen=dollar_volume.top(VOL_SCREEN))"
   ]
  },
  {
   "cell_type": "code",
   "execution_count": 11,
   "id": "8f195d93-aff5-4448-b881-f84a6b35d0f2",
   "metadata": {},
   "outputs": [],
   "source": [
    "def before_trading_start(context, data):\n",
    "    \"\"\"Run factor pipeline\"\"\"\n",
    "    context.factor_data = pipeline_output('factor_pipeline')\n",
    "    record(factor_data=context.factor_data.ranking)\n",
    "    assets = context.factor_data.index\n",
    "    record(prices=data.current(assets, 'price'))"
   ]
  },
  {
   "cell_type": "markdown",
   "id": "5db5d0eb-eabb-42e4-a636-4c863738dc10",
   "metadata": {},
   "source": [
    "### Set-Up Rebalancing"
   ]
  },
  {
   "cell_type": "code",
   "execution_count": 12,
   "id": "d9adb32d-e7bc-4121-b218-384597556302",
   "metadata": {},
   "outputs": [],
   "source": [
    "def exec_trades(data, positions):\n",
    "    \"\"\"Place orders for assets using target portfolio percentage\"\"\"\n",
    "    for asset, target_percent in positions.items():\n",
    "        if data.can_trade(asset) and not get_open_orders(asset):\n",
    "            order_target_percent(asset, target_percent)"
   ]
  },
  {
   "cell_type": "code",
   "execution_count": 13,
   "id": "63f56463-c054-4c8b-8893-116613dae4ef",
   "metadata": {},
   "outputs": [],
   "source": [
    "def rebalance(context, data):\n",
    "    \"\"\"Compute long, short and obsolete holdings; place orders\"\"\"\n",
    "\n",
    "    factor_data = context.factor_data\n",
    "    assets = factor_data.index\n",
    "\n",
    "    longs = assets[factor_data.longs]\n",
    "    shorts = assets[factor_data.shorts]\n",
    "    \n",
    "    divest = context.portfolio.positions.keys() - longs.union(shorts)\n",
    "    exec_trades(data, positions={asset: 0 for asset in divest})\n",
    "    log.info('{} | {:11,.0f}'.format(get_datetime().date(), \n",
    "                                   context.portfolio.portfolio_value))\n",
    "\n",
    "    # get price history\n",
    "    prices = data.history(assets, fields='price',\n",
    "                          bar_count=252+1, # for 1 year of returns \n",
    "                          frequency='1d')\n",
    "    \n",
    "    # get optimal weights if sufficient candidates\n",
    "    if len(longs) > MIN_POS and len(shorts) > MIN_POS:\n",
    "        try:\n",
    "            long_weights = optimize_weights(prices.loc[:, longs])\n",
    "            short_weights = optimize_weights(prices.loc[:, shorts], short=True)\n",
    "            \n",
    "            exec_trades(data, positions=long_weights)\n",
    "            exec_trades(data, positions=short_weights)\n",
    "        except Exception as e:\n",
    "            log.warn('{} {}'.format(get_datetime().date(), e))\n",
    "    # exit remaining positions\n",
    "    divest_pf = {asset: 0 for asset in context.portfolio.positions.keys()}\n",
    "    exec_trades(data, positions=divest_pf)"
   ]
  },
  {
   "cell_type": "markdown",
   "id": "84af7e6d-5ebe-4756-a9e2-389d8a444255",
   "metadata": {},
   "source": [
    "### Optimize Portfolio Weights"
   ]
  },
  {
   "cell_type": "code",
   "execution_count": 14,
   "id": "17832863-5602-4da2-9194-fcddb91b6fac",
   "metadata": {},
   "outputs": [],
   "source": [
    "def optimize_weights(prices, short=False):\n",
    "\n",
    "    returns = expected_returns.mean_historical_return(\n",
    "        prices=prices, frequency=252)\n",
    "    cov = risk_models.sample_cov(prices=prices, frequency=252)\n",
    "\n",
    "    # get weights that maximize the Sharpe ratio\n",
    "    ef = EfficientFrontier(expected_returns=returns,\n",
    "                           cov_matrix=cov,\n",
    "                           weight_bounds=(0, 1),\n",
    "                           solver='SCS')\n",
    "    ef.max_sharpe()\n",
    "    if short:\n",
    "        return {asset: -weight for asset, weight in ef.clean_weights().items()}\n",
    "    else:\n",
    "        return ef.clean_weights()"
   ]
  },
  {
   "cell_type": "markdown",
   "id": "57a326de-c963-4653-b45e-37f82b0760a4",
   "metadata": {},
   "source": [
    "### Initialize Backtest"
   ]
  },
  {
   "cell_type": "code",
   "execution_count": 15,
   "id": "47743e44-df46-4f2b-ba09-de4fde0caad6",
   "metadata": {},
   "outputs": [],
   "source": [
    "def initialize(context):\n",
    "    \"\"\"Setup: register pipeline, schedule rebalancing,\n",
    "        and set trading params\"\"\"\n",
    "    attach_pipeline(compute_factors(), 'factor_pipeline')\n",
    "    schedule_function(rebalance,\n",
    "                      date_rules.week_start(),\n",
    "                      time_rules.market_open(),\n",
    "                      calendar=calendars.US_EQUITIES)\n",
    "\n",
    "    set_commission(us_equities=commission.PerShare(cost=0.00075, min_trade_cost=.01))\n",
    "    set_slippage(us_equities=slippage.VolumeShareSlippage(volume_limit=0.0025, price_impact=0.01))"
   ]
  },
  {
   "cell_type": "markdown",
   "id": "ca18288e-e463-43ba-8fc7-1834b1cfd3b3",
   "metadata": {},
   "source": [
    "### Run Algorithm"
   ]
  },
  {
   "cell_type": "code",
   "execution_count": 17,
   "id": "2dcfeff9-2fee-4799-a7f0-4460a77c8f16",
   "metadata": {},
   "outputs": [],
   "source": [
    "backtest = run_algorithm(start=start,\n",
    "                         end=end,\n",
    "                         initialize=initialize,\n",
    "                         before_trading_start=before_trading_start,\n",
    "                         bundle='quandl',\n",
    "                         capital_base=capital_base)"
   ]
  },
  {
   "cell_type": "markdown",
   "id": "4e28fd20-b531-4eb3-9b29-de5c50679463",
   "metadata": {},
   "source": [
    "### Extract pyfolio Inputs"
   ]
  },
  {
   "cell_type": "code",
   "execution_count": 18,
   "id": "20e12670-2e72-4458-ac99-8c6ef68c1dec",
   "metadata": {},
   "outputs": [],
   "source": [
    "returns, positions, transactions = extract_rets_pos_txn_from_zipline(backtest)"
   ]
  },
  {
   "cell_type": "markdown",
   "id": "5aa3f7c4-8374-4dcf-b100-5a7a6efd5e69",
   "metadata": {},
   "source": [
    "### Persist Results for use with `pyfolio`"
   ]
  },
  {
   "cell_type": "code",
   "execution_count": 19,
   "id": "501b18b7-a0f4-4975-a464-b64f5cb6b889",
   "metadata": {},
   "outputs": [],
   "source": [
    "with pd.HDFStore('backtests.h5') as store:\n",
    "    store.put('returns/pf_opt', returns)\n",
    "    store.put('transactions/pf_opt', transactions)"
   ]
  },
  {
   "cell_type": "code",
   "execution_count": 20,
   "id": "8022c578-c662-4e25-b56d-d703fa2dcbbc",
   "metadata": {},
   "outputs": [],
   "source": [
    "with pd.HDFStore('backtests.h5') as store:\n",
    "    returns_pf = store['returns/pf_opt']\n",
    "    tx_pf = store['transactions/pf_opt']\n",
    "    returns_ew = store['returns/equal_weight']\n",
    "    tx_ew = store['transactions/equal_weight']"
   ]
  },
  {
   "cell_type": "markdown",
   "id": "09ad7dda-1d5e-4698-bb4d-04bc736a30ba",
   "metadata": {},
   "source": [
    "### Plotting Outcomes"
   ]
  },
  {
   "cell_type": "code",
   "execution_count": 21,
   "id": "83722631-cb68-4e0d-b6d9-02bc8c0ef8e0",
   "metadata": {},
   "outputs": [],
   "source": [
    "fig, axes= plt.subplots(nrows=2, figsize=(14,6))\n",
    "returns.add(1).cumprod().sub(1).plot(ax=axes[0], title='Cumulative Returns')\n",
    "transactions.groupby(transactions.dt.dt.day).txn_dollars.sum().cumsum().plot(ax=axes[1], title='Cumulative Transactions')\n",
    "sns.despine()\n",
    "fig.tight_layout();"
   ]
  },
  {
   "cell_type": "code",
   "execution_count": 22,
   "id": "62860748-f4b0-4c17-a447-123b847420e6",
   "metadata": {},
   "outputs": [],
   "source": [
    "fig, axes = plt.subplots(nrows=2, ncols=2, figsize=(16, 8), sharey='col')\n",
    "returns_ew.add(1).cumprod().sub(1).plot(ax=axes[0][0],\n",
    "                                        title='Cumulative Returns - Equal Weight')\n",
    "returns_pf.add(1).cumprod().sub(1).plot(ax=axes[1][0],\n",
    "                                        title='Cumulative Returns - Mean-Variance Optimization')\n",
    "tx_ew.groupby(tx_ew.dt.dt.day).txn_dollars.sum().cumsum().plot(ax=axes[0][1],\n",
    "                                                               title='Cumulative Transactions - Equal Weight')\n",
    "tx_pf.groupby(tx_pf.dt.dt.day).txn_dollars.sum().cumsum().plot(ax=axes[1][1],\n",
    "                                                               title='Cumulative Transactions - Mean-Variance Optimization')\n",
    "fig.suptitle('Equal Weight vs Mean-Variance Optimization', fontsize=16)\n",
    "sns.despine()\n",
    "fig.tight_layout()\n",
    "fig.subplots_adjust(top=.9)"
   ]
  },
  {
   "cell_type": "code",
   "execution_count": null,
   "id": "39303e55-66bf-4751-9ea4-3211e0c643dd",
   "metadata": {},
   "outputs": [],
   "source": []
  }
 ],
 "metadata": {
  "kernelspec": {
   "display_name": "Python 3 (ipykernel)",
   "language": "python",
   "name": "python3"
  },
  "language_info": {
   "codemirror_mode": {
    "name": "ipython",
    "version": 3
   },
   "file_extension": ".py",
   "mimetype": "text/x-python",
   "name": "python",
   "nbconvert_exporter": "python",
   "pygments_lexer": "ipython3",
   "version": "3.12.9"
  }
 },
 "nbformat": 4,
 "nbformat_minor": 5
}
