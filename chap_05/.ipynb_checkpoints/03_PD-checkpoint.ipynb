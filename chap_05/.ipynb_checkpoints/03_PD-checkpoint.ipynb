{
 "cells": [
  {
   "cell_type": "markdown",
   "id": "530bb5a8-7cba-471e-8085-4d2df40d0a08",
   "metadata": {},
   "source": [
    "# From `zipline` to `pyfolio`\n",
    "\n",
    "### Loading Libraries"
   ]
  },
  {
   "cell_type": "code",
   "execution_count": 3,
   "id": "e54f3c06-d314-4891-89ec-babcdf2e9ba6",
   "metadata": {},
   "outputs": [],
   "source": [
    "# System\n",
    "import sys\n",
    "import logbook\n",
    "\n",
    "from logbook import (NestedSetup, NullHandler, Logger, \n",
    "                     StreamHandler, StderrHandler, \n",
    "                     INFO, WARNING, DEBUG, ERROR)\n",
    "\n",
    "# Pathlib\n",
    "from pathlib import Path\n",
    "\n",
    "# Numerical Computing\n",
    "import numpy as np\n",
    "\n",
    "# Data Manipulation\n",
    "import pandas as pd\n",
    "\n",
    "# \n",
    "from pytz import UTC\n",
    "\n",
    "# Warnings\n",
    "import warnings\n",
    "\n",
    "# ZipLine\n",
    "from zipline import run_algorithm\n",
    "from zipline.finance import commission, slippage\n",
    "from zipline.pipeline import Pipeline, CustomFactor\n",
    "from zipline.pipeline.factors import Returns, AverageDollarVolume\n",
    "\n",
    "from zipline.api import (attach_pipeline, \n",
    "                         date_rules, \n",
    "                         time_rules,\n",
    "                         get_datetime,\n",
    "                         order_target_percent,\n",
    "                         pipeline_output, \n",
    "                         record, \n",
    "                         schedule_function, \n",
    "                         get_open_orders, \n",
    "                         calendars,\n",
    "                         set_commission, \n",
    "                         set_slippage)\n",
    "# ZipLine Extractor\n",
    "from pyfolio.utils import extract_rets_pos_txn_from_zipline\n",
    "\n",
    "# Data Visualization\n",
    "import seaborn as sns\n",
    "import matplotlib.pyplot as plt\n",
    "\n",
    "#\n",
    "from pypfopt.efficient_frontier import EfficientFrontier\n",
    "from pypfopt import risk_models, objective_functions\n",
    "from pypfopt import expected_returns\n",
    "from pypfopt.exceptions import OptimizationError"
   ]
  },
  {
   "cell_type": "code",
   "execution_count": 4,
   "id": "5325ebf4-51f0-4692-ab00-06c9620e30fd",
   "metadata": {},
   "outputs": [],
   "source": [
    "sns.set_style('whitegrid')\n",
    "\n",
    "warnings.filterwarnings('ignore')\n",
    "\n",
    "%matplotlib inline"
   ]
  },
  {
   "cell_type": "markdown",
   "id": "9e98c4c4-501a-4155-8f17-bdd3a6d04f8a",
   "metadata": {},
   "source": [
    "### Converting data from `zipline` to `pyfolio`"
   ]
  },
  {
   "cell_type": "code",
   "execution_count": 6,
   "id": "725ddaa4-be87-4ad1-a2f4-34f444507a94",
   "metadata": {},
   "outputs": [],
   "source": [
    "with pd.HDFStore('backtests.h5') as store:\n",
    "    backtest = store['backtest/equal_weight']\n",
    "\n",
    "backtest.info()"
   ]
  },
  {
   "cell_type": "code",
   "execution_count": 7,
   "id": "46db14be-1ce4-48cd-892f-7aa37fd02245",
   "metadata": {},
   "outputs": [],
   "source": [
    "returns, positions, transactions = extract_rets_pos_txn_from_zipline(backtest)"
   ]
  },
  {
   "cell_type": "code",
   "execution_count": 8,
   "id": "6a736d95-3a2a-4d52-89ed-e1e5029eca80",
   "metadata": {},
   "outputs": [],
   "source": [
    "returns.head().append(returns.tail())"
   ]
  },
  {
   "cell_type": "code",
   "execution_count": 9,
   "id": "bcc3b784-fe8b-43bb-93fc-59f22a54fc52",
   "metadata": {},
   "outputs": [],
   "source": [
    "positions.info()"
   ]
  },
  {
   "cell_type": "code",
   "execution_count": 10,
   "id": "924f6f55-7461-4cee-994c-474a405ab65b",
   "metadata": {},
   "outputs": [],
   "source": [
    "positions.columns = [c for c in positions.columns[:-1]] + ['cash']\n",
    "\n",
    "positions.index = positions.index.normalize()\n",
    "positions.info()"
   ]
  },
  {
   "cell_type": "code",
   "execution_count": 11,
   "id": "30a8acc3-578a-494d-8dd9-fc61fb59a3a8",
   "metadata": {},
   "outputs": [],
   "source": [
    "transactions.symbol = transactions.symbol.apply(lambda x: x.symbol)"
   ]
  },
  {
   "cell_type": "code",
   "execution_count": 12,
   "id": "c35d63e0-1800-4eb8-8cb2-f81b12f752f7",
   "metadata": {},
   "outputs": [],
   "source": [
    "transactions.head().append(transactions.tail())"
   ]
  },
  {
   "cell_type": "code",
   "execution_count": 13,
   "id": "f79aef9a-c3fa-48aa-844a-eb9b25d47d59",
   "metadata": {},
   "outputs": [],
   "source": [
    "HDF_PATH = Path('..', 'data', 'assets.h5')"
   ]
  },
  {
   "cell_type": "markdown",
   "id": "7c59462a-2544-42e0-aea7-d4d3d3132127",
   "metadata": {},
   "source": [
    "### Sector Map"
   ]
  },
  {
   "cell_type": "code",
   "execution_count": 14,
   "id": "5f192bec-fe99-4383-b806-512af0837ad0",
   "metadata": {},
   "outputs": [],
   "source": [
    "assets = positions.columns[:-1]\n",
    "\n",
    "with pd.HDFStore(HDF_PATH) as store:\n",
    "    df = store.get('us_equities/stocks')['sector'].dropna()\n",
    "    df = df[~df.index.duplicated()]\n",
    "\n",
    "sector_map = df.reindex(assets).fillna('Unknown').to_dict()"
   ]
  },
  {
   "cell_type": "markdown",
   "id": "f91a2de0-0c4f-4c3c-aa41-f1e87a786882",
   "metadata": {},
   "source": [
    "### Benchmark"
   ]
  },
  {
   "cell_type": "code",
   "execution_count": 15,
   "id": "7fa26431-ee40-483b-a499-2a1c29f05d0e",
   "metadata": {},
   "outputs": [],
   "source": [
    "with pd.HDFStore(HDF_PATH) as store:\n",
    "    benchmark_rets = store['sp500/fred'].close.pct_change()\n",
    "\n",
    "benchmark_rets.name = 'S&P500'\n",
    "benchmark_rets = benchmark_rets.tz_localize('UTC').filter(returns.index)\n",
    "benchmark_rets.tail()"
   ]
  },
  {
   "cell_type": "code",
   "execution_count": 16,
   "id": "13d8ae60-2708-4098-ab88-d2c0a1fe14c9",
   "metadata": {},
   "outputs": [],
   "source": [
    "perf_stats(returns=returns,\n",
    "           factor_returns=benchmark_rets)\n",
    "\n",
    "#            positions=positions, \n",
    "#            transactions=transactions)"
   ]
  },
  {
   "cell_type": "code",
   "execution_count": 17,
   "id": "3516bd2f-1545-4abb-b559-65bf10bfb327",
   "metadata": {},
   "outputs": [],
   "source": [
    "fig, ax = plt.subplots(figsize=(14, 5))\n",
    "plot_perf_stats(returns=returns, \n",
    "                factor_returns=benchmark_rets,     \n",
    "                ax=ax)\n",
    "sns.despine()\n",
    "fig.tight_layout();"
   ]
  },
  {
   "cell_type": "markdown",
   "id": "24ea1fc5-e33d-4e9b-bf64-7bb54779a0dc",
   "metadata": {},
   "source": [
    "### Returns Analysis"
   ]
  },
  {
   "cell_type": "code",
   "execution_count": 18,
   "id": "2a825cb2-ba5c-44cc-be86-10cbd82c350f",
   "metadata": {},
   "outputs": [],
   "source": [
    "oos_date = '2016-01-01'"
   ]
  },
  {
   "cell_type": "code",
   "execution_count": 19,
   "id": "0aa861c6-2a99-4414-a994-804475a5a29f",
   "metadata": {},
   "outputs": [],
   "source": [
    "show_perf_stats(returns=returns, \n",
    "                factor_returns=benchmark_rets, \n",
    "                positions=positions, \n",
    "                transactions=transactions, \n",
    "                live_start_date=oos_date)"
   ]
  },
  {
   "cell_type": "markdown",
   "id": "8ee77f89-4c0a-4586-b47c-3ed116904f20",
   "metadata": {},
   "source": [
    "### Rolling Returns OOS"
   ]
  },
  {
   "cell_type": "code",
   "execution_count": 20,
   "id": "60fc8a0c-8b0b-4b0a-a296-75bfedbbadad",
   "metadata": {},
   "outputs": [],
   "source": [
    "plot_rolling_returns(returns=returns, \n",
    "                     factor_returns=benchmark_rets, \n",
    "                     live_start_date=oos_date, \n",
    "                     cone_std=(1.0, 1.5, 2.0))\n",
    "plt.gcf().set_size_inches(14, 8)\n",
    "sns.despine()\n",
    "plt.tight_layout();"
   ]
  },
  {
   "cell_type": "markdown",
   "id": "96c717d6-9d51-4459-b606-e51fa58ac199",
   "metadata": {},
   "source": [
    "### Summary Performance Statistics\n",
    "\n",
    "#### Rolling Sharpe"
   ]
  },
  {
   "cell_type": "code",
   "execution_count": 24,
   "id": "8ca20788-89b4-4729-bfc2-4b203cd1b02e",
   "metadata": {},
   "outputs": [],
   "source": [
    "plot_rolling_sharpe(returns=returns)\n",
    "plt.gcf().set_size_inches(14, 8)\n",
    "sns.despine()\n",
    "plt.tight_layout();"
   ]
  },
  {
   "cell_type": "markdown",
   "id": "f4779058-2007-4594-95b2-bef34e2bfec6",
   "metadata": {},
   "source": [
    "#### Rolling Beta"
   ]
  },
  {
   "cell_type": "code",
   "execution_count": 21,
   "id": "0d7d4ee1-7c15-4ed3-b06e-6ab95f3ce37a",
   "metadata": {},
   "outputs": [],
   "source": [
    "plot_rolling_beta(returns=returns, factor_returns=benchmark_rets)\n",
    "plt.gcf().set_size_inches(14, 6)\n",
    "sns.despine()\n",
    "plt.tight_layout();"
   ]
  },
  {
   "cell_type": "markdown",
   "id": "8d9c23ed-969f-45d4-b1ba-f1cfb8142bf1",
   "metadata": {},
   "source": [
    "### Drawdown Periods"
   ]
  },
  {
   "cell_type": "code",
   "execution_count": 22,
   "id": "b57977da-c1c1-4550-9856-cc51d9541b7a",
   "metadata": {},
   "outputs": [],
   "source": [
    "fig, ax = plt.subplots(nrows=2, ncols=2, figsize=(16, 10))\n",
    "axes = ax.flatten()\n",
    "\n",
    "plot_drawdown_periods(returns=returns, ax=axes[0])\n",
    "plot_rolling_beta(returns=returns, factor_returns=benchmark_rets, ax=axes[1])\n",
    "plot_drawdown_underwater(returns=returns, ax=axes[2])\n",
    "plot_rolling_sharpe(returns=returns)\n",
    "sns.despine()\n",
    "plt.tight_layout();"
   ]
  },
  {
   "cell_type": "markdown",
   "id": "790acf5e-3345-4908-a074-7b403cab3a02",
   "metadata": {},
   "source": [
    "### Modeling Event Risk"
   ]
  },
  {
   "cell_type": "code",
   "execution_count": 23,
   "id": "fd7700fd-8f21-4282-be42-8f8f796bd012",
   "metadata": {},
   "outputs": [],
   "source": [
    "interesting_times = extract_interesting_date_ranges(returns=returns)\n",
    "\n",
    "(interesting_times['Fall2015']\n",
    " .to_frame('momentum_equal_weights').join(benchmark_rets)\n",
    " .add(1).cumprod().sub(1)\n",
    " .plot(lw=2, figsize=(14, 6), title='Post-Brexit Turmoil'))\n",
    "\n",
    "sns.despine()\n",
    "plt.tight_layout();"
   ]
  },
  {
   "cell_type": "code",
   "execution_count": null,
   "id": "c5a29b59-5f76-44f1-a28e-c2d1d3f961e4",
   "metadata": {},
   "outputs": [],
   "source": []
  },
  {
   "cell_type": "code",
   "execution_count": null,
   "id": "3a621613-2f5f-461e-827d-3e74e68612cc",
   "metadata": {},
   "outputs": [],
   "source": []
  }
 ],
 "metadata": {
  "kernelspec": {
   "display_name": "Python 3 (ipykernel)",
   "language": "python",
   "name": "python3"
  },
  "language_info": {
   "codemirror_mode": {
    "name": "ipython",
    "version": 3
   },
   "file_extension": ".py",
   "mimetype": "text/x-python",
   "name": "python",
   "nbconvert_exporter": "python",
   "pygments_lexer": "ipython3",
   "version": "3.12.9"
  }
 },
 "nbformat": 4,
 "nbformat_minor": 5
}
