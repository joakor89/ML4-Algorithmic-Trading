{
 "cells": [
  {
   "cell_type": "markdown",
   "id": "ad538ab5-072e-4fc1-8796-5a6158a39f6b",
   "metadata": {},
   "source": [
    "# The Kelly Rule\n",
    "\n",
    "### Loading Libraries"
   ]
  },
  {
   "cell_type": "code",
   "execution_count": 3,
   "id": "2457ac5b-7742-43c7-b291-cf36291f1386",
   "metadata": {},
   "outputs": [],
   "source": [
    "# Pathlib\n",
    "from pathlib import Path\n",
    "\n",
    "# Numerical Computing\n",
    "import numpy as np\n",
    "from numpy.linalg import inv\n",
    "from numpy.random import random, uniform, dirichlet, choice\n",
    "\n",
    "# Data Manipulation\n",
    "import pandas as pd\n",
    "import pandas_datareader.data as web\n",
    "\n",
    "\n",
    "# Warnings\n",
    "import warnings\n",
    "\n",
    "# ZipLine Extractor\n",
    "from pyfolio.utils import extract_rets_pos_txn_from_zipline\n",
    "\n",
    "# Data Visualization\n",
    "import seaborn as sns\n",
    "import matplotlib.pyplot as plt\n",
    "from matplotlib.ticker import FuncFormatter\n",
    "\n",
    "# ScyPy\n",
    "from scipy.stats import norm\n",
    "from scipy.integrate import quad\n",
    "from scipy.optimize import minimize\n",
    "from scipy.optimize import minimize_scalar, newton\n",
    "\n",
    "# Symbolic Math\n",
    "from sympy import symbols, solve, log, diff"
   ]
  },
  {
   "cell_type": "code",
   "execution_count": 4,
   "id": "ecfcbd20-a097-46cb-9ac7-293b095c2858",
   "metadata": {},
   "outputs": [],
   "source": [
    "sns.set_style('whitegrid')\n",
    "\n",
    "warnings.filterwarnings('ignore')\n",
    "\n",
    "%matplotlib inline"
   ]
  },
  {
   "cell_type": "code",
   "execution_count": 5,
   "id": "f0baf970-f5d3-46df-9991-6a67d325bfb3",
   "metadata": {},
   "outputs": [],
   "source": [
    "np.random.seed(42)"
   ]
  },
  {
   "cell_type": "markdown",
   "id": "8e0568c2-c5a9-4a7c-b6f3-c2d6939d7452",
   "metadata": {},
   "source": [
    "### Loading Data"
   ]
  },
  {
   "cell_type": "code",
   "execution_count": 6,
   "id": "5cdc4211-75fa-48b7-b9bc-9af1e6efe758",
   "metadata": {},
   "outputs": [],
   "source": [
    "DATA_STORE = Path('..', 'data', 'assets.h5')"
   ]
  },
  {
   "cell_type": "markdown",
   "id": "3c47cb17-17ec-41cf-88ff-fb9a5e2c1435",
   "metadata": {},
   "source": [
    "### The Optimal Size of a Bet"
   ]
  },
  {
   "cell_type": "code",
   "execution_count": 27,
   "id": "4ec7bfcf-435b-4268-9f89-cf1302c5e113",
   "metadata": {},
   "outputs": [],
   "source": [
    "share, odds, probability = symbols('share odds probability')\n",
    "Value = probability * log(1 + odds * share) + (1 - probability) * log(1 - share)\n",
    "solve(diff(Value, share), share)"
   ]
  },
  {
   "cell_type": "code",
   "execution_count": 28,
   "id": "9affc74a-8d8d-457c-b471-ca4847c589bc",
   "metadata": {},
   "outputs": [],
   "source": [
    "f, p = symbols('f p')\n",
    "y = p * log(1 + f) + (1 - p) * log(1 - f)\n",
    "solve(diff(y, f), f)"
   ]
  },
  {
   "cell_type": "markdown",
   "id": "ef2b7285-881d-4905-aeaa-b0d47fa7c317",
   "metadata": {},
   "source": [
    "### Getting S&P 500 Data"
   ]
  },
  {
   "cell_type": "code",
   "execution_count": 29,
   "id": "60b11531-394c-4ec7-a94e-f8605a899e07",
   "metadata": {},
   "outputs": [],
   "source": [
    "with pd.HDFStore(DATA_STORE) as store:\n",
    "    sp500 = store['sp500/stooq'].close"
   ]
  },
  {
   "cell_type": "markdown",
   "id": "213dbf4c-0b38-470d-8c2f-fa6961342e30",
   "metadata": {},
   "source": [
    "#### Compute Returns & Standard Deviation"
   ]
  },
  {
   "cell_type": "code",
   "execution_count": 30,
   "id": "a552192e-aee4-4752-b6b4-feec292b9118",
   "metadata": {},
   "outputs": [],
   "source": [
    "annual_returns = sp500.resample('A').last().pct_change().dropna().to_frame('sp500')"
   ]
  },
  {
   "cell_type": "code",
   "execution_count": 31,
   "id": "e7e5b86b-7e75-48c8-b240-0a5707a0a537",
   "metadata": {},
   "outputs": [],
   "source": [
    "return_params = annual_returns.sp500.rolling(25).agg(['mean', 'std']).dropna()"
   ]
  },
  {
   "cell_type": "code",
   "execution_count": 32,
   "id": "cbec74aa-d6f4-47e2-a5ed-de5e400e4dbb",
   "metadata": {},
   "outputs": [],
   "source": [
    "return_ci = (return_params[['mean']]\n",
    "                .assign(lower=return_params['mean'].sub(return_params['std'].mul(2)))\n",
    "                .assign(upper=return_params['mean'].add(return_params['std'].mul(2))))"
   ]
  },
  {
   "cell_type": "code",
   "execution_count": 33,
   "id": "97c58b2b-bf72-4013-b162-ebca6cd744ae",
   "metadata": {},
   "outputs": [],
   "source": [
    "return_ci.plot(lw=2, figsize=(14, 8))\n",
    "plt.tight_layout()\n",
    "sns.despine();"
   ]
  },
  {
   "cell_type": "markdown",
   "id": "88448905-8fa4-449c-90ec-67261947f51e",
   "metadata": {},
   "source": [
    "#### Kelly Rule for a Single Asset - Index Returns"
   ]
  },
  {
   "cell_type": "code",
   "execution_count": 34,
   "id": "589119b8-8409-4c3c-9864-ae8216bc3c81",
   "metadata": {},
   "outputs": [],
   "source": [
    "def norm_integral(f, mean, std):\n",
    "    val, er = quad(lambda s: np.log(1 + f * s) * norm.pdf(s, mean, std), \n",
    "                               mean - 3 * std, \n",
    "                               mean + 3 * std)\n",
    "    return -val"
   ]
  },
  {
   "cell_type": "code",
   "execution_count": 35,
   "id": "749b5c3c-9712-4c03-902d-b2cf540da5ee",
   "metadata": {},
   "outputs": [],
   "source": [
    "def norm_dev_integral(f, mean, std):\n",
    "    val, er = quad(lambda s: (s / (1 + f * s)) * norm.pdf(s, mean, std), m-3*std, mean+3*std)\n",
    "    return val"
   ]
  },
  {
   "cell_type": "code",
   "execution_count": 36,
   "id": "f4a307cd-0caf-421e-b785-6a8448214f5c",
   "metadata": {},
   "outputs": [],
   "source": [
    "def get_kelly_share(data):\n",
    "    solution = minimize_scalar(norm_integral, \n",
    "                        args=(data['mean'], data['std']), \n",
    "                        bounds=[0, 2], \n",
    "                        method='bounded') \n",
    "    return solution.x"
   ]
  },
  {
   "cell_type": "code",
   "execution_count": 37,
   "id": "4a31783e-b23d-46b7-91f9-60b6a1285c59",
   "metadata": {},
   "outputs": [],
   "source": [
    "annual_returns['f'] = return_params.apply(get_kelly_share, axis=1)"
   ]
  },
  {
   "cell_type": "code",
   "execution_count": 38,
   "id": "c7ff50ed-847b-458a-9af1-52678b1ed3cb",
   "metadata": {},
   "outputs": [],
   "source": [
    "return_params.plot(subplots=True, lw=2, figsize=(14, 8));"
   ]
  },
  {
   "cell_type": "code",
   "execution_count": 39,
   "id": "1d19bd41-04a4-4b03-aba2-4b6547725bef",
   "metadata": {},
   "outputs": [],
   "source": [
    "annual_returns.tail()"
   ]
  },
  {
   "cell_type": "markdown",
   "id": "6ed0c5a7-428f-431e-9780-2574e9d9e3d6",
   "metadata": {},
   "source": [
    "#### Performance Evaluation"
   ]
  },
  {
   "cell_type": "code",
   "execution_count": 40,
   "id": "9bdbc411-da53-4dd7-a07a-3f6d6666d60e",
   "metadata": {},
   "outputs": [],
   "source": [
    "(annual_returns[['sp500']]\n",
    " .assign(kelly=annual_returns.sp500.mul(annual_returns.f.shift()))\n",
    " .dropna()\n",
    " .loc['1900':]\n",
    " .add(1)\n",
    " .cumprod()\n",
    " .sub(1)\n",
    " .plot(lw=2));"
   ]
  },
  {
   "cell_type": "code",
   "execution_count": 43,
   "id": "90e573bf-ea04-46c1-b992-2c3282d29dd9",
   "metadata": {},
   "outputs": [],
   "source": [
    "annual_returns.f.describe()"
   ]
  },
  {
   "cell_type": "code",
   "execution_count": 44,
   "id": "536a73ae-5624-45a4-9edf-c2a3b6e6d3b2",
   "metadata": {},
   "outputs": [],
   "source": [
    "return_ci.head()"
   ]
  },
  {
   "cell_type": "markdown",
   "id": "f94acce4-9e6a-41c2-b3e2-c7a1d00ed172",
   "metadata": {},
   "source": [
    "#### Compute Kelly Fraction"
   ]
  },
  {
   "cell_type": "code",
   "execution_count": 45,
   "id": "17690abc-1f6a-4db7-b1b1-f8c4033993ab",
   "metadata": {},
   "outputs": [],
   "source": [
    "m = .058\n",
    "\n",
    "s = .216"
   ]
  },
  {
   "cell_type": "code",
   "execution_count": 46,
   "id": "f56c0495-c28e-4b2e-b13a-f77efcd53ab3",
   "metadata": {},
   "outputs": [],
   "source": [
    "# Option 1: Minimize the expectation integral\n",
    "sol = minimize_scalar(norm_integral, args=(m, s), bounds=[0., 2.], method='bounded')\n",
    "print('Optimal Kelly fraction: {:.4f}'.format(sol.x))"
   ]
  },
  {
   "cell_type": "code",
   "execution_count": 47,
   "id": "d64febbf-77c1-45dc-a568-e73b2755871f",
   "metadata": {},
   "outputs": [],
   "source": [
    "# Option 2: Take the derivative of the expectation and make it null\n",
    "x0 = newton(norm_dev_integral, .1, args=(m, s))\n",
    "print('Optimal Kelly fraction: {:.4f}'.format(x0))"
   ]
  },
  {
   "cell_type": "markdown",
   "id": "774ca1aa-0de6-40a4-8b4e-1942bb858969",
   "metadata": {},
   "source": [
    "### Kelly Rule for Multiple Assets"
   ]
  },
  {
   "cell_type": "code",
   "execution_count": 48,
   "id": "1d5f7c02-9bce-407b-892f-d1b8c0aceb37",
   "metadata": {},
   "outputs": [],
   "source": [
    "with pd.HDFStore(DATA_STORE) as store:\n",
    "    sp500_stocks = store['sp500/stocks'].index \n",
    "    prices = store['quandl/wiki/prices'].adj_close.unstack('ticker').filter(sp500_stocks)"
   ]
  },
  {
   "cell_type": "code",
   "execution_count": 49,
   "id": "2b8a094b-218f-485c-9ee9-919d4e5a80f3",
   "metadata": {},
   "outputs": [],
   "source": [
    "prices.info()"
   ]
  },
  {
   "cell_type": "code",
   "execution_count": 50,
   "id": "5d6ddfd1-24fc-4187-adb4-08ad15859a68",
   "metadata": {},
   "outputs": [],
   "source": [
    "monthly_returns = prices.loc['1988':'2017'].resample('M').last().pct_change().dropna(how='all').dropna(axis=1)\n",
    "stocks = monthly_returns.columns\n",
    "\n",
    "monthly_returns.info()"
   ]
  },
  {
   "cell_type": "markdown",
   "id": "39b6f39b-4177-4b48-83c4-10af34671884",
   "metadata": {},
   "source": [
    "#### Compute Precision Matrix"
   ]
  },
  {
   "cell_type": "code",
   "execution_count": 51,
   "id": "292a630d-88d3-4ad5-a978-878178788c31",
   "metadata": {},
   "outputs": [],
   "source": [
    "cov = monthly_returns.cov()\n",
    "\n",
    "precision_matrix = pd.DataFrame(inv(cov), index=stocks, columns=stocks)"
   ]
  },
  {
   "cell_type": "code",
   "execution_count": 52,
   "id": "caaf9f87-c664-4ccc-a52f-e8cf0b3a6be0",
   "metadata": {},
   "outputs": [],
   "source": [
    "kelly_allocation = monthly_returns.mean().dot(precision_matrix)"
   ]
  },
  {
   "cell_type": "code",
   "execution_count": 53,
   "id": "53f3cbbd-85eb-469f-8cc7-292b00edd737",
   "metadata": {},
   "outputs": [],
   "source": [
    "kelly_allocation.describe()"
   ]
  },
  {
   "cell_type": "code",
   "execution_count": 54,
   "id": "8355cad7-0554-454a-b27b-eabe2a07de46",
   "metadata": {},
   "outputs": [],
   "source": [
    "kelly_allocation.sum()"
   ]
  },
  {
   "cell_type": "markdown",
   "id": "034b4cf8-f7fa-4545-bf2f-485c96c5518e",
   "metadata": {},
   "source": [
    "#### Largest Portfolio Allocation"
   ]
  },
  {
   "cell_type": "code",
   "execution_count": 55,
   "id": "9ad6d890-7cac-4b13-9217-6cab50b70d6f",
   "metadata": {},
   "outputs": [],
   "source": [
    "kelly_allocation[kelly_allocation.abs()>5].sort_values(ascending=False).plot.barh(figsize=(8, 10))\n",
    "plt.yticks(fontsize=12)\n",
    "sns.despine()\n",
    "plt.tight_layout();"
   ]
  },
  {
   "cell_type": "markdown",
   "id": "4dcbfc31-0e3b-49e9-8a55-6e608e3789ec",
   "metadata": {},
   "source": [
    "#### Performance Vs. SP500"
   ]
  },
  {
   "cell_type": "code",
   "execution_count": 56,
   "id": "1fb4ed21-8e0f-4cdd-a7e3-c269cf094fea",
   "metadata": {},
   "outputs": [],
   "source": [
    "ax = monthly_returns.loc['2010':].mul(kelly_allocation.div(kelly_allocation.sum())).sum(1).to_frame('Kelly').add(1).cumprod().sub(1).plot(figsize=(14,4));\n",
    "sp500.filter(monthly_returns.loc['2010':].index).pct_change().add(1).cumprod().sub(1).to_frame('SP500').plot(ax=ax, legend=True)\n",
    "plt.tight_layout()\n",
    "sns.despine();"
   ]
  },
  {
   "cell_type": "code",
   "execution_count": null,
   "id": "c206fbc7-60b9-4587-be59-fb6488f7762e",
   "metadata": {},
   "outputs": [],
   "source": []
  }
 ],
 "metadata": {
  "kernelspec": {
   "display_name": "Python 3 (ipykernel)",
   "language": "python",
   "name": "python3"
  },
  "language_info": {
   "codemirror_mode": {
    "name": "ipython",
    "version": 3
   },
   "file_extension": ".py",
   "mimetype": "text/x-python",
   "name": "python",
   "nbconvert_exporter": "python",
   "pygments_lexer": "ipython3",
   "version": "3.12.9"
  }
 },
 "nbformat": 4,
 "nbformat_minor": 5
}
