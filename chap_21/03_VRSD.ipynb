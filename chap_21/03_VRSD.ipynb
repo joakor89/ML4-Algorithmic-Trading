{
 "cells": [
  {
   "cell_type": "markdown",
   "id": "11158f44-5f55-4d6e-861d-2eccbebda88b",
   "metadata": {},
   "source": [
    "# Visualizing Real & Synthetic Data\n",
    "\n",
    "### Loading Libraries"
   ]
  },
  {
   "cell_type": "code",
   "execution_count": 82,
   "id": "69a88e20-d4bf-4d1f-aa59-632218b49aa3",
   "metadata": {},
   "outputs": [],
   "source": [
    "\n",
    "# Numerical Computing\n",
    "import numpy as np\n",
    "\n",
    "# Data Manipulation\n",
    "import pandas as pd\n",
    "\n",
    "# Data Visualization\n",
    "import seaborn as sns\n",
    "import matplotlib.pyplot as plt\n",
    "from matplotlib.ticker import FuncFormatter\n",
    "\n",
    "\n",
    "# Path\n",
    "from pathlib import Path\n",
    "\n",
    "# Scikit-Learn\n",
    "from sklearn.manifold import TSNE\n",
    "from sklearn.decomposition import PCA\n",
    "from sklearn.preprocessing import MinMaxScaler\n",
    "\n",
    "# TensorFlow\n",
    "import tensorflow as tf\n",
    "from tensorflow.keras.metrics import AUC\n",
    "from tensorflow.keras.optimizers import Adam\n",
    "from tensorflow.keras.models import Sequential\n",
    "from tensorflow.keras.layers import GRU, Dense\n",
    "from tensorflow.keras.losses import BinaryCrossentropy, MeanSquaredError, MeanAbsoluteError"
   ]
  },
  {
   "cell_type": "code",
   "execution_count": 34,
   "id": "e754ba51-7411-485c-a8a5-0f273b1db426",
   "metadata": {},
   "outputs": [],
   "source": [
    "sns.set_style('white')"
   ]
  },
  {
   "cell_type": "code",
   "execution_count": 35,
   "id": "0e1f91fe-b1af-4c7f-9cfe-f87e6f4eb284",
   "metadata": {},
   "outputs": [
    {
     "name": "stdout",
     "output_type": "stream",
     "text": [
      "Using GPU\n"
     ]
    }
   ],
   "source": [
    "gpu_devices = tf.config.experimental.list_physical_devices('GPU')\n",
    "\n",
    "if gpu_devices:\n",
    "    print('Using GPU')\n",
    "    tf.config.experimental.set_memory_growth(gpu_devices[0], True)\n",
    "else:\n",
    "    print('Using CPU')"
   ]
  },
  {
   "cell_type": "code",
   "execution_count": 39,
   "id": "f29faa4f-cf62-4c1c-bd4a-95565d975d3a",
   "metadata": {},
   "outputs": [],
   "source": [
    "path = Path('time_gan')\n",
    "\n",
    "hdf_store = path / 'TimeSeriesGAN.h5'"
   ]
  },
  {
   "cell_type": "code",
   "execution_count": 41,
   "id": "c45a1edc-e530-426e-8468-3f29282833cd",
   "metadata": {},
   "outputs": [],
   "source": [
    "seq_len = 24\n",
    "\n",
    "n_seq = 6"
   ]
  },
  {
   "cell_type": "markdown",
   "id": "bb58ac05-85ff-41c5-8567-290cca08a3ae",
   "metadata": {},
   "source": [
    "### Loading Data"
   ]
  },
  {
   "cell_type": "code",
   "execution_count": 45,
   "id": "8b94e5c1-5966-466e-afee-fad7923c1d9c",
   "metadata": {},
   "outputs": [],
   "source": [
    "experiment = 0"
   ]
  },
  {
   "cell_type": "code",
   "execution_count": 49,
   "id": "8e8e37c8-3c18-42d2-bbd8-3e5f560a5442",
   "metadata": {},
   "outputs": [],
   "source": [
    "def get_real_data():\n",
    "    df = pd.read_hdf(hdf_store, 'data/real').sort_index()\n",
    "\n",
    "    # Preprocess the dataset:\n",
    "    scaler = MinMaxScaler()\n",
    "    scaled_data = scaler.fit_transform(df)\n",
    "\n",
    "    data = []\n",
    "    for i in range(len(df) - seq_len):\n",
    "        data.append(scaled_data[i:i + seq_len])\n",
    "    return data\n",
    "\n",
    "\n",
    "real_data = get_real_data()"
   ]
  },
  {
   "cell_type": "code",
   "execution_count": 51,
   "id": "2afd8672-0426-4ae3-8855-15027b4f2e97",
   "metadata": {},
   "outputs": [],
   "source": [
    "n = len(real_data)"
   ]
  },
  {
   "cell_type": "code",
   "execution_count": 53,
   "id": "df2e73b1-c29d-4998-9e4a-249a9106fea5",
   "metadata": {},
   "outputs": [],
   "source": [
    "np.asarray(real_data).shape"
   ]
  },
  {
   "cell_type": "code",
   "execution_count": 55,
   "id": "00a8c65b-96f0-47c6-a48a-5604ee2c576c",
   "metadata": {},
   "outputs": [],
   "source": [
    "synthetic_data = np.load(path / f'experiment_{experiment:02d}' / 'generated_data.npy')\n",
    "\n",
    "synthetic_data.shape"
   ]
  },
  {
   "cell_type": "code",
   "execution_count": 57,
   "id": "8978432d-aa6a-457b-9da8-6d9963e8bd9e",
   "metadata": {},
   "outputs": [],
   "source": [
    "real_data = real_data[:synthetic_data.shape[0]]"
   ]
  },
  {
   "cell_type": "markdown",
   "id": "c303ec9b-88d3-45a4-b010-36e2eda22d5f",
   "metadata": {},
   "source": [
    "### Preparing Sample"
   ]
  },
  {
   "cell_type": "code",
   "execution_count": 60,
   "id": "06b1806d-0800-46e3-be73-4a304e4d153d",
   "metadata": {},
   "outputs": [],
   "source": [
    "sample_size = 250\n",
    "\n",
    "idx = np.random.permutation(len(real_data))[:sample_size]"
   ]
  },
  {
   "cell_type": "code",
   "execution_count": 62,
   "id": "7a9186ae-8c6b-4ab8-9e43-de4df984635c",
   "metadata": {},
   "outputs": [],
   "source": [
    "real_sample = np.asarray(real_data)[idx]\n",
    "\n",
    "synthetic_sample = np.asarray(synthetic_data)[idx]"
   ]
  },
  {
   "cell_type": "code",
   "execution_count": 64,
   "id": "89cc9976-c5a8-4cdf-b5f9-20d1afaab19e",
   "metadata": {},
   "outputs": [],
   "source": [
    "real_sample_2d = real_sample.reshape(-1, seq_len)\n",
    "\n",
    "synthetic_sample_2d = synthetic_sample.reshape(-1, seq_len)"
   ]
  },
  {
   "cell_type": "code",
   "execution_count": 66,
   "id": "6b27bf94-c086-41c6-9405-a0048529033a",
   "metadata": {},
   "outputs": [],
   "source": [
    "real_sample_2d.shape, synthetic_sample_2d.shape"
   ]
  },
  {
   "cell_type": "markdown",
   "id": "d5d12f1f-944c-46c1-ae2a-49333ae50284",
   "metadata": {},
   "source": [
    "### Visualization in 2D: A Qualitative Assessment of Diversity\n",
    "\n",
    "#### Running PCA"
   ]
  },
  {
   "cell_type": "code",
   "execution_count": 100,
   "id": "a532e50a-5648-4de2-a731-9f4ec8735440",
   "metadata": {},
   "outputs": [],
   "source": [
    "pca = PCA(n_components=2)\n",
    "\n",
    "pca.fit(real_sample_2d)\n",
    "\n",
    "pca_real = (pd.DataFrame(pca.transform(real_sample_2d))\n",
    "            .assign(Data='Real'))\n",
    "pca_synthetic = (pd.DataFrame(pca.transform(synthetic_sample_2d))\n",
    "                 .assign(Data='Synthetic'))\n",
    "pca_result = pca_real.append(pca_synthetic).rename(\n",
    "    columns={0: '1st Component', 1: '2nd Component'})"
   ]
  },
  {
   "cell_type": "markdown",
   "id": "53909725-54a5-45c3-a9fd-7db887fa7e9d",
   "metadata": {},
   "source": [
    "#### Running `t-SNE`"
   ]
  },
  {
   "cell_type": "code",
   "execution_count": 103,
   "id": "81e5e429-0417-42a3-acc4-d201871d6c4b",
   "metadata": {},
   "outputs": [],
   "source": [
    "tsne_data = np.concatenate((real_sample_2d,\n",
    "                            synthetic_sample_2d), axis=0)\n",
    "\n",
    "tsne = TSNE(n_components=2,\n",
    "            verbose=1,\n",
    "            perplexity=40)\n",
    "tsne_result = tsne.fit_transform(tsne_data)"
   ]
  },
  {
   "cell_type": "code",
   "execution_count": 105,
   "id": "e410b8f6-e1ba-4322-9f6f-c069fba7f57d",
   "metadata": {},
   "outputs": [],
   "source": [
    "tsne_result = pd.DataFrame(tsne_result, columns=['X', 'Y']).assign(Data='Real')\n",
    "\n",
    "tsne_result.loc[sample_size*6:, 'Data'] = 'Synthetic'"
   ]
  },
  {
   "cell_type": "markdown",
   "id": "93e52610-f4eb-4bf0-9208-13dd279cc6a9",
   "metadata": {},
   "source": [
    "#### Plotting Result"
   ]
  },
  {
   "cell_type": "code",
   "execution_count": 108,
   "id": "fea91e9a-f116-46fe-a7d7-87da16131b1b",
   "metadata": {},
   "outputs": [],
   "source": [
    "fig, axes = plt.subplots(ncols=2, figsize=(14, 5))\n",
    "\n",
    "sns.scatterplot(x='1st Component', y='2nd Component', data=pca_result,\n",
    "                hue='Data', style='Data', ax=axes[0])\n",
    "sns.despine()\n",
    "axes[0].set_title('PCA Result')\n",
    "\n",
    "\n",
    "sns.scatterplot(x='X', y='Y',\n",
    "                data=tsne_result,\n",
    "                hue='Data', \n",
    "                style='Data', \n",
    "                ax=axes[1])\n",
    "sns.despine()\n",
    "for i in [0, 1]:\n",
    "    axes[i].set_xticks([])\n",
    "    axes[i].set_yticks([])\n",
    "\n",
    "axes[1].set_title('t-SNE Result')\n",
    "fig.suptitle('Assessing Diversity: Qualitative Comparison of Real and Synthetic Data Distributions', \n",
    "             fontsize=14)\n",
    "fig.tight_layout()\n",
    "fig.subplots_adjust(top=.88);\n",
    "plt.show(0"
   ]
  },
  {
   "cell_type": "markdown",
   "id": "80711e0b-8896-44d2-ae5b-d991b1cfb2d1",
   "metadata": {},
   "source": [
    "### Time Series Classification: A Quantitative Assessment of Fidelity\n",
    "\n",
    "#### Preparing Data"
   ]
  },
  {
   "cell_type": "code",
   "execution_count": 113,
   "id": "5ab5166d-efc5-432b-bfbf-74c916e5c7dc",
   "metadata": {},
   "outputs": [],
   "source": [
    "real_data = get_real_data()\n",
    "\n",
    "real_data = np.array(real_data)[:len(synthetic_data)]\n",
    "\n",
    "real_data.shape"
   ]
  },
  {
   "cell_type": "code",
   "execution_count": 115,
   "id": "2ba29200-6ad5-4e8f-9a9d-c9949929666b",
   "metadata": {},
   "outputs": [],
   "source": [
    "synthetic_data.shape"
   ]
  },
  {
   "cell_type": "code",
   "execution_count": 117,
   "id": "5422cac7-429a-4f91-9683-876beaed4814",
   "metadata": {},
   "outputs": [],
   "source": [
    "n_series = real_data.shape[0]"
   ]
  },
  {
   "cell_type": "code",
   "execution_count": 119,
   "id": "e6ae5cf9-d750-4139-948e-8295c15443bc",
   "metadata": {},
   "outputs": [],
   "source": [
    "idx = np.arange(n_series)"
   ]
  },
  {
   "cell_type": "code",
   "execution_count": 121,
   "id": "27457a5f-e63a-4e79-ac50-d0b82fff5b17",
   "metadata": {},
   "outputs": [],
   "source": [
    "n_train = int(.8*n_series)\n",
    "\n",
    "train_idx = idx[:n_train]\n",
    "test_idx = idx[n_train:]"
   ]
  },
  {
   "cell_type": "code",
   "execution_count": 123,
   "id": "483e0818-8130-4fb6-9c05-647ebda62ed9",
   "metadata": {},
   "outputs": [],
   "source": [
    "train_data = np.vstack((real_data[train_idx], \n",
    "                        synthetic_data[train_idx]))\n",
    "\n",
    "test_data = np.vstack((real_data[test_idx], \n",
    "                       synthetic_data[test_idx]))"
   ]
  },
  {
   "cell_type": "code",
   "execution_count": 125,
   "id": "8655d155-0e21-4373-a75a-0e1812038f4b",
   "metadata": {},
   "outputs": [],
   "source": [
    "n_train, n_test = len(train_idx), len(test_idx)\n",
    "\n",
    "train_labels = np.concatenate((np.ones(n_train),\n",
    "                               np.zeros(n_train)))\n",
    "\n",
    "test_labels = np.concatenate((np.ones(n_test),\n",
    "                              np.zeros(n_test)))"
   ]
  },
  {
   "cell_type": "markdown",
   "id": "a0b4e0f0-bd64-4503-9c0c-1957686e4c51",
   "metadata": {},
   "source": [
    "### Creating Classifier"
   ]
  },
  {
   "cell_type": "code",
   "execution_count": 128,
   "id": "d6c4d76c-b0be-4981-b820-3c97c6909c72",
   "metadata": {},
   "outputs": [],
   "source": [
    "ts_classifier = Sequential([GRU(6, input_shape=(24, 6), name='GRU'),\n",
    "                            Dense(1, activation='sigmoid', name='OUT')],\n",
    "                           name='Time_Series_Classifier')"
   ]
  },
  {
   "cell_type": "code",
   "execution_count": 130,
   "id": "578d1f55-7846-4014-a765-695362973b5b",
   "metadata": {},
   "outputs": [],
   "source": [
    "ts_classifier.compile(loss='binary_crossentropy',\n",
    "                      optimizer='adam',\n",
    "                      metrics=[AUC(name='AUC'), 'accuracy'])"
   ]
  },
  {
   "cell_type": "code",
   "execution_count": 132,
   "id": "b8598a72-122c-4dc7-b827-b28b4b0272f3",
   "metadata": {},
   "outputs": [],
   "source": [
    "ts_classifier.summary()"
   ]
  },
  {
   "cell_type": "code",
   "execution_count": 134,
   "id": "e804538f-8a52-4d7f-9928-cbee0caeb2a4",
   "metadata": {},
   "outputs": [],
   "source": [
    "result = ts_classifier.fit(x=train_data,\n",
    "                           y=train_labels,\n",
    "                           validation_data=(test_data, test_labels),\n",
    "                           epochs=250,\n",
    "                           batch_size=128,\n",
    "                           verbose=0)"
   ]
  },
  {
   "cell_type": "code",
   "execution_count": 136,
   "id": "fbf74e23-247b-4aa4-9b10-1544bbc6ccdf",
   "metadata": {},
   "outputs": [],
   "source": [
    "ts_classifier.evaluate(x=test_data, y=test_labels)"
   ]
  },
  {
   "cell_type": "code",
   "execution_count": 138,
   "id": "56c15a85-5ffc-403a-b13e-0c2f52765f83",
   "metadata": {},
   "outputs": [],
   "source": [
    "history = pd.DataFrame(result.history)\n",
    "\n",
    "history.info()"
   ]
  },
  {
   "cell_type": "code",
   "execution_count": 140,
   "id": "7fd7f4b7-f06a-4b61-90f1-81f4dce0aa1f",
   "metadata": {},
   "outputs": [],
   "source": [
    "sns.set_style('white')\n",
    "\n",
    "fig, axes = plt.subplots(ncols=2, figsize=(14,4))\n",
    "\n",
    "history[['AUC', 'val_AUC']].rename(columns={'AUC': 'Train', 'val_AUC': 'Test'}).plot(ax=axes[1], \n",
    "                                                                                     title='ROC Area under the Curve',\n",
    "                                                                                    style=['-', '--'],\n",
    "                                                                                    xlim=(0, 250))\n",
    "\n",
    "history[['accuracy', 'val_accuracy']].rename(columns={'accuracy': 'Train', 'val_accuracy': 'Test'}).plot(ax=axes[0], \n",
    "                                                                                                         title='Accuracy',\n",
    "                                                                                                        style=['-', '--'],\n",
    "                                                                                                        xlim=(0, 250))\n",
    "for i in [0, 1]:\n",
    "    axes[i].set_xlabel('Epoch')\n",
    "\n",
    "axes[0].yaxis.set_major_formatter(FuncFormatter(lambda y, _: '{:.0%}'.format(y))) \n",
    "axes[0].set_ylabel('Accuracy (%)')\n",
    "axes[1].set_ylabel('AUC')\n",
    "sns.despine()\n",
    "fig.suptitle('Assessing Fidelity: Time Series Classification Performance', fontsize=14)\n",
    "fig.tight_layout()\n",
    "fig.subplots_adjust(top=.85);\n",
    "plt.show()"
   ]
  },
  {
   "cell_type": "markdown",
   "id": "b4271c39-604f-48e0-b192-2faa923d9662",
   "metadata": {},
   "source": [
    "### Training on Synthetic, Test on Real: Assessing usefulness"
   ]
  },
  {
   "cell_type": "code",
   "execution_count": 143,
   "id": "d6461ce9-6fcb-4458-9ce1-992b22883913",
   "metadata": {},
   "outputs": [],
   "source": [
    "real_data = get_real_data()\n",
    "\n",
    "real_data = np.array(real_data)[:len(synthetic_data)]"
   ]
  },
  {
   "cell_type": "code",
   "execution_count": 145,
   "id": "88d3cac9-cde2-42d2-9a40-37d7f48fd72d",
   "metadata": {},
   "outputs": [],
   "source": [
    "real_data.shape, synthetic_data.shape"
   ]
  },
  {
   "cell_type": "code",
   "execution_count": 147,
   "id": "969ef636-43e3-4246-836c-c0eae019efa8",
   "metadata": {},
   "outputs": [],
   "source": [
    "real_train_data = real_data[train_idx, :23, :]\n",
    "real_train_label = real_data[train_idx, -1, :]\n",
    "\n",
    "real_test_data = real_data[test_idx, :23, :]\n",
    "real_test_label = real_data[test_idx, -1, :]"
   ]
  },
  {
   "cell_type": "code",
   "execution_count": 149,
   "id": "4273bf00-c7eb-4fcd-9465-f4d67dce8219",
   "metadata": {},
   "outputs": [],
   "source": [
    "real_train_data.shape, real_train_label.shape, real_test_data.shape, real_test_label.shape"
   ]
  },
  {
   "cell_type": "code",
   "execution_count": 151,
   "id": "a51393d9-c59a-4fed-a33b-22d1c0c8f097",
   "metadata": {},
   "outputs": [],
   "source": [
    "synthetic_train = synthetic_data[:, :23, :]\n",
    "\n",
    "synthetic_label = synthetic_data[:, -1, :]"
   ]
  },
  {
   "cell_type": "code",
   "execution_count": 153,
   "id": "ae68e428-0ed9-4b9e-81af-53363931f182",
   "metadata": {},
   "outputs": [],
   "source": [
    "synthetic_train.shape, synthetic_label.shape"
   ]
  },
  {
   "cell_type": "code",
   "execution_count": 155,
   "id": "fe568fd1-8321-4255-a5c8-6bcf21247532",
   "metadata": {},
   "outputs": [],
   "source": [
    "def get_model():\n",
    "    model = Sequential([GRU(12, input_shape=(seq_len-1, n_seq)),\n",
    "                        Dense(6)])\n",
    "\n",
    "    model.compile(optimizer=Adam(),\n",
    "                  loss=MeanAbsoluteError(name='MAE'))\n",
    "    return model"
   ]
  },
  {
   "cell_type": "code",
   "execution_count": 157,
   "id": "95eb3941-8918-466e-a9a2-807e22c42e0b",
   "metadata": {},
   "outputs": [],
   "source": [
    "ts_regression = get_model()\n",
    "\n",
    "synthetic_result = ts_regression.fit(x=synthetic_train,\n",
    "                                     y=synthetic_label,\n",
    "                                     validation_data=(\n",
    "                                         real_test_data, \n",
    "                                         real_test_label),\n",
    "                                     epochs=100,\n",
    "                                     batch_size=128,\n",
    "                                     verbose=0)"
   ]
  },
  {
   "cell_type": "code",
   "execution_count": 159,
   "id": "ef818412-9322-4179-b270-68b8e8f22d79",
   "metadata": {},
   "outputs": [],
   "source": [
    "ts_regression = get_model()\n",
    "\n",
    "real_result = ts_regression.fit(x=real_train_data,\n",
    "                                y=real_train_label,\n",
    "                                validation_data=(\n",
    "                                    real_test_data, \n",
    "                                    real_test_label),\n",
    "                                epochs=100,\n",
    "                                batch_size=128,\n",
    "                                verbose=0)"
   ]
  },
  {
   "cell_type": "code",
   "execution_count": 161,
   "id": "2a3fff0b-061a-4efc-bcc8-4862a82f955e",
   "metadata": {},
   "outputs": [],
   "source": [
    "synthetic_result = pd.DataFrame(synthetic_result.history).rename(columns={'loss': 'Train', 'val_loss': 'Test'})\n",
    "\n",
    "real_result = pd.DataFrame(real_result.history).rename(columns={'loss': 'Train', 'val_loss': 'Test'})"
   ]
  },
  {
   "cell_type": "code",
   "execution_count": 163,
   "id": "a51b76b8-3e60-4f0a-b0a6-4897a9da07ec",
   "metadata": {},
   "outputs": [],
   "source": [
    "fig, axes = plt.subplots(ncols=2, figsize=(14, 4), sharey=True)\n",
    "\n",
    "synthetic_result.plot(ax=axes[0], title='Train on Synthetic, Test on Real', logy=True, xlim=(0, 100))\n",
    "\n",
    "real_result.plot(ax=axes[1], title='Train on Real, Test on Real', logy=True, xlim=(0, 100))\n",
    "\n",
    "for i in [0, 1]:\n",
    "    axes[i].set_xlabel('Epoch')\n",
    "    axes[i].set_ylabel('Mean Absolute Error (log scale)')\n",
    "\n",
    "sns.despine()\n",
    "fig.suptitle('Assessing Usefulness: Time Series Prediction Performance', fontsize=14)\n",
    "fig.tight_layout()\n",
    "fig.subplots_adjust(top=.85);\n",
    "plt.show()"
   ]
  },
  {
   "cell_type": "code",
   "execution_count": null,
   "id": "2985811e-d502-478e-8f0f-64736cfae18a",
   "metadata": {},
   "outputs": [],
   "source": []
  }
 ],
 "metadata": {
  "kernelspec": {
   "display_name": "Python [conda env:MLAT] *",
   "language": "python",
   "name": "conda-env-MLAT-py"
  },
  "language_info": {
   "codemirror_mode": {
    "name": "ipython",
    "version": 3
   },
   "file_extension": ".py",
   "mimetype": "text/x-python",
   "name": "python",
   "nbconvert_exporter": "python",
   "pygments_lexer": "ipython3",
   "version": "3.12.9"
  }
 },
 "nbformat": 4,
 "nbformat_minor": 5
}
