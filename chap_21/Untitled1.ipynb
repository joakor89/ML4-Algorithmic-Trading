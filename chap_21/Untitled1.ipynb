{
 "cells": [
  {
   "cell_type": "markdown",
   "id": "9ba04f09-25c5-412a-948e-26896650005c",
   "metadata": {},
   "source": [
    "# Time-series Generative Adversarial Network (TimeGAN)\n",
    "\n",
    "### Loading Libraries"
   ]
  },
  {
   "cell_type": "code",
   "execution_count": null,
   "id": "855ab2cb-7228-47f8-9b39-ed58f195e052",
   "metadata": {},
   "outputs": [],
   "source": [
    "# Numerical Computing\n",
    "import numpy as np\n",
    "\n",
    "# Data Manipulation\n",
    "import pandas as pd\n",
    "\n",
    "# Data Visualization\n",
    "import seaborn as sns\n",
    "import matplotlib.pyplot as plt\n",
    "\n",
    "# Warnings\n",
    "import warnings\n",
    "\n",
    "# Path & OS\n",
    "from time import time\n",
    "from pathlib import Path\n",
    "\n",
    "# Scikit-Learn\n",
    "from sklearn.preprocessing import MinMaxScaler\n",
    "\n",
    "# Notebook Optimizer\n",
    "from tqdm import tqdm\n",
    "\n",
    "# \n",
    "import tensorflow as tf\n",
    "from tensorflow.keras.models import Sequential, Model\n",
    "from tensorflow.keras.layers import GRU, Dense, RNN, GRUCell, Input\n",
    "from tensorflow.keras.losses import BinaryCrossentropy, MeanSquaredError\n",
    "from tensorflow.keras.optimizers import Adam\n",
    "from tensorflow.keras.callbacks import TensorBoard\n",
    "from tensorflow.keras.utils import plot_model"
   ]
  },
  {
   "cell_type": "code",
   "execution_count": null,
   "id": "32758e5f-a86c-4ff5-b45d-2a25a162e954",
   "metadata": {},
   "outputs": [],
   "source": [
    "sns.set_style('white')\n",
    "\n",
    "warnings.filterwarnings('ignore')"
   ]
  },
  {
   "cell_type": "code",
   "execution_count": null,
   "id": "d72df5e8-82dc-40e6-a67e-f0a800e3893e",
   "metadata": {},
   "outputs": [],
   "source": [
    "gpu_devices = tf.config.experimental.list_physical_devices('GPU')\n",
    "\n",
    "if gpu_devices:\n",
    "    print('Using GPU')\n",
    "    tf.config.experimental.set_memory_growth(gpu_devices[0], True)\n",
    "else:\n",
    "    print('Using CPU')\n"
   ]
  },
  {
   "cell_type": "markdown",
   "id": "3637b2cb-261a-4f63-935f-4cf91d9fd5d9",
   "metadata": {},
   "source": [
    "#### Experiment Path"
   ]
  },
  {
   "cell_type": "code",
   "execution_count": null,
   "id": "b9febcc9-473e-4877-bdf7-63f4327cfc2f",
   "metadata": {},
   "outputs": [],
   "source": [
    "results_path = Path('time_gan')\n",
    "\n",
    "if not results_path.exists():\n",
    "    results_path.mkdir()"
   ]
  },
  {
   "cell_type": "code",
   "execution_count": null,
   "id": "088e210a-65d6-4e25-ab13-0c41b87d0d67",
   "metadata": {},
   "outputs": [],
   "source": [
    "experiment = 0"
   ]
  },
  {
   "cell_type": "code",
   "execution_count": null,
   "id": "315ed2db-3014-4380-8de3-73985b63526e",
   "metadata": {},
   "outputs": [],
   "source": [
    "log_dir = results_path / f'experiment_{experiment:02}'\n",
    "\n",
    "if not log_dir.exists():\n",
    "    log_dir.mkdir(parents=True)"
   ]
  },
  {
   "cell_type": "code",
   "execution_count": null,
   "id": "eefea7cf-35b1-428c-9d7a-5d45decff8b4",
   "metadata": {},
   "outputs": [],
   "source": [
    "hdf_store = results_path / 'TimeSeriesGAN.h5'"
   ]
  },
  {
   "cell_type": "code",
   "execution_count": null,
   "id": "1ff4226b-0a9f-4429-8c8e-765fbf162b7c",
   "metadata": {},
   "outputs": [],
   "source": [
    "### Preparing Data\n",
    "\n",
    "#### Parameters"
   ]
  },
  {
   "cell_type": "code",
   "execution_count": null,
   "id": "1ea0a034-43a9-48fa-93e9-10bd0d1c0807",
   "metadata": {},
   "outputs": [],
   "source": [
    "seq_len = 24\n",
    "\n",
    "n_seq = 6\n",
    "\n",
    "batch_size = 128"
   ]
  },
  {
   "cell_type": "code",
   "execution_count": null,
   "id": "3bc66b3d-f0ed-4656-9e09-16ec68819344",
   "metadata": {},
   "outputs": [],
   "source": [
    "tickers = ['BA', 'CAT', 'DIS', 'GE', 'IBM', 'KO']"
   ]
  },
  {
   "cell_type": "code",
   "execution_count": null,
   "id": "6972377d-96f4-405d-8f38-29d7804d19ef",
   "metadata": {},
   "outputs": [],
   "source": [
    "def select_data():\n",
    "    df = (pd.read_hdf('../data/assets.h5', 'quandl/wiki/prices')\n",
    "          .adj_close\n",
    "          .unstack('ticker')\n",
    "          .loc['2000':, tickers]\n",
    "          .dropna())\n",
    "    df.to_hdf(hdf_store, 'data/real')"
   ]
  },
  {
   "cell_type": "code",
   "execution_count": null,
   "id": "22418398-0814-411f-95e5-50f0ee87aef9",
   "metadata": {},
   "outputs": [],
   "source": [
    "select_data()"
   ]
  },
  {
   "cell_type": "markdown",
   "id": "d6048965-eeb4-41e3-8719-4b8de85c7a7a",
   "metadata": {},
   "source": [
    "#### Plotting Series"
   ]
  },
  {
   "cell_type": "code",
   "execution_count": null,
   "id": "47c22733-1975-4ab5-a597-8c851b9524b3",
   "metadata": {},
   "outputs": [],
   "source": [
    "df = pd.read_hdf(hdf_store, 'data/real')\n",
    "\n",
    "axes = df.div(df.iloc[0]).plot(subplots=True,\n",
    "                               figsize=(14, 6),\n",
    "                               layout=(3, 2),\n",
    "                               title=tickers,\n",
    "                               legend=False,\n",
    "                               rot=0,\n",
    "                               lw=1, \n",
    "                               color='k')\n",
    "for ax in axes.flatten():\n",
    "    ax.set_xlabel('')\n",
    "\n",
    "plt.suptitle('Normalized Price Series')\n",
    "plt.gcf().tight_layout()\n",
    "sns.despine();\n",
    "plt.show()"
   ]
  },
  {
   "cell_type": "markdown",
   "id": "6e5835c8-d071-4e30-87cb-90d5035be53b",
   "metadata": {},
   "source": [
    "### Correlation"
   ]
  },
  {
   "cell_type": "code",
   "execution_count": null,
   "id": "8f5ca4da-0f83-4387-bb18-2e31263e2890",
   "metadata": {},
   "outputs": [],
   "source": [
    "sns.clustermap(df.corr(),\n",
    "               annot=True,\n",
    "               fmt='.2f',\n",
    "               cmap=sns.diverging_palette(h_neg=20,\n",
    "                                          h_pos=220), center=0);\n",
    "\n",
    "plt.show()"
   ]
  },
  {
   "cell_type": "code",
   "execution_count": null,
   "id": "c986c8e3-4e72-4ae8-9129-4ae557c4a0a6",
   "metadata": {},
   "outputs": [],
   "source": [
    "### Normalizing Data"
   ]
  },
  {
   "cell_type": "code",
   "execution_count": null,
   "id": "014abf81-23f7-41b4-96b0-c175ee714417",
   "metadata": {},
   "outputs": [],
   "source": [
    "scaler = MinMaxScaler()\n",
    "\n",
    "scaled_data = scaler.fit_transform(df).astype(np.float32)"
   ]
  },
  {
   "cell_type": "markdown",
   "id": "e499c488-7bb4-4fb3-bb64-d9c838b1ea3f",
   "metadata": {},
   "source": [
    "#### Creating Rolling Window Sequences"
   ]
  },
  {
   "cell_type": "code",
   "execution_count": null,
   "id": "7873a5cc-7466-4ba7-a914-6db7b9436459",
   "metadata": {},
   "outputs": [],
   "source": [
    "data = []\n",
    "\n",
    "for i in range(len(df) - seq_len):\n",
    "    data.append(scaled_data[i:i + seq_len])\n",
    "\n",
    "n_windows = len(data)"
   ]
  },
  {
   "cell_type": "markdown",
   "id": "9c8dae9c-3efc-4c4d-8fbf-cc01be06fa35",
   "metadata": {},
   "source": [
    "#### Create `tf.data.Dataset`"
   ]
  },
  {
   "cell_type": "code",
   "execution_count": null,
   "id": "1553e378-41c2-4a04-b844-58fd9a301b56",
   "metadata": {},
   "outputs": [],
   "source": [
    "real_series = (tf.data.Dataset\n",
    "               .from_tensor_slices(data)\n",
    "               .shuffle(buffer_size=n_windows)\n",
    "               .batch(batch_size))\n",
    "\n",
    "real_series_iter = iter(real_series.repeat())"
   ]
  },
  {
   "cell_type": "markdown",
   "id": "b347b549-5245-40f7-9584-4301213042b5",
   "metadata": {},
   "source": [
    "#### Set Up Random Series Generator"
   ]
  },
  {
   "cell_type": "code",
   "execution_count": null,
   "id": "459d8aeb-06da-40cc-922d-2d1c66a00b7b",
   "metadata": {},
   "outputs": [],
   "source": [
    "def make_random_data():\n",
    "    while True:\n",
    "        yield np.random.uniform(low=0, high=1, size=(seq_len, n_seq))"
   ]
  },
  {
   "cell_type": "code",
   "execution_count": null,
   "id": "48476703-573b-4017-a77a-48c4c51eb0a5",
   "metadata": {},
   "outputs": [],
   "source": [
    "random_series = iter(tf.data.Dataset\n",
    "                     .from_generator(make_random_data, output_types=tf.float32)\n",
    "                     .batch(batch_size)\n",
    "                     .repeat())"
   ]
  },
  {
   "cell_type": "markdown",
   "id": "2334fa31-b9c6-4fc5-82be-9bf18ba5befd",
   "metadata": {},
   "source": [
    "### `TimeGAN` Components\n",
    "\n",
    "#### Network Parameters"
   ]
  },
  {
   "cell_type": "code",
   "execution_count": null,
   "id": "e5c48654-4e77-45c0-b164-287f22d7cbb8",
   "metadata": {},
   "outputs": [],
   "source": [
    "hidden_dim = 24\n",
    "\n",
    "num_layers = 3"
   ]
  },
  {
   "cell_type": "markdown",
   "id": "8bfb67a3-9465-40c9-b2ff-85434093ec52",
   "metadata": {},
   "source": [
    "#### Set Up Logger"
   ]
  },
  {
   "cell_type": "code",
   "execution_count": null,
   "id": "872b3c2a-9fce-4b26-b086-bb625ae0e256",
   "metadata": {},
   "outputs": [],
   "source": [
    "writer = tf.summary.create_file_writer(log_dir.as_posix())"
   ]
  },
  {
   "cell_type": "markdown",
   "id": "d627b561-2eeb-4a74-8a22-7b9c24c3638c",
   "metadata": {},
   "source": [
    "#### Input Place Holders"
   ]
  },
  {
   "cell_type": "code",
   "execution_count": null,
   "id": "798b59e6-6637-45f5-8a1e-7747dd096c73",
   "metadata": {},
   "outputs": [],
   "source": [
    "X = Input(shape=[seq_len, n_seq], name='RealData')\n",
    "\n",
    "Z = Input(shape=[seq_len, n_seq], name='RandomData')"
   ]
  },
  {
   "cell_type": "markdown",
   "id": "899f97cd-111a-4711-baea-903c093b5462",
   "metadata": {},
   "source": [
    "### RNN Block Generator"
   ]
  },
  {
   "cell_type": "code",
   "execution_count": null,
   "id": "19851ce0-657a-41de-9945-672c8254848b",
   "metadata": {},
   "outputs": [],
   "source": [
    "def make_rnn(n_layers, hidden_units, output_units, name):\n",
    "    return Sequential([GRU(units=hidden_units,\n",
    "                           return_sequences=True,\n",
    "                           name=f'GRU_{i + 1}') for i in range(n_layers)] +\n",
    "                      [Dense(units=output_units,\n",
    "                             activation='sigmoid',\n",
    "                             name='OUT')], name=name)"
   ]
  },
  {
   "cell_type": "markdown",
   "id": "69d73c3f-c612-4c05-ab2c-3cad1400eb3f",
   "metadata": {},
   "source": [
    "#### Embedder & Recovery"
   ]
  },
  {
   "cell_type": "code",
   "execution_count": null,
   "id": "1659b177-e218-4537-9ea4-458d5f2da7b8",
   "metadata": {},
   "outputs": [],
   "source": [
    "embedder = make_rnn(n_layers=3, \n",
    "                    hidden_units=hidden_dim, \n",
    "                    output_units=hidden_dim, \n",
    "                    name='Embedder')\n",
    "\n",
    "recovery = make_rnn(n_layers=3, \n",
    "                    hidden_units=hidden_dim, \n",
    "                    output_units=n_seq, \n",
    "                    name='Recovery')"
   ]
  },
  {
   "cell_type": "markdown",
   "id": "8899b778-9803-4993-af78-8866939e9e02",
   "metadata": {},
   "source": [
    "#### Generator & Discriminator"
   ]
  },
  {
   "cell_type": "code",
   "execution_count": null,
   "id": "ed23f5b7-0a70-414d-836f-93a3319d61ad",
   "metadata": {},
   "outputs": [],
   "source": [
    "generator = make_rnn(n_layers=3, \n",
    "                     hidden_units=hidden_dim, \n",
    "                     output_units=hidden_dim, \n",
    "                     name='Generator')\n",
    "\n",
    "discriminator = make_rnn(n_layers=3, \n",
    "                         hidden_units=hidden_dim, \n",
    "                         output_units=1, \n",
    "                         name='Discriminator')\n",
    "\n",
    "supervisor = make_rnn(n_layers=2, \n",
    "                      hidden_units=hidden_dim, \n",
    "                      output_units=hidden_dim, \n",
    "                      name='Supervisor')"
   ]
  },
  {
   "cell_type": "markdown",
   "id": "cad7cb08-765c-486e-b9c6-b117fd94b337",
   "metadata": {},
   "source": [
    "### TimeGAN Training\n",
    "\n",
    "#### Settings"
   ]
  },
  {
   "cell_type": "code",
   "execution_count": null,
   "id": "6450bd09-783a-45f1-b3fd-81ba1a954ed5",
   "metadata": {},
   "outputs": [],
   "source": [
    "train_steps = 10000\n",
    "\n",
    "gamma = 1"
   ]
  },
  {
   "cell_type": "markdown",
   "id": "80cd3f4e-7a65-463c-8c2a-37ce368d95f0",
   "metadata": {},
   "source": [
    "#### Generic Loss Functions"
   ]
  },
  {
   "cell_type": "code",
   "execution_count": null,
   "id": "bf8bcae7-41b6-44b1-abe8-0007f4919537",
   "metadata": {},
   "outputs": [],
   "source": [
    "mse = MeanSquaredError()\n",
    "\n",
    "bce = BinaryCrossentropy()"
   ]
  },
  {
   "cell_type": "markdown",
   "id": "1fd5812a-f690-4f84-914e-f6e2d36ef610",
   "metadata": {},
   "source": [
    "### Phase 1: Autoencoder Training\n",
    "\n",
    "#### Architecture"
   ]
  },
  {
   "cell_type": "code",
   "execution_count": null,
   "id": "d7066ac5-7bee-4432-ad95-c0b26613af25",
   "metadata": {},
   "outputs": [],
   "source": [
    "H = embedder(X)\n",
    "\n",
    "X_tilde = recovery(H)\n",
    "\n",
    "autoencoder = Model(inputs=X,\n",
    "                    outputs=X_tilde,\n",
    "                    name='Autoencoder')"
   ]
  },
  {
   "cell_type": "code",
   "execution_count": null,
   "id": "0888316f-6cbb-48c9-8281-c7161e9982c2",
   "metadata": {},
   "outputs": [],
   "source": [
    "autoencoder.summary()"
   ]
  },
  {
   "cell_type": "code",
   "execution_count": null,
   "id": "61fc6f81-935a-42ec-ba23-f78841cc9cdf",
   "metadata": {},
   "outputs": [],
   "source": [
    "plot_model(autoencoder,\n",
    "           to_file=(results_path / 'autoencoder.png').as_posix(),\n",
    "           show_shapes=True)"
   ]
  },
  {
   "cell_type": "markdown",
   "id": "eca528f5-4b6b-4b4b-b94c-9ffadc4152b4",
   "metadata": {},
   "source": [
    "#### Autoencoder Optimizer"
   ]
  },
  {
   "cell_type": "code",
   "execution_count": null,
   "id": "0840a86f-c7e7-4a8b-9dbc-d495749e4342",
   "metadata": {},
   "outputs": [],
   "source": [
    "autoencoder_optimizer = Adam()"
   ]
  },
  {
   "cell_type": "markdown",
   "id": "256b9663-4aa9-42c5-a7c4-b7cdc416ee34",
   "metadata": {},
   "source": [
    "#### Autoencoder Training Step"
   ]
  },
  {
   "cell_type": "code",
   "execution_count": null,
   "id": "f9cc3365-1fae-44d6-8922-e313bbedebd0",
   "metadata": {},
   "outputs": [],
   "source": [
    "@tf.function\n",
    "def train_autoencoder_init(x):\n",
    "    with tf.GradientTape() as tape:\n",
    "        x_tilde = autoencoder(x)\n",
    "        embedding_loss_t0 = mse(x, x_tilde)\n",
    "        e_loss_0 = 10 * tf.sqrt(embedding_loss_t0)\n",
    "\n",
    "    var_list = embedder.trainable_variables + recovery.trainable_variables\n",
    "    gradients = tape.gradient(e_loss_0, var_list)\n",
    "    autoencoder_optimizer.apply_gradients(zip(gradients, var_list))\n",
    "    return tf.sqrt(embedding_loss_t0)"
   ]
  },
  {
   "cell_type": "markdown",
   "id": "a6b89feb-75ea-4c92-b9aa-413eeb2d18fd",
   "metadata": {},
   "source": [
    "#### Autoencoder Training Loop"
   ]
  },
  {
   "cell_type": "code",
   "execution_count": null,
   "id": "d96d8913-99f3-4a0f-9ee6-5a48062b95b6",
   "metadata": {},
   "outputs": [],
   "source": [
    "for step in tqdm(range(train_steps)):\n",
    "    X_ = next(real_series_iter)\n",
    "    step_e_loss_t0 = train_autoencoder_init(X_)\n",
    "    with writer.as_default():\n",
    "        tf.summary.scalar('Loss Autoencoder Init', step_e_loss_t0, step=step)"
   ]
  },
  {
   "cell_type": "markdown",
   "id": "04fb9d13-3086-4dd9-9519-b75bc88f8c23",
   "metadata": {},
   "source": [
    "#### Persist model"
   ]
  },
  {
   "cell_type": "code",
   "execution_count": null,
   "id": "61e5ffeb-5372-46b0-a98c-b4cc55d54d61",
   "metadata": {},
   "outputs": [],
   "source": [
    "# autoencoder.save(log_dir / 'autoencoder')"
   ]
  },
  {
   "cell_type": "markdown",
   "id": "3aac37b9-60da-4d71-a227-66a29270281e",
   "metadata": {},
   "source": [
    "### Phase 2: Supervised training\n",
    "\n",
    "#### Defining Optimizer"
   ]
  },
  {
   "cell_type": "code",
   "execution_count": null,
   "id": "e84351ff-f676-4e8f-bb17-828051ded586",
   "metadata": {},
   "outputs": [],
   "source": [
    "supervisor_optimizer = Adam()"
   ]
  },
  {
   "cell_type": "markdown",
   "id": "0d585d52-99f6-4362-99f6-37301ebe1d8d",
   "metadata": {},
   "source": [
    "#### Training Step"
   ]
  },
  {
   "cell_type": "code",
   "execution_count": null,
   "id": "0c976ecc-c9ea-40cd-9943-495680ed391b",
   "metadata": {},
   "outputs": [],
   "source": [
    "@tf.function\n",
    "def train_supervisor(x):\n",
    "    with tf.GradientTape() as tape:\n",
    "        h = embedder(x)\n",
    "        h_hat_supervised = supervisor(h)\n",
    "        g_loss_s = mse(h[:, 1:, :], h_hat_supervised[:, :-1, :])\n",
    "\n",
    "    var_list = supervisor.trainable_variables\n",
    "    gradients = tape.gradient(g_loss_s, var_list)\n",
    "    supervisor_optimizer.apply_gradients(zip(gradients, var_list))\n",
    "    return g_loss_s"
   ]
  },
  {
   "cell_type": "markdown",
   "id": "247280ac-5ef8-476a-859d-00e83af91e7a",
   "metadata": {},
   "source": [
    "#### Training Loop"
   ]
  },
  {
   "cell_type": "code",
   "execution_count": null,
   "id": "a18eb335-682c-47a5-8f22-8bd70a49eb51",
   "metadata": {},
   "outputs": [],
   "source": [
    "for step in tqdm(range(train_steps)):\n",
    "    X_ = next(real_series_iter)\n",
    "    step_g_loss_s = train_supervisor(X_)\n",
    "    with writer.as_default():\n",
    "        tf.summary.scalar('Loss Generator Supervised Init', step_g_loss_s, step=step)"
   ]
  },
  {
   "cell_type": "markdown",
   "id": "ee333da9-6e71-4e4a-8b6c-7d8032b67914",
   "metadata": {},
   "source": [
    "#### Persist Model"
   ]
  },
  {
   "cell_type": "code",
   "execution_count": null,
   "id": "e8b8ff8b-198c-4d34-aab7-6afe0038f185",
   "metadata": {},
   "outputs": [],
   "source": [
    "# supervisor.save(log_dir / 'supervisor')"
   ]
  },
  {
   "cell_type": "markdown",
   "id": "f2ffd403-c250-4a06-8f36-12cc988d0f53",
   "metadata": {},
   "source": [
    "### Joint Training\n",
    "\n",
    "#### Generator: Adversarial Architecture - Supervised"
   ]
  },
  {
   "cell_type": "code",
   "execution_count": null,
   "id": "6885e65b-819c-498f-a751-b8f1e2285757",
   "metadata": {},
   "outputs": [],
   "source": [
    "E_hat = generator(Z)\n",
    "H_hat = supervisor(E_hat)\n",
    "Y_fake = discriminator(H_hat)\n",
    "\n",
    "adversarial_supervised = Model(inputs=Z,\n",
    "                               outputs=Y_fake,\n",
    "                               name='AdversarialNetSupervised')"
   ]
  },
  {
   "cell_type": "code",
   "execution_count": null,
   "id": "5952942b-232e-4b8e-8794-846bc0959d15",
   "metadata": {},
   "outputs": [],
   "source": [
    "adversarial_supervised.summary()"
   ]
  },
  {
   "cell_type": "code",
   "execution_count": null,
   "id": "948fde98-0a89-4616-87f5-151c770631b8",
   "metadata": {},
   "outputs": [],
   "source": [
    "plot_model(adversarial_supervised, show_shapes=True)"
   ]
  },
  {
   "cell_type": "markdown",
   "id": "a8581f8d-8fe8-4b58-8ea0-b39edabde510",
   "metadata": {},
   "source": [
    "### Adversarial Architecture in Latent Space"
   ]
  },
  {
   "cell_type": "code",
   "execution_count": null,
   "id": "abeb81cf-132f-4032-8f26-a6b1f63df6a1",
   "metadata": {},
   "outputs": [],
   "source": [
    "Y_fake_e = discriminator(E_hat)\n",
    "\n",
    "adversarial_emb = Model(inputs=Z,\n",
    "                    outputs=Y_fake_e,\n",
    "                    name='AdversarialNet')"
   ]
  },
  {
   "cell_type": "code",
   "execution_count": null,
   "id": "57b0dd2a-6372-4da5-84cf-d669ce954cb9",
   "metadata": {},
   "outputs": [],
   "source": [
    "adversarial_emb.summary()"
   ]
  },
  {
   "cell_type": "code",
   "execution_count": null,
   "id": "50b23a4e-9059-4caa-8006-50a484403b00",
   "metadata": {},
   "outputs": [],
   "source": [
    "plot_model(adversarial_emb, show_shapes=True)"
   ]
  },
  {
   "cell_type": "markdown",
   "id": "900b2e73-0a69-4977-81b2-d9af288a37e0",
   "metadata": {},
   "source": [
    "### Mean & Variance Loss"
   ]
  },
  {
   "cell_type": "code",
   "execution_count": null,
   "id": "69c5f539-c906-4713-a0a5-4787041383a0",
   "metadata": {},
   "outputs": [],
   "source": [
    "X_hat = recovery(H_hat)\n",
    "\n",
    "synthetic_data = Model(inputs=Z,\n",
    "                       outputs=X_hat,\n",
    "                       name='SyntheticData')"
   ]
  },
  {
   "cell_type": "code",
   "execution_count": null,
   "id": "46eaaf0f-33fb-4b3f-9d98-0c6ec792b2ea",
   "metadata": {},
   "outputs": [],
   "source": [
    "synthetic_data.summary()"
   ]
  },
  {
   "cell_type": "code",
   "execution_count": null,
   "id": "685afdc0-be04-4b0a-aac4-7082b9a49755",
   "metadata": {},
   "outputs": [],
   "source": [
    "plot_model(synthetic_data, show_shapes=True)"
   ]
  },
  {
   "cell_type": "code",
   "execution_count": null,
   "id": "b070bee8-5805-4658-a59c-2678be17ef57",
   "metadata": {},
   "outputs": [],
   "source": [
    "def get_generator_moment_loss(y_true, y_pred):\n",
    "    y_true_mean, y_true_var = tf.nn.moments(x=y_true, axes=[0])\n",
    "    y_pred_mean, y_pred_var = tf.nn.moments(x=y_pred, axes=[0])\n",
    "    g_loss_mean = tf.reduce_mean(tf.abs(y_true_mean - y_pred_mean))\n",
    "    g_loss_var = tf.reduce_mean(tf.abs(tf.sqrt(y_true_var + 1e-6) - tf.sqrt(y_pred_var + 1e-6)))\n",
    "    return g_loss_mean + g_loss_var"
   ]
  },
  {
   "cell_type": "markdown",
   "id": "ff4ae3ef-24e0-46b4-b84f-b41b7b6e4224",
   "metadata": {},
   "source": [
    "### Discriminator\n",
    "\n",
    "#### Architecture: Real Data"
   ]
  },
  {
   "cell_type": "code",
   "execution_count": null,
   "id": "b5a1eb76-a976-47b6-b570-1ad2151ae3d5",
   "metadata": {},
   "outputs": [],
   "source": [
    "Y_real = discriminator(H)\n",
    "\n",
    "discriminator_model = Model(inputs=X,\n",
    "                            outputs=Y_real,\n",
    "                            name='DiscriminatorReal')"
   ]
  },
  {
   "cell_type": "code",
   "execution_count": null,
   "id": "246c3d63-f1fe-4f77-bb74-50a6a403a2e7",
   "metadata": {},
   "outputs": [],
   "source": [
    "discriminator_model.summary()"
   ]
  },
  {
   "cell_type": "code",
   "execution_count": null,
   "id": "32a222ca-5bd0-4842-9e5d-9de6824af7c6",
   "metadata": {},
   "outputs": [],
   "source": [
    "plot_model(discriminator_model, show_shapes=True)"
   ]
  },
  {
   "cell_type": "markdown",
   "id": "7b9898f8-489f-4172-8378-40a30819fbc5",
   "metadata": {},
   "source": [
    "#### Optimizers"
   ]
  },
  {
   "cell_type": "code",
   "execution_count": null,
   "id": "fb0ef9a6-3ffc-4ada-9636-e4d328b4c8e4",
   "metadata": {},
   "outputs": [],
   "source": [
    "generator_optimizer = Adam()\n",
    "\n",
    "discriminator_optimizer = Adam()\n",
    "\n",
    "embedding_optimizer = Adam()"
   ]
  },
  {
   "cell_type": "markdown",
   "id": "ec69647e-ef9c-4829-a569-96ca4b191d69",
   "metadata": {},
   "source": [
    "#### Generator Train Step"
   ]
  },
  {
   "cell_type": "code",
   "execution_count": null,
   "id": "a40756ff-ce6b-4142-8a1b-1f1bd82d5919",
   "metadata": {},
   "outputs": [],
   "source": [
    "@tf.function\n",
    "def train_generator(x, z):\n",
    "    with tf.GradientTape() as tape:\n",
    "        y_fake = adversarial_supervised(z)\n",
    "        generator_loss_unsupervised = bce(y_true=tf.ones_like(y_fake),\n",
    "                                          y_pred=y_fake)\n",
    "\n",
    "        y_fake_e = adversarial_emb(z)\n",
    "        generator_loss_unsupervised_e = bce(y_true=tf.ones_like(y_fake_e),\n",
    "                                            y_pred=y_fake_e)\n",
    "        h = embedder(x)\n",
    "        h_hat_supervised = supervisor(h)\n",
    "        generator_loss_supervised = mse(h[:, 1:, :], h_hat_supervised[:, 1:, :])\n",
    "\n",
    "        x_hat = synthetic_data(z)\n",
    "        generator_moment_loss = get_generator_moment_loss(x, x_hat)\n",
    "\n",
    "        generator_loss = (generator_loss_unsupervised +\n",
    "                          generator_loss_unsupervised_e +\n",
    "                          100 * tf.sqrt(generator_loss_supervised) +\n",
    "                          100 * generator_moment_loss)\n",
    "\n",
    "    var_list = generator.trainable_variables + supervisor.trainable_variables\n",
    "    gradients = tape.gradient(generator_loss, var_list)\n",
    "    generator_optimizer.apply_gradients(zip(gradients, var_list))\n",
    "    return generator_loss_unsupervised, generator_loss_supervised, generator_moment_loss"
   ]
  },
  {
   "cell_type": "markdown",
   "id": "a718d306-0019-42cd-9838-9b55d153a941",
   "metadata": {},
   "source": [
    "#### Embedding Train Step"
   ]
  },
  {
   "cell_type": "code",
   "execution_count": null,
   "id": "dfd7d08a-d0fb-4930-ba65-1b9933f4a77e",
   "metadata": {},
   "outputs": [],
   "source": [
    "@tf.function\n",
    "def train_embedder(x):\n",
    "    with tf.GradientTape() as tape:\n",
    "        h = embedder(x)\n",
    "        h_hat_supervised = supervisor(h)\n",
    "        generator_loss_supervised = mse(h[:, 1:, :], h_hat_supervised[:, 1:, :])\n",
    "\n",
    "        x_tilde = autoencoder(x)\n",
    "        embedding_loss_t0 = mse(x, x_tilde)\n",
    "        e_loss = 10 * tf.sqrt(embedding_loss_t0) + 0.1 * generator_loss_supervised\n",
    "\n",
    "    var_list = embedder.trainable_variables + recovery.trainable_variables\n",
    "    gradients = tape.gradient(e_loss, var_list)\n",
    "    embedding_optimizer.apply_gradients(zip(gradients, var_list))\n",
    "    return tf.sqrt(embedding_loss_t0)"
   ]
  },
  {
   "cell_type": "markdown",
   "id": "5c75b467-46b3-414f-90a6-bfc02b77873c",
   "metadata": {},
   "source": [
    "#### Discriminator Train Step"
   ]
  },
  {
   "cell_type": "code",
   "execution_count": null,
   "id": "7044f057-7fa3-4a67-b062-27b4021efeed",
   "metadata": {},
   "outputs": [],
   "source": [
    "@tf.function\n",
    "def get_discriminator_loss(x, z):\n",
    "    y_real = discriminator_model(x)\n",
    "    discriminator_loss_real = bce(y_true=tf.ones_like(y_real),\n",
    "                                  y_pred=y_real)\n",
    "\n",
    "    y_fake = adversarial_supervised(z)\n",
    "    discriminator_loss_fake = bce(y_true=tf.zeros_like(y_fake),\n",
    "                                  y_pred=y_fake)\n",
    "\n",
    "    y_fake_e = adversarial_emb(z)\n",
    "    discriminator_loss_fake_e = bce(y_true=tf.zeros_like(y_fake_e),\n",
    "                                    y_pred=y_fake_e)\n",
    "    return (discriminator_loss_real +\n",
    "            discriminator_loss_fake +\n",
    "            gamma * discriminator_loss_fake_e)"
   ]
  },
  {
   "cell_type": "code",
   "execution_count": null,
   "id": "475ab30d-1c51-4244-b8eb-c5dcaa0f5683",
   "metadata": {},
   "outputs": [],
   "source": [
    "@tf.function\n",
    "def train_discriminator(x, z):\n",
    "    with tf.GradientTape() as tape:\n",
    "        discriminator_loss = get_discriminator_loss(x, z)\n",
    "\n",
    "    var_list = discriminator.trainable_variables\n",
    "    gradients = tape.gradient(discriminator_loss, var_list)\n",
    "    discriminator_optimizer.apply_gradients(zip(gradients, var_list))\n",
    "    return discriminator_loss"
   ]
  },
  {
   "cell_type": "markdown",
   "id": "24f967e8-a08e-491b-ae6f-6559f8d1c847",
   "metadata": {},
   "source": [
    "#### Training Loop"
   ]
  },
  {
   "cell_type": "code",
   "execution_count": null,
   "id": "b4acadf1-64f5-4452-8291-30dc5bd12f86",
   "metadata": {},
   "outputs": [],
   "source": [
    "step_g_loss_u = step_g_loss_s = step_g_loss_v = step_e_loss_t0 = step_d_loss = 0\n",
    "for step in range(train_steps):\n",
    "    # Train generator (twice as often as discriminator)\n",
    "    for kk in range(2):\n",
    "        X_ = next(real_series_iter)\n",
    "        Z_ = next(random_series)\n",
    "\n",
    "        # Train generator\n",
    "        step_g_loss_u, step_g_loss_s, step_g_loss_v = train_generator(X_, Z_)\n",
    "        # Train embedder\n",
    "        step_e_loss_t0 = train_embedder(X_)\n",
    "\n",
    "    X_ = next(real_series_iter)\n",
    "    Z_ = next(random_series)\n",
    "    step_d_loss = get_discriminator_loss(X_, Z_)\n",
    "    if step_d_loss > 0.15:\n",
    "        step_d_loss = train_discriminator(X_, Z_)\n",
    "\n",
    "    if step % 1000 == 0:\n",
    "        print(f'{step:6,.0f} | d_loss: {step_d_loss:6.4f} | g_loss_u: {step_g_loss_u:6.4f} | '\n",
    "              f'g_loss_s: {step_g_loss_s:6.4f} | g_loss_v: {step_g_loss_v:6.4f} | e_loss_t0: {step_e_loss_t0:6.4f}')\n",
    "\n",
    "    with writer.as_default():\n",
    "        tf.summary.scalar('G Loss S', step_g_loss_s, step=step)\n",
    "        tf.summary.scalar('G Loss U', step_g_loss_u, step=step)\n",
    "        tf.summary.scalar('G Loss V', step_g_loss_v, step=step)\n",
    "        tf.summary.scalar('E Loss T0', step_e_loss_t0, step=step)\n",
    "        tf.summary.scalar('D Loss', step_d_loss, step=step)"
   ]
  },
  {
   "cell_type": "markdown",
   "id": "f7b41317-8ebd-4016-94cc-ca67f309bc40",
   "metadata": {},
   "source": [
    "#### Persist Synthetic Data Generator"
   ]
  },
  {
   "cell_type": "code",
   "execution_count": null,
   "id": "e24e56db-21e0-493f-b21a-f8faacb6b766",
   "metadata": {},
   "outputs": [],
   "source": [
    "synthetic_data.save(log_dir / 'synthetic_data')"
   ]
  },
  {
   "cell_type": "markdown",
   "id": "5c60821a-10cd-47a5-84ce-28dde608e494",
   "metadata": {},
   "source": [
    "### Generate Synthetic Data"
   ]
  },
  {
   "cell_type": "code",
   "execution_count": null,
   "id": "e2474582-7b0d-4de7-94a2-a6bfac42a1fa",
   "metadata": {},
   "outputs": [],
   "source": [
    "generated_data = []\n",
    "\n",
    "for i in range(int(n_windows / batch_size)):\n",
    "    Z_ = next(random_series)\n",
    "    d = synthetic_data(Z_)\n",
    "    generated_data.append(d)"
   ]
  },
  {
   "cell_type": "code",
   "execution_count": null,
   "id": "5984a52e-f7c9-4d86-bffa-b6fcbbd45339",
   "metadata": {},
   "outputs": [],
   "source": [
    "len(generated_data)"
   ]
  },
  {
   "cell_type": "code",
   "execution_count": null,
   "id": "160868b6-4336-405f-92f5-8150a9a82fc4",
   "metadata": {},
   "outputs": [],
   "source": [
    "generated_data = np.array(np.vstack(generated_data))\n",
    "\n",
    "generated_data.shape"
   ]
  },
  {
   "cell_type": "code",
   "execution_count": null,
   "id": "1e47255d-c35e-4b03-8758-c1194799ea01",
   "metadata": {},
   "outputs": [],
   "source": [
    "np.save(log_dir / 'generated_data.npy', generated_data)"
   ]
  },
  {
   "cell_type": "markdown",
   "id": "cadd95ac-410e-4c73-8fcd-37bf99e023aa",
   "metadata": {},
   "source": [
    "### Rescaling"
   ]
  },
  {
   "cell_type": "code",
   "execution_count": null,
   "id": "a10a356b-b71a-472c-b34c-97ea8054e4d4",
   "metadata": {},
   "outputs": [],
   "source": [
    "generated_data = (scaler.inverse_transform(generated_data\n",
    "                                           .reshape(-1, n_seq))\n",
    "                  .reshape(-1, seq_len, n_seq))\n",
    "\n",
    "generated_data.shape"
   ]
  },
  {
   "cell_type": "code",
   "execution_count": null,
   "id": "a5bef625-5085-4474-a61a-2692e41deb74",
   "metadata": {},
   "outputs": [],
   "source": [
    "#### Persist Data"
   ]
  },
  {
   "cell_type": "code",
   "execution_count": null,
   "id": "f8f4cdb5-e97e-4fb5-ad29-6021ab2709d3",
   "metadata": {},
   "outputs": [],
   "source": [
    "with pd.HDFStore(hdf_store) as store:\n",
    "    store.put('data/synthetic', pd.DataFrame(generated_data.reshape(-1, n_seq),\n",
    "                                             columns=tickers))"
   ]
  },
  {
   "cell_type": "markdown",
   "id": "32e4d1e4-af66-4349-8717-d78af82b09d9",
   "metadata": {},
   "source": [
    "#### Plotting Sample Series"
   ]
  },
  {
   "cell_type": "code",
   "execution_count": null,
   "id": "38e4b569-3c17-442a-bb6a-544e9204fc52",
   "metadata": {},
   "outputs": [],
   "source": [
    "fig, axes = plt.subplots(nrows=3, ncols=2, figsize=(14, 7))\n",
    "axes = axes.flatten()\n",
    "\n",
    "index = list(range(1, 25))\n",
    "synthetic = generated_data[np.random.randint(n_windows)]\n",
    "\n",
    "idx = np.random.randint(len(df) - seq_len)\n",
    "real = df.iloc[idx: idx + seq_len]\n",
    "\n",
    "for j, ticker in enumerate(tickers):\n",
    "    (pd.DataFrame({'Real': real.iloc[:, j].values,\n",
    "                   'Synthetic': synthetic[:, j]})\n",
    "     .plot(ax=axes[j],\n",
    "           title=ticker,\n",
    "           secondary_y='Synthetic', style=['-', '--'],\n",
    "           lw=1))\n",
    "sns.despine()\n",
    "fig.tight_layout()\n",
    "plt.show()"
   ]
  },
  {
   "cell_type": "code",
   "execution_count": null,
   "id": "0a575e69-1b1a-443c-8f5a-bf9e760991d5",
   "metadata": {},
   "outputs": [],
   "source": []
  },
  {
   "cell_type": "code",
   "execution_count": null,
   "id": "d9cfeeb3-b72f-466e-a3b1-bee1178c89e2",
   "metadata": {},
   "outputs": [],
   "source": []
  },
  {
   "cell_type": "code",
   "execution_count": null,
   "id": "790c2e6e-df4d-44a0-a74d-099fb1cabcee",
   "metadata": {},
   "outputs": [],
   "source": []
  },
  {
   "cell_type": "code",
   "execution_count": null,
   "id": "da8c2b89-9e4d-48cb-8d03-c186287be8c5",
   "metadata": {},
   "outputs": [],
   "source": []
  },
  {
   "cell_type": "code",
   "execution_count": null,
   "id": "6a771de0-05fa-4402-af0e-aa9dc2e50633",
   "metadata": {},
   "outputs": [],
   "source": []
  },
  {
   "cell_type": "code",
   "execution_count": null,
   "id": "133cd8b0-5a82-4400-b6b2-239b28102ac3",
   "metadata": {},
   "outputs": [],
   "source": []
  }
 ],
 "metadata": {
  "kernelspec": {
   "display_name": "Python [conda env:MLAT] *",
   "language": "python",
   "name": "conda-env-MLAT-py"
  },
  "language_info": {
   "codemirror_mode": {
    "name": "ipython",
    "version": 3
   },
   "file_extension": ".py",
   "mimetype": "text/x-python",
   "name": "python",
   "nbconvert_exporter": "python",
   "pygments_lexer": "ipython3",
   "version": "3.12.9"
  }
 },
 "nbformat": 4,
 "nbformat_minor": 5
}
