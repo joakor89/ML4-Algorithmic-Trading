{
 "cells": [
  {
   "cell_type": "markdown",
   "id": "d20c350b-931d-4331-a9f2-c27de610b723",
   "metadata": {},
   "source": [
    "# Normalize Tick Data: Analyze Order Book Data\n",
    "\n",
    "### Loading Libraries"
   ]
  },
  {
   "cell_type": "code",
   "execution_count": 5,
   "id": "bf6f3bb3-117e-4a10-a629-93c591672b7b",
   "metadata": {},
   "outputs": [],
   "source": [
    "# Numerical Computing\n",
    "import numpy as np\n",
    "\n",
    "# Data Manipulation\n",
    "import pandas as pd\n",
    "\n",
    "# Data Visualization\n",
    "import seaborn as sns\n",
    "import matplotlib as mpl\n",
    "import matplotlib.pyplot as plt\n",
    "from bokeh.plotting import figure, show\n",
    "from matplotlib.ticker import FuncFormatter\n",
    "\n",
    "# Warnings\n",
    "import warnings\n",
    "\n",
    "# File Path\n",
    "import gzip\n",
    "from pathlib import Path\n",
    "from urllib.request import urlretrieve\n",
    "from urllib.parse import urljoin\n",
    "\n",
    "# Date & Time\n",
    "from time import time\n",
    "from datetime import timedelta\n",
    "\n",
    "# Collections\n",
    "from collections import namedtuple, Counter, defaultdict\n",
    "\n",
    "# Operating System\n",
    "import os\n",
    "import shutil\n",
    "from struct import unpack"
   ]
  },
  {
   "cell_type": "code",
   "execution_count": 2,
   "id": "dac9f3ff-2be3-4c59-b513-f6db4eee4bc0",
   "metadata": {},
   "outputs": [],
   "source": [
    "%matplotlib inline"
   ]
  },
  {
   "cell_type": "code",
   "execution_count": 3,
   "id": "383eceb9-3ae1-4e65-a04c-7cb14d47215c",
   "metadata": {},
   "outputs": [],
   "source": [
    "warnings.filterwarnings('ignore')"
   ]
  },
  {
   "cell_type": "code",
   "execution_count": 4,
   "id": "d1bce459-a37a-4ae8-bf9f-d11673a99b65",
   "metadata": {},
   "outputs": [],
   "source": [
    "sns.set_style('whitegrid')"
   ]
  },
  {
   "cell_type": "code",
   "execution_count": 8,
   "id": "77a963be-fbdb-4b58-a85a-e875997e4d20",
   "metadata": {},
   "outputs": [],
   "source": [
    "pd.set_option('display.float_format', lambda x: '%.2f' % x)"
   ]
  },
  {
   "cell_type": "code",
   "execution_count": 9,
   "id": "c40ae08f-310c-459e-84e9-39be464a9ef1",
   "metadata": {},
   "outputs": [],
   "source": [
    "data_path = Path('data')\n",
    "itch_store = str(data_path / 'itch.h5')\n",
    "order_book_store = str(data_path / 'order_book.h5')\n",
    "stock = 'AAPL'\n",
    "date = '20191030'\n",
    "title = '{} | {}'.format(stock, pd.to_datetime(date).date())"
   ]
  },
  {
   "cell_type": "markdown",
   "id": "b11045d7-429f-4332-bf0d-b17cb0aae082",
   "metadata": {},
   "source": [
    "### Load System Event Data"
   ]
  },
  {
   "cell_type": "code",
   "execution_count": 11,
   "id": "87b694d2-91da-4d32-a3f4-c7e82441b30d",
   "metadata": {},
   "outputs": [],
   "source": [
    "with pd.HDFStore(itch_store) as store:\n",
    "    sys_events = store['S'].set_index('event_code').drop_duplicates()\n",
    "    sys_events.timestamp = sys_events.timestamp.add(pd.to_datetime(date)).dt.time\n",
    "    market_open = sys_events.loc['Q', 'timestamp']\n",
    "    market_close = sys_events.loc['M', 'timestamp']"
   ]
  },
  {
   "cell_type": "markdown",
   "id": "b4779758-f32e-4125-a52e-f5f12619d025",
   "metadata": {},
   "source": [
    "### Trade Summary"
   ]
  },
  {
   "cell_type": "code",
   "execution_count": 12,
   "id": "3bfb11cc-bc80-4a4e-be41-f4415afcaa5b",
   "metadata": {},
   "outputs": [],
   "source": [
    "with pd.HDFStore(itch_store) as store:\n",
    "    stocks = store['R']\n",
    "\n",
    "stocks.info()"
   ]
  },
  {
   "cell_type": "code",
   "execution_count": 13,
   "id": "2dde473d-c685-43e0-8508-71410f83ceea",
   "metadata": {},
   "outputs": [],
   "source": [
    "with pd.HDFStore(itch_store) as store:\n",
    "    stocks = store['R'].loc[:, ['stock_locate', 'stock']]\n",
    "    trades = store['P'].append(store['Q'].rename(columns={'cross_price': 'price'}), sort=False).merge(stocks)\n",
    "\n",
    "trades['value'] = trades.shares.mul(trades.price)    \n",
    "trades['value_share'] = trades.value.div(trades.value.sum())\n",
    "trade_summary = trades.groupby('stock').value_share.sum().sort_values(ascending=False)\n",
    "trade_summary.iloc[:50].plot.bar(figsize=(14, 6), color='darkblue', title='% of Traded Value')\n",
    "plt.gca().yaxis.set_major_formatter(FuncFormatter(lambda y, _: '{:.0%}'.format(y)))"
   ]
  },
  {
   "cell_type": "markdown",
   "id": "132e6be5-eee2-4fd9-8f60-0e0e25806aa3",
   "metadata": {},
   "source": [
    "### `AAPL` Trade Summary"
   ]
  },
  {
   "cell_type": "code",
   "execution_count": 15,
   "id": "b704b787-c778-4a9b-90d7-71c8943f896f",
   "metadata": {},
   "outputs": [],
   "source": [
    "with pd.HDFStore(order_book_store) as store:\n",
    "    trades = store['{}/trades'.format(stock)]"
   ]
  },
  {
   "cell_type": "code",
   "execution_count": 16,
   "id": "90834bba-b0bc-4d32-8eed-965ca2a747e4",
   "metadata": {},
   "outputs": [],
   "source": [
    "# Format Price\n",
    "trades.price = trades.price.mul(1e-4) \n",
    "trades = trades[trades.cross == 0]\n",
    "trades = trades.between_time(market_open, market_close).drop('cross', axis=1)\n",
    "\n",
    "trades.info()"
   ]
  },
  {
   "cell_type": "markdown",
   "id": "344a77df-5937-4f16-aea2-67cbbdeaa519",
   "metadata": {},
   "source": [
    "### Tick Bars"
   ]
  },
  {
   "cell_type": "code",
   "execution_count": 17,
   "id": "b85d0f7e-0501-40ca-95c2-576c2c5ccadb",
   "metadata": {},
   "outputs": [],
   "source": [
    "tick_bars = trades.copy()\n",
    "tick_bars.index = tick_bars.index.time\n",
    "tick_bars.price.plot(figsize=(10, 5), \n",
    "                     title='Tick Bars | {} | {}'.format(stock, pd.to_datetime(date).date()), lw=1)\n",
    "plt.xlabel('')\n",
    "plt.tight_layout();"
   ]
  },
  {
   "cell_type": "markdown",
   "id": "15eeab66-3f58-40d9-8387-6c5b248f4c2b",
   "metadata": {},
   "source": [
    "#### Test for Normality of Tick Returns"
   ]
  },
  {
   "cell_type": "code",
   "execution_count": 18,
   "id": "bb3001ee-30b0-45ff-badc-e6c268fb320f",
   "metadata": {},
   "outputs": [],
   "source": [
    "normaltest(tick_bars.price.pct_change().dropna())"
   ]
  },
  {
   "cell_type": "markdown",
   "id": "7addfb3a-2fc8-4422-8584-50d68f758cf1",
   "metadata": {},
   "source": [
    "### Regularizing Tick Data\n",
    "\n",
    "#### Price-Volume Chart"
   ]
  },
  {
   "cell_type": "code",
   "execution_count": 20,
   "id": "8843904d-4501-45c9-bdf5-e4d74f42b5b2",
   "metadata": {},
   "outputs": [],
   "source": [
    "def price_volume(df, price='vwap', vol='vol', suptitle=title, fname=None):\n",
    "    \n",
    "    fig, axes = plt.subplots(nrows=2, sharex=True, figsize=(15,8))\n",
    "    axes[0].plot(df.index, df[price])\n",
    "    axes[1].bar(df.index, df[vol], width=1/(5*len(df.index)), color='r')\n",
    "    \n",
    "    # formatting\n",
    "    xfmt = mpl.dates.DateFormatter('%H:%M')\n",
    "    axes[1].xaxis.set_major_locator(mpl.dates.HourLocator(interval=3))\n",
    "    axes[1].xaxis.set_major_formatter(xfmt)\n",
    "    axes[1].get_xaxis().set_tick_params(which='major', pad=25)\n",
    "    axes[0].set_title('Price', fontsize=14)\n",
    "    axes[1].set_title('Volume', fontsize=14)\n",
    "    fig.autofmt_xdate()\n",
    "    fig.suptitle(suptitle)\n",
    "    fig.tight_layout()\n",
    "    plt.subplots_adjust(top=0.9);"
   ]
  },
  {
   "cell_type": "markdown",
   "id": "e86ed365-eb6c-421e-a374-0549faf32bb1",
   "metadata": {},
   "source": [
    "#### Time Bars"
   ]
  },
  {
   "cell_type": "code",
   "execution_count": 21,
   "id": "d807d89c-0d25-4457-baec-c8a7b4a69f51",
   "metadata": {},
   "outputs": [],
   "source": [
    "def get_bar_stats(agg_trades):\n",
    "    vwap = agg_trades.apply(lambda x: np.average(x.price, weights=x.shares)).to_frame('vwap')\n",
    "    ohlc = agg_trades.price.ohlc()\n",
    "    vol = agg_trades.shares.sum().to_frame('vol')\n",
    "    txn = agg_trades.shares.size().to_frame('txn')\n",
    "    return pd.concat([ohlc, vwap, vol, txn], axis=1)"
   ]
  },
  {
   "cell_type": "code",
   "execution_count": 22,
   "id": "58c74249-d0d0-4453-a7f8-b55261b6dee1",
   "metadata": {},
   "outputs": [],
   "source": [
    "resampled = trades.groupby(pd.Grouper(freq='1Min'))\n",
    "time_bars = get_bar_stats(resampled)\n",
    "normaltest(time_bars.vwap.pct_change().dropna())"
   ]
  },
  {
   "cell_type": "code",
   "execution_count": 23,
   "id": "788a01bf-c4c8-4fc1-bce6-e6a1219bef09",
   "metadata": {},
   "outputs": [],
   "source": [
    "price_volume(time_bars, \n",
    "             suptitle=f'Time Bars | {stock} | {pd.to_datetime(date).date()}', \n",
    "             fname='time_bars')"
   ]
  },
  {
   "cell_type": "markdown",
   "id": "7409a952-a2f8-4931-b8f9-e13f80c0d0de",
   "metadata": {},
   "source": [
    "#### Bokeh Candlestick Chart"
   ]
  },
  {
   "cell_type": "code",
   "execution_count": 24,
   "id": "a6d8b418-aee7-40c5-8334-ca32af52ba3d",
   "metadata": {},
   "outputs": [],
   "source": [
    "resampled = trades.groupby(pd.Grouper(freq='5Min')) \n",
    "df = get_bar_stats(resampled)\n",
    "\n",
    "increase = df.close > df.open\n",
    "decrease = df.open > df.close\n",
    "w = 2.5 * 60 * 1000 # 2.5 min in ms\n",
    "\n",
    "WIDGETS = \"pan, wheel_zoom, box_zoom, reset, save\"\n",
    "\n",
    "p = figure(x_axis_type='datetime', tools=WIDGETS, plot_width=1500, title = \"AAPL Candlestick\")\n",
    "p.xaxis.major_label_orientation = pi/4\n",
    "p.grid.grid_line_alpha=0.4\n",
    "\n",
    "p.segment(df.index, df.high, df.index, df.low, color=\"black\")\n",
    "p.vbar(df.index[increase], w, df.open[increase], df.close[increase], fill_color=\"#D5E1DD\", line_color=\"black\")\n",
    "p.vbar(df.index[decrease], w, df.open[decrease], df.close[decrease], fill_color=\"#F2583E\", line_color=\"black\")\n",
    "show(p)"
   ]
  },
  {
   "cell_type": "markdown",
   "id": "9b1dc0e3-203c-460c-916f-13073c1cffe3",
   "metadata": {},
   "source": [
    "#### Volume Bars"
   ]
  },
  {
   "cell_type": "code",
   "execution_count": 25,
   "id": "a464c362-b6fc-4b6b-accb-1e5802b8f4ec",
   "metadata": {},
   "outputs": [],
   "source": [
    "with pd.HDFStore(order_book_store) as store:\n",
    "    trades = store['{}/trades'.format(stock)]\n",
    "\n",
    "trades.price = trades.price.mul(1e-4)\n",
    "trades = trades[trades.cross == 0]\n",
    "trades = trades.between_time(market_open, market_close).drop('cross', axis=1)\n",
    "trades.info()"
   ]
  },
  {
   "cell_type": "code",
   "execution_count": 26,
   "id": "79de6572-efdb-41d4-ac11-dcaa957b2d01",
   "metadata": {},
   "outputs": [],
   "source": [
    "# Min per Trading Day\n",
    "trades_per_min = trades.shares.sum()/(60*7.5) \n",
    "trades['cumul_vol'] = trades.shares.cumsum()"
   ]
  },
  {
   "cell_type": "code",
   "execution_count": 27,
   "id": "baeca6c9-ff5c-45e6-a522-cfd4e774b767",
   "metadata": {},
   "outputs": [],
   "source": [
    "df = trades.reset_index()\n",
    "\n",
    "by_vol = df.groupby(df.cumul_vol.div(trades_per_min).round().astype(int))\n",
    "vol_bars = pd.concat([by_vol.timestamp.last().to_frame('timestamp'), get_bar_stats(by_vol)], axis=1)\n",
    "vol_bars.head()"
   ]
  },
  {
   "cell_type": "code",
   "execution_count": 28,
   "id": "1a517878-2505-403a-a51e-9fceab77964e",
   "metadata": {},
   "outputs": [],
   "source": [
    "price_volume(vol_bars.set_index('timestamp'), \n",
    "             suptitle=f'Volume Bars | {stock} | {pd.to_datetime(date).date()}', \n",
    "             fname='volume_bars')"
   ]
  },
  {
   "cell_type": "code",
   "execution_count": 29,
   "id": "7e4a2e91-9f00-49a9-bfa8-5b885e463e0f",
   "metadata": {},
   "outputs": [],
   "source": [
    "normaltest(vol_bars.vwap.dropna())"
   ]
  },
  {
   "cell_type": "markdown",
   "id": "dce024df-68fa-4ddb-9178-1b61e94777a3",
   "metadata": {},
   "source": [
    "#### Dollar Bars"
   ]
  },
  {
   "cell_type": "code",
   "execution_count": 30,
   "id": "5b806da6-8bb3-45cf-b1b8-317f062528ae",
   "metadata": {},
   "outputs": [],
   "source": [
    "with pd.HDFStore(order_book_store) as store:\n",
    "    trades = store['{}/trades'.format(stock)]\n",
    "\n",
    "trades.price = trades.price.mul(1e-4)\n",
    "trades = trades[trades.cross == 0]\n",
    "trades = trades.between_time(market_open, market_close).drop('cross', axis=1)\n",
    "trades.info()"
   ]
  },
  {
   "cell_type": "code",
   "execution_count": 31,
   "id": "fb38760e-ee3d-40e9-8a35-c51d33a419dd",
   "metadata": {},
   "outputs": [],
   "source": [
    "# Min per Trading Day\n",
    "value_per_min = trades.shares.mul(trades.price).sum()/(60*7.5)\n",
    "trades['cumul_val'] = trades.shares.mul(trades.price).cumsum()"
   ]
  },
  {
   "cell_type": "code",
   "execution_count": 32,
   "id": "136f9ffa-e565-4d0f-89af-36e935adbca1",
   "metadata": {},
   "outputs": [],
   "source": [
    "df = trades.reset_index()\n",
    "by_value = df.groupby(df.cumul_val.div(value_per_min).round().astype(int))\n",
    "dollar_bars = pd.concat([by_value.timestamp.last().to_frame('timestamp'), get_bar_stats(by_value)], axis=1)\n",
    "dollar_bars.head()"
   ]
  },
  {
   "cell_type": "code",
   "execution_count": 34,
   "id": "8a7f9889-4a6e-4aaa-a83b-b481576e5a95",
   "metadata": {},
   "outputs": [],
   "source": [
    "price_volume(dollar_bars.set_index('timestamp'), \n",
    "             suptitle=f'Dollar Bars | {stock} | {pd.to_datetime(date).date()}', \n",
    "             fname='dollar_bars')"
   ]
  },
  {
   "cell_type": "code",
   "execution_count": null,
   "id": "fe4c6bb5-9907-4f0f-b7d8-6d78ab31a043",
   "metadata": {},
   "outputs": [],
   "source": []
  }
 ],
 "metadata": {
  "kernelspec": {
   "display_name": "Python 3 (ipykernel)",
   "language": "python",
   "name": "python3"
  },
  "language_info": {
   "codemirror_mode": {
    "name": "ipython",
    "version": 3
   },
   "file_extension": ".py",
   "mimetype": "text/x-python",
   "name": "python",
   "nbconvert_exporter": "python",
   "pygments_lexer": "ipython3",
   "version": "3.12.9"
  }
 },
 "nbformat": 4,
 "nbformat_minor": 5
}
