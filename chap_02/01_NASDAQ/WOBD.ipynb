{
 "cells": [
  {
   "cell_type": "markdown",
   "id": "51ffa39a-b090-4725-980e-41846d52f969",
   "metadata": {},
   "source": [
    "# Working with Order Book Data\n",
    "\n",
    "### Loading Libraries"
   ]
  },
  {
   "cell_type": "code",
   "execution_count": 2,
   "id": "fe7e703b-76d1-4263-a1cc-934ee84575c0",
   "metadata": {},
   "outputs": [],
   "source": [
    "# Numerical Computing\n",
    "import numpy as np\n",
    "\n",
    "# Data Manipulation\n",
    "import pandas as pd\n",
    "\n",
    "# Data Visualization\n",
    "import seaborn as sns\n",
    "import matplotlib.pyplot as plt\n",
    "from matplotlib.ticker import FuncFormatter\n",
    "\n",
    "# Warnings\n",
    "import warnings\n",
    "\n",
    "# File Path\n",
    "import gzip\n",
    "from pathlib import Path\n",
    "from urllib.request import urlretrieve\n",
    "from urllib.parse import urljoin\n",
    "\n",
    "# Date & Time\n",
    "from time import time\n",
    "from datetime import timedelta\n",
    "\n",
    "# Collections\n",
    "from collections import namedtuple, Counter, defaultdict\n",
    "\n",
    "# Operating System\n",
    "import os\n",
    "import shutil\n",
    "from struct import unpack"
   ]
  },
  {
   "cell_type": "code",
   "execution_count": 3,
   "id": "6379b742-5f9b-4cab-85c0-87b790fa9f7f",
   "metadata": {},
   "outputs": [],
   "source": [
    "%matplotlib inline"
   ]
  },
  {
   "cell_type": "code",
   "execution_count": 4,
   "id": "3d5b6e08-c637-4e37-9168-171491635ec2",
   "metadata": {},
   "outputs": [],
   "source": [
    "warnings.filterwarnings('ignore')"
   ]
  },
  {
   "cell_type": "code",
   "execution_count": 5,
   "id": "45b3d5b6-bdd1-48e3-bcb4-7478e457fdc0",
   "metadata": {},
   "outputs": [],
   "source": [
    "sns.set_style('whitegrid')"
   ]
  },
  {
   "cell_type": "code",
   "execution_count": 6,
   "id": "e5930597-d280-4547-a3c2-8db4c24c6562",
   "metadata": {},
   "outputs": [],
   "source": [
    "def format_time(t):\n",
    "    \"\"\"Return a formatted time string 'HH:MM:SS\n",
    "    based on a numeric time() value\"\"\"\n",
    "    m, s = divmod(t, 60)\n",
    "    h, m = divmod(m, 60)\n",
    "    return f'{h:0>2.0f}:{m:0>2.0f}:{s:0>2.0f}'"
   ]
  },
  {
   "cell_type": "markdown",
   "id": "f38caa44-253d-40b9-b390-1190fab53ce7",
   "metadata": {},
   "source": [
    "#### Set Data Paths"
   ]
  },
  {
   "cell_type": "code",
   "execution_count": 7,
   "id": "1337ff73-f341-425b-9e93-1564c13da3f1",
   "metadata": {},
   "outputs": [],
   "source": [
    "data_path = Path('data') \n",
    "\n",
    "itch_store = str(data_path / 'itch.h5')\n",
    "\n",
    "order_book_store = data_path / 'order_book.h5'\n",
    "\n",
    "date = '10302019'"
   ]
  },
  {
   "cell_type": "markdown",
   "id": "3ce903c4-9744-4b35-a8bc-8da2f6ca81aa",
   "metadata": {},
   "source": [
    "### Build Order Book"
   ]
  },
  {
   "cell_type": "code",
   "execution_count": 8,
   "id": "5d9ee86f-62e3-41c1-8354-dcb5d02f0edc",
   "metadata": {},
   "outputs": [],
   "source": [
    "stock = 'AAPL'\n",
    "\n",
    "order_dict = {-1: 'sell', 1: 'buy'}"
   ]
  },
  {
   "cell_type": "markdown",
   "id": "961c7693-0262-4902-9c18-21290e83e2c5",
   "metadata": {},
   "source": [
    "### Get All Messages for Given Stock"
   ]
  },
  {
   "cell_type": "code",
   "execution_count": 9,
   "id": "9abbd784-4196-434b-bfc4-f6454805cb5b",
   "metadata": {},
   "outputs": [],
   "source": [
    "def get_messages(date, stock=stock):\n",
    "    \"\"\"Collect trading messages for given stock\"\"\"\n",
    "    with pd.HDFStore(itch_store) as store:\n",
    "        stock_locate = store.select('R', where='stock = stock').stock_locate.iloc[0]\n",
    "        target = 'stock_locate = stock_locate'\n",
    "\n",
    "        data = {}\n",
    "        # Trading Message Types\n",
    "        messages = ['A', 'F', 'E', 'C', 'X', 'D', 'U', 'P', 'Q']\n",
    "        for m in messages:\n",
    "            data[m] = store.select(m, where=target).drop('stock_locate', axis=1).assign(type=m)\n",
    "\n",
    "    order_cols = ['order_reference_number', 'buy_sell_indicator', 'shares', 'price']\n",
    "    orders = pd.concat([data['A'], data['F']], sort=False, ignore_index=True).loc[:, order_cols]\n",
    "\n",
    "    for m in messages[2: -3]:\n",
    "        data[m] = data[m].merge(orders, how='left')\n",
    "\n",
    "    data['U'] = data['U'].merge(orders, how='left',\n",
    "                                right_on='order_reference_number',\n",
    "                                left_on='original_order_reference_number',\n",
    "                                suffixes=['', '_replaced'])\n",
    "\n",
    "    data['Q'].rename(columns={'cross_price': 'price'}, inplace=True)\n",
    "    data['X']['shares'] = data['X']['cancelled_shares']\n",
    "    data['X'] = data['X'].dropna(subset=['price'])\n",
    "\n",
    "    data = pd.concat([data[m] for m in messages], ignore_index=True, sort=False)\n",
    "    data['date'] = pd.to_datetime(date, format='%m%d%Y')\n",
    "    data.timestamp = data['date'].add(data.timestamp)\n",
    "    data = data[data.printable != 0]\n",
    "\n",
    "    drop_cols = ['tracking_number', 'order_reference_number', 'original_order_reference_number',\n",
    "                 'cross_type', 'new_order_reference_number', 'attribution', 'match_number',\n",
    "                 'printable', 'date', 'cancelled_shares']\n",
    "    return data.drop(drop_cols, axis=1).sort_values('timestamp').reset_index(drop=True)"
   ]
  },
  {
   "cell_type": "code",
   "execution_count": 10,
   "id": "4f83fdf6-2bd6-428f-8bf2-466683c7456a",
   "metadata": {},
   "outputs": [],
   "source": [
    "messages = get_messages(date=date)\n",
    "\n",
    "messages.info(null_counts=True)"
   ]
  },
  {
   "cell_type": "code",
   "execution_count": 13,
   "id": "139d0e51-d104-4fdd-8d01-1f731b16c0df",
   "metadata": {},
   "outputs": [],
   "source": [
    "with pd.HDFStore(order_book_store) as store:\n",
    "    key = f'{stock}/messages'\n",
    "    store.put(key, messages)\n",
    "    print(store.info())"
   ]
  },
  {
   "cell_type": "markdown",
   "id": "06d8de91-412b-4cb3-9658-13f68843a0f2",
   "metadata": {},
   "source": [
    "### Combine Trading Records"
   ]
  },
  {
   "cell_type": "code",
   "execution_count": 14,
   "id": "f35c0b8b-681a-4551-a343-d744ea0dbee2",
   "metadata": {},
   "outputs": [],
   "source": [
    "def get_trades(m):\n",
    "    \"\"\"Combine C, E, P and Q messages into trading records\"\"\"\n",
    "    trade_dict = {'executed_shares': 'shares', 'execution_price': 'price'}\n",
    "    cols = ['timestamp', 'executed_shares']\n",
    "    trades = pd.concat([m.loc[m.type == 'E', cols + ['price']].rename(columns=trade_dict),\n",
    "                        m.loc[m.type == 'C', cols + ['execution_price']].rename(columns=trade_dict),\n",
    "                        m.loc[m.type == 'P', ['timestamp', 'price', 'shares']],\n",
    "                        m.loc[m.type == 'Q', ['timestamp', 'price', 'shares']].assign(cross=1),\n",
    "                        ], sort=False).dropna(subset=['price']).fillna(0)\n",
    "    return trades.set_index('timestamp').sort_index().astype(int)"
   ]
  },
  {
   "cell_type": "code",
   "execution_count": 15,
   "id": "ba72ec6f-bcba-49c9-8c25-7e0786b6ac6d",
   "metadata": {},
   "outputs": [],
   "source": [
    "trades = get_trades(messages)\n",
    "print(trades.info())"
   ]
  },
  {
   "cell_type": "code",
   "execution_count": 16,
   "id": "b5448be5-07f4-4c73-9ddb-a803b3975edd",
   "metadata": {},
   "outputs": [],
   "source": [
    "with pd.HDFStore(order_book_store) as store:\n",
    "    store.put(f'{stock}/trades', trades)"
   ]
  },
  {
   "cell_type": "markdown",
   "id": "0a464b9f-26cc-40f7-bbc6-c9f98d3f47a8",
   "metadata": {},
   "source": [
    "### Create Orders"
   ]
  },
  {
   "cell_type": "code",
   "execution_count": 17,
   "id": "ac4ff1ab-5cb1-47ad-9a6f-912028f1bf41",
   "metadata": {},
   "outputs": [],
   "source": [
    "def add_orders(orders, buysell, nlevels):\n",
    "    \"\"\"Add orders up to desired depth given by nlevels;\n",
    "        sell in ascending, buy in descending order\n",
    "    \"\"\"\n",
    "    new_order = []\n",
    "    items = sorted(orders.copy().items())\n",
    "    if buysell == 1:\n",
    "        items = reversed(items)  \n",
    "    for i, (p, s) in enumerate(items, 1):\n",
    "        new_order.append((p, s))\n",
    "        if i == nlevels:\n",
    "            break\n",
    "    return orders, new_order"
   ]
  },
  {
   "cell_type": "code",
   "execution_count": 18,
   "id": "99fb262c-8490-4645-92c2-e490ba391ebf",
   "metadata": {},
   "outputs": [],
   "source": [
    "def save_orders(orders, append=False):\n",
    "    cols = ['price', 'shares']\n",
    "    for buysell, book in orders.items():\n",
    "        df = (pd.concat([pd.DataFrame(data=data,\n",
    "                                     columns=cols)\n",
    "                         .assign(timestamp=t) \n",
    "                         for t, data in book.items()]))\n",
    "        key = f'{stock}/{order_dict[buysell]}'\n",
    "        df.loc[:, ['price', 'shares']] = df.loc[:, ['price', 'shares']].astype(int)\n",
    "        with pd.HDFStore(order_book_store) as store:\n",
    "            if append:\n",
    "                store.append(key, df.set_index('timestamp'), format='t')\n",
    "            else:\n",
    "                store.put(key, df.set_index('timestamp'))"
   ]
  },
  {
   "cell_type": "code",
   "execution_count": 19,
   "id": "2be38e43-aaec-42f1-8d4b-16225447a880",
   "metadata": {},
   "outputs": [],
   "source": [
    "order_book = {-1: {}, 1: {}}\n",
    "current_orders = {-1: Counter(), 1: Counter()}\n",
    "message_counter = Counter()\n",
    "nlevels = 100\n",
    "\n",
    "start = time()\n",
    "for message in messages.itertuples():\n",
    "    i = message[0]\n",
    "    if i % 1e5 == 0 and i > 0:\n",
    "        print(f'{i:,.0f}\\t\\t{format_time(time() - start)}')\n",
    "        save_orders(order_book, append=True)\n",
    "        order_book = {-1: {}, 1: {}}\n",
    "        start = time()\n",
    "    if np.isnan(message.buy_sell_indicator):\n",
    "        continue\n",
    "    message_counter.update(message.type)\n",
    "\n",
    "    buysell = message.buy_sell_indicator\n",
    "    price, shares = None, None\n",
    "\n",
    "    if message.type in ['A', 'F', 'U']:\n",
    "        price = int(message.price)\n",
    "        shares = int(message.shares)\n",
    "\n",
    "        current_orders[buysell].update({price: shares})\n",
    "        current_orders[buysell], new_order = add_orders(current_orders[buysell], buysell, nlevels)\n",
    "        order_book[buysell][message.timestamp] = new_order\n",
    "\n",
    "    if message.type in ['E', 'C', 'X', 'D', 'U']:\n",
    "        if message.type == 'U':\n",
    "            if not np.isnan(message.shares_replaced):\n",
    "                price = int(message.price_replaced)\n",
    "                shares = -int(message.shares_replaced)\n",
    "        else:\n",
    "            if not np.isnan(message.price):\n",
    "                price = int(message.price)\n",
    "                shares = -int(message.shares)\n",
    "\n",
    "        if price is not None:\n",
    "            current_orders[buysell].update({price: shares})\n",
    "            if current_orders[buysell][price] <= 0:\n",
    "                current_orders[buysell].pop(price)\n",
    "            current_orders[buysell], new_order = add_orders(current_orders[buysell], buysell, nlevels)\n",
    "            order_book[buysell][message.timestamp] = new_order"
   ]
  },
  {
   "cell_type": "code",
   "execution_count": 20,
   "id": "892c2808-d7d1-4008-8d7d-9947ad1e1e1c",
   "metadata": {},
   "outputs": [],
   "source": [
    "message_counter = pd.Series(message_counter)\n",
    "\n",
    "print(message_counter)"
   ]
  },
  {
   "cell_type": "code",
   "execution_count": 21,
   "id": "c9db9805-239a-4b05-9f4d-23a646755a95",
   "metadata": {},
   "outputs": [],
   "source": [
    "with pd.HDFStore(order_book_store) as store:\n",
    "    print(store.info())"
   ]
  },
  {
   "cell_type": "markdown",
   "id": "76179f25-f06a-46d3-b6d0-b4428f232ad8",
   "metadata": {},
   "source": [
    "### Order Book Depth"
   ]
  },
  {
   "cell_type": "code",
   "execution_count": 22,
   "id": "37b9b298-de1f-4cf7-9f3f-0f93c25156cc",
   "metadata": {},
   "outputs": [],
   "source": [
    "with pd.HDFStore(order_book_store) as store:\n",
    "    buy = store[f'{stock}/buy'].reset_index().drop_duplicates()\n",
    "    sell = store[f'{stock}/sell'].reset_index().drop_duplicates()"
   ]
  },
  {
   "cell_type": "markdown",
   "id": "2d5adf25-556a-4c4f-bb35-de41280112a8",
   "metadata": {},
   "source": [
    "#### Price to Decimals"
   ]
  },
  {
   "cell_type": "code",
   "execution_count": 23,
   "id": "67070de1-61c7-4fff-93af-10c48aac444a",
   "metadata": {},
   "outputs": [],
   "source": [
    "buy.price = buy.price.mul(1e-4)\n",
    "\n",
    "sell.price = sell.price.mul(1e-4)"
   ]
  },
  {
   "cell_type": "markdown",
   "id": "b13b508f-ba9c-4e71-9074-ff9d36d314aa",
   "metadata": {},
   "source": [
    "### Remove Outliers"
   ]
  },
  {
   "cell_type": "code",
   "execution_count": 24,
   "id": "517b60c2-75a8-484c-8f0c-fb47e85c06cd",
   "metadata": {},
   "outputs": [],
   "source": [
    "percentiles = [.01, .02, .1, .25, .75, .9, .98, .99]\n",
    "\n",
    "pd.concat([buy.price.describe(percentiles=percentiles).to_frame('buy'),\n",
    "           sell.price.describe(percentiles=percentiles).to_frame('sell')], axis=1)"
   ]
  },
  {
   "cell_type": "code",
   "execution_count": 25,
   "id": "2b346432-848a-47ec-af12-dfcf974d4162",
   "metadata": {},
   "outputs": [],
   "source": [
    "buy = buy[buy.price > buy.price.quantile(.01)]\n",
    "\n",
    "sell = sell[sell.price < sell.price.quantile(.99)]"
   ]
  },
  {
   "cell_type": "markdown",
   "id": "efde1cd8-6dea-4bb0-b988-d79a1555a3b3",
   "metadata": {},
   "source": [
    "### Buy-Sell Order Distribution"
   ]
  },
  {
   "cell_type": "code",
   "execution_count": 26,
   "id": "3114d245-08a5-437b-a35f-69d98de58bf9",
   "metadata": {},
   "outputs": [],
   "source": [
    "market_open='0930'\n",
    "\n",
    "market_close = '1600'"
   ]
  },
  {
   "cell_type": "code",
   "execution_count": 27,
   "id": "3e8acc73-4cc3-491b-b3e3-67759adc60fb",
   "metadata": {},
   "outputs": [],
   "source": [
    "fig, ax = plt.subplots(figsize=(7,5))\n",
    "hist_kws = {'linewidth': 1, 'alpha': .5}\n",
    "sns.distplot(buy[buy.price.between(240, 250)].set_index('timestamp').between_time(market_open, market_close).price, \n",
    "             ax=ax, label='Buy', kde=False, hist_kws=hist_kws)\n",
    "sns.distplot(sell[sell.price.between(240, 250)].set_index('timestamp').between_time(market_open, market_close).price, \n",
    "             ax=ax, label='Sell', kde=False, hist_kws=hist_kws)\n",
    "\n",
    "ax.legend(fontsize=10)\n",
    "ax.set_title('Limit Order Price Distribution')\n",
    "ax.set_yticklabels([f'{int(y/1000):,}' for y in ax.get_yticks().tolist()])\n",
    "ax.set_xticklabels([f'${int(x):,}' for x in ax.get_xticks().tolist()])\n",
    "ax.set_xlabel('Price')\n",
    "ax.set_ylabel('Shares (\\'000)')\n",
    "sns.despine()\n",
    "fig.tight_layout();"
   ]
  },
  {
   "cell_type": "markdown",
   "id": "5ea0382e-e4a4-4a6f-a32b-129784c6d890",
   "metadata": {},
   "source": [
    "### Order Book Depth"
   ]
  },
  {
   "cell_type": "code",
   "execution_count": 28,
   "id": "944504d0-fcbc-4555-8c26-ef9bd9f6a5bb",
   "metadata": {},
   "outputs": [],
   "source": [
    "utc_offset = timedelta(hours=4)\n",
    "\n",
    "depth = 100"
   ]
  },
  {
   "cell_type": "code",
   "execution_count": 29,
   "id": "e1c9fe6d-401a-4fa0-aa01-6f755ff92074",
   "metadata": {},
   "outputs": [],
   "source": [
    "buy_per_min = (buy\n",
    "               .groupby([pd.Grouper(key='timestamp', freq='Min'), 'price'])\n",
    "               .shares\n",
    "               .sum()\n",
    "               .apply(np.log)\n",
    "               .to_frame('shares')\n",
    "               .reset_index('price')\n",
    "               .between_time(market_open, market_close)\n",
    "               .groupby(level='timestamp', as_index=False, group_keys=False)\n",
    "               .apply(lambda x: x.nlargest(columns='price', n=depth))\n",
    "               .reset_index())\n",
    "\n",
    "buy_per_min.timestamp = buy_per_min.timestamp.add(utc_offset).astype(int)\n",
    "buy_per_min.info()"
   ]
  },
  {
   "cell_type": "code",
   "execution_count": 30,
   "id": "1a3c21fa-03f2-42d8-b0a7-cd051b9c28f0",
   "metadata": {},
   "outputs": [],
   "source": [
    "sell_per_min = (sell\n",
    "                .groupby([pd.Grouper(key='timestamp', freq='Min'), 'price'])\n",
    "                .shares\n",
    "                .sum()\n",
    "                .apply(np.log)\n",
    "                .to_frame('shares')\n",
    "                .reset_index('price')\n",
    "                .between_time(market_open, market_close)\n",
    "                .groupby(level='timestamp', as_index=False, group_keys=False)\n",
    "                .apply(lambda x: x.nsmallest(columns='price', n=depth))\n",
    "                .reset_index())\n",
    "\n",
    "sell_per_min.timestamp = sell_per_min.timestamp.add(utc_offset).astype(int)\n",
    "sell_per_min.info()"
   ]
  },
  {
   "cell_type": "code",
   "execution_count": 31,
   "id": "14277a89-a7ac-4f89-8e64-00d13cd57f1c",
   "metadata": {},
   "outputs": [],
   "source": [
    "with pd.HDFStore(order_book_store) as store:\n",
    "    trades = store[f'{stock}/trades']\n",
    "trades.price = trades.price.mul(1e-4)\n",
    "trades = trades[trades.cross == 0].between_time(market_open, market_close)\n",
    "\n",
    "trades_per_min = (trades\n",
    "                  .resample('Min')\n",
    "                  .agg({'price': 'mean', 'shares': 'sum'}))\n",
    "\n",
    "trades_per_min.index = trades_per_min.index.to_series().add(utc_offset).astype(int)\n",
    "trades_per_min.info()"
   ]
  },
  {
   "cell_type": "code",
   "execution_count": 32,
   "id": "2e95e5f1-6d5a-485d-b587-15f601d2095d",
   "metadata": {},
   "outputs": [],
   "source": [
    "sns.set_style('white')\n",
    "fig, ax = plt.subplots(figsize=(14, 6))\n",
    "\n",
    "buy_per_min.plot.scatter(x='timestamp',\n",
    "                         y='price', \n",
    "                         c='shares', \n",
    "                         ax=ax, \n",
    "                         colormap='Blues', \n",
    "                         colorbar=False, \n",
    "                         alpha=.25)\n",
    "\n",
    "sell_per_min.plot.scatter(x='timestamp',\n",
    "                          y='price', \n",
    "                          c='shares', \n",
    "                          ax=ax, \n",
    "                          colormap='Reds', \n",
    "                          colorbar=False, \n",
    "                          alpha=.25)\n",
    "\n",
    "title = f'AAPL | {date} | Buy & Sell Limit Order Book | Depth = {depth}'\n",
    "trades_per_min.price.plot(figsize=(14, 8), \n",
    "                          c='k', \n",
    "                          ax=ax, \n",
    "                          lw=2, \n",
    "                          title=title)\n",
    "\n",
    "xticks = [datetime.fromtimestamp(ts / 1e9).strftime('%H:%M') for ts in ax.get_xticks()]\n",
    "ax.set_xticklabels(xticks)\n",
    "\n",
    "ax.set_xlabel('')\n",
    "ax.set_ylabel('Price', fontsize=12)\n",
    "\n",
    "red_patch = mpatches.Patch(color='red', label='Sell')\n",
    "blue_patch = mpatches.Patch(color='royalblue', label='Buy')\n",
    "\n",
    "plt.legend(handles=[red_patch, blue_patch])\n",
    "sns.despine()\n",
    "fig.tight_layout()"
   ]
  },
  {
   "cell_type": "code",
   "execution_count": null,
   "id": "cbdbd031-f96d-4a53-bd00-3e04f9a3d6fb",
   "metadata": {},
   "outputs": [],
   "source": []
  }
 ],
 "metadata": {
  "kernelspec": {
   "display_name": "Python 3 (ipykernel)",
   "language": "python",
   "name": "python3"
  },
  "language_info": {
   "codemirror_mode": {
    "name": "ipython",
    "version": 3
   },
   "file_extension": ".py",
   "mimetype": "text/x-python",
   "name": "python",
   "nbconvert_exporter": "python",
   "pygments_lexer": "ipython3",
   "version": "3.12.9"
  }
 },
 "nbformat": 4,
 "nbformat_minor": 5
}
