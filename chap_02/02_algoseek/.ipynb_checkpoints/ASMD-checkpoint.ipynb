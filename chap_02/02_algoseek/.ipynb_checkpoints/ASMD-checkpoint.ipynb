{
 "cells": [
  {
   "cell_type": "markdown",
   "id": "5b0dd14a-09b2-430b-a2f6-308f87fe78f0",
   "metadata": {},
   "source": [
    "# AlgoSeek Minute Data\n",
    "\n",
    "### Loading Libraries"
   ]
  },
  {
   "cell_type": "code",
   "execution_count": 20,
   "id": "3edb737b-a901-43ba-9bb8-b301cfbcca7f",
   "metadata": {},
   "outputs": [],
   "source": [
    "# Numerical Computing\n",
    "import numpy as np\n",
    "\n",
    "# Data Manipulation\n",
    "import pandas as pd\n",
    "\n",
    "# Data Visualization\n",
    "import seaborn as sns\n",
    "import matplotlib.pyplot as plt\n",
    "from matplotlib.ticker import FuncFormatter\n",
    "\n",
    "# Warnings\n",
    "import warnings\n",
    "\n",
    "# File Path\n",
    "import gzip\n",
    "from pathlib import Path\n",
    "from urllib.request import urlretrieve\n",
    "from urllib.parse import urljoin\n",
    "\n",
    "# Date & Time\n",
    "from time import time\n",
    "from datetime import timedelta\n",
    "\n",
    "# Collections\n",
    "from collections import namedtuple, Counter, defaultdict\n",
    "\n",
    "# Operating System\n",
    "import os\n",
    "import shutil\n",
    "from struct import unpack\n",
    "\n",
    "# Notebook Optimization\n",
    "from tqdm import tqdm"
   ]
  },
  {
   "cell_type": "code",
   "execution_count": 21,
   "id": "b04fabd3-5257-4686-93d1-b1dc86bb0de9",
   "metadata": {},
   "outputs": [],
   "source": [
    "%matplotlib inline"
   ]
  },
  {
   "cell_type": "code",
   "execution_count": 22,
   "id": "442b98ec-ea74-4e98-859a-1991ce3e5104",
   "metadata": {},
   "outputs": [],
   "source": [
    "warnings.filterwarnings('ignore')"
   ]
  },
  {
   "cell_type": "code",
   "execution_count": 23,
   "id": "d0ec33a6-ff55-4fc7-8460-2406187ecfb3",
   "metadata": {},
   "outputs": [],
   "source": [
    "sns.set_style('whitegrid')"
   ]
  },
  {
   "cell_type": "code",
   "execution_count": 24,
   "id": "73a6762c-733e-4505-97f5-3fb8a47e3f2f",
   "metadata": {},
   "outputs": [],
   "source": [
    "idx = pd.IndexSlice"
   ]
  },
  {
   "cell_type": "markdown",
   "id": "592ce709-7e0e-4524-b245-db7f3b60092c",
   "metadata": {},
   "source": [
    "## Algoseek Trade & Quote Minute Bar Data\n",
    "\n",
    "#### Data Dictionary"
   ]
  },
  {
   "cell_type": "code",
   "execution_count": 25,
   "id": "a4917a78-c37f-4439-9129-986db8a6b13a",
   "metadata": {},
   "outputs": [],
   "source": [
    "tcols = ['openbartime',\n",
    "         'firsttradetime',\n",
    "         'highbidtime',\n",
    "         'highasktime',\n",
    "         'hightradetime',\n",
    "         'lowbidtime',\n",
    "         'lowasktime',\n",
    "         'lowtradetime',\n",
    "         'closebartime',\n",
    "         'lasttradetime']"
   ]
  },
  {
   "cell_type": "code",
   "execution_count": 26,
   "id": "a42a633d-e90e-47db-ae3d-ef9a2842012a",
   "metadata": {},
   "outputs": [],
   "source": [
    "drop_cols = ['unknowntickvolume',\n",
    "             'cancelsize',\n",
    "             'tradeatcrossorlocked']"
   ]
  },
  {
   "cell_type": "code",
   "execution_count": 27,
   "id": "d3bddaab-be22-4656-9854-0d8bdd83ee9d",
   "metadata": {},
   "outputs": [],
   "source": [
    "keep = ['firsttradeprice',\n",
    "        'hightradeprice',\n",
    "        'lowtradeprice',\n",
    "        'lasttradeprice',\n",
    "        'minspread',\n",
    "        'maxspread',\n",
    "        'volumeweightprice',\n",
    "        'nbboquotecount',\n",
    "        'tradeatbid',\n",
    "        'tradeatbidmid',\n",
    "        'tradeatmid',\n",
    "        'tradeatmidask',\n",
    "        'tradeatask',\n",
    "        'volume',\n",
    "        'totaltrades',\n",
    "        'finravolume',\n",
    "        'finravolumeweightprice',\n",
    "        'uptickvolume',\n",
    "        'downtickvolume',\n",
    "        'repeatuptickvolume',\n",
    "        'repeatdowntickvolume',\n",
    "        'tradetomidvolweight',\n",
    "        'tradetomidvolweightrelative']"
   ]
  },
  {
   "cell_type": "code",
   "execution_count": 28,
   "id": "aa23fe8a-b3ac-4a25-917f-07c73ef9968b",
   "metadata": {},
   "outputs": [],
   "source": [
    "columns = {'volumeweightprice': 'price',\n",
    "           'finravolume': 'fvolume',\n",
    "           'finravolumeweightprice': 'fprice',\n",
    "           'uptickvolume': 'up',\n",
    "           'downtickvolume': 'down',\n",
    "           'repeatuptickvolume': 'rup',\n",
    "           'repeatdowntickvolume': 'rdown',\n",
    "           'firsttradeprice': 'first',\n",
    "           'hightradeprice': 'high',\n",
    "           'lowtradeprice': 'low',\n",
    "           'lasttradeprice': 'last',\n",
    "           'nbboquotecount': 'nbbo',\n",
    "           'totaltrades': 'ntrades',\n",
    "           'openbidprice': 'obprice',\n",
    "           'openbidsize': 'obsize',\n",
    "           'openaskprice': 'oaprice',\n",
    "           'openasksize': 'oasize',\n",
    "           'highbidprice': 'hbprice',\n",
    "           'highbidsize': 'hbsize',\n",
    "           'highaskprice': 'haprice',\n",
    "           'highasksize': 'hasize',\n",
    "           'lowbidprice': 'lbprice',\n",
    "           'lowbidsize': 'lbsize',\n",
    "           'lowaskprice': 'laprice',\n",
    "           'lowasksize': 'lasize',\n",
    "           'closebidprice': 'cbprice',\n",
    "           'closebidsize': 'cbsize',\n",
    "           'closeaskprice': 'caprice',\n",
    "           'closeasksize': 'casize',\n",
    "           'firsttradesize': 'firstsize',\n",
    "           'hightradesize': 'highsize',\n",
    "           'lowtradesize': 'lowsize',\n",
    "           'lasttradesize': 'lastsize',\n",
    "           'tradetomidvolweight': 'volweight',\n",
    "           'tradetomidvolweightrelative': 'volweightrel'}"
   ]
  },
  {
   "cell_type": "code",
   "execution_count": 29,
   "id": "7ad31b69-8e95-45c6-be4e-c99eef72e93b",
   "metadata": {},
   "outputs": [],
   "source": [
    "nasdaq_path = Path('../../data/nasdaq100')"
   ]
  },
  {
   "cell_type": "code",
   "execution_count": 30,
   "id": "d0c97522-6835-4288-a428-edb0ad40205d",
   "metadata": {},
   "outputs": [],
   "source": [
    "def extract_and_combine_data():\n",
    "    path = nasdaq_path / '1min_taq'\n",
    "    if not path.exists():\n",
    "        path.mkdir(parents=True)\n",
    "\n",
    "    data = []\n",
    "    # ~80K files to process\n",
    "    for f in tqdm(list(path.glob('*/**/*.csv.gz'))):\n",
    "        data.append(pd.read_csv(f, parse_dates=[['Date', 'TimeBarStart']])\n",
    "                    .rename(columns=str.lower)\n",
    "                    .drop(tcols + drop_cols, axis=1)\n",
    "                    .rename(columns=columns)\n",
    "                    .set_index('date_timebarstart')\n",
    "                    .sort_index()\n",
    "                    .between_time('9:30', '16:00')\n",
    "                    .set_index('ticker', append=True)\n",
    "                    .swaplevel()\n",
    "                    .rename(columns=lambda x: x.replace('tradeat', 'at')))\n",
    "    data = pd.concat(data).apply(pd.to_numeric, downcast='integer')\n",
    "    data.index.rename(['ticker', 'date_time'], inplace=True)\n",
    "    print(data.info(show_counts=True))\n",
    "    data.to_hdf(nasdaq_path / 'algoseek.h5', 'min_taq')"
   ]
  },
  {
   "cell_type": "code",
   "execution_count": 32,
   "id": "aa3913ad-6c46-439e-a455-43b9b1a3ecd3",
   "metadata": {},
   "outputs": [],
   "source": [
    "extract_and_combine_data()"
   ]
  },
  {
   "cell_type": "code",
   "execution_count": 34,
   "id": "fa2fd373-e218-4f58-b65b-39b5e684bc7c",
   "metadata": {},
   "outputs": [],
   "source": [
    "df = pd.read_hdf(nasdaq_path / 'algoseek.h5', 'min_taq')"
   ]
  },
  {
   "cell_type": "code",
   "execution_count": 36,
   "id": "cdf66d02-05c2-4c34-8b2d-873fa7d702ed",
   "metadata": {},
   "outputs": [],
   "source": [
    "df.info(null_counts=True)"
   ]
  },
  {
   "cell_type": "markdown",
   "id": "608e9f89-2fc6-4461-85fc-2b0839028059",
   "metadata": {},
   "source": [
    "## NASDAQ 100 Constituents"
   ]
  },
  {
   "cell_type": "code",
   "execution_count": 37,
   "id": "d7d2b655-c122-44e4-b5ae-003655cfac35",
   "metadata": {},
   "outputs": [],
   "source": [
    "len(df.index.unique('ticker'))"
   ]
  },
  {
   "cell_type": "code",
   "execution_count": 38,
   "id": "6ae8367e-9428-4101-96de-4a8ed8deda08",
   "metadata": {},
   "outputs": [],
   "source": [
    "constituents = (df.groupby([df.index.get_level_values('date_time').date, 'ticker'])\n",
    "                .size()\n",
    "                .unstack('ticker')\n",
    "                .notnull()\n",
    "                .astype(int)\n",
    "                .replace(0, np.nan))\n",
    "\n",
    "constituents.index = pd.to_datetime(constituents.index)\n",
    "constituents = constituents.resample('M').max()\n",
    "constituents.index = constituents.index.date"
   ]
  },
  {
   "cell_type": "code",
   "execution_count": 39,
   "id": "8c1804d8-f0b3-432a-90a8-8350b20fb391",
   "metadata": {},
   "outputs": [],
   "source": [
    "fig, ax = plt.subplots(figsize=(20, 20))\n",
    "mask = constituents.T.isnull()\n",
    "ax = sns.heatmap(constituents.T, mask=mask, cbar=False, ax=ax, cmap='Blues_r')\n",
    "ax.set_ylabel('')\n",
    "fig.suptitle('NASDAQ100 Constituents (2015-2017)')\n",
    "fig.tight_layout();"
   ]
  },
  {
   "cell_type": "code",
   "execution_count": null,
   "id": "f0dbc595-0d73-4d91-82f9-6c26e1e24f42",
   "metadata": {},
   "outputs": [],
   "source": []
  }
 ],
 "metadata": {
  "kernelspec": {
   "display_name": "Python 3 (ipykernel)",
   "language": "python",
   "name": "python3"
  },
  "language_info": {
   "codemirror_mode": {
    "name": "ipython",
    "version": 3
   },
   "file_extension": ".py",
   "mimetype": "text/x-python",
   "name": "python",
   "nbconvert_exporter": "python",
   "pygments_lexer": "ipython3",
   "version": "3.12.9"
  }
 },
 "nbformat": 4,
 "nbformat_minor": 5
}
