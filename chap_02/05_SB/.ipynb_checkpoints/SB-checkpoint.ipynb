{
 "cells": [
  {
   "cell_type": "markdown",
   "id": "de28dde3-5b42-41ef-9aaa-c5c8a8dd2d93",
   "metadata": {},
   "source": [
    "# Storage Benchmark\n",
    "\n",
    "### Loading Libraries"
   ]
  },
  {
   "cell_type": "code",
   "execution_count": 4,
   "id": "5e77966b-b6b5-48b1-8f6d-0b111f25937c",
   "metadata": {},
   "outputs": [],
   "source": [
    "# Data Manipulation\n",
    "import pandas as pd\n",
    "\n",
    "# Numerical Computing\n",
    "import numpy as np\n",
    "\n",
    "# Data Visualization\n",
    "import matplotlib.pyplot as plt\n",
    "import seaborn as sns\n",
    "\n",
    "# OS\n",
    "import random\n",
    "import string\n",
    "\n",
    "# Path & File Access\n",
    "from pathlib import Path\n",
    "\n",
    "# Warnings\n",
    "import warnings"
   ]
  },
  {
   "cell_type": "code",
   "execution_count": 5,
   "id": "beaa2ec9-0538-41d6-8855-7d4727bf11ac",
   "metadata": {},
   "outputs": [],
   "source": [
    "sns.set_style('whitegrid')\n",
    "\n",
    "warnings.filterwarnings('ignore')"
   ]
  },
  {
   "cell_type": "code",
   "execution_count": 6,
   "id": "fbf62c44-74ee-41b5-ac87-041a516af837",
   "metadata": {},
   "outputs": [],
   "source": [
    "results = {}"
   ]
  },
  {
   "cell_type": "markdown",
   "id": "83a9d677-e986-4c1d-bc81-e13af327b8f3",
   "metadata": {},
   "source": [
    "### Generate Test Data"
   ]
  },
  {
   "cell_type": "code",
   "execution_count": 7,
   "id": "ad22575a-30e4-4ef5-b25f-ec4324c497e3",
   "metadata": {},
   "outputs": [],
   "source": [
    "def generate_test_data(nrows=100000, numerical_cols=2000, text_cols=0, text_length=10):\n",
    "    s = \"\".join([random.choice(string.ascii_letters)\n",
    "                 for _ in range(text_length)])\n",
    "    data = pd.concat([pd.DataFrame(np.random.random(size=(nrows, numerical_cols))),\n",
    "                      pd.DataFrame(np.full(shape=(nrows, text_cols), fill_value=s))],\n",
    "                     axis=1, ignore_index=True)\n",
    "    data.columns = [str(i) for i in data.columns]\n",
    "    return data"
   ]
  },
  {
   "cell_type": "code",
   "execution_count": 8,
   "id": "4be8ef9f-d16a-4c6d-9949-3c67c8393599",
   "metadata": {},
   "outputs": [],
   "source": [
    "data_type = 'Numeric'"
   ]
  },
  {
   "cell_type": "code",
   "execution_count": 9,
   "id": "bfd2e64b-7cbc-4346-9e9f-0daf302b4c19",
   "metadata": {},
   "outputs": [
    {
     "name": "stdout",
     "output_type": "stream",
     "text": [
      "<class 'pandas.core.frame.DataFrame'>\n",
      "RangeIndex: 100000 entries, 0 to 99999\n",
      "Columns: 2000 entries, 0 to 1999\n",
      "dtypes: float64(1000), object(1000)\n",
      "memory usage: 1.5+ GB\n"
     ]
    }
   ],
   "source": [
    "df = generate_test_data(numerical_cols=1000, text_cols=1000)\n",
    "\n",
    "df.info()"
   ]
  },
  {
   "cell_type": "markdown",
   "id": "bacdfd43-ccde-48ff-8a8e-19f1edd8cc8a",
   "metadata": {},
   "source": [
    "### Parquet\n",
    "\n",
    "#### Size"
   ]
  },
  {
   "cell_type": "code",
   "execution_count": 10,
   "id": "9c3c57b3-e54b-4759-816d-1ddaada49f6d",
   "metadata": {},
   "outputs": [],
   "source": [
    "parquet_file = Path('test.parquet')"
   ]
  },
  {
   "cell_type": "code",
   "execution_count": 15,
   "id": "3d6633da-bafb-43ab-80a2-d8b40c3198bf",
   "metadata": {},
   "outputs": [],
   "source": [
    "df.to_parquet(parquet_file)\n",
    "\n",
    "size = parquet_file.stat().st_size"
   ]
  },
  {
   "cell_type": "markdown",
   "id": "b2c372ee-6fee-42d9-ac1e-44ba89e4f145",
   "metadata": {},
   "source": [
    "### Read"
   ]
  },
  {
   "cell_type": "code",
   "execution_count": 16,
   "id": "709e9502-b277-490b-813e-3ba7af2c43c3",
   "metadata": {},
   "outputs": [
    {
     "name": "stdout",
     "output_type": "stream",
     "text": [
      "804 ms ± 3.32 ms per loop (mean ± std. dev. of 7 runs, 1 loop each)\n"
     ]
    },
    {
     "data": {
      "text/plain": [
       "<TimeitResult : 804 ms ± 3.32 ms per loop (mean ± std. dev. of 7 runs, 1 loop each)>"
      ]
     },
     "execution_count": 16,
     "metadata": {},
     "output_type": "execute_result"
    }
   ],
   "source": [
    "%%timeit -o\n",
    "df = pd.read_parquet(parquet_file)"
   ]
  },
  {
   "cell_type": "code",
   "execution_count": 17,
   "id": "fe4723fc-fada-413a-9bff-b6eae51adc95",
   "metadata": {},
   "outputs": [],
   "source": [
    "read = _"
   ]
  },
  {
   "cell_type": "code",
   "execution_count": 18,
   "id": "cc60c093-7f7e-4169-9bf1-44d1c2cd97b8",
   "metadata": {},
   "outputs": [],
   "source": [
    "parquet_file.unlink()"
   ]
  },
  {
   "cell_type": "markdown",
   "id": "c505087e-6e2b-4aab-9c85-81be30522fc4",
   "metadata": {},
   "source": [
    "#### Write"
   ]
  },
  {
   "cell_type": "code",
   "execution_count": 19,
   "id": "bee23673-3c65-42f8-8401-b11d010d2afa",
   "metadata": {},
   "outputs": [
    {
     "name": "stdout",
     "output_type": "stream",
     "text": [
      "7.43 s ± 103 ms per loop (mean ± std. dev. of 7 runs, 1 loop each)\n"
     ]
    },
    {
     "data": {
      "text/plain": [
       "<TimeitResult : 7.43 s ± 103 ms per loop (mean ± std. dev. of 7 runs, 1 loop each)>"
      ]
     },
     "execution_count": 19,
     "metadata": {},
     "output_type": "execute_result"
    }
   ],
   "source": [
    "%%timeit -o\n",
    "df.to_parquet(parquet_file)\n",
    "parquet_file.unlink()"
   ]
  },
  {
   "cell_type": "code",
   "execution_count": 20,
   "id": "26b75188-b0f1-4d39-bb70-9006ed812cd6",
   "metadata": {},
   "outputs": [],
   "source": [
    "write = _"
   ]
  },
  {
   "cell_type": "markdown",
   "id": "8fce4af9-ea18-40fb-ac55-358f54963653",
   "metadata": {},
   "source": [
    "#### Results"
   ]
  },
  {
   "cell_type": "code",
   "execution_count": 21,
   "id": "dc737b48-e183-4dea-b2bd-01e736cba546",
   "metadata": {},
   "outputs": [],
   "source": [
    "results['Parquet'] = {'read': np.mean(read.all_runs), 'write': np.mean(write.all_runs), 'size': size}"
   ]
  },
  {
   "cell_type": "markdown",
   "id": "d16772be-3197-4f51-87d1-0c32fd359fa5",
   "metadata": {},
   "source": [
    "### HDF5"
   ]
  },
  {
   "cell_type": "code",
   "execution_count": 22,
   "id": "96d1842e-bdc2-4269-a6ae-b337325fc46d",
   "metadata": {},
   "outputs": [],
   "source": [
    "test_store = Path('index.h5')"
   ]
  },
  {
   "cell_type": "markdown",
   "id": "87b4adb8-09f6-44e5-ace3-ac709b2d4c56",
   "metadata": {},
   "source": [
    "### Fixed Format\n",
    "\n",
    "#### Size"
   ]
  },
  {
   "cell_type": "code",
   "execution_count": 23,
   "id": "ce923fd8-f958-47a7-b63b-99f4d7f4e939",
   "metadata": {},
   "outputs": [],
   "source": [
    "with pd.HDFStore(test_store) as store:\n",
    "    store.put('file', df)\n",
    "    \n",
    "size = test_store.stat().st_size"
   ]
  },
  {
   "cell_type": "markdown",
   "id": "f9c78b1c-2242-43d2-bfa6-a82266feecd0",
   "metadata": {},
   "source": [
    "#### Read"
   ]
  },
  {
   "cell_type": "code",
   "execution_count": 24,
   "id": "e2bb8f1c-2630-40ad-bfa8-b380ac9e3142",
   "metadata": {},
   "outputs": [
    {
     "name": "stdout",
     "output_type": "stream",
     "text": [
      "51.4 s ± 799 ms per loop (mean ± std. dev. of 7 runs, 1 loop each)\n"
     ]
    },
    {
     "data": {
      "text/plain": [
       "<TimeitResult : 51.4 s ± 799 ms per loop (mean ± std. dev. of 7 runs, 1 loop each)>"
      ]
     },
     "execution_count": 24,
     "metadata": {},
     "output_type": "execute_result"
    }
   ],
   "source": [
    "%%timeit -o\n",
    "with pd.HDFStore(test_store) as store:\n",
    "    store.get('file')"
   ]
  },
  {
   "cell_type": "code",
   "execution_count": 25,
   "id": "672eef80-c820-4886-9419-6352c7054668",
   "metadata": {},
   "outputs": [],
   "source": [
    "read = _"
   ]
  },
  {
   "cell_type": "code",
   "execution_count": 26,
   "id": "7141a698-cac7-4e2e-893a-42fd1ba35644",
   "metadata": {},
   "outputs": [],
   "source": [
    "test_store.unlink()"
   ]
  },
  {
   "cell_type": "markdown",
   "id": "e04d085e-3411-40e3-8ab3-8cbefc936f79",
   "metadata": {},
   "source": [
    "#### Write"
   ]
  },
  {
   "cell_type": "code",
   "execution_count": 27,
   "id": "77818d3d-ba1c-4984-842d-4160305b93c8",
   "metadata": {},
   "outputs": [
    {
     "name": "stdout",
     "output_type": "stream",
     "text": [
      "14.2 s ± 187 ms per loop (mean ± std. dev. of 7 runs, 1 loop each)\n"
     ]
    },
    {
     "data": {
      "text/plain": [
       "<TimeitResult : 14.2 s ± 187 ms per loop (mean ± std. dev. of 7 runs, 1 loop each)>"
      ]
     },
     "execution_count": 27,
     "metadata": {},
     "output_type": "execute_result"
    }
   ],
   "source": [
    "%%timeit -o\n",
    "with pd.HDFStore(test_store) as store:\n",
    "    store.put('file', df)\n",
    "test_store.unlink()"
   ]
  },
  {
   "cell_type": "code",
   "execution_count": 28,
   "id": "cfe1c11a-b66b-458c-901a-cabf3825fad3",
   "metadata": {},
   "outputs": [],
   "source": [
    "write = _"
   ]
  },
  {
   "cell_type": "markdown",
   "id": "13c4a589-ed13-4957-8d13-fb0e88f4d024",
   "metadata": {},
   "source": [
    "#### Results"
   ]
  },
  {
   "cell_type": "code",
   "execution_count": 29,
   "id": "d49937b8-7ad6-4abe-88fc-f3da44e2452a",
   "metadata": {},
   "outputs": [],
   "source": [
    "results['HDF Fixed'] = {'read': np.mean(read.all_runs), 'write': np.mean(write.all_runs), 'size': size}"
   ]
  },
  {
   "cell_type": "markdown",
   "id": "adfb3848-45fc-49ce-974b-0daf22db8782",
   "metadata": {},
   "source": [
    "### Table Format\n",
    "\n",
    "#### Size"
   ]
  },
  {
   "cell_type": "code",
   "execution_count": 30,
   "id": "7c780cba-ce15-4c1e-9cce-4ae7ee3dffb6",
   "metadata": {},
   "outputs": [],
   "source": [
    "with pd.HDFStore(test_store) as store:\n",
    "    store.append('file', df, format='t')\n",
    "    \n",
    "size = test_store.stat().st_size    "
   ]
  },
  {
   "cell_type": "markdown",
   "id": "5c6e01e3-b9bf-4c1e-ae96-aa7d0ff5681e",
   "metadata": {},
   "source": [
    "#### Read"
   ]
  },
  {
   "cell_type": "code",
   "execution_count": 31,
   "id": "526972a6-4f7e-4bba-96e3-d4972b7c2185",
   "metadata": {},
   "outputs": [
    {
     "name": "stdout",
     "output_type": "stream",
     "text": [
      "15.9 s ± 912 ms per loop (mean ± std. dev. of 7 runs, 1 loop each)\n"
     ]
    },
    {
     "data": {
      "text/plain": [
       "<TimeitResult : 15.9 s ± 912 ms per loop (mean ± std. dev. of 7 runs, 1 loop each)>"
      ]
     },
     "execution_count": 31,
     "metadata": {},
     "output_type": "execute_result"
    }
   ],
   "source": [
    "%%timeit -o\n",
    "with pd.HDFStore(test_store) as store:\n",
    "    df = store.get('file')"
   ]
  },
  {
   "cell_type": "code",
   "execution_count": 32,
   "id": "b5a816dc-4941-4068-ae99-0616399fa55d",
   "metadata": {},
   "outputs": [],
   "source": [
    "read = _"
   ]
  },
  {
   "cell_type": "code",
   "execution_count": 33,
   "id": "cab1e646-90bf-40bb-9b6d-75ebd87a020d",
   "metadata": {},
   "outputs": [],
   "source": [
    "test_store.unlink()"
   ]
  },
  {
   "cell_type": "markdown",
   "id": "3343ab49-47d2-491d-82e9-eb3a83338f85",
   "metadata": {},
   "source": [
    "#### Write"
   ]
  },
  {
   "cell_type": "code",
   "execution_count": 34,
   "id": "10da7241-4759-4ca6-aaf0-39f75ef1a572",
   "metadata": {},
   "outputs": [
    {
     "name": "stdout",
     "output_type": "stream",
     "text": [
      "29.7 s ± 1.87 s per loop (mean ± std. dev. of 7 runs, 1 loop each)\n"
     ]
    },
    {
     "data": {
      "text/plain": [
       "<TimeitResult : 29.7 s ± 1.87 s per loop (mean ± std. dev. of 7 runs, 1 loop each)>"
      ]
     },
     "execution_count": 34,
     "metadata": {},
     "output_type": "execute_result"
    }
   ],
   "source": [
    "%%timeit -o\n",
    "with pd.HDFStore(test_store) as store:\n",
    "    store.append('file', df, format='t')\n",
    "test_store.unlink()    "
   ]
  },
  {
   "cell_type": "code",
   "execution_count": 35,
   "id": "ece916a5-327e-4d68-9998-b60337de5102",
   "metadata": {},
   "outputs": [],
   "source": [
    "write = _"
   ]
  },
  {
   "cell_type": "markdown",
   "id": "accdfb30-0653-4d40-a65f-92d95286d75e",
   "metadata": {},
   "source": [
    "#### Result"
   ]
  },
  {
   "cell_type": "code",
   "execution_count": 36,
   "id": "39742a7d-e70c-4813-b37f-19f55917c090",
   "metadata": {},
   "outputs": [],
   "source": [
    "results['HDF Table'] = {'read': np.mean(read.all_runs), 'write': np.mean(write.all_runs), 'size': size}"
   ]
  },
  {
   "cell_type": "markdown",
   "id": "da5c3477-8ae7-4fe6-986f-bc6e0ae0c0b4",
   "metadata": {},
   "source": [
    "### Table Select\n",
    "\n",
    "#### Size"
   ]
  },
  {
   "cell_type": "code",
   "execution_count": 38,
   "id": "05011fd9-4036-4ce2-b00b-a18ba27688b5",
   "metadata": {},
   "outputs": [],
   "source": [
    "with pd.HDFStore(test_store) as store:\n",
    "    store.append('file', df, format='t', data_columns=['company', 'form'])\n",
    "    \n",
    "size = test_store.stat().st_size "
   ]
  },
  {
   "cell_type": "markdown",
   "id": "6d38b553-b0af-43ca-a4cd-3b3cb6be2737",
   "metadata": {},
   "source": [
    "#### Read"
   ]
  },
  {
   "cell_type": "code",
   "execution_count": 39,
   "id": "35e5f92f-82e1-41fc-829e-654c1e3161d1",
   "metadata": {},
   "outputs": [],
   "source": [
    "company = 'APPLE INC'"
   ]
  },
  {
   "cell_type": "code",
   "execution_count": 40,
   "id": "1e2d050a-5b11-43c8-a3e2-22af7e78c9e9",
   "metadata": {},
   "outputs": [
    {
     "name": "stdout",
     "output_type": "stream",
     "text": [
      "15.3 s ± 1.34 s per loop (mean ± std. dev. of 7 runs, 1 loop each)\n"
     ]
    }
   ],
   "source": [
    "%%timeit\n",
    "with pd.HDFStore(test_store) as store:\n",
    "    s = store.get('file')"
   ]
  },
  {
   "cell_type": "code",
   "execution_count": 41,
   "id": "0b81b34e-05c7-445a-a95c-c4406e155a0a",
   "metadata": {},
   "outputs": [],
   "source": [
    "read = _"
   ]
  },
  {
   "cell_type": "code",
   "execution_count": 42,
   "id": "a8accf66-8bf0-4fc1-ab74-34685d9cf61a",
   "metadata": {},
   "outputs": [],
   "source": [
    "test_store.unlink()"
   ]
  },
  {
   "cell_type": "markdown",
   "id": "0abf3e05-f747-4af3-9148-2f10bbdefe92",
   "metadata": {},
   "source": [
    "#### Write"
   ]
  },
  {
   "cell_type": "code",
   "execution_count": 43,
   "id": "dd1635ee-8e11-483a-b1dc-fd47767c0609",
   "metadata": {},
   "outputs": [
    {
     "name": "stdout",
     "output_type": "stream",
     "text": [
      "29.7 s ± 1.88 s per loop (mean ± std. dev. of 7 runs, 1 loop each)\n"
     ]
    }
   ],
   "source": [
    "%%timeit\n",
    "with pd.HDFStore(test_store) as store:\n",
    "    store.append('file', df, format='t', data_columns=['company', 'form'])\n",
    "test_store.unlink() "
   ]
  },
  {
   "cell_type": "code",
   "execution_count": 44,
   "id": "44cb6953-6b69-4347-a5a5-8d8fe7c557b5",
   "metadata": {},
   "outputs": [],
   "source": [
    "write = _"
   ]
  },
  {
   "cell_type": "markdown",
   "id": "9f05b5e2-ae63-4a27-937a-7724d58c6fb2",
   "metadata": {},
   "source": [
    "#### Results"
   ]
  },
  {
   "cell_type": "code",
   "execution_count": 45,
   "id": "8ad81962-10c9-4a80-9346-e639184697a2",
   "metadata": {},
   "outputs": [],
   "source": [
    "results['HDF Select'] = {'read': np.mean(read.all_runs), 'write': np.mean(write.all_runs), 'size': size}"
   ]
  },
  {
   "cell_type": "markdown",
   "id": "262718d8-6f45-4778-8282-f90a4c98d45f",
   "metadata": {},
   "source": [
    "### CSV"
   ]
  },
  {
   "cell_type": "code",
   "execution_count": 48,
   "id": "6b7f4d3b-2f6e-401d-91be-b5dc808f5a96",
   "metadata": {},
   "outputs": [],
   "source": [
    "test_csv = Path('test.csv')"
   ]
  },
  {
   "cell_type": "markdown",
   "id": "719e6323-1470-4b5b-96b3-af3b9fbcd718",
   "metadata": {},
   "source": [
    "#### Size"
   ]
  },
  {
   "cell_type": "code",
   "execution_count": 49,
   "id": "c406f3fd-7289-44b7-b559-bb5ef79f0204",
   "metadata": {},
   "outputs": [
    {
     "data": {
      "text/plain": [
       "3027570280"
      ]
     },
     "execution_count": 49,
     "metadata": {},
     "output_type": "execute_result"
    }
   ],
   "source": [
    "df.to_csv(test_csv)\n",
    "test_csv.stat().st_size"
   ]
  },
  {
   "cell_type": "markdown",
   "id": "7fb4ee55-6b07-4f5c-b8f0-77b5502c2fee",
   "metadata": {},
   "source": [
    "#### Read"
   ]
  },
  {
   "cell_type": "code",
   "execution_count": 50,
   "id": "584cb327-19a6-419b-ad83-19005e97cd38",
   "metadata": {},
   "outputs": [
    {
     "name": "stdout",
     "output_type": "stream",
     "text": [
      "9.75 s ± 353 ms per loop (mean ± std. dev. of 7 runs, 1 loop each)\n"
     ]
    },
    {
     "data": {
      "text/plain": [
       "<TimeitResult : 9.75 s ± 353 ms per loop (mean ± std. dev. of 7 runs, 1 loop each)>"
      ]
     },
     "execution_count": 50,
     "metadata": {},
     "output_type": "execute_result"
    }
   ],
   "source": [
    "%%timeit -o\n",
    "df = pd.read_csv(test_csv)"
   ]
  },
  {
   "cell_type": "code",
   "execution_count": 51,
   "id": "48ffa60b-1e62-4d4c-9f9c-a8bd1c95d17d",
   "metadata": {},
   "outputs": [],
   "source": [
    "read = _"
   ]
  },
  {
   "cell_type": "code",
   "execution_count": 52,
   "id": "389610ba-d132-4fb7-b8ef-ac4d85070168",
   "metadata": {},
   "outputs": [],
   "source": [
    "test_csv.unlink()  "
   ]
  },
  {
   "cell_type": "markdown",
   "id": "722caca8-7e87-44aa-9551-cfa9b9369f63",
   "metadata": {},
   "source": [
    "#### Write"
   ]
  },
  {
   "cell_type": "code",
   "execution_count": 53,
   "id": "6de14755-2f78-4298-bb0c-94b983a9b304",
   "metadata": {},
   "outputs": [
    {
     "name": "stdout",
     "output_type": "stream",
     "text": [
      "1min 4s ± 429 ms per loop (mean ± std. dev. of 7 runs, 1 loop each)\n"
     ]
    },
    {
     "data": {
      "text/plain": [
       "<TimeitResult : 1min 4s ± 429 ms per loop (mean ± std. dev. of 7 runs, 1 loop each)>"
      ]
     },
     "execution_count": 53,
     "metadata": {},
     "output_type": "execute_result"
    }
   ],
   "source": [
    "%%timeit -o\n",
    "df.to_csv(test_csv)\n",
    "test_csv.unlink()"
   ]
  },
  {
   "cell_type": "code",
   "execution_count": 54,
   "id": "b243a613-bda3-4c42-bbfe-61ff9ea4394e",
   "metadata": {},
   "outputs": [],
   "source": [
    "write = _"
   ]
  },
  {
   "cell_type": "markdown",
   "id": "cff3e2de-5848-4c0b-ac08-f6386bc4d5eb",
   "metadata": {},
   "source": [
    "#### Results"
   ]
  },
  {
   "cell_type": "code",
   "execution_count": 55,
   "id": "5d48583c-d80d-4c76-9f36-d8cf46cd8ea3",
   "metadata": {},
   "outputs": [],
   "source": [
    "results['CSV'] = {'read': np.mean(read.all_runs), 'write': np.mean(write.all_runs), 'size': size}"
   ]
  },
  {
   "cell_type": "markdown",
   "id": "fad94014-4570-496c-a3f2-be084f4904b4",
   "metadata": {},
   "source": [
    "### Store Results"
   ]
  },
  {
   "cell_type": "code",
   "execution_count": 56,
   "id": "dbb1b703-25ce-4237-b463-e9722334e854",
   "metadata": {},
   "outputs": [],
   "source": [
    "pd.DataFrame(results).assign(Data=data_type).to_csv(f'{data_type}.csv')"
   ]
  },
  {
   "cell_type": "markdown",
   "id": "58e665b5-9e15-4ed4-b894-01adfdc642c5",
   "metadata": {},
   "source": [
    "### Display Results"
   ]
  },
  {
   "cell_type": "code",
   "execution_count": 58,
   "id": "a1b7c4dc-f246-42f0-ba06-782af9e1269d",
   "metadata": {},
   "outputs": [],
   "source": [
    "# df = (pd.read_csv('Numeric.csv', index_col=0)\n",
    "#       .append(pd.read_csv('Mixed.csv', index_col=0))\n",
    "#       .rename(columns=str.capitalize))\n",
    "# df.index.name='Storage'\n",
    "# df = df.set_index('Data', append=True).unstack()\n",
    "# df.Size /= 1e9"
   ]
  },
  {
   "cell_type": "code",
   "execution_count": 60,
   "id": "07486bb8-7442-4773-82a9-0cddc8f015a6",
   "metadata": {},
   "outputs": [],
   "source": [
    "df1 = pd.read_csv('Numeric.csv', index_col=0)\n",
    "df2 = pd.read_csv('Mixed.csv', index_col=0)\n",
    "\n",
    "df = (pd.concat([df1, df2])\n",
    "        .rename(columns=str.capitalize))\n",
    "\n",
    "df.index.name = 'Storage'\n",
    "df = df.set_index('Data', append=True).unstack()\n",
    "df.Size /= 1e9"
   ]
  },
  {
   "cell_type": "code",
   "execution_count": 63,
   "id": "c1279749-6aba-4341-8e2e-15dcd64cdeec",
   "metadata": {},
   "outputs": [],
   "source": [
    "fig, axes = plt.subplots(ncols=3, figsize=(16, 4))\n",
    "for i, op in enumerate(['Read', 'Write', 'Size']):\n",
    "    flag= op in ['Read', 'Write']\n",
    "    df.loc[:, op].plot.barh(title=op, ax=axes[i], logx=flag)\n",
    "    if flag:\n",
    "        axes[i].set_xlabel('seconds (log scale)')\n",
    "    else:\n",
    "        axes[i].set_xlabel('GB')\n",
    "fig.tight_layout()\n",
    "fig.savefig('storage', dpi=300);"
   ]
  },
  {
   "cell_type": "code",
   "execution_count": null,
   "id": "0922365e-77a7-4d92-8f4b-daf3c9290314",
   "metadata": {},
   "outputs": [],
   "source": []
  }
 ],
 "metadata": {
  "kernelspec": {
   "display_name": "Python 3 (ipykernel)",
   "language": "python",
   "name": "python3"
  },
  "language_info": {
   "codemirror_mode": {
    "name": "ipython",
    "version": 3
   },
   "file_extension": ".py",
   "mimetype": "text/x-python",
   "name": "python",
   "nbconvert_exporter": "python",
   "pygments_lexer": "ipython3",
   "version": "3.12.9"
  }
 },
 "nbformat": 4,
 "nbformat_minor": 5
}
