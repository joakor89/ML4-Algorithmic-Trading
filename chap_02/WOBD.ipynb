{
 "cells": [
  {
   "cell_type": "markdown",
   "id": "51ffa39a-b090-4725-980e-41846d52f969",
   "metadata": {},
   "source": [
    "# Working with Order Book Data\n",
    "\n",
    "### Loading Libraries"
   ]
  },
  {
   "cell_type": "code",
   "execution_count": 1,
   "id": "fe7e703b-76d1-4263-a1cc-934ee84575c0",
   "metadata": {},
   "outputs": [],
   "source": [
    "# Numerical Computing\n",
    "import numpy as np\n",
    "\n",
    "# Data Manipulation\n",
    "import pandas as pd\n",
    "\n",
    "# Data Visualization\n",
    "import seaborn as sns\n",
    "import matplotlib.pyplot as plt\n",
    "from matplotlib.ticker import FuncFormatter\n",
    "\n",
    "# Warnings\n",
    "import warnings\n",
    "\n",
    "# File Path\n",
    "import gzip\n",
    "from pathlib import Path\n",
    "from urllib.request import urlretrieve\n",
    "from urllib.parse import urljoin\n",
    "\n",
    "# Date & Time\n",
    "from time import time\n",
    "from datetime import timedelta\n",
    "\n",
    "# Collections\n",
    "from collections import namedtuple, Counter, defaultdict\n",
    "\n",
    "# Operating System\n",
    "import os\n",
    "import shutil\n",
    "from struct import unpack"
   ]
  },
  {
   "cell_type": "code",
   "execution_count": 2,
   "id": "6379b742-5f9b-4cab-85c0-87b790fa9f7f",
   "metadata": {},
   "outputs": [],
   "source": [
    "%matplotlib inline"
   ]
  },
  {
   "cell_type": "code",
   "execution_count": 3,
   "id": "3d5b6e08-c637-4e37-9168-171491635ec2",
   "metadata": {},
   "outputs": [],
   "source": [
    "warnings.filterwarnings('ignore')"
   ]
  },
  {
   "cell_type": "code",
   "execution_count": 4,
   "id": "45b3d5b6-bdd1-48e3-bcb4-7478e457fdc0",
   "metadata": {},
   "outputs": [],
   "source": [
    "sns.set_style('whitegrid')"
   ]
  },
  {
   "cell_type": "code",
   "execution_count": 5,
   "id": "e5930597-d280-4547-a3c2-8db4c24c6562",
   "metadata": {},
   "outputs": [],
   "source": [
    "def format_time(t):\n",
    "    \"\"\"Return a formatted time string 'HH:MM:SS\n",
    "    based on a numeric time() value\"\"\"\n",
    "    m, s = divmod(t, 60)\n",
    "    h, m = divmod(m, 60)\n",
    "    return f'{h:0>2.0f}:{m:0>2.0f}:{s:0>2.0f}'"
   ]
  },
  {
   "cell_type": "markdown",
   "id": "f38caa44-253d-40b9-b390-1190fab53ce7",
   "metadata": {},
   "source": [
    "#### Set Data Paths"
   ]
  },
  {
   "cell_type": "code",
   "execution_count": 6,
   "id": "1337ff73-f341-425b-9e93-1564c13da3f1",
   "metadata": {},
   "outputs": [],
   "source": [
    "data_path = Path('data') \n",
    "\n",
    "itch_store = str(data_path / 'itch.h5')\n",
    "\n",
    "order_book_store = data_path / 'order_book.h5'\n",
    "\n",
    "date = '10302019'"
   ]
  },
  {
   "cell_type": "markdown",
   "id": "3ce903c4-9744-4b35-a8bc-8da2f6ca81aa",
   "metadata": {},
   "source": [
    "### Build Order Book"
   ]
  },
  {
   "cell_type": "code",
   "execution_count": 7,
   "id": "5d9ee86f-62e3-41c1-8354-dcb5d02f0edc",
   "metadata": {},
   "outputs": [],
   "source": [
    "stock = 'AAPL'\n",
    "\n",
    "order_dict = {-1: 'sell', 1: 'buy'}"
   ]
  },
  {
   "cell_type": "markdown",
   "id": "961c7693-0262-4902-9c18-21290e83e2c5",
   "metadata": {},
   "source": [
    "### Get All Messages for Given Stock"
   ]
  },
  {
   "cell_type": "code",
   "execution_count": 9,
   "id": "9abbd784-4196-434b-bfc4-f6454805cb5b",
   "metadata": {},
   "outputs": [],
   "source": [
    "def get_messages(date, stock=stock):\n",
    "    \"\"\"Collect trading messages for given stock\"\"\"\n",
    "    with pd.HDFStore(itch_store) as store:\n",
    "        stock_locate = store.select('R', where='stock = stock').stock_locate.iloc[0]\n",
    "        target = 'stock_locate = stock_locate'\n",
    "\n",
    "        data = {}\n",
    "        # Trading Message Types\n",
    "        messages = ['A', 'F', 'E', 'C', 'X', 'D', 'U', 'P', 'Q']\n",
    "        for m in messages:\n",
    "            data[m] = store.select(m, where=target).drop('stock_locate', axis=1).assign(type=m)\n",
    "\n",
    "    order_cols = ['order_reference_number', 'buy_sell_indicator', 'shares', 'price']\n",
    "    orders = pd.concat([data['A'], data['F']], sort=False, ignore_index=True).loc[:, order_cols]\n",
    "\n",
    "    for m in messages[2: -3]:\n",
    "        data[m] = data[m].merge(orders, how='left')\n",
    "\n",
    "    data['U'] = data['U'].merge(orders, how='left',\n",
    "                                right_on='order_reference_number',\n",
    "                                left_on='original_order_reference_number',\n",
    "                                suffixes=['', '_replaced'])\n",
    "\n",
    "    data['Q'].rename(columns={'cross_price': 'price'}, inplace=True)\n",
    "    data['X']['shares'] = data['X']['cancelled_shares']\n",
    "    data['X'] = data['X'].dropna(subset=['price'])\n",
    "\n",
    "    data = pd.concat([data[m] for m in messages], ignore_index=True, sort=False)\n",
    "    data['date'] = pd.to_datetime(date, format='%m%d%Y')\n",
    "    data.timestamp = data['date'].add(data.timestamp)\n",
    "    data = data[data.printable != 0]\n",
    "\n",
    "    drop_cols = ['tracking_number', 'order_reference_number', 'original_order_reference_number',\n",
    "                 'cross_type', 'new_order_reference_number', 'attribution', 'match_number',\n",
    "                 'printable', 'date', 'cancelled_shares']\n",
    "    return data.drop(drop_cols, axis=1).sort_values('timestamp').reset_index(drop=True)"
   ]
  },
  {
   "cell_type": "code",
   "execution_count": 10,
   "id": "4f83fdf6-2bd6-428f-8bf2-466683c7456a",
   "metadata": {},
   "outputs": [
    {
     "ename": "FileNotFoundError",
     "evalue": "``/Users/joaquinromero/Desktop/MLAT/chap_02/data`` does not exist",
     "output_type": "error",
     "traceback": [
      "\u001b[0;31m---------------------------------------------------------------------------\u001b[0m",
      "\u001b[0;31mFileNotFoundError\u001b[0m                         Traceback (most recent call last)",
      "Cell \u001b[0;32mIn[10], line 1\u001b[0m\n\u001b[0;32m----> 1\u001b[0m messages \u001b[38;5;241m=\u001b[39m get_messages(date\u001b[38;5;241m=\u001b[39mdate)\n\u001b[1;32m      3\u001b[0m messages\u001b[38;5;241m.\u001b[39minfo(null_counts\u001b[38;5;241m=\u001b[39m\u001b[38;5;28;01mTrue\u001b[39;00m)\n",
      "Cell \u001b[0;32mIn[9], line 3\u001b[0m, in \u001b[0;36mget_messages\u001b[0;34m(date, stock)\u001b[0m\n\u001b[1;32m      1\u001b[0m \u001b[38;5;28;01mdef\u001b[39;00m \u001b[38;5;21mget_messages\u001b[39m(date, stock\u001b[38;5;241m=\u001b[39mstock):\n\u001b[1;32m      2\u001b[0m \u001b[38;5;250m    \u001b[39m\u001b[38;5;124;03m\"\"\"Collect trading messages for given stock\"\"\"\u001b[39;00m\n\u001b[0;32m----> 3\u001b[0m     \u001b[38;5;28;01mwith\u001b[39;00m pd\u001b[38;5;241m.\u001b[39mHDFStore(itch_store) \u001b[38;5;28;01mas\u001b[39;00m store:\n\u001b[1;32m      4\u001b[0m         stock_locate \u001b[38;5;241m=\u001b[39m store\u001b[38;5;241m.\u001b[39mselect(\u001b[38;5;124m'\u001b[39m\u001b[38;5;124mR\u001b[39m\u001b[38;5;124m'\u001b[39m, where\u001b[38;5;241m=\u001b[39m\u001b[38;5;124m'\u001b[39m\u001b[38;5;124mstock = stock\u001b[39m\u001b[38;5;124m'\u001b[39m)\u001b[38;5;241m.\u001b[39mstock_locate\u001b[38;5;241m.\u001b[39miloc[\u001b[38;5;241m0\u001b[39m]\n\u001b[1;32m      5\u001b[0m         target \u001b[38;5;241m=\u001b[39m \u001b[38;5;124m'\u001b[39m\u001b[38;5;124mstock_locate = stock_locate\u001b[39m\u001b[38;5;124m'\u001b[39m\n",
      "File \u001b[0;32m/opt/anaconda3/envs/MLAT/lib/python3.12/site-packages/pandas/io/pytables.py:585\u001b[0m, in \u001b[0;36mHDFStore.__init__\u001b[0;34m(self, path, mode, complevel, complib, fletcher32, **kwargs)\u001b[0m\n\u001b[1;32m    583\u001b[0m \u001b[38;5;28mself\u001b[39m\u001b[38;5;241m.\u001b[39m_fletcher32 \u001b[38;5;241m=\u001b[39m fletcher32\n\u001b[1;32m    584\u001b[0m \u001b[38;5;28mself\u001b[39m\u001b[38;5;241m.\u001b[39m_filters \u001b[38;5;241m=\u001b[39m \u001b[38;5;28;01mNone\u001b[39;00m\n\u001b[0;32m--> 585\u001b[0m \u001b[38;5;28mself\u001b[39m\u001b[38;5;241m.\u001b[39mopen(mode\u001b[38;5;241m=\u001b[39mmode, \u001b[38;5;241m*\u001b[39m\u001b[38;5;241m*\u001b[39mkwargs)\n",
      "File \u001b[0;32m/opt/anaconda3/envs/MLAT/lib/python3.12/site-packages/pandas/io/pytables.py:745\u001b[0m, in \u001b[0;36mHDFStore.open\u001b[0;34m(self, mode, **kwargs)\u001b[0m\n\u001b[1;32m    739\u001b[0m     msg \u001b[38;5;241m=\u001b[39m (\n\u001b[1;32m    740\u001b[0m         \u001b[38;5;124m\"\u001b[39m\u001b[38;5;124mCannot open HDF5 file, which is already opened, \u001b[39m\u001b[38;5;124m\"\u001b[39m\n\u001b[1;32m    741\u001b[0m         \u001b[38;5;124m\"\u001b[39m\u001b[38;5;124meven in read-only mode.\u001b[39m\u001b[38;5;124m\"\u001b[39m\n\u001b[1;32m    742\u001b[0m     )\n\u001b[1;32m    743\u001b[0m     \u001b[38;5;28;01mraise\u001b[39;00m \u001b[38;5;167;01mValueError\u001b[39;00m(msg)\n\u001b[0;32m--> 745\u001b[0m \u001b[38;5;28mself\u001b[39m\u001b[38;5;241m.\u001b[39m_handle \u001b[38;5;241m=\u001b[39m tables\u001b[38;5;241m.\u001b[39mopen_file(\u001b[38;5;28mself\u001b[39m\u001b[38;5;241m.\u001b[39m_path, \u001b[38;5;28mself\u001b[39m\u001b[38;5;241m.\u001b[39m_mode, \u001b[38;5;241m*\u001b[39m\u001b[38;5;241m*\u001b[39mkwargs)\n",
      "File \u001b[0;32m/opt/anaconda3/envs/MLAT/lib/python3.12/site-packages/tables/file.py:325\u001b[0m, in \u001b[0;36mopen_file\u001b[0;34m(filename, mode, title, root_uep, filters, **kwargs)\u001b[0m\n\u001b[1;32m    319\u001b[0m             \u001b[38;5;28;01mraise\u001b[39;00m \u001b[38;5;167;01mValueError\u001b[39;00m(\n\u001b[1;32m    320\u001b[0m                 \u001b[38;5;124m\"\u001b[39m\u001b[38;5;124mThe file \u001b[39m\u001b[38;5;124m'\u001b[39m\u001b[38;5;132;01m%s\u001b[39;00m\u001b[38;5;124m'\u001b[39m\u001b[38;5;124m is already opened.  Please \u001b[39m\u001b[38;5;124m\"\u001b[39m\n\u001b[1;32m    321\u001b[0m                 \u001b[38;5;124m\"\u001b[39m\u001b[38;5;124mclose it before reopening in write mode.\u001b[39m\u001b[38;5;124m\"\u001b[39m \u001b[38;5;241m%\u001b[39m filename\n\u001b[1;32m    322\u001b[0m             )\n\u001b[1;32m    324\u001b[0m \u001b[38;5;66;03m# Finally, create the File instance, and return it\u001b[39;00m\n\u001b[0;32m--> 325\u001b[0m \u001b[38;5;28;01mreturn\u001b[39;00m File(filename, mode, title, root_uep, filters, \u001b[38;5;241m*\u001b[39m\u001b[38;5;241m*\u001b[39mkwargs)\n",
      "File \u001b[0;32m/opt/anaconda3/envs/MLAT/lib/python3.12/site-packages/tables/file.py:811\u001b[0m, in \u001b[0;36mFile.__init__\u001b[0;34m(self, filename, mode, title, root_uep, filters, **kwargs)\u001b[0m\n\u001b[1;32m    808\u001b[0m \u001b[38;5;28mself\u001b[39m\u001b[38;5;241m.\u001b[39mparams \u001b[38;5;241m=\u001b[39m params\n\u001b[1;32m    810\u001b[0m \u001b[38;5;66;03m# Now, it is time to initialize the File extension\u001b[39;00m\n\u001b[0;32m--> 811\u001b[0m \u001b[38;5;28mself\u001b[39m\u001b[38;5;241m.\u001b[39m_g_new(filename, mode, \u001b[38;5;241m*\u001b[39m\u001b[38;5;241m*\u001b[39mparams)\n\u001b[1;32m    813\u001b[0m \u001b[38;5;66;03m# Check filters and set PyTables format version for new files.\u001b[39;00m\n\u001b[1;32m    814\u001b[0m new \u001b[38;5;241m=\u001b[39m \u001b[38;5;28mself\u001b[39m\u001b[38;5;241m.\u001b[39m_v_new\n",
      "File \u001b[0;32m/opt/anaconda3/envs/MLAT/lib/python3.12/site-packages/tables/hdf5extension.pyx:499\u001b[0m, in \u001b[0;36mtables.hdf5extension.File._g_new\u001b[0;34m()\u001b[0m\n",
      "File \u001b[0;32m/opt/anaconda3/envs/MLAT/lib/python3.12/site-packages/tables/utils.py:202\u001b[0m, in \u001b[0;36mcheck_file_access\u001b[0;34m(filename, mode)\u001b[0m\n\u001b[1;32m    200\u001b[0m         check_file_access(path, \u001b[38;5;124m\"\u001b[39m\u001b[38;5;124mr+\u001b[39m\u001b[38;5;124m\"\u001b[39m)\n\u001b[1;32m    201\u001b[0m     \u001b[38;5;28;01melse\u001b[39;00m:\n\u001b[0;32m--> 202\u001b[0m         check_file_access(path, \u001b[38;5;124m\"\u001b[39m\u001b[38;5;124mw\u001b[39m\u001b[38;5;124m\"\u001b[39m)\n\u001b[1;32m    203\u001b[0m \u001b[38;5;28;01melif\u001b[39;00m mode \u001b[38;5;241m==\u001b[39m \u001b[38;5;124m\"\u001b[39m\u001b[38;5;124mr+\u001b[39m\u001b[38;5;124m\"\u001b[39m:\n\u001b[1;32m    204\u001b[0m     check_file_access(path, \u001b[38;5;124m\"\u001b[39m\u001b[38;5;124mr\u001b[39m\u001b[38;5;124m\"\u001b[39m)\n",
      "File \u001b[0;32m/opt/anaconda3/envs/MLAT/lib/python3.12/site-packages/tables/utils.py:188\u001b[0m, in \u001b[0;36mcheck_file_access\u001b[0;34m(filename, mode)\u001b[0m\n\u001b[1;32m    184\u001b[0m \u001b[38;5;28;01melse\u001b[39;00m:\n\u001b[1;32m    185\u001b[0m     \u001b[38;5;66;03m# A new file is going to be created,\u001b[39;00m\n\u001b[1;32m    186\u001b[0m     \u001b[38;5;66;03m# so the directory should be writable.\u001b[39;00m\n\u001b[1;32m    187\u001b[0m     \u001b[38;5;28;01mif\u001b[39;00m \u001b[38;5;129;01mnot\u001b[39;00m os\u001b[38;5;241m.\u001b[39maccess(path\u001b[38;5;241m.\u001b[39mparent, os\u001b[38;5;241m.\u001b[39mF_OK):\n\u001b[0;32m--> 188\u001b[0m         \u001b[38;5;28;01mraise\u001b[39;00m \u001b[38;5;167;01mFileNotFoundError\u001b[39;00m(\u001b[38;5;124mf\u001b[39m\u001b[38;5;124m\"\u001b[39m\u001b[38;5;124m``\u001b[39m\u001b[38;5;132;01m{\u001b[39;00mpath\u001b[38;5;241m.\u001b[39mparent\u001b[38;5;132;01m}\u001b[39;00m\u001b[38;5;124m`` does not exist\u001b[39m\u001b[38;5;124m\"\u001b[39m)\n\u001b[1;32m    189\u001b[0m     \u001b[38;5;28;01mif\u001b[39;00m \u001b[38;5;129;01mnot\u001b[39;00m path\u001b[38;5;241m.\u001b[39mparent\u001b[38;5;241m.\u001b[39mis_dir():\n\u001b[1;32m    190\u001b[0m         \u001b[38;5;28;01mraise\u001b[39;00m \u001b[38;5;167;01mNotADirectoryError\u001b[39;00m(\n\u001b[1;32m    191\u001b[0m             \u001b[38;5;124mf\u001b[39m\u001b[38;5;124m\"\u001b[39m\u001b[38;5;124m``\u001b[39m\u001b[38;5;132;01m{\u001b[39;00mpath\u001b[38;5;241m.\u001b[39mparent\u001b[38;5;132;01m}\u001b[39;00m\u001b[38;5;124m`` is not a directory\u001b[39m\u001b[38;5;124m\"\u001b[39m\n\u001b[1;32m    192\u001b[0m         )\n",
      "\u001b[0;31mFileNotFoundError\u001b[0m: ``/Users/joaquinromero/Desktop/MLAT/chap_02/data`` does not exist"
     ]
    }
   ],
   "source": [
    "messages = get_messages(date=date)\n",
    "\n",
    "messages.info(null_counts=True)"
   ]
  },
  {
   "cell_type": "code",
   "execution_count": null,
   "id": "139d0e51-d104-4fdd-8d01-1f731b16c0df",
   "metadata": {},
   "outputs": [],
   "source": []
  }
 ],
 "metadata": {
  "kernelspec": {
   "display_name": "Python 3 (ipykernel)",
   "language": "python",
   "name": "python3"
  },
  "language_info": {
   "codemirror_mode": {
    "name": "ipython",
    "version": 3
   },
   "file_extension": ".py",
   "mimetype": "text/x-python",
   "name": "python",
   "nbconvert_exporter": "python",
   "pygments_lexer": "ipython3",
   "version": "3.12.9"
  }
 },
 "nbformat": 4,
 "nbformat_minor": 5
}
