{
 "cells": [
  {
   "cell_type": "markdown",
   "id": "c7250e08-931f-4f3c-a7fb-501bfacd4830",
   "metadata": {},
   "source": [
    "# Working with Filing Data from The SEC's EDGAR Service\n",
    "\n",
    "### Loading Libraries"
   ]
  },
  {
   "cell_type": "code",
   "execution_count": 3,
   "id": "d7ac7fd1-0346-405d-84af-6346bf0ed571",
   "metadata": {},
   "outputs": [],
   "source": [
    "# Path & File Access\n",
    "import requests\n",
    "from io import BytesIO\n",
    "from pathlib import Path\n",
    "from zipfile import ZipFile, BadZipFile\n",
    "\n",
    "# Date & Time\n",
    "from datetime import date\n",
    "\n",
    "# JavaScript Object Notation\n",
    "import json\n",
    "\n",
    "# Notebook Optimizer\n",
    "from tqdm import tqdm\n",
    "\n",
    "# Data Manipulation\n",
    "import pandas as pd\n",
    "import pandas_datareader.data as web\n",
    "\n",
    "# Print\n",
    "from pprint import pprint\n",
    "\n",
    "# Data Visualization\n",
    "import seaborn as sns\n",
    "import matplotlib.pyplot as plt\n",
    "import matplotlib.ticker as mticker\n",
    "\n",
    "# Warnings\n",
    "import warnings"
   ]
  },
  {
   "cell_type": "code",
   "execution_count": 4,
   "id": "b4f47904-73f4-4108-8a37-3bebe872a05c",
   "metadata": {},
   "outputs": [],
   "source": [
    "warnings.filterwarnings('ignore')"
   ]
  },
  {
   "cell_type": "code",
   "execution_count": 5,
   "id": "75212ad6-c527-4f25-a83f-2bc945427bca",
   "metadata": {},
   "outputs": [],
   "source": [
    "sns.set_style('whitegrid')"
   ]
  },
  {
   "cell_type": "code",
   "execution_count": 6,
   "id": "a02bddde-a60e-4ee4-808c-772c3ddc7ffd",
   "metadata": {},
   "outputs": [],
   "source": [
    "data_path = Path('data')\n",
    "\n",
    "if not data_path.exists():\n",
    "    data_path.mkdir()"
   ]
  },
  {
   "cell_type": "markdown",
   "id": "4296a19f-9523-4682-aa69-7d2e52777256",
   "metadata": {},
   "source": [
    "## Download FS & Notes Data"
   ]
  },
  {
   "cell_type": "code",
   "execution_count": 7,
   "id": "b0c3d85a-fa69-4f77-8129-9e7441b97708",
   "metadata": {},
   "outputs": [],
   "source": [
    "SEC_URL = 'https://www.sec.gov/'\n",
    "\n",
    "FSN_PATH = 'files/dera/data/financial-statement-and-notes-data-sets/'"
   ]
  },
  {
   "cell_type": "code",
   "execution_count": 8,
   "id": "ce20a43d-93f2-4847-a18f-22cfd35798f3",
   "metadata": {},
   "outputs": [
    {
     "data": {
      "text/plain": [
       "[(2014, 1),\n",
       " (2014, 2),\n",
       " (2014, 3),\n",
       " (2014, 4),\n",
       " (2015, 1),\n",
       " (2015, 2),\n",
       " (2015, 3),\n",
       " (2015, 4),\n",
       " (2016, 1),\n",
       " (2016, 2),\n",
       " (2016, 3),\n",
       " (2016, 4),\n",
       " (2017, 1),\n",
       " (2017, 2),\n",
       " (2017, 3),\n",
       " (2017, 4),\n",
       " (2018, 1),\n",
       " (2018, 2),\n",
       " (2018, 3),\n",
       " (2018, 4),\n",
       " (2019, 1),\n",
       " (2019, 2),\n",
       " (2019, 3),\n",
       " (2019, 4),\n",
       " (2020, 1),\n",
       " (2020, 2),\n",
       " (2020, 3)]"
      ]
     },
     "execution_count": 8,
     "metadata": {},
     "output_type": "execute_result"
    }
   ],
   "source": [
    "filing_periods = [(d.year, d.quarter) for d in pd.date_range('2014', '2020-09-30', freq='Q')]\n",
    "\n",
    "filing_periods"
   ]
  },
  {
   "cell_type": "code",
   "execution_count": 9,
   "id": "17b3b82b-abaa-49c8-97de-198282553ceb",
   "metadata": {},
   "outputs": [
    {
     "name": "stderr",
     "output_type": "stream",
     "text": [
      "  4%|█▋                                          | 1/27 [00:00<00:18,  1.41it/s]"
     ]
    },
    {
     "name": "stdout",
     "output_type": "stream",
     "text": [
      "\n",
      "Bad zip file: 2014 1\n",
      "\n"
     ]
    },
    {
     "name": "stderr",
     "output_type": "stream",
     "text": [
      "  7%|███▎                                        | 2/27 [00:01<00:11,  2.14it/s]"
     ]
    },
    {
     "name": "stdout",
     "output_type": "stream",
     "text": [
      "\n",
      "Bad zip file: 2014 2\n",
      "\n"
     ]
    },
    {
     "name": "stderr",
     "output_type": "stream",
     "text": [
      " 11%|████▉                                       | 3/27 [00:01<00:08,  2.89it/s]"
     ]
    },
    {
     "name": "stdout",
     "output_type": "stream",
     "text": [
      "\n",
      "Bad zip file: 2014 3\n",
      "\n"
     ]
    },
    {
     "name": "stderr",
     "output_type": "stream",
     "text": [
      " 15%|██████▌                                     | 4/27 [00:01<00:06,  3.39it/s]"
     ]
    },
    {
     "name": "stdout",
     "output_type": "stream",
     "text": [
      "\n",
      "Bad zip file: 2014 4\n",
      "\n"
     ]
    },
    {
     "name": "stderr",
     "output_type": "stream",
     "text": [
      " 19%|████████▏                                   | 5/27 [00:01<00:06,  3.58it/s]"
     ]
    },
    {
     "name": "stdout",
     "output_type": "stream",
     "text": [
      "\n",
      "Bad zip file: 2015 1\n",
      "\n"
     ]
    },
    {
     "name": "stderr",
     "output_type": "stream",
     "text": [
      " 26%|███████████▍                                | 7/27 [00:02<00:04,  4.22it/s]"
     ]
    },
    {
     "name": "stdout",
     "output_type": "stream",
     "text": [
      "\n",
      "Bad zip file: 2015 2\n",
      "\n",
      "\n",
      "Bad zip file: 2015 3\n",
      "\n"
     ]
    },
    {
     "name": "stderr",
     "output_type": "stream",
     "text": [
      " 30%|█████████████                               | 8/27 [00:02<00:04,  4.41it/s]"
     ]
    },
    {
     "name": "stdout",
     "output_type": "stream",
     "text": [
      "\n",
      "Bad zip file: 2015 4\n",
      "\n"
     ]
    },
    {
     "name": "stderr",
     "output_type": "stream",
     "text": [
      " 33%|██████████████▋                             | 9/27 [00:02<00:04,  4.45it/s]"
     ]
    },
    {
     "name": "stdout",
     "output_type": "stream",
     "text": [
      "\n",
      "Bad zip file: 2016 1\n",
      "\n"
     ]
    },
    {
     "name": "stderr",
     "output_type": "stream",
     "text": [
      " 37%|███████████████▉                           | 10/27 [00:02<00:03,  4.38it/s]"
     ]
    },
    {
     "name": "stdout",
     "output_type": "stream",
     "text": [
      "\n",
      "Bad zip file: 2016 2\n",
      "\n"
     ]
    },
    {
     "name": "stderr",
     "output_type": "stream",
     "text": [
      " 41%|█████████████████▌                         | 11/27 [00:02<00:03,  4.48it/s]"
     ]
    },
    {
     "name": "stdout",
     "output_type": "stream",
     "text": [
      "\n",
      "Bad zip file: 2016 3\n",
      "\n"
     ]
    },
    {
     "name": "stderr",
     "output_type": "stream",
     "text": [
      " 44%|███████████████████                        | 12/27 [00:03<00:03,  4.45it/s]"
     ]
    },
    {
     "name": "stdout",
     "output_type": "stream",
     "text": [
      "\n",
      "Bad zip file: 2016 4\n",
      "\n"
     ]
    },
    {
     "name": "stderr",
     "output_type": "stream",
     "text": [
      " 48%|████████████████████▋                      | 13/27 [00:03<00:03,  4.44it/s]"
     ]
    },
    {
     "name": "stdout",
     "output_type": "stream",
     "text": [
      "\n",
      "Bad zip file: 2017 1\n",
      "\n"
     ]
    },
    {
     "name": "stderr",
     "output_type": "stream",
     "text": [
      " 52%|██████████████████████▎                    | 14/27 [00:03<00:02,  4.54it/s]"
     ]
    },
    {
     "name": "stdout",
     "output_type": "stream",
     "text": [
      "\n",
      "Bad zip file: 2017 2\n",
      "\n"
     ]
    },
    {
     "name": "stderr",
     "output_type": "stream",
     "text": [
      " 56%|███████████████████████▉                   | 15/27 [00:03<00:02,  4.56it/s]"
     ]
    },
    {
     "name": "stdout",
     "output_type": "stream",
     "text": [
      "\n",
      "Bad zip file: 2017 3\n",
      "\n"
     ]
    },
    {
     "name": "stderr",
     "output_type": "stream",
     "text": [
      " 59%|█████████████████████████▍                 | 16/27 [00:04<00:02,  4.37it/s]"
     ]
    },
    {
     "name": "stdout",
     "output_type": "stream",
     "text": [
      "\n",
      "Bad zip file: 2017 4\n",
      "\n"
     ]
    },
    {
     "name": "stderr",
     "output_type": "stream",
     "text": [
      " 63%|███████████████████████████                | 17/27 [00:04<00:02,  4.38it/s]"
     ]
    },
    {
     "name": "stdout",
     "output_type": "stream",
     "text": [
      "\n",
      "Bad zip file: 2018 1\n",
      "\n"
     ]
    },
    {
     "name": "stderr",
     "output_type": "stream",
     "text": [
      " 67%|████████████████████████████▋              | 18/27 [00:04<00:02,  4.43it/s]"
     ]
    },
    {
     "name": "stdout",
     "output_type": "stream",
     "text": [
      "\n",
      "Bad zip file: 2018 2\n",
      "\n"
     ]
    },
    {
     "name": "stderr",
     "output_type": "stream",
     "text": [
      " 70%|██████████████████████████████▎            | 19/27 [00:04<00:01,  4.54it/s]"
     ]
    },
    {
     "name": "stdout",
     "output_type": "stream",
     "text": [
      "\n",
      "Bad zip file: 2018 3\n",
      "\n"
     ]
    },
    {
     "name": "stderr",
     "output_type": "stream",
     "text": [
      " 74%|███████████████████████████████▊           | 20/27 [00:04<00:01,  4.65it/s]"
     ]
    },
    {
     "name": "stdout",
     "output_type": "stream",
     "text": [
      "\n",
      "Bad zip file: 2018 4\n",
      "\n"
     ]
    },
    {
     "name": "stderr",
     "output_type": "stream",
     "text": [
      " 78%|█████████████████████████████████▍         | 21/27 [00:05<00:01,  4.66it/s]"
     ]
    },
    {
     "name": "stdout",
     "output_type": "stream",
     "text": [
      "\n",
      "Bad zip file: 2019 1\n",
      "\n"
     ]
    },
    {
     "name": "stderr",
     "output_type": "stream",
     "text": [
      " 81%|███████████████████████████████████        | 22/27 [00:05<00:01,  4.71it/s]"
     ]
    },
    {
     "name": "stdout",
     "output_type": "stream",
     "text": [
      "\n",
      "Bad zip file: 2019 2\n",
      "\n"
     ]
    },
    {
     "name": "stderr",
     "output_type": "stream",
     "text": [
      " 85%|████████████████████████████████████▋      | 23/27 [00:05<00:00,  4.77it/s]"
     ]
    },
    {
     "name": "stdout",
     "output_type": "stream",
     "text": [
      "\n",
      "Bad zip file: 2019 3\n",
      "\n"
     ]
    },
    {
     "name": "stderr",
     "output_type": "stream",
     "text": [
      " 89%|██████████████████████████████████████▏    | 24/27 [00:05<00:00,  4.75it/s]"
     ]
    },
    {
     "name": "stdout",
     "output_type": "stream",
     "text": [
      "\n",
      "Bad zip file: 2019 4\n",
      "\n"
     ]
    },
    {
     "name": "stderr",
     "output_type": "stream",
     "text": [
      " 93%|███████████████████████████████████████▊   | 25/27 [00:05<00:00,  4.79it/s]"
     ]
    },
    {
     "name": "stdout",
     "output_type": "stream",
     "text": [
      "\n",
      "Bad zip file: 2020 1\n",
      "\n"
     ]
    },
    {
     "name": "stderr",
     "output_type": "stream",
     "text": [
      " 96%|█████████████████████████████████████████▍ | 26/27 [00:06<00:00,  4.74it/s]"
     ]
    },
    {
     "name": "stdout",
     "output_type": "stream",
     "text": [
      "\n",
      "Bad zip file: 2020 2\n",
      "\n"
     ]
    },
    {
     "name": "stderr",
     "output_type": "stream",
     "text": [
      "100%|███████████████████████████████████████████| 27/27 [00:06<00:00,  4.21it/s]"
     ]
    },
    {
     "name": "stdout",
     "output_type": "stream",
     "text": [
      "\n",
      "Bad zip file: 2020 3\n",
      "\n"
     ]
    },
    {
     "name": "stderr",
     "output_type": "stream",
     "text": [
      "\n"
     ]
    }
   ],
   "source": [
    "for yr, qtr in tqdm(filing_periods):\n",
    "    # set (and create) directory\n",
    "    path = data_path / f'{yr}_{qtr}' / 'source'\n",
    "    if not path.exists():\n",
    "        path.mkdir(parents=True)\n",
    "    \n",
    "    # define url and get file\n",
    "    filing = f'{yr}q{qtr}_notes.zip'\n",
    "    url = SEC_URL + FSN_PATH + filing\n",
    "    response = requests.get(url).content\n",
    "    \n",
    "    # decompress and save\n",
    "    try:\n",
    "        with ZipFile(BytesIO(response)) as zip_file:\n",
    "            for file in zip_file.namelist():\n",
    "                local_file = path / file\n",
    "                if local_file.exists():\n",
    "                    continue\n",
    "                with local_file.open('wb') as output:\n",
    "                    for line in zip_file.open(file).readlines():\n",
    "                        output.write(line)\n",
    "    except BadZipFile:\n",
    "        print(f'\\nBad zip file: {yr} {qtr}\\n')\n",
    "        continue"
   ]
  },
  {
   "cell_type": "markdown",
   "id": "52664589-95fc-4215-a271-e03d172ea8e7",
   "metadata": {},
   "source": [
    "### Save to Parquet"
   ]
  },
  {
   "cell_type": "code",
   "execution_count": 10,
   "id": "2da6f2e6-7f5b-4bd6-befd-f90f8adbaac6",
   "metadata": {},
   "outputs": [
    {
     "name": "stderr",
     "output_type": "stream",
     "text": [
      "0it [00:00, ?it/s]\n"
     ]
    }
   ],
   "source": [
    "for f in tqdm(sorted(list(data_path.glob('**/*.tsv')))):\n",
    "    # set (and create) directory\n",
    "    parquet_path = f.parent.parent / 'parquet'\n",
    "    if not parquet_path.exists():\n",
    "        parquet_path.mkdir(parents=True)    \n",
    "\n",
    "    # write content to .parquet\n",
    "    file_name = f.stem  + '.parquet'\n",
    "    if not (parquet_path / file_name).exists():\n",
    "        try:\n",
    "            df = pd.read_csv(f, sep='\\t', encoding='latin1', low_memory=False, error_bad_lines=False)\n",
    "            df.to_parquet(parquet_path / file_name)\n",
    "        except Exception as e:\n",
    "            print(e, ' | ', f)\n",
    "        # optional: uncomment to delete original .tsv\n",
    "#         else:\n",
    "            # f.unlink"
   ]
  },
  {
   "cell_type": "markdown",
   "id": "114058eb-75f5-4a64-af70-23ed2945ee2a",
   "metadata": {},
   "source": [
    "### Metadata `json`"
   ]
  },
  {
   "cell_type": "code",
   "execution_count": 12,
   "id": "8460dceb-b00b-4462-9c60-932f9db970a7",
   "metadata": {},
   "outputs": [],
   "source": [
    "file = data_path / '2018_3' / 'source' / '2018q3_notes-metadata.json'\n",
    "\n",
    "with file.open() as f:\n",
    "    data = json.load(f)\n",
    "\n",
    "pprint(data)"
   ]
  },
  {
   "cell_type": "markdown",
   "id": "bf839570-e65d-49f3-93fe-097cdacb68a2",
   "metadata": {},
   "source": [
    "### Submission Data"
   ]
  },
  {
   "cell_type": "code",
   "execution_count": 14,
   "id": "930b196b-89fa-428b-a465-1b556f78748c",
   "metadata": {},
   "outputs": [],
   "source": [
    "sub = pd.read_parquet(data_path / '2018_3' / 'parquet' / 'sub.parquet')\n",
    "\n",
    "sub.info()"
   ]
  },
  {
   "cell_type": "markdown",
   "id": "16562699-f0f5-4748-9869-267640bf5ad2",
   "metadata": {},
   "source": [
    "### Get `AAPL` Submission"
   ]
  },
  {
   "cell_type": "code",
   "execution_count": 16,
   "id": "5403274e-3ad8-4c29-8474-206a6e62b475",
   "metadata": {},
   "outputs": [],
   "source": [
    "name = 'APPLE INC'\n",
    "\n",
    "apple = sub[sub.name == name].T.dropna().squeeze()\n",
    "key_cols = ['name', 'adsh', 'cik', 'name', 'sic', 'countryba', 'stprba',\n",
    "            'cityba', 'zipba', 'bas1', 'form', 'period', 'fy', 'fp', 'filed']\n",
    "\n",
    "apple.loc[key_cols]"
   ]
  },
  {
   "cell_type": "markdown",
   "id": "815406ab-5ac1-4f66-9910-04871b4b9041",
   "metadata": {},
   "source": [
    "### Build `AAPL` Fundamentals Dataset\n",
    "\n",
    "#### Get Filings"
   ]
  },
  {
   "cell_type": "code",
   "execution_count": 17,
   "id": "e5c5f029-5249-4cc5-8029-9fedc331cac0",
   "metadata": {},
   "outputs": [],
   "source": [
    "aapl_subs = pd.DataFrame()\n",
    "\n",
    "for sub in data_path.glob('**/sub.parquet'):\n",
    "    sub = pd.read_parquet(sub)\n",
    "    aapl_sub = sub[(sub.cik.astype(int) == apple.cik) & (sub.form.isin(['10-Q', '10-K']))]\n",
    "    aapl_subs = pd.concat([aapl_subs, aapl_sub])"
   ]
  },
  {
   "cell_type": "code",
   "execution_count": 19,
   "id": "bfea61f0-85fa-442c-8140-ab208dbbdfd8",
   "metadata": {},
   "outputs": [],
   "source": [
    "aapl_subs.form.value_counts()"
   ]
  },
  {
   "cell_type": "markdown",
   "id": "3f333182-f495-4716-95c9-6d54b1e570d7",
   "metadata": {},
   "source": [
    "#### Get Numerical Filing Data"
   ]
  },
  {
   "cell_type": "code",
   "execution_count": 21,
   "id": "c9520f2b-7c19-4be9-b13d-346b5a92c9f6",
   "metadata": {},
   "outputs": [],
   "source": [
    "aapl_nums = pd.DataFrame()\n",
    "\n",
    "for num in data_path.glob('**/num.parquet'):\n",
    "    num = pd.read_parquet(num).drop('dimh', axis=1)\n",
    "    aapl_num = num[num.adsh.isin(aapl_subs.adsh)]\n",
    "    print(len(aapl_num))\n",
    "    aapl_nums = pd.concat([aapl_nums, aapl_num])\n",
    "    \n",
    "aapl_nums.ddate = pd.to_datetime(aapl_nums.ddate, format='%Y%m%d')   \n",
    "aapl_nums.to_parquet(data_path / 'aapl_nums.parquet')"
   ]
  },
  {
   "cell_type": "code",
   "execution_count": 22,
   "id": "66f550a1-1ed7-4b77-bf31-bbb6b6bab0b9",
   "metadata": {},
   "outputs": [],
   "source": [
    "aapl_nums.info()"
   ]
  },
  {
   "cell_type": "markdown",
   "id": "3dd0d277-2059-4a52-a108-718a52847fd4",
   "metadata": {},
   "source": [
    "### Create P/E Ratio from EPS & Stock Price Data"
   ]
  },
  {
   "cell_type": "code",
   "execution_count": 23,
   "id": "9e3ecc97-3d49-41a1-bc2a-bb7c11acfaa6",
   "metadata": {},
   "outputs": [
    {
     "data": {
      "text/plain": [
       "Timestamp('2014-06-04 00:00:00')"
      ]
     },
     "execution_count": 23,
     "metadata": {},
     "output_type": "execute_result"
    }
   ],
   "source": [
    "stock_split = 7\n",
    "\n",
    "split_date = pd.to_datetime('20140604')\n",
    "split_date"
   ]
  },
  {
   "cell_type": "code",
   "execution_count": 25,
   "id": "3b62bec8-4660-423e-b5d3-29825745b46a",
   "metadata": {},
   "outputs": [],
   "source": [
    "# Filter by tag; keep only values measuring 1 quarter\n",
    "eps = aapl_nums[(aapl_nums.tag == 'EarningsPerShareDiluted')\n",
    "                & (aapl_nums.qtrs == 1)].drop('tag', axis=1)\n",
    "\n",
    "# Keep only most recent data point from each filing\n",
    "eps = eps.groupby('adsh').apply(lambda x: x.nlargest(n=1, columns=['ddate']))\n",
    "\n",
    "# Adjust earnings prior to stock split downward\n",
    "eps.loc[eps.ddate < split_date,'value'] = eps.loc[eps.ddate < split_date, 'value'].div(7)\n",
    "eps = eps[['ddate', 'value']].set_index('ddate').squeeze().sort_index()\n",
    "eps = eps.rolling(4,min_periods=4).sum().dropna()"
   ]
  },
  {
   "cell_type": "code",
   "execution_count": 26,
   "id": "7f53f825-3dd6-44ad-9d32-094998346bdf",
   "metadata": {},
   "outputs": [],
   "source": [
    "eps.plot(lw=2, figsize=(14, 6), title='Diluted Earnings per Share')\n",
    "plt.xlabel('')\n",
    "plt.savefig('diluted eps', dps=300);"
   ]
  },
  {
   "cell_type": "code",
   "execution_count": 27,
   "id": "370f4324-584a-436c-8aa2-72a4343c35f3",
   "metadata": {},
   "outputs": [],
   "source": [
    "symbol = 'AAPL.US'\n",
    "\n",
    "aapl_stock = (web.\n",
    "              DataReader(symbol, 'quandl', start=eps.index.min())\n",
    "              .resample('D')\n",
    "              .last()\n",
    "             .loc['2014':eps.index.max()])\n",
    "aapl_stock.info()"
   ]
  },
  {
   "cell_type": "code",
   "execution_count": 28,
   "id": "bf6f0ee6-fbc1-431a-8145-65f47bb78b65",
   "metadata": {},
   "outputs": [],
   "source": [
    "pe = aapl_stock.AdjClose.to_frame('price').join(eps.to_frame('eps'))\n",
    "pe = pe.fillna(method='ffill').dropna()\n",
    "\n",
    "pe['P/E Ratio'] = pe.price.div(pe.eps)\n",
    "pe['P/E Ratio'].plot(lw=2, figsize=(14, 6), title='TTM P/E Ratio');"
   ]
  },
  {
   "cell_type": "code",
   "execution_count": 29,
   "id": "49a4241b-3228-4051-a52b-1f8e1cd70374",
   "metadata": {},
   "outputs": [],
   "source": [
    "pe.info()"
   ]
  },
  {
   "cell_type": "code",
   "execution_count": 30,
   "id": "4b33fa83-4d5b-457d-9d2a-c7d0ab8b5d5d",
   "metadata": {},
   "outputs": [],
   "source": [
    "axes = pe.plot(subplots=True, figsize=(16,8), legend=False, lw=2)\n",
    "axes[0].set_title('Adj. Close Price')\n",
    "axes[1].set_title('Diluted Earnings per Share')\n",
    "axes[2].set_title('Trailing P/E Ratio')\n",
    "\n",
    "plt.tight_layout();"
   ]
  },
  {
   "cell_type": "markdown",
   "id": "4315ec5c-377f-4d84-99e2-46b5a08fcb35",
   "metadata": {},
   "source": [
    "### Explore Additional Fields"
   ]
  },
  {
   "cell_type": "code",
   "execution_count": 31,
   "id": "7560acac-c74b-4474-95af-3bd6fc549e5f",
   "metadata": {},
   "outputs": [],
   "source": [
    "aapl_nums.tag.value_counts()"
   ]
  },
  {
   "cell_type": "markdown",
   "id": "43de85dd-70af-4894-a8ea-66482d04f614",
   "metadata": {},
   "source": [
    "### Dividends per Share"
   ]
  },
  {
   "cell_type": "code",
   "execution_count": 32,
   "id": "65332a3c-f0a5-46c9-a696-7b4d2729d2d3",
   "metadata": {},
   "outputs": [],
   "source": [
    "fields = ['EarningsPerShareDiluted',\n",
    "          'PaymentsOfDividendsCommonStock',\n",
    "          'WeightedAverageNumberOfDilutedSharesOutstanding',\n",
    "          'OperatingIncomeLoss',\n",
    "          'NetIncomeLoss',\n",
    "          'GrossProfit']"
   ]
  },
  {
   "cell_type": "code",
   "execution_count": 34,
   "id": "c4a602ba-710f-475e-8888-6078f79008d9",
   "metadata": {},
   "outputs": [],
   "source": [
    "dividends = (aapl_nums\n",
    "             .loc[aapl_nums.tag == 'PaymentsOfDividendsCommonStock', ['ddate', 'value']]\n",
    "             .groupby('ddate')\n",
    "             .mean())\n",
    "shares = (aapl_nums\n",
    "          .loc[aapl_nums.tag == 'WeightedAverageNumberOfDilutedSharesOutstanding', ['ddate', 'value']]\n",
    "          .drop_duplicates()\n",
    "          .groupby('ddate')\n",
    "          .mean())\n",
    "df = dividends.div(shares).dropna()\n",
    "ax = df.plot.bar(figsize=(14, 5), title='Dividends per Share', legend=False)\n",
    "ax.xaxis.set_major_formatter(mticker.FixedFormatter(df.index.strftime('%Y-%m')))"
   ]
  },
  {
   "cell_type": "markdown",
   "id": "b2557b02-53e7-44be-87f9-307fef198261",
   "metadata": {},
   "source": [
    "### Bonus: Textual Information"
   ]
  },
  {
   "cell_type": "code",
   "execution_count": 37,
   "id": "41e50ac6-4302-4199-a16c-1bd7a0c7ae4d",
   "metadata": {},
   "outputs": [],
   "source": [
    "txt = pd.read_parquet(data_path / '2016_2' / 'parquet' /  'txt.parquet')"
   ]
  },
  {
   "cell_type": "code",
   "execution_count": 36,
   "id": "d9d2bbc6-37f3-431d-98f0-eca0a648ed2f",
   "metadata": {},
   "outputs": [],
   "source": [
    "txt.head()"
   ]
  },
  {
   "cell_type": "code",
   "execution_count": null,
   "id": "f2eeec7e-9f33-42aa-850c-baf0c22fc481",
   "metadata": {},
   "outputs": [],
   "source": []
  },
  {
   "cell_type": "code",
   "execution_count": null,
   "id": "5c8aef2e-19bf-41c1-86e2-3537c82727d3",
   "metadata": {},
   "outputs": [],
   "source": []
  },
  {
   "cell_type": "code",
   "execution_count": null,
   "id": "2731af91-6b2d-4c8c-b916-e4925d0eebd0",
   "metadata": {},
   "outputs": [],
   "source": []
  },
  {
   "cell_type": "code",
   "execution_count": null,
   "id": "42e9d3dd-1d29-493b-8e3f-1a87f66aff45",
   "metadata": {},
   "outputs": [],
   "source": []
  },
  {
   "cell_type": "code",
   "execution_count": null,
   "id": "0f0d1f27-eb88-44d4-8d08-b56e745f727c",
   "metadata": {},
   "outputs": [],
   "source": []
  },
  {
   "cell_type": "code",
   "execution_count": null,
   "id": "e8da6c1c-b090-4eeb-8ea3-8faf5858b30f",
   "metadata": {},
   "outputs": [],
   "source": []
  }
 ],
 "metadata": {
  "kernelspec": {
   "display_name": "Python 3 (ipykernel)",
   "language": "python",
   "name": "python3"
  },
  "language_info": {
   "codemirror_mode": {
    "name": "ipython",
    "version": 3
   },
   "file_extension": ".py",
   "mimetype": "text/x-python",
   "name": "python",
   "nbconvert_exporter": "python",
   "pygments_lexer": "ipython3",
   "version": "3.12.9"
  }
 },
 "nbformat": 4,
 "nbformat_minor": 5
}
