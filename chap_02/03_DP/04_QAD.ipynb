{
 "cells": [
  {
   "cell_type": "markdown",
   "id": "704d440d-1d63-45a3-aa7b-6aa78a0cf958",
   "metadata": {},
   "source": [
    "# Quandl - API Demo\n",
    "\n",
    "### Loading Libraries"
   ]
  },
  {
   "cell_type": "code",
   "execution_count": 2,
   "id": "17f05d37-95fc-42b7-ae1d-ea0462f09544",
   "metadata": {},
   "outputs": [],
   "source": [
    "# OS\n",
    "import os\n",
    "\n",
    "import quandl\n",
    "\n",
    "# Data Visualization\n",
    "import seaborn as sns\n",
    "import matplotlib.pyplot as plt"
   ]
  },
  {
   "cell_type": "code",
   "execution_count": 3,
   "id": "d6083c6b-5a1d-497a-9e30-e36d2c683e52",
   "metadata": {},
   "outputs": [],
   "source": [
    "sns.set_style('whitegrid')"
   ]
  },
  {
   "cell_type": "code",
   "execution_count": 20,
   "id": "5f29f4d3-a513-4da7-accf-7aaf5ea64588",
   "metadata": {},
   "outputs": [],
   "source": [
    "# quandl.ApiConfig.api_key = os.environ[\"\"]"
   ]
  },
  {
   "cell_type": "code",
   "execution_count": 22,
   "id": "07c282a7-5d10-4fed-a351-bd7851714fd4",
   "metadata": {},
   "outputs": [],
   "source": [
    "# oil.plot(lw=2, title='WTI Crude Oil Price', figsize=(12, 4))\n",
    "# sns.despine()\n",
    "# plt.tight_layout();"
   ]
  },
  {
   "cell_type": "code",
   "execution_count": null,
   "id": "da9bfe8f-a7c5-4f14-a616-5bb2fb91a26b",
   "metadata": {},
   "outputs": [],
   "source": []
  }
 ],
 "metadata": {
  "kernelspec": {
   "display_name": "Python 3 (ipykernel)",
   "language": "python",
   "name": "python3"
  },
  "language_info": {
   "codemirror_mode": {
    "name": "ipython",
    "version": 3
   },
   "file_extension": ".py",
   "mimetype": "text/x-python",
   "name": "python",
   "nbconvert_exporter": "python",
   "pygments_lexer": "ipython3",
   "version": "3.12.9"
  }
 },
 "nbformat": 4,
 "nbformat_minor": 5
}
