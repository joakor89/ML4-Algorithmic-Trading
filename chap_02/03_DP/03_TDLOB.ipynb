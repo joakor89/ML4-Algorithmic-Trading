{
 "cells": [
  {
   "cell_type": "markdown",
   "id": "0fd6466b-9665-4bfd-aa11-5ce0be692fa6",
   "metadata": {},
   "source": [
    "# Tick Data from LOBSTER\n",
    "\n",
    "### Loading Libraries"
   ]
  },
  {
   "cell_type": "code",
   "execution_count": 3,
   "id": "3f8aadfd-514f-4cef-92cb-1a55a4282af5",
   "metadata": {},
   "outputs": [],
   "source": [
    "# Numerical Computing\n",
    "import numpy as np\n",
    "\n",
    "# Data Manipulation\n",
    "import pandas as pd\n",
    "\n",
    "# Data Visualization\n",
    "import seaborn as sns\n",
    "import matplotlib.pyplot as plt\n",
    "\n",
    "# OS, Path & Time\n",
    "import os\n",
    "from pathlib import Path\n",
    "from itertools import chain\n",
    "from datetime import datetime, timedelta\n",
    "\n",
    "# Warnings\n",
    "import warnings"
   ]
  },
  {
   "cell_type": "code",
   "execution_count": 4,
   "id": "8b439905-3a9a-4dd0-8ab8-f93d6aca9204",
   "metadata": {},
   "outputs": [],
   "source": [
    "%matplotlib inline"
   ]
  },
  {
   "cell_type": "code",
   "execution_count": 5,
   "id": "8a0e9d8c-ea9d-41da-abd2-5735a95fe740",
   "metadata": {},
   "outputs": [],
   "source": [
    "warnings.filterwarnings('ignore')"
   ]
  },
  {
   "cell_type": "code",
   "execution_count": 6,
   "id": "1208bdb0-5a87-4425-9f5f-0910d54c2416",
   "metadata": {},
   "outputs": [],
   "source": [
    "sns.set_style('whitegrid')"
   ]
  },
  {
   "cell_type": "markdown",
   "id": "af91c361-70df-46a7-ae83-3c3d441393ed",
   "metadata": {},
   "source": [
    "### Load Orderbook Data"
   ]
  },
  {
   "cell_type": "code",
   "execution_count": 7,
   "id": "c5e030cf-305e-47c1-8115-e3bfbc451bab",
   "metadata": {},
   "outputs": [],
   "source": [
    "path = Path('data')"
   ]
  },
  {
   "cell_type": "code",
   "execution_count": 9,
   "id": "4b6ff25b-ae70-4bee-985d-c46ceafeabc6",
   "metadata": {},
   "outputs": [
    {
     "data": {
      "text/plain": [
       "['Ask Price 0',\n",
       " 'Ask Size 0',\n",
       " 'Bid Price 0',\n",
       " 'Bid Size 0',\n",
       " 'Ask Price 1',\n",
       " 'Ask Size 1',\n",
       " 'Bid Price 1',\n",
       " 'Bid Size 1',\n",
       " 'Ask Price 2',\n",
       " 'Ask Size 2',\n",
       " 'Bid Price 2',\n",
       " 'Bid Size 2',\n",
       " 'Ask Price 3',\n",
       " 'Ask Size 3',\n",
       " 'Bid Price 3',\n",
       " 'Bid Size 3',\n",
       " 'Ask Price 4',\n",
       " 'Ask Size 4',\n",
       " 'Bid Price 4',\n",
       " 'Bid Size 4',\n",
       " 'Ask Price 5',\n",
       " 'Ask Size 5',\n",
       " 'Bid Price 5',\n",
       " 'Bid Size 5',\n",
       " 'Ask Price 6',\n",
       " 'Ask Size 6',\n",
       " 'Bid Price 6',\n",
       " 'Bid Size 6',\n",
       " 'Ask Price 7',\n",
       " 'Ask Size 7',\n",
       " 'Bid Price 7',\n",
       " 'Bid Size 7',\n",
       " 'Ask Price 8',\n",
       " 'Ask Size 8',\n",
       " 'Bid Price 8',\n",
       " 'Bid Size 8',\n",
       " 'Ask Price 9',\n",
       " 'Ask Size 9',\n",
       " 'Bid Price 9',\n",
       " 'Bid Size 9']"
      ]
     },
     "execution_count": 9,
     "metadata": {},
     "output_type": "execute_result"
    }
   ],
   "source": [
    "list(chain(*[('Ask Price {0},Ask Size {0},Bid Price {0},Bid Size {0}'.format(i)).split(',') for i in range(10)]))"
   ]
  },
  {
   "cell_type": "code",
   "execution_count": 10,
   "id": "f4fb2ff2-66f4-44dd-ac27-bfc4c4ac20f9",
   "metadata": {},
   "outputs": [],
   "source": [
    "price = list(chain(*[('Ask Price {0},Bid Price {0}'.format(i)).split(',') for i in range(10)]))\n",
    "size = list(chain(*[('Ask Size {0},Bid Size {0}'.format(i)).split(',') for i in range(10)]))\n",
    "\n",
    "cols = list(chain(*zip(price, size)))"
   ]
  },
  {
   "cell_type": "code",
   "execution_count": 12,
   "id": "c80da08a-0c0c-43ca-9c32-9ee34862cf0d",
   "metadata": {},
   "outputs": [],
   "source": [
    "# order_data = 'AMZN_2012-06-21_34200000_57600000_orderbook_10.csv'\n",
    "\n",
    "# orders = pd.read_csv(path / order_data, header=None, names=cols)"
   ]
  },
  {
   "cell_type": "code",
   "execution_count": 14,
   "id": "a9237b64-631f-47e4-8e51-46e1b04a9e57",
   "metadata": {},
   "outputs": [],
   "source": [
    "# orders.info()"
   ]
  },
  {
   "cell_type": "code",
   "execution_count": 15,
   "id": "a381227e-b0fb-4b95-b119-34fc99b1deb0",
   "metadata": {},
   "outputs": [],
   "source": [
    "# orders.head()"
   ]
  },
  {
   "cell_type": "markdown",
   "id": "1e6a4e34-8a25-4597-a361-74b0a622b3a7",
   "metadata": {},
   "source": [
    "### Parse Message Data"
   ]
  },
  {
   "cell_type": "code",
   "execution_count": 16,
   "id": "18968c21-787b-438d-bd28-f427e3380a25",
   "metadata": {},
   "outputs": [],
   "source": [
    "types = {1: 'submission',\n",
    "         2: 'cancellation',\n",
    "         3: 'deletion',\n",
    "         4: 'execution_visible',\n",
    "         5: 'execution_hidden',\n",
    "         7: 'trading_halt'}"
   ]
  },
  {
   "cell_type": "code",
   "execution_count": 17,
   "id": "36cc1179-1b09-4d55-bf8d-d000f9be1fdd",
   "metadata": {},
   "outputs": [],
   "source": [
    "trading_date = '2012-06-21'\n",
    "\n",
    "levels = 10"
   ]
  },
  {
   "cell_type": "code",
   "execution_count": 19,
   "id": "ef68f680-084f-44ca-8b26-ead9c1be71bc",
   "metadata": {},
   "outputs": [],
   "source": [
    "message_data = 'AMZN_{}_34200000_57600000_message_{}.csv'.format(\n",
    "    trading_date, levels)\n",
    "messages = pd.read_csv(path / message_data,\n",
    "                       header=None,\n",
    "                       names=['time', 'type', 'order_id', 'size', 'price', 'direction'])\n",
    "messages.info()"
   ]
  },
  {
   "cell_type": "code",
   "execution_count": 20,
   "id": "c4d89084-12d2-43a0-a000-10b6581e0a3b",
   "metadata": {},
   "outputs": [],
   "source": [
    "messages.head()"
   ]
  },
  {
   "cell_type": "code",
   "execution_count": 21,
   "id": "c973fcfc-8d1e-4afd-97fc-567fc4011e07",
   "metadata": {},
   "outputs": [],
   "source": [
    "messages.type.map(types).value_counts()"
   ]
  },
  {
   "cell_type": "code",
   "execution_count": 22,
   "id": "97b78357-f1d5-422e-af70-bb5b18bce5bf",
   "metadata": {},
   "outputs": [],
   "source": [
    "messages.time = pd.to_timedelta(messages.time, unit='s')\n",
    "messages['trading_date'] = pd.to_datetime(trading_date)\n",
    "messages.time = messages.trading_date.add(messages.time)\n",
    "messages.drop('trading_date', axis=1, inplace=True)\n",
    "\n",
    "messages.head()"
   ]
  },
  {
   "cell_type": "markdown",
   "id": "fbf48cf5-45c3-470b-b3f4-5bf5924f45f3",
   "metadata": {},
   "source": [
    "### Combine Message & Price Data"
   ]
  },
  {
   "cell_type": "code",
   "execution_count": 24,
   "id": "d5177f4c-08e3-4380-af46-3939cdb63465",
   "metadata": {},
   "outputs": [],
   "source": [
    "data = pd.concat([messages, orders], axis=1)\n",
    "data.info()"
   ]
  },
  {
   "cell_type": "code",
   "execution_count": 25,
   "id": "51fc5ece-6264-4695-8b82-c8e8e46556bf",
   "metadata": {},
   "outputs": [],
   "source": [
    "ex = data[data.type.isin([4, 5])]"
   ]
  },
  {
   "cell_type": "code",
   "execution_count": null,
   "id": "b4dda1da-7709-4dc8-b596-884065aa1a72",
   "metadata": {},
   "outputs": [],
   "source": [
    "ex.head()"
   ]
  },
  {
   "cell_type": "markdown",
   "id": "dceb8f7c-2751-4fdb-ae49-563f09fd2d3c",
   "metadata": {},
   "source": [
    "### Plot Limit Order Prices for Messages with Visible or Hidden Execution"
   ]
  },
  {
   "cell_type": "code",
   "execution_count": 26,
   "id": "ea729f01-8750-48da-9efb-d1060bf75b33",
   "metadata": {},
   "outputs": [],
   "source": [
    "cmaps = {'Bid': 'Blues','Ask': 'Reds'}"
   ]
  },
  {
   "cell_type": "code",
   "execution_count": 28,
   "id": "4db476a9-07de-41f9-a3af-169e811a94f8",
   "metadata": {},
   "outputs": [],
   "source": [
    "fig, ax=plt.subplots(figsize=(14, 8))\n",
    "time = ex['time'].dt.to_pydatetime()\n",
    "\n",
    "for i in range(10):\n",
    "    for t in ['Bid', 'Ask']:\n",
    "        y, c = ex['{} Price {}'.format(t, i)], ex['{} Size {}'.format(t, i)]\n",
    "        ax.scatter(x=time, y=y, c=c, cmap=cmaps[t], s=1, vmin=1, vmax=c.quantile(.95))\n",
    "\n",
    "ax.set_xlim(datetime(2012, 6, 21, 9, 30), datetime(2012, 6, 21, 16, 0))\n",
    "sns.despine()\n",
    "fig.tight_layout();"
   ]
  },
  {
   "cell_type": "code",
   "execution_count": null,
   "id": "90819862-2ddc-45d9-a307-fd05d21ed7d6",
   "metadata": {},
   "outputs": [],
   "source": []
  }
 ],
 "metadata": {
  "kernelspec": {
   "display_name": "Python 3 (ipykernel)",
   "language": "python",
   "name": "python3"
  },
  "language_info": {
   "codemirror_mode": {
    "name": "ipython",
    "version": 3
   },
   "file_extension": ".py",
   "mimetype": "text/x-python",
   "name": "python",
   "nbconvert_exporter": "python",
   "pygments_lexer": "ipython3",
   "version": "3.12.9"
  }
 },
 "nbformat": 4,
 "nbformat_minor": 5
}
