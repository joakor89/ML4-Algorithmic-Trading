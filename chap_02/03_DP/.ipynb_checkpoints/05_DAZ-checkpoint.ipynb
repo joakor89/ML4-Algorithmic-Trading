{
 "cells": [
  {
   "cell_type": "markdown",
   "id": "95079ec5-a32d-439a-8792-b6d654f487dc",
   "metadata": {},
   "source": [
    "# Data Access with Zipline\n",
    "\n",
    "### Loading Libraries"
   ]
  },
  {
   "cell_type": "code",
   "execution_count": 1,
   "id": "e4fede94-c9d5-44e8-8bdc-2ab8ac424866",
   "metadata": {},
   "outputs": [],
   "source": [
    "# Data Manipulation\n",
    "import pandas as pd\n",
    "\n",
    "# Data Visualization\n",
    "import seaborn as sns\n",
    "import matplotlib.pyplot as plt"
   ]
  },
  {
   "cell_type": "code",
   "execution_count": 2,
   "id": "ad7a7102-97df-4e4e-b16d-a3e803219fc3",
   "metadata": {},
   "outputs": [],
   "source": [
    "%load_ext zipline"
   ]
  },
  {
   "cell_type": "code",
   "execution_count": 5,
   "id": "085fe66b-1b0f-4abf-a309-1e94e0a16685",
   "metadata": {},
   "outputs": [
    {
     "name": "stdout",
     "output_type": "stream",
     "text": [
      "3.1\n"
     ]
    }
   ],
   "source": [
    "import zipline\n",
    "from zipline import run_algorithm\n",
    "from zipline.api import order, record, symbol\n",
    "print(zipline.__version__)"
   ]
  },
  {
   "cell_type": "markdown",
   "id": "1bec6e4f-8aed-4e61-8a1e-e538dd7b8a3b",
   "metadata": {},
   "source": [
    "### ZipLine Demo"
   ]
  },
  {
   "cell_type": "code",
   "execution_count": 7,
   "id": "268a9c75-efde-4d13-b69b-1f9ec1e69920",
   "metadata": {},
   "outputs": [],
   "source": [
    "# !zipline ingest"
   ]
  },
  {
   "cell_type": "code",
   "execution_count": 8,
   "id": "2d309eca-0264-4f37-b1ae-e2a958b3b5c5",
   "metadata": {},
   "outputs": [],
   "source": [
    "# !zipline bundles"
   ]
  },
  {
   "cell_type": "markdown",
   "id": "0f4ad7cd-3d6c-4762-b48c-6999058b7bbf",
   "metadata": {},
   "source": [
    "#### Data Access using `Zipline`"
   ]
  },
  {
   "cell_type": "code",
   "execution_count": 11,
   "id": "dc625194-c376-4926-96e9-d33175dc2a1f",
   "metadata": {},
   "outputs": [],
   "source": [
    "%%zipline --start 2010-1-1 --end 2018-1-1 --data-frequency daily --no-benchmark\n",
    "from zipline.api import order_target, record, symbol\n",
    "import pandas as pd\n",
    "\n",
    "def initialize(context):\n",
    "    context.i = 0\n",
    "    context.assets = [symbol('FB'), symbol('GOOG'), symbol('AMZN')]\n",
    "    \n",
    "def handle_data(context, data):\n",
    "    df = data.history(context.assets, fields=['price', 'volume'], bar_count=1, frequency=\"1d\")\n",
    "    df = df.reset_index()\n",
    "    \n",
    "    if context.i == 0:\n",
    "        df.columns = ['date', 'asset', 'price', 'volume']\n",
    "        df.to_csv('stock_data.csv', index=False)\n",
    "    else:\n",
    "        df.to_csv('stock_data.csv', index=False, mode='a', header=None)\n",
    "    context.i += 1"
   ]
  },
  {
   "cell_type": "code",
   "execution_count": 13,
   "id": "3df8c707-be89-40d2-87a9-5815148de9a9",
   "metadata": {},
   "outputs": [],
   "source": [
    "df = pd.read_csv('stock_data.csv')\n",
    "\n",
    "df.date = pd.to_datetime(df.date)\n",
    "df.set_index('date').groupby('asset').price.plot(lw=2, legend=True, figsize=(14, 6))"
   ]
  },
  {
   "cell_type": "markdown",
   "id": "c26fed29-aabe-4c36-ae7f-8d9638f61706",
   "metadata": {},
   "source": [
    "#### Simple Moving Average Strategy"
   ]
  },
  {
   "cell_type": "code",
   "execution_count": 15,
   "id": "fde283b8-332a-4e78-bf14-cc1ce7bbc158",
   "metadata": {},
   "outputs": [],
   "source": [
    "%%zipline --start 2014-1-1 --end 2018-1-1 --no-benchmark -o dma.pickle\n",
    "from zipline.api import order_target, record, symbol\n",
    "import matplotlib.pyplot as plt\n",
    "\n",
    "def initialize(context):\n",
    "    context.i = 0\n",
    "    context.asset = symbol('AAPL')\n",
    "\n",
    "\n",
    "def handle_data(context, data):\n",
    "    # Skip first 300 days to get full windows\n",
    "    context.i += 1\n",
    "    if context.i < 300:\n",
    "        return\n",
    "\n",
    "    # Compute averages\n",
    "    # data.history() has to be called with the same params\n",
    "    # from above and returns a pandas dataframe.\n",
    "    short_mavg = data.history(context.asset, 'price', bar_count=100, frequency=\"1d\").mean()\n",
    "    long_mavg = data.history(context.asset, 'price', bar_count=300, frequency=\"1d\").mean()\n",
    "\n",
    "    # Trading logic\n",
    "    if short_mavg > long_mavg:\n",
    "        # order_target orders as many shares as needed to\n",
    "        # achieve the desired number of shares.\n",
    "        order_target(context.asset, 100)\n",
    "    elif short_mavg < long_mavg:\n",
    "        order_target(context.asset, 0)\n",
    "\n",
    "    # Save values for later inspection\n",
    "    record(AAPL=data.current(context.asset, 'price'),\n",
    "           short_mavg=short_mavg,\n",
    "           long_mavg=long_mavg)\n",
    "\n",
    "\n",
    "def analyze(context, perf):\n",
    "    fig, (ax1, ax2) = plt.subplots(nrows=2,figsize=(14, 8))\n",
    "    perf.portfolio_value.plot(ax=ax1)\n",
    "    ax1.set_ylabel('portfolio value in $')\n",
    "\n",
    "    perf['AAPL'].plot(ax=ax2)\n",
    "    perf[['short_mavg', 'long_mavg']].plot(ax=ax2)\n",
    "\n",
    "    perf_trans = perf.loc[[t != [] for t in perf.transactions]]\n",
    "    buys = perf_trans.loc[[t[0]['amount'] > 0 for t in perf_trans.transactions]]\n",
    "    sells = perf_trans.loc[\n",
    "        [t[0]['amount'] < 0 for t in perf_trans.transactions]]\n",
    "    ax2.plot(buys.index, perf.short_mavg.loc[buys.index],\n",
    "             '^', markersize=10, color='m')\n",
    "    ax2.plot(sells.index, perf.short_mavg.loc[sells.index],\n",
    "             'v', markersize=10, color='k')\n",
    "    ax2.set_ylabel('price in $')\n",
    "    plt.legend(loc=0)\n",
    "    plt.show() "
   ]
  },
  {
   "cell_type": "code",
   "execution_count": null,
   "id": "68dac94f-82bf-4c13-b748-33013c95c5cf",
   "metadata": {},
   "outputs": [],
   "source": []
  }
 ],
 "metadata": {
  "kernelspec": {
   "display_name": "Python 3 (ipykernel)",
   "language": "python",
   "name": "python3"
  },
  "language_info": {
   "codemirror_mode": {
    "name": "ipython",
    "version": 3
   },
   "file_extension": ".py",
   "mimetype": "text/x-python",
   "name": "python",
   "nbconvert_exporter": "python",
   "pygments_lexer": "ipython3",
   "version": "3.12.9"
  }
 },
 "nbformat": 4,
 "nbformat_minor": 5
}
