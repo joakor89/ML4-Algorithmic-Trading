{
 "cells": [
  {
   "cell_type": "markdown",
   "id": "51ffa39a-b090-4725-980e-41846d52f969",
   "metadata": {},
   "source": [
    "# Working with Order Book Data\n",
    "\n",
    "### Loading Libraries"
   ]
  },
  {
   "cell_type": "code",
   "execution_count": 1,
   "id": "fe7e703b-76d1-4263-a1cc-934ee84575c0",
   "metadata": {},
   "outputs": [],
   "source": [
    "# Numerical Computing\n",
    "import numpy as np\n",
    "\n",
    "# Data Manipulation\n",
    "import pandas as pd\n",
    "\n",
    "# Data Visualization\n",
    "import seaborn as sns\n",
    "import matplotlib.pyplot as plt\n",
    "from matplotlib.ticker import FuncFormatter\n",
    "\n",
    "# Warnings\n",
    "import warnings\n",
    "\n",
    "# File Path\n",
    "import gzip\n",
    "from pathlib import Path\n",
    "from urllib.request import urlretrieve\n",
    "from urllib.parse import urljoin\n",
    "\n",
    "# Date & Time\n",
    "from time import time\n",
    "from datetime import timedelta\n",
    "\n",
    "# Collections\n",
    "from collections import namedtuple, Counter, defaultdict\n",
    "\n",
    "# Operating System\n",
    "import os\n",
    "import shutil\n",
    "from struct import unpack"
   ]
  },
  {
   "cell_type": "code",
   "execution_count": 2,
   "id": "6379b742-5f9b-4cab-85c0-87b790fa9f7f",
   "metadata": {},
   "outputs": [],
   "source": [
    "%matplotlib inline"
   ]
  },
  {
   "cell_type": "code",
   "execution_count": 3,
   "id": "3d5b6e08-c637-4e37-9168-171491635ec2",
   "metadata": {},
   "outputs": [],
   "source": [
    "warnings.filterwarnings('ignore')"
   ]
  },
  {
   "cell_type": "code",
   "execution_count": 4,
   "id": "45b3d5b6-bdd1-48e3-bcb4-7478e457fdc0",
   "metadata": {},
   "outputs": [],
   "source": [
    "sns.set_style('whitegrid')"
   ]
  },
  {
   "cell_type": "code",
   "execution_count": 5,
   "id": "e5930597-d280-4547-a3c2-8db4c24c6562",
   "metadata": {},
   "outputs": [],
   "source": [
    "def format_time(t):\n",
    "    \"\"\"Return a formatted time string 'HH:MM:SS\n",
    "    based on a numeric time() value\"\"\"\n",
    "    m, s = divmod(t, 60)\n",
    "    h, m = divmod(m, 60)\n",
    "    return f'{h:0>2.0f}:{m:0>2.0f}:{s:0>2.0f}'"
   ]
  },
  {
   "cell_type": "markdown",
   "id": "f38caa44-253d-40b9-b390-1190fab53ce7",
   "metadata": {},
   "source": [
    "#### Set Data Paths"
   ]
  },
  {
   "cell_type": "code",
   "execution_count": 6,
   "id": "1337ff73-f341-425b-9e93-1564c13da3f1",
   "metadata": {},
   "outputs": [],
   "source": [
    "data_path = Path('data') \n",
    "\n",
    "itch_store = str(data_path / 'itch.h5')\n",
    "\n",
    "order_book_store = data_path / 'order_book.h5'\n",
    "\n",
    "date = '10302019'"
   ]
  },
  {
   "cell_type": "markdown",
   "id": "3ce903c4-9744-4b35-a8bc-8da2f6ca81aa",
   "metadata": {},
   "source": [
    "### Build Order Book"
   ]
  },
  {
   "cell_type": "code",
   "execution_count": null,
   "id": "5d9ee86f-62e3-41c1-8354-dcb5d02f0edc",
   "metadata": {},
   "outputs": [],
   "source": []
  }
 ],
 "metadata": {
  "kernelspec": {
   "display_name": "Python 3 (ipykernel)",
   "language": "python",
   "name": "python3"
  },
  "language_info": {
   "codemirror_mode": {
    "name": "ipython",
    "version": 3
   },
   "file_extension": ".py",
   "mimetype": "text/x-python",
   "name": "python",
   "nbconvert_exporter": "python",
   "pygments_lexer": "ipython3",
   "version": "3.12.9"
  }
 },
 "nbformat": 4,
 "nbformat_minor": 5
}
