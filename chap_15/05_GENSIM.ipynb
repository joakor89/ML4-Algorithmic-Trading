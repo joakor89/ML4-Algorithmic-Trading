{
 "cells": [
  {
   "cell_type": "markdown",
   "id": "81e78d69-3158-4367-894c-9a3d8211f827",
   "metadata": {},
   "source": [
    "# Topic Modeling: Latent Dirichlet Allocation with `gensim`\n",
    "\n",
    "### Loading Libraries"
   ]
  },
  {
   "cell_type": "code",
   "execution_count": 5,
   "id": "b34b92f8-c71a-467d-8ab6-dd0f2369a428",
   "metadata": {},
   "outputs": [],
   "source": [
    "# Numerical Computing\n",
    "import numpy as np\n",
    "\n",
    "# Data Manipulation\n",
    "import pandas as pd\n",
    "\n",
    "# Data Visualziation\n",
    "import seaborn as sns\n",
    "import matplotlib.pyplot as plt\n",
    "from matplotlib.ticker import FuncFormatter\n",
    "\n",
    "# Warnings\n",
    "import warnings\n",
    "\n",
    "\n",
    "# Path & Collection\n",
    "from pathlib import Path\n",
    "from collections import OrderedDict\n",
    "\n",
    "# PyLDAvis\n",
    "import pyLDAvis\n",
    "from pyLDAvis.sklearn import prepare\n",
    "import pyLDAvis.sklearn_models as sklearn_lda\n",
    "\n",
    "# Worlcloud\n",
    "from termcolor import colored\n",
    "from wordcloud import WordCloud"
   ]
  },
  {
   "cell_type": "code",
   "execution_count": 6,
   "id": "48bc2b87-dbdc-44f3-ad04-4ced4d2ba85f",
   "metadata": {},
   "outputs": [],
   "source": [
    "%matplotlib inline"
   ]
  },
  {
   "cell_type": "code",
   "execution_count": 7,
   "id": "7e0b11ce-53b2-457a-9b4e-88cbc9233189",
   "metadata": {},
   "outputs": [],
   "source": [
    "np.random.seed(42)\n",
    "\n",
    "sns.set_style('white')\n",
    "\n",
    "warnings.filterwarnings('ignore')"
   ]
  },
  {
   "cell_type": "code",
   "execution_count": 8,
   "id": "2f02a8dd-8c4d-4e90-a213-7f465f71cd2a",
   "metadata": {},
   "outputs": [],
   "source": [
    "pyLDAvis.enable_notebook()"
   ]
  },
  {
   "cell_type": "markdown",
   "id": "5befb96d-e1cf-45b4-9012-0aa581f9ce80",
   "metadata": {},
   "source": [
    "### Loading BBC Data"
   ]
  },
  {
   "cell_type": "code",
   "execution_count": 9,
   "id": "d5a504b2-7d15-4d25-8ebd-c03d437d22be",
   "metadata": {},
   "outputs": [],
   "source": [
    "DATA_DIR = Path('../data')"
   ]
  },
  {
   "cell_type": "code",
   "execution_count": 10,
   "id": "2de72608-47af-4eae-947e-a19482ebd2c8",
   "metadata": {},
   "outputs": [],
   "source": [
    "path = DATA_DIR / 'bbc'\n",
    "\n",
    "files = path.glob('**/*.txt')\n",
    "\n",
    "doc_list = []\n",
    "\n",
    "for i, file in enumerate(files):\n",
    "    with open(str(file), encoding='latin1') as f:\n",
    "        topic = file.parts[-2]\n",
    "        lines = f.readlines()\n",
    "        heading = lines[0].strip()\n",
    "        body = ' '.join([l.strip() for l in lines[1:]])\n",
    "        doc_list.append([topic.capitalize(), heading, body])"
   ]
  },
  {
   "cell_type": "markdown",
   "id": "6a6fed00-c78b-48cd-8e5d-b77bee5609fa",
   "metadata": {},
   "source": [
    "#### DataFrame Conversion"
   ]
  },
  {
   "cell_type": "code",
   "execution_count": 12,
   "id": "e4e0f072-a924-4f15-a6ff-3fc52efb0145",
   "metadata": {},
   "outputs": [],
   "source": [
    "docs = pd.DataFrame(doc_list, columns=['topic', 'heading', 'article'])\n",
    "\n",
    "docs.info()"
   ]
  },
  {
   "cell_type": "markdown",
   "id": "ec1068f0-a933-45b5-a83c-0e568999ef33",
   "metadata": {},
   "source": [
    "### Creating Train & Test Sets"
   ]
  },
  {
   "cell_type": "code",
   "execution_count": 13,
   "id": "8a4a5fd8-f74c-4c5b-baf2-324bec32df02",
   "metadata": {},
   "outputs": [],
   "source": [
    "train_docs, test_docs = train_test_split(docs, \n",
    "                                         stratify=docs.topic, \n",
    "                                         test_size=50, \n",
    "                                         random_state=42)"
   ]
  },
  {
   "cell_type": "code",
   "execution_count": 14,
   "id": "3c0e4534-06bf-4a06-8ba4-05ff9f04a2df",
   "metadata": {},
   "outputs": [],
   "source": [
    "train_docs.shape, test_docs.shape"
   ]
  },
  {
   "cell_type": "code",
   "execution_count": 15,
   "id": "0692dacf-901c-4113-b3e7-95c9ca1ef83b",
   "metadata": {},
   "outputs": [],
   "source": [
    "pd.Series(test_docs.topic).value_counts()"
   ]
  },
  {
   "cell_type": "markdown",
   "id": "fe4795ac-4f2f-484f-93e2-ed09a7e408fa",
   "metadata": {},
   "source": [
    "### Vectorizing Train & Test Sets"
   ]
  },
  {
   "cell_type": "code",
   "execution_count": 16,
   "id": "af7a6e93-c747-4270-a079-772759198d22",
   "metadata": {},
   "outputs": [],
   "source": [
    "vectorizer = CountVectorizer(max_df=.2, \n",
    "                             min_df=3, \n",
    "                             stop_words='english', \n",
    "                             max_features=2000)\n",
    "\n",
    "train_dtm = vectorizer.fit_transform(train_docs.article)\n",
    "words = vectorizer.get_feature_names()\n",
    "train_dtm"
   ]
  },
  {
   "cell_type": "code",
   "execution_count": 17,
   "id": "8f62ccd0-c2a0-46db-bdb9-f5cd08cf3f5f",
   "metadata": {},
   "outputs": [],
   "source": [
    "test_dtm = vectorizer.transform(test_docs.article)\n",
    "\n",
    "test_dtm"
   ]
  },
  {
   "cell_type": "markdown",
   "id": "8e983b1c-8e63-4c1a-a6b2-35dc21c6cdd5",
   "metadata": {},
   "source": [
    "### LDA with `gensim`\n",
    "\n",
    "#### Using `CountVectorizer` Input"
   ]
  },
  {
   "cell_type": "code",
   "execution_count": 18,
   "id": "c4aebcb0-e5ee-48fd-83ca-ab86c3d38241",
   "metadata": {},
   "outputs": [],
   "source": [
    "max_df = .2\n",
    "\n",
    "min_df = 3\n",
    "\n",
    "max_features = 2000\n",
    "\n",
    "stop_words = pd.read_csv('http://ir.dcs.gla.ac.uk/resources/linguistic_utils/stop_words', \n",
    "                         header=None, \n",
    "                         squeeze=True).tolist()"
   ]
  },
  {
   "cell_type": "code",
   "execution_count": 19,
   "id": "795bf489-6333-4146-b78f-b76368c752b5",
   "metadata": {},
   "outputs": [],
   "source": [
    "vectorizer = CountVectorizer(max_df=max_df, \n",
    "                             min_df=min_df, \n",
    "                             stop_words='english', \n",
    "                             max_features=max_features)\n",
    "\n",
    "train_dtm = vectorizer.fit_transform(train_docs.article)\n",
    "\n",
    "test_dtm = vectorizer.transform(test_docs.article)"
   ]
  },
  {
   "cell_type": "markdown",
   "id": "1cb4a31a-3683-472b-9ea0-3932d164053f",
   "metadata": {},
   "source": [
    "### Sklearn DTM to gensim Data Structures Conversion"
   ]
  },
  {
   "cell_type": "code",
   "execution_count": 20,
   "id": "8809e862-1b92-4584-b018-fced44542f95",
   "metadata": {},
   "outputs": [],
   "source": [
    "train_corpus = Sparse2Corpus(train_dtm, documents_columns=False)\n",
    "test_corpus = Sparse2Corpus(test_dtm, documents_columns=False)\n",
    "\n",
    "id2word = pd.Series(vectorizer.get_feature_names()).to_dict()"
   ]
  },
  {
   "cell_type": "markdown",
   "id": "9688f4e6-d693-4a06-9cc6-4e79c5a431d4",
   "metadata": {},
   "source": [
    "### Training Model & Review Results"
   ]
  },
  {
   "cell_type": "code",
   "execution_count": 21,
   "id": "d0e44ea3-9dbc-4faa-81c9-ecb2dcb9ca8d",
   "metadata": {},
   "outputs": [],
   "source": [
    "LdaModel(corpus=train_corpus, \n",
    "         num_topics=100, \n",
    "         id2word=None, \n",
    "         distributed=False, \n",
    "         chunksize=2000,                   \n",
    "         passes=1,                         \n",
    "         update_every=1,                   \n",
    "         alpha='symmetric', \n",
    "         eta=None,                         \n",
    "         decay=0.5,                        \n",
    "         offset=1.0,                       \n",
    "         eval_every=10,                    \n",
    "         iterations=50,                    \n",
    "         gamma_threshold=0.001,            \n",
    "         minimum_probability=0.01,         \n",
    "         random_state=None, \n",
    "         ns_conf=None, \n",
    "         minimum_phi_value=0.01,           \n",
    "         per_word_topics=False,            \n",
    "         callbacks=None);"
   ]
  },
  {
   "cell_type": "code",
   "execution_count": null,
   "id": "8e6b6d03-0cab-4837-aa94-c9800f9ba85c",
   "metadata": {},
   "outputs": [],
   "source": [
    "num_topics = 5\n",
    "\n",
    "topic_labels = ['Topic {}'.format(i) for i in range(1, num_topics+1)]"
   ]
  },
  {
   "cell_type": "code",
   "execution_count": null,
   "id": "e24c8588-9645-41a0-b7a4-15e7bacfb92a",
   "metadata": {},
   "outputs": [],
   "source": [
    "lda_gensim = LdaModel(corpus=train_corpus,\n",
    "                      num_topics=num_topics,\n",
    "                      id2word=id2word)"
   ]
  },
  {
   "cell_type": "code",
   "execution_count": 22,
   "id": "b20ca3b4-bf1c-4b89-9298-22ba35287bc1",
   "metadata": {},
   "outputs": [],
   "source": [
    "topics = lda_gensim.print_topics()\n",
    "\n",
    "topics[0]"
   ]
  },
  {
   "cell_type": "markdown",
   "id": "6279dd2c-b770-48d3-94c6-54d1ce571e85",
   "metadata": {},
   "source": [
    "### Evaluating Topic Coherence"
   ]
  },
  {
   "cell_type": "code",
   "execution_count": 23,
   "id": "b347651d-3808-46e9-9648-80f810568078",
   "metadata": {},
   "outputs": [],
   "source": [
    "coherence = lda_gensim.top_topics(corpus=train_corpus, coherence='u_mass')"
   ]
  },
  {
   "cell_type": "code",
   "execution_count": 24,
   "id": "28ad204d-475b-49e5-a86e-bccdefa83eb2",
   "metadata": {},
   "outputs": [],
   "source": [
    "topic_coherence = []\n",
    "\n",
    "topic_words = pd.DataFrame()\n",
    "\n",
    "for t in range(len(coherence)):\n",
    "    label = topic_labels[t]\n",
    "    topic_coherence.append(coherence[t][1])\n",
    "    df = pd.DataFrame(coherence[t][0], columns=[(label, 'prob'), (label, 'term')])\n",
    "    df[(label, 'prob')] = df[(label, 'prob')].apply(lambda x: '{:.2%}'.format(x))\n",
    "    topic_words = pd.concat([topic_words, df], axis=1)\n",
    "                      \n",
    "topic_words.columns = pd.MultiIndex.from_tuples(topic_words.columns)\n",
    "pd.set_option('expand_frame_repr', False)\n",
    "topic_words.head().to_csv('topic_words.csv', index=False)\n",
    "print(topic_words.head())\n",
    "\n",
    "pd.Series(topic_coherence, index=topic_labels).plot.bar(figsize=(12,4));"
   ]
  },
  {
   "cell_type": "markdown",
   "id": "29d04957-47e6-4bc0-bbae-c6d917044ba7",
   "metadata": {},
   "source": [
    "### Using `gensim` Dictionary"
   ]
  },
  {
   "cell_type": "code",
   "execution_count": 26,
   "id": "33b4194c-045a-4d73-a9a2-d46eb95b7ee3",
   "metadata": {},
   "outputs": [],
   "source": [
    "docs = [d.split() for d in train_docs.article.tolist()]\n",
    "\n",
    "docs = [[t for t in doc if t not in stop_words] for doc in docs]"
   ]
  },
  {
   "cell_type": "code",
   "execution_count": 27,
   "id": "b863e7e1-c40f-44db-921f-afe863965766",
   "metadata": {},
   "outputs": [],
   "source": [
    "dictionary = Dictionary(docs)\n",
    "\n",
    "dictionary.filter_extremes(no_below=min_df, no_above=max_df, keep_n=max_features)"
   ]
  },
  {
   "cell_type": "code",
   "execution_count": 28,
   "id": "f54858d0-ff57-4aef-8029-fe776e1973b0",
   "metadata": {},
   "outputs": [],
   "source": [
    "corpus = [dictionary.doc2bow(doc) for doc in docs]"
   ]
  },
  {
   "cell_type": "code",
   "execution_count": 29,
   "id": "2d57ba1e-7c8d-4efa-adcc-7a2dfba850d2",
   "metadata": {},
   "outputs": [],
   "source": [
    "print('Number of unique tokens: %d' % len(dictionary))\n",
    "\n",
    "print('Number of documents: %d' % len(corpus))"
   ]
  },
  {
   "cell_type": "code",
   "execution_count": 30,
   "id": "cb100d2a-6a7b-4192-a5a6-96e95081b983",
   "metadata": {},
   "outputs": [],
   "source": [
    "num_topics = 5\n",
    "chunksize = 500\n",
    "passes = 20\n",
    "iterations = 400\n",
    "eval_every = None \n",
    "\n",
    "temp = dictionary[0]  \n",
    "id2word = dictionary.id2token"
   ]
  },
  {
   "cell_type": "code",
   "execution_count": 31,
   "id": "b3e51819-c599-46f6-adfb-bd1ae3c68f15",
   "metadata": {},
   "outputs": [],
   "source": [
    "model = LdaModel(corpus=corpus,\n",
    "                 id2word=id2word,\n",
    "                 chunksize=chunksize,\n",
    "                 alpha='auto',\n",
    "                 eta='auto',\n",
    "                 iterations=iterations,\n",
    "                 num_topics=num_topics,\n",
    "                 passes=passes, \n",
    "                 eval_every=eval_every)"
   ]
  },
  {
   "cell_type": "code",
   "execution_count": 32,
   "id": "faba3d1f-aa3a-4ce5-8d35-dff33b868de8",
   "metadata": {},
   "outputs": [],
   "source": [
    "model.show_topics()"
   ]
  },
  {
   "cell_type": "markdown",
   "id": "5de089cf-0e35-4514-a627-369e7bfe7c4f",
   "metadata": {},
   "source": [
    "### Evaluating Topic Assignments on the Test Set"
   ]
  },
  {
   "cell_type": "code",
   "execution_count": 33,
   "id": "b366ea4f-e4e3-4ab0-9ba6-bebca10dd71c",
   "metadata": {},
   "outputs": [],
   "source": [
    "docs_test = [d.split() for d in test_docs.article.tolist()]\n",
    "docs_test = [[t for t in doc if t not in stop_words] for doc in docs_test]\n",
    "\n",
    "test_dictionary = Dictionary(docs_test)\n",
    "test_dictionary.filter_extremes(no_below=min_df, no_above=max_df, keep_n=max_features)\n",
    "test_corpus = [dictionary.doc2bow(doc) for doc in docs_test]"
   ]
  },
  {
   "cell_type": "code",
   "execution_count": 34,
   "id": "0652b77f-cdc8-491b-a965-a128a4e66f25",
   "metadata": {},
   "outputs": [],
   "source": [
    "gamma, _ = model.inference(test_corpus)\n",
    "topic_scores = pd.DataFrame(gamma)\n",
    "\n",
    "topic_scores.head(10)"
   ]
  },
  {
   "cell_type": "code",
   "execution_count": 35,
   "id": "91540d20-858e-4ac0-96f7-72aeac9ae936",
   "metadata": {},
   "outputs": [],
   "source": [
    "topic_probabilities = topic_scores.div(topic_scores.sum(axis=1), axis=0)\n",
    "topic_probabilities.head()"
   ]
  },
  {
   "cell_type": "code",
   "execution_count": 37,
   "id": "441c63af-b793-46ff-bc6b-ee540ae0876c",
   "metadata": {},
   "outputs": [],
   "source": [
    "topic_probabilities.idxmax(axis=1).head()"
   ]
  },
  {
   "cell_type": "code",
   "execution_count": 38,
   "id": "b217a60c-fec5-4d62-92c8-0bd5af2e608f",
   "metadata": {},
   "outputs": [],
   "source": [
    "predictions = test_docs.topic.to_frame('topic').assign(predicted=topic_probabilities.idxmax(axis=1).values)\n",
    "\n",
    "heatmap_data = predictions.groupby('topic').predicted.value_counts().unstack()\n",
    "\n",
    "sns.heatmap(heatmap_data, annot=True, cmap='Blues');\n",
    "plt.show"
   ]
  },
  {
   "cell_type": "code",
   "execution_count": null,
   "id": "e4054efb-8083-4da3-88ab-09e9c02dd28a",
   "metadata": {},
   "outputs": [],
   "source": []
  }
 ],
 "metadata": {
  "kernelspec": {
   "display_name": "Python 3 (ipykernel)",
   "language": "python",
   "name": "python3"
  },
  "language_info": {
   "codemirror_mode": {
    "name": "ipython",
    "version": 3
   },
   "file_extension": ".py",
   "mimetype": "text/x-python",
   "name": "python",
   "nbconvert_exporter": "python",
   "pygments_lexer": "ipython3",
   "version": "3.12.9"
  }
 },
 "nbformat": 4,
 "nbformat_minor": 5
}
