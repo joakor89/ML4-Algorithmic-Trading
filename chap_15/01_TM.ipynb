{
 "cells": [
  {
   "cell_type": "markdown",
   "id": "2478b2c7-7eaa-4c77-bded-c7b967218101",
   "metadata": {},
   "source": [
    "# Topic Modeling: Latent Semantic Analysis/Indexing\n",
    "\n",
    "### Loading Libraries"
   ]
  },
  {
   "cell_type": "code",
   "execution_count": 4,
   "id": "bfce099c-bca4-420e-a88e-ec512f62ea1c",
   "metadata": {},
   "outputs": [],
   "source": [
    "# Numerical Computing\n",
    "import numpy as np\n",
    "\n",
    "# Data Manipulation\n",
    "import pandas as pd\n",
    "\n",
    "# Data Visualziation\n",
    "import seaborn as sns\n",
    "import matplotlib.pyplot as plt\n",
    "\n",
    "# Warnings\n",
    "import warnings\n",
    "\n",
    "# Scikit-Learn\n",
    "from sklearn.decomposition import TruncatedSVD, PCA\n",
    "from sklearn.model_selection import train_test_split\n",
    "from sklearn.feature_extraction.text import TfidfVectorizer\n",
    "\n",
    "# Path & Random\n",
    "from pathlib import Path\n",
    "from random import randint"
   ]
  },
  {
   "cell_type": "code",
   "execution_count": 5,
   "id": "a6c26da1-514a-49ec-8963-54c54a8c2682",
   "metadata": {},
   "outputs": [],
   "source": [
    "sns.set_style('white')\n",
    "\n",
    "warnings.filterwarnings('ignore')"
   ]
  },
  {
   "cell_type": "markdown",
   "id": "17adb87f-8083-427a-9c9b-0a322577b481",
   "metadata": {},
   "source": [
    "### Loading BBC data"
   ]
  },
  {
   "cell_type": "code",
   "execution_count": 6,
   "id": "dbb02e89-f2e0-4972-b7e3-c8a5bb62510b",
   "metadata": {},
   "outputs": [],
   "source": [
    "DATA_DIR = Path('../data')"
   ]
  },
  {
   "cell_type": "code",
   "execution_count": 7,
   "id": "7b38c40e-c32b-476c-b6cc-2765c0811642",
   "metadata": {},
   "outputs": [],
   "source": [
    "path = DATA_DIR / 'bbc'\n",
    "\n",
    "files = sorted(list(path.glob('**/*.txt')))\n",
    "\n",
    "doc_list = []\n",
    "\n",
    "for i, file in enumerate(files):\n",
    "    with open(str(file), encoding='latin1') as f:\n",
    "        topic = file.parts[-2]\n",
    "        lines = f.readlines()\n",
    "        heading = lines[0].strip()\n",
    "        body = ' '.join([l.strip() for l in lines[1:]])\n",
    "        doc_list.append([topic.capitalize(), heading, body])"
   ]
  },
  {
   "cell_type": "markdown",
   "id": "7f5d9361-65b3-4972-beac-ab15e37c9187",
   "metadata": {},
   "source": [
    "#### DataFrame Conversion"
   ]
  },
  {
   "cell_type": "code",
   "execution_count": 8,
   "id": "605d1c60-9a81-4095-a5d5-7c8e53a3bddc",
   "metadata": {},
   "outputs": [
    {
     "name": "stdout",
     "output_type": "stream",
     "text": [
      "<class 'pandas.core.frame.DataFrame'>\n",
      "RangeIndex: 0 entries\n",
      "Data columns (total 3 columns):\n",
      " #   Column    Non-Null Count  Dtype \n",
      "---  ------    --------------  ----- \n",
      " 0   Category  0 non-null      object\n",
      " 1   Heading   0 non-null      object\n",
      " 2   Article   0 non-null      object\n",
      "dtypes: object(3)\n",
      "memory usage: 132.0+ bytes\n"
     ]
    }
   ],
   "source": [
    "docs = pd.DataFrame(doc_list, columns=['Category', 'Heading', 'Article'])\n",
    "docs.info()"
   ]
  },
  {
   "cell_type": "markdown",
   "id": "60236798-a563-430b-ae2d-30bdee09efec",
   "metadata": {},
   "source": [
    "### Creating Train & Test Sets"
   ]
  },
  {
   "cell_type": "code",
   "execution_count": 15,
   "id": "10d7121c-bc38-4e31-b2ca-58117e644f67",
   "metadata": {},
   "outputs": [],
   "source": [
    "train_docs, test_docs = train_test_split(docs,\n",
    "                                         stratify=docs.Category,\n",
    "                                         test_size=50,\n",
    "                                         random_state=42)"
   ]
  },
  {
   "cell_type": "code",
   "execution_count": 16,
   "id": "5afd3beb-7d84-450e-a9da-1216a93d6b0d",
   "metadata": {},
   "outputs": [],
   "source": [
    "train_docs.shape, test_docs.shape"
   ]
  },
  {
   "cell_type": "code",
   "execution_count": 17,
   "id": "89381593-334c-48de-9ff9-385780e13dd7",
   "metadata": {},
   "outputs": [],
   "source": [
    "pd.Series(test_docs.Category).value_counts()"
   ]
  },
  {
   "cell_type": "markdown",
   "id": "28be92f6-8263-40f7-9ff5-9f9924c629d5",
   "metadata": {},
   "source": [
    "### Vectorizing Train & Test Sets"
   ]
  },
  {
   "cell_type": "code",
   "execution_count": 18,
   "id": "d0ba3ef0-eb6d-4a0b-bb16-831380b6db27",
   "metadata": {},
   "outputs": [],
   "source": [
    "vectorizer = TfidfVectorizer(max_df=.25,\n",
    "                             min_df=.01,\n",
    "                             stop_words='english',\n",
    "                             binary=False)\n",
    "\n",
    "train_dtm = vectorizer.fit_transform(train_docs.Article)\n",
    "train_dtm"
   ]
  },
  {
   "cell_type": "code",
   "execution_count": 19,
   "id": "76949112-4736-485f-8e40-e248b61ba591",
   "metadata": {},
   "outputs": [],
   "source": [
    "test_dtm = vectorizer.transform(test_docs.Article)\n",
    "test_dtm"
   ]
  },
  {
   "cell_type": "markdown",
   "id": "f268fb82-62ee-483d-9bb1-82e05f83ffa4",
   "metadata": {},
   "source": [
    "#### Getting Token Count"
   ]
  },
  {
   "cell_type": "code",
   "execution_count": 20,
   "id": "b4205938-8a70-4c98-ab8a-e0dd223445bf",
   "metadata": {},
   "outputs": [],
   "source": [
    "train_token_count = train_dtm.sum(0).A.squeeze()\n",
    "\n",
    "tokens = vectorizer.get_feature_names()\n",
    "\n",
    "word_count = pd.Series(train_token_count,\n",
    "                       index=tokens).sort_values(ascending=False)\n",
    "\n",
    "word_count.head(10)"
   ]
  },
  {
   "cell_type": "markdown",
   "id": "179a4325-002b-4723-b50a-07d4962aa66f",
   "metadata": {},
   "source": [
    "### Latent Semantic Analysis"
   ]
  },
  {
   "cell_type": "code",
   "execution_count": 21,
   "id": "44bb8039-328e-4f4b-b4b2-5815e20523b9",
   "metadata": {},
   "outputs": [],
   "source": [
    "n_components = 5\n",
    "\n",
    "topic_labels = ['Topic {}'.format(i) for i in range(1, n_components + 1)]"
   ]
  },
  {
   "cell_type": "code",
   "execution_count": 22,
   "id": "797d5447-8e6a-48cf-a629-7a79cee7abf9",
   "metadata": {},
   "outputs": [],
   "source": [
    "svd = TruncatedSVD(n_components=n_components, n_iter=5, random_state=42)\n",
    "\n",
    "svd.fit(train_dtm)"
   ]
  },
  {
   "cell_type": "code",
   "execution_count": 23,
   "id": "2b3d9eb5-4d27-470c-883b-d75f31597464",
   "metadata": {},
   "outputs": [],
   "source": [
    "svd.singular_values_"
   ]
  },
  {
   "cell_type": "code",
   "execution_count": 24,
   "id": "9f0eac16-279b-4e3a-ab6b-e9c50876cfe0",
   "metadata": {},
   "outputs": [],
   "source": [
    "svd.explained_variance_ratio_.sum()"
   ]
  },
  {
   "cell_type": "markdown",
   "id": "e8997726-fa29-4d38-aea5-c1ef974bf3c8",
   "metadata": {},
   "source": [
    "### Exploring Topics"
   ]
  },
  {
   "cell_type": "code",
   "execution_count": 25,
   "id": "81c9929b-6bd0-44e0-ba79-1c9a91cf4a1f",
   "metadata": {},
   "outputs": [],
   "source": [
    "train_doc_topics = svd.transform(train_dtm)"
   ]
  },
  {
   "cell_type": "code",
   "execution_count": 26,
   "id": "10f4a8b6-4ae3-4a7d-b737-fe8e6ae23304",
   "metadata": {},
   "outputs": [],
   "source": [
    "train_doc_topics.shape"
   ]
  },
  {
   "cell_type": "markdown",
   "id": "f098b296-2a9e-4618-953e-c34c8e09f283",
   "metadata": {},
   "source": [
    "#### Topic Weights for Sample Article"
   ]
  },
  {
   "cell_type": "code",
   "execution_count": 27,
   "id": "781b623c-4b99-40ea-9cfe-a900c4ee8406",
   "metadata": {},
   "outputs": [],
   "source": [
    "i = randint(0, len(train_docs))\n",
    "\n",
    "(train_docs.iloc[i, :2].append(\n",
    "    pd.Series(train_doc_topics[i], index=topic_labels)))"
   ]
  },
  {
   "cell_type": "markdown",
   "id": "b6d6c8ce-b0d3-4c38-8629-86b92da9b7a8",
   "metadata": {},
   "source": [
    "#### Average topic weight per category"
   ]
  },
  {
   "cell_type": "code",
   "execution_count": 28,
   "id": "aa6e5d00-5c6f-43bc-9d4e-dc866c0d2bd2",
   "metadata": {},
   "outputs": [],
   "source": [
    "train_result = pd.DataFrame(data=train_doc_topics,\n",
    "                            columns=topic_labels,\n",
    "                            index=train_docs.Category)\n",
    "\n",
    "train_result.groupby(level='Category').mean().plot.bar(figsize=(14, 5), rot=0);"
   ]
  },
  {
   "cell_type": "markdown",
   "id": "90140fc1-71e0-4bc0-9e74-10019470c507",
   "metadata": {},
   "source": [
    "#### Topics Weights of Most Frequent Words"
   ]
  },
  {
   "cell_type": "code",
   "execution_count": 29,
   "id": "304370be-5076-4b49-a515-f9d7d7da814a",
   "metadata": {},
   "outputs": [],
   "source": [
    "topics = pd.DataFrame(svd.components_.T, index=tokens, columns=topic_labels)\n",
    "\n",
    "topics.loc[word_count.head(10).index]"
   ]
  },
  {
   "cell_type": "markdown",
   "id": "40c2bbd3-32e8-42ba-a47e-04258f79bffc",
   "metadata": {},
   "source": [
    "#### Most Important Words by Topic"
   ]
  },
  {
   "cell_type": "code",
   "execution_count": 30,
   "id": "a3e9cb53-0ff3-44f3-b4af-e6e4888e3c0c",
   "metadata": {},
   "outputs": [],
   "source": [
    "fig, ax = plt.subplots(figsize=(12, 4))\n",
    "\n",
    "top_words, top_vals = pd.DataFrame(), pd.DataFrame()\n",
    "\n",
    "for topic, words_ in topics.items():\n",
    "    top10 = words_.abs().nlargest(10).index\n",
    "    vals = words_.loc[top10].values\n",
    "    top_vals[topic] = vals\n",
    "    top_words[topic] = top10.tolist()\n",
    "sns.heatmap(pd.DataFrame(top_vals),\n",
    "            annot=top_words,\n",
    "            fmt='',\n",
    "            center=0,\n",
    "            cmap=sns.diverging_palette(0, 255, sep=1, n=256),\n",
    "            ax=ax)\n",
    "ax.set_title('Top Words per Topic')\n",
    "sns.despine()\n",
    "fig.tight_layout()\n",
    "plt.show()"
   ]
  },
  {
   "cell_type": "markdown",
   "id": "70de7ef5-a24b-4c53-bd85-f4fb6ab1d97e",
   "metadata": {},
   "source": [
    "#### Topics Weights for Test Set"
   ]
  },
  {
   "cell_type": "code",
   "execution_count": 31,
   "id": "e79b4923-cf8d-46c6-89ef-80b8615b7624",
   "metadata": {},
   "outputs": [],
   "source": [
    "test_eval = pd.DataFrame(data=svd.transform(test_dtm),\n",
    "                         columns=topic_labels,\n",
    "                         index=test_docs.Category)"
   ]
  },
  {
   "cell_type": "code",
   "execution_count": 32,
   "id": "d7fec8ad-1e4e-46bd-a928-775be187e2fc",
   "metadata": {},
   "outputs": [],
   "source": [
    "sns.set(font_scale=1.3)\n",
    "\n",
    "result = pd.melt(train_result.assign(Data='Train').append(\n",
    "    test_eval.assign(Data='Test')).reset_index(),\n",
    "                 id_vars=['Data', 'Category'],\n",
    "                 var_name='Topic',\n",
    "                 value_name='Weight')\n",
    "\n",
    "g = sns.catplot(x='Category',\n",
    "                y='Weight',\n",
    "                hue='Topic',\n",
    "                row='Data',\n",
    "                kind='bar',\n",
    "                data=result,\n",
    "                aspect=3.5);\n",
    "\n",
    "plt.show()"
   ]
  },
  {
   "cell_type": "markdown",
   "id": "9334c9b6-1105-447a-abaa-1ca02360c9fa",
   "metadata": {},
   "source": [
    "### Categories in 2-D"
   ]
  },
  {
   "cell_type": "code",
   "execution_count": 33,
   "id": "3ce0117a-6744-4602-8f11-2806841d92ec",
   "metadata": {},
   "outputs": [],
   "source": [
    "pca = PCA(n_components=2)\n",
    "\n",
    "svd2d = pd.DataFrame(pca.fit_transform(train_result),\n",
    "                     columns=['PC1',\n",
    "                              'PC2']).assign(Category=train_docs.Category)\n",
    "\n",
    "categories_2d = svd2d.groupby('Category').mean()"
   ]
  },
  {
   "cell_type": "code",
   "execution_count": 34,
   "id": "4b170e86-0e19-4fcf-ae92-15fc0c9bed56",
   "metadata": {},
   "outputs": [],
   "source": [
    "plt.quiver(np.zeros(5),\n",
    "           np.zeros(5),\n",
    "           categories_2d.PC1.values,\n",
    "           categories_2d.PC2.values,\n",
    "           scale=.035)\n",
    "\n",
    "plt.title('Topic Directions in 2D Space');"
   ]
  },
  {
   "cell_type": "code",
   "execution_count": null,
   "id": "63ca3b37-0c51-4884-97e3-337bbcd0f8f3",
   "metadata": {},
   "outputs": [],
   "source": []
  }
 ],
 "metadata": {
  "kernelspec": {
   "display_name": "Python 3 (ipykernel)",
   "language": "python",
   "name": "python3"
  },
  "language_info": {
   "codemirror_mode": {
    "name": "ipython",
    "version": 3
   },
   "file_extension": ".py",
   "mimetype": "text/x-python",
   "name": "python",
   "nbconvert_exporter": "python",
   "pygments_lexer": "ipython3",
   "version": "3.12.9"
  }
 },
 "nbformat": 4,
 "nbformat_minor": 5
}
