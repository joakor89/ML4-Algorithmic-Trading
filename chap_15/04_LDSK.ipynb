{
 "cells": [
  {
   "cell_type": "markdown",
   "id": "1842fddf-4ced-48eb-b190-bd166804517a",
   "metadata": {},
   "source": [
    "# Topic Modeling: Latent Dirichlet Allocation with sklearn\n",
    "\n",
    "### Loading Libraries"
   ]
  },
  {
   "cell_type": "code",
   "execution_count": 9,
   "id": "c66d35d3-7f26-4ec5-8d42-2500ae0b0e1f",
   "metadata": {},
   "outputs": [],
   "source": [
    "# Numerical Computing\n",
    "import numpy as np\n",
    "\n",
    "# Data Manipulation\n",
    "import pandas as pd\n",
    "\n",
    "# Data Visualziation\n",
    "import seaborn as sns\n",
    "import matplotlib.pyplot as plt\n",
    "from matplotlib.ticker import FuncFormatter\n",
    "\n",
    "# Warnings\n",
    "import warnings\n",
    "\n",
    "\n",
    "# Path & Collection\n",
    "from pathlib import Path\n",
    "from collections import OrderedDict\n",
    "\n",
    "# PyLDAvis\n",
    "import pyLDAvis\n",
    "from pyLDAvis.sklearn import prepare\n",
    "import pyLDAvis.sklearn_models as sklearn_lda\n",
    "\n",
    "Worlcloud\n",
    "from termcolor import colored\n",
    "from wordcloud import WordCloud"
   ]
  },
  {
   "cell_type": "code",
   "execution_count": 15,
   "id": "8e0e0508-fe99-4899-a7d2-201e0ed7b692",
   "metadata": {},
   "outputs": [],
   "source": [
    "%matplotlib inline"
   ]
  },
  {
   "cell_type": "code",
   "execution_count": 16,
   "id": "03769e9b-363b-462f-894e-cc5754916194",
   "metadata": {},
   "outputs": [],
   "source": [
    "np.random.seed(42)\n",
    "\n",
    "sns.set_style('white')\n",
    "\n",
    "warnings.filterwarnings('ignore')"
   ]
  },
  {
   "cell_type": "code",
   "execution_count": 17,
   "id": "00cae3d1-fb7d-4d84-8ea7-8196d50da5cd",
   "metadata": {},
   "outputs": [],
   "source": [
    "pyLDAvis.enable_notebook()"
   ]
  },
  {
   "cell_type": "code",
   "execution_count": 18,
   "id": "66b87a5c-0754-428a-a819-c8a740349c9f",
   "metadata": {},
   "outputs": [],
   "source": [
    "DATA_DIR = Path('../data')\n",
    "\n",
    "data_path = DATA_DIR / 'bbc'"
   ]
  },
  {
   "cell_type": "code",
   "execution_count": 19,
   "id": "fc11ea8c-d5b5-46a5-8d2e-c4e9f9646537",
   "metadata": {},
   "outputs": [],
   "source": [
    "results_path = Path('results')\n",
    "\n",
    "model_path = Path('results', 'bbc')\n",
    "\n",
    "if not model_path.exists():\n",
    "    model_path.mkdir(exist_ok=True, parents=True)"
   ]
  },
  {
   "cell_type": "markdown",
   "id": "9f74c645-fe9e-4b09-a343-a415df0c9f66",
   "metadata": {},
   "source": [
    "### Loading BBC data"
   ]
  },
  {
   "cell_type": "code",
   "execution_count": 20,
   "id": "3e4e115d-86bf-4d1a-b19b-4a2693107fe5",
   "metadata": {},
   "outputs": [],
   "source": [
    "files = sorted(list(data_path.glob('**/*.txt')))\n",
    "\n",
    "doc_list = []\n",
    "\n",
    "for i, file in enumerate(files):\n",
    "    with open(str(file), encoding='latin1') as f:\n",
    "        topic = file.parts[-2]\n",
    "        lines = f.readlines()\n",
    "        heading = lines[0].strip()\n",
    "        body = ' '.join([l.strip() for l in lines[1:]])\n",
    "        doc_list.append([topic.capitalize(), heading, body])"
   ]
  },
  {
   "cell_type": "markdown",
   "id": "6eb80867-c404-42c7-8966-c7971fa05b36",
   "metadata": {},
   "source": [
    "#### DataFrame Conversion"
   ]
  },
  {
   "cell_type": "code",
   "execution_count": 21,
   "id": "92147e87-5da1-4fed-a112-47e5dc8e3624",
   "metadata": {},
   "outputs": [],
   "source": [
    "docs = pd.DataFrame(doc_list, columns=['topic', 'heading', 'article'])\n",
    "\n",
    "docs.info()"
   ]
  },
  {
   "cell_type": "markdown",
   "id": "d85e1398-1404-45d8-b564-60ff6906322f",
   "metadata": {},
   "source": [
    "### Creating Train & Test Sets"
   ]
  },
  {
   "cell_type": "code",
   "execution_count": 22,
   "id": "059a0505-c256-4694-a768-77f094d64b07",
   "metadata": {},
   "outputs": [],
   "source": [
    "train_docs, test_docs = train_test_split(docs,\n",
    "                                         stratify=docs.topic,\n",
    "                                         test_size=125,\n",
    "                                         random_state=42)"
   ]
  },
  {
   "cell_type": "code",
   "execution_count": 23,
   "id": "d315703c-31a2-40d9-814d-941d316ded95",
   "metadata": {},
   "outputs": [],
   "source": [
    "train_docs.shape, test_docs.shape"
   ]
  },
  {
   "cell_type": "code",
   "execution_count": 24,
   "id": "5fd79ae3-9ba1-454e-b699-7e1dd4990e79",
   "metadata": {},
   "outputs": [],
   "source": [
    "pd.Series(test_docs.topic).value_counts()"
   ]
  },
  {
   "cell_type": "markdown",
   "id": "d922f773-a38c-4028-bba0-adb5fae757ed",
   "metadata": {},
   "source": [
    "### Vectorizing train & test sets"
   ]
  },
  {
   "cell_type": "code",
   "execution_count": 25,
   "id": "393c92c2-bd3a-4e30-a00d-88253564843e",
   "metadata": {},
   "outputs": [],
   "source": [
    "vectorizer = TfidfVectorizer(max_df=.11, \n",
    "                             min_df=.026, \n",
    "                             stop_words='english')\n",
    "\n",
    "train_dtm = vectorizer.fit_transform(train_docs.article)\n",
    "words = vectorizer.get_feature_names()\n",
    "train_dtm"
   ]
  },
  {
   "cell_type": "code",
   "execution_count": 26,
   "id": "f41aa94c-c687-4921-9ea2-5532af189c0a",
   "metadata": {},
   "outputs": [],
   "source": [
    "test_dtm = vectorizer.transform(test_docs.article)\n",
    "test_dtm"
   ]
  },
  {
   "cell_type": "markdown",
   "id": "a022c64b-eb7c-4b1d-b2f4-8a17a9811ce8",
   "metadata": {},
   "source": [
    "### LDA with sklearn"
   ]
  },
  {
   "cell_type": "code",
   "execution_count": 27,
   "id": "df1a5e15-e41d-450d-b09d-29c19b5251d3",
   "metadata": {},
   "outputs": [],
   "source": [
    "n_components = 5\n",
    "\n",
    "topic_labels = [f'Topic {i}' for i in range(1, n_components+1)]"
   ]
  },
  {
   "cell_type": "code",
   "execution_count": 28,
   "id": "a7bd7980-0352-4dd0-8497-1aac9fec9cf6",
   "metadata": {},
   "outputs": [],
   "source": [
    "lda_base = LatentDirichletAllocation(n_components=n_components,\n",
    "                                     n_jobs=-1,\n",
    "                                     learning_method='batch',\n",
    "                                     max_iter=10)\n",
    "\n",
    "lda_base.fit(train_dtm)"
   ]
  },
  {
   "cell_type": "markdown",
   "id": "14484998-f27f-40aa-a4a2-8ffc509939dc",
   "metadata": {},
   "source": [
    "#### Persisting Model"
   ]
  },
  {
   "cell_type": "code",
   "execution_count": 29,
   "id": "2b3108ad-744d-4717-8d63-bcd7eca53b29",
   "metadata": {},
   "outputs": [],
   "source": [
    "joblib.dump(lda_base, model_path / 'lda_10_iter.pkl')"
   ]
  },
  {
   "cell_type": "code",
   "execution_count": 30,
   "id": "0746fef6-f667-4642-8805-d4999f13c7a9",
   "metadata": {},
   "outputs": [],
   "source": [
    "lda_base = joblib.load(model_path / 'lda_10_iter.pkl') \n",
    "\n",
    "lda_base"
   ]
  },
  {
   "cell_type": "markdown",
   "id": "72467a1f-2a37-4b09-bea5-176715e9fa32",
   "metadata": {},
   "source": [
    "### Exploring Topics & Word Distributions"
   ]
  },
  {
   "cell_type": "code",
   "execution_count": 33,
   "id": "f69ef3c7-c621-4213-9120-09bfc890179d",
   "metadata": {},
   "outputs": [],
   "source": [
    "topics_count = lda_base.components_\n",
    "print(topics_count.shape)\n",
    "\n",
    "topics_count[:5]"
   ]
  },
  {
   "cell_type": "code",
   "execution_count": 34,
   "id": "d00c831b-dfff-439a-9b14-fe36a18b9b54",
   "metadata": {},
   "outputs": [],
   "source": [
    "topics_prob = topics_count / topics_count.sum(axis=1).reshape(-1, 1)\n",
    "\n",
    "topics = pd.DataFrame(topics_prob.T,\n",
    "                      index=words,\n",
    "                      columns=topic_labels)\n",
    "\n",
    "topics.head()"
   ]
  },
  {
   "cell_type": "code",
   "execution_count": 35,
   "id": "b64af175-f177-4f65-a46f-4de2f120a4bb",
   "metadata": {},
   "outputs": [],
   "source": [
    "topics[topics.gt(0).all(1)].shape[0] == topics.shape[0]"
   ]
  },
  {
   "cell_type": "code",
   "execution_count": 36,
   "id": "75f3bc29-1978-440a-823d-23ef9f3c222b",
   "metadata": {},
   "outputs": [],
   "source": [
    "fig, ax = plt.subplots(figsize=(10, 14))\n",
    "\n",
    "sns.heatmap(topics.sort_values(topic_labels, ascending=False),\n",
    "            cmap='Blues', ax=ax, cbar_kws={'shrink': .6})\n",
    "\n",
    "fig.tight_layout()"
   ]
  },
  {
   "cell_type": "code",
   "execution_count": 37,
   "id": "37b13059-1ce9-4561-866b-e6180b65e986",
   "metadata": {},
   "outputs": [],
   "source": [
    "top_words = {}\n",
    "\n",
    "for topic, words_ in topics.items():\n",
    "    top_words[topic] = words_.nlargest(10).index.tolist()\n",
    "\n",
    "pd.DataFrame(top_words)"
   ]
  },
  {
   "cell_type": "code",
   "execution_count": 38,
   "id": "cc1cb7cd-597d-4d05-8284-66f4f869389d",
   "metadata": {},
   "outputs": [],
   "source": [
    "fig, axes = plt.subplots(nrows=5, sharey=True, sharex=True, figsize=(10, 15))\n",
    "\n",
    "for i, (topic, prob) in enumerate(topics.items()):\n",
    "    sns.distplot(prob, ax=axes[i], bins=100, kde=False, norm_hist=False)\n",
    "    axes[i].set_yscale('log')\n",
    "    axes[i].xaxis.set_major_formatter(FuncFormatter(lambda x, _: '{:.1%}'.format(x)))\n",
    "fig.suptitle('Topic Distributions')\n",
    "sns.despine()\n",
    "fig.tight_layout()\n",
    "plt.show()"
   ]
  },
  {
   "cell_type": "markdown",
   "id": "45da72a4-8834-48fb-95ad-9e1afd511d4d",
   "metadata": {},
   "source": [
    "### Evaluating Fit on Train Set"
   ]
  },
  {
   "cell_type": "code",
   "execution_count": 40,
   "id": "4fd21cb8-f2ac-4b7a-9f2e-350eba92aa20",
   "metadata": {},
   "outputs": [],
   "source": [
    "train_preds = lda_base.transform(train_dtm)\n",
    "\n",
    "train_preds.shape"
   ]
  },
  {
   "cell_type": "code",
   "execution_count": 41,
   "id": "472736df-f23a-4a70-a734-3a7d7b46d81a",
   "metadata": {},
   "outputs": [],
   "source": [
    "train_eval = pd.DataFrame(train_preds, columns=topic_labels, index=train_docs.topic)\n",
    "\n",
    "train_eval.head()"
   ]
  },
  {
   "cell_type": "code",
   "execution_count": 42,
   "id": "134841ed-e2df-46a1-a1de-9a83b8a0490a",
   "metadata": {},
   "outputs": [],
   "source": [
    "train_eval.groupby(level='topic').mean().plot.bar(title='Avg. Topic Probabilities');"
   ]
  },
  {
   "cell_type": "code",
   "execution_count": 43,
   "id": "4b36c6c1-68ea-40d7-9ec9-ff0849292181",
   "metadata": {},
   "outputs": [],
   "source": [
    "df = train_eval.groupby(level='topic').idxmax(\n",
    "    axis=1).reset_index(-1, drop=True)\n",
    "sns.heatmap(df.groupby(level='topic').value_counts(normalize=True)\n",
    "            .unstack(-1), annot=True, fmt='.1%', cmap='Blues', square=True)\n",
    "plt.title('Train Data: Topic Assignments');\n",
    "plt.show()"
   ]
  },
  {
   "cell_type": "markdown",
   "id": "b896ada7-6f01-4b0e-96f3-21aea2635552",
   "metadata": {},
   "source": [
    "### Evaluating Fit on Test Set"
   ]
  },
  {
   "cell_type": "code",
   "execution_count": 44,
   "id": "ce5df1e5-1449-408a-b73a-6ca59a2f9f54",
   "metadata": {},
   "outputs": [],
   "source": [
    "test_preds = lda_base.transform(test_dtm)\n",
    "\n",
    "test_eval = pd.DataFrame(test_preds, columns=topic_labels, index=test_docs.topic)\n",
    "test_eval.head()"
   ]
  },
  {
   "cell_type": "code",
   "execution_count": 45,
   "id": "cf32916f-4573-4d01-8bc1-ffec778e6af8",
   "metadata": {},
   "outputs": [],
   "source": [
    "test_eval.groupby(level='topic').mean().plot.bar(title='Avg. Topic Probabilities',\n",
    "                                                 figsize=(12, 4),\n",
    "                                                 rot=0)\n",
    "plt.xlabel('')\n",
    "sns.despine()\n",
    "plt.tight_layout()\n",
    "plt.show()"
   ]
  },
  {
   "cell_type": "code",
   "execution_count": 46,
   "id": "2560616d-d5d8-4ca5-9834-e0db404b7f98",
   "metadata": {},
   "outputs": [],
   "source": [
    "df = test_eval.groupby(level='topic').idxmax(axis=1).reset_index(-1, drop=True)\n",
    "\n",
    "sns.heatmap(df.groupby(level='topic').value_counts(normalize=True).unstack(-1), \n",
    "            annot=True, fmt='.1%', cmap='Blues', square=True)\n",
    "plt.title('Topic Assignments');\n",
    "plt.show()"
   ]
  },
  {
   "cell_type": "markdown",
   "id": "effc2e89-8e6a-491d-b15d-a69001d6e546",
   "metadata": {},
   "source": [
    "### Retraining until Perplexity No Longer Decreases"
   ]
  },
  {
   "cell_type": "code",
   "execution_count": 47,
   "id": "a636d86b-50b9-4fdf-9941-efa9f62750d6",
   "metadata": {},
   "outputs": [],
   "source": [
    "lda_opt = LatentDirichletAllocation(n_components=5,\n",
    "                                    n_jobs=-1,\n",
    "                                    max_iter=500,\n",
    "                                    learning_method='batch',\n",
    "                                    evaluate_every=5,\n",
    "                                    verbose=1,\n",
    "                                    random_state=42)\n",
    "\n",
    "lda_opt.fit(train_dtm)"
   ]
  },
  {
   "cell_type": "code",
   "execution_count": 48,
   "id": "785c36e2-e704-48d6-adf3-45a138cde596",
   "metadata": {},
   "outputs": [],
   "source": [
    "joblib.dump(lda_opt, model_path / 'lda_opt.pkl')"
   ]
  },
  {
   "cell_type": "code",
   "execution_count": 49,
   "id": "72bac7ef-b0c0-420d-a386-3e05ec84d02b",
   "metadata": {},
   "outputs": [],
   "source": [
    "lda_opt = joblib.load(model_path / 'lda_opt.pkl')"
   ]
  },
  {
   "cell_type": "code",
   "execution_count": 50,
   "id": "1bc7b65b-6114-473e-a44d-61bac9e755c6",
   "metadata": {},
   "outputs": [],
   "source": [
    "train_opt_eval = pd.DataFrame(data=lda_opt.transform(train_dtm),\n",
    "                              columns=topic_labels,\n",
    "                              index=train_docs.topic)"
   ]
  },
  {
   "cell_type": "code",
   "execution_count": 51,
   "id": "296a9db5-0b56-4bbf-b937-bb2048db82d3",
   "metadata": {},
   "outputs": [],
   "source": [
    "test_opt_eval = pd.DataFrame(data=lda_opt.transform(test_dtm),\n",
    "                             columns=topic_labels, \n",
    "                             index=test_docs.topic)"
   ]
  },
  {
   "cell_type": "markdown",
   "id": "72b6d1ad-d5b6-4418-b9f7-d12706eb34ce",
   "metadata": {},
   "source": [
    "### Compare Train & Test Topic Assignments"
   ]
  },
  {
   "cell_type": "code",
   "execution_count": 52,
   "id": "7584d71c-da97-4e59-a4a3-dd1218ead458",
   "metadata": {},
   "outputs": [],
   "source": [
    "fig, axes = plt.subplots(ncols=2, figsize=(18, 8))\n",
    "\n",
    "source = ['Train', 'Test']\n",
    "\n",
    "for i, df in enumerate([train_opt_eval, test_opt_eval]):\n",
    "    df = df.groupby(level='topic').idxmax(axis=1).reset_index(-1, drop=True)\n",
    "    sns.heatmap(df.groupby(level='topic').value_counts(normalize=True)\n",
    "                .unstack(-1), annot=True, fmt='.1%', cmap='Blues', square=True, ax=axes[i])\n",
    "    axes[i].set_title('{} Data: Topic Assignments'.format(source[i]))"
   ]
  },
  {
   "cell_type": "markdown",
   "id": "75792efb-dd80-4af3-b822-607cb2998c15",
   "metadata": {},
   "source": [
    "### Exploring Misclassified Articles"
   ]
  },
  {
   "cell_type": "code",
   "execution_count": 53,
   "id": "aa9fcbe2-a8b8-486f-84f0-e7f34a66df39",
   "metadata": {},
   "outputs": [],
   "source": [
    "test_assignments = test_docs.assign(predicted=test_opt_eval.idxmax(axis=1).values)\n",
    "test_assignments.head()"
   ]
  },
  {
   "cell_type": "code",
   "execution_count": 54,
   "id": "da600ec3-ac2e-46eb-8622-773773bd78d0",
   "metadata": {},
   "outputs": [],
   "source": [
    "misclassified = test_assignments[(test_assignments.topic == 'Entertainment') & (\n",
    "    test_assignments.predicted == 'Topic 4')]\n",
    "\n",
    "misclassified.heading"
   ]
  },
  {
   "cell_type": "code",
   "execution_count": 55,
   "id": "d46ec077-2430-4e5c-97bf-2d8f37089e29",
   "metadata": {},
   "outputs": [],
   "source": [
    "misclassified.article.tolist()"
   ]
  },
  {
   "cell_type": "markdown",
   "id": "b7deec62-ed04-4393-bea7-f96c9e816a7a",
   "metadata": {},
   "source": [
    "### PyLDAVis\n",
    "\n",
    "#### RefitTING using All Data"
   ]
  },
  {
   "cell_type": "code",
   "execution_count": null,
   "id": "0cf13bbe-e40e-4a8e-9394-03c9d9e816b1",
   "metadata": {},
   "outputs": [],
   "source": [
    "vectorizer = CountVectorizer(max_df=.5, \n",
    "                             min_df=5,\n",
    "                             stop_words='english',\n",
    "                             max_features=2000)\n",
    "\n",
    "dtm = vectorizer.fit_transform(docs.article)"
   ]
  },
  {
   "cell_type": "code",
   "execution_count": null,
   "id": "08d94d2f-bf65-44f1-b811-12be1f17b39d",
   "metadata": {},
   "outputs": [],
   "source": [
    "lda_all = LatentDirichletAllocation(n_components=5,\n",
    "                                    max_iter=500,\n",
    "                                    learning_method='batch',\n",
    "                                    evaluate_every=10,\n",
    "                                    random_state=42,\n",
    "                                    verbose=1)\n",
    "\n",
    "lda_all.fit(dtm)"
   ]
  },
  {
   "cell_type": "code",
   "execution_count": null,
   "id": "632f03cb-6cb0-4879-b00e-bc914cf87847",
   "metadata": {},
   "outputs": [],
   "source": [
    "joblib.dump(lda_all, model_path /'lda_all.pkl')"
   ]
  },
  {
   "cell_type": "code",
   "execution_count": null,
   "id": "e50a98c0-c797-4c58-8306-e68aec495be6",
   "metadata": {},
   "outputs": [],
   "source": [
    "lda_all = joblib.load(model_path / 'lda_all.pkl')"
   ]
  },
  {
   "cell_type": "markdown",
   "id": "fcbd44d2-2cdd-4445-9d99-768570aad85b",
   "metadata": {},
   "source": [
    "#### Lambda"
   ]
  },
  {
   "cell_type": "code",
   "execution_count": 56,
   "id": "2d493a78-7ed1-4262-a989-bf16f9730d22",
   "metadata": {},
   "outputs": [],
   "source": [
    "prepare(lda_all, dtm, vectorizer)"
   ]
  },
  {
   "cell_type": "markdown",
   "id": "6dcb3180-cb1c-4653-8888-bc93a7628c77",
   "metadata": {},
   "source": [
    "### Topics as WordClouds"
   ]
  },
  {
   "cell_type": "code",
   "execution_count": 57,
   "id": "c3c16010-1d7a-4568-8e28-65e135004cf8",
   "metadata": {},
   "outputs": [],
   "source": [
    "topics_prob = lda_all.components_ / lda_all.components_.sum(axis=1).reshape(-1, 1)\n",
    "\n",
    "topics = pd.DataFrame(topics_prob.T,\n",
    "                      index=vectorizer.get_feature_names(),\n",
    "                      columns=topic_labels)"
   ]
  },
  {
   "cell_type": "code",
   "execution_count": 58,
   "id": "0c62f49d-7014-4ea9-89b5-1ddfa4a3f847",
   "metadata": {},
   "outputs": [],
   "source": [
    "w = WordCloud()\n",
    "\n",
    "fig, axes = plt.subplots(nrows=5, figsize=(15, 30))\n",
    "\n",
    "axes = axes.flatten()\n",
    "\n",
    "for t, (topic, freq) in enumerate(topics.items()):\n",
    "    w.generate_from_frequencies(freq.to_dict())\n",
    "    axes[t].imshow(w, interpolation='bilinear')\n",
    "    axes[t].set_title(topic, fontsize=18)\n",
    "    axes[t].axis('off')"
   ]
  },
  {
   "cell_type": "markdown",
   "id": "718dc524-3a5b-4612-a1e1-0bea3707b692",
   "metadata": {},
   "source": [
    "### Visualizing `topic-word` Associations per Document"
   ]
  },
  {
   "cell_type": "code",
   "execution_count": 60,
   "id": "984481bc-8828-44ea-94d9-d1829ec9fa00",
   "metadata": {},
   "outputs": [],
   "source": [
    "dtm_ = pd.DataFrame(data=lda_all.transform(dtm),\n",
    "                    columns=topic_labels,\n",
    "                    index=docs.topic)"
   ]
  },
  {
   "cell_type": "code",
   "execution_count": 61,
   "id": "541d7c6b-9efe-46c9-b5fc-69b0c6604d3d",
   "metadata": {},
   "outputs": [],
   "source": [
    "dtm_.head()"
   ]
  },
  {
   "cell_type": "code",
   "execution_count": 62,
   "id": "14abba40-9912-452a-b243-6952f872dac5",
   "metadata": {},
   "outputs": [],
   "source": [
    "color_dict = OrderedDict()\n",
    "\n",
    "color_dict['Topic 1'] = {'color': 'white', 'on_color': 'on_blue'}\n",
    "color_dict['Topic 2'] = {'color': 'white', 'on_color': 'on_green'}\n",
    "color_dict['Topic 3'] = {'color': 'white', 'on_color': 'on_red'}\n",
    "color_dict['Topic 4'] = {'color': 'white', 'on_color': 'on_magenta'}\n",
    "color_dict['Topic 5'] = {'color': 'blue', 'on_color': 'on_yellow'}"
   ]
  },
  {
   "cell_type": "code",
   "execution_count": 63,
   "id": "b969c09b-b213-4801-8d95-501903540c0c",
   "metadata": {},
   "outputs": [],
   "source": [
    "dtm_['article'] = docs.article.values\n",
    "dtm_['heading'] = docs.heading.values\n",
    "\n",
    "sample = dtm_[dtm_[topic_labels].gt(.05).all(1)]\n",
    "sample"
   ]
  },
  {
   "cell_type": "code",
   "execution_count": 64,
   "id": "550ac804-6e26-4e71-85f3-9192a3b72812",
   "metadata": {},
   "outputs": [],
   "source": [
    "colored_text = []\n",
    "\n",
    "for word in sample.iloc[0, 5].split():\n",
    "    try:\n",
    "        topic = topics.loc[word.strip().lower()].idxmax()\n",
    "        colored_text.append(colored(word, **color_dict[topic]))\n",
    "    except:\n",
    "        colored_text.append(word)\n",
    "\n",
    "print(' '.join([colored(k, **v) for k, v in color_dict.items()]))\n",
    "print('\\n',sample.iloc[0, 6], '\\n')\n",
    "text = ' '.join(colored_text)\n",
    "print(text)"
   ]
  },
  {
   "cell_type": "code",
   "execution_count": null,
   "id": "57c448a4-6b82-472b-a3e5-2e2d0deeb2b9",
   "metadata": {},
   "outputs": [],
   "source": []
  }
 ],
 "metadata": {
  "kernelspec": {
   "display_name": "Python 3 (ipykernel)",
   "language": "python",
   "name": "python3"
  },
  "language_info": {
   "codemirror_mode": {
    "name": "ipython",
    "version": 3
   },
   "file_extension": ".py",
   "mimetype": "text/x-python",
   "name": "python",
   "nbconvert_exporter": "python",
   "pygments_lexer": "ipython3",
   "version": "3.12.9"
  }
 },
 "nbformat": 4,
 "nbformat_minor": 5
}
