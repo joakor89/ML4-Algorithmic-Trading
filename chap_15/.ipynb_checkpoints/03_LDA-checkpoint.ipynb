{
 "cells": [
  {
   "cell_type": "markdown",
   "id": "f88f7946-2a9e-49e0-b1c1-7babfa358071",
   "metadata": {},
   "source": [
    "# Latent Dirichlet Allocation - Interactive Simulation\n",
    "\n",
    "### Loading Libraries"
   ]
  },
  {
   "cell_type": "code",
   "execution_count": 1,
   "id": "32b10f5a-efa4-4869-a637-c30663e81687",
   "metadata": {},
   "outputs": [],
   "source": [
    "# Numerical Computing\n",
    "import numpy as np\n",
    "\n",
    "# Data Manipulation\n",
    "import pandas as pd\n",
    "\n",
    "# Data Visualziation\n",
    "import seaborn as sns\n",
    "import matplotlib.pyplot as plt\n",
    "\n",
    "# Warnings\n",
    "import warnings\n",
    "\n",
    "# IPywidget\n",
    "from ipywidgets import interact, FloatSlider"
   ]
  },
  {
   "cell_type": "code",
   "execution_count": 2,
   "id": "cf2c274c-83b5-4643-8d5e-2bdba5ffe4d2",
   "metadata": {},
   "outputs": [],
   "source": [
    "%matplotlib inline"
   ]
  },
  {
   "cell_type": "code",
   "execution_count": 3,
   "id": "5e2fe85d-d7b9-48e6-a63e-ae8f2850006d",
   "metadata": {},
   "outputs": [],
   "source": [
    "np.random.seed(42)\n",
    "\n",
    "sns.set_style('white')\n",
    "\n",
    "warnings.filterwarnings('ignore')"
   ]
  },
  {
   "cell_type": "markdown",
   "id": "046cf6c3-cbb3-4a6a-a1d2-2c9ab9d986e3",
   "metadata": {},
   "source": [
    "### Simulating Dirichlet Distribution"
   ]
  },
  {
   "cell_type": "code",
   "execution_count": 4,
   "id": "0d84748b-0fd2-4ad1-8401-5d1c2218b082",
   "metadata": {},
   "outputs": [],
   "source": [
    "f = FloatSlider(value=1,\n",
    "                min=1e-2,\n",
    "                max=10,\n",
    "                step=1e-2,\n",
    "                continuous_update=False,\n",
    "                description='Alpha')\n",
    "\n",
    "\n",
    "@interact(alpha=f)\n",
    "def sample_dirichlet(alpha):\n",
    "    topics = 10\n",
    "    draws = 9\n",
    "    alphas = np.full(shape=topics, fill_value=alpha)\n",
    "    samples = np.random.dirichlet(alpha=alphas, size=draws)\n",
    "\n",
    "    fig, axes = plt.subplots(nrows=3,\n",
    "                             ncols=3,\n",
    "                             sharex=True,\n",
    "                             sharey=True,\n",
    "                             figsize=(14, 8))\n",
    "    axes = axes.flatten()\n",
    "    plt.setp(axes, ylim=(0, 1))\n",
    "    for i, sample in enumerate(samples):\n",
    "        axes[i].bar(x=list(range(10)), height=sample,\n",
    "                    color=sns.color_palette(\"Set2\", 10))\n",
    "    fig.suptitle('Dirichlet Allocation | 10 Topics, 9 Samples')\n",
    "    sns.despine()\n",
    "    fig.tight_layout()\n",
    "    plt.subplots_adjust(top=.95)"
   ]
  },
  {
   "cell_type": "code",
   "execution_count": null,
   "id": "0b3ac327-7c93-48ed-9ae8-0b517de11848",
   "metadata": {},
   "outputs": [],
   "source": []
  }
 ],
 "metadata": {
  "kernelspec": {
   "display_name": "Python 3 (ipykernel)",
   "language": "python",
   "name": "python3"
  },
  "language_info": {
   "codemirror_mode": {
    "name": "ipython",
    "version": 3
   },
   "file_extension": ".py",
   "mimetype": "text/x-python",
   "name": "python",
   "nbconvert_exporter": "python",
   "pygments_lexer": "ipython3",
   "version": "3.12.9"
  }
 },
 "nbformat": 4,
 "nbformat_minor": 5
}
