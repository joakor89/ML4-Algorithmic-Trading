{
 "cells": [
  {
   "cell_type": "markdown",
   "id": "08d7fc2b-7f31-48b3-85d4-c414c56dcfcb",
   "metadata": {},
   "source": [
    "# How to Use TA-Lib to Generate Alpha Factors\n",
    "\n",
    "### Loading Libraries"
   ]
  },
  {
   "cell_type": "code",
   "execution_count": 6,
   "id": "447d35cb-4560-40ff-ae0d-68724a773feb",
   "metadata": {},
   "outputs": [],
   "source": [
    "# Numerical Computing\n",
    "import numpy as np\n",
    "\n",
    "# Data Manipulation\n",
    "import pandas as pd\n",
    "\n",
    "# Data Visualization\n",
    "import seaborn as sns\n",
    "import matplotlib.pyplot as plt\n",
    "\n",
    "# Warnings\n",
    "import warnings\n",
    "\n",
    "# Ta-Lib\n",
    "from talib import RSI, BBANDS, MACD"
   ]
  },
  {
   "cell_type": "code",
   "execution_count": 7,
   "id": "367d50ca-6805-422b-85f8-9b5940141775",
   "metadata": {},
   "outputs": [],
   "source": [
    "%matplotlib inline"
   ]
  },
  {
   "cell_type": "code",
   "execution_count": 8,
   "id": "1de638fe-2410-48ba-b124-e5d68d82fd89",
   "metadata": {},
   "outputs": [],
   "source": [
    "warnings.filterwarnings('ignore')"
   ]
  },
  {
   "cell_type": "code",
   "execution_count": 9,
   "id": "2b2a2f72-294e-4cf3-8042-89bc319341c3",
   "metadata": {},
   "outputs": [],
   "source": [
    "idx = pd.IndexSlice\n",
    "sns.set_style('whitegrid')"
   ]
  },
  {
   "cell_type": "markdown",
   "id": "e8d3723c-bfc7-46aa-9cd3-6edf026ebe9d",
   "metadata": {},
   "source": [
    "### Retreiving Data"
   ]
  },
  {
   "cell_type": "code",
   "execution_count": 11,
   "id": "2673f4cb-38ac-48b0-b145-7bd21aea3f9e",
   "metadata": {},
   "outputs": [],
   "source": [
    "DATA_STORE = '../data/assets.h5'"
   ]
  },
  {
   "cell_type": "code",
   "execution_count": 13,
   "id": "c5774ac7-636b-4852-9e96-ae19b90a9c3e",
   "metadata": {},
   "outputs": [],
   "source": [
    "with pd.HDFStore(DATA_STORE) as store:\n",
    "    data = (store['quandl/wiki/prices']\n",
    "            .loc[idx['2007':'2010', 'AAPL'],\n",
    "                 ['adj_open', 'adj_high', 'adj_low', 'adj_close', 'adj_volume']]\n",
    "            .unstack('ticker')\n",
    "            .swaplevel(axis=1)\n",
    "            .loc[:, 'AAPL']\n",
    "            .rename(columns=lambda x: x.replace('adj_', '')))"
   ]
  },
  {
   "cell_type": "code",
   "execution_count": 14,
   "id": "5fb93d52-3367-4a9b-9f86-f888b17a70f3",
   "metadata": {},
   "outputs": [],
   "source": [
    "data.info()"
   ]
  },
  {
   "cell_type": "markdown",
   "id": "be5ad134-edb1-47f0-874f-821c9bc80f62",
   "metadata": {},
   "source": [
    "### Computing Bollinger Bands"
   ]
  },
  {
   "cell_type": "code",
   "execution_count": 15,
   "id": "c64b9d72-2dcd-4e7f-a868-ca72da9528a0",
   "metadata": {},
   "outputs": [],
   "source": [
    "up, mid, low = BBANDS(data.close, timeperiod=21, nbdevup=2, nbdevdn=2, matype=0)"
   ]
  },
  {
   "cell_type": "code",
   "execution_count": 16,
   "id": "90871e94-60a3-433f-a068-c70cde01bf40",
   "metadata": {},
   "outputs": [],
   "source": [
    "rsi = RSI(data.close, timeperiod=14)"
   ]
  },
  {
   "cell_type": "markdown",
   "id": "9f3a51bb-ae71-4d1d-93dc-7be9f67f0e0c",
   "metadata": {},
   "source": [
    "### Moving Average `Convergence/Divergence`"
   ]
  },
  {
   "cell_type": "code",
   "execution_count": 17,
   "id": "1494bf63-fab3-4841-a0c0-496a318e5849",
   "metadata": {},
   "outputs": [],
   "source": [
    "macd, macdsignal, macdhist = MACD(data.close, fastperiod=12, slowperiod=26, signalperiod=9)"
   ]
  },
  {
   "cell_type": "code",
   "execution_count": 18,
   "id": "f4149a48-65e5-4c17-804f-3db4d3e1d91d",
   "metadata": {},
   "outputs": [],
   "source": [
    "macd_data = pd.DataFrame({'AAPL': data.close, 'MACD': macd, 'MACD Signal': macdsignal, 'MACD History': macdhist})\n",
    "\n",
    "fig, axes= plt.subplots(nrows=2, figsize=(15, 8))\n",
    "macd_data.AAPL.plot(ax=axes[0])\n",
    "macd_data.drop('AAPL', axis=1).plot(ax=axes[1])\n",
    "fig.tight_layout()\n",
    "sns.despine();"
   ]
  },
  {
   "cell_type": "markdown",
   "id": "1a9f30e5-2b28-4c1b-b696-35e69587cb8c",
   "metadata": {},
   "source": [
    "### Plotting Result"
   ]
  },
  {
   "cell_type": "code",
   "execution_count": 19,
   "id": "213989a0-0162-4cd4-8503-0f6ce680d901",
   "metadata": {},
   "outputs": [],
   "source": [
    "data = pd.DataFrame({'AAPL': data.close, 'BB Up': up, 'BB Mid': mid, 'BB down': low, 'RSI': rsi, 'MACD': macd})"
   ]
  },
  {
   "cell_type": "code",
   "execution_count": 20,
   "id": "963e25b7-4436-4efd-89ed-563873f1c2eb",
   "metadata": {},
   "outputs": [],
   "source": [
    "fig, axes= plt.subplots(nrows=3, figsize=(15, 10), sharex=True)\n",
    "\n",
    "data.drop(['RSI', 'MACD'], axis=1).plot(ax=axes[0], lw=1, title='Bollinger Bands')\n",
    "data['RSI'].plot(ax=axes[1], lw=1, title='Relative Strength Index')\n",
    "axes[1].axhline(70, lw=1, ls='--', c='k')\n",
    "axes[1].axhline(30, lw=1, ls='--', c='k')\n",
    "\n",
    "data.MACD.plot(ax=axes[2], lw=1, title='Moving Average Convergence/Divergence', rot=0)\n",
    "axes[2].set_xlabel('')\n",
    "\n",
    "fig.tight_layout()\n",
    "sns.despine();"
   ]
  },
  {
   "cell_type": "code",
   "execution_count": null,
   "id": "1cdc27fc-5e20-4c01-a517-cdc42221e8f5",
   "metadata": {},
   "outputs": [],
   "source": []
  }
 ],
 "metadata": {
  "kernelspec": {
   "display_name": "Python 3 (ipykernel)",
   "language": "python",
   "name": "python3"
  },
  "language_info": {
   "codemirror_mode": {
    "name": "ipython",
    "version": 3
   },
   "file_extension": ".py",
   "mimetype": "text/x-python",
   "name": "python",
   "nbconvert_exporter": "python",
   "pygments_lexer": "ipython3",
   "version": "3.12.9"
  }
 },
 "nbformat": 4,
 "nbformat_minor": 5
}
