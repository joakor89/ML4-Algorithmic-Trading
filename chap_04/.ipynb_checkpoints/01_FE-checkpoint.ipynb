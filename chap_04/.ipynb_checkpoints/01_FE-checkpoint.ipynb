{
 "cells": [
  {
   "cell_type": "markdown",
   "id": "045ded8b-62df-4158-ae53-ed663c36a1fd",
   "metadata": {},
   "source": [
    "# How to Transform Data into Factors\n",
    "\n",
    "### Loading Libraries"
   ]
  },
  {
   "cell_type": "code",
   "execution_count": 1,
   "id": "914a71d4-6b60-4230-99c4-0bb83dae9611",
   "metadata": {},
   "outputs": [],
   "source": [
    "# Numerical Computing\n",
    "import numpy as np\n",
    "\n",
    "# Data Manipulation\n",
    "import pandas as pd\n",
    "import pandas_datareader.data as web\n",
    "\n",
    "# StatModels\n",
    "import statsmodels.api as sm\n",
    "from statsmodels.regression.rolling import RollingOLS\n",
    "\n",
    "# Data Visualization\n",
    "import seaborn as sns\n",
    "import matplotlib.pyplot as plt\n",
    "# replaces pyfinance.ols.PandasRollingOLS (no longer maintained)\n",
    "\n",
    "# Date & Time\n",
    "from datetime import datetime\n",
    "\n",
    "# Warnings\n",
    "import warnings"
   ]
  },
  {
   "cell_type": "code",
   "execution_count": 2,
   "id": "8cd7231a-2c78-40d1-9af6-b3c942a15d14",
   "metadata": {},
   "outputs": [],
   "source": [
    "warnings.filterwarnings('ignore')"
   ]
  },
  {
   "cell_type": "code",
   "execution_count": 3,
   "id": "d7217865-dfbe-4e1c-bad2-0f3c03b78f65",
   "metadata": {},
   "outputs": [],
   "source": [
    "idx = pd.IndexSlice\n",
    "\n",
    "sns.set_style('whitegrid')"
   ]
  },
  {
   "cell_type": "markdown",
   "id": "3189d5d8-179f-4446-b6a2-9dd69c2cfdc0",
   "metadata": {},
   "source": [
    "### Getting Data"
   ]
  },
  {
   "cell_type": "code",
   "execution_count": 4,
   "id": "4026a5a9-0baa-4a30-814b-f9b1adac1e60",
   "metadata": {},
   "outputs": [],
   "source": [
    "DATA_STORE = '../data/assets.h5'"
   ]
  },
  {
   "cell_type": "code",
   "execution_count": 5,
   "id": "c36a7965-5f87-4172-8f60-75f1e6b06d53",
   "metadata": {},
   "outputs": [],
   "source": [
    "START = 2000\n",
    "\n",
    "END = 2018"
   ]
  },
  {
   "cell_type": "code",
   "execution_count": 7,
   "id": "c9482cb9-0e65-4135-bb2f-38a12229e9df",
   "metadata": {},
   "outputs": [],
   "source": [
    "with pd.HDFStore(DATA_STORE) as store:\n",
    "    prices = (store['quandl/wiki/prices']\n",
    "              .loc[idx[str(START):str(END), :], 'adj_close']\n",
    "              .unstack('ticker'))\n",
    "    stocks = store['us_equities/stocks'].loc[:, ['marketcap', 'ipoyear', 'sector']]"
   ]
  },
  {
   "cell_type": "code",
   "execution_count": 10,
   "id": "a7d2dc2c-cfbb-49b7-bb4f-5d729e8b4fdf",
   "metadata": {},
   "outputs": [],
   "source": [
    "prices.info()"
   ]
  },
  {
   "cell_type": "code",
   "execution_count": 11,
   "id": "2c4cd109-857c-461e-8da8-ac7480c242b1",
   "metadata": {},
   "outputs": [],
   "source": [
    "stocks.info()"
   ]
  },
  {
   "cell_type": "markdown",
   "id": "b50a7b93-82af-4c49-8af1-d298a5dbeef5",
   "metadata": {},
   "source": [
    "### Keeping Data with Stock Info"
   ]
  },
  {
   "cell_type": "code",
   "execution_count": 12,
   "id": "6d1956b5-ec89-4639-a58c-d81480f262ef",
   "metadata": {},
   "outputs": [],
   "source": [
    "stocks = stocks[~stocks.index.duplicated()]\n",
    "\n",
    "stocks.index.name = 'ticker'"
   ]
  },
  {
   "cell_type": "code",
   "execution_count": 13,
   "id": "5fb62b00-fec2-4656-8710-407c611ca520",
   "metadata": {},
   "outputs": [],
   "source": [
    "shared = prices.columns.intersection(stocks.index)"
   ]
  },
  {
   "cell_type": "code",
   "execution_count": 14,
   "id": "8dce3702-d65e-4a28-96c8-89bc5b723e7c",
   "metadata": {},
   "outputs": [],
   "source": [
    "stocks = stocks.loc[shared, :]\n",
    "\n",
    "stocks.info()"
   ]
  },
  {
   "cell_type": "code",
   "execution_count": 15,
   "id": "e2b510bc-1619-49d3-8d05-00c8fd16cd3a",
   "metadata": {},
   "outputs": [],
   "source": [
    "prices = prices.loc[:, shared]\n",
    "\n",
    "prices.info()"
   ]
  },
  {
   "cell_type": "code",
   "execution_count": 16,
   "id": "5071c56e-aab9-4e84-946d-8ae997ad496e",
   "metadata": {},
   "outputs": [],
   "source": [
    "assert prices.shape[1] == stocks.shape[0]"
   ]
  },
  {
   "cell_type": "markdown",
   "id": "f76f7b50-177e-4a1d-b0dc-33c21443dfdf",
   "metadata": {},
   "source": [
    "### Setting Monthly Return Series"
   ]
  },
  {
   "cell_type": "code",
   "execution_count": 17,
   "id": "f74c6367-fdde-463b-86c6-4c2ad88e42ca",
   "metadata": {},
   "outputs": [],
   "source": [
    "monthly_prices = prices.resample('M').last()"
   ]
  },
  {
   "cell_type": "code",
   "execution_count": 18,
   "id": "167d0b9a-76d3-4972-9cc5-12d0139241c3",
   "metadata": {},
   "outputs": [],
   "source": [
    "monthly_prices.info()"
   ]
  },
  {
   "cell_type": "code",
   "execution_count": 19,
   "id": "6273d778-4ba7-4775-aa07-f7232bf8550b",
   "metadata": {},
   "outputs": [],
   "source": [
    "outlier_cutoff = 0.01\n",
    "data = pd.DataFrame()\n",
    "lags = [1, 2, 3, 6, 9, 12]\n",
    "for lag in lags:\n",
    "    data[f'return_{lag}m'] = (monthly_prices\n",
    "                           .pct_change(lag)\n",
    "                           .stack()\n",
    "                           .pipe(lambda x: x.clip(lower=x.quantile(outlier_cutoff),\n",
    "                                                  upper=x.quantile(1-outlier_cutoff)))\n",
    "                           .add(1)\n",
    "                           .pow(1/lag)\n",
    "                           .sub(1)\n",
    "                           )\n",
    "data = data.swaplevel().dropna()\n",
    "data.info()"
   ]
  },
  {
   "cell_type": "markdown",
   "id": "dba95390-00b5-49d8-be24-582c5359d73c",
   "metadata": {},
   "source": [
    "### Dropping Stocks with less than 10 yrs of Returns"
   ]
  },
  {
   "cell_type": "code",
   "execution_count": 20,
   "id": "dfc7ae69-fa0f-4ce4-994e-892389c34a2c",
   "metadata": {},
   "outputs": [],
   "source": [
    "min_obs = 120\n",
    "nobs = data.groupby(level='ticker').size()\n",
    "keep = nobs[nobs>min_obs].index\n",
    "\n",
    "data = data.loc[idx[keep,:], :]\n",
    "data.info()"
   ]
  },
  {
   "cell_type": "code",
   "execution_count": 21,
   "id": "b4797120-ec3f-4741-a86a-afbb1d9e322d",
   "metadata": {},
   "outputs": [],
   "source": [
    "data.describe()"
   ]
  },
  {
   "cell_type": "code",
   "execution_count": 22,
   "id": "283a36f3-e966-468b-be32-0325b319e08d",
   "metadata": {},
   "outputs": [],
   "source": [
    "# cmap = sns.diverging_palette(10, 220, as_cmap=True)\n",
    "\n",
    "sns.clustermap(data.corr('spearman'), annot=True, center=0, cmap='Blues');"
   ]
  },
  {
   "cell_type": "code",
   "execution_count": 23,
   "id": "30ab3f6e-b92d-4447-b2c8-00a379319258",
   "metadata": {},
   "outputs": [],
   "source": [
    "data.index.get_level_values('ticker').nunique()"
   ]
  },
  {
   "cell_type": "markdown",
   "id": "b8bef7f4-41d3-4c30-9d95-e38011629253",
   "metadata": {},
   "source": [
    "### Rolling Factor Betas"
   ]
  },
  {
   "cell_type": "code",
   "execution_count": 24,
   "id": "27d7e49a-0e5b-4556-a73d-44a57143aa29",
   "metadata": {},
   "outputs": [],
   "source": [
    "factors = ['Mkt-RF', 'SMB', 'HML', 'RMW', 'CMA']\n",
    "\n",
    "factor_data = web.DataReader('F-F_Research_Data_5_Factors_2x3', 'famafrench', start='2000')[0].drop('RF', axis=1)\n",
    "factor_data.index = factor_data.index.to_timestamp()\n",
    "factor_data = factor_data.resample('M').last().div(100)\n",
    "factor_data.index.name = 'date'\n",
    "\n",
    "factor_data.info()"
   ]
  },
  {
   "cell_type": "code",
   "execution_count": 25,
   "id": "ecb1496a-c3ee-422f-9d21-d4542ad51086",
   "metadata": {},
   "outputs": [],
   "source": [
    "factor_data = factor_data.join(data['return_1m']).sort_index()\n",
    "\n",
    "factor_data.info()"
   ]
  },
  {
   "cell_type": "code",
   "execution_count": 26,
   "id": "acd72278-012e-4372-a13c-a75682ee5be3",
   "metadata": {},
   "outputs": [],
   "source": [
    "T = 24\n",
    "\n",
    "betas = (factor_data.groupby(level='ticker',\n",
    "                             group_keys=False)\n",
    "         .apply(lambda x: RollingOLS(endog=x.return_1m,\n",
    "                                     exog=sm.add_constant(x.drop('return_1m', axis=1)),\n",
    "                                     window=min(T, x.shape[0]-1))\n",
    "                .fit(params_only=True)\n",
    "                .params\n",
    "                .drop('const', axis=1)))"
   ]
  },
  {
   "cell_type": "code",
   "execution_count": 27,
   "id": "7b2e046d-a3da-4596-833e-fc38e1511d8d",
   "metadata": {},
   "outputs": [],
   "source": [
    "betas.describe().join(betas.sum(1).describe().to_frame('total'))"
   ]
  },
  {
   "cell_type": "code",
   "execution_count": 28,
   "id": "4bf272c4-a043-4243-af0f-86b7c7c4337d",
   "metadata": {},
   "outputs": [],
   "source": [
    "cmap = sns.diverging_palette(10, 220, as_cmap=True)\n",
    "\n",
    "sns.clustermap(betas.corr(), annot=True, cmap=cmap, center=0);"
   ]
  },
  {
   "cell_type": "code",
   "execution_count": 29,
   "id": "c6d2eddf-9dd2-4f6d-8e63-a8664739a6cd",
   "metadata": {},
   "outputs": [],
   "source": [
    "data = (data\n",
    "        .join(betas\n",
    "              .groupby(level='ticker')\n",
    "              .shift()))\n",
    "data.info()"
   ]
  },
  {
   "cell_type": "markdown",
   "id": "23faa9c2-b76f-4512-84da-37503493e532",
   "metadata": {},
   "source": [
    "### Imputing Mean for Missing Factor Betas"
   ]
  },
  {
   "cell_type": "code",
   "execution_count": 30,
   "id": "7b33f0b0-85df-4d5b-8dc6-71aed53d2abf",
   "metadata": {},
   "outputs": [],
   "source": [
    "data.loc[:, factors] = data.groupby('ticker')[factors].apply(lambda x: x.fillna(x.mean()))\n",
    "\n",
    "data.info()"
   ]
  },
  {
   "cell_type": "markdown",
   "id": "0da940a2-78f1-4d09-99d0-f7dfb4163c71",
   "metadata": {},
   "source": [
    "### Momentum Factors"
   ]
  },
  {
   "cell_type": "code",
   "execution_count": 31,
   "id": "edb4d639-f3d2-460f-a5da-bd98d9cbc2a9",
   "metadata": {},
   "outputs": [],
   "source": [
    "for lag in [2,3,6,9,12]:\n",
    "    data[f'momentum_{lag}'] = data[f'return_{lag}m'].sub(data.return_1m)\n",
    "\n",
    "data[f'momentum_3_12'] = data[f'return_12m'].sub(data.return_3m)"
   ]
  },
  {
   "cell_type": "markdown",
   "id": "264f4dda-81bc-4849-8a1b-1a705e41c5c1",
   "metadata": {},
   "source": [
    "### Date Indicators"
   ]
  },
  {
   "cell_type": "code",
   "execution_count": 33,
   "id": "779a3305-76f9-4719-b25d-7bd3b85c87c9",
   "metadata": {},
   "outputs": [],
   "source": [
    "dates = data.index.get_level_values('date')\n",
    "\n",
    "data['year'] = dates.year\n",
    "\n",
    "data['month'] = dates.month"
   ]
  },
  {
   "cell_type": "markdown",
   "id": "ca313e6d-a19d-4fbf-b473-d46422d70612",
   "metadata": {},
   "source": [
    "### Lagged Returns"
   ]
  },
  {
   "cell_type": "code",
   "execution_count": 34,
   "id": "bdeb7cad-ce7a-411e-8154-0174107353ce",
   "metadata": {},
   "outputs": [],
   "source": [
    "for t in range(1, 7):\n",
    "    data[f'return_1m_t-{t}'] = data.groupby(level='ticker').return_1m.shift(t)\n",
    "\n",
    "data.info()"
   ]
  },
  {
   "cell_type": "markdown",
   "id": "cfb4d7d4-83b2-46db-901b-470e81bbf9a3",
   "metadata": {},
   "source": [
    "### `Target`: Holding Period Returns"
   ]
  },
  {
   "cell_type": "code",
   "execution_count": 35,
   "id": "7460dcc0-b824-438e-8860-816461a920ce",
   "metadata": {},
   "outputs": [],
   "source": [
    "for t in [1,2,3,6,12]:\n",
    "    data[f'target_{t}m'] = data.groupby(level='ticker')[f'return_{t}m'].shift(-t)"
   ]
  },
  {
   "cell_type": "code",
   "execution_count": 37,
   "id": "303c1926-760f-4fb6-a943-a122df4aa3e0",
   "metadata": {},
   "outputs": [],
   "source": [
    "cols = ['target_1m',\n",
    "        'target_2m',\n",
    "        'target_3m', \n",
    "        'return_1m',\n",
    "        'return_2m',\n",
    "        'return_3m',\n",
    "        'return_1m_t-1',\n",
    "        'return_1m_t-2',\n",
    "        'return_1m_t-3']\n",
    "\n",
    "data[cols].dropna().sort_index().head(10)"
   ]
  },
  {
   "cell_type": "code",
   "execution_count": 38,
   "id": "6dcf6f01-b66e-4be2-820b-523f370dc97a",
   "metadata": {},
   "outputs": [],
   "source": [
    "# data.info()"
   ]
  },
  {
   "cell_type": "markdown",
   "id": "829bbc86-b4e2-4871-bed9-d2073ac5041b",
   "metadata": {},
   "source": [
    "### Creating Age Proxy"
   ]
  },
  {
   "cell_type": "code",
   "execution_count": 39,
   "id": "accb3925-5852-4e64-8edc-ab49963a5e80",
   "metadata": {},
   "outputs": [],
   "source": [
    "data = (data\n",
    "        .join(pd.qcut(stocks.ipoyear, q=5, labels=list(range(1, 6)))\n",
    "              .astype(float)\n",
    "              .fillna(0)\n",
    "              .astype(int)\n",
    "              .to_frame('age')))\n",
    "\n",
    "data.age = data.age.fillna(-1)"
   ]
  },
  {
   "cell_type": "markdown",
   "id": "5f83d30d-e487-4383-aec7-a86ac030b21f",
   "metadata": {},
   "source": [
    "#### Create Dynamic Size Proxy"
   ]
  },
  {
   "cell_type": "code",
   "execution_count": 40,
   "id": "7f57c78d-73e8-4667-a3f5-062d3feaae01",
   "metadata": {},
   "outputs": [],
   "source": [
    "stocks.info()"
   ]
  },
  {
   "cell_type": "code",
   "execution_count": 9,
   "id": "a57a55fd-8dad-4d3b-8168-acb8767437fc",
   "metadata": {},
   "outputs": [],
   "source": [
    "size_factor = (monthly_prices\n",
    "               .loc[data.index.get_level_values('date').unique(),\n",
    "                    data.index.get_level_values('ticker').unique()]\n",
    "               .sort_index(ascending=False)\n",
    "               .pct_change()\n",
    "               .fillna(0)\n",
    "               .add(1)\n",
    "               .cumprod())\n",
    "\n",
    "size_factor.info()"
   ]
  },
  {
   "cell_type": "code",
   "execution_count": 41,
   "id": "83c0cf30-ab04-4513-a1a0-f0b89c86e5e4",
   "metadata": {},
   "outputs": [],
   "source": [
    "msize = (size_factor\n",
    "         .mul(stocks\n",
    "              .loc[size_factor.columns, 'marketcap'])).dropna(axis=1, how='all')"
   ]
  },
  {
   "cell_type": "markdown",
   "id": "205dc59a-e5a9-4c30-9faa-a5ea5fa50fcb",
   "metadata": {},
   "source": [
    "#### Creating Size Indicator as Deciles per Period"
   ]
  },
  {
   "cell_type": "code",
   "execution_count": 42,
   "id": "ee9a5740-9fa2-4cb1-8340-c362737738d5",
   "metadata": {},
   "outputs": [],
   "source": [
    "data['msize'] = (msize\n",
    "                 .apply(lambda x: pd.qcut(x, q=10, labels=list(range(1, 11)))\n",
    "                        .astype(int), axis=1)\n",
    "                 .stack()\n",
    "                 .swaplevel())\n",
    "\n",
    "data.msize = data.msize.fillna(-1)"
   ]
  },
  {
   "cell_type": "markdown",
   "id": "cbb82c74-4606-470d-ada2-f8b4473478f5",
   "metadata": {},
   "source": [
    "### Combining Data"
   ]
  },
  {
   "cell_type": "code",
   "execution_count": 43,
   "id": "8de0f520-c8aa-4998-96c7-49a3e379ff75",
   "metadata": {},
   "outputs": [],
   "source": [
    "data = data.join(stocks[['sector']])\n",
    "\n",
    "data.sector = data.sector.fillna('Unknown')"
   ]
  },
  {
   "cell_type": "code",
   "execution_count": 44,
   "id": "b44c8316-685c-478c-89cc-9fa7150cceba",
   "metadata": {},
   "outputs": [],
   "source": [
    "data.info()"
   ]
  },
  {
   "cell_type": "markdown",
   "id": "0da64f1e-21e0-4ec9-9501-87c834473923",
   "metadata": {},
   "source": [
    "### Storing Data"
   ]
  },
  {
   "cell_type": "code",
   "execution_count": 45,
   "id": "bdaea1a0-41d9-4d76-b502-7bf507b14a06",
   "metadata": {},
   "outputs": [],
   "source": [
    "with pd.HDFStore(DATA_STORE) as store:\n",
    "    store.put('engineered_features', data.sort_index().loc[idx[:, :datetime(2018, 3, 1)], :])\n",
    "    print(store.info())"
   ]
  },
  {
   "cell_type": "markdown",
   "id": "e2229bbc-09af-4e24-983d-cf4a7a844d6c",
   "metadata": {},
   "source": [
    "### Creating Dummy Variables"
   ]
  },
  {
   "cell_type": "code",
   "execution_count": 46,
   "id": "9e66fdc9-b079-425f-a87e-261fa84e2d48",
   "metadata": {},
   "outputs": [],
   "source": [
    "dummy_data = pd.get_dummies(data,\n",
    "                            columns=['year','month', 'msize', 'age',  'sector'],\n",
    "                            prefix=['year','month', 'msize', 'age', ''],\n",
    "                            prefix_sep=['_', '_', '_', '_', ''])\n",
    "\n",
    "dummy_data = dummy_data.rename(columns={c:c.replace('.0', '') for c in dummy_data.columns})\n",
    "dummy_data.info()"
   ]
  },
  {
   "cell_type": "code",
   "execution_count": null,
   "id": "8e4ef745-182e-400f-a013-ddbe06b262d6",
   "metadata": {},
   "outputs": [],
   "source": []
  }
 ],
 "metadata": {
  "kernelspec": {
   "display_name": "Python 3 (ipykernel)",
   "language": "python",
   "name": "python3"
  },
  "language_info": {
   "codemirror_mode": {
    "name": "ipython",
    "version": 3
   },
   "file_extension": ".py",
   "mimetype": "text/x-python",
   "name": "python",
   "nbconvert_exporter": "python",
   "pygments_lexer": "ipython3",
   "version": "3.12.9"
  }
 },
 "nbformat": 4,
 "nbformat_minor": 5
}
