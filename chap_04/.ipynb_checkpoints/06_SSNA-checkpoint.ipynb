{
 "cells": [
  {
   "cell_type": "markdown",
   "id": "713cfbf1-6da4-44ed-bb39-54392b349c94",
   "metadata": {},
   "source": [
    "# Separating Signal & Noise – How to Use `Alphalens`\n",
    "\n",
    "### Loading Libraries"
   ]
  },
  {
   "cell_type": "code",
   "execution_count": 2,
   "id": "7601c0f0-59d6-45e3-95d7-9f9adb83afc3",
   "metadata": {},
   "outputs": [],
   "source": [
    "# Numerical Computing\n",
    "import numpy as np\n",
    "\n",
    "# Data Manipulation\n",
    "import pandas as pd\n",
    "\n",
    "# Data Visualization\n",
    "import seaborn as sns\n",
    "import matplotlib.pyplot as plt\n",
    "\n",
    "# Alphalens\n",
    "from alphalens.tears import *\n",
    "from alphalens.plotting import *\n",
    "from alphalens.performance import *\n",
    "from alphalens.utils import get_clean_factor_and_forward_returns\n",
    "\n",
    "# Warnings\n",
    "import warnings\n",
    "\n",
    "# Regular Expressions\n",
    "import re"
   ]
  },
  {
   "cell_type": "code",
   "execution_count": 3,
   "id": "bde07ae0-44ec-475b-8d3f-21e8c4198396",
   "metadata": {},
   "outputs": [],
   "source": [
    "sns.set_style('whitegrid')\n",
    "\n",
    "warnings.filterwarnings('ignore')"
   ]
  },
  {
   "cell_type": "markdown",
   "id": "554cc2c8-1768-41ae-930c-72424da62d0a",
   "metadata": {},
   "source": [
    "## Creating Forward Returns & Factor Quantiles"
   ]
  },
  {
   "cell_type": "code",
   "execution_count": 5,
   "id": "bf3ecfdb-1c6f-4262-a996-3da5cc3a7704",
   "metadata": {},
   "outputs": [],
   "source": [
    "performance = pd.read_pickle('single_factor.pickle')"
   ]
  },
  {
   "cell_type": "code",
   "execution_count": 6,
   "id": "4578b79a-b92a-4cbe-82b0-fc1ac6255868",
   "metadata": {},
   "outputs": [],
   "source": [
    "performance.info()"
   ]
  },
  {
   "cell_type": "code",
   "execution_count": 7,
   "id": "b25a855d-4cd0-42ab-9e06-515c8dea05cb",
   "metadata": {},
   "outputs": [],
   "source": [
    "prices = pd.concat([df.to_frame(d) for d, df in performance.prices.dropna().items()],axis=1).T\n",
    "prices.columns = [re.findall(r\"\\[(.+)\\]\", str(col))[0] for col in prices.columns]\n",
    "prices.index = prices.index.normalize()\n",
    "prices.info()"
   ]
  },
  {
   "cell_type": "code",
   "execution_count": 8,
   "id": "f87138e9-8e50-4fb2-87fc-d15a1180f461",
   "metadata": {},
   "outputs": [],
   "source": [
    "factor_data = pd.concat([df.to_frame(d) for d, df in performance.factor_data.dropna().items()],axis=1).T\n",
    "factor_data.columns = [re.findall(r\"\\[(.+)\\]\", str(col))[0] for col in factor_data.columns]\n",
    "factor_data.index = factor_data.index.normalize()\n",
    "factor_data = factor_data.stack()\n",
    "factor_data.index.names = ['date', 'asset']\n",
    "factor_data.head()"
   ]
  },
  {
   "cell_type": "code",
   "execution_count": 9,
   "id": "5f92b11d-e4b0-45e6-9be8-84dcdb5040da",
   "metadata": {},
   "outputs": [],
   "source": [
    "with pd.HDFStore('../data/assets.h5') as store:\n",
    "    sp500 = store['sp500/stooq'].close\n",
    "\n",
    "sp500 = sp500.resample('D').ffill().tz_localize('utc').filter(prices.index.get_level_values(0))\n",
    "sp500.head()"
   ]
  },
  {
   "cell_type": "code",
   "execution_count": 10,
   "id": "877ddd3f-f1dc-4607-9568-e3d50bac70d6",
   "metadata": {},
   "outputs": [],
   "source": [
    "HOLDING_PERIODS = (5, 10, 21, 42)\n",
    "\n",
    "QUANTILES = 5\n",
    "\n",
    "alphalens_data = get_clean_factor_and_forward_returns(factor=factor_data,\n",
    "                                                      prices=prices,\n",
    "                                                      periods=HOLDING_PERIODS,\n",
    "                                                      quantiles=QUANTILES)"
   ]
  },
  {
   "cell_type": "code",
   "execution_count": 11,
   "id": "14db958f-4be8-4b1e-8f04-fdbf792636f7",
   "metadata": {},
   "outputs": [],
   "source": [
    "alphalens_data.head()"
   ]
  },
  {
   "cell_type": "code",
   "execution_count": 12,
   "id": "35c0ab37-706e-4773-b600-953c4c81ffbc",
   "metadata": {},
   "outputs": [],
   "source": [
    "alphalens_data.reset_index().head().to_csv('factor_data.csv', index=False)"
   ]
  },
  {
   "cell_type": "markdown",
   "id": "64c1bda8-e51c-4c39-b617-f4896778c79d",
   "metadata": {},
   "source": [
    "## Summary Tear Sheet"
   ]
  },
  {
   "cell_type": "code",
   "execution_count": 13,
   "id": "6cdb8452-6c21-4a89-8dbc-34d86eac1e16",
   "metadata": {},
   "outputs": [],
   "source": [
    "create_summary_tear_sheet(alphalens_data)"
   ]
  },
  {
   "cell_type": "markdown",
   "id": "b15a75ab-08c1-460e-a6c8-6f34044565f1",
   "metadata": {},
   "source": [
    "### Predictive Performance by Factor Quantiles - Returns Analysis"
   ]
  },
  {
   "cell_type": "code",
   "execution_count": 14,
   "id": "99b504c2-f7c5-49ca-ab9e-254297fed536",
   "metadata": {},
   "outputs": [],
   "source": [
    "mean_return_by_q, std_err = mean_return_by_quantile(alphalens_data)\n",
    "\n",
    "mean_return_by_q_norm = mean_return_by_q.apply(lambda x: x.add(1).pow(1/int(x.name[:-1])).sub(1))"
   ]
  },
  {
   "cell_type": "markdown",
   "id": "6a5f8f0e-3d87-4130-8971-f2e6c1cf759d",
   "metadata": {},
   "source": [
    "#### Mean Return by Holding Period & Quintile"
   ]
  },
  {
   "cell_type": "code",
   "execution_count": 15,
   "id": "6fa82006-41c2-46eb-b72f-02d00f138680",
   "metadata": {},
   "outputs": [],
   "source": [
    "plot_quantile_returns_bar(mean_return_by_q)\n",
    "\n",
    "plt.tight_layout()\n",
    "sns.despine();"
   ]
  },
  {
   "cell_type": "code",
   "execution_count": 16,
   "id": "8c9175b5-5b07-4b4c-b693-1014e6eef9eb",
   "metadata": {},
   "outputs": [],
   "source": [
    "mean_return_by_q_daily, std_err = mean_return_by_quantile(alphalens_data, by_date=True)"
   ]
  },
  {
   "cell_type": "markdown",
   "id": "35d8b8c6-6ec7-4cca-9481-a153997fc6f2",
   "metadata": {},
   "source": [
    "#### Cumulative 5D Return"
   ]
  },
  {
   "cell_type": "code",
   "execution_count": 17,
   "id": "3fe38a37-caf1-48ea-967c-63fac89bb2b7",
   "metadata": {},
   "outputs": [],
   "source": [
    "plot_cumulative_returns_by_quantile(mean_return_by_q_daily['5D'], period='5D', freq=None)\n",
    "plt.tight_layout()\n",
    "sns.despine();"
   ]
  },
  {
   "cell_type": "markdown",
   "id": "d82b5c2c-6805-457b-b175-b3717791f22e",
   "metadata": {},
   "source": [
    "#### Return Distribution by Holding Period & Quintile"
   ]
  },
  {
   "cell_type": "code",
   "execution_count": 20,
   "id": "3317e740-6854-464e-af1b-5937a9ab0432",
   "metadata": {},
   "outputs": [],
   "source": [
    "plot_quantile_returns_violin(mean_return_by_q_daily)\n",
    "plt.tight_layout()\n",
    "sns.despine();"
   ]
  },
  {
   "cell_type": "markdown",
   "id": "7711d6b3-af14-4699-abe6-a4225cb84978",
   "metadata": {},
   "source": [
    "### Information Coefficient\n",
    "\n",
    "#### 5D Information Coefficient (Rolling Average)"
   ]
  },
  {
   "cell_type": "code",
   "execution_count": 21,
   "id": "cc8651a3-bc6b-4875-b2c4-b6dac9e44955",
   "metadata": {},
   "outputs": [],
   "source": [
    "ic = factor_information_coefficient(alphalens_data)\n",
    "plot_ic_ts(ic[['5D']])\n",
    "\n",
    "plt.tight_layout()\n",
    "sns.despine();"
   ]
  },
  {
   "cell_type": "markdown",
   "id": "eb30ba3d-d995-42b0-b14d-967fc146ecb4",
   "metadata": {},
   "source": [
    "#### Information Coefficient by Holding Period"
   ]
  },
  {
   "cell_type": "code",
   "execution_count": 22,
   "id": "0166eb9f-1680-4a4a-a5f9-a6403ac3d7a3",
   "metadata": {},
   "outputs": [],
   "source": [
    "ic = factor_information_coefficient(alphalens_data)\n",
    "ic_by_year = ic.resample('A').mean()\n",
    "ic_by_year.index = ic_by_year.index.year\n",
    "ic_by_year.plot.bar(figsize=(14, 6))\n",
    "plt.tight_layout();"
   ]
  },
  {
   "cell_type": "markdown",
   "id": "61139efc-69a3-4780-a48b-ae2f20c2341a",
   "metadata": {},
   "source": [
    "### Turnover Tear Sheet"
   ]
  },
  {
   "cell_type": "code",
   "execution_count": 23,
   "id": "e6138ce4-7f02-405b-b7dc-2830cd403177",
   "metadata": {},
   "outputs": [],
   "source": [
    "create_turnover_tear_sheet(alphalens_data);"
   ]
  }
 ],
 "metadata": {
  "kernelspec": {
   "display_name": "Python 3 (ipykernel)",
   "language": "python",
   "name": "python3"
  },
  "language_info": {
   "codemirror_mode": {
    "name": "ipython",
    "version": 3
   },
   "file_extension": ".py",
   "mimetype": "text/x-python",
   "name": "python",
   "nbconvert_exporter": "python",
   "pygments_lexer": "ipython3",
   "version": "3.12.9"
  }
 },
 "nbformat": 4,
 "nbformat_minor": 5
}
