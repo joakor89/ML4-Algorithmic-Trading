{
 "cells": [
  {
   "cell_type": "markdown",
   "id": "61dcdd72-9c42-44a4-b765-6fd6513283e2",
   "metadata": {},
   "source": [
    "# How to Use The Kalman Filter & Wavelets\n",
    "\n",
    "### Loading Libraries"
   ]
  },
  {
   "cell_type": "code",
   "execution_count": 11,
   "id": "69f09783-ead9-4b80-bdc8-08ac66545a16",
   "metadata": {},
   "outputs": [],
   "source": [
    "# Date, Time & IterTools\n",
    "import itertools\n",
    "from datetime import datetime\n",
    "\n",
    "# Data Manipulation\n",
    "import pandas as pd\n",
    "import pandas_datareader.data as web\n",
    "\n",
    "# Kalman\n",
    "import pywt\n",
    "from pykalman import KalmanFilter\n",
    "\n",
    "# Data Visualization\n",
    "import seaborn as sns\n",
    "import matplotlib.pyplot as plt\n",
    "\n",
    "# Warnings\n",
    "import warnings"
   ]
  },
  {
   "cell_type": "code",
   "execution_count": 12,
   "id": "467225ce-2b1d-4625-a90d-d165bca1eb81",
   "metadata": {},
   "outputs": [],
   "source": [
    "%matplotlib inline"
   ]
  },
  {
   "cell_type": "code",
   "execution_count": 13,
   "id": "79e5100f-6905-4bd6-9c4b-6915fb94dc7a",
   "metadata": {},
   "outputs": [],
   "source": [
    "idx = pd.IndexSlice\n",
    "sns.set_style('whitegrid')\n",
    "warnings.filterwarnings('ignore')"
   ]
  },
  {
   "cell_type": "markdown",
   "id": "497f75f8-8d7b-4750-8c72-ffe9a84b93ef",
   "metadata": {},
   "source": [
    "### Getting Data"
   ]
  },
  {
   "cell_type": "code",
   "execution_count": 15,
   "id": "0d1a9f44-b09a-4b1d-a7c1-d5523737c311",
   "metadata": {},
   "outputs": [],
   "source": [
    "DATA_STORE = '../data/assets.h5'"
   ]
  },
  {
   "cell_type": "code",
   "execution_count": 16,
   "id": "15a1d945-359a-4142-8765-9e79ada721af",
   "metadata": {},
   "outputs": [],
   "source": [
    "with pd.HDFStore(DATA_STORE) as store:\n",
    "    sp500 = store['sp500/stooq'].loc['2009': '2010', 'close']"
   ]
  },
  {
   "cell_type": "markdown",
   "id": "86669a6d-0368-430f-8eff-a45eba18b2f8",
   "metadata": {},
   "source": [
    "### Kalman Filter\n",
    "\n",
    "#### Configuration"
   ]
  },
  {
   "cell_type": "code",
   "execution_count": 17,
   "id": "7dff4857-772f-41af-9658-457bdb05876a",
   "metadata": {},
   "outputs": [],
   "source": [
    "kf = KalmanFilter(transition_matrices = [1],\n",
    "                  observation_matrices = [1],\n",
    "                  initial_state_mean = 0,\n",
    "                  initial_state_covariance = 1,\n",
    "                  observation_covariance=1,\n",
    "                  transition_covariance=.01)"
   ]
  },
  {
   "cell_type": "markdown",
   "id": "3be61b5f-a21a-49ce-85c3-d14160930cf3",
   "metadata": {},
   "source": [
    "#### Estimate Hidden State"
   ]
  },
  {
   "cell_type": "code",
   "execution_count": 18,
   "id": "58dd5950-8e98-4c73-8190-61b96a25cbc3",
   "metadata": {},
   "outputs": [],
   "source": [
    "state_means, _ = kf.filter(sp500)"
   ]
  },
  {
   "cell_type": "markdown",
   "id": "790f1365-8d42-4a4f-98c2-88067f1c701c",
   "metadata": {},
   "source": [
    "#### Compare with Moving Average"
   ]
  },
  {
   "cell_type": "code",
   "execution_count": 19,
   "id": "a2774283-953c-4773-a896-295303d97e71",
   "metadata": {},
   "outputs": [],
   "source": [
    "sp500_smoothed = sp500.to_frame('close')\n",
    "sp500_smoothed['Kalman Filter'] = state_means\n",
    "\n",
    "for months in [1,2,3]:\n",
    "    sp500_smoothed[f'MA ({months}m)'] = sp500.rolling(window=months*21).mean()\n",
    "\n",
    "ax = sp500_smoothed.plot(title='Kalman Filter vs Moving Average', figsize=(14,6), lw=1, rot=0)\n",
    "ax.set_xlabel('')\n",
    "ax.set_ylabel('S&P 500')\n",
    "plt.tight_layout()\n",
    "sns.despine();"
   ]
  },
  {
   "cell_type": "markdown",
   "id": "683e2c0b-6896-403c-ac79-090537b4d5df",
   "metadata": {},
   "source": [
    "### Wavelets"
   ]
  },
  {
   "cell_type": "code",
   "execution_count": 20,
   "id": "1192ae5c-85af-40a0-9993-2aedb5ba3fa2",
   "metadata": {},
   "outputs": [],
   "source": [
    "wavelet = pywt.Wavelet('db6')\n",
    "phi, psi, x = wavelet.wavefun(level=5)\n",
    "\n",
    "df = pd.DataFrame({'$\\phi$': phi, '$\\psi$': psi}, index=x)\n",
    "df.plot(title='Daubechies', subplots=True, layout=(1, 2), figsize=(14, 4), lw=2, rot=0)\n",
    "plt.tight_layout()\n",
    "sns.despine();"
   ]
  },
  {
   "cell_type": "code",
   "execution_count": 21,
   "id": "617b1c39-f87d-4056-947f-493fb2e4b3e2",
   "metadata": {},
   "outputs": [],
   "source": [
    "plot_data = [('db', (4, 3)),\n",
    "             ('sym', (4, 3)),\n",
    "             ('coif', (3, 2))]\n",
    "\n",
    "\n",
    "for family, (rows, cols) in plot_data:\n",
    "    fig = plt.figure(figsize=(24, 12))\n",
    "    fig.subplots_adjust(hspace=0.2, wspace=0.2, bottom=.02, left=.06,\n",
    "                        right=.97, top=.94)\n",
    "    colors = itertools.cycle('bgrcmyk')\n",
    "\n",
    "    wnames = pywt.wavelist(family)\n",
    "    i = iter(wnames)\n",
    "    for col in range(cols):\n",
    "        for row in range(rows):\n",
    "            try:\n",
    "                wavelet = pywt.Wavelet(next(i))\n",
    "            except StopIteration:\n",
    "                break\n",
    "            phi, psi, x = wavelet.wavefun(level=5)\n",
    "\n",
    "            color = next(colors)\n",
    "            ax = fig.add_subplot(rows, 2 * cols, 1 + 2 * (col + row * cols))\n",
    "            ax.set_title(wavelet.name + \" phi\")\n",
    "            ax.plot(x, phi, color, lw=1)\n",
    "            ax.set_xlim(min(x), max(x))\n",
    "\n",
    "            ax = fig.add_subplot(rows, 2*cols, 1 + 2*(col + row*cols) + 1)\n",
    "            ax.set_title(wavelet.name + \" psi\")\n",
    "            ax.plot(x, psi, color, lw=1)\n",
    "            ax.set_xlim(min(x), max(x))\n",
    "    sns.despine()\n",
    "\n",
    "for family, (rows, cols) in [('bior', (4, 3)), ('rbio', (4, 3))]:\n",
    "    fig = plt.figure(figsize=(24, 12))\n",
    "    fig.subplots_adjust(hspace=0.5, wspace=0.2, bottom=.02, left=.06,\n",
    "                        right=.97, top=.94)\n",
    "\n",
    "    colors = itertools.cycle('bgrcmyk')\n",
    "    wnames = pywt.wavelist(family)\n",
    "    i = iter(wnames)\n",
    "    for col in range(cols):\n",
    "        for row in range(rows):\n",
    "            try:\n",
    "                wavelet = pywt.Wavelet(next(i))\n",
    "            except StopIteration:\n",
    "                break\n",
    "            phi, psi, phi_r, psi_r, x = wavelet.wavefun(level=5)\n",
    "            row *= 2\n",
    "\n",
    "            color = next(colors)\n",
    "            ax = fig.add_subplot(2*rows, 2*cols, 1 + 2*(col + row*cols))\n",
    "            ax.set_title(wavelet.name + \" phi\")\n",
    "            ax.plot(x, phi, color, lw=1)\n",
    "            ax.set_xlim(min(x), max(x))\n",
    "\n",
    "            ax = fig.add_subplot(2*rows, 2*cols, 2*(1 + col + row*cols))\n",
    "            ax.set_title(wavelet.name + \" psi\")\n",
    "            ax.plot(x, psi, color, lw=1)\n",
    "            ax.set_xlim(min(x), max(x))\n",
    "\n",
    "            row += 1\n",
    "            ax = fig.add_subplot(2*rows, 2*cols, 1 + 2*(col + row*cols))\n",
    "            ax.set_title(wavelet.name + \" phi_r\")\n",
    "            ax.plot(x, phi_r, color, lw=1)\n",
    "            ax.set_xlim(min(x), max(x))\n",
    "\n",
    "            ax = fig.add_subplot(2*rows, 2*cols, 1 + 2*(col + row*cols) + 1)\n",
    "            ax.set_title(wavelet.name + \" psi_r\")\n",
    "            ax.plot(x, psi_r, color, lw=1)\n",
    "            ax.set_xlim(min(x), max(x))\n",
    "    sns.despine()\n",
    "\n",
    "plt.show()"
   ]
  },
  {
   "cell_type": "markdown",
   "id": "91a1dd63-10ee-4f69-af9e-8f3e5a82010d",
   "metadata": {},
   "source": [
    "### Available Wavelet Families"
   ]
  },
  {
   "cell_type": "code",
   "execution_count": 22,
   "id": "5ad34bb6-5ba7-42ab-9ed8-ee0b085955f1",
   "metadata": {},
   "outputs": [],
   "source": [
    "pywt.families(short=False)"
   ]
  },
  {
   "cell_type": "markdown",
   "id": "6b4844f2-1f70-40a7-9f57-6b3fca5904a5",
   "metadata": {},
   "source": [
    "### Smoothing the S&P 500"
   ]
  },
  {
   "cell_type": "code",
   "execution_count": 23,
   "id": "ed8b45ef-b426-423b-be61-959d272cd7f6",
   "metadata": {},
   "outputs": [],
   "source": [
    "signal = (pd.read_hdf(DATA_STORE, 'sp500/stooq')\n",
    "          .loc['2008': '2009']\n",
    "          .close.pct_change()\n",
    "          .dropna())\n",
    "\n",
    "fig, axes = plt.subplots(ncols=2, figsize=(14, 5))\n",
    "\n",
    "wavelet = \"db6\"\n",
    "for i, scale in enumerate([.1, .5]):\n",
    "    \n",
    "    coefficients = pywt.wavedec(signal, wavelet, mode='per')\n",
    "    coefficients[1:] = [pywt.threshold(i, value=scale*signal.max(), mode='soft') for i in coefficients[1:]]\n",
    "    reconstructed_signal = pywt.waverec(coefficients, wavelet, mode='per')\n",
    "    signal.plot(color=\"b\", alpha=0.5, label='original signal', lw=2, \n",
    "                 title=f'Threshold Scale: {scale:.1f}', ax=axes[i])\n",
    "    pd.Series(reconstructed_signal, index=signal.index).plot(c='k', label='DWT smoothing}', linewidth=1, ax=axes[i])\n",
    "    axes[i].legend()\n",
    "fig.tight_layout()\n",
    "sns.despine();"
   ]
  },
  {
   "cell_type": "code",
   "execution_count": null,
   "id": "efc94a5b-bb21-4f8f-ba22-651ebb9a0a4f",
   "metadata": {},
   "outputs": [],
   "source": []
  }
 ],
 "metadata": {
  "kernelspec": {
   "display_name": "Python 3 (ipykernel)",
   "language": "python",
   "name": "python3"
  },
  "language_info": {
   "codemirror_mode": {
    "name": "ipython",
    "version": 3
   },
   "file_extension": ".py",
   "mimetype": "text/x-python",
   "name": "python",
   "nbconvert_exporter": "python",
   "pygments_lexer": "ipython3",
   "version": "3.12.9"
  }
 },
 "nbformat": 4,
 "nbformat_minor": 5
}
