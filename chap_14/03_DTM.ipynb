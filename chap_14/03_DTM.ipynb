{
 "cells": [
  {
   "cell_type": "markdown",
   "id": "40993d08-3b67-4ab0-928e-55a8fbe2fcd6",
   "metadata": {},
   "source": [
    "# From Tokens to Numbers: The Document-Term Matrix\n",
    "\n",
    "### Loading Libraries"
   ]
  },
  {
   "cell_type": "code",
   "execution_count": 1,
   "id": "6e4c7060-67ff-489c-8ca6-3fbf4b04c5a5",
   "metadata": {},
   "outputs": [],
   "source": [
    "# Numerical Computing\n",
    "import numpy as np\n",
    "\n",
    "# Data Manipulation\n",
    "import pandas as pd\n",
    "\n",
    "# Data Visualization\n",
    "import seaborn as sns\n",
    "import matplotlib.pyplot as plt\n",
    "from matplotlib.ticker import ScalarFormatter\n",
    "\n",
    "# Path & Counter\n",
    "from pathlib import Path\n",
    "from collections import Counter\n",
    "\n",
    "# ScyPy\n",
    "from scipy import sparse\n",
    "from scipy.spatial.distance import pdist\n",
    "\n",
    "# Sys\n",
    "import sys\n",
    "\n",
    "# Warnings\n",
    "import warnings\n",
    "\n",
    "# IPywidget\n",
    "from ipywidgets import interact, FloatRangeSlider\n",
    "\n",
    "# SpyCy\n",
    "import spacy\n",
    "\n",
    "# Scikit-Learn\n",
    "from sklearn.model_selection import train_test_split\n",
    "from sklearn.feature_extraction.text import CountVectorizer, TfidfVectorizer, TfidfTransformer"
   ]
  },
  {
   "cell_type": "code",
   "execution_count": 2,
   "id": "e86c9e5e-33af-4e47-9ffb-037c056a1fe4",
   "metadata": {},
   "outputs": [],
   "source": [
    "%matplotlib inline"
   ]
  },
  {
   "cell_type": "code",
   "execution_count": 3,
   "id": "36ed259a-1eb1-4d87-919d-d71aad54aeb7",
   "metadata": {},
   "outputs": [],
   "source": [
    "np.random.seed(42)\n",
    "\n",
    "sns.set_style('white')\n",
    "\n",
    "warnings.filterwarnings('ignore')"
   ]
  },
  {
   "cell_type": "markdown",
   "id": "32dd5c05-58a8-40c8-9993-8d94482d8574",
   "metadata": {},
   "source": [
    "### Loading BBC Data"
   ]
  },
  {
   "cell_type": "code",
   "execution_count": 4,
   "id": "781c2604-443e-4400-aa79-1b588bf5eb77",
   "metadata": {},
   "outputs": [],
   "source": [
    "path = Path('..', 'data', 'bbc')\n",
    "\n",
    "files = sorted(list(path.glob('**/*.txt')))\n",
    "\n",
    "doc_list = []\n",
    "\n",
    "for i, file in enumerate(files):\n",
    "    topic = file.parts[-2]\n",
    "    article = file.read_text(encoding='latin1').split('\\n')\n",
    "    heading = article[0].strip()\n",
    "    body = ' '.join([l.strip() for l in article[1:]]).strip()\n",
    "    doc_list.append([topic, heading, body])"
   ]
  },
  {
   "cell_type": "markdown",
   "id": "846e107f-ae91-4044-a160-0471ecdb11dc",
   "metadata": {},
   "source": [
    "#### DataFrame Conversion"
   ]
  },
  {
   "cell_type": "code",
   "execution_count": 6,
   "id": "8af88258-07d3-4e8e-bdbf-169154799d45",
   "metadata": {},
   "outputs": [
    {
     "name": "stdout",
     "output_type": "stream",
     "text": [
      "<class 'pandas.core.frame.DataFrame'>\n",
      "RangeIndex: 0 entries\n",
      "Data columns (total 3 columns):\n",
      " #   Column   Non-Null Count  Dtype \n",
      "---  ------   --------------  ----- \n",
      " 0   topic    0 non-null      object\n",
      " 1   heading  0 non-null      object\n",
      " 2   body     0 non-null      object\n",
      "dtypes: object(3)\n",
      "memory usage: 132.0+ bytes\n"
     ]
    }
   ],
   "source": [
    "docs = pd.DataFrame(doc_list, columns=['topic', 'heading', 'body'])\n",
    "docs.info()"
   ]
  },
  {
   "cell_type": "markdown",
   "id": "7d5f2370-c926-441c-95ff-508f4773db20",
   "metadata": {},
   "source": [
    "#### Inspecting Results"
   ]
  },
  {
   "cell_type": "code",
   "execution_count": 9,
   "id": "bd715e92-c4b3-4ba6-a033-1d1e72348b7a",
   "metadata": {},
   "outputs": [],
   "source": [
    "docs.sample(10)"
   ]
  },
  {
   "cell_type": "markdown",
   "id": "0d2c1e34-a4d3-4494-8f8b-b36009881621",
   "metadata": {},
   "source": [
    "#### Data Drawn from 5 different Categories"
   ]
  },
  {
   "cell_type": "code",
   "execution_count": null,
   "id": "c2b5bae5-c7f6-44b0-a89f-bf94edf9c95f",
   "metadata": {},
   "outputs": [],
   "source": [
    "docs.topic.value_counts(normalize=True).to_frame('count').style.format({'count': '{:,.2%}'.format})"
   ]
  },
  {
   "cell_type": "markdown",
   "id": "cd8eb12b-8bbf-41c6-8978-dfc4ffb74388",
   "metadata": {},
   "source": [
    "### Exploring Corpus\n",
    "\n",
    "#### Token Count via Counter()"
   ]
  },
  {
   "cell_type": "code",
   "execution_count": 16,
   "id": "f6b43466-5364-4b58-aca1-3d30d1635965",
   "metadata": {},
   "outputs": [],
   "source": [
    "word_count = docs.body.str.split().str.len().sum()\n",
    "\n",
    "print(f'Total word count: {word_count:,d} | per article: {word_count/len(docs):,.0f}')"
   ]
  },
  {
   "cell_type": "code",
   "execution_count": 17,
   "id": "b88c84ad-263d-45f1-80b8-b3f5905420a0",
   "metadata": {},
   "outputs": [],
   "source": [
    "token_count = Counter()\n",
    "\n",
    "for i, doc in enumerate(docs.body.tolist(), 1):\n",
    "    if i % 500 == 0:\n",
    "        print(i, end=' ', flush=True)\n",
    "    token_count.update([t.strip() for t in doc.split()])"
   ]
  },
  {
   "cell_type": "code",
   "execution_count": 18,
   "id": "852bd490-1c94-421e-83bf-b6eadaa91f04",
   "metadata": {},
   "outputs": [],
   "source": [
    "tokens = (pd.DataFrame(token_count.most_common(), columns=['token', 'count'])\n",
    "          .set_index('token')\n",
    "          .squeeze())"
   ]
  },
  {
   "cell_type": "code",
   "execution_count": 19,
   "id": "f136a86a-740e-46c3-b26c-dc6f916be593",
   "metadata": {},
   "outputs": [],
   "source": [
    "n = 50\n",
    "(tokens\n",
    " .iloc[:50]\n",
    " .plot\n",
    " .bar(figsize=(14, 4), title=f'Most frequent {n} of {len(tokens):,d} tokens'))\n",
    "sns.despine()\n",
    "plt.tight_layout();\n",
    "plt.show()"
   ]
  },
  {
   "cell_type": "markdown",
   "id": "4102fa0e-b087-4d95-a6b7-261d958033ff",
   "metadata": {},
   "source": [
    "### Document-Term Matrix with `CountVectorizer`\n",
    "\n",
    "#### Key Parameters"
   ]
  },
  {
   "cell_type": "code",
   "execution_count": 20,
   "id": "d72a04f2-00ec-4c9c-9086-42844d1ef279",
   "metadata": {},
   "outputs": [],
   "source": [
    "print(CountVectorizer().__doc__)"
   ]
  },
  {
   "cell_type": "markdown",
   "id": "5ecb91b2-2af2-4b9f-b119-c56a3f7ed3db",
   "metadata": {},
   "source": [
    "#### Document Frequency Distribution"
   ]
  },
  {
   "cell_type": "code",
   "execution_count": 26,
   "id": "87873fac-0a2a-44d1-89ba-ea0edf8be148",
   "metadata": {},
   "outputs": [],
   "source": [
    "binary_vectorizer = CountVectorizer(max_df=1.0,\n",
    "                                    min_df=1,\n",
    "                                    binary=True)\n",
    "\n",
    "binary_dtm = binary_vectorizer.fit_transform(docs.body)"
   ]
  },
  {
   "cell_type": "code",
   "execution_count": 27,
   "id": "a329bab0-cec1-4010-bf85-2ecffb318289",
   "metadata": {},
   "outputs": [],
   "source": [
    "binary_dtm"
   ]
  },
  {
   "cell_type": "code",
   "execution_count": 28,
   "id": "c126073e-7f44-419d-b7f9-f9585ee4883c",
   "metadata": {},
   "outputs": [],
   "source": [
    "n_docs, n_tokens = binary_dtm.shape"
   ]
  },
  {
   "cell_type": "code",
   "execution_count": 29,
   "id": "9a0999e4-5113-4196-b134-9d89d4713c10",
   "metadata": {},
   "outputs": [],
   "source": [
    "tokens_dtm = binary_vectorizer.get_feature_names()"
   ]
  },
  {
   "cell_type": "markdown",
   "id": "38dfcc6b-0d42-475d-9171-64c898ad107c",
   "metadata": {},
   "source": [
    "### `CountVectorizer` skips certain Tokens by Default"
   ]
  },
  {
   "cell_type": "code",
   "execution_count": 30,
   "id": "7104b159-79c6-4c75-ab62-49ac55e730ea",
   "metadata": {},
   "outputs": [],
   "source": [
    "tokens.index.difference(pd.Index(tokens_dtm))"
   ]
  },
  {
   "cell_type": "markdown",
   "id": "d4a5ef46-5cec-4120-84e8-651802b510f8",
   "metadata": {},
   "source": [
    "#### Persisting Result"
   ]
  },
  {
   "cell_type": "code",
   "execution_count": 31,
   "id": "be6dfb30-9e69-412e-8b4e-d90984c469f4",
   "metadata": {},
   "outputs": [],
   "source": [
    "results_path = Path('results', 'bbc')\n",
    "\n",
    "if not results_path.exists():\n",
    "    results_path.mkdir(parents=True)"
   ]
  },
  {
   "cell_type": "code",
   "execution_count": 32,
   "id": "5252d7d9-d356-4d86-8188-8f917d3db333",
   "metadata": {},
   "outputs": [],
   "source": [
    "dtm_path = results_path / 'binary_dtm.npz'\n",
    "\n",
    "if not dtm_path.exists():\n",
    "    sparse.save_npz(dtm_path, binary_dtm)"
   ]
  },
  {
   "cell_type": "code",
   "execution_count": 33,
   "id": "8b5056c3-9062-4e59-84ab-707f33b78a10",
   "metadata": {},
   "outputs": [],
   "source": [
    "token_path = results_path / 'tokens.csv'\n",
    "\n",
    "if not token_path.exists():\n",
    "    pd.Series(tokens_dtm).to_csv(token_path, index=False)\n",
    "else:\n",
    "    tokens = pd.read_csv(token_path, header=None, squeeze=True)"
   ]
  },
  {
   "cell_type": "code",
   "execution_count": 34,
   "id": "ab0c9125-9421-45aa-8504-1010e506e36e",
   "metadata": {},
   "outputs": [],
   "source": [
    "doc_freq = pd.Series(np.array(binary_dtm.sum(axis=0)).squeeze()).div(n_docs)\n",
    "\n",
    "max_unique_tokens = np.array(binary_dtm.sum(axis=1)).squeeze().max()"
   ]
  },
  {
   "cell_type": "markdown",
   "id": "54d88406-5cea-43e5-be05-d351efdd399e",
   "metadata": {},
   "source": [
    "### `min_df` vs `max_df`: Interactive Visualization"
   ]
  },
  {
   "cell_type": "code",
   "execution_count": 35,
   "id": "7ecf0fbe-8752-42c2-9db4-9e8b045bf72d",
   "metadata": {},
   "outputs": [],
   "source": [
    "df_range = FloatRangeSlider(value=[0.0, 1.0],\n",
    "                            min=0,\n",
    "                            max=1,\n",
    "                            step=0.0001,\n",
    "                            description='Doc. Freq.',\n",
    "                            disabled=False,\n",
    "                            continuous_update=True,\n",
    "                            orientation='horizontal',\n",
    "                            readout=True,\n",
    "                            readout_format='.1%',\n",
    "                            layout={'width': '800px'})\n",
    "\n",
    "@interact(df_range=df_range)\n",
    "def document_frequency_simulator(df_range):\n",
    "    min_df, max_df = df_range\n",
    "    keep = doc_freq.between(left=min_df, right=max_df)\n",
    "    left = keep.sum()\n",
    "\n",
    "    fig, axes = plt.subplots(ncols=2, figsize=(14, 6))\n",
    "\n",
    "    updated_dtm = binary_dtm.tocsc()[:, np.flatnonzero(keep)]\n",
    "    unique_tokens_per_doc = np.array(updated_dtm.sum(axis=1)).squeeze()\n",
    "    sns.distplot(unique_tokens_per_doc, ax=axes[0], kde=False, norm_hist=False)\n",
    "    axes[0].set_title('Unique Tokens per Doc')\n",
    "    axes[0].set_yscale('log')\n",
    "    axes[0].set_xlabel('# Unique Tokens')\n",
    "    axes[0].set_ylabel('# Documents (log scale)')\n",
    "    axes[0].set_xlim(0, max_unique_tokens)    \n",
    "    axes[0].yaxis.set_major_formatter(ScalarFormatter())\n",
    "\n",
    "    term_freq = pd.Series(np.array(updated_dtm.sum(axis=0)).squeeze())\n",
    "    sns.distplot(term_freq, ax=axes[1], kde=False, norm_hist=False)\n",
    "    axes[1].set_title('Document Frequency')\n",
    "    axes[1].set_ylabel('# Tokens')\n",
    "    axes[1].set_xlabel('# Documents')\n",
    "    axes[1].set_yscale('log')\n",
    "    axes[1].set_xlim(0, n_docs)\n",
    "    axes[1].yaxis.set_major_formatter(ScalarFormatter())\n",
    "\n",
    "    title = f'Document/Term Frequency Distribution | # Tokens: {left:,d} ({left/n_tokens:.2%})'\n",
    "    fig.suptitle(title, fontsize=14)\n",
    "    sns.despine()\n",
    "    fig.tight_layout()\n",
    "    fig.subplots_adjust(top=.9)"
   ]
  },
  {
   "cell_type": "markdown",
   "id": "80acb4c2-2616-4b65-aa19-49ab703ae36e",
   "metadata": {},
   "source": [
    "### Most Similar Documents"
   ]
  },
  {
   "cell_type": "code",
   "execution_count": 36,
   "id": "3d538338-64d5-4cfb-afaa-660ee40f8356",
   "metadata": {},
   "outputs": [],
   "source": [
    "m = binary_dtm.todense()\n",
    "\n",
    "pairwise_distances = pdist(m, metric='cosine')"
   ]
  },
  {
   "cell_type": "code",
   "execution_count": 37,
   "id": "e91d8722-6f16-49c7-a2ab-6fda9a5ee78d",
   "metadata": {},
   "outputs": [],
   "source": [
    "closest = np.argmin(pairwise_distances)"
   ]
  },
  {
   "cell_type": "code",
   "execution_count": 38,
   "id": "6e470608-0f20-499a-9cdc-a7f12f777fa5",
   "metadata": {},
   "outputs": [],
   "source": [
    "rows, cols = np.triu_indices(n_docs)\n",
    "rows[closest], cols[closest]"
   ]
  },
  {
   "cell_type": "code",
   "execution_count": 39,
   "id": "86f0b97d-2faf-4e91-9b04-afb109845458",
   "metadata": {},
   "outputs": [],
   "source": [
    "docs.iloc[6].to_frame(6).join(docs.iloc[245].to_frame(245)).to_csv(results_path / 'most_similar.csv')"
   ]
  },
  {
   "cell_type": "code",
   "execution_count": 40,
   "id": "721e5360-f193-4991-98d8-3260ef5cfd1c",
   "metadata": {},
   "outputs": [],
   "source": [
    "docs.iloc[6]"
   ]
  },
  {
   "cell_type": "code",
   "execution_count": 41,
   "id": "750103c4-6fd9-4678-b285-e91471c95cdb",
   "metadata": {},
   "outputs": [],
   "source": [
    "pd.DataFrame(binary_dtm[[6, 245], :].todense()).sum(0).value_counts()"
   ]
  },
  {
   "cell_type": "markdown",
   "id": "a019ea6c-b480-44cf-9913-5019f49f4aa6",
   "metadata": {},
   "source": [
    "### Baseline Document-Term Matrix"
   ]
  },
  {
   "cell_type": "code",
   "execution_count": 42,
   "id": "20a764e0-6188-418b-88be-c7669044b289",
   "metadata": {},
   "outputs": [],
   "source": [
    "vectorizer = CountVectorizer() \n",
    "doc_term_matrix = vectorizer.fit_transform(docs.body)\n",
    "doc_term_matrix"
   ]
  },
  {
   "cell_type": "code",
   "execution_count": 43,
   "id": "a1181f6d-a3a6-4ea4-b25c-094483870b4e",
   "metadata": {},
   "outputs": [],
   "source": [
    "doc_term_matrix.shape"
   ]
  },
  {
   "cell_type": "markdown",
   "id": "6337b15f-d8a4-480c-8d75-7231675b904c",
   "metadata": {},
   "source": [
    "#### Inspecting Tokens"
   ]
  },
  {
   "cell_type": "code",
   "execution_count": 44,
   "id": "1425d0ee-75fa-4939-be60-0ca1235b1335",
   "metadata": {},
   "outputs": [],
   "source": [
    "words = vectorizer.get_feature_names()\n",
    "words[:10]"
   ]
  },
  {
   "cell_type": "markdown",
   "id": "709a2a4d-2973-4416-80a2-285926048f14",
   "metadata": {},
   "source": [
    "#### Inspecting Doc-Term Matrix"
   ]
  },
  {
   "cell_type": "code",
   "execution_count": 45,
   "id": "2eab2335-140f-49c6-9bc9-cf8dc8d8f93f",
   "metadata": {},
   "outputs": [],
   "source": [
    "doc_term_matrix_df = pd.DataFrame.sparse.from_spmatrix(doc_term_matrix, columns=words)\n",
    "doc_term_matrix_df.head()"
   ]
  },
  {
   "cell_type": "markdown",
   "id": "8fbf4a05-72c6-4a3f-aecb-910843070c8f",
   "metadata": {},
   "source": [
    "#### Most Frequent Terms"
   ]
  },
  {
   "cell_type": "code",
   "execution_count": 46,
   "id": "f8ce4a97-c5df-4905-b759-cdeb95132dab",
   "metadata": {},
   "outputs": [],
   "source": [
    "word_freq = doc_term_matrix_df.sum(axis=0).astype(int)\n",
    "word_freq.sort_values(ascending=False).head() "
   ]
  },
  {
   "cell_type": "markdown",
   "id": "43a8d414-db38-4820-a22a-70fe4a4d8785",
   "metadata": {},
   "source": [
    "#### Computing Relative Term Frequency"
   ]
  },
  {
   "cell_type": "code",
   "execution_count": 51,
   "id": "d2814f85-d176-4fc2-a91a-ddc70455438a",
   "metadata": {},
   "outputs": [],
   "source": [
    "vectorizer = CountVectorizer(binary=True)\n",
    "doc_term_matrix = vectorizer.fit_transform(docs.body)\n",
    "doc_term_matrix.shape"
   ]
  },
  {
   "cell_type": "code",
   "execution_count": 52,
   "id": "34e4cdf2-248f-4db3-a5b3-80adae5dacb9",
   "metadata": {},
   "outputs": [],
   "source": [
    "words = vectorizer.get_feature_names()\n",
    "word_freq = doc_term_matrix.sum(axis=0)\n",
    "\n",
    "# reduce to 1D array\n",
    "word_freq_1d = np.squeeze(np.asarray(word_freq))\n",
    "\n",
    "pd.Series(word_freq_1d, index=words).div(\n",
    "    docs.shape[0]).sort_values(ascending=False).head(10)"
   ]
  },
  {
   "cell_type": "markdown",
   "id": "846e90ad-86b3-4bfb-874d-d92c79254771",
   "metadata": {},
   "source": [
    "#### Visualizing Doc-Term Matrix"
   ]
  },
  {
   "cell_type": "code",
   "execution_count": 53,
   "id": "9700a659-7ab1-4a3c-b3e1-66a5022debf4",
   "metadata": {},
   "outputs": [],
   "source": [
    "sns.heatmap(pd.DataFrame(doc_term_matrix.todense(), columns=words), cmap='Blues')\n",
    "plt.gcf().set_size_inches(14, 8);\n",
    "plt.show()"
   ]
  },
  {
   "cell_type": "markdown",
   "id": "0a405a81-3329-42ff-b06b-fe584a6323d8",
   "metadata": {},
   "source": [
    "### Using Thresholds to Reduce The Number of Tokens"
   ]
  },
  {
   "cell_type": "code",
   "execution_count": 55,
   "id": "dfb03db8-4fa2-440b-b887-4a8140be2192",
   "metadata": {},
   "outputs": [],
   "source": [
    "vectorizer = CountVectorizer(max_df=.2, min_df=3, stop_words='english')\n",
    "doc_term_matrix = vectorizer.fit_transform(docs.body)\n",
    "doc_term_matrix.shape"
   ]
  },
  {
   "cell_type": "markdown",
   "id": "2a905b2d-c087-4485-bb69-6789dc5bc447",
   "metadata": {},
   "source": [
    "### Use CountVectorizer with Lemmatization\n",
    "\n",
    "#### Building a Custom `tokenizer` for Lemmatization with `spacy`"
   ]
  },
  {
   "cell_type": "code",
   "execution_count": 57,
   "id": "0bc7dfe5-7f28-4316-84b4-7bc3b206ed27",
   "metadata": {},
   "outputs": [],
   "source": [
    "nlp = spacy.load('en')\n",
    "def tokenizer(doc):\n",
    "    return [w.lemma_ for w in nlp(doc) \n",
    "                if not w.is_punct | w.is_space]"
   ]
  },
  {
   "cell_type": "code",
   "execution_count": 58,
   "id": "d83a7be3-32c8-4281-8654-98e403eb305c",
   "metadata": {},
   "outputs": [],
   "source": [
    "vectorizer = CountVectorizer(tokenizer=tokenizer, binary=True)\n",
    "doc_term_matrix = vectorizer.fit_transform(docs.body)\n",
    "doc_term_matrix.shape"
   ]
  },
  {
   "cell_type": "code",
   "execution_count": 59,
   "id": "1d370cdc-e06c-41c5-aa2e-cdfc245f77d5",
   "metadata": {},
   "outputs": [],
   "source": [
    "lemmatized_words = vectorizer.get_feature_names()\n",
    "word_freq = doc_term_matrix.sum(axis=0)\n",
    "word_freq_1d = np.squeeze(np.asarray(word_freq))\n",
    "word_freq_1d = pd.Series(word_freq_1d, index=lemmatized_words).div(docs.shape[0])\n",
    "word_freq_1d.sort_values().tail(20)"
   ]
  },
  {
   "cell_type": "markdown",
   "id": "40c36e87-a6c2-4adc-ae45-fd81aae5d2e0",
   "metadata": {},
   "source": [
    "### Document-Term Matrix with `TfIDFVectorizer`\n",
    "\n",
    "#### Key Parameters"
   ]
  },
  {
   "cell_type": "code",
   "execution_count": 60,
   "id": "f05eb399-e6d5-418b-8bb6-bb13aebb2abd",
   "metadata": {},
   "outputs": [],
   "source": [
    "print(TfidfTransformer().__doc__)"
   ]
  },
  {
   "cell_type": "markdown",
   "id": "8030bd4b-f86c-429e-b778-525f9da262c9",
   "metadata": {},
   "source": [
    "### How Term Frequency - Inverse Document Frequency Works"
   ]
  },
  {
   "cell_type": "code",
   "execution_count": 61,
   "id": "9c5734ba-d2d4-43d3-9564-962d27352730",
   "metadata": {},
   "outputs": [],
   "source": [
    "sample_docs = ['call you tomorrow', \n",
    "                'Call me a taxi', \n",
    "                'please call me... PLEASE!']"
   ]
  },
  {
   "cell_type": "markdown",
   "id": "720b6d5d-d93d-4f8d-942a-a9ed847ef9d7",
   "metadata": {},
   "source": [
    "#### Computing Term Frequency"
   ]
  },
  {
   "cell_type": "code",
   "execution_count": 62,
   "id": "de34dc79-d024-4e50-a9b9-03d855ee23fd",
   "metadata": {},
   "outputs": [],
   "source": [
    "vectorizer = CountVectorizer()\n",
    "tf_dtm = vectorizer.fit_transform(sample_docs).todense()\n",
    "tokens = vectorizer.get_feature_names()"
   ]
  },
  {
   "cell_type": "code",
   "execution_count": 63,
   "id": "c6bfa4ce-1244-45a3-b965-5643bc7fa8af",
   "metadata": {},
   "outputs": [],
   "source": [
    "term_frequency = pd.DataFrame(data=tf_dtm, \n",
    "                              columns=tokens)\n",
    "print(term_frequency)"
   ]
  },
  {
   "cell_type": "markdown",
   "id": "8ab04c33-50f9-47b4-ab90-3c2f7b3f21ab",
   "metadata": {},
   "source": [
    "#### Computing Document Frequency"
   ]
  },
  {
   "cell_type": "code",
   "execution_count": 64,
   "id": "f6eb6b3e-5c44-4b8b-b6e9-8efa22e51f06",
   "metadata": {},
   "outputs": [],
   "source": [
    "vectorizer = CountVectorizer(binary=True)\n",
    "\n",
    "df_dtm = vectorizer.fit_transform(sample_docs).todense().sum(axis=0)"
   ]
  },
  {
   "cell_type": "code",
   "execution_count": 65,
   "id": "e9602bff-2e0a-48c4-924d-c6f24342abec",
   "metadata": {},
   "outputs": [],
   "source": [
    "document_frequency = pd.DataFrame(data=df_dtm,\n",
    "                                  columns=tokens)\n",
    "\n",
    "print(document_frequency)"
   ]
  },
  {
   "cell_type": "markdown",
   "id": "677f571b-1baf-4b2f-a117-200e1cf1ea3b",
   "metadata": {},
   "source": [
    "#### Computing TfIDF"
   ]
  },
  {
   "cell_type": "markdown",
   "id": "51fb3eef-5905-44ed-beb8-6106113d4e02",
   "metadata": {},
   "source": [
    "#### Computing TfIDF"
   ]
  },
  {
   "cell_type": "code",
   "execution_count": 67,
   "id": "fb982b63-eb52-4c3e-84fa-2bf20286649f",
   "metadata": {},
   "outputs": [],
   "source": [
    "tfidf = pd.DataFrame(data=tf_dtm/df_dtm, columns=tokens)\n",
    "print(tfidf)"
   ]
  },
  {
   "cell_type": "markdown",
   "id": "964b79fa-13aa-4d45-8917-8b0200233e85",
   "metadata": {},
   "source": [
    "### The Smoothing Effect"
   ]
  },
  {
   "cell_type": "code",
   "execution_count": 68,
   "id": "ab23d618-d19f-40b1-a859-4e387f3c797c",
   "metadata": {},
   "outputs": [],
   "source": [
    "vect = TfidfVectorizer(smooth_idf=True, \n",
    "                       norm='l2',            \n",
    "                       sublinear_tf=False,   \n",
    "                       binary=False)\n",
    "print(pd.DataFrame(vect.fit_transform(sample_docs).todense(), \n",
    "             columns=vect.get_feature_names()))"
   ]
  },
  {
   "cell_type": "markdown",
   "id": "7682ab72-05b1-447d-b253-8eb34ee7321c",
   "metadata": {},
   "source": [
    "#### TfIDF with New Articles"
   ]
  },
  {
   "cell_type": "code",
   "execution_count": 69,
   "id": "fcd405ad-0195-4ad8-8feb-e13fdc1e0c72",
   "metadata": {},
   "outputs": [],
   "source": [
    "tfidf = TfidfVectorizer(stop_words='english')\n",
    "dtm_tfidf = tfidf.fit_transform(docs.body)\n",
    "tokens = tfidf.get_feature_names()\n",
    "dtm_tfidf.shape"
   ]
  },
  {
   "cell_type": "code",
   "execution_count": 70,
   "id": "2164ae59-b6c9-4da9-aa38-074894ad11a1",
   "metadata": {},
   "outputs": [],
   "source": [
    "token_freq = (pd.DataFrame({'tfidf': dtm_tfidf.sum(axis=0).A1,\n",
    "                            'token': tokens})\n",
    "              .sort_values('tfidf', ascending=False))"
   ]
  },
  {
   "cell_type": "code",
   "execution_count": 71,
   "id": "97146873-9905-43f4-99d0-ecf2e3bf234d",
   "metadata": {},
   "outputs": [],
   "source": [
    "token_freq.head(10).append(token_freq.tail(10)).set_index('token')"
   ]
  },
  {
   "cell_type": "markdown",
   "id": "ae817a1a-c969-44b3-a5a9-5987e4c44e0b",
   "metadata": {},
   "source": [
    "### Summarizing News Articles using TfIDF Weights\n",
    "\n",
    "#### Random Article Selection"
   ]
  },
  {
   "cell_type": "code",
   "execution_count": 72,
   "id": "96115891-34b3-4dbd-b040-c7f4814c4c6e",
   "metadata": {},
   "outputs": [],
   "source": [
    "article = docs.sample(1).squeeze()\n",
    "article_id = article.name"
   ]
  },
  {
   "cell_type": "code",
   "execution_count": 73,
   "id": "aa57fbe4-d6a6-4a5e-8846-f520c76ae602",
   "metadata": {},
   "outputs": [],
   "source": [
    "print(f'Topic:\\t{article.topic.capitalize()}\\n\\n{article.heading}\\n')\n",
    "print(article.body.strip())"
   ]
  },
  {
   "cell_type": "markdown",
   "id": "48d2f347-fe83-48ed-8c94-16f420716326",
   "metadata": {},
   "source": [
    "#### Selecting Most Relevant Tokens by tfidf Value"
   ]
  },
  {
   "cell_type": "code",
   "execution_count": 74,
   "id": "b3f204bb-58f9-4680-a640-f603a2cf63d7",
   "metadata": {},
   "outputs": [],
   "source": [
    "article_tfidf = dtm_tfidf[article_id].todense().A1\n",
    "article_tokens = pd.Series(article_tfidf, index=tokens)\n",
    "article_tokens.sort_values(ascending=False).head(10)"
   ]
  },
  {
   "cell_type": "markdown",
   "id": "d184c57a-ac33-4140-a04c-ffac62d7603a",
   "metadata": {},
   "source": [
    "#### Comparing to Random Selection"
   ]
  },
  {
   "cell_type": "code",
   "execution_count": 75,
   "id": "aba17f70-1f1c-416b-be43-c2303f0cddca",
   "metadata": {},
   "outputs": [],
   "source": [
    "pd.Series(article.body.split()).sample(10).tolist()"
   ]
  },
  {
   "cell_type": "markdown",
   "id": "01a1668e-7423-4f87-b014-e361669312b7",
   "metadata": {},
   "source": [
    "### Creating Train & Test Sets\n",
    "\n",
    "#### Stratified `train_test_split`"
   ]
  },
  {
   "cell_type": "code",
   "execution_count": 76,
   "id": "7e1c404e-789c-4082-a448-97960996c7d6",
   "metadata": {},
   "outputs": [],
   "source": [
    "train_docs, test_docs = train_test_split(docs, \n",
    "                                         stratify=docs.topic, \n",
    "                                         test_size=50, \n",
    "                                         random_state=42)"
   ]
  },
  {
   "cell_type": "code",
   "execution_count": 77,
   "id": "1a2b45a0-d3e6-4e4f-b0f6-6f301b864870",
   "metadata": {},
   "outputs": [],
   "source": [
    "train_docs.shape, test_docs.shape"
   ]
  },
  {
   "cell_type": "code",
   "execution_count": 78,
   "id": "53f101ca-c22e-40cb-9c91-18063b16d1cb",
   "metadata": {},
   "outputs": [],
   "source": [
    "pd.Series(test_docs.topic).value_counts()"
   ]
  },
  {
   "cell_type": "markdown",
   "id": "3912efac-462f-499e-8122-ecde3bb38f49",
   "metadata": {},
   "source": [
    "#### Vectorizing train & test sets"
   ]
  },
  {
   "cell_type": "code",
   "execution_count": 79,
   "id": "e5c06b11-6cf1-42c1-93df-1934769be79f",
   "metadata": {},
   "outputs": [],
   "source": [
    "vectorizer = CountVectorizer(max_df=.2, \n",
    "                             min_df=3, \n",
    "                             stop_words='english', \n",
    "                             max_features=2000)\n",
    "\n",
    "train_dtm = vectorizer.fit_transform(train_docs.body)\n",
    "words = vectorizer.get_feature_names()\n",
    "# train_dtm"
   ]
  },
  {
   "cell_type": "code",
   "execution_count": 80,
   "id": "6a4bc43b-17c7-4d2c-b73a-68dc5fa693a0",
   "metadata": {},
   "outputs": [],
   "source": [
    "test_dtm = vectorizer.transform(test_docs.body)\n",
    "test_dtm"
   ]
  },
  {
   "cell_type": "code",
   "execution_count": null,
   "id": "13c5e2ec-b2ab-4445-bbb5-7aba8cbbb8b4",
   "metadata": {},
   "outputs": [],
   "source": [
    "\n"
   ]
  }
 ],
 "metadata": {
  "kernelspec": {
   "display_name": "Python 3 (ipykernel)",
   "language": "python",
   "name": "python3"
  },
  "language_info": {
   "codemirror_mode": {
    "name": "ipython",
    "version": 3
   },
   "file_extension": ".py",
   "mimetype": "text/x-python",
   "name": "python",
   "nbconvert_exporter": "python",
   "pygments_lexer": "ipython3",
   "version": "3.12.9"
  }
 },
 "nbformat": 4,
 "nbformat_minor": 5
}
