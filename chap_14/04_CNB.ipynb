{
 "cells": [
  {
   "cell_type": "markdown",
   "id": "c209ef21-0fa8-4a1c-91f2-d82e44f427bd",
   "metadata": {},
   "source": [
    "# Classifying News Articles with Naive Bayes\n",
    "\n",
    "### Loading Libraries"
   ]
  },
  {
   "cell_type": "code",
   "execution_count": 2,
   "id": "1d922367-0c45-41ed-a4e7-c3fbbff09bac",
   "metadata": {},
   "outputs": [],
   "source": [
    "# Numerical Computing\n",
    "import numpy as np\n",
    "\n",
    "# Data Manipulation\n",
    "import pandas as pd\n",
    "\n",
    "# Path\n",
    "from pathlib import Path\n",
    "\n",
    "\n",
    "# Scikit-Learn\n",
    "from sklearn.naive_bayes import MultinomialNB\n",
    "from sklearn.model_selection import train_test_split\n",
    "from sklearn.feature_extraction.text import CountVectorizer\n",
    "from sklearn.metrics import accuracy_score, confusion_matrix"
   ]
  },
  {
   "cell_type": "markdown",
   "id": "5a01929f-8e89-45db-8709-c10bb4c5411e",
   "metadata": {},
   "source": [
    "### News article classification\n",
    "\n",
    "#### Read BBC articles"
   ]
  },
  {
   "cell_type": "code",
   "execution_count": 3,
   "id": "4565af09-c653-4fec-a68e-d4a9c3627564",
   "metadata": {},
   "outputs": [],
   "source": [
    "DATA_DIR = Path('..', 'data')"
   ]
  },
  {
   "cell_type": "code",
   "execution_count": 4,
   "id": "fcbd0f6f-b31b-4901-b5f2-fe3abeccd4ac",
   "metadata": {},
   "outputs": [],
   "source": [
    "path = DATA_DIR / 'bbc'\n",
    "\n",
    "files = sorted(list(path.glob('**/*.txt')))\n",
    "\n",
    "doc_list = []\n",
    "\n",
    "for i, file in enumerate(files):\n",
    "    topic = file.parts[-2]\n",
    "    article = file.read_text(encoding='latin1').split('\\n')\n",
    "    heading = article[0].strip()\n",
    "    body = ' '.join([l.strip() for l in article[1:]])\n",
    "    doc_list.append([topic, heading, body])"
   ]
  },
  {
   "cell_type": "code",
   "execution_count": 5,
   "id": "453670e3-be32-4e9a-8479-305d2f327ef4",
   "metadata": {},
   "outputs": [
    {
     "name": "stdout",
     "output_type": "stream",
     "text": [
      "<class 'pandas.core.frame.DataFrame'>\n",
      "RangeIndex: 0 entries\n",
      "Data columns (total 3 columns):\n",
      " #   Column   Non-Null Count  Dtype \n",
      "---  ------   --------------  ----- \n",
      " 0   topic    0 non-null      object\n",
      " 1   heading  0 non-null      object\n",
      " 2   body     0 non-null      object\n",
      "dtypes: object(3)\n",
      "memory usage: 132.0+ bytes\n"
     ]
    }
   ],
   "source": [
    "docs = pd.DataFrame(doc_list, columns=['topic', 'heading', 'body'])\n",
    "\n",
    "docs.info()"
   ]
  },
  {
   "cell_type": "markdown",
   "id": "5ba2f5a3-1c02-4cfd-b451-27d2263fa9ce",
   "metadata": {},
   "source": [
    "#### Creating Stratified Train-Test Split"
   ]
  },
  {
   "cell_type": "code",
   "execution_count": 7,
   "id": "6f54e688-4e1d-43cc-8bd0-975a8d01dde2",
   "metadata": {},
   "outputs": [],
   "source": [
    "y = pd.factorize(docs.topic)[0]\n",
    "\n",
    "X = docs.body\n",
    "\n",
    "X_train, X_test, y_train, y_test = train_test_split(X, y, random_state=1, stratify=y)"
   ]
  },
  {
   "cell_type": "markdown",
   "id": "91495506-e620-4e97-8825-e3c977caffda",
   "metadata": {},
   "source": [
    "#### Vectorize Text Data"
   ]
  },
  {
   "cell_type": "code",
   "execution_count": 8,
   "id": "08d7ae20-4e95-4834-8961-3a0f6783aac0",
   "metadata": {},
   "outputs": [],
   "source": [
    "vectorizer = CountVectorizer()\n",
    "\n",
    "X_train_dtm = vectorizer.fit_transform(X_train)\n",
    "X_test_dtm = vectorizer.transform(X_test)"
   ]
  },
  {
   "cell_type": "code",
   "execution_count": 9,
   "id": "a1f0039b-904a-4e44-99b4-cc527d1721df",
   "metadata": {},
   "outputs": [],
   "source": [
    "X_train_dtm.shape, X_test_dtm.shape"
   ]
  },
  {
   "cell_type": "markdown",
   "id": "114d65ba-fcb9-44e5-bd0d-3b300c0d6cd6",
   "metadata": {},
   "source": [
    "### Training Multi-class Naive Bayes Model"
   ]
  },
  {
   "cell_type": "code",
   "execution_count": 10,
   "id": "2f241984-dad8-4257-9d38-10365c2d2984",
   "metadata": {},
   "outputs": [],
   "source": [
    "nb = MultinomialNB()\n",
    "\n",
    "nb.fit(X_train_dtm, y_train)\n",
    "y_pred_class = nb.predict(X_test_dtm)"
   ]
  },
  {
   "cell_type": "markdown",
   "id": "f2adfab5-b10f-46d3-97d0-0778d68acd28",
   "metadata": {},
   "source": [
    "### Evaluating Results\n",
    "\n",
    "#### Accuracy"
   ]
  },
  {
   "cell_type": "code",
   "execution_count": 14,
   "id": "ccdb403a-6bbc-4511-a0cc-4ad55de63b1b",
   "metadata": {},
   "outputs": [],
   "source": [
    "accuracy_score(y_test, y_pred_class)"
   ]
  },
  {
   "cell_type": "markdown",
   "id": "6f3575ba-f8a1-4576-8dd2-776c8ac45854",
   "metadata": {},
   "source": [
    "### Confusion Matrix"
   ]
  },
  {
   "cell_type": "code",
   "execution_count": 15,
   "id": "17655e57-8b8c-4d0d-bcb4-0f2ec6c96ba9",
   "metadata": {},
   "outputs": [],
   "source": [
    "pd.DataFrame(confusion_matrix(y_true=y_test, y_pred=y_pred_class))"
   ]
  },
  {
   "cell_type": "code",
   "execution_count": null,
   "id": "43784a7c-5805-4c95-ac60-a52d0da068ea",
   "metadata": {},
   "outputs": [],
   "source": []
  }
 ],
 "metadata": {
  "kernelspec": {
   "display_name": "Python 3 (ipykernel)",
   "language": "python",
   "name": "python3"
  },
  "language_info": {
   "codemirror_mode": {
    "name": "ipython",
    "version": 3
   },
   "file_extension": ".py",
   "mimetype": "text/x-python",
   "name": "python",
   "nbconvert_exporter": "python",
   "pygments_lexer": "ipython3",
   "version": "3.12.9"
  }
 },
 "nbformat": 4,
 "nbformat_minor": 5
}
