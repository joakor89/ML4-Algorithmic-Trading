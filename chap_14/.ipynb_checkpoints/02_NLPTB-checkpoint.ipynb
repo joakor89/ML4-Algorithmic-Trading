{
 "cells": [
  {
   "cell_type": "markdown",
   "id": "0136e487-bec7-4ff2-a306-e01a29287da7",
   "metadata": {},
   "source": [
    "# NLP with TextBlob\n",
    "\n",
    "### Loading Libraries"
   ]
  },
  {
   "cell_type": "code",
   "execution_count": 4,
   "id": "341c555c-38ce-4f77-81de-9da80b1b7894",
   "metadata": {},
   "outputs": [],
   "source": [
    "# Numerical Computing\n",
    "import numpy as np\n",
    "\n",
    "# Data Manipulation\n",
    "import pandas as pd\n",
    "\n",
    "# Data Visualization\n",
    "import seaborn as sns\n",
    "import matplotlib.pyplot as plt\n",
    "\n",
    "# Sys\n",
    "import sys\n",
    "\n",
    "# Warnings\n",
    "import warnings\n",
    "\n",
    "# Path\n",
    "from pathlib import Path\n",
    "\n",
    "# TextBlob & NLTK\n",
    "import nltk\n",
    "from textblob import TextBlob, Word\n",
    "from nltk.stem.snowball import SnowballStemmer\n",
    "\n",
    "# Scikit-Learn\n",
    "from sklearn.feature_extraction.text import CountVectorizer"
   ]
  },
  {
   "cell_type": "code",
   "execution_count": 5,
   "id": "dcf7c2f7-74de-44ec-a630-3e21235083a1",
   "metadata": {},
   "outputs": [],
   "source": [
    "%matplotlib inline"
   ]
  },
  {
   "cell_type": "code",
   "execution_count": 8,
   "id": "2f05ac79-457a-40f0-b9e2-a8800dfa01bf",
   "metadata": {},
   "outputs": [],
   "source": [
    "np.random.seed(42)\n",
    "\n",
    "sns.set_style('white')\n",
    "\n",
    "warnings.filterwarnings('ignore')"
   ]
  },
  {
   "cell_type": "code",
   "execution_count": 9,
   "id": "3d5d1d6e-be33-45a5-b3ed-46d1063eca5c",
   "metadata": {},
   "outputs": [
    {
     "name": "stderr",
     "output_type": "stream",
     "text": [
      "[nltk_data] Downloading package punkt to\n",
      "[nltk_data]     /Users/joaquinromero/nltk_data...\n",
      "[nltk_data]   Package punkt is already up-to-date!\n"
     ]
    },
    {
     "data": {
      "text/plain": [
       "True"
      ]
     },
     "execution_count": 9,
     "metadata": {},
     "output_type": "execute_result"
    }
   ],
   "source": [
    "# NLTK resources\n",
    "nltk.download('punkt')"
   ]
  },
  {
   "cell_type": "markdown",
   "id": "24700069-eb75-4552-a129-348902f34cf6",
   "metadata": {},
   "source": [
    "### Loading BBC Data"
   ]
  },
  {
   "cell_type": "code",
   "execution_count": 11,
   "id": "05fb7dd1-f4df-430d-ac7a-c77d8c3d0b3d",
   "metadata": {},
   "outputs": [],
   "source": [
    "path = Path('..', 'data', 'bbc')\n",
    "\n",
    "files = sorted(list(path.glob('**/*.txt')))\n",
    "\n",
    "doc_list = []\n",
    "\n",
    "for i, file in enumerate(files):\n",
    "    topic = file.parts[-2]\n",
    "    article = file.read_text(encoding='latin1').split('\\n')\n",
    "    heading = article[0].strip()\n",
    "    body = ' '.join([l.strip() for l in article[1:]]).strip()\n",
    "    doc_list.append([topic, heading, body])"
   ]
  },
  {
   "cell_type": "code",
   "execution_count": 12,
   "id": "6d048788-2f46-4411-b254-19bc1c818c64",
   "metadata": {},
   "outputs": [
    {
     "name": "stdout",
     "output_type": "stream",
     "text": [
      "<class 'pandas.core.frame.DataFrame'>\n",
      "RangeIndex: 0 entries\n",
      "Data columns (total 3 columns):\n",
      " #   Column   Non-Null Count  Dtype \n",
      "---  ------   --------------  ----- \n",
      " 0   topic    0 non-null      object\n",
      " 1   heading  0 non-null      object\n",
      " 2   body     0 non-null      object\n",
      "dtypes: object(3)\n",
      "memory usage: 132.0+ bytes\n"
     ]
    }
   ],
   "source": [
    "docs = pd.DataFrame(doc_list, columns=['topic', 'heading', 'body'])\n",
    "docs.info()"
   ]
  },
  {
   "cell_type": "markdown",
   "id": "d4e4bf61-a854-4e3d-9506-8f21e31e43b6",
   "metadata": {},
   "source": [
    "### Introduction to TextBlob\n",
    "\n",
    "#### Selecting Random Article"
   ]
  },
  {
   "cell_type": "code",
   "execution_count": 14,
   "id": "2aa570de-c3fa-4e66-a749-ad52849d932e",
   "metadata": {},
   "outputs": [],
   "source": [
    "article = docs.sample(1).squeeze()"
   ]
  },
  {
   "cell_type": "code",
   "execution_count": 15,
   "id": "b024f8cb-bec3-4cd3-bfc1-9c8796e109d9",
   "metadata": {},
   "outputs": [],
   "source": [
    "print(f'Topic:\\t{article.topic.capitalize()}\\n\\n{article.heading}\\n')\n",
    "print(article.body.strip())"
   ]
  },
  {
   "cell_type": "code",
   "execution_count": 16,
   "id": "e0692b30-4099-4d22-9002-d15eb19ceeff",
   "metadata": {},
   "outputs": [],
   "source": [
    "parsed_body = TextBlob(article.body)"
   ]
  },
  {
   "cell_type": "markdown",
   "id": "1ffa91c1-76a3-4d24-a5fc-cb6e11edaead",
   "metadata": {},
   "source": [
    "### Tokenization"
   ]
  },
  {
   "cell_type": "code",
   "execution_count": 17,
   "id": "c8e4b865-8bbe-4af5-8e87-55ba0d56cd23",
   "metadata": {},
   "outputs": [],
   "source": [
    "parsed_body.words"
   ]
  },
  {
   "cell_type": "markdown",
   "id": "54e19ce3-f65f-46f4-b300-3f895bcbdc21",
   "metadata": {},
   "source": [
    "### Sentence Boundary Detection"
   ]
  },
  {
   "cell_type": "code",
   "execution_count": 18,
   "id": "7849d4b8-debe-4b3f-bec3-fa15dd415c06",
   "metadata": {},
   "outputs": [],
   "source": [
    "parsed_body.sentences"
   ]
  },
  {
   "cell_type": "markdown",
   "id": "b784e532-6415-468c-a86d-0ac160b17748",
   "metadata": {},
   "source": [
    "### Stemming"
   ]
  },
  {
   "cell_type": "code",
   "execution_count": 19,
   "id": "dc925745-9565-4630-8b1c-84832d02646c",
   "metadata": {},
   "outputs": [],
   "source": [
    "stemmer = SnowballStemmer('english')\n",
    "\n",
    "# Stem each word.\n",
    "[(word, stemmer.stem(word)) for i, word in enumerate(parsed_body.words) \n",
    " if word.lower() != stemmer.stem(parsed_body.words[i])]"
   ]
  },
  {
   "cell_type": "markdown",
   "id": "8c954f79-9730-4e79-bc43-9c79fee423d8",
   "metadata": {},
   "source": [
    "### Lemmatization"
   ]
  },
  {
   "cell_type": "code",
   "execution_count": 20,
   "id": "29480c12-81bd-4eae-b66f-8d0db6acb1e8",
   "metadata": {},
   "outputs": [
    {
     "name": "stderr",
     "output_type": "stream",
     "text": [
      "[nltk_data] Downloading package wordnet to\n",
      "[nltk_data]     /Users/joaquinromero/nltk_data...\n"
     ]
    },
    {
     "data": {
      "text/plain": [
       "True"
      ]
     },
     "execution_count": 20,
     "metadata": {},
     "output_type": "execute_result"
    }
   ],
   "source": [
    "nltk.download('wordnet')"
   ]
  },
  {
   "cell_type": "code",
   "execution_count": 22,
   "id": "a2705859-bdfe-41f2-adca-20654af256c4",
   "metadata": {},
   "outputs": [],
   "source": [
    "[(word, word.lemmatize()) for i, word in enumerate(parsed_body.words) \n",
    " if word != parsed_body.words[i].lemmatize()]"
   ]
  },
  {
   "cell_type": "code",
   "execution_count": 23,
   "id": "b8408f20-8ad1-44bb-b6bc-ff506cebd132",
   "metadata": {},
   "outputs": [],
   "source": [
    "[(word, word.lemmatize(pos='v')) for i, word in enumerate(parsed_body.words) \n",
    " if word != parsed_body.words[i].lemmatize(pos='v')]"
   ]
  },
  {
   "cell_type": "markdown",
   "id": "0556e395-5835-4311-add0-5319c4a241f6",
   "metadata": {},
   "source": [
    "### Sentiment & Polarity"
   ]
  },
  {
   "cell_type": "code",
   "execution_count": 25,
   "id": "f9dfb714-4ecf-4441-b97d-6cc2af03720b",
   "metadata": {},
   "outputs": [],
   "source": [
    "parsed_body.sentiment"
   ]
  },
  {
   "cell_type": "code",
   "execution_count": 26,
   "id": "7e1526c4-2609-4779-82f0-39cc3de3b891",
   "metadata": {},
   "outputs": [],
   "source": [
    "parsed_body.sentiment_assessments"
   ]
  },
  {
   "cell_type": "markdown",
   "id": "283824d1-6f48-47f6-bcc2-199d01c1e91a",
   "metadata": {},
   "source": [
    "### Combining Textblob Lemmatization with `CountVectorizer`"
   ]
  },
  {
   "cell_type": "code",
   "execution_count": 27,
   "id": "9da68dbe-d31d-4760-87ec-7c21c4f030cf",
   "metadata": {},
   "outputs": [],
   "source": [
    "def lemmatizer(text):\n",
    "    words = TextBlob(text.lower()).words\n",
    "    return [word.lemmatize() for word in words]"
   ]
  },
  {
   "cell_type": "code",
   "execution_count": 28,
   "id": "bc979fa7-4a36-4c93-bdd7-f5774a9b0398",
   "metadata": {},
   "outputs": [],
   "source": [
    "vectorizer = CountVectorizer(analyzer=lemmatizer, decode_error='replace')"
   ]
  },
  {
   "cell_type": "code",
   "execution_count": null,
   "id": "97955752-52c7-485f-bbe9-12177cf78f36",
   "metadata": {},
   "outputs": [],
   "source": []
  }
 ],
 "metadata": {
  "kernelspec": {
   "display_name": "Python 3 (ipykernel)",
   "language": "python",
   "name": "python3"
  },
  "language_info": {
   "codemirror_mode": {
    "name": "ipython",
    "version": 3
   },
   "file_extension": ".py",
   "mimetype": "text/x-python",
   "name": "python",
   "nbconvert_exporter": "python",
   "pygments_lexer": "ipython3",
   "version": "3.12.9"
  }
 },
 "nbformat": 4,
 "nbformat_minor": 5
}
