{
 "cells": [
  {
   "cell_type": "markdown",
   "id": "847784a9-90d0-4728-8865-dd6b731179d3",
   "metadata": {},
   "source": [
    "# Text Classification & Sentiment Analysis: Yelp Reviews\n",
    "\n",
    "### Loading Libraries"
   ]
  },
  {
   "cell_type": "code",
   "execution_count": 1,
   "id": "8360187b-2195-4ead-9a06-678ea87bc574",
   "metadata": {},
   "outputs": [],
   "source": [
    "# Numerical Computing\n",
    "import numpy as np\n",
    "\n",
    "# Data Manipulation\n",
    "import pandas as pd\n",
    "\n",
    "# Data Visualization\n",
    "import seaborn as sns\n",
    "import matplotlib.pyplot as plt\n",
    "\n",
    "# Warnings\n",
    "import warnings\n",
    "\n",
    "# Joblib, Path & Time\n",
    "import joblib\n",
    "from time import time\n",
    "from pathlib import Path\n",
    "\n",
    "# Java Script Object Notation\n",
    "import json\n",
    "\n",
    "# Light Booster\n",
    "import lightgbm as lgb\n",
    "\n",
    "#SciPy\n",
    "from scipy import sparse\n",
    "\n",
    "# TextBlob\n",
    "from textblob import TextBlob\n",
    "\n",
    "# Scikit-Learn\n",
    "from sklearn.naive_bayes import MultinomialNB\n",
    "from sklearn.linear_model import LogisticRegression\n",
    "from sklearn.feature_extraction.text import CountVectorizer\n",
    "from sklearn.metrics import accuracy_score, confusion_matrix"
   ]
  },
  {
   "cell_type": "code",
   "execution_count": 2,
   "id": "e9b4f685-75af-4dc8-bf09-e3e3b594e0b8",
   "metadata": {},
   "outputs": [],
   "source": [
    "%matplotlib inline"
   ]
  },
  {
   "cell_type": "code",
   "execution_count": 3,
   "id": "354ee1d5-97d7-4ac1-9ac3-ddb98d0e0cd0",
   "metadata": {},
   "outputs": [],
   "source": [
    "sns.set_style('white')\n",
    "\n",
    "warnings.filterwarnings('ignore')"
   ]
  },
  {
   "cell_type": "markdown",
   "id": "5ccbcf89-bdb1-4c81-ae5b-43a64f5eb13b",
   "metadata": {},
   "source": [
    "### Yelp Challenge: Business Reviews Dataset\n",
    "\n",
    "#### Loading Data"
   ]
  },
  {
   "cell_type": "code",
   "execution_count": 4,
   "id": "227757c4-3a20-48d4-8db4-319e3042b7da",
   "metadata": {},
   "outputs": [],
   "source": [
    "data_dir = Path('..', 'data', 'yelp')"
   ]
  },
  {
   "cell_type": "code",
   "execution_count": 6,
   "id": "ae351b72-e7e4-49d0-bcae-e412ab4f303b",
   "metadata": {},
   "outputs": [],
   "source": [
    "yelp_reviews = pd.read_parquet(data_dir / 'user_reviews.parquet')"
   ]
  },
  {
   "cell_type": "code",
   "execution_count": 7,
   "id": "77018ee2-84bb-41a9-a3c6-f24a6b99f330",
   "metadata": {},
   "outputs": [],
   "source": [
    "yelp_reviews.info(null_counts=True)"
   ]
  },
  {
   "cell_type": "markdown",
   "id": "4f43eed4-d479-46f1-aa30-ef2005a74f24",
   "metadata": {},
   "source": [
    "### Exploring Data"
   ]
  },
  {
   "cell_type": "code",
   "execution_count": 20,
   "id": "21725547-b26c-476f-b38e-4855798b9539",
   "metadata": {},
   "outputs": [],
   "source": [
    "yelp_dir = Path('results', 'yelp')\n",
    "\n",
    "text_features_dir = yelp_dir / 'data'\n",
    "\n",
    "if not text_features_dir.exists():\n",
    "    text_features_dir.mkdir(exist_ok=True, parents=True)"
   ]
  },
  {
   "cell_type": "markdown",
   "id": "d7bb52cd-c2e3-4fff-880a-a1f2a6d68b20",
   "metadata": {},
   "source": [
    "#### Reviews & Stars by Year"
   ]
  },
  {
   "cell_type": "code",
   "execution_count": 21,
   "id": "e07c63d8-f733-4fb0-838e-1e5a7ce74ee2",
   "metadata": {},
   "outputs": [],
   "source": [
    "fig, axes = plt.subplots(ncols=3, figsize=(18, 4))\n",
    "yelp_reviews.year.value_counts().sort_index().plot.bar(title='Reviews per Year', ax=axes[0], rot=0);\n",
    "sns.lineplot(x='year', y='stars', data=yelp_reviews, ax=axes[1])\n",
    "axes[1].set_title('Stars per year')\n",
    "\n",
    "stars_dist = yelp_reviews.stars.value_counts(normalize=True).sort_index().mul(100)\n",
    "stars_dist.index = stars_dist.index.astype(int)\n",
    "stars_dist.plot.barh(title='# Stars Breakdown', ax=axes[2])\n",
    "axes[2].set_xlabel('Share of all Ratings (%)')\n",
    "axes[2].set_ylabel('Number of Stars');\n",
    "\n",
    "sns.despine()\n",
    "fig.tight_layout();\n",
    "plt.show()"
   ]
  },
  {
   "cell_type": "markdown",
   "id": "5085027d-8fe3-491a-b86a-f2c96bd90678",
   "metadata": {},
   "source": [
    "#### Years of Membership Breakdown"
   ]
  },
  {
   "cell_type": "code",
   "execution_count": 22,
   "id": "0e0c55ab-d72b-4991-a14b-029f7275c6bf",
   "metadata": {},
   "outputs": [],
   "source": [
    "ax = yelp_reviews.member_yrs.value_counts().div(1000).sort_index().plot.bar(title='Years of Membership',\n",
    "                                                                            rot=0)\n",
    "ax.set_xlabel('Number of Years')\n",
    "ax.set_ylabel(\"Number of Members  ('000)\")\n",
    "sns.despine()\n",
    "plt.tight_layout()\n",
    "plt.show()"
   ]
  },
  {
   "cell_type": "markdown",
   "id": "24de42d3-32cb-4012-8697-a929f107e55b",
   "metadata": {},
   "source": [
    "### Creating Train-Test Split"
   ]
  },
  {
   "cell_type": "code",
   "execution_count": 23,
   "id": "067e779a-eb41-4655-aef5-e2fc729d3ca5",
   "metadata": {},
   "outputs": [],
   "source": [
    "train = yelp_reviews[yelp_reviews.year < 2019].sample(frac=.25)\n",
    "\n",
    "test = yelp_reviews[yelp_reviews.year == 2019]"
   ]
  },
  {
   "cell_type": "code",
   "execution_count": 24,
   "id": "d09b5af3-5680-4dcb-8c51-ea82344f3c5c",
   "metadata": {},
   "outputs": [],
   "source": [
    "print(f'# Training Obs: {len(train):,.0f} | # Test Obs: {len(test):,.0f}')"
   ]
  },
  {
   "cell_type": "code",
   "execution_count": 25,
   "id": "444a2c5f-2606-4520-a9ca-7d0d06de5cb1",
   "metadata": {},
   "outputs": [],
   "source": [
    "train.to_parquet(text_features_dir / 'train.parquet')\n",
    "\n",
    "test.to_parquet(text_features_dir / 'test.parquet')"
   ]
  },
  {
   "cell_type": "code",
   "execution_count": 26,
   "id": "0efac4c1-c14c-4d7c-84df-0d5b9d177a03",
   "metadata": {},
   "outputs": [],
   "source": [
    "del yelp_reviews"
   ]
  },
  {
   "cell_type": "markdown",
   "id": "9cecb410-a02b-4bb6-a6c7-4cde0f98eafa",
   "metadata": {},
   "source": [
    "#### Reloading Stored Data"
   ]
  },
  {
   "cell_type": "code",
   "execution_count": 27,
   "id": "70d2a55f-82d6-4750-962a-0a77bcaa9e80",
   "metadata": {},
   "outputs": [],
   "source": [
    "train = pd.read_parquet(text_features_dir / 'train.parquet')\n",
    "\n",
    "test = pd.read_parquet(text_features_dir / 'test.parquet')"
   ]
  },
  {
   "cell_type": "markdown",
   "id": "faa48d97-8983-4cbf-a71c-5dd51894bffc",
   "metadata": {},
   "source": [
    "### Creating Yelp Review Document-Term Matrix"
   ]
  },
  {
   "cell_type": "code",
   "execution_count": 28,
   "id": "6e4914b0-99d9-4cda-825d-282c42e76327",
   "metadata": {},
   "outputs": [],
   "source": [
    "vectorizer = CountVectorizer(stop_words='english', ngram_range=(1, 2), max_features=10000)\n",
    "\n",
    "train_dtm = vectorizer.fit_transform(train.text)\n",
    "train_dtm"
   ]
  },
  {
   "cell_type": "code",
   "execution_count": 29,
   "id": "c7c6c4e3-2940-4669-a077-069e04c381e2",
   "metadata": {},
   "outputs": [],
   "source": [
    "sparse.save_npz(text_features_dir / 'train_dtm', train_dtm)"
   ]
  },
  {
   "cell_type": "code",
   "execution_count": 30,
   "id": "47644dbc-22b4-464b-8882-b589f06580b0",
   "metadata": {},
   "outputs": [],
   "source": [
    "test_dtm = vectorizer.transform(test.text)\n",
    "\n",
    "sparse.save_npz(text_features_dir / 'test_dtm', test_dtm)"
   ]
  },
  {
   "cell_type": "markdown",
   "id": "c215ad17-8356-4239-80f0-78de2e6c641b",
   "metadata": {},
   "source": [
    "#### Reloading Stored Data"
   ]
  },
  {
   "cell_type": "code",
   "execution_count": 31,
   "id": "b13f247e-4bef-4009-aa52-c4c19b61ba70",
   "metadata": {},
   "outputs": [],
   "source": [
    "train_dtm = sparse.load_npz(text_features_dir / 'train_dtm.npz')\n",
    "\n",
    "test_dtm = sparse.load_npz(text_features_dir / 'test_dtm.npz')"
   ]
  },
  {
   "cell_type": "markdown",
   "id": "e0b97c94-6880-48c0-ae1e-16159b969e03",
   "metadata": {},
   "source": [
    "### Combine Non-Text Features with The Document-Term Matrix\n",
    "\n",
    "#### One-Hot-Encoding"
   ]
  },
  {
   "cell_type": "code",
   "execution_count": 32,
   "id": "4e3fce32-5693-43d0-8a39-40c3da9ab66a",
   "metadata": {},
   "outputs": [],
   "source": [
    "df = pd.concat([train.drop(['text', 'stars'], axis=1).assign(source='train'),\n",
    "                test.drop(['text', 'stars'], axis=1).assign(source='test')])"
   ]
  },
  {
   "cell_type": "code",
   "execution_count": 33,
   "id": "52d14e8f-dcbf-41d0-8b05-d1276e8aa385",
   "metadata": {},
   "outputs": [],
   "source": [
    "uniques = df.nunique()\n",
    "\n",
    "binned = pd.concat([(df.loc[:, uniques[uniques > 20].index]\n",
    "                     .apply(pd.qcut, q=10, labels=False, duplicates='drop')),\n",
    "                    df.loc[:, uniques[uniques <= 20].index]], axis=1)\n",
    "\n",
    "binned.info(null_counts=True)"
   ]
  },
  {
   "cell_type": "code",
   "execution_count": 34,
   "id": "380b9d90-4c47-4e25-83d8-e8cdcc3027a8",
   "metadata": {},
   "outputs": [],
   "source": [
    "dummies = pd.get_dummies(binned, \n",
    "                         columns=binned.columns.drop('source'), \n",
    "                         drop_first=True)\n",
    "\n",
    "dummies.info()"
   ]
  },
  {
   "cell_type": "code",
   "execution_count": 35,
   "id": "4871bdb1-b1ca-4262-bbd8-e04563f248c6",
   "metadata": {},
   "outputs": [],
   "source": [
    "train_dummies = dummies[dummies.source=='train'].drop('source', axis=1)\n",
    "\n",
    "train_dummies.info()"
   ]
  },
  {
   "cell_type": "markdown",
   "id": "0a4d9238-783d-423d-93f7-b2dc45c95539",
   "metadata": {},
   "source": [
    "### Training set"
   ]
  },
  {
   "cell_type": "code",
   "execution_count": 36,
   "id": "7d394640-ce45-498d-aa4f-3e9506f08270",
   "metadata": {},
   "outputs": [],
   "source": [
    "train_numeric = sparse.csr_matrix(train_dummies.astype(np.uint8))\n",
    "\n",
    "train_numeric.shape"
   ]
  },
  {
   "cell_type": "code",
   "execution_count": 37,
   "id": "c2022c5f-63c9-4298-9206-d88c24425e6b",
   "metadata": {},
   "outputs": [],
   "source": [
    "train_dtm_numeric = sparse.hstack((train_dtm, train_numeric))\n",
    "\n",
    "train_dtm_numeric.shape"
   ]
  },
  {
   "cell_type": "code",
   "execution_count": 38,
   "id": "3be222f3-c3a5-4bcc-8936-ad3e5c4aaa1b",
   "metadata": {},
   "outputs": [],
   "source": [
    "sparse.save_npz(text_features_dir / 'train_dtm_numeric', \n",
    "                train_dtm_numeric)"
   ]
  },
  {
   "cell_type": "markdown",
   "id": "cf5e8add-f59d-470d-b3ba-54003f47956a",
   "metadata": {},
   "source": [
    "#### Repeating for Test Set"
   ]
  },
  {
   "cell_type": "code",
   "execution_count": 39,
   "id": "ea833f83-5321-4433-974d-71a5b77a2375",
   "metadata": {},
   "outputs": [],
   "source": [
    "test_dummies = dummies[dummies.source=='test'].drop('source', axis=1)\n",
    "test_numeric = sparse.csr_matrix(test_dummies.astype(np.int8))\n",
    "\n",
    "test_dtm_numeric = sparse.hstack((test_dtm, test_numeric))\n",
    "test_dtm_numeric.shape"
   ]
  },
  {
   "cell_type": "code",
   "execution_count": 40,
   "id": "131d3304-be87-4963-8039-e27c25bc5016",
   "metadata": {},
   "outputs": [],
   "source": [
    "sparse.save_npz(text_features_dir / 'test_dtm_numeric', test_dtm_numeric)"
   ]
  },
  {
   "cell_type": "markdown",
   "id": "ab73f86e-336b-4906-9bd0-f1d87c2ffe4a",
   "metadata": {},
   "source": [
    "#### Reloading Stored Data"
   ]
  },
  {
   "cell_type": "code",
   "execution_count": 41,
   "id": "4b2680b8-b432-4ae0-86f2-353d0c6a3766",
   "metadata": {},
   "outputs": [],
   "source": [
    "train_dtm_numeric = sparse.load_npz(text_features_dir / 'train_dtm_numeric.npz')\n",
    "\n",
    "test_dtm_numeric = sparse.load_npz(text_features_dir / 'test_dtm_numeric.npz')"
   ]
  },
  {
   "cell_type": "markdown",
   "id": "399ead96-5a78-4a5c-92b6-dc56e82c9c3e",
   "metadata": {},
   "source": [
    "### Benchmark Accuracy"
   ]
  },
  {
   "cell_type": "code",
   "execution_count": 42,
   "id": "b1781b72-d89e-4389-897b-95ac11b4f967",
   "metadata": {},
   "outputs": [],
   "source": [
    "accuracy, runtime = {}, {}\n",
    "\n",
    "predictions = test[['stars']].copy()"
   ]
  },
  {
   "cell_type": "code",
   "execution_count": 43,
   "id": "08890e9d-17c9-4781-9aba-a9775a98920b",
   "metadata": {},
   "outputs": [],
   "source": [
    "naive_prediction = np.full_like(predictions.stars,\n",
    "                                fill_value=train.stars.mode().iloc[0])"
   ]
  },
  {
   "cell_type": "code",
   "execution_count": 44,
   "id": "c2ce351a-c496-485c-82b3-5e54d4c9bbbe",
   "metadata": {},
   "outputs": [],
   "source": [
    "naive_benchmark = accuracy_score(predictions.stars, naive_prediction)"
   ]
  },
  {
   "cell_type": "code",
   "execution_count": 45,
   "id": "49f646c6-aeb6-4a4e-99e7-6b4903c9c8e5",
   "metadata": {},
   "outputs": [],
   "source": [
    "naive_benchmark"
   ]
  },
  {
   "cell_type": "markdown",
   "id": "e9c8e82b-c793-48d2-9279-a60ba99bb51b",
   "metadata": {},
   "source": [
    "### Model Evaluation Helper"
   ]
  },
  {
   "cell_type": "code",
   "execution_count": 46,
   "id": "ed3eade9-7c34-4f20-9b19-be22d82a7465",
   "metadata": {},
   "outputs": [],
   "source": [
    "def evaluate_model(model, X_train, X_test, name, store=False):\n",
    "    start = time()\n",
    "    model.fit(X_train, train.stars)\n",
    "    runtime[name] = time() - start\n",
    "    predictions[name] = model.predict(X_test)\n",
    "    accuracy[result] = accuracy_score(test.stars, predictions[result])\n",
    "    if store:\n",
    "        joblib.dump(model, f'results/{result}.joblib')"
   ]
  },
  {
   "cell_type": "markdown",
   "id": "ea641ecf-bdf4-4308-ac08-42df40c20724",
   "metadata": {},
   "source": [
    "### Multiclass Naive Bayes"
   ]
  },
  {
   "cell_type": "code",
   "execution_count": 47,
   "id": "8cf1ab09-d9eb-44d6-80d7-bba66e297d96",
   "metadata": {},
   "outputs": [],
   "source": [
    "nb = MultinomialNB()"
   ]
  },
  {
   "cell_type": "markdown",
   "id": "17d69ace-0cfe-431d-b4cf-1068904e8923",
   "metadata": {},
   "source": [
    "#### Text Features"
   ]
  },
  {
   "cell_type": "code",
   "execution_count": 48,
   "id": "23375cf5-f551-445d-aa3c-599079d82334",
   "metadata": {},
   "outputs": [],
   "source": [
    "result = 'nb_text'"
   ]
  },
  {
   "cell_type": "code",
   "execution_count": 49,
   "id": "e88fb8ab-8a3c-4532-b94c-12ff006c328d",
   "metadata": {},
   "outputs": [],
   "source": [
    "evaluate_model(nb, train_dtm, test_dtm, result, store=False)"
   ]
  },
  {
   "cell_type": "markdown",
   "id": "67322a0e-9530-4085-be80-003b71af48da",
   "metadata": {},
   "source": [
    "#### Accuracy"
   ]
  },
  {
   "cell_type": "code",
   "execution_count": 50,
   "id": "0ba16b8b-4acf-418a-a12c-d31e8a3bedf5",
   "metadata": {},
   "outputs": [],
   "source": [
    "accuracy[result]"
   ]
  },
  {
   "cell_type": "markdown",
   "id": "e7cd9326-079a-4198-94ba-a1fab5798673",
   "metadata": {},
   "source": [
    "#### Confusion Matrix"
   ]
  },
  {
   "cell_type": "code",
   "execution_count": 51,
   "id": "7423ef9e-a258-47a9-a5ad-d7c7594ec92c",
   "metadata": {},
   "outputs": [],
   "source": [
    "stars = index = list(range(1, 6))\n",
    "\n",
    "pd.DataFrame(confusion_matrix(test.stars, \n",
    "                              predictions[result]),\n",
    "             columns=stars,\n",
    "             index=stars)"
   ]
  },
  {
   "cell_type": "markdown",
   "id": "a51e82aa-04b7-45fd-bcb5-fb102f1af8b5",
   "metadata": {},
   "source": [
    "### Text & Numeric Features"
   ]
  },
  {
   "cell_type": "code",
   "execution_count": 53,
   "id": "00b6ad80-c575-4881-bd68-b4fcc96d6bce",
   "metadata": {},
   "outputs": [],
   "source": [
    "result = 'nb_combined'"
   ]
  },
  {
   "cell_type": "code",
   "execution_count": 54,
   "id": "c2fd1747-b05b-4476-ac85-f9ed81438f6e",
   "metadata": {},
   "outputs": [],
   "source": [
    "evaluate_model(nb, train_dtm_numeric, test_dtm_numeric, result, store=False)"
   ]
  },
  {
   "cell_type": "markdown",
   "id": "c0f4da57-8bbb-4759-94af-3ba8c743c6fa",
   "metadata": {},
   "source": [
    "#### Accuracy"
   ]
  },
  {
   "cell_type": "code",
   "execution_count": 55,
   "id": "be161f41-a6bc-47a1-a974-cb3018db8394",
   "metadata": {},
   "outputs": [],
   "source": [
    "accuracy[result]"
   ]
  },
  {
   "cell_type": "markdown",
   "id": "35059c9a-ea00-40e2-b000-d15d707b9eea",
   "metadata": {},
   "source": [
    "### Multinomial Logistic Regression"
   ]
  },
  {
   "cell_type": "code",
   "execution_count": 56,
   "id": "bfa3c862-b6e7-4d2d-b4fa-52d483c7d992",
   "metadata": {},
   "outputs": [],
   "source": [
    "Cs = np.logspace(-5, 5, 11)"
   ]
  },
  {
   "cell_type": "markdown",
   "id": "c1ce6008-65cd-4a45-b78f-0918cb9e8194",
   "metadata": {},
   "source": [
    "#### Text Features"
   ]
  },
  {
   "cell_type": "code",
   "execution_count": 57,
   "id": "30cc0a8e-4fe3-4a30-8906-cdb00e246c1d",
   "metadata": {},
   "outputs": [],
   "source": [
    "log_reg_text_accuracy = {}\n",
    "\n",
    "log_reg_text_runtime = []\n",
    "\n",
    "for i, C in enumerate(Cs):\n",
    "    start = time()\n",
    "    model = LogisticRegression(C=C,\n",
    "                               multi_class='multinomial',\n",
    "                               solver='lbfgs')\n",
    "\n",
    "    model.fit(train_dtm, train.stars)\n",
    "    log_reg_text_runtime.append(time() - start)\n",
    "    log_reg_text_accuracy[C] = accuracy_score(test.stars,\n",
    "                                              model.predict(test_dtm))\n",
    "\n",
    "    print(f'{C:12.5f}: {log_reg_text_runtime[i]:.2f}s | {log_reg_text_accuracy[C]:.2%}', flush=True)"
   ]
  },
  {
   "cell_type": "code",
   "execution_count": 58,
   "id": "a79d27ad-ed2d-44b6-af58-23d512016922",
   "metadata": {},
   "outputs": [],
   "source": [
    "pd.Series(log_reg_text_accuracy).to_csv(yelp_dir / 'logreg_text.csv')"
   ]
  },
  {
   "cell_type": "code",
   "execution_count": 59,
   "id": "7b16eef4-c518-4531-9f45-2b899c88a4b3",
   "metadata": {},
   "outputs": [],
   "source": [
    "accuracy['lr_text'] = pd.Series(log_reg_text_accuracy).max()\n",
    "\n",
    "runtime['lr_text'] = np.mean(log_reg_text_runtime)"
   ]
  },
  {
   "cell_type": "markdown",
   "id": "68afa41b-0ddc-4d82-bc9b-b9f659bb99bf",
   "metadata": {},
   "source": [
    "### Combined Features"
   ]
  },
  {
   "cell_type": "code",
   "execution_count": 60,
   "id": "a59aafb6-405e-4700-835c-d1d977d25889",
   "metadata": {},
   "outputs": [],
   "source": [
    "log_reg_comb_accuracy = {}\n",
    "\n",
    "log_reg_comb_runtime = []\n",
    "\n",
    "for i, C in enumerate(Cs):\n",
    "    start = time()\n",
    "    model = LogisticRegression(C=C,\n",
    "                               multi_class='multinomial',\n",
    "                               solver='lbfgs')\n",
    "\n",
    "    model.fit(train_dtm_numeric, train.stars)\n",
    "    log_reg_comb_runtime.append(time() - start)\n",
    "    log_reg_comb_accuracy[C] = accuracy_score(test.stars,\n",
    "                                              model.predict(test_dtm_numeric))\n",
    "\n",
    "    print(f'{C:12.5f}: {log_reg_comb_runtime[i]:.2f}s | {log_reg_comb_accuracy[C]:.2%}', flush=True)"
   ]
  },
  {
   "cell_type": "code",
   "execution_count": 61,
   "id": "4741b646-2cac-4439-832d-9b65ddfef1bc",
   "metadata": {},
   "outputs": [],
   "source": [
    "pd.Series(log_reg_comb_accuracy).to_csv(yelp_dir / 'logreg_combined.csv')"
   ]
  },
  {
   "cell_type": "code",
   "execution_count": 62,
   "id": "1eba226e-8f94-4827-a3dc-43c324e46839",
   "metadata": {},
   "outputs": [],
   "source": [
    "accuracy['lr_comb'] = pd.Series(log_reg_comb_accuracy).max()\n",
    "\n",
    "runtime['lr_comb'] = np.mean(log_reg_comb_runtime)"
   ]
  },
  {
   "cell_type": "markdown",
   "id": "344e4212-2005-43c7-82c3-fba2bea73992",
   "metadata": {},
   "source": [
    "### Gradient Boosting"
   ]
  },
  {
   "cell_type": "code",
   "execution_count": 63,
   "id": "72538f93-a974-4941-bcdd-c0e13aeaf40c",
   "metadata": {},
   "outputs": [],
   "source": [
    "lgb_train = lgb.Dataset(data=train_dtm_numeric.tocsr().astype(np.float32), \n",
    "                        label=train.stars.sub(1), \n",
    "                        categorical_feature=list(range(train_dtm_numeric.shape[1])))"
   ]
  },
  {
   "cell_type": "code",
   "execution_count": 64,
   "id": "381cb55a-ebe1-41cf-9ac5-94537e3e6d99",
   "metadata": {},
   "outputs": [],
   "source": [
    "lgb_test = lgb.Dataset(data=test_dtm_numeric.tocsr().astype(np.float32), \n",
    "                       label=test.stars.sub(1), \n",
    "                       reference=lgb_train)"
   ]
  },
  {
   "cell_type": "code",
   "execution_count": 65,
   "id": "a3d0c587-5fa5-4d8f-9a98-a16793f0fbb4",
   "metadata": {},
   "outputs": [],
   "source": [
    "param = {'objective': 'multiclass',\n",
    "         'metrics': ['multi_error'],\n",
    "         'num_class': 5}"
   ]
  },
  {
   "cell_type": "code",
   "execution_count": 66,
   "id": "982cce64-3373-44c7-b2b7-e067afb12beb",
   "metadata": {},
   "outputs": [],
   "source": [
    "booster = lgb.train(params=param,\n",
    "                    train_set=lgb_train,\n",
    "                    num_boost_round=2000,\n",
    "                    early_stopping_rounds=25,\n",
    "                    valid_sets=[lgb_train, lgb_test],\n",
    "                    verbose_eval=25)"
   ]
  },
  {
   "cell_type": "code",
   "execution_count": 67,
   "id": "545a97b7-4589-4502-aa79-36cee353359f",
   "metadata": {},
   "outputs": [],
   "source": [
    "booster.save_model((yelp_dir / 'lgb_model.txt').as_posix());"
   ]
  },
  {
   "cell_type": "code",
   "execution_count": 68,
   "id": "683864f0-6278-44e5-8a97-eefe4804119f",
   "metadata": {},
   "outputs": [],
   "source": [
    "y_pred_class = booster.predict(test_dtm_numeric.astype(float))"
   ]
  },
  {
   "cell_type": "code",
   "execution_count": 69,
   "id": "ad6468b6-810c-41bd-bfd9-73771c0664aa",
   "metadata": {},
   "outputs": [],
   "source": [
    "accuracy['lgb_comb'] = accuracy_score(test.stars, y_pred_class.argmax(1) + 1)"
   ]
  },
  {
   "cell_type": "markdown",
   "id": "6cdc60b4-1dba-4797-ba24-2bf1319ae188",
   "metadata": {},
   "source": [
    "### Comparison"
   ]
  },
  {
   "cell_type": "code",
   "execution_count": 70,
   "id": "dc575e40-0dbe-4771-984a-900bc4c9963a",
   "metadata": {},
   "outputs": [],
   "source": [
    "model_map = {'nb_combined': 'Naive Bayes',\n",
    "             'lr_comb': 'Logistic Regression',\n",
    "             'lgb_comb': 'LightGBM'}"
   ]
  },
  {
   "cell_type": "code",
   "execution_count": 71,
   "id": "531e6492-bc13-47f6-88df-0052cae06288",
   "metadata": {},
   "outputs": [],
   "source": [
    "accuracy_ = {model_map[k]: v for k, v in accuracy.items() if model_map.get(k)}"
   ]
  },
  {
   "cell_type": "code",
   "execution_count": 72,
   "id": "d99e6be6-a6d9-45e2-a654-43e8d5cb257e",
   "metadata": {},
   "outputs": [],
   "source": [
    "log_reg_text = pd.read_csv(yelp_dir / 'logreg_text.csv',\n",
    "                       index_col=0,\n",
    "                       squeeze=True)\n",
    "\n",
    "log_reg_combined = pd.read_csv(yelp_dir / 'logreg_combined.csv',\n",
    "                       index_col=0,\n",
    "                       squeeze=True)"
   ]
  },
  {
   "cell_type": "code",
   "execution_count": 73,
   "id": "788c4e6c-d207-4dc9-869c-8fc2037519da",
   "metadata": {},
   "outputs": [],
   "source": [
    "fig, axes = plt.subplots(ncols=2, figsize=(14, 4))\n",
    "\n",
    "pd.Series(accuracy_).sort_values().plot.barh(\n",
    "    ax=axes[0], xlim=(.45, .75), title='Accuracy by Model')\n",
    "axes[0].axvline(naive_benchmark, ls='--', lw=1, c='k')\n",
    "\n",
    "log_reg = (log_reg_text.to_frame('text')\n",
    "           .join(log_reg_combined.to_frame('combined')))\n",
    "log_reg.plot(logx=True,\n",
    "             ax=axes[1],\n",
    "             title='Logistic Regression - Model Tuning')\n",
    "\n",
    "axes[1].set_xlabel('Regularization')\n",
    "axes[1].set_ylabel('Accuracy')\n",
    "axes[0].set_xlabel('Accuracy')\n",
    "sns.despine()\n",
    "fig.tight_layout()\n",
    "plt.show()"
   ]
  },
  {
   "cell_type": "markdown",
   "id": "5c47bfb8-06c9-44cf-a192-c363cb920868",
   "metadata": {},
   "source": [
    "### Textblob for Sentiment Analysis"
   ]
  },
  {
   "cell_type": "code",
   "execution_count": 74,
   "id": "e44cfae1-eaa6-4a49-9e2f-f4e9a0af4602",
   "metadata": {},
   "outputs": [],
   "source": [
    "sample_review = train.text.sample(1).iloc[0]\n",
    "\n",
    "print(sample_review)"
   ]
  },
  {
   "cell_type": "code",
   "execution_count": 75,
   "id": "e5a93b2c-eb22-49e9-9273-cfa859493a9d",
   "metadata": {},
   "outputs": [],
   "source": [
    "TextBlob(sample_review).sentiment.polarity"
   ]
  },
  {
   "cell_type": "code",
   "execution_count": 76,
   "id": "a780845e-6483-45d3-859c-de445c8854f8",
   "metadata": {},
   "outputs": [],
   "source": [
    "def detect_sentiment(text):\n",
    "    return TextBlob(text).sentiment.polarity"
   ]
  },
  {
   "cell_type": "code",
   "execution_count": 77,
   "id": "78f373e1-4a68-414d-9aa1-02e3853ac526",
   "metadata": {},
   "outputs": [],
   "source": [
    "train['sentiment'] = train.text.apply(detect_sentiment)"
   ]
  },
  {
   "cell_type": "code",
   "execution_count": 78,
   "id": "6d3683d9-df5c-4464-beec-0886bd3d5055",
   "metadata": {},
   "outputs": [],
   "source": [
    "sample_reviews = train[['stars', 'text']].sample(100000)"
   ]
  },
  {
   "cell_type": "code",
   "execution_count": 79,
   "id": "7b1d6c93-ab56-4808-a3c7-31bc7664d697",
   "metadata": {},
   "outputs": [],
   "source": [
    "sample_reviews['sentiment'] = sample_reviews.text.apply(detect_sentiment)"
   ]
  },
  {
   "cell_type": "code",
   "execution_count": 80,
   "id": "6d3d9890-7220-45b9-b8d1-acb43d2ffcac",
   "metadata": {},
   "outputs": [],
   "source": [
    "sns.boxenplot(x='stars', y='sentiment', data=train);\n",
    "plt.show()"
   ]
  },
  {
   "cell_type": "code",
   "execution_count": 81,
   "id": "022e69c3-6a9f-495c-bcb9-5520a03eb47f",
   "metadata": {},
   "outputs": [],
   "source": [
    "pd.set_option('max_colwidth', 500)"
   ]
  },
  {
   "cell_type": "code",
   "execution_count": 82,
   "id": "932080ab-91be-4bd1-a4cc-97ff5ee0645b",
   "metadata": {},
   "outputs": [],
   "source": [
    "train[train.sentiment == -1].text.head()"
   ]
  },
  {
   "cell_type": "code",
   "execution_count": 83,
   "id": "5b21def3-4483-4b17-b132-b97fa89f7331",
   "metadata": {},
   "outputs": [],
   "source": [
    "train.loc[(train.stars == 5) & (train.sentiment < -0.3), 'text'].head(1)"
   ]
  },
  {
   "cell_type": "code",
   "execution_count": 84,
   "id": "61f4b458-1c64-4cfa-a27e-4dca6f64e0b4",
   "metadata": {},
   "outputs": [],
   "source": [
    "train.loc[(train.stars == 1) & (train.sentiment > 0.5), 'text'].head(1)"
   ]
  },
  {
   "cell_type": "code",
   "execution_count": 85,
   "id": "d65d8580-db6a-4306-bce7-1cca106e3134",
   "metadata": {},
   "outputs": [],
   "source": [
    "pd.reset_option('max_colwidth')"
   ]
  },
  {
   "cell_type": "code",
   "execution_count": null,
   "id": "9cb446f9-f5c7-4b0f-ac9d-e3a07be34e82",
   "metadata": {},
   "outputs": [],
   "source": []
  }
 ],
 "metadata": {
  "kernelspec": {
   "display_name": "Python 3 (ipykernel)",
   "language": "python",
   "name": "python3"
  },
  "language_info": {
   "codemirror_mode": {
    "name": "ipython",
    "version": 3
   },
   "file_extension": ".py",
   "mimetype": "text/x-python",
   "name": "python",
   "nbconvert_exporter": "python",
   "pygments_lexer": "ipython3",
   "version": "3.12.9"
  }
 },
 "nbformat": 4,
 "nbformat_minor": 5
}
