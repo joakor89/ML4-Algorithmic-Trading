{
 "cells": [
  {
   "cell_type": "markdown",
   "id": "70c0bd10-d00e-436a-ba0d-9296153aab40",
   "metadata": {},
   "source": [
    "# Text Classification & Sentiment Analysis: Twitter\n",
    "\n",
    "### Loading Libraries"
   ]
  },
  {
   "cell_type": "code",
   "execution_count": 2,
   "id": "d174f0da-89a6-4520-9c90-b88614e62525",
   "metadata": {},
   "outputs": [],
   "source": [
    "# Numerical Computing\n",
    "import numpy as np\n",
    "\n",
    "# Data Manipulation\n",
    "import pandas as pd\n",
    "\n",
    "# Data Visualization\n",
    "import seaborn as sns\n",
    "import matplotlib.pyplot as plt\n",
    "\n",
    "# Warnings\n",
    "import warnings\n",
    "\n",
    "# Path\n",
    "from pathlib import Path\n",
    "\n",
    "# TextBlob\n",
    "from textblob import TextBlob\n",
    "\n",
    "# Scikit-Learn\n",
    "from sklearn.naive_bayes import MultinomialNB\n",
    "from sklearn.metrics import roc_auc_score, roc_curve, accuracy_score\n",
    "from sklearn.feature_extraction.text import CountVectorizer, TfidfVectorizer"
   ]
  },
  {
   "cell_type": "code",
   "execution_count": 3,
   "id": "ad80b19b-533c-4f01-b46f-82c592f2c18a",
   "metadata": {},
   "outputs": [],
   "source": [
    "sns.set_style('white')\n",
    "\n",
    "warnings.filterwarnings('ignore')"
   ]
  },
  {
   "cell_type": "markdown",
   "id": "dd3a9dd5-8ad9-46e0-a936-1b7b5d30f198",
   "metadata": {},
   "source": [
    "### Twitter Sentiment\n",
    "\n",
    "#### Downloading Data: Reading & Preprocess `Train/Test` Data"
   ]
  },
  {
   "cell_type": "code",
   "execution_count": 4,
   "id": "0653d3b2-93ad-440a-b9ca-c77bfde93fd6",
   "metadata": {},
   "outputs": [],
   "source": [
    "data_path = Path('..', 'data', 'sentiment140')\n",
    "\n",
    "if not data_path.exists():\n",
    "    data_path.mkdir(parents=True)"
   ]
  },
  {
   "cell_type": "code",
   "execution_count": 5,
   "id": "57bec1ee-05e2-4fad-8066-1057e279aa37",
   "metadata": {},
   "outputs": [],
   "source": [
    "names = ['polarity', 'id', 'date', 'query', 'user', 'text']"
   ]
  },
  {
   "cell_type": "code",
   "execution_count": 6,
   "id": "3f90d32b-5f5c-42e9-b157-8ab0bf3325d2",
   "metadata": {},
   "outputs": [],
   "source": [
    "def load_train_data():\n",
    "    parquet_file = data_path / 'train.parquet'\n",
    "    if not parquet_file.exists():\n",
    "        df = (pd.read_csv(data_path / 'train.csv',\n",
    "                          low_memory=False,\n",
    "                          encoding='latin1',\n",
    "                          header=None,\n",
    "                          names=names,\n",
    "                          parse_dates=['date'])\n",
    "              .drop(['id', 'query'], axis=1)\n",
    "              .drop_duplicates(subset=['polarity', 'text']))\n",
    "        df = df[df.text.str.len() <= 140]\n",
    "        df.polarity = (df.polarity > 0).astype(int)\n",
    "        df.to_parquet(parquet_file)\n",
    "        return df\n",
    "    else:\n",
    "        return pd.read_parquet(parquet_file)"
   ]
  },
  {
   "cell_type": "code",
   "execution_count": 8,
   "id": "98fe958a-d2c5-42a1-b122-ac28a6b135cc",
   "metadata": {},
   "outputs": [],
   "source": [
    "train = load_train_data()\n",
    "\n",
    "train.info(null_counts=True)"
   ]
  },
  {
   "cell_type": "code",
   "execution_count": 9,
   "id": "d79fb14a-1905-47b9-a0b0-474a03cd3d42",
   "metadata": {},
   "outputs": [],
   "source": [
    "def load_test_data():\n",
    "    parquet_file = data_path / 'test.parquet'\n",
    "    if not parquet_file.exists():\n",
    "        df = (pd.read_csv('data/sentiment140/test.csv',\n",
    "                          low_memory=False,\n",
    "                          encoding='latin1',\n",
    "                          header=None,\n",
    "                          names=names,\n",
    "                          parse_dates=['date'])\n",
    "              .drop(['id', 'query'], axis=1)\n",
    "              .drop_duplicates(subset=['polarity', 'text']))\n",
    "        df = df[(df.text.str.len() <= 140) &\n",
    "                (df.polarity.isin([0, 4]))]\n",
    "        df.to_parquet(parquet_file)\n",
    "        return df\n",
    "    else:\n",
    "        return pd.read_parquet(parquet_file)"
   ]
  },
  {
   "cell_type": "code",
   "execution_count": 10,
   "id": "48f67d38-30a3-45db-9584-35efcc411fe6",
   "metadata": {},
   "outputs": [],
   "source": [
    "test = load_test_data()\n",
    "\n",
    "test.info(null_counts=True)"
   ]
  },
  {
   "cell_type": "markdown",
   "id": "7c3b50fe-435e-402e-b5ee-9b6292af6239",
   "metadata": {},
   "source": [
    "### Exploring Data"
   ]
  },
  {
   "cell_type": "code",
   "execution_count": 11,
   "id": "fd3535f1-3805-4189-b644-94b7771194f2",
   "metadata": {},
   "outputs": [],
   "source": [
    "train.head()"
   ]
  },
  {
   "cell_type": "code",
   "execution_count": 12,
   "id": "3e64898d-0bdb-452e-9a43-433405dec3d8",
   "metadata": {},
   "outputs": [],
   "source": [
    "train.polarity = (train.polarity>0).astype(int)\n",
    "\n",
    "train.polarity.value_counts()"
   ]
  },
  {
   "cell_type": "code",
   "execution_count": 13,
   "id": "67dece60-b56a-4990-9081-301fd784bee3",
   "metadata": {},
   "outputs": [],
   "source": [
    "test.polarity = (test.polarity>0).astype(int)\n",
    "\n",
    "test.polarity.value_counts()"
   ]
  },
  {
   "cell_type": "code",
   "execution_count": 14,
   "id": "fc0216a6-232a-4850-a141-9a0ebbef31c5",
   "metadata": {},
   "outputs": [],
   "source": [
    "sns.distplot(train.text.str.len(), kde=False)\n",
    "\n",
    "sns.despine();\n",
    "plt.show()"
   ]
  },
  {
   "cell_type": "code",
   "execution_count": 15,
   "id": "56ba8d47-0b39-480f-afce-f72d429ca7dd",
   "metadata": {},
   "outputs": [],
   "source": [
    "train.date.describe()"
   ]
  },
  {
   "cell_type": "code",
   "execution_count": 16,
   "id": "9fbc8653-ad39-4584-8da5-14799d791003",
   "metadata": {},
   "outputs": [],
   "source": [
    "train.user.nunique()"
   ]
  },
  {
   "cell_type": "code",
   "execution_count": 17,
   "id": "41d85f79-d6b5-4b40-931a-053482256559",
   "metadata": {},
   "outputs": [],
   "source": [
    "train.user.value_counts().head(10)"
   ]
  },
  {
   "cell_type": "markdown",
   "id": "6edee102-ca36-45b9-ba21-266013ee5e24",
   "metadata": {},
   "source": [
    "### Creating Text Vectorizer"
   ]
  },
  {
   "cell_type": "code",
   "execution_count": 19,
   "id": "ea82a782-7186-4210-a26e-e749426872c8",
   "metadata": {},
   "outputs": [],
   "source": [
    "vectorizer = CountVectorizer(min_df=.001, max_df=.8, stop_words='english')\n",
    "\n",
    "train_dtm = vectorizer.fit_transform(train.text)"
   ]
  },
  {
   "cell_type": "code",
   "execution_count": 20,
   "id": "6353e821-8fcf-48ed-8652-a7641752d825",
   "metadata": {},
   "outputs": [],
   "source": [
    "train_dtm"
   ]
  },
  {
   "cell_type": "code",
   "execution_count": 21,
   "id": "6411ee0c-600b-4559-a174-8354196513b9",
   "metadata": {},
   "outputs": [],
   "source": [
    "test_dtm = vectorizer.transform(test.text)"
   ]
  },
  {
   "cell_type": "markdown",
   "id": "1fb85a2a-4c6d-41ed-a51b-ec0cec84b08f",
   "metadata": {},
   "source": [
    "### Training Naïve Bayes Classifier"
   ]
  },
  {
   "cell_type": "code",
   "execution_count": 22,
   "id": "6ea2616f-1a1d-4d21-8490-73777a4c02f6",
   "metadata": {},
   "outputs": [],
   "source": [
    "# Placing Model\n",
    "nb = MultinomialNB()\n",
    "\n",
    "# Fitting Model\n",
    "nb.fit(train_dtm, train.polarity)"
   ]
  },
  {
   "cell_type": "markdown",
   "id": "5bdbf21f-94c6-4399-9e32-f6a90a329987",
   "metadata": {},
   "source": [
    "#### Predicting Test Polarity"
   ]
  },
  {
   "cell_type": "code",
   "execution_count": 23,
   "id": "c501f9fd-fd59-408f-b238-3e4429a9f97f",
   "metadata": {},
   "outputs": [],
   "source": [
    "predicted_polarity = nb.predict(test_dtm)"
   ]
  },
  {
   "cell_type": "markdown",
   "id": "689759b7-80ae-4e29-a50c-fdfb37eeb8f5",
   "metadata": {},
   "source": [
    "#### Evaluating Results"
   ]
  },
  {
   "cell_type": "code",
   "execution_count": 24,
   "id": "59979203-82cc-4355-9549-7469f12a0822",
   "metadata": {},
   "outputs": [],
   "source": [
    "accuracy_score(test.polarity, predicted_polarity)"
   ]
  },
  {
   "cell_type": "markdown",
   "id": "da8691c0-3952-4180-aa9a-9310f68183c5",
   "metadata": {},
   "source": [
    "### TextBlob for Sentiment Analysis"
   ]
  },
  {
   "cell_type": "code",
   "execution_count": 25,
   "id": "5fcd72ef-f6fd-4690-b194-aa53679476e2",
   "metadata": {},
   "outputs": [],
   "source": [
    "sample_positive = train.text.loc[256332]\n",
    "print(sample_positive)\n",
    "\n",
    "parsed_positive = TextBlob(sample_positive)\n",
    "parsed_positive.polarity"
   ]
  },
  {
   "cell_type": "code",
   "execution_count": 26,
   "id": "4eb63e7d-41c3-454c-8194-428fc422a21f",
   "metadata": {},
   "outputs": [],
   "source": [
    "sample_negative = train.text.loc[636079]\n",
    "print(sample_negative)\n",
    "\n",
    "parsed_negative = TextBlob(sample_negative)\n",
    "parsed_negative.polarity"
   ]
  },
  {
   "cell_type": "code",
   "execution_count": 27,
   "id": "2dd7932b-e3dd-497e-9e14-02a00db1e562",
   "metadata": {},
   "outputs": [],
   "source": [
    "def estimate_polarity(text):\n",
    "    return TextBlob(text).sentiment.polarity"
   ]
  },
  {
   "cell_type": "code",
   "execution_count": 28,
   "id": "445af88f-273e-4ba9-ab9e-b282c6f8dd30",
   "metadata": {},
   "outputs": [],
   "source": [
    "train[['text']].sample(10).assign(sentiment=lambda x: x.text.apply(estimate_polarity)).sort_values('sentiment')"
   ]
  },
  {
   "cell_type": "markdown",
   "id": "10d708a5-d31b-4789-8c85-97ebdcdb6884",
   "metadata": {},
   "source": [
    "### Comparing with TextBlob Polarity Score"
   ]
  },
  {
   "cell_type": "code",
   "execution_count": 29,
   "id": "dce12230-afc2-4e8b-8443-9ac6e01fed58",
   "metadata": {},
   "outputs": [],
   "source": [
    "test['sentiment'] = test.text.apply(estimate_polarity)"
   ]
  },
  {
   "cell_type": "code",
   "execution_count": 30,
   "id": "6f339dba-c077-450a-99c9-a29bceb71049",
   "metadata": {},
   "outputs": [],
   "source": [
    "accuracy_score(test.polarity, (test.sentiment>0).astype(int))"
   ]
  },
  {
   "cell_type": "markdown",
   "id": "fab9f10a-e2ec-4c2c-8d92-216425a754cc",
   "metadata": {},
   "source": [
    "#### ROC AUC Scores"
   ]
  },
  {
   "cell_type": "code",
   "execution_count": 31,
   "id": "b72c1ce7-1f0c-4a8e-ad67-2853650f8f67",
   "metadata": {},
   "outputs": [],
   "source": [
    "roc_auc_score(y_true=test.polarity, y_score=test.sentiment)"
   ]
  },
  {
   "cell_type": "code",
   "execution_count": 32,
   "id": "318c95ff-4b8a-4d9b-a01b-6e7de20bcd30",
   "metadata": {},
   "outputs": [],
   "source": [
    "roc_auc_score(y_true=test.polarity, y_score=nb.predict_proba(test_dtm)[:, 1])"
   ]
  },
  {
   "cell_type": "code",
   "execution_count": 33,
   "id": "fa94a827-33cc-4d76-b86e-bd0e8f4da18b",
   "metadata": {},
   "outputs": [],
   "source": [
    "fpr_tb, tpr_tb, _ = roc_curve(y_true=test.polarity, y_score=test.sentiment)\n",
    "roc_tb = pd.Series(tpr_tb, index=fpr_tb)\n",
    "\n",
    "fpr_nb, tpr_nb, _ = roc_curve(y_true=test.polarity, y_score=nb.predict_proba(test_dtm)[:, 1])\n",
    "roc_nb = pd.Series(tpr_nb, index=fpr_nb)"
   ]
  },
  {
   "cell_type": "code",
   "execution_count": 34,
   "id": "fcc460dc-4906-4260-8c6f-fc921c1974f7",
   "metadata": {},
   "outputs": [],
   "source": [
    "fig, axes = plt.subplots(ncols=2, figsize=(14, 6))\n",
    "\n",
    "sns.boxplot(x='polarity', y='sentiment', data=test, ax=axes[0])\n",
    "axes[0].set_title('TextBlob Sentiment Scores')\n",
    "roc_nb.plot(ax=axes[1], label='Naive Bayes', legend=True, lw=1, title='ROC Curves')\n",
    "roc_tb.plot(ax=axes[1], label='TextBlob', legend=True, lw=1)\n",
    "sns.despine()\n",
    "fig.tight_layout();\n",
    "plt.show()"
   ]
  },
  {
   "cell_type": "code",
   "execution_count": null,
   "id": "e18450f3-8bc6-40d5-b921-bca076f0c852",
   "metadata": {},
   "outputs": [],
   "source": []
  }
 ],
 "metadata": {
  "kernelspec": {
   "display_name": "Python 3 (ipykernel)",
   "language": "python",
   "name": "python3"
  },
  "language_info": {
   "codemirror_mode": {
    "name": "ipython",
    "version": 3
   },
   "file_extension": ".py",
   "mimetype": "text/x-python",
   "name": "python",
   "nbconvert_exporter": "python",
   "pygments_lexer": "ipython3",
   "version": "3.12.9"
  }
 },
 "nbformat": 4,
 "nbformat_minor": 5
}
