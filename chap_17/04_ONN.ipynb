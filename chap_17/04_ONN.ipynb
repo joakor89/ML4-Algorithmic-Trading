{
 "cells": [
  {
   "cell_type": "markdown",
   "id": "a1ca81cf-7fc9-4cb8-998a-7f5b4667edcf",
   "metadata": {},
   "source": [
    "# Training a Deep NN to Predict Asset Price Returns\n",
    "\n",
    "### Loading Libraries"
   ]
  },
  {
   "cell_type": "code",
   "execution_count": 8,
   "id": "130aafa0-b708-4220-983f-7fe8335ab10f",
   "metadata": {},
   "outputs": [],
   "source": [
    "# Numerical Computing\n",
    "import numpy as np\n",
    "\n",
    "# Data Manipulation\n",
    "import pandas as pd\n",
    "\n",
    "# Data Visualization\n",
    "import matplotlib\n",
    "import seaborn as sns\n",
    "import matplotlib.pyplot as plt\n",
    "from mpl_toolkits.mplot3d import Axes3D  \n",
    "from matplotlib.colors import ListedColormap\n",
    "\n",
    "# Warning\n",
    "import warnings\n",
    "\n",
    "# OS Library\n",
    "import os, sys\n",
    "from time import time\n",
    "from pathlib import Path\n",
    "from itertools import product\n",
    "from ast import literal_eval as make_tuple\n",
    "\n",
    "# StatsModel\n",
    "import statsmodels.api as sm\n",
    "\n",
    "# Scipy\n",
    "from scipy.stats import spearmanr\n",
    "\n",
    "# Scikit-Learn\n",
    "from sklearn.preprocessing import StandardScaler"
   ]
  },
  {
   "cell_type": "code",
   "execution_count": 10,
   "id": "9b40c92a-dd14-4d32-957b-abf997a0beb5",
   "metadata": {},
   "outputs": [],
   "source": [
    "import tensorflow as tf\n",
    "from tensorflow.keras.models import Sequential\n",
    "from tensorflow.keras.layers import Dense, Dropout, Activation"
   ]
  },
  {
   "cell_type": "code",
   "execution_count": 12,
   "id": "dfc4d231-c442-4772-8340-a683316aa51d",
   "metadata": {},
   "outputs": [
    {
     "name": "stdout",
     "output_type": "stream",
     "text": [
      "Using GPU\n"
     ]
    }
   ],
   "source": [
    "gpu_devices = tf.config.experimental.list_physical_devices('GPU')\n",
    "\n",
    "if gpu_devices:\n",
    "    print('Using GPU')\n",
    "    tf.config.experimental.set_memory_growth(gpu_devices[0], True)\n",
    "else:\n",
    "    print('Using CPU')"
   ]
  },
  {
   "cell_type": "code",
   "execution_count": 16,
   "id": "0242afd9-e37e-4786-ba1c-29590d57a244",
   "metadata": {},
   "outputs": [],
   "source": [
    "sys.path.insert(1, os.path.join(sys.path[0], '..'))\n",
    "\n",
    "from utils import MultipleTimeSeriesCV, format_time"
   ]
  },
  {
   "cell_type": "code",
   "execution_count": 18,
   "id": "7ab0e780-15ec-491b-88ac-e880f775b3cb",
   "metadata": {},
   "outputs": [],
   "source": [
    "np.random.seed(42)\n",
    "\n",
    "idx = pd.IndexSlice\n",
    "\n",
    "sns.set_style('whitegrid')\n",
    "\n",
    "warnings.filterwarnings('ignore')"
   ]
  },
  {
   "cell_type": "code",
   "execution_count": 20,
   "id": "3ed56adf-dc6f-46d1-89fc-2efa19ca8dae",
   "metadata": {},
   "outputs": [],
   "source": [
    "%matplotlib inline"
   ]
  },
  {
   "cell_type": "code",
   "execution_count": 50,
   "id": "997aa465-368d-4eeb-b213-73a1310cd4ea",
   "metadata": {},
   "outputs": [],
   "source": [
    "DATA_STORE = '../data/assets.h5'"
   ]
  },
  {
   "cell_type": "code",
   "execution_count": 52,
   "id": "38e55017-761a-48f2-87bd-caa528b010c1",
   "metadata": {},
   "outputs": [],
   "source": [
    "results_path = Path('results')\n",
    "\n",
    "if not results_path.exists():\n",
    "    results_path.mkdir()\n",
    "    \n",
    "checkpoint_path = results_path / 'logs'"
   ]
  },
  {
   "cell_type": "markdown",
   "id": "cd07aa05-a513-4b4e-a6fb-31dcb4f45020",
   "metadata": {},
   "source": [
    "### Creating a Stock Return Series to Predict Asset Price Moves"
   ]
  },
  {
   "cell_type": "code",
   "execution_count": 63,
   "id": "69b9f52a-afe4-4c4d-9938-ef4fdfdf42f8",
   "metadata": {},
   "outputs": [],
   "source": [
    "data = pd.read_hdf('../12_gradient_boosting_machines/data.h5', 'model_data').dropna().sort_index()"
   ]
  },
  {
   "cell_type": "code",
   "execution_count": 65,
   "id": "1c9413dc-6ead-42c7-8cfe-d11d25b1d7e2",
   "metadata": {},
   "outputs": [],
   "source": [
    "data.info(show_counts=True)"
   ]
  },
  {
   "cell_type": "code",
   "execution_count": 67,
   "id": "2f5f9651-690c-4e88-bb44-6528f7492b59",
   "metadata": {},
   "outputs": [],
   "source": [
    "outcomes = data.filter(like='fwd').columns.tolist()"
   ]
  },
  {
   "cell_type": "code",
   "execution_count": 69,
   "id": "808cf6fa-ff54-4bf6-a47f-2edc0bddb6fd",
   "metadata": {},
   "outputs": [],
   "source": [
    "lookahead = 1\n",
    "\n",
    "outcome= f'r{lookahead:02}_fwd'"
   ]
  },
  {
   "cell_type": "code",
   "execution_count": 71,
   "id": "b42caa84-f266-4df2-814b-5d05d4b12dbd",
   "metadata": {},
   "outputs": [],
   "source": [
    "X_cv = data.loc[idx[:, :'2017'], :].drop(outcomes, axis=1)\n",
    "\n",
    "y_cv = data.loc[idx[:, :'2017'], outcome]"
   ]
  },
  {
   "cell_type": "code",
   "execution_count": 73,
   "id": "d756f391-4dd2-4d50-a497-e83e5197a014",
   "metadata": {},
   "outputs": [],
   "source": [
    "len(X_cv.index.get_level_values('symbol').unique())"
   ]
  },
  {
   "cell_type": "code",
   "execution_count": 75,
   "id": "52cc5c26-4af2-4c5f-890f-03da2c287bb2",
   "metadata": {},
   "outputs": [],
   "source": [
    "X_cv.info(null_counts=True)"
   ]
  },
  {
   "cell_type": "markdown",
   "id": "66233516-7929-49c8-a48d-11702772f71e",
   "metadata": {},
   "source": [
    "### Automating Model Generation"
   ]
  },
  {
   "cell_type": "code",
   "execution_count": 78,
   "id": "d8b43d5d-ef00-400d-92be-2817d586e2b0",
   "metadata": {},
   "outputs": [],
   "source": [
    "def make_model(dense_layers, activation, dropout):\n",
    "    '''Creates a multi-layer perceptron model\n",
    "    \n",
    "    dense_layers: List of layer sizes; one number per layer\n",
    "    '''\n",
    "\n",
    "    model = Sequential()\n",
    "    for i, layer_size in enumerate(dense_layers, 1):\n",
    "        if i == 1:\n",
    "            model.add(Dense(layer_size, input_dim=X_cv.shape[1]))\n",
    "            model.add(Activation(activation))\n",
    "        else:\n",
    "            model.add(Dense(layer_size))\n",
    "            model.add(Activation(activation))\n",
    "    model.add(Dropout(dropout))\n",
    "    model.add(Dense(1))\n",
    "\n",
    "    model.compile(loss='mean_squared_error',\n",
    "                  optimizer='Adam')\n",
    "\n",
    "    return model"
   ]
  },
  {
   "cell_type": "markdown",
   "id": "50c1244e-8619-4867-8d2b-72191b40d7ba",
   "metadata": {},
   "source": [
    "### Cross-Validating Multiple Configurations with TensorFlow\n",
    "\n",
    "#### Train-Test Split"
   ]
  },
  {
   "cell_type": "code",
   "execution_count": 81,
   "id": "9bde9f04-45b8-473f-8118-d9af27f6b5ea",
   "metadata": {},
   "outputs": [],
   "source": [
    "n_splits = 12\n",
    "\n",
    "train_period_length=21 * 12 * 4\n",
    "\n",
    "test_period_length=21 * 3"
   ]
  },
  {
   "cell_type": "code",
   "execution_count": 85,
   "id": "e302d8f7-6529-46f4-ae2c-cea480ed46b4",
   "metadata": {},
   "outputs": [],
   "source": [
    "cv = MultipleTimeSeriesCV(n_splits=n_splits,\n",
    "                          train_period_length=train_period_length,\n",
    "                          test_period_length=test_period_length,\n",
    "                          lookahead=lookahead)"
   ]
  },
  {
   "cell_type": "markdown",
   "id": "f4def121-cb17-4245-bc47-7295ae366b6f",
   "metadata": {},
   "source": [
    "#### Defining CV Parameters"
   ]
  },
  {
   "cell_type": "code",
   "execution_count": 88,
   "id": "f02db970-70ff-4394-b50a-068fbea01786",
   "metadata": {},
   "outputs": [],
   "source": [
    "dense_layer_opts = [(16, 8), (32, 16), (32, 32), (64, 32)]\n",
    "\n",
    "activation_opts = ['tanh']\n",
    "\n",
    "dropout_opts = [0, .1, .2]"
   ]
  },
  {
   "cell_type": "code",
   "execution_count": 90,
   "id": "27de7e42-3c5f-47d8-98e4-d330b5d4c1a5",
   "metadata": {},
   "outputs": [],
   "source": [
    "param_grid = list(product(dense_layer_opts, activation_opts, dropout_opts))\n",
    "\n",
    "np.random.shuffle(param_grid)"
   ]
  },
  {
   "cell_type": "code",
   "execution_count": 92,
   "id": "c49c7221-a6db-492b-a631-3d1834d0dbbe",
   "metadata": {},
   "outputs": [
    {
     "data": {
      "text/plain": [
       "12"
      ]
     },
     "execution_count": 92,
     "metadata": {},
     "output_type": "execute_result"
    }
   ],
   "source": [
    "len(param_grid)"
   ]
  },
  {
   "cell_type": "code",
   "execution_count": 94,
   "id": "7822210c-d87a-49bf-9585-7a4e6995a2d8",
   "metadata": {},
   "outputs": [],
   "source": [
    "def get_train_valid_data(X, y, train_idx, test_idx):\n",
    "    x_train, y_train = X.iloc[train_idx, :], y.iloc[train_idx]\n",
    "    x_val, y_val = X.iloc[test_idx, :], y.iloc[test_idx]\n",
    "    return x_train, y_train, x_val, y_val"
   ]
  },
  {
   "cell_type": "code",
   "execution_count": 98,
   "id": "31280b20-3d22-4aa0-b17a-f8ee517720dd",
   "metadata": {},
   "outputs": [],
   "source": [
    "ic = []\n",
    "\n",
    "scaler = StandardScaler()\n",
    "\n",
    "for params in param_grid:\n",
    "    dense_layers, activation, dropout = params\n",
    "    for batch_size in [64, 256]:\n",
    "        print(dense_layers, activation, dropout, batch_size)\n",
    "        checkpoint_dir = checkpoint_path / str(dense_layers) / activation / str(dropout) / str(batch_size)\n",
    "        if not checkpoint_dir.exists():\n",
    "            checkpoint_dir.mkdir(parents=True, exist_ok=True)\n",
    "        start = time()\n",
    "        for fold, (train_idx, test_idx) in enumerate(cv.split(X_cv)):\n",
    "            # get train & validation data\n",
    "            x_train, y_train, x_val, y_val = get_train_valid_data(X_cv, y_cv, train_idx, test_idx)\n",
    "            \n",
    "            # scale features\n",
    "            x_train = scaler.fit_transform(x_train)\n",
    "            x_val = scaler.transform(x_val)\n",
    "            \n",
    "            # set up dataframes to log results\n",
    "            preds = y_val.to_frame('actual')\n",
    "            r = pd.DataFrame(index=y_val.groupby(level='date').size().index)\n",
    "            \n",
    "            # create model based on validation parameters\n",
    "            model = make_model(dense_layers, activation, dropout)\n",
    "            \n",
    "            # cross-validate for 20 epochs\n",
    "            for epoch in range(20):            \n",
    "                model.fit(x_train,\n",
    "                          y_train,\n",
    "                          batch_size=batch_size,\n",
    "                          epochs=1,\n",
    "                          verbose=0,\n",
    "                          shuffle=True,\n",
    "                          validation_data=(x_val, y_val))\n",
    "                model.save_weights((checkpoint_dir / f'ckpt_{fold}_{epoch}').as_posix())\n",
    "                preds[epoch] = model.predict(x_val).squeeze()\n",
    "                r[epoch] = preds.groupby(level='date').apply(lambda x: spearmanr(x.actual, x[epoch])[0]).to_frame(epoch)\n",
    "                print(format_time(time()-start), f'{fold + 1:02d} | {epoch + 1:02d} | {r[epoch].mean():7.4f} | {r[epoch].median():7.4f}')\n",
    "            ic.append(r.assign(dense_layers=str(dense_layers), \n",
    "                               activation=activation, \n",
    "                               dropout=dropout,\n",
    "                               batch_size=batch_size,\n",
    "                               fold=fold))       \n",
    "\n",
    "        t = time()-start\n",
    "        pd.concat(ic).to_hdf(results_path / 'scores.h5', 'ic_by_day')"
   ]
  },
  {
   "cell_type": "markdown",
   "id": "f3e3e9ae-15d9-4960-ba60-f7c7adafccc0",
   "metadata": {},
   "source": [
    "### Evaluating Predictive Performance"
   ]
  },
  {
   "cell_type": "code",
   "execution_count": 101,
   "id": "d6d0d022-b6fc-487d-8121-efbc8c20e154",
   "metadata": {},
   "outputs": [],
   "source": [
    "params = ['dense_layers', 'dropout', 'batch_size']"
   ]
  },
  {
   "cell_type": "code",
   "execution_count": 105,
   "id": "afe558b4-a1e3-415f-85dd-228eced4ed4c",
   "metadata": {},
   "outputs": [],
   "source": [
    "ic = pd.read_hdf(results_path / 'scores.h5', 'ic_by_day').drop('activation', axis=1)\n",
    "\n",
    "ic.info()"
   ]
  },
  {
   "cell_type": "code",
   "execution_count": 117,
   "id": "e0483ca2-be55-43dd-aa48-a6a055b75903",
   "metadata": {},
   "outputs": [],
   "source": [
    "ic.groupby(params).size()"
   ]
  },
  {
   "cell_type": "code",
   "execution_count": 121,
   "id": "4ecc7392-6380-4916-b8a1-c54fe1163f60",
   "metadata": {},
   "outputs": [],
   "source": [
    "ic_long = pd.melt(ic, id_vars=params + ['fold'], var_name='epoch', value_name='ic')\n",
    "\n",
    "ic_long.info()"
   ]
  },
  {
   "cell_type": "code",
   "execution_count": 123,
   "id": "d84fee09-e0af-4ce2-9c2f-34d4de26ba93",
   "metadata": {},
   "outputs": [],
   "source": [
    "ic_long = ic_long.groupby(params+ ['epoch', 'fold']).ic.mean().to_frame('ic').reset_index()"
   ]
  },
  {
   "cell_type": "code",
   "execution_count": 125,
   "id": "b3bc0d65-fd4d-4d69-a2f7-9a97c6573a64",
   "metadata": {},
   "outputs": [],
   "source": [
    "g = sns.relplot(x='epoch', y='ic', col='dense_layers', row='dropout', \n",
    "                data=ic_long[ic_long.dropout>0], kind='line')\n",
    "\n",
    "g.map(plt.axhline, y=0, ls='--', c='k', lw=1)\n",
    "g.savefig(results_path / 'ic_lineplot', dpi=300);"
   ]
  },
  {
   "cell_type": "code",
   "execution_count": 127,
   "id": "b1e9e98c-99bd-47c1-8c58-36c79cba5503",
   "metadata": {},
   "outputs": [],
   "source": [
    "def run_ols(ic):\n",
    "    ic.dense_layers = ic.dense_layers.str.replace(', ', '-').str.replace('(', '').str.replace(')', '')\n",
    "    data = pd.melt(ic, id_vars=params, var_name='epoch', value_name='ic')\n",
    "    data.epoch = data.epoch.astype(int).astype(str).apply(lambda x: f'{int(x):02.0f}')\n",
    "    model_data = pd.get_dummies(data.sort_values(params + ['epoch']), columns=['epoch'] + params, drop_first=True).sort_index(1)\n",
    "    model_data.columns = [s.split('_')[-1] for s in model_data.columns]\n",
    "    model = sm.OLS(endog=model_data.ic, exog=sm.add_constant(model_data.drop('ic', axis=1)))\n",
    "    return model.fit()"
   ]
  },
  {
   "cell_type": "code",
   "execution_count": 129,
   "id": "5279a97e-8a23-4baf-9ef8-867985c137d2",
   "metadata": {},
   "outputs": [],
   "source": [
    "model = run_ols(ic.drop('fold', axis=1))"
   ]
  },
  {
   "cell_type": "code",
   "execution_count": 131,
   "id": "fce556cb-fc94-422b-9a94-c2f65382b1d6",
   "metadata": {},
   "outputs": [],
   "source": [
    "print(model.summary())"
   ]
  },
  {
   "cell_type": "code",
   "execution_count": 133,
   "id": "c88a0943-b8a5-4f52-b08b-f3ecd25831cb",
   "metadata": {},
   "outputs": [],
   "source": [
    "fig, ax = plt.subplots(figsize=(14, 4))\n",
    "\n",
    "ci = model.conf_int()\n",
    "errors = ci[1].sub(ci[0]).div(2)\n",
    "\n",
    "coefs = (model.params.to_frame('coef').assign(error=errors)\n",
    "         .reset_index().rename(columns={'index': 'variable'}))\n",
    "coefs = coefs[~coefs['variable'].str.startswith('date') & (coefs.variable != 'const')]\n",
    "\n",
    "coefs.plot(x='variable', y='coef', kind='bar',\n",
    "           ax=ax, color='none', capsize=3,\n",
    "           yerr='error', legend=False, rot=0, title='Impact of Architecture and Training Parameters on Out-of-Sample Performance')\n",
    "ax.set_ylabel('IC')\n",
    "ax.set_xlabel('')\n",
    "ax.scatter(x=pd.np.arange(len(coefs)), marker='_', s=120, y=coefs['coef'], color='black')\n",
    "ax.axhline(y=0, linestyle='--', color='black', linewidth=1)\n",
    "ax.xaxis.set_ticks_position('none')\n",
    "\n",
    "ax.annotate('Batch Size', xy=(.02, -0.1), xytext=(.02, -0.2),\n",
    "            xycoords='axes fraction',\n",
    "            textcoords='axes fraction',\n",
    "            fontsize=11, ha='center', va='bottom',\n",
    "            bbox=dict(boxstyle='square', fc='white', ec='black'),\n",
    "            arrowprops=dict(arrowstyle='-[, widthB=1.3, lengthB=0.8', lw=1.0, color='black'))\n",
    "\n",
    "ax.annotate('Layers', xy=(.1, -0.1), xytext=(.1, -0.2),\n",
    "            xycoords='axes fraction',\n",
    "            textcoords='axes fraction',\n",
    "            fontsize=11, ha='center', va='bottom',\n",
    "            bbox=dict(boxstyle='square', fc='white', ec='black'),\n",
    "            arrowprops=dict(arrowstyle='-[, widthB=4.8, lengthB=0.8', lw=1.0, color='black'))\n",
    "\n",
    "ax.annotate('Dropout', xy=(.2, -0.1), xytext=(.2, -0.2),\n",
    "            xycoords='axes fraction',\n",
    "            textcoords='axes fraction',\n",
    "            fontsize=11, ha='center', va='bottom',\n",
    "            bbox=dict(boxstyle='square', fc='white', ec='black'),\n",
    "            arrowprops=dict(arrowstyle='-[, widthB=2.8, lengthB=0.8', lw=1.0, color='black'))\n",
    "\n",
    "ax.annotate('Epochs', xy=(.62, -0.1), xytext=(.62, -0.2),\n",
    "            xycoords='axes fraction',\n",
    "            textcoords='axes fraction',\n",
    "            fontsize=11, ha='center', va='bottom',\n",
    "            bbox=dict(boxstyle='square', fc='white', ec='black'),\n",
    "            arrowprops=dict(arrowstyle='-[, widthB=30.5, lengthB=1.0', lw=1.0, color='black'))\n",
    "\n",
    "sns.despine()\n",
    "fig.tight_layout()\n",
    "fig.savefig(results_path / 'ols_coef', dpi=300)"
   ]
  },
  {
   "cell_type": "markdown",
   "id": "b6731aff-73fd-4308-a5fc-4d0e0eaeac5b",
   "metadata": {},
   "source": [
    "### Making Predictions"
   ]
  },
  {
   "cell_type": "code",
   "execution_count": 136,
   "id": "b0b37425-76a0-4ce8-ad85-a59b79e7770d",
   "metadata": {},
   "outputs": [],
   "source": [
    "def get_best_params(n=5):\n",
    "    \"\"\"Get the best parameters across all folds by daily median IC\"\"\"\n",
    "    params = ['dense_layers', 'activation', 'dropout', 'batch_size']\n",
    "    ic = pd.read_hdf(results_path / 'scores.h5', 'ic_by_day').drop('fold', axis=1)\n",
    "    dates = sorted(ic.index.unique())\n",
    "    train_period = 24 * 21\n",
    "    train_dates = dates[:train_period]\n",
    "    ic = ic.loc[train_dates]\n",
    "    return (ic.groupby(params)\n",
    "            .median()\n",
    "            .stack()\n",
    "            .to_frame('ic')\n",
    "            .reset_index()\n",
    "            .rename(columns={'level_4': 'epoch'})\n",
    "            .nlargest(n=n, columns='ic')\n",
    "            .drop('ic', axis=1)\n",
    "            .to_dict('records'))"
   ]
  },
  {
   "cell_type": "code",
   "execution_count": 138,
   "id": "dab1dd10-fe41-4442-9eb3-e99cdc7ef75b",
   "metadata": {},
   "outputs": [],
   "source": [
    "def generate_predictions(dense_layers, activation, dropout, batch_size, epoch):\n",
    "    data = pd.read_hdf('../12_gradient_boosting_machines/data.h5', 'model_data').dropna().sort_index()\n",
    "    outcomes = data.filter(like='fwd').columns.tolist()\n",
    "    X_cv = data.loc[idx[:, :'2017'], :].drop(outcomes, axis=1)\n",
    "    input_dim = X_cv.shape[1]\n",
    "    y_cv = data.loc[idx[:, :'2017'], 'r01_fwd']\n",
    "\n",
    "    scaler = StandardScaler()\n",
    "    predictions = []\n",
    "    \n",
    "    do = '0' if str(dropout) == '0.0' else str(dropout)\n",
    "    checkpoint_dir = checkpoint_path / str(dense_layers) / activation / str(do) / str(batch_size)\n",
    "        \n",
    "    for fold, (train_idx, test_idx) in enumerate(cv.split(X_cv)):\n",
    "        x_train, y_train, x_val, y_val = get_train_valid_data(X_cv, y_cv, train_idx, test_idx)\n",
    "        x_val = scaler.fit(x_train).transform(x_val)\n",
    "        model = make_model(make_tuple(dense_layers), activation, dropout)\n",
    "        status = model.load_weights((checkpoint_dir / f'ckpt_{fold}_{epoch}').as_posix())\n",
    "        status.expect_partial()\n",
    "        predictions.append(pd.Series(model.predict(x_val).squeeze(), index=y_val.index))\n",
    "    return pd.concat(predictions)      "
   ]
  },
  {
   "cell_type": "code",
   "execution_count": 140,
   "id": "a7006f5c-2d4f-462c-a6e0-7842cde94ef2",
   "metadata": {},
   "outputs": [],
   "source": [
    "best_params = get_best_params()\n",
    "\n",
    "predictions = []\n",
    "\n",
    "for i, params in enumerate(best_params):\n",
    "    predictions.append(generate_predictions(**params).to_frame(i))\n",
    "\n",
    "predictions = pd.concat(predictions, axis=1)\n",
    "print(predictions.info())\n",
    "predictions.to_hdf(results_path / 'test_preds.h5', 'predictions')"
   ]
  },
  {
   "cell_type": "code",
   "execution_count": null,
   "id": "4eb89578-0499-4b6b-80e1-82025637b18e",
   "metadata": {},
   "outputs": [],
   "source": []
  }
 ],
 "metadata": {
  "kernelspec": {
   "display_name": "Python [conda env:MLAT] *",
   "language": "python",
   "name": "conda-env-MLAT-py"
  },
  "language_info": {
   "codemirror_mode": {
    "name": "ipython",
    "version": 3
   },
   "file_extension": ".py",
   "mimetype": "text/x-python",
   "name": "python",
   "nbconvert_exporter": "python",
   "pygments_lexer": "ipython3",
   "version": "3.12.9"
  }
 },
 "nbformat": 4,
 "nbformat_minor": 5
}
