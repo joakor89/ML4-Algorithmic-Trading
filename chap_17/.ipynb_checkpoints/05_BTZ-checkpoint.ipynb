{
 "cells": [
  {
   "cell_type": "markdown",
   "id": "9e771e8c-f053-47a5-a604-5ddddae98351",
   "metadata": {},
   "source": [
    "# Backtesting with Zipline - Pipeline API with Custom Data\n",
    "\n",
    "### Loading Libraries"
   ]
  },
  {
   "cell_type": "code",
   "execution_count": 32,
   "id": "460cf816-3ec6-437c-b23f-a1fe65f539a1",
   "metadata": {},
   "outputs": [],
   "source": [
    "# Numerical Computing\n",
    "import numpy as np\n",
    "\n",
    "# Data Manipulation\n",
    "import pandas as pd\n",
    "import pandas_datareader.data as web\n",
    "\n",
    "# Data Visualization\n",
    "import matplotlib\n",
    "import seaborn as sns\n",
    "import matplotlib.pyplot as plt\n",
    "from mpl_toolkits.mplot3d import Axes3D  \n",
    "from matplotlib.colors import ListedColormap\n",
    "\n",
    "# Warning\n",
    "import warnings\n",
    "\n",
    "# OS Library\n",
    "import os, sys\n",
    "from time import time\n",
    "from pathlib import Path\n",
    "from itertools import product\n",
    "from ast import literal_eval as make_tuple\n",
    "\n",
    "# StatsModel\n",
    "import statsmodels.api as sm\n",
    "\n",
    "# Scipy\n",
    "from scipy.stats import spearmanr\n",
    "\n",
    "# Scikit-Learn\n",
    "from sklearn.preprocessing import StandardScaler\n",
    "\n",
    "\n",
    "# Logbook\n",
    "from logbook import Logger, StderrHandler, INFO, WARNING\n",
    "\n",
    "# Zipline\n",
    "from zipline import run_algorithm\n",
    "from zipline.api import (attach_pipeline, pipeline_output,\n",
    "                         date_rules, time_rules, record,\n",
    "                         schedule_function, commission, slippage,\n",
    "                         set_slippage, set_commission, set_max_leverage,\n",
    "                         order_target, order_target_percent,\n",
    "                         get_open_orders, cancel_order)\n",
    "\n",
    "from zipline.data import bundles\n",
    "from zipline.utils.run_algo import load_extensions\n",
    "from zipline.pipeline import Pipeline, CustomFactor\n",
    "from zipline.pipeline.data import Column, DataSet\n",
    "from zipline.pipeline.domain import US_EQUITIES\n",
    "from zipline.pipeline.filters import StaticAssets\n",
    "from zipline.pipeline.loaders import USEquityPricingLoader\n",
    "from zipline.pipeline.loaders.frame import DataFrameLoader\n",
    "\n",
    "# Trading Calendar\n",
    "# from trading_calendars import get_calendar             # Discontinued on Python 3.12 version \n",
    "\n",
    "# Pyfolio\n",
    "import pyfolio as pf\n",
    "from pyfolio.plotting import plot_rolling_returns, plot_rolling_sharpe\n",
    "from pyfolio.timeseries import forecast_cone_bootstrap\n",
    "\n",
    "# Alphalens\n",
    "from alphalens.tears import (create_returns_tear_sheet,\n",
    "                             create_summary_tear_sheet,\n",
    "                             create_full_tear_sheet)\n",
    "\n",
    "from alphalens.performance import mean_return_by_quantile\n",
    "from alphalens.plotting import plot_quantile_returns_bar\n",
    "from alphalens.utils import get_clean_factor_and_forward_returns, rate_of_return"
   ]
  },
  {
   "cell_type": "code",
   "execution_count": 34,
   "id": "479732e9-7511-4d87-b44d-9b1457bb6839",
   "metadata": {},
   "outputs": [],
   "source": [
    "np.random.seed(42)\n",
    "\n",
    "idx = pd.IndexSlice\n",
    "\n",
    "sns.set_style('whitegrid')\n",
    "\n",
    "warnings.filterwarnings('ignore')"
   ]
  },
  {
   "cell_type": "code",
   "execution_count": 36,
   "id": "be581e29-0298-4255-bc33-e8f2f4fc67dd",
   "metadata": {},
   "outputs": [],
   "source": [
    "results_path = Path('results')"
   ]
  },
  {
   "cell_type": "markdown",
   "id": "7c4bbb6f-60b6-4425-be18-72a55a572425",
   "metadata": {},
   "source": [
    "### Alphalens Analysis"
   ]
  },
  {
   "cell_type": "code",
   "execution_count": 41,
   "id": "53c68ca8-0a6a-41bf-8bf0-6a010c913d73",
   "metadata": {},
   "outputs": [],
   "source": [
    "DATA_STORE = Path('..', 'data', 'assets.h5')"
   ]
  },
  {
   "cell_type": "code",
   "execution_count": 43,
   "id": "9fb5f999-4dee-4221-8a28-067bc7010b3a",
   "metadata": {},
   "outputs": [],
   "source": [
    "def get_trade_prices(tickers):\n",
    "    prices = (pd.read_hdf(DATA_STORE, 'quandl/wiki/prices').swaplevel().sort_index())\n",
    "    prices.index.names = ['symbol', 'date']\n",
    "    prices = prices.loc[idx[tickers, '2015':'2018'], 'adj_open']\n",
    "    return (prices\n",
    "            .unstack('symbol')\n",
    "            .sort_index()\n",
    "            .shift(-1)\n",
    "            .tz_localize('UTC'))"
   ]
  },
  {
   "cell_type": "code",
   "execution_count": 47,
   "id": "3fd3310a-0de8-4c5d-b57a-aabd18d7d884",
   "metadata": {},
   "outputs": [],
   "source": [
    "predictions = (pd.read_hdf(results_path / 'test_preds.h5', 'predictions')\n",
    "               .iloc[:, :3]\n",
    "               .mean(1)\n",
    "               .to_frame('prediction'))"
   ]
  },
  {
   "cell_type": "code",
   "execution_count": 49,
   "id": "cc375897-f810-4777-93e1-4908a7d421e7",
   "metadata": {},
   "outputs": [],
   "source": [
    "factor = (predictions\n",
    "          .unstack('symbol')\n",
    "          .asfreq('D')\n",
    "          .dropna(how='all')\n",
    "          .stack()\n",
    "          .tz_localize('UTC', level='date')\n",
    "          .sort_index())\n",
    "\n",
    "tickers = factor.index.get_level_values('symbol').unique()"
   ]
  },
  {
   "cell_type": "code",
   "execution_count": 51,
   "id": "6bb6cf14-3903-4a64-bc48-166f9c7c3336",
   "metadata": {},
   "outputs": [],
   "source": [
    "trade_prices = get_trade_prices(tickers)"
   ]
  },
  {
   "cell_type": "code",
   "execution_count": 53,
   "id": "0ef3c88f-5237-4ee6-b74c-80f4f055d0bd",
   "metadata": {},
   "outputs": [],
   "source": [
    "factor_data = get_clean_factor_and_forward_returns(factor=factor,\n",
    "                                                   prices=trade_prices,\n",
    "                                                   quantiles=5,\n",
    "                                                   max_loss=0.3,\n",
    "                                                   periods=(1, 5, 10, 21)).sort_index()\n",
    "\n",
    "factor_data.info()"
   ]
  },
  {
   "cell_type": "code",
   "execution_count": 55,
   "id": "c997205c-f943-4f49-8799-55f5c4ef825d",
   "metadata": {},
   "outputs": [],
   "source": [
    "create_summary_tear_sheet(factor_data)"
   ]
  },
  {
   "cell_type": "markdown",
   "id": "065c995c-d744-48f9-b429-aa5655001137",
   "metadata": {},
   "source": [
    "### Loading `Zipline` Extensions"
   ]
  },
  {
   "cell_type": "code",
   "execution_count": 60,
   "id": "4b1013fd-c852-4482-afbe-ae9f2a10eb2e",
   "metadata": {},
   "outputs": [],
   "source": [
    "load_extensions(default=True,\n",
    "                extensions=[],\n",
    "                strict=True,\n",
    "                environ=None)"
   ]
  },
  {
   "cell_type": "code",
   "execution_count": 62,
   "id": "4ec1befa-8874-4a36-83e6-86e882653850",
   "metadata": {},
   "outputs": [],
   "source": [
    "log_handler = StderrHandler(format_string='[{record.time:%Y-%m-%d %H:%M:%S.%f}]: ' +\n",
    "                            '{record.level_name}: {record.func_name}: {record.message}',\n",
    "                            level=WARNING)\n",
    "\n",
    "log_handler.push_application()\n",
    "log = Logger('Algorithm')"
   ]
  },
  {
   "cell_type": "markdown",
   "id": "95329530-473d-44d3-bc4e-ca92bcf40c0e",
   "metadata": {},
   "source": [
    "### Algo Params"
   ]
  },
  {
   "cell_type": "code",
   "execution_count": 65,
   "id": "b1a8fafb-a072-4442-9dca-a69e2fe7d891",
   "metadata": {},
   "outputs": [],
   "source": [
    "N_LONGS = 25\n",
    "\n",
    "N_SHORTS = 25\n",
    "\n",
    "MIN_POSITIONS = 10"
   ]
  },
  {
   "cell_type": "markdown",
   "id": "2554da07-1297-4580-92cc-8a3a9e72efef",
   "metadata": {},
   "source": [
    "### Loading Data\n",
    "\n",
    "#### Quandl Wiki Bundel"
   ]
  },
  {
   "cell_type": "code",
   "execution_count": 70,
   "id": "380563ff-16b0-42a2-9dfb-02bee991bc18",
   "metadata": {},
   "outputs": [],
   "source": [
    "bundle_data = bundles.load('quandl')"
   ]
  },
  {
   "cell_type": "markdown",
   "id": "642c6e8a-1d92-4de8-90c5-2070ca74d425",
   "metadata": {},
   "source": [
    "#### ML Predictions"
   ]
  },
  {
   "cell_type": "code",
   "execution_count": 73,
   "id": "97c5bfb5-1bec-4314-804a-6d58cab31183",
   "metadata": {},
   "outputs": [],
   "source": [
    "def load_predictions(bundle):\n",
    "    predictions = (pd.read_hdf(results_path / 'test_preds.h5', 'predictions')\n",
    "                   .iloc[:, :3]\n",
    "                   .mean(1)\n",
    "                   .to_frame('prediction'))\n",
    "    tickers = predictions.index.get_level_values('symbol').unique().tolist()\n",
    "\n",
    "    assets = bundle.asset_finder.lookup_symbols(tickers, as_of_date=None)\n",
    "    predicted_sids = pd.Int64Index([asset.sid for asset in assets])\n",
    "    ticker_map = dict(zip(tickers, predicted_sids))\n",
    "\n",
    "    return (predictions\n",
    "            .unstack('symbol')\n",
    "            .rename(columns=ticker_map)\n",
    "            .prediction\n",
    "            .tz_localize('UTC')), assets"
   ]
  },
  {
   "cell_type": "code",
   "execution_count": 75,
   "id": "d7fb8491-ee65-44fe-ade9-d30e3d89109d",
   "metadata": {},
   "outputs": [],
   "source": [
    "predictions, assets = load_predictions(bundle_data)"
   ]
  },
  {
   "cell_type": "code",
   "execution_count": 77,
   "id": "29cc2289-a2af-4ade-a405-4a3495358aec",
   "metadata": {},
   "outputs": [],
   "source": [
    "predictions.info()"
   ]
  },
  {
   "cell_type": "markdown",
   "id": "e53bcd3b-d982-48aa-8e92-bad91a974e44",
   "metadata": {},
   "source": [
    "#### Defining Custom Dataset"
   ]
  },
  {
   "cell_type": "code",
   "execution_count": 80,
   "id": "1bdb9c8b-ba18-4b02-8ed9-3cc68a79e3a2",
   "metadata": {},
   "outputs": [],
   "source": [
    "class SignalData(DataSet):\n",
    "    predictions = Column(dtype=float)\n",
    "    domain = US_EQUITIES"
   ]
  },
  {
   "cell_type": "markdown",
   "id": "4a62c6c5-1e13-487a-99ee-3d9aa34bc6eb",
   "metadata": {},
   "source": [
    "### Defining Pipeline Loaders"
   ]
  },
  {
   "cell_type": "code",
   "execution_count": 83,
   "id": "b4d20842-9616-4a6d-aa37-f6e58ed0ed7b",
   "metadata": {},
   "outputs": [],
   "source": [
    "signal_loader = {SignalData.predictions:\n",
    "                     DataFrameLoader(SignalData.predictions, predictions)}"
   ]
  },
  {
   "cell_type": "markdown",
   "id": "67b8443b-63fb-454c-a6c0-ca31e73d0c0e",
   "metadata": {},
   "source": [
    "### Pipeline Setup\n",
    "\n",
    "#### Custom ML Factor"
   ]
  },
  {
   "cell_type": "code",
   "execution_count": 113,
   "id": "452e3c83-fbd5-439c-90b4-3c77a51f0ddd",
   "metadata": {},
   "outputs": [],
   "source": [
    "class MLSignal(CustomFactor):\n",
    "    \"\"\"Converting signals to Factor\n",
    "        so we can rank and filter in Pipeline\"\"\"\n",
    "    inputs = [SignalData.predictions]\n",
    "    window_length = 1\n",
    "\n",
    "    def compute(self, today, assets, out, predictions):\n",
    "        out[:] = predictions"
   ]
  },
  {
   "cell_type": "markdown",
   "id": "86b62a19-62f4-4268-ad25-6a57838ce5a2",
   "metadata": {},
   "source": [
    "#### Creating Pipeline"
   ]
  },
  {
   "cell_type": "code",
   "execution_count": 116,
   "id": "433d37cf-84dc-43f1-a933-bf8f25a2ed52",
   "metadata": {},
   "outputs": [],
   "source": [
    "def compute_signals():\n",
    "    signals = MLSignal()\n",
    "    return Pipeline(columns={\n",
    "        'longs' : signals.top(N_LONGS, mask=signals > 0),\n",
    "        'shorts': signals.bottom(N_SHORTS, mask=signals < 0)},\n",
    "            screen=StaticAssets(assets))"
   ]
  },
  {
   "cell_type": "markdown",
   "id": "6d064d53-de80-48dc-8b16-f734faf8ec63",
   "metadata": {},
   "source": [
    "### Initializing Algorithm"
   ]
  },
  {
   "cell_type": "code",
   "execution_count": 119,
   "id": "056e1093-4fbb-4b71-a24b-8d28b4584728",
   "metadata": {},
   "outputs": [],
   "source": [
    "def initialize(context):\n",
    "    \"\"\"\n",
    "    Called once at the start of the algorithm.\n",
    "    \"\"\"\n",
    "    context.longs = context.shorts = None\n",
    "    set_slippage(slippage.FixedSlippage(spread=0.00))\n",
    "    #set_commission(commission.PerShare(cost=0.001, min_trade_cost=0))\n",
    "\n",
    "    schedule_function(rebalance,\n",
    "                      date_rules.every_day(),\n",
    "                      time_rules.market_open(hours=1, minutes=30))\n",
    "\n",
    "    schedule_function(record_vars,\n",
    "                      date_rules.every_day(),\n",
    "                      time_rules.market_close())\n",
    "\n",
    "    pipeline = compute_signals()\n",
    "    attach_pipeline(pipeline, 'signals')"
   ]
  },
  {
   "cell_type": "markdown",
   "id": "c399c37d-137d-4d14-be5c-2fa2b1f16321",
   "metadata": {},
   "source": [
    "#### Getting Daily Pipeline Results"
   ]
  },
  {
   "cell_type": "code",
   "execution_count": 122,
   "id": "01d68c87-723b-4021-ae90-ba5735045b3e",
   "metadata": {},
   "outputs": [],
   "source": [
    "def before_trading_start(context, data):\n",
    "    \"\"\"\n",
    "    Called every day before market open.\n",
    "    \"\"\"\n",
    "    output = pipeline_output('signals')\n",
    "    longs = pipeline_output('signals').longs.astype(int)\n",
    "    shorts = pipeline_output('signals').shorts.astype(int)\n",
    "    holdings = context.portfolio.positions.keys()\n",
    "    \n",
    "    if longs.sum() > MIN_POSITIONS and shorts.sum() > MIN_POSITIONS:\n",
    "        context.longs = longs[longs!=0].index\n",
    "        context.shorts = shorts[shorts!=0].index\n",
    "        context.divest = holdings - set(context.longs) - set(context.shorts)\n",
    "    else:\n",
    "        context.longs = context.shorts = pd.Index([])\n",
    "        context.divest = set(holdings)"
   ]
  },
  {
   "cell_type": "markdown",
   "id": "a3b3b8ed-54b2-44d5-a481-506c7e72a83f",
   "metadata": {},
   "source": [
    "### Defining Rebalancing Logic"
   ]
  },
  {
   "cell_type": "code",
   "execution_count": 125,
   "id": "05a9309f-4040-4550-a91e-d9d7bb4c03f1",
   "metadata": {},
   "outputs": [],
   "source": [
    "def rebalance(context, data):\n",
    "    \"\"\"\n",
    "    Execute orders according to schedule_function() date & time rules.\n",
    "    \"\"\"\n",
    "    \n",
    "    for symbol, open_orders in get_open_orders().items():\n",
    "        for open_order in open_orders:\n",
    "            cancel_order(open_order)\n",
    "          \n",
    "    for stock in context.divest:\n",
    "        order_target(stock, target=0)\n",
    "    \n",
    "    #log.warning('{} {:,.0f}'.format(len(context.portfolio.positions), context.portfolio.portfolio_value))\n",
    "    if not (context.longs.empty and context.shorts.empty):\n",
    "        for stock in context.shorts:\n",
    "            order_target_percent(stock, -1 / len(context.shorts))\n",
    "        for stock in context.longs:\n",
    "            order_target_percent(stock, 1 / len(context.longs))"
   ]
  },
  {
   "cell_type": "markdown",
   "id": "ffed4245-08e6-4f60-bde0-de611705dc3b",
   "metadata": {},
   "source": [
    "### Recording Data Points"
   ]
  },
  {
   "cell_type": "code",
   "execution_count": 128,
   "id": "2d6b82af-f0b8-4662-818f-a1f35159965f",
   "metadata": {},
   "outputs": [],
   "source": [
    "def record_vars(context, data):\n",
    "    \"\"\"\n",
    "    Plot variables at the end of each day.\n",
    "    \"\"\"\n",
    "    record(leverage=context.account.leverage,\n",
    "           longs=context.longs,\n",
    "           shorts=context.shorts)"
   ]
  },
  {
   "cell_type": "markdown",
   "id": "8d5c92fc-932d-4f44-bd32-0c52b58f7c1f",
   "metadata": {},
   "source": [
    "### Running Algorithm"
   ]
  },
  {
   "cell_type": "code",
   "execution_count": 131,
   "id": "5dbd1254-9e3e-4431-8d78-213cb2adadee",
   "metadata": {},
   "outputs": [],
   "source": [
    "dates = predictions.index.get_level_values('date')\n",
    "\n",
    "start_date, end_date = dates.min(), dates.max()"
   ]
  },
  {
   "cell_type": "code",
   "execution_count": 133,
   "id": "297c634e-1678-43bc-b9da-2b9b39c4a97a",
   "metadata": {},
   "outputs": [],
   "source": [
    "print('Start: {}\\nEnd:   {}'.format(start_date.date(), end_date.date()))"
   ]
  },
  {
   "cell_type": "code",
   "execution_count": 135,
   "id": "50d43dc7-8a56-4a89-b234-fe1b1bfbe999",
   "metadata": {},
   "outputs": [],
   "source": [
    "start = time()\n",
    "\n",
    "results = run_algorithm(start=start_date,\n",
    "                        end=end_date,\n",
    "                        initialize=initialize,\n",
    "                        before_trading_start=before_trading_start,\n",
    "                        capital_base=1e5,\n",
    "                        data_frequency='daily',\n",
    "                        bundle='quandl',\n",
    "                        custom_loader=signal_loader)  \n",
    "\n",
    "print('Duration: {:.2f}s'.format(time() - start))"
   ]
  },
  {
   "cell_type": "markdown",
   "id": "9d958c7c-862f-4c38-8336-655587daa409",
   "metadata": {},
   "source": [
    "### PyFolio Analysis"
   ]
  },
  {
   "cell_type": "code",
   "execution_count": 138,
   "id": "cc8c4db2-f8ee-4e24-a08b-e73e7e03f72c",
   "metadata": {},
   "outputs": [],
   "source": [
    "returns, positions, transactions = pf.utils.extract_rets_pos_txn_from_zipline(results)"
   ]
  },
  {
   "cell_type": "code",
   "execution_count": 140,
   "id": "7885fb10-92c6-4532-ad42-614fcedd0460",
   "metadata": {},
   "outputs": [],
   "source": [
    "benchmark = web.DataReader('SP500', 'fred', '2014', '2018').squeeze()\n",
    "\n",
    "benchmark = benchmark.pct_change().tz_localize('UTC')"
   ]
  },
  {
   "cell_type": "markdown",
   "id": "c2956084-4db0-4b9d-a2fc-ae4fc059c218",
   "metadata": {},
   "source": [
    "#### Custom Plots"
   ]
  },
  {
   "cell_type": "code",
   "execution_count": 143,
   "id": "d27c4461-a825-4094-ae25-c6ee118a3ebe",
   "metadata": {},
   "outputs": [],
   "source": [
    "LIVE_DATE = '2016-11-30'"
   ]
  },
  {
   "cell_type": "code",
   "execution_count": 145,
   "id": "e4a1933a-f6de-4e8b-8827-5b58b0f99756",
   "metadata": {},
   "outputs": [],
   "source": [
    "fig, axes = plt.subplots(ncols=2, figsize=(16, 5))\n",
    "\n",
    "plot_rolling_returns(returns,\n",
    "                     factor_returns=benchmark,\n",
    "                     live_start_date=LIVE_DATE,\n",
    "                     logy=False,\n",
    "                     cone_std=2,\n",
    "                     legend_loc='best',\n",
    "                     volatility_match=False,\n",
    "                     cone_function=forecast_cone_bootstrap,\n",
    "                     ax=axes[0])\n",
    "plot_rolling_sharpe(returns, ax=axes[1], rolling_window=63)\n",
    "axes[0].set_title('Cumulative Returns - In and Out-of-Sample')\n",
    "axes[1].set_title('Rolling Sharpe Ratio (3 Months)')\n",
    "sns.despine()\n",
    "fig.tight_layout()\n",
    "fig.savefig((results_path / 'pyfolio_out_of_sample').as_posix(), dpi=300)\n",
    "plt.show()"
   ]
  },
  {
   "cell_type": "markdown",
   "id": "3dc55f2d-f5d2-43f5-bf3e-eef6d3fd1202",
   "metadata": {},
   "source": [
    "## Tear Sheets"
   ]
  },
  {
   "cell_type": "code",
   "execution_count": 148,
   "id": "3ce4799c-c4e8-416d-8407-9cafe6718323",
   "metadata": {},
   "outputs": [],
   "source": [
    "pf.create_full_tear_sheet(returns, \n",
    "                          positions=positions, \n",
    "                          transactions=transactions,\n",
    "                          benchmark_rets=benchmark,\n",
    "                          live_start_date=LIVE_DATE, \n",
    "                          round_trips=True)"
   ]
  },
  {
   "cell_type": "code",
   "execution_count": null,
   "id": "03f2d417-e9b3-4961-bf46-3cb7d09901eb",
   "metadata": {},
   "outputs": [],
   "source": [
    "\n"
   ]
  }
 ],
 "metadata": {
  "kernelspec": {
   "display_name": "Python [conda env:MLAT] *",
   "language": "python",
   "name": "conda-env-MLAT-py"
  },
  "language_info": {
   "codemirror_mode": {
    "name": "ipython",
    "version": 3
   },
   "file_extension": ".py",
   "mimetype": "text/x-python",
   "name": "python",
   "nbconvert_exporter": "python",
   "pygments_lexer": "ipython3",
   "version": "3.12.9"
  }
 },
 "nbformat": 4,
 "nbformat_minor": 5
}
