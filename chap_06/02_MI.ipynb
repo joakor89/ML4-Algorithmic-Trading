{
 "cells": [
  {
   "cell_type": "markdown",
   "id": "0e34a197-f16e-4954-9d71-da6ed2671d7e",
   "metadata": {},
   "source": [
    "# Using Information Theory to Evaluate Features\n",
    "\n",
    "### Loading Libraries"
   ]
  },
  {
   "cell_type": "code",
   "execution_count": 1,
   "id": "42c3d4ae-935d-49c3-be18-e4d435c12401",
   "metadata": {},
   "outputs": [],
   "source": [
    "# Numerical Computing\n",
    "import numpy as np\n",
    "\n",
    "# Data Visualization\n",
    "import seaborn as sns\n",
    "import matplotlib.pyplot as plt\n",
    "\n",
    "# YellowBrick\n",
    "from yellowbrick.model_selection import ValidationCurve, LearningCurve\n",
    "\n",
    "# Data Manipulation\n",
    "import pandas as pd\n",
    "\n",
    "# Warnings\n",
    "import warnings\n",
    "\n",
    "# Path\n",
    "from pathlib import Path\n",
    "\n",
    "# SciPy\n",
    "from scipy.stats import spearmanr\n",
    "\n",
    "# Scikit-Learn\n",
    "from sklearn.pipeline import Pipeline\n",
    "from sklearn.metrics import make_scorer\n",
    "from sklearn.preprocessing import StandardScaler, scale\n",
    "from sklearn.feature_selection import mutual_info_regression\n",
    "\n",
    "from sklearn.metrics import (mean_squared_error,\n",
    "                             mean_absolute_error,\n",
    "                             mean_squared_log_error, \n",
    "                             median_absolute_error, \n",
    "                             explained_variance_score, \n",
    "                             r2_score)\n",
    "\n",
    "from sklearn.neighbors import (KNeighborsClassifier, \n",
    "                               KNeighborsRegressor)\n",
    "\n",
    "from sklearn.model_selection import (cross_val_score, \n",
    "                                     cross_val_predict, \n",
    "                                     GridSearchCV)"
   ]
  },
  {
   "cell_type": "code",
   "execution_count": 2,
   "id": "1f7e3065-39e5-4a61-b70f-c3ee63de3614",
   "metadata": {},
   "outputs": [],
   "source": [
    "sns.set_style('whitegrid')\n",
    "\n",
    "warnings.filterwarnings('ignore')"
   ]
  },
  {
   "cell_type": "code",
   "execution_count": 3,
   "id": "d0a34ef9-6969-497d-a687-c50a1debfaee",
   "metadata": {},
   "outputs": [],
   "source": [
    "%matplotlib inline"
   ]
  },
  {
   "cell_type": "markdown",
   "id": "5847d9a8-f675-479c-97c1-a78012ee52e0",
   "metadata": {},
   "source": [
    "### Retrieving Data"
   ]
  },
  {
   "cell_type": "code",
   "execution_count": 6,
   "id": "b886bd24-19b9-4a6a-a248-a2bbf218abc7",
   "metadata": {},
   "outputs": [],
   "source": [
    "with pd.HDFStore('/Users/joaquinromero/desktop/MLAT/data/assets.h5') as store:\n",
    "    data = store['engineered_features']"
   ]
  },
  {
   "cell_type": "markdown",
   "id": "1e63fbc1-6e87-4005-945b-6619964991f6",
   "metadata": {},
   "source": [
    "### Setting Dummy Variables"
   ]
  },
  {
   "cell_type": "code",
   "execution_count": 7,
   "id": "7ca78fb1-c6db-4788-9aa8-881b113705b2",
   "metadata": {},
   "outputs": [],
   "source": [
    "dummy_data = pd.get_dummies(data,\n",
    "                            columns=['year','month', 'msize', 'age',  'sector'],\n",
    "                            prefix=['year','month', 'msize', 'age', ''],\n",
    "                            prefix_sep=['_', '_', '_', '_', ''])\n",
    "\n",
    "dummy_data = dummy_data.rename(columns={c:c.replace('.0', '') for c in dummy_data.columns})\n",
    "dummy_data.info()"
   ]
  },
  {
   "cell_type": "markdown",
   "id": "0d25236d-f624-4d7f-9cdd-cb25a8234b66",
   "metadata": {},
   "source": [
    "### Mutual Information\n",
    "\n",
    "#### Original Data"
   ]
  },
  {
   "cell_type": "code",
   "execution_count": 8,
   "id": "f3847b7b-998e-4b31-ba0a-14125e98c929",
   "metadata": {},
   "outputs": [],
   "source": [
    "target_labels = [f'target_{i}m' for i in [1,2,3,6,12]]\n",
    "targets = data.dropna().loc[:, target_labels]\n",
    "\n",
    "features = data.dropna().drop(target_labels, axis=1)\n",
    "features.sector = pd.factorize(features.sector)[0]\n",
    "\n",
    "cat_cols = ['year', 'month', 'msize', 'age', 'sector']\n",
    "discrete_features = [features.columns.get_loc(c) for c in cat_cols]"
   ]
  },
  {
   "cell_type": "code",
   "execution_count": 9,
   "id": "5e982a33-9b6b-4eac-b1b2-31f6d1a17389",
   "metadata": {},
   "outputs": [],
   "source": [
    "mutual_info = pd.DataFrame()\n",
    "\n",
    "for label in target_labels:\n",
    "    mi = mutual_info_classif(X=features, \n",
    "                             y=(targets[label]> 0).astype(int),\n",
    "                             discrete_features=discrete_features,\n",
    "                             random_state=42\n",
    "                            )\n",
    "    mutual_info[label] = pd.Series(mi, index=features.columns)"
   ]
  },
  {
   "cell_type": "code",
   "execution_count": 10,
   "id": "3b40e4c1-1773-4285-811e-d5c690f19eac",
   "metadata": {},
   "outputs": [],
   "source": [
    "mutual_info.sum()"
   ]
  },
  {
   "cell_type": "markdown",
   "id": "177b71ab-72a9-46c1-9770-90e52884d74b",
   "metadata": {},
   "source": [
    "### Normalized MI Heatmap"
   ]
  },
  {
   "cell_type": "code",
   "execution_count": 11,
   "id": "969cf592-a389-44e1-bb9e-d1b9585369da",
   "metadata": {},
   "outputs": [],
   "source": [
    "fig, ax= plt.subplots(figsize=(15, 4))\n",
    "sns.heatmap(mutual_info.div(mutual_info.sum()).T, ax=ax, cmap='Blues');\n",
    "plt.show()"
   ]
  },
  {
   "cell_type": "markdown",
   "id": "119971d4-5075-469f-8ee6-5678f2db8cd0",
   "metadata": {},
   "source": [
    "### Dummy Data"
   ]
  },
  {
   "cell_type": "code",
   "execution_count": 12,
   "id": "9277732e-1d15-4d42-a8a1-5d8a59ca4ce0",
   "metadata": {},
   "outputs": [],
   "source": [
    "target_labels = [f'target_{i}m' for i in [1, 2, 3, 6, 12]]\n",
    "dummy_targets = dummy_data.dropna().loc[:, target_labels]\n",
    "\n",
    "dummy_features = dummy_data.dropna().drop(target_labels, axis=1)\n",
    "cat_cols = [c for c in dummy_features.columns if c not in features.columns]\n",
    "discrete_features = [dummy_features.columns.get_loc(c) for c in cat_cols]"
   ]
  },
  {
   "cell_type": "code",
   "execution_count": 13,
   "id": "f0b5a0ff-cc97-4512-90bb-bbe9de27c95b",
   "metadata": {},
   "outputs": [],
   "source": [
    "mutual_info_dummies = pd.DataFrame()\n",
    "for label in target_labels:\n",
    "    mi = mutual_info_classif(X=dummy_features, \n",
    "                             y=(dummy_targets[label]> 0).astype(int),\n",
    "                             discrete_features=discrete_features,\n",
    "                             random_state=42\n",
    "                            )    \n",
    "    mutual_info_dummies[label] = pd.Series(mi, index=dummy_features.columns)"
   ]
  },
  {
   "cell_type": "code",
   "execution_count": 14,
   "id": "ccebc700-a1fc-4e0b-bdf5-4983010d124b",
   "metadata": {},
   "outputs": [],
   "source": [
    "mutual_info_dummies.sum()"
   ]
  },
  {
   "cell_type": "code",
   "execution_count": 16,
   "id": "7917c9f0-41bb-4714-82c6-e703dce55e97",
   "metadata": {},
   "outputs": [],
   "source": [
    "fig, ax= plt.subplots(figsize=(4, 20))\n",
    "sns.heatmap(mutual_info_dummies.div(mutual_info_dummies.sum()), ax=ax, cmap='Blues');\n",
    "plt.show()"
   ]
  },
  {
   "cell_type": "code",
   "execution_count": null,
   "id": "1cc26ef8-f5bc-40ea-bdc9-2be83060b978",
   "metadata": {},
   "outputs": [],
   "source": []
  }
 ],
 "metadata": {
  "kernelspec": {
   "display_name": "Python 3 (ipykernel)",
   "language": "python",
   "name": "python3"
  },
  "language_info": {
   "codemirror_mode": {
    "name": "ipython",
    "version": 3
   },
   "file_extension": ".py",
   "mimetype": "text/x-python",
   "name": "python",
   "nbconvert_exporter": "python",
   "pygments_lexer": "ipython3",
   "version": "3.12.9"
  }
 },
 "nbformat": 4,
 "nbformat_minor": 5
}
