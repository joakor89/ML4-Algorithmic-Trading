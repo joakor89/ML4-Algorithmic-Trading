{
 "cells": [
  {
   "cell_type": "markdown",
   "id": "9d45e8c4-2ad5-4317-8ce7-fe37161a77e5",
   "metadata": {},
   "source": [
    "# Prediction Stock Returns with Linear Regression\n",
    "\n",
    "### Loading Libraries"
   ]
  },
  {
   "cell_type": "code",
   "execution_count": 1,
   "id": "ce6ccd20-f369-4f23-91d7-5278c7247469",
   "metadata": {},
   "outputs": [],
   "source": [
    "# Numerical Computing\n",
    "import numpy as np\n",
    "\n",
    "# Data Manipulation\n",
    "import pandas as pd\n",
    "\n",
    "# Data Visualization\n",
    "import seaborn as sns\n",
    "import matplotlib.pyplot as plt\n",
    "from matplotlib.ticker import FuncFormatter\n",
    "\n",
    "# SciPy\n",
    "from scipy.stats import norm, pearsonr, spearmanr\n",
    "\n",
    "# StatsModels\n",
    "from statsmodels.graphics.tsaplots import plot_acf\n",
    "from statsmodels.api import OLS, add_constant, graphics\n",
    "\n",
    "# Warnings\n",
    "import warnings\n",
    "\n",
    "# Time\n",
    "from time import time\n",
    "\n",
    "# Path\n",
    "from pathlib import Path\n",
    "\n",
    "# Scikit-Learn\n",
    "from sklearn.pipeline import Pipeline\n",
    "from sklearn.metrics import mean_squared_error\n",
    "from sklearn.preprocessing import StandardScaler\n",
    "from sklearn.linear_model import LinearRegression, Ridge, Lasso"
   ]
  },
  {
   "cell_type": "code",
   "execution_count": 2,
   "id": "ea9ea0f7-5276-41dd-a1f1-f19f14cfb34d",
   "metadata": {},
   "outputs": [],
   "source": [
    "idx = pd.IndexSlice\n",
    "\n",
    "sns.set_style('whitegrid')\n",
    "\n",
    "warnings.filterwarnings('ignore')"
   ]
  },
  {
   "cell_type": "code",
   "execution_count": 3,
   "id": "713f6e4e-9521-4d43-bf48-06a517c92781",
   "metadata": {},
   "outputs": [],
   "source": [
    "YEAR = 252"
   ]
  },
  {
   "cell_type": "markdown",
   "id": "690c9e96-83ae-40e7-b497-ef00c146a4b9",
   "metadata": {},
   "source": [
    "### Loading Data"
   ]
  },
  {
   "cell_type": "code",
   "execution_count": 4,
   "id": "68164222-d5c0-45f1-ada1-a50ab372a6ce",
   "metadata": {},
   "outputs": [],
   "source": [
    "with pd.HDFStore('data.h5') as store:\n",
    "    data = (store['model_data']\n",
    "            .dropna()\n",
    "            .drop(['open', 'close', 'low', 'high'], axis=1))"
   ]
  },
  {
   "cell_type": "code",
   "execution_count": 5,
   "id": "d4834805-1961-47ec-b506-a7645a098707",
   "metadata": {},
   "outputs": [],
   "source": [
    "data.index.names = ['symbol', 'date']"
   ]
  },
  {
   "cell_type": "code",
   "execution_count": 6,
   "id": "9971f3c0-5fcd-4d97-837c-0e8c2d6e6bd8",
   "metadata": {},
   "outputs": [],
   "source": [
    "data = data.drop([c for c in data.columns if 'lag' in c], axis=1)"
   ]
  },
  {
   "cell_type": "markdown",
   "id": "1ac713e7-e9ed-4b5b-964d-ba6bb19350a5",
   "metadata": {},
   "source": [
    "### Select Investment Universe"
   ]
  },
  {
   "cell_type": "code",
   "execution_count": 7,
   "id": "f8239aee-009c-485f-ba4b-7054cf57c440",
   "metadata": {},
   "outputs": [],
   "source": [
    "data = data[data.dollar_vol_rank<100]"
   ]
  },
  {
   "cell_type": "code",
   "execution_count": 8,
   "id": "43be6581-b713-4551-b767-8407ab7db47e",
   "metadata": {},
   "outputs": [],
   "source": [
    "data.info(null_counts=True)"
   ]
  },
  {
   "cell_type": "markdown",
   "id": "bfc884a6-dd58-4f22-b26d-4edae22e1f36",
   "metadata": {},
   "source": [
    "#### Creating Model Data"
   ]
  },
  {
   "cell_type": "code",
   "execution_count": 9,
   "id": "0b20eec7-343b-41ef-aab8-00dd41dd4b81",
   "metadata": {},
   "outputs": [],
   "source": [
    "y = data.filter(like='target')\n",
    "X = data.drop(y.columns, axis=1)\n",
    "\n",
    "X = X.drop(['dollar_vol', 'dollar_vol_rank', 'volume', 'consumer_durables'], axis=1)"
   ]
  },
  {
   "cell_type": "markdown",
   "id": "4f0f6e08-8e39-49f6-86fc-930095ea38b8",
   "metadata": {},
   "source": [
    "### Customizing `MultipleTimeSeriesCV`"
   ]
  },
  {
   "cell_type": "code",
   "execution_count": 10,
   "id": "2869149a-5688-4b1c-b620-8ffca7868618",
   "metadata": {},
   "outputs": [],
   "source": [
    "class MultipleTimeSeriesCV:\n",
    "    \"\"\"Generates tuples of train_idx, test_idx pairs\n",
    "    Assumes the MultiIndex contains levels 'symbol' and 'date'\n",
    "    purges overlapping outcomes\"\"\"\n",
    "\n",
    "    def __init__(self,\n",
    "                 n_splits=3,\n",
    "                 train_period_length=126,\n",
    "                 test_period_length=21,\n",
    "                 lookahead=None,\n",
    "                 shuffle=False):\n",
    "        self.n_splits = n_splits\n",
    "        self.lookahead = lookahead\n",
    "        self.test_length = test_period_length\n",
    "        self.train_length = train_period_length\n",
    "        self.shuffle = shuffle\n",
    "\n",
    "    def split(self, X, y=None, groups=None):\n",
    "        unique_dates = X.index.get_level_values('date').unique()\n",
    "        days = sorted(unique_dates, reverse=True)\n",
    "\n",
    "        split_idx = []\n",
    "        for i in range(self.n_splits):\n",
    "            test_end_idx = i * self.test_length\n",
    "            test_start_idx = test_end_idx + self.test_length\n",
    "            train_end_idx = test_start_idx + + self.lookahead - 1\n",
    "            train_start_idx = train_end_idx + self.train_length + self.lookahead - 1\n",
    "            split_idx.append([train_start_idx, train_end_idx,\n",
    "                              test_start_idx, test_end_idx])\n",
    "\n",
    "        dates = X.reset_index()[['date']]\n",
    "        for train_start, train_end, test_start, test_end in split_idx:\n",
    "            train_idx = dates[(dates.date > days[train_start])\n",
    "                              & (dates.date <= days[train_end])].index\n",
    "            test_idx = dates[(dates.date > days[test_start])\n",
    "                             & (dates.date <= days[test_end])].index\n",
    "            if self.shuffle:\n",
    "                np.random.shuffle(list(train_idx))\n",
    "            yield train_idx, test_idx\n",
    "\n",
    "    def get_n_splits(self, X, y, groups=None):\n",
    "        return self.n_splits"
   ]
  },
  {
   "cell_type": "markdown",
   "id": "105f2e15-61b1-4568-a74c-7d1060ac231c",
   "metadata": {},
   "source": [
    "#### Performance Verification"
   ]
  },
  {
   "cell_type": "code",
   "execution_count": 11,
   "id": "402aa5bf-2a94-445a-85b3-ecad664c4f64",
   "metadata": {},
   "outputs": [],
   "source": [
    "train_period_length = 63\n",
    "test_period_length = 10\n",
    "n_splits = int(3 * YEAR/test_period_length)\n",
    "lookahead =1 \n",
    "\n",
    "cv = MultipleTimeSeriesCV(n_splits=n_splits,\n",
    "                          test_period_length=test_period_length,\n",
    "                          lookahead=lookahead,\n",
    "                          train_period_length=train_period_length)"
   ]
  },
  {
   "cell_type": "code",
   "execution_count": 12,
   "id": "86a64ed8-c5a3-428c-a17b-be51ea9904f1",
   "metadata": {},
   "outputs": [],
   "source": [
    "i = 0\n",
    "\n",
    "for train_idx, test_idx in cv.split(X=data):\n",
    "    train = data.iloc[train_idx]\n",
    "    train_dates = train.index.get_level_values('date')\n",
    "    test = data.iloc[test_idx]\n",
    "    test_dates = test.index.get_level_values('date')\n",
    "    df = train.reset_index().append(test.reset_index())\n",
    "    n = len(df)\n",
    "    assert n== len(df.drop_duplicates())\n",
    "    print(train.groupby(level='symbol').size().value_counts().index[0],\n",
    "          train_dates.min().date(), train_dates.max().date(),\n",
    "          test.groupby(level='symbol').size().value_counts().index[0],\n",
    "          test_dates.min().date(), test_dates.max().date())\n",
    "    i += 1\n",
    "    if i == 10:\n",
    "        break"
   ]
  },
  {
   "cell_type": "markdown",
   "id": "df96a1a9-853b-4fd5-aee0-d0ffd8b83773",
   "metadata": {},
   "source": [
    "### Helper Functions Visualization\n",
    "\n",
    "#### Prediction vs Actual Scatter Plot"
   ]
  },
  {
   "cell_type": "code",
   "execution_count": 13,
   "id": "3dd73e84-3b69-43c6-9970-6e522723c918",
   "metadata": {},
   "outputs": [],
   "source": [
    "def plot_preds_scatter(df, ticker=None):\n",
    "    if ticker is not None:\n",
    "        idx = pd.IndexSlice\n",
    "        df = df.loc[idx[ticker, :], :]\n",
    "    j = sns.jointplot(x='predicted', y='actuals',\n",
    "                      robust=True, ci=None,\n",
    "                      line_kws={'lw': 1, 'color': 'k'},\n",
    "                      scatter_kws={'s': 1},\n",
    "                      data=df,\n",
    "                      kind='reg')\n",
    "    j.ax_joint.yaxis.set_major_formatter(\n",
    "        FuncFormatter(lambda y, _: '{:.1%}'.format(y)))\n",
    "    j.ax_joint.xaxis.set_major_formatter(\n",
    "        FuncFormatter(lambda x, _: '{:.1%}'.format(x)))\n",
    "    j.ax_joint.set_xlabel('Predicted')\n",
    "    j.ax_joint.set_ylabel('Actuals')"
   ]
  },
  {
   "cell_type": "markdown",
   "id": "08df4bd7-f36a-4ab8-8c11-6c93bd3d23ef",
   "metadata": {},
   "source": [
    "#### Daily IC Distribution"
   ]
  },
  {
   "cell_type": "code",
   "execution_count": 14,
   "id": "ebd3eb41-260b-4952-b7b5-838fcc419bfa",
   "metadata": {},
   "outputs": [],
   "source": [
    "def plot_ic_distribution(df, ax=None):\n",
    "    if ax is not None:\n",
    "        sns.distplot(df.ic, ax=ax)\n",
    "    else:\n",
    "        ax = sns.distplot(df.ic)\n",
    "    mean, median = df.ic.mean(), df.ic.median()\n",
    "    ax.axvline(0, lw=1, ls='--', c='k')\n",
    "    ax.text(x=.05, y=.9,\n",
    "            s=f'Mean: {mean:8.2f}\\nMedian: {median:5.2f}',\n",
    "            horizontalalignment='left',\n",
    "            verticalalignment='center',\n",
    "            transform=ax.transAxes)\n",
    "    ax.set_xlabel('Information Coefficient')\n",
    "    sns.despine()\n",
    "    plt.tight_layout()"
   ]
  },
  {
   "cell_type": "markdown",
   "id": "74f0e4f4-8406-4e9a-aebe-5d43f1861410",
   "metadata": {},
   "source": [
    "#### Rolling Daily IC"
   ]
  },
  {
   "cell_type": "code",
   "execution_count": 15,
   "id": "dd54e2b9-4ce2-4934-a5e4-1149dc1f8d9c",
   "metadata": {},
   "outputs": [],
   "source": [
    "def plot_rolling_ic(df):\n",
    "    fig, axes = plt.subplots(nrows=2, sharex=True, figsize=(14, 8))\n",
    "    rolling_result = df.sort_index().rolling(21).mean().dropna()\n",
    "    mean_ic = df.ic.mean()\n",
    "    rolling_result.ic.plot(ax=axes[0],\n",
    "                           title=f'Information Coefficient (Mean: {mean_ic:.2f})',\n",
    "                           lw=1)\n",
    "    axes[0].axhline(0, lw=.5, ls='-', color='k')\n",
    "    axes[0].axhline(mean_ic, lw=1, ls='--', color='k')\n",
    "\n",
    "    mean_rmse = df.rmse.mean()\n",
    "    rolling_result.rmse.plot(ax=axes[1],\n",
    "                             title=f'Root Mean Squared Error (Mean: {mean_rmse:.2%})',\n",
    "                             lw=1,\n",
    "                             ylim=(0, df.rmse.max()))\n",
    "    axes[1].axhline(df.rmse.mean(), lw=1, ls='--', color='k')\n",
    "    sns.despine()\n",
    "    plt.tight_layout()"
   ]
  },
  {
   "cell_type": "markdown",
   "id": "fab998a0-8a74-4d1d-b405-cbe5b4a2841b",
   "metadata": {},
   "source": [
    "### Linear Regression with sklearn\n",
    "\n",
    "### Setting Up Cross-Validation"
   ]
  },
  {
   "cell_type": "code",
   "execution_count": 16,
   "id": "8528753e-f2a0-442f-bb27-c7e3b01df85f",
   "metadata": {},
   "outputs": [],
   "source": [
    "train_period_length = 63\n",
    "\n",
    "test_period_length = 10\n",
    "\n",
    "n_splits = int(3 * YEAR / test_period_length)\n",
    "\n",
    "lookahead = 1\n",
    "\n",
    "cv = MultipleTimeSeriesCV(n_splits=n_splits,\n",
    "                          test_period_length=test_period_length,\n",
    "                          lookahead=lookahead,\n",
    "                          train_period_length=train_period_length)"
   ]
  },
  {
   "cell_type": "markdown",
   "id": "eb9109b0-529f-407b-854e-9c43f79385db",
   "metadata": {},
   "source": [
    "#### Running out Cross-Validation with `LinearRegression`"
   ]
  },
  {
   "cell_type": "code",
   "execution_count": 17,
   "id": "3f17e2e4-0c73-4ef4-a097-3edbcea85451",
   "metadata": {},
   "outputs": [],
   "source": [
    "%%time\n",
    "target = f'target_{lookahead}d'\n",
    "lr_predictions, lr_scores = [], []\n",
    "lr = LinearRegression()\n",
    "for i, (train_idx, test_idx) in enumerate(cv.split(X), 1):\n",
    "    X_train, y_train, = X.iloc[train_idx], y[target].iloc[train_idx]\n",
    "    X_test, y_test = X.iloc[test_idx], y[target].iloc[test_idx]\n",
    "    lr.fit(X=X_train, y=y_train)\n",
    "    y_pred = lr.predict(X_test)\n",
    "\n",
    "    preds = y_test.to_frame('actuals').assign(predicted=y_pred)\n",
    "    preds_by_day = preds.groupby(level='date')\n",
    "    scores = pd.concat([preds_by_day.apply(lambda x: spearmanr(x.predicted,\n",
    "                                                               x.actuals)[0] * 100)\n",
    "                        .to_frame('ic'),\n",
    "                        preds_by_day.apply(lambda x: np.sqrt(mean_squared_error(y_pred=x.predicted,\n",
    "                                                                                y_true=x.actuals)))\n",
    "                        .to_frame('rmse')], axis=1)\n",
    "\n",
    "    lr_scores.append(scores)\n",
    "    lr_predictions.append(preds)\n",
    "\n",
    "lr_scores = pd.concat(lr_scores)\n",
    "lr_predictions = pd.concat(lr_predictions)"
   ]
  },
  {
   "cell_type": "markdown",
   "id": "286c8e67-9744-4438-b54e-8c9ab5c2dc59",
   "metadata": {},
   "source": [
    "#### Persist Results"
   ]
  },
  {
   "cell_type": "code",
   "execution_count": 18,
   "id": "9e113c77-5b16-42d4-9158-9f4989230931",
   "metadata": {},
   "outputs": [],
   "source": [
    "lr_scores.to_hdf('data.h5', 'lr/scores')\n",
    "\n",
    "lr_predictions.to_hdf('data.h5', 'lr/predictions')"
   ]
  },
  {
   "cell_type": "code",
   "execution_count": 19,
   "id": "d6199917-8973-4a5c-84f1-544904ca5807",
   "metadata": {},
   "outputs": [],
   "source": [
    "lr_scores = pd.read_hdf('data.h5', 'lr/scores')\n",
    "\n",
    "lr_predictions = pd.read_hdf('data.h5', 'lr/predictions')"
   ]
  },
  {
   "cell_type": "markdown",
   "id": "3be2682d-d467-4431-95b8-5bbc3c334491",
   "metadata": {},
   "source": [
    "### Outcome Evaluation"
   ]
  },
  {
   "cell_type": "code",
   "execution_count": 20,
   "id": "312dada2-2b29-41c3-b7d3-a6ef6e667305",
   "metadata": {},
   "outputs": [],
   "source": [
    "lr_r, lr_p = spearmanr(lr_predictions.actuals, lr_predictions.predicted)\n",
    "\n",
    "print(f'Information Coefficient (overall): {lr_r:.3%} (p-value: {lr_p:.4%})')"
   ]
  },
  {
   "cell_type": "markdown",
   "id": "7b750b53-7b65-4459-bac3-30756b964464",
   "metadata": {},
   "source": [
    "#### Prediction vs Actuals Scatter"
   ]
  },
  {
   "cell_type": "code",
   "execution_count": 21,
   "id": "b16b6082-8ca7-421d-9417-396e587425b7",
   "metadata": {},
   "outputs": [],
   "source": [
    "plot_preds_scatter(lr_predictions)"
   ]
  },
  {
   "cell_type": "markdown",
   "id": "5327f0ac-6682-4177-90a8-fbabc143d0a4",
   "metadata": {},
   "source": [
    "#### Daily IC Distribution"
   ]
  },
  {
   "cell_type": "code",
   "execution_count": 22,
   "id": "38be0d6a-1bce-4255-99d5-14f62967f341",
   "metadata": {},
   "outputs": [],
   "source": [
    "plot_ic_distribution(lr_scores)"
   ]
  },
  {
   "cell_type": "markdown",
   "id": "eaa522bc-9822-43e0-8ec8-ae33296de367",
   "metadata": {},
   "source": [
    "#### Rolling Daily IC"
   ]
  },
  {
   "cell_type": "code",
   "execution_count": 23,
   "id": "75b99e82-eb58-450c-bf88-74edd4d31faf",
   "metadata": {},
   "outputs": [],
   "source": [
    "plot_rolling_ic(lr_scores)"
   ]
  },
  {
   "cell_type": "markdown",
   "id": "27c02850-5905-4f0a-9499-3f91894f79f1",
   "metadata": {},
   "source": [
    "### Ridge Regression\n",
    "\n",
    "#### Placing Cross-Validation Parameters"
   ]
  },
  {
   "cell_type": "code",
   "execution_count": 47,
   "id": "6225b09e-21f7-4e09-b183-b5bbef5b92d8",
   "metadata": {},
   "outputs": [],
   "source": [
    "ridge_alphas = np.logspace(-4, 4, 9)\n",
    "\n",
    "ridge_alphas = sorted(list(ridge_alphas) + list(ridge_alphas * 5))"
   ]
  },
  {
   "cell_type": "code",
   "execution_count": 48,
   "id": "1029a67b-56a8-41f5-bef8-f6efbb3235d8",
   "metadata": {},
   "outputs": [],
   "source": [
    "n_splits = int(3 * YEAR/test_period_length)\n",
    "train_period_length = 63\n",
    "test_period_length = 10\n",
    "lookahead = 1\n",
    "\n",
    "cv = MultipleTimeSeriesCV(n_splits=n_splits,\n",
    "                          test_period_length=test_period_length,\n",
    "                          lookahead=lookahead,\n",
    "                          train_period_length=train_period_length)"
   ]
  },
  {
   "cell_type": "markdown",
   "id": "da0b3a36-aa37-493e-b822-977f11f1350e",
   "metadata": {},
   "source": [
    "### Running out Cross-Validation"
   ]
  },
  {
   "cell_type": "code",
   "execution_count": 24,
   "id": "ca2addfa-2739-4c11-90d4-850a238803ce",
   "metadata": {},
   "outputs": [],
   "source": [
    "target = f'target_{lookahead}d'\n",
    "\n",
    "X = X.drop([c for c in X.columns if 'year' in c], axis=1)"
   ]
  },
  {
   "cell_type": "code",
   "execution_count": 25,
   "id": "95f14981-34c3-49aa-b4bb-b0acaac9b0cf",
   "metadata": {},
   "outputs": [],
   "source": [
    "%%time\n",
    "ridge_coeffs, ridge_scores, ridge_predictions = {}, [], []\n",
    "\n",
    "for alpha in ridge_alphas:\n",
    "    print(alpha, end=' ', flush=True)\n",
    "    start = time()\n",
    "    model = Ridge(alpha=alpha,\n",
    "                  fit_intercept=False,\n",
    "                  random_state=42)\n",
    "\n",
    "    pipe = Pipeline([\n",
    "        ('scaler', StandardScaler()),\n",
    "        ('model', model)])\n",
    "\n",
    "    coeffs = []\n",
    "    for i, (train_idx, test_idx) in enumerate(cv.split(X), 1):\n",
    "        X_train, y_train, = X.iloc[train_idx], y[target].iloc[train_idx]\n",
    "        X_test, y_test = X.iloc[test_idx], y[target].iloc[test_idx]\n",
    "\n",
    "        pipe.fit(X=X_train, y=y_train)\n",
    "        y_pred = pipe.predict(X_test)\n",
    "\n",
    "        preds = y_test.to_frame('actuals').assign(predicted=y_pred)\n",
    "        preds_by_day = preds.groupby(level='date')\n",
    "        scores = pd.concat([preds_by_day.apply(lambda x: spearmanr(x.predicted,\n",
    "                                                                   x.actuals)[0] * 100)\n",
    "                            .to_frame('ic'),\n",
    "                            preds_by_day.apply(lambda x: np.sqrt(mean_squared_error(y_pred=x.predicted,\n",
    "                                                                                    y_true=x.actuals)))\n",
    "                            .to_frame('rmse')], axis=1)\n",
    "\n",
    "        ridge_scores.append(scores.assign(alpha=alpha))\n",
    "        ridge_predictions.append(preds.assign(alpha=alpha))\n",
    "\n",
    "        coeffs.append(pipe.named_steps['model'].coef_)\n",
    "    ridge_coeffs[alpha] = np.mean(coeffs, axis=0)\n",
    "\n",
    "print('\\n')"
   ]
  },
  {
   "cell_type": "markdown",
   "id": "9ecab26a-9a43-4733-8e4d-28e6215c5467",
   "metadata": {},
   "source": [
    "#### Persisting Results"
   ]
  },
  {
   "cell_type": "code",
   "execution_count": 26,
   "id": "fc8ccacd-11e4-4a56-b6cf-cbb31514c77c",
   "metadata": {},
   "outputs": [],
   "source": [
    "ridge_scores = pd.concat(ridge_scores)\n",
    "ridge_scores.to_hdf('data.h5', 'ridge/scores')\n",
    "\n",
    "ridge_coeffs = pd.DataFrame(ridge_coeffs, index=X.columns).T\n",
    "ridge_coeffs.to_hdf('data.h5', 'ridge/coeffs')\n",
    "\n",
    "ridge_predictions = pd.concat(ridge_predictions)\n",
    "ridge_predictions.to_hdf('data.h5', 'ridge/predictions')"
   ]
  },
  {
   "cell_type": "code",
   "execution_count": 27,
   "id": "73c17b7e-a4f6-4a2b-99d7-6ee771af788f",
   "metadata": {},
   "outputs": [],
   "source": [
    "ridge_scores = pd.read_hdf('data.h5', 'ridge/scores')\n",
    "ridge_coeffs = pd.read_hdf('data.h5', 'ridge/coeffs')\n",
    "ridge_predictions = pd.read_hdf('data.h5', 'ridge/predictions')"
   ]
  },
  {
   "cell_type": "markdown",
   "id": "da0cbd8c-a788-4181-8005-5abead3e7fed",
   "metadata": {},
   "source": [
    "### Evaluate Ridge Results"
   ]
  },
  {
   "cell_type": "code",
   "execution_count": 28,
   "id": "5f2bc8fd-82bb-4fae-af30-c6f46e6da59e",
   "metadata": {},
   "outputs": [],
   "source": [
    "ridge_r, ridge_p = spearmanr(ridge_predictions.actuals, ridge_predictions.predicted)\n",
    "\n",
    "print(f'Information Coefficient (overall): {ridge_r:.3%} (p-value: {ridge_p:.4%})')"
   ]
  },
  {
   "cell_type": "code",
   "execution_count": 29,
   "id": "cee592ad-cb5f-49d8-9f9f-61f5cdaffb33",
   "metadata": {},
   "outputs": [],
   "source": [
    "ridge_scores.groupby('alpha').ic.describe()"
   ]
  },
  {
   "cell_type": "code",
   "execution_count": 30,
   "id": "d46ea8f0-a16a-40ff-8fe9-633ae2741dd6",
   "metadata": {},
   "outputs": [],
   "source": [
    "fig, axes = plt.subplots(ncols=2, sharex=True, figsize=(15, 5))\n",
    "\n",
    "scores_by_alpha = ridge_scores.groupby('alpha').ic.agg(['mean', 'median'])\n",
    "best_alpha_mean = scores_by_alpha['mean'].idxmax()\n",
    "best_alpha_median = scores_by_alpha['median'].idxmax()\n",
    "\n",
    "ax = sns.lineplot(x='alpha',\n",
    "                  y='ic',\n",
    "                  data=ridge_scores,\n",
    "                  estimator=np.mean,\n",
    "                  label='Mean',\n",
    "                  ax=axes[0])\n",
    "\n",
    "scores_by_alpha['median'].plot(logx=True,\n",
    "                               ax=axes[0],\n",
    "                               label='Median')\n",
    "\n",
    "axes[0].axvline(best_alpha_mean,\n",
    "                ls='--',\n",
    "                c='k',\n",
    "                lw=1,\n",
    "                label='Max. Mean')\n",
    "axes[0].axvline(best_alpha_median,\n",
    "                ls='-.',\n",
    "                c='k',\n",
    "                lw=1,\n",
    "                label='Max. Median')\n",
    "axes[0].legend()\n",
    "axes[0].set_xscale('log')\n",
    "axes[0].set_xlabel('Alpha')\n",
    "axes[0].set_ylabel('Information Coefficient')\n",
    "axes[0].set_title('Cross Validation Performance')\n",
    "\n",
    "ridge_coeffs.plot(logx=True,\n",
    "                  legend=False,\n",
    "                  ax=axes[1],\n",
    "                  title='Ridge Coefficient Path')\n",
    "\n",
    "axes[1].axvline(best_alpha_mean,\n",
    "                ls='--',\n",
    "                c='k',\n",
    "                lw=1,\n",
    "                label='Max. Mean')\n",
    "axes[1].axvline(best_alpha_median,\n",
    "                ls='-.',\n",
    "                c='k',\n",
    "                lw=1,\n",
    "                label='Max. Median')\n",
    "axes[1].set_xlabel('Alpha')\n",
    "axes[1].set_ylabel('Coefficient Value')\n",
    "\n",
    "fig.suptitle('Ridge Results', fontsize=14)\n",
    "sns.despine()\n",
    "fig.tight_layout()\n",
    "fig.subplots_adjust(top=.9)\n",
    "plt.show()"
   ]
  },
  {
   "cell_type": "code",
   "execution_count": 31,
   "id": "d4f34384-5cb8-4559-83f2-db4dab02070c",
   "metadata": {},
   "outputs": [],
   "source": [
    "best_alpha = ridge_scores.groupby('alpha').ic.mean().idxmax()\n",
    "fig, axes = plt.subplots(ncols=2, figsize=(15, 5))\n",
    "plot_ic_distribution(ridge_scores[ridge_scores.alpha == best_alpha],\n",
    "                     ax=axes[0])\n",
    "axes[0].set_title('Daily Information Coefficients')\n",
    "top_coeffs = ridge_coeffs.loc[best_alpha].abs().sort_values().head(10).index\n",
    "top_coeffs.tolist()\n",
    "ridge_coeffs.loc[best_alpha, top_coeffs].sort_values().plot.barh(ax=axes[1],\n",
    "                                                                 title='Top 10 Coefficients')\n",
    "sns.despine()\n",
    "fig.tight_layout()\n",
    "plt.show()"
   ]
  },
  {
   "cell_type": "code",
   "execution_count": 32,
   "id": "c0f26e9d-16d6-4181-8955-af197d1506f6",
   "metadata": {},
   "outputs": [],
   "source": [
    "plot_rolling_ic(ridge_scores[ridge_scores.alpha==best_alpha])"
   ]
  },
  {
   "cell_type": "markdown",
   "id": "e9364dae-9394-4fd2-b04a-7fdaa9cddb56",
   "metadata": {},
   "source": [
    "### Lasso CV\n",
    "\n",
    "#### Define Cross-Validation Parameters"
   ]
  },
  {
   "cell_type": "code",
   "execution_count": 33,
   "id": "7a64d31b-d7c9-483b-99a3-a675f92477ec",
   "metadata": {},
   "outputs": [],
   "source": [
    "lasso_alphas = np.logspace(-10, -3, 8)"
   ]
  },
  {
   "cell_type": "code",
   "execution_count": 34,
   "id": "f78f1348-983b-4aeb-a7da-6b5c1fbe2bab",
   "metadata": {},
   "outputs": [],
   "source": [
    "train_period_length = 63\n",
    "test_period_length = 10\n",
    "YEAR = 252\n",
    "n_splits = int(3 * YEAR / test_period_length) # three years\n",
    "lookahead = 1"
   ]
  },
  {
   "cell_type": "code",
   "execution_count": 35,
   "id": "92f2bd68-4a8d-411a-998f-90f7fb90cc55",
   "metadata": {},
   "outputs": [],
   "source": [
    "cv = MultipleTimeSeriesCV(n_splits=n_splits,\n",
    "                          test_period_length=test_period_length,\n",
    "                          lookahead=lookahead,\n",
    "                          train_period_length=train_period_length)"
   ]
  },
  {
   "cell_type": "markdown",
   "id": "88c883bb-5146-4646-906d-167143b418e2",
   "metadata": {},
   "source": [
    "#### Running out Cross-Validation with Lasso Regression"
   ]
  },
  {
   "cell_type": "code",
   "execution_count": 36,
   "id": "8ad12dd7-1534-4410-b060-5f439570f540",
   "metadata": {},
   "outputs": [],
   "source": [
    "target = f'target_{lookahead}d'\n",
    "\n",
    "scaler = StandardScaler()\n",
    "X = X.drop([c for c in X.columns if 'year' in c], axis=1)"
   ]
  },
  {
   "cell_type": "code",
   "execution_count": 37,
   "id": "f51b2845-0bc8-46c8-8e4e-cd2c72880d7c",
   "metadata": {},
   "outputs": [],
   "source": [
    "%%time\n",
    "\n",
    "lasso_coeffs, lasso_scores, lasso_predictions = {}, [], []\n",
    "for alpha in lasso_alphas:\n",
    "    print(alpha, end=' ', flush=True)\n",
    "    model = Lasso(alpha=alpha,\n",
    "                  fit_intercept=False,  # StandardScaler centers data\n",
    "                  random_state=42,\n",
    "                  tol=1e-3,\n",
    "                  max_iter=1000,\n",
    "                  warm_start=True,\n",
    "                  selection='random')\n",
    "\n",
    "    pipe = Pipeline([\n",
    "        ('scaler', StandardScaler()),\n",
    "        ('model', model)])\n",
    "    coeffs = []\n",
    "    for i, (train_idx, test_idx) in enumerate(cv.split(X), 1):\n",
    "        t = time()\n",
    "        X_train, y_train, = X.iloc[train_idx], y[target].iloc[train_idx]\n",
    "        X_test, y_test = X.iloc[test_idx], y[target].iloc[test_idx]\n",
    "\n",
    "        pipe.fit(X=X_train, y=y_train)\n",
    "        y_pred = pipe.predict(X_test)\n",
    "\n",
    "        preds = y_test.to_frame('actuals').assign(predicted=y_pred)\n",
    "        preds_by_day = preds.groupby(level='date')\n",
    "        scores = pd.concat([preds_by_day.apply(lambda x: spearmanr(x.predicted,\n",
    "                                                                   x.actuals)[0] * 100)\n",
    "                            .to_frame('ic'),\n",
    "                            preds_by_day.apply(lambda x: np.sqrt(mean_squared_error(y_pred=x.predicted,\n",
    "                                                                                    y_true=x.actuals)))\n",
    "                            .to_frame('rmse')],\n",
    "                           axis=1)\n",
    "\n",
    "        lasso_scores.append(scores.assign(alpha=alpha))\n",
    "        lasso_predictions.append(preds.assign(alpha=alpha))\n",
    "\n",
    "        coeffs.append(pipe.named_steps['model'].coef_)\n",
    "\n",
    "    lasso_coeffs[alpha] = np.mean(coeffs, axis=0)"
   ]
  },
  {
   "cell_type": "markdown",
   "id": "19cf1595-afb2-4eb3-9d15-0ddca84ffd4e",
   "metadata": {},
   "source": [
    "#### Persisting Results"
   ]
  },
  {
   "cell_type": "code",
   "execution_count": 38,
   "id": "49014192-4670-4ed2-9a89-4c0e795a1980",
   "metadata": {},
   "outputs": [],
   "source": [
    "lasso_scores = pd.concat(lasso_scores)\n",
    "lasso_scores.to_hdf('data.h5', 'lasso/scores')\n",
    "\n",
    "lasso_coeffs = pd.DataFrame(lasso_coeffs, index=X.columns).T\n",
    "lasso_coeffs.to_hdf('data.h5', 'lasso/coeffs')\n",
    "\n",
    "lasso_predictions = pd.concat(lasso_predictions)\n",
    "lasso_predictions.to_hdf('data.h5', 'lasso/predictions')"
   ]
  },
  {
   "cell_type": "markdown",
   "id": "e525684c-c400-48dc-8cb2-bba9451ff9fa",
   "metadata": {},
   "source": [
    "#### Lasso Results Evaluation"
   ]
  },
  {
   "cell_type": "code",
   "execution_count": 39,
   "id": "345f391a-221b-450b-88c0-b4b6180d8f46",
   "metadata": {},
   "outputs": [],
   "source": [
    "best_alpha = lasso_scores.groupby('alpha').ic.mean().idxmax()\n",
    "preds = lasso_predictions[lasso_predictions.alpha==best_alpha]\n",
    "\n",
    "lasso_r, lasso_p = spearmanr(preds.actuals, preds.predicted)\n",
    "print(f'Information Coefficient (overall): {lasso_r:.3%} (p-value: {lasso_p:.4%})')"
   ]
  },
  {
   "cell_type": "code",
   "execution_count": 40,
   "id": "d6699bb4-8ea4-48ff-917d-2fe3e634e32c",
   "metadata": {},
   "outputs": [],
   "source": [
    "lasso_scores.groupby('alpha').ic.agg(['mean', 'median'])"
   ]
  },
  {
   "cell_type": "markdown",
   "id": "2181f528-dbe4-48d8-bab7-ac8e36089860",
   "metadata": {},
   "source": [
    "#### Lasso Coefficient Path"
   ]
  },
  {
   "cell_type": "code",
   "execution_count": 41,
   "id": "17a8fb28-5bbe-4618-8265-eb4be1140fbd",
   "metadata": {},
   "outputs": [],
   "source": [
    "fig, axes = plt.subplots(ncols=2, sharex=True, figsize=(15, 5))\n",
    "\n",
    "scores_by_alpha = lasso_scores.groupby('alpha').ic.agg(['mean', 'median'])\n",
    "best_alpha_mean = scores_by_alpha['mean'].idxmax()\n",
    "best_alpha_median = scores_by_alpha['median'].idxmax()\n",
    "\n",
    "ax = sns.lineplot(x='alpha', y='ic', data=lasso_scores, estimator=np.mean, label='Mean', ax=axes[0])\n",
    "\n",
    "scores_by_alpha['median'].plot(logx=True, ax=axes[0], label='Median')\n",
    "\n",
    "axes[0].axvline(best_alpha_mean, ls='--', c='k', lw=1, label='Max. Mean')\n",
    "axes[0].axvline(best_alpha_median, ls='-.', c='k', lw=1, label='Max. Median')\n",
    "axes[0].legend()\n",
    "axes[0].set_xscale('log')\n",
    "axes[0].set_xlabel('Alpha')\n",
    "axes[0].set_ylabel('Information Coefficient')\n",
    "axes[0].set_title('Cross Validation Performance')\n",
    "\n",
    "lasso_coeffs.plot(logx=True, legend=False, ax=axes[1], title='Lasso Coefficient Path')\n",
    "axes[1].axvline(best_alpha_mean, ls='--', c='k', lw=1, label='Max. Mean')\n",
    "axes[1].axvline(best_alpha_median, ls='-.', c='k', lw=1, label='Max. Median')\n",
    "axes[1].set_xlabel('Alpha')\n",
    "axes[1].set_ylabel('Coefficient Value')\n",
    "\n",
    "fig.suptitle('Lasso Results', fontsize=14)\n",
    "fig.tight_layout()\n",
    "fig.subplots_adjust(top=.9)\n",
    "sns.despine();\n",
    "plt.show()"
   ]
  },
  {
   "cell_type": "markdown",
   "id": "92e17d3b-0913-438c-b16f-54ebc0f01b47",
   "metadata": {},
   "source": [
    "#### Lasso IC Distribution & Top 10 Features"
   ]
  },
  {
   "cell_type": "code",
   "execution_count": 42,
   "id": "2da26dfa-8a09-490f-a70b-9440361d3c6e",
   "metadata": {},
   "outputs": [],
   "source": [
    "best_alpha = lasso_scores.groupby('alpha').ic.mean().idxmax()\n",
    "\n",
    "fig, axes = plt.subplots(ncols=2, figsize=(15, 5))\n",
    "plot_ic_distribution(lasso_scores[lasso_scores.alpha==best_alpha], ax=axes[0])\n",
    "axes[0].set_title('Daily Information Coefficients')\n",
    "\n",
    "top_coeffs = lasso_coeffs.loc[best_alpha].abs().sort_values().head(10).index\n",
    "top_coeffs.tolist()\n",
    "lasso_coeffs.loc[best_alpha, top_coeffs].sort_values().plot.barh(ax=axes[1], title='Top 10 Coefficients')\n",
    "\n",
    "sns.despine()\n",
    "fig.tight_layout();\n",
    "plt.show()"
   ]
  },
  {
   "cell_type": "markdown",
   "id": "270282e2-6a8c-47bc-9ecc-d04d5a613830",
   "metadata": {},
   "source": [
    "### Outcome's Comparison"
   ]
  },
  {
   "cell_type": "code",
   "execution_count": 43,
   "id": "d153bcd9-46fb-4fcf-b9bf-39cba7ecb573",
   "metadata": {},
   "outputs": [],
   "source": [
    "best_ridge_alpha = ridge_scores.groupby('alpha').ic.mean().idxmax()\n",
    "best_ridge_preds = ridge_predictions[ridge_predictions.alpha==best_ridge_alpha]\n",
    "best_ridge_scores = ridge_scores[ridge_scores.alpha==best_ridge_alpha]"
   ]
  },
  {
   "cell_type": "code",
   "execution_count": 44,
   "id": "e73891bb-a7db-45ce-81de-5508876e88f0",
   "metadata": {},
   "outputs": [],
   "source": [
    "best_lasso_alpha = lasso_scores.groupby('alpha').ic.mean().idxmax()\n",
    "best_lasso_preds = lasso_predictions[lasso_predictions.alpha==best_lasso_alpha]\n",
    "best_lasso_scores = lasso_scores[lasso_scores.alpha==best_lasso_alpha]"
   ]
  },
  {
   "cell_type": "code",
   "execution_count": 45,
   "id": "c1941b22-ad67-4cc3-b464-ae72a2333dd6",
   "metadata": {},
   "outputs": [],
   "source": [
    "df = pd.concat([lr_scores.assign(Model='Linear Regression'),\n",
    "               best_ridge_scores.assign(Model='Ridge Regression'),\n",
    "               best_lasso_scores.assign(Model='Lasso Regression')]).drop('alpha', axis=1)\n",
    "\n",
    "df.columns = ['IC', 'RMSE', 'Model']"
   ]
  },
  {
   "cell_type": "code",
   "execution_count": 46,
   "id": "ce788068-4d09-4552-8e51-2d68b9c47e8c",
   "metadata": {},
   "outputs": [],
   "source": [
    "scores = df.groupby('Model').IC.agg(['mean', 'median'])\n",
    "fig, axes = plt.subplots(ncols=2, figsize=(14,4), sharey=True, sharex=True)\n",
    "\n",
    "scores['mean'].plot.barh(ax=axes[0], xlim=(1.85, 2), title='Mean')\n",
    "scores['median'].plot.barh(ax=axes[1], xlim=(1.8, 2.1), title='Median')\n",
    "axes[0].set_xlabel('Daily IC')\n",
    "axes[1].set_xlabel('Daily IC')\n",
    "\n",
    "fig.suptitle('Daily Information Coefficient by Model', fontsize=14)\n",
    "sns.despine()\n",
    "fig.tight_layout()\n",
    "fig.subplots_adjust(top=.9)\n",
    "plt.show()"
   ]
  },
  {
   "cell_type": "code",
   "execution_count": null,
   "id": "08c4e9dd-39f3-4e2a-96a8-4a95adb94c72",
   "metadata": {},
   "outputs": [],
   "source": []
  },
  {
   "cell_type": "code",
   "execution_count": null,
   "id": "7183c1fd-49fe-4825-bc21-361d3e40b11a",
   "metadata": {},
   "outputs": [],
   "source": []
  }
 ],
 "metadata": {
  "kernelspec": {
   "display_name": "Python 3 (ipykernel)",
   "language": "python",
   "name": "python3"
  },
  "language_info": {
   "codemirror_mode": {
    "name": "ipython",
    "version": 3
   },
   "file_extension": ".py",
   "mimetype": "text/x-python",
   "name": "python",
   "nbconvert_exporter": "python",
   "pygments_lexer": "ipython3",
   "version": "3.12.9"
  }
 },
 "nbformat": 4,
 "nbformat_minor": 5
}
