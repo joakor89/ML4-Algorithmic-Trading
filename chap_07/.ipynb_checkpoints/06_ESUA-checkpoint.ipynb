{
 "cells": [
  {
   "cell_type": "markdown",
   "id": "26d4104b-f82c-4821-80f8-af3a2dbc8061",
   "metadata": {},
   "source": [
    "# Alphalens Analysis\n",
    "\n",
    "### Loading Libraries"
   ]
  },
  {
   "cell_type": "code",
   "execution_count": 2,
   "id": "b646bf37-451a-490b-a633-726bb1b852d3",
   "metadata": {},
   "outputs": [],
   "source": [
    "# Numerical Computing\n",
    "import numpy as np\n",
    "\n",
    "# Data Manipulation\n",
    "import pandas as pd\n",
    "\n",
    "# Path\n",
    "from pathlib import Path\n",
    "\n",
    "# Alphalens\n",
    "from alphalens.tears import create_summary_tear_sheet\n",
    "from alphalens.utils import get_clean_factor_and_forward_returns\n",
    "\n",
    "# Warnings\n",
    "import warnings"
   ]
  },
  {
   "cell_type": "markdown",
   "id": "9f8da41e-255d-41af-99f6-1b9b1ceb425d",
   "metadata": {},
   "source": [
    "### Loading Data"
   ]
  },
  {
   "cell_type": "code",
   "execution_count": 3,
   "id": "82fdd86c-e306-4a95-a1ff-f806c750f14d",
   "metadata": {},
   "outputs": [],
   "source": [
    "with pd.HDFStore('data.h5') as store:\n",
    "    lr_predictions = store['lr/predictions']\n",
    "    lasso_predictions = store['lasso/predictions']\n",
    "    lasso_scores = store['lasso/scores']\n",
    "    ridge_predictions = store['ridge/predictions']\n",
    "    ridge_scores = store['ridge/scores']"
   ]
  },
  {
   "cell_type": "code",
   "execution_count": 4,
   "id": "c787320e-082c-4b33-a8eb-cb277e95c9e3",
   "metadata": {},
   "outputs": [],
   "source": [
    "DATA_STORE = Path('..', 'data', 'assets.h5')"
   ]
  },
  {
   "cell_type": "code",
   "execution_count": 8,
   "id": "aef4809c-5b40-4b49-874d-a587ac31abcb",
   "metadata": {},
   "outputs": [],
   "source": [
    "def get_factor(predictions):\n",
    "    return (predictions.unstack('symbol')\n",
    "            .dropna(how='all')\n",
    "            .stack()\n",
    "            .tz_localize('UTC', level='date')\n",
    "            .sort_index())    "
   ]
  },
  {
   "cell_type": "code",
   "execution_count": 9,
   "id": "927c7812-8cdc-4cff-93e1-1c5c0237e3f2",
   "metadata": {},
   "outputs": [],
   "source": [
    "def get_best_alpha(scores):\n",
    "    return scores.groupby('alpha').ic.mean().idxmax()"
   ]
  },
  {
   "cell_type": "code",
   "execution_count": 10,
   "id": "72006eb5-659b-4146-a634-1c4c0f445cf3",
   "metadata": {},
   "outputs": [],
   "source": [
    "def get_factor(predictions):\n",
    "    return (predictions.unstack('symbol')\n",
    "            .dropna(how='all')\n",
    "            .stack()\n",
    "            .tz_localize('UTC', level='date')\n",
    "            .sort_index())    "
   ]
  },
  {
   "cell_type": "markdown",
   "id": "d9b0f8d4-097e-4fd7-acf2-2cbea401b7ff",
   "metadata": {},
   "source": [
    "### Linear Regression"
   ]
  },
  {
   "cell_type": "code",
   "execution_count": 11,
   "id": "28124138-9225-404b-8f27-6bfa83a1c341",
   "metadata": {},
   "outputs": [],
   "source": [
    "lr_factor = get_factor(lr_predictions.predicted.swaplevel())\n",
    "\n",
    "lr_factor.head()"
   ]
  },
  {
   "cell_type": "code",
   "execution_count": 12,
   "id": "b76673be-a652-4bef-a163-c4d578d1a7d5",
   "metadata": {},
   "outputs": [],
   "source": [
    "tickers = lr_factor.index.get_level_values('symbol').unique()"
   ]
  },
  {
   "cell_type": "code",
   "execution_count": 13,
   "id": "2bd632fe-e07b-4f27-8431-cb2ac2472e75",
   "metadata": {},
   "outputs": [],
   "source": [
    "trade_prices = get_trade_prices(tickers, 2014, 2017)\n",
    "\n",
    "trade_prices.info()"
   ]
  },
  {
   "cell_type": "code",
   "execution_count": 14,
   "id": "a56b3ef4-8060-415f-99b2-6d0df846d18f",
   "metadata": {},
   "outputs": [],
   "source": [
    "lr_factor_data = get_clean_factor_and_forward_returns(factor=lr_factor,\n",
    "                                                      prices=trade_prices,\n",
    "                                                      quantiles=5,\n",
    "                                                      periods=(1, 5, 10, 21))\n",
    "\n",
    "lr_factor_data.info()"
   ]
  },
  {
   "cell_type": "code",
   "execution_count": 15,
   "id": "777a214d-d13b-44fd-9d8a-7c61418e6e1e",
   "metadata": {},
   "outputs": [],
   "source": [
    "create_summary_tear_sheet(lr_factor_data);"
   ]
  },
  {
   "cell_type": "markdown",
   "id": "8e4718d4-749f-4586-96ad-db57ac13f852",
   "metadata": {},
   "source": [
    "### Ridge Regression"
   ]
  },
  {
   "cell_type": "code",
   "execution_count": 16,
   "id": "6852b079-219e-478a-8d61-df1c61578089",
   "metadata": {},
   "outputs": [],
   "source": [
    "best_ridge_alpha = get_best_alpha(ridge_scores)\n",
    "\n",
    "ridge_predictions = ridge_predictions[ridge_predictions.alpha==best_ridge_alpha].drop('alpha', axis=1)"
   ]
  },
  {
   "cell_type": "code",
   "execution_count": 17,
   "id": "2591716a-fb4a-49b2-98c1-54a3cc08bffd",
   "metadata": {},
   "outputs": [],
   "source": [
    "ridge_factor = get_factor(ridge_predictions.predicted.swaplevel())\n",
    "\n",
    "ridge_factor.head()"
   ]
  },
  {
   "cell_type": "code",
   "execution_count": 18,
   "id": "a7c9dc18-89fa-415a-9373-502d9f798250",
   "metadata": {},
   "outputs": [],
   "source": [
    "ridge_factor_data = get_clean_factor_and_forward_returns(factor=ridge_factor,\n",
    "                                                         prices=trade_prices,\n",
    "                                                         quantiles=5,\n",
    "                                                         periods=(1, 5, 10, 21))\n",
    "\n",
    "ridge_factor_data.info()"
   ]
  },
  {
   "cell_type": "code",
   "execution_count": 19,
   "id": "b026c5a2-2629-4f12-aa8a-690dec734130",
   "metadata": {},
   "outputs": [],
   "source": [
    "create_summary_tear_sheet(ridge_factor_data);"
   ]
  },
  {
   "cell_type": "markdown",
   "id": "88392794-ab12-4413-b6fe-9af0865c85d6",
   "metadata": {},
   "source": [
    "### Lasso Regression"
   ]
  },
  {
   "cell_type": "code",
   "execution_count": 20,
   "id": "74d8fdd9-b7d1-46bf-83be-49ea72545926",
   "metadata": {},
   "outputs": [],
   "source": [
    "best_lasso_alpha = get_best_alpha(lasso_scores)\n",
    "\n",
    "lasso_predictions = lasso_predictions[lasso_predictions.alpha==best_lasso_alpha].drop('alpha', axis=1)"
   ]
  },
  {
   "cell_type": "code",
   "execution_count": 21,
   "id": "ee579e60-afcd-46ce-8189-f2b1e1cc2fa8",
   "metadata": {},
   "outputs": [],
   "source": [
    "lasso_factor = get_factor(lasso_predictions.predicted.swaplevel())\n",
    "\n",
    "lasso_factor.head()"
   ]
  },
  {
   "cell_type": "code",
   "execution_count": 22,
   "id": "f3144eb4-2f97-4261-b61d-b840d0742b8e",
   "metadata": {},
   "outputs": [],
   "source": [
    "lasso_factor_data = get_clean_factor_and_forward_returns(factor=lasso_factor,\n",
    "                                                      prices=trade_prices,\n",
    "                                                      quantiles=5,\n",
    "                                                      periods=(1, 5, 10, 21))\n",
    "\n",
    "lasso_factor_data.info()"
   ]
  },
  {
   "cell_type": "code",
   "execution_count": 23,
   "id": "48c47aed-2eb1-4b6f-ae85-a9d19604b70a",
   "metadata": {},
   "outputs": [],
   "source": [
    "create_summary_tear_sheet(lasso_factor_data);"
   ]
  }
 ],
 "metadata": {
  "kernelspec": {
   "display_name": "Python 3 (ipykernel)",
   "language": "python",
   "name": "python3"
  },
  "language_info": {
   "codemirror_mode": {
    "name": "ipython",
    "version": 3
   },
   "file_extension": ".py",
   "mimetype": "text/x-python",
   "name": "python",
   "nbconvert_exporter": "python",
   "pygments_lexer": "ipython3",
   "version": "3.12.9"
  }
 },
 "nbformat": 4,
 "nbformat_minor": 5
}
