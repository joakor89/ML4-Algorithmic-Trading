{
 "cells": [
  {
   "cell_type": "markdown",
   "id": "05297d69-44f9-4c30-925f-5a38310ac5b8",
   "metadata": {},
   "source": [
    "# Statistical Inference of Stock Returns with Linear Regression\n",
    "\n",
    "### Loading Libraries"
   ]
  },
  {
   "cell_type": "code",
   "execution_count": 2,
   "id": "b4f86420-effd-4087-b8bf-d9f0f6e8c150",
   "metadata": {},
   "outputs": [],
   "source": [
    "# Numerical Computing\n",
    "import numpy as np\n",
    "\n",
    "# Data Manipulation\n",
    "import pandas as pd\n",
    "\n",
    "# Data Visualization\n",
    "import seaborn as sns\n",
    "import matplotlib.pyplot as plt\n",
    "\n",
    "# SciPy\n",
    "from scipy.stats import norm, pearsonr, spearmanr\n",
    "\n",
    "# StatsModels\n",
    "from statsmodels.graphics.tsaplots import plot_acf\n",
    "from statsmodels.api import OLS, add_constant, graphics\n",
    "\n",
    "# Warnings\n",
    "import warnings"
   ]
  },
  {
   "cell_type": "code",
   "execution_count": 3,
   "id": "7abf3a48-a9a9-4f82-b750-f2b4ba482469",
   "metadata": {},
   "outputs": [],
   "source": [
    "idx = pd.IndexSlice\n",
    "\n",
    "sns.set_style('whitegrid')\n",
    "\n",
    "warnings.filterwarnings('ignore')"
   ]
  },
  {
   "cell_type": "markdown",
   "id": "8a32b121-6ea5-4133-bde5-a043058290e3",
   "metadata": {},
   "source": [
    "### Loading Data"
   ]
  },
  {
   "cell_type": "code",
   "execution_count": 10,
   "id": "5a0bc0c8-2a45-4fc5-90c2-986e1e2742db",
   "metadata": {},
   "outputs": [],
   "source": [
    "with pd.HDFStore('data.h5') as store:\n",
    "    data = (store['model_data']\n",
    "            .dropna()\n",
    "            .drop(['open', 'close', 'low', 'high'], axis=1))"
   ]
  },
  {
   "cell_type": "markdown",
   "id": "30d07057-56e6-493e-9fc2-38e51dd807c1",
   "metadata": {},
   "source": [
    "#### Select Investment Universe"
   ]
  },
  {
   "cell_type": "code",
   "execution_count": 11,
   "id": "335f1852-92f1-4016-add3-d8287e7b35b1",
   "metadata": {},
   "outputs": [],
   "source": [
    "data = data[data.dollar_vol_rank<100]"
   ]
  },
  {
   "cell_type": "code",
   "execution_count": 12,
   "id": "69ccc723-6b22-4570-8ec6-408f12a80597",
   "metadata": {},
   "outputs": [],
   "source": [
    "data.info(null_counts=True)"
   ]
  },
  {
   "cell_type": "markdown",
   "id": "29d843da-fdf9-46a1-8e1c-3eb779dea5f5",
   "metadata": {},
   "source": [
    "### Creating Model Data"
   ]
  },
  {
   "cell_type": "code",
   "execution_count": 13,
   "id": "4f2f3218-00f4-4ea4-82d8-6b99dd7788cb",
   "metadata": {},
   "outputs": [],
   "source": [
    "y = data.filter(like='target')\n",
    "X = data.drop(y.columns, axis=1)\n",
    "X = X.drop(['dollar_vol', 'dollar_vol_rank', 'volume', 'consumer_durables'], axis=1)"
   ]
  },
  {
   "cell_type": "markdown",
   "id": "30f5baea-56be-4ae4-b4a1-e65976f24ef8",
   "metadata": {},
   "source": [
    "### Data Exploration"
   ]
  },
  {
   "cell_type": "code",
   "execution_count": 14,
   "id": "df303069-e7a5-4ab9-ab50-7d60a5e1f66f",
   "metadata": {},
   "outputs": [],
   "source": [
    "sns.clustermap(y.corr(), cmap=sns.diverging_palette(h_neg=20, h_pos=220), center=0, annot=True, fmt='.2%');\n",
    "plt.show()"
   ]
  },
  {
   "cell_type": "code",
   "execution_count": 15,
   "id": "4bfa3841-0f18-4a9b-b95a-7e619d44d576",
   "metadata": {},
   "outputs": [],
   "source": [
    "sns.clustermap(X.corr(), cmap=sns.diverging_palette(h_neg=20, h_pos=220), center=0);\n",
    "plt.gcf().set_size_inches((14, 14))\n",
    "plt.show()"
   ]
  },
  {
   "cell_type": "code",
   "execution_count": 16,
   "id": "df860a9b-aba0-4ec8-b39d-c700034ce6cc",
   "metadata": {},
   "outputs": [],
   "source": [
    "corr_mat = X.corr().stack().reset_index()\n",
    "corr_mat.columns=['var1', 'var2', 'corr']\n",
    "\n",
    "corr_mat = corr_mat[corr_mat.var1!=corr_mat.var2].sort_values(by='corr', ascending=False)"
   ]
  },
  {
   "cell_type": "code",
   "execution_count": 17,
   "id": "3525923b-1144-4d0f-9dfe-4a171a05b077",
   "metadata": {},
   "outputs": [],
   "source": [
    "corr_mat.head().append(corr_mat.tail())"
   ]
  },
  {
   "cell_type": "code",
   "execution_count": 18,
   "id": "0581eb71-63e3-44b6-8651-cea29ca4f088",
   "metadata": {},
   "outputs": [],
   "source": [
    "y.boxplot();\n",
    "plt.show()"
   ]
  },
  {
   "cell_type": "markdown",
   "id": "73ac4817-e0bc-459d-ac6f-10b7d51c15c1",
   "metadata": {},
   "source": [
    "### Linear Regression for Statistical Inference: OLS with `statsmodels`\n",
    "\n",
    "#### Ticker-wise Standardization"
   ]
  },
  {
   "cell_type": "code",
   "execution_count": 19,
   "id": "2a4a4135-59e9-4cad-8687-5e9aa080f8ac",
   "metadata": {},
   "outputs": [],
   "source": [
    "sectors = X.iloc[:, -10:]\n",
    "\n",
    "X = (X.drop(sectors.columns, axis=1)\n",
    "     .groupby(level='ticker')\n",
    "     .transform(lambda x: (x - x.mean()) / x.std())\n",
    "    .join(sectors)\n",
    "    .fillna(0))"
   ]
  },
  {
   "cell_type": "markdown",
   "id": "d5e9cdd4-3907-4e26-af3a-e98977b8c56d",
   "metadata": {},
   "source": [
    "#### 1-Day Returns"
   ]
  },
  {
   "cell_type": "code",
   "execution_count": 20,
   "id": "26469d08-6da9-4ad7-9465-531edf38813c",
   "metadata": {},
   "outputs": [],
   "source": [
    "target = 'target_1d'\n",
    "model = OLS(endog=y[target], exog=add_constant(X))\n",
    "trained_model = model.fit()\n",
    "\n",
    "print(trained_model.summary())"
   ]
  },
  {
   "cell_type": "markdown",
   "id": "4fcec982-d955-4345-a16f-d2f9e4eab809",
   "metadata": {},
   "source": [
    "### 5-Day Returns"
   ]
  },
  {
   "cell_type": "code",
   "execution_count": 21,
   "id": "1ee6a8b9-9400-48b5-9dc1-3c6f08b40caa",
   "metadata": {},
   "outputs": [],
   "source": [
    "target = 'target_5d'\n",
    "model = OLS(endog=y[target], exog=add_constant(X))\n",
    "trained_model = model.fit()\n",
    "\n",
    "print(trained_model.summary())"
   ]
  },
  {
   "cell_type": "markdown",
   "id": "a6962eca-bb64-42fa-8740-88d9513ff30f",
   "metadata": {},
   "source": [
    "#### Obtaining The Residuals"
   ]
  },
  {
   "cell_type": "code",
   "execution_count": 22,
   "id": "d8e6617e-fabc-4b45-aafe-84322db749ff",
   "metadata": {},
   "outputs": [],
   "source": [
    "preds = trained_model.predict(add_constant(X))\n",
    "\n",
    "residuals = y[target] - preds"
   ]
  },
  {
   "cell_type": "code",
   "execution_count": 23,
   "id": "9786c4eb-3072-476f-98dc-5d5d8a9a608a",
   "metadata": {},
   "outputs": [],
   "source": [
    "fig, axes = plt.subplots(ncols=2, figsize=(14,4))\n",
    "sns.distplot(residuals, fit=norm, ax=axes[0], axlabel='Residuals', label='Residuals')\n",
    "axes[0].set_title('Residual Distribution')\n",
    "axes[0].legend()\n",
    "plot_acf(residuals, lags=10, zero=False, ax=axes[1], title='Residual Autocorrelation')\n",
    "axes[1].set_xlabel('Lags')\n",
    "sns.despine()\n",
    "fig.tight_layout();\n",
    "plt.show()"
   ]
  },
  {
   "cell_type": "markdown",
   "id": "216584f6-5c3f-44e3-b73f-d16c39d0a0dd",
   "metadata": {},
   "source": [
    "#### 10-Day Returns"
   ]
  },
  {
   "cell_type": "code",
   "execution_count": 24,
   "id": "e651bd39-91cb-4c99-99bb-b4ed16226f98",
   "metadata": {},
   "outputs": [],
   "source": [
    "target = 'target_10d'\n",
    "model = OLS(endog=y[target], exog=add_constant(X))\n",
    "trained_model = model.fit()\n",
    "\n",
    "print(trained_model.summary())"
   ]
  },
  {
   "cell_type": "markdown",
   "id": "aa82a6ea-2179-43c7-8d18-bf3a99fe21a8",
   "metadata": {},
   "source": [
    "### Monthly Returns"
   ]
  },
  {
   "cell_type": "code",
   "execution_count": 25,
   "id": "599dd51e-9136-4407-8e5a-fbe9a500ff00",
   "metadata": {},
   "outputs": [],
   "source": [
    "target = 'target_21d'\n",
    "model = OLS(endog=y[target], exog=add_constant(X))\n",
    "trained_model = model.fit()\n",
    "\n",
    "print(trained_model.summary())"
   ]
  },
  {
   "cell_type": "code",
   "execution_count": null,
   "id": "ea0dc70a-522f-41fd-847c-ebdb65d43c02",
   "metadata": {},
   "outputs": [],
   "source": []
  }
 ],
 "metadata": {
  "kernelspec": {
   "display_name": "Python 3 (ipykernel)",
   "language": "python",
   "name": "python3"
  },
  "language_info": {
   "codemirror_mode": {
    "name": "ipython",
    "version": 3
   },
   "file_extension": ".py",
   "mimetype": "text/x-python",
   "name": "python",
   "nbconvert_exporter": "python",
   "pygments_lexer": "ipython3",
   "version": "3.12.9"
  }
 },
 "nbformat": 4,
 "nbformat_minor": 5
}
