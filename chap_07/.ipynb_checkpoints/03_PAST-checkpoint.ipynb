{
 "cells": [
  {
   "cell_type": "markdown",
   "id": "d980ba38-dc52-4a54-8fe9-61ac488ac4d0",
   "metadata": {},
   "source": [
    "# Preparing Alpha Factors & Features to Predict Stock Returns\n",
    "\n",
    "### Loading Libraries"
   ]
  },
  {
   "cell_type": "code",
   "execution_count": 1,
   "id": "eed320cc-52d6-446f-a727-f117187f195e",
   "metadata": {},
   "outputs": [],
   "source": [
    "# Numerical Computing\n",
    "import numpy as np\n",
    "\n",
    "# Data Manipulation\n",
    "import pandas as pd\n",
    "\n",
    "# Data Visualization\n",
    "import seaborn as sns\n",
    "import matplotlib.pyplot as plt\n",
    "\n",
    "# SciPy\n",
    "from scipy.stats import pearsonr, spearmanr\n",
    "\n",
    "# Technical Analysis \n",
    "from talib import RSI, BBANDS, MACD, ATR\n",
    "\n",
    "# Warnings\n",
    "import warnings"
   ]
  },
  {
   "cell_type": "code",
   "execution_count": 2,
   "id": "4d61a7c7-2270-4b2e-be20-0854eb5b2557",
   "metadata": {},
   "outputs": [],
   "source": [
    "idx = pd.IndexSlice\n",
    "\n",
    "sns.set_style('whitegrid')\n",
    "\n",
    "warnings.filterwarnings('ignore')"
   ]
  },
  {
   "cell_type": "code",
   "execution_count": 3,
   "id": "6e584e69-4fa7-4b72-9239-75060a03c980",
   "metadata": {},
   "outputs": [],
   "source": [
    "MONTH = 21\n",
    "\n",
    "YEAR = 12 * MONTH"
   ]
  },
  {
   "cell_type": "code",
   "execution_count": 4,
   "id": "7a97bed3-30eb-4e89-a416-5dc1cbbbaf52",
   "metadata": {},
   "outputs": [],
   "source": [
    "START = '2013-01-01'\n",
    "\n",
    "END = '2017-12-31'"
   ]
  },
  {
   "cell_type": "markdown",
   "id": "105ec551-c0e0-4df1-8ca9-614c59082b0b",
   "metadata": {},
   "source": [
    "### Loading Quandl Wiki Stock Prices & Meta Data"
   ]
  },
  {
   "cell_type": "code",
   "execution_count": 7,
   "id": "1e0f3c97-3e26-49da-b386-dbe26a0b2975",
   "metadata": {},
   "outputs": [],
   "source": [
    "ohlcv = ['adj_open', 'adj_close', 'adj_low', 'adj_high', 'adj_volume']"
   ]
  },
  {
   "cell_type": "code",
   "execution_count": 8,
   "id": "2448783d-21f9-43e8-9ec3-7fdbc9e121be",
   "metadata": {},
   "outputs": [],
   "source": [
    "DATA_STORE = '../data/assets.h5'"
   ]
  },
  {
   "cell_type": "code",
   "execution_count": 9,
   "id": "119c7d3b-7593-4fef-a0c4-ad274b80d3e5",
   "metadata": {},
   "outputs": [],
   "source": [
    "with pd.HDFStore(DATA_STORE) as store:\n",
    "    prices = (store['quandl/wiki/prices']\n",
    "              .loc[idx[START:END, :], ohlcv]\n",
    "              .rename(columns=lambda x: x.replace('adj_', ''))\n",
    "              .assign(volume=lambda x: x.volume.div(1000))\n",
    "              .swaplevel()\n",
    "              .sort_index())\n",
    "\n",
    "    stocks = (store['us_equities/stocks']\n",
    "              .loc[:, ['marketcap', 'ipoyear', 'sector']])"
   ]
  },
  {
   "cell_type": "markdown",
   "id": "ef62be9a-6c72-4f59-820d-a20dc760dcec",
   "metadata": {},
   "source": [
    "### Remove Stocks with Few Observations"
   ]
  },
  {
   "cell_type": "code",
   "execution_count": 10,
   "id": "d2a9c39d-0a6c-486b-9004-45414cd17730",
   "metadata": {},
   "outputs": [],
   "source": [
    "# want at least 2 years of data\n",
    "min_obs = 2 * YEAR\n",
    "\n",
    "# have this much per ticker \n",
    "nobs = prices.groupby(level='ticker').size()\n",
    "\n",
    "# keep those that exceed the limit\n",
    "keep = nobs[nobs > min_obs].index\n",
    "\n",
    "prices = prices.loc[idx[keep, :], :]"
   ]
  },
  {
   "cell_type": "markdown",
   "id": "2ea5e9bc-8d50-4a47-94ea-aae345e4253f",
   "metadata": {},
   "source": [
    "#### Aligning Price & Metadata"
   ]
  },
  {
   "cell_type": "code",
   "execution_count": 11,
   "id": "93ad66f4-e094-42ec-b0d2-be628d584d39",
   "metadata": {},
   "outputs": [],
   "source": [
    "stocks = stocks[~stocks.index.duplicated() & stocks.sector.notnull()]\n",
    "stocks.sector = stocks.sector.str.lower().str.replace(' ', '_')\n",
    "stocks.index.name = 'ticker'"
   ]
  },
  {
   "cell_type": "code",
   "execution_count": 12,
   "id": "6f142d4f-a93a-42b9-84d7-d69e895249ed",
   "metadata": {},
   "outputs": [],
   "source": [
    "shared = (prices.index.get_level_values('ticker').unique()\n",
    "          .intersection(stocks.index))\n",
    "\n",
    "stocks = stocks.loc[shared, :]\n",
    "prices = prices.loc[idx[shared, :], :]"
   ]
  },
  {
   "cell_type": "code",
   "execution_count": 13,
   "id": "692a6cc7-5dcc-47a4-b910-8dd4fa2a3a17",
   "metadata": {},
   "outputs": [],
   "source": [
    "prices.info(show_counts=True)"
   ]
  },
  {
   "cell_type": "code",
   "execution_count": 14,
   "id": "aa5a327d-c41a-4119-9521-4dd5c0786193",
   "metadata": {},
   "outputs": [],
   "source": [
    "stocks.info(show_counts=True)"
   ]
  },
  {
   "cell_type": "code",
   "execution_count": 15,
   "id": "f7b3d31f-1979-4879-8fdb-b048a8c0219c",
   "metadata": {},
   "outputs": [],
   "source": [
    "stocks.sector.value_counts()"
   ]
  },
  {
   "cell_type": "code",
   "execution_count": 16,
   "id": "bd04fac5-3e4a-48d9-8f64-62ee1d2ea399",
   "metadata": {},
   "outputs": [],
   "source": [
    "with pd.HDFStore('tmp.h5') as store:\n",
    "    store.put('prices', prices)\n",
    "    store.put('stocks', stocks)"
   ]
  },
  {
   "cell_type": "code",
   "execution_count": 17,
   "id": "4d0c0388-e15a-4ee7-9b56-c4f1d5db2c4a",
   "metadata": {},
   "outputs": [],
   "source": [
    "with pd.HDFStore('tmp.h5') as store:\n",
    "    prices = store['prices']\n",
    "    stocks = store['stocks']"
   ]
  },
  {
   "cell_type": "markdown",
   "id": "58d7d343-7a8a-4b23-8b30-5342db7d8172",
   "metadata": {},
   "source": [
    "### Computing Rolling Average Dollar Volume"
   ]
  },
  {
   "cell_type": "code",
   "execution_count": 18,
   "id": "e630a255-016e-46f4-9d8b-2600f1690db4",
   "metadata": {},
   "outputs": [],
   "source": [
    "# compute dollar volume to determine universe\n",
    "prices['dollar_vol'] = prices[['close', 'volume']].prod(axis=1)"
   ]
  },
  {
   "cell_type": "code",
   "execution_count": 19,
   "id": "da50ec61-6344-433a-bd31-e1d0568fe760",
   "metadata": {},
   "outputs": [],
   "source": [
    "prices.info(show_counts=True)"
   ]
  },
  {
   "cell_type": "code",
   "execution_count": 20,
   "id": "9f7d6cc3-b931-4d98-8d41-c83bc00d45e4",
   "metadata": {},
   "outputs": [],
   "source": [
    "prices['dollar_vol_rank'] = (prices.groupby('date')\n",
    "                             .dollar_vol_1m\n",
    "                             .rank(ascending=False))"
   ]
  },
  {
   "cell_type": "code",
   "execution_count": 21,
   "id": "6c021311-590b-4fa7-99b1-835b6cd722ec",
   "metadata": {},
   "outputs": [],
   "source": [
    "prices.info(show_counts=True)"
   ]
  },
  {
   "cell_type": "markdown",
   "id": "a00a4a8c-6bec-4153-96fb-ffde6aad6ef8",
   "metadata": {},
   "source": [
    "### Adding Some Basic Factors\n",
    "\n",
    "#### Computing the Relative Strength Index"
   ]
  },
  {
   "cell_type": "code",
   "execution_count": 22,
   "id": "e06ba85e-6b2d-41ae-b132-fdbd2c6d36cc",
   "metadata": {},
   "outputs": [],
   "source": [
    "prices['rsi'] = prices.groupby(level='ticker').close.apply(RSI)"
   ]
  },
  {
   "cell_type": "code",
   "execution_count": 23,
   "id": "8d89a373-9851-4e87-a70a-b073440f5d90",
   "metadata": {},
   "outputs": [],
   "source": [
    "ax = sns.distplot(prices.rsi.dropna())\n",
    "ax.axvline(30, ls='--', lw=1, c='k')\n",
    "ax.axvline(70, ls='--', lw=1, c='k')\n",
    "ax.set_title('RSI Distribution with Signal Threshold')\n",
    "plt.tight_layout();\n",
    "plt.show()"
   ]
  },
  {
   "cell_type": "markdown",
   "id": "9ba4d723-e35d-46cd-8b15-952f00ac9cdb",
   "metadata": {},
   "source": [
    "#### Computing Bollinger Bands"
   ]
  },
  {
   "cell_type": "code",
   "execution_count": 24,
   "id": "8696e91d-1d35-4285-8638-23f93b4105ad",
   "metadata": {},
   "outputs": [],
   "source": [
    "def compute_bb(close):\n",
    "    high, mid, low = BBANDS(close, timeperiod=20)\n",
    "    return pd.DataFrame({'bb_high': high, 'bb_low': low}, index=close.index)"
   ]
  },
  {
   "cell_type": "code",
   "execution_count": 25,
   "id": "fe3d15c5-fdee-467e-8751-95a06ee32c3b",
   "metadata": {},
   "outputs": [],
   "source": [
    "prices = (prices.join(prices\n",
    "                      .groupby(level='ticker')\n",
    "                      .close\n",
    "                      .apply(compute_bb)))"
   ]
  },
  {
   "cell_type": "code",
   "execution_count": 26,
   "id": "ea3116d0-9580-4735-a76b-11cef22c874c",
   "metadata": {},
   "outputs": [],
   "source": [
    "prices['bb_high'] = prices.bb_high.sub(prices.close).div(prices.bb_high).apply(np.log1p)\n",
    "\n",
    "prices['bb_low'] = prices.close.sub(prices.bb_low).div(prices.close).apply(np.log1p)"
   ]
  },
  {
   "cell_type": "code",
   "execution_count": 27,
   "id": "1490539e-7e91-4aa9-ad98-41eba34e8deb",
   "metadata": {},
   "outputs": [],
   "source": [
    "fig, axes = plt.subplots(ncols=2, figsize=(15, 5))\n",
    "sns.distplot(prices.loc[prices.dollar_vol_rank<100, 'bb_low'].dropna(), ax=axes[0])\n",
    "sns.distplot(prices.loc[prices.dollar_vol_rank<100, 'bb_high'].dropna(), ax=axes[1])\n",
    "plt.tight_layout();\n",
    "plt.show()"
   ]
  },
  {
   "cell_type": "markdown",
   "id": "49d948e2-7565-4ff4-8039-f201f30cebba",
   "metadata": {},
   "source": [
    "#### Computing Average True Range"
   ]
  },
  {
   "cell_type": "code",
   "execution_count": 28,
   "id": "51be1565-c352-4303-bf6c-af4f488ca74e",
   "metadata": {},
   "outputs": [],
   "source": [
    "def compute_atr(stock_data):\n",
    "    df = ATR(stock_data.high, stock_data.low, \n",
    "             stock_data.close, timeperiod=14)\n",
    "    return df.sub(df.mean()).div(df.std())"
   ]
  },
  {
   "cell_type": "code",
   "execution_count": 29,
   "id": "d0212432-562d-4a4e-ad1a-d7deb74300a0",
   "metadata": {},
   "outputs": [],
   "source": [
    "prices['atr'] = (prices.groupby('ticker', group_keys=False)\n",
    "                 .apply(compute_atr))"
   ]
  },
  {
   "cell_type": "code",
   "execution_count": 30,
   "id": "91f20cbf-e6e0-4ca9-a682-14d9627a3602",
   "metadata": {},
   "outputs": [],
   "source": [
    "sns.distplot(prices[prices.dollar_vol_rank<50].atr.dropna());\n",
    "plt.show()"
   ]
  },
  {
   "cell_type": "markdown",
   "id": "a8d1eb0c-714e-4472-8cdb-383907b8845e",
   "metadata": {},
   "source": [
    "#### Compute Moving Average Convergence/Divergence"
   ]
  },
  {
   "cell_type": "code",
   "execution_count": 31,
   "id": "1b370a7c-2a45-4d4f-bee9-7ca2f444a4f8",
   "metadata": {},
   "outputs": [],
   "source": [
    "def compute_macd(close):\n",
    "    macd = MACD(close)[0]\n",
    "    return (macd - np.mean(macd))/np.std(macd)"
   ]
  },
  {
   "cell_type": "code",
   "execution_count": 32,
   "id": "469539b9-4b2a-4581-9ae0-d3b3b0989c6f",
   "metadata": {},
   "outputs": [],
   "source": [
    "prices['macd'] = (prices\n",
    "                  .groupby('ticker', group_keys=False)\n",
    "                  .close\n",
    "                  .apply(compute_macd))"
   ]
  },
  {
   "cell_type": "code",
   "execution_count": 33,
   "id": "c065bcf4-2587-4257-9a63-4af3586fbbbc",
   "metadata": {},
   "outputs": [],
   "source": [
    "prices.macd.describe(percentiles=[.001, .01, .02, .03, .04, .05, .95, .96, .97, .98, .99, .999]).apply(lambda x: f'{x:,.1f}')"
   ]
  },
  {
   "cell_type": "code",
   "execution_count": 34,
   "id": "d97599ad-2d9d-4baa-89eb-f254fb70ca9f",
   "metadata": {},
   "outputs": [],
   "source": [
    "sns.distplot(prices[prices.dollar_vol_rank<100].macd.dropna());\n",
    "plt.show()"
   ]
  },
  {
   "cell_type": "markdown",
   "id": "d510e79a-2e5a-419f-a84b-98e5c426ea43",
   "metadata": {},
   "source": [
    "### Computing Lagged Returns"
   ]
  },
  {
   "cell_type": "code",
   "execution_count": 35,
   "id": "928b0f4d-33fb-41e6-af55-605c9805c956",
   "metadata": {},
   "outputs": [],
   "source": [
    "lags = [1, 5, 10, 21, 42, 63]"
   ]
  },
  {
   "cell_type": "code",
   "execution_count": 36,
   "id": "b877f3aa-a42d-4fd3-b26f-a18b57d08304",
   "metadata": {},
   "outputs": [],
   "source": [
    "returns = prices.groupby(level='ticker').close.pct_change()\n",
    "percentiles=[.0001, .001, .01]\n",
    "percentiles+= [1-p for p in percentiles]\n",
    "returns.describe(percentiles=percentiles).iloc[2:].to_frame('percentiles').style.format(lambda x: f'{x:,.2%}')"
   ]
  },
  {
   "cell_type": "code",
   "execution_count": 37,
   "id": "16b606c3-1845-40e2-a059-cfcad2a1424d",
   "metadata": {},
   "outputs": [],
   "source": [
    "q = 0.0001"
   ]
  },
  {
   "cell_type": "markdown",
   "id": "a3d2b67b-5862-43ec-a524-a3b2931926ff",
   "metadata": {},
   "source": [
    "#### Winsorize Outliers"
   ]
  },
  {
   "cell_type": "code",
   "execution_count": 38,
   "id": "2ad9f6a7-0b59-4a7f-b180-33f7d590b9ec",
   "metadata": {},
   "outputs": [],
   "source": [
    "for lag in lags:\n",
    "    prices[f'return_{lag}d'] = (prices.groupby(level='ticker').close\n",
    "                                .pct_change(lag)\n",
    "                                .pipe(lambda x: x.clip(lower=x.quantile(q),\n",
    "                                                       upper=x.quantile(1 - q)))\n",
    "                                .add(1)\n",
    "                                .pow(1 / lag)\n",
    "                                .sub(1)\n",
    "                                )"
   ]
  },
  {
   "cell_type": "markdown",
   "id": "c008ba9f-33b8-4c65-a438-645ce0d85324",
   "metadata": {},
   "source": [
    "#### Shifting Lagged Returns"
   ]
  },
  {
   "cell_type": "code",
   "execution_count": 39,
   "id": "98110ee1-dc3e-4dc8-9237-7bed1e0f93e3",
   "metadata": {},
   "outputs": [],
   "source": [
    "for t in [1, 2, 3, 4, 5]:\n",
    "    for lag in [1, 5, 10, 21]:\n",
    "        prices[f'return_{lag}d_lag{t}'] = (prices.groupby(level='ticker')\n",
    "                                           [f'return_{lag}d'].shift(t * lag))"
   ]
  },
  {
   "cell_type": "markdown",
   "id": "22b4dfa5-64fe-4d25-a47e-502368873468",
   "metadata": {},
   "source": [
    "### Computing Forward Returns"
   ]
  },
  {
   "cell_type": "code",
   "execution_count": 40,
   "id": "ada3cca6-64a7-4d6f-8a79-7cb1c62bcf03",
   "metadata": {},
   "outputs": [],
   "source": [
    "for t in [1, 5, 10, 21]:\n",
    "    prices[f'target_{t}d'] = prices.groupby(level='ticker')[f'return_{t}d'].shift(-t)"
   ]
  },
  {
   "cell_type": "markdown",
   "id": "6ac944ec-ea13-43c2-af93-80fa106f8c8b",
   "metadata": {},
   "source": [
    "### Combine Price & Meta Data"
   ]
  },
  {
   "cell_type": "code",
   "execution_count": 41,
   "id": "f1364294-0ab5-4630-9ede-5b7636df5075",
   "metadata": {},
   "outputs": [],
   "source": [
    "prices = prices.join(stocks[['sector']])"
   ]
  },
  {
   "cell_type": "markdown",
   "id": "e8d21c0c-b19d-4ea8-8261-3abd01d5b2d6",
   "metadata": {},
   "source": [
    "### Creating Time & Sector Dummy Variables"
   ]
  },
  {
   "cell_type": "code",
   "execution_count": 42,
   "id": "04701a3f-8612-4632-a4ef-96334b14acae",
   "metadata": {},
   "outputs": [],
   "source": [
    "prices['year'] = prices.index.get_level_values('date').year\n",
    "\n",
    "prices['month'] = prices.index.get_level_values('date').month"
   ]
  },
  {
   "cell_type": "code",
   "execution_count": 43,
   "id": "5fc4493e-9717-4e21-9398-17e8b3a9db5b",
   "metadata": {},
   "outputs": [],
   "source": [
    "prices.info(null_counts=True)"
   ]
  },
  {
   "cell_type": "code",
   "execution_count": 44,
   "id": "8ace1c75-46ba-48a7-ae62-4af0e23110a3",
   "metadata": {},
   "outputs": [],
   "source": [
    "prices.assign(sector=pd.factorize(prices.sector, sort=True)[0]).to_hdf('data.h5', 'model_data/no_dummies')"
   ]
  },
  {
   "cell_type": "code",
   "execution_count": 45,
   "id": "471b950a-80c2-4ce5-9f0d-1245f397ff37",
   "metadata": {},
   "outputs": [],
   "source": [
    "prices = pd.get_dummies(prices,\n",
    "                        columns=['year', 'month', 'sector'],\n",
    "                        prefix=['year', 'month', ''],\n",
    "                        prefix_sep=['_', '_', ''],\n",
    "                        drop_first=True)"
   ]
  },
  {
   "cell_type": "code",
   "execution_count": 46,
   "id": "4946f827-dbbd-499d-a982-12df74578a5e",
   "metadata": {},
   "outputs": [],
   "source": [
    "prices.info(null_counts=True)"
   ]
  },
  {
   "cell_type": "markdown",
   "id": "66619775-1160-4783-b58b-34e4a7c47db9",
   "metadata": {},
   "source": [
    "### Store Model Data"
   ]
  },
  {
   "cell_type": "code",
   "execution_count": 47,
   "id": "b01f832d-ebc3-4fb8-99bc-2ac60e54cff3",
   "metadata": {},
   "outputs": [],
   "source": [
    "prices.to_hdf('data.h5', 'model_data')"
   ]
  },
  {
   "cell_type": "markdown",
   "id": "5db5c62e-b0ab-4abb-bfea-8e8f761819e4",
   "metadata": {},
   "source": [
    "### Exploring Data\n",
    "\n",
    "#### Plotting Factors"
   ]
  },
  {
   "cell_type": "code",
   "execution_count": 48,
   "id": "4d391051-ca4e-40de-a7a2-0f5babe098d4",
   "metadata": {},
   "outputs": [],
   "source": [
    "target = 'target_5d'\n",
    "top100 = prices[prices.dollar_vol_rank<100].copy()"
   ]
  },
  {
   "cell_type": "markdown",
   "id": "42ad9737-3206-4e1d-98bd-9a3b42b236da",
   "metadata": {},
   "source": [
    "#### RSI"
   ]
  },
  {
   "cell_type": "code",
   "execution_count": 49,
   "id": "15d365e3-bf18-4d12-8f98-43c8defd8d4b",
   "metadata": {},
   "outputs": [],
   "source": [
    "top100.loc[:, 'rsi_signal'] = pd.cut(top100.rsi, bins=[0, 30, 70, 100])"
   ]
  },
  {
   "cell_type": "code",
   "execution_count": 50,
   "id": "9d91e09b-ec59-46bd-b30f-898a11290095",
   "metadata": {},
   "outputs": [],
   "source": [
    "top100.groupby('rsi_signal')['target_5d'].describe()"
   ]
  },
  {
   "cell_type": "markdown",
   "id": "971a6e31-8acf-4e81-ba17-f48b1190ec6f",
   "metadata": {},
   "source": [
    "#### Bollinger Bands"
   ]
  },
  {
   "cell_type": "code",
   "execution_count": 51,
   "id": "d8107f70-b854-4b1c-a3a6-d0a7fd6fb038",
   "metadata": {},
   "outputs": [],
   "source": [
    "metric = 'bb_low'\n",
    "j=sns.jointplot(x=metric, y=target, data=top100)\n",
    "\n",
    "df = top100[[metric, target]].dropna()\n",
    "r, p = spearmanr(df[metric], df[target])\n",
    "print(f'{r:,.2%} ({p:.2%})')"
   ]
  },
  {
   "cell_type": "code",
   "execution_count": 52,
   "id": "9659b899-653d-4b74-8fd8-e415e96fbcab",
   "metadata": {},
   "outputs": [],
   "source": [
    "metric = 'bb_high'\n",
    "j=sns.jointplot(x=metric, y=target, data=top100)\n",
    "\n",
    "df = top100[[metric, target]].dropna()\n",
    "r, p = spearmanr(df[metric], df[target])\n",
    "print(f'{r:,.2%} ({p:.2%})')"
   ]
  },
  {
   "cell_type": "markdown",
   "id": "8bf43cc0-58e0-447f-b19a-e4e99b7a0afe",
   "metadata": {},
   "source": [
    "#### ATR"
   ]
  },
  {
   "cell_type": "code",
   "execution_count": 53,
   "id": "aab3834f-6ebf-4395-96d7-65d99b8bf7b7",
   "metadata": {},
   "outputs": [],
   "source": [
    "metric = 'atr'\n",
    "j=sns.jointplot(x=metric, y=target, data=top100)\n",
    "\n",
    "df = top100[[metric, target]].dropna()\n",
    "r, p = spearmanr(df[metric], df[target])\n",
    "print(f'{r:,.2%} ({p:.2%})')"
   ]
  },
  {
   "cell_type": "markdown",
   "id": "3c819164-c9d2-4f6b-988c-d0af72410980",
   "metadata": {},
   "source": [
    "#### MACD"
   ]
  },
  {
   "cell_type": "code",
   "execution_count": 54,
   "id": "0a180cd8-2b7c-4e15-a9c8-8bf521c99c5e",
   "metadata": {},
   "outputs": [],
   "source": [
    "metric = 'macd'\n",
    "j=sns.jointplot(x=metric, y=target, data=top100)\n",
    "\n",
    "df = top100[[metric, target]].dropna()\n",
    "r, p = spearmanr(df[metric], df[target])\n",
    "print(f'{r:,.2%} ({p:.2%})')"
   ]
  },
  {
   "cell_type": "code",
   "execution_count": null,
   "id": "d19cea58-50bb-40c5-9379-b311b1e33edb",
   "metadata": {},
   "outputs": [],
   "source": []
  }
 ],
 "metadata": {
  "kernelspec": {
   "display_name": "Python 3 (ipykernel)",
   "language": "python",
   "name": "python3"
  },
  "language_info": {
   "codemirror_mode": {
    "name": "ipython",
    "version": 3
   },
   "file_extension": ".py",
   "mimetype": "text/x-python",
   "name": "python",
   "nbconvert_exporter": "python",
   "pygments_lexer": "ipython3",
   "version": "3.12.9"
  }
 },
 "nbformat": 4,
 "nbformat_minor": 5
}
