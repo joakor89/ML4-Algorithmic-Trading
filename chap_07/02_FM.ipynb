{
 "cells": [
  {
   "cell_type": "markdown",
   "id": "6c513752-57f1-4718-8f47-705ff3d1bcf6",
   "metadata": {},
   "source": [
    "# FAMA & Macbeth - How to build a linear factor model\n",
    "\n",
    "### Loading Libraries"
   ]
  },
  {
   "cell_type": "code",
   "execution_count": 7,
   "id": "c9c57884-b748-4b13-a7e4-df96113f679d",
   "metadata": {},
   "outputs": [],
   "source": [
    "# Numerical Computing\n",
    "import numpy as np\n",
    "\n",
    "# Data Manipulation\n",
    "import pandas as pd\n",
    "import pandas_datareader.data as web\n",
    "\n",
    "\n",
    "# StatsModels\n",
    "from statsmodels.api import OLS, add_constant\n",
    "\n",
    "# Linear Model\n",
    "from linearmodels.asset_pricing import LinearFactorModel\n",
    "\n",
    "# Data Visualization\n",
    "import seaborn as sns\n",
    "import matplotlib.pyplot as plt\n",
    "\n",
    "# Warnings\n",
    "import warnings"
   ]
  },
  {
   "cell_type": "code",
   "execution_count": 8,
   "id": "b5461727-9dd2-42fc-8288-c41dfcd45f92",
   "metadata": {},
   "outputs": [],
   "source": [
    "sns.set_style('whitegrid')\n",
    "\n",
    "warnings.filterwarnings('ignore')"
   ]
  },
  {
   "cell_type": "markdown",
   "id": "1724b72a-182e-4a7e-aaf2-1709abab0a67",
   "metadata": {},
   "source": [
    "### Getting Data\n",
    "\n",
    "#### Risk Factors"
   ]
  },
  {
   "cell_type": "code",
   "execution_count": 9,
   "id": "1ecf83ea-2a6f-42c3-a401-f81c345ee7c8",
   "metadata": {},
   "outputs": [],
   "source": [
    "ff_factor = 'F-F_Research_Data_5_Factors_2x3'\n",
    "ff_factor_data = web.DataReader(ff_factor, 'famafrench', start='2010', end='2017-12')[0]\n",
    "\n",
    "ff_factor_data.info()"
   ]
  },
  {
   "cell_type": "code",
   "execution_count": 10,
   "id": "e8028789-92e0-4b32-a307-dff3ede10262",
   "metadata": {},
   "outputs": [],
   "source": [
    "ff_factor_data.describe()"
   ]
  },
  {
   "cell_type": "markdown",
   "id": "20141bf6-fcfa-476b-9077-d96d4f70a9c8",
   "metadata": {},
   "source": [
    "#### Portfolios"
   ]
  },
  {
   "cell_type": "code",
   "execution_count": 11,
   "id": "b1f16968-6cc9-4663-9ba9-11b941b5f8a3",
   "metadata": {},
   "outputs": [],
   "source": [
    "ff_portfolio = '17_Industry_Portfolios'\n",
    "ff_portfolio_data = web.DataReader(ff_portfolio, 'famafrench', start='2010', end='2017-12')[0]\n",
    "\n",
    "ff_portfolio_data = ff_portfolio_data.sub(ff_factor_data.RF, axis=0)\n",
    "ff_portfolio_data.info()"
   ]
  },
  {
   "cell_type": "code",
   "execution_count": 16,
   "id": "ce104183-b42a-42d1-bd5f-b0afdf5ef7c7",
   "metadata": {},
   "outputs": [],
   "source": [
    "ff_portfolio_data.describe()"
   ]
  },
  {
   "cell_type": "markdown",
   "id": "5df819b0-9533-412e-a0b3-a6053ac8d697",
   "metadata": {},
   "source": [
    "#### Equity Data"
   ]
  },
  {
   "cell_type": "code",
   "execution_count": 17,
   "id": "fdbd29c0-b16d-4926-ab33-a3dd7cea2452",
   "metadata": {},
   "outputs": [],
   "source": [
    "with pd.HDFStore('../data/assets.h5') as store:\n",
    "    prices = store['/quandl/wiki/prices'].adj_close.unstack().loc['2010':'2017']\n",
    "    equities = store['/us_equities/stocks'].drop_duplicates()"
   ]
  },
  {
   "cell_type": "code",
   "execution_count": 18,
   "id": "fc6441b0-7445-4b81-977d-c4dc826d0406",
   "metadata": {},
   "outputs": [],
   "source": [
    "sectors = equities.filter(prices.columns, axis=0).sector.to_dict()\n",
    "\n",
    "prices = prices.filter(sectors.keys()).dropna(how='all', axis=1)"
   ]
  },
  {
   "cell_type": "code",
   "execution_count": 19,
   "id": "32df2c27-d778-473b-bffc-1c38eb55fbee",
   "metadata": {},
   "outputs": [],
   "source": [
    "returns = prices.resample('M').last().pct_change().mul(100).to_period('M')\n",
    "returns = returns.dropna(how='all').dropna(axis=1)\n",
    "\n",
    "returns.info()"
   ]
  },
  {
   "cell_type": "markdown",
   "id": "a56bf62b-13e7-4c08-ac90-87dddc381c71",
   "metadata": {},
   "source": [
    "#### Aligning Data"
   ]
  },
  {
   "cell_type": "code",
   "execution_count": 20,
   "id": "05a7d403-fba9-4c7a-9acc-5baa1dce1bb0",
   "metadata": {},
   "outputs": [],
   "source": [
    "ff_factor_data = ff_factor_data.loc[returns.index]\n",
    "ff_portfolio_data = ff_portfolio_data.loc[returns.index]"
   ]
  },
  {
   "cell_type": "code",
   "execution_count": 21,
   "id": "88ab0b43-0fde-43ad-9c44-b9d9e2f41501",
   "metadata": {},
   "outputs": [],
   "source": [
    "ff_factor_data.describe()"
   ]
  },
  {
   "cell_type": "markdown",
   "id": "2670c3a1-fce3-448c-a8e8-10b8e47b0331",
   "metadata": {},
   "source": [
    "#### Compute Excess Returns"
   ]
  },
  {
   "cell_type": "code",
   "execution_count": 22,
   "id": "b8fb6933-9ed1-4a18-9240-878b1987b0a4",
   "metadata": {},
   "outputs": [],
   "source": [
    "excess_returns = returns.sub(ff_factor_data.RF, axis=0)\n",
    "excess_returns.info()"
   ]
  },
  {
   "cell_type": "code",
   "execution_count": 23,
   "id": "ef0a2954-84de-49d7-b17b-47e07e5a950b",
   "metadata": {},
   "outputs": [],
   "source": [
    "excess_returns = excess_returns.clip(lower=np.percentile(excess_returns, 1),\n",
    "                                     upper=np.percentile(excess_returns, 99))"
   ]
  },
  {
   "cell_type": "markdown",
   "id": "2b4c9a3d-755d-489b-89cc-6b2be048024e",
   "metadata": {},
   "source": [
    "### Fama-Macbeth Regression"
   ]
  },
  {
   "cell_type": "code",
   "execution_count": 24,
   "id": "cb556616-4a44-47d4-8037-cc2c04ca0daa",
   "metadata": {},
   "outputs": [],
   "source": [
    "ff_portfolio_data.info()"
   ]
  },
  {
   "cell_type": "code",
   "execution_count": 25,
   "id": "8f19e2a7-b702-4748-a638-6ad71ffa8c10",
   "metadata": {},
   "outputs": [],
   "source": [
    "ff_factor_data = ff_factor_data.drop('RF', axis=1)\n",
    "ff_factor_data.info()"
   ]
  },
  {
   "cell_type": "markdown",
   "id": "c32c3548-4431-48be-80eb-a33dc82694ac",
   "metadata": {},
   "source": [
    "#### Step 1: Factor Exposures"
   ]
  },
  {
   "cell_type": "code",
   "execution_count": 26,
   "id": "58ac93cf-5154-4dff-b681-c5702da251df",
   "metadata": {},
   "outputs": [],
   "source": [
    "betas = []\n",
    "\n",
    "for industry in ff_portfolio_data:\n",
    "    step1 = OLS(endog=ff_portfolio_data.loc[ff_factor_data.index, industry], \n",
    "                exog=add_constant(ff_factor_data)).fit()\n",
    "    betas.append(step1.params.drop('const'))"
   ]
  },
  {
   "cell_type": "code",
   "execution_count": 27,
   "id": "acf709d3-03d1-456e-a027-82a3803d2650",
   "metadata": {},
   "outputs": [],
   "source": [
    "betas = pd.DataFrame(betas, \n",
    "                     columns=ff_factor_data.columns, \n",
    "                     index=ff_portfolio_data.columns)\n",
    "\n",
    "betas.info()"
   ]
  },
  {
   "cell_type": "markdown",
   "id": "fed7f5a3-e5d1-4406-a50a-72876959c7de",
   "metadata": {},
   "source": [
    "#### Step 2: Risk Premia"
   ]
  },
  {
   "cell_type": "code",
   "execution_count": 28,
   "id": "bab797aa-9c94-4134-8e00-a2dc94b8e1e8",
   "metadata": {},
   "outputs": [],
   "source": [
    "lambdas = []\n",
    "\n",
    "for period in ff_portfolio_data.index:\n",
    "    step2 = OLS(endog=ff_portfolio_data.loc[period, betas.index], \n",
    "                exog=betas).fit()\n",
    "    lambdas.append(step2.params)"
   ]
  },
  {
   "cell_type": "code",
   "execution_count": 29,
   "id": "bd1543bc-3a56-4b7f-a38d-e0c2151fa342",
   "metadata": {},
   "outputs": [],
   "source": [
    "lambdas = pd.DataFrame(lambdas, \n",
    "                       index=ff_portfolio_data.index,\n",
    "                       columns=betas.columns.tolist())\n",
    "lambdas.info()"
   ]
  },
  {
   "cell_type": "code",
   "execution_count": 30,
   "id": "6bb2d486-1a08-4d70-836b-e54ecc86a3f1",
   "metadata": {},
   "outputs": [],
   "source": [
    "lambdas.mean().sort_values().plot.barh(figsize=(12, 4))\n",
    "sns.despine()\n",
    "plt.tight_layout();\n",
    "plt.show"
   ]
  },
  {
   "cell_type": "code",
   "execution_count": 31,
   "id": "6e353ea5-1202-4719-a351-01a1a915de9b",
   "metadata": {},
   "outputs": [],
   "source": [
    "t = lambdas.mean().div(lambdas.std())\n",
    "t"
   ]
  },
  {
   "cell_type": "markdown",
   "id": "82ed4aa2-1424-408f-9a55-ffdcb424d860",
   "metadata": {},
   "source": [
    "#### Results"
   ]
  },
  {
   "cell_type": "code",
   "execution_count": 32,
   "id": "3107e5ae-4558-4270-bbac-b9cc32348ac5",
   "metadata": {},
   "outputs": [],
   "source": [
    "window = 24  # months\n",
    "ax1 = plt.subplot2grid((1, 3), (0, 0))\n",
    "ax2 = plt.subplot2grid((1, 3), (0, 1), colspan=2)\n",
    "lambdas.mean().sort_values().plot.barh(ax=ax1)\n",
    "lambdas.rolling(window).mean().dropna().plot(lw=1,\n",
    "                                             figsize=(14, 5),\n",
    "                                             sharey=True,\n",
    "                                             ax=ax2)\n",
    "sns.despine()\n",
    "plt.tight_layout()\n",
    "plt.show()"
   ]
  },
  {
   "cell_type": "code",
   "execution_count": 33,
   "id": "65fe5292-b46c-44f9-97ae-3d0f9322ad99",
   "metadata": {},
   "outputs": [],
   "source": [
    "window = 24  # months\n",
    "lambdas.rolling(window).mean().dropna().plot(lw=2,\n",
    "                                             figsize=(14, 7),\n",
    "                                             subplots=True,\n",
    "                                             sharey=True)\n",
    "sns.despine()\n",
    "plt.tight_layout()"
   ]
  },
  {
   "cell_type": "markdown",
   "id": "bc5eb0b6-c341-4d1c-8662-2e88a5e34128",
   "metadata": {},
   "source": [
    "#### Fama-Macbeth with The `LinearModels` Library"
   ]
  },
  {
   "cell_type": "code",
   "execution_count": 34,
   "id": "31c52860-249c-4542-b686-6972b7c55026",
   "metadata": {},
   "outputs": [],
   "source": [
    "mod = LinearFactorModel(portfolios=ff_portfolio_data, \n",
    "                        factors=ff_factor_data)\n",
    "res = mod.fit()\n",
    "print(res)"
   ]
  },
  {
   "cell_type": "code",
   "execution_count": 35,
   "id": "e8f45c66-7456-4433-8111-2b7a4841ea72",
   "metadata": {},
   "outputs": [],
   "source": [
    "print(res.full_summary)"
   ]
  },
  {
   "cell_type": "code",
   "execution_count": 36,
   "id": "7a7b68b4-ed04-4bce-b278-92375994f2b0",
   "metadata": {},
   "outputs": [],
   "source": [
    "lambdas.mean()"
   ]
  },
  {
   "cell_type": "code",
   "execution_count": null,
   "id": "7dee2123-71fb-4451-9acc-e775f9790050",
   "metadata": {},
   "outputs": [],
   "source": []
  }
 ],
 "metadata": {
  "kernelspec": {
   "display_name": "Python 3 (ipykernel)",
   "language": "python",
   "name": "python3"
  },
  "language_info": {
   "codemirror_mode": {
    "name": "ipython",
    "version": 3
   },
   "file_extension": ".py",
   "mimetype": "text/x-python",
   "name": "python",
   "nbconvert_exporter": "python",
   "pygments_lexer": "ipython3",
   "version": "3.12.9"
  }
 },
 "nbformat": 4,
 "nbformat_minor": 5
}
