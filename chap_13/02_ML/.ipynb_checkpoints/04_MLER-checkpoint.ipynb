{
 "cells": [
  {
   "cell_type": "markdown",
   "id": "b1d4b9ec-c9f7-4444-af29-31bd197b8a70",
   "metadata": {},
   "source": [
    "# Manifold Learning: t-SNE and UMAP for Equity Return\n",
    "\n",
    "### Loading Libraries"
   ]
  },
  {
   "cell_type": "code",
   "execution_count": 1,
   "id": "d6105a30-07d2-4d2d-a10b-351b3bd4cb38",
   "metadata": {},
   "outputs": [],
   "source": [
    "# Numerical Computing\n",
    "import numpy as np\n",
    "\n",
    "# Data Manipulation\n",
    "import pandas as pd\n",
    "\n",
    "# Data Visualization\n",
    "import seaborn as sns\n",
    "import matplotlib.pyplot as plt\n",
    "\n",
    "# Scikit-Learn\n",
    "from sklearn.decomposition import PCA\n",
    "from sklearn.manifold import TSNE\n",
    "\n",
    "# UMap\n",
    "import umap"
   ]
  },
  {
   "cell_type": "code",
   "execution_count": 2,
   "id": "ceb9e22f-7fd9-477a-8d53-379924f18e8c",
   "metadata": {},
   "outputs": [],
   "source": [
    "%matplotlib inline"
   ]
  },
  {
   "cell_type": "code",
   "execution_count": 3,
   "id": "e23cb064-1af1-404e-bd14-54fa5713f388",
   "metadata": {},
   "outputs": [],
   "source": [
    "np.random.seed(42)\n",
    "\n",
    "sns.set_style('white')"
   ]
  },
  {
   "cell_type": "markdown",
   "id": "ac8fe6cf-44a1-4eff-a254-8ac28f26a69e",
   "metadata": {},
   "source": [
    "### Loading Equity Returns"
   ]
  },
  {
   "cell_type": "code",
   "execution_count": 4,
   "id": "1d4ec118-c488-4db5-bd9b-3235c994d485",
   "metadata": {},
   "outputs": [],
   "source": [
    "idx = pd.IndexSlice\n",
    "\n",
    "with pd.HDFStore('../../data/assets.h5') as store:\n",
    "    returns = (store['quandl/wiki/prices']\n",
    "               .loc[idx['2000':'2018', :], 'adj_close']\n",
    "               .unstack('ticker')\n",
    "               #.resample('W')\n",
    "               #.last()\n",
    "               .pct_change())"
   ]
  },
  {
   "cell_type": "code",
   "execution_count": 5,
   "id": "4d4d7e05-7e8c-42a5-9600-89c15bfa0833",
   "metadata": {},
   "outputs": [],
   "source": [
    "returns = returns.dropna(thresh=int(returns.shape[0] * .95), axis=1)\n",
    "returns = returns.dropna(thresh=int(returns.shape[1] * .95)).clip(lower=-.5, upper=.5)\n",
    "\n",
    "returns.info()"
   ]
  },
  {
   "cell_type": "code",
   "execution_count": 6,
   "id": "64315f41-d74d-464c-997a-0d384cec7f75",
   "metadata": {},
   "outputs": [],
   "source": [
    "returns = returns.sample(n=250)\n",
    "\n",
    "daily_avg = returns.mean(1)\n",
    "\n",
    "returns = returns.apply(lambda x: x.fillna(daily_avg))"
   ]
  },
  {
   "cell_type": "code",
   "execution_count": 7,
   "id": "1966484c-1d98-430c-a3f4-910f9a9c0779",
   "metadata": {},
   "outputs": [],
   "source": [
    "pca = PCA(n_components=2)"
   ]
  },
  {
   "cell_type": "markdown",
   "id": "f32d4a54-9cb5-4b07-9fff-1b058134b57e",
   "metadata": {},
   "source": [
    "### T-Stochastic Neighbor Embedding (TSNE): Parameter Settings\n",
    "\n",
    "#### Perplexity: `Emphasis on Local vs Global Structure`"
   ]
  },
  {
   "cell_type": "code",
   "execution_count": 8,
   "id": "889a8f0f-16fa-4933-a2f0-61b7384e972e",
   "metadata": {},
   "outputs": [],
   "source": [
    "n_iter = 5000"
   ]
  },
  {
   "cell_type": "code",
   "execution_count": 10,
   "id": "c88dc9c4-d05a-44d1-be3f-7cbeabdda45e",
   "metadata": {},
   "outputs": [],
   "source": [
    "fig, axes = plt.subplots(nrows=2, ncols=3, figsize=(14, 8))\n",
    "axes = axes.flatten()\n",
    "\n",
    "axes[0].scatter(*pca.fit_transform(returns).T, s=10)\n",
    "axes[0].set_title('PCA')\n",
    "axes[0].axes.get_xaxis().set_visible(False)\n",
    "axes[0].axes.get_yaxis().set_visible(False)\n",
    "\n",
    "for i, p in enumerate([2, 5, 7, 10, 15], 1):\n",
    "    embedding = TSNE(perplexity=p,\n",
    "                     n_iter=n_iter).fit_transform(returns)\n",
    "    axes[i].scatter(embedding[:, 0], embedding[:, 1], s=10)\n",
    "    axes[i].set_title('Perplexity: {:.0f}'.format(p), fontsize=14)\n",
    "    axes[i].axes.get_xaxis().set_visible(False)\n",
    "    axes[i].axes.get_yaxis().set_visible(False)\n",
    "\n",
    "fig.suptitle(f'TSNE | Iterations: {n_iter:,.0f}', fontsize=16)\n",
    "sns.despine()\n",
    "fig.tight_layout()\n",
    "fig.subplots_adjust(top=.9)\n",
    "plt.show()"
   ]
  },
  {
   "cell_type": "markdown",
   "id": "1e8f7447-10fa-4bfc-a7d2-4f2367fa5702",
   "metadata": {},
   "source": [
    "### Convergence with `n_iter`"
   ]
  },
  {
   "cell_type": "code",
   "execution_count": 11,
   "id": "c9c20662-3637-458d-9cac-31ae8a364665",
   "metadata": {},
   "outputs": [],
   "source": [
    "perplexity = 5"
   ]
  },
  {
   "cell_type": "code",
   "execution_count": 12,
   "id": "ae42d383-967b-47d4-8bda-3331bf0b84b8",
   "metadata": {},
   "outputs": [],
   "source": [
    "fig, axes = plt.subplots(nrows=2, ncols=3, figsize=(14, 8))\n",
    "\n",
    "axes = axes.flatten()\n",
    "axes[0].scatter(*pca.fit_transform(returns).T, s=10)\n",
    "axes[0].set_title('PCA')\n",
    "axes[0].axes.get_xaxis().set_visible(False)\n",
    "axes[0].axes.get_yaxis().set_visible(False)\n",
    "\n",
    "for i, n in enumerate([250, 500, 1000, 2500, 5000], 1):\n",
    "    embedding = TSNE(perplexity=perplexity, \n",
    "                     n_iter=n).fit_transform(returns)\n",
    "    axes[i].scatter(embedding[:, 0], embedding[:, 1], s=10)\n",
    "    axes[i].set_title('Iterations: {:,.0f}'.format(n), fontsize=14)\n",
    "    axes[i].axes.get_xaxis().set_visible(False)\n",
    "    axes[i].axes.get_yaxis().set_visible(False)\n",
    "\n",
    "fig.suptitle(f'TSNE | Perpexity: {perplexity:,.0f}', fontsize=16)\n",
    "sns.despine()\n",
    "fig.tight_layout()\n",
    "fig.subplots_adjust(top=.9)\n",
    "plt.show()"
   ]
  },
  {
   "cell_type": "markdown",
   "id": "646f1b9f-f18e-43de-9daf-210d78403549",
   "metadata": {},
   "source": [
    "### Uniform Manifold Approximation & Projection (UMAP): Parameter Settings\n",
    "\n",
    "#### Neighbors"
   ]
  },
  {
   "cell_type": "code",
   "execution_count": 13,
   "id": "ca4227c7-f434-4f61-b2d6-051af8a507ba",
   "metadata": {},
   "outputs": [],
   "source": [
    "min_dist = .1"
   ]
  },
  {
   "cell_type": "code",
   "execution_count": 14,
   "id": "88ed61b7-601f-49da-9988-108e1ef41b74",
   "metadata": {},
   "outputs": [],
   "source": [
    "fig, axes = plt.subplots(nrows=2, ncols=3, figsize=(14, 8))\n",
    "\n",
    "axes = axes.flatten()\n",
    "\n",
    "axes[0].scatter(*pca.fit_transform(returns).T, s=10)\n",
    "axes[0].set_title('PCA')\n",
    "axes[0].axes.get_xaxis().set_visible(False)\n",
    "axes[0].axes.get_yaxis().set_visible(False)\n",
    "\n",
    "for i, n in enumerate([2, 3, 4, 5, 7], 1):\n",
    "    embedding = umap.UMAP(n_neighbors=n, \n",
    "                          min_dist=min_dist).fit_transform(returns)\n",
    "    axes[i].scatter(embedding[:, 0], embedding[:, 1], s=10)\n",
    "    axes[i].set_title('Neighbors: {:.0f}'.format(n), fontsize=14)\n",
    "    axes[i].axes.get_xaxis().set_visible(False)\n",
    "    axes[i].axes.get_yaxis().set_visible(False)\n",
    "    \n",
    "fig.suptitle(f'UMAP | Min. Distance: {min_dist:,.2f}', fontsize=16)    \n",
    "sns.despine()\n",
    "fig.tight_layout()\n",
    "fig.subplots_adjust(top=.9)\n",
    "plt.show()"
   ]
  },
  {
   "cell_type": "markdown",
   "id": "9065165d-30c2-47a9-82e7-2b9b14fadda9",
   "metadata": {},
   "source": [
    "### Minimum Distance"
   ]
  },
  {
   "cell_type": "code",
   "execution_count": 15,
   "id": "655f752a-9cf8-4f30-8555-9ce0be19e0c1",
   "metadata": {},
   "outputs": [],
   "source": [
    "n_neighbors = 2"
   ]
  },
  {
   "cell_type": "code",
   "execution_count": 16,
   "id": "29b425f5-df6d-4005-9bc0-d21411b0e95f",
   "metadata": {},
   "outputs": [],
   "source": [
    "fig, axes = plt.subplots(nrows=2, ncols=3, figsize=(14,8))\n",
    "axes = axes.flatten()\n",
    "\n",
    "axes[0].scatter(*pca.fit_transform(returns).T, s=10)\n",
    "axes[0].set_title('PCA')\n",
    "axes[0].axes.get_xaxis().set_visible(False)\n",
    "axes[0].axes.get_yaxis().set_visible(False)\n",
    "\n",
    "for i, d in enumerate([.001, .01, .1, .2, .5], 1):\n",
    "    embedding = umap.UMAP(n_neighbors=n_neighbors, \n",
    "                          min_dist=d).fit_transform(returns)\n",
    "    axes[i].scatter(embedding[:, 0], embedding[:, 1], s=10)\n",
    "    axes[i].set_title('Min. Distance: {:.3f}'.format(d), fontsize=14)\n",
    "    axes[i].axes.get_xaxis().set_visible(False)\n",
    "    axes[i].axes.get_yaxis().set_visible(False)\n",
    "\n",
    "    \n",
    "fig.suptitle(f'UMAP | # Neighbors: {n_neighbors:,.0f}', fontsize=16)    \n",
    "sns.despine()\n",
    "fig.tight_layout()\n",
    "fig.subplots_adjust(top=.9)\n",
    "plt.show()"
   ]
  },
  {
   "cell_type": "code",
   "execution_count": null,
   "id": "8b8d52c7-bd00-4563-9e5a-85ad292aa61f",
   "metadata": {},
   "outputs": [],
   "source": []
  }
 ],
 "metadata": {
  "kernelspec": {
   "display_name": "Python 3 (ipykernel)",
   "language": "python",
   "name": "python3"
  },
  "language_info": {
   "codemirror_mode": {
    "name": "ipython",
    "version": 3
   },
   "file_extension": ".py",
   "mimetype": "text/x-python",
   "name": "python",
   "nbconvert_exporter": "python",
   "pygments_lexer": "ipython3",
   "version": "3.12.9"
  }
 },
 "nbformat": 4,
 "nbformat_minor": 5
}
