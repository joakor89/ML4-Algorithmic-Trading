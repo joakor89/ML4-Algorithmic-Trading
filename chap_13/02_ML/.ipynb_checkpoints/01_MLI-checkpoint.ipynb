{
 "cells": [
  {
   "cell_type": "markdown",
   "id": "1f9fdc08-8678-4121-95ec-59e55404e46d",
   "metadata": {},
   "source": [
    "# Manifold Learning - Introduction\n",
    "\n",
    "### Loading Libraries"
   ]
  },
  {
   "cell_type": "code",
   "execution_count": 13,
   "id": "217abecf-b28a-45ef-b58e-54c600b6c33b",
   "metadata": {},
   "outputs": [],
   "source": [
    "# Numerical Computing\n",
    "import numpy as np\n",
    "from numpy.random import choice, uniform, randn\n",
    "\n",
    "# Data Visualization\n",
    "import pandas as pd\n",
    "\n",
    "# Path\n",
    "from pathlib import Path\n",
    "\n",
    "# Data Visualization\n",
    "import seaborn as sns\n",
    "import matplotlib.pyplot as plt\n",
    "\n",
    "# IPywidgets\n",
    "# import ipyvolume as ipv\n",
    "from ipywidgets import HBox\n",
    "\n",
    "# Scikit-Learn\n",
    "from sklearn.datasets import make_swiss_roll, make_s_curve"
   ]
  },
  {
   "cell_type": "code",
   "execution_count": 5,
   "id": "c7c821da-5f1d-4b53-84ca-8ec4639ebb36",
   "metadata": {},
   "outputs": [],
   "source": [
    "%matplotlib inline"
   ]
  },
  {
   "cell_type": "code",
   "execution_count": 6,
   "id": "a3491beb-3c42-4874-b03a-8b59096cda62",
   "metadata": {},
   "outputs": [],
   "source": [
    "sns.set_style('white')\n",
    "\n",
    "DATA_PATH = Path('..', '..', 'data')"
   ]
  },
  {
   "cell_type": "markdown",
   "id": "73d85017-fce7-4385-b37e-c8b6efc079b8",
   "metadata": {},
   "source": [
    "### Manifold Examples"
   ]
  },
  {
   "cell_type": "code",
   "execution_count": 9,
   "id": "6406eeef-ab15-4c25-908a-dc2cf044debb",
   "metadata": {},
   "outputs": [],
   "source": [
    "n_points, noise = 1000, 0.1\n",
    "\n",
    "angles = uniform(low=-np.pi, high=np.pi, size=n_points)\n",
    "x = 2 * np.cos(angles) + noise * randn(n_points)\n",
    "y = np.sin(angles) + noise * randn(n_points)\n",
    "\n",
    "theta = np.pi/4 # 45 degree rotation\n",
    "rotation_matrix = np.array([[np.cos(theta), -np.sin(theta)], \n",
    "                            [np.sin(theta), np.cos(theta)]])\n",
    "\n",
    "rotated = np.column_stack((x, y)).dot(rotation_matrix)\n",
    "x, y = rotated[:, 0], rotated[:, 1]\n",
    "\n",
    "z = .2 * x  + .2 * y + noise * randn(n_points)\n",
    "data = np.vstack((x, y, z)).T"
   ]
  },
  {
   "cell_type": "markdown",
   "id": "b76eb275-b262-48e3-bf7c-7d7fb670358d",
   "metadata": {},
   "source": [
    "#### Plot 3-D Elipse"
   ]
  },
  {
   "cell_type": "code",
   "execution_count": 11,
   "id": "80f75b26-5cfa-4cda-92fc-4cd15f4e3e2d",
   "metadata": {},
   "outputs": [],
   "source": [
    "ipv.quickscatter(*data.T, size=1, marker='sphere', color='blue')\n",
    "ipv.show()"
   ]
  },
  {
   "cell_type": "markdown",
   "id": "825d58b5-2179-40e0-a5f5-8699edcdcedf",
   "metadata": {},
   "source": [
    "#### Non-Linear Manifold"
   ]
  },
  {
   "cell_type": "code",
   "execution_count": 14,
   "id": "4da2fe2c-2aef-4adb-942e-1ba66461856a",
   "metadata": {},
   "outputs": [],
   "source": [
    "n_samples = 10000\n",
    "\n",
    "palette = sns.color_palette('viridis', n_colors=n_samples)"
   ]
  },
  {
   "cell_type": "code",
   "execution_count": 16,
   "id": "c7f68d91-a6ee-4484-ae66-b22d2753c276",
   "metadata": {},
   "outputs": [],
   "source": [
    "swiss_X, swiss_val = make_swiss_roll(\n",
    "    n_samples=n_samples, noise=.1, random_state=42)\n",
    "\n",
    "swiss_X = swiss_X[swiss_val.argsort()[::-1]]"
   ]
  },
  {
   "cell_type": "code",
   "execution_count": 17,
   "id": "451849e7-ea2f-4cb5-917d-ce2c816e8518",
   "metadata": {},
   "outputs": [],
   "source": [
    "scurve_X, scurve_val = make_s_curve(\n",
    "    n_samples=n_samples, noise=.1, random_state=42)\n",
    "\n",
    "scurve_X = scurve_X[scurve_val.argsort()[::-1]]"
   ]
  },
  {
   "cell_type": "markdown",
   "id": "1c87a2cc-9b22-47f9-9bc3-2deaa8f6fbf5",
   "metadata": {},
   "source": [
    "#### Plotting Toy Examples"
   ]
  },
  {
   "cell_type": "code",
   "execution_count": 19,
   "id": "ac827e96-dd80-4c93-b54e-87c52b56b0e4",
   "metadata": {},
   "outputs": [],
   "source": [
    "HBox([\n",
    "    ipv.quickscatter(*swiss_X.T, size=1, marker='sphere', color=palette),\n",
    "    ipv.quickscatter(*scurve_X.T, size=1, marker='sphere', color=palette)\n",
    "])"
   ]
  },
  {
   "cell_type": "markdown",
   "id": "3722f073-a440-41d5-b420-4c8d43fc1e13",
   "metadata": {},
   "source": [
    "### Loading Fashion MNIST Data"
   ]
  },
  {
   "cell_type": "code",
   "execution_count": 20,
   "id": "a68525a1-cc96-48ce-be99-cdd1e5061def",
   "metadata": {},
   "outputs": [],
   "source": [
    "fashion_mnist_path = DATA_PATH / 'fashion_mnist'"
   ]
  },
  {
   "cell_type": "code",
   "execution_count": 21,
   "id": "af70563d-fa07-4610-a242-ddf4e9dac3e0",
   "metadata": {},
   "outputs": [],
   "source": [
    "fashion_data = np.load(fashion_mnist_path / 'data.npy')\n",
    "fashion_label = np.load(fashion_mnist_path / 'labels.npy')\n",
    "\n",
    "classes = sorted(np.unique(fashion_label).astype(int))"
   ]
  },
  {
   "cell_type": "code",
   "execution_count": 22,
   "id": "1a6b865f-4960-4e10-8fb7-8ca4d0fcb015",
   "metadata": {},
   "outputs": [],
   "source": [
    "label_dict = pd.read_csv(fashion_mnist_path / 'label_dict.csv', squeeze=True, header=None).to_dict()"
   ]
  },
  {
   "cell_type": "code",
   "execution_count": 23,
   "id": "525dfd21-c128-45fd-88a3-1a74dd20972d",
   "metadata": {},
   "outputs": [],
   "source": [
    "h = w = int(np.sqrt(fashion_data.shape[1])) \n",
    "\n",
    "n_samples = 15"
   ]
  },
  {
   "cell_type": "code",
   "execution_count": 24,
   "id": "f05ca416-2a56-4030-8c78-eb203d17dc50",
   "metadata": {},
   "outputs": [],
   "source": [
    "fig, ax = plt.subplots(figsize=(18, 8))\n",
    "fashion_sample = np.empty(shape=(h * len(classes),\n",
    "                                 w * n_samples))\n",
    "\n",
    "for row, label in enumerate(classes):\n",
    "    label_idx = np.argwhere(fashion_label == label).squeeze()\n",
    "    sample_indices = choice(label_idx, size=n_samples, replace=False)\n",
    "    i = row * h\n",
    "    for col, sample_idx in enumerate(sample_indices):\n",
    "        j = col * w\n",
    "        sample = fashion_data[sample_idx].reshape(h, w)\n",
    "        fashion_sample[i:i+h, j:j + w] = sample\n",
    "\n",
    "ax.imshow(fashion_sample, cmap='Blues')\n",
    "ax.set_title('Fashion Images', fontsize=14)\n",
    "plt.axis('off')\n",
    "fig.tight_layout()"
   ]
  },
  {
   "cell_type": "markdown",
   "id": "28a6ca6b-fd4f-4ff8-8b10-11a1503e7077",
   "metadata": {},
   "source": [
    "### Visual Evidence for the Manifold Hypothesis: Pixel Structure of Different Image Classes"
   ]
  },
  {
   "cell_type": "code",
   "execution_count": 25,
   "id": "9e593d3d-b309-426b-bcc4-6cb5a10cd3ad",
   "metadata": {},
   "outputs": [],
   "source": [
    "fig, axes = plt.subplots(nrows=len(classes), figsize=(15, 15))\n",
    "\n",
    "n = 100\n",
    "samples = []\n",
    "\n",
    "for i, label in enumerate(classes):\n",
    "    label_idx = np.argwhere(fashion_label == label).squeeze()\n",
    "    samples = choice(label_idx, size=n, replace=False)\n",
    "    sns.heatmap(fashion_data[samples], cmap='Blues', ax=axes[i], cbar=False)\n",
    "    axes[i].set_title(label_dict[label], fontsize=14)\n",
    "    axes[i].axis('off')\n",
    "fig.tight_layout(h_pad=.1)"
   ]
  },
  {
   "cell_type": "markdown",
   "id": "ba16851f-e6ba-4acc-be26-6f87c83f2c26",
   "metadata": {},
   "source": [
    "### Pixel Structure of Random Images"
   ]
  },
  {
   "cell_type": "code",
   "execution_count": 27,
   "id": "43fdd918-89d7-46bb-b352-37eee542e9c8",
   "metadata": {},
   "outputs": [],
   "source": [
    "fig, ax = plt.subplots(figsize=(14, 2))\n",
    "sns.heatmap(np.random.randint(low=0,\n",
    "                              high=255,\n",
    "                              size=(100, 784)),\n",
    "            cmap='Blues', ax=ax, cbar=False)\n",
    "plt.axis('off')\n",
    "fig.tight_layout()"
   ]
  },
  {
   "cell_type": "code",
   "execution_count": null,
   "id": "b28ca927-73f8-4291-b9b4-48804f70d2cf",
   "metadata": {},
   "outputs": [],
   "source": []
  }
 ],
 "metadata": {
  "kernelspec": {
   "display_name": "Python 3 (ipykernel)",
   "language": "python",
   "name": "python3"
  },
  "language_info": {
   "codemirror_mode": {
    "name": "ipython",
    "version": 3
   },
   "file_extension": ".py",
   "mimetype": "text/x-python",
   "name": "python",
   "nbconvert_exporter": "python",
   "pygments_lexer": "ipython3",
   "version": "3.12.9"
  }
 },
 "nbformat": 4,
 "nbformat_minor": 5
}
