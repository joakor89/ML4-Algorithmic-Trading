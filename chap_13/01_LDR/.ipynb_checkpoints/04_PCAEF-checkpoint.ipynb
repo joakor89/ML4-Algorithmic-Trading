{
 "cells": [
  {
   "cell_type": "markdown",
   "id": "46f3bb54-c0c6-4d4a-b9ae-3c64d490e853",
   "metadata": {},
   "source": [
    "# PCA for Algorithmic Trading: Eigen Portfolios\n",
    "\n",
    "### Loading Libraries"
   ]
  },
  {
   "cell_type": "code",
   "execution_count": 1,
   "id": "0463c832-c7a3-4ed1-bde6-05440b94a4a9",
   "metadata": {},
   "outputs": [],
   "source": [
    "# Numerical Computing\n",
    "import numpy as np\n",
    "\n",
    "# Data Manipulation\n",
    "import pandas as pd\n",
    "\n",
    "# Data Visualization\n",
    "import matplotlib.pyplot as plt\n",
    "import seaborn as sns\n",
    "\n",
    "# Warnings\n",
    "import warnings\n",
    "\n",
    "# Scikit-Learn\n",
    "from sklearn.decomposition import PCA\n",
    "from sklearn.preprocessing import scale"
   ]
  },
  {
   "cell_type": "code",
   "execution_count": 2,
   "id": "973baa1d-d943-4db3-87c6-6da222b96236",
   "metadata": {},
   "outputs": [],
   "source": [
    "np.random.seed(42)\n",
    "\n",
    "sns.set_style('white')\n",
    "\n",
    "warnings.filterwarnings('ignore')"
   ]
  },
  {
   "cell_type": "markdown",
   "id": "9385e3fa-c73a-44f6-840e-65ed99a9d548",
   "metadata": {},
   "source": [
    "### Eigenportfolios\n",
    "\n",
    "#### Data Preparation"
   ]
  },
  {
   "cell_type": "code",
   "execution_count": 3,
   "id": "4d8cfda6-fb8f-46b5-bf73-c24c0677a2cb",
   "metadata": {},
   "outputs": [],
   "source": [
    "idx = pd.IndexSlice\n",
    "\n",
    "with pd.HDFStore('../../data/assets.h5') as store:\n",
    "    stocks = store['us_equities/stocks'].marketcap.nlargest(30)\n",
    "    returns = (store['quandl/wiki/prices']\n",
    "               .loc[idx['2010': '2018', stocks.index], 'adj_close']\n",
    "               .unstack('ticker')\n",
    "               .pct_change())"
   ]
  },
  {
   "cell_type": "code",
   "execution_count": 4,
   "id": "91581acd-aa8f-4464-a3e0-93c85ba816c7",
   "metadata": {},
   "outputs": [],
   "source": [
    "normed_returns = scale(returns\n",
    "                       .clip(lower=returns.quantile(q=.025), \n",
    "                             upper=returns.quantile(q=.975), \n",
    "                             axis=1)\n",
    "                      .apply(lambda x: x.sub(x.mean()).div(x.std())))"
   ]
  },
  {
   "cell_type": "code",
   "execution_count": 5,
   "id": "ffe21a28-35e9-4113-8352-4620e2493ac5",
   "metadata": {},
   "outputs": [],
   "source": [
    "returns = returns.dropna(thresh=int(returns.shape[0] * .95), axis=1)\n",
    "returns = returns.dropna(thresh=int(returns.shape[1] * .95))\n",
    "\n",
    "returns.info()"
   ]
  },
  {
   "cell_type": "code",
   "execution_count": 6,
   "id": "5a33fb52-52a1-43f1-b8d2-52caef1b5e9e",
   "metadata": {},
   "outputs": [],
   "source": [
    "cov = returns.cov()"
   ]
  },
  {
   "cell_type": "code",
   "execution_count": 7,
   "id": "fbd13dd6-736d-471f-99f3-d994debb7991",
   "metadata": {},
   "outputs": [],
   "source": [
    "sns.clustermap(cov);"
   ]
  },
  {
   "cell_type": "markdown",
   "id": "185aecfe-edaf-45c3-8c47-b26cd9938ce2",
   "metadata": {},
   "source": [
    "### Running PCA"
   ]
  },
  {
   "cell_type": "code",
   "execution_count": 8,
   "id": "1b0fa5d1-4435-44c2-8470-31bc6d20f6e7",
   "metadata": {},
   "outputs": [],
   "source": [
    "# Placing Model\n",
    "pca = PCA()\n",
    "\n",
    "# Fitting Model\n",
    "pca.fit(cov)\n",
    "pd.Series(pca.explained_variance_ratio_).to_frame('Explained Variance').head().style.format('{:,.2%}'.format)"
   ]
  },
  {
   "cell_type": "markdown",
   "id": "065bdd98-d74c-45f2-a831-fced0fbad6f2",
   "metadata": {},
   "source": [
    "#### Creating PF Weights from Principal Components"
   ]
  },
  {
   "cell_type": "code",
   "execution_count": 9,
   "id": "a89b2575-355f-4fe4-b05f-6c09da160e0b",
   "metadata": {},
   "outputs": [],
   "source": [
    "top4 = pd.DataFrame(pca.components_[:4], columns=cov.columns)\n",
    "\n",
    "eigen_portfolios = top4.div(top4.sum(1), axis=0)\n",
    "eigen_portfolios.index = [f'Portfolio {i}' for i in range(1, 5)]"
   ]
  },
  {
   "cell_type": "markdown",
   "id": "70781f24-f87c-44fa-b670-f8bece1f7864",
   "metadata": {},
   "source": [
    "### Eigenportfolio Weights"
   ]
  },
  {
   "cell_type": "code",
   "execution_count": 10,
   "id": "c70c5319-9a3e-4b8e-8c0f-48d81bdf9906",
   "metadata": {},
   "outputs": [],
   "source": [
    "axes = eigen_portfolios.T.plot.bar(subplots=True,\n",
    "                                   layout=(2, 2),\n",
    "                                   figsize=(14, 8),\n",
    "                                   legend=False)\n",
    "\n",
    "for ax in axes.flatten():\n",
    "    ax.set_ylabel('Portfolio Weight')\n",
    "    ax.set_xlabel('')\n",
    "sns.despine()\n",
    "plt.tight_layout()\n",
    "plt.show()"
   ]
  },
  {
   "cell_type": "markdown",
   "id": "092efe5e-9dc6-4958-a29b-44f98f8e26bb",
   "metadata": {},
   "source": [
    "### Eigenportfolio Performance"
   ]
  },
  {
   "cell_type": "code",
   "execution_count": 11,
   "id": "63db1434-a4bd-45b0-819f-39902643561e",
   "metadata": {},
   "outputs": [],
   "source": [
    "fig, axes = plt.subplots(nrows=2, ncols=2, figsize=(14, 6), sharex=True)\n",
    "\n",
    "axes = axes.flatten()\n",
    "returns.mean(1).add(1).cumprod().sub(1).plot(title='The Market', ax=axes[0])\n",
    "\n",
    "for i in range(3):\n",
    "    rc = returns.mul(eigen_portfolios.iloc[i]).sum(1).add(1).cumprod().sub(1)\n",
    "    rc.plot(title=f'Portfolio {i+1}', ax=axes[i+1], lw=1, rot=0)\n",
    "\n",
    "for i in range(4):\n",
    "    axes[i].set_xlabel('')\n",
    "sns.despine()\n",
    "fig.tight_layout()\n",
    "plt.show()"
   ]
  },
  {
   "cell_type": "code",
   "execution_count": null,
   "id": "f783c3cd-237a-48a7-8f12-c57201c37855",
   "metadata": {},
   "outputs": [],
   "source": []
  }
 ],
 "metadata": {
  "kernelspec": {
   "display_name": "Python 3 (ipykernel)",
   "language": "python",
   "name": "python3"
  },
  "language_info": {
   "codemirror_mode": {
    "name": "ipython",
    "version": 3
   },
   "file_extension": ".py",
   "mimetype": "text/x-python",
   "name": "python",
   "nbconvert_exporter": "python",
   "pygments_lexer": "ipython3",
   "version": "3.12.9"
  }
 },
 "nbformat": 4,
 "nbformat_minor": 5
}
