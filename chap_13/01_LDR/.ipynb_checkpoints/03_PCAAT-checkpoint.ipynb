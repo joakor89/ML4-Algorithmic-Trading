{
 "cells": [
  {
   "cell_type": "markdown",
   "id": "8285024d-ab64-43c6-9f5d-b8a991b31397",
   "metadata": {},
   "source": [
    "# PCA for Algorithmic Trading: Data-Driven Risk Factors\n",
    "\n",
    "### Loading Libraries"
   ]
  },
  {
   "cell_type": "code",
   "execution_count": 2,
   "id": "7f247cc3-4951-47ea-95aa-ad706782a76d",
   "metadata": {},
   "outputs": [],
   "source": [
    "# Numerical Computing\n",
    "import numpy as np\n",
    "\n",
    "# Data Manipulation\n",
    "import pandas as pd\n",
    "\n",
    "# Warnings\n",
    "import warnings\n",
    "\n",
    "# Data Visualization\n",
    "import seaborn as sns\n",
    "import matplotlib.pyplot as plt\n",
    "from matplotlib.ticker import FuncFormatter\n",
    "\n",
    "# Scikit-Learn\n",
    "from sklearn.decomposition import PCA"
   ]
  },
  {
   "cell_type": "code",
   "execution_count": 3,
   "id": "9f9ff3ff-9b99-40ed-96d9-7f0ddaaf6e1c",
   "metadata": {},
   "outputs": [],
   "source": [
    "np.random.seed(42)\n",
    "\n",
    "sns.set_style('whitegrid')\n",
    "\n",
    "warnings.filterwarnings('ignore')"
   ]
  },
  {
   "cell_type": "markdown",
   "id": "011bd9b1-2da1-472e-ace5-3ea61e6751b3",
   "metadata": {},
   "source": [
    "### Getting Returns for Equities with Highest Market Cap"
   ]
  },
  {
   "cell_type": "code",
   "execution_count": 4,
   "id": "bfb292be-c0fd-4455-a634-93fd30aa66b8",
   "metadata": {},
   "outputs": [],
   "source": [
    "idx = pd.IndexSlice\n",
    "\n",
    "with pd.HDFStore('../../data/assets.h5') as store:\n",
    "    stocks = store['us_equities/stocks'].marketcap.nlargest(500)\n",
    "    returns = (store['quandl/wiki/prices']\n",
    "               .loc[idx['2010': '2018', stocks.index], 'adj_close']\n",
    "               .unstack('ticker')\n",
    "               .pct_change())"
   ]
  },
  {
   "cell_type": "code",
   "execution_count": 5,
   "id": "d68bc9ff-5db2-4b2a-b164-259337e0d422",
   "metadata": {},
   "outputs": [],
   "source": [
    "returns.info()"
   ]
  },
  {
   "cell_type": "markdown",
   "id": "be204df5-3be8-47a7-93a9-e4010d5ec0c1",
   "metadata": {},
   "source": [
    "#### Winsorize & Standardize Returns"
   ]
  },
  {
   "cell_type": "code",
   "execution_count": 6,
   "id": "3fadfee4-7965-465c-b452-9e2f3f45580b",
   "metadata": {},
   "outputs": [],
   "source": [
    "returns = returns.clip(lower=returns.quantile(q=.025),\n",
    "                       upper=returns.quantile(q=.975),\n",
    "                       axis=1)"
   ]
  },
  {
   "cell_type": "markdown",
   "id": "f6e8311b-2f03-453f-a677-1781b302067b",
   "metadata": {},
   "source": [
    "#### Imputing Missing Values"
   ]
  },
  {
   "cell_type": "code",
   "execution_count": 7,
   "id": "249472fc-28ef-4a50-92a4-a03fa6119c43",
   "metadata": {},
   "outputs": [],
   "source": [
    "returns = returns.dropna(thresh=int(returns.shape[0] * .95), axis=1)\n",
    "returns = returns.dropna(thresh=int(returns.shape[1] * .95))\n",
    "\n",
    "returns.info()"
   ]
  },
  {
   "cell_type": "code",
   "execution_count": 8,
   "id": "0453f91d-2b6d-4de2-8246-5f95423d5970",
   "metadata": {},
   "outputs": [],
   "source": [
    "daily_avg = returns.mean(1)\n",
    "\n",
    "returns = returns.apply(lambda x: x.fillna(daily_avg))"
   ]
  },
  {
   "cell_type": "markdown",
   "id": "ee7c981b-d143-44fa-9209-52829d73da17",
   "metadata": {},
   "source": [
    "### Fitting `PCA`"
   ]
  },
  {
   "cell_type": "code",
   "execution_count": 10,
   "id": "33bf99ed-ecf9-4289-8658-88c758b3de38",
   "metadata": {},
   "outputs": [],
   "source": [
    "cov = np.cov(returns, rowvar=False)"
   ]
  },
  {
   "cell_type": "code",
   "execution_count": 12,
   "id": "0569b79f-42f8-4f0a-a761-99f591aeadd3",
   "metadata": {},
   "outputs": [],
   "source": [
    "# Placing Model\n",
    "pca = PCA(n_components='mle')\n",
    "\n",
    "# Fitting Model\n",
    "pca.fit(returns)"
   ]
  },
  {
   "cell_type": "markdown",
   "id": "ba9bcf40-8e8f-457a-8f81-7541cc7f165f",
   "metadata": {},
   "source": [
    "#### Visualizing Explained Variance"
   ]
  },
  {
   "cell_type": "code",
   "execution_count": 13,
   "id": "3c569b0c-281d-4350-84f3-bdf8796591c0",
   "metadata": {},
   "outputs": [],
   "source": [
    "fig, axes = plt.subplots(ncols=2, figsize=(14, 4))\n",
    "title = 'Explained Variance Ratio by Top Factors'\n",
    "var_expl = pd.Series(pca.explained_variance_ratio_)\n",
    "var_expl.index += 1\n",
    "var_expl.iloc[:15].sort_values().plot.barh(title=title,\n",
    "                                           ax=axes[0])\n",
    "var_expl.cumsum().plot(ylim=(0, 1),\n",
    "                       ax=axes[1],\n",
    "                       title='Cumulative Explained Variance',\n",
    "                       xlim=(1, 300))\n",
    "axes[1].yaxis.set_major_formatter(FuncFormatter(lambda y, _: f'{y:.0%}'))\n",
    "sns.despine()\n",
    "fig.tight_layout()\n",
    "plt.show()"
   ]
  },
  {
   "cell_type": "code",
   "execution_count": 14,
   "id": "a1fae1b4-b4f0-4555-aafb-71f8abcb2272",
   "metadata": {},
   "outputs": [],
   "source": [
    "risk_factors = pd.DataFrame(pca.transform(returns)[:, :2], \n",
    "                            columns=['Principal Component 1', 'Principal Component 2'], \n",
    "                            index=returns.index)\n",
    "\n",
    "risk_factors.info()"
   ]
  },
  {
   "cell_type": "code",
   "execution_count": 15,
   "id": "3805e32e-d0e6-4a76-a476-31c27cfc9bb0",
   "metadata": {},
   "outputs": [],
   "source": [
    "risk_factors['Principal Component 1'].corr(risk_factors['Principal Component 2'])"
   ]
  },
  {
   "cell_type": "code",
   "execution_count": 17,
   "id": "40b9d4b6-d04d-4bfb-ad9e-65b7ea83f214",
   "metadata": {},
   "outputs": [],
   "source": [
    "with sns.axes_style('white'):\n",
    "    risk_factors.plot(subplots=True,\n",
    "                      figsize=(14, 8),\n",
    "                      title=risk_factors.columns.tolist(),\n",
    "                      legend=False,\n",
    "                      rot=0,\n",
    "                      lw=1,\n",
    "                      xlim=(risk_factors.index.min(),\n",
    "                            risk_factors.index.max()))\n",
    "\n",
    "    sns.despine()\n",
    "    plt.tight_layout()"
   ]
  },
  {
   "cell_type": "markdown",
   "id": "55899083-c0b5-4762-ab64-3c4e1a4b58c6",
   "metadata": {},
   "source": [
    "### Larger Number Stocks Simulation"
   ]
  },
  {
   "cell_type": "code",
   "execution_count": 18,
   "id": "51d8219b-421b-489a-8680-1fe9cf6f87fc",
   "metadata": {},
   "outputs": [],
   "source": [
    "idx = pd.IndexSlice\n",
    "\n",
    "with pd.HDFStore('../../data/assets.h5') as store:\n",
    "    returns = (store['quandl/wiki/prices']\n",
    "              .loc[idx['2000': '2018', :], 'adj_close']\n",
    "              .unstack('ticker')\n",
    "              .pct_change())"
   ]
  },
  {
   "cell_type": "code",
   "execution_count": 19,
   "id": "87bec0fd-099a-4de0-b793-0432375f17e0",
   "metadata": {},
   "outputs": [],
   "source": [
    "pca = PCA()\n",
    "\n",
    "n_trials, n_samples = 100, 500\n",
    "\n",
    "explained = np.empty(shape=(n_trials, n_samples))\n",
    "\n",
    "for trial in range(n_trials):\n",
    "    returns_sample = returns.sample(n=n_samples)\n",
    "    returns_sample = returns_sample.dropna(thresh=int(returns_sample.shape[0] * .95), axis=1)\n",
    "    returns_sample = returns_sample.dropna(thresh=int(returns_sample.shape[1] * .95))\n",
    "    daily_avg = returns_sample.mean(1)\n",
    "    returns_sample = returns_sample.apply(lambda x: x.fillna(daily_avg))\n",
    "    pca.fit(returns_sample)\n",
    "    explained[trial, :len(pca.components_)] = pca.explained_variance_ratio_"
   ]
  },
  {
   "cell_type": "code",
   "execution_count": 20,
   "id": "69a29936-85a4-4956-b1cf-ff1556fa1e1f",
   "metadata": {},
   "outputs": [],
   "source": [
    "explained = pd.DataFrame(explained, columns=list(range(1, explained.shape[1] + 1)))\n",
    "\n",
    "explained.info()"
   ]
  },
  {
   "cell_type": "code",
   "execution_count": 21,
   "id": "95d80809-6794-479e-8679-638593ac69d3",
   "metadata": {},
   "outputs": [],
   "source": [
    "fig, axes = plt.subplots(ncols=2, figsize=(14, 4.5))\n",
    "pc10 = explained.iloc[:, :10].stack().reset_index()\n",
    "pc10.columns = ['Trial', 'Principal Component', 'Value']\n",
    "\n",
    "pc10['Cumulative'] = pc10.groupby('Trial').Value.transform(np.cumsum)\n",
    "sns.barplot(x='Principal Component', y='Value', data=pc10, ax=axes[0])\n",
    "sns.lineplot(x='Principal Component', y='Cumulative', data=pc10, ax=axes[1])\n",
    "axes[1].set_xlim(1, 10)\n",
    "axes[1].yaxis.set_major_formatter(FuncFormatter(lambda y, _: f'{y:.0%}'))\n",
    "fig.suptitle('Explained Variance of Top 10 Principal Components | 100 Trials')\n",
    "sns.despine()\n",
    "fig.tight_layout()\n",
    "fig.subplots_adjust(top=.90)\n",
    "plt.show()"
   ]
  },
  {
   "cell_type": "code",
   "execution_count": null,
   "id": "8d8dc496-0654-42c0-bb6a-259fbcfa8e3d",
   "metadata": {},
   "outputs": [],
   "source": []
  }
 ],
 "metadata": {
  "kernelspec": {
   "display_name": "Python 3 (ipykernel)",
   "language": "python",
   "name": "python3"
  },
  "language_info": {
   "codemirror_mode": {
    "name": "ipython",
    "version": 3
   },
   "file_extension": ".py",
   "mimetype": "text/x-python",
   "name": "python",
   "nbconvert_exporter": "python",
   "pygments_lexer": "ipython3",
   "version": "3.12.9"
  }
 },
 "nbformat": 4,
 "nbformat_minor": 5
}
