{
 "cells": [
  {
   "cell_type": "markdown",
   "id": "ef4695d3-368c-49bf-8a99-18e8a9ffc05b",
   "metadata": {},
   "source": [
    "# Hierarchical Risk Parity\n",
    "\n",
    "### Loading Libraries"
   ]
  },
  {
   "cell_type": "code",
   "execution_count": 1,
   "id": "56548351-ef85-43a0-a1aa-40481beee4c4",
   "metadata": {},
   "outputs": [],
   "source": [
    "# Numerical Computing\n",
    "import numpy as np\n",
    "\n",
    "# Data Manipulation\n",
    "import pandas as pd\n",
    "\n",
    "# Data Visualization\n",
    "import seaborn as sns\n",
    "import matplotlib.pyplot as plt\n",
    "\n",
    "# SciPy\n",
    "from scipy.cluster.hierarchy import linkage\n",
    "from scipy.spatial.distance import pdist, squareform"
   ]
  },
  {
   "cell_type": "code",
   "execution_count": 2,
   "id": "d670c5ea-e369-45e8-8f0a-81700c4b2345",
   "metadata": {},
   "outputs": [],
   "source": [
    "%matplotlib inline"
   ]
  },
  {
   "cell_type": "code",
   "execution_count": 3,
   "id": "80812b1d-79bb-43ff-a33c-d7f5d9fcdeb3",
   "metadata": {},
   "outputs": [],
   "source": [
    "np.random.seed(42)\n",
    "\n",
    "sns.set_style('whitegrid')"
   ]
  },
  {
   "cell_type": "markdown",
   "id": "51d7da48-cbe0-475b-9e91-a6cd634ebb7d",
   "metadata": {},
   "source": [
    "### Loading Data"
   ]
  },
  {
   "cell_type": "code",
   "execution_count": 4,
   "id": "61efa354-624f-4412-b756-ba988f7ca155",
   "metadata": {},
   "outputs": [],
   "source": [
    "with pd.HDFStore('../../data/assets.h5') as store:\n",
    "    sp500_stocks = store['sp500/stocks'].index \n",
    "    prices = store['quandl/wiki/prices'].adj_close.unstack('ticker').filter(sp500_stocks)"
   ]
  },
  {
   "cell_type": "code",
   "execution_count": 5,
   "id": "762d8027-1318-439a-80e2-a5013f69dcf4",
   "metadata": {},
   "outputs": [],
   "source": [
    "start = 1988\n",
    "\n",
    "end = 2017"
   ]
  },
  {
   "cell_type": "code",
   "execution_count": 6,
   "id": "ecf73e04-fa8d-41c1-970f-f3cbcf1c3eeb",
   "metadata": {},
   "outputs": [],
   "source": [
    "monthly_returns = prices.loc[f'{start}':f'{end}'].resample('M').last().pct_change().dropna(how='all')\n",
    "monthly_returns = monthly_returns.dropna(axis=1)\n",
    "\n",
    "monthly_returns.columns.names = ['Ticker']\n",
    "monthly_returns.info()"
   ]
  },
  {
   "cell_type": "markdown",
   "id": "05b0bc62-030b-4657-831a-fb6ba3abb4f4",
   "metadata": {},
   "source": [
    "### HRP Source"
   ]
  },
  {
   "cell_type": "code",
   "execution_count": 7,
   "id": "9da00f04-a07c-4906-b463-d217ea99b635",
   "metadata": {},
   "outputs": [],
   "source": [
    "def get_inverse_var_pf(cov, **kargs):\n",
    "    \"\"\"Compute the inverse-variance portfolio\"\"\" \n",
    "    ivp = 1 / np.diag(cov)\n",
    "    return ivp / ivp.sum()"
   ]
  },
  {
   "cell_type": "code",
   "execution_count": 8,
   "id": "f63b232b-98c9-4acd-a2da-4e3b7c80f835",
   "metadata": {},
   "outputs": [],
   "source": [
    "def get_distance_matrix(corr):\n",
    "    \"\"\"Compute distance matrix from correlation; \n",
    "        0 <= d[i,j] <= 1\"\"\" \n",
    "    return np.sqrt((1 - corr) / 2)"
   ]
  },
  {
   "cell_type": "markdown",
   "id": "a7bac429-c216-4f14-a76a-e80ee9af3bf9",
   "metadata": {},
   "source": [
    "### Getting Correlation Matrix"
   ]
  },
  {
   "cell_type": "code",
   "execution_count": 9,
   "id": "4745201d-21c4-42d8-afd6-4bf629572dbe",
   "metadata": {},
   "outputs": [],
   "source": [
    "cov = monthly_returns.cov()\n",
    "corr = monthly_returns.corr()\n",
    "\n",
    "corr.columns.names=['Ticker']"
   ]
  },
  {
   "cell_type": "code",
   "execution_count": 10,
   "id": "520f3122-69d9-43d2-9011-929984d9c7f8",
   "metadata": {},
   "outputs": [],
   "source": [
    "cmap = sns.diverging_palette(10, 250, as_cmap=True)\n",
    "fig, ax = plt.subplots(figsize=(11,10))\n",
    "sns.heatmap(corr, center = 0, cmap = cmap, ax=ax)\n",
    "fig.tight_layout()\n",
    "plt.show()"
   ]
  },
  {
   "cell_type": "markdown",
   "id": "97644103-31cd-41b0-86a9-2c11f02e21c7",
   "metadata": {},
   "source": [
    "### Cluster Return Series"
   ]
  },
  {
   "cell_type": "code",
   "execution_count": 11,
   "id": "923e9e46-1273-4ac8-8334-c31cfecf1076",
   "metadata": {},
   "outputs": [],
   "source": [
    "def quasi_diagonalize(link):\n",
    "    \"\"\"sort clustered assets by distance\"\"\"\n",
    "    link = link.astype(int)\n",
    "    sort_idx = pd.Series([link[-1, 0], link[-1, 1]])\n",
    "    num_items = link[-1, 3]  \n",
    "    while sort_idx.max() >= num_items:\n",
    "        sort_idx.index = list(range(0, sort_idx.shape[0] * 2, 2))  \n",
    "        df0 = sort_idx[sort_idx >= num_items]  \n",
    "        i = df0.index\n",
    "        j = df0.values - num_items\n",
    "        sort_idx[i] = link[j, 0]  \n",
    "        df0 = pd.Series(link[j, 1], index=i + 1)\n",
    "        sort_idx = sort_idx.append(df0)  \n",
    "        sort_idx = sort_idx.sort_index()  \n",
    "        sort_idx.index = list(range(sort_idx.shape[0]))  \n",
    "    return sort_idx.tolist()"
   ]
  },
  {
   "cell_type": "code",
   "execution_count": 12,
   "id": "edd4cd4f-0d95-403f-9c0a-c8211cc0be3a",
   "metadata": {},
   "outputs": [],
   "source": [
    "distance_matrix = get_distance_matrix(corr)\n",
    "\n",
    "linkage_matrix = linkage(squareform(distance_matrix), 'single')"
   ]
  },
  {
   "cell_type": "code",
   "execution_count": 13,
   "id": "e71a7a45-827c-4caf-ab2e-ece9e0788a11",
   "metadata": {},
   "outputs": [],
   "source": [
    "sorted_idx = quasi_diagonalize(linkage_matrix)"
   ]
  },
  {
   "cell_type": "markdown",
   "id": "1c2dbbb7-6d9d-4dbe-bbe1-2ae3223a2c0a",
   "metadata": {},
   "source": [
    "### Plotting Cluster Map"
   ]
  },
  {
   "cell_type": "code",
   "execution_count": 14,
   "id": "3b5f2d0f-717d-428f-bb34-963dd69baa49",
   "metadata": {},
   "outputs": [],
   "source": [
    "clustergrid = sns.clustermap(distance_matrix, \n",
    "                             method='single', \n",
    "                             row_linkage=linkage_matrix, \n",
    "                             col_linkage=linkage_matrix, \n",
    "                             cmap=cmap, center=0);"
   ]
  },
  {
   "cell_type": "code",
   "execution_count": 15,
   "id": "d21d639b-3ff8-46a9-8793-6610c5ec7315",
   "metadata": {},
   "outputs": [],
   "source": [
    "sorted_idx = clustergrid.dendrogram_row.reordered_ind"
   ]
  },
  {
   "cell_type": "code",
   "execution_count": 16,
   "id": "cfc96ab8-063e-49f2-aa53-ef15ae6f1817",
   "metadata": {},
   "outputs": [],
   "source": [
    "sorted_tickers = corr.index[sorted_idx].tolist()"
   ]
  },
  {
   "cell_type": "code",
   "execution_count": 17,
   "id": "bf9dc677-2084-4c34-affa-fd8b78b73a44",
   "metadata": {},
   "outputs": [],
   "source": [
    "fig, axes = plt.subplots(ncols=2, figsize=(18, 8))\n",
    "cmap = sns.diverging_palette(10, 250, as_cmap=True)\n",
    "\n",
    "sns.heatmap(corr, center = 0, cmap = cmap, ax=axes[0])\n",
    "axes[0].set_title('Correlation Matrix')\n",
    "fig.tight_layout()\n",
    "\n",
    "clustered_assets = corr.loc[sorted_tickers, sorted_tickers]  # reorder\n",
    "sns.heatmap(clustered_assets, center = 0, cmap = cmap, ax=axes[1])\n",
    "axes[1].set_title('Clustered Correlation')\n",
    "fig.tight_layout();\n",
    "plt.show()"
   ]
  },
  {
   "cell_type": "markdown",
   "id": "43d819ad-cc8a-4d5b-a63c-0126b07b4ac1",
   "metadata": {},
   "source": [
    "### Computing Allocation"
   ]
  },
  {
   "cell_type": "code",
   "execution_count": 18,
   "id": "c9fee4b9-9e36-4866-9c92-47b96766f889",
   "metadata": {},
   "outputs": [],
   "source": [
    "def get_cluster_var(cov, cluster_items):\n",
    "    \"\"\"Compute variance per cluster\"\"\"\n",
    "    cov_ = cov.loc[cluster_items, cluster_items]  \n",
    "    w_ = get_inverse_var_pf(cov_)\n",
    "    return (w_ @ cov_ @ w_).item()"
   ]
  },
  {
   "cell_type": "code",
   "execution_count": 19,
   "id": "c95c108d-de58-4191-8713-39c283b154ed",
   "metadata": {},
   "outputs": [],
   "source": [
    "def get_hrp_allocation(cov, tickers):\n",
    "    \"\"\"Compute top-down HRP weights\"\"\"\n",
    "\n",
    "    weights = pd.Series(1, index=tickers)\n",
    "    clusters = [tickers]  \n",
    "\n",
    "    while len(clusters) > 0:\n",
    "        # run bisectional search:\n",
    "        clusters = [c[start:stop] for c in clusters\n",
    "                    for start, stop in ((0, int(len(c) / 2)),\n",
    "                                        (int(len(c) / 2), len(c)))\n",
    "                    if len(c) > 1]\n",
    "        for i in range(0, len(clusters), 2):  # parse in pairs\n",
    "            cluster0 = clusters[i]\n",
    "            cluster1 = clusters[i + 1]\n",
    "\n",
    "            cluster0_var = get_cluster_var(cov, cluster0)\n",
    "            cluster1_var = get_cluster_var(cov, cluster1)\n",
    "\n",
    "            weight_scaler = 1 - cluster0_var / (cluster0_var + cluster1_var)\n",
    "            weights[cluster0] *= weight_scaler\n",
    "            weights[cluster1] *= 1 - weight_scaler\n",
    "    return weights"
   ]
  },
  {
   "cell_type": "code",
   "execution_count": 21,
   "id": "c15da8aa-0094-42c3-8c64-eef21c6bc377",
   "metadata": {},
   "outputs": [],
   "source": [
    "hrp_allocation = get_hrp_allocation(cov, sorted_tickers)"
   ]
  },
  {
   "cell_type": "markdown",
   "id": "d904f943-cc1e-4550-ae00-55a2f8ec32c9",
   "metadata": {},
   "source": [
    "#### Visualizing The Result"
   ]
  },
  {
   "cell_type": "code",
   "execution_count": 24,
   "id": "cc931c12-3bae-4336-828d-1708ffe43e04",
   "metadata": {},
   "outputs": [],
   "source": [
    "title = 'Hierarchical Risk Parity - Portfolio Allocation'\n",
    "hrp_allocation.sort_values(ascending=False).iloc[::2].plot.bar(figsize=(15, 4),\n",
    "                                                               title=title)\n",
    "sns.despine()\n",
    "plt.tight_layout()\n",
    "plt.show()"
   ]
  },
  {
   "cell_type": "code",
   "execution_count": 25,
   "id": "fb8bb834-4c02-41b9-8a78-3d89a86b2810",
   "metadata": {},
   "outputs": [],
   "source": [
    "ax = hrp_allocation.sort_values().plot.pie(figsize=(15, 15), \n",
    "                                      cmap='Blues')\n",
    "ax.set_ylabel('')\n",
    "plt.tight_layout();\n",
    "plt.show()"
   ]
  },
  {
   "cell_type": "code",
   "execution_count": null,
   "id": "46a27349-9f26-41ec-a6be-c6f539cc33ca",
   "metadata": {},
   "outputs": [],
   "source": []
  }
 ],
 "metadata": {
  "kernelspec": {
   "display_name": "Python 3 (ipykernel)",
   "language": "python",
   "name": "python3"
  },
  "language_info": {
   "codemirror_mode": {
    "name": "ipython",
    "version": 3
   },
   "file_extension": ".py",
   "mimetype": "text/x-python",
   "name": "python",
   "nbconvert_exporter": "python",
   "pygments_lexer": "ipython3",
   "version": "3.12.9"
  }
 },
 "nbformat": 4,
 "nbformat_minor": 5
}
