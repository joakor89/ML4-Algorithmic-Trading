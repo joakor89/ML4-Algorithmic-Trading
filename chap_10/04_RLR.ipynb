{
 "cells": [
  {
   "cell_type": "markdown",
   "id": "c38d6708-0492-4011-b6a1-c15216372803",
   "metadata": {},
   "source": [
    "# Rolling Linear Regression\n",
    "\n",
    "### Loading Libraries"
   ]
  },
  {
   "cell_type": "code",
   "execution_count": 4,
   "id": "0e88894c-fb2b-4dbe-9065-83df0a6c7e65",
   "metadata": {},
   "outputs": [],
   "source": [
    "# Numerical Computing\n",
    "import numpy as np\n",
    "\n",
    "# Data Manipulation\n",
    "import pandas as pd\n",
    "\n",
    "# Data Visualization\n",
    "import seaborn as sns\n",
    "import matplotlib.pyplot as plt\n",
    "\n",
    "# Warnings\n",
    "import warnings\n",
    "\n",
    "# Scikit-Learn\n",
    "from sklearn.preprocessing import scale\n",
    "\n",
    "# Theano\n",
    "# import theano\n",
    "\n",
    "# PyMC3 & ArViz\n",
    "import arviz\n",
    "# import pymc3 as pm\n",
    "\n",
    "# Path\n",
    "from pathlib import Path\n",
    "\n",
    "# yFinance\n",
    "import yfinance as yf"
   ]
  },
  {
   "cell_type": "code",
   "execution_count": 5,
   "id": "ca6a9178-c68a-4547-bd06-37fb7fa24847",
   "metadata": {},
   "outputs": [],
   "source": [
    "sns.set_style('whitegrid')\n",
    "\n",
    "# model_path = Path('models')\n",
    "\n",
    "warnings.filterwarnings('ignore')"
   ]
  },
  {
   "cell_type": "markdown",
   "id": "4e3cfa39-a39a-45aa-9d54-51ab4a22acae",
   "metadata": {},
   "source": [
    "### Simple Linear Regression Demo\n",
    "\n",
    "#### Artificial Data"
   ]
  },
  {
   "cell_type": "code",
   "execution_count": 7,
   "id": "c3f40a36-322a-42a7-bf26-74bca886937c",
   "metadata": {},
   "outputs": [],
   "source": [
    "size = 200\n",
    "true_intercept = 1\n",
    "true_slope = 2\n",
    "\n",
    "x = np.linspace(0, 1, size)\n",
    "true_regression_line = true_intercept + true_slope * x\n",
    "y = true_regression_line + np.random.normal(scale=.5, size=size)\n",
    "\n",
    "x_shared = theano.shared(x)"
   ]
  },
  {
   "cell_type": "markdown",
   "id": "2ff6a05e-6633-4da9-8765-cc9f705c8218",
   "metadata": {},
   "source": [
    "#### Model Definition"
   ]
  },
  {
   "cell_type": "code",
   "execution_count": 8,
   "id": "7327ae66-6080-4aae-9c10-25874c08244c",
   "metadata": {},
   "outputs": [],
   "source": [
    "with pm.Model() as linear_regression: \n",
    "\n",
    "    # Define priors\n",
    "    sd = pm.HalfCauchy('sigma', beta=10, testval=1) \n",
    "    intercept = pm.Normal('intercept', 0, sd=20)\n",
    "    slope = pm.Normal('slope', 0, sd=20)\n",
    "\n",
    "    # Define likelihood\n",
    "    likelihood = pm.Normal('y', mu=intercept + slope * x_shared, sd=sd, observed=y)"
   ]
  },
  {
   "cell_type": "code",
   "execution_count": 9,
   "id": "254144f4-3c0b-4c32-80ec-f9afcf52793b",
   "metadata": {},
   "outputs": [],
   "source": [
    "pm.model_to_graphviz(linear_regression)"
   ]
  },
  {
   "cell_type": "markdown",
   "id": "cf413e2c-ea0a-4458-bcf9-f08c1d19c486",
   "metadata": {},
   "source": [
    "#### HMC Inference"
   ]
  },
  {
   "cell_type": "code",
   "execution_count": 10,
   "id": "da71fcc4-3c0c-4a07-b0e8-80a9ab63bb90",
   "metadata": {},
   "outputs": [],
   "source": [
    "with linear_regression:\n",
    "    # Inference\n",
    "    trace = pm.sample(draws=2500, \n",
    "                      tune=1000, \n",
    "                      cores=1) "
   ]
  },
  {
   "cell_type": "markdown",
   "id": "f9c34459-1d39-4422-b767-baff0bc7d3c3",
   "metadata": {},
   "source": [
    "#### Posterior Parameter Distributions"
   ]
  },
  {
   "cell_type": "code",
   "execution_count": 12,
   "id": "c61f71bf-7bfd-4277-b0cf-9f7b94eb2aa8",
   "metadata": {},
   "outputs": [],
   "source": [
    "arviz.plot_posterior(trace);\n",
    "plt.show()"
   ]
  },
  {
   "cell_type": "markdown",
   "id": "9c1759a4-810c-44a5-a1c8-a3ebdab6ae27",
   "metadata": {},
   "source": [
    "### Linear Regression for Pairs Trading"
   ]
  },
  {
   "cell_type": "code",
   "execution_count": 13,
   "id": "00c3bd41-a618-492b-b786-91ace80e1882",
   "metadata": {},
   "outputs": [],
   "source": [
    "prices = yf.download('GFI GLD', period='max').dropna().loc[:, 'Close']"
   ]
  },
  {
   "cell_type": "code",
   "execution_count": 14,
   "id": "4683238a-5332-4c20-971a-ce0b6dc86b36",
   "metadata": {},
   "outputs": [],
   "source": [
    "returns = prices.pct_change().dropna()"
   ]
  },
  {
   "cell_type": "code",
   "execution_count": 15,
   "id": "079d130a-b50d-4efc-a958-4f0ea48258c7",
   "metadata": {},
   "outputs": [],
   "source": [
    "prices.info()"
   ]
  },
  {
   "cell_type": "code",
   "execution_count": 16,
   "id": "3495b606-8ee2-4ace-b670-11d643b56662",
   "metadata": {},
   "outputs": [],
   "source": [
    "returns.info()"
   ]
  },
  {
   "cell_type": "code",
   "execution_count": 17,
   "id": "ef821f66-4069-482d-aefd-01091458a39b",
   "metadata": {},
   "outputs": [],
   "source": [
    "prices_normed = prices.apply(scale)"
   ]
  },
  {
   "cell_type": "code",
   "execution_count": 18,
   "id": "922b27cb-2d2c-4a5c-a10b-c70d2c46f8c4",
   "metadata": {},
   "outputs": [],
   "source": [
    "fig, axes= plt.subplots(figsize=(14,4), ncols=2)\n",
    "\n",
    "prices.plot(secondary_y='GFI', ax=axes[0])\n",
    "axes[0].set_title('Asset Price Series')\n",
    "points = axes[1].scatter(prices.GLD,\n",
    "                         prices.GFI,\n",
    "                         c=np.linspace(0.1, 1, len(prices)), \n",
    "                         s=15, \n",
    "                         cmap='winter')\n",
    "axes[1].set_title('Price Correlation over Time')\n",
    "cbar = plt.colorbar(points, ax=axes[1])\n",
    "cbar.ax.set_yticklabels([str(p.year) for p in returns[::len(returns)//10].index]);\n",
    "\n",
    "sns.regplot(x='GLD', y='GFI', \n",
    "            data=prices, \n",
    "            scatter=False, \n",
    "            color='k',\n",
    "            line_kws={'lw':1, \n",
    "                      'ls':'--'},\n",
    "            ax=axes[1])\n",
    "sns.despine()\n",
    "fig.tight_layout();\n",
    "plt.show()"
   ]
  },
  {
   "cell_type": "code",
   "execution_count": 19,
   "id": "03b698a2-8575-4e1a-bd16-beca50ef9210",
   "metadata": {},
   "outputs": [],
   "source": [
    "with pm.Model() as model_reg:\n",
    "    pm.glm.GLM.from_formula('GFI ~ GLD', prices)\n",
    "    trace_reg = pm.sample(draws=5000,\n",
    "                          tune=1000,\n",
    "                          cores=1)"
   ]
  },
  {
   "cell_type": "code",
   "execution_count": 20,
   "id": "99cbdb64-b721-48ea-ac93-51a085528c24",
   "metadata": {},
   "outputs": [],
   "source": [
    "fig = plt.figure(figsize=(10, 5))\n",
    "ax = fig.add_subplot(111, \n",
    "                     xlabel='GLD', \n",
    "                     ylabel='GFI',\n",
    "                     title='Posterior predictive regression lines')\n",
    "points = ax.scatter(prices.GLD,\n",
    "                         prices.GFI,\n",
    "                         c=np.linspace(0.1, 1, len(prices)), \n",
    "                         s=15, \n",
    "                         cmap='winter')\n",
    "\n",
    "pm.plot_posterior_predictive_glm(trace_reg[100:], \n",
    "                                 samples=250, \n",
    "                                 label='posterior predictive regression lines',\n",
    "                                 lm=lambda x, \n",
    "                                 sample: sample['Intercept'] + sample['GLD'] * x,\n",
    "                                 eval=np.linspace(prices.GLD.min(), prices.GLD.max(), 100))\n",
    "cb = plt.colorbar(points)\n",
    "cb.ax.set_yticklabels([str(p.year) for p in prices[::len(prices)//10].index]);\n",
    "ax.legend(loc=0);\n",
    "plt.show()"
   ]
  },
  {
   "cell_type": "markdown",
   "id": "66f1a43e-3e27-4042-bf0b-9b78666835b9",
   "metadata": {},
   "source": [
    "### Rolling Regression"
   ]
  },
  {
   "cell_type": "code",
   "execution_count": 21,
   "id": "713db083-0e45-4996-9e29-11c0e57450de",
   "metadata": {},
   "outputs": [],
   "source": [
    "model_randomwalk = pm.Model()\n",
    "\n",
    "with model_randomwalk:\n",
    "    sigma_alpha = pm.Exponential('sigma_alpha', 50.)    \n",
    "    alpha = pm.GaussianRandomWalk('alpha', \n",
    "                                  sd=sigma_alpha, \n",
    "                                  shape=len(prices))\n",
    "    \n",
    "    sigma_beta = pm.Exponential('sigma_beta', 50.) \n",
    "    beta = pm.GaussianRandomWalk('beta', \n",
    "                                 sd=sigma_beta, \n",
    "                                 shape=len(prices))"
   ]
  },
  {
   "cell_type": "code",
   "execution_count": 22,
   "id": "913b2043-04cf-43d2-8f32-ec2bf85da15d",
   "metadata": {},
   "outputs": [],
   "source": [
    "with model_randomwalk:\n",
    "    # Define Regression\n",
    "    regression = alpha + beta * prices_normed.GLD\n",
    "    \n",
    "    sd = pm.HalfNormal('sd', sd=.1)\n",
    "    likelihood = pm.Normal('y', \n",
    "                           mu=regression, \n",
    "                           sd=sd, \n",
    "                           observed=prices_normed.GFI)"
   ]
  },
  {
   "cell_type": "code",
   "execution_count": 23,
   "id": "114fd9da-3939-451c-85fa-0bd64a282c50",
   "metadata": {},
   "outputs": [],
   "source": [
    "with model_randomwalk:\n",
    "    trace_rw = pm.sample(tune=2000, \n",
    "                         draws=200,\n",
    "                         cores=1,\n",
    "                         target_accept=.9)"
   ]
  },
  {
   "cell_type": "markdown",
   "id": "19dd6742-52f2-4bd4-aee5-3d89cdd46c71",
   "metadata": {},
   "source": [
    "### Results Analysis"
   ]
  },
  {
   "cell_type": "code",
   "execution_count": 24,
   "id": "3ba2f0e9-72e7-4e34-88b2-a75e9340fe67",
   "metadata": {},
   "outputs": [],
   "source": [
    "fig, axes = plt.subplots(figsize=(15, 5), ncols=2, sharex=True)\n",
    "\n",
    "axes[0].plot(trace_rw['alpha'].T, 'r', alpha=.05)\n",
    "axes[0].set_xlabel('Time') \n",
    "axes[0].set_ylabel('Alpha')\n",
    "axes[0].set_title('Intercept')\n",
    "axes[0].set_xticklabels([str(p.date()) for p in prices[::len(prices)//9].index])\n",
    "\n",
    "axes[1].plot(trace_rw['beta'].T, 'b', alpha=.05)\n",
    "axes[1].set_xlabel('Time') \n",
    "axes[1].set_ylabel('Beta')\n",
    "axes[1].set_title('Slope')\n",
    "\n",
    "fig.suptitle('Changes of coefficients over time', fontsize=14)\n",
    "sns.despine()\n",
    "fig.tight_layout()\n",
    "fig.subplots_adjust(top=.9);\n",
    "plt.show()"
   ]
  },
  {
   "cell_type": "code",
   "execution_count": 25,
   "id": "522a0ea2-6e85-4fa2-a97d-7a3d31f60415",
   "metadata": {},
   "outputs": [],
   "source": [
    "x = np.linspace(prices_normed.GLD.min(), \n",
    "                 prices_normed.GLD.max())\n",
    "\n",
    "dates = [str(p.year) for p in prices[::len(prices)//9].index]\n",
    "\n",
    "colors = np.linspace(0.1, 1, len(prices))\n",
    "colors_sc = np.linspace(0.1, 1, len(trace_rw[::10]['alpha'].T))\n",
    "\n",
    "cmap = plt.get_cmap('winter')"
   ]
  },
  {
   "cell_type": "code",
   "execution_count": 26,
   "id": "3e8b04c9-0d78-4736-aa2f-759fd86cc28f",
   "metadata": {},
   "outputs": [],
   "source": [
    "fig, ax = plt.subplots(figsize=(14, 8))\n",
    "\n",
    "for i, (alpha, beta) in enumerate(zip(trace_rw[::25]['alpha'].T, \n",
    "                                      trace_rw[::25]['beta'].T)):\n",
    "    for a, b in zip(alpha[::25], beta[::25]):\n",
    "        ax.plot(x,\n",
    "                a + b*x,\n",
    "                alpha=.01,\n",
    "                lw=.5,\n",
    "                c=cmap(colors_sc[i]))\n",
    "        \n",
    "points = ax.scatter(prices_normed.GLD,\n",
    "                    prices_normed.GFI,\n",
    "                    c=colors,\n",
    "                    s=5, \n",
    "                    cmap=cmap)\n",
    "\n",
    "cbar = plt.colorbar(points)\n",
    "cbar.ax.set_yticklabels(dates);\n",
    "\n",
    "ax.set_xlabel('GLD')\n",
    "ax.set_ylabel('GFI')\n",
    "ax.set_title('Posterior predictive regression lines')\n",
    "sns.despine()\n",
    "fig.tight_layout();\n",
    "plt.show()"
   ]
  },
  {
   "cell_type": "code",
   "execution_count": null,
   "id": "cc1e7ede-847a-40b4-922f-2a7c196ae70a",
   "metadata": {},
   "outputs": [],
   "source": []
  }
 ],
 "metadata": {
  "kernelspec": {
   "display_name": "Python 3 (ipykernel)",
   "language": "python",
   "name": "python3"
  },
  "language_info": {
   "codemirror_mode": {
    "name": "ipython",
    "version": 3
   },
   "file_extension": ".py",
   "mimetype": "text/x-python",
   "name": "python",
   "nbconvert_exporter": "python",
   "pygments_lexer": "ipython3",
   "version": "3.12.9"
  }
 },
 "nbformat": 4,
 "nbformat_minor": 5
}
