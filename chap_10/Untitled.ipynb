{
 "cells": [
  {
   "cell_type": "code",
   "execution_count": null,
   "id": "cc1a4347-fff7-4504-973e-641ce4139b7c",
   "metadata": {},
   "outputs": [],
   "source": []
  }
 ],
 "metadata": {
  "kernelspec": {
   "display_name": "",
   "name": ""
  },
  "language_info": {
   "name": ""
  }
 },
 "nbformat": 4,
 "nbformat_minor": 5
}
