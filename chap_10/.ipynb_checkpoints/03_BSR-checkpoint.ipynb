{
 "cells": [
  {
   "cell_type": "markdown",
   "id": "a8abc918-8559-4e5b-89ca-61862157f611",
   "metadata": {},
   "source": [
    "# Bayesian Sharpe Ratio & Performance Comparison\n",
    "\n",
    "### Loading Libraries"
   ]
  },
  {
   "cell_type": "code",
   "execution_count": 3,
   "id": "d5a2ebfc-ee7c-4d90-a8f5-3edbd6199f3f",
   "metadata": {},
   "outputs": [],
   "source": [
    "# Warnings\n",
    "import warnings\n",
    "\n",
    "# Data Visualization\n",
    "import seaborn as sns\n",
    "import matplotlib.pyplot as plt\n",
    "from matplotlib import gridspec\n",
    "\n",
    "# Data Manipulation\n",
    "import pandas as pd\n",
    "import pandas_datareader.data as web\n",
    "\n",
    "# Numerical Computing\n",
    "import numpy as np\n",
    "\n",
    "# PyMC3\n",
    "# import pymc3 as pm\n",
    "\n",
    "# SciPy\n",
    "from scipy import stats\n",
    "\n",
    "# ArViz\n",
    "import arviz"
   ]
  },
  {
   "cell_type": "code",
   "execution_count": 4,
   "id": "c5f25e79-4231-43b9-a0a4-cb127a7abb5b",
   "metadata": {},
   "outputs": [],
   "source": [
    "warnings.filterwarnings('ignore')"
   ]
  },
  {
   "cell_type": "code",
   "execution_count": 5,
   "id": "f982f11e-2943-4b79-b7eb-c214ac3660a4",
   "metadata": {},
   "outputs": [],
   "source": [
    "benchmark = web.DataReader('SP500', data_source='fred', start=2010)\n",
    "benchmark.columns = ['benchmark']"
   ]
  },
  {
   "cell_type": "code",
   "execution_count": 6,
   "id": "9c154628-5177-488f-8aa3-795305872d48",
   "metadata": {},
   "outputs": [],
   "source": [
    "with pd.HDFStore('../data/assets.h5') as store:\n",
    "    stock = store['quandl/wiki/prices'].adj_close.unstack()['AMZN'].to_frame('stock')"
   ]
  },
  {
   "cell_type": "code",
   "execution_count": 7,
   "id": "56353ca1-e946-4d72-bfdc-eae2b74925f9",
   "metadata": {},
   "outputs": [],
   "source": [
    "data = stock.join(benchmark).pct_change().dropna().loc['2010':]"
   ]
  },
  {
   "cell_type": "code",
   "execution_count": 8,
   "id": "e6fd708b-0a23-4e30-9551-d5de2cdd892b",
   "metadata": {},
   "outputs": [],
   "source": [
    "data.info()"
   ]
  },
  {
   "cell_type": "markdown",
   "id": "45bdcbd0-2a74-4f4d-afeb-bd56cd37cc1d",
   "metadata": {},
   "source": [
    "### Modeling `The Sharpe Ratio`\n",
    "\n",
    "#### Defining Probability Model"
   ]
  },
  {
   "cell_type": "code",
   "execution_count": 10,
   "id": "dced99a8-ab90-4008-a633-9a1dead96415",
   "metadata": {},
   "outputs": [],
   "source": [
    "mean_prior = data.stock.mean()\n",
    "std_prior = data.stock.std()\n",
    "std_low = std_prior / 1000\n",
    "std_high = std_prior * 1000\n",
    "\n",
    "with pm.Model() as sharpe_model:\n",
    "    mean = pm.Normal('mean', mu=mean_prior, sd=std_prior)\n",
    "    std = pm.Uniform('std', lower=std_low, upper=std_high)\n",
    "\n",
    "    nu = pm.Exponential('nu_minus_two', 1 / 29, testval=4) + 2.\n",
    "    returns = pm.StudentT('returns', nu=nu, mu=mean, sd=std, observed=data.stock)\n",
    "\n",
    "    sharpe = returns.distribution.mean / returns.distribution.variance ** .5 * np.sqrt(252)\n",
    "    pm.Deterministic('sharpe', sharpe)"
   ]
  },
  {
   "cell_type": "code",
   "execution_count": 11,
   "id": "2137fc6b-eb1f-4dc8-80da-113fc619f389",
   "metadata": {},
   "outputs": [],
   "source": [
    "sharpe_model.model"
   ]
  },
  {
   "cell_type": "markdown",
   "id": "983fab37-689d-48c2-ab75-93884a6ab2de",
   "metadata": {},
   "source": [
    "#### Model Visualization"
   ]
  },
  {
   "cell_type": "code",
   "execution_count": 12,
   "id": "7492dad3-cc23-4b2d-8371-92dc36e901c0",
   "metadata": {},
   "outputs": [],
   "source": [
    "pm.model_to_graphviz(model=sharpe_model)"
   ]
  },
  {
   "cell_type": "code",
   "execution_count": 13,
   "id": "b190437f-7d58-458b-9f1c-84e08a819fb6",
   "metadata": {},
   "outputs": [],
   "source": [
    "# optionally: persist graph\n",
    "# graph = pm.model_to_graphviz(model=sharpe_model)\n",
    "# graph.save('sharpe.dot')"
   ]
  },
  {
   "cell_type": "markdown",
   "id": "3a54fb3e-a307-4b29-9bfa-f4edb9f1489b",
   "metadata": {},
   "source": [
    "### Approximate Inference: Hamiltonian Monte Carlo with the No U-Turn Sampler"
   ]
  },
  {
   "cell_type": "code",
   "execution_count": 14,
   "id": "b108b02d-5e77-4787-aa95-b23c6518cbbf",
   "metadata": {},
   "outputs": [],
   "source": [
    "tune = 2000\n",
    "\n",
    "draws = 200\n",
    "\n",
    "with sharpe_model:\n",
    "    trace = pm.sample(tune=tune, \n",
    "                      draws=draws, \n",
    "                      chains=4, \n",
    "                      cores=1)"
   ]
  },
  {
   "cell_type": "markdown",
   "id": "060be5fb-c11f-44c5-b19f-523e1db25da4",
   "metadata": {},
   "source": [
    "#### Inspecting Trace"
   ]
  },
  {
   "cell_type": "code",
   "execution_count": 16,
   "id": "61a9d852-c0e1-4e75-8c83-19ecf16f46b8",
   "metadata": {},
   "outputs": [],
   "source": [
    "trace_df = pm.trace_to_dataframe(trace).assign(chain=lambda x: x.index // draws)\n",
    "trace_df.info()"
   ]
  },
  {
   "cell_type": "code",
   "execution_count": 17,
   "id": "ab7202e5-58f2-4e4b-828c-c59c7deeaf26",
   "metadata": {},
   "outputs": [],
   "source": [
    "arviz.plot_trace(data=trace);"
   ]
  },
  {
   "cell_type": "markdown",
   "id": "c9eb048a-5367-4ea3-beaf-2b9231db79ca",
   "metadata": {},
   "source": [
    "#### Continuing Sampling"
   ]
  },
  {
   "cell_type": "code",
   "execution_count": 18,
   "id": "73346103-cb69-40fb-82fa-5b43ecdc5705",
   "metadata": {},
   "outputs": [],
   "source": [
    "draws = 25000\n",
    "\n",
    "with sharpe_model:\n",
    "    trace = pm.sample(draws=draws, \n",
    "                      trace=trace, \n",
    "                      chains=4, \n",
    "                      cores=1)"
   ]
  },
  {
   "cell_type": "code",
   "execution_count": 19,
   "id": "19b5a54b-d51f-446f-b7fa-aa94445b7134",
   "metadata": {},
   "outputs": [],
   "source": [
    "pm.trace_to_dataframe(trace).shape"
   ]
  },
  {
   "cell_type": "code",
   "execution_count": 20,
   "id": "6ef2ba7f-24e3-4e74-8d28-e9589bed23da",
   "metadata": {},
   "outputs": [],
   "source": [
    "df = pm.trace_to_dataframe(trace).iloc[400:].reset_index(drop=True).assign(chain=lambda x: x.index // draws)\n",
    "\n",
    "trace_df = pd.concat([trace_df.assign(run=1),\n",
    "                      df.assign(run=2)])\n",
    "\n",
    "trace_df.info()        "
   ]
  },
  {
   "cell_type": "code",
   "execution_count": 21,
   "id": "c65ca93a-cdd7-4256-be73-3aa088f92260",
   "metadata": {},
   "outputs": [],
   "source": [
    "trace_df_long = pd.melt(trace_df, id_vars=['run', 'chain'])\n",
    "trace_df_long.info()"
   ]
  },
  {
   "cell_type": "code",
   "execution_count": 22,
   "id": "59788d6f-f815-42e3-9eee-0317b186564c",
   "metadata": {},
   "outputs": [],
   "source": [
    "g = sns.FacetGrid(trace_df_long, col='variable', row='run', hue='chain', sharex='col', sharey=False)\n",
    "g = g.map(sns.distplot, 'value', hist=False, rug=False)"
   ]
  },
  {
   "cell_type": "code",
   "execution_count": 23,
   "id": "9ddee4f3-368a-4ba3-afb7-aa3c954b044c",
   "metadata": {},
   "outputs": [],
   "source": [
    "arviz.plot_trace(data=trace);"
   ]
  },
  {
   "cell_type": "code",
   "execution_count": 24,
   "id": "30573f33-038b-4950-896e-2b646c368cc9",
   "metadata": {},
   "outputs": [],
   "source": [
    "arviz.plot_posterior(data=trace)"
   ]
  },
  {
   "cell_type": "code",
   "execution_count": 25,
   "id": "abc7adce-02e0-412c-955c-04819902f5f1",
   "metadata": {},
   "outputs": [],
   "source": [
    "arviz.plot_forest(data=trace);"
   ]
  },
  {
   "cell_type": "markdown",
   "id": "b00c554d-7a74-47bd-93ea-dbe22265c2af",
   "metadata": {},
   "source": [
    "### Comparing Group Means: Bayesian Estimation Supersedes The T-Test (BEST)\n",
    "\n",
    "#### The Data"
   ]
  },
  {
   "cell_type": "code",
   "execution_count": 27,
   "id": "41a23086-69f5-4955-98f5-36355c2a5416",
   "metadata": {},
   "outputs": [],
   "source": [
    "data.describe()"
   ]
  },
  {
   "cell_type": "markdown",
   "id": "d2951b4e-be5c-4a2a-9e8c-ec6285df63ba",
   "metadata": {},
   "source": [
    "#### Sharpe Ratio Comparison as a Probabilistic Model"
   ]
  },
  {
   "cell_type": "code",
   "execution_count": 30,
   "id": "ebaad834-92af-433f-9b56-c5b6fa29b697",
   "metadata": {},
   "outputs": [],
   "source": [
    "group = {1: data.stock, 2: data.benchmark}\n",
    "combined = pd.concat([g for i, g in group.items()])\n",
    "\n",
    "# Priors\n",
    "mean_prior = combined.mean()\n",
    "std_prior = combined.std()\n",
    "std_low = std_prior / 1000\n",
    "std_high = std_prior * 1000\n",
    "T = 251 ** .5\n",
    "mean, std, returns = {}, {}, {}\n",
    "\n",
    "with pm.Model() as best:\n",
    "    nu = pm.Exponential('nu_minus_two', 1 / 29, testval=4) + 2.\n",
    "    for i in [1, 2]:\n",
    "        mean[i] = pm.Normal(f'mean_g{i}', mu=mean_prior, sd=std_prior, testval=group[i].mean())\n",
    "        std[i] = pm.Uniform(f'std_g{i}', lower=std_low, upper=std_high, testval=group[i].std())\n",
    "        returns[i] = pm.StudentT(f'returns_g{i}', nu=nu, mu=mean[i], sd=std[i], observed=group[i])\n",
    "        pm.Deterministic(f'vol_g{i}', returns[i].distribution.sd * T)\n",
    "        pm.Deterministic(f'sharpe_g{i}', returns[i].distribution.mean / returns[i].distribution.sd * T)\n",
    "        \n",
    "    mean_diff = pm.Deterministic('mean diff', mean[1] - mean[2])\n",
    "    pm.Deterministic('std diff', std[1] - std[2])\n",
    "    pm.Deterministic('effect size', mean_diff / (std[i] ** 2 + std[2] ** 2) ** .5 / 2)"
   ]
  },
  {
   "cell_type": "markdown",
   "id": "b1155441-a739-4106-a105-36a45fbcba00",
   "metadata": {},
   "source": [
    "#### Inspecting The Model"
   ]
  },
  {
   "cell_type": "code",
   "execution_count": 31,
   "id": "7ae00343-9b35-4b34-82f0-a12e40163379",
   "metadata": {},
   "outputs": [],
   "source": [
    "pm.model_to_graphviz(model=best)"
   ]
  },
  {
   "cell_type": "code",
   "execution_count": 32,
   "id": "b3d9a8b2-d379-4ba2-8eb1-3af4ee9b6076",
   "metadata": {},
   "outputs": [],
   "source": [
    "# optional\n",
    "# graph = pm.model_to_graphviz(model=best)\n",
    "# graph.save('best.dot')"
   ]
  },
  {
   "cell_type": "markdown",
   "id": "7e1f2375-3568-4059-bac0-c8b0dcb97614",
   "metadata": {},
   "source": [
    "### HMC NUTS Sampling"
   ]
  },
  {
   "cell_type": "code",
   "execution_count": 33,
   "id": "0f4369b4-345c-48dd-b3ba-fb444322ee38",
   "metadata": {},
   "outputs": [],
   "source": [
    "with best:    \n",
    "    trace = pm.sample(draws=10000, \n",
    "                      tune=2500, \n",
    "                      progressbar=True, \n",
    "                      cores=1)"
   ]
  },
  {
   "cell_type": "code",
   "execution_count": 34,
   "id": "dc90e6e4-9dfb-4d3c-8fbb-7d87d0e64fa1",
   "metadata": {},
   "outputs": [],
   "source": [
    "pm.trace_to_dataframe(trace).info()"
   ]
  },
  {
   "cell_type": "markdown",
   "id": "81f98ab4-dc31-4a15-9d71-c1f766deb1e6",
   "metadata": {},
   "source": [
    "#### Evaluating The Trace"
   ]
  },
  {
   "cell_type": "code",
   "execution_count": 35,
   "id": "484b99be-0e01-479d-bffa-55741f4a48dc",
   "metadata": {},
   "outputs": [],
   "source": [
    "burn = 0\n",
    "trace = trace[burn:]\n",
    "\n",
    "fig = plt.figure(figsize=(14, 8), constrained_layout=True)\n",
    "gs = gridspec.GridSpec(4, 2, wspace=0.1, hspace=0.4)\n",
    "axs = [plt.subplot(gs[i, j]) for i in [0, 1, 2] for j in [0, 1]]\n",
    "axs.append(plt.subplot(gs[3, :]))\n",
    "\n",
    "def distplot_w_perc(trace, ax):\n",
    "    sns.distplot(trace, ax=ax)\n",
    "    ax.axvline(stats.scoreatpercentile(trace, 2.5), color='0.5', label='2.5 and 97.5 percentiles')\n",
    "    ax.axvline(stats.scoreatpercentile(trace, 97.5), color='0.5')\n",
    "\n",
    "for i in [1, 2]:\n",
    "    label = f'Group {i}'\n",
    "    sns.distplot(trace[f'mean_g{i}'], ax=axs[0], label=label)\n",
    "    sns.distplot(trace[f'vol_g{i}'], ax=axs[2], label=label)\n",
    "    sns.distplot(trace[f'sharpe_g{i}'], ax=axs[4], label=label)\n",
    "\n",
    "distplot_w_perc(trace['mean diff'], axs[1])\n",
    "distplot_w_perc(trace['vol_g1'] - trace['vol_g2'], axs[3])\n",
    "distplot_w_perc(trace['sharpe_g1'] - trace['sharpe_g2'], axs[5]) \n",
    "\n",
    "sns.distplot(trace['effect size'], ax=axs[6])\n",
    "for p in [2.5, 97.5]:\n",
    "    axs[6].axvline(stats.scoreatpercentile(trace['effect size'], p), color='0.5')\n",
    "\n",
    "for i in range(5):\n",
    "    axs[i].legend(loc=0, frameon=True, framealpha=0.5)\n",
    "\n",
    "axs[0].set(xlabel='Mean', ylabel='Belief', yticklabels=[])\n",
    "axs[1].set(xlabel='Difference of means', yticklabels=[])\n",
    "axs[2].set(xlabel='Annual volatility', ylabel='Belief', yticklabels=[])\n",
    "axs[3].set(xlabel='Difference of volatility', yticklabels=[])\n",
    "axs[4].set(xlabel='Sharpe', ylabel='Belief', yticklabels=[])\n",
    "axs[5].set(xlabel='Difference of Sharpes', yticklabels=[])\n",
    "axs[6].set(xlabel='Difference of means normalized by volatility', ylabel='Belief', yticklabels=[])\n",
    "sns.despine()\n",
    "fig.tight_layout()\n",
    "plt.show()"
   ]
  },
  {
   "cell_type": "code",
   "execution_count": 36,
   "id": "da0fca99-cb26-4092-81df-681bd096c1c1",
   "metadata": {},
   "outputs": [],
   "source": [
    "def plot_traces(traces, burnin=2000):\n",
    "    ''' \n",
    "    Plot traces with overlaid means and values\n",
    "    '''\n",
    "    summary = arviz.summary(traces[burnin:])['mean'].to_dict()\n",
    "    ax = arviz.plot_trace(traces[burnin:],\n",
    "                      figsize=(15, len(traces.varnames)*1.5),\n",
    "                      lines=summary)\n",
    "\n",
    "    for i, mn in enumerate(summary.values()):\n",
    "        ax[i, 0].annotate(f'{mn:.2f}', \n",
    "                          xy=(mn, 0), \n",
    "                          xycoords='data', \n",
    "                          xytext=(5, 10), \n",
    "                          textcoords='offset points', \n",
    "                          rotation=90, \n",
    "                          va='bottom', \n",
    "                          fontsize='large', \n",
    "                          color='#AA0022')"
   ]
  },
  {
   "cell_type": "code",
   "execution_count": 37,
   "id": "e104c528-f922-4cf6-b88b-a5b814ac9c5a",
   "metadata": {},
   "outputs": [],
   "source": [
    "plot_traces(trace, burnin=0)\n",
    "plt.show()"
   ]
  },
  {
   "cell_type": "code",
   "execution_count": null,
   "id": "70983b08-15fe-4a4e-b7e4-c88b3d79af38",
   "metadata": {},
   "outputs": [],
   "source": []
  }
 ],
 "metadata": {
  "kernelspec": {
   "display_name": "Python 3 (ipykernel)",
   "language": "python",
   "name": "python3"
  },
  "language_info": {
   "codemirror_mode": {
    "name": "ipython",
    "version": 3
   },
   "file_extension": ".py",
   "mimetype": "text/x-python",
   "name": "python",
   "nbconvert_exporter": "python",
   "pygments_lexer": "ipython3",
   "version": "3.12.9"
  }
 },
 "nbformat": 4,
 "nbformat_minor": 5
}
