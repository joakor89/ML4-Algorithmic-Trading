{
 "cells": [
  {
   "cell_type": "markdown",
   "id": "23785020-30ac-4f37-a2c6-eefdc580f8ab",
   "metadata": {},
   "source": [
    "# Stochastic Volatility Model\n",
    "\n",
    "### Loading Libraries"
   ]
  },
  {
   "cell_type": "code",
   "execution_count": 1,
   "id": "dec8ed19-29a7-4df4-bcf9-d660f4640abd",
   "metadata": {},
   "outputs": [],
   "source": [
    "# Numerical Computing\n",
    "import numpy as np\n",
    "\n",
    "# Data Manipulation\n",
    "import pandas as pd\n",
    "\n",
    "# Data Visualization\n",
    "import seaborn as sns\n",
    "import matplotlib.pyplot as plt\n",
    "from matplotlib.ticker import FuncFormatter\n",
    "\n",
    "# Warnings\n",
    "import warnings\n",
    "\n",
    "# Scikit-Learn\n",
    "from sklearn.preprocessing import scale\n",
    "\n",
    "# Theano\n",
    "# import theano\n",
    "\n",
    "# PyMC3 & ArViz\n",
    "import arviz\n",
    "# import pymc3 as pm\n",
    "# from pymc3.distributions.timeseries import GaussianRandomWalk\n",
    "\n",
    "# Path\n",
    "from pathlib import Path\n"
   ]
  },
  {
   "cell_type": "code",
   "execution_count": 2,
   "id": "fc66ecb2-9e30-48a5-bcff-43bff75a8ad1",
   "metadata": {},
   "outputs": [],
   "source": [
    "sns.set_style('whitegrid')\n",
    "\n",
    "# model_path = Path('models')\n",
    "\n",
    "warnings.filterwarnings('ignore')"
   ]
  },
  {
   "cell_type": "markdown",
   "id": "466031ec-ad36-48d0-ad9d-9a89abac203d",
   "metadata": {},
   "source": [
    "### Getting Return Data"
   ]
  },
  {
   "cell_type": "code",
   "execution_count": 13,
   "id": "4748c17a-c12b-483b-875f-76872fc80eb2",
   "metadata": {},
   "outputs": [],
   "source": [
    "prices = pd.read_hdf('../data/assets.h5', key='sp500/stooq').loc['2000':, 'close']\n",
    "log_returns = np.log(prices).diff().dropna()"
   ]
  },
  {
   "cell_type": "code",
   "execution_count": 14,
   "id": "f2f3ee17-ee02-4953-a43c-a1aa0812cfa0",
   "metadata": {},
   "outputs": [],
   "source": [
    "ax = log_returns.plot(figsize=(15, 4),\n",
    "                      title='S&P 500 | Daily Log Returns',\n",
    "                      rot=0)\n",
    "\n",
    "ax.yaxis.set_major_formatter(FuncFormatter(lambda y, _: '{:.0%}'.format(y)))\n",
    "sns.despine()\n",
    "plt.tight_layout();\n",
    "plt.show()"
   ]
  },
  {
   "cell_type": "markdown",
   "id": "61c139ca-0d4c-4ff8-a1dd-9272a86981da",
   "metadata": {},
   "source": [
    "### Specify Model in PyMC3"
   ]
  },
  {
   "cell_type": "code",
   "execution_count": 15,
   "id": "a3200413-778c-4bed-8d59-b483a84c8675",
   "metadata": {},
   "outputs": [],
   "source": [
    "with pm.Model() as model:\n",
    "    step_size = pm.Exponential('sigma', 50.)\n",
    "    s = GaussianRandomWalk('s', sd=step_size, \n",
    "                           shape=len(log_returns))\n",
    "    nu = pm.Exponential('nu', .1)\n",
    "    r = pm.StudentT('r', nu=nu, \n",
    "                    lam=pm.math.exp(-2*s), \n",
    "                    observed=log_returns)"
   ]
  },
  {
   "cell_type": "code",
   "execution_count": 16,
   "id": "e520e811-5244-49d4-bba4-73fcd58e7029",
   "metadata": {},
   "outputs": [],
   "source": [
    "pm.model_to_graphviz(model)"
   ]
  },
  {
   "cell_type": "markdown",
   "id": "2671cc0d-3197-4a42-b81c-c27522137cff",
   "metadata": {},
   "source": [
    "### Fitting Model"
   ]
  },
  {
   "cell_type": "code",
   "execution_count": 17,
   "id": "e27bc6a5-8640-44ca-b2e0-89f1922a5165",
   "metadata": {},
   "outputs": [],
   "source": [
    "with model:\n",
    "    trace = pm.sample(tune=2000, \n",
    "                      draws=5000,\n",
    "                      chains=4,\n",
    "                      cores=1,\n",
    "                      target_accept=.9)"
   ]
  },
  {
   "cell_type": "code",
   "execution_count": 18,
   "id": "67e2f35f-e02c-4312-9952-0ecc56b4beac",
   "metadata": {},
   "outputs": [],
   "source": [
    "with open('model_vol.pkl', 'wb') as buff:\n",
    "    pickle.dump({'model': model, 'trace': trace}, buff)"
   ]
  },
  {
   "cell_type": "markdown",
   "id": "8cc4291d-8311-459b-84ae-14885e247fec",
   "metadata": {},
   "source": [
    "### Evaluating Results\n",
    "\n",
    "#### Tracing Plot"
   ]
  },
  {
   "cell_type": "code",
   "execution_count": 19,
   "id": "97d20daa-a777-4fab-98dd-f57a6d513920",
   "metadata": {},
   "outputs": [],
   "source": [
    "arviz.plot_trace(trace, var_names=['sigma', 'nu']);"
   ]
  },
  {
   "cell_type": "markdown",
   "id": "0e84dea8-fdc8-4307-a1b2-106090210720",
   "metadata": {},
   "source": [
    "#### In-Sample Predictions"
   ]
  },
  {
   "cell_type": "code",
   "execution_count": 20,
   "id": "ba008bd7-f541-4eeb-a7ab-65b673767339",
   "metadata": {},
   "outputs": [],
   "source": [
    "pm.trace_to_dataframe(trace).info()"
   ]
  },
  {
   "cell_type": "code",
   "execution_count": 21,
   "id": "d2947f82-a538-43d5-817f-bcd92c3c9ddf",
   "metadata": {},
   "outputs": [],
   "source": [
    "fig, ax = plt.subplots(figsize=(15, 5))\n",
    "\n",
    "log_returns.plot(ax=ax, lw=.5, xlim=('2000', '2020'), rot=0,\n",
    "                 title='In-Sample Fit of Stochastic Volatility Model')\n",
    "\n",
    "ax.plot(log_returns.index, np.exp(trace[s]).T, 'r', alpha=.03, lw=.5)\n",
    "\n",
    "ax.set(xlabel='Time', ylabel='Returns')\n",
    "ax.legend(['S&P 500 (log returns)', 'Stochastic Volatility Model'])\n",
    "ax.yaxis.set_major_formatter(FuncFormatter(lambda y, _: '{:.0%}'.format(y)))\n",
    "\n",
    "sns.despine()\n",
    "fig.tight_layout()\n",
    "plt.show()"
   ]
  },
  {
   "cell_type": "code",
   "execution_count": null,
   "id": "400fd2e9-cf0a-4afd-a859-4fd5a640e5e8",
   "metadata": {},
   "outputs": [],
   "source": []
  }
 ],
 "metadata": {
  "kernelspec": {
   "display_name": "Python 3 (ipykernel)",
   "language": "python",
   "name": "python3"
  },
  "language_info": {
   "codemirror_mode": {
    "name": "ipython",
    "version": 3
   },
   "file_extension": ".py",
   "mimetype": "text/x-python",
   "name": "python",
   "nbconvert_exporter": "python",
   "pygments_lexer": "ipython3",
   "version": "3.12.9"
  }
 },
 "nbformat": 4,
 "nbformat_minor": 5
}
