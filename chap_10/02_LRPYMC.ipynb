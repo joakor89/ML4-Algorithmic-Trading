{
 "cells": [
  {
   "cell_type": "markdown",
   "id": "97e02208-cdd6-412d-abd7-bccba09a060d",
   "metadata": {},
   "source": [
    "# Logistic regression with PyMC3\n",
    "\n",
    "### Loading Libraries"
   ]
  },
  {
   "cell_type": "code",
   "execution_count": 4,
   "id": "180cac49-693d-4467-9d51-e3b003be6ea9",
   "metadata": {},
   "outputs": [],
   "source": [
    "# Numerical Computing\n",
    "import numpy as np\n",
    "\n",
    "# Data Manipulation\n",
    "import pandas as pd\n",
    "import pandas_datareader.data as web\n",
    "\n",
    "# Data Visualization\n",
    "import seaborn as sns\n",
    "import matplotlib as mpl\n",
    "import matplotlib.pyplot as plt\n",
    "from matplotlib.ticker import FuncFormatter\n",
    "\n",
    "# Scipy Stats\n",
    "from scipy import stats\n",
    "import scipy.stats as stats\n",
    "\n",
    "# StatsModels\n",
    "import statsmodels.formula.api as smf\n",
    "\n",
    "# Warnings\n",
    "import warnings\n",
    "\n",
    "# Path\n",
    "from pathlib import Path\n",
    "\n",
    "# Pickle\n",
    "import pickle\n",
    "\n",
    "# Scikit-Learn\n",
    "from sklearn.preprocessing import scale\n",
    "from sklearn.metrics import roc_auc_score\n",
    "from sklearn.model_selection import train_test_split\n",
    "from sklearn.feature_selection import mutual_info_classif\n",
    "\n",
    "# Theano\n",
    "# import theano\n",
    "\n",
    "# PyMC3\n",
    "# import pymc3 as pm\n",
    "\n",
    "# Arviz\n",
    "import arviz\n",
    "\n",
    "# IPytohn\n",
    "from IPython.display import HTML"
   ]
  },
  {
   "cell_type": "code",
   "execution_count": 5,
   "id": "2408a9d5-093d-4e1e-a9a1-10c5b0da1c9f",
   "metadata": {},
   "outputs": [],
   "source": [
    "%matplotlib inline"
   ]
  },
  {
   "cell_type": "code",
   "execution_count": 6,
   "id": "e6b5f24b-8af5-431e-a4e1-695453b54e3d",
   "metadata": {},
   "outputs": [],
   "source": [
    "sns.set_style('whitegrid')"
   ]
  },
  {
   "cell_type": "code",
   "execution_count": 8,
   "id": "fee191f1-0103-4662-9e86-50272b7d2194",
   "metadata": {},
   "outputs": [],
   "source": [
    "data_path = Path('data')\n",
    "\n",
    "fig_path = Path('figures')\n",
    "\n",
    "model_path = Path('models')\n",
    "\n",
    "for p in [data_path, fig_path, model_path]:\n",
    "    if not p.exists():\n",
    "        p.mkdir()"
   ]
  },
  {
   "cell_type": "markdown",
   "id": "36c55361-8fdb-48d9-8301-69b605b678e9",
   "metadata": {},
   "source": [
    "### The Data: Recessions & Leading Indicators\n",
    "\n",
    "#### Download from FRED"
   ]
  },
  {
   "cell_type": "code",
   "execution_count": 9,
   "id": "3533dd55-0845-42b5-806d-05d1cb2437bc",
   "metadata": {},
   "outputs": [],
   "source": [
    "indicators = ['JHDUSRGDPBR', 'T10Y3M', 'NFCI', 'NFCINONFINLEVERAGE', 'UMCSENT']\n",
    "\n",
    "var_names = ['recession', 'yield_curve', 'financial_conditions', 'leverage', 'sentiment']"
   ]
  },
  {
   "cell_type": "code",
   "execution_count": 10,
   "id": "5719e444-f453-4210-a92f-1f45c345e3c4",
   "metadata": {},
   "outputs": [],
   "source": [
    "features = var_names[1:]\n",
    "\n",
    "label = var_names[0]"
   ]
  },
  {
   "cell_type": "code",
   "execution_count": 11,
   "id": "638ae7d9-079a-4fc8-abe5-1fdcf4c26ef5",
   "metadata": {},
   "outputs": [],
   "source": [
    "var_display = ['Recession', 'Yield Curve', 'Financial Conditions', 'Leverage', 'Sentiment']\n",
    "\n",
    "col_dict = dict(zip(var_names, var_display))"
   ]
  },
  {
   "cell_type": "code",
   "execution_count": 13,
   "id": "cbf282b9-b736-402b-8c04-17faf71aaedd",
   "metadata": {},
   "outputs": [],
   "source": [
    "data = (web.DataReader(indicators, 'fred', 1980, 2020)\n",
    "        .ffill()\n",
    "        .resample('ME')\n",
    "        .last()\n",
    "        .dropna())\n",
    "\n",
    "data.columns = var_names"
   ]
  },
  {
   "cell_type": "code",
   "execution_count": 14,
   "id": "4ed8c279-2049-48f9-9394-b899ccefd82d",
   "metadata": {},
   "outputs": [],
   "source": [
    "data.loc[:, features] = scale(data.loc[:, features])"
   ]
  },
  {
   "cell_type": "code",
   "execution_count": 15,
   "id": "6138d9ee-2445-4154-a0fe-005004e4f60e",
   "metadata": {},
   "outputs": [
    {
     "name": "stdout",
     "output_type": "stream",
     "text": [
      "<class 'pandas.core.frame.DataFrame'>\n",
      "DatetimeIndex: 457 entries, 1982-01-31 to 2020-01-31\n",
      "Freq: ME\n",
      "Data columns (total 5 columns):\n",
      " #   Column                Non-Null Count  Dtype  \n",
      "---  ------                --------------  -----  \n",
      " 0   recession             457 non-null    float64\n",
      " 1   yield_curve           457 non-null    float64\n",
      " 2   financial_conditions  457 non-null    float64\n",
      " 3   leverage              457 non-null    float64\n",
      " 4   sentiment             457 non-null    float64\n",
      "dtypes: float64(5)\n",
      "memory usage: 21.4 KB\n"
     ]
    }
   ],
   "source": [
    "data.info()"
   ]
  },
  {
   "cell_type": "markdown",
   "id": "c8801ddb-8f93-40ec-bbbe-a2655a344524",
   "metadata": {},
   "source": [
    "#### Quick Exploration"
   ]
  },
  {
   "cell_type": "code",
   "execution_count": 16,
   "id": "572bf486-bce0-42df-9de9-725d2428dbcb",
   "metadata": {},
   "outputs": [],
   "source": [
    "mi = []\n",
    "\n",
    "months = list(range(1, 25))\n",
    "\n",
    "for month in months:\n",
    "    df_ = data.copy()\n",
    "    df_[label] = df_[label].shift(-month)\n",
    "    df_ = df_.dropna()\n",
    "    mi.append(mutual_info_classif(df_.loc[:, features], df_[label]))\n",
    "\n",
    "mi = pd.DataFrame(mi, columns=features, index=months)"
   ]
  },
  {
   "cell_type": "code",
   "execution_count": 19,
   "id": "c3492ca3-b9a4-46e7-a2d1-9215b5bafb07",
   "metadata": {},
   "outputs": [
    {
     "data": {
      "image/png": "[encoded data removed]",
      "text/plain": [
       "<Figure size 1200x400 with 1 Axes>"
      ]
     },
     "metadata": {},
     "output_type": "display_data"
    }
   ],
   "source": [
    "mi.sum(1).mul(100).iloc[:12].sort_index(ascending=False).plot.barh(figsize=(12, 4), xlim=(15, 40), color='limegreen');\n",
    "plt.show()"
   ]
  },
  {
   "cell_type": "code",
   "execution_count": 27,
   "id": "79430bfd-826b-42e7-b005-b48af0850416",
   "metadata": {},
   "outputs": [
    {
     "data": {
      "image/png": "[encoded data removed]",
      "text/plain": [
       "<Figure size 2000x300 with 1 Axes>"
      ]
     },
     "metadata": {},
     "output_type": "display_data"
    }
   ],
   "source": [
    "fig, ax = plt.subplots(figsize=(20, 3))\n",
    "sns.heatmap(mi.rename(columns=col_dict).T*100, cmap='Spectral', ax=ax, annot=True, fmt='.1f', cbar=False)\n",
    "ax.set_xlabel('Lead Time (Months)')\n",
    "ax.set_title('Mutual Information between Indicators and Recession by Lead Time')\n",
    "fig.tight_layout();\n",
    "plt.show()"
   ]
  },
  {
   "cell_type": "code",
   "execution_count": 31,
   "id": "587438fc-0cb2-4408-bb46-d1783caaf6de",
   "metadata": {},
   "outputs": [
    {
     "data": {
      "image/png": "[encoded data removed]",
      "text/plain": [
       "<Figure size 2011.11x500 with 4 Axes>"
      ]
     },
     "metadata": {},
     "output_type": "display_data"
    }
   ],
   "source": [
    "data[label] = data[label].shift(-12)\n",
    "data = data.dropna()\n",
    "data_ = pd.melt(data.rename(columns=col_dict), id_vars='Recession').rename(columns=str.capitalize)\n",
    "g = sns.catplot(x='Recession', y='Value', col='Variable', data=data_, kind='boxen');\n",
    "plt.show()"
   ]
  },
  {
   "cell_type": "code",
   "execution_count": 32,
   "id": "5449a831-e4af-4173-9a4b-460af93148d1",
   "metadata": {},
   "outputs": [],
   "source": [
    "# Features\n",
    "X = data.loc[:, features]\n",
    "\n",
    "# Target\n",
    "y = data[label]"
   ]
  },
  {
   "cell_type": "code",
   "execution_count": 33,
   "id": "55bbac64-5b00-4310-b13b-a4542440c52f",
   "metadata": {},
   "outputs": [
    {
     "data": {
      "text/plain": [
       "recession\n",
       "0.0    324\n",
       "1.0     49\n",
       "Name: count, dtype: int64"
      ]
     },
     "execution_count": 33,
     "metadata": {},
     "output_type": "execute_result"
    }
   ],
   "source": [
    "y.value_counts()"
   ]
  },
  {
   "cell_type": "code",
   "execution_count": 34,
   "id": "cd871cca-159b-4237-82e3-0e2a765c978b",
   "metadata": {},
   "outputs": [],
   "source": [
    "data.to_csv('data/recessions.csv')"
   ]
  },
  {
   "cell_type": "markdown",
   "id": "123ab8e9-db64-4675-879e-025f68b2e284",
   "metadata": {},
   "source": [
    "## Loading from Disk"
   ]
  },
  {
   "cell_type": "code",
   "execution_count": 35,
   "id": "200c0d96-336a-4a84-8388-0ad7499c15a2",
   "metadata": {},
   "outputs": [
    {
     "name": "stdout",
     "output_type": "stream",
     "text": [
      "<class 'pandas.core.frame.DataFrame'>\n",
      "Index: 373 entries, 1982-01-31 to 2013-01-31\n",
      "Data columns (total 5 columns):\n",
      " #   Column                Non-Null Count  Dtype  \n",
      "---  ------                --------------  -----  \n",
      " 0   recession             373 non-null    float64\n",
      " 1   yield_curve           373 non-null    float64\n",
      " 2   financial_conditions  373 non-null    float64\n",
      " 3   leverage              373 non-null    float64\n",
      " 4   sentiment             373 non-null    float64\n",
      "dtypes: float64(5)\n",
      "memory usage: 17.5+ KB\n"
     ]
    }
   ],
   "source": [
    "data = pd.read_csv('data/recessions.csv', index_col=0)\n",
    "data.info()"
   ]
  },
  {
   "cell_type": "markdown",
   "id": "0dbf9554-8e70-4879-9fe9-aa998b0d0374",
   "metadata": {},
   "source": [
    "### Models"
   ]
  },
  {
   "cell_type": "code",
   "execution_count": 36,
   "id": "f607437d-186d-45b6-8e22-6a380e1b5b9f",
   "metadata": {},
   "outputs": [],
   "source": [
    "simple_model = 'recession ~ yield_curve + leverage'\n",
    "\n",
    "full_model =  simple_model + ' + financial_conditions + sentiment'"
   ]
  },
  {
   "cell_type": "markdown",
   "id": "30b3a9a2-bcd7-4d04-be26-050245c77d05",
   "metadata": {},
   "source": [
    "## MAP Inference\n",
    "\n",
    "### Manual Model Specification"
   ]
  },
  {
   "cell_type": "code",
   "execution_count": 38,
   "id": "caba7f8f-6623-47ea-b478-e6a39b322106",
   "metadata": {},
   "outputs": [],
   "source": [
    "with pm.Model() as manual_logistic_model:\n",
    "    # random variables for coefficients with\n",
    "    # uninformative priors for each parameter\n",
    "\n",
    "    intercept = pm.Normal('intercept', 0, sd=100)\n",
    "    beta_1 = pm.Normal('beta_1', 0, sd=100)\n",
    "    beta_2 = pm.Normal('beta_2', 0, sd=100)\n",
    "\n",
    "    # Transform random variables into vector of probabilities p(y_i=1)\n",
    "    # according to logistic regression model specification.\n",
    "    likelihood = pm.invlogit(intercept + \n",
    "                             beta_1 * data.yield_curve +\n",
    "                             beta_2 * data.leverage)\n",
    "\n",
    "    # Bernoulli random vector with probability of success\n",
    "    # given by sigmoid function and actual data as observed\n",
    "    pm.Bernoulli(name='logit', \n",
    "                 p=likelihood, \n",
    "                 observed=data.recession)"
   ]
  },
  {
   "cell_type": "code",
   "execution_count": 39,
   "id": "45671945-1665-4c71-a015-1de39fd08c9a",
   "metadata": {},
   "outputs": [],
   "source": [
    "manual_logistic_model.model"
   ]
  },
  {
   "cell_type": "code",
   "execution_count": 40,
   "id": "36497fb7-e226-4e16-bbe1-8ad80cb214e2",
   "metadata": {},
   "outputs": [],
   "source": [
    "pm.model_to_graphviz(manual_logistic_model)"
   ]
  },
  {
   "cell_type": "code",
   "execution_count": 41,
   "id": "64bad78e-7ca6-49b4-8240-076a5860e266",
   "metadata": {},
   "outputs": [],
   "source": [
    "# opionally: persist\n",
    "# graph = pm.model_to_graphviz(manual_logistic_model)\n",
    "# graph.save('log_reg.dot')"
   ]
  },
  {
   "cell_type": "markdown",
   "id": "28070e9b-07be-4706-81f0-cb3dee11f451",
   "metadata": {},
   "source": [
    "#### Running Inference"
   ]
  },
  {
   "cell_type": "code",
   "execution_count": 42,
   "id": "f125617c-f9aa-4ca0-8082-5f8072b1dad6",
   "metadata": {},
   "outputs": [],
   "source": [
    "with manual_logistic_model:\n",
    "    # compute maximum a-posteriori estimate\n",
    "    # for logistic regression weights\n",
    "    manual_map_estimate = pm.find_MAP()"
   ]
  },
  {
   "cell_type": "code",
   "execution_count": 43,
   "id": "3e69fba7-55a7-4111-827a-8b7f929055d8",
   "metadata": {},
   "outputs": [],
   "source": [
    "def print_map(result):\n",
    "    return pd.Series({k: np.asscalar(v) for k, v in result.items()})"
   ]
  },
  {
   "cell_type": "code",
   "execution_count": 44,
   "id": "d8f98db9-073f-4d30-9c6e-f20e1db8fde3",
   "metadata": {},
   "outputs": [],
   "source": [
    "print_map(manual_map_estimate)"
   ]
  },
  {
   "cell_type": "markdown",
   "id": "57d577ce-7eb6-4c17-a35e-7991921d1945",
   "metadata": {},
   "source": [
    "#### GLM Model"
   ]
  },
  {
   "cell_type": "code",
   "execution_count": 45,
   "id": "2db0f129-8915-42a9-900b-18b393f3a44b",
   "metadata": {},
   "outputs": [],
   "source": [
    "with pm.Model() as logistic_model:\n",
    "    pm.glm.GLM.from_formula(simple_model,\n",
    "                            data,\n",
    "                            family=pm.glm.families.Binomial())"
   ]
  },
  {
   "cell_type": "code",
   "execution_count": 46,
   "id": "ccdadc1e-4393-4332-a0a2-ebacd9239ab5",
   "metadata": {},
   "outputs": [],
   "source": [
    "pm.model_to_graphviz(logistic_model)"
   ]
  },
  {
   "cell_type": "markdown",
   "id": "3fcdd513-d556-4828-bc36-df58bf60c49b",
   "metadata": {},
   "source": [
    "#### MAP Estimate"
   ]
  },
  {
   "cell_type": "code",
   "execution_count": 47,
   "id": "cb4917ef-8e26-4f1b-8b55-c3847cbb1c6d",
   "metadata": {},
   "outputs": [],
   "source": [
    "with logistic_model:\n",
    "    map_estimate = pm.find_MAP()"
   ]
  },
  {
   "cell_type": "code",
   "execution_count": 48,
   "id": "8d45e165-80af-4b21-a944-65de797479c5",
   "metadata": {},
   "outputs": [],
   "source": [
    "model = smf.logit(formula=simple_model, data=data)\n",
    "result = model.fit()\n",
    "print(result.summary())"
   ]
  },
  {
   "cell_type": "code",
   "execution_count": 49,
   "id": "e3a37427-a3ab-4cea-9863-40d8645b47fd",
   "metadata": {},
   "outputs": [],
   "source": [
    "print_map(map_estimate)"
   ]
  },
  {
   "cell_type": "code",
   "execution_count": 50,
   "id": "18e81a20-b69e-4655-aad3-3ead84bb81ac",
   "metadata": {},
   "outputs": [],
   "source": [
    "result.params"
   ]
  },
  {
   "cell_type": "markdown",
   "id": "bd6ae5f6-38fc-40c8-997c-a5813a8026ef",
   "metadata": {},
   "source": [
    "### Markov Chain Monte Carlo"
   ]
  },
  {
   "cell_type": "code",
   "execution_count": 51,
   "id": "b4a9aaad-6f8f-4d04-9c31-2d58942088ba",
   "metadata": {},
   "outputs": [],
   "source": [
    "def plot_traces(traces, burnin=2000):\n",
    "    summary = arviz.summary(traces[burnin:])['mean'].to_dict()\n",
    "    ax = arviz.plot_trace(traces[burnin:],\n",
    "                      figsize=(15, len(traces.varnames)*1.5),\n",
    "                      lines=summary)\n",
    "\n",
    "    for i, mn in enumerate(summary.values()):\n",
    "        ax[i, 0].annotate(f'{mn:.2f}', xy=(mn, 0),\n",
    "                          xycoords='data', xytext=(5, 10),\n",
    "                          textcoords='offset points',\n",
    "                          rotation=90, va='bottom',\n",
    "                          fontsize='large',\n",
    "                          color='#AA0022')"
   ]
  },
  {
   "cell_type": "markdown",
   "id": "6d5d3618-1830-492e-91e8-9e54ed6fdfb1",
   "metadata": {},
   "source": [
    "#### Model Definition"
   ]
  },
  {
   "cell_type": "code",
   "execution_count": 52,
   "id": "de8bcd62-4303-4b6f-a977-c26e86fb100a",
   "metadata": {},
   "outputs": [],
   "source": [
    "with pm.Model() as logistic_model:\n",
    "    pm.glm.GLM.from_formula(formula=full_model,\n",
    "                            data=data,\n",
    "                            family=pm.glm.families.Binomial())"
   ]
  },
  {
   "cell_type": "code",
   "execution_count": 53,
   "id": "b6eec3ad-9415-4f87-bca9-2ac8da675dae",
   "metadata": {},
   "outputs": [],
   "source": [
    "logistic_model.basic_RVs"
   ]
  },
  {
   "cell_type": "markdown",
   "id": "ddf749c3-46a0-481f-8166-d038a7ed9b28",
   "metadata": {},
   "source": [
    "#### Metropolis-Hastings"
   ]
  },
  {
   "cell_type": "code",
   "execution_count": 54,
   "id": "139ea107-be19-448e-8c9d-b941f4a99d50",
   "metadata": {},
   "outputs": [],
   "source": [
    "with logistic_model:\n",
    "    trace_mh = pm.sample(tune=1000,\n",
    "                         draws=5000,\n",
    "                         step=pm.Metropolis(),\n",
    "                         cores=4)"
   ]
  },
  {
   "cell_type": "markdown",
   "id": "3b4e9947-e2d8-42d2-8270-e97432770eaf",
   "metadata": {},
   "source": [
    "#### Inspecting Trace"
   ]
  },
  {
   "cell_type": "code",
   "execution_count": 55,
   "id": "b0992ce9-eabb-4fd1-bccf-670f961c9479",
   "metadata": {},
   "outputs": [],
   "source": [
    "plot_traces(trace_mh, burnin=0)"
   ]
  },
  {
   "cell_type": "code",
   "execution_count": 56,
   "id": "c5b1fb14-c472-4562-af94-81dd619ddd14",
   "metadata": {},
   "outputs": [],
   "source": [
    "pm.trace_to_dataframe(trace_mh).info()"
   ]
  },
  {
   "cell_type": "markdown",
   "id": "8812de39-955d-4cdc-af96-fb855d410327",
   "metadata": {},
   "source": [
    "#### Forwarding Training"
   ]
  },
  {
   "cell_type": "code",
   "execution_count": 57,
   "id": "539df4ac-cd0e-4378-8c75-904e5a58813e",
   "metadata": {},
   "outputs": [],
   "source": [
    "with logistic_model:\n",
    "    trace_mh = pm.sample(draws=100000,\n",
    "                         step=pm.Metropolis(),\n",
    "                         trace=trace_mh)"
   ]
  },
  {
   "cell_type": "code",
   "execution_count": 58,
   "id": "f1b9c38f-1cc6-47f3-a906-e7d15c38c371",
   "metadata": {},
   "outputs": [],
   "source": [
    "plot_traces(trace_mh, burnin=0)"
   ]
  },
  {
   "cell_type": "code",
   "execution_count": 60,
   "id": "0d16401b-e54d-42ea-8822-8ce53a5f11d9",
   "metadata": {},
   "outputs": [],
   "source": [
    "optionally: persist\n",
    "with open('logistic_model_mh.pkl', 'wb') as buff:\n",
    "    pickle.dump({'model': logistic_model, 'trace': trace_mh}, buff)"
   ]
  },
  {
   "cell_type": "code",
   "execution_count": 61,
   "id": "1e542de6-a50a-448e-b8e2-421cb462b1b9",
   "metadata": {},
   "outputs": [],
   "source": [
    "optionally: restore persisted model\n",
    "with open('logistic_model_mh.pkl', 'rb') as buff:\n",
    "    pickled_data = pickle.load(buff)  \n",
    "\n",
    "logistic_model, trace_mh = pickled_data['model'], pickled_data['trace']"
   ]
  },
  {
   "cell_type": "code",
   "execution_count": 62,
   "id": "526844ef-0d11-4825-9545-f6b5940cf17e",
   "metadata": {},
   "outputs": [],
   "source": [
    "arviz.summary(trace_mh)"
   ]
  },
  {
   "cell_type": "markdown",
   "id": "421bd923-e29b-4d8f-a647-2415bf4af978",
   "metadata": {},
   "source": [
    "### NUTS sampler\n",
    "\n",
    "#### Drawing Small Number of Samples"
   ]
  },
  {
   "cell_type": "code",
   "execution_count": 63,
   "id": "8a23e953-d3d7-48ad-b58a-8ef40a46c447",
   "metadata": {},
   "outputs": [],
   "source": [
    "draws = 100\n",
    "tune = 1000\n",
    "with logistic_model:\n",
    "    trace_NUTS = pm.sample(draws=draws,\n",
    "                           tune=tune,\n",
    "                           init='adapt_diag',\n",
    "                           chains=4,\n",
    "                           cores=1,\n",
    "                           random_seed=42)"
   ]
  },
  {
   "cell_type": "code",
   "execution_count": 64,
   "id": "d09470aa-7161-47c0-8f82-13fa2dad453a",
   "metadata": {},
   "outputs": [],
   "source": [
    "trace_df = pm.trace_to_dataframe(trace_NUTS).assign(\n",
    "    chain=lambda x: x.index // draws)\n",
    "\n",
    "trace_df.info()"
   ]
  },
  {
   "cell_type": "code",
   "execution_count": 65,
   "id": "233d7f1b-ffbf-4d6e-ad7d-7f3c2a099f1d",
   "metadata": {},
   "outputs": [],
   "source": [
    "plot_traces(trace_NUTS, burnin=0)"
   ]
  },
  {
   "cell_type": "markdown",
   "id": "26d8ea84-33a5-490e-8564-8188fc0b3d14",
   "metadata": {},
   "source": [
    "#### Keep Training"
   ]
  },
  {
   "cell_type": "code",
   "execution_count": 66,
   "id": "ede1ef2d-24d5-49d6-bd5c-948d06e877a2",
   "metadata": {},
   "outputs": [],
   "source": [
    "draws = 50000\n",
    "\n",
    "chains = 4\n",
    "\n",
    "with logistic_model:\n",
    "    trace_NUTS = pm.sample(draws=draws, \n",
    "                           tune=tune,\n",
    "                           init='adapt_diag',\n",
    "                           trace=trace_NUTS,\n",
    "                           chains=chains, \n",
    "                           cores=1,\n",
    "                           random_seed=42)"
   ]
  },
  {
   "cell_type": "code",
   "execution_count": 67,
   "id": "68702701-83dc-4e2a-9858-d519561b9da2",
   "metadata": {},
   "outputs": [],
   "source": [
    "plot_traces(trace_NUTS, burnin=1000)"
   ]
  },
  {
   "cell_type": "markdown",
   "id": "23022e22-097e-4463-973d-8b31332e581b",
   "metadata": {},
   "source": [
    "#### Persisting Results"
   ]
  },
  {
   "cell_type": "code",
   "execution_count": 68,
   "id": "9845e432-6c97-4f41-aec8-152dd83caf6b",
   "metadata": {},
   "outputs": [],
   "source": [
    "optional\n",
    "with open('logistic_model_nuts.pkl', 'wb') as buff:\n",
    "    pickle.dump({'model': logistic_model,\n",
    "                 'trace': trace_NUTS}, buff)"
   ]
  },
  {
   "cell_type": "code",
   "execution_count": 69,
   "id": "00363596-8112-4cd7-beff-e73fdf343df1",
   "metadata": {},
   "outputs": [],
   "source": [
    "with open('logistic_model_nuts.pkl', 'rb') as buff:\n",
    "    pickled_data = pickle.load(buff)  \n",
    "\n",
    "logistic_model, trace_NUTS = pickled_data['model'], pickled_data['trace']"
   ]
  },
  {
   "cell_type": "markdown",
   "id": "0261af3b-2e96-49df-a0d5-1a00a2d1c01e",
   "metadata": {},
   "source": [
    "#### Combining Traces"
   ]
  },
  {
   "cell_type": "code",
   "execution_count": 70,
   "id": "8b1ecb5c-7a79-4639-a65e-43067ea317dd",
   "metadata": {},
   "outputs": [],
   "source": [
    "df = pm.trace_to_dataframe(trace_NUTS).iloc[200:].reset_index(\n",
    "    drop=True).assign(chain=lambda x: x.index // draws)\n",
    "\n",
    "trace_df = pd.concat([trace_df.assign(samples=100),\n",
    "                      df.assign(samples=len(df) + len(trace_df))])\n",
    "trace_df.info()"
   ]
  },
  {
   "cell_type": "markdown",
   "id": "1b4c025a-6f66-460d-9b3e-7ba43a98199f",
   "metadata": {},
   "source": [
    "#### Visualizing both Traces"
   ]
  },
  {
   "cell_type": "code",
   "execution_count": 71,
   "id": "af006345-3510-427b-ae50-0655e93b66ab",
   "metadata": {},
   "outputs": [],
   "source": [
    "trace_df_long = pd.melt(trace_df, id_vars=['samples', 'chain'])\n",
    "\n",
    "trace_df_long.info()"
   ]
  },
  {
   "cell_type": "code",
   "execution_count": 72,
   "id": "e59d2f6f-1076-46e5-a61c-52a1fb145e76",
   "metadata": {},
   "outputs": [],
   "source": [
    "g = sns.FacetGrid(trace_df_long, col='variable', row='samples',\n",
    "                  hue='chain', sharex='col', sharey=False)\n",
    "\n",
    "g = g.map(sns.distplot, 'value', hist=False, rug=False);\n",
    "\n",
    "plt.show()"
   ]
  },
  {
   "cell_type": "code",
   "execution_count": 73,
   "id": "5d5c64e1-ed9e-481a-9871-003c701b014d",
   "metadata": {},
   "outputs": [],
   "source": [
    "model = smf.logit(formula=full_model, data=data)\n",
    "result = model.fit()\n",
    "\n",
    "print(result.summary())"
   ]
  },
  {
   "cell_type": "code",
   "execution_count": 74,
   "id": "3ba07848-805e-464b-8610-0ac8a50824ec",
   "metadata": {},
   "outputs": [],
   "source": [
    "arviz.summary(trace_NUTS).assign(statsmodels=result.params).to_csv(model_path / 'trace_nuts.csv')"
   ]
  },
  {
   "cell_type": "code",
   "execution_count": 75,
   "id": "d6e098c5-bb65-49c4-b423-69bcbe8fa0d9",
   "metadata": {},
   "outputs": [],
   "source": [
    "arviz.summary(trace_NUTS).assign(statsmodels=result.params)"
   ]
  },
  {
   "cell_type": "markdown",
   "id": "b98a9cee-9c30-4a28-8a6b-d97ec8f48381",
   "metadata": {},
   "source": [
    "### Computing Credible Intervals"
   ]
  },
  {
   "cell_type": "code",
   "execution_count": 76,
   "id": "2b3b6915-b69b-43c1-8f73-f3adcc5ad456",
   "metadata": {},
   "outputs": [],
   "source": [
    "def get_credible_int(trace, param):\n",
    "    b = trace[param]\n",
    "    lb, ub = np.percentile(b, 2.5), np.percentile(b, 97.5)\n",
    "    lb, ub = np.exp(lb), np.exp(ub)\n",
    "    return b, lb, ub"
   ]
  },
  {
   "cell_type": "code",
   "execution_count": 77,
   "id": "3962321d-6079-45e6-aafd-0de52ab25bce",
   "metadata": {},
   "outputs": [],
   "source": [
    "b = trace_NUTS['yield_curve']\n",
    "lb, ub = np.percentile(b, 2.5), np.percentile(b, 97.5)\n",
    "lb, ub = np.exp(lb), np.exp(ub)\n",
    "\n",
    "print(f'P({lb:.3f} < Odds Ratio < {ub:.3f}) = 0.95')"
   ]
  },
  {
   "cell_type": "code",
   "execution_count": 78,
   "id": "2479c3f9-da81-4033-9cef-61eeb470013a",
   "metadata": {},
   "outputs": [],
   "source": [
    "b, lb, ub = get_credible_int(trace_NUTS, 'yield_curve')\n",
    "\n",
    "print(f'P({lb:.3f} < Odds Ratio < {ub:.3f}) = 0.95')"
   ]
  },
  {
   "cell_type": "code",
   "execution_count": 80,
   "id": "60772f9e-2406-4ba4-bec9-8a62878496d9",
   "metadata": {},
   "outputs": [],
   "source": [
    "fig, axes = plt.subplots(figsize=(14, 4), ncols=2)\n",
    "b, lb, ub = get_credible_int(trace_NUTS, 'yield_curve')\n",
    "sns.distplot(np.exp(b), axlabel='Odds Ratio', ax=axes[0])\n",
    "axes[0].set_title(f'Yield Curve: P({lb:.3f} < Odds Ratio < {ub:.3f}) = 0.95')\n",
    "axes[0].axvspan(lb, ub, alpha=0.5, color='gray')\n",
    "\n",
    "b, lb, ub = get_credible_int(trace_NUTS, 'leverage')\n",
    "sns.distplot(np.exp(b), axlabel='Odds Ratio', ax=axes[1])\n",
    "axes[1].set_title(f'Leverage: P({lb:.3f} < Odds Ratio < {ub:.3f}) = 0.95')\n",
    "axes[1].axvspan(lb, ub, alpha=0.5, color='gray')\n",
    "\n",
    "fig.suptitle('Credible Intervals', fontsize=14)\n",
    "sns.despine()\n",
    "fig.tight_layout()\n",
    "fig.subplots_adjust(top=.9);\n",
    "plt.show()"
   ]
  },
  {
   "cell_type": "markdown",
   "id": "20ddf85d-a3f1-422c-b6cb-08831a54ab43",
   "metadata": {},
   "source": [
    "## Variational Inference\n",
    "\n",
    "### Run Automatic Differentation Variational Inference (ADVI)"
   ]
  },
  {
   "cell_type": "code",
   "execution_count": 81,
   "id": "53921dec-903e-4f98-b582-b84d75cd78be",
   "metadata": {},
   "outputs": [],
   "source": [
    "with logistic_model:\n",
    "    callback = CheckParametersConvergence(diff='absolute')\n",
    "    approx = pm.fit(n=100000, \n",
    "                    callbacks=[callback])"
   ]
  },
  {
   "cell_type": "markdown",
   "id": "fbb2ef13-a87c-4663-9bc7-0a03d7c9e4d9",
   "metadata": {},
   "source": [
    "#### Persisting Result"
   ]
  },
  {
   "cell_type": "code",
   "execution_count": 82,
   "id": "d0c592d3-9433-4fe2-8865-777304c8cb18",
   "metadata": {},
   "outputs": [],
   "source": [
    "optional\n",
    "with open(logistic_model_advi.pkl', 'wb') as buff:\n",
    "    pickle.dump({'model': logistic_model,\n",
    "                 'approx': approx}, buff)"
   ]
  },
  {
   "cell_type": "markdown",
   "id": "3d1431ae-14a8-4eff-912e-ce4647e4dfb4",
   "metadata": {},
   "source": [
    "#### Sample from Approximated Distribution"
   ]
  },
  {
   "cell_type": "code",
   "execution_count": 83,
   "id": "56c2ceba-423e-471d-bce2-19cdaca47327",
   "metadata": {},
   "outputs": [],
   "source": [
    "trace_advi = approx.sample(10000)"
   ]
  },
  {
   "cell_type": "code",
   "execution_count": 84,
   "id": "77797daf-91e5-461e-8a86-19af94f316a6",
   "metadata": {},
   "outputs": [],
   "source": [
    "arviz.summary(trace_advi)"
   ]
  },
  {
   "cell_type": "code",
   "execution_count": 85,
   "id": "ddc2eef6-db8a-46ca-999d-47635e1855f0",
   "metadata": {},
   "outputs": [],
   "source": [
    "arviz.summary(trace_advi).to_csv(model_path / 'trace_advi.csv')"
   ]
  },
  {
   "cell_type": "markdown",
   "id": "8c13b248-e7d3-4cbe-a4b1-683c3aa7f4f1",
   "metadata": {},
   "source": [
    "### Model Diagnostics\n",
    "\n",
    "#### Energy Plot"
   ]
  },
  {
   "cell_type": "code",
   "execution_count": 110,
   "id": "6252a1a6-d856-43db-a800-2d702369c862",
   "metadata": {},
   "outputs": [],
   "source": [
    "arviz.plot_energy(trace_NUTS);"
   ]
  },
  {
   "cell_type": "markdown",
   "id": "2fe2384c-1cb8-4281-b222-f6d7c5cbb1c5",
   "metadata": {},
   "source": [
    "#### Forest Plot"
   ]
  },
  {
   "cell_type": "code",
   "execution_count": 111,
   "id": "ab336395-485b-4bf2-bb87-c12a28eefdcb",
   "metadata": {},
   "outputs": [],
   "source": [
    "arviz.plot_forest(trace_NUTS);"
   ]
  },
  {
   "cell_type": "code",
   "execution_count": 89,
   "id": "2c405e5e-e174-4244-a3dd-c0ca8015522e",
   "metadata": {},
   "outputs": [],
   "source": [
    "fig, axes = plt.subplots(ncols=2, figsize=(14, 4))\n",
    "arviz.plot_forest(trace_NUTS, ax=axes[0])\n",
    "axes[0].set_title('Forest Plot')\n",
    "\n",
    "arviz.plot_energy(trace_NUTS, ax=axes[1])\n",
    "axes[1].set_title('Energy Plot')\n",
    "\n",
    "fig.tight_layout();\n",
    "plt.show()"
   ]
  },
  {
   "cell_type": "markdown",
   "id": "76cde0db-bdd4-4090-afac-cea09c5e16d0",
   "metadata": {},
   "source": [
    "#### Posterior Predictive Checks"
   ]
  },
  {
   "cell_type": "code",
   "execution_count": 94,
   "id": "5e845476-219f-44cf-8241-4e06bbeca25f",
   "metadata": {},
   "outputs": [],
   "source": [
    "ppc = pm.sample_posterior_predictive(trace_NUTS, samples=500, model=logistic_model)"
   ]
  },
  {
   "cell_type": "code",
   "execution_count": 95,
   "id": "1772ec89-815d-4673-bc48-f51a1a3fc250",
   "metadata": {},
   "outputs": [],
   "source": [
    "ppc['y'].shape"
   ]
  },
  {
   "cell_type": "code",
   "execution_count": 96,
   "id": "b345e9b2-3871-4ac5-9ced-cb18082a3f97",
   "metadata": {},
   "outputs": [],
   "source": [
    "y_score = np.mean(ppc['y'], axis=0)"
   ]
  },
  {
   "cell_type": "code",
   "execution_count": 97,
   "id": "afddf4c9-9959-44e4-a78f-f52dc81e29e0",
   "metadata": {},
   "outputs": [],
   "source": [
    "roc_auc_score(y_score=np.mean(ppc['y'], axis=0), \n",
    "              y_true=data.recession)"
   ]
  },
  {
   "cell_type": "markdown",
   "id": "33043565-9b6f-4e85-bc65-f8f62097eba2",
   "metadata": {},
   "source": [
    "### Prediction\n",
    "\n",
    "#### Train-Test Split"
   ]
  },
  {
   "cell_type": "code",
   "execution_count": 98,
   "id": "8c9b7ce0-d4fe-46dc-88c4-f0ae8a844eca",
   "metadata": {},
   "outputs": [],
   "source": [
    "X = data[['yield_curve']]\n",
    "labels = X.columns\n",
    "y = data.recession\n",
    "X_train, X_test, y_train, y_test = train_test_split(X, y, \n",
    "                                                    test_size=0.2, \n",
    "                                                    random_state=42,\n",
    "                                                    stratify=y)"
   ]
  },
  {
   "cell_type": "markdown",
   "id": "9eb73bd1-28a0-4e95-a93c-8567f3659af9",
   "metadata": {},
   "source": [
    "#### Creating Shared `theano` Variable"
   ]
  },
  {
   "cell_type": "code",
   "execution_count": 99,
   "id": "491ccc14-dd6b-47bf-bc19-af1217249186",
   "metadata": {},
   "outputs": [],
   "source": [
    "X_shared = theano.shared(X_train.values)"
   ]
  },
  {
   "cell_type": "markdown",
   "id": "de4029cf-2d8d-4aa6-9fee-089ed165ec38",
   "metadata": {},
   "source": [
    "#### Setting Logistic Model"
   ]
  },
  {
   "cell_type": "code",
   "execution_count": 100,
   "id": "36d59c31-cedf-41e6-9413-91b2a07a99f7",
   "metadata": {},
   "outputs": [],
   "source": [
    "with pm.Model() as logistic_model_pred:\n",
    "    pm.glm.GLM(x=X_shared, \n",
    "               labels=labels,\n",
    "               y=y_train, \n",
    "               family=pm.glm.families.Binomial())"
   ]
  },
  {
   "cell_type": "markdown",
   "id": "961700cb-23ed-4789-809c-a11f90734dc9",
   "metadata": {},
   "source": [
    "### Running NUTS Sampler"
   ]
  },
  {
   "cell_type": "code",
   "execution_count": 101,
   "id": "e77b0372-db7f-4734-9bb6-bd963eb95445",
   "metadata": {},
   "outputs": [],
   "source": [
    "with logistic_model_pred:\n",
    "    pred_trace = pm.sample(draws=10000, \n",
    "                           tune=1000,\n",
    "                           chains=2,\n",
    "                           cores=1,\n",
    "                           init='adapt_diag')"
   ]
  },
  {
   "cell_type": "markdown",
   "id": "16496942-6b0e-4dc2-a07c-83e979afa0f9",
   "metadata": {},
   "source": [
    "### Replacing Shared Variable with Test Set"
   ]
  },
  {
   "cell_type": "code",
   "execution_count": 112,
   "id": "c11d3ed5-0cdc-4b81-a828-7dc5c8f0ba1d",
   "metadata": {},
   "outputs": [],
   "source": [
    "X_shared.set_value(X_test)"
   ]
  },
  {
   "cell_type": "code",
   "execution_count": 113,
   "id": "fa4ae0df-29a4-4f56-9578-391717834d14",
   "metadata": {},
   "outputs": [],
   "source": [
    "ppc = pm.sample_posterior_predictive(pred_trace,\n",
    "                                     model=logistic_model_pred,\n",
    "                                     samples=100)"
   ]
  },
  {
   "cell_type": "markdown",
   "id": "4b7921db-751d-41a0-81f7-69862d546ef3",
   "metadata": {},
   "source": [
    "#### Checking AUC Score"
   ]
  },
  {
   "cell_type": "code",
   "execution_count": 114,
   "id": "7ff9f198-0049-415c-8b8e-373f3b033e73",
   "metadata": {},
   "outputs": [],
   "source": [
    "y_score = np.mean(ppc['y'], axis=0)\n",
    "\n",
    "roc_auc_score(y_score=np.mean(ppc['y'], axis=0), \n",
    "              y_true=y_test)"
   ]
  },
  {
   "cell_type": "code",
   "execution_count": 115,
   "id": "b215975f-e465-48cd-998e-64b58ec15fb6",
   "metadata": {},
   "outputs": [],
   "source": [
    "def invlogit(x):\n",
    "    return np.exp(x) / (1 + np.exp(x))"
   ]
  },
  {
   "cell_type": "code",
   "execution_count": 116,
   "id": "22d898a0-f51a-4be3-96ea-bed30525ba1f",
   "metadata": {},
   "outputs": [],
   "source": [
    "x = X_test.yield_curve\n",
    "\n",
    "fig, ax = plt.subplots(figsize=(14, 5))\n",
    "\n",
    "β = stats.beta((ppc['y'] == 1).sum(axis=0), (ppc['y'] == 0).sum(axis=0))\n",
    "\n",
    "# estimated probability\n",
    "ax.scatter(x=x, y=β.mean())\n",
    "\n",
    "# error bars on the estimate\n",
    "plt.vlines(x, *β.interval(0.95))\n",
    "\n",
    "# actual outcomes\n",
    "ax.scatter(x=x, y=y_test, marker='x')\n",
    "\n",
    "# True probabilities\n",
    "x_ = np.linspace(x.min()*1.05, x.max()*1.05, num=100)\n",
    "ax.plot(-x_, invlogit(x_), linestyle='-')\n",
    "\n",
    "ax.set_xlabel('Yield Curve')\n",
    "ax.set_ylabel('Recession')\n",
    "ax.invert_xaxis()\n",
    "fig.tight_layout();"
   ]
  },
  {
   "cell_type": "markdown",
   "id": "a7902078-00f0-4bff-962a-adfbca07b956",
   "metadata": {},
   "source": [
    "### MCMC Sampler Animation\n",
    "\n",
    "#### Setup"
   ]
  },
  {
   "cell_type": "code",
   "execution_count": 117,
   "id": "1ed59d21-efbd-4074-98be-e131680a0d4f",
   "metadata": {},
   "outputs": [],
   "source": [
    "# Number of MCMC iteration to animate.\n",
    "burnin = 1000\n",
    "samples = 1000\n",
    "\n",
    "var1 = 'yield_curve'\n",
    "var1_range = (trace_df[var1].min() * .95, trace_df[var1].max() * 1.05)\n",
    "\n",
    "var2 = 'sentiment'\n",
    "var2_range = (trace_df[var2].min() * .95, trace_df[var2].max() * 1.05)"
   ]
  },
  {
   "cell_type": "code",
   "execution_count": 118,
   "id": "e5610e85-7879-425a-8725-ecd5846e65da",
   "metadata": {},
   "outputs": [],
   "source": [
    "Writer = animation.writers['ffmpeg']\n",
    "\n",
    "writer = Writer(fps=15, metadata=dict(artist='Me'), bitrate=1800)"
   ]
  },
  {
   "cell_type": "code",
   "execution_count": 119,
   "id": "2eead1cc-8b4a-4543-9878-f991872c5c6c",
   "metadata": {},
   "outputs": [],
   "source": [
    "with pm.Model() as logistic_model:\n",
    "    pm.glm.GLM.from_formula(formula=full_model,\n",
    "                            data=data,\n",
    "                            family=pm.glm.families.Binomial())"
   ]
  },
  {
   "cell_type": "markdown",
   "id": "487879a6-11c0-453f-a61c-b6293f574f4e",
   "metadata": {},
   "source": [
    "#### NUTS Samples"
   ]
  },
  {
   "cell_type": "code",
   "execution_count": 120,
   "id": "73b2d0ad-e64e-4e97-9192-c080120eb027",
   "metadata": {},
   "outputs": [],
   "source": [
    "def init():\n",
    "    for line in lines:\n",
    "        line.set_data([], [])\n",
    "    return lines\n",
    "\n",
    "def animate(i):\n",
    "    trace = trace_df.iloc[:i+1]\n",
    "    idx = list(range(len(trace)))\n",
    "    line1.set_data(trace[var1].iloc[::-1], idx)\n",
    "    line2.set_data(idx, trace[var2].iloc[::-1])\n",
    "    line3.set_data(trace[var1], trace[var2])\n",
    "    line4.set_data(trace[var1], trace[var2])\n",
    "    line5.set_data([trace[var1].iloc[-1], trace[var1].iloc[-1]], [trace[var2].iloc[-1], var2_range[1]])\n",
    "    line6.set_data([trace[var1].iloc[-1], var1_range[1]], [trace[var2].iloc[-1], trace[var2].iloc[-1]])\n",
    "    return lines"
   ]
  },
  {
   "cell_type": "code",
   "execution_count": 121,
   "id": "986a9f4b-7a57-4d7d-a176-a07ed2f3782a",
   "metadata": {},
   "outputs": [],
   "source": [
    "with logistic_model:\n",
    "    nuts_trace = pm.sample(draws=samples, tune=burnin,\n",
    "                      init='adapt_diag',\n",
    "                      chains=1)\n",
    "    trace_df = pm.trace_to_dataframe(nuts_trace)\n",
    "\n",
    "trace_df.to_csv('trace.csv', index=False)\n",
    "trace_df = pd.read_csv('trace.csv')\n",
    "\n",
    "print(trace_df.info())"
   ]
  },
  {
   "cell_type": "code",
   "execution_count": 122,
   "id": "6870f8c4-0c64-4411-b6a2-ba9d43815b00",
   "metadata": {},
   "outputs": [],
   "source": [
    "fig = plt.figure(figsize=(8, 8))\n",
    "ax1 = fig.add_subplot(221, xlim=var1_range, ylim=(0, samples))\n",
    "ax2 = fig.add_subplot(224, xlim=(0, samples), ylim=var2_range)\n",
    "ax3 = fig.add_subplot(223, xlim=var1_range, ylim=var2_range,\n",
    "                      xlabel=var1, ylabel=var2)\n",
    "\n",
    "fig.subplots_adjust(wspace=0.0, hspace=0.0)\n",
    "line1, = ax1.plot([], [], lw=1)\n",
    "line2, = ax2.plot([], [], lw=1)\n",
    "line3, = ax3.plot([], [], 'o', lw=2, alpha=.1)\n",
    "line4, = ax3.plot([], [], lw=1, alpha=.3)\n",
    "line5, = ax3.plot([], [], 'k', lw=1)\n",
    "line6, = ax3.plot([], [], 'k', lw=1)\n",
    "ax1.set_xticklabels([])\n",
    "ax2.set_yticklabels([])\n",
    "lines = [line1, line2, line3, line4, line5, line6]\n",
    "\n",
    "\n",
    "anim = animation.FuncAnimation(fig,\n",
    "                               animate,\n",
    "                               init_func=init,\n",
    "                               frames=samples,\n",
    "                               interval=5,\n",
    "                               blit=True);\n",
    "\n",
    "# save\n",
    "# anim.save('nuts.mp4', writer=writer)\n",
    "# or display; either requres ffmpeg installation\n",
    "HTML(anim.to_html5_video())\n",
    "plt.show()"
   ]
  },
  {
   "cell_type": "markdown",
   "id": "7a3f442c-1cee-4944-aba7-928b02bcda10",
   "metadata": {},
   "source": [
    "#### Metropolis-Hastings Samples"
   ]
  },
  {
   "cell_type": "code",
   "execution_count": 123,
   "id": "35d2dea5-9cca-4e5d-8526-51b8c57ad977",
   "metadata": {},
   "outputs": [],
   "source": [
    "with logistic_model:\n",
    "    step = pm.Metropolis()\n",
    "    mh_trace = pm.sample(draws=samples, tune=burnin,\n",
    "                      step=step,\n",
    "                      chains=1)\n",
    "    trace_df = pm.trace_to_dataframe(mh_trace)"
   ]
  },
  {
   "cell_type": "code",
   "execution_count": 124,
   "id": "e41a4920-1f02-44e1-8644-865c373b4425",
   "metadata": {},
   "outputs": [],
   "source": [
    "fig = plt.figure(figsize=(8, 8))\n",
    "ax1 = fig.add_subplot(221, xlim=var1_range, ylim=(0, samples))\n",
    "ax2 = fig.add_subplot(224, xlim=(0, samples), ylim=var2_range)\n",
    "ax3 = fig.add_subplot(223, xlim=var1_range, ylim=var2_range,\n",
    "                      xlabel=var1, ylabel=var2)\n",
    "\n",
    "fig.subplots_adjust(wspace=0.0, hspace=0.0)\n",
    "line1, = ax1.plot([], [], lw=1)\n",
    "line2, = ax2.plot([], [], lw=1)\n",
    "line3, = ax3.plot([], [], 'o', lw=2, alpha=.1)\n",
    "line4, = ax3.plot([], [], lw=1, alpha=.3)\n",
    "line5, = ax3.plot([], [], 'k', lw=1)\n",
    "line6, = ax3.plot([], [], 'k', lw=1)\n",
    "ax1.set_xticklabels([])\n",
    "ax2.set_yticklabels([])\n",
    "lines = [line1, line2, line3, line4, line5, line6]\n",
    "\n",
    "def init():\n",
    "    for line in lines:\n",
    "        line.set_data([], [])\n",
    "    return lines\n",
    "\n",
    "def animate(i):\n",
    "    trace = trace_df.iloc[:i+1]\n",
    "    idx = list(range(len(trace)))\n",
    "    line1.set_data(trace[var1].iloc[::-1], idx)\n",
    "    line2.set_data(idx, trace[var2].iloc[::-1])\n",
    "    line3.set_data(trace[var1], trace[var2])\n",
    "    line4.set_data(trace[var1], trace[var2])\n",
    "    line5.set_data([trace[var1].iloc[-1], trace[var1].iloc[-1]], [trace[var2].iloc[-1], var2_range[1]])\n",
    "    line6.set_data([trace[var1].iloc[-1], var1_range[1]], [trace[var2].iloc[-1], trace[var2].iloc[-1]])\n",
    "    return lines\n",
    "\n",
    "anim = animation.FuncAnimation(fig,\n",
    "                               animate,\n",
    "                               init_func=init,\n",
    "                               frames=samples,\n",
    "                               interval=5,\n",
    "                               blit=True)\n",
    "\n",
    "HTML(anim.to_html5_video())"
   ]
  },
  {
   "cell_type": "code",
   "execution_count": null,
   "id": "394b3d35-6e94-4547-94e0-084c7a57582c",
   "metadata": {},
   "outputs": [],
   "source": []
  }
 ],
 "metadata": {
  "kernelspec": {
   "display_name": "Python 3 (ipykernel)",
   "language": "python",
   "name": "python3"
  },
  "language_info": {
   "codemirror_mode": {
    "name": "ipython",
    "version": 3
   },
   "file_extension": ".py",
   "mimetype": "text/x-python",
   "name": "python",
   "nbconvert_exporter": "python",
   "pygments_lexer": "ipython3",
   "version": "3.12.9"
  }
 },
 "nbformat": 4,
 "nbformat_minor": 5
}
