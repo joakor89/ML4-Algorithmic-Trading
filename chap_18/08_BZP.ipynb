{
 "cells": [
  {
   "cell_type": "markdown",
   "id": "f8e50cf8-8c63-4613-aa94-2e42fc4833b4",
   "metadata": {},
   "source": [
    "# Backtesting with Zipline - Pipeline API with Custom Data\n",
    "\n",
    "### Loading Libraries"
   ]
  },
  {
   "cell_type": "code",
   "execution_count": 28,
   "id": "5c7acddd-fd65-40d7-a492-fa6f81fa8feb",
   "metadata": {},
   "outputs": [],
   "source": [
    "# Numerical Computing\n",
    "import numpy as np\n",
    "\n",
    "# Data Manipulation\n",
    "import pandas as pd\n",
    "import pandas_datareader.data as web\n",
    "\n",
    "# Data Visualization\n",
    "import seaborn as sns\n",
    "import matplotlib.cm as cm\n",
    "import matplotlib.pyplot as plt\n",
    "\n",
    "# Warnings\n",
    "import warnings\n",
    "\n",
    "# Path & OS\n",
    "import os\n",
    "import sys\n",
    "from time import time\n",
    "from pathlib import Path\n",
    "from random import randint\n",
    "from collections import defaultdict\n",
    "\n",
    "# LogBook\n",
    "from logbook import Logger, StderrHandler, INFO, WARNING\n",
    "\n",
    "# Zipline\n",
    "from zipline import run_algorithm\n",
    "from zipline.api import (attach_pipeline, pipeline_output,\n",
    "                         date_rules, time_rules, record,\n",
    "                         schedule_function, commission, slippage,\n",
    "                         set_slippage, set_commission, set_max_leverage,\n",
    "                         order_target, order_target_percent,\n",
    "                         get_open_orders, cancel_order)\n",
    "\n",
    "from zipline.data import bundles\n",
    "from zipline.utils.run_algo import load_extensions\n",
    "from zipline.pipeline import Pipeline, CustomFactor\n",
    "from zipline.pipeline.data import Column, DataSet\n",
    "from zipline.pipeline.domain import US_EQUITIES\n",
    "from zipline.pipeline.filters import StaticAssets\n",
    "from zipline.pipeline.loaders import USEquityPricingLoader\n",
    "from zipline.pipeline.loaders.frame import DataFrameLoader\n",
    "\n",
    "# Trading Calendars\n",
    "# from trading_calendars import get_calendar\n",
    "\n",
    "# Pyfolio\n",
    "import pyfolio as pf\n",
    "from pyfolio.plotting import plot_rolling_returns, plot_rolling_sharpe\n",
    "from pyfolio.timeseries import forecast_cone_bootstrap\n",
    "\n",
    "from alphalens.tears import (create_returns_tear_sheet,\n",
    "                             create_summary_tear_sheet,\n",
    "                             create_full_tear_sheet)\n",
    "\n",
    "# Alphalens\n",
    "from alphalens.performance import mean_return_by_quantile\n",
    "from alphalens.plotting import plot_quantile_returns_bar\n",
    "from alphalens.utils import get_clean_factor_and_forward_returns, rate_of_return"
   ]
  },
  {
   "cell_type": "code",
   "execution_count": 30,
   "id": "5ae1510a-77ed-4469-a3d5-b879c34d37b4",
   "metadata": {},
   "outputs": [],
   "source": [
    "np.random.seed(42)\n",
    "\n",
    "idx = pd.IndexSlice\n",
    "\n",
    "sns.set_style('whitegrid')\n",
    "\n",
    "warnings.filterwarnings('ignore')"
   ]
  },
  {
   "cell_type": "code",
   "execution_count": 32,
   "id": "4015db73-49e8-4be1-8c19-afd12fa50116",
   "metadata": {},
   "outputs": [],
   "source": [
    "results_path = Path('results', 'cnn_for_trading')\n",
    "\n",
    "if not results_path.exists():\n",
    "    results_path.mkdir()"
   ]
  },
  {
   "cell_type": "markdown",
   "id": "30d6eb08-8c09-4a31-be4f-93de1da36a72",
   "metadata": {},
   "source": [
    "### Alphalens Analysis"
   ]
  },
  {
   "cell_type": "code",
   "execution_count": 35,
   "id": "827fedaf-2090-4a13-9240-a18d079e2838",
   "metadata": {},
   "outputs": [],
   "source": [
    "DATA_STORE = Path('..', 'data', 'assets.h5')"
   ]
  },
  {
   "cell_type": "code",
   "execution_count": 37,
   "id": "8ad043fb-6e9d-4d66-9b86-6be92934dd3b",
   "metadata": {},
   "outputs": [],
   "source": [
    "def get_trade_prices(tickers):\n",
    "    prices = (pd.read_hdf(DATA_STORE, 'quandl/wiki/prices').swaplevel().sort_index())\n",
    "    prices.index.names = ['symbol', 'date']\n",
    "    prices = prices.loc[idx[tickers, '2010':'2018'], 'adj_open']\n",
    "    return (prices\n",
    "            .unstack('symbol')\n",
    "            .sort_index()\n",
    "            .shift(-1)\n",
    "            .tz_localize('UTC'))"
   ]
  },
  {
   "cell_type": "code",
   "execution_count": 41,
   "id": "c71d66cb-310a-43b3-8701-46b384bc0a3b",
   "metadata": {},
   "outputs": [],
   "source": [
    "predictions = (pd.read_hdf(results_path / 'predictions.h5', 'predictions')\n",
    "               .iloc[:, :4]\n",
    "               .mean(1)\n",
    "               .to_frame('prediction'))"
   ]
  },
  {
   "cell_type": "code",
   "execution_count": 43,
   "id": "485b4d62-356d-47f2-8bea-f53ac9eab4b5",
   "metadata": {},
   "outputs": [],
   "source": [
    "factor = (predictions\n",
    "          .unstack('symbol')\n",
    "          .asfreq('D')\n",
    "          .dropna(how='all')\n",
    "          .stack()\n",
    "          .tz_localize('UTC', level='date')\n",
    "          .sort_index())\n",
    "\n",
    "tickers = factor.index.get_level_values('symbol').unique()"
   ]
  },
  {
   "cell_type": "code",
   "execution_count": 45,
   "id": "c32474e1-650b-4810-bf72-52b5e633dcc4",
   "metadata": {},
   "outputs": [],
   "source": [
    "factor.info()"
   ]
  },
  {
   "cell_type": "code",
   "execution_count": 47,
   "id": "918fc9f1-7d92-4c7f-8d22-9e7c04223297",
   "metadata": {},
   "outputs": [],
   "source": [
    "trade_prices = get_trade_prices(tickers)"
   ]
  },
  {
   "cell_type": "code",
   "execution_count": 49,
   "id": "271aae34-6030-4e34-b4dd-38f9f1707f49",
   "metadata": {},
   "outputs": [],
   "source": [
    "trade_prices.info()"
   ]
  },
  {
   "cell_type": "code",
   "execution_count": 51,
   "id": "accc9eb9-ba1f-425c-b44f-34e6c7da1c47",
   "metadata": {},
   "outputs": [],
   "source": [
    "factor_data = get_clean_factor_and_forward_returns(factor=factor,\n",
    "                                                   prices=trade_prices,\n",
    "                                                   quantiles=5,\n",
    "                                                   periods=(1, 5, 10, 21)).sort_index()\n",
    "\n",
    "factor_data.info()"
   ]
  },
  {
   "cell_type": "code",
   "execution_count": 53,
   "id": "595ae2a5-9f05-4377-9897-d17a558da39b",
   "metadata": {},
   "outputs": [],
   "source": [
    "create_summary_tear_sheet(factor_data);"
   ]
  },
  {
   "cell_type": "markdown",
   "id": "4b4ff432-691a-4fcd-83d6-2a597d277465",
   "metadata": {},
   "source": [
    "### Loading Zipline Extensions"
   ]
  },
  {
   "cell_type": "code",
   "execution_count": 72,
   "id": "749bd44c-7f0e-47b5-bcc1-6b0c4c67f3be",
   "metadata": {},
   "outputs": [],
   "source": [
    "load_extensions(default=True,\n",
    "                extensions=[],\n",
    "                strict=True,\n",
    "                environ=None)"
   ]
  },
  {
   "cell_type": "code",
   "execution_count": 74,
   "id": "268f77ab-c852-4926-aeeb-ac0b89702176",
   "metadata": {},
   "outputs": [],
   "source": [
    "log_handler = StderrHandler(format_string='[{record.time:%Y-%m-%d %H:%M:%S.%f}]: ' +\n",
    "                            '{record.level_name}: {record.func_name}: {record.message}',\n",
    "                            level=WARNING)\n",
    "\n",
    "log_handler.push_application()\n",
    "log = Logger('Algorithm')"
   ]
  },
  {
   "cell_type": "markdown",
   "id": "79e90e6f-ca61-4f93-9787-1522dd3e1ced",
   "metadata": {},
   "source": [
    "### Algo Params"
   ]
  },
  {
   "cell_type": "code",
   "execution_count": 77,
   "id": "a02d1f63-bcf5-47b4-83cf-f4fb102906b5",
   "metadata": {},
   "outputs": [],
   "source": [
    "N_LONGS = 25\n",
    "\n",
    "N_SHORTS = 25\n",
    "\n",
    "MIN_POSITIONS = 10"
   ]
  },
  {
   "cell_type": "markdown",
   "id": "3c99f17d-800c-4f60-9cbd-413789df2f6f",
   "metadata": {},
   "source": [
    "### Loading Data\n",
    "\n",
    "#### Quandl Wiki Bundel"
   ]
  },
  {
   "cell_type": "code",
   "execution_count": 80,
   "id": "8a5f8ad5-218f-4111-92d4-4609b2f44b6d",
   "metadata": {},
   "outputs": [],
   "source": [
    "bundle_data = bundles.load('quandl')"
   ]
  },
  {
   "cell_type": "markdown",
   "id": "cf641573-b8e6-472c-8fdc-7c161c74f433",
   "metadata": {},
   "source": [
    "#### ML Predictions"
   ]
  },
  {
   "cell_type": "code",
   "execution_count": 83,
   "id": "38c9515a-5fd7-4414-8030-3237ec3d087e",
   "metadata": {},
   "outputs": [],
   "source": [
    "def load_predictions(bundle):\n",
    "    predictions = (pd.read_hdf(results_path / 'predictions.h5', 'predictions')\n",
    "                   .iloc[:, :4]\n",
    "                   .mean(1)\n",
    "                   .to_frame('prediction'))\n",
    "    tickers = predictions.index.get_level_values('symbol').unique().tolist()\n",
    "\n",
    "    assets = bundle.asset_finder.lookup_symbols(tickers, as_of_date=None)\n",
    "    predicted_sids = pd.Int64Index([asset.sid for asset in assets])\n",
    "    ticker_map = dict(zip(tickers, predicted_sids))\n",
    "\n",
    "    return (predictions\n",
    "            .unstack('symbol')\n",
    "            .rename(columns=ticker_map)\n",
    "            .prediction\n",
    "            .tz_localize('UTC')), assets"
   ]
  },
  {
   "cell_type": "code",
   "execution_count": 85,
   "id": "8e17d26d-5ed4-4bb4-8e4c-62765aa5e78e",
   "metadata": {},
   "outputs": [],
   "source": [
    "predictions, assets = load_predictions(bundle_data)"
   ]
  },
  {
   "cell_type": "code",
   "execution_count": 87,
   "id": "d569bf92-f556-4cf8-81ef-af20d903fe8f",
   "metadata": {},
   "outputs": [],
   "source": [
    "predictions.info()"
   ]
  },
  {
   "cell_type": "markdown",
   "id": "4aa9d083-7295-46c1-a800-c807cb3817db",
   "metadata": {},
   "source": [
    "#### Defining Custom Dataset"
   ]
  },
  {
   "cell_type": "code",
   "execution_count": 90,
   "id": "368fcd8c-6bed-48af-bae4-21e43223b837",
   "metadata": {},
   "outputs": [],
   "source": [
    "class SignalData(DataSet):\n",
    "    predictions = Column(dtype=float)\n",
    "    domain = US_EQUITIES"
   ]
  },
  {
   "cell_type": "markdown",
   "id": "30cc423c-ebec-4aeb-a088-bf6ea1e246bf",
   "metadata": {},
   "source": [
    "#### Defining Pipeline Loaders"
   ]
  },
  {
   "cell_type": "code",
   "execution_count": 93,
   "id": "b16c7f2b-5f2d-4286-8d57-fec450fb0f4c",
   "metadata": {},
   "outputs": [],
   "source": [
    "signal_loader = {SignalData.predictions:\n",
    "                     DataFrameLoader(SignalData.predictions, predictions)}"
   ]
  },
  {
   "cell_type": "markdown",
   "id": "6bad893c-d546-41d9-9fa6-87579f8279ef",
   "metadata": {},
   "source": [
    "### Pipeline Setup\n",
    "\n",
    "#### Custom ML Factor"
   ]
  },
  {
   "cell_type": "code",
   "execution_count": 101,
   "id": "720e99d3-f6fd-4184-bf1b-b164bdc09492",
   "metadata": {},
   "outputs": [],
   "source": [
    "class MLSignal(CustomFactor):\n",
    "    \"\"\"Converting signals to Factor\n",
    "        so we can rank and filter in Pipeline\"\"\"\n",
    "    inputs = [SignalData.predictions]\n",
    "    window_length = 1\n",
    "\n",
    "    def compute(self, today, assets, out, predictions):\n",
    "        out[:] = predictions"
   ]
  },
  {
   "cell_type": "markdown",
   "id": "93d0e20c-44c9-4042-bc76-d2f0f42461fd",
   "metadata": {},
   "source": [
    "#### Creating Pipeline"
   ]
  },
  {
   "cell_type": "code",
   "execution_count": 104,
   "id": "0b36e533-73ff-4ab8-afa7-b8faa1d60d2b",
   "metadata": {},
   "outputs": [],
   "source": [
    "def compute_signals():\n",
    "    signals = MLSignal()\n",
    "    return Pipeline(columns={\n",
    "        'longs' : signals.top(N_LONGS),\n",
    "        'shorts': signals.bottom(N_SHORTS)},\n",
    "            screen=StaticAssets(assets))"
   ]
  },
  {
   "cell_type": "markdown",
   "id": "8b6bc82f-11e6-4e6c-82d2-9dbe0c36c850",
   "metadata": {},
   "source": [
    "### Initializing Algorithm"
   ]
  },
  {
   "cell_type": "code",
   "execution_count": 118,
   "id": "32ced7d1-b815-47c8-94f3-b1826bde22ed",
   "metadata": {},
   "outputs": [],
   "source": [
    "def initialize(context):\n",
    "    \"\"\"\n",
    "    Called once at the start of the algorithm.\n",
    "    \"\"\"\n",
    "    context.longs = context.shorts = None\n",
    "    set_slippage(slippage.FixedSlippage(spread=0.00))\n",
    "    #set_commission(commission.PerShare(cost=0.001, min_trade_cost=0))\n",
    "\n",
    "    schedule_function(rebalance,\n",
    "                      date_rules.every_day(),\n",
    "                      #date_rules.week_start(),\n",
    "                      time_rules.market_open(hours=1, minutes=30))\n",
    "\n",
    "    schedule_function(record_vars,\n",
    "                      date_rules.every_day(),\n",
    "                      time_rules.market_close())\n",
    "\n",
    "    pipeline = compute_signals()\n",
    "    attach_pipeline(pipeline, 'signals')"
   ]
  },
  {
   "cell_type": "markdown",
   "id": "6f26912c-c438-44ad-80d9-0207c893d651",
   "metadata": {},
   "source": [
    "#### Getting Daily Pipeline Results"
   ]
  },
  {
   "cell_type": "code",
   "execution_count": 125,
   "id": "40e6b241-7e35-4749-80d4-3987b185b18b",
   "metadata": {},
   "outputs": [],
   "source": [
    "def before_trading_start(context, data):\n",
    "    \"\"\"\n",
    "    Called every day before market open.\n",
    "    \"\"\"\n",
    "    output = pipeline_output('signals')\n",
    "    longs = pipeline_output('signals').longs.astype(int)\n",
    "    shorts = pipeline_output('signals').shorts.astype(int)\n",
    "    holdings = context.portfolio.positions.keys()\n",
    "    \n",
    "    if longs.sum() > MIN_POSITIONS and shorts.sum() > MIN_POSITIONS:\n",
    "        context.longs = longs[longs!=0].index\n",
    "        context.shorts = shorts[shorts!=0].index\n",
    "        context.divest = holdings - set(context.longs) - set(context.shorts)\n",
    "    else:\n",
    "        context.longs = context.shorts = pd.Index([])\n",
    "        context.divest = set(holdings)"
   ]
  },
  {
   "cell_type": "markdown",
   "id": "e7237504-3e99-493f-9a2c-a48c5100e787",
   "metadata": {},
   "source": [
    "### Defining Rebalancing Logic"
   ]
  },
  {
   "cell_type": "code",
   "execution_count": 128,
   "id": "53420856-b458-43da-872f-10cd530b580d",
   "metadata": {},
   "outputs": [],
   "source": [
    "def rebalance(context, data):\n",
    "    \"\"\"\n",
    "    Execute orders according to schedule_function() date & time rules.\n",
    "    \"\"\"\n",
    "    \n",
    "    for symbol, open_orders in get_open_orders().items():\n",
    "        for open_order in open_orders:\n",
    "            cancel_order(open_order)\n",
    "          \n",
    "    for stock in context.divest:\n",
    "        order_target(stock, target=0)\n",
    "        #log.warning('{} {:,.0f}'.format(len(context.portfolio.positions), context.portfolio.portfolio_value))\n",
    "    if not (context.longs.empty and context.shorts.empty):\n",
    "        for stock in context.shorts:\n",
    "            order_target_percent(stock, -1 / len(context.shorts) / 2)\n",
    "        for stock in context.longs:\n",
    "            order_target_percent(stock, 1 / len(context.longs))"
   ]
  },
  {
   "cell_type": "markdown",
   "id": "f4031374-e1a7-4f67-8b58-a90e27d56efd",
   "metadata": {},
   "source": [
    "### Record Data Points"
   ]
  },
  {
   "cell_type": "code",
   "execution_count": 131,
   "id": "a92bc37c-81af-48ef-bf83-22c3e83a76ad",
   "metadata": {},
   "outputs": [],
   "source": [
    "def record_vars(context, data):\n",
    "    \"\"\"\n",
    "    Plot variables at the end of each day.\n",
    "    \"\"\"\n",
    "    record(leverage=context.account.leverage,\n",
    "           longs=context.longs,\n",
    "           shorts=context.shorts)"
   ]
  },
  {
   "cell_type": "markdown",
   "id": "a0965af4-2bc6-4d47-ad55-dad94e5ab9ac",
   "metadata": {},
   "source": [
    "### Running Algorithm"
   ]
  },
  {
   "cell_type": "code",
   "execution_count": 134,
   "id": "3653976b-9892-4ab9-99f9-0e3ff1c9b3fb",
   "metadata": {},
   "outputs": [],
   "source": [
    "dates = predictions.index.get_level_values('date')\n",
    "\n",
    "start_date, end_date = dates.min(), dates.max()"
   ]
  },
  {
   "cell_type": "code",
   "execution_count": 136,
   "id": "29acfa9c-05b3-4fe2-b5d7-5c4ead741462",
   "metadata": {},
   "outputs": [],
   "source": [
    "print('Start: {}\\nEnd:   {}'.format(start_date.date(), end_date.date()))"
   ]
  },
  {
   "cell_type": "code",
   "execution_count": 138,
   "id": "4ddaaf3f-9b3d-4de0-abce-6ab656627ca3",
   "metadata": {},
   "outputs": [],
   "source": [
    "start = time()\n",
    "\n",
    "results = run_algorithm(start=start_date,\n",
    "                        end=end_date,\n",
    "                        initialize=initialize,\n",
    "                        before_trading_start=before_trading_start,\n",
    "                        capital_base=1e5,\n",
    "                        data_frequency='daily',\n",
    "                        bundle='quandl',\n",
    "                        custom_loader=signal_loader)  \n",
    "\n",
    "print('Duration: {:.2f}s'.format(time() - start))"
   ]
  },
  {
   "cell_type": "markdown",
   "id": "eb89d5b4-bfe4-448e-8de7-09caaefe5567",
   "metadata": {},
   "source": [
    "### PyFolio Analysis"
   ]
  },
  {
   "cell_type": "code",
   "execution_count": 141,
   "id": "1a932a70-1e03-4d93-b3f7-4b9f7a9654f9",
   "metadata": {},
   "outputs": [],
   "source": [
    "returns, positions, transactions = pf.utils.extract_rets_pos_txn_from_zipline(results)"
   ]
  },
  {
   "cell_type": "code",
   "execution_count": 143,
   "id": "a2588074-084e-4e80-8f76-337d15af9667",
   "metadata": {},
   "outputs": [],
   "source": [
    "benchmark = web.DataReader('SP500', 'fred', '2010', '2018').squeeze()\n",
    "\n",
    "benchmark = benchmark.pct_change().tz_localize('UTC')"
   ]
  },
  {
   "cell_type": "markdown",
   "id": "b6c9f0ea-5991-4a3f-a525-31d63ed36291",
   "metadata": {},
   "source": [
    "#### Custom Plots"
   ]
  },
  {
   "cell_type": "code",
   "execution_count": 154,
   "id": "911ae9c0-4e2d-40f2-8bfb-9469895d0d92",
   "metadata": {},
   "outputs": [],
   "source": [
    "LIVE_DATE = '2018-01-01'"
   ]
  },
  {
   "cell_type": "code",
   "execution_count": 156,
   "id": "cb676517-b4b8-4c23-87da-fc750bfa56b7",
   "metadata": {},
   "outputs": [],
   "source": [
    "fig, axes = plt.subplots(ncols=2, figsize=(16, 5))\n",
    "\n",
    "plot_rolling_returns(returns,\n",
    "                     factor_returns=benchmark,\n",
    "                     live_start_date=LIVE_DATE,\n",
    "                     logy=False,\n",
    "                     cone_std=2,\n",
    "                     legend_loc='best',\n",
    "                     volatility_match=False,\n",
    "                     cone_function=forecast_cone_bootstrap,\n",
    "                     ax=axes[0])\n",
    "plot_rolling_sharpe(returns, ax=axes[1], rolling_window=63)\n",
    "axes[0].set_title('Cumulative Returns - In and Out-of-Sample')\n",
    "axes[1].set_title('Rolling Sharpe Ratio (3 Months)')\n",
    "fig.tight_layout()\n",
    "fig.savefig((results_path / 'pyfolio_out_of_sample').as_posix(), dpi=300)\n",
    "plt.show()"
   ]
  },
  {
   "cell_type": "markdown",
   "id": "4802c85a-ced9-4924-8902-656031c61c98",
   "metadata": {},
   "source": [
    "## Tear Sheets"
   ]
  },
  {
   "cell_type": "code",
   "execution_count": 159,
   "id": "6792048f-7570-4dd8-8984-4e1aaec3f04d",
   "metadata": {},
   "outputs": [],
   "source": [
    "pf.create_full_tear_sheet(returns, \n",
    "                          positions=positions, \n",
    "                          transactions=transactions,\n",
    "                          benchmark_rets=benchmark,\n",
    "                          round_trips=True)"
   ]
  },
  {
   "cell_type": "code",
   "execution_count": null,
   "id": "f7598182-4360-4759-94a4-b1405d7caa79",
   "metadata": {},
   "outputs": [],
   "source": []
  }
 ],
 "metadata": {
  "kernelspec": {
   "display_name": "Python [conda env:MLAT] *",
   "language": "python",
   "name": "conda-env-MLAT-py"
  },
  "language_info": {
   "codemirror_mode": {
    "name": "ipython",
    "version": 3
   },
   "file_extension": ".py",
   "mimetype": "text/x-python",
   "name": "python",
   "nbconvert_exporter": "python",
   "pygments_lexer": "ipython3",
   "version": "3.12.9"
  }
 },
 "nbformat": 4,
 "nbformat_minor": 5
}
