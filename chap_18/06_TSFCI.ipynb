{
 "cells": [
  {
   "cell_type": "markdown",
   "id": "86cc7aba-401c-4920-a79b-92e065531805",
   "metadata": {},
   "source": [
    "# CNN for Trading - Part 2: From Time-Series Features to Clustered Images\n",
    "\n",
    "### Loading Libraries"
   ]
  },
  {
   "cell_type": "code",
   "execution_count": 38,
   "id": "212f026d-30c7-4dd0-9ec0-00c1f0b3f5f1",
   "metadata": {},
   "outputs": [],
   "source": [
    "# Numerical Computing\n",
    "import numpy as np\n",
    "\n",
    "# Data Manipulation\n",
    "import pandas as pd\n",
    "import pandas_datareader.data as web\n",
    "\n",
    "# Data Visualization\n",
    "import seaborn as sns\n",
    "import matplotlib.cm as cm\n",
    "import matplotlib.pyplot as plt\n",
    "\n",
    "# Warnings\n",
    "import warnings\n",
    "\n",
    "# Path \n",
    "import sys\n",
    "from time import time\n",
    "from pathlib import Path\n",
    "from random import randint\n",
    "\n",
    "# Notebook Optimization\n",
    "from tqdm import tqdm\n",
    "\n",
    "# SciPy\n",
    "from scipy.spatial.distance import pdist\n",
    "from scipy.cluster.hierarchy import dendrogram, linkage, cophenet\n",
    "\n",
    "# Scikit-Learn\n",
    "from sklearn.preprocessing import StandardScaler\n",
    "from sklearn.feature_selection import mutual_info_regression"
   ]
  },
  {
   "cell_type": "code",
   "execution_count": 39,
   "id": "279db0d0-1279-449c-9747-058f557bf144",
   "metadata": {},
   "outputs": [],
   "source": [
    "idx = pd.IndexSlice\n",
    "\n",
    "sns.set_style('white')\n",
    "\n",
    "warnings.filterwarnings('ignore')"
   ]
  },
  {
   "cell_type": "code",
   "execution_count": 42,
   "id": "44ff8f88-c58a-4f38-9194-4f7faa2d64d6",
   "metadata": {},
   "outputs": [],
   "source": [
    "MONTH = 21\n",
    "\n",
    "YEAR = 12 * MONTH"
   ]
  },
  {
   "cell_type": "code",
   "execution_count": 44,
   "id": "61e99f8f-6fd5-4591-9923-8e45e4742939",
   "metadata": {},
   "outputs": [],
   "source": [
    "START = '2001-01-01'\n",
    "\n",
    "END = '2017-12-31'"
   ]
  },
  {
   "cell_type": "code",
   "execution_count": 46,
   "id": "51d02a29-0d08-432c-9063-52592710636e",
   "metadata": {},
   "outputs": [],
   "source": [
    "results_path = Path('results', 'cnn_for_trading')\n",
    "\n",
    "if not results_path.exists():\n",
    "    results_path.mkdir(parents=True)"
   ]
  },
  {
   "cell_type": "markdown",
   "id": "631875b0-811f-40bc-859e-ecbdbf169f32",
   "metadata": {},
   "source": [
    "### Loading Model Data"
   ]
  },
  {
   "cell_type": "code",
   "execution_count": 51,
   "id": "12504b3e-c00d-4c2d-b4f9-112edcf6d2f0",
   "metadata": {},
   "outputs": [],
   "source": [
    "with pd.HDFStore('data.h5') as store:\n",
    "    features = store.get('features')\n",
    "    targets = store.get('targets')"
   ]
  },
  {
   "cell_type": "code",
   "execution_count": 53,
   "id": "dd06c2d6-25a0-496e-bb66-ec3f5dbf8636",
   "metadata": {},
   "outputs": [],
   "source": [
    "features.info()"
   ]
  },
  {
   "cell_type": "code",
   "execution_count": 55,
   "id": "373e761b-55e9-4106-af3a-d43cdb0a4e88",
   "metadata": {},
   "outputs": [],
   "source": [
    "targets.info()"
   ]
  },
  {
   "cell_type": "markdown",
   "id": "73a4db96-2e35-4385-a9c4-421ac0a8cda2",
   "metadata": {},
   "source": [
    "### Features using Mutual Information Selection"
   ]
  },
  {
   "cell_type": "code",
   "execution_count": 58,
   "id": "62994f13-1b57-47f7-a796-cd5ee9d2d421",
   "metadata": {},
   "outputs": [],
   "source": [
    "mi = {}\n",
    "\n",
    "for t in tqdm([1, 5]):\n",
    "    target = f'r{t:02}_fwd'\n",
    "    # Sample a smaller number to speed up the computation\n",
    "    df = features.join(targets[target]).dropna().sample(n=100000)\n",
    "    X = df.drop(target, axis=1)\n",
    "    y = df[target]\n",
    "    mi[t] = pd.Series(mutual_info_regression(X=X, y=y),\n",
    "                      index=X.columns).sort_values(ascending=False)"
   ]
  },
  {
   "cell_type": "code",
   "execution_count": 60,
   "id": "2fc6b3f2-4de6-4fcc-b4c6-f639be3d8e7f",
   "metadata": {},
   "outputs": [],
   "source": [
    "mutual_info = pd.DataFrame(mi)\n",
    "\n",
    "mutual_info.to_hdf('data.h5', 'mutual_info')"
   ]
  },
  {
   "cell_type": "code",
   "execution_count": 62,
   "id": "cbdcf080-2702-4e61-a51c-e6715addfb0b",
   "metadata": {},
   "outputs": [],
   "source": [
    "mutual_info = pd.read_hdf('data.h5', 'mutual_info')"
   ]
  },
  {
   "cell_type": "code",
   "execution_count": 64,
   "id": "6d7f4822-5754-45ff-81a4-90fa31fe1a07",
   "metadata": {},
   "outputs": [],
   "source": [
    "mi_by_indicator = (mutual_info.groupby(mutual_info.\n",
    "                                       index.to_series()\n",
    "                                       .str.split('_').str[-1])\n",
    "                   .mean()\n",
    "                   .rank(ascending=False)\n",
    "                   .sort_values(by=1))"
   ]
  },
  {
   "cell_type": "code",
   "execution_count": 66,
   "id": "728c25d4-c7a0-44b6-ba15-28d4ea4af542",
   "metadata": {},
   "outputs": [],
   "source": [
    "mutual_info.boxplot()\n",
    "sns.despine();\n",
    "plt.show()"
   ]
  },
  {
   "cell_type": "code",
   "execution_count": 68,
   "id": "55312168-3c3e-4767-a654-e461c57d7f51",
   "metadata": {},
   "outputs": [],
   "source": [
    "(mutual_info.groupby(mutual_info.index.to_series().str.split('_').str[-1])[1]\n",
    " .mean()\n",
    " .sort_values().plot.barh(title='Mutual Information with 1-Day Forward Returns'))\n",
    "sns.despine()\n",
    "plt.tight_layout()\n",
    "plt.savefig(results_path / 'mutual_info_cnn_features', dpi=300)\n",
    "plt.show()"
   ]
  },
  {
   "cell_type": "code",
   "execution_count": 70,
   "id": "b9fcac9b-673e-4a77-a38c-76d990452ab1",
   "metadata": {},
   "outputs": [],
   "source": [
    "best_features = mi_by_indicator.head(15).index"
   ]
  },
  {
   "cell_type": "code",
   "execution_count": 72,
   "id": "0d8a7154-b2bc-4256-b14a-253c69ee371c",
   "metadata": {},
   "outputs": [],
   "source": [
    "size = len(best_features)"
   ]
  },
  {
   "cell_type": "markdown",
   "id": "7055a43d-3080-4b9d-b3ca-4a3b9048ff73",
   "metadata": {},
   "source": [
    "### Hierarchical Feature Clustering"
   ]
  },
  {
   "cell_type": "code",
   "execution_count": 75,
   "id": "ba26332c-b866-4496-96a9-dff33211b248",
   "metadata": {},
   "outputs": [],
   "source": [
    "features = pd.concat([features.filter(like=f'_{f}') for f in best_features], axis=1)"
   ]
  },
  {
   "cell_type": "code",
   "execution_count": 77,
   "id": "8e7ec738-1f70-44e1-8686-5edcab3f0fdc",
   "metadata": {},
   "outputs": [],
   "source": [
    "new_cols = {}\n",
    "\n",
    "for feature in best_features:\n",
    "    fnames = sorted(features.filter(like=f'_{feature}').columns.tolist())\n",
    "    renamed = [f'{i:02}_{feature}' for i in range(1, len(fnames)+ 1)]\n",
    "    new_cols.update(dict(zip(fnames, renamed)))\n",
    "\n",
    "features = features.rename(columns=new_cols).sort_index(1)"
   ]
  },
  {
   "cell_type": "code",
   "execution_count": 79,
   "id": "f60e2051-d42d-4850-826b-cb632ea4b8ae",
   "metadata": {},
   "outputs": [],
   "source": [
    "features.info()"
   ]
  },
  {
   "cell_type": "markdown",
   "id": "7fb4c947-a400-46eb-a369-e6b6c5edd2bf",
   "metadata": {},
   "source": [
    "### Hierarchical Clustering"
   ]
  },
  {
   "cell_type": "code",
   "execution_count": 82,
   "id": "f234989f-5751-48f2-b5c6-40fb490d0aab",
   "metadata": {},
   "outputs": [],
   "source": [
    "def cluster_features(data, labels, ax, title):\n",
    "    data = StandardScaler().fit_transform(data)\n",
    "    pairwise_distance = pdist(data)\n",
    "    Z = linkage(data, 'ward')\n",
    "    c, coph_dists = cophenet(Z, pairwise_distance)\n",
    "    dend = dendrogram(Z,\n",
    "                      labels=labels,\n",
    "                      orientation='top',\n",
    "                      leaf_rotation=0.,\n",
    "                      leaf_font_size=8.,\n",
    "                      ax=ax)\n",
    "    ax.set_title(title)\n",
    "    return dend['ivl']"
   ]
  },
  {
   "cell_type": "code",
   "execution_count": 84,
   "id": "a87fd88f-857c-4958-a651-893e31f57fae",
   "metadata": {},
   "outputs": [],
   "source": [
    "fig, axes = plt.subplots(figsize=(15, 4), ncols=2)\n",
    "\n",
    "labels = sorted(best_features)\n",
    "title = 'Column Features: Indicators'\n",
    "col_order = cluster_features(features.dropna().values.reshape(-1, 15).T,\n",
    "                             labels,\n",
    "                             axes[0],\n",
    "                             title)\n",
    "\n",
    "labels = list(range(1, 16))\n",
    "title = 'Row Features: Indicator Parameters'\n",
    "row_order = cluster_features(\n",
    "    features.dropna().values.reshape(-1, 15, 15).transpose((0, 2, 1)).reshape(-1, 15).T,\n",
    "    labels, axes[1], title)\n",
    "axes[0].set_xlabel('Indicators')\n",
    "axes[1].set_xlabel('Parameters')\n",
    "sns.despine()\n",
    "fig.tight_layout()\n",
    "fig.savefig(results_path / 'cnn_clustering', dpi=300)\n",
    "plt.show()"
   ]
  },
  {
   "cell_type": "code",
   "execution_count": 86,
   "id": "0d5b7e90-19da-413c-bbd1-52f088a9fd88",
   "metadata": {},
   "outputs": [],
   "source": [
    "feature_order = [f'{i:02}_{j}' for i in row_order for j in col_order]"
   ]
  },
  {
   "cell_type": "code",
   "execution_count": 88,
   "id": "31d5e5e2-ca65-431f-a828-6700e7f9b57f",
   "metadata": {},
   "outputs": [],
   "source": [
    "features = features.loc[:, feature_order]"
   ]
  },
  {
   "cell_type": "code",
   "execution_count": 90,
   "id": "9e794b32-28e2-4b9b-8eec-d9edbb5e42dd",
   "metadata": {},
   "outputs": [],
   "source": [
    "features = features.apply(pd.to_numeric, downcast='float')"
   ]
  },
  {
   "cell_type": "code",
   "execution_count": 92,
   "id": "3ba0cb80-dee2-44ef-b220-70e081f9730d",
   "metadata": {},
   "outputs": [],
   "source": [
    "features.info()"
   ]
  },
  {
   "cell_type": "code",
   "execution_count": 94,
   "id": "ccc7fc5f-9f51-4507-84d9-e1a233de6b52",
   "metadata": {},
   "outputs": [],
   "source": [
    "features.to_hdf('data.h5', 'img_data')"
   ]
  },
  {
   "cell_type": "code",
   "execution_count": null,
   "id": "cc5a08f8-f367-451f-b531-974791e613fa",
   "metadata": {},
   "outputs": [],
   "source": []
  }
 ],
 "metadata": {
  "kernelspec": {
   "display_name": "Python [conda env:MLAT] *",
   "language": "python",
   "name": "conda-env-MLAT-py"
  },
  "language_info": {
   "codemirror_mode": {
    "name": "ipython",
    "version": 3
   },
   "file_extension": ".py",
   "mimetype": "text/x-python",
   "name": "python",
   "nbconvert_exporter": "python",
   "pygments_lexer": "ipython3",
   "version": "3.12.9"
  }
 },
 "nbformat": 4,
 "nbformat_minor": 5
}
