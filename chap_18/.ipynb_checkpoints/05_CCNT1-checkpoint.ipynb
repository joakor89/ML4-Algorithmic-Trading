{
 "cells": [
  {
   "cell_type": "markdown",
   "id": "a47e308a-6be0-42dd-935f-86b1df176fa2",
   "metadata": {},
   "source": [
    "# CNN for Trading - Part 1: Feature Engineering\n",
    "\n",
    "### Loading Libraries"
   ]
  },
  {
   "cell_type": "code",
   "execution_count": 95,
   "id": "82d95991-de66-41e8-bbef-cac01c95e8fe",
   "metadata": {},
   "outputs": [],
   "source": [
    "# Numerical Computing\n",
    "import numpy as np\n",
    "\n",
    "# Data Manipulation\n",
    "import pandas as pd\n",
    "import pandas_datareader.data as web\n",
    "\n",
    "# Data Visualization\n",
    "import seaborn as sns\n",
    "import matplotlib.cm as cm\n",
    "import matplotlib.pyplot as plt\n",
    "\n",
    "# Warnings\n",
    "import warnings\n",
    "\n",
    "# Path \n",
    "import sys\n",
    "from time import time\n",
    "from pathlib import Path\n",
    "from random import randint\n",
    "\n",
    "# StatsModel\n",
    "import statsmodels.api as sm\n",
    "from statsmodels.regression.rolling import RollingOLS\n",
    "\n",
    "\n",
    "# Technical Analysis\n",
    "from talib import (RSI, BBANDS, MACD,\n",
    "                   NATR, WILLR, WMA,\n",
    "                   EMA, SMA, CCI, CMO,\n",
    "                   MACD, PPO, ROC,\n",
    "                   ADOSC, ADX, MOM)"
   ]
  },
  {
   "cell_type": "code",
   "execution_count": 81,
   "id": "61f6ef41-c316-49b8-bf0b-02cdf16bd4bf",
   "metadata": {},
   "outputs": [],
   "source": [
    "%matplotlib inline"
   ]
  },
  {
   "cell_type": "code",
   "execution_count": 83,
   "id": "398df30e-1844-4744-a30e-09fe60af241a",
   "metadata": {},
   "outputs": [],
   "source": [
    "idx = pd.IndexSlice\n",
    "\n",
    "sns.set_style('whitegrid')\n",
    "\n",
    "warnings.filterwarnings('ignore')"
   ]
  },
  {
   "cell_type": "code",
   "execution_count": 85,
   "id": "6dc48446-0aa4-4ce7-a7ef-d595927d7268",
   "metadata": {},
   "outputs": [],
   "source": [
    "DATA_STORE = '../data/assets.h5'"
   ]
  },
  {
   "cell_type": "code",
   "execution_count": 87,
   "id": "e7647414-dc47-425b-bd2c-224f2fbafdb0",
   "metadata": {},
   "outputs": [],
   "source": [
    "MONTH = 21\n",
    "\n",
    "YEAR = 12 * MONTH"
   ]
  },
  {
   "cell_type": "code",
   "execution_count": 89,
   "id": "20cc2e5e-5415-4d3e-ab70-7ada494fcd07",
   "metadata": {},
   "outputs": [],
   "source": [
    "START = '2000-01-01'\n",
    "\n",
    "END = '2017-12-31'"
   ]
  },
  {
   "cell_type": "code",
   "execution_count": 91,
   "id": "8e989d28-3e0e-466c-b69e-2a0ca2adddaa",
   "metadata": {},
   "outputs": [],
   "source": [
    "T = [1, 5, 10, 21, 42, 63]"
   ]
  },
  {
   "cell_type": "code",
   "execution_count": 97,
   "id": "52a1de4c-fda1-4f0b-8c46-d9daf4b5d83f",
   "metadata": {},
   "outputs": [],
   "source": [
    "results_path = Path('results', 'cnn_for_trading')\n",
    "\n",
    "if not results_path.exists():\n",
    "    results_path.mkdir(parents=True)"
   ]
  },
  {
   "cell_type": "markdown",
   "id": "641168ea-ee48-4ee3-af2e-e5e0a47764b5",
   "metadata": {},
   "source": [
    "### Loading Quandl Wiki Stock Prices & Meta Data"
   ]
  },
  {
   "cell_type": "code",
   "execution_count": 100,
   "id": "f1eb7a8d-3c28-4d00-81d6-05c90735471a",
   "metadata": {},
   "outputs": [],
   "source": [
    "adj_ohlcv = ['adj_open', 'adj_close', 'adj_low', 'adj_high', 'adj_volume']"
   ]
  },
  {
   "cell_type": "code",
   "execution_count": 102,
   "id": "3213a1d0-0ff6-493c-8611-2c7db2f3c993",
   "metadata": {},
   "outputs": [],
   "source": [
    "with pd.HDFStore(DATA_STORE) as store:\n",
    "    \n",
    "    prices = (store['quandl/wiki/prices']\n",
    "              .loc[idx[START:END, :], adj_ohlcv]\n",
    "              .rename(columns=lambda x: x.replace('adj_', ''))\n",
    "              .swaplevel()\n",
    "              .sort_index()\n",
    "             .dropna())\n",
    "    metadata = (store['us_equities/stocks'].loc[:, ['marketcap', 'sector']])\n",
    "\n",
    "ohlcv = prices.columns.tolist()"
   ]
  },
  {
   "cell_type": "code",
   "execution_count": 104,
   "id": "56b96e24-a8d5-4b9c-af1d-0e31193fccfc",
   "metadata": {},
   "outputs": [],
   "source": [
    "prices.volume /= 1e3\n",
    "\n",
    "prices.index.names = ['symbol', 'date']\n",
    "metadata.index.name = 'symbol'"
   ]
  },
  {
   "cell_type": "markdown",
   "id": "c70e0ec6-b0f2-4ff2-a735-161454a3fdc7",
   "metadata": {},
   "source": [
    "### Rolling Universe: Picking 500 Most-Traded Stocks"
   ]
  },
  {
   "cell_type": "code",
   "execution_count": 107,
   "id": "10857306-200d-44b0-8e66-92b41b55fd65",
   "metadata": {},
   "outputs": [],
   "source": [
    "dollar_vol = prices.close.mul(prices.volume).unstack('symbol').sort_index()"
   ]
  },
  {
   "cell_type": "code",
   "execution_count": 109,
   "id": "76257564-f6cf-4995-aac6-6ff1884179fb",
   "metadata": {},
   "outputs": [],
   "source": [
    "years = sorted(np.unique([d.year for d in prices.index.get_level_values('date').unique()]))"
   ]
  },
  {
   "cell_type": "code",
   "execution_count": 111,
   "id": "a91a24f1-cf80-418f-a19a-1e9c4b9b1864",
   "metadata": {},
   "outputs": [],
   "source": [
    "train_window = 5 \n",
    "\n",
    "universe_size = 500"
   ]
  },
  {
   "cell_type": "code",
   "execution_count": 113,
   "id": "a0c9254d-fdc7-44df-b30c-2407e3409377",
   "metadata": {},
   "outputs": [],
   "source": [
    "universe = []\n",
    "\n",
    "for i, year in enumerate(years[5:], 5):\n",
    "    start = str(years[i-5])\n",
    "    end = str(years[i])\n",
    "    most_traded = (dollar_vol.loc[start:end, :]\n",
    "                   .dropna(thresh=1000, axis=1)\n",
    "                   .median()\n",
    "                   .nlargest(universe_size)\n",
    "                   .index)\n",
    "    universe.append(prices.loc[idx[most_traded, start:end], :])\n",
    "universe = pd.concat(universe)"
   ]
  },
  {
   "cell_type": "code",
   "execution_count": 115,
   "id": "110b8044-70cc-4d56-845e-1f0f0ba7647f",
   "metadata": {},
   "outputs": [],
   "source": [
    "universe = universe.loc[~universe.index.duplicated()]"
   ]
  },
  {
   "cell_type": "code",
   "execution_count": 117,
   "id": "0af90747-683e-4486-ad4f-b102a8922f59",
   "metadata": {},
   "outputs": [],
   "source": [
    "universe.info(null_counts=True)"
   ]
  },
  {
   "cell_type": "code",
   "execution_count": 119,
   "id": "30fb2d9d-f78c-44d3-9b23-e134a6364143",
   "metadata": {},
   "outputs": [],
   "source": [
    "universe.groupby('symbol').size().describe()"
   ]
  },
  {
   "cell_type": "code",
   "execution_count": 121,
   "id": "f8065c24-12fa-4e68-a6b6-d03abb101a14",
   "metadata": {},
   "outputs": [],
   "source": [
    "universe.to_hdf('data.h5', 'universe')"
   ]
  },
  {
   "cell_type": "markdown",
   "id": "859f95c3-d9e9-469b-9860-40ec09ea4306",
   "metadata": {},
   "source": [
    "### Generating Technical Indicators Factors"
   ]
  },
  {
   "cell_type": "code",
   "execution_count": 124,
   "id": "91848303-0e9a-472f-a637-56840e82be63",
   "metadata": {},
   "outputs": [],
   "source": [
    "T = list(range(6, 21))"
   ]
  },
  {
   "cell_type": "markdown",
   "id": "22659505-de69-4d5c-b984-1255c165e6a0",
   "metadata": {},
   "source": [
    "#### Relativing Strength Index"
   ]
  },
  {
   "cell_type": "code",
   "execution_count": 127,
   "id": "fe879ade-8426-4824-b263-a17adb15c5c4",
   "metadata": {},
   "outputs": [],
   "source": [
    "for t in T:\n",
    "    universe[f'{t:02}_RSI'] = universe.groupby(level='symbol').close.apply(RSI, timeperiod=t)"
   ]
  },
  {
   "cell_type": "markdown",
   "id": "57e7e86d-614e-49d0-a474-87d9970736af",
   "metadata": {},
   "source": [
    "#### Williams %R"
   ]
  },
  {
   "cell_type": "code",
   "execution_count": 130,
   "id": "9fc020cd-be81-4c61-b402-5b1dc0ae95ae",
   "metadata": {},
   "outputs": [],
   "source": [
    "for t in T:\n",
    "    universe[f'{t:02}_WILLR'] = (universe.groupby(level='symbol', group_keys=False)\n",
    "     .apply(lambda x: WILLR(x.high, x.low, x.close, timeperiod=t)))"
   ]
  },
  {
   "cell_type": "markdown",
   "id": "88bdbbf1-4b98-4846-ab16-24f5c2e42891",
   "metadata": {},
   "source": [
    "#### Computing Bollinger Bands"
   ]
  },
  {
   "cell_type": "code",
   "execution_count": 133,
   "id": "027e7ace-dcd4-4415-85d4-462eb6e8777d",
   "metadata": {},
   "outputs": [],
   "source": [
    "def compute_bb(close, timeperiod):\n",
    "    high, mid, low = BBANDS(close, timeperiod=timeperiod)\n",
    "    return pd.DataFrame({f'{timeperiod:02}_BBH': high, f'{timeperiod:02}_BBL': low}, index=close.index)"
   ]
  },
  {
   "cell_type": "code",
   "execution_count": 135,
   "id": "b20e8fe3-6548-426c-89f1-622f8f09d208",
   "metadata": {},
   "outputs": [],
   "source": [
    "for t in T:\n",
    "    bbh, bbl = f'{t:02}_BBH', f'{t:02}_BBL'\n",
    "    universe = (universe.join(\n",
    "        universe.groupby(level='symbol').close.apply(compute_bb,\n",
    "                                                     timeperiod=t)))\n",
    "    universe[bbh] = universe[bbh].sub(universe.close).div(universe[bbh]).apply(np.log1p)\n",
    "    universe[bbl] = universe.close.sub(universe[bbl]).div(universe.close).apply(np.log1p)"
   ]
  },
  {
   "cell_type": "markdown",
   "id": "b242cd2e-edb4-4d71-8fce-e0fcdbe5963f",
   "metadata": {},
   "source": [
    "### Normalized Average True Range"
   ]
  },
  {
   "cell_type": "code",
   "execution_count": 138,
   "id": "a99cc4f2-fd42-4a92-b35d-3e93e3d5c4ec",
   "metadata": {},
   "outputs": [],
   "source": [
    "for t in T:\n",
    "    universe[f'{t:02}_NATR'] = universe.groupby(level='symbol', \n",
    "                                group_keys=False).apply(lambda x: \n",
    "                                                        NATR(x.high, x.low, x.close, timeperiod=t))"
   ]
  },
  {
   "cell_type": "markdown",
   "id": "6fedbe7e-3fc2-43d1-98f3-28d8983604e3",
   "metadata": {},
   "source": [
    "#### Percentage Price Oscillator"
   ]
  },
  {
   "cell_type": "code",
   "execution_count": 141,
   "id": "bc8a3c26-8622-461b-86dd-f19d3f2f3458",
   "metadata": {},
   "outputs": [],
   "source": [
    "for t in T:\n",
    "    universe[f'{t:02}_PPO'] = universe.groupby(level='symbol').close.apply(PPO, fastperiod=t, matype=1)"
   ]
  },
  {
   "cell_type": "markdown",
   "id": "be39effd-cf1f-4c5c-b367-5f59316d8271",
   "metadata": {},
   "source": [
    "#### Moving Average Convergence/Divergence"
   ]
  },
  {
   "cell_type": "code",
   "execution_count": 144,
   "id": "7adabbf9-bec1-44a4-9b72-1d10ecdc5672",
   "metadata": {},
   "outputs": [],
   "source": [
    "def compute_macd(close, signalperiod):\n",
    "    macd = MACD(close, signalperiod=signalperiod)[0]\n",
    "    return (macd - np.mean(macd))/np.std(macd)"
   ]
  },
  {
   "cell_type": "code",
   "execution_count": 146,
   "id": "3087cf27-7f27-4b4a-8a8e-c7ef1d62d8d2",
   "metadata": {},
   "outputs": [],
   "source": [
    "for t in T:\n",
    "    universe[f'{t:02}_MACD'] = (universe\n",
    "                  .groupby('symbol', group_keys=False)\n",
    "                  .close\n",
    "                  .apply(compute_macd, signalperiod=t))"
   ]
  },
  {
   "cell_type": "markdown",
   "id": "84605812-8a40-4d7f-b8e8-729db20ba0be",
   "metadata": {},
   "source": [
    "#### Momentum"
   ]
  },
  {
   "cell_type": "code",
   "execution_count": 149,
   "id": "047c2f1f-ea19-49e0-afba-dec6e49621b8",
   "metadata": {},
   "outputs": [],
   "source": [
    "for t in T:\n",
    "    universe[f'{t:02}_MOM'] = universe.groupby(level='symbol').close.apply(MOM, timeperiod=t)"
   ]
  },
  {
   "cell_type": "markdown",
   "id": "660a6480-660b-40d5-ae06-978f249df3ab",
   "metadata": {},
   "source": [
    "#### Weighted Moving Average"
   ]
  },
  {
   "cell_type": "code",
   "execution_count": 152,
   "id": "6ef0c2c4-d614-42b5-9801-3ab986d9cd51",
   "metadata": {},
   "outputs": [],
   "source": [
    "for t in T:\n",
    "    universe[f'{t:02}_WMA'] = universe.groupby(level='symbol').close.apply(WMA, timeperiod=t)"
   ]
  },
  {
   "cell_type": "markdown",
   "id": "86b6d77e-c4ae-4c86-964a-4daf620fd00e",
   "metadata": {},
   "source": [
    "#### Exponential Moving Average"
   ]
  },
  {
   "cell_type": "code",
   "execution_count": 155,
   "id": "c769faa2-002b-482b-a3d3-3b903902a048",
   "metadata": {},
   "outputs": [],
   "source": [
    "for t in T:\n",
    "    universe[f'{t:02}_EMA'] = universe.groupby(level='symbol').close.apply(EMA, timeperiod=t)"
   ]
  },
  {
   "cell_type": "markdown",
   "id": "117597a5-f91d-4b03-ba22-148af2ebb151",
   "metadata": {},
   "source": [
    "#### Commodity Channel Index"
   ]
  },
  {
   "cell_type": "code",
   "execution_count": 158,
   "id": "a195c830-0e76-41a2-86d5-1afac1c88639",
   "metadata": {},
   "outputs": [],
   "source": [
    "for t in T:    \n",
    "    universe[f'{t:02}_CCI'] = (universe.groupby(level='symbol', group_keys=False)\n",
    "     .apply(lambda x: CCI(x.high, x.low, x.close, timeperiod=t)))"
   ]
  },
  {
   "cell_type": "markdown",
   "id": "1dcea0b9-aa06-4735-b707-bb568c917868",
   "metadata": {},
   "source": [
    "#### Chande Momentum Oscillator"
   ]
  },
  {
   "cell_type": "code",
   "execution_count": 161,
   "id": "b3d7eaef-53f8-4c0b-a58b-07063489cdd6",
   "metadata": {},
   "outputs": [],
   "source": [
    "for t in T:\n",
    "    universe[f'{t:02}_CMO'] = universe.groupby(level='symbol').close.apply(CMO, timeperiod=t)"
   ]
  },
  {
   "cell_type": "markdown",
   "id": "634bc25f-b0fd-4872-99b9-add0221766f6",
   "metadata": {},
   "source": [
    "#### Rate of Change"
   ]
  },
  {
   "cell_type": "code",
   "execution_count": 164,
   "id": "f32a2c6e-39db-4e3d-b07a-e01dc2971ea3",
   "metadata": {},
   "outputs": [],
   "source": [
    "for t in T:\n",
    "    universe[f'{t:02}_ROC'] = universe.groupby(level='symbol').close.apply(ROC, timeperiod=t)"
   ]
  },
  {
   "cell_type": "markdown",
   "id": "523747fe-dcf2-46ec-bc03-82b85bc04fb2",
   "metadata": {},
   "source": [
    "#### Chaikin A/D Oscillator"
   ]
  },
  {
   "cell_type": "code",
   "execution_count": 167,
   "id": "8059ed73-33ed-4887-896a-0fb49b73441a",
   "metadata": {},
   "outputs": [],
   "source": [
    "for t in T:\n",
    "    universe[f'{t:02}_ADOSC'] = (universe.groupby(level='symbol', group_keys=False)\n",
    "     .apply(lambda x: ADOSC(x.high, x.low, x.close, x.volume, fastperiod=t-3, slowperiod=4+t)))"
   ]
  },
  {
   "cell_type": "markdown",
   "id": "0a653f1b-0022-4521-a8b3-0ba2e5f59157",
   "metadata": {},
   "source": [
    "#### Average Directional Movement Index"
   ]
  },
  {
   "cell_type": "code",
   "execution_count": 170,
   "id": "0a537c30-4e9c-491e-a830-03a04b035641",
   "metadata": {},
   "outputs": [],
   "source": [
    "for t in T:\n",
    "    universe[f'{t:02}_ADX'] = universe.groupby(level='symbol', \n",
    "                                group_keys=False).apply(lambda x: \n",
    "                                                        ADX(x.high, x.low, x.close, timeperiod=t))"
   ]
  },
  {
   "cell_type": "code",
   "execution_count": 172,
   "id": "78c3791c-027e-44de-b0e0-4c32bee5a4c6",
   "metadata": {},
   "outputs": [],
   "source": [
    "universe.drop(ohlcv, axis=1).to_hdf('data.h5', 'features')"
   ]
  },
  {
   "cell_type": "markdown",
   "id": "fabf7df5-0d35-438f-82af-cd86cb4b4fc7",
   "metadata": {},
   "source": [
    "### Computing Historical Returns\n",
    "\n",
    "#### Historical Returns"
   ]
  },
  {
   "cell_type": "code",
   "execution_count": 175,
   "id": "1b2550aa-0150-44cf-9bf8-d469983c3a5b",
   "metadata": {},
   "outputs": [],
   "source": [
    "by_sym = universe.groupby(level='symbol').close\n",
    "\n",
    "for t in [1,5]:\n",
    "    universe[f'r{t:02}'] = by_sym.pct_change(t)"
   ]
  },
  {
   "cell_type": "markdown",
   "id": "59235007-1e7f-4b17-b945-8dc5490c1a61",
   "metadata": {},
   "source": [
    "#### Removing Outliers"
   ]
  },
  {
   "cell_type": "code",
   "execution_count": 178,
   "id": "fec4c284-b384-4f20-92f3-de4686ef9e03",
   "metadata": {},
   "outputs": [],
   "source": [
    "universe[[f'r{t:02}' for t in [1, 5]]].describe()"
   ]
  },
  {
   "cell_type": "code",
   "execution_count": 180,
   "id": "b224ac10-1b26-411a-80ff-37b1e7aedad0",
   "metadata": {},
   "outputs": [],
   "source": [
    "outliers = universe[universe.r01>1].index.get_level_values('symbol').unique()\n",
    "len(outliers)"
   ]
  },
  {
   "cell_type": "code",
   "execution_count": 182,
   "id": "2a61f817-6062-44ae-b048-3f834960af07",
   "metadata": {},
   "outputs": [],
   "source": [
    "universe = universe.drop(outliers, level='symbol')"
   ]
  },
  {
   "cell_type": "markdown",
   "id": "54da380e-d0cf-4c10-bdcf-ff39d52225ac",
   "metadata": {},
   "source": [
    "#### Historical Return Quantiles"
   ]
  },
  {
   "cell_type": "code",
   "execution_count": 185,
   "id": "604c1289-c804-424c-b7b9-b3dbf17562d9",
   "metadata": {},
   "outputs": [],
   "source": [
    "for t in [1, 5]:\n",
    "    universe[f'r{t:02}dec'] = (universe[f'r{t:02}'].groupby(level='date')\n",
    "             .apply(lambda x: pd.qcut(x, q=10, labels=False, duplicates='drop')))"
   ]
  },
  {
   "cell_type": "markdown",
   "id": "dc4bf5cd-58c2-4489-9c83-a2efa785da5c",
   "metadata": {},
   "source": [
    "### Rolling Factor Betas"
   ]
  },
  {
   "cell_type": "code",
   "execution_count": 188,
   "id": "aaef8271-3ae1-434d-a585-9f9c89b56dfc",
   "metadata": {},
   "outputs": [],
   "source": [
    "factor_data = (web.DataReader('F-F_Research_Data_5_Factors_2x3_daily', 'famafrench', \n",
    "                              start=START)[0].rename(columns={'Mkt-RF': 'Market'}))\n",
    "\n",
    "factor_data.index.names = ['date']"
   ]
  },
  {
   "cell_type": "code",
   "execution_count": 190,
   "id": "15c6f96f-feca-4521-95a8-aff2090267b9",
   "metadata": {},
   "outputs": [],
   "source": [
    "factor_data.info()"
   ]
  },
  {
   "cell_type": "code",
   "execution_count": 192,
   "id": "e680f4e8-a121-4bf4-a41e-ce86d872a7b8",
   "metadata": {},
   "outputs": [],
   "source": [
    "windows = list(range(15, 90, 5))\n",
    "\n",
    "len(windows)"
   ]
  },
  {
   "cell_type": "code",
   "execution_count": 194,
   "id": "183ea850-ea42-498f-b9d8-2e494a6effb2",
   "metadata": {},
   "outputs": [],
   "source": [
    "t = 1\n",
    "\n",
    "ret = f'r{t:02}'\n",
    "\n",
    "factors = ['Market', 'SMB', 'HML', 'RMW', 'CMA']\n",
    "\n",
    "windows = list(range(15, 90, 5))\n",
    "\n",
    "for window in windows:\n",
    "    print(window)\n",
    "    betas = []\n",
    "    for symbol, data in universe.groupby(level='symbol'):\n",
    "        model_data = data[[ret]].merge(factor_data, on='date').dropna()\n",
    "        model_data[ret] -= model_data.RF\n",
    "\n",
    "        rolling_ols = RollingOLS(endog=model_data[ret], \n",
    "                                 exog=sm.add_constant(model_data[factors]), window=window)\n",
    "        factor_model = rolling_ols.fit(params_only=True).params.drop('const', axis=1)\n",
    "        result = factor_model.assign(symbol=symbol).set_index('symbol', append=True)\n",
    "        betas.append(result)\n",
    "    betas = pd.concat(betas).rename(columns=lambda x: f'{window:02}_{x}')\n",
    "    universe = universe.join(betas)"
   ]
  },
  {
   "cell_type": "markdown",
   "id": "7eb7fe30-d9b2-49fa-85e5-342ae3cbb376",
   "metadata": {},
   "source": [
    "#### Computing Forward Returns"
   ]
  },
  {
   "cell_type": "code",
   "execution_count": 197,
   "id": "f67b6720-a5e6-4f4b-92cd-7a24f7d64367",
   "metadata": {},
   "outputs": [],
   "source": [
    "for t in [1, 5]:\n",
    "    universe[f'r{t:02}_fwd'] = universe.groupby(level='symbol')[f'r{t:02}'].shift(-t)\n",
    "    universe[f'r{t:02}dec_fwd'] = universe.groupby(level='symbol')[f'r{t:02}dec'].shift(-t)"
   ]
  },
  {
   "cell_type": "markdown",
   "id": "d737626d-ca5e-4c0b-a434-d01c253fbfec",
   "metadata": {},
   "source": [
    "### Storing Model Data"
   ]
  },
  {
   "cell_type": "code",
   "execution_count": 200,
   "id": "c94d37b7-4e26-4b4a-9ce1-4a9283495240",
   "metadata": {},
   "outputs": [],
   "source": [
    "universe = universe.drop(ohlcv, axis=1)"
   ]
  },
  {
   "cell_type": "code",
   "execution_count": 202,
   "id": "b03aec5a-894d-43db-b43d-169acb406855",
   "metadata": {},
   "outputs": [],
   "source": [
    "universe.info(null_counts=True)"
   ]
  },
  {
   "cell_type": "code",
   "execution_count": 204,
   "id": "77f1c712-2728-4489-b265-15a1c57369e3",
   "metadata": {},
   "outputs": [],
   "source": [
    "drop_cols = ['r01', 'r01dec', 'r05',  'r05dec']"
   ]
  },
  {
   "cell_type": "code",
   "execution_count": 206,
   "id": "7ebadc86-e785-4480-be43-cbbd623eabb4",
   "metadata": {},
   "outputs": [],
   "source": [
    "outcomes = universe.filter(like='_fwd').columns"
   ]
  },
  {
   "cell_type": "code",
   "execution_count": 208,
   "id": "7e2623bb-3760-4fe3-931c-963ca1b65a01",
   "metadata": {},
   "outputs": [],
   "source": [
    "universe = universe.sort_index()\n",
    "\n",
    "with pd.HDFStore('data.h5') as store:\n",
    "    store.put('features', universe.drop(drop_cols, axis=1).drop(outcomes, axis=1).loc[idx[:, '2001':], :])\n",
    "    store.put('targets', universe.loc[idx[:, '2001':], outcomes])"
   ]
  },
  {
   "cell_type": "code",
   "execution_count": null,
   "id": "9479d929-3c41-4d4f-824e-d9d3f021bf35",
   "metadata": {},
   "outputs": [],
   "source": []
  }
 ],
 "metadata": {
  "kernelspec": {
   "display_name": "Python [conda env:MLAT] *",
   "language": "python",
   "name": "conda-env-MLAT-py"
  },
  "language_info": {
   "codemirror_mode": {
    "name": "ipython",
    "version": 3
   },
   "file_extension": ".py",
   "mimetype": "text/x-python",
   "name": "python",
   "nbconvert_exporter": "python",
   "pygments_lexer": "ipython3",
   "version": "3.12.9"
  }
 },
 "nbformat": 4,
 "nbformat_minor": 5
}
