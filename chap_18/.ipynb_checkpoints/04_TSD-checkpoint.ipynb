{
 "cells": [
  {
   "cell_type": "markdown",
   "id": "e6919481-c74a-4963-a3d6-d4fa69abf67a",
   "metadata": {},
   "source": [
    "# How to Use CNN with Time-Series Data\n",
    "\n",
    "### Loading Libraries"
   ]
  },
  {
   "cell_type": "code",
   "execution_count": 46,
   "id": "61a5c841-7c52-4b7e-8d1d-8fb4fd00b0a8",
   "metadata": {},
   "outputs": [],
   "source": [
    "# Numerical Computing\n",
    "import numpy as np\n",
    "\n",
    "# Data Manipulation\n",
    "import pandas as pd\n",
    "\n",
    "# Data Visualization\n",
    "import seaborn as sns\n",
    "import matplotlib.cm as cm\n",
    "import matplotlib.pyplot as plt\n",
    "\n",
    "# Path \n",
    "import sys\n",
    "from time import time\n",
    "from pathlib import Path\n",
    "from random import randint\n",
    "\n",
    "# SciPy\n",
    "from scipy.stats import spearmanr\n",
    "\n",
    "# Scikit-Learn\n",
    "from sklearn.feature_selection import mutual_info_regression\n",
    "\n",
    "# TensorFlow\n",
    "import tensorflow as tf\n",
    "from tensorflow.keras.models import Sequential\n",
    "from tensorflow.keras import regularizers\n",
    "from tensorflow.keras.callbacks import EarlyStopping\n",
    "from tensorflow.keras.layers import (Dense, \n",
    "                                     Flatten, \n",
    "                                     Conv1D, \n",
    "                                     MaxPooling1D, \n",
    "                                     Dropout, \n",
    "                                     BatchNormalization)\n"
   ]
  },
  {
   "cell_type": "code",
   "execution_count": 47,
   "id": "793f739e-0e56-4605-be3b-68723722f2cf",
   "metadata": {},
   "outputs": [],
   "source": [
    "%matplotlib inline"
   ]
  },
  {
   "cell_type": "code",
   "execution_count": 48,
   "id": "cb2736bd-83c4-4bb2-b2a4-539d9a761452",
   "metadata": {},
   "outputs": [],
   "source": [
    "tf.autograph.set_verbosity(0, True)"
   ]
  },
  {
   "cell_type": "code",
   "execution_count": 52,
   "id": "fb300907-7ce7-428a-9808-75463432aaf7",
   "metadata": {},
   "outputs": [
    {
     "name": "stdout",
     "output_type": "stream",
     "text": [
      "Using GPU\n"
     ]
    }
   ],
   "source": [
    "gpu_devices = tf.config.experimental.list_physical_devices('GPU')\n",
    "\n",
    "if gpu_devices:\n",
    "    print('Using GPU')\n",
    "    tf.config.experimental.set_memory_growth(gpu_devices[0], True)\n",
    "else:\n",
    "    print('Using CPU')"
   ]
  },
  {
   "cell_type": "code",
   "execution_count": 54,
   "id": "b1e09a50-37f8-421f-b32a-09a5e202ea17",
   "metadata": {},
   "outputs": [],
   "source": [
    "sys.path.insert(1, Path(sys.path[0], '..').as_posix())\n",
    "\n",
    "from utils import MultipleTimeSeriesCV, format_time"
   ]
  },
  {
   "cell_type": "code",
   "execution_count": 56,
   "id": "8c682492-9699-4cb9-b437-def206f9e59c",
   "metadata": {},
   "outputs": [],
   "source": [
    "np.random.seed(1)\n",
    "\n",
    "tf.random.set_seed(1)\n",
    "\n",
    "sns.set_style('whitegrid')"
   ]
  },
  {
   "cell_type": "code",
   "execution_count": 58,
   "id": "c87363d6-2faa-40af-8b9d-716bbee17280",
   "metadata": {},
   "outputs": [],
   "source": [
    "results_path = Path('results', 'time_series')\n",
    "\n",
    "if not results_path.exists():\n",
    "    results_path.mkdir(parents=True)"
   ]
  },
  {
   "cell_type": "markdown",
   "id": "0a373364-d93d-4a76-ab0b-51e511dcb2bf",
   "metadata": {},
   "source": [
    "### Preparing Data"
   ]
  },
  {
   "cell_type": "code",
   "execution_count": 61,
   "id": "bfde6b1c-d6ab-4aea-b5f6-744f49e386a9",
   "metadata": {},
   "outputs": [],
   "source": [
    "prices = (pd.read_hdf('../data/assets.h5', 'quandl/wiki/prices')\n",
    "          .adj_close\n",
    "          .unstack().loc['2000':])\n",
    "\n",
    "prices.info()"
   ]
  },
  {
   "cell_type": "markdown",
   "id": "efe34394-676e-4956-a26f-a6e7725695d4",
   "metadata": {},
   "source": [
    "#### Compute Monthly Returns"
   ]
  },
  {
   "cell_type": "code",
   "execution_count": 64,
   "id": "cfff02b9-c0bd-4fe4-b4da-b04f84b141ba",
   "metadata": {},
   "outputs": [],
   "source": [
    "returns = (prices\n",
    "           .resample('M')\n",
    "           .last()\n",
    "           .pct_change()\n",
    "           .dropna(how='all')\n",
    "           .loc['2000': '2017']\n",
    "           .dropna(axis=1)\n",
    "           .sort_index(ascending=False))\n",
    "\n",
    "returns = returns.where(returns<1).dropna(axis=1)\n",
    "returns.info()"
   ]
  },
  {
   "cell_type": "markdown",
   "id": "9ef110bc-bfe6-46fb-8702-f6a2a1014275",
   "metadata": {},
   "source": [
    "### Creatign Model Data"
   ]
  },
  {
   "cell_type": "code",
   "execution_count": 67,
   "id": "b3b6cb2a-bf8f-4883-b63b-30b545a28573",
   "metadata": {},
   "outputs": [],
   "source": [
    "n = len(returns)\n",
    "\n",
    "nlags = 12\n",
    "\n",
    "lags = list(range(1, nlags + 1))"
   ]
  },
  {
   "cell_type": "code",
   "execution_count": 69,
   "id": "3e418433-4244-4ac2-8b82-1dfee7d1e8b0",
   "metadata": {},
   "outputs": [],
   "source": [
    "cnn_data = []\n",
    "\n",
    "for i in range(n-nlags-1):\n",
    "    df = returns.iloc[i:i+nlags+1]        \n",
    "    date = df.index.max()                 \n",
    "    cnn_data.append(df.reset_index(drop=True)  \n",
    "                    .transpose()\n",
    "                    .assign(date=date)\n",
    "                    .set_index('date', append=True)\n",
    "                    .sort_index(1, ascending=True))\n",
    "\n",
    "cnn_data = (pd.concat(cnn_data)\n",
    "            .rename(columns={0: 'label'})\n",
    "            .sort_index())\n",
    "\n",
    "cnn_data.info(null_counts=True)"
   ]
  },
  {
   "cell_type": "markdown",
   "id": "2f6f4e9b-87a4-4cdb-b927-b56ecba101ec",
   "metadata": {},
   "source": [
    "### Evaluating Features\n",
    "\n",
    "#### Mutual Information"
   ]
  },
  {
   "cell_type": "code",
   "execution_count": 72,
   "id": "07f0a61f-8014-4205-b542-01150c4fc4e2",
   "metadata": {},
   "outputs": [],
   "source": [
    "mi = mutual_info_regression(X=cnn_data.drop('label', axis=1), y=cnn_data.label)\n",
    "\n",
    "mi = pd.Series(mi, index=cnn_data.drop('label', axis=1).columns)"
   ]
  },
  {
   "cell_type": "markdown",
   "id": "e88754ae-00ae-46cd-a440-2582a55ec77f",
   "metadata": {},
   "source": [
    "#### Information Coefficient"
   ]
  },
  {
   "cell_type": "code",
   "execution_count": 75,
   "id": "8b187029-e35f-40f2-9cdc-40150672d5a9",
   "metadata": {},
   "outputs": [],
   "source": [
    "ic = {}\n",
    "\n",
    "for lag in lags:\n",
    "    ic[lag] = spearmanr(cnn_data.label, cnn_data[lag])\n",
    "\n",
    "ic = pd.DataFrame(ic, index=['IC', 'p-value']).T"
   ]
  },
  {
   "cell_type": "code",
   "execution_count": 77,
   "id": "e3e4ca38-0bba-4f21-bf11-bd4943e6986a",
   "metadata": {},
   "outputs": [],
   "source": [
    "ax = ic.plot.bar(rot=0, figsize=(14, 4),\n",
    "                 ylim=(-0.05, .05),\n",
    "                 title='Feature Evaluation')\n",
    "ax.set_xlabel('Lag')\n",
    "sns.despine()\n",
    "plt.tight_layout()\n",
    "plt.savefig(results_path / 'cnn_ts1d_feature_ic', dpi=300)\n",
    "plt.show()"
   ]
  },
  {
   "cell_type": "markdown",
   "id": "c158af0f-16b2-4f97-9828-6acefd55fb8c",
   "metadata": {},
   "source": [
    "#### Plotting Metrics"
   ]
  },
  {
   "cell_type": "code",
   "execution_count": 80,
   "id": "98b470b6-fd77-4141-8b8e-6a1a1202537c",
   "metadata": {},
   "outputs": [],
   "source": [
    "metrics = pd.concat([mi.to_frame('Mutual Information'),\n",
    "                     ic.IC.to_frame('Information Coefficient')], axis=1)"
   ]
  },
  {
   "cell_type": "code",
   "execution_count": 82,
   "id": "e168b413-baac-4922-949d-e48325b18b1b",
   "metadata": {},
   "outputs": [],
   "source": [
    "ax = metrics.plot.bar(figsize=(12, 4), rot=0)\n",
    "ax.set_xlabel('Lag')\n",
    "sns.despine()\n",
    "plt.tight_layout()\n",
    "plt.savefig(results_path / 'ts1d_metrics', dpi=300)\n",
    "plt.show()"
   ]
  },
  {
   "cell_type": "markdown",
   "id": "b15b0986-43d2-408c-8190-3ede4d5f1e54",
   "metadata": {},
   "source": [
    "### CNN\n",
    "\n",
    "#### Model Architecture"
   ]
  },
  {
   "cell_type": "code",
   "execution_count": 85,
   "id": "4e2e57f0-1ae5-4c19-9976-2a12480e493c",
   "metadata": {},
   "outputs": [],
   "source": [
    "def get_model(filters=32, kernel_size=5, pool_size=2):\n",
    "    model = Sequential([Conv1D(filters=filters,\n",
    "                               kernel_size=kernel_size,\n",
    "                               activation='relu',\n",
    "                               padding='causal',\n",
    "                               input_shape=input_shape,\n",
    "                               use_bias=True,\n",
    "                               kernel_regularizer=regularizers.l1_l2(l1=1e-5,\n",
    "                                                                     l2=1e-5)),\n",
    "                        MaxPooling1D(pool_size=pool_size),\n",
    "                        Flatten(),\n",
    "                        BatchNormalization(),\n",
    "                        Dense(1, activation='linear')])\n",
    "    model.compile(loss='mse',\n",
    "                  optimizer='Adam')\n",
    "    return model"
   ]
  },
  {
   "cell_type": "markdown",
   "id": "7444d03b-bd6c-4bcc-a27a-6acc10faae2c",
   "metadata": {},
   "source": [
    "#### Setting CV Up "
   ]
  },
  {
   "cell_type": "code",
   "execution_count": 88,
   "id": "fcf079f8-5be0-484d-82a1-d6c5ab558c56",
   "metadata": {},
   "outputs": [],
   "source": [
    "cv = MultipleTimeSeriesCV(n_splits=12 * 3,\n",
    "                          train_period_length=12 * 5,\n",
    "                          test_period_length=1,\n",
    "                          lookahead=1)"
   ]
  },
  {
   "cell_type": "code",
   "execution_count": 92,
   "id": "65511159-a870-45e3-a0c3-fc433c784732",
   "metadata": {},
   "outputs": [],
   "source": [
    "input_shape = nlags, 1"
   ]
  },
  {
   "cell_type": "markdown",
   "id": "03fd58d8-7886-4c4b-a598-d6c4731040f1",
   "metadata": {},
   "source": [
    "### Training Model"
   ]
  },
  {
   "cell_type": "code",
   "execution_count": 95,
   "id": "9dad7484-c3df-4866-93e1-8a131405f335",
   "metadata": {},
   "outputs": [],
   "source": [
    "def get_train_valid_data(X, y, train_idx, test_idx):\n",
    "    x_train, y_train = X.iloc[train_idx, :], y.iloc[train_idx]\n",
    "    x_val, y_val = X.iloc[test_idx, :], y.iloc[test_idx]\n",
    "    m = X.shape[1]\n",
    "    return (x_train.values.reshape(-1, m, 1), y_train,\n",
    "            x_val.values.reshape(-1, m, 1), y_val)"
   ]
  },
  {
   "cell_type": "code",
   "execution_count": 97,
   "id": "0fe7b5cd-b6de-44ca-8ce4-e74d39b4f9ba",
   "metadata": {},
   "outputs": [],
   "source": [
    "batch_size = 64\n",
    "\n",
    "epochs = 100"
   ]
  },
  {
   "cell_type": "code",
   "execution_count": 99,
   "id": "f3c566de-3b56-4e5f-942f-0f2ffd0077de",
   "metadata": {},
   "outputs": [],
   "source": [
    "filters = 32\n",
    "\n",
    "kernel_size = 4\n",
    "\n",
    "pool_size = 4"
   ]
  },
  {
   "cell_type": "code",
   "execution_count": 101,
   "id": "fc013bc4-6a44-4c13-9b50-1b22bfbcf2ed",
   "metadata": {},
   "outputs": [],
   "source": [
    "get_model(filters=filters,\n",
    "          kernel_size=kernel_size, \n",
    "          pool_size=pool_size).summary()"
   ]
  },
  {
   "cell_type": "markdown",
   "id": "845e9cee-999f-49be-9678-cf9e799a1499",
   "metadata": {},
   "source": [
    "### Cross-Validation Loop"
   ]
  },
  {
   "cell_type": "code",
   "execution_count": 104,
   "id": "7ba196cb-a087-431a-83e6-6eac4366ed8b",
   "metadata": {},
   "outputs": [],
   "source": [
    "result = {}\n",
    "\n",
    "start = time()\n",
    "\n",
    "for fold, (train_idx, test_idx) in enumerate(cv.split(cnn_data)):\n",
    "    X_train, y_train, X_val, y_val = get_train_valid_data(cnn_data\n",
    "                                                          .drop('label', axis=1)\n",
    "                                                          .sort_index(ascending=False),\n",
    "                                                          cnn_data.label,\n",
    "                                                          train_idx,\n",
    "                                                          test_idx)\n",
    "    test_date = y_val.index.get_level_values('date').max()\n",
    "    model = get_model(filters=filters,\n",
    "                      kernel_size=kernel_size,\n",
    "                      pool_size=pool_size)\n",
    "    \n",
    "    best_ic = -np.inf\n",
    "    stop = 0\n",
    "    for epoch in range(50):         \n",
    "        training = model.fit(X_train, y_train,\n",
    "                             batch_size=batch_size,\n",
    "                             validation_data=(X_val, y_val),\n",
    "                             epochs=epoch + 1,\n",
    "                             initial_epoch=epoch,\n",
    "                             verbose=0,\n",
    "                             shuffle=True)\n",
    "        predicted = model.predict(X_val).squeeze()\n",
    "        ic, p_val_ = spearmanr(predicted, y_val)\n",
    "        if ic > best_ic:\n",
    "            best_ic = ic\n",
    "            p_val = p_val_\n",
    "            stop = 0\n",
    "        else:\n",
    "            stop += 1\n",
    "        if stop == 10:\n",
    "            break\n",
    "    \n",
    "    nrounds = epoch + 1 - stop\n",
    "    result[test_date] = [nrounds, best_ic, p_val]\n",
    "    df = pd.DataFrame(result, index=['epochs', 'IC', 'p-value']).T\n",
    "    msg = f'{fold + 1:02d} | {format_time(time()-start)} | {nrounds:3.0f} | '\n",
    "    print(msg + f'{best_ic*100:5.2} ({p_val:7.2%}) | {df.IC.mean()*100:5.2}')"
   ]
  },
  {
   "cell_type": "markdown",
   "id": "e24d8408-531c-4daa-9ddc-050982eeb78f",
   "metadata": {},
   "source": [
    "### Evaluating Results"
   ]
  },
  {
   "cell_type": "code",
   "execution_count": 107,
   "id": "0fe37735-e971-4613-b376-7ded641277e9",
   "metadata": {},
   "outputs": [],
   "source": [
    "metrics = pd.DataFrame(result, index=['epochs', 'IC', 'p-value']).T"
   ]
  },
  {
   "cell_type": "code",
   "execution_count": 109,
   "id": "8c082e6e-3b91-4da6-a78b-369922b22e36",
   "metadata": {},
   "outputs": [],
   "source": [
    "ax = metrics.IC.plot(figsize=(12, 4), \n",
    "                     label='Information Coefficient',\n",
    "                     title='Validation Performance',\n",
    "                    ylim=(0, .08))\n",
    "metrics.IC.expanding().mean().plot(ax=ax, label='Cumulative Average')\n",
    "plt.legend()\n",
    "sns.despine()\n",
    "plt.tight_layout()\n",
    "plt.savefig(results_path / 'cnn_ts1d_ic', dpi=300);\n",
    "plt.show()"
   ]
  },
  {
   "cell_type": "code",
   "execution_count": null,
   "id": "d3ef901d-2254-47fb-930b-63284baf1b46",
   "metadata": {},
   "outputs": [],
   "source": []
  }
 ],
 "metadata": {
  "kernelspec": {
   "display_name": "Python [conda env:MLAT] *",
   "language": "python",
   "name": "conda-env-MLAT-py"
  },
  "language_info": {
   "codemirror_mode": {
    "name": "ipython",
    "version": 3
   },
   "file_extension": ".py",
   "mimetype": "text/x-python",
   "name": "python",
   "nbconvert_exporter": "python",
   "pygments_lexer": "ipython3",
   "version": "3.12.9"
  }
 },
 "nbformat": 4,
 "nbformat_minor": 5
}
