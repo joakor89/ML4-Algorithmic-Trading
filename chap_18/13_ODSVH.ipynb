{
 "cells": [
  {
   "cell_type": "markdown",
   "id": "a8af8b1d-17ea-4a66-b843-e072e6507f1c",
   "metadata": {},
   "source": [
    "# Object Detection with Street View House Numbers\n",
    "\n",
    "### Loading Libraries"
   ]
  },
  {
   "cell_type": "code",
   "execution_count": 26,
   "id": "8d65060e-5a0b-48bc-8ec6-ed62303c4165",
   "metadata": {},
   "outputs": [],
   "source": [
    "# Numerical Computing\n",
    "import numpy as np\n",
    "\n",
    "# Data Manipulation\n",
    "import pandas as pd\n",
    "\n",
    "# Data Visualizaion\n",
    "import seaborn as sns\n",
    "from PIL import Image\n",
    "import PIL.Image as Image\n",
    "import matplotlib.pyplot as plt\n",
    "from matplotlib.ticker import FuncFormatter\n",
    "\n",
    "# Warnings\n",
    "import warnings\n",
    "\n",
    "# OS & Path\n",
    "import os\n",
    "import sys\n",
    "import tarfile\n",
    "from pathlib import Path\n",
    "\n",
    "# Scikit-Learn\n",
    "from sklearn.metrics import confusion_matrix\n",
    "\n",
    "# TensorFlow\n",
    "import tensorflow as tf\n",
    "from tensorflow.keras.models import Model\n",
    "from tensorflow.keras import backend as K\n",
    "from tensorflow.keras.applications.vgg16 import VGG16\n",
    "from tensorflow.keras.callbacks import ModelCheckpoint, EarlyStopping\n",
    "from tensorflow.keras.layers import (Flatten,\n",
    "                                     Dense,\n",
    "                                     BatchNormalization,\n",
    "                                     Activation,\n",
    "                                     Concatenate)\n",
    "\n"
   ]
  },
  {
   "cell_type": "code",
   "execution_count": 28,
   "id": "735b339e-797e-4c7a-9e34-58343c9b2a13",
   "metadata": {},
   "outputs": [
    {
     "name": "stdout",
     "output_type": "stream",
     "text": [
      "Using GPU\n"
     ]
    }
   ],
   "source": [
    "gpu_devices = tf.config.experimental.list_physical_devices('GPU')\n",
    "\n",
    "if gpu_devices:\n",
    "    print('Using GPU')\n",
    "    tf.config.experimental.set_memory_growth(gpu_devices[0], True)\n",
    "else:\n",
    "    print('Using CPU')"
   ]
  },
  {
   "cell_type": "code",
   "execution_count": 30,
   "id": "768a4371-0e4b-4cb2-9d5d-b0bf96f010a2",
   "metadata": {},
   "outputs": [],
   "source": [
    "%matplotlib inline"
   ]
  },
  {
   "cell_type": "code",
   "execution_count": 32,
   "id": "59f05cab-4149-4703-b32f-15ed2d90f487",
   "metadata": {},
   "outputs": [],
   "source": [
    "sns.set_style('whitegrid')\n",
    "\n",
    "warnings.filterwarnings('ignore')"
   ]
  },
  {
   "cell_type": "code",
   "execution_count": 34,
   "id": "e9fded89-b62a-4da9-8d7b-4b7fbfc3fbd8",
   "metadata": {},
   "outputs": [],
   "source": [
    "data_path = Path('images', 'svhn')"
   ]
  },
  {
   "cell_type": "code",
   "execution_count": 36,
   "id": "ee0698c0-5ab2-48d9-8fb9-90e40c3d2064",
   "metadata": {},
   "outputs": [],
   "source": [
    "results_path = Path('results', 'svhn')\n",
    "\n",
    "if not results_path.exists():\n",
    "    results_path.mkdir()"
   ]
  },
  {
   "cell_type": "markdown",
   "id": "f0436774-1fdb-4a01-8091-79ebfbde9f4c",
   "metadata": {},
   "source": [
    "#### Settings"
   ]
  },
  {
   "cell_type": "code",
   "execution_count": 39,
   "id": "e33f6d3a-5ef3-45bc-bfcf-8f0717f1546b",
   "metadata": {},
   "outputs": [],
   "source": [
    "IMG_SIZE = 32\n",
    "\n",
    "IMG_SHAPE = (IMG_SIZE, IMG_SIZE, 3)\n",
    "\n",
    "SEQ_LENGTH = 4\n",
    "\n",
    "N_CLASSES = 11"
   ]
  },
  {
   "cell_type": "markdown",
   "id": "af57d326-8ed6-4493-9a7f-cc389f793bfc",
   "metadata": {},
   "source": [
    "### Loading Data"
   ]
  },
  {
   "cell_type": "code",
   "execution_count": 44,
   "id": "3d6b01cf-20a5-48d8-8a08-b68fbef6fd75",
   "metadata": {},
   "outputs": [],
   "source": [
    "# X_train = np.load(data_path / 'X_train.npy')\n",
    "\n",
    "# y_train = np.load(data_path / 'y_train.npy')"
   ]
  },
  {
   "cell_type": "code",
   "execution_count": 48,
   "id": "831048e6-1c7d-4088-b377-e437268aed54",
   "metadata": {},
   "outputs": [],
   "source": [
    "# X_train = X_train[y_train[:, 0] < 5]\n",
    "\n",
    "# y_train = y_train[y_train[:, 0] < 5, :5]\n",
    "# y_train[:, 0] -= 1"
   ]
  },
  {
   "cell_type": "code",
   "execution_count": 50,
   "id": "60313424-c4f8-4ceb-926f-aa9710857754",
   "metadata": {},
   "outputs": [],
   "source": [
    "# X_test = np.load(data_path / 'X_test.npy')\n",
    "\n",
    "# y_test = np.load(data_path / 'y_test.npy')"
   ]
  },
  {
   "cell_type": "code",
   "execution_count": 52,
   "id": "cc6ae940-6d67-4b9f-b507-ca3cce7d1b91",
   "metadata": {},
   "outputs": [],
   "source": [
    "# X_test = X_test[y_test[:, 0] < 5]\n",
    "\n",
    "# y_test = y_test[y_test[:, 0] < 5, :5]\n",
    "# y_test[:, 0] -= 1"
   ]
  },
  {
   "cell_type": "code",
   "execution_count": 54,
   "id": "4066c95f-33bb-4fd2-b15e-5324ade1af69",
   "metadata": {},
   "outputs": [],
   "source": [
    "# pd.DataFrame(y_train).nunique()"
   ]
  },
  {
   "cell_type": "code",
   "execution_count": 56,
   "id": "1634c737-f1a1-45d2-9f86-47a343bdb85b",
   "metadata": {},
   "outputs": [],
   "source": [
    "# y_train.shape"
   ]
  },
  {
   "cell_type": "markdown",
   "id": "cec7fd3a-fac3-4865-b70d-cf6179c75798",
   "metadata": {},
   "source": [
    "### Best Architecture"
   ]
  },
  {
   "cell_type": "code",
   "execution_count": 59,
   "id": "f7b40b2e-7f0d-4dcc-a64b-a5da593551a1",
   "metadata": {},
   "outputs": [],
   "source": [
    "digit_pos = {1: [4, 14], 2: [14, 25], 3: [25, 36], 4: [36, 47]}"
   ]
  },
  {
   "cell_type": "code",
   "execution_count": 61,
   "id": "bab73be2-51f5-4b82-aada-e350db0c564d",
   "metadata": {},
   "outputs": [],
   "source": [
    "def weighted_accuracy(y_true, y_pred):\n",
    "    n_digits_pred = K.argmax(y_pred[:, :SEQ_LENGTH], axis=1)\n",
    "\n",
    "    digit_preds = {}\n",
    "    for digit, (start, end) in digit_pos.items():\n",
    "        digit_preds[digit] = K.argmax(y_pred[:, start:end], axis=1)\n",
    "    preds = tf.dtypes.cast(tf.stack((n_digits_pred,\n",
    "                                     digit_preds[1],\n",
    "                                     digit_preds[2],\n",
    "                                     digit_preds[3],\n",
    "                                     digit_preds[4]), axis=1), tf.float32)\n",
    "\n",
    "    return K.mean(K.sum(tf.dtypes.cast(K.equal(y_true, preds), tf.int64), axis=1) / 5)"
   ]
  },
  {
   "cell_type": "code",
   "execution_count": 63,
   "id": "51e13046-56a2-4ff2-aa5e-0b82db06afc8",
   "metadata": {},
   "outputs": [],
   "source": [
    "def weighted_entropy(y_true, y_pred):\n",
    "    cce = tf.keras.losses.SparseCategoricalCrossentropy()\n",
    "    n_digits = y_pred[:, :SEQ_LENGTH]\n",
    "\n",
    "    digits = {}\n",
    "    for digit, (start, end) in digit_pos.items():\n",
    "        digits[digit] = y_pred[:, start:end]\n",
    "    return (cce(y_true[:, 0], n_digits) +\n",
    "            cce(y_true[:, 1], digits[1]) +\n",
    "            cce(y_true[:, 2], digits[2]) +\n",
    "            cce(y_true[:, 3], digits[3]) +\n",
    "            cce(y_true[:, 4], digits[4])) / 5"
   ]
  },
  {
   "cell_type": "code",
   "execution_count": 65,
   "id": "093b1641-66e0-45a0-8563-a79c13cdfc77",
   "metadata": {},
   "outputs": [
    {
     "name": "stderr",
     "output_type": "stream",
     "text": [
      "2025-05-03 09:18:36.568258: I metal_plugin/src/device/metal_device.cc:1154] Metal device set to: Apple M4 Max\n",
      "2025-05-03 09:18:36.568414: I metal_plugin/src/device/metal_device.cc:296] systemMemory: 36.00 GB\n",
      "2025-05-03 09:18:36.568418: I metal_plugin/src/device/metal_device.cc:313] maxCacheSize: 13.50 GB\n",
      "2025-05-03 09:18:36.568434: I tensorflow/core/common_runtime/pluggable_device/pluggable_device_factory.cc:305] Could not identify NUMA node of platform GPU ID 0, defaulting to 0. Your kernel may not have been built with NUMA support.\n",
      "2025-05-03 09:18:36.568450: I tensorflow/core/common_runtime/pluggable_device/pluggable_device_factory.cc:271] Created TensorFlow device (/job:localhost/replica:0/task:0/device:GPU:0 with 0 MB memory) -> physical PluggableDevice (device: 0, name: METAL, pci bus id: <undefined>)\n"
     ]
    }
   ],
   "source": [
    "vgg16 = VGG16(input_shape=IMG_SHAPE, include_top=False, weights='imagenet')\n",
    "\n",
    "vgg16.trainable = False\n",
    "\n",
    "x = vgg16.output\n",
    "x = Flatten()(x)\n",
    "x = BatchNormalization()(x)\n",
    "x = Dense(256)(x)\n",
    "x = BatchNormalization()(x)\n",
    "x = Activation('relu')(x)\n",
    "x = Dense(128)(x)\n",
    "x = BatchNormalization()(x)\n",
    "x = Activation('relu')(x)\n",
    "n_digits = Dense(SEQ_LENGTH, activation='softmax', name='n_digits')(x)\n",
    "digit1 = Dense(N_CLASSES-1, activation='softmax', name='d1')(x)\n",
    "digit2 = Dense(N_CLASSES, activation='softmax', name='d2')(x)\n",
    "digit3 = Dense(N_CLASSES, activation='softmax', name='d3')(x)\n",
    "digit4 = Dense(N_CLASSES, activation='softmax', name='d4')(x)\n",
    "predictions = Concatenate()([n_digits, digit1, digit2, digit3, digit4])\n",
    "\n",
    "model = Model(inputs=vgg16.input, outputs=predictions)"
   ]
  },
  {
   "cell_type": "code",
   "execution_count": 67,
   "id": "05f963be-3116-406d-9ead-bd838e12add8",
   "metadata": {},
   "outputs": [],
   "source": [
    "model.compile(optimizer='adam',\n",
    "              loss=weighted_entropy,\n",
    "              metrics=[weighted_accuracy])"
   ]
  },
  {
   "cell_type": "markdown",
   "id": "86e39643-8a37-42af-82d6-c1a4cccb4282",
   "metadata": {},
   "source": [
    "### Defining Callbacks"
   ]
  },
  {
   "cell_type": "code",
   "execution_count": 70,
   "id": "a870f951-16aa-4613-95bc-3fd26d9cb4f1",
   "metadata": {},
   "outputs": [],
   "source": [
    "svhn_path = (results_path / 'svhn.weights.best.hdf5').as_posix()\n",
    "\n",
    "checkpointer = ModelCheckpoint(filepath=svhn_path, \n",
    "                               verbose=1, \n",
    "                               monitor='val_weighted_accuracy',\n",
    "                               save_best_only=True)"
   ]
  },
  {
   "cell_type": "code",
   "execution_count": 76,
   "id": "06d1b0da-bb38-4d7f-807d-d71ce42116aa",
   "metadata": {},
   "outputs": [],
   "source": [
    "early_stopping = EarlyStopping(monitor='val_weighted_accuracy', \n",
    "                               patience=5)"
   ]
  },
  {
   "cell_type": "markdown",
   "id": "276ec993-8690-43ca-810e-525c13da91c5",
   "metadata": {},
   "source": [
    "### Training Transfer Model"
   ]
  },
  {
   "cell_type": "code",
   "execution_count": 79,
   "id": "5d5e0ab7-e3a0-4c2f-8105-8b7a47ce1de4",
   "metadata": {},
   "outputs": [],
   "source": [
    "epochs = 50"
   ]
  },
  {
   "cell_type": "code",
   "execution_count": 83,
   "id": "8d9e6f76-fcc7-4a7d-ada9-4a0ec40dc854",
   "metadata": {},
   "outputs": [],
   "source": [
    "result = model.fit(x=X_train,\n",
    "                    y=y_train,\n",
    "                    validation_split=.1,\n",
    "                    batch_size=32,\n",
    "                    epochs=epochs,\n",
    "                    verbose=1,\n",
    "                    callbacks=[checkpointer, early_stopping])"
   ]
  },
  {
   "cell_type": "markdown",
   "id": "d5937942-872f-4b65-9a1d-28682707f804",
   "metadata": {},
   "source": [
    "#### Evaluating Results"
   ]
  },
  {
   "cell_type": "code",
   "execution_count": 94,
   "id": "e9f75b00-3c4d-4a15-a8bb-3a85284d6441",
   "metadata": {},
   "outputs": [],
   "source": [
    "metrics = pd.DataFrame(result.history)\n",
    "\n",
    "initial_epochs = len(metrics)"
   ]
  },
  {
   "cell_type": "code",
   "execution_count": 96,
   "id": "b35dcc7b-a0cd-435f-81fc-ae943ff5252a",
   "metadata": {},
   "outputs": [],
   "source": [
    "y_pred = model.predict(X_test, verbose=1)"
   ]
  },
  {
   "cell_type": "code",
   "execution_count": 98,
   "id": "fd6fe773-421a-43fe-a37f-bcfa3fa86b06",
   "metadata": {},
   "outputs": [],
   "source": [
    "n_digits = y_pred[:, :SEQ_LENGTH]\n",
    "\n",
    "digits = {}\n",
    "\n",
    "for digit, (start, end) in digit_pos.items():\n",
    "    digits[digit] = y_pred[:, start:end]"
   ]
  },
  {
   "cell_type": "code",
   "execution_count": 100,
   "id": "81498e32-b2c5-4ae2-85b6-544d10fb58c0",
   "metadata": {},
   "outputs": [],
   "source": [
    "(y_test[:, 0] == np.argmax(n_digits, axis=1)).sum()/len(n_digits)"
   ]
  },
  {
   "cell_type": "code",
   "execution_count": 102,
   "id": "fbf2d143-21ea-44ba-b049-5b626d72a685",
   "metadata": {},
   "outputs": [],
   "source": [
    "confusion_matrix(y_true=y_test[:, 0], y_pred=np.argmax(n_digits, axis=1))"
   ]
  },
  {
   "cell_type": "code",
   "execution_count": 115,
   "id": "39e5a209-c4c6-4d00-8821-ae5311e160a3",
   "metadata": {},
   "outputs": [],
   "source": [
    "accuracy = np.zeros_like(y_test)\n",
    "\n",
    "accuracy[:, 0] = (y_test[:, 0] == np.argmax(n_digits, axis=1))\n",
    "\n",
    "for i in range(1, 5):\n",
    "    accuracy[:, i] = (y_test[:, i] == np.argmax(digits[i], axis=1))"
   ]
  },
  {
   "cell_type": "code",
   "execution_count": 117,
   "id": "fcca86a3-0891-49fc-8b75-31b539d3ae0e",
   "metadata": {},
   "outputs": [],
   "source": [
    "acc_by_output = {}\n",
    "\n",
    "for i in range(5):\n",
    "    acc_by_output[i] = accuracy[:, i].sum()/accuracy[:, i].shape[0]"
   ]
  },
  {
   "cell_type": "code",
   "execution_count": 119,
   "id": "29fedfa0-47a3-4129-afb3-e77d6c1399ab",
   "metadata": {},
   "outputs": [],
   "source": [
    "acc_up_to_out = {}\n",
    "\n",
    "for i in range(1, 6):\n",
    "    r = accuracy[:, :i].all(1)\n",
    "    acc_up_to_out[i-1] = r.sum()/r.shape[0]"
   ]
  },
  {
   "cell_type": "code",
   "execution_count": 121,
   "id": "ee030954-379c-4d60-b56d-902b8865d277",
   "metadata": {},
   "outputs": [],
   "source": [
    "pd.DataFrame({'acc1': acc_by_output, 'acc2': acc_up_to_out}).plot.bar()\n",
    "sns.despine();\n",
    "plt.show()"
   ]
  },
  {
   "cell_type": "markdown",
   "id": "eb430cef-2949-42dd-b915-3650e9861d6c",
   "metadata": {},
   "source": [
    "### Fine Tuning VGG16 Weights"
   ]
  },
  {
   "cell_type": "code",
   "execution_count": 124,
   "id": "e7e24d11-8ed6-4456-ab80-ce9e9c855dcd",
   "metadata": {},
   "outputs": [],
   "source": [
    "vgg16.trainable = True\n",
    "\n",
    "start_fine_tuning_at = 1\n",
    "\n",
    "for layer in vgg16.layers[:start_fine_tuning_at]:\n",
    "    layer.trainable =  False"
   ]
  },
  {
   "cell_type": "code",
   "execution_count": 126,
   "id": "67f095c6-2949-41fc-be32-f774fe1be798",
   "metadata": {},
   "outputs": [],
   "source": [
    "model.compile(optimizer='adam',\n",
    "              loss=weighted_entropy,\n",
    "              metrics=[weighted_accuracy])"
   ]
  },
  {
   "cell_type": "code",
   "execution_count": 128,
   "id": "8554c90c-b1df-452b-a6a6-9e7f8a197ed4",
   "metadata": {},
   "outputs": [],
   "source": [
    "fine_tune_epochs = 50\n",
    "\n",
    "total_epochs = initial_epochs + fine_tune_epochs"
   ]
  },
  {
   "cell_type": "code",
   "execution_count": 130,
   "id": "1e8f67d8-1f4c-45e8-a0d7-abec728ded1f",
   "metadata": {},
   "outputs": [],
   "source": [
    "result_fine_tune = model.fit(x=X_train,\n",
    "                              y=y_train,\n",
    "                              validation_split=.1,\n",
    "                              batch_size=32,\n",
    "                              epochs=total_epochs,\n",
    "                              initial_epoch=history.epoch[-1],\n",
    "                              callbacks=[early_stopping])"
   ]
  },
  {
   "cell_type": "code",
   "execution_count": 132,
   "id": "6f85af47-3019-4a35-857f-e5b016dea113",
   "metadata": {},
   "outputs": [],
   "source": [
    "metrics_tuned = metrics.append(pd.DataFrame(result_fine_tune.history), ignore_index=True)"
   ]
  },
  {
   "cell_type": "code",
   "execution_count": 134,
   "id": "f652b94f-eff6-4bc9-84fe-342eb67ac0e9",
   "metadata": {},
   "outputs": [],
   "source": [
    "metrics_tuned.info()"
   ]
  },
  {
   "cell_type": "code",
   "execution_count": 136,
   "id": "6941aa3e-1111-4bb7-8f6a-6b41f51a3d73",
   "metadata": {},
   "outputs": [],
   "source": [
    "fig, axes = plt.subplots(ncols=2, figsize=(15, 4))\n",
    "metrics_tuned[['loss', 'val_loss']].plot(ax=axes[1], title='Cross-Entropy Loss')\n",
    "metrics_tuned[['weighted_accuracy', 'val_weighted_accuracy']].plot(ax=axes[0], title=f'Accuracy (Best: {metrics_tuned.val_weighted_accuracy.max():.2%})')\n",
    "axes[0].yaxis.set_major_formatter(FuncFormatter(lambda y, _: '{:.0%}'.format(y)))\n",
    "axes[0].set_ylabel('Accuracy')\n",
    "axes[1].set_ylabel('Loss')\n",
    "for ax in axes:\n",
    "    ax.axvline(14, ls='--', lw=1, c='k')\n",
    "    ax.legend(['Training', 'Validation', 'Start Fine Tuning'])\n",
    "    ax.set_xlabel('Epoch')\n",
    "fig.tight_layout()\n",
    "fig.savefig(results_path / 'transfer_learning_svhn');\n",
    "plt.show"
   ]
  },
  {
   "cell_type": "code",
   "execution_count": null,
   "id": "e4cbb959-8c42-4f64-b976-e548833aa835",
   "metadata": {},
   "outputs": [],
   "source": []
  }
 ],
 "metadata": {
  "kernelspec": {
   "display_name": "Python [conda env:MLAT] *",
   "language": "python",
   "name": "conda-env-MLAT-py"
  },
  "language_info": {
   "codemirror_mode": {
    "name": "ipython",
    "version": 3
   },
   "file_extension": ".py",
   "mimetype": "text/x-python",
   "name": "python",
   "nbconvert_exporter": "python",
   "pygments_lexer": "ipython3",
   "version": "3.12.9"
  }
 },
 "nbformat": 4,
 "nbformat_minor": 5
}
