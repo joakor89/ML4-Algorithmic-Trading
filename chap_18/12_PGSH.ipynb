{
 "cells": [
  {
   "cell_type": "markdown",
   "id": "404e0be8-22d0-4f4c-a8f4-c09027145b58",
   "metadata": {},
   "source": [
    "# Preprocess Google Streetview House Number Dataset\n",
    "\n",
    "### Loading Libraries"
   ]
  },
  {
   "cell_type": "code",
   "execution_count": 19,
   "id": "9f8932e3-273f-4ae8-afac-214840e89da4",
   "metadata": {},
   "outputs": [],
   "source": [
    "# Numerical Computing\n",
    "import numpy as np\n",
    "\n",
    "# Data Manipulation\n",
    "import pandas as pd\n",
    "\n",
    "#\n",
    "import seaborn as sns\n",
    "from PIL import Image\n",
    "import PIL.Image as Image\n",
    "import matplotlib.pyplot as plt\n",
    "from matplotlib.ticker import FuncFormatter\n",
    "\n",
    "# Warnings\n",
    "import warnings\n",
    "\n",
    "# OS & Path\n",
    "import os\n",
    "import sys\n",
    "import tarfile\n",
    "from pathlib import Path\n",
    "\n",
    "# SciPy\n",
    "from scipy import ndimage\n",
    "\n",
    "# IPython\n",
    "from IPython.display import display, Image\n",
    "\n",
    "# H5\n",
    "import h5py"
   ]
  },
  {
   "cell_type": "code",
   "execution_count": 21,
   "id": "d024cce2-dc94-4138-8ea5-a61ab2798762",
   "metadata": {},
   "outputs": [],
   "source": [
    "%matplotlib inline"
   ]
  },
  {
   "cell_type": "code",
   "execution_count": 23,
   "id": "b7dc2154-aba7-4fac-80e5-e420620a7a83",
   "metadata": {},
   "outputs": [],
   "source": [
    "sns.set_style('whitegrid')\n",
    "\n",
    "warnings.filterwarnings('ignore')"
   ]
  },
  {
   "cell_type": "code",
   "execution_count": 25,
   "id": "4a6a159a-eca0-4508-8406-4f61872b3986",
   "metadata": {},
   "outputs": [],
   "source": [
    "DATA_PATH = Path('images', 'svhn')"
   ]
  },
  {
   "cell_type": "code",
   "execution_count": 27,
   "id": "008c4e8f-cfd5-4559-ae26-a401dc3c23c4",
   "metadata": {},
   "outputs": [],
   "source": [
    "results_path = Path('results', 'svhn')\n",
    "\n",
    "if not results_path.exists():\n",
    "    results_path.mkdir(parents=True)"
   ]
  },
  {
   "cell_type": "markdown",
   "id": "0b49cab3-1d6d-4de8-8747-14a1874f947a",
   "metadata": {},
   "source": [
    "### Parse Bounding Box Information"
   ]
  },
  {
   "cell_type": "code",
   "execution_count": 30,
   "id": "0b33a1e9-6d38-4a92-bf3d-cd1eb0f3ceb5",
   "metadata": {},
   "outputs": [],
   "source": [
    "class DigitStructFile:\n",
    "    def __init__(self, inf):\n",
    "        self.inf = h5py.File(inf, 'r')\n",
    "        self.digitStructName = self.inf['digitStruct']['name']\n",
    "        self.digitStructBbox = self.inf['digitStruct']['bbox']\n",
    "\n",
    "    def getName(self, n):\n",
    "        return ''.join([chr(c[0]) for c in self.inf[self.digitStructName[n][0]].value])\n",
    "\n",
    "    def bboxHelper(self, attr):\n",
    "        if (len(attr) > 1):\n",
    "            attr = [self.inf[attr.value[j].item()].value[0][0]\n",
    "                    for j in range(len(attr))]\n",
    "        else:\n",
    "            attr = [attr.value[0][0]]\n",
    "        return attr\n",
    "\n",
    "    def getBbox(self, n):\n",
    "        bbox = {}\n",
    "        bb = self.digitStructBbox[n].item()\n",
    "        bbox['height'] = self.bboxHelper(self.inf[bb][\"height\"])\n",
    "        bbox['label'] = self.bboxHelper(self.inf[bb][\"label\"])\n",
    "        bbox['left'] = self.bboxHelper(self.inf[bb][\"left\"])\n",
    "        bbox['top'] = self.bboxHelper(self.inf[bb][\"top\"])\n",
    "        bbox['width'] = self.bboxHelper(self.inf[bb][\"width\"])\n",
    "        return bbox\n",
    "\n",
    "    def getDigitStructure(self, n):\n",
    "        s = self.getBbox(n)\n",
    "        s['name'] = self.getName(n)\n",
    "        return s\n",
    "\n",
    "    def getAllDigitStructure(self):\n",
    "        return [self.getDigitStructure(i) for i in range(len(self.digitStructName))]\n",
    "\n",
    "    def getAllDigitStructure_ByDigit(self):\n",
    "        pictDat = self.getAllDigitStructure()\n",
    "        result = []\n",
    "        structCnt = 1\n",
    "        for i in range(len(pictDat)):\n",
    "            item = {'filename': pictDat[i][\"name\"]}\n",
    "            figures = []\n",
    "            for j in range(len(pictDat[i]['height'])):\n",
    "                figure = {}\n",
    "                figure['height'] = pictDat[i]['height'][j]\n",
    "                figure['label'] = pictDat[i]['label'][j]\n",
    "                figure['left'] = pictDat[i]['left'][j]\n",
    "                figure['top'] = pictDat[i]['top'][j]\n",
    "                figure['width'] = pictDat[i]['width'][j]\n",
    "                figures.append(figure)\n",
    "            structCnt = structCnt + 1\n",
    "            item['boxes'] = figures\n",
    "            result.append(item)\n",
    "        return result"
   ]
  },
  {
   "cell_type": "markdown",
   "id": "c313ec9f-7ac2-4d44-91d7-48c88c86c65d",
   "metadata": {},
   "source": [
    "### Generating Datasets"
   ]
  },
  {
   "cell_type": "code",
   "execution_count": 33,
   "id": "07c13fc4-8ddd-4fcf-846f-8a463273c8cb",
   "metadata": {},
   "outputs": [],
   "source": [
    "def generate_dataset(data, path):\n",
    "    n = len(data)\n",
    "    dataset = np.ndarray([n, 32, 32, 3], dtype='float32')\n",
    "    labels = np.ones([n, 6], dtype=int) * 10\n",
    "    for i in range(n):\n",
    "        if i % 5000 == 0:\n",
    "            print(i, end=' ', flush=True)\n",
    "        im = Image.open(path / data[i]['filename'])\n",
    "        boxes = data[i]['boxes']\n",
    "        num_digit = len(boxes)\n",
    "        labels[i, 0] = num_digit\n",
    "        top = np.ndarray([num_digit], dtype='float32')\n",
    "        left = np.ndarray([num_digit], dtype='float32')\n",
    "        height = np.ndarray([num_digit], dtype='float32')\n",
    "        width = np.ndarray([num_digit], dtype='float32')\n",
    "        for j in np.arange(num_digit):\n",
    "            if j < 5:\n",
    "                labels[i, j + 1] = boxes[j]['label']\n",
    "                if boxes[j]['label'] == 10:\n",
    "                    labels[i, j + 1] = 0\n",
    "            else:\n",
    "                print('\\n#', i, 'image has more than 5 digits.')\n",
    "            top[j] = boxes[j]['top']\n",
    "            left[j] = boxes[j]['left']\n",
    "            height[j] = boxes[j]['height']\n",
    "            width[j] = boxes[j]['width']\n",
    "\n",
    "        im_top = np.amin(top)\n",
    "        im_left = np.amin(left)\n",
    "        im_height = np.amax(top) + height[np.argmax(top)] - im_top\n",
    "        im_width = np.amax(left) + width[np.argmax(left)] - im_left\n",
    "\n",
    "        im_top = np.floor(im_top - 0.1 * im_height)\n",
    "        im_left = np.floor(im_left - 0.1 * im_width)\n",
    "        im_bottom = np.amin([np.ceil(im_top + 1.2 * im_height), im.size[1]])\n",
    "        im_right = np.amin([np.ceil(im_left + 1.2 * im_width), im.size[0]])\n",
    "\n",
    "        im = im.crop((im_left, im_top, im_right, im_bottom))\n",
    "        im = np.array(im.resize([32, 32], Image.ANTIALIAS), dtype='float32')\n",
    "        im = (im - 128) / 128\n",
    "        dataset[i, :, :, :] = im[:, :, :]\n",
    "    return dataset, labels"
   ]
  },
  {
   "cell_type": "code",
   "execution_count": 40,
   "id": "cc87bb33-6209-4d62-9d61-e70e63829108",
   "metadata": {},
   "outputs": [],
   "source": [
    "for folder in ['train', 'test']:\n",
    "    print('\\n', folder)\n",
    "    target = DATA_PATH / folder / 'digitStruct.mat'\n",
    "    dsf = DigitStructFile(target)\n",
    "    data = dsf.getAllDigitStructure_ByDigit()\n",
    "    dataset, labels = generate_dataset(data, DATA_PATH / folder)\n",
    "    np.save(DATA_PATH / f'X_{folder}', dataset)\n",
    "    np.save(DATA_PATH / f'y_{folder}', labels)"
   ]
  },
  {
   "cell_type": "markdown",
   "id": "1882ea3c-e0f8-4ea8-8e5c-66591f6cb39e",
   "metadata": {},
   "source": [
    "#### Plotting Sample Images"
   ]
  },
  {
   "cell_type": "code",
   "execution_count": 43,
   "id": "82278e4c-1a91-49b5-881e-3d278716f8ea",
   "metadata": {},
   "outputs": [],
   "source": [
    "X_train = np.load(DATA_PATH / 'X_train.npy')\n",
    "\n",
    "y_train = np.load(DATA_PATH / 'y_train.npy')"
   ]
  },
  {
   "cell_type": "code",
   "execution_count": 45,
   "id": "a0a7bb8d-b963-40a9-a73a-3ace250bcedd",
   "metadata": {},
   "outputs": [],
   "source": [
    "fig, axes = plt.subplots(nrows=2, ncols=8, figsize=(20, 5))\n",
    "\n",
    "axes = axes.flatten()\n",
    "\n",
    "for i, ax in enumerate(axes):\n",
    "    ax.imshow(np.squeeze((X_train[i] * 128) + 128).astype(int))\n",
    "    ax.axis('off')\n",
    "    ax.set_title(''.join([str(d) for d in y_train[i][1:] if d < 10]))\n",
    "fig.tight_layout()\n",
    "fig.savefig(results_path / 'sample_img', dpi=300);\n",
    "plt.show()"
   ]
  },
  {
   "cell_type": "code",
   "execution_count": null,
   "id": "2adc7023-ee24-42a0-9866-6381c1d25a32",
   "metadata": {},
   "outputs": [],
   "source": []
  },
  {
   "cell_type": "code",
   "execution_count": null,
   "id": "5e6599a3-8e45-4306-b6f8-2202575098bd",
   "metadata": {},
   "outputs": [],
   "source": []
  },
  {
   "cell_type": "code",
   "execution_count": null,
   "id": "5477467a-a306-4819-b7fa-2150b2821c28",
   "metadata": {},
   "outputs": [],
   "source": []
  }
 ],
 "metadata": {
  "kernelspec": {
   "display_name": "Python [conda env:MLAT] *",
   "language": "python",
   "name": "conda-env-MLAT-py"
  },
  "language_info": {
   "codemirror_mode": {
    "name": "ipython",
    "version": 3
   },
   "file_extension": ".py",
   "mimetype": "text/x-python",
   "name": "python",
   "nbconvert_exporter": "python",
   "pygments_lexer": "ipython3",
   "version": "3.12.9"
  }
 },
 "nbformat": 4,
 "nbformat_minor": 5
}
