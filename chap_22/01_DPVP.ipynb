{
 "cells": [
  {
   "cell_type": "markdown",
   "id": "f3c44a20-dbab-49f3-b616-1c74da81e326",
   "metadata": {},
   "source": [
    "# Dynamic programming: Value and Policy Iteration\n",
    "\n",
    "### Loading Libraries"
   ]
  },
  {
   "cell_type": "code",
   "execution_count": 11,
   "id": "07e01606-0f3a-4419-94ca-71997320e124",
   "metadata": {},
   "outputs": [],
   "source": [
    "# Numerical Computing\n",
    "import numpy as np\n",
    "\n",
    "# Data Manipulation\n",
    "import pandas as pd\n",
    "\n",
    "# Data Visualization\n",
    "import seaborn as sns\n",
    "import matplotlib.pyplot as plt\n",
    "from mdptoolbox import mdp\n",
    "from itertools import product\n",
    "\n",
    "# Time\n",
    "import time\n",
    "from time import process_time"
   ]
  },
  {
   "cell_type": "markdown",
   "id": "62498c45-3923-4243-94f9-b9b1b7de4433",
   "metadata": {},
   "source": [
    "### Setting Gridworld Up \n",
    "\n",
    "#### States, Actions & Rewards"
   ]
  },
  {
   "cell_type": "code",
   "execution_count": 14,
   "id": "10e7f346-d46c-454b-b383-516825a31551",
   "metadata": {},
   "outputs": [],
   "source": [
    "grid_size = (3, 4)\n",
    "\n",
    "blocked_cell = (1, 1)\n",
    "\n",
    "baseline_reward = -0.02\n",
    "\n",
    "absorbing_cells = {(0, 3): 1, (1, 3): -1}"
   ]
  },
  {
   "cell_type": "code",
   "execution_count": 16,
   "id": "d671cec5-bcd0-49f7-9861-2200b3788181",
   "metadata": {},
   "outputs": [],
   "source": [
    "actions = ['L', 'U', 'R', 'D']\n",
    "\n",
    "num_actions = len(actions)\n",
    "probs = [.1, .8, .1, 0]"
   ]
  },
  {
   "cell_type": "code",
   "execution_count": 36,
   "id": "d6fdca8e-f85e-4f3a-873d-7d68a4bdec2d",
   "metadata": {},
   "outputs": [],
   "source": [
    "to_1d = lambda x: np.ravel_multi_index(x, grid_size)\n",
    "\n",
    "to_2d = lambda x: np.unravel_index(x, grid_size)"
   ]
  },
  {
   "cell_type": "code",
   "execution_count": 38,
   "id": "c8911fbb-f838-4656-9844-f1cdf48cb1ba",
   "metadata": {},
   "outputs": [],
   "source": [
    "num_states = np.product(grid_size)\n",
    "\n",
    "cells = list(np.ndindex(grid_size))\n",
    "\n",
    "states = list(range(len(cells)))"
   ]
  },
  {
   "cell_type": "code",
   "execution_count": 40,
   "id": "e401ad2b-4de2-4343-9487-01cb55447d51",
   "metadata": {},
   "outputs": [],
   "source": [
    "cell_state = dict(zip(cells, states))\n",
    "\n",
    "state_cell= dict(zip(states, cells))"
   ]
  },
  {
   "cell_type": "code",
   "execution_count": 42,
   "id": "17e57392-0c59-4f98-931b-96a842d2f2b8",
   "metadata": {},
   "outputs": [],
   "source": [
    "absorbing_states = {to_1d(s):r for s, r in absorbing_cells.items()}\n",
    "\n",
    "blocked_state = to_1d(blocked_cell)"
   ]
  },
  {
   "cell_type": "code",
   "execution_count": 44,
   "id": "31474b72-0860-4376-88fd-fefdaa626626",
   "metadata": {},
   "outputs": [],
   "source": [
    "state_rewards = np.full(num_states, baseline_reward)\n",
    "\n",
    "state_rewards[blocked_state] = 0\n",
    "\n",
    "for state, reward in absorbing_states.items():\n",
    "    state_rewards[state] = reward"
   ]
  },
  {
   "cell_type": "code",
   "execution_count": 46,
   "id": "356d1c46-b16d-4e6d-acce-07a2681ab0cd",
   "metadata": {},
   "outputs": [],
   "source": [
    "action_outcomes = {}\n",
    "\n",
    "for i, action in enumerate(actions):\n",
    "    probs_ = dict(zip([actions[j % 4] for j in range(i, num_actions + i)], probs))\n",
    "    action_outcomes[actions[(i + 1) % 4]] = probs_"
   ]
  },
  {
   "cell_type": "code",
   "execution_count": 48,
   "id": "2c89859b-f0aa-4880-8bef-2e5a99f23d59",
   "metadata": {},
   "outputs": [
    {
     "data": {
      "text/plain": [
       "{'U': {'L': 0.1, 'U': 0.8, 'R': 0.1, 'D': 0},\n",
       " 'R': {'U': 0.1, 'R': 0.8, 'D': 0.1, 'L': 0},\n",
       " 'D': {'R': 0.1, 'D': 0.8, 'L': 0.1, 'U': 0},\n",
       " 'L': {'D': 0.1, 'L': 0.8, 'U': 0.1, 'R': 0}}"
      ]
     },
     "execution_count": 48,
     "metadata": {},
     "output_type": "execute_result"
    }
   ],
   "source": [
    "action_outcomes"
   ]
  },
  {
   "cell_type": "markdown",
   "id": "84ad6af5-7396-436a-80de-ac1736f8ffc4",
   "metadata": {},
   "source": [
    "### Transition Matrix"
   ]
  },
  {
   "cell_type": "code",
   "execution_count": 51,
   "id": "516f4ebc-d130-4932-813b-02ea286afcc6",
   "metadata": {},
   "outputs": [],
   "source": [
    "def get_new_cell(state, move):\n",
    "    cell = to_2d(state)\n",
    "    if actions[move] == 'U':\n",
    "        return cell[0] - 1, cell[1]\n",
    "    elif actions[move] == 'D':\n",
    "        return cell[0] + 1, cell[1]\n",
    "    elif actions[move] == 'R':\n",
    "        return cell[0], cell[1] + 1\n",
    "    elif actions[move] == 'L':\n",
    "        return cell[0], cell[1] - 1"
   ]
  },
  {
   "cell_type": "code",
   "execution_count": 53,
   "id": "a96d9ecd-6e56-4913-87dc-1eb253813916",
   "metadata": {},
   "outputs": [
    {
     "data": {
      "text/plain": [
       "array([-0.02, -0.02, -0.02,  1.  , -0.02,  0.  , -0.02, -1.  , -0.02,\n",
       "       -0.02, -0.02, -0.02])"
      ]
     },
     "execution_count": 53,
     "metadata": {},
     "output_type": "execute_result"
    }
   ],
   "source": [
    "state_rewards"
   ]
  },
  {
   "cell_type": "code",
   "execution_count": 55,
   "id": "018a62b4-55bc-499e-a4b3-3fa58173e0d0",
   "metadata": {},
   "outputs": [],
   "source": [
    "def update_transitions_and_rewards(state, action, outcome):\n",
    "    if state in absorbing_states.keys() or state == blocked_state:\n",
    "        transitions[action, state, state] = 1\n",
    "    else:\n",
    "        new_cell = get_new_cell(state, outcome)\n",
    "        p = action_outcomes[actions[action]][actions[outcome]]\n",
    "        if new_cell not in cells or new_cell == blocked_cell:\n",
    "            transitions[action, state, state] += p\n",
    "            rewards[action, state, state] = baseline_reward\n",
    "        else:\n",
    "            new_state= to_1d(new_cell)\n",
    "            transitions[action, state, new_state] = p\n",
    "            rewards[action, state, new_state] = state_rewards[new_state]"
   ]
  },
  {
   "cell_type": "code",
   "execution_count": 57,
   "id": "36f52f78-6c10-40ff-b345-9d45e6be4933",
   "metadata": {},
   "outputs": [],
   "source": [
    "rewards = np.zeros(shape=(num_actions, num_states, num_states))\n",
    "\n",
    "transitions = np.zeros((num_actions, num_states, num_states))\n",
    "\n",
    "actions_ = list(range(num_actions))\n",
    "\n",
    "for action, outcome, state in product(actions_, actions_, states):\n",
    "    update_transitions_and_rewards(state, action, outcome)"
   ]
  },
  {
   "cell_type": "code",
   "execution_count": 59,
   "id": "aeccff0a-472e-48ba-81bc-fefb15cacc4a",
   "metadata": {},
   "outputs": [
    {
     "data": {
      "text/plain": [
       "((4, 12, 12), (4, 12, 12))"
      ]
     },
     "execution_count": 59,
     "metadata": {},
     "output_type": "execute_result"
    }
   ],
   "source": [
    "rewards.shape, transitions.shape"
   ]
  },
  {
   "cell_type": "markdown",
   "id": "b4cdfa5c-68a2-45e8-8a9f-ec72bf343188",
   "metadata": {},
   "source": [
    "### PyMDPToolbox\n",
    "\n",
    "#### Value Iteration"
   ]
  },
  {
   "cell_type": "code",
   "execution_count": 68,
   "id": "d5f937cf-d7f1-42f8-b5f0-b1b09e5bbf3d",
   "metadata": {},
   "outputs": [],
   "source": [
    "gamma = .99\n",
    "\n",
    "epsilon = 1e-5"
   ]
  },
  {
   "cell_type": "code",
   "execution_count": 70,
   "id": "34282bba-4e2a-4fb4-adc1-2e61950846bc",
   "metadata": {},
   "outputs": [
    {
     "data": {
      "text/plain": [
       "'# Iterations: 31 | Time: 0.0022'"
      ]
     },
     "execution_count": 70,
     "metadata": {},
     "output_type": "execute_result"
    }
   ],
   "source": [
    "vi = mdp.ValueIteration(transitions=transitions,\n",
    "                        reward=rewards,\n",
    "                        discount=gamma,\n",
    "                        epsilon=epsilon)\n",
    "\n",
    "vi.run()\n",
    "f'# Iterations: {vi.iter:,d} | Time: {vi.time:.4f}'"
   ]
  },
  {
   "cell_type": "code",
   "execution_count": 72,
   "id": "af563fb9-2007-43c0-b552-531b42198264",
   "metadata": {},
   "outputs": [
    {
     "data": {
      "text/html": [
       "<div>\n",
       "<style scoped>\n",
       "    .dataframe tbody tr th:only-of-type {\n",
       "        vertical-align: middle;\n",
       "    }\n",
       "\n",
       "    .dataframe tbody tr th {\n",
       "        vertical-align: top;\n",
       "    }\n",
       "\n",
       "    .dataframe thead th {\n",
       "        text-align: right;\n",
       "    }\n",
       "</style>\n",
       "<table border=\"1\" class=\"dataframe\">\n",
       "  <thead>\n",
       "    <tr style=\"text-align: right;\">\n",
       "      <th></th>\n",
       "      <th>0</th>\n",
       "      <th>1</th>\n",
       "      <th>2</th>\n",
       "      <th>3</th>\n",
       "    </tr>\n",
       "  </thead>\n",
       "  <tbody>\n",
       "    <tr>\n",
       "      <th>0</th>\n",
       "      <td>R</td>\n",
       "      <td>R</td>\n",
       "      <td>R</td>\n",
       "      <td>L</td>\n",
       "    </tr>\n",
       "    <tr>\n",
       "      <th>1</th>\n",
       "      <td>U</td>\n",
       "      <td>L</td>\n",
       "      <td>U</td>\n",
       "      <td>L</td>\n",
       "    </tr>\n",
       "    <tr>\n",
       "      <th>2</th>\n",
       "      <td>U</td>\n",
       "      <td>L</td>\n",
       "      <td>L</td>\n",
       "      <td>L</td>\n",
       "    </tr>\n",
       "  </tbody>\n",
       "</table>\n",
       "</div>"
      ],
      "text/plain": [
       "   0  1  2  3\n",
       "0  R  R  R  L\n",
       "1  U  L  U  L\n",
       "2  U  L  L  L"
      ]
     },
     "execution_count": 72,
     "metadata": {},
     "output_type": "execute_result"
    }
   ],
   "source": [
    "policy = np.asarray([actions[i] for i in vi.policy])\n",
    "\n",
    "pd.DataFrame(policy.reshape(grid_size))"
   ]
  },
  {
   "cell_type": "code",
   "execution_count": 74,
   "id": "2c871719-4a21-4605-9b63-b16bf9ca02d5",
   "metadata": {},
   "outputs": [
    {
     "data": {
      "text/html": [
       "<div>\n",
       "<style scoped>\n",
       "    .dataframe tbody tr th:only-of-type {\n",
       "        vertical-align: middle;\n",
       "    }\n",
       "\n",
       "    .dataframe tbody tr th {\n",
       "        vertical-align: top;\n",
       "    }\n",
       "\n",
       "    .dataframe thead th {\n",
       "        text-align: right;\n",
       "    }\n",
       "</style>\n",
       "<table border=\"1\" class=\"dataframe\">\n",
       "  <thead>\n",
       "    <tr style=\"text-align: right;\">\n",
       "      <th></th>\n",
       "      <th>0</th>\n",
       "      <th>1</th>\n",
       "      <th>2</th>\n",
       "      <th>3</th>\n",
       "    </tr>\n",
       "  </thead>\n",
       "  <tbody>\n",
       "    <tr>\n",
       "      <th>0</th>\n",
       "      <td>0.884143</td>\n",
       "      <td>0.925054</td>\n",
       "      <td>0.961986</td>\n",
       "      <td>0.000000</td>\n",
       "    </tr>\n",
       "    <tr>\n",
       "      <th>1</th>\n",
       "      <td>0.848181</td>\n",
       "      <td>0.000000</td>\n",
       "      <td>0.714643</td>\n",
       "      <td>0.000000</td>\n",
       "    </tr>\n",
       "    <tr>\n",
       "      <th>2</th>\n",
       "      <td>0.808345</td>\n",
       "      <td>0.773328</td>\n",
       "      <td>0.736099</td>\n",
       "      <td>0.516083</td>\n",
       "    </tr>\n",
       "  </tbody>\n",
       "</table>\n",
       "</div>"
      ],
      "text/plain": [
       "          0         1         2         3\n",
       "0  0.884143  0.925054  0.961986  0.000000\n",
       "1  0.848181  0.000000  0.714643  0.000000\n",
       "2  0.808345  0.773328  0.736099  0.516083"
      ]
     },
     "execution_count": 74,
     "metadata": {},
     "output_type": "execute_result"
    }
   ],
   "source": [
    "value = np.asarray(vi.V).reshape(grid_size)\n",
    "\n",
    "pd.DataFrame(value)"
   ]
  },
  {
   "cell_type": "markdown",
   "id": "940f99af-4c22-4d4f-b818-a8206c501fd8",
   "metadata": {},
   "source": [
    "#### Policy Iteration"
   ]
  },
  {
   "cell_type": "code",
   "execution_count": 77,
   "id": "685b89c2-bf2e-44cb-8f2f-eb7bb0125740",
   "metadata": {},
   "outputs": [
    {
     "data": {
      "text/plain": [
       "'# Iterations: 7 | Time: 0.0171'"
      ]
     },
     "execution_count": 77,
     "metadata": {},
     "output_type": "execute_result"
    }
   ],
   "source": [
    "pi = mdp.PolicyIteration(transitions=transitions,\n",
    "                        reward=rewards,\n",
    "                        discount=gamma,\n",
    "                        max_iter=1000)\n",
    "\n",
    "pi.run()\n",
    "f'# Iterations: {pi.iter:,d} | Time: {pi.time:.4f}'"
   ]
  },
  {
   "cell_type": "code",
   "execution_count": 79,
   "id": "3759cd52-26e1-4ef6-adfd-840077a66b0e",
   "metadata": {},
   "outputs": [
    {
     "data": {
      "text/html": [
       "<div>\n",
       "<style scoped>\n",
       "    .dataframe tbody tr th:only-of-type {\n",
       "        vertical-align: middle;\n",
       "    }\n",
       "\n",
       "    .dataframe tbody tr th {\n",
       "        vertical-align: top;\n",
       "    }\n",
       "\n",
       "    .dataframe thead th {\n",
       "        text-align: right;\n",
       "    }\n",
       "</style>\n",
       "<table border=\"1\" class=\"dataframe\">\n",
       "  <thead>\n",
       "    <tr style=\"text-align: right;\">\n",
       "      <th></th>\n",
       "      <th>0</th>\n",
       "      <th>1</th>\n",
       "      <th>2</th>\n",
       "      <th>3</th>\n",
       "    </tr>\n",
       "  </thead>\n",
       "  <tbody>\n",
       "    <tr>\n",
       "      <th>0</th>\n",
       "      <td>R</td>\n",
       "      <td>R</td>\n",
       "      <td>R</td>\n",
       "      <td>L</td>\n",
       "    </tr>\n",
       "    <tr>\n",
       "      <th>1</th>\n",
       "      <td>U</td>\n",
       "      <td>L</td>\n",
       "      <td>U</td>\n",
       "      <td>L</td>\n",
       "    </tr>\n",
       "    <tr>\n",
       "      <th>2</th>\n",
       "      <td>U</td>\n",
       "      <td>L</td>\n",
       "      <td>L</td>\n",
       "      <td>L</td>\n",
       "    </tr>\n",
       "  </tbody>\n",
       "</table>\n",
       "</div>"
      ],
      "text/plain": [
       "   0  1  2  3\n",
       "0  R  R  R  L\n",
       "1  U  L  U  L\n",
       "2  U  L  L  L"
      ]
     },
     "execution_count": 79,
     "metadata": {},
     "output_type": "execute_result"
    }
   ],
   "source": [
    "policy = np.asarray([actions[i] for i in pi.policy])\n",
    "\n",
    "pd.DataFrame(policy.reshape(grid_size))"
   ]
  },
  {
   "cell_type": "code",
   "execution_count": 81,
   "id": "3a250630-abb8-49de-9d12-254a81f6ceee",
   "metadata": {},
   "outputs": [
    {
     "data": {
      "text/html": [
       "<div>\n",
       "<style scoped>\n",
       "    .dataframe tbody tr th:only-of-type {\n",
       "        vertical-align: middle;\n",
       "    }\n",
       "\n",
       "    .dataframe tbody tr th {\n",
       "        vertical-align: top;\n",
       "    }\n",
       "\n",
       "    .dataframe thead th {\n",
       "        text-align: right;\n",
       "    }\n",
       "</style>\n",
       "<table border=\"1\" class=\"dataframe\">\n",
       "  <thead>\n",
       "    <tr style=\"text-align: right;\">\n",
       "      <th></th>\n",
       "      <th>0</th>\n",
       "      <th>1</th>\n",
       "      <th>2</th>\n",
       "      <th>3</th>\n",
       "    </tr>\n",
       "  </thead>\n",
       "  <tbody>\n",
       "    <tr>\n",
       "      <th>0</th>\n",
       "      <td>0.884143</td>\n",
       "      <td>0.925054</td>\n",
       "      <td>0.961986</td>\n",
       "      <td>-1.389785e-16</td>\n",
       "    </tr>\n",
       "    <tr>\n",
       "      <th>1</th>\n",
       "      <td>0.848181</td>\n",
       "      <td>0.000000</td>\n",
       "      <td>0.714643</td>\n",
       "      <td>5.749281e-16</td>\n",
       "    </tr>\n",
       "    <tr>\n",
       "      <th>2</th>\n",
       "      <td>0.808345</td>\n",
       "      <td>0.773328</td>\n",
       "      <td>0.736099</td>\n",
       "      <td>5.160828e-01</td>\n",
       "    </tr>\n",
       "  </tbody>\n",
       "</table>\n",
       "</div>"
      ],
      "text/plain": [
       "          0         1         2             3\n",
       "0  0.884143  0.925054  0.961986 -1.389785e-16\n",
       "1  0.848181  0.000000  0.714643  5.749281e-16\n",
       "2  0.808345  0.773328  0.736099  5.160828e-01"
      ]
     },
     "execution_count": 81,
     "metadata": {},
     "output_type": "execute_result"
    }
   ],
   "source": [
    "value = np.asarray(pi.V).reshape(grid_size)\n",
    "\n",
    "pd.DataFrame(value)"
   ]
  },
  {
   "cell_type": "markdown",
   "id": "2d71641f-327b-47fb-9fff-4a4cf1316b23",
   "metadata": {},
   "source": [
    "#### Value Iteration"
   ]
  },
  {
   "cell_type": "code",
   "execution_count": 91,
   "id": "773e1750-98ef-4d99-b7c6-30c6fab64c2a",
   "metadata": {},
   "outputs": [],
   "source": [
    "skip_states = list(absorbing_states.keys())+[blocked_state]\n",
    "\n",
    "states_to_update = [s for s in states if s not in skip_states]"
   ]
  },
  {
   "cell_type": "code",
   "execution_count": 93,
   "id": "32f703fd-c998-4ff6-acef-ed3641b9341d",
   "metadata": {},
   "outputs": [],
   "source": [
    "V = np.random.rand(num_states)\n",
    "\n",
    "V[skip_states] = 0"
   ]
  },
  {
   "cell_type": "code",
   "execution_count": 95,
   "id": "a4867316-049c-40aa-bffd-5affad432014",
   "metadata": {},
   "outputs": [],
   "source": [
    "gamma = .99\n",
    "\n",
    "epsilon = 1e-5"
   ]
  },
  {
   "cell_type": "code",
   "execution_count": 97,
   "id": "432fdfb7-600b-415d-9448-ce1cd0cfde60",
   "metadata": {},
   "outputs": [
    {
     "data": {
      "text/plain": [
       "'# Iterations 21 | Time 0.0058'"
      ]
     },
     "execution_count": 97,
     "metadata": {},
     "output_type": "execute_result"
    }
   ],
   "source": [
    "iterations = 0\n",
    "\n",
    "start = process_time()\n",
    "\n",
    "converged = False\n",
    "\n",
    "while not converged:\n",
    "    V_ = np.copy(V)\n",
    "    for state in states_to_update:\n",
    "        q_sa = np.sum(transitions[:, state] * (rewards[:, state] + gamma* V), axis=1)\n",
    "        V[state] = np.max(q_sa)\n",
    "    if np.sum(np.fabs(V - V_)) < epsilon:\n",
    "        converged = True\n",
    "\n",
    "    iterations += 1\n",
    "    if iterations % 1000 == 0:\n",
    "        print(np.sum(np.fabs(V - V_)))\n",
    "\n",
    "f'# Iterations {iterations} | Time {process_time() - start:.4f}'"
   ]
  },
  {
   "cell_type": "markdown",
   "id": "cc434d6a-9373-4af0-9aac-8781bdd85f90",
   "metadata": {},
   "source": [
    "#### Value Function"
   ]
  },
  {
   "cell_type": "code",
   "execution_count": 100,
   "id": "b6718972-d072-41d3-96ea-205607186d95",
   "metadata": {},
   "outputs": [
    {
     "name": "stdout",
     "output_type": "stream",
     "text": [
      "          0         1         2         3\n",
      "0  0.884143  0.925054  0.961986  0.000000\n",
      "1  0.848181  0.000000  0.714643  0.000000\n",
      "2  0.808345  0.773328  0.736099  0.516083\n"
     ]
    }
   ],
   "source": [
    "print(pd.DataFrame(V.reshape(grid_size)))"
   ]
  },
  {
   "cell_type": "code",
   "execution_count": 107,
   "id": "837b8a16-b480-4e7c-84d5-cec1eaa8570e",
   "metadata": {},
   "outputs": [
    {
     "data": {
      "text/plain": [
       "True"
      ]
     },
     "execution_count": 107,
     "metadata": {},
     "output_type": "execute_result"
    }
   ],
   "source": [
    "np.allclose(V.reshape(grid_size), np.asarray(vi.V).reshape(grid_size))"
   ]
  },
  {
   "cell_type": "markdown",
   "id": "30851084-3302-419d-b475-e785d16d2407",
   "metadata": {},
   "source": [
    "#### Optimal Policy"
   ]
  },
  {
   "cell_type": "code",
   "execution_count": 110,
   "id": "6063309b-317f-49b9-96d2-6f2f6f013d05",
   "metadata": {},
   "outputs": [
    {
     "data": {
      "text/plain": [
       "array([2, 2, 2, 0, 1, 0, 0, 0, 1, 0, 0, 0])"
      ]
     },
     "execution_count": 110,
     "metadata": {},
     "output_type": "execute_result"
    }
   ],
   "source": [
    "for state, reward in absorbing_states.items():\n",
    "    V[state] = reward\n",
    "\n",
    "policy = np.argmax(np.sum(transitions * V, 2),0)\n",
    "policy"
   ]
  },
  {
   "cell_type": "code",
   "execution_count": 112,
   "id": "e1c32aec-0a60-4c67-9972-6ed7af69306f",
   "metadata": {},
   "outputs": [
    {
     "data": {
      "text/html": [
       "<div>\n",
       "<style scoped>\n",
       "    .dataframe tbody tr th:only-of-type {\n",
       "        vertical-align: middle;\n",
       "    }\n",
       "\n",
       "    .dataframe tbody tr th {\n",
       "        vertical-align: top;\n",
       "    }\n",
       "\n",
       "    .dataframe thead th {\n",
       "        text-align: right;\n",
       "    }\n",
       "</style>\n",
       "<table border=\"1\" class=\"dataframe\">\n",
       "  <thead>\n",
       "    <tr style=\"text-align: right;\">\n",
       "      <th></th>\n",
       "      <th>0</th>\n",
       "      <th>1</th>\n",
       "      <th>2</th>\n",
       "      <th>3</th>\n",
       "    </tr>\n",
       "  </thead>\n",
       "  <tbody>\n",
       "    <tr>\n",
       "      <th>0</th>\n",
       "      <td>R</td>\n",
       "      <td>R</td>\n",
       "      <td>R</td>\n",
       "      <td>L</td>\n",
       "    </tr>\n",
       "    <tr>\n",
       "      <th>1</th>\n",
       "      <td>U</td>\n",
       "      <td>L</td>\n",
       "      <td>L</td>\n",
       "      <td>L</td>\n",
       "    </tr>\n",
       "    <tr>\n",
       "      <th>2</th>\n",
       "      <td>U</td>\n",
       "      <td>L</td>\n",
       "      <td>L</td>\n",
       "      <td>L</td>\n",
       "    </tr>\n",
       "  </tbody>\n",
       "</table>\n",
       "</div>"
      ],
      "text/plain": [
       "   0  1  2  3\n",
       "0  R  R  R  L\n",
       "1  U  L  L  L\n",
       "2  U  L  L  L"
      ]
     },
     "execution_count": 112,
     "metadata": {},
     "output_type": "execute_result"
    }
   ],
   "source": [
    "pd.DataFrame(policy.reshape(grid_size)).replace(dict(enumerate(actions)))"
   ]
  },
  {
   "cell_type": "markdown",
   "id": "b8b31734-d9fa-4b9b-9830-2da4855fd2ea",
   "metadata": {},
   "source": [
    "### Policy Iteration"
   ]
  },
  {
   "cell_type": "code",
   "execution_count": 121,
   "id": "3f3c514e-86d3-4443-922c-1fb0399bc34a",
   "metadata": {},
   "outputs": [],
   "source": [
    "def policy_improvement(value, transitions):\n",
    "    for state, reward in absorbing_states.items():\n",
    "        value[state] = reward\n",
    "    return np.argmax(np.sum(transitions * value, 2),0)"
   ]
  },
  {
   "cell_type": "code",
   "execution_count": 123,
   "id": "65516150-8767-4a90-ba20-d0f57af357b5",
   "metadata": {},
   "outputs": [],
   "source": [
    "V = np.random.rand(num_states)\n",
    "\n",
    "V[skip_states] = 0\n",
    "\n",
    "pi = np.random.choice(list(range(num_actions)), size=num_states)"
   ]
  },
  {
   "cell_type": "code",
   "execution_count": 125,
   "id": "cc3a4beb-88aa-4ec3-bbfa-7fb20808f68e",
   "metadata": {},
   "outputs": [
    {
     "data": {
      "text/plain": [
       "'# Iterations 3 | Time 0.0071'"
      ]
     },
     "execution_count": 125,
     "metadata": {},
     "output_type": "execute_result"
    }
   ],
   "source": [
    "iterations = 0\n",
    "\n",
    "start = process_time()\n",
    "\n",
    "converged = False\n",
    "\n",
    "while not converged:\n",
    "    pi_ = np.copy(pi)\n",
    "    for state in states_to_update:\n",
    "        action = policy[state]\n",
    "        V[state] = np.dot(transitions[action, state], (rewards[action, state] + gamma* V))\n",
    "        pi = policy_improvement(V.copy(), transitions)\n",
    "    if np.array_equal(pi_, pi):\n",
    "        converged = True\n",
    "    iterations += 1\n",
    "\n",
    "f'# Iterations {iterations} | Time {process_time() - start:.4f}'"
   ]
  },
  {
   "cell_type": "code",
   "execution_count": 127,
   "id": "84a2cc53-d6d2-4419-b753-9b4ac271cad5",
   "metadata": {},
   "outputs": [
    {
     "data": {
      "text/html": [
       "<div>\n",
       "<style scoped>\n",
       "    .dataframe tbody tr th:only-of-type {\n",
       "        vertical-align: middle;\n",
       "    }\n",
       "\n",
       "    .dataframe tbody tr th {\n",
       "        vertical-align: top;\n",
       "    }\n",
       "\n",
       "    .dataframe thead th {\n",
       "        text-align: right;\n",
       "    }\n",
       "</style>\n",
       "<table border=\"1\" class=\"dataframe\">\n",
       "  <thead>\n",
       "    <tr style=\"text-align: right;\">\n",
       "      <th></th>\n",
       "      <th>0</th>\n",
       "      <th>1</th>\n",
       "      <th>2</th>\n",
       "      <th>3</th>\n",
       "    </tr>\n",
       "  </thead>\n",
       "  <tbody>\n",
       "    <tr>\n",
       "      <th>0</th>\n",
       "      <td>R</td>\n",
       "      <td>R</td>\n",
       "      <td>R</td>\n",
       "      <td>L</td>\n",
       "    </tr>\n",
       "    <tr>\n",
       "      <th>1</th>\n",
       "      <td>U</td>\n",
       "      <td>L</td>\n",
       "      <td>U</td>\n",
       "      <td>L</td>\n",
       "    </tr>\n",
       "    <tr>\n",
       "      <th>2</th>\n",
       "      <td>U</td>\n",
       "      <td>L</td>\n",
       "      <td>U</td>\n",
       "      <td>L</td>\n",
       "    </tr>\n",
       "  </tbody>\n",
       "</table>\n",
       "</div>"
      ],
      "text/plain": [
       "   0  1  2  3\n",
       "0  R  R  R  L\n",
       "1  U  L  U  L\n",
       "2  U  L  U  L"
      ]
     },
     "execution_count": 127,
     "metadata": {},
     "output_type": "execute_result"
    }
   ],
   "source": [
    "pd.DataFrame(pi.reshape(grid_size)).replace(dict(enumerate(actions)))"
   ]
  },
  {
   "cell_type": "code",
   "execution_count": 129,
   "id": "3773998a-4c65-4559-bb0b-13ebb07591c2",
   "metadata": {},
   "outputs": [
    {
     "data": {
      "text/html": [
       "<div>\n",
       "<style scoped>\n",
       "    .dataframe tbody tr th:only-of-type {\n",
       "        vertical-align: middle;\n",
       "    }\n",
       "\n",
       "    .dataframe tbody tr th {\n",
       "        vertical-align: top;\n",
       "    }\n",
       "\n",
       "    .dataframe thead th {\n",
       "        text-align: right;\n",
       "    }\n",
       "</style>\n",
       "<table border=\"1\" class=\"dataframe\">\n",
       "  <thead>\n",
       "    <tr style=\"text-align: right;\">\n",
       "      <th></th>\n",
       "      <th>0</th>\n",
       "      <th>1</th>\n",
       "      <th>2</th>\n",
       "      <th>3</th>\n",
       "    </tr>\n",
       "  </thead>\n",
       "  <tbody>\n",
       "    <tr>\n",
       "      <th>0</th>\n",
       "      <td>0.779379</td>\n",
       "      <td>0.911291</td>\n",
       "      <td>0.956407</td>\n",
       "      <td>0.000000</td>\n",
       "    </tr>\n",
       "    <tr>\n",
       "      <th>1</th>\n",
       "      <td>0.704524</td>\n",
       "      <td>0.000000</td>\n",
       "      <td>0.640517</td>\n",
       "      <td>0.000000</td>\n",
       "    </tr>\n",
       "    <tr>\n",
       "      <th>2</th>\n",
       "      <td>0.629705</td>\n",
       "      <td>0.565474</td>\n",
       "      <td>0.533483</td>\n",
       "      <td>0.327995</td>\n",
       "    </tr>\n",
       "  </tbody>\n",
       "</table>\n",
       "</div>"
      ],
      "text/plain": [
       "          0         1         2         3\n",
       "0  0.779379  0.911291  0.956407  0.000000\n",
       "1  0.704524  0.000000  0.640517  0.000000\n",
       "2  0.629705  0.565474  0.533483  0.327995"
      ]
     },
     "execution_count": 129,
     "metadata": {},
     "output_type": "execute_result"
    }
   ],
   "source": [
    "pd.DataFrame(V.reshape(grid_size))"
   ]
  },
  {
   "cell_type": "code",
   "execution_count": null,
   "id": "c0a28404-01ad-48cc-88fd-5c96b022e736",
   "metadata": {},
   "outputs": [],
   "source": []
  }
 ],
 "metadata": {
  "kernelspec": {
   "display_name": "Python [conda env:MLAT] *",
   "language": "python",
   "name": "conda-env-MLAT-py"
  },
  "language_info": {
   "codemirror_mode": {
    "name": "ipython",
    "version": 3
   },
   "file_extension": ".py",
   "mimetype": "text/x-python",
   "name": "python",
   "nbconvert_exporter": "python",
   "pygments_lexer": "ipython3",
   "version": "3.12.9"
  }
 },
 "nbformat": 4,
 "nbformat_minor": 5
}
