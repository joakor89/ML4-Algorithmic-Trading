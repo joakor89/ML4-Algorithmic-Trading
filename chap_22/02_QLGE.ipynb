{
 "cells": [
  {
   "cell_type": "markdown",
   "id": "01c0b5d6-b812-44d9-be99-f48bf42299c9",
   "metadata": {},
   "source": [
    "# Q-Learning in the GridWorld environment\n",
    "\n",
    "### Loading Libraries"
   ]
  },
  {
   "cell_type": "code",
   "execution_count": 31,
   "id": "1d56f22c-2449-4e3b-bc8f-406f206916a6",
   "metadata": {},
   "outputs": [],
   "source": [
    "# Numerical Computing\n",
    "import numpy as np\n",
    "\n",
    "# Data Manipulation\n",
    "import pandas as pd\n",
    "\n",
    "# Data Visualization\n",
    "import seaborn as sns\n",
    "import matplotlib.pyplot as plt\n",
    "from mdptoolbox import mdp\n",
    "from itertools import product\n",
    "\n",
    "# Time & Path\n",
    "import time\n",
    "from pathlib import Path\n",
    "from time import process_time"
   ]
  },
  {
   "cell_type": "code",
   "execution_count": 32,
   "id": "8c6c8ab5-ac1d-4ae4-a336-094ea5314021",
   "metadata": {},
   "outputs": [],
   "source": [
    "%matplotlib inline"
   ]
  },
  {
   "cell_type": "markdown",
   "id": "860e7883-472d-4d4c-a7b4-af3cdbc41a4f",
   "metadata": {},
   "source": [
    "### Set Gridworld Up \n",
    "\n",
    "#### States, Actions & Rewards"
   ]
  },
  {
   "cell_type": "code",
   "execution_count": 36,
   "id": "af59c06b-192b-4088-8799-793a08d3325b",
   "metadata": {},
   "outputs": [],
   "source": [
    "grid_size = (3, 4)\n",
    "\n",
    "blocked_cell = (1, 1)\n",
    "\n",
    "baseline_reward = -0.02\n",
    "\n",
    "absorbing_cells = {(0, 3): 1, (1, 3): -1}"
   ]
  },
  {
   "cell_type": "code",
   "execution_count": 38,
   "id": "8640826e-1a04-4198-8b68-54d5bc3a8fea",
   "metadata": {},
   "outputs": [],
   "source": [
    "actions = ['L', 'U', 'R', 'D']\n",
    "\n",
    "num_actions = len(actions)\n",
    "\n",
    "probs = [.1, .8, .1, 0]"
   ]
  },
  {
   "cell_type": "code",
   "execution_count": 40,
   "id": "adfd8fa2-8684-4576-8e7c-95e540c022c3",
   "metadata": {},
   "outputs": [],
   "source": [
    "to_1d = lambda x: np.ravel_multi_index(x, grid_size)\n",
    "\n",
    "to_2d = lambda x: np.unravel_index(x, grid_size)"
   ]
  },
  {
   "cell_type": "code",
   "execution_count": 42,
   "id": "8eeb05b8-1575-427f-a6ab-9ad0817519ed",
   "metadata": {},
   "outputs": [],
   "source": [
    "num_states = np.product(grid_size)\n",
    "\n",
    "cells = list(np.ndindex(grid_size))\n",
    "\n",
    "states = list(range(len(cells)))"
   ]
  },
  {
   "cell_type": "code",
   "execution_count": 44,
   "id": "d80f4050-a6c4-4720-bfaa-fa607e140a47",
   "metadata": {},
   "outputs": [],
   "source": [
    "cell_state = dict(zip(cells, states))\n",
    "\n",
    "state_cell= dict(zip(states, cells))"
   ]
  },
  {
   "cell_type": "code",
   "execution_count": 46,
   "id": "2e1de993-4a21-47ed-9dc7-320f5293fcd8",
   "metadata": {},
   "outputs": [],
   "source": [
    "absorbing_states = {to_1d(s):r for s, r in absorbing_cells.items()}\n",
    "\n",
    "blocked_state = to_1d(blocked_cell)"
   ]
  },
  {
   "cell_type": "code",
   "execution_count": 48,
   "id": "990af9c0-6727-415e-855d-12281da1f8a9",
   "metadata": {},
   "outputs": [],
   "source": [
    "state_rewards = np.full(num_states, baseline_reward)\n",
    "\n",
    "state_rewards[blocked_state] = 0\n",
    "\n",
    "for state, reward in absorbing_states.items():\n",
    "    state_rewards[state] = reward"
   ]
  },
  {
   "cell_type": "code",
   "execution_count": 50,
   "id": "8b3de3cf-dafc-4075-99a8-e93e0596f687",
   "metadata": {},
   "outputs": [],
   "source": [
    "action_outcomes = {}\n",
    "\n",
    "for i, action in enumerate(actions):\n",
    "    probs_ = dict(zip([actions[j % 4] for j in range(i, num_actions + i)], probs))\n",
    "    action_outcomes[actions[(i + 1) % 4]] = probs_"
   ]
  },
  {
   "cell_type": "code",
   "execution_count": 52,
   "id": "26151913-fc64-45f7-aee5-3f1ffe3ba83a",
   "metadata": {},
   "outputs": [
    {
     "data": {
      "text/plain": [
       "{'U': {'L': 0.1, 'U': 0.8, 'R': 0.1, 'D': 0},\n",
       " 'R': {'U': 0.1, 'R': 0.8, 'D': 0.1, 'L': 0},\n",
       " 'D': {'R': 0.1, 'D': 0.8, 'L': 0.1, 'U': 0},\n",
       " 'L': {'D': 0.1, 'L': 0.8, 'U': 0.1, 'R': 0}}"
      ]
     },
     "execution_count": 52,
     "metadata": {},
     "output_type": "execute_result"
    }
   ],
   "source": [
    "action_outcomes"
   ]
  },
  {
   "cell_type": "markdown",
   "id": "7216cc47-8390-4b28-b85c-fbe8f7a698f7",
   "metadata": {},
   "source": [
    "#### Transition Matrix"
   ]
  },
  {
   "cell_type": "code",
   "execution_count": 55,
   "id": "ccfe642c-93e3-4921-a576-d71681955742",
   "metadata": {},
   "outputs": [],
   "source": [
    "def get_new_cell(state, move):\n",
    "    cell = to_2d(state)\n",
    "    if actions[move] == 'U':\n",
    "        return cell[0] - 1, cell[1]\n",
    "    elif actions[move] == 'D':\n",
    "        return cell[0] + 1, cell[1]\n",
    "    elif actions[move] == 'R':\n",
    "        return cell[0], cell[1] + 1\n",
    "    elif actions[move] == 'L':\n",
    "        return cell[0], cell[1] - 1"
   ]
  },
  {
   "cell_type": "code",
   "execution_count": 57,
   "id": "f528b6e0-dc5a-45cc-92ce-ec9639a9f62a",
   "metadata": {},
   "outputs": [
    {
     "data": {
      "text/plain": [
       "array([-0.02, -0.02, -0.02,  1.  , -0.02,  0.  , -0.02, -1.  , -0.02,\n",
       "       -0.02, -0.02, -0.02])"
      ]
     },
     "execution_count": 57,
     "metadata": {},
     "output_type": "execute_result"
    }
   ],
   "source": [
    "state_rewards"
   ]
  },
  {
   "cell_type": "code",
   "execution_count": 59,
   "id": "597c7640-17ea-4156-9884-ed473d8ba0ab",
   "metadata": {},
   "outputs": [],
   "source": [
    "def update_transitions_and_rewards(state, action, outcome):\n",
    "    if state in absorbing_states.keys() or state == blocked_state:\n",
    "        transitions[action, state, state] = 1\n",
    "    else:\n",
    "        new_cell = get_new_cell(state, outcome)\n",
    "        p = action_outcomes[actions[action]][actions[outcome]]\n",
    "        if new_cell not in cells or new_cell == blocked_cell:\n",
    "            transitions[action, state, state] += p\n",
    "            rewards[action, state, state] = baseline_reward\n",
    "        else:\n",
    "            new_state= to_1d(new_cell)\n",
    "            transitions[action, state, new_state] = p\n",
    "            rewards[action, state, new_state] = state_rewards[new_state]"
   ]
  },
  {
   "cell_type": "code",
   "execution_count": 61,
   "id": "2415b3b0-e78d-4939-a41f-d9aebafe3100",
   "metadata": {},
   "outputs": [],
   "source": [
    "rewards = np.zeros(shape=(num_actions, num_states, num_states))\n",
    "transitions = np.zeros((num_actions, num_states, num_states))\n",
    "actions_ = list(range(num_actions))\n",
    "for action, outcome, state in product(actions_, actions_, states):\n",
    "    update_transitions_and_rewards(state, action, outcome)"
   ]
  },
  {
   "cell_type": "code",
   "execution_count": 63,
   "id": "a8b17739-914e-4758-9958-501be20df81f",
   "metadata": {},
   "outputs": [
    {
     "data": {
      "text/plain": [
       "((4, 12, 12), (4, 12, 12))"
      ]
     },
     "execution_count": 63,
     "metadata": {},
     "output_type": "execute_result"
    }
   ],
   "source": [
    "rewards.shape, transitions.shape"
   ]
  },
  {
   "cell_type": "markdown",
   "id": "a6e5f4ca-3ea2-44f8-a262-024fd88592e6",
   "metadata": {},
   "source": [
    "### Q-Learning"
   ]
  },
  {
   "cell_type": "code",
   "execution_count": 66,
   "id": "cea7d08e-91c5-43da-8f1a-ea52852ce07e",
   "metadata": {},
   "outputs": [],
   "source": [
    "max_episodes = 2500\n",
    "\n",
    "alpha = .1\n",
    "\n",
    "epsilon = .05\n",
    "\n",
    "gamma = .99"
   ]
  },
  {
   "cell_type": "code",
   "execution_count": 68,
   "id": "ca980d28-0659-425f-87a0-7ae510a4de96",
   "metadata": {},
   "outputs": [],
   "source": [
    "Q = np.random.rand(num_states, num_actions)\n",
    "\n",
    "skip_states = list(absorbing_states.keys())+[blocked_state]\n",
    "\n",
    "Q[skip_states] = 0"
   ]
  },
  {
   "cell_type": "code",
   "execution_count": 70,
   "id": "66f0f5fe-0cc9-4b1c-a1ad-b459fdbd616f",
   "metadata": {},
   "outputs": [
    {
     "data": {
      "text/plain": [
       "0.1952569999999998"
      ]
     },
     "execution_count": 70,
     "metadata": {},
     "output_type": "execute_result"
    }
   ],
   "source": [
    "start = process_time()\n",
    "\n",
    "for episode in range(max_episodes):\n",
    "    state = np.random.choice([s for s in states if s not in skip_states])\n",
    "    while not state in absorbing_states.keys():\n",
    "        if np.random.rand() < epsilon:\n",
    "            action = np.random.choice(num_actions)\n",
    "        else:\n",
    "            action = np.argmax(Q[state])\n",
    "        next_state = np.random.choice(states, p=transitions[action, state])\n",
    "        reward = rewards[action, state, next_state]\n",
    "        Q[state, action] += alpha * (reward + gamma * np.max(Q[next_state])-Q[state, action])\n",
    "        state = next_state\n",
    "process_time() - start"
   ]
  },
  {
   "cell_type": "code",
   "execution_count": 72,
   "id": "37eb147e-6a73-46c0-9999-04946b984e24",
   "metadata": {},
   "outputs": [
    {
     "data": {
      "text/html": [
       "<div>\n",
       "<style scoped>\n",
       "    .dataframe tbody tr th:only-of-type {\n",
       "        vertical-align: middle;\n",
       "    }\n",
       "\n",
       "    .dataframe tbody tr th {\n",
       "        vertical-align: top;\n",
       "    }\n",
       "\n",
       "    .dataframe thead th {\n",
       "        text-align: right;\n",
       "    }\n",
       "</style>\n",
       "<table border=\"1\" class=\"dataframe\">\n",
       "  <thead>\n",
       "    <tr style=\"text-align: right;\">\n",
       "      <th></th>\n",
       "      <th>0</th>\n",
       "      <th>1</th>\n",
       "      <th>2</th>\n",
       "      <th>3</th>\n",
       "    </tr>\n",
       "  </thead>\n",
       "  <tbody>\n",
       "    <tr>\n",
       "      <th>0</th>\n",
       "      <td>R</td>\n",
       "      <td>R</td>\n",
       "      <td>R</td>\n",
       "      <td>L</td>\n",
       "    </tr>\n",
       "    <tr>\n",
       "      <th>1</th>\n",
       "      <td>U</td>\n",
       "      <td>L</td>\n",
       "      <td>L</td>\n",
       "      <td>L</td>\n",
       "    </tr>\n",
       "    <tr>\n",
       "      <th>2</th>\n",
       "      <td>U</td>\n",
       "      <td>L</td>\n",
       "      <td>L</td>\n",
       "      <td>D</td>\n",
       "    </tr>\n",
       "  </tbody>\n",
       "</table>\n",
       "</div>"
      ],
      "text/plain": [
       "   0  1  2  3\n",
       "0  R  R  R  L\n",
       "1  U  L  L  L\n",
       "2  U  L  L  D"
      ]
     },
     "execution_count": 72,
     "metadata": {},
     "output_type": "execute_result"
    }
   ],
   "source": [
    "pd.DataFrame(np.argmax(Q, 1).reshape(grid_size)).replace(dict(enumerate(actions)))"
   ]
  },
  {
   "cell_type": "code",
   "execution_count": 74,
   "id": "5935abc6-0ee7-4cec-8277-2fc33c59ecdb",
   "metadata": {},
   "outputs": [
    {
     "data": {
      "text/html": [
       "<div>\n",
       "<style scoped>\n",
       "    .dataframe tbody tr th:only-of-type {\n",
       "        vertical-align: middle;\n",
       "    }\n",
       "\n",
       "    .dataframe tbody tr th {\n",
       "        vertical-align: top;\n",
       "    }\n",
       "\n",
       "    .dataframe thead th {\n",
       "        text-align: right;\n",
       "    }\n",
       "</style>\n",
       "<table border=\"1\" class=\"dataframe\">\n",
       "  <thead>\n",
       "    <tr style=\"text-align: right;\">\n",
       "      <th></th>\n",
       "      <th>0</th>\n",
       "      <th>1</th>\n",
       "      <th>2</th>\n",
       "      <th>3</th>\n",
       "    </tr>\n",
       "  </thead>\n",
       "  <tbody>\n",
       "    <tr>\n",
       "      <th>0</th>\n",
       "      <td>0.871176</td>\n",
       "      <td>0.910151</td>\n",
       "      <td>0.949679</td>\n",
       "      <td>0.000000</td>\n",
       "    </tr>\n",
       "    <tr>\n",
       "      <th>1</th>\n",
       "      <td>0.830930</td>\n",
       "      <td>0.000000</td>\n",
       "      <td>0.698737</td>\n",
       "      <td>0.000000</td>\n",
       "    </tr>\n",
       "    <tr>\n",
       "      <th>2</th>\n",
       "      <td>0.795885</td>\n",
       "      <td>0.753633</td>\n",
       "      <td>0.723461</td>\n",
       "      <td>0.558584</td>\n",
       "    </tr>\n",
       "  </tbody>\n",
       "</table>\n",
       "</div>"
      ],
      "text/plain": [
       "          0         1         2         3\n",
       "0  0.871176  0.910151  0.949679  0.000000\n",
       "1  0.830930  0.000000  0.698737  0.000000\n",
       "2  0.795885  0.753633  0.723461  0.558584"
      ]
     },
     "execution_count": 74,
     "metadata": {},
     "output_type": "execute_result"
    }
   ],
   "source": [
    "pd.DataFrame(np.max(Q, 1).reshape(grid_size))"
   ]
  },
  {
   "cell_type": "markdown",
   "id": "e0eaf7f1-16e8-4052-90cf-f25ebc13aa9d",
   "metadata": {},
   "source": [
    "### PyMDPToolbox\n",
    "\n",
    "#### Q Learning"
   ]
  },
  {
   "cell_type": "code",
   "execution_count": 77,
   "id": "604289a2-bff6-411c-9684-85eda54c346a",
   "metadata": {},
   "outputs": [
    {
     "data": {
      "text/plain": [
       "'Time: 3.3464'"
      ]
     },
     "execution_count": 77,
     "metadata": {},
     "output_type": "execute_result"
    }
   ],
   "source": [
    "start = process_time()\n",
    "\n",
    "ql = mdp.QLearning(transitions=transitions,\n",
    "                   reward=rewards,\n",
    "                   discount=gamma,\n",
    "                   n_iter=int(1e6))\n",
    "\n",
    "ql.run()\n",
    "f'Time: {process_time()-start:.4f}'"
   ]
  },
  {
   "cell_type": "code",
   "execution_count": 78,
   "id": "191ca763-0205-4c74-a3a2-5a071eb21c8d",
   "metadata": {},
   "outputs": [
    {
     "data": {
      "text/html": [
       "<div>\n",
       "<style scoped>\n",
       "    .dataframe tbody tr th:only-of-type {\n",
       "        vertical-align: middle;\n",
       "    }\n",
       "\n",
       "    .dataframe tbody tr th {\n",
       "        vertical-align: top;\n",
       "    }\n",
       "\n",
       "    .dataframe thead th {\n",
       "        text-align: right;\n",
       "    }\n",
       "</style>\n",
       "<table border=\"1\" class=\"dataframe\">\n",
       "  <thead>\n",
       "    <tr style=\"text-align: right;\">\n",
       "      <th></th>\n",
       "      <th>0</th>\n",
       "      <th>1</th>\n",
       "      <th>2</th>\n",
       "      <th>3</th>\n",
       "    </tr>\n",
       "  </thead>\n",
       "  <tbody>\n",
       "    <tr>\n",
       "      <th>0</th>\n",
       "      <td>R</td>\n",
       "      <td>R</td>\n",
       "      <td>R</td>\n",
       "      <td>L</td>\n",
       "    </tr>\n",
       "    <tr>\n",
       "      <th>1</th>\n",
       "      <td>U</td>\n",
       "      <td>L</td>\n",
       "      <td>U</td>\n",
       "      <td>L</td>\n",
       "    </tr>\n",
       "    <tr>\n",
       "      <th>2</th>\n",
       "      <td>U</td>\n",
       "      <td>R</td>\n",
       "      <td>U</td>\n",
       "      <td>L</td>\n",
       "    </tr>\n",
       "  </tbody>\n",
       "</table>\n",
       "</div>"
      ],
      "text/plain": [
       "   0  1  2  3\n",
       "0  R  R  R  L\n",
       "1  U  L  U  L\n",
       "2  U  R  U  L"
      ]
     },
     "execution_count": 78,
     "metadata": {},
     "output_type": "execute_result"
    }
   ],
   "source": [
    "policy = np.asarray([actions[i] for i in ql.policy])\n",
    "\n",
    "pd.DataFrame(policy.reshape(grid_size))"
   ]
  },
  {
   "cell_type": "code",
   "execution_count": 79,
   "id": "eb2f62b0-549a-4771-891e-e5518aa49dbb",
   "metadata": {},
   "outputs": [
    {
     "data": {
      "text/html": [
       "<div>\n",
       "<style scoped>\n",
       "    .dataframe tbody tr th:only-of-type {\n",
       "        vertical-align: middle;\n",
       "    }\n",
       "\n",
       "    .dataframe tbody tr th {\n",
       "        vertical-align: top;\n",
       "    }\n",
       "\n",
       "    .dataframe thead th {\n",
       "        text-align: right;\n",
       "    }\n",
       "</style>\n",
       "<table border=\"1\" class=\"dataframe\">\n",
       "  <thead>\n",
       "    <tr style=\"text-align: right;\">\n",
       "      <th></th>\n",
       "      <th>0</th>\n",
       "      <th>1</th>\n",
       "      <th>2</th>\n",
       "      <th>3</th>\n",
       "    </tr>\n",
       "  </thead>\n",
       "  <tbody>\n",
       "    <tr>\n",
       "      <th>0</th>\n",
       "      <td>0.822882</td>\n",
       "      <td>0.922114</td>\n",
       "      <td>0.959083</td>\n",
       "      <td>0.00000</td>\n",
       "    </tr>\n",
       "    <tr>\n",
       "      <th>1</th>\n",
       "      <td>0.659741</td>\n",
       "      <td>0.000000</td>\n",
       "      <td>0.681807</td>\n",
       "      <td>0.00000</td>\n",
       "    </tr>\n",
       "    <tr>\n",
       "      <th>2</th>\n",
       "      <td>0.277596</td>\n",
       "      <td>0.409701</td>\n",
       "      <td>0.573479</td>\n",
       "      <td>0.26988</td>\n",
       "    </tr>\n",
       "  </tbody>\n",
       "</table>\n",
       "</div>"
      ],
      "text/plain": [
       "          0         1         2        3\n",
       "0  0.822882  0.922114  0.959083  0.00000\n",
       "1  0.659741  0.000000  0.681807  0.00000\n",
       "2  0.277596  0.409701  0.573479  0.26988"
      ]
     },
     "execution_count": 79,
     "metadata": {},
     "output_type": "execute_result"
    }
   ],
   "source": [
    "value = np.asarray(ql.V).reshape(grid_size)\n",
    "\n",
    "pd.DataFrame(value)"
   ]
  },
  {
   "cell_type": "code",
   "execution_count": null,
   "id": "474bd427-702d-4e00-820a-4f4fe30e37e5",
   "metadata": {},
   "outputs": [],
   "source": []
  }
 ],
 "metadata": {
  "kernelspec": {
   "display_name": "Python [conda env:MLAT] *",
   "language": "python",
   "name": "conda-env-MLAT-py"
  },
  "language_info": {
   "codemirror_mode": {
    "name": "ipython",
    "version": 3
   },
   "file_extension": ".py",
   "mimetype": "text/x-python",
   "name": "python",
   "nbconvert_exporter": "python",
   "pygments_lexer": "ipython3",
   "version": "3.12.9"
  }
 },
 "nbformat": 4,
 "nbformat_minor": 5
}
