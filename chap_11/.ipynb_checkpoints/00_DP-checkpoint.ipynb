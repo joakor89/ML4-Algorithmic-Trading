{
 "cells": [
  {
   "cell_type": "markdown",
   "id": "5c04fe1e-6e73-4fae-aa78-01994e829b52",
   "metadata": {},
   "source": [
    "# How to Transform Data into Factors\n",
    "\n",
    "### Loading Libraries"
   ]
  },
  {
   "cell_type": "code",
   "execution_count": 1,
   "id": "19d13a83-e14e-494f-b955-9fc030716efc",
   "metadata": {},
   "outputs": [],
   "source": [
    "# Numerical Computing\n",
    "import numpy as np\n",
    "\n",
    "# Data Manipulation\n",
    "import pandas as pd\n",
    "import pandas_datareader.data as web\n",
    "\n",
    "# Data Visualization\n",
    "import seaborn as sns\n",
    "import matplotlib.pyplot as plt\n",
    "\n",
    "# Warnings\n",
    "import warnings\n",
    "\n",
    "# Scikit-Learn\n",
    "from sklearn.feature_selection import mutual_info_classif, mutual_info_regression\n",
    "\n",
    "# from pyfinance.ols import PandasRollingOLS\n",
    "# replaces pyfinance.ols.PandasRollingOLS (no longer maintained)\n",
    "\n",
    "# StatsModels\n",
    "import statsmodels.api as sm\n",
    "from statsmodels.regression.rolling import RollingOLS\n",
    "\n",
    "# Technical Analysis\n",
    "from talib import RSI, BBANDS, MACD, NATR, ATR"
   ]
  },
  {
   "cell_type": "code",
   "execution_count": 2,
   "id": "421725b2-511d-434a-bba8-ce1a437106f3",
   "metadata": {},
   "outputs": [],
   "source": [
    "idx = pd.IndexSlice\n",
    "\n",
    "sns.set_style('whitegrid')\n",
    "\n",
    "warnings.filterwarnings('ignore')"
   ]
  },
  {
   "cell_type": "markdown",
   "id": "4e2cc800-f808-4f32-99e1-cd63b9bd4221",
   "metadata": {},
   "source": [
    "### Loading US Equity OHLCV Data"
   ]
  },
  {
   "cell_type": "code",
   "execution_count": 3,
   "id": "e0e309c5-2c59-41eb-a13e-251f242e6a83",
   "metadata": {},
   "outputs": [],
   "source": [
    "DATA_STORE = '../data/assets.h5'"
   ]
  },
  {
   "cell_type": "code",
   "execution_count": 4,
   "id": "8ce97061-61e0-4807-8a76-44b009f7fc00",
   "metadata": {},
   "outputs": [],
   "source": [
    "YEAR = 12"
   ]
  },
  {
   "cell_type": "code",
   "execution_count": 5,
   "id": "4bfa3f3e-f16f-48c7-af7e-9dffb7ffc1e4",
   "metadata": {},
   "outputs": [],
   "source": [
    "START = 1995\n",
    "\n",
    "END = 2017"
   ]
  },
  {
   "cell_type": "code",
   "execution_count": 7,
   "id": "1331f1ac-7d66-4a06-900c-a88eeec2d361",
   "metadata": {},
   "outputs": [],
   "source": [
    "with pd.HDFStore(DATA_STORE) as store:\n",
    "    prices = (store['quandl/wiki/prices']\n",
    "              .loc[idx[str(START):str(END), :], :]\n",
    "              .filter(like='adj_')\n",
    "              .dropna()\n",
    "              .swaplevel()\n",
    "              .rename(columns=lambda x: x.replace('adj_', ''))\n",
    "              .join(store['us_equities/stocks']\n",
    "                    .loc[:, ['sector']])\n",
    "              .dropna())"
   ]
  },
  {
   "cell_type": "code",
   "execution_count": 8,
   "id": "c5d11675-c07b-4169-aa87-aa2a46cfc18a",
   "metadata": {},
   "outputs": [],
   "source": [
    "prices.info(null_counts=True)"
   ]
  },
  {
   "cell_type": "code",
   "execution_count": 9,
   "id": "e09b2b5f-042e-4afd-9c44-e7f3f7be0bb7",
   "metadata": {},
   "outputs": [],
   "source": [
    "len(prices.index.unique('ticker'))"
   ]
  },
  {
   "cell_type": "markdown",
   "id": "d9a52b52-4412-41bc-a15a-521e109261f0",
   "metadata": {},
   "source": [
    "### Remove Stocks with Less than Ten Years of Data"
   ]
  },
  {
   "cell_type": "code",
   "execution_count": 10,
   "id": "49d69552-9893-484a-8bca-d04d600e6be8",
   "metadata": {},
   "outputs": [],
   "source": [
    "min_obs = 10 * 252\n",
    "\n",
    "nobs = prices.groupby(level='ticker').size()\n",
    "to_drop = nobs[nobs < min_obs].index\n",
    "prices = prices.drop(to_drop, level='ticker')"
   ]
  },
  {
   "cell_type": "code",
   "execution_count": 11,
   "id": "6fe32d67-2516-44ef-a964-0a2c92b191b5",
   "metadata": {},
   "outputs": [],
   "source": [
    "prices.info(null_counts=True)"
   ]
  },
  {
   "cell_type": "code",
   "execution_count": 12,
   "id": "2a41edc4-759a-4d3c-8bcb-1a153fcfb4ff",
   "metadata": {},
   "outputs": [],
   "source": [
    "len(prices.index.unique('ticker'))"
   ]
  },
  {
   "cell_type": "markdown",
   "id": "16bdaa2a-56f9-4f0d-bef7-9d81cbd31db3",
   "metadata": {},
   "source": [
    "### Adding some Basic Factors\n",
    "\n",
    "#### Compute the Relative Strength Index"
   ]
  },
  {
   "cell_type": "code",
   "execution_count": 13,
   "id": "33a582b5-8beb-4ba4-943e-f6a3809c65ff",
   "metadata": {},
   "outputs": [],
   "source": [
    "prices['rsi'] = prices.groupby(level='ticker').close.apply(RSI)"
   ]
  },
  {
   "cell_type": "code",
   "execution_count": 14,
   "id": "5e934ce4-ecfc-4cda-b3b9-b2f8c29cbfa3",
   "metadata": {},
   "outputs": [],
   "source": [
    "sns.distplot(prices.rsi);\n",
    "plt.show()"
   ]
  },
  {
   "cell_type": "markdown",
   "id": "f5f649b4-95df-4734-9802-7bdddf609466",
   "metadata": {},
   "source": [
    "#### Computing Bollinger Bands"
   ]
  },
  {
   "cell_type": "code",
   "execution_count": 15,
   "id": "2b6a030d-0654-4eb2-a02a-fa73c30119f3",
   "metadata": {},
   "outputs": [],
   "source": [
    "def compute_bb(close):\n",
    "    high, mid, low = BBANDS(np.log1p(close), timeperiod=20)\n",
    "    return pd.DataFrame({'bb_high': high,\n",
    "                         'bb_mid': mid,\n",
    "                         'bb_low': low}, index=close.index)"
   ]
  },
  {
   "cell_type": "code",
   "execution_count": 16,
   "id": "9cfe40ed-df68-4159-b1a2-d017a2dbdcd1",
   "metadata": {},
   "outputs": [],
   "source": [
    "prices = (prices.join(prices\n",
    "                      .groupby(level='ticker')\n",
    "                      .close\n",
    "                      .apply(compute_bb)))"
   ]
  },
  {
   "cell_type": "code",
   "execution_count": 17,
   "id": "92e36169-5875-4bed-b8a8-29d08305e6c2",
   "metadata": {},
   "outputs": [],
   "source": [
    "prices.info(null_counts=True)"
   ]
  },
  {
   "cell_type": "code",
   "execution_count": 18,
   "id": "c452fd92-1396-4673-ae15-125918101104",
   "metadata": {},
   "outputs": [],
   "source": [
    "prices.filter(like='bb_').describe()"
   ]
  },
  {
   "cell_type": "code",
   "execution_count": 19,
   "id": "5807c9be-061f-43ce-a958-8d8888d117a6",
   "metadata": {},
   "outputs": [],
   "source": [
    "fig, axes = plt.subplots(ncols=3, figsize=(15,4))\n",
    "\n",
    "for i, col in enumerate(['bb_low', 'bb_mid', 'bb_low']):\n",
    "    sns.distplot(prices[col], ax=axes[i])\n",
    "    axes[i].set_title(col);\n",
    "fig.tight_layout();\n",
    "plt.show()"
   ]
  },
  {
   "cell_type": "code",
   "execution_count": 20,
   "id": "fdf2a631-f2f3-48e0-b216-255f48a3290d",
   "metadata": {},
   "outputs": [],
   "source": [
    "prices['bb_up'] = prices.bb_high.sub(np.log1p(prices.close))\n",
    "\n",
    "prices['bb_down'] = np.log1p(prices.close).sub(prices.bb_low)"
   ]
  },
  {
   "cell_type": "code",
   "execution_count": 21,
   "id": "53870e37-2de6-4fe6-b022-a3f00797f67a",
   "metadata": {},
   "outputs": [],
   "source": [
    "fig, axes = plt.subplots(ncols=2, figsize=(10,4))\n",
    "\n",
    "for i, col in enumerate(['bb_down', 'bb_up']):\n",
    "    sns.boxenplot(prices[col], ax=axes[i])\n",
    "    axes[i].set_title(col);\n",
    "fig.tight_layout();\n",
    "plt.show()"
   ]
  },
  {
   "cell_type": "markdown",
   "id": "6b03da98-2393-423b-b99a-ae014b496abc",
   "metadata": {},
   "source": [
    "#### Computing Average True Range"
   ]
  },
  {
   "cell_type": "code",
   "execution_count": 23,
   "id": "084b9bea-6684-44cc-8f09-64e93dd228a0",
   "metadata": {},
   "outputs": [],
   "source": [
    "by_ticker = prices.groupby('ticker', group_keys=False)"
   ]
  },
  {
   "cell_type": "code",
   "execution_count": 24,
   "id": "30ef15a1-98fc-42cb-b050-030c711b767d",
   "metadata": {},
   "outputs": [],
   "source": [
    "def compute_atr(stock_data):\n",
    "    atr = ATR(stock_data.high, \n",
    "              stock_data.low, \n",
    "              stock_data.close, \n",
    "              timeperiod=14)\n",
    "    return atr.sub(atr.mean()).div(atr.std())"
   ]
  },
  {
   "cell_type": "code",
   "execution_count": 25,
   "id": "a53d9740-eeb6-4eae-aad4-82199bbfe37d",
   "metadata": {},
   "outputs": [],
   "source": [
    "prices['atr'] = by_ticker.apply(compute_atr)"
   ]
  },
  {
   "cell_type": "code",
   "execution_count": 26,
   "id": "a5e60c02-8262-4c8d-9703-db23634aca82",
   "metadata": {},
   "outputs": [],
   "source": [
    "sns.distplot(prices.atr);\n",
    "plt.show()"
   ]
  },
  {
   "cell_type": "code",
   "execution_count": 27,
   "id": "d2f14325-70d7-4a9c-820d-bfcf2a74675f",
   "metadata": {},
   "outputs": [],
   "source": [
    "prices['natr'] = by_ticker.apply(lambda x: NATR(high=x.high, low=x.low, close=x.close))"
   ]
  },
  {
   "cell_type": "code",
   "execution_count": 28,
   "id": "d2d67871-0bc5-4db4-9379-abb971bc71fb",
   "metadata": {},
   "outputs": [],
   "source": [
    "sns.distplot(prices.natr[prices.natr<10]);\n",
    "plt.show()"
   ]
  },
  {
   "cell_type": "markdown",
   "id": "15ba79d2-712c-4a13-abb2-e08e0ee576bd",
   "metadata": {},
   "source": [
    "#### Computing Moving Average Convergence/Divergence"
   ]
  },
  {
   "cell_type": "code",
   "execution_count": 30,
   "id": "383965de-60f1-4af9-91b8-86afcc496057",
   "metadata": {},
   "outputs": [],
   "source": [
    "def compute_macd(close):\n",
    "    macd = MACD(close)[0]\n",
    "    return macd.sub(macd.mean()).div(macd.std())"
   ]
  },
  {
   "cell_type": "code",
   "execution_count": 31,
   "id": "e57517a8-1a8c-4760-9891-6d27bb780ac3",
   "metadata": {},
   "outputs": [],
   "source": [
    "prices['macd'] = prices.groupby(level='ticker').close.apply(compute_macd)"
   ]
  },
  {
   "cell_type": "code",
   "execution_count": 32,
   "id": "046c4e91-02a1-4b54-92bd-5ee13385555e",
   "metadata": {},
   "outputs": [],
   "source": [
    "sns.distplot(prices.macd);\n",
    "plt.show()"
   ]
  },
  {
   "cell_type": "markdown",
   "id": "f8fc485b-8e90-4a8e-83ab-e6a0f14e2924",
   "metadata": {},
   "source": [
    "#### Computing Dollar Volume to Determine Universe"
   ]
  },
  {
   "cell_type": "code",
   "execution_count": 33,
   "id": "954d1183-c085-460e-936e-f36920add828",
   "metadata": {},
   "outputs": [],
   "source": [
    "prices['dollar_volume'] = (prices.loc[:, 'close']\n",
    "                           .mul(prices.loc[:, 'volume'], axis=0))\n",
    "\n",
    "prices.dollar_volume /= 1e6"
   ]
  },
  {
   "cell_type": "code",
   "execution_count": 34,
   "id": "6dd19d6a-9327-40db-b0bc-e7dcda07b676",
   "metadata": {},
   "outputs": [],
   "source": [
    "prices.to_hdf('data.h5', 'us/equities/prices')"
   ]
  },
  {
   "cell_type": "code",
   "execution_count": 35,
   "id": "27923f70-5e3a-4ab2-9e62-b1364e611c57",
   "metadata": {},
   "outputs": [],
   "source": [
    "prices = pd.read_hdf('data.h5', 'us/equities/prices')\n",
    "\n",
    "prices.info(null_counts=True)"
   ]
  },
  {
   "cell_type": "markdown",
   "id": "956e8db6-c992-423d-83e6-584ccae36d4d",
   "metadata": {},
   "source": [
    "### Resample OHLCV Prices to Monthly Frequency"
   ]
  },
  {
   "cell_type": "code",
   "execution_count": 36,
   "id": "0234717b-8363-4bc8-8534-9069db4a9d9d",
   "metadata": {},
   "outputs": [],
   "source": [
    "last_cols = [c for c in prices.columns.unique(0) if c not in ['dollar_volume', 'volume',\n",
    "                                                              'open', 'high', 'low']]"
   ]
  },
  {
   "cell_type": "code",
   "execution_count": 37,
   "id": "f2daa269-5f62-44f9-ba86-a017d8a561f7",
   "metadata": {},
   "outputs": [],
   "source": [
    "prices = prices.unstack('ticker')"
   ]
  },
  {
   "cell_type": "code",
   "execution_count": 38,
   "id": "1ece58c9-0f11-48f2-8d33-2259c7838991",
   "metadata": {},
   "outputs": [],
   "source": [
    "data = (pd.concat([prices.dollar_volume.resample('M').mean().stack('ticker').to_frame('dollar_volume'),\n",
    "                   prices[last_cols].resample('M').last().stack('ticker')],\n",
    "                  axis=1)\n",
    "        .swaplevel()\n",
    "        .dropna())"
   ]
  },
  {
   "cell_type": "code",
   "execution_count": 39,
   "id": "e52b8263-d052-46e5-bbf7-7d0a80eb6552",
   "metadata": {},
   "outputs": [],
   "source": [
    "data.info()"
   ]
  },
  {
   "cell_type": "markdown",
   "id": "517ec3a1-7085-4422-adcb-eab25655cc40",
   "metadata": {},
   "source": [
    "### Selecting 500 Most-Traded Equities"
   ]
  },
  {
   "cell_type": "code",
   "execution_count": 40,
   "id": "79b044fb-3a08-4073-a329-e12ff1634abe",
   "metadata": {},
   "outputs": [],
   "source": [
    "data['dollar_volume'] = (data.loc[:, 'dollar_volume']\n",
    "                         .unstack('ticker')\n",
    "                         .rolling(window=5*12, min_periods=12)\n",
    "                         .mean()\n",
    "                         .stack()\n",
    "                         .swaplevel())"
   ]
  },
  {
   "cell_type": "code",
   "execution_count": 41,
   "id": "c5acfc14-55de-4a99-80ac-39a5c8af6a18",
   "metadata": {},
   "outputs": [],
   "source": [
    "data['dollar_vol_rank'] = (data\n",
    "                           .groupby('date')\n",
    "                           .dollar_volume\n",
    "                           .rank(ascending=False))\n",
    "\n",
    "data = data[data.dollar_vol_rank < 500].drop(['dollar_volume', 'dollar_vol_rank'], axis=1)"
   ]
  },
  {
   "cell_type": "code",
   "execution_count": 42,
   "id": "905d7427-5fc3-4ed4-a11a-f228dd213196",
   "metadata": {},
   "outputs": [],
   "source": [
    "len(data.index.unique('ticker'))"
   ]
  },
  {
   "cell_type": "markdown",
   "id": "81fb18fd-32ec-4d68-ab8c-3e310ca823d5",
   "metadata": {},
   "source": [
    "### Creating Monthly Return Series"
   ]
  },
  {
   "cell_type": "code",
   "execution_count": 43,
   "id": "115cfeb5-9b43-42b0-b501-032dcfb9f973",
   "metadata": {},
   "outputs": [],
   "source": [
    "outlier_cutoff = 0.01\n",
    "\n",
    "lags = [1, 3, 6, 12]\n",
    "\n",
    "returns = []"
   ]
  },
  {
   "cell_type": "code",
   "execution_count": 44,
   "id": "c8eed6a2-f2c8-4ea9-89e0-5809abc2e4fb",
   "metadata": {},
   "outputs": [],
   "source": [
    "for lag in lags:\n",
    "    returns.append(data\n",
    "                   .close\n",
    "                   .unstack('ticker')\n",
    "                   .sort_index()\n",
    "                   .pct_change(lag)\n",
    "                   .stack('ticker')\n",
    "                   .pipe(lambda x: x.clip(lower=x.quantile(outlier_cutoff),\n",
    "                                          upper=x.quantile(1-outlier_cutoff)))\n",
    "                   .add(1)\n",
    "                   .pow(1/lag)\n",
    "                   .sub(1)\n",
    "                   .to_frame(f'return_{lag}m')\n",
    "                   )\n",
    "    \n",
    "returns = pd.concat(returns, axis=1).swaplevel()\n",
    "returns.info(null_counts=True)"
   ]
  },
  {
   "cell_type": "code",
   "execution_count": 45,
   "id": "c36612ea-7bbb-470c-8b1e-70123f43c90d",
   "metadata": {},
   "outputs": [],
   "source": [
    "returns.describe()"
   ]
  },
  {
   "cell_type": "code",
   "execution_count": 46,
   "id": "5450631a-a307-4d7b-9db3-104080f866bd",
   "metadata": {},
   "outputs": [],
   "source": [
    "cmap = sns.diverging_palette(10, 220, as_cmap=True)\n",
    "sns.clustermap(returns.corr('spearman'), annot=True, center=0, cmap=cmap);\n",
    "plt.show()"
   ]
  },
  {
   "cell_type": "code",
   "execution_count": 47,
   "id": "aa2b5259-39e7-4808-90a8-5fed89041742",
   "metadata": {},
   "outputs": [],
   "source": [
    "data = data.join(returns).drop('close', axis=1).dropna()\n",
    "data.info(null_counts=True)"
   ]
  },
  {
   "cell_type": "code",
   "execution_count": 48,
   "id": "8f31c07d-f801-43a1-b280-9a213e3ccb37",
   "metadata": {},
   "outputs": [],
   "source": [
    "min_obs = 5*12\n",
    "\n",
    "nobs = data.groupby(level='ticker').size()\n",
    "to_drop = nobs[nobs < min_obs].index\n",
    "data = data.drop(to_drop, level='ticker')"
   ]
  },
  {
   "cell_type": "code",
   "execution_count": 49,
   "id": "39cb581e-e94b-4b64-a6c4-d8d297fd5b5e",
   "metadata": {},
   "outputs": [],
   "source": [
    "len(data.index.unique('ticker'))"
   ]
  },
  {
   "cell_type": "markdown",
   "id": "f250cff5-72f9-4c41-aa30-77f390005c12",
   "metadata": {},
   "source": [
    "### Rolling Factor Betas"
   ]
  },
  {
   "cell_type": "code",
   "execution_count": 50,
   "id": "c0b479f8-3f97-437d-b1a3-62b3effbc042",
   "metadata": {},
   "outputs": [],
   "source": [
    "factors = ['Mkt-RF', 'SMB', 'HML', 'RMW', 'CMA']\n",
    "\n",
    "factor_data = web.DataReader('F-F_Research_Data_5_Factors_2x3', \n",
    "                             'famafrench', \n",
    "                             start=START)[0].drop('RF', axis=1)\n",
    "\n",
    "factor_data.index = factor_data.index.to_timestamp()\n",
    "factor_data = factor_data.resample('M').last().div(100)\n",
    "factor_data.index.name = 'date'\n",
    "factor_data.info()"
   ]
  },
  {
   "cell_type": "code",
   "execution_count": 51,
   "id": "8fbf0589-876d-449a-a09d-69c6bdc244d3",
   "metadata": {},
   "outputs": [],
   "source": [
    "factor_data = factor_data.join(data['return_1m']).dropna().sort_index()\n",
    "factor_data['return_1m'] -= factor_data['Mkt-RF']\n",
    "factor_data.info()"
   ]
  },
  {
   "cell_type": "code",
   "execution_count": 52,
   "id": "77a83936-ab24-406a-83f1-1112e292aa85",
   "metadata": {},
   "outputs": [],
   "source": [
    "factor_data.describe()"
   ]
  },
  {
   "cell_type": "code",
   "execution_count": 53,
   "id": "9860045e-2847-4634-9375-4d5e153ee30a",
   "metadata": {},
   "outputs": [],
   "source": [
    "T = 60\n",
    "# betas = (factor_data\n",
    "#          .groupby(level='ticker', group_keys=False)\n",
    "#          .apply(lambda x: PandasRollingOLS(window=min(T, x.shape[0]-1), \n",
    "#                                            y=x.return_1m, \n",
    "#                                            x=x.drop('return_1m', axis=1)).beta)\n",
    "#         .rename(columns={'Mkt-RF': 'beta'}))\n",
    "betas = (factor_data.groupby(level='ticker',\n",
    "                             group_keys=False)\n",
    "         .apply(lambda x: RollingOLS(endog=x.return_1m,\n",
    "                                     exog=sm.add_constant(x.drop('return_1m', axis=1)),\n",
    "                                     window=min(T, x.shape[0]-1))\n",
    "                .fit(params_only=True)\n",
    "                .params\n",
    "                .rename(columns={'Mkt-RF': 'beta'})\n",
    "                .drop('const', axis=1)))"
   ]
  },
  {
   "cell_type": "code",
   "execution_count": 54,
   "id": "ac057df3-afa1-4dc3-aa74-9ea26c29b127",
   "metadata": {},
   "outputs": [],
   "source": [
    "betas.describe().join(betas.sum(1).describe().to_frame('total'))"
   ]
  },
  {
   "cell_type": "code",
   "execution_count": 55,
   "id": "4b667ee3-fd53-4bc8-871d-b59c06145a8e",
   "metadata": {},
   "outputs": [],
   "source": [
    "betas.describe().join(betas.sum(1).describe().to_frame('total'))"
   ]
  },
  {
   "cell_type": "code",
   "execution_count": 56,
   "id": "b9530c15-cee2-40ee-9fcb-b8e6b8de230b",
   "metadata": {},
   "outputs": [],
   "source": [
    "cmap = sns.diverging_palette(10, 220, as_cmap=True)\n",
    "sns.clustermap(betas.corr(), annot=True, cmap=cmap, center=0);\n",
    "plt.show()"
   ]
  },
  {
   "cell_type": "code",
   "execution_count": 57,
   "id": "c1437076-bac6-460b-b3a0-fe591b637800",
   "metadata": {},
   "outputs": [],
   "source": [
    "data = (data\n",
    "        .join(betas\n",
    "              .groupby(level='ticker')\n",
    "              .shift())\n",
    "       .dropna()\n",
    "       .sort_index())"
   ]
  },
  {
   "cell_type": "code",
   "execution_count": 58,
   "id": "fba73fb9-89f1-4955-9a5f-b5229b50272e",
   "metadata": {},
   "outputs": [],
   "source": [
    "data.info()"
   ]
  },
  {
   "cell_type": "markdown",
   "id": "068a6393-ffff-4cff-946e-457ff9e09b92",
   "metadata": {},
   "source": [
    "### Momentum Factors"
   ]
  },
  {
   "cell_type": "code",
   "execution_count": 59,
   "id": "9cd46d88-ac48-4434-945c-4885936d1f78",
   "metadata": {},
   "outputs": [],
   "source": [
    "for lag in [3, 6, 12]:\n",
    "    data[f'momentum_{lag}'] = data[f'return_{lag}m'].sub(data.return_1m)\n",
    "    if lag > 3:\n",
    "        data[f'momentum_3_{lag}'] = data[f'return_{lag}m'].sub(data.return_3m)    "
   ]
  },
  {
   "cell_type": "markdown",
   "id": "e377f4f3-f848-442e-9f68-fd526050e497",
   "metadata": {},
   "source": [
    "### Date Indicators"
   ]
  },
  {
   "cell_type": "code",
   "execution_count": 60,
   "id": "aceef83b-c9ea-4ec0-b842-8749ff857c67",
   "metadata": {},
   "outputs": [],
   "source": [
    "dates = data.index.get_level_values('date')\n",
    "\n",
    "data['year'] = dates.year\n",
    "data['month'] = dates.month"
   ]
  },
  {
   "cell_type": "markdown",
   "id": "8f888840-0378-4541-9a5c-82c28dc64a48",
   "metadata": {},
   "source": [
    "### Target: Holding Period Returns"
   ]
  },
  {
   "cell_type": "code",
   "execution_count": 61,
   "id": "ed51c539-b231-4475-aa26-50726cef82ca",
   "metadata": {},
   "outputs": [],
   "source": [
    "data['target'] = data.groupby(level='ticker')[f'return_1m'].shift(-1)"
   ]
  },
  {
   "cell_type": "code",
   "execution_count": 62,
   "id": "85f89a9f-8b16-464b-804e-2f7142a6ab39",
   "metadata": {},
   "outputs": [],
   "source": [
    "data = data.dropna()"
   ]
  },
  {
   "cell_type": "code",
   "execution_count": 63,
   "id": "be8d8cdc-c0db-4aac-afed-48c60dcddd86",
   "metadata": {},
   "outputs": [],
   "source": [
    "data.sort_index().info(null_counts=True)"
   ]
  },
  {
   "cell_type": "markdown",
   "id": "df8173b1-954b-41f9-aa7d-33b2c40f90fb",
   "metadata": {},
   "source": [
    "### Sector Breakdown"
   ]
  },
  {
   "cell_type": "code",
   "execution_count": 64,
   "id": "a3baeebc-b58c-43da-be8a-edec11e33fb0",
   "metadata": {},
   "outputs": [],
   "source": [
    "ax = data.reset_index().groupby('sector').ticker.nunique().sort_values().plot.barh(title='Sector Breakdown')\n",
    "ax.set_ylabel('')\n",
    "ax.set_xlabel('# Tickers')\n",
    "sns.despine()\n",
    "plt.tight_layout();\n",
    "plt.show()"
   ]
  },
  {
   "cell_type": "markdown",
   "id": "5bda1d95-3d98-49f8-b617-56937cd7aab1",
   "metadata": {},
   "source": [
    "### Store Data"
   ]
  },
  {
   "cell_type": "code",
   "execution_count": 65,
   "id": "ec46a13e-6b2c-4fb3-a422-5d74a8f7839e",
   "metadata": {},
   "outputs": [],
   "source": [
    "with pd.HDFStore('data.h5') as store:\n",
    "    store.put('us/equities/monthly', data)"
   ]
  },
  {
   "cell_type": "markdown",
   "id": "f46a57ca-bf28-46c8-8a1f-5a0381ae10c2",
   "metadata": {},
   "source": [
    "### Evaluate Mutual Information"
   ]
  },
  {
   "cell_type": "code",
   "execution_count": 66,
   "id": "e13f1bdc-67b4-4917-9d88-e15d3a7f037a",
   "metadata": {},
   "outputs": [],
   "source": [
    "X = data.drop('target', axis=1)\n",
    "\n",
    "X.sector = pd.factorize(X.sector)[0]"
   ]
  },
  {
   "cell_type": "code",
   "execution_count": 67,
   "id": "096fc0e9-86d1-4b44-b116-287ce397e00e",
   "metadata": {},
   "outputs": [],
   "source": [
    "mi = mutual_info_regression(X=X, y=data.target)"
   ]
  },
  {
   "cell_type": "code",
   "execution_count": 68,
   "id": "1bfaff22-00da-4fc8-bdb4-44466c4d74f6",
   "metadata": {},
   "outputs": [],
   "source": [
    "mi_reg = pd.Series(mi, index=X.columns)\n",
    "\n",
    "mi_reg.nlargest(10)"
   ]
  },
  {
   "cell_type": "code",
   "execution_count": 69,
   "id": "69cbf626-3776-4650-81da-0def6477f841",
   "metadata": {},
   "outputs": [],
   "source": [
    "mi = mutual_info_classif(X=X, y=(data.target>0).astype(int))"
   ]
  },
  {
   "cell_type": "code",
   "execution_count": 70,
   "id": "dd6ee8cd-acd1-416b-b5a6-f70661fabf5e",
   "metadata": {},
   "outputs": [],
   "source": [
    "mi_class = pd.Series(mi, index=X.columns)\n",
    "\n",
    "mi_class.nlargest(10)"
   ]
  },
  {
   "cell_type": "code",
   "execution_count": 71,
   "id": "2b5f3503-bba7-4303-9f3b-3345b03168ba",
   "metadata": {},
   "outputs": [],
   "source": [
    "mi = mi_reg.to_frame('Regression').join(mi_class.to_frame('Classification')"
   ]
  },
  {
   "cell_type": "code",
   "execution_count": 72,
   "id": "3ee05731-08d0-4ead-9fdc-c5446e38ce0e",
   "metadata": {},
   "outputs": [],
   "source": [
    "mi.index = [' '.join(c.upper().split('_')) for c in mi.index]"
   ]
  },
  {
   "cell_type": "code",
   "execution_count": 73,
   "id": "914d6b60-d0c2-42af-a248-e85e9e67ce5d",
   "metadata": {},
   "outputs": [],
   "source": [
    "fig, axes = plt.subplots(ncols=2, figsize=(12, 4))\n",
    "\n",
    "for i, t in enumerate(['Regression', 'Classification']):\n",
    "    mi[t].nlargest(20).sort_values().plot.barh(title=t, ax=axes[i])\n",
    "    axes[i].set_xlabel('Mutual Information')\n",
    "\n",
    "fig.suptitle('Mutual Information', fontsize=14)\n",
    "sns.despine()\n",
    "fig.tight_layout()\n",
    "fig.subplots_adjust(top=.9)\n",
    "plt.show()"
   ]
  },
  {
   "cell_type": "code",
   "execution_count": null,
   "id": "0c387a63-e599-400d-8260-c3af0f3dbf03",
   "metadata": {},
   "outputs": [],
   "source": []
  }
 ],
 "metadata": {
  "kernelspec": {
   "display_name": "Python 3 (ipykernel)",
   "language": "python",
   "name": "python3"
  },
  "language_info": {
   "codemirror_mode": {
    "name": "ipython",
    "version": 3
   },
   "file_extension": ".py",
   "mimetype": "text/x-python",
   "name": "python",
   "nbconvert_exporter": "python",
   "pygments_lexer": "ipython3",
   "version": "3.12.9"
  }
 },
 "nbformat": 4,
 "nbformat_minor": 5
}
