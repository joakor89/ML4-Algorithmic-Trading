{
 "cells": [
  {
   "cell_type": "markdown",
   "id": "cb9289ab-85c8-44b5-b934-5dd323e05dd2",
   "metadata": {},
   "source": [
    "# Testing The Signal Quality with Alphalens\n",
    "\n",
    "### Loading Libraries"
   ]
  },
  {
   "cell_type": "code",
   "execution_count": 1,
   "id": "ebe775b2-2451-4342-8191-12017114c305",
   "metadata": {},
   "outputs": [],
   "source": [
    "# Warnings\n",
    "import warnings\n",
    "\n",
    "# Numerical Computing\n",
    "import numpy as np\n",
    "\n",
    "# Data Manipulation\n",
    "import pandas as pd\n",
    "\n",
    "# Data visualization\n",
    "import seaborn as sns\n",
    "import matplotlib.pyplot as plt\n",
    "\n",
    "# Technical Analysis\n",
    "import talib\n",
    "\n",
    "# SciPy\n",
    "from scipy.stats import spearmanr\n",
    "\n",
    "# Path\n",
    "from pathlib import Path\n",
    "from itertools import product\n",
    "\n",
    "# OS & Time\n",
    "import sys, os\n",
    "from time import time\n",
    "from io import StringIO\n",
    "\n",
    "# Notebook Optimizer\n",
    "from tqdm import tqdm\n",
    "\n",
    "# StatsModel\n",
    "import statsmodels.api as sm\n",
    "\n",
    "# Scikit-Learn\n",
    "from sklearn.linear_model import LinearRegression\n",
    "\n",
    "# LightBoosting Gradient\n",
    "import lightgbm as lgb\n",
    "\n",
    "# AlphaLens\n",
    "from alphalens.tears import (create_summary_tear_sheet,\n",
    "                             create_full_tear_sheet)\n",
    "\n",
    "from alphalens.utils import get_clean_factor_and_forward_returns"
   ]
  },
  {
   "cell_type": "code",
   "execution_count": 2,
   "id": "02cc3892-8d6d-431e-b51a-c671a5bca972",
   "metadata": {},
   "outputs": [],
   "source": [
    "np.random.seed(42)\n",
    "\n",
    "sns.set_style('white')\n",
    "\n",
    "warnings.filterwarnings('ignore')"
   ]
  },
  {
   "cell_type": "code",
   "execution_count": 3,
   "id": "2b967047-1973-4fba-90c1-ec92a91121a9",
   "metadata": {},
   "outputs": [],
   "source": [
    "idx = pd.IndexSlice"
   ]
  },
  {
   "cell_type": "code",
   "execution_count": 4,
   "id": "2779d816-3a98-4496-8cf2-2ae8294bdc0d",
   "metadata": {},
   "outputs": [],
   "source": [
    "results_path = Path('results', 'return_predictions')\n",
    "\n",
    "if not results_path.exists():\n",
    "    results_path.mkdir(parents=True)"
   ]
  },
  {
   "cell_type": "markdown",
   "id": "ea390b94-ecc9-4ef4-a6de-3819b2cf7b93",
   "metadata": {},
   "source": [
    "### Evaluating The Cross-Validation Results"
   ]
  },
  {
   "cell_type": "code",
   "execution_count": 6,
   "id": "080e5736-0be5-4ee3-9bad-5d3822028a36",
   "metadata": {},
   "outputs": [],
   "source": [
    "lookahead = 1"
   ]
  },
  {
   "cell_type": "code",
   "execution_count": 7,
   "id": "b930909b-d6ed-47c4-ad20-a3d9de981dcc",
   "metadata": {},
   "outputs": [],
   "source": [
    "cv_store = Path(results_path / 'parameter_tuning.h5')"
   ]
  },
  {
   "cell_type": "markdown",
   "id": "25811b9f-5144-44e1-971c-0a9ae17ac05c",
   "metadata": {},
   "source": [
    "### Getting AlphaLens Input"
   ]
  },
  {
   "cell_type": "code",
   "execution_count": 8,
   "id": "49fe8254-9b50-49d8-aeb0-5c4873fd7228",
   "metadata": {},
   "outputs": [],
   "source": [
    "DATA_DIR = Path('..', 'data')"
   ]
  },
  {
   "cell_type": "code",
   "execution_count": 9,
   "id": "c8b0569f-480b-4984-a717-3387e5636e0f",
   "metadata": {},
   "outputs": [],
   "source": [
    "def get_trade_prices(tickers):\n",
    "    store = DATA_DIR / 'assets.h5'\n",
    "    prices = pd.read_hdf(store, 'stooq/jp/tse/stocks/prices')\n",
    "    return (prices.loc[idx[tickers, '2014': '2019'], 'open']\n",
    "            .unstack('ticker')\n",
    "            .sort_index()\n",
    "            .shift(-1)\n",
    "            .dropna()\n",
    "            .tz_localize('UTC'))"
   ]
  },
  {
   "cell_type": "code",
   "execution_count": 11,
   "id": "53b80bf0-11d7-498b-9be5-806b70b2ad06",
   "metadata": {},
   "outputs": [],
   "source": [
    "best_predictions = pd.read_hdf(results_path / 'predictions.h5', f'test/{lookahead:02}')\n",
    "best_predictions.info()"
   ]
  },
  {
   "cell_type": "code",
   "execution_count": 12,
   "id": "f7e87072-a11d-4b5f-8abe-c1613acee237",
   "metadata": {},
   "outputs": [],
   "source": [
    "test_tickers = best_predictions.index.get_level_values('ticker').unique()"
   ]
  },
  {
   "cell_type": "code",
   "execution_count": 13,
   "id": "de5f7f00-5736-4402-ad68-46eb0de2ec56",
   "metadata": {},
   "outputs": [],
   "source": [
    "trade_prices = get_trade_prices(test_tickers)\n",
    "trade_prices.info()"
   ]
  },
  {
   "cell_type": "code",
   "execution_count": 14,
   "id": "c849050c-1f4c-4742-9629-c39b428c9c93",
   "metadata": {},
   "outputs": [],
   "source": [
    "factor = (best_predictions\n",
    "          .iloc[:, :3]\n",
    "          .mean(1)\n",
    "          .tz_localize('UTC', level='date')\n",
    "          .swaplevel()\n",
    "          .dropna()\n",
    "          .reset_index()\n",
    "          .drop_duplicates()\n",
    "          .set_index(['date', 'ticker']))"
   ]
  },
  {
   "cell_type": "code",
   "execution_count": 15,
   "id": "b024da94-0b8d-4ce3-b31e-83ef727cfe0a",
   "metadata": {},
   "outputs": [],
   "source": [
    "factor_data = get_clean_factor_and_forward_returns(factor=factor,\n",
    "                                                   prices=trade_prices,\n",
    "                                                   quantiles=5,\n",
    "                                                   periods=(1, 5, 10, 21))\n",
    "factor_data.sort_index().info()"
   ]
  },
  {
   "cell_type": "markdown",
   "id": "3b85c645-cf6b-4e05-a7fa-f243e3f33757",
   "metadata": {},
   "source": [
    "### Summary Tearsheet"
   ]
  },
  {
   "cell_type": "code",
   "execution_count": 16,
   "id": "a53a6e8d-f153-4d46-9681-4d038814d081",
   "metadata": {},
   "outputs": [],
   "source": [
    "create_summary_tear_sheet(factor_data)"
   ]
  },
  {
   "cell_type": "markdown",
   "id": "e9a653b7-ebc8-4692-8818-b9cf6754f456",
   "metadata": {},
   "source": [
    "### Evaluating The Out-of-Sample Predictions\n",
    "\n",
    "#### Preparing Factor Data"
   ]
  },
  {
   "cell_type": "code",
   "execution_count": 17,
   "id": "d0228eed-252b-4792-976a-73945b5f3c28",
   "metadata": {},
   "outputs": [],
   "source": [
    "t = 1\n",
    "\n",
    "predictions = pd.read_hdf(results_path / 'predictions.h5',\n",
    "                          f'test/{t:02}').drop('y_test', axis=1)"
   ]
  },
  {
   "cell_type": "code",
   "execution_count": 18,
   "id": "c468225d-a5ce-412f-a33e-6c30ba0bb907",
   "metadata": {},
   "outputs": [],
   "source": [
    "predictions.info()"
   ]
  },
  {
   "cell_type": "code",
   "execution_count": 19,
   "id": "47db247f-87fb-4488-b84c-7f7aef27d6c7",
   "metadata": {},
   "outputs": [],
   "source": [
    "factor = (predictions.iloc[:, :10]\n",
    "                   .mean(1)\n",
    "                   .sort_index().tz_localize('UTC', level='date').swaplevel().dropna())\n",
    "\n",
    "factor.head()"
   ]
  },
  {
   "cell_type": "markdown",
   "id": "ee3f30a4-661b-471f-b5f0-a8fd24073899",
   "metadata": {},
   "source": [
    "### Next Available Trade Prices Selection"
   ]
  },
  {
   "cell_type": "code",
   "execution_count": 20,
   "id": "3f0ccbbd-7782-4334-82f7-5dce48a5c66d",
   "metadata": {},
   "outputs": [],
   "source": [
    "tickers = factor.index.get_level_values('ticker').unique()\n",
    "trade_prices = get_trade_prices(tickers)\n",
    "\n",
    "trade_prices.info()"
   ]
  },
  {
   "cell_type": "markdown",
   "id": "b14b5269-572a-4d3e-b47c-3d165bb45c22",
   "metadata": {},
   "source": [
    "### Getting AlphaLens Inputs"
   ]
  },
  {
   "cell_type": "code",
   "execution_count": 21,
   "id": "8316fd35-6d15-495d-8714-08437c2ee600",
   "metadata": {},
   "outputs": [],
   "source": [
    "factor_data = get_clean_factor_and_forward_returns(factor=factor,\n",
    "                                                   prices=trade_prices,\n",
    "                                                   quantiles=5,\n",
    "                                                   periods=(1, 5, 10, 21))\n",
    "\n",
    "factor_data.sort_index().info()"
   ]
  },
  {
   "cell_type": "markdown",
   "id": "80825440-1322-4f0e-a77e-577ccd94f874",
   "metadata": {},
   "source": [
    "### Summary Tearsheet"
   ]
  },
  {
   "cell_type": "code",
   "execution_count": 22,
   "id": "adeb0a3f-383d-46a8-8176-d372e7131082",
   "metadata": {},
   "outputs": [],
   "source": [
    "create_summary_tear_sheet(factor_data)"
   ]
  },
  {
   "cell_type": "code",
   "execution_count": null,
   "id": "040f226e-628b-4883-a262-6d52c8474385",
   "metadata": {},
   "outputs": [],
   "source": []
  }
 ],
 "metadata": {
  "kernelspec": {
   "display_name": "Python 3 (ipykernel)",
   "language": "python",
   "name": "python3"
  },
  "language_info": {
   "codemirror_mode": {
    "name": "ipython",
    "version": 3
   },
   "file_extension": ".py",
   "mimetype": "text/x-python",
   "name": "python",
   "nbconvert_exporter": "python",
   "pygments_lexer": "ipython3",
   "version": "3.12.9"
  }
 },
 "nbformat": 4,
 "nbformat_minor": 5
}
