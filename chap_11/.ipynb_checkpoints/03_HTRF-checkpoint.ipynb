{
 "cells": [
  {
   "cell_type": "markdown",
   "id": "31da0a8b-45f8-4566-b5f8-b31670074416",
   "metadata": {},
   "source": [
    "# How to Train & Tune a Random Forest\n",
    "\n",
    "### Loading Libraries"
   ]
  },
  {
   "cell_type": "code",
   "execution_count": 2,
   "id": "21c52613-914d-42c0-a52d-7b5bd82ca076",
   "metadata": {},
   "outputs": [],
   "source": [
    "# OS\n",
    "import os, sys\n",
    "\n",
    "# Numerical Computing\n",
    "import numpy as np\n",
    "from numpy.random import choice, normal\n",
    "\n",
    "# Data Manipulation\n",
    "import pandas as pd\n",
    "\n",
    "# Data Visualization\n",
    "import seaborn as sns\n",
    "import matplotlib.pyplot as plt\n",
    "\n",
    "# SciPy\n",
    "from scipy.stats import spearmanr\n",
    "\n",
    "# Warnings\n",
    "import warnings\n",
    "\n",
    "# Path\n",
    "from pathlib import Path\n",
    "\n",
    "# JobLib\n",
    "import joblib\n",
    "\n",
    "# Scikit-Learn\n",
    "from sklearn.metrics import make_scorer\n",
    "from sklearn.tree import DecisionTreeRegressor\n",
    "from sklearn.model_selection import GridSearchCV, cross_val_score\n",
    "from sklearn.ensemble import BaggingRegressor, RandomForestRegressor, RandomForestClassifier"
   ]
  },
  {
   "cell_type": "code",
   "execution_count": 5,
   "id": "4451c1d9-f207-4a31-bb8a-ab2c63c74dd0",
   "metadata": {},
   "outputs": [],
   "source": [
    "# Utils- Outside Library\n",
    "from utils import MultipleTimeSeriesCV"
   ]
  },
  {
   "cell_type": "code",
   "execution_count": 6,
   "id": "db0d0c18-85a9-46b2-a8e9-0ff7aa02e9f0",
   "metadata": {},
   "outputs": [],
   "source": [
    "sys.path.insert(1, os.path.join(sys.path[0], '..'))"
   ]
  },
  {
   "cell_type": "code",
   "execution_count": 7,
   "id": "e7cc27cc-87ef-4a41-86b7-a54d6537ba3b",
   "metadata": {},
   "outputs": [],
   "source": [
    "sns.set_style('white')\n",
    "\n",
    "np.random.seed(seed=42)\n",
    "\n",
    "warnings.filterwarnings('ignore')"
   ]
  },
  {
   "cell_type": "code",
   "execution_count": 8,
   "id": "f843779f-2bd5-4998-a017-2ba0e692ad15",
   "metadata": {},
   "outputs": [],
   "source": [
    "results_path = Path('results', 'random_forest')\n",
    "\n",
    "if not results_path.exists():\n",
    "    results_path.mkdir(parents=True)"
   ]
  },
  {
   "cell_type": "markdown",
   "id": "eb39a323-d495-4699-9b83-10d1c6258a8f",
   "metadata": {},
   "source": [
    "### Getting Data"
   ]
  },
  {
   "cell_type": "code",
   "execution_count": 10,
   "id": "97740f6a-1611-47e2-8e7b-a5df2c98c2ae",
   "metadata": {},
   "outputs": [],
   "source": [
    "with pd.HDFStore('data.h5') as store:\n",
    "    data =store['us/equities/monthly']\n",
    "\n",
    "data.info()"
   ]
  },
  {
   "cell_type": "code",
   "execution_count": 11,
   "id": "cee2777c-a173-4247-821d-67831744551a",
   "metadata": {},
   "outputs": [],
   "source": [
    "y = data.target\n",
    "y_binary = (y > 0).astype(int)\n",
    "\n",
    "X = pd.get_dummies(data.drop('target', axis=1))"
   ]
  },
  {
   "cell_type": "markdown",
   "id": "9ba7a51f-0fa1-48e9-9ba8-e935f471c0ec",
   "metadata": {},
   "source": [
    "### Random Forests\n",
    "\n",
    "#### Cross-Validation Parameters"
   ]
  },
  {
   "cell_type": "code",
   "execution_count": 12,
   "id": "fc8cb90a-3978-4749-951f-27098fa7ea4e",
   "metadata": {},
   "outputs": [],
   "source": [
    "n_splits = 10\n",
    "train_period_length = 60\n",
    "test_period_length = 6\n",
    "lookahead = 1\n",
    "\n",
    "cv = MultipleTimeSeriesCV(n_splits=n_splits,\n",
    "                          train_period_length=train_period_length,\n",
    "                          test_period_length=test_period_length,\n",
    "                          lookahead=lookahead)"
   ]
  },
  {
   "cell_type": "markdown",
   "id": "53587089-cadd-4476-abd8-66f5b35fb9b4",
   "metadata": {},
   "source": [
    "#### Classifier"
   ]
  },
  {
   "cell_type": "code",
   "execution_count": 13,
   "id": "c91144aa-263d-4785-bcf6-2179c953959d",
   "metadata": {},
   "outputs": [],
   "source": [
    "rf_clf = RandomForestClassifier(n_estimators=100,       \n",
    "                                criterion='gini', \n",
    "                                max_depth=None, \n",
    "                                min_samples_split=2, \n",
    "                                min_samples_leaf=1, \n",
    "                                min_weight_fraction_leaf=0.0, \n",
    "                                max_features='auto',\n",
    "                                max_leaf_nodes=None, \n",
    "                                min_impurity_decrease=0.0, \n",
    "                                min_impurity_split=None, \n",
    "                                bootstrap=True, \n",
    "                                oob_score=True, \n",
    "                                n_jobs=-1,\n",
    "                                random_state=42, \n",
    "                                verbose=1)"
   ]
  },
  {
   "cell_type": "markdown",
   "id": "c4e831e6-ffdc-421d-b911-e32085c82974",
   "metadata": {},
   "source": [
    "#### Cross-Validation with Default Settings"
   ]
  },
  {
   "cell_type": "code",
   "execution_count": 14,
   "id": "2af05219-6ed8-405c-9d1d-3ace9d22cabf",
   "metadata": {},
   "outputs": [],
   "source": [
    "cv_score = cross_val_score(estimator=rf_clf,\n",
    "                           X=X,\n",
    "                           y=y_binary,\n",
    "                           scoring='roc_auc',\n",
    "                           cv=cv,\n",
    "                           n_jobs=-1,\n",
    "                           verbose=1)"
   ]
  },
  {
   "cell_type": "code",
   "execution_count": 15,
   "id": "372f3e6e-176f-4dfa-bed7-a4afb69f439f",
   "metadata": {},
   "outputs": [],
   "source": [
    "np.mean(cv_score)"
   ]
  },
  {
   "cell_type": "markdown",
   "id": "fa00c011-e083-4973-b59f-f41310af661e",
   "metadata": {},
   "source": [
    "#### Regression RF"
   ]
  },
  {
   "cell_type": "code",
   "execution_count": 16,
   "id": "1c656af1-bace-4598-a29f-cd76b7dcc29c",
   "metadata": {},
   "outputs": [],
   "source": [
    "def rank_correl(y, y_pred):\n",
    "    return spearmanr(y, y_pred)[0]\n",
    "\n",
    "ic = make_scorer(rank_correl)"
   ]
  },
  {
   "cell_type": "code",
   "execution_count": 41,
   "id": "d99c7adc-1163-498b-80c7-128735973c46",
   "metadata": {},
   "outputs": [],
   "source": [
    "rf_reg = RandomForestRegressor(n_estimators=100, \n",
    "                                max_depth=None, \n",
    "                                min_samples_split=2, \n",
    "                                min_samples_leaf=1, \n",
    "                                min_weight_fraction_leaf=0.0, \n",
    "                                max_features='auto', \n",
    "                                max_leaf_nodes=None, \n",
    "                                min_impurity_decrease=0.0, \n",
    "                                min_impurity_split=None, \n",
    "                                bootstrap=True, \n",
    "                                oob_score=False, \n",
    "                                n_jobs=-1, \n",
    "                                random_state=None, \n",
    "                                verbose=0, \n",
    "                                warm_start=False)"
   ]
  },
  {
   "cell_type": "code",
   "execution_count": 42,
   "id": "e7943e95-71b1-4ab2-ba3b-e8bc5d9ba3bc",
   "metadata": {},
   "outputs": [],
   "source": [
    "cv_score = cross_val_score(estimator=rf_reg,\n",
    "                           X=X,\n",
    "                           y=y,\n",
    "                           scoring=ic,\n",
    "                           cv=cv,\n",
    "                           n_jobs=-1,\n",
    "                           verbose=1)"
   ]
  },
  {
   "cell_type": "code",
   "execution_count": 43,
   "id": "7db0301b-6bad-4aaa-83d1-fe49f18b7764",
   "metadata": {},
   "outputs": [],
   "source": [
    "np.mean(cv_score)"
   ]
  },
  {
   "cell_type": "markdown",
   "id": "103da684-0cba-4897-883d-77edf6843bdc",
   "metadata": {},
   "source": [
    "### Parameter Tuning\n",
    "\n",
    "#### Defining Parameter Grid"
   ]
  },
  {
   "cell_type": "code",
   "execution_count": 44,
   "id": "aff8d02e-fb54-401a-94a4-c06a44267278",
   "metadata": {},
   "outputs": [],
   "source": [
    "param_grid = {'n_estimators': [50, 100, 250],\n",
    "              'max_depth': [5, 15, None],\n",
    "              'min_samples_leaf': [5, 25, 100]}"
   ]
  },
  {
   "cell_type": "code",
   "execution_count": 45,
   "id": "e4e037f2-b7b8-485c-a488-b132e2f2b487",
   "metadata": {},
   "outputs": [],
   "source": [
    "gridsearch_clf = GridSearchCV(estimator=rf_clf,\n",
    "                              param_grid=param_grid,\n",
    "                              scoring='roc_auc',\n",
    "                              n_jobs=-1,\n",
    "                              cv=cv,\n",
    "                              refit=True,\n",
    "                              return_train_score=True,\n",
    "                              verbose=1)"
   ]
  },
  {
   "cell_type": "markdown",
   "id": "a05711bc-0460-4fcc-a179-689c0e49114d",
   "metadata": {},
   "source": [
    "#### Fitting Classifier"
   ]
  },
  {
   "cell_type": "code",
   "execution_count": 46,
   "id": "d89aff86-3b73-46d0-9236-760444f31f12",
   "metadata": {},
   "outputs": [],
   "source": [
    "gridsearch_clf.fit(X=X, y=y_binary)"
   ]
  },
  {
   "cell_type": "markdown",
   "id": "8d3ee16e-a46b-4bb0-a12b-706ce5a2332a",
   "metadata": {},
   "source": [
    "#### Persisting Result"
   ]
  },
  {
   "cell_type": "code",
   "execution_count": 47,
   "id": "b709b388-afc9-4dd0-8a62-565e1dc10f8b",
   "metadata": {},
   "outputs": [],
   "source": [
    "joblib.dump(gridsearch_clf, results_path / 'gridsearch_clf.joblib')"
   ]
  },
  {
   "cell_type": "code",
   "execution_count": 48,
   "id": "7aaeb46d-418c-43b5-b851-f684cdff31c8",
   "metadata": {},
   "outputs": [],
   "source": [
    "gridsearch_clf = joblib.load(results_path / 'gridsearch_clf.joblib')"
   ]
  },
  {
   "cell_type": "code",
   "execution_count": 49,
   "id": "3350f82c-31b3-4c66-bcd7-938b470aa58e",
   "metadata": {},
   "outputs": [],
   "source": [
    "gridsearch_clf.best_params_"
   ]
  },
  {
   "cell_type": "code",
   "execution_count": 50,
   "id": "783bfeda-1933-439f-970c-0b57dcbd7c5a",
   "metadata": {},
   "outputs": [],
   "source": [
    "gridsearch_clf.best_score_"
   ]
  },
  {
   "cell_type": "markdown",
   "id": "7fee81bb-543e-4634-9770-8ce7bab08ce5",
   "metadata": {},
   "source": [
    "#### Feature Importance"
   ]
  },
  {
   "cell_type": "code",
   "execution_count": 51,
   "id": "6085c28f-684d-4351-9220-c920ae6eeed1",
   "metadata": {},
   "outputs": [],
   "source": [
    "fig, ax = plt.subplots(figsize=(12,5))\n",
    "\n",
    "(pd.Series(gridsearch_clf.best_estimator_.feature_importances_, \n",
    "           index=X.columns)\n",
    " .sort_values(ascending=False)\n",
    " .iloc[:20]\n",
    " .sort_values()\n",
    " .plot.barh(ax=ax, title='RF Feature Importance'))\n",
    "sns.despine()\n",
    "fig.tight_layout();\n",
    "plt.show()"
   ]
  },
  {
   "cell_type": "markdown",
   "id": "ce7e8a92-fe4e-4b6d-bf2c-358925f6ecac",
   "metadata": {},
   "source": [
    "#### Fitting Regressor"
   ]
  },
  {
   "cell_type": "code",
   "execution_count": 52,
   "id": "7e8efe4e-6b7b-4080-bdc3-cf6473722673",
   "metadata": {},
   "outputs": [],
   "source": [
    "gridsearch_reg = GridSearchCV(estimator=rf_reg,\n",
    "                      param_grid=param_grid,\n",
    "                      scoring=ic,\n",
    "                      n_jobs=-1,\n",
    "                      cv=cv,\n",
    "                      refit=True,\n",
    "                      return_train_score=True,\n",
    "                      verbose=1)"
   ]
  },
  {
   "cell_type": "code",
   "execution_count": 53,
   "id": "d1574df5-0e5f-49c8-a1c4-6e0533a36f2f",
   "metadata": {},
   "outputs": [],
   "source": [
    "gs_reg = gridsearch_reg"
   ]
  },
  {
   "cell_type": "code",
   "execution_count": 54,
   "id": "95cfb400-7922-4508-9981-1048d711d6e3",
   "metadata": {},
   "outputs": [],
   "source": [
    "gridsearch_reg.fit(X=X, y=y)"
   ]
  },
  {
   "cell_type": "code",
   "execution_count": 55,
   "id": "f073858e-a5d1-43d1-b9fa-3c2515eefcbb",
   "metadata": {},
   "outputs": [],
   "source": [
    "joblib.dump(gridsearch_reg, results_path / 'rf_reg_gridsearch.joblib')"
   ]
  },
  {
   "cell_type": "code",
   "execution_count": 56,
   "id": "f7cdb0d1-62d2-4285-96d3-48dac3abe524",
   "metadata": {},
   "outputs": [],
   "source": [
    "gridsearch_reg = joblib.load(results_path / 'rf_reg_gridsearch.joblib')"
   ]
  },
  {
   "cell_type": "code",
   "execution_count": 57,
   "id": "c768c04e-b234-4a0e-9478-1942f2f86898",
   "metadata": {},
   "outputs": [],
   "source": [
    "gridsearch_reg.best_params_"
   ]
  },
  {
   "cell_type": "code",
   "execution_count": 58,
   "id": "4b1dcbb4-7687-46bc-859a-16c83d527226",
   "metadata": {},
   "outputs": [],
   "source": [
    "f'{gridsearch_reg.best_score_*100:.2f}'"
   ]
  },
  {
   "cell_type": "markdown",
   "id": "7aed9b4f-2dc8-4b0d-9c87-3251a08d4c48",
   "metadata": {},
   "source": [
    "### Comparing Results\n",
    "\n",
    "#### Best Parameters"
   ]
  },
  {
   "cell_type": "code",
   "execution_count": 59,
   "id": "c6174152-fbc3-480a-9446-45bf498eae57",
   "metadata": {},
   "outputs": [],
   "source": [
    "pd.DataFrame({'Regression': pd.Series(gridsearch_reg.best_params_),\n",
    "              'Classification': pd.Series(gridsearch_clf.best_params_)})"
   ]
  },
  {
   "cell_type": "code",
   "execution_count": 60,
   "id": "7054958f-1c19-45b5-a5b1-8c9cb2d008da",
   "metadata": {},
   "outputs": [],
   "source": [
    "fi_clf = gridsearch_clf.best_estimator_.feature_importances_\n",
    "\n",
    "fi_reg = gridsearch_reg.best_estimator_.feature_importances_"
   ]
  },
  {
   "cell_type": "code",
   "execution_count": 61,
   "id": "422359a6-5363-4c72-b2ab-32ba29f02470",
   "metadata": {},
   "outputs": [],
   "source": [
    "idx = [c.replace('_', ' ').upper() for c in X.columns]"
   ]
  },
  {
   "cell_type": "code",
   "execution_count": 62,
   "id": "39d074d6-49c4-46bf-9ec3-0e9c36fddacd",
   "metadata": {},
   "outputs": [],
   "source": [
    "fig, axes = plt.subplots(figsize=(14, 4), ncols=2)\n",
    "\n",
    "(pd.Series(fi_clf, index=idx)\n",
    " .sort_values(ascending=False)\n",
    " .iloc[:15]\n",
    " .sort_values()\n",
    " .plot.barh(ax=axes[1], title='Classifier'))\n",
    "(pd.Series(fi_reg, index=idx)\n",
    " .sort_values(ascending=False)\n",
    " .iloc[:15]\n",
    " .sort_values()\n",
    " .plot.barh(ax=axes[0], title='Regression'))\n",
    "sns.despine()\n",
    "fig.tight_layout()\n",
    "plt.show()"
   ]
  },
  {
   "cell_type": "code",
   "execution_count": null,
   "id": "f44a7a01-5e7f-499c-b223-9df63790632e",
   "metadata": {},
   "outputs": [],
   "source": []
  }
 ],
 "metadata": {
  "kernelspec": {
   "display_name": "Python 3 (ipykernel)",
   "language": "python",
   "name": "python3"
  },
  "language_info": {
   "codemirror_mode": {
    "name": "ipython",
    "version": 3
   },
   "file_extension": ".py",
   "mimetype": "text/x-python",
   "name": "python",
   "nbconvert_exporter": "python",
   "pygments_lexer": "ipython3",
   "version": "3.12.9"
  }
 },
 "nbformat": 4,
 "nbformat_minor": 5
}
