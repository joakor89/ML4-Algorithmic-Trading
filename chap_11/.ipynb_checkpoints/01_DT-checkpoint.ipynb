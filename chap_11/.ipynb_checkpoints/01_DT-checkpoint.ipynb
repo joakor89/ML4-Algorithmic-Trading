{
 "cells": [
  {
   "cell_type": "markdown",
   "id": "a91edbc3-f266-4d09-89d5-1727cbffcd2c",
   "metadata": {},
   "source": [
    "# How to Use Decision Trees to Predict Equity Returns & Price Moves\n",
    "\n",
    "### Loading Libraries"
   ]
  },
  {
   "cell_type": "code",
   "execution_count": 8,
   "id": "dbea2251-bc63-4238-be95-d0534c178ab1",
   "metadata": {},
   "outputs": [],
   "source": [
    "# Numerical Computing\n",
    "import numpy as np\n",
    "\n",
    "# Data Manipulation\n",
    "import pandas as pd\n",
    "import pandas_datareader.data as web\n",
    "\n",
    "# Data Visualization\n",
    "import graphviz\n",
    "import seaborn as sns\n",
    "from matplotlib import cm\n",
    "import matplotlib.pyplot as plt\n",
    "from matplotlib.ticker import FuncFormatter\n",
    "\n",
    "# Warnings\n",
    "import warnings\n",
    "\n",
    "# OS & Path\n",
    "import os, sys\n",
    "from pathlib import Path\n",
    "\n",
    "# ScyPy\n",
    "from scipy.stats import spearmanr\n",
    "\n",
    "# Scikit-Learn\n",
    "from sklearn.linear_model import LinearRegression, LogisticRegression\n",
    "from sklearn.feature_selection import mutual_info_classif, mutual_info_regression\n",
    "from sklearn.model_selection import train_test_split, GridSearchCV, learning_curve\n",
    "from sklearn.metrics import roc_auc_score, roc_curve, mean_squared_error, make_scorer\n",
    "from sklearn.tree import DecisionTreeClassifier, DecisionTreeRegressor, export_graphviz, _tree\n",
    "\n",
    "\n",
    "# StatsModels\n",
    "import statsmodels.api as sm\n",
    "from statsmodels.regression.rolling import RollingOLS\n",
    "\n",
    "# Technical Analysis\n",
    "from talib import RSI, BBANDS, MACD, NATR, ATR\n",
    "\n",
    "# Utils\n",
    "from utils import MultipleTimeSeriesCV"
   ]
  },
  {
   "cell_type": "code",
   "execution_count": 9,
   "id": "1f2c0a03-1ad8-4bf9-9046-03b2d71a8dd7",
   "metadata": {},
   "outputs": [],
   "source": [
    "idx = pd.IndexSlice\n",
    "\n",
    "sns.set_style('white')\n",
    "\n",
    "warnings.filterwarnings('ignore')"
   ]
  },
  {
   "cell_type": "code",
   "execution_count": 10,
   "id": "ea51ade3-0376-432a-9af3-75890e115337",
   "metadata": {},
   "outputs": [],
   "source": [
    "%matplotlib inline"
   ]
  },
  {
   "cell_type": "code",
   "execution_count": 11,
   "id": "408f3577-ce42-4448-9b2c-b470b412b6c9",
   "metadata": {},
   "outputs": [],
   "source": [
    "results_path = Path('results', 'decision_trees')\n",
    "\n",
    "if not results_path.exists():\n",
    "    results_path.mkdir(parents=True)"
   ]
  },
  {
   "cell_type": "markdown",
   "id": "3ebb32bf-768e-4af0-9ccd-5067c4f43fe2",
   "metadata": {},
   "source": [
    "### Loading Model Data"
   ]
  },
  {
   "cell_type": "code",
   "execution_count": 12,
   "id": "2c193ae6-9469-4c88-a792-7b07064153e7",
   "metadata": {},
   "outputs": [],
   "source": [
    "with pd.HDFStore('data.h5') as store:\n",
    "    data = store['us/equities/monthly']\n",
    "\n",
    "data.info()"
   ]
  },
  {
   "cell_type": "markdown",
   "id": "531a4e48-7c92-4365-89d7-0dfa6cf403f7",
   "metadata": {},
   "source": [
    "### Simple Regression Tree with Time Series Data\n",
    "\n",
    "#### Generating Two Lags of Monthly Returns"
   ]
  },
  {
   "cell_type": "code",
   "execution_count": 14,
   "id": "f94c43c5-2cd3-43bd-950c-d43120ef4f8b",
   "metadata": {},
   "outputs": [],
   "source": [
    "X2 = data.loc[:, ['target', 'return_1m']]\n",
    "X2.columns = ['y', 't-1']\n",
    "X2['t-2'] = data.groupby(level='ticker').return_1m.shift()\n",
    "X2 = X2.dropna()\n",
    "X2.info()"
   ]
  },
  {
   "cell_type": "code",
   "execution_count": 15,
   "id": "e0518fa3-9795-4114-b1ea-626842ff96ed",
   "metadata": {},
   "outputs": [],
   "source": [
    "y2 = X2.y\n",
    "\n",
    "X2 = X2.drop('y', axis=1)"
   ]
  },
  {
   "cell_type": "markdown",
   "id": "15745a3b-9cf4-44c2-bc36-1d6cfb28b444",
   "metadata": {},
   "source": [
    "### Exploring Data"
   ]
  },
  {
   "cell_type": "code",
   "execution_count": 16,
   "id": "7b13d78e-ffe7-4714-a8e5-06b0ab18f8ab",
   "metadata": {},
   "outputs": [],
   "source": [
    "sns.distplot(y2)\n",
    "sns.despine();\n",
    "plt.show()"
   ]
  },
  {
   "cell_type": "markdown",
   "id": "2d901daf-97f5-49f7-be75-1081431554e0",
   "metadata": {},
   "source": [
    "#### Configuring Tree"
   ]
  },
  {
   "cell_type": "code",
   "execution_count": 17,
   "id": "8f386d9f-8396-4613-9293-c68b012fed11",
   "metadata": {},
   "outputs": [],
   "source": [
    "reg_tree_t2 = DecisionTreeRegressor(criterion='mse',\n",
    "                                    splitter='best',\n",
    "                                    max_depth=6,\n",
    "                                    min_samples_split=2,\n",
    "                                    min_samples_leaf=50,\n",
    "                                    min_weight_fraction_leaf=0.0,\n",
    "                                    max_features=None,\n",
    "                                    random_state=42,\n",
    "                                    max_leaf_nodes=None,\n",
    "                                    min_impurity_decrease=0.0,\n",
    "                                    min_impurity_split=None)"
   ]
  },
  {
   "cell_type": "markdown",
   "id": "551c6b4d-6617-45d8-806c-00637e29880c",
   "metadata": {},
   "source": [
    "#### Training Decision Tree"
   ]
  },
  {
   "cell_type": "code",
   "execution_count": 18,
   "id": "1f20707f-e350-488d-a532-6f4acf7da070",
   "metadata": {},
   "outputs": [],
   "source": [
    "%%timeit\n",
    "reg_tree_t2.fit(X=X2, y=y2)"
   ]
  },
  {
   "cell_type": "code",
   "execution_count": 19,
   "id": "e9021b4d-26f0-4d7d-9be5-9338bc401498",
   "metadata": {},
   "outputs": [],
   "source": [
    "reg_tree_t2.fit(X=X2, y=y2)"
   ]
  },
  {
   "cell_type": "markdown",
   "id": "4db380ed-06b3-406e-a780-32c056343270",
   "metadata": {},
   "source": [
    "#### Tree Visualization"
   ]
  },
  {
   "cell_type": "code",
   "execution_count": 20,
   "id": "081776be-2532-484c-8c78-d131196a74d0",
   "metadata": {},
   "outputs": [],
   "source": [
    "out_file = results_path / 'reg_tree_t2.dot'\n",
    "\n",
    "dot_data = export_graphviz(reg_tree_t2,\n",
    "                          out_file=out_file.as_posix(),\n",
    "                          feature_names=X2.columns,\n",
    "                          max_depth=2,\n",
    "                          filled=True,\n",
    "                          rounded=True,\n",
    "                          special_characters=True)\n",
    "\n",
    "if out_file is not None:\n",
    "    dot_data = Path(out_file).read_text()\n",
    "\n",
    "graphviz.Source(dot_data)"
   ]
  },
  {
   "cell_type": "markdown",
   "id": "264b11fa-5407-40b1-8d6d-8952b5467c81",
   "metadata": {},
   "source": [
    "### Comparing with Linear Regression\n",
    "\n",
    "#### `statsmodels OLS`"
   ]
  },
  {
   "cell_type": "code",
   "execution_count": 21,
   "id": "b7085f42-1234-49f6-8bba-80c13022d9f0",
   "metadata": {},
   "outputs": [],
   "source": [
    "ols_model = sm.OLS(endog=y2, exog=sm.add_constant(X2))"
   ]
  },
  {
   "cell_type": "code",
   "execution_count": 22,
   "id": "4c6f5077-04ce-4837-9631-94deee647f7f",
   "metadata": {},
   "outputs": [],
   "source": [
    "%%timeit\n",
    "ols_model.fit()"
   ]
  },
  {
   "cell_type": "code",
   "execution_count": 23,
   "id": "b19edbb0-21c3-41c8-9e25-01fb233206f8",
   "metadata": {},
   "outputs": [],
   "source": [
    "result = ols_model.fit()\n",
    "\n",
    "print(result.summary())"
   ]
  },
  {
   "cell_type": "markdown",
   "id": "9f2b7577-6854-4f11-abb3-66abf98c737c",
   "metadata": {},
   "source": [
    "#### Sklearn Linear Regression"
   ]
  },
  {
   "cell_type": "code",
   "execution_count": 24,
   "id": "1f237279-1716-4fec-82e7-a3d94ca152b0",
   "metadata": {},
   "outputs": [],
   "source": [
    "lin_reg = LinearRegression()"
   ]
  },
  {
   "cell_type": "code",
   "execution_count": 25,
   "id": "66d27aac-4df2-493e-9956-1dfc820697fd",
   "metadata": {},
   "outputs": [],
   "source": [
    "%%timeit\n",
    "lin_reg.fit(X=X2,y=y2)"
   ]
  },
  {
   "cell_type": "code",
   "execution_count": 26,
   "id": "846bd075-97fa-41b7-802b-b3b614cbbfd3",
   "metadata": {},
   "outputs": [],
   "source": [
    "lin_reg.fit(X=X2,y=y2)"
   ]
  },
  {
   "cell_type": "code",
   "execution_count": 27,
   "id": "d50c0774-dd21-48dd-af31-c81361057353",
   "metadata": {},
   "outputs": [],
   "source": [
    "lin_reg.intercept_"
   ]
  },
  {
   "cell_type": "code",
   "execution_count": 28,
   "id": "4c50a4c3-5d09-4d4b-aa23-fcf2736bafdf",
   "metadata": {},
   "outputs": [],
   "source": [
    "lin_reg.coef_"
   ]
  },
  {
   "cell_type": "markdown",
   "id": "89911b32-06ec-4119-a1cb-bda9742f396d",
   "metadata": {},
   "source": [
    "### Linear Regression vs Regression Tree Decision Surfaces"
   ]
  },
  {
   "cell_type": "code",
   "execution_count": 29,
   "id": "7114df18-a219-40f6-8405-119d6bd3438a",
   "metadata": {},
   "outputs": [],
   "source": [
    "t1, t2 = np.meshgrid(np.linspace(X2['t-1'].quantile(.01), X2['t-1'].quantile(.99), 100),\n",
    "                     np.linspace(X2['t-2'].quantile(.01), X2['t-2'].quantile(.99), 100))\n",
    "\n",
    "X_data = np.c_[t1.ravel(), t2.ravel()]"
   ]
  },
  {
   "cell_type": "code",
   "execution_count": 30,
   "id": "b7c9b4a1-1501-408a-9ec3-f0044a6bc321",
   "metadata": {},
   "outputs": [],
   "source": [
    "fig, axes = plt.subplots(ncols=2, figsize=(12,5))\n",
    "\n",
    "# Linear Regression\n",
    "ret1 = lin_reg.predict(X_data).reshape(t1.shape)\n",
    "surface1 = axes[0].contourf(t1, t2, ret1, cmap='Blues')\n",
    "plt.colorbar(mappable=surface1, ax=axes[0])\n",
    "\n",
    "# Regression Tree\n",
    "ret2 = reg_tree_t2.predict(X_data).reshape(t1.shape)\n",
    "surface2 = axes[1].contourf(t1, t2, ret2, cmap='Blues')\n",
    "plt.colorbar(mappable=surface2, ax=axes[1])\n",
    "\n",
    "# Format plots\n",
    "titles = ['Linear Regression', 'Regression Tree']\n",
    "for i, ax in enumerate(axes):\n",
    "    ax.set_xlabel('t-1')\n",
    "    ax.set_ylabel('t-2')\n",
    "    ax.set_title(titles[i])\n",
    "\n",
    "fig.suptitle('Decision Surfaces', fontsize=14)\n",
    "sns.despine()\n",
    "fig.tight_layout()\n",
    "fig.subplots_adjust(top=.9);\n",
    "plt.show()"
   ]
  },
  {
   "cell_type": "markdown",
   "id": "dfecf76c-90e4-48b4-9994-388660e1819f",
   "metadata": {},
   "source": [
    "### Simple Classification Tree with Time Series Data\n",
    "\n",
    "#### Loss Functions"
   ]
  },
  {
   "cell_type": "code",
   "execution_count": 31,
   "id": "1f794a30-0121-4701-afb9-9e1852b6153c",
   "metadata": {},
   "outputs": [],
   "source": [
    "def entropy(f):\n",
    "    return (-f*np.log2(f) - (1-f)*np.log2(1-f))/2"
   ]
  },
  {
   "cell_type": "code",
   "execution_count": 32,
   "id": "5e0bc24c-5e26-400e-ae1b-2f7762ca286a",
   "metadata": {},
   "outputs": [],
   "source": [
    "def gini(f):\n",
    "    return 2*f*(1-f)"
   ]
  },
  {
   "cell_type": "code",
   "execution_count": 33,
   "id": "e7ee453a-721e-46b9-bc64-926d9f5e4754",
   "metadata": {},
   "outputs": [],
   "source": [
    "def misclassification_rate(f):\n",
    "    return np.where(f<=.5, f, 1-f)"
   ]
  },
  {
   "cell_type": "code",
   "execution_count": 34,
   "id": "e358df64-032a-4579-aebf-e8965e40fcf3",
   "metadata": {},
   "outputs": [],
   "source": [
    "x = np.linspace(0, 1, 10000)\n",
    "\n",
    "(pd.DataFrame({'Gini': gini(x), \n",
    "              'Entropy': entropy(x),\n",
    "             'Misclassification Rate': misclassification_rate(x)}, index=x)\n",
    " .plot(title='Classification Loss Functions', lw=2, style=['-', '--', ':']))\n",
    "\n",
    "sns.despine()\n",
    "plt.tight_layout();\n",
    "plt.show()"
   ]
  },
  {
   "cell_type": "markdown",
   "id": "1dfbfc1c-8ac7-45ab-bab6-318117669618",
   "metadata": {},
   "source": [
    "#### Comparing Computation Time"
   ]
  },
  {
   "cell_type": "code",
   "execution_count": 35,
   "id": "e113631b-1f59-44bc-b468-6e4c2ee6e298",
   "metadata": {},
   "outputs": [],
   "source": [
    "%%timeit\n",
    "misclassification_rate(x)"
   ]
  },
  {
   "cell_type": "code",
   "execution_count": 36,
   "id": "a136ca3a-ae09-4dff-9ae1-e5b481fccb6a",
   "metadata": {},
   "outputs": [],
   "source": [
    "%%timeit\n",
    "gini(x)"
   ]
  },
  {
   "cell_type": "code",
   "execution_count": 37,
   "id": "4d070d63-05ed-4090-9d30-002dd4171c34",
   "metadata": {},
   "outputs": [],
   "source": [
    "%%timeit\n",
    "entropy(x)"
   ]
  },
  {
   "cell_type": "markdown",
   "id": "be40c3e5-1730-4721-b1b3-4eed5263b37d",
   "metadata": {},
   "source": [
    "### Configuring Tree"
   ]
  },
  {
   "cell_type": "code",
   "execution_count": 38,
   "id": "e78f12cc-ea70-43a1-ba48-0025837f6e11",
   "metadata": {},
   "outputs": [],
   "source": [
    "clf_tree_t2 = DecisionTreeClassifier(criterion='gini',\n",
    "                                     splitter='best',\n",
    "                                     max_depth=5,\n",
    "                                     min_samples_split=1000,\n",
    "                                     min_samples_leaf=1,\n",
    "                                     min_weight_fraction_leaf=0.0,\n",
    "                                     max_features=None,\n",
    "                                     random_state=42,\n",
    "                                     max_leaf_nodes=None,\n",
    "                                     min_impurity_decrease=0.0,\n",
    "                                     min_impurity_split=None,\n",
    "                                     class_weight=None)"
   ]
  },
  {
   "cell_type": "markdown",
   "id": "61043c41-1219-43fa-af06-8d27fa3bd939",
   "metadata": {},
   "source": [
    "### Training Tree"
   ]
  },
  {
   "cell_type": "code",
   "execution_count": 39,
   "id": "7535e7e1-1fb9-4256-bcde-de03a4e41b0c",
   "metadata": {},
   "outputs": [],
   "source": [
    "y_binary = (y2>0).astype(int)\n",
    "\n",
    "y_binary.value_counts()"
   ]
  },
  {
   "cell_type": "code",
   "execution_count": 40,
   "id": "2736e95c-0de9-4cef-904e-3448a7bfc20a",
   "metadata": {},
   "outputs": [],
   "source": [
    "%%timeit\n",
    "clf_tree_t2.fit(X=X2, y=y_binary)"
   ]
  },
  {
   "cell_type": "code",
   "execution_count": 41,
   "id": "42e83deb-6257-45c5-ad27-4938069a01d5",
   "metadata": {},
   "outputs": [],
   "source": [
    "clf_tree_t2.fit(X=X2, y=y_binary)"
   ]
  },
  {
   "cell_type": "markdown",
   "id": "03072264-7e73-4381-babf-8ff316f9dd07",
   "metadata": {},
   "source": [
    "### Tree Visualization"
   ]
  },
  {
   "cell_type": "code",
   "execution_count": 42,
   "id": "4a548f3e-b37d-4992-824e-fdf23e507b30",
   "metadata": {},
   "outputs": [],
   "source": [
    "out_file = results_path / 'clf_tree_t2.dot'\n",
    "dot_data = export_graphviz(clf_tree_t2,\n",
    "                           out_file=out_file.as_posix(),\n",
    "                           feature_names=X2.columns,\n",
    "                           class_names=['Down', 'Up'],\n",
    "                           max_depth=2,\n",
    "                           filled=True,\n",
    "                           rounded=True,\n",
    "                           special_characters=True)\n",
    "if out_file is not None:\n",
    "    dot_data = Path(out_file).read_text()\n",
    "\n",
    "graphviz.Source(dot_data)"
   ]
  },
  {
   "cell_type": "markdown",
   "id": "04465e76-1acb-4055-81ee-72387647b901",
   "metadata": {},
   "source": [
    "### Compare with Logistic Regression\n",
    "\n",
    "#### Statsmodels"
   ]
  },
  {
   "cell_type": "code",
   "execution_count": 43,
   "id": "846f992e-65a1-4ca8-9a5f-f6e3da665865",
   "metadata": {},
   "outputs": [],
   "source": [
    "log_reg_sm = sm.Logit(endog=y_binary, exog=sm.add_constant(X2))"
   ]
  },
  {
   "cell_type": "code",
   "execution_count": 44,
   "id": "5a0f69bb-b924-4b5c-98b7-b0de739360b4",
   "metadata": {},
   "outputs": [],
   "source": [
    "%%timeit\n",
    "log_reg_sm.fit(disp=False)"
   ]
  },
  {
   "cell_type": "code",
   "execution_count": 45,
   "id": "4e9de8fb-093f-4282-8727-80e98033e745",
   "metadata": {},
   "outputs": [],
   "source": [
    "log_result = log_reg_sm.fit()"
   ]
  },
  {
   "cell_type": "code",
   "execution_count": 46,
   "id": "9fe78845-7770-4fa6-a42c-134db278c63c",
   "metadata": {},
   "outputs": [],
   "source": [
    "print(log_result.summary())"
   ]
  },
  {
   "cell_type": "markdown",
   "id": "6906cbd6-3200-487a-b786-572371fd100b",
   "metadata": {},
   "source": [
    "#### Sklearn"
   ]
  },
  {
   "cell_type": "code",
   "execution_count": 47,
   "id": "967ad6ce-2a76-4413-9ad5-300463481ede",
   "metadata": {},
   "outputs": [],
   "source": [
    "log_reg_sk = LogisticRegression()"
   ]
  },
  {
   "cell_type": "code",
   "execution_count": 48,
   "id": "5226f302-ddeb-41bd-9eb7-c8921868e3cb",
   "metadata": {},
   "outputs": [],
   "source": [
    "%%timeit\n",
    "log_reg_sk.fit(X=X2, y=y_binary)"
   ]
  },
  {
   "cell_type": "code",
   "execution_count": 49,
   "id": "41c38ca5-9621-41b2-b979-bac97903b536",
   "metadata": {},
   "outputs": [],
   "source": [
    "log_reg_sk.fit(X=X2, y=y_binary)"
   ]
  },
  {
   "cell_type": "code",
   "execution_count": 50,
   "id": "c7c8396f-60f1-4a56-9c82-933120fe6024",
   "metadata": {},
   "outputs": [],
   "source": [
    "log_reg_sk.coef_"
   ]
  },
  {
   "cell_type": "markdown",
   "id": "c1d79dd3-57e6-493c-9c11-188a6b48441b",
   "metadata": {},
   "source": [
    "### Decision Surfaces: Classifier Tree vs. Logistic Regression"
   ]
  },
  {
   "cell_type": "code",
   "execution_count": 51,
   "id": "324e3496-1a41-4a99-9f4e-9a852ec56d95",
   "metadata": {},
   "outputs": [],
   "source": [
    "fig, axes = plt.subplots(ncols=2, figsize=(12,5))\n",
    "\n",
    "# Linear Regression\n",
    "ret1 = log_reg_sk.predict_proba(X_data)[:, 1].reshape(t1.shape)\n",
    "surface1 = axes[0].contourf(t1, t2, ret1, cmap='Blues')\n",
    "plt.colorbar(mappable=surface1, ax=axes[0])\n",
    "\n",
    "# Regression Tree\n",
    "ret2 = clf_tree_t2.predict_proba(X_data)[:, 1].reshape(t1.shape)\n",
    "surface2 = axes[1].contourf(t1, t2, ret2, cmap='Blues')\n",
    "plt.colorbar(mappable=surface2, ax=axes[1])\n",
    "\n",
    "# Format plots\n",
    "titles = ['Logistic Regression', 'Classification Tree']\n",
    "for i, ax in enumerate(axes):\n",
    "    ax.set_xlabel('t-1')\n",
    "    ax.set_ylabel('t-2')\n",
    "    ax.set_title(titles[i])\n",
    "\n",
    "fig.suptitle('Decision Surfaces', fontsize=20)\n",
    "sns.despine()\n",
    "fig.tight_layout()\n",
    "fig.subplots_adjust(top=.9);\n",
    "plt.show()"
   ]
  },
  {
   "cell_type": "markdown",
   "id": "ea10a1e7-4aa6-4e59-965a-282199df9853",
   "metadata": {},
   "source": [
    "### Regression Tree with All Features\n",
    "\n",
    "#### Train-Test Split"
   ]
  },
  {
   "cell_type": "code",
   "execution_count": 52,
   "id": "ddacb001-b0a1-4539-96c7-d86a1892ac3b",
   "metadata": {},
   "outputs": [],
   "source": [
    "X = pd.get_dummies(data.drop('target', axis=1))\n",
    "\n",
    "y = data.target"
   ]
  },
  {
   "cell_type": "code",
   "execution_count": 53,
   "id": "74a8f39b-ef3e-4393-b7ec-769d3663d828",
   "metadata": {},
   "outputs": [],
   "source": [
    "X_train, X_test, y_train, y_test = train_test_split(X, y, test_size=0.2, random_state=42)"
   ]
  },
  {
   "cell_type": "markdown",
   "id": "d8c8f0b6-0aef-428b-9ec8-18f76e3a768b",
   "metadata": {},
   "source": [
    "#### Configuring Tree"
   ]
  },
  {
   "cell_type": "code",
   "execution_count": 54,
   "id": "f4cb0224-9dc7-40c2-b96b-2d7aabfe896f",
   "metadata": {},
   "outputs": [],
   "source": [
    "regression_tree = DecisionTreeRegressor(criterion='mse',\n",
    "                                        splitter='best',\n",
    "                                        max_depth=5,\n",
    "                                        min_samples_split=2,\n",
    "                                        min_samples_leaf=1,\n",
    "                                        min_weight_fraction_leaf=0.0,\n",
    "                                        max_features=None,\n",
    "                                        random_state=42,\n",
    "                                        max_leaf_nodes=None,\n",
    "                                        min_impurity_decrease=0.0,\n",
    "                                        min_impurity_split=None)"
   ]
  },
  {
   "cell_type": "markdown",
   "id": "77503334-f33a-4774-83e3-987855716b38",
   "metadata": {},
   "source": [
    "#### Training Model"
   ]
  },
  {
   "cell_type": "code",
   "execution_count": 55,
   "id": "76ec2aac-2dee-47f6-91b7-27673e3dfc12",
   "metadata": {},
   "outputs": [],
   "source": [
    "regression_tree.fit(X=X_train, y=y_train)"
   ]
  },
  {
   "cell_type": "markdown",
   "id": "dbb526f2-f424-46c5-882b-f972db6210ad",
   "metadata": {},
   "source": [
    "#### Visualizing Tree"
   ]
  },
  {
   "cell_type": "code",
   "execution_count": 56,
   "id": "3c9c4fc6-b00a-4bb3-86d6-877cc8603f3d",
   "metadata": {},
   "outputs": [],
   "source": [
    "out_file = results_path / 'reg_tree.dot'\n",
    "\n",
    "dot_data = export_graphviz(regression_tree,\n",
    "                           out_file=out_file.as_posix(),\n",
    "                           feature_names=X_train.columns,\n",
    "                           max_depth=3,\n",
    "                           filled=True,\n",
    "                           rounded=True,\n",
    "                           special_characters=True)\n",
    "\n",
    "if out_file is not None:\n",
    "    dot_data = Path(out_file).read_text()\n",
    "\n",
    "graphviz.Source(dot_data)"
   ]
  },
  {
   "cell_type": "markdown",
   "id": "22e42792-7ac8-419f-abd5-03fa59e68590",
   "metadata": {},
   "source": [
    "#### Evaluating Test Set"
   ]
  },
  {
   "cell_type": "code",
   "execution_count": null,
   "id": "daa09956-272c-48dc-b33d-debcd4d6d45f",
   "metadata": {},
   "outputs": [],
   "source": [
    "y_pred = regression_tree.predict(X_test)"
   ]
  },
  {
   "cell_type": "code",
   "execution_count": null,
   "id": "082832b2-6b43-4873-a094-56b3b891ad32",
   "metadata": {},
   "outputs": [],
   "source": [
    "np.sqrt(mean_squared_error(y_pred=y_pred, y_true=y_test))"
   ]
  },
  {
   "cell_type": "code",
   "execution_count": null,
   "id": "6898bfe8-087a-453e-a26f-48889e0e698d",
   "metadata": {},
   "outputs": [],
   "source": [
    "r, p = spearmanr(y_pred, y_test)\n",
    "print(f'{r*100:.2f} (p-value={p:.2%})')"
   ]
  },
  {
   "cell_type": "markdown",
   "id": "9ef74a52-f25d-423c-85c3-d9943d68f604",
   "metadata": {},
   "source": [
    "### Classification Tree with All Features\n",
    "\n",
    "#### Train-Test Split"
   ]
  },
  {
   "cell_type": "code",
   "execution_count": 57,
   "id": "03a2eabc-8f2d-4fb4-8e1d-e1d0dd581e3c",
   "metadata": {},
   "outputs": [],
   "source": [
    "y_binary = (y>0).astype(int)\n",
    "y_binary.value_counts()"
   ]
  },
  {
   "cell_type": "code",
   "execution_count": 58,
   "id": "c690fac5-aa89-4a09-859b-7d3f70dad473",
   "metadata": {},
   "outputs": [],
   "source": [
    "X_train, X_test, y_train, y_test = train_test_split(X, y_binary, test_size=0.2, random_state=42)"
   ]
  },
  {
   "cell_type": "code",
   "execution_count": 59,
   "id": "e36f6e0a-e424-4e0f-98c1-c5ce599cbe24",
   "metadata": {},
   "outputs": [],
   "source": [
    "clf = DecisionTreeClassifier(criterion='gini',\n",
    "                             max_depth=5,\n",
    "                             random_state=42)"
   ]
  },
  {
   "cell_type": "code",
   "execution_count": 60,
   "id": "90bde3f5-017e-47c1-bad4-8ac54760fd09",
   "metadata": {},
   "outputs": [],
   "source": [
    "clf.fit(X=X_train, y=y_train)"
   ]
  },
  {
   "cell_type": "markdown",
   "id": "bc1d2479-d93f-469f-9b8a-90dca7f4daf6",
   "metadata": {},
   "source": [
    "#### Plotting Tree"
   ]
  },
  {
   "cell_type": "code",
   "execution_count": 61,
   "id": "2fa11ab1-8df7-4c9d-96c7-1a19b60252f8",
   "metadata": {},
   "outputs": [],
   "source": [
    "out_file = results_path / 'clf_tree.dot'\n",
    "\n",
    "dot_data = export_graphviz(clf,\n",
    "                           out_file=out_file.as_posix(),\n",
    "                           feature_names=X.columns,\n",
    "                           class_names=['Down', 'Up'],\n",
    "                           max_depth=3,\n",
    "                           filled=True,\n",
    "                           rounded=True,\n",
    "                           special_characters=True)\n",
    "if out_file is not None:\n",
    "    dot_data = Path(out_file).read_text()\n",
    "\n",
    "graphviz.Source(dot_data)"
   ]
  },
  {
   "cell_type": "markdown",
   "id": "ca4f9813-dc6d-4d2f-9df4-747d15d3c3b0",
   "metadata": {},
   "source": [
    "#### Evaluating Test Set"
   ]
  },
  {
   "cell_type": "code",
   "execution_count": 62,
   "id": "244b76b4-11bf-4ddf-8772-6a95a0a0d688",
   "metadata": {},
   "outputs": [],
   "source": [
    "y_score = clf.predict_proba(X=X_test)[:, 1]"
   ]
  },
  {
   "cell_type": "code",
   "execution_count": 63,
   "id": "3ebcc56f-d414-424e-a6da-b6964df2a510",
   "metadata": {},
   "outputs": [],
   "source": [
    "roc_auc_score(y_score=y_score, y_true=y_test)"
   ]
  },
  {
   "cell_type": "markdown",
   "id": "db30ff37-48a0-4f47-a400-e7f048e77061",
   "metadata": {},
   "source": [
    "### Printing Decision Path"
   ]
  },
  {
   "cell_type": "code",
   "execution_count": 64,
   "id": "d2632c51-95a4-4a8b-a93a-a841fa4890b6",
   "metadata": {},
   "outputs": [
    {
     "name": "stdout",
     "output_type": "stream",
     "text": [
      "Help on class Tree in module sklearn.tree._tree:\n",
      "\n",
      "class Tree(builtins.object)\n",
      " |  Array-based representation of a binary decision tree.\n",
      " |\n",
      " |  The binary tree is represented as a number of parallel arrays. The i-th\n",
      " |  element of each array holds information about the node `i`. Node 0 is the\n",
      " |  tree's root. You can find a detailed description of all arrays in\n",
      " |  `_tree.pxd`. NOTE: Some of the arrays only apply to either leaves or split\n",
      " |  nodes, resp. In this case the values of nodes of the other type are\n",
      " |  arbitrary!\n",
      " |\n",
      " |  Attributes\n",
      " |  ----------\n",
      " |  node_count : intp_t\n",
      " |      The number of nodes (internal nodes + leaves) in the tree.\n",
      " |\n",
      " |  capacity : intp_t\n",
      " |      The current capacity (i.e., size) of the arrays, which is at least as\n",
      " |      great as `node_count`.\n",
      " |\n",
      " |  max_depth : intp_t\n",
      " |      The depth of the tree, i.e. the maximum depth of its leaves.\n",
      " |\n",
      " |  children_left : array of intp_t, shape [node_count]\n",
      " |      children_left[i] holds the node id of the left child of node i.\n",
      " |      For leaves, children_left[i] == TREE_LEAF. Otherwise,\n",
      " |      children_left[i] > i. This child handles the case where\n",
      " |      X[:, feature[i]] <= threshold[i].\n",
      " |\n",
      " |  children_right : array of intp_t, shape [node_count]\n",
      " |      children_right[i] holds the node id of the right child of node i.\n",
      " |      For leaves, children_right[i] == TREE_LEAF. Otherwise,\n",
      " |      children_right[i] > i. This child handles the case where\n",
      " |      X[:, feature[i]] > threshold[i].\n",
      " |\n",
      " |  n_leaves : intp_t\n",
      " |      Number of leaves in the tree.\n",
      " |\n",
      " |  feature : array of intp_t, shape [node_count]\n",
      " |      feature[i] holds the feature to split on, for the internal node i.\n",
      " |\n",
      " |  threshold : array of float64_t, shape [node_count]\n",
      " |      threshold[i] holds the threshold for the internal node i.\n",
      " |\n",
      " |  value : array of float64_t, shape [node_count, n_outputs, max_n_classes]\n",
      " |      Contains the constant prediction value of each node.\n",
      " |\n",
      " |  impurity : array of float64_t, shape [node_count]\n",
      " |      impurity[i] holds the impurity (i.e., the value of the splitting\n",
      " |      criterion) at node i.\n",
      " |\n",
      " |  n_node_samples : array of intp_t, shape [node_count]\n",
      " |      n_node_samples[i] holds the number of training samples reaching node i.\n",
      " |\n",
      " |  weighted_n_node_samples : array of float64_t, shape [node_count]\n",
      " |      weighted_n_node_samples[i] holds the weighted number of training samples\n",
      " |      reaching node i.\n",
      " |\n",
      " |  missing_go_to_left : array of bool, shape [node_count]\n",
      " |      missing_go_to_left[i] holds a bool indicating whether or not there were\n",
      " |      missing values at node i.\n",
      " |\n",
      " |  Methods defined here:\n",
      " |\n",
      " |  __getstate__(self)\n",
      " |      Getstate re-implementation, for pickling.\n",
      " |\n",
      " |  __reduce__(self)\n",
      " |      Reduce re-implementation, for pickling.\n",
      " |\n",
      " |  __setstate__(self, d)\n",
      " |      Setstate re-implementation, for unpickling.\n",
      " |\n",
      " |  apply(self, X)\n",
      " |      Finds the terminal region (=leaf node) for each sample in X.\n",
      " |\n",
      " |  compute_feature_importances(self, normalize=True)\n",
      " |      Computes the importance of each feature (aka variable).\n",
      " |\n",
      " |  compute_node_depths(self)\n",
      " |      Compute the depth of each node in a tree.\n",
      " |\n",
      " |      .. versionadded:: 1.3\n",
      " |\n",
      " |      Returns\n",
      " |      -------\n",
      " |      depths : ndarray of shape (self.node_count,), dtype=np.int64\n",
      " |          The depth of each node in the tree.\n",
      " |\n",
      " |  compute_partial_dependence(self, X, target_features, out)\n",
      " |      Partial dependence of the response on the ``target_feature`` set.\n",
      " |\n",
      " |      For each sample in ``X`` a tree traversal is performed.\n",
      " |      Each traversal starts from the root with weight 1.0.\n",
      " |\n",
      " |      At each non-leaf node that splits on a target feature, either\n",
      " |      the left child or the right child is visited based on the feature\n",
      " |      value of the current sample, and the weight is not modified.\n",
      " |      At each non-leaf node that splits on a complementary feature,\n",
      " |      both children are visited and the weight is multiplied by the fraction\n",
      " |      of training samples which went to each child.\n",
      " |\n",
      " |      At each leaf, the value of the node is multiplied by the current\n",
      " |      weight (weights sum to 1 for all visited terminal nodes).\n",
      " |\n",
      " |      Parameters\n",
      " |      ----------\n",
      " |      X : view on 2d ndarray, shape (n_samples, n_target_features)\n",
      " |          The grid points on which the partial dependence should be\n",
      " |          evaluated.\n",
      " |      target_features : view on 1d ndarray, shape (n_target_features)\n",
      " |          The set of target features for which the partial dependence\n",
      " |          should be evaluated.\n",
      " |      out : view on 1d ndarray, shape (n_samples)\n",
      " |          The value of the partial dependence function on each grid\n",
      " |          point.\n",
      " |\n",
      " |  decision_path(self, X)\n",
      " |      Finds the decision path (=node) for each sample in X.\n",
      " |\n",
      " |  predict(self, X)\n",
      " |      Predict target for X.\n",
      " |\n",
      " |  ----------------------------------------------------------------------\n",
      " |  Static methods defined here:\n",
      " |\n",
      " |  __new__(*args, **kwargs)\n",
      " |      Create and return a new object.  See help(type) for accurate signature.\n",
      " |\n",
      " |  ----------------------------------------------------------------------\n",
      " |  Data descriptors defined here:\n",
      " |\n",
      " |  capacity\n",
      " |\n",
      " |  children_left\n",
      " |\n",
      " |  children_right\n",
      " |\n",
      " |  feature\n",
      " |\n",
      " |  impurity\n",
      " |\n",
      " |  max_depth\n",
      " |\n",
      " |  max_n_classes\n",
      " |\n",
      " |  missing_go_to_left\n",
      " |\n",
      " |  n_classes\n",
      " |\n",
      " |  n_features\n",
      " |\n",
      " |  n_leaves\n",
      " |\n",
      " |  n_node_samples\n",
      " |\n",
      " |  n_outputs\n",
      " |\n",
      " |  node_count\n",
      " |\n",
      " |  threshold\n",
      " |\n",
      " |  value\n",
      " |\n",
      " |  weighted_n_node_samples\n",
      " |\n",
      " |  ----------------------------------------------------------------------\n",
      " |  Data and other attributes defined here:\n",
      " |\n",
      " |  __pyx_vtable__ = <capsule object NULL>\n",
      "\n"
     ]
    }
   ],
   "source": [
    "from sklearn.tree._tree import Tree\n",
    "help(Tree)"
   ]
  },
  {
   "cell_type": "code",
   "execution_count": 65,
   "id": "a53e4688-278a-4619-b470-8c401a1c61a9",
   "metadata": {},
   "outputs": [],
   "source": [
    "def tree_to_code(tree, feature_names):\n",
    "    if isinstance(tree, DecisionTreeClassifier):\n",
    "        model = 'clf'\n",
    "    elif isinstance(tree, DecisionTreeRegressor):\n",
    "        model = 'reg'\n",
    "    else:\n",
    "        raise ValueError('Need Regression or Classification Tree')\n",
    "        \n",
    "    tree_ = tree.tree_\n",
    "    feature_name = [\n",
    "        feature_names[i] if i != _tree.TREE_UNDEFINED else \"undefined!\"\n",
    "        for i in tree_.feature\n",
    "    ]\n",
    "    print(\"def tree({}):\".format(\", \".join(feature_names)))\n",
    "\n",
    "    def recurse(node, depth):\n",
    "        indent = \"  \" * depth\n",
    "        if tree_.feature[node] != _tree.TREE_UNDEFINED:\n",
    "            name = feature_name[node]\n",
    "            threshold = tree_.threshold[node]\n",
    "            print(indent, f'if {name} <= {threshold:.2%}')\n",
    "            recurse(tree_.children_left[node], depth + 1)\n",
    "            print(indent, f'else:  # if {name} > {threshold:.2%}')\n",
    "            recurse(tree_.children_right[node], depth + 1)\n",
    "        else:\n",
    "            pred = tree_.value[node][0]\n",
    "            val = pred[1]/sum(pred) if model == 'clf' else pred[0]\n",
    "            print(indent, f'return {val:.2%}')\n",
    "    recurse(0, 1)"
   ]
  },
  {
   "cell_type": "code",
   "execution_count": 66,
   "id": "87bbfb9d-b95a-49ee-b49a-6af89438ed3e",
   "metadata": {},
   "outputs": [],
   "source": [
    "tree_to_code(clf_tree_t2, X2.columns)"
   ]
  },
  {
   "cell_type": "markdown",
   "id": "733702cc-dafc-46c9-9db4-45df88679e36",
   "metadata": {},
   "source": [
    "### Overfitting, Regularization & Parameter Tuning\n",
    "\n",
    "#### Cross-validation parameters"
   ]
  },
  {
   "cell_type": "code",
   "execution_count": 67,
   "id": "df4cfc68-74a2-443a-8b3c-c6f82a86af7a",
   "metadata": {},
   "outputs": [],
   "source": [
    "n_splits = 10\n",
    "\n",
    "train_period_length = 60\n",
    "\n",
    "test_period_length = 6\n",
    "\n",
    "lookahead = 1\n",
    "\n",
    "cv = MultipleTimeSeriesCV(n_splits=n_splits,\n",
    "                          train_period_length=train_period_length,\n",
    "                          test_period_length=test_period_length,\n",
    "                          lookahead=lookahead)"
   ]
  },
  {
   "cell_type": "code",
   "execution_count": 68,
   "id": "0fc32796-51ce-4f21-8f00-8e534899737b",
   "metadata": {},
   "outputs": [],
   "source": [
    "max_depths = range(1, 16)"
   ]
  },
  {
   "cell_type": "markdown",
   "id": "bbe77d87-9536-4ff0-b79d-797359e21c9d",
   "metadata": {},
   "source": [
    "### Finding The Best Trees using GridSearchCV\n",
    "\n",
    "#### Define Parameter Grid"
   ]
  },
  {
   "cell_type": "code",
   "execution_count": 69,
   "id": "89030485-2dca-4ec2-bfd0-2f67e80225da",
   "metadata": {},
   "outputs": [],
   "source": [
    "param_grid = {'max_depth': [2, 3, 4, 5, 6, 7, 8, 10, 12, 15],\n",
    "              'min_samples_leaf': [5, 25, 50, 100],\n",
    "              'max_features': ['sqrt', 'auto']}"
   ]
  },
  {
   "cell_type": "markdown",
   "id": "fca16a5a-d7ad-452d-a549-06a94aafbe07",
   "metadata": {},
   "source": [
    "#### Classification Tree"
   ]
  },
  {
   "cell_type": "code",
   "execution_count": 70,
   "id": "ac5dc6fd-82e9-4718-8909-44506d24328f",
   "metadata": {},
   "outputs": [],
   "source": [
    "clf = DecisionTreeClassifier(random_state=42)"
   ]
  },
  {
   "cell_type": "code",
   "execution_count": 71,
   "id": "6f09acf4-1c48-4385-9ef1-16a9c9ac7602",
   "metadata": {},
   "outputs": [],
   "source": [
    "gridsearch_clf = GridSearchCV(estimator=clf,\n",
    "                          param_grid=param_grid,\n",
    "                          scoring='roc_auc',\n",
    "                          n_jobs=-1,\n",
    "                          cv=cv,\n",
    "                          refit=True,\n",
    "                          return_train_score=True)"
   ]
  },
  {
   "cell_type": "code",
   "execution_count": 72,
   "id": "1e274016-b68a-4662-8d97-aff529968413",
   "metadata": {},
   "outputs": [],
   "source": [
    "gridsearch_clf.fit(X=X, y=y_binary)"
   ]
  },
  {
   "cell_type": "code",
   "execution_count": 73,
   "id": "9e0c606f-a53a-4b51-9c30-5da963823bf2",
   "metadata": {},
   "outputs": [],
   "source": [
    "gridsearch_clf.best_params_"
   ]
  },
  {
   "cell_type": "code",
   "execution_count": 74,
   "id": "7a872c7c-0a8f-4548-a07c-c0fece96f84f",
   "metadata": {},
   "outputs": [],
   "source": [
    "gridsearch_clf.best_score_"
   ]
  },
  {
   "cell_type": "markdown",
   "id": "2bd8ed3b-83c9-48df-9459-3fc4860d9225",
   "metadata": {},
   "source": [
    "#### Defining Custom IC Score"
   ]
  },
  {
   "cell_type": "code",
   "execution_count": 75,
   "id": "f75525ef-bb1f-4e80-93a9-b95a1e5445dc",
   "metadata": {},
   "outputs": [],
   "source": [
    "def rank_correl(y, y_pred):\n",
    "    return spearmanr(y, y_pred)[0]"
   ]
  },
  {
   "cell_type": "code",
   "execution_count": 76,
   "id": "30fb0cd0-aed3-4e9f-922d-7a459b7ca015",
   "metadata": {},
   "outputs": [],
   "source": [
    "ic = make_scorer(rank_correl)"
   ]
  },
  {
   "cell_type": "markdown",
   "id": "dfe94b8e-6b2c-468f-81a5-6eb6feafd05a",
   "metadata": {},
   "source": [
    "#### Regression Tree"
   ]
  },
  {
   "cell_type": "code",
   "execution_count": 77,
   "id": "aa2a9e83-ec00-41d7-80d1-f50f13822864",
   "metadata": {},
   "outputs": [],
   "source": [
    "reg_tree = DecisionTreeRegressor(random_state=42)"
   ]
  },
  {
   "cell_type": "code",
   "execution_count": 78,
   "id": "4b38266e-cbe7-4d7f-8bac-2108dbf8d576",
   "metadata": {},
   "outputs": [],
   "source": [
    "gridsearch_reg = GridSearchCV(estimator=reg_tree,\n",
    "                              param_grid=param_grid,\n",
    "                              scoring=ic,\n",
    "                              n_jobs=-1,\n",
    "                              cv=cv,\n",
    "                              refit=True,\n",
    "                              return_train_score=True)"
   ]
  },
  {
   "cell_type": "code",
   "execution_count": 79,
   "id": "6f5967e6-fadf-41ab-8b53-22944c9dfc7a",
   "metadata": {},
   "outputs": [],
   "source": [
    "gridsearch_reg.fit(X=X, y=y)"
   ]
  },
  {
   "cell_type": "code",
   "execution_count": 80,
   "id": "b03619b6-523b-47a0-9648-5f964e65abf9",
   "metadata": {},
   "outputs": [],
   "source": [
    "gridsearch_reg.best_params_"
   ]
  },
  {
   "cell_type": "code",
   "execution_count": 81,
   "id": "fa7c11bf-5864-4a9b-bced-7b14c19ddb16",
   "metadata": {},
   "outputs": [],
   "source": [
    "gridsearch_reg.best_score_"
   ]
  },
  {
   "cell_type": "code",
   "execution_count": 82,
   "id": "bd167ecd-bcee-48b5-ae8c-d7e63005774b",
   "metadata": {},
   "outputs": [],
   "source": [
    "pd.DataFrame({'Regression': pd.Series(gridsearch_reg.best_params_),\n",
    "              'Classification': pd.Series(gridsearch_clf.best_params_)})"
   ]
  },
  {
   "cell_type": "markdown",
   "id": "49562803-bf77-4983-8b82-e447fdf45f0b",
   "metadata": {},
   "source": [
    "### Classifier Cross-Validation"
   ]
  },
  {
   "cell_type": "code",
   "execution_count": 83,
   "id": "9538d55d-e3bc-47ee-b56e-74064171fe94",
   "metadata": {},
   "outputs": [],
   "source": [
    "def get_leaves_count(tree):\n",
    "    t = tree.tree_\n",
    "    n = t.node_count\n",
    "    leaves = len([i for i in range(t.node_count) if t.children_left[i]== -1])\n",
    "    return leaves"
   ]
  },
  {
   "cell_type": "code",
   "execution_count": 85,
   "id": "46efdabd-769d-476f-980b-c56f9d150521",
   "metadata": {},
   "outputs": [],
   "source": [
    "train_scores, val_scores, leaves = {}, {}, {}\n",
    "\n",
    "for max_depth in max_depths:\n",
    "    print(max_depth, end=' ', flush=True)\n",
    "    clf = DecisionTreeClassifier(criterion='gini', \n",
    "                                 max_depth=max_depth,\n",
    "                                 min_samples_leaf=5,\n",
    "                                 max_features='sqrt',\n",
    "                                 random_state=42)\n",
    "    train_scores[max_depth], val_scores[max_depth], leaves[max_depth] = [], [], []\n",
    "    for train_idx, test_idx in cv.split(X):\n",
    "        X_train, y_train,  = X.iloc[train_idx], y_binary.iloc[train_idx]\n",
    "        X_test, y_test = X.iloc[test_idx], y_binary.iloc[test_idx]\n",
    "        clf.fit(X=X_train, y=y_train)\n",
    "\n",
    "        train_pred = clf.predict_proba(X=X_train)[:, 1]\n",
    "        train_score = roc_auc_score(y_score=train_pred, y_true=y_train)\n",
    "        train_scores[max_depth].append(train_score)\n",
    "\n",
    "        test_pred = clf.predict_proba(X=X_test)[:, 1]\n",
    "        val_score = roc_auc_score(y_score=test_pred, y_true=y_test)\n",
    "        val_scores[max_depth].append(val_score)    \n",
    "        leaves[max_depth].append(get_leaves_count(clf))\n",
    "        \n",
    "clf_train_scores = pd.DataFrame(train_scores)\n",
    "clf_valid_scores = pd.DataFrame(val_scores)\n",
    "clf_leaves = pd.DataFrame(leaves)"
   ]
  },
  {
   "cell_type": "code",
   "execution_count": 86,
   "id": "8ca5c227-98e7-474b-8663-15d00271efef",
   "metadata": {},
   "outputs": [],
   "source": [
    "clf_cv_data = pd.concat([pd.melt(clf_train_scores,\n",
    "                                 var_name='Max. Depth',\n",
    "                                 value_name='ROC AUC').assign(Data='Train'),\n",
    "                         pd.melt(clf_valid_scores,\n",
    "                                 var_name='Max. Depth',\n",
    "                                 value_name='ROC AUC').assign(Data='Valid')])"
   ]
  },
  {
   "cell_type": "markdown",
   "id": "716dffc0-fbfa-4fad-8ace-216ac49d50c5",
   "metadata": {},
   "source": [
    "### Regression Tree Cross-Validation\n",
    "\n",
    "#### Running Cross-Validation"
   ]
  },
  {
   "cell_type": "code",
   "execution_count": 87,
   "id": "e48aa1c1-dee4-4b02-9418-a410ec3cc035",
   "metadata": {},
   "outputs": [],
   "source": [
    "train_scores, val_scores, leaves = {}, {}, {}\n",
    "\n",
    "for max_depth in max_depths:\n",
    "    print(max_depth, end=' ', flush=True)\n",
    "    reg_tree = DecisionTreeRegressor(max_depth=max_depth,\n",
    "                                     min_samples_leaf=50,\n",
    "                                     max_features= 'sqrt',\n",
    "                                     random_state=42)\n",
    "    train_scores[max_depth], val_scores[max_depth], leaves[max_depth] = [], [], []\n",
    "    for train_idx, test_idx in cv.split(X):\n",
    "        X_train, y_train,  = X.iloc[train_idx], y.iloc[train_idx]\n",
    "        X_test, y_test = X.iloc[test_idx], y.iloc[test_idx]\n",
    "        reg_tree.fit(X=X_train, y=y_train)\n",
    "\n",
    "        train_pred = reg_tree.predict(X=X_train)\n",
    "        train_score = spearmanr(train_pred, y_train)[0]\n",
    "        train_scores[max_depth].append(train_score)\n",
    "\n",
    "        test_pred = reg_tree.predict(X=X_test)\n",
    "        val_score = spearmanr(test_pred, y_test)[0]\n",
    "        val_scores[max_depth].append(val_score)\n",
    "        leaves[max_depth].append(get_leaves_count(reg_tree))\n",
    "\n",
    "reg_train_scores = pd.DataFrame(train_scores)\n",
    "reg_valid_scores = pd.DataFrame(val_scores)\n",
    "reg_leaves = pd.DataFrame(leaves)"
   ]
  },
  {
   "cell_type": "code",
   "execution_count": 88,
   "id": "069a5c3f-b403-42fb-a1e6-452ea5c5a414",
   "metadata": {},
   "outputs": [],
   "source": [
    "reg_cv_data = (pd.melt(reg_train_scores, var_name='Max. Depth',\n",
    "                         value_name='IC').assign(Data='Train').append(\n",
    "    pd.melt(reg_valid_scores,\n",
    "            var_name='Max. Depth',\n",
    "            value_name='IC').assign(Data='Valid')))"
   ]
  },
  {
   "cell_type": "markdown",
   "id": "7538eb81-477a-407d-99ec-ea5a16925de9",
   "metadata": {},
   "source": [
    "### Comparing CV Results"
   ]
  },
  {
   "cell_type": "code",
   "execution_count": 89,
   "id": "8cd3c2db-6bef-4b38-8bd2-246690e4586b",
   "metadata": {},
   "outputs": [],
   "source": [
    "fig, axes = plt.subplots(ncols=2, figsize=(14, 5))\n",
    "\n",
    "sns.lineplot(data=reg_cv_data,\n",
    "             x='Max. Depth', y='IC',\n",
    "             hue='Data', ci=95,\n",
    "             ax=axes[0], lw=2)\n",
    "\n",
    "axes[0].set_title('Regression Tree')\n",
    "axes[0].axvline(x=reg_valid_scores.mean().idxmax(), ls='--', c='k', lw=1)\n",
    "axes[0].axhline(y=0, ls='--', c='k', lw=1)\n",
    "\n",
    "sns.lineplot(data=clf_cv_data,\n",
    "             x='Max. Depth', y='ROC AUC',\n",
    "             hue='Data', ci=95,\n",
    "             ax=axes[1], lw=2)\n",
    "\n",
    "axes[1].set_title('Classification Tree')\n",
    "axes[1].axvline(x=clf_valid_scores.mean().idxmax(), ls='--', c='k', lw=1)\n",
    "axes[1].axhline(y=.5, ls='--', c='k', lw=1)\n",
    "for ax in axes:\n",
    "    ax.set_xlim(min(param_grid['max_depth']),\n",
    "                max(param_grid['max_depth']))\n",
    "\n",
    "fig.suptitle(f'Train-Validation Scores', fontsize=14)\n",
    "sns.despine()\n",
    "fig.tight_layout()\n",
    "fig.subplots_adjust(top=.91)\n",
    "plt.show()"
   ]
  },
  {
   "cell_type": "markdown",
   "id": "97328c8a-9790-4206-9e6c-9f769b4565e6",
   "metadata": {},
   "source": [
    "### Learning Curves for Best Models\n",
    "\n",
    "#### Classifier"
   ]
  },
  {
   "cell_type": "code",
   "execution_count": 90,
   "id": "599b2bb4-5bd1-4a42-9a72-a0b49e95d9f6",
   "metadata": {},
   "outputs": [],
   "source": [
    "sizes = np.arange(.1, 1.01, .1)"
   ]
  },
  {
   "cell_type": "code",
   "execution_count": 93,
   "id": "730ad674-7c44-4322-807b-654b3031588e",
   "metadata": {},
   "outputs": [],
   "source": [
    "train_sizes, train_scores, valid_scores = learning_curve(gridsearch_clf.best_estimator_,\n",
    "                                                         X,\n",
    "                                                         y_binary,\n",
    "                                                         train_sizes=sizes,\n",
    "                                                         cv=cv,\n",
    "                                                         scoring='roc_auc',\n",
    "                                                         n_jobs=-1,\n",
    "                                                         shuffle=True,\n",
    "                                                         random_state=42)"
   ]
  },
  {
   "cell_type": "code",
   "execution_count": 94,
   "id": "d33f6396-18fa-4d1b-877d-528267251d73",
   "metadata": {},
   "outputs": [],
   "source": [
    "clf_lc_data = pd.concat([\n",
    "    pd.melt(pd.DataFrame(train_scores.T, columns=train_sizes),\n",
    "            var_name='Train Size',\n",
    "            value_name='ROC AUC').assign(Data='Train'),\n",
    "    pd.melt(pd.DataFrame(valid_scores.T, columns=train_sizes),\n",
    "            var_name='Train Size',\n",
    "            value_name='ROC AUC').assign(Data='Valid')])\n",
    "\n",
    "clf_lc_data.info()"
   ]
  },
  {
   "cell_type": "markdown",
   "id": "6d7df27a-c28b-47f2-94d3-b3fdd5f34404",
   "metadata": {},
   "source": [
    "#### Regression Tree"
   ]
  },
  {
   "cell_type": "code",
   "execution_count": 95,
   "id": "608eb598-9125-441c-98bd-c2a41b00ba77",
   "metadata": {},
   "outputs": [],
   "source": [
    "train_sizes, train_scores, valid_scores = learning_curve(gridsearch_reg.best_estimator_,\n",
    "                                                         X, y,\n",
    "                                                         train_sizes=sizes,\n",
    "                                                         cv=cv,\n",
    "                                                         scoring=ic,\n",
    "                                                         n_jobs=-1,\n",
    "                                                         shuffle=True,\n",
    "                                                         random_state=42)"
   ]
  },
  {
   "cell_type": "code",
   "execution_count": 96,
   "id": "76737768-3e6c-44dd-9e43-131583dbbe2d",
   "metadata": {},
   "outputs": [],
   "source": [
    "reg_lc_data = pd.concat([\n",
    "    pd.melt(pd.DataFrame(train_scores.T,\n",
    "                         columns=train_sizes),\n",
    "            var_name='Train Size',\n",
    "            value_name='IC').assign(Data='Train'),\n",
    "    pd.melt(pd.DataFrame(valid_scores.T,\n",
    "                         columns=train_sizes),\n",
    "            var_name='Train Size',\n",
    "            value_name='IC').assign(Data='Valid')])\n",
    "\n",
    "reg_lc_data.info()"
   ]
  },
  {
   "cell_type": "markdown",
   "id": "0848b26b-d37a-4934-88c8-109dcc7deccc",
   "metadata": {},
   "source": [
    "#### Comparing Learning Curves"
   ]
  },
  {
   "cell_type": "code",
   "execution_count": 97,
   "id": "f3bee20e-0836-4d26-9cec-b5d3bf887168",
   "metadata": {},
   "outputs": [],
   "source": [
    "fig, axes = plt.subplots(ncols=2, figsize=(14, 5))\n",
    "xmin, xmax = reg_lc_data['Train Size'].min(), reg_lc_data['Train Size'].max()\n",
    "\n",
    "sns.lineplot(data=reg_lc_data,\n",
    "             x='Train Size', y='IC',\n",
    "             hue='Data', ci=95,  ax=axes[0], lw=2)\n",
    "axes[0].set_title('Best Regression Tree')\n",
    "axes[0].set_ylabel('IC')\n",
    "\n",
    "axes[0].xaxis.set_major_formatter(\n",
    "    FuncFormatter(lambda x, _: '{:,.0f}'.format(x)))\n",
    "\n",
    "sns.lineplot(data=clf_lc_data,\n",
    "             x='Train Size',\n",
    "             y='ROC AUC',\n",
    "             hue='Data',\n",
    "             ci=95,\n",
    "             ax=axes[1],\n",
    "             lw=2)\n",
    "axes[1].set_title('Best Classification Tree')\n",
    "axes[1].set_ylabel('ROC AUC')\n",
    "axes[1].xaxis.set_major_formatter(\n",
    "    FuncFormatter(lambda x, _: '{:,.0f}'.format(x)))\n",
    "\n",
    "for i in [0, 1]:\n",
    "    axes[i].tick_params(axis='both', which='major', labelsize=10)\n",
    "    axes[i].tick_params(axis='both', which='minor', labelsize=8)\n",
    "    axes[i].set_xlim(xmin, xmax)\n",
    "\n",
    "fig.suptitle('Learning Curves', fontsize=14)\n",
    "sns.despine()\n",
    "fig.tight_layout()\n",
    "fig.subplots_adjust(top=.9)\n",
    "plt.show()"
   ]
  },
  {
   "cell_type": "markdown",
   "id": "bce0434e-f80b-47fd-a7fb-37eb8a0a8982",
   "metadata": {},
   "source": [
    "### Feature Importance"
   ]
  },
  {
   "cell_type": "code",
   "execution_count": 98,
   "id": "a04749fa-df5f-472a-93bf-a980f7ca030e",
   "metadata": {},
   "outputs": [],
   "source": [
    "top_n = 15\n",
    "labels = X.columns.str.replace('_', ' ').str.upper()\n",
    "fi_clf = (pd.Series(gridsearch_clf.best_estimator_.feature_importances_, \n",
    "                    index=labels).sort_values(ascending=False).iloc[:top_n])\n",
    "fi_reg = (pd.Series(gridsearch_reg.best_estimator_.feature_importances_, \n",
    "                    index=labels).sort_values(ascending=False).iloc[:top_n])"
   ]
  },
  {
   "cell_type": "code",
   "execution_count": 99,
   "id": "cde81320-adb8-4e0c-91fd-ef9caa0f959f",
   "metadata": {},
   "outputs": [],
   "source": [
    "fig, axes= plt.subplots(ncols=2, figsize=(12,4), sharex=True)\n",
    "color = cm.Blues(np.linspace(.4,.9, top_n))\n",
    "fi_clf.sort_values().plot.barh(ax=axes[1], title='Classification Tree', color=color)\n",
    "fi_reg.sort_values().plot.barh(ax=axes[0], title='Regression Tree', color=color)\n",
    "axes[0].set_xlabel('Feature Importance')\n",
    "axes[1].set_xlabel('Feature Importance')\n",
    "fig.suptitle(f'Top {top_n} Features', fontsize=14)\n",
    "sns.despine()\n",
    "fig.tight_layout()\n",
    "fig.subplots_adjust(top=.9);\n",
    "plt.show()"
   ]
  },
  {
   "cell_type": "code",
   "execution_count": null,
   "id": "7197c0e9-bc24-4252-aac2-7fd367b52e95",
   "metadata": {},
   "outputs": [],
   "source": []
  }
 ],
 "metadata": {
  "kernelspec": {
   "display_name": "Python 3 (ipykernel)",
   "language": "python",
   "name": "python3"
  },
  "language_info": {
   "codemirror_mode": {
    "name": "ipython",
    "version": 3
   },
   "file_extension": ".py",
   "mimetype": "text/x-python",
   "name": "python",
   "nbconvert_exporter": "python",
   "pygments_lexer": "ipython3",
   "version": "3.12.9"
  }
 },
 "nbformat": 4,
 "nbformat_minor": 5
}
