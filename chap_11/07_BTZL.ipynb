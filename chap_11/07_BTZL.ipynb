{
 "cells": [
  {
   "cell_type": "markdown",
   "id": "3ae6b416-5592-4123-8163-98ac59b49023",
   "metadata": {},
   "source": [
    "# Backtesting with Zipline - Using the Pipeline API with ML-Driven Signals\n",
    "\n",
    "## Loading Libraries"
   ]
  },
  {
   "cell_type": "code",
   "execution_count": 3,
   "id": "a0ee7ffc-c55a-4ea3-9a02-91b1e79b510e",
   "metadata": {},
   "outputs": [],
   "source": [
    "# Numerical Computing\n",
    "import numpy as np\n",
    "\n",
    "# Data Manipulation\n",
    "import pandas as pd\n",
    "import pandas_datareader.data as web\n",
    "\n",
    "# Path, Time & Collections\n",
    "from time import time\n",
    "from pathlib import Path\n",
    "from collections import defaultdict\n",
    "\n",
    "\n",
    "# Data Visualization\n",
    "import seaborn as sns\n",
    "import matplotlib.pyplot as plt\n",
    "\n",
    "# Logger\n",
    "from logbook import Logger, StderrHandler, INFO\n",
    "\n",
    "# ZipLine\n",
    "from zipline import run_algorithm\n",
    "from zipline.api import (attach_pipeline, pipeline_output,\n",
    "                         date_rules, time_rules, record,\n",
    "                         schedule_function, commission, slippage,\n",
    "                         set_slippage, set_commission,\n",
    "                         get_open_orders, cancel_order,\n",
    "                         order_target, order_target_percent)\n",
    "\n",
    "from zipline.data import bundles\n",
    "from zipline.utils.run_algo import load_extensions\n",
    "from zipline.pipeline import Pipeline, CustomFactor\n",
    "from zipline.pipeline.data import Column, DataSet\n",
    "from zipline.pipeline.domain import JP_EQUITIES\n",
    "from zipline.pipeline.filters import StaticAssets\n",
    "from zipline.pipeline.loaders.frame import DataFrameLoader\n",
    "\n",
    "# PyFolio\n",
    "import pyfolio as pf\n",
    "from pyfolio.plotting import plot_rolling_returns, plot_rolling_sharpe\n",
    "from pyfolio.timeseries import forecast_cone_bootstrap\n",
    "\n",
    "# Warnings\n",
    "import warnings"
   ]
  },
  {
   "cell_type": "code",
   "execution_count": 4,
   "id": "dd4524e1-5b89-40a6-8846-ebad73f0283e",
   "metadata": {},
   "outputs": [],
   "source": [
    "np.random.seed(42)\n",
    "\n",
    "idx = pd.IndexSlice\n",
    "\n",
    "sns.set_style('whitegrid')\n",
    "\n",
    "warnings.filterwarnings('ignore')"
   ]
  },
  {
   "cell_type": "code",
   "execution_count": 5,
   "id": "7ff9e7f4-2de8-4910-b694-3f12e1f4501c",
   "metadata": {},
   "outputs": [],
   "source": [
    "results_path = Path('results', 'return_predictions')\n",
    "\n",
    "if not results_path.exists():\n",
    "    results_path.mkdir(parents=True)"
   ]
  },
  {
   "cell_type": "markdown",
   "id": "cd724e59-bb13-4561-834f-301ff4e7e6b0",
   "metadata": {},
   "source": [
    "### Loading Zipline Extensions"
   ]
  },
  {
   "cell_type": "code",
   "execution_count": 6,
   "id": "a5aa7f60-53b8-4668-88b9-c55d23b5e21a",
   "metadata": {},
   "outputs": [],
   "source": [
    "load_extensions(default=True,\n",
    "                extensions=[],\n",
    "                strict=True,\n",
    "                environ=None)"
   ]
  },
  {
   "cell_type": "code",
   "execution_count": 7,
   "id": "9542f40f-9ee7-4a25-b9af-3bbad0ef9ddb",
   "metadata": {},
   "outputs": [],
   "source": [
    "log_handler = StderrHandler(format_string='[{record.time:%Y-%m-%d %H:%M:%S.%f}]: ' +\n",
    "                            '{record.level_name}: {record.func_name}: {record.message}',\n",
    "                            level=INFO)\n",
    "\n",
    "log_handler.push_application()\n",
    "log = Logger('Algorithm')"
   ]
  },
  {
   "cell_type": "markdown",
   "id": "9911516f-ff1e-4b78-9ca7-e552bfdb6d45",
   "metadata": {},
   "source": [
    "### Algo Params"
   ]
  },
  {
   "cell_type": "code",
   "execution_count": 8,
   "id": "b5104a42-7efd-4eff-bfca-6cf6d8e205b6",
   "metadata": {},
   "outputs": [],
   "source": [
    "N_LONGS = 25\n",
    "\n",
    "N_SHORTS = 25\n",
    "\n",
    "MIN_POSITIONS = 15"
   ]
  },
  {
   "cell_type": "markdown",
   "id": "c8f63cf9-cbde-4b6b-b953-74bd1b7ea33b",
   "metadata": {},
   "source": [
    "### Loading Data\n",
    "\n",
    "#### Quandl Wiki Bundel"
   ]
  },
  {
   "cell_type": "code",
   "execution_count": 9,
   "id": "27acdee6-7a90-4bfc-825a-a0c835340c84",
   "metadata": {},
   "outputs": [],
   "source": [
    "# bundle_data = bundles.load('stooq')"
   ]
  },
  {
   "cell_type": "markdown",
   "id": "e864d29c-81b7-4e35-baaa-3ba18ccc3f0e",
   "metadata": {},
   "source": [
    "#### ML Predictions"
   ]
  },
  {
   "cell_type": "code",
   "execution_count": 10,
   "id": "05853ad0-2e4e-49fc-bc9c-e2484bf61c4b",
   "metadata": {},
   "outputs": [],
   "source": [
    "def load_predictions(bundle):\n",
    "    t = 1\n",
    "    df = pd.concat([pd.read_hdf(results_path / 'predictions.h5', 'train/{:02}'.format(t)),\n",
    "                    pd.read_hdf(results_path / 'predictions.h5', 'test/{:02}'.format(t))])\n",
    "    df = df[~df.index.duplicated()].drop('y_test', axis=1)\n",
    "    predictions = df.iloc[:, :5].mean(1).to_frame('predictions')\n",
    "\n",
    "    tickers = predictions.index.get_level_values('ticker').unique().tolist()\n",
    "\n",
    "    assets = bundle.asset_finder.lookup_symbols(tickers, as_of_date=None)\n",
    "    predicted_sids = pd.Int64Index([asset.sid for asset in assets])\n",
    "    ticker_map = dict(zip(tickers, predicted_sids))\n",
    "\n",
    "    return (predictions\n",
    "            .unstack('ticker')\n",
    "            .rename(columns=ticker_map)\n",
    "            .predictions\n",
    "            .tz_localize('UTC')), assets"
   ]
  },
  {
   "cell_type": "code",
   "execution_count": 11,
   "id": "44f5d8f2-2bae-4f4a-b1f2-fd653974d817",
   "metadata": {},
   "outputs": [],
   "source": [
    "# predictions, assets = load_predictions(bundle_data)"
   ]
  },
  {
   "cell_type": "markdown",
   "id": "bec509c8-f1b3-4dc8-8339-45bd3fb27575",
   "metadata": {},
   "source": [
    "#### Defining Custom Dataset"
   ]
  },
  {
   "cell_type": "code",
   "execution_count": 13,
   "id": "448a3803-283f-42cf-9d5b-c5b249701c89",
   "metadata": {},
   "outputs": [],
   "source": [
    "class SignalData(DataSet):\n",
    "    predictions = Column(dtype=float)\n",
    "    domain = JP_EQUITIES"
   ]
  },
  {
   "cell_type": "markdown",
   "id": "d5a1c354-4b9b-4647-9386-5429922d2c80",
   "metadata": {},
   "source": [
    "#### Defining Pipeline Loaders"
   ]
  },
  {
   "cell_type": "code",
   "execution_count": 15,
   "id": "b4506534-0b0d-4f1f-92ab-60355ef41c0f",
   "metadata": {},
   "outputs": [],
   "source": [
    "# signal_loader = {SignalData.predictions:\n",
    "#                  DataFrameLoader(SignalData.predictions, predictions)}"
   ]
  },
  {
   "cell_type": "markdown",
   "id": "65186a70-fdac-4da8-9ff1-e981bfe77e83",
   "metadata": {},
   "source": [
    "### Pipeline Setup\n",
    "\n",
    "#### Custom ML Factor"
   ]
  },
  {
   "cell_type": "code",
   "execution_count": 16,
   "id": "b9ce03da-411f-494a-ad62-a94dee200778",
   "metadata": {},
   "outputs": [],
   "source": [
    "class MLSignal(CustomFactor):\n",
    "    \"\"\"Converting signals to Factor\n",
    "        so we can rank and filter in Pipeline\"\"\"\n",
    "    inputs = [SignalData.predictions]\n",
    "    window_length = 1\n",
    "\n",
    "    def compute(self, today, assets, out, preds):\n",
    "        out[:] = preds"
   ]
  },
  {
   "cell_type": "markdown",
   "id": "b0cb1004-d2d0-4b57-bda5-c11b31cd4add",
   "metadata": {},
   "source": [
    "#### Creating Pipeline"
   ]
  },
  {
   "cell_type": "code",
   "execution_count": 17,
   "id": "c7757a8a-b933-4441-9047-3ca1c69dd7b1",
   "metadata": {},
   "outputs": [],
   "source": [
    "def compute_signals():\n",
    "    signals = MLSignal()\n",
    "    predictions = SignalData.predictions.latest\n",
    "    return Pipeline(columns={\n",
    "        'longs': signals.top(N_LONGS, mask=signals > 0),\n",
    "        'shorts': signals.bottom(N_SHORTS, mask=signals < 0)},\n",
    "        screen=StaticAssets(assets)\n",
    "    )"
   ]
  },
  {
   "cell_type": "markdown",
   "id": "7f2854f1-bbe3-428e-9ea7-1dd763091ae8",
   "metadata": {},
   "source": [
    "### Initializing Algorithm"
   ]
  },
  {
   "cell_type": "code",
   "execution_count": 18,
   "id": "9110439d-968e-4ca2-9f03-707aa3bd99c5",
   "metadata": {},
   "outputs": [],
   "source": [
    "def initialize(context):\n",
    "    \"\"\"\n",
    "    Called once at the start of the algorithm.\n",
    "    \"\"\"\n",
    "    context.n_longs = N_LONGS\n",
    "    context.n_shorts = N_SHORTS\n",
    "    context.min_positions = MIN_POSITIONS\n",
    "    context.universe = assets\n",
    "    context.trades = pd.Series()\n",
    "\n",
    "    set_slippage(slippage.FixedSlippage(spread=0.00))\n",
    "    set_commission(commission.PerShare(cost=0.05, min_trade_cost=1))\n",
    "\n",
    "    schedule_function(rebalance,\n",
    "                      date_rules.every_day(),\n",
    "                      time_rules.market_open(hours=1, minutes=30))\n",
    "\n",
    "    schedule_function(record_vars,\n",
    "                      date_rules.every_day(),\n",
    "                      time_rules.market_close())\n",
    "\n",
    "    pipeline = compute_signals()\n",
    "    attach_pipeline(pipeline, 'signals')"
   ]
  },
  {
   "cell_type": "markdown",
   "id": "586d5451-1570-42b8-9a27-9fcad1942b26",
   "metadata": {},
   "source": [
    "#### Getting Daily Pipeline Results"
   ]
  },
  {
   "cell_type": "code",
   "execution_count": 19,
   "id": "fa65ae1b-4e19-45ec-9550-f71a0b831c89",
   "metadata": {},
   "outputs": [],
   "source": [
    "def before_trading_start(context, data):\n",
    "    \"\"\"\n",
    "    Called every day before market open.\n",
    "    \"\"\"\n",
    "    output = pipeline_output('signals')\n",
    "    context.trades = (output['longs'].astype(int)\n",
    "                      .append(output['shorts'].astype(int).mul(-1))\n",
    "                      .reset_index()\n",
    "                      .drop_duplicates()\n",
    "                      .set_index('index')\n",
    "                      .squeeze())"
   ]
  },
  {
   "cell_type": "markdown",
   "id": "d265a72b-ccaf-4165-81e5-6e51699418b1",
   "metadata": {},
   "source": [
    "### Defining Rebalancing Logic"
   ]
  },
  {
   "cell_type": "code",
   "execution_count": 20,
   "id": "f7c57afc-8d19-4960-9f80-9f280f7eee98",
   "metadata": {},
   "outputs": [],
   "source": [
    "def rebalance(context, data):\n",
    "    \"\"\"\n",
    "    Execute orders according to schedule_function() date & time rules.\n",
    "    \"\"\"\n",
    "    trades = defaultdict(list)\n",
    "    for symbol, open_orders in get_open_orders().items():\n",
    "        for open_order in open_orders:\n",
    "            cancel_order(open_order)\n",
    "\n",
    "    positions = context.portfolio.positions\n",
    "    s = (pd.Series({s: v.amount*v.last_sale_price for s,\n",
    "                    v in positions.items()})\n",
    "         .sort_values(ascending=False))\n",
    "    \n",
    "    for stock, trade in context.trades.items():\n",
    "        if trade == 0:\n",
    "            order_target(stock, target=0)\n",
    "        else:\n",
    "            trades[trade].append(stock)\n",
    "\n",
    "    context.longs, context.shorts = len(trades[1]), len(trades[-1])\n",
    "    if context.longs > context.min_positions and context.shorts > context.min_positions:\n",
    "        for stock in trades[-1]:\n",
    "            order_target_percent(stock, -1 / context.shorts)\n",
    "        for stock in trades[1]:\n",
    "            order_target_percent(stock, 1 / context.longs)\n",
    "    else:\n",
    "        for stock in trades[-1] + trades[1]:\n",
    "            if stock in positions:\n",
    "                order_target(stock, 0)"
   ]
  },
  {
   "cell_type": "markdown",
   "id": "9e379854-d6b3-40a8-92d9-b583a8e301d6",
   "metadata": {},
   "source": [
    "### Record Data Points"
   ]
  },
  {
   "cell_type": "code",
   "execution_count": 21,
   "id": "d8ab00d0-ead3-4a6b-850a-8cbf8c5b053f",
   "metadata": {},
   "outputs": [],
   "source": [
    "def record_vars(context, data):\n",
    "    \"\"\"\n",
    "    Plot variables at the end of each day.\n",
    "    \"\"\"\n",
    "    record(leverage=context.account.leverage,\n",
    "           longs=context.longs,\n",
    "           shorts=context.shorts)"
   ]
  },
  {
   "cell_type": "markdown",
   "id": "3516e50a-f936-4e99-b631-deb69f8ec427",
   "metadata": {},
   "source": [
    "### Running Algorithm"
   ]
  },
  {
   "cell_type": "code",
   "execution_count": 22,
   "id": "c03eb343-dc6d-4de3-9108-1290a08082f3",
   "metadata": {},
   "outputs": [],
   "source": [
    "dates = predictions.index.get_level_values('date')\n",
    "\n",
    "start_date = dates.min() + pd.DateOffset(day=1)\n",
    "end_date = dates.max()"
   ]
  },
  {
   "cell_type": "code",
   "execution_count": 23,
   "id": "bc17d8fb-0305-46f1-9ccb-e6046996b521",
   "metadata": {},
   "outputs": [],
   "source": [
    "print('Start:\\t{}\\nEnd:\\t{}'.format(start_date.date(), end_date.date()))"
   ]
  },
  {
   "cell_type": "code",
   "execution_count": 24,
   "id": "b43e4e1a-c405-47ab-a7d8-141d7b91c75b",
   "metadata": {},
   "outputs": [],
   "source": [
    "start = time()\n",
    "results = run_algorithm(start=start_date,\n",
    "                        end=end_date,\n",
    "                        initialize=initialize,\n",
    "                        before_trading_start=before_trading_start,\n",
    "                        capital_base=1e6,\n",
    "                        data_frequency='daily',\n",
    "                        bundle='stooq',\n",
    "                        custom_loader=signal_loader)# need to modify zipline\n",
    "\n",
    "print('Duration: {:.2f}s'.format(time() - start))"
   ]
  },
  {
   "cell_type": "markdown",
   "id": "e8329c69-e9f1-41be-8c1d-2bce4630af36",
   "metadata": {},
   "source": [
    "### PyFolio Analysis"
   ]
  },
  {
   "cell_type": "code",
   "execution_count": 25,
   "id": "4a17efef-47f5-4a60-8c6e-fa5d675bb320",
   "metadata": {},
   "outputs": [],
   "source": [
    "returns, positions, transactions = pf.utils.extract_rets_pos_txn_from_zipline(results)"
   ]
  },
  {
   "cell_type": "code",
   "execution_count": 26,
   "id": "b5e0463b-b573-4633-a4ab-37d2f68d6bea",
   "metadata": {},
   "outputs": [],
   "source": [
    "benchmark = web.DataReader('NIKKEI225', \n",
    "                           'fred', \n",
    "                           start='2015', \n",
    "                           end='2020').squeeze()\n",
    "\n",
    "benchmark = benchmark.pct_change().tz_localize('UTC')"
   ]
  },
  {
   "cell_type": "markdown",
   "id": "cbb16887-03e5-4781-8ed1-4f7412a94e2c",
   "metadata": {},
   "source": [
    "#### Custom Plots"
   ]
  },
  {
   "cell_type": "code",
   "execution_count": 27,
   "id": "bbbf839e-4809-49cf-a2f2-188e9b1115ab",
   "metadata": {},
   "outputs": [],
   "source": [
    "fig, axes = plt.subplots(ncols=2, figsize=(16, 5))\n",
    "\n",
    "plot_rolling_returns(returns,\n",
    "                     factor_returns=benchmark,\n",
    "                     live_start_date='2018-01-01',\n",
    "                     logy=False,\n",
    "                     cone_std=2,\n",
    "                     legend_loc='best',\n",
    "                     volatility_match=False,\n",
    "                     cone_function=forecast_cone_bootstrap,\n",
    "                    ax=axes[0])\n",
    "plot_rolling_sharpe(returns, ax=axes[1], rolling_window=63)\n",
    "axes[0].set_title('Cumulative Returns - In and Out-of-Sample')\n",
    "axes[1].set_title('Rolling Sharpe Ratio (3 Months)')\n",
    "fig.tight_layout()\n",
    "fig.savefig((results_path / 'pyfolio_out_of_sample').as_posix(), dpi=300);\n",
    "plt.show()"
   ]
  },
  {
   "cell_type": "markdown",
   "id": "13425160-6ee0-46fd-b8ca-2dab675ae847",
   "metadata": {},
   "source": [
    "### Tear Sheets"
   ]
  },
  {
   "cell_type": "code",
   "execution_count": 28,
   "id": "29cf8f7e-d096-4060-9632-57743854d16d",
   "metadata": {},
   "outputs": [],
   "source": [
    "pf.create_full_tear_sheet(returns, \n",
    "                          positions=positions, \n",
    "                          transactions=transactions,\n",
    "                          benchmark_rets=benchmark,\n",
    "                          live_start_date='2018-01-01', \n",
    "                          round_trips=True)"
   ]
  },
  {
   "cell_type": "code",
   "execution_count": null,
   "id": "8fe36d27-13d7-43fc-951c-ca61f78e20cb",
   "metadata": {},
   "outputs": [],
   "source": []
  }
 ],
 "metadata": {
  "kernelspec": {
   "display_name": "Python 3 (ipykernel)",
   "language": "python",
   "name": "python3"
  },
  "language_info": {
   "codemirror_mode": {
    "name": "ipython",
    "version": 3
   },
   "file_extension": ".py",
   "mimetype": "text/x-python",
   "name": "python",
   "nbconvert_exporter": "python",
   "pygments_lexer": "ipython3",
   "version": "3.12.9"
  }
 },
 "nbformat": 4,
 "nbformat_minor": 5
}
