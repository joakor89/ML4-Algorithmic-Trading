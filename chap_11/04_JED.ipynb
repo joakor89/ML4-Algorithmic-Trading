{
 "cells": [
  {
   "cell_type": "markdown",
   "id": "6a385a09-73d1-4c9e-a044-7260f4ec4562",
   "metadata": {},
   "source": [
    "# Japanese Equity Data - Feature Engineering\n",
    "\n",
    "### Loading Libraries"
   ]
  },
  {
   "cell_type": "code",
   "execution_count": 1,
   "id": "63df6ad2-6c59-40b8-8103-95f02145c665",
   "metadata": {},
   "outputs": [],
   "source": [
    "# Warnings\n",
    "import warnings\n",
    "\n",
    "# Numerical Computing\n",
    "import numpy as np\n",
    "\n",
    "# Data Manipulation\n",
    "import pandas as pd\n",
    "\n",
    "# Data visualization\n",
    "import seaborn as sns\n",
    "import matplotlib.pyplot as plt\n",
    "\n",
    "# Technical Analysis\n",
    "import talib\n",
    "\n",
    "# Path\n",
    "from pathlib import Path\n"
   ]
  },
  {
   "cell_type": "code",
   "execution_count": 2,
   "id": "95037f18-80a5-4168-ab2e-626dcfe4620d",
   "metadata": {},
   "outputs": [],
   "source": [
    "idx = pd.IndexSlice\n",
    "\n",
    "sns.set_style('white')\n",
    "\n",
    "warnings.filterwarnings('ignore')"
   ]
  },
  {
   "cell_type": "markdown",
   "id": "cbfbacb1-c4b8-4b4f-9371-eeb857b2074b",
   "metadata": {},
   "source": [
    "###Get Data\n",
    "\n",
    "#### Stooq Japanese Equity Data `2014-2019`"
   ]
  },
  {
   "cell_type": "code",
   "execution_count": 3,
   "id": "c9ac67c1-50b3-4c84-8bfc-b5cde9b5e4ef",
   "metadata": {},
   "outputs": [],
   "source": [
    "DATA_DIR = Path('..', 'data')"
   ]
  },
  {
   "cell_type": "code",
   "execution_count": 4,
   "id": "400b1830-2977-44ba-a150-5a76ef15744a",
   "metadata": {},
   "outputs": [],
   "source": [
    "prices = (pd.read_hdf(DATA_DIR / 'assets.h5', 'stooq/jp/tse/stocks/prices')\n",
    "          .loc[idx[:, '2010': '2019'], :]\n",
    "          .loc[lambda df: ~df.index.duplicated(), :])"
   ]
  },
  {
   "cell_type": "code",
   "execution_count": 5,
   "id": "06ec873e-2da6-47af-8bc9-c0f46255d285",
   "metadata": {},
   "outputs": [],
   "source": [
    "prices.info(show_counts=True)"
   ]
  },
  {
   "cell_type": "code",
   "execution_count": null,
   "id": "7a76c376-9c2e-4dcb-9394-2821046de51c",
   "metadata": {},
   "outputs": [],
   "source": [
    "before = len(prices.index.unique('ticker').unique())"
   ]
  },
  {
   "cell_type": "markdown",
   "id": "6ec7cc75-1794-4bd5-aa07-f3f62397483d",
   "metadata": {},
   "source": [
    "#### Removing Symbols with Missing Values"
   ]
  },
  {
   "cell_type": "code",
   "execution_count": 6,
   "id": "c31c6cf5-707a-42d6-96b3-cb349ca42145",
   "metadata": {},
   "outputs": [],
   "source": [
    "prices = (prices.unstack('ticker')\n",
    "        .sort_index()\n",
    "        .ffill(limit=5)\n",
    "        .dropna(axis=1)\n",
    "        .stack('ticker')\n",
    "        .swaplevel())\n",
    "\n",
    "prices.info(show_counts=True)"
   ]
  },
  {
   "cell_type": "code",
   "execution_count": 7,
   "id": "059124d6-99bc-49d3-b15b-4f4445c68ab4",
   "metadata": {},
   "outputs": [],
   "source": [
    "after = len(prices.index.unique('ticker').unique())\n",
    "\n",
    "print(f'Before: {before:,.0f} after: {after:,.0f}')"
   ]
  },
  {
   "cell_type": "markdown",
   "id": "95a1f989-c8a3-48c2-ae4d-f1f2bc053b59",
   "metadata": {},
   "source": [
    "#### Keeping Most Traded Symbols"
   ]
  },
  {
   "cell_type": "code",
   "execution_count": 8,
   "id": "eb2624f8-9e9d-4df9-a60d-bd90c3584131",
   "metadata": {},
   "outputs": [],
   "source": [
    "dv = prices.close.mul(prices.volume)\n",
    "\n",
    "keep = dv.groupby('ticker').median().nlargest(1000).index.tolist()"
   ]
  },
  {
   "cell_type": "code",
   "execution_count": 9,
   "id": "297e1944-f6c0-45a9-b555-4f87acd59e63",
   "metadata": {},
   "outputs": [],
   "source": [
    "prices = prices.loc[idx[keep, :], :]\n",
    "\n",
    "prices.info(show_counts=True)"
   ]
  },
  {
   "cell_type": "markdown",
   "id": "5777c8af-cdf2-47c0-b26d-35b6b31cf77a",
   "metadata": {},
   "source": [
    "### Feature Engineering\n",
    "\n",
    "#### Computing Period Returns"
   ]
  },
  {
   "cell_type": "code",
   "execution_count": 10,
   "id": "8b3a49cf-5eca-46ad-90ca-5a8c508c1f31",
   "metadata": {},
   "outputs": [],
   "source": [
    "intervals = [1, 5, 10, 21, 63]"
   ]
  },
  {
   "cell_type": "code",
   "execution_count": 11,
   "id": "05102207-2424-4edd-8895-349035c53925",
   "metadata": {},
   "outputs": [],
   "source": [
    "returns = []\n",
    "\n",
    "by_ticker = prices.groupby(level='ticker').close\n",
    "\n",
    "for t in intervals:\n",
    "    returns.append(by_ticker.pct_change(t).to_frame(f'ret_{t}'))\n",
    "\n",
    "returns = pd.concat(returns, axis=1)"
   ]
  },
  {
   "cell_type": "code",
   "execution_count": 12,
   "id": "67b8e7df-ac82-4f12-82b0-d8adb8b8bcb5",
   "metadata": {},
   "outputs": [],
   "source": [
    "returns.info(show_counts=True)"
   ]
  },
  {
   "cell_type": "markdown",
   "id": "7e9aeca8-ed82-45bb-9cbd-f9f549666530",
   "metadata": {},
   "source": [
    "### Removing Outliers"
   ]
  },
  {
   "cell_type": "code",
   "execution_count": 13,
   "id": "42add84b-7ade-4cd1-84f1-ffb7bb9eabe7",
   "metadata": {},
   "outputs": [],
   "source": [
    "max_ret_by_sym = returns.groupby(level='ticker').max()"
   ]
  },
  {
   "cell_type": "code",
   "execution_count": 14,
   "id": "50c03f2b-ee1c-4905-b0f5-43a8184e8e56",
   "metadata": {},
   "outputs": [],
   "source": [
    "percentiles = [0.001, .005, .01, .025, .05, .1]\n",
    "percentiles += [1-p for p in percentiles]\n",
    "\n",
    "max_ret_by_sym.describe(percentiles=sorted(percentiles)[6:])"
   ]
  },
  {
   "cell_type": "code",
   "execution_count": 15,
   "id": "185a28b8-524d-476a-a698-3002aa528171",
   "metadata": {},
   "outputs": [],
   "source": [
    "quantiles = max_ret_by_sym.quantile(.95)\n",
    "\n",
    "to_drop = []\n",
    "\n",
    "for ret, q in quantiles.items():\n",
    "    to_drop.extend(max_ret_by_sym[max_ret_by_sym[ret]>q].index.tolist()) "
   ]
  },
  {
   "cell_type": "code",
   "execution_count": 16,
   "id": "5637db25-45bb-49a1-a33b-a8776eb5c828",
   "metadata": {},
   "outputs": [],
   "source": [
    "to_drop = pd.Series(to_drop).value_counts()\n",
    "to_drop = to_drop[to_drop > 1].index.tolist()\n",
    "\n",
    "len(to_drop)"
   ]
  },
  {
   "cell_type": "code",
   "execution_count": 17,
   "id": "442f1eba-1744-4001-aed6-0ed982a9637a",
   "metadata": {},
   "outputs": [],
   "source": [
    "prices = prices.drop(to_drop, level='ticker')\n",
    "\n",
    "prices.info(show_counts=True)"
   ]
  },
  {
   "cell_type": "markdown",
   "id": "9167e757-be24-4d69-bf84-4514903eadab",
   "metadata": {},
   "source": [
    "### Calculating Relative Return Percentiles"
   ]
  },
  {
   "cell_type": "code",
   "execution_count": 18,
   "id": "9996f926-f9ea-4ec4-93f5-65b39d2d4b3e",
   "metadata": {},
   "outputs": [],
   "source": [
    "returns = []\n",
    "\n",
    "by_sym = prices.groupby(level='ticker').close\n",
    "\n",
    "for t in intervals:\n",
    "    ret = by_sym.pct_change(t)\n",
    "    rel_perc = (ret.groupby(level='date')\n",
    "             .apply(lambda x: pd.qcut(x, q=20, labels=False, duplicates='drop')))\n",
    "    returns.extend([ret.to_frame(f'ret_{t}'), rel_perc.to_frame(f'ret_rel_perc_{t}')])\n",
    "\n",
    "returns = pd.concat(returns, axis=1)"
   ]
  },
  {
   "cell_type": "markdown",
   "id": "9ec60247-18a2-4abb-993c-a09b7c340801",
   "metadata": {},
   "source": [
    "### Technical Indicators\n",
    "\n",
    "#### Percentage Price Oscillator"
   ]
  },
  {
   "cell_type": "code",
   "execution_count": 19,
   "id": "0d777ced-9390-4ee5-8582-0f5bf1d031b7",
   "metadata": {},
   "outputs": [],
   "source": [
    "ppo = prices.groupby(level='ticker').close.apply(talib.PPO).to_frame('PPO')"
   ]
  },
  {
   "cell_type": "markdown",
   "id": "0f1e9f05-bc23-4058-96a2-23f0e5f70d38",
   "metadata": {},
   "source": [
    "#### Normalized Average True Range"
   ]
  },
  {
   "cell_type": "code",
   "execution_count": 20,
   "id": "fb6bc0d5-ae02-4470-ab5e-acd5a7d54114",
   "metadata": {},
   "outputs": [],
   "source": [
    "natr = prices.groupby(level='ticker', group_keys=False).apply(lambda x: talib.NATR(x.high, x.low, x.close)).to_frame('NATR')"
   ]
  },
  {
   "cell_type": "markdown",
   "id": "c4598932-df98-4772-adce-c0afc0268c1c",
   "metadata": {},
   "source": [
    "#### Relative Strength Indicator"
   ]
  },
  {
   "cell_type": "code",
   "execution_count": 21,
   "id": "5779b1e1-a14f-4f5c-94c9-b6dfc5f330ae",
   "metadata": {},
   "outputs": [],
   "source": [
    "rsi = prices.groupby(level='ticker').close.apply(talib.RSI).to_frame('RSI')"
   ]
  },
  {
   "cell_type": "markdown",
   "id": "bd44163f-269e-476a-a6fe-934aa537e8ef",
   "metadata": {},
   "source": [
    "#### Bollinger Bands"
   ]
  },
  {
   "cell_type": "code",
   "execution_count": 22,
   "id": "c617cc66-8a56-46a4-a2c8-1416117706fc",
   "metadata": {},
   "outputs": [],
   "source": [
    "def get_bollinger(x):\n",
    "    u, m, l = talib.BBANDS(x)\n",
    "    return pd.DataFrame({'u': u, 'm': m, 'l': l})"
   ]
  },
  {
   "cell_type": "code",
   "execution_count": 23,
   "id": "a8e1bc05-c5dc-48b2-a1ab-7f8212d535aa",
   "metadata": {},
   "outputs": [],
   "source": [
    "bbands = prices.groupby(level='ticker').close.apply(get_bollinger)"
   ]
  },
  {
   "cell_type": "markdown",
   "id": "56d179f1-0344-4b50-8b13-a8921f49e897",
   "metadata": {},
   "source": [
    "### Combining Features"
   ]
  },
  {
   "cell_type": "code",
   "execution_count": 24,
   "id": "5b235997-8277-4cf6-8076-abf25b17474d",
   "metadata": {},
   "outputs": [],
   "source": [
    "data = pd.concat([prices, returns, ppo, natr, rsi, bbands], axis=1)"
   ]
  },
  {
   "cell_type": "code",
   "execution_count": 25,
   "id": "f56f8167-c2ed-4623-8d4e-ea281e30231f",
   "metadata": {},
   "outputs": [],
   "source": [
    "data['bbl'] = data.close.div(data.l)\n",
    "data['bbu'] = data.u.div(data.close)\n",
    "\n",
    "data = data.drop(['u', 'm', 'l'], axis=1)"
   ]
  },
  {
   "cell_type": "code",
   "execution_count": 26,
   "id": "c00500e6-f3d8-4ddc-ac70-310a2ae0e3c2",
   "metadata": {},
   "outputs": [],
   "source": [
    "data.bbu.corr(data.bbl, method='spearman')"
   ]
  },
  {
   "cell_type": "markdown",
   "id": "028cc63d-0aca-4a72-b255-2c7976d2538f",
   "metadata": {},
   "source": [
    "### Plotting Indicators for Randomly Sample Ticker"
   ]
  },
  {
   "cell_type": "code",
   "execution_count": 27,
   "id": "ab077288-7c13-4419-aa35-a0a540bcbd60",
   "metadata": {},
   "outputs": [],
   "source": [
    "indicators = ['close', 'bbl', 'bbu', 'PPO', 'NATR', 'RSI']\n",
    "\n",
    "ticker = np.random.choice(data.index.get_level_values('ticker'))\n",
    "(data.loc[idx[ticker, :], indicators].reset_index('ticker', drop=True)\n",
    " .plot(lw=1, subplots=True, figsize=(16, 10), title=indicators, layout=(3, 2), legend=False))\n",
    "plt.suptitle(ticker, fontsize=14)\n",
    "sns.despine()\n",
    "plt.tight_layout()\n",
    "plt.subplots_adjust(top=.95)\n",
    "plt.show()"
   ]
  },
  {
   "cell_type": "code",
   "execution_count": 28,
   "id": "9cc8f88a-a1f4-464e-a085-60fb7a4beed9",
   "metadata": {},
   "outputs": [],
   "source": [
    "data = data.drop(prices.columns, axis=1)"
   ]
  },
  {
   "cell_type": "markdown",
   "id": "3498614d-8e8c-435f-98b2-20275de5645f",
   "metadata": {},
   "source": [
    "#### Creating Time Period Indicators"
   ]
  },
  {
   "cell_type": "code",
   "execution_count": 32,
   "id": "5ffc2f48-ec1d-40b2-881e-007727ffc137",
   "metadata": {},
   "outputs": [],
   "source": [
    "dates = data.index.get_level_values('date')\n",
    "\n",
    "data['weekday'] = dates.weekday\n",
    "data['month'] = dates.month\n",
    "data['year'] = dates.year"
   ]
  },
  {
   "cell_type": "markdown",
   "id": "b7e10e1b-9f71-4fa4-89b1-9b948db02df0",
   "metadata": {},
   "source": [
    "### Computing Forward Returns"
   ]
  },
  {
   "cell_type": "code",
   "execution_count": 33,
   "id": "0601edf5-4aef-48f4-8a7b-b470e7c150a2",
   "metadata": {},
   "outputs": [],
   "source": [
    "outcomes = []\n",
    "\n",
    "by_ticker = data.groupby('ticker')\n",
    "\n",
    "for t in intervals:\n",
    "    k = f'fwd_ret_{t:02}'\n",
    "    outcomes.append(k)\n",
    "    data[k] = by_ticker[f'ret_{t}'].shift(-t)"
   ]
  },
  {
   "cell_type": "code",
   "execution_count": 34,
   "id": "6b5275e4-0eba-468a-b9e9-c5d84193781e",
   "metadata": {},
   "outputs": [],
   "source": [
    "data.info(null_counts=True)"
   ]
  },
  {
   "cell_type": "code",
   "execution_count": 35,
   "id": "1c407ed8-7a0b-49b1-b522-363131a88caf",
   "metadata": {},
   "outputs": [],
   "source": [
    "data.to_hdf('data.h5', 'stooq/japan/equities')"
   ]
  },
  {
   "cell_type": "code",
   "execution_count": null,
   "id": "3bd0b235-852c-4c82-969d-ed2b3f8e1d28",
   "metadata": {},
   "outputs": [],
   "source": []
  }
 ],
 "metadata": {
  "kernelspec": {
   "display_name": "Python 3 (ipykernel)",
   "language": "python",
   "name": "python3"
  },
  "language_info": {
   "codemirror_mode": {
    "name": "ipython",
    "version": 3
   },
   "file_extension": ".py",
   "mimetype": "text/x-python",
   "name": "python",
   "nbconvert_exporter": "python",
   "pygments_lexer": "ipython3",
   "version": "3.12.9"
  }
 },
 "nbformat": 4,
 "nbformat_minor": 5
}
