{
 "cells": [
  {
   "cell_type": "markdown",
   "id": "51ffa39a-b090-4725-980e-41846d52f969",
   "metadata": {},
   "source": [
    "# Working with Order Book Data\n",
    "\n",
    "### Loading Libraries"
   ]
  },
  {
   "cell_type": "code",
   "execution_count": 11,
   "id": "fe7e703b-76d1-4263-a1cc-934ee84575c0",
   "metadata": {},
   "outputs": [],
   "source": [
    "# Numerical Computing\n",
    "import numpy as np\n",
    "\n",
    "# Data Manipulation\n",
    "import pandas as pd\n",
    "\n",
    "# Data Visualization\n",
    "import seaborn as sns\n",
    "import matplotlib.pyplot as plt\n",
    "from matplotlib.ticker import FuncFormatter\n",
    "\n",
    "# Warnings\n",
    "import warnings\n",
    "\n",
    "# File Path\n",
    "import gzip\n",
    "from pathlib import Path\n",
    "from urllib.request import urlretrieve\n",
    "from urllib.parse import urljoin\n",
    "\n",
    "# Date & Time\n",
    "from time import time\n",
    "from datetime import timedelta\n",
    "\n",
    "# Collections\n",
    "from collections import namedtuple, Counter, defaultdict\n",
    "\n",
    "# Operating System\n",
    "import os\n",
    "import shutil\n",
    "from struct import unpack"
   ]
  },
  {
   "cell_type": "code",
   "execution_count": 12,
   "id": "6379b742-5f9b-4cab-85c0-87b790fa9f7f",
   "metadata": {},
   "outputs": [],
   "source": [
    "%matplotlib inline"
   ]
  },
  {
   "cell_type": "code",
   "execution_count": 13,
   "id": "3d5b6e08-c637-4e37-9168-171491635ec2",
   "metadata": {},
   "outputs": [],
   "source": [
    "warnings.filterwarnings('ignore')"
   ]
  },
  {
   "cell_type": "code",
   "execution_count": 14,
   "id": "45b3d5b6-bdd1-48e3-bcb4-7478e457fdc0",
   "metadata": {},
   "outputs": [],
   "source": [
    "sns.set_style('whitegrid')"
   ]
  },
  {
   "cell_type": "code",
   "execution_count": 15,
   "id": "e5930597-d280-4547-a3c2-8db4c24c6562",
   "metadata": {},
   "outputs": [],
   "source": [
    "def format_time(t):\n",
    "    \"\"\"Return a formatted time string 'HH:MM:SS\n",
    "    based on a numeric time() value\"\"\"\n",
    "    m, s = divmod(t, 60)\n",
    "    h, m = divmod(m, 60)\n",
    "    return f'{h:0>2.0f}:{m:0>2.0f}:{s:0>2.0f}'"
   ]
  },
  {
   "cell_type": "markdown",
   "id": "f38caa44-253d-40b9-b390-1190fab53ce7",
   "metadata": {},
   "source": [
    "#### Set Data Paths"
   ]
  },
  {
   "cell_type": "code",
   "execution_count": 16,
   "id": "1337ff73-f341-425b-9e93-1564c13da3f1",
   "metadata": {},
   "outputs": [],
   "source": [
    "data_path = Path('data') \n",
    "\n",
    "itch_store = str(data_path / 'itch.h5')\n",
    "\n",
    "order_book_store = data_path / 'order_book.h5'\n",
    "\n",
    "date = '10302019'"
   ]
  },
  {
   "cell_type": "markdown",
   "id": "3ce903c4-9744-4b35-a8bc-8da2f6ca81aa",
   "metadata": {},
   "source": [
    "### Build Order Book"
   ]
  },
  {
   "cell_type": "code",
   "execution_count": 17,
   "id": "5d9ee86f-62e3-41c1-8354-dcb5d02f0edc",
   "metadata": {},
   "outputs": [],
   "source": [
    "stock = 'AAPL'\n",
    "\n",
    "order_dict = {-1: 'sell', 1: 'buy'}"
   ]
  },
  {
   "cell_type": "markdown",
   "id": "961c7693-0262-4902-9c18-21290e83e2c5",
   "metadata": {},
   "source": [
    "### Get All Messages for Given Stock"
   ]
  },
  {
   "cell_type": "code",
   "execution_count": 18,
   "id": "9abbd784-4196-434b-bfc4-f6454805cb5b",
   "metadata": {},
   "outputs": [],
   "source": [
    "def get_messages(date, stock=stock):\n",
    "    \"\"\"Collect trading messages for given stock\"\"\"\n",
    "    with pd.HDFStore(itch_store) as store:\n",
    "        stock_locate = store.select('R', where='stock = stock').stock_locate.iloc[0]\n",
    "        target = 'stock_locate = stock_locate'\n",
    "\n",
    "        data = {}\n",
    "        # Trading Message Types\n",
    "        messages = ['A', 'F', 'E', 'C', 'X', 'D', 'U', 'P', 'Q']\n",
    "        for m in messages:\n",
    "            data[m] = store.select(m, where=target).drop('stock_locate', axis=1).assign(type=m)\n",
    "\n",
    "    order_cols = ['order_reference_number', 'buy_sell_indicator', 'shares', 'price']\n",
    "    orders = pd.concat([data['A'], data['F']], sort=False, ignore_index=True).loc[:, order_cols]\n",
    "\n",
    "    for m in messages[2: -3]:\n",
    "        data[m] = data[m].merge(orders, how='left')\n",
    "\n",
    "    data['U'] = data['U'].merge(orders, how='left',\n",
    "                                right_on='order_reference_number',\n",
    "                                left_on='original_order_reference_number',\n",
    "                                suffixes=['', '_replaced'])\n",
    "\n",
    "    data['Q'].rename(columns={'cross_price': 'price'}, inplace=True)\n",
    "    data['X']['shares'] = data['X']['cancelled_shares']\n",
    "    data['X'] = data['X'].dropna(subset=['price'])\n",
    "\n",
    "    data = pd.concat([data[m] for m in messages], ignore_index=True, sort=False)\n",
    "    data['date'] = pd.to_datetime(date, format='%m%d%Y')\n",
    "    data.timestamp = data['date'].add(data.timestamp)\n",
    "    data = data[data.printable != 0]\n",
    "\n",
    "    drop_cols = ['tracking_number', 'order_reference_number', 'original_order_reference_number',\n",
    "                 'cross_type', 'new_order_reference_number', 'attribution', 'match_number',\n",
    "                 'printable', 'date', 'cancelled_shares']\n",
    "    return data.drop(drop_cols, axis=1).sort_values('timestamp').reset_index(drop=True)"
   ]
  },
  {
   "cell_type": "code",
   "execution_count": 21,
   "id": "4f83fdf6-2bd6-428f-8bf2-466683c7456a",
   "metadata": {},
   "outputs": [],
   "source": [
    "messages = get_messages(date=date)\n",
    "\n",
    "messages.info(null_counts=True)"
   ]
  },
  {
   "cell_type": "code",
   "execution_count": null,
   "id": "139d0e51-d104-4fdd-8d01-1f731b16c0df",
   "metadata": {},
   "outputs": [],
   "source": []
  }
 ],
 "metadata": {
  "kernelspec": {
   "display_name": "Python 3 (ipykernel)",
   "language": "python",
   "name": "python3"
  },
  "language_info": {
   "codemirror_mode": {
    "name": "ipython",
    "version": 3
   },
   "file_extension": ".py",
   "mimetype": "text/x-python",
   "name": "python",
   "nbconvert_exporter": "python",
   "pygments_lexer": "ipython3",
   "version": "3.12.9"
  }
 },
 "nbformat": 4,
 "nbformat_minor": 5
}
