{
 "cells": [
  {
   "cell_type": "markdown",
   "id": "d1636980-28c2-4c45-957d-5a268a0937dd",
   "metadata": {},
   "source": [
    "# Common Alpha Factors\n",
    "\n",
    "### Loading Libraries"
   ]
  },
  {
   "cell_type": "code",
   "execution_count": 26,
   "id": "4d136f77-9388-4034-b933-2ff5f1f4b207",
   "metadata": {},
   "outputs": [],
   "source": [
    "# Numerical Computing\n",
    "import numpy as np\n",
    "\n",
    "# Data Manipulation\n",
    "import pandas as pd\n",
    "\n",
    "# Data Visualization\n",
    "import seaborn as sns\n",
    "import matplotlib.pyplot as plt\n",
    "\n",
    "# Warnings\n",
    "import warnings\n",
    "\n",
    "# Path\n",
    "from pathlib import Path"
   ]
  },
  {
   "cell_type": "code",
   "execution_count": 27,
   "id": "01ce815c-362c-435e-8074-096db6d3b73a",
   "metadata": {},
   "outputs": [],
   "source": [
    "idx = pd.IndexSlice\n",
    "\n",
    "sns.set_style('whitegrid')\n",
    "\n",
    "warnings.filterwarnings('ignore')\n",
    "\n",
    "deciles = np.arange(.1, 1, .1).round(1)"
   ]
  },
  {
   "cell_type": "markdown",
   "id": "b354533f-9d17-494b-9ae1-ac02309bfdbf",
   "metadata": {},
   "source": [
    "### Loading Data"
   ]
  },
  {
   "cell_type": "code",
   "execution_count": 33,
   "id": "c5df6a9b-f85b-4e2f-9284-52c85448cdb4",
   "metadata": {},
   "outputs": [],
   "source": [
    "data = pd.read_hdf('data.h5', 'data/top500')\n",
    "\n",
    "price_sample = pd.read_hdf('data.h5', 'data/sample')"
   ]
  },
  {
   "cell_type": "markdown",
   "id": "a3887fee-1bb4-4ed0-9c88-1236dd36d5d9",
   "metadata": {},
   "source": [
    "### TA-Lib: Function Groups"
   ]
  },
  {
   "cell_type": "code",
   "execution_count": 36,
   "id": "2a57ecb7-2e00-44a9-aeee-1e98a024f291",
   "metadata": {},
   "outputs": [],
   "source": [
    "function_groups = ['Overlap Studies',\n",
    "                   'Momentum Indicators',\n",
    "                   'Volume Indicators',\n",
    "                   'Volatility Indicators',\n",
    "                   'Price Transform',\n",
    "                   'Cycle Indicators',\n",
    "                   'Pattern Recognition',\n",
    "                   'Statistic Functions',\n",
    "                   'Math Transform',\n",
    "                   'Math Operators']"
   ]
  },
  {
   "cell_type": "code",
   "execution_count": 38,
   "id": "5c2e9fef-e4a1-40ab-8702-340e79cf4f25",
   "metadata": {},
   "outputs": [],
   "source": [
    "talib_grps = talib.get_function_groups()"
   ]
  },
  {
   "cell_type": "markdown",
   "id": "02fbb0ec-f74d-4124-97bf-3147947b92c4",
   "metadata": {},
   "source": [
    "### Moving Averages\n",
    "\n",
    "#### Simple Moving Average (SMA)"
   ]
  },
  {
   "cell_type": "code",
   "execution_count": 43,
   "id": "a8416733-9f8d-41d1-9f4b-19e1f3e7b28a",
   "metadata": {},
   "outputs": [],
   "source": [
    "df = price_sample.loc['2012': '2013', ['close']]"
   ]
  },
  {
   "cell_type": "code",
   "execution_count": 45,
   "id": "ae6233db-718b-4095-b6bc-f73815aad0bc",
   "metadata": {},
   "outputs": [],
   "source": [
    "for t in [5, 21, 63]:\n",
    "    df[f'SMA_{t}'] = talib.SMA(df.close,\n",
    "                               timeperiod=t)"
   ]
  },
  {
   "cell_type": "code",
   "execution_count": 47,
   "id": "d7f6d8e0-f600-45b5-a574-9081133f8d87",
   "metadata": {},
   "outputs": [],
   "source": [
    "ax = df.plot(figsize=(14, 5), rot=0)\n",
    "sns.despine()\n",
    "ax.set_xlabel('');\n",
    "plt.show()"
   ]
  },
  {
   "cell_type": "markdown",
   "id": "3e74a16a-b260-4382-9ead-c47896f9ef56",
   "metadata": {},
   "source": [
    "#### Exponential Moving Average (EMA)"
   ]
  },
  {
   "cell_type": "code",
   "execution_count": 50,
   "id": "2d1bd6ad-c844-4847-a692-69b7625e8813",
   "metadata": {},
   "outputs": [],
   "source": [
    "df = price_sample.loc['2012', ['close']]"
   ]
  },
  {
   "cell_type": "code",
   "execution_count": 52,
   "id": "051f2acc-5067-4635-91b3-e0dfb1dd576e",
   "metadata": {},
   "outputs": [],
   "source": [
    "for t in [5, 21, 63]:\n",
    "    df[f'EMA_{t}'] = talib.EMA(df.close,\n",
    "                               timeperiod=t)"
   ]
  },
  {
   "cell_type": "code",
   "execution_count": 54,
   "id": "6523fc2e-69b6-4289-80af-e7c2dbf60729",
   "metadata": {},
   "outputs": [],
   "source": [
    "ax = df.plot(figsize=(14, 5), rot=0)\n",
    "sns.despine()\n",
    "ax.set_xlabel('');\n",
    "plt.show()"
   ]
  },
  {
   "cell_type": "markdown",
   "id": "a02b4174-6b76-4b79-91ae-8c838546340e",
   "metadata": {},
   "source": [
    "#### Weighted Moving Average (WMA)"
   ]
  },
  {
   "cell_type": "code",
   "execution_count": null,
   "id": "25d931ef-e58d-4436-a761-ee1f50c9cf66",
   "metadata": {},
   "outputs": [],
   "source": [
    "df = price_sample.loc['2012', ['close']]"
   ]
  },
  {
   "cell_type": "code",
   "execution_count": 59,
   "id": "3186bcae-fb5b-4c5c-81b2-ff94ab15aa3d",
   "metadata": {},
   "outputs": [],
   "source": [
    "for t in [5, 21, 63]:\n",
    "    df[f'WMA_{t}'] = talib.WMA(df.close,\n",
    "                               timeperiod=t)"
   ]
  },
  {
   "cell_type": "code",
   "execution_count": 61,
   "id": "fa979b32-99d3-40af-accb-e77edcd7e504",
   "metadata": {},
   "outputs": [],
   "source": [
    "ax = df.plot(figsize=(14, 5), rot=0)\n",
    "sns.despine()\n",
    "ax.set_xlabel('');\n",
    "plt.show()"
   ]
  },
  {
   "cell_type": "markdown",
   "id": "5e7c7b85-1eed-4f71-acb9-c145473b8d7a",
   "metadata": {},
   "source": [
    "#### Double Exponential Moving Average (DEMA)"
   ]
  },
  {
   "cell_type": "code",
   "execution_count": 64,
   "id": "19908d63-79ed-4652-a17b-ce8febcfd58b",
   "metadata": {},
   "outputs": [],
   "source": [
    "df = price_sample.loc['2012', ['close']]"
   ]
  },
  {
   "cell_type": "code",
   "execution_count": 66,
   "id": "e5322cd0-3a69-492c-b8d4-4bca00b6f2c8",
   "metadata": {},
   "outputs": [],
   "source": [
    "for t in [5, 21, 63]:\n",
    "    df[f'DEMA_{t}'] = talib.DEMA(df.close,\n",
    "                                timeperiod=t)"
   ]
  },
  {
   "cell_type": "code",
   "execution_count": 90,
   "id": "0ab4a99d-fa6b-482c-af46-ca21dfe6ce59",
   "metadata": {},
   "outputs": [],
   "source": [
    "ax = df.plot(figsize=(14, 5), rot=0)\n",
    "sns.despine()\n",
    "ax.set_xlabel('');\n",
    "plt.show()"
   ]
  },
  {
   "cell_type": "markdown",
   "id": "6e8cec6b-64ac-404a-b5db-27a44787b21e",
   "metadata": {},
   "source": [
    "#### Triple Exponential Moving Average (TEMA)"
   ]
  },
  {
   "cell_type": "code",
   "execution_count": 93,
   "id": "9fdb65d1-5a4f-43ec-81e1-fecb0903fced",
   "metadata": {},
   "outputs": [],
   "source": [
    "df = price_sample.loc['2012', ['close']]"
   ]
  },
  {
   "cell_type": "code",
   "execution_count": 95,
   "id": "f9b38a54-c4c0-4c7f-b60e-7790b67c5b60",
   "metadata": {},
   "outputs": [],
   "source": [
    "for t in [5, 21, 63]:\n",
    "    df[f'TEMA_{t}'] = talib.TEMA(df.close,\n",
    "                                timeperiod=t)"
   ]
  },
  {
   "cell_type": "code",
   "execution_count": 97,
   "id": "28f4aa4b-5ead-4330-a8b0-655c632f8416",
   "metadata": {},
   "outputs": [],
   "source": [
    "ax = df.plot(figsize=(14, 5), rot=0)\n",
    "sns.despine()\n",
    "ax.set_xlabel('');\n",
    "plt.show()"
   ]
  },
  {
   "cell_type": "markdown",
   "id": "b73b28e4-d215-46ab-9f42-37335de8ec47",
   "metadata": {},
   "source": [
    "#### Triangular Moving Average (TRIMA)"
   ]
  },
  {
   "cell_type": "code",
   "execution_count": 102,
   "id": "a988e119-cdb9-47eb-a81e-397dcfde75f5",
   "metadata": {},
   "outputs": [],
   "source": [
    "df = price_sample.loc['2012', ['close']]"
   ]
  },
  {
   "cell_type": "code",
   "execution_count": 104,
   "id": "18734e89-0181-4f81-9298-1622e3000d93",
   "metadata": {},
   "outputs": [],
   "source": [
    "for t in [5, 21, 63]:\n",
    "    df[f'TRIMA_{t}'] = talib.TRIMA(df.close,\n",
    "                                timeperiod=t)"
   ]
  },
  {
   "cell_type": "code",
   "execution_count": 106,
   "id": "0fe84e8d-097e-4bca-8094-7876582fcb7e",
   "metadata": {},
   "outputs": [],
   "source": [
    "ax = df.plot(figsize=(14, 5), rot=0)\n",
    "sns.despine()\n",
    "ax.set_xlabel('');\n",
    "plt.show()"
   ]
  },
  {
   "cell_type": "markdown",
   "id": "373fdb13-07b1-40cb-8eed-ddadd90ffcb3",
   "metadata": {},
   "source": [
    "#### Kaufman Adaptive Moving Average (KAMA)"
   ]
  },
  {
   "cell_type": "code",
   "execution_count": 111,
   "id": "4bf28323-91f1-49d5-a239-05a952212512",
   "metadata": {},
   "outputs": [],
   "source": [
    "df = price_sample.loc['2012', ['close']]"
   ]
  },
  {
   "cell_type": "code",
   "execution_count": 113,
   "id": "4ef81331-06dc-42e2-902c-ce66e33cb856",
   "metadata": {},
   "outputs": [],
   "source": [
    "for t in [5, 21, 63]:\n",
    "    df[f'KAMA_{t}'] = talib.KAMA(df.close,\n",
    "                                timeperiod=t)"
   ]
  },
  {
   "cell_type": "code",
   "execution_count": 115,
   "id": "e1d36649-cf1e-4182-8e5a-298f8bb7bb5e",
   "metadata": {},
   "outputs": [],
   "source": [
    "ax = df.plot(figsize=(14, 5), rot=0)\n",
    "sns.despine()\n",
    "ax.set_xlabel('');\n",
    "plt.show()"
   ]
  },
  {
   "cell_type": "markdown",
   "id": "a96dc49e-9839-440d-a490-1a83f75df371",
   "metadata": {},
   "source": [
    "#### MESA Adaptive Moving Average (MAMA)"
   ]
  },
  {
   "cell_type": "code",
   "execution_count": 118,
   "id": "3cb07623-5b05-45dc-8770-ee8c8a3ba351",
   "metadata": {},
   "outputs": [],
   "source": [
    "df = price_sample.loc['2012', ['close']]"
   ]
  },
  {
   "cell_type": "code",
   "execution_count": 120,
   "id": "0291b440-4012-4d93-85c1-eddeba9004c5",
   "metadata": {},
   "outputs": [],
   "source": [
    "len(talib.MAMA(df.close,\n",
    "                         fastlimit=.5,\n",
    "                         slowlimit=.05))"
   ]
  },
  {
   "cell_type": "code",
   "execution_count": 122,
   "id": "fabc0f73-4eef-4da9-bab5-06ec5c9a4573",
   "metadata": {},
   "outputs": [],
   "source": [
    "mama, fama = talib.MAMA(df.close,\n",
    "                        fastlimit=.5,\n",
    "                        slowlimit=.05)\n",
    "df['mama'] = mama\n",
    "df['fama'] = fama"
   ]
  },
  {
   "cell_type": "code",
   "execution_count": 124,
   "id": "0ee8791e-f190-430c-8cf9-b90b8cfb2f07",
   "metadata": {},
   "outputs": [],
   "source": [
    "ax = df.plot(figsize=(14, 5), rot=0)\n",
    "sns.despine()\n",
    "ax.set_xlabel('');\n",
    "plt.show()"
   ]
  },
  {
   "cell_type": "markdown",
   "id": "9456f110-1cac-4007-9029-5031cec163ed",
   "metadata": {},
   "source": [
    "### Comparison"
   ]
  },
  {
   "cell_type": "code",
   "execution_count": 127,
   "id": "963aa282-c0a6-4c47-bc76-26f601781056",
   "metadata": {},
   "outputs": [],
   "source": [
    "df = price_sample.loc['2012', ['close']]\n",
    "t = 21"
   ]
  },
  {
   "cell_type": "code",
   "execution_count": 129,
   "id": "ea7d45ca-6c18-4d14-8cfa-65147cb0da77",
   "metadata": {},
   "outputs": [],
   "source": [
    "df['SMA'] = talib.SMA(df.close, timeperiod=t)\n",
    "df['WMA'] = talib.WMA(df.close, timeperiod=t)\n",
    "df['TRIMA'] = talib.TRIMA(df.close, timeperiod=t)\n",
    "\n",
    "ax = df[['close', 'SMA', 'WMA', 'TRIMA']].plot(figsize=(16, 8), rot=0)\n",
    "\n",
    "sns.despine()\n",
    "ax.set_xlabel('')\n",
    "plt.tight_layout();\n",
    "plt.show()"
   ]
  },
  {
   "cell_type": "code",
   "execution_count": 136,
   "id": "03822dff-996d-4def-84d2-6960f5a5a421",
   "metadata": {},
   "outputs": [],
   "source": [
    "df['EMA'] = talib.EMA(df.close, timeperiod=t)\n",
    "df['DEMA'] = talib.DEMA(df.close, timeperiod=t)\n",
    "df['TEMA'] = talib.TEMA(df.close, timeperiod=t)\n",
    "\n",
    "ax = df[['close', 'EMA', 'DEMA', 'TEMA']].plot(figsize=(16, 8), rot=0)\n",
    "\n",
    "ax.set_xlabel('')\n",
    "sns.despine()\n",
    "plt.tight_layout();\n",
    "plt.show()"
   ]
  },
  {
   "cell_type": "code",
   "execution_count": 138,
   "id": "e670dab0-6852-41dd-a237-425c259eaeb8",
   "metadata": {},
   "outputs": [],
   "source": [
    "df['KAMA'] = talib.KAMA(df.close, timeperiod=t)\n",
    "mama, fama = talib.MAMA(df.close,\n",
    "                        fastlimit=.5,\n",
    "                        slowlimit=.05)\n",
    "df['MAMA'] = mama\n",
    "df['FAMA'] = fama\n",
    "ax = df[['close', 'KAMA', 'MAMA', 'FAMA']].plot(figsize=(16, 8), rot=0)\n",
    "\n",
    "ax.set_xlabel('')\n",
    "sns.despine()\n",
    "plt.tight_layout();\n",
    "plt.show()"
   ]
  },
  {
   "cell_type": "code",
   "execution_count": 140,
   "id": "cf33b679-6e8a-4ad1-b456-572957107bf7",
   "metadata": {},
   "outputs": [],
   "source": [
    "fig, axes = plt.subplots(nrows=3, figsize=(14, 10), sharex=True, sharey=True)\n",
    "\n",
    "df[['close', 'SMA', 'WMA', 'TRIMA']].plot(rot=0,\n",
    "                                          ax=axes[0],\n",
    "                                          title='Simple, Weighted and Triangular Moving Averages',\n",
    "                                          lw=1, style=['-', '--', '-.', ':'], c='k')\n",
    "df[['close', 'EMA', 'DEMA', 'TEMA']].plot(rot=0, ax=axes[1],\n",
    "                                          title='Simple, Double, and Triple Exponential Moving Averages',\n",
    "                                          lw=1, style=['-', '--', '-.', ':'], c='k')\n",
    "\n",
    "df[['close', 'KAMA', 'MAMA', 'FAMA']].plot(rot=0, ax=axes[2],\n",
    "                                          title='Mesa and Kaufman Adaptive Moving Averages',\n",
    "                                          lw=1, style=['-', '--', '-.', ':'], c='k')\n",
    "axes[2].set_xlabel('')\n",
    "sns.despine()\n",
    "plt.tight_layout();"
   ]
  },
  {
   "cell_type": "markdown",
   "id": "161a0449-5dac-4760-8b84-9b0cbb5cb1f9",
   "metadata": {},
   "source": [
    "### Overlap Studies\n",
    "\n",
    "#### Bollinger Bands"
   ]
  },
  {
   "cell_type": "code",
   "execution_count": 143,
   "id": "0f28af91-2865-4f95-852f-02691529463b",
   "metadata": {},
   "outputs": [],
   "source": [
    "s = talib.BBANDS(df.close,   # Number of periods (2 to 100000)\n",
    "                 timeperiod=20,\n",
    "                 nbdevup=2,    # Deviation multiplier for lower band\n",
    "                 nbdevdn=2,    # Deviation multiplier for upper band\n",
    "                 matype=1      # default: SMA\n",
    "                 )"
   ]
  },
  {
   "cell_type": "code",
   "execution_count": 150,
   "id": "f97e5578-0c91-4203-b3f9-9a5f0e4433df",
   "metadata": {},
   "outputs": [],
   "source": [
    "bb_bands = ['upper', 'middle', 'lower']"
   ]
  },
  {
   "cell_type": "code",
   "execution_count": 152,
   "id": "dc2da26f-64c1-48c7-890e-fe22e93f614b",
   "metadata": {},
   "outputs": [],
   "source": [
    "df = price_sample.loc['2012', ['close']]\n",
    "df = df.assign(**dict(zip(bb_bands, s)))\n",
    "ax = df.loc[:, ['close'] + bb_bands].plot(figsize=(16, 5), lw=1)\n",
    "\n",
    "ax.set_xlabel('')\n",
    "sns.despine()\n",
    "plt.tight_layout();\n",
    "plt.show()"
   ]
  },
  {
   "cell_type": "markdown",
   "id": "752afe2b-f30b-4cd6-9830-d53e6702fe33",
   "metadata": {},
   "source": [
    "#### Normalized Squeeze & Mean Reversion Indicators"
   ]
  },
  {
   "cell_type": "code",
   "execution_count": 157,
   "id": "3a5db6c6-01ac-4fff-809f-18a65118e315",
   "metadata": {},
   "outputs": [],
   "source": [
    "fig, ax = plt.subplots(figsize=(16,5))\n",
    "df.upper.div(df.close).plot(ax=ax, label='bb_up')\n",
    "df.lower.div(df.close).plot(ax=ax, label='bb_low')\n",
    "df.upper.div(df.lower).plot(ax=ax, label='bb_squeeze', rot=0)\n",
    "\n",
    "plt.legend()\n",
    "ax.set_xlabel('')\n",
    "sns.despine()\n",
    "plt.tight_layout();\n",
    "plt.show()"
   ]
  },
  {
   "cell_type": "code",
   "execution_count": 159,
   "id": "34312d45-4d6f-4959-a37d-4951f6096eb9",
   "metadata": {},
   "outputs": [],
   "source": [
    "def compute_bb_indicators(close, timeperiod=20, matype=0):\n",
    "    high, mid, low = talib.BBANDS(close, \n",
    "                                  timeperiod=20,\n",
    "                                  matype=matype)\n",
    "    bb_up = high / close -1\n",
    "    bb_low = low / close -1\n",
    "    squeeze = (high - low) / close\n",
    "    return pd.DataFrame({'BB_UP': bb_up, \n",
    "                         'BB_LOW': bb_low, \n",
    "                         'BB_SQUEEZE': squeeze}, \n",
    "                        index=close.index)"
   ]
  },
  {
   "cell_type": "code",
   "execution_count": 195,
   "id": "f964eb35-a6ee-4f77-8bd8-6e7fe0f57313",
   "metadata": {},
   "outputs": [],
   "source": [
    "data = (data.join(data\n",
    "                  .groupby(level='ticker')\n",
    "                  .close\n",
    "                  .apply(compute_bb_indicators)))"
   ]
  },
  {
   "cell_type": "markdown",
   "id": "63ec3314-1974-4286-b56e-3d476ff3f602",
   "metadata": {},
   "source": [
    "#### Visualizing Distribution"
   ]
  },
  {
   "cell_type": "code",
   "execution_count": 198,
   "id": "53422415-90c8-4296-8273-d276aeba5b71",
   "metadata": {},
   "outputs": [],
   "source": [
    "bb_indicators = ['BB_UP', 'BB_LOW', 'BB_SQUEEZE']"
   ]
  },
  {
   "cell_type": "code",
   "execution_count": 200,
   "id": "71f8fc71-4166-440d-b1a4-9411dfc3495c",
   "metadata": {},
   "outputs": [],
   "source": [
    "q = .01\n",
    "with sns.axes_style('white'):\n",
    "    fig, axes = plt.subplots(ncols=3, figsize=(14, 4), sharey=True, sharex=True)\n",
    "    df_ = data[bb_indicators]\n",
    "    df_ = df_.clip(df_.quantile(q), \n",
    "                   df_.quantile(1-q), axis=1)\n",
    "    for i, indicator in enumerate(bb_indicators):\n",
    "        sns.distplot(df_[indicator], ax=axes[i])\n",
    "    fig.suptitle('Distribution of normalized Bollinger Band indicators', fontsize=12)\n",
    "\n",
    "    sns.despine()\n",
    "    fig.tight_layout()\n",
    "    fig.subplots_adjust(top=.93);"
   ]
  },
  {
   "cell_type": "markdown",
   "id": "180f16d7-6932-41f0-ad85-975e442064ac",
   "metadata": {},
   "source": [
    "#### Plotting Outlier Price Series"
   ]
  },
  {
   "cell_type": "code",
   "execution_count": 203,
   "id": "5fb183d3-291f-4489-82d4-075830c9843c",
   "metadata": {},
   "outputs": [],
   "source": [
    "ncols = len(bb_indicators)\n",
    "\n",
    "fig, axes = plt.subplots(ncols=ncols, figsize=(5*ncols, 4), sharey=True)\n",
    "\n",
    "for i, indicator in enumerate(bb_indicators):\n",
    "    ticker, date = data[indicator].nlargest(1).index[0]\n",
    "    p = data.loc[idx[ticker, :], :].close.reset_index('ticker', drop=True)\n",
    "    p = p.div(p.dropna().iloc[0])\n",
    "    p.plot(ax=axes[i], label=ticker, rot=0)\n",
    "    c = axes[i].get_lines()[-1].get_color()\n",
    "    axes[i].axvline(date, ls='--', c=c, lw=1)\n",
    "    ticker, date = data[indicator].nsmallest(1).index[0]\n",
    "    p = data.loc[idx[ticker, :], :].close.reset_index('ticker', drop=True)\n",
    "    p = p.div(p.dropna().iloc[0])\n",
    "    p.plot(ax=axes[i], label=ticker, rot=0)    \n",
    "    c = axes[i].get_lines()[-1].get_color()\n",
    "    axes[i].axvline(date, ls='--', c=c, lw=1)\n",
    "    axes[i].set_title(indicator.upper())\n",
    "    axes[i].legend()\n",
    "    axes[i].set_xlabel('')\n",
    "\n",
    "sns.despine()\n",
    "fig.tight_layout();\n",
    "plt.show()"
   ]
  },
  {
   "cell_type": "markdown",
   "id": "fb9a694b-ed04-4a54-a2f4-b62544258660",
   "metadata": {},
   "source": [
    "#### Hilbert Transform - Instantaneous Trendline"
   ]
  },
  {
   "cell_type": "code",
   "execution_count": 206,
   "id": "0e14ce0b-13e1-4be3-8df9-14c858095598",
   "metadata": {},
   "outputs": [],
   "source": [
    "df = price_sample.loc['2012', ['close']]\n",
    "\n",
    "df['HT_TRENDLINE'] = talib.HT_TRENDLINE(df.close)"
   ]
  },
  {
   "cell_type": "code",
   "execution_count": 208,
   "id": "670f6a8b-6a0a-4334-bc0c-c0afb22fdb65",
   "metadata": {},
   "outputs": [],
   "source": [
    "ax = df.plot(figsize=(16, 4), style=['-', '--'], rot=0)\n",
    "\n",
    "ax.set_xlabel('')\n",
    "sns.despine()\n",
    "plt.tight_layout();\n",
    "plt.show()"
   ]
  },
  {
   "cell_type": "markdown",
   "id": "d47bda38-eb3a-4ee0-8e39-f7340f6c77c6",
   "metadata": {},
   "source": [
    "#### Computing Hilbert-Based Normalized Indicator"
   ]
  },
  {
   "cell_type": "code",
   "execution_count": 211,
   "id": "4b4377b6-e856-4980-81bc-4c8071b92d3e",
   "metadata": {},
   "outputs": [],
   "source": [
    "data['HT'] = (data\n",
    "              .groupby(level='ticker', group_keys=False)\n",
    "              .close\n",
    "              .apply(talib.HT_TRENDLINE)\n",
    "              .div(data.close).sub(1))"
   ]
  },
  {
   "cell_type": "code",
   "execution_count": 213,
   "id": "57738a0a-91c5-40e4-a46d-bd08dd5e0d07",
   "metadata": {},
   "outputs": [],
   "source": [
    "q=0.005\n",
    "\n",
    "with sns.axes_style('white'):\n",
    "    sns.distplot(data.HT.clip(data.HT.quantile(q), data.HT.quantile(1-q)))\n",
    "    sns.despine();"
   ]
  },
  {
   "cell_type": "markdown",
   "id": "9f6cd8ed-7e35-412d-bd02-803f69bc6797",
   "metadata": {},
   "source": [
    "#### Parabolic SAR"
   ]
  },
  {
   "cell_type": "code",
   "execution_count": 218,
   "id": "e884341b-2065-4030-b29c-92583ac6362d",
   "metadata": {},
   "outputs": [],
   "source": [
    "df = price_sample.loc['2012', ['close', 'high', 'low']]\n",
    "\n",
    "df['SAR'] = talib.SAR(df.high, df.low, \n",
    "                      acceleration=0.02, # common value\n",
    "                      maximum=0.2)     "
   ]
  },
  {
   "cell_type": "code",
   "execution_count": 220,
   "id": "8c3cf9b3-a3a1-4c24-bef4-04020c6c7516",
   "metadata": {},
   "outputs": [],
   "source": [
    "ax = df[['close', 'SAR']].plot(figsize=(16, 4), style=['-', '--'], title='Parabolic SAR')\n",
    "ax.set_xlabel('')\n",
    "sns.despine()\n",
    "plt.tight_layout();\n",
    "plt.show()"
   ]
  },
  {
   "cell_type": "markdown",
   "id": "16d8c12e-95d7-43fc-a322-38b3af6ede16",
   "metadata": {},
   "source": [
    "#### Normalized SAR Indicator"
   ]
  },
  {
   "cell_type": "code",
   "execution_count": 223,
   "id": "e37cf257-29f0-4584-844a-5377c13aff35",
   "metadata": {},
   "outputs": [],
   "source": [
    "def compute_sar_indicator(x, acceleration=.02, maximum=0.2):\n",
    "    sar = talib.SAR(x.high, \n",
    "                    x.low,\n",
    "                    acceleration=acceleration,\n",
    "                    maximum=maximum)\n",
    "    return sar/x.close - 1"
   ]
  },
  {
   "cell_type": "code",
   "execution_count": 225,
   "id": "32b21241-43aa-425c-bf69-a67c4cbcc666",
   "metadata": {},
   "outputs": [],
   "source": [
    "data['SAR'] = (data.groupby(level='ticker', group_keys=False)\n",
    "                  .apply(compute_sar_indicator))"
   ]
  },
  {
   "cell_type": "code",
   "execution_count": 227,
   "id": "56b43c3c-c081-47f3-8e1b-72f172b91604",
   "metadata": {},
   "outputs": [],
   "source": [
    "q=0.005\n",
    "\n",
    "with sns.axes_style('white'):\n",
    "    sns.distplot(data.SAR.clip(data.SAR.quantile(q), data.SAR.quantile(1-q)))\n",
    "    sns.despine()"
   ]
  },
  {
   "cell_type": "markdown",
   "id": "82243700-f960-4da7-a9a4-2c3f9c1aa67e",
   "metadata": {},
   "source": [
    "### Momentum Indicators\n",
    "\n",
    "#### Average Directional Movement Index (ADX)"
   ]
  },
  {
   "cell_type": "code",
   "execution_count": 244,
   "id": "4e5bf01f-739a-4229-9509-9d3af82442fa",
   "metadata": {},
   "outputs": [],
   "source": [
    "df = price_sample.loc['2012': '2013', ['high', 'low', 'close']]"
   ]
  },
  {
   "cell_type": "code",
   "execution_count": 246,
   "id": "60c10265-8b8d-4c6f-8e27-99bebffb7096",
   "metadata": {},
   "outputs": [],
   "source": [
    "df['PLUS_DM'] = talib.PLUS_DM(df.high, df.low, timeperiod=10)\n",
    "\n",
    "df['MINUS_DM'] = talib.MINUS_DM(df.high, df.low, timeperiod=10)"
   ]
  },
  {
   "cell_type": "code",
   "execution_count": 248,
   "id": "1cb5a0ed-f152-492f-bc45-ed40faf2d23c",
   "metadata": {},
   "outputs": [],
   "source": [
    "ax = df[['close', 'PLUS_DM', 'MINUS_DM']].plot(figsize=(14, 4),\n",
    "                                               secondary_y=[\n",
    "                                                   'PLUS_DM', 'MINUS_DM'],\n",
    "                                               style=['-', '--', '_'],\n",
    "                                              rot=0)\n",
    "ax.set_xlabel('')\n",
    "sns.despine()\n",
    "plt.tight_layout()\n",
    "plt.show()"
   ]
  },
  {
   "cell_type": "markdown",
   "id": "55072524-487a-4388-862d-fcd5e227a8c2",
   "metadata": {},
   "source": [
    "#### Plus/Minus Directional Index (PLUS_DI/MINUS_DI)"
   ]
  },
  {
   "cell_type": "code",
   "execution_count": 251,
   "id": "616fc6a0-3253-45e1-bf79-31703ce219c1",
   "metadata": {},
   "outputs": [],
   "source": [
    "df = price_sample.loc['2012': '2013', ['high', 'low', 'close']]"
   ]
  },
  {
   "cell_type": "code",
   "execution_count": 253,
   "id": "92382f53-8321-41fc-9da3-46c7ae4671e5",
   "metadata": {},
   "outputs": [],
   "source": [
    "df['PLUS_DI'] = talib.PLUS_DI(df.high, df.low, df.close, timeperiod=14)\n",
    "\n",
    "df['MINUS_DI'] = talib.MINUS_DI(df.high, df.low, df.close, timeperiod=14)"
   ]
  },
  {
   "cell_type": "code",
   "execution_count": 255,
   "id": "cb464f43-3adb-49dd-875d-c4e7c4ebea90",
   "metadata": {},
   "outputs": [],
   "source": [
    "ax = df[['close', 'PLUS_DI', 'MINUS_DI']].plot(figsize=(14, 5), style=['-', '--', '_'], rot=0)\n",
    "\n",
    "ax.set_xlabel('')\n",
    "sns.despine()\n",
    "plt.tight_layout();\n",
    "plt.show()"
   ]
  },
  {
   "cell_type": "markdown",
   "id": "f9f5932e-f71e-4263-8cba-efece08a6cb4",
   "metadata": {},
   "source": [
    "#### Average directional movement index (ADX)"
   ]
  },
  {
   "cell_type": "code",
   "execution_count": 258,
   "id": "d75090b4-7167-40ab-9007-095ef76db2b4",
   "metadata": {},
   "outputs": [],
   "source": [
    "df = price_sample.loc[:, ['high', 'low', 'close']]"
   ]
  },
  {
   "cell_type": "code",
   "execution_count": 260,
   "id": "123edc69-43da-444a-a6a2-b9acf7165908",
   "metadata": {},
   "outputs": [],
   "source": [
    "df['ADX'] = talib.ADX(df.high, \n",
    "                      df.low, \n",
    "                      df.close, \n",
    "                      timeperiod=14)"
   ]
  },
  {
   "cell_type": "code",
   "execution_count": 262,
   "id": "4d8699e7-f261-4017-8cce-ff1001102794",
   "metadata": {},
   "outputs": [],
   "source": [
    "ax = df[['close', 'ADX']].plot(figsize=(14, 4), secondary_y='ADX', style=['-', '--'], rot=0)\n",
    "ax.set_xlabel('')\n",
    "sns.despine()\n",
    "plt.tight_layout();\n",
    "plt.show()"
   ]
  },
  {
   "cell_type": "code",
   "execution_count": 264,
   "id": "e02a6de6-0485-4e51-98e9-52cf05d3fb2e",
   "metadata": {},
   "outputs": [],
   "source": [
    "def compute_adx(x, timeperiod=14):\n",
    "    return talib.ADX(x.high, \n",
    "                    x.low,\n",
    "                    x.close,\n",
    "                    timeperiod=timeperiod)"
   ]
  },
  {
   "cell_type": "code",
   "execution_count": 266,
   "id": "44aa2a74-d836-4716-9912-83778e27217d",
   "metadata": {},
   "outputs": [],
   "source": [
    "data['ADX'] = (data.groupby(level='ticker', group_keys=False)\n",
    "                  .apply(compute_adx))"
   ]
  },
  {
   "cell_type": "markdown",
   "id": "c0c01ec2-70bd-4210-a8fd-aec00e527d63",
   "metadata": {},
   "source": [
    "#### Visualize Distribution"
   ]
  },
  {
   "cell_type": "code",
   "execution_count": 287,
   "id": "e6918f88-db5f-4747-abcf-4e4cda74c574",
   "metadata": {},
   "outputs": [],
   "source": [
    "with sns.axes_style(\"white\"):\n",
    "    sns.distplot(data.ADX)\n",
    "    sns.despine();"
   ]
  },
  {
   "cell_type": "markdown",
   "id": "b64f6dc5-9916-4823-bfa4-7919224b117d",
   "metadata": {},
   "source": [
    "#### Average Directional Movement Index Rating"
   ]
  },
  {
   "cell_type": "code",
   "execution_count": 290,
   "id": "1f41c416-0db7-4f30-a154-5db48e28859d",
   "metadata": {},
   "outputs": [],
   "source": [
    "df = price_sample.loc[:, ['high', 'low', 'close']]"
   ]
  },
  {
   "cell_type": "code",
   "execution_count": 292,
   "id": "89d66a50-8133-485c-b241-d43c66ef664b",
   "metadata": {},
   "outputs": [],
   "source": [
    "df['ADXR'] = talib.ADXR(df.high,\n",
    "                        df.low,\n",
    "                        df.close,\n",
    "                        timeperiod=14)"
   ]
  },
  {
   "cell_type": "code",
   "execution_count": 294,
   "id": "e91b63d1-ca66-45d1-a4da-1f9bec9fe3e9",
   "metadata": {},
   "outputs": [],
   "source": [
    "ax = df[['close', 'ADXR']].plot(figsize=(14, 5),\n",
    "                                secondary_y='ADX',\n",
    "                                style=['-', '--'], rot=0)\n",
    "ax.set_xlabel('')\n",
    "sns.despine()\n",
    "plt.tight_layout()\n",
    "plt.show()"
   ]
  },
  {
   "cell_type": "code",
   "execution_count": 296,
   "id": "f2413208-ffcc-4342-ba8c-649707640053",
   "metadata": {},
   "outputs": [],
   "source": [
    "def compute_adxr(x, timeperiod=14):\n",
    "    return talib.ADXR(x.high, \n",
    "                    x.low,\n",
    "                    x.close,\n",
    "                    timeperiod=timeperiod)"
   ]
  },
  {
   "cell_type": "code",
   "execution_count": 298,
   "id": "a41716d5-50c4-4ae0-88fd-b473ee18d869",
   "metadata": {},
   "outputs": [],
   "source": [
    "data['ADXR'] = (data.groupby(level='ticker', group_keys=False)\n",
    "                .apply(compute_adxr))"
   ]
  },
  {
   "cell_type": "code",
   "execution_count": null,
   "id": "878019ce-703d-48c5-8187-59701c32b361",
   "metadata": {},
   "outputs": [],
   "source": [
    "with sns.axes_style('white'):\n",
    "    sns.distplot(data.ADXR)\n",
    "    sns.despine();"
   ]
  },
  {
   "cell_type": "markdown",
   "id": "a7517989-dd55-4a52-bd99-87ffd5db247b",
   "metadata": {},
   "source": [
    "#### Absolute Price Oscillator (APO)"
   ]
  },
  {
   "cell_type": "code",
   "execution_count": 301,
   "id": "271c1096-05a3-4085-ba5b-3731b9f310b0",
   "metadata": {},
   "outputs": [],
   "source": [
    "df = price_sample.loc[:, ['close']]"
   ]
  },
  {
   "cell_type": "code",
   "execution_count": 303,
   "id": "5938cc2c-f384-467d-bf7f-050540e2254f",
   "metadata": {},
   "outputs": [],
   "source": [
    "df['APO'] = talib.APO(df.close,\n",
    "                      fastperiod=12,\n",
    "                      slowperiod=26,\n",
    "                      matype=0)"
   ]
  },
  {
   "cell_type": "code",
   "execution_count": 307,
   "id": "05efd23f-7cfe-42d6-becf-da879b324ce1",
   "metadata": {},
   "outputs": [],
   "source": [
    "ax = df.plot(figsize=(14,4), secondary_y='APO', rot=0, style=['-', '--'])\n",
    "ax.set_xlabel('')\n",
    "sns.despine()\n",
    "plt.tight_layout();\n",
    "plt.show()"
   ]
  },
  {
   "cell_type": "code",
   "execution_count": null,
   "id": "cef02aa2-d698-428f-a039-07ababe7c2c6",
   "metadata": {},
   "outputs": [],
   "source": []
  },
  {
   "cell_type": "code",
   "execution_count": null,
   "id": "6740fe3e-1e87-4a84-8899-49378766362b",
   "metadata": {},
   "outputs": [],
   "source": []
  },
  {
   "cell_type": "markdown",
   "id": "a74a5040-b5ec-4b13-bb1a-22eb27410df2",
   "metadata": {},
   "source": [
    "### Percentage Price Oscillator (PPO)"
   ]
  },
  {
   "cell_type": "code",
   "execution_count": 310,
   "id": "83e7bcc2-9d5b-481c-bd1e-479e78415ef2",
   "metadata": {},
   "outputs": [],
   "source": [
    "df = price_sample.loc[:, ['close']]"
   ]
  },
  {
   "cell_type": "code",
   "execution_count": 312,
   "id": "92599b64-a3d8-4eed-9f58-549b6ae75bc6",
   "metadata": {},
   "outputs": [],
   "source": [
    "df['PPO'] = talib.PPO(df.close,\n",
    "                      fastperiod=12,\n",
    "                      slowperiod=26,\n",
    "                      matype=0)"
   ]
  },
  {
   "cell_type": "code",
   "execution_count": 314,
   "id": "35176bd3-74d1-4e16-b717-59f1950234ef",
   "metadata": {},
   "outputs": [],
   "source": [
    "ax = df.plot(figsize=(14,4), secondary_y=['APO', 'PPO'], rot=0,  style=['-', '--'])\n",
    "\n",
    "ax.set_xlabel('')\n",
    "sns.despine()\n",
    "plt.tight_layout();\n",
    "plt.show()"
   ]
  },
  {
   "cell_type": "code",
   "execution_count": 335,
   "id": "e8d24ef6-fdbe-4578-b904-a8eef7a88bfc",
   "metadata": {},
   "outputs": [],
   "source": [
    "data['PPO'] = (data.groupby(level='ticker')\n",
    "               .close\n",
    "               .apply(talib.PPO, \n",
    "                      fastperiod=12, \n",
    "                      slowperiod=26, \n",
    "                      matype=1))"
   ]
  },
  {
   "cell_type": "code",
   "execution_count": 337,
   "id": "ad28cade-3e41-43a0-a2ea-0a2b3d6d111c",
   "metadata": {},
   "outputs": [],
   "source": [
    "q = 0.001\n",
    "\n",
    "with sns.axes_style(\"white\"):\n",
    "    sns.distplot(data.PPO.clip(lower=data.PPO.quantile(q),\n",
    "                               upper=data.PPO.quantile(1-q)))\n",
    "    sns.despine()"
   ]
  },
  {
   "cell_type": "markdown",
   "id": "82d28cb1-b030-4f64-8377-315f2b6b12b4",
   "metadata": {},
   "source": [
    "### Aroon Oscillator\n",
    "\n",
    "#### Aroon Up/Down Indicator"
   ]
  },
  {
   "cell_type": "code",
   "execution_count": 340,
   "id": "07e1e24b-c57d-4827-9041-122a37b6f184",
   "metadata": {},
   "outputs": [],
   "source": [
    "df = price_sample.loc['2013', ['high', 'low', 'close']]"
   ]
  },
  {
   "cell_type": "code",
   "execution_count": 342,
   "id": "a1eae21c-f923-439e-a1f5-25f462dbc01d",
   "metadata": {},
   "outputs": [],
   "source": [
    "aroonup, aroondwn = talib.AROON(high=df.high,\n",
    "                                low=df.low,\n",
    "                                timeperiod=14)\n",
    "df['AROON_UP'] = aroonup\n",
    "df['AROON_DWN'] = aroondwn"
   ]
  },
  {
   "cell_type": "code",
   "execution_count": 344,
   "id": "283016b8-748a-426c-be14-fc2c36e4a15a",
   "metadata": {},
   "outputs": [],
   "source": [
    "fig, axes = plt.subplots(nrows=2, figsize=(14, 7), sharex=True)\n",
    "df.close.plot(ax=axes[0], rot=0)\n",
    "df[['AROON_UP', 'AROON_DWN']].plot(ax=axes[1], rot=0)\n",
    "\n",
    "axes[1].set_xlabel('')\n",
    "sns.despine()\n",
    "plt.tight_layout();\n",
    "plt.show()"
   ]
  },
  {
   "cell_type": "markdown",
   "id": "5fcdb22c-f0a1-4006-b21a-0459527fadc1",
   "metadata": {},
   "source": [
    "#### Aroon Oscillator"
   ]
  },
  {
   "cell_type": "code",
   "execution_count": 347,
   "id": "748362fc-df87-4d39-9662-02c1c74e1a68",
   "metadata": {},
   "outputs": [],
   "source": [
    "df = price_sample.loc['2013', ['high', 'low', 'close']]"
   ]
  },
  {
   "cell_type": "code",
   "execution_count": 349,
   "id": "2a8e093e-d7d3-4404-8a9a-dc9a2e6bf7ec",
   "metadata": {},
   "outputs": [],
   "source": [
    "df['AROONOSC'] = talib.AROONOSC(high=df.high,\n",
    "                                low=df.low,\n",
    "                                timeperiod=14)"
   ]
  },
  {
   "cell_type": "code",
   "execution_count": 351,
   "id": "b7253476-a895-4aba-9dae-59b4cce43bfa",
   "metadata": {},
   "outputs": [],
   "source": [
    "ax = df[['close', 'AROONOSC']].plot(figsize=(14,4), rot=0, style=['-', '--'], secondary_y='AROONOSC')\n",
    "ax.set_xlabel('')\n",
    "sns.despine()\n",
    "plt.tight_layout();\n",
    "plt.show()"
   ]
  },
  {
   "cell_type": "code",
   "execution_count": 353,
   "id": "3d82e47c-9890-4157-8dcb-2cf021d7b8e7",
   "metadata": {},
   "outputs": [],
   "source": [
    "data['AARONOSC'] = (data.groupby('ticker',\n",
    "                                 group_keys=False)\n",
    "                    .apply(lambda x: talib.AROONOSC(high=x.high,\n",
    "                                                    low=x.low,\n",
    "                                                    timeperiod=14)))"
   ]
  },
  {
   "cell_type": "code",
   "execution_count": 355,
   "id": "667b8c10-c67f-4a17-8220-4274b5ceb875",
   "metadata": {},
   "outputs": [],
   "source": [
    "with sns.axes_style(\"white\"):\n",
    "    sns.distplot(data.AARONOSC)\n",
    "    sns.despine()"
   ]
  },
  {
   "cell_type": "markdown",
   "id": "1f02ba5b-c66b-4abf-89e0-1e276b8efa1f",
   "metadata": {},
   "source": [
    "#### Balance of Power (BOP)"
   ]
  },
  {
   "cell_type": "code",
   "execution_count": 358,
   "id": "f30a909d-ac35-499a-9441-5f3aca14220c",
   "metadata": {},
   "outputs": [],
   "source": [
    "df = price_sample.loc['2013', ['open', 'high', 'low', 'close']]"
   ]
  },
  {
   "cell_type": "code",
   "execution_count": 360,
   "id": "971af6bc-d3ed-40bc-9ba5-90ceb089d6ab",
   "metadata": {},
   "outputs": [],
   "source": [
    "df['BOP'] = talib.BOP(open=df.open,\n",
    "                      high=df.high,\n",
    "                      low=df.low,\n",
    "                      close=df.close)"
   ]
  },
  {
   "cell_type": "code",
   "execution_count": 362,
   "id": "eda61fd7-d4ad-4174-a1e5-cf41504a8971",
   "metadata": {},
   "outputs": [],
   "source": [
    "axes = df[['close', 'BOP']].plot(figsize=(14, 7), rot=0, subplots=True, title=['AAPL', 'BOP'], legend=False)\n",
    "axes[1].set_xlabel('')\n",
    "sns.despine()\n",
    "plt.tight_layout();\n",
    "plt.show()"
   ]
  },
  {
   "cell_type": "code",
   "execution_count": 364,
   "id": "40011029-e744-4ea1-b7f1-9629f425169c",
   "metadata": {},
   "outputs": [],
   "source": [
    "by_ticker = data.groupby('ticker', group_keys=False)"
   ]
  },
  {
   "cell_type": "code",
   "execution_count": 366,
   "id": "c40bb9a6-a711-45a5-b8d3-ff176c551bce",
   "metadata": {},
   "outputs": [],
   "source": [
    "data['BOP'] = (by_ticker\n",
    "               .apply(lambda x: talib.BOP(x.open,\n",
    "                                          x.high,\n",
    "                                          x.low,\n",
    "                                          x.close)))"
   ]
  },
  {
   "cell_type": "code",
   "execution_count": 368,
   "id": "a93c1caa-a3ee-426a-9433-4435227050c2",
   "metadata": {},
   "outputs": [],
   "source": [
    "q = 0.0005\n",
    "\n",
    "with sns.axes_style(\"white\"):\n",
    "    sns.distplot(data.BOP.clip(lower=data.BOP.quantile(q),\n",
    "                               upper=data.BOP.quantile(1-q)))\n",
    "    sns.despine()"
   ]
  },
  {
   "cell_type": "markdown",
   "id": "7b1b0f8e-7776-499d-819c-53aa75d6aec6",
   "metadata": {},
   "source": [
    "#### Commodity Channel Index (CCI)"
   ]
  },
  {
   "cell_type": "code",
   "execution_count": 387,
   "id": "fe347084-3e42-42ce-abd1-05d402372a6b",
   "metadata": {},
   "outputs": [],
   "source": [
    "df = price_sample.loc['2013', ['high', 'low', 'close']]"
   ]
  },
  {
   "cell_type": "code",
   "execution_count": 389,
   "id": "b91a2e1c-e208-4fd5-8936-dab2561b2064",
   "metadata": {},
   "outputs": [],
   "source": [
    "df['CCI'] = talib.CCI(high=df.high,\n",
    "                      low=df.low,\n",
    "                      close=df.close,\n",
    "                      timeperiod=14)"
   ]
  },
  {
   "cell_type": "code",
   "execution_count": 391,
   "id": "74ea5bd8-5b4d-44db-875f-d267c8dedba7",
   "metadata": {},
   "outputs": [],
   "source": [
    "axes = df[['close', 'CCI']].plot(figsize=(14, 7), \n",
    "                                 rot=0, \n",
    "                                 subplots=True, \n",
    "                                 title=['AAPL', 'CCI'], \n",
    "                                 legend=False)\n",
    "axes[1].set_xlabel('')\n",
    "sns.despine()\n",
    "plt.tight_layout()\n",
    "plt.show()"
   ]
  },
  {
   "cell_type": "code",
   "execution_count": 393,
   "id": "201027a2-be77-445d-bfaf-e5932a5c452e",
   "metadata": {},
   "outputs": [],
   "source": [
    "data['CCI'] = (by_ticker\n",
    "               .apply(lambda x: talib.CCI(x.high,\n",
    "                                          x.low,\n",
    "                                          x.close,\n",
    "                                          timeperiod=14)))"
   ]
  },
  {
   "cell_type": "code",
   "execution_count": 395,
   "id": "efe18aa2-e1b9-4ccb-bcbb-45c5c1adf7a6",
   "metadata": {},
   "outputs": [],
   "source": [
    "with sns.axes_style('white'):\n",
    "    sns.distplot(data.CCI)\n",
    "    sns.despine();"
   ]
  },
  {
   "cell_type": "markdown",
   "id": "c532ddf0-f10a-4e3f-a8fb-f3860e66e75c",
   "metadata": {},
   "source": [
    "#### Moving Average Convergence/Divergence (MACD)"
   ]
  },
  {
   "cell_type": "code",
   "execution_count": 398,
   "id": "73bc02f9-76f1-4c6b-82b7-dbf838550c4c",
   "metadata": {},
   "outputs": [],
   "source": [
    "df = price_sample.loc['2013', ['close']]"
   ]
  },
  {
   "cell_type": "code",
   "execution_count": 400,
   "id": "8dc163e6-770f-4dfd-b951-06fa5fabb0af",
   "metadata": {},
   "outputs": [],
   "source": [
    "macd, macdsignal, macdhist = talib.MACD(df.close,\n",
    "                                        fastperiod=12,\n",
    "                                        slowperiod=26,\n",
    "                                        signalperiod=9)\n",
    "df['MACD'] = macd\n",
    "df['MACDSIG'] = macdsignal\n",
    "df['MACDHIST'] = macdhist"
   ]
  },
  {
   "cell_type": "code",
   "execution_count": 402,
   "id": "d22a03cb-2a25-4286-b0bb-729992ff4cda",
   "metadata": {},
   "outputs": [],
   "source": [
    "axes = df.plot(figsize=(14, 8),\n",
    "               rot=0,\n",
    "               subplots=True,\n",
    "               title=['AAPL', 'MACD', 'MACDSIG', 'MACDHIST'],\n",
    "               legend=False)\n",
    "\n",
    "axes[-1].set_xlabel('')\n",
    "sns.despine()\n",
    "plt.tight_layout()"
   ]
  },
  {
   "cell_type": "code",
   "execution_count": 404,
   "id": "bb92a267-78e3-40e1-a791-39e9c506c01a",
   "metadata": {},
   "outputs": [],
   "source": [
    "def compute_macd(close, fastperiod=12, slowperiod=26, signalperiod=9):\n",
    "    macd, macdsignal, macdhist = talib.MACD(close,\n",
    "                                            fastperiod=fastperiod,\n",
    "                                            slowperiod=slowperiod,\n",
    "                                            signalperiod=signalperiod)\n",
    "    return pd.DataFrame({'MACD': macd,\n",
    "                         'MACD_SIGNAL': macdsignal,\n",
    "                         'MACD_HIST': macdhist},\n",
    "                        index=close.index)"
   ]
  },
  {
   "cell_type": "code",
   "execution_count": 406,
   "id": "8adef91a-7577-4878-85f4-6d770854ec54",
   "metadata": {},
   "outputs": [],
   "source": [
    "data = (data.join(data\n",
    "                  .groupby(level='ticker')\n",
    "                  .close\n",
    "                  .apply(compute_macd)))"
   ]
  },
  {
   "cell_type": "code",
   "execution_count": 408,
   "id": "e3467d63-346f-480b-b411-8bb7bdf4d0e7",
   "metadata": {},
   "outputs": [],
   "source": [
    "macd_indicators = ['MACD', 'MACD_SIGNAL', 'MACD_HIST']"
   ]
  },
  {
   "cell_type": "code",
   "execution_count": 410,
   "id": "b9976312-6768-4f85-b062-e834591ddf01",
   "metadata": {},
   "outputs": [],
   "source": [
    "data[macd_indicators].corr()"
   ]
  },
  {
   "cell_type": "code",
   "execution_count": 412,
   "id": "2e936cdf-193b-4574-b6a2-e4ecdd7ef5ac",
   "metadata": {},
   "outputs": [],
   "source": [
    "q = .005\n",
    "\n",
    "with sns.axes_style('white'):\n",
    "    fig, axes = plt.subplots(ncols=3, figsize=(14, 4))\n",
    "    df_ = data[macd_indicators]\n",
    "    df_ = df_.clip(df_.quantile(q), \n",
    "                   df_.quantile(1-q), axis=1)\n",
    "    for i, indicator in enumerate(macd_indicators):\n",
    "        sns.distplot(df_[indicator], ax=axes[i])\n",
    "    sns.despine()\n",
    "    fig.tight_layout();"
   ]
  },
  {
   "cell_type": "markdown",
   "id": "4a0fde6a-839a-4576-ac60-6350a26b2418",
   "metadata": {},
   "source": [
    "#### Chande Momentum Oscillator (CMO)"
   ]
  },
  {
   "cell_type": "code",
   "execution_count": 427,
   "id": "a7e54e27-a305-4d3a-bd06-cf763ef0df06",
   "metadata": {},
   "outputs": [],
   "source": [
    "df = price_sample.loc['2013', ['close']]"
   ]
  },
  {
   "cell_type": "code",
   "execution_count": 429,
   "id": "8f03b65c-9e77-47d6-9d4c-a6d767905a95",
   "metadata": {},
   "outputs": [],
   "source": [
    "df['CMO'] = talib.CMO(df.close, timeperiod=14)"
   ]
  },
  {
   "cell_type": "code",
   "execution_count": 431,
   "id": "eccb1680-3774-4e69-be4c-20569a78d1d9",
   "metadata": {},
   "outputs": [],
   "source": [
    "ax = df.plot(figsize=(14, 4), rot=0, secondary_y=['CMO'], style=['-', '--'])\n",
    "\n",
    "ax.set_xlabel('')\n",
    "sns.despine()\n",
    "plt.tight_layout()\n",
    "plt.show()"
   ]
  },
  {
   "cell_type": "code",
   "execution_count": 433,
   "id": "2398e881-2449-4a2c-b60a-e160124535bd",
   "metadata": {},
   "outputs": [],
   "source": [
    "data['CMO'] = (by_ticker\n",
    "               .apply(lambda x: talib.CMO(x.close,\n",
    "                                          timeperiod=14)))"
   ]
  },
  {
   "cell_type": "code",
   "execution_count": 435,
   "id": "5bbf38dd-88d3-41b5-8fd6-91c006f00de2",
   "metadata": {},
   "outputs": [],
   "source": [
    "sns.distplot(data.CMO);"
   ]
  },
  {
   "cell_type": "markdown",
   "id": "7a647884-02cc-4224-ae94-4164c85f5136",
   "metadata": {},
   "source": [
    "### Money Flow Index"
   ]
  },
  {
   "cell_type": "code",
   "execution_count": 438,
   "id": "77941c37-5dfb-4db2-b1de-640baf8390b7",
   "metadata": {},
   "outputs": [],
   "source": [
    "df = price_sample.loc['2013', ['high', 'low', 'close', 'volume']]"
   ]
  },
  {
   "cell_type": "code",
   "execution_count": 440,
   "id": "6df6d97b-97f3-4d73-9225-d4c393837813",
   "metadata": {},
   "outputs": [],
   "source": [
    "df['MFI'] = talib.MFI(df.high, \n",
    "                      df.low, \n",
    "                      df.close, \n",
    "                      df.volume, \n",
    "                      timeperiod=14)"
   ]
  },
  {
   "cell_type": "code",
   "execution_count": 442,
   "id": "7cddc9b3-1679-4593-8185-2a694ba4aa96",
   "metadata": {},
   "outputs": [],
   "source": [
    "axes = df[['close', 'volume', 'MFI']].plot(figsize=(14, 8),\n",
    "                                           rot=0,\n",
    "                                           subplots=True,\n",
    "                                           title=['Close', 'Volume', 'MFI'],\n",
    "                                           legend=False)\n",
    "axes[-1].set_xlabel('')\n",
    "sns.despine()\n",
    "plt.tight_layout()\n",
    "plt.show()"
   ]
  },
  {
   "cell_type": "code",
   "execution_count": 444,
   "id": "37ac8947-ad85-45b2-b735-580208ff55ed",
   "metadata": {},
   "outputs": [],
   "source": [
    "data['MFI'] = (by_ticker\n",
    "               .apply(lambda x: talib.MFI(x.high,\n",
    "                                          x.low,\n",
    "                                          x.close,\n",
    "                                          x.volume,\n",
    "                                          timeperiod=14)))"
   ]
  },
  {
   "cell_type": "code",
   "execution_count": 450,
   "id": "0918ba3c-e1c3-44f1-b2ce-0e57e810c047",
   "metadata": {},
   "outputs": [],
   "source": [
    "with sns.axes_style('white'):\n",
    "    sns.distplot(data.MFI)\n",
    "    sns.despine()"
   ]
  },
  {
   "cell_type": "markdown",
   "id": "49486733-d14c-4ae7-8759-d229fbc8750b",
   "metadata": {},
   "source": [
    "#### Relative Strength Index"
   ]
  },
  {
   "cell_type": "markdown",
   "id": "5b3558da-12f1-4417-ba98-61a884d45fb5",
   "metadata": {},
   "source": [
    "#### Relative Strength Index"
   ]
  },
  {
   "cell_type": "code",
   "execution_count": 459,
   "id": "e47e7f6a-43ab-4ccc-9c31-c851649164ce",
   "metadata": {},
   "outputs": [],
   "source": [
    "df = price_sample.loc['2013', ['close']]"
   ]
  },
  {
   "cell_type": "code",
   "execution_count": 466,
   "id": "9ea61c30-ced0-47e6-94ca-c08999001a4a",
   "metadata": {},
   "outputs": [],
   "source": [
    "df['RSI'] = talib.RSI(df.close, timeperiod=14)"
   ]
  },
  {
   "cell_type": "code",
   "execution_count": 468,
   "id": "44e1f530-9bc0-4a36-9c06-3753b1fb14a8",
   "metadata": {},
   "outputs": [],
   "source": [
    "ax = df.plot(figsize=(14, 4), rot=0, secondary_y=['RSI'], style=['-', '--'])\n",
    "ax.set_xlabel('')\n",
    "sns.despine()\n",
    "plt.tight_layout()\n",
    "plt.show()"
   ]
  },
  {
   "cell_type": "code",
   "execution_count": 471,
   "id": "61687e26-7315-4a62-8211-7815a872f3f8",
   "metadata": {},
   "outputs": [],
   "source": [
    "data['RSI'] = (by_ticker\n",
    "               .apply(lambda x: talib.RSI(x.close,\n",
    "                                          timeperiod=14)))"
   ]
  },
  {
   "cell_type": "code",
   "execution_count": 473,
   "id": "e29ce31c-c9ea-4e82-a56d-6ca0b500a0f3",
   "metadata": {},
   "outputs": [],
   "source": [
    "with sns.axes_style('white'):\n",
    "    sns.distplot(data.RSI)\n",
    "    sns.despine();"
   ]
  },
  {
   "cell_type": "markdown",
   "id": "af7eb2e8-5106-4a9b-9325-41c72cfe0ce9",
   "metadata": {},
   "source": [
    "#### Stochastic RSI (STOCHRSI)"
   ]
  },
  {
   "cell_type": "code",
   "execution_count": 479,
   "id": "1e3284e4-8a2e-4830-8b5e-a2cff6ab5d6a",
   "metadata": {},
   "outputs": [],
   "source": [
    "df = price_sample.loc['2013', ['close']]"
   ]
  },
  {
   "cell_type": "code",
   "execution_count": 481,
   "id": "f71dfc52-064a-4fa1-a14b-d7d1fd32d53a",
   "metadata": {},
   "outputs": [],
   "source": [
    "fastk, fastd = talib.STOCHRSI(df.close,\n",
    "                              timeperiod=14, \n",
    "                              fastk_period=14, \n",
    "                              fastd_period=3, \n",
    "                              fastd_matype=0)\n",
    "df['fastk'] = fastk\n",
    "df['fastd'] = fastd"
   ]
  },
  {
   "cell_type": "code",
   "execution_count": 483,
   "id": "47726533-6017-4d9c-b871-7ce6edf0fc3e",
   "metadata": {},
   "outputs": [],
   "source": [
    "ax = df.plot(figsize=(14, 4),\n",
    "             rot=0,\n",
    "             secondary_y=['fastk', 'fastd'], style=['-', '--'])\n",
    "ax.set_xlabel('')\n",
    "sns.despine()\n",
    "plt.tight_layout()"
   ]
  },
  {
   "cell_type": "code",
   "execution_count": 485,
   "id": "27722b94-65fb-4d59-ac57-21736ad2a6b1",
   "metadata": {},
   "outputs": [],
   "source": [
    "data['STOCHRSI'] = (by_ticker.apply(lambda x: talib.STOCHRSI(x.close,\n",
    "                                                             timeperiod=14,\n",
    "                                                             fastk_period=14,\n",
    "                                                             fastd_period=3,\n",
    "                                                             fastd_matype=0)[0]))"
   ]
  },
  {
   "cell_type": "markdown",
   "id": "80043bc5-e670-465c-8dc7-431445acef79",
   "metadata": {},
   "source": [
    "#### Stochastic (STOCH)"
   ]
  },
  {
   "cell_type": "code",
   "execution_count": 494,
   "id": "1e3c86e1-a03d-4b11-bbee-0865720da92d",
   "metadata": {},
   "outputs": [],
   "source": [
    "df = price_sample.loc['2013', ['high', 'low', 'close']]"
   ]
  },
  {
   "cell_type": "code",
   "execution_count": 496,
   "id": "91b9c20c-8624-484d-b08a-055f81cff612",
   "metadata": {},
   "outputs": [],
   "source": [
    "slowk, slowd = talib.STOCH(df.high,\n",
    "                           df.low,\n",
    "                           df.close,\n",
    "                           fastk_period=14,\n",
    "                           slowk_period=3,\n",
    "                           slowk_matype=0,\n",
    "                           slowd_period=3,\n",
    "                           slowd_matype=0)\n",
    "df['STOCH'] = slowd / slowk"
   ]
  },
  {
   "cell_type": "code",
   "execution_count": 498,
   "id": "dcab49d8-3c96-4069-8d3b-cbd5cd41f1ab",
   "metadata": {},
   "outputs": [],
   "source": [
    "ax = df[['close', 'STOCH']].plot(figsize=(14, 4),\n",
    "                                 rot=0,\n",
    "                                 secondary_y='STOCH', style=['-', '--'])\n",
    "ax.set_xlabel('')\n",
    "sns.despine()\n",
    "plt.tight_layout()\n",
    "plt.show()"
   ]
  },
  {
   "cell_type": "code",
   "execution_count": 500,
   "id": "ac3b7348-b1cf-41e2-a2f0-04c03509b86d",
   "metadata": {},
   "outputs": [],
   "source": [
    "def compute_stoch(x, fastk_period=14, slowk_period=3, \n",
    "                  slowk_matype=0, slowd_period=3, slowd_matype=0):\n",
    "    slowk, slowd = talib.STOCH(x.high, x.low, x.close,\n",
    "                           fastk_period=fastk_period,\n",
    "                           slowk_period=slowk_period,\n",
    "                           slowk_matype=slowk_matype,\n",
    "                           slowd_period=slowd_period,\n",
    "                           slowd_matype=slowd_matype)\n",
    "    return slowd/slowk-1"
   ]
  },
  {
   "cell_type": "code",
   "execution_count": null,
   "id": "42ce4035-0e9d-41df-8494-0f0928ce9c15",
   "metadata": {},
   "outputs": [],
   "source": [
    "data['STOCH'] = by_ticker.apply(compute_stoch)\n",
    "data.loc[data.STOCH.abs() > 1e5, 'STOCH'] = np.nan"
   ]
  },
  {
   "cell_type": "code",
   "execution_count": null,
   "id": "db80c1f2-47bd-44ad-bf14-e7ed5e8c3555",
   "metadata": {},
   "outputs": [],
   "source": [
    "q = 0.005\n",
    "\n",
    "with sns.axes_style('white'):\n",
    "    sns.distplot(data.STOCH.clip(lower=data.STOCH.quantile(q),\n",
    "                             upper=data.STOCH.quantile(1-q)));\n",
    "\n",
    "    sns.despine();"
   ]
  },
  {
   "cell_type": "markdown",
   "id": "9629de8f-4ecc-4ed0-a372-861b10def858",
   "metadata": {},
   "source": [
    "#### Ultimate Oscillator (ULTOSC)Ultimate Oscillator (ULTOSC)"
   ]
  },
  {
   "cell_type": "code",
   "execution_count": 517,
   "id": "1617aa05-ce85-4d9d-b3c9-e822d9a87e24",
   "metadata": {},
   "outputs": [],
   "source": [
    "df = price_sample.loc['2013', ['high', 'low', 'close']]"
   ]
  },
  {
   "cell_type": "code",
   "execution_count": 519,
   "id": "4479e4dc-597a-43fb-9a33-8a66ccb6ece8",
   "metadata": {},
   "outputs": [],
   "source": [
    "df['ULTOSC'] = talib.ULTOSC(df.high,\n",
    "                            df.low,\n",
    "                            df.close,\n",
    "                            timeperiod1=7,\n",
    "                            timeperiod2=14,\n",
    "                            timeperiod3=28)"
   ]
  },
  {
   "cell_type": "code",
   "execution_count": 521,
   "id": "b74e5a69-f306-4e9c-9785-d02b2200248b",
   "metadata": {},
   "outputs": [],
   "source": [
    "ax = df[['close', 'ULTOSC']].plot(figsize=(14, 4),\n",
    "                                  rot=0,\n",
    "                                  secondary_y='ULTOSC', style=['-', '--'])\n",
    "ax.set_xlabel('')\n",
    "sns.despine()\n",
    "plt.tight_layout()\n",
    "plt.show()"
   ]
  },
  {
   "cell_type": "code",
   "execution_count": 523,
   "id": "d210057d-38e2-4919-a712-558ad1066c6e",
   "metadata": {},
   "outputs": [],
   "source": [
    "def compute_ultosc(x, timeperiod1=7, timeperiod2=14, timeperiod3=28):\n",
    "    return talib.ULTOSC(x.high,\n",
    "                        x.low,\n",
    "                        x.close,\n",
    "                        timeperiod1=timeperiod1,\n",
    "                        timeperiod2=timeperiod2,\n",
    "                        timeperiod3=timeperiod3)"
   ]
  },
  {
   "cell_type": "code",
   "execution_count": 525,
   "id": "2aa84419-afbb-4c26-9e1c-9875c6634d34",
   "metadata": {},
   "outputs": [],
   "source": [
    "data['ULTOSC'] = by_ticker.apply(compute_ultosc)"
   ]
  },
  {
   "cell_type": "code",
   "execution_count": 527,
   "id": "d05de841-f6cd-4c12-8fb4-165e73e1ce75",
   "metadata": {},
   "outputs": [],
   "source": [
    "with sns.axes_style('white'):\n",
    "    sns.distplot(data.ULTOSC)\n",
    "    sns.despine();"
   ]
  },
  {
   "cell_type": "markdown",
   "id": "739140ea-7c40-402d-aba3-50b1e164d34a",
   "metadata": {},
   "source": [
    "#### Williams' %R (WILLR)"
   ]
  },
  {
   "cell_type": "code",
   "execution_count": 530,
   "id": "5833532f-cba1-4d6c-b0a3-7d99282e88c1",
   "metadata": {},
   "outputs": [],
   "source": [
    "df = price_sample.loc['2013', ['high', 'low', 'close']]"
   ]
  },
  {
   "cell_type": "code",
   "execution_count": 532,
   "id": "b2c99180-2338-4789-98c3-553190061b64",
   "metadata": {},
   "outputs": [],
   "source": [
    "df['WILLR'] = talib.WILLR(df.high,\n",
    "                          df.low,\n",
    "                          df.close,\n",
    "                          timeperiod=14)"
   ]
  },
  {
   "cell_type": "code",
   "execution_count": 534,
   "id": "247f3a58-bde9-402b-88d9-f4fdc82968bc",
   "metadata": {},
   "outputs": [],
   "source": [
    "ax = df[['close', 'WILLR']].plot(figsize=(14, 4),\n",
    "                                 rot=0,\n",
    "                                 secondary_y='WILLR', style=['-', '--'])\n",
    "ax.set_xlabel('')\n",
    "sns.despine()\n",
    "plt.tight_layout()\n",
    "plt.show()"
   ]
  },
  {
   "cell_type": "code",
   "execution_count": 536,
   "id": "5c8bf129-570b-4ce7-9df4-918835415e7c",
   "metadata": {},
   "outputs": [],
   "source": [
    "data['WILLR'] = by_ticker.apply(lambda x: talib.WILLR(x.high, x.low, x.close, timeperiod=14))"
   ]
  },
  {
   "cell_type": "code",
   "execution_count": 538,
   "id": "fd6688c2-48a1-4fc7-8b2e-dd4c43878748",
   "metadata": {},
   "outputs": [],
   "source": [
    "with sns.axes_style('white'):\n",
    "    sns.distplot(data.WILLR)\n",
    "    sns.despine();"
   ]
  },
  {
   "cell_type": "markdown",
   "id": "c322b90f-a55d-4fcb-b7c0-c9732c82b307",
   "metadata": {},
   "source": [
    "### Volume Indicators\n",
    "\n",
    "#### Chaikin A/D Line"
   ]
  },
  {
   "cell_type": "code",
   "execution_count": 547,
   "id": "91d112a8-86e9-4687-8f26-e7bb7e0adf48",
   "metadata": {},
   "outputs": [],
   "source": [
    "df = price_sample.loc['2013', ['high', 'low', 'close', 'volume']]"
   ]
  },
  {
   "cell_type": "code",
   "execution_count": 551,
   "id": "984ffb4e-a1e4-47c1-9490-d24100ed4433",
   "metadata": {},
   "outputs": [],
   "source": [
    "df['AD'] = talib.AD(df.high,\n",
    "                    df.low,\n",
    "                    df.close,\n",
    "                    df.volume)"
   ]
  },
  {
   "cell_type": "code",
   "execution_count": 553,
   "id": "c12007d2-f2b9-4383-b1d6-145d3a8bfb2d",
   "metadata": {},
   "outputs": [],
   "source": [
    "ax = df[['close', 'AD']].plot(figsize=(14, 4),\n",
    "                              rot=0,\n",
    "                              secondary_y='AD', style=['-', '--'])\n",
    "\n",
    "ax.set_xlabel('')\n",
    "sns.despine()\n",
    "plt.tight_layout()"
   ]
  },
  {
   "cell_type": "code",
   "execution_count": 555,
   "id": "17b854a5-109e-4ce7-ad4b-25c67c9f8c65",
   "metadata": {},
   "outputs": [],
   "source": [
    "data['AD'] = by_ticker.apply(lambda x: talib.AD(x.high, x.low, x.close, x.volume)/x.volume.mean())"
   ]
  },
  {
   "cell_type": "code",
   "execution_count": 557,
   "id": "bf3f91db-b73c-430a-9a2b-14571626bfbd",
   "metadata": {},
   "outputs": [],
   "source": [
    "data.AD.replace((np.inf, -np.inf), np.nan).dropna().describe()"
   ]
  },
  {
   "cell_type": "code",
   "execution_count": 559,
   "id": "448bf324-5808-43fe-a058-58c3ed196e43",
   "metadata": {},
   "outputs": [],
   "source": [
    "q = 0.005\n",
    "\n",
    "AD = data.AD.replace((np.inf, -np.inf), np.nan).dropna()\n",
    "\n",
    "with sns.axes_style('white'):\n",
    "    sns.distplot(AD.clip(lower=AD.quantile(q),\n",
    "                     upper=AD.quantile(1-q)));\n",
    "\n",
    "    sns.despine();"
   ]
  },
  {
   "cell_type": "markdown",
   "id": "ca8b51ec-63f4-4efe-93c3-9b059f78cdb6",
   "metadata": {},
   "source": [
    "#### Chaikin A/D Oscillator (ADOSC)"
   ]
  },
  {
   "cell_type": "code",
   "execution_count": 576,
   "id": "3801b97b-fe05-43f4-8964-3323cb804db8",
   "metadata": {},
   "outputs": [],
   "source": [
    "df = price_sample.loc['2013', ['high', 'low', 'close', 'volume']]"
   ]
  },
  {
   "cell_type": "code",
   "execution_count": 578,
   "id": "855fda26-4643-44b6-b990-691b6e13fb58",
   "metadata": {},
   "outputs": [],
   "source": [
    "df['ADOSC'] = talib.ADOSC(df.high,\n",
    "                          df.low,\n",
    "                          df.close,\n",
    "                          df.volume,\n",
    "                          fastperiod=3,\n",
    "                          slowperiod=10)"
   ]
  },
  {
   "cell_type": "code",
   "execution_count": 580,
   "id": "d59e5416-2d9c-4889-a919-5f402c97110b",
   "metadata": {},
   "outputs": [],
   "source": [
    "ax = df[['close', 'ADOSC']].plot(figsize=(14, 4),\n",
    "                                 rot=0,\n",
    "                                 secondary_y='ADOSC', style=['-', '--'])\n",
    "\n",
    "ax.set_xlabel('')\n",
    "sns.despine()\n",
    "plt.tight_layout()"
   ]
  },
  {
   "cell_type": "code",
   "execution_count": 582,
   "id": "92ba4681-bc8e-47c2-a602-330b913fce44",
   "metadata": {},
   "outputs": [],
   "source": [
    "data['ADOSC'] = by_ticker.apply(lambda x: talib.ADOSC(x.high,\n",
    "                                                      x.low,\n",
    "                                                      x.close,\n",
    "                                                      x.volume,\n",
    "                                                      fastperiod=3,\n",
    "                                                      slowperiod=10)/x.rolling(14).volume.mean())"
   ]
  },
  {
   "cell_type": "code",
   "execution_count": 584,
   "id": "cdc81d4b-6a03-43d0-a79b-ccf745c1b4c4",
   "metadata": {},
   "outputs": [],
   "source": [
    "q = 0.0001\n",
    "\n",
    "with sns.axes_style('white'):\n",
    "    sns.distplot(data.ADOSC.clip(lower=data.ADOSC.quantile(q),\n",
    "                             upper=data.ADOSC.quantile(1-q)))\n",
    "    sns.despine();"
   ]
  },
  {
   "cell_type": "markdown",
   "id": "44f64217-d537-4ed9-9483-8618dc21ccc7",
   "metadata": {},
   "source": [
    "#### On Balance Volume (OBV)"
   ]
  },
  {
   "cell_type": "code",
   "execution_count": 587,
   "id": "a257ea98-4ab9-4c32-8de3-9691712d698f",
   "metadata": {},
   "outputs": [],
   "source": [
    "df = price_sample.loc['2013', ['close', 'volume']]"
   ]
  },
  {
   "cell_type": "code",
   "execution_count": 589,
   "id": "c37fbc90-cb54-4b68-808c-4f82e2f15d18",
   "metadata": {},
   "outputs": [],
   "source": [
    "df['OBV'] = talib.OBV(df.close,\n",
    "                      df.volume)"
   ]
  },
  {
   "cell_type": "code",
   "execution_count": 591,
   "id": "27d95447-d6f9-4dce-88fe-cb109fdcbf46",
   "metadata": {},
   "outputs": [],
   "source": [
    "ax = df[['close', 'OBV']].plot(figsize=(14, 4),\n",
    "                               rot=0,\n",
    "                               secondary_y='OBV', style=['-', '--'])\n",
    "ax.set_xlabel('')\n",
    "sns.despine()\n",
    "plt.tight_layout()\n",
    "plt.show()"
   ]
  },
  {
   "cell_type": "code",
   "execution_count": 593,
   "id": "a04d17a6-1574-4853-b1e0-e1620747dbc9",
   "metadata": {},
   "outputs": [],
   "source": [
    "data['OBV'] = by_ticker.apply(lambda x: talib.OBV(x.close,\n",
    "                                                  x.volume)/x.expanding().volume.mean())"
   ]
  },
  {
   "cell_type": "code",
   "execution_count": 595,
   "id": "02578010-8309-418b-b493-4a124149f5d1",
   "metadata": {},
   "outputs": [],
   "source": [
    "q = 0.0025\n",
    "\n",
    "with sns.axes_style('white'):\n",
    "    sns.distplot(data.OBV.clip(lower=data.OBV.quantile(q),\n",
    "                               upper=data.OBV.quantile(1-q)))\n",
    "    sns.despine()"
   ]
  },
  {
   "cell_type": "markdown",
   "id": "4892c49a-f932-434b-a0e8-3f00b0409414",
   "metadata": {},
   "source": [
    "### Volatility Indicators\n",
    "\n",
    "#### ATR"
   ]
  },
  {
   "cell_type": "code",
   "execution_count": null,
   "id": "ba9da6c5-e0b5-474e-af97-9fe07b369b00",
   "metadata": {},
   "outputs": [],
   "source": [
    "df = price_sample.loc['2013', ['high', 'low', 'close']]"
   ]
  },
  {
   "cell_type": "code",
   "execution_count": null,
   "id": "8839f449-5e80-436f-803e-eabd676ca44e",
   "metadata": {},
   "outputs": [],
   "source": [
    "df['ATR'] = talib.ATR(df.high,\n",
    "                      df.low,\n",
    "                      df.close,\n",
    "                      timeperiod=14)"
   ]
  },
  {
   "cell_type": "code",
   "execution_count": null,
   "id": "cc3d7e1c-e0a4-4166-906b-d0b8898d694d",
   "metadata": {},
   "outputs": [],
   "source": [
    "ax = df[['close', 'ATR']].plot(figsize=(14, 4),\n",
    "                          rot=0,\n",
    "                          secondary_y='ATR', style=['-', '--'])\n",
    "\n",
    "ax.set_xlabel('')\n",
    "sns.despine()\n",
    "plt.tight_layout()\n",
    "plt.show()"
   ]
  },
  {
   "cell_type": "markdown",
   "id": "cde6790c-f47f-4318-bfbd-466905b01e05",
   "metadata": {},
   "source": [
    "#### Computing Normalized Version of ATR using Rolling Mean of Price"
   ]
  },
  {
   "cell_type": "code",
   "execution_count": 616,
   "id": "7d6be944-e943-4854-b242-71e47b4c0f68",
   "metadata": {},
   "outputs": [],
   "source": [
    "data['ATR'] = by_ticker.apply(lambda x: talib.ATR(x.high,\n",
    "                                                  x.low,\n",
    "                                                  x.close,\n",
    "                                                  timeperiod=14)/x.rolling(14).close.mean())"
   ]
  },
  {
   "cell_type": "code",
   "execution_count": 618,
   "id": "5bf383bc-82ce-4621-854e-603cccc6c4ba",
   "metadata": {},
   "outputs": [],
   "source": [
    "q = 0.001\n",
    "\n",
    "with sns.axes_style('white'):\n",
    "    sns.distplot(data.ATR.clip(upper=data.ATR.quantile(1-q)))\n",
    "    sns.despine()"
   ]
  },
  {
   "cell_type": "markdown",
   "id": "726bd801-34e7-4d84-8da2-c918604e5390",
   "metadata": {},
   "source": [
    "#### NATR"
   ]
  },
  {
   "cell_type": "code",
   "execution_count": 621,
   "id": "76a8599c-ceb0-4244-85f7-ebed7c1451b6",
   "metadata": {},
   "outputs": [],
   "source": [
    "df = price_sample.loc['2013', ['high', 'low', 'close']]"
   ]
  },
  {
   "cell_type": "code",
   "execution_count": 623,
   "id": "154c7964-bd5c-4107-8996-4970a57d9f4d",
   "metadata": {},
   "outputs": [],
   "source": [
    "df['NATR'] = talib.NATR(df.high,\n",
    "                        df.low,\n",
    "                        df.close,\n",
    "                        timeperiod=14)"
   ]
  },
  {
   "cell_type": "code",
   "execution_count": 625,
   "id": "b9a19cd1-6ec6-4949-a73b-7634d04f05e0",
   "metadata": {},
   "outputs": [],
   "source": [
    "ax = df[['close', 'NATR']].plot(figsize=(14, 4),\n",
    "                           rot=0,\n",
    "                           secondary_y='NATR', style=['-', '--'])\n",
    "\n",
    "ax.set_xlabel('')\n",
    "sns.despine()\n",
    "plt.tight_layout()"
   ]
  },
  {
   "cell_type": "code",
   "execution_count": 627,
   "id": "55770efc-f733-48bf-bed5-14359722a6a5",
   "metadata": {},
   "outputs": [],
   "source": [
    "data['NATR'] = by_ticker.apply(lambda x: talib.NATR(x.high,\n",
    "                                                    x.low,\n",
    "                                                    x.close)"
   ]
  },
  {
   "cell_type": "code",
   "execution_count": 629,
   "id": "f4443061-30ac-45ce-b08b-ec314cdc503b",
   "metadata": {},
   "outputs": [],
   "source": [
    "q = 0.001\n",
    "sns.distplot(data.NATR.clip(upper=data.NATR.quantile(1-q)));"
   ]
  },
  {
   "cell_type": "markdown",
   "id": "dde5f6b8-c039-4e9a-af44-43af03cf7f45",
   "metadata": {},
   "source": [
    "### Rolling Factor Betas"
   ]
  },
  {
   "cell_type": "code",
   "execution_count": 632,
   "id": "1066e70d-11fb-4004-b578-b41fa0493f54",
   "metadata": {},
   "outputs": [],
   "source": [
    "factor_data = (web.DataReader('F-F_Research_Data_5_Factors_2x3_daily', 'famafrench', \n",
    "                              start=2005)[0].rename(columns={'Mkt-RF': 'MARKET'}))\n",
    "\n",
    "factor_data.index.names = ['date']"
   ]
  },
  {
   "cell_type": "code",
   "execution_count": 634,
   "id": "c93e8265-65f1-4017-8cd7-971a783ac0c8",
   "metadata": {},
   "outputs": [],
   "source": [
    "factors = factor_data.columns[:-1]\n",
    "\n",
    "factors"
   ]
  },
  {
   "cell_type": "code",
   "execution_count": 636,
   "id": "485cf454-1286-4136-b49d-08be6fc43e7e",
   "metadata": {},
   "outputs": [],
   "source": [
    "t = 1\n",
    "\n",
    "ret = f'ret_{t:02}'\n",
    "\n",
    "windows = [21, 63, 252]\n",
    "\n",
    "for window in windows:\n",
    "    print(window)\n",
    "    betas = []\n",
    "    for ticker, df in data.groupby('ticker', group_keys=False):\n",
    "        model_data = df[[ret]].merge(factor_data, on='date').dropna()\n",
    "        model_data[ret] -= model_data.RF\n",
    "\n",
    "        rolling_ols = RollingOLS(endog=model_data[ret], \n",
    "                                 exog=sm.add_constant(model_data[factors]), window=window)\n",
    "        factor_model = rolling_ols.fit(params_only=True).params.rename(columns={'const':'ALPHA'})\n",
    "        result = factor_model.assign(ticker=ticker).set_index('ticker', append=True).swaplevel()\n",
    "        betas.append(result)\n",
    "    betas = pd.concat(betas).rename(columns=lambda x: f'{x}_{window:02}')\n",
    "    data = data.join(betas)"
   ]
  },
  {
   "cell_type": "markdown",
   "id": "c51853fd-a15a-4e55-937f-a8069426b6ec",
   "metadata": {},
   "source": [
    "### Size proxy"
   ]
  },
  {
   "cell_type": "markdown",
   "id": "2a84d483-292e-4860-a034-59b44cd23be9",
   "metadata": {},
   "source": [
    "### Size Proxy"
   ]
  },
  {
   "cell_type": "code",
   "execution_count": 649,
   "id": "e9936720-37e0-411d-85aa-f0d15a723aa4",
   "metadata": {},
   "outputs": [],
   "source": [
    "data['size_factor'] = by_ticker.close.apply(lambda x: x.fillna(method='bfill').div(x.iloc[0]))"
   ]
  },
  {
   "cell_type": "code",
   "execution_count": 651,
   "id": "72aa933c-d4c1-4ae7-8c39-d2415287f0c4",
   "metadata": {},
   "outputs": [],
   "source": [
    "data['size_proxy'] = data.marketcap.mul(data.size_factor).div(1e6)"
   ]
  },
  {
   "cell_type": "markdown",
   "id": "95c0f4f1-39e4-4e39-b641-975e518693a7",
   "metadata": {},
   "source": [
    "### Persist Results"
   ]
  },
  {
   "cell_type": "code",
   "execution_count": 654,
   "id": "0d02197a-5541-4289-8ade-84fd5d24c93e",
   "metadata": {},
   "outputs": [],
   "source": [
    "data = (data\n",
    "        .drop(['open', 'high', 'low', 'close', 'volume', 'marketcap'], axis=1)\n",
    "        .replace((np.inf, -np.inf), np.nan))"
   ]
  },
  {
   "cell_type": "code",
   "execution_count": 656,
   "id": "38acd113-37dd-4024-a02e-f9a5b3e44a26",
   "metadata": {},
   "outputs": [],
   "source": [
    "data.dropna(how='all').info(null_counts=True)"
   ]
  },
  {
   "cell_type": "code",
   "execution_count": 658,
   "id": "f0225326-58f3-464e-b5fc-c3f8c586bc0e",
   "metadata": {},
   "outputs": [],
   "source": [
    "with pd.HDFStore('data.h5') as store:\n",
    "    store.put('factors/common', data)"
   ]
  },
  {
   "cell_type": "code",
   "execution_count": null,
   "id": "63e4d754-7d8c-4567-98a8-2050e3cf31f2",
   "metadata": {},
   "outputs": [],
   "source": []
  }
 ],
 "metadata": {
  "kernelspec": {
   "display_name": "Python [conda env:MLAT] *",
   "language": "python",
   "name": "conda-env-MLAT-py"
  },
  "language_info": {
   "codemirror_mode": {
    "name": "ipython",
    "version": 3
   },
   "file_extension": ".py",
   "mimetype": "text/x-python",
   "name": "python",
   "nbconvert_exporter": "python",
   "pygments_lexer": "ipython3",
   "version": "3.12.9"
  }
 },
 "nbformat": 4,
 "nbformat_minor": 5
}
