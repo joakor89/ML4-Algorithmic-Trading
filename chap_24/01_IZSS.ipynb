{
 "cells": [
  {
   "cell_type": "markdown",
   "id": "e5465667-a03c-4b68-949a-cac799e9cdcf",
   "metadata": {},
   "source": [
    "# Indicator Zoo Sample Selection\n",
    "\n",
    "### Loading Libraries"
   ]
  },
  {
   "cell_type": "code",
   "execution_count": 23,
   "id": "298ce615-0d35-4061-9197-06e842a21bcc",
   "metadata": {},
   "outputs": [],
   "source": [
    "# Numerical Computing\n",
    "import numpy as np\n",
    "\n",
    "# Data Manipulation\n",
    "import pandas as pd\n",
    "\n",
    "# Data Visualization\n",
    "import seaborn as sns\n",
    "import matplotlib.pyplot as plt\n",
    "\n",
    "# Warnings\n",
    "import warnings"
   ]
  },
  {
   "cell_type": "code",
   "execution_count": 24,
   "id": "ece159c9-2b32-4047-a3c0-04d79b435e74",
   "metadata": {},
   "outputs": [],
   "source": [
    "idx = pd.IndexSlice\n",
    "\n",
    "sns.set_style('whitegrid')\n",
    "\n",
    "warnings.filterwarnings('ignore')\n",
    "\n",
    "deciles = np.arange(.1, 1, .1).round(1)"
   ]
  },
  {
   "cell_type": "markdown",
   "id": "7c8b5021-db5f-41fc-8f8b-1f3422718d74",
   "metadata": {},
   "source": [
    "### Loading Data"
   ]
  },
  {
   "cell_type": "code",
   "execution_count": 30,
   "id": "d112872f-4d53-47c6-9cc7-a1bd342a5fee",
   "metadata": {},
   "outputs": [],
   "source": [
    "DATA_STORE = Path('..', 'data', 'assets.h5')"
   ]
  },
  {
   "cell_type": "code",
   "execution_count": 32,
   "id": "ec97a030-5b0b-469b-b62b-7cc7e80f787f",
   "metadata": {},
   "outputs": [],
   "source": [
    "with pd.HDFStore(DATA_STORE) as store:\n",
    "    data = (store['quandl/wiki/prices']\n",
    "            .loc[idx['2007':'2016', :],\n",
    "                 ['adj_open', 'adj_high', 'adj_low', 'adj_close', 'adj_volume']]\n",
    "            .dropna()\n",
    "            .swaplevel()\n",
    "            .sort_index()\n",
    "            .rename(columns=lambda x: x.replace('adj_', '')))\n",
    "    metadata = store['us_equities/stocks'].loc[:, ['marketcap', 'sector']]"
   ]
  },
  {
   "cell_type": "code",
   "execution_count": 34,
   "id": "7d70cb87-eb5a-49f0-9b97-ea0b6c9438a9",
   "metadata": {},
   "outputs": [],
   "source": [
    "data.info(null_counts=True)"
   ]
  },
  {
   "cell_type": "code",
   "execution_count": 36,
   "id": "19e48a9c-47a6-4b71-a9da-3d1ace16ecd4",
   "metadata": {},
   "outputs": [],
   "source": [
    "metadata.sector = pd.factorize(metadata.sector)[0]\n",
    "\n",
    "metadata.info()"
   ]
  },
  {
   "cell_type": "code",
   "execution_count": 38,
   "id": "2e3226ec-9548-4ffc-9026-b79964489f84",
   "metadata": {},
   "outputs": [],
   "source": [
    "data = data.join(metadata).dropna(subset=['sector'])"
   ]
  },
  {
   "cell_type": "code",
   "execution_count": 40,
   "id": "ad9d352e-1d5d-4b1c-8be3-b1f8d7f94709",
   "metadata": {},
   "outputs": [],
   "source": [
    "data.info(null_counts=True)"
   ]
  },
  {
   "cell_type": "code",
   "execution_count": 42,
   "id": "f7a630dd-57d5-48c0-9a1e-e22bcd2c76f3",
   "metadata": {},
   "outputs": [],
   "source": [
    "print(f\"# Tickers: {len(data.index.unique('ticker')):,.0f} | # Dates: {len(data.index.unique('date')):,.0f}\")"
   ]
  },
  {
   "cell_type": "markdown",
   "id": "124be930-a843-42dd-945e-59e29869e300",
   "metadata": {},
   "source": [
    "### 500 Most-Traded Stocks Selection"
   ]
  },
  {
   "cell_type": "code",
   "execution_count": 45,
   "id": "a2989eb5-ed1c-48de-885b-134553b668cf",
   "metadata": {},
   "outputs": [],
   "source": [
    "dv = data.close.mul(data.volume)"
   ]
  },
  {
   "cell_type": "code",
   "execution_count": 47,
   "id": "b109abe2-1859-46a2-a2cf-40fc4e37b10e",
   "metadata": {},
   "outputs": [],
   "source": [
    "top500 = (dv.groupby(level='date')\n",
    "          .rank(ascending=False)\n",
    "          .unstack('ticker')\n",
    "          .dropna(thresh=8*252, axis=1)\n",
    "          .mean()\n",
    "          .nsmallest(500))"
   ]
  },
  {
   "cell_type": "markdown",
   "id": "809743a2-7d8a-477e-aee2-da86ee7a0393",
   "metadata": {},
   "source": [
    "#### Visualizing The 200 Most Liquid Stocks"
   ]
  },
  {
   "cell_type": "code",
   "execution_count": 50,
   "id": "c619cd7b-1d6c-473a-ba84-34e00d7ff498",
   "metadata": {},
   "outputs": [],
   "source": [
    "top200 = (data.close\n",
    "          .mul(data.volume)\n",
    "          .unstack('ticker')\n",
    "          .dropna(thresh=8*252, axis=1)\n",
    "          .mean()\n",
    "          .div(1e6)\n",
    "          .nlargest(200))\n",
    "\n",
    "cutoffs = [0, 50, 100, 150, 200]\n",
    "fig, axes = plt.subplots(ncols=4, figsize=(20, 10), sharex=True)\n",
    "axes = axes.flatten()\n",
    "\n",
    "for i, cutoff in enumerate(cutoffs[1:], 1):\n",
    "    top200.iloc[cutoffs[i-1]:cutoffs[i]\n",
    "                ].sort_values().plot.barh(logx=True, ax=axes[i-1])\n",
    "fig.tight_layout()\n",
    "plt.show()"
   ]
  },
  {
   "cell_type": "code",
   "execution_count": 52,
   "id": "cf9571e5-14c6-4fdd-930e-eb2d9bee2714",
   "metadata": {},
   "outputs": [],
   "source": [
    "to_drop = data.index.unique('ticker').difference(top500.index)"
   ]
  },
  {
   "cell_type": "code",
   "execution_count": 54,
   "id": "e85de9a2-97c9-408a-9322-b82cf7d5e018",
   "metadata": {},
   "outputs": [],
   "source": [
    "len(to_drop)"
   ]
  },
  {
   "cell_type": "code",
   "execution_count": 56,
   "id": "e616dd0d-5c47-42d3-a0dd-fd35779e7327",
   "metadata": {},
   "outputs": [],
   "source": [
    "data = data.drop(to_drop, level='ticker')"
   ]
  },
  {
   "cell_type": "code",
   "execution_count": 58,
   "id": "9a82e4f9-7b1d-4f98-9e5d-09fcd24d42c8",
   "metadata": {},
   "outputs": [],
   "source": [
    "data.info(null_counts=True)"
   ]
  },
  {
   "cell_type": "code",
   "execution_count": 78,
   "id": "4e8e56ff-26fa-4b59-960c-507d9116459b",
   "metadata": {},
   "outputs": [],
   "source": [
    "print(f\"# Tickers: {len(data.index.unique('ticker')):,.0f} | # Dates: {len(data.index.unique('date')):,.0f}\")"
   ]
  },
  {
   "cell_type": "markdown",
   "id": "04599a1b-66b4-447a-ac20-debe91abbe7d",
   "metadata": {},
   "source": [
    "#### Removing Outlier Observations Based on Daily Returns"
   ]
  },
  {
   "cell_type": "code",
   "execution_count": 81,
   "id": "deedf21e-c3f8-49d6-b022-43ef510aed29",
   "metadata": {},
   "outputs": [],
   "source": [
    "before = len(data)\n",
    "\n",
    "data['ret'] = data.groupby('ticker').close.pct_change()\n",
    "data = data[data.ret.between(-1, 1)].drop('ret', axis=1)\n",
    "\n",
    "print(f'Dropped {before-len(data):,.0f}')"
   ]
  },
  {
   "cell_type": "code",
   "execution_count": 85,
   "id": "07dae77f-4227-40ae-873f-e7cbc4e250f4",
   "metadata": {},
   "outputs": [],
   "source": [
    "tickers = data.index.unique('ticker')\n",
    "\n",
    "print(f\"# Tickers: {len(tickers):,.0f} | # Dates: {len(data.index.unique('date')):,.0f}\")"
   ]
  },
  {
   "cell_type": "markdown",
   "id": "486c3613-b2e4-429d-8a81-6b4253c1ab19",
   "metadata": {},
   "source": [
    "### Sample Price Data for Illustration"
   ]
  },
  {
   "cell_type": "code",
   "execution_count": 98,
   "id": "99014b32-06c7-4a39-80b6-3d3e75fc610d",
   "metadata": {},
   "outputs": [],
   "source": [
    "ticker = 'AAPL'\n",
    "# alternative\n",
    "# ticker = np.random.choice(tickers)\n",
    "price_sample = data.loc[idx[ticker, :], :].reset_index('ticker', drop=True)"
   ]
  },
  {
   "cell_type": "code",
   "execution_count": 100,
   "id": "48c8d825-5488-4581-9d3d-df715e61d27c",
   "metadata": {},
   "outputs": [],
   "source": [
    "price_sample.info()"
   ]
  },
  {
   "cell_type": "code",
   "execution_count": 102,
   "id": "2e717b4b-14f6-436f-8e21-9479927b2935",
   "metadata": {},
   "outputs": [],
   "source": [
    "price_sample.to_hdf('data.h5', 'data/sample')"
   ]
  },
  {
   "cell_type": "markdown",
   "id": "9f50fb71-c5ea-4011-972b-f60d846cdb80",
   "metadata": {},
   "source": [
    "### Computing Returns"
   ]
  },
  {
   "cell_type": "code",
   "execution_count": 105,
   "id": "952924ae-7b8f-4b33-8607-b1d2f659a7af",
   "metadata": {},
   "outputs": [],
   "source": [
    "by_ticker = data.groupby(level='ticker')"
   ]
  },
  {
   "cell_type": "markdown",
   "id": "de0de597-67e8-45bf-850e-791676306bbb",
   "metadata": {},
   "source": [
    "#### Historical Returns"
   ]
  },
  {
   "cell_type": "code",
   "execution_count": 108,
   "id": "047116b4-bf41-4c45-b111-102a1db3536a",
   "metadata": {},
   "outputs": [],
   "source": [
    "T = [1, 2, 3, 4, 5, 10, 21, 42, 63, 126, 252]"
   ]
  },
  {
   "cell_type": "code",
   "execution_count": 110,
   "id": "18797043-0755-4b13-987a-d9af8433abce",
   "metadata": {},
   "outputs": [],
   "source": [
    "for t in T:\n",
    "    data[f'ret_{t:02}'] = by_ticker.close.pct_change(t)"
   ]
  },
  {
   "cell_type": "markdown",
   "id": "7d3253d4-ba6a-432e-b8ce-4cd5adacf409",
   "metadata": {},
   "source": [
    "#### Forward Returns"
   ]
  },
  {
   "cell_type": "code",
   "execution_count": 113,
   "id": "6842fb7f-cc70-49b5-af63-955700666c03",
   "metadata": {},
   "outputs": [],
   "source": [
    "data['ret_fwd'] = by_ticker.ret_01.shift(-1)\n",
    "\n",
    "data = data.dropna(subset=['ret_fwd'])"
   ]
  },
  {
   "cell_type": "markdown",
   "id": "b9c3703d-e12c-487b-8443-edc80499570f",
   "metadata": {},
   "source": [
    "### Persist results"
   ]
  },
  {
   "cell_type": "code",
   "execution_count": 116,
   "id": "821a2c4b-a4d9-46a7-84c7-032b8ca35466",
   "metadata": {},
   "outputs": [],
   "source": [
    "data.info(null_counts=True)"
   ]
  },
  {
   "cell_type": "code",
   "execution_count": 118,
   "id": "c9a2cf58-2b9b-48b5-a177-a48070145645",
   "metadata": {},
   "outputs": [],
   "source": [
    "data.to_hdf('data.h5', 'data/top500')"
   ]
  },
  {
   "cell_type": "code",
   "execution_count": null,
   "id": "bb4a2883-15cd-44c5-829e-15f6b538a3a1",
   "metadata": {},
   "outputs": [],
   "source": [
    "\n"
   ]
  }
 ],
 "metadata": {
  "kernelspec": {
   "display_name": "Python [conda env:MLAT] *",
   "language": "python",
   "name": "conda-env-MLAT-py"
  },
  "language_info": {
   "codemirror_mode": {
    "name": "ipython",
    "version": 3
   },
   "file_extension": ".py",
   "mimetype": "text/x-python",
   "name": "python",
   "nbconvert_exporter": "python",
   "pygments_lexer": "ipython3",
   "version": "3.12.9"
  }
 },
 "nbformat": 4,
 "nbformat_minor": 5
}
