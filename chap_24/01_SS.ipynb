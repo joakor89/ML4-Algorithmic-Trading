{
 "cells": [
  {
   "cell_type": "markdown",
   "id": "aa2a9802-af16-4da4-8ebf-78ca6133f36a",
   "metadata": {},
   "source": [
    "# Sample Selection\n",
    "\n",
    "### Loading Libraries"
   ]
  },
  {
   "cell_type": "code",
   "execution_count": 18,
   "id": "af1d28b3-4017-4024-81ce-02f60495d970",
   "metadata": {},
   "outputs": [],
   "source": [
    "# Numerical Computing\n",
    "import numpy as np\n",
    "\n",
    "# Data Manipulation\n",
    "import pandas as pd\n",
    "\n",
    "# Data Visualization\n",
    "import seaborn as sns\n",
    "import matplotlib.pyplot as plt\n",
    "\n",
    "# Warnings\n",
    "import warnings\n",
    "\n",
    "# Path\n",
    "from pathlib import Path"
   ]
  },
  {
   "cell_type": "code",
   "execution_count": 19,
   "id": "e6a4819a-4c3b-4b0f-999f-bbb375e9cf20",
   "metadata": {},
   "outputs": [],
   "source": [
    "idx = pd.IndexSlice\n",
    "\n",
    "sns.set_style('whitegrid')\n",
    "\n",
    "warnings.filterwarnings('ignore')\n",
    "\n",
    "deciles = np.arange(.1, 1, .1).round(1)"
   ]
  },
  {
   "cell_type": "code",
   "execution_count": 22,
   "id": "07d18da4-2e86-41ad-b5ef-d5a445404b2c",
   "metadata": {},
   "outputs": [],
   "source": [
    "%matplotlib inline"
   ]
  },
  {
   "cell_type": "markdown",
   "id": "9cae1529-e23c-441e-bac1-86cb10a99b9d",
   "metadata": {},
   "source": [
    "### Loading Data"
   ]
  },
  {
   "cell_type": "code",
   "execution_count": 25,
   "id": "01cd7261-a574-4f89-be26-236fb041fc66",
   "metadata": {},
   "outputs": [],
   "source": [
    "DATA_STORE = Path('..', 'data', 'assets.h5')"
   ]
  },
  {
   "cell_type": "code",
   "execution_count": 29,
   "id": "aa369800-d9dc-48eb-96c6-59d32a5f176e",
   "metadata": {},
   "outputs": [],
   "source": [
    "with pd.HDFStore(DATA_STORE) as store:\n",
    "    data = (store['quandl/wiki/prices']\n",
    "            .loc[idx['2007':'2016', :],\n",
    "                 ['adj_open', 'adj_high', 'adj_low', 'adj_close', 'adj_volume']]\n",
    "            .dropna()\n",
    "            .swaplevel()\n",
    "            .sort_index()\n",
    "            .rename(columns=lambda x: x.replace('adj_', '')))\n",
    "    metadata = store['us_equities/stocks'].loc[:, ['marketcap', 'sector']]"
   ]
  },
  {
   "cell_type": "code",
   "execution_count": 31,
   "id": "042568b3-e5a3-4699-be83-ed636f153cb5",
   "metadata": {},
   "outputs": [],
   "source": [
    "data.info(null_counts=True)"
   ]
  },
  {
   "cell_type": "code",
   "execution_count": 33,
   "id": "c3454897-2a8c-4067-9153-3387b24100d1",
   "metadata": {},
   "outputs": [],
   "source": [
    "metadata.sector = pd.factorize(metadata.sector)[0]\n",
    "\n",
    "metadata.info()"
   ]
  },
  {
   "cell_type": "code",
   "execution_count": 35,
   "id": "8b7138b6-98da-4053-a20b-139f255e39b3",
   "metadata": {},
   "outputs": [],
   "source": [
    "data = data.join(metadata).dropna(subset=['sector'])"
   ]
  },
  {
   "cell_type": "code",
   "execution_count": 37,
   "id": "96fd407a-b297-4dac-b43f-efa9f2c7d456",
   "metadata": {},
   "outputs": [],
   "source": [
    "data.info(null_counts=True)"
   ]
  },
  {
   "cell_type": "code",
   "execution_count": 39,
   "id": "166280b3-c11e-414d-a858-67dfae496e65",
   "metadata": {},
   "outputs": [],
   "source": [
    "print(f\"# Tickers: {len(data.index.unique('ticker')):,.0f} | # Dates: {len(data.index.unique('date')):,.0f}\")"
   ]
  },
  {
   "cell_type": "markdown",
   "id": "1afca387-02cb-4eed-b02c-b9a035f8dc2e",
   "metadata": {},
   "source": [
    "### 500 Most-Traded Stocks Selection"
   ]
  },
  {
   "cell_type": "code",
   "execution_count": 55,
   "id": "29876abc-d966-40e3-91ce-bb6164392a3a",
   "metadata": {},
   "outputs": [],
   "source": [
    "dv = data.close.mul(data.volume)"
   ]
  },
  {
   "cell_type": "code",
   "execution_count": 57,
   "id": "d7864df8-c2aa-47eb-9358-6149e505594a",
   "metadata": {},
   "outputs": [],
   "source": [
    "top500 = (dv.groupby(level='date')\n",
    "          .rank(ascending=False)\n",
    "          .unstack('ticker')\n",
    "          .dropna(thresh=8*252, axis=1)\n",
    "          .mean()\n",
    "          .nsmallest(500))"
   ]
  },
  {
   "cell_type": "markdown",
   "id": "0b012782-6d49-4de1-8b5d-ad3f5b6e215c",
   "metadata": {},
   "source": [
    "### Visualizing The 200 Most Liquid Stocks"
   ]
  },
  {
   "cell_type": "code",
   "execution_count": 115,
   "id": "21af149e-0bff-4783-8071-ea15ec3ca04c",
   "metadata": {},
   "outputs": [],
   "source": [
    "top200 = (data.close\n",
    "          .mul(data.volume)\n",
    "          .unstack('ticker')\n",
    "          .dropna(thresh=8*252, axis=1)\n",
    "          .mean()\n",
    "          .div(1e6)\n",
    "          .nlargest(200))\n",
    "cutoffs = [0, 50, 100, 150, 200]\n",
    "fig, axes = plt.subplots(ncols=4, figsize=(20, 10), sharex=True)\n",
    "axes = axes.flatten()\n",
    "\n",
    "for i, cutoff in enumerate(cutoffs[1:], 1):\n",
    "    top200.iloc[cutoffs[i-1]:cutoffs[i]\n",
    "                ].sort_values().plot.barh(logx=True, ax=axes[i-1])\n",
    "\n",
    "fig.tight_layout()\n",
    "plt.show()"
   ]
  },
  {
   "cell_type": "code",
   "execution_count": 75,
   "id": "3ff5c904-e1ee-4eb0-b8d6-d5d9b0f55abf",
   "metadata": {},
   "outputs": [],
   "source": [
    "to_drop = data.index.unique('ticker').difference(top500.index)"
   ]
  },
  {
   "cell_type": "code",
   "execution_count": 77,
   "id": "e39fef6a-4e19-4bba-8323-092a78798a61",
   "metadata": {},
   "outputs": [],
   "source": [
    "len(to_drop)"
   ]
  },
  {
   "cell_type": "code",
   "execution_count": 79,
   "id": "abc7cb77-dff0-4808-a1c8-3acb4463254e",
   "metadata": {},
   "outputs": [],
   "source": [
    "data = data.drop(to_drop, level='ticker')"
   ]
  },
  {
   "cell_type": "code",
   "execution_count": 81,
   "id": "fb08dea8-f0d5-4107-aeda-1971bbc47942",
   "metadata": {},
   "outputs": [],
   "source": [
    "data.info(null_counts=True)"
   ]
  },
  {
   "cell_type": "code",
   "execution_count": 117,
   "id": "34b0ad23-4e64-42e4-a942-4437e17b8cdd",
   "metadata": {},
   "outputs": [],
   "source": [
    "print(f\"# Tickers: {len(data.index.unique('ticker')):,.0f} | # Dates: {len(data.index.unique('date')):,.0f}\")"
   ]
  },
  {
   "cell_type": "markdown",
   "id": "03564271-eb0a-4fea-b045-2a2c41f31463",
   "metadata": {},
   "source": [
    "#### Removing Outlier Observations Based on Daily Returns"
   ]
  },
  {
   "cell_type": "code",
   "execution_count": 84,
   "id": "672990af-1d1a-46a9-9b1e-1020588ef708",
   "metadata": {},
   "outputs": [],
   "source": [
    "before = len(data)\n",
    "\n",
    "data['ret'] = data.groupby('ticker').close.pct_change()\n",
    "data = data[data.ret.between(-1, 1)].drop('ret', axis=1)\n",
    "\n",
    "print(f'Dropped {before-len(data):,.0f}')"
   ]
  },
  {
   "cell_type": "code",
   "execution_count": 86,
   "id": "8728f765-86c2-45cf-b970-c2823b4ef263",
   "metadata": {},
   "outputs": [],
   "source": [
    "tickers = data.index.unique('ticker')\n",
    "\n",
    "print(f\"# Tickers: {len(tickers):,.0f} | # Dates: {len(data.index.unique('date')):,.0f}\")"
   ]
  },
  {
   "cell_type": "markdown",
   "id": "3697778c-578d-4679-b429-ff53f0ad7b07",
   "metadata": {},
   "source": [
    "#### Sample Price Data for Illustration"
   ]
  },
  {
   "cell_type": "code",
   "execution_count": 89,
   "id": "476c1e74-527c-4d0d-a90e-13e5a7b5844c",
   "metadata": {},
   "outputs": [],
   "source": [
    "ticker = 'AAPL'\n",
    "# alternative\n",
    "# ticker = np.random.choice(tickers)\n",
    "price_sample = data.loc[idx[ticker, :], :].reset_index('ticker', drop=True)"
   ]
  },
  {
   "cell_type": "code",
   "execution_count": 91,
   "id": "a6ce5511-5cd0-44bd-8c16-3c8ba8a96b21",
   "metadata": {},
   "outputs": [],
   "source": [
    "price_sample.info()"
   ]
  },
  {
   "cell_type": "code",
   "execution_count": 93,
   "id": "78527660-52c1-4a02-b3ca-8bca3dce2ddd",
   "metadata": {},
   "outputs": [],
   "source": [
    "price_sample.to_hdf('data.h5', 'data/sample')"
   ]
  },
  {
   "cell_type": "markdown",
   "id": "08e22abd-b113-404d-a349-9ec03fd8cc6b",
   "metadata": {},
   "source": [
    "#### Computing Returns"
   ]
  },
  {
   "cell_type": "code",
   "execution_count": 96,
   "id": "e783a759-5392-4153-abd5-ed6280f8d5ee",
   "metadata": {},
   "outputs": [],
   "source": [
    "by_ticker = data.groupby(level='ticker')"
   ]
  },
  {
   "cell_type": "markdown",
   "id": "c567f050-b99d-46a8-9939-7b85020d58df",
   "metadata": {},
   "source": [
    "#### Historical Returns"
   ]
  },
  {
   "cell_type": "code",
   "execution_count": 101,
   "id": "be1217d9-151f-4a48-bf54-ef2827a8fc8f",
   "metadata": {},
   "outputs": [],
   "source": [
    "T = [1, 2, 3, 4, 5, 10, 21, 42, 63, 126, 252]"
   ]
  },
  {
   "cell_type": "code",
   "execution_count": 103,
   "id": "c757366a-5fff-479f-996e-ad8b1e548648",
   "metadata": {},
   "outputs": [],
   "source": [
    "for t in T:\n",
    "    data[f'ret_{t:02}'] = by_ticker.close.pct_change(t)"
   ]
  },
  {
   "cell_type": "markdown",
   "id": "a4a8e488-5b4f-4aee-a2db-34c42d35bf5b",
   "metadata": {},
   "source": [
    "#### Forward Returns"
   ]
  },
  {
   "cell_type": "code",
   "execution_count": 106,
   "id": "758ed807-72aa-4797-9aa5-7a5b2a9c1bc4",
   "metadata": {},
   "outputs": [],
   "source": [
    "data['ret_fwd'] = by_ticker.ret_01.shift(-1)\n",
    "\n",
    "data = data.dropna(subset=['ret_fwd'])"
   ]
  },
  {
   "cell_type": "markdown",
   "id": "5328c29d-5df4-4f8a-9fb9-53dd7f1412cd",
   "metadata": {},
   "source": [
    "### Persist Results"
   ]
  },
  {
   "cell_type": "code",
   "execution_count": 109,
   "id": "f45edc89-e42d-4f69-b39d-af4cac0b3e79",
   "metadata": {},
   "outputs": [],
   "source": [
    "data.info(null_counts=True)"
   ]
  },
  {
   "cell_type": "code",
   "execution_count": 111,
   "id": "507ff952-fa6e-4b88-8a9f-35229e527993",
   "metadata": {},
   "outputs": [],
   "source": [
    "data.to_hdf('data.h5', 'data/top500')"
   ]
  },
  {
   "cell_type": "code",
   "execution_count": null,
   "id": "bbd95a36-50c9-42ca-b708-7766ee1a5499",
   "metadata": {},
   "outputs": [],
   "source": []
  }
 ],
 "metadata": {
  "kernelspec": {
   "display_name": "Python [conda env:MLAT] *",
   "language": "python",
   "name": "conda-env-MLAT-py"
  },
  "language_info": {
   "codemirror_mode": {
    "name": "ipython",
    "version": 3
   },
   "file_extension": ".py",
   "mimetype": "text/x-python",
   "name": "python",
   "nbconvert_exporter": "python",
   "pygments_lexer": "ipython3",
   "version": "3.12.9"
  }
 },
 "nbformat": 4,
 "nbformat_minor": 5
}
