{
 "cells": [
  {
   "cell_type": "markdown",
   "id": "d9ed67ec-5403-4be3-a046-fe45d070dded",
   "metadata": {},
   "source": [
    "# 101 Formulaic Alphas\n",
    "\n",
    "### Loading Libraries"
   ]
  },
  {
   "cell_type": "code",
   "execution_count": 75,
   "id": "7b429e95-e241-4821-9c6e-16b9230f7a77",
   "metadata": {},
   "outputs": [],
   "source": [
    "# Numerical Computing\n",
    "import numpy as np\n",
    "\n",
    "# Data Manipulation\n",
    "import pandas as pd\n",
    "\n",
    "# Data Visualization\n",
    "import seaborn as sns\n",
    "import matplotlib.pyplot as plt\n",
    "\n",
    "# Warnings\n",
    "import warnings\n",
    "\n",
    "# Scikit-Learn\n",
    "from sklearn.feature_selection import mutual_info_regression\n",
    "\n",
    "# SciPy\n",
    "from scipy.stats import spearmanr\n",
    "\n",
    "# Technical Analysis\n",
    "from talib import WMA"
   ]
  },
  {
   "cell_type": "code",
   "execution_count": 76,
   "id": "187b17c7-38e1-4624-912d-c381ef705546",
   "metadata": {},
   "outputs": [],
   "source": [
    "idx= pd.IndexSlice\n",
    "\n",
    "sns.set_style('whitegrid')\n",
    "\n",
    "warnings.filterwarnings('ignore')"
   ]
  },
  {
   "cell_type": "markdown",
   "id": "d26c6a5e-9efd-418d-80a5-5d64535dc193",
   "metadata": {},
   "source": [
    "### Functions\n",
    "\n",
    "#### Cross-section"
   ]
  },
  {
   "cell_type": "code",
   "execution_count": 80,
   "id": "7a1dd4fa-7288-471e-8c78-a43dd05ee963",
   "metadata": {},
   "outputs": [],
   "source": [
    "def rank(df):\n",
    "    \"\"\"Return the cross-sectional percentile rank\n",
    "\n",
    "     Args:\n",
    "         :param df: tickers in columns, sorted dates in rows.\n",
    "\n",
    "     Returns:\n",
    "         pd.DataFrame: the ranked values\n",
    "     \"\"\"\n",
    "    return df.rank(axis=1, pct=True)"
   ]
  },
  {
   "cell_type": "code",
   "execution_count": 82,
   "id": "2352c09f-e6f8-49e0-9f93-2c923ff82208",
   "metadata": {},
   "outputs": [],
   "source": [
    "def scale(df):\n",
    "    \"\"\"\n",
    "    Scaling time serie.\n",
    "    :param df: a pandas DataFrame.\n",
    "    :param k: scaling factor.\n",
    "    :return: a pandas DataFrame rescaled df such that sum(abs(df)) = k\n",
    "    \"\"\"\n",
    "    return df.div(df.abs().sum(axis=1), axis=0)"
   ]
  },
  {
   "cell_type": "markdown",
   "id": "b5d746cf-400e-4581-b06d-fb4e8f4878e2",
   "metadata": {},
   "source": [
    "#### Operators"
   ]
  },
  {
   "cell_type": "code",
   "execution_count": 85,
   "id": "e3b7b70f-c188-42a5-be33-778cd79bae7f",
   "metadata": {},
   "outputs": [],
   "source": [
    "def log(df):\n",
    "    return np.log1p(df)"
   ]
  },
  {
   "cell_type": "code",
   "execution_count": 87,
   "id": "f055da21-c4d9-4d31-8c56-5da34e12dd9d",
   "metadata": {},
   "outputs": [],
   "source": [
    "def sign(df):\n",
    "    return np.sign(df)"
   ]
  },
  {
   "cell_type": "code",
   "execution_count": 89,
   "id": "8db26004-6a51-4f50-86c1-66823f965478",
   "metadata": {},
   "outputs": [],
   "source": [
    "def power(df, exp):\n",
    "    return df.pow(exp)"
   ]
  },
  {
   "cell_type": "markdown",
   "id": "ea44c53c-4b9f-424a-a5d8-05b8562645fb",
   "metadata": {},
   "source": [
    "### Time Series\n",
    "\n",
    "#### Pandas Implementation"
   ]
  },
  {
   "cell_type": "code",
   "execution_count": 93,
   "id": "6d2f9652-8826-4e5d-9624-6b7f93b0ff3d",
   "metadata": {},
   "outputs": [],
   "source": [
    "def ts_lag(df: pd.DataFrame, t: int = 1) -> pd.DataFrame:\n",
    "    \"\"\"Return the lagged values t periods ago.\n",
    "\n",
    "    Args:\n",
    "        :param df: tickers in columns, sorted dates in rows.\n",
    "        :param t: lag\n",
    "\n",
    "    Returns:\n",
    "        pd.DataFrame: the lagged values\n",
    "    \"\"\"\n",
    "    return df.shift(t)"
   ]
  },
  {
   "cell_type": "code",
   "execution_count": 95,
   "id": "6ca22f0b-9cec-4473-9d11-f6de66898d1d",
   "metadata": {},
   "outputs": [],
   "source": [
    "def ts_delta(df, period=1):\n",
    "    \"\"\"\n",
    "    Wrapper function to estimate difference.\n",
    "    :param df: a pandas DataFrame.\n",
    "    :param period: the difference grade.\n",
    "    :return: a pandas DataFrame with today’s value minus the value 'period' days ago.\n",
    "    \"\"\"\n",
    "    return df.diff(period)"
   ]
  },
  {
   "cell_type": "code",
   "execution_count": 97,
   "id": "2626902e-8ee2-4f5b-a27b-c04ee0e07d5e",
   "metadata": {},
   "outputs": [],
   "source": [
    "def ts_sum(df: pd.DataFrame, window: int = 10) -> pd.DataFrame:\n",
    "    \"\"\"Computes the rolling ts_sum for the given window size.\n",
    "\n",
    "    Args:\n",
    "        df (pd.DataFrame): tickers in columns, dates in rows.\n",
    "        window      (int): size of rolling window.\n",
    "\n",
    "    Returns:\n",
    "        pd.DataFrame: the ts_sum over the last 'window' days.\n",
    "    \"\"\"\n",
    "    return df.rolling(window).sum()"
   ]
  },
  {
   "cell_type": "code",
   "execution_count": 99,
   "id": "be133ce2-79fc-4519-967b-e42731a30324",
   "metadata": {},
   "outputs": [],
   "source": [
    "def ts_mean(df, window=10):\n",
    "    \"\"\"Computes the rolling mean for the given window size.\n",
    "\n",
    "    Args:\n",
    "        df (pd.DataFrame): tickers in columns, dates in rows.\n",
    "        window      (int): size of rolling window.\n",
    "\n",
    "    Returns:\n",
    "        pd.DataFrame: the mean over the last 'window' days.\n",
    "    \"\"\"\n",
    "    return df.rolling(window).mean()"
   ]
  },
  {
   "cell_type": "code",
   "execution_count": 101,
   "id": "802fefe7-1252-4be1-b322-31d254c59736",
   "metadata": {},
   "outputs": [],
   "source": [
    "def ts_weighted_mean(df, period=10):\n",
    "    \"\"\"\n",
    "    Linear weighted moving average implementation.\n",
    "    :param df: a pandas DataFrame.\n",
    "    :param period: the LWMA period\n",
    "    :return: a pandas DataFrame with the LWMA.\n",
    "    \"\"\"\n",
    "    return (df.apply(lambda x: WMA(x, timeperiod=period)))"
   ]
  },
  {
   "cell_type": "code",
   "execution_count": 103,
   "id": "c27ace30-2ca7-43a4-89ef-d53c636e6b8c",
   "metadata": {},
   "outputs": [],
   "source": [
    "def ts_std(df, window=10):\n",
    "    \"\"\"\n",
    "    Wrapper function to estimate rolling standard deviation.\n",
    "    :param df: a pandas DataFrame.\n",
    "    :param window: the rolling window.\n",
    "    :return: a pandas DataFrame with the time-series min over the past 'window' days.\n",
    "    \"\"\"\n",
    "    return (df\n",
    "            .rolling(window)\n",
    "            .std())"
   ]
  },
  {
   "cell_type": "code",
   "execution_count": 105,
   "id": "f88eba09-0972-42af-9e9c-b618639bd103",
   "metadata": {},
   "outputs": [],
   "source": [
    "def ts_rank(df, window=10):\n",
    "    \"\"\"\n",
    "    Wrapper function to estimate rolling rank.\n",
    "    :param df: a pandas DataFrame.\n",
    "    :param window: the rolling window.\n",
    "    :return: a pandas DataFrame with the time-series rank over the past window days.\n",
    "    \"\"\"\n",
    "    return (df\n",
    "            .rolling(window)\n",
    "            .apply(lambda x: x.rank().iloc[-1]))"
   ]
  },
  {
   "cell_type": "code",
   "execution_count": 107,
   "id": "30e0e8a1-5c02-4290-b413-b12d60bc431d",
   "metadata": {},
   "outputs": [],
   "source": [
    "def ts_product(df, window=10):\n",
    "    \"\"\"\n",
    "    Wrapper function to estimate rolling ts_product.\n",
    "    :param df: a pandas DataFrame.\n",
    "    :param window: the rolling window.\n",
    "    :return: a pandas DataFrame with the time-series ts_product over the past 'window' days.\n",
    "    \"\"\"\n",
    "    return (df\n",
    "            .rolling(window)\n",
    "            .apply(np.prod))"
   ]
  },
  {
   "cell_type": "code",
   "execution_count": 109,
   "id": "fcb74413-1d08-40e5-843a-bca432826d05",
   "metadata": {},
   "outputs": [],
   "source": [
    "def ts_min(df, window=10):\n",
    "    \"\"\"\n",
    "    Wrapper function to estimate rolling min.\n",
    "    :param df: a pandas DataFrame.\n",
    "    :param window: the rolling window.\n",
    "    :return: a pandas DataFrame with the time-series min over the past 'window' days.\n",
    "    \"\"\"\n",
    "    return df.rolling(window).min()"
   ]
  },
  {
   "cell_type": "code",
   "execution_count": 111,
   "id": "4307e9cf-bc55-42f2-b9e2-b8202c17dde8",
   "metadata": {},
   "outputs": [],
   "source": [
    "def ts_max(df, window=10):\n",
    "    \"\"\"\n",
    "    Wrapper function to estimate rolling min.\n",
    "    :param df: a pandas DataFrame.\n",
    "    :param window: the rolling window.\n",
    "    :return: a pandas DataFrame with the time-series max over the past 'window' days.\n",
    "    \"\"\"\n",
    "    return df.rolling(window).max()"
   ]
  },
  {
   "cell_type": "code",
   "execution_count": 113,
   "id": "d076aaff-6de4-491b-af1a-f8107bb7c135",
   "metadata": {},
   "outputs": [],
   "source": [
    "def ts_argmax(df, window=10):\n",
    "    \"\"\"\n",
    "    Wrapper function to estimate which day ts_max(df, window) occurred on\n",
    "    :param df: a pandas DataFrame.\n",
    "    :param window: the rolling window.\n",
    "    :return: well.. that :)\n",
    "    \"\"\"\n",
    "    return df.rolling(window).apply(np.argmax).add(1)"
   ]
  },
  {
   "cell_type": "code",
   "execution_count": 115,
   "id": "32c9929b-8135-466e-b7b9-89ca5e3c6e49",
   "metadata": {},
   "outputs": [],
   "source": [
    "def ts_argmin(df, window=10):\n",
    "    \"\"\"\n",
    "    Wrapper function to estimate which day ts_min(df, window) occurred on\n",
    "    :param df: a pandas DataFrame.\n",
    "    :param window: the rolling window.\n",
    "    :return: well.. that :)\n",
    "    \"\"\"\n",
    "    return (df.rolling(window)\n",
    "            .apply(np.argmin)\n",
    "            .add(1))"
   ]
  },
  {
   "cell_type": "code",
   "execution_count": 117,
   "id": "8236de60-c1f8-4e73-8322-59753eef1dbc",
   "metadata": {},
   "outputs": [],
   "source": [
    "def ts_corr(x, y, window=10):\n",
    "    \"\"\"\n",
    "    Wrapper function to estimate rolling correlations.\n",
    "    :param x, y: pandas DataFrames.\n",
    "    :param window: the rolling window.\n",
    "    :return: a pandas DataFrame with the time-series min over the past 'window' days.\n",
    "    \"\"\"\n",
    "    return x.rolling(window).corr(y)"
   ]
  },
  {
   "cell_type": "code",
   "execution_count": 119,
   "id": "fd51b891-21fb-4687-a8fe-b38569951500",
   "metadata": {},
   "outputs": [],
   "source": [
    "def ts_cov(x, y, window=10):\n",
    "    \"\"\"\n",
    "    Wrapper function to estimate rolling covariance.\n",
    "    :param df: a pandas DataFrame.\n",
    "    :param window: the rolling window.\n",
    "    :return: a pandas DataFrame with the time-series min over the past 'window' days.\n",
    "    \"\"\"\n",
    "    return x.rolling(window).cov(y)"
   ]
  },
  {
   "cell_type": "markdown",
   "id": "a4cd2264-fbbb-4c71-a928-c7830fa0fe86",
   "metadata": {},
   "source": [
    "### Loading Data\n",
    "\n",
    "#### 500 Most-Traded Stocks"
   ]
  },
  {
   "cell_type": "code",
   "execution_count": 122,
   "id": "2cd99c75-8893-481c-9699-cbe90b26029a",
   "metadata": {},
   "outputs": [],
   "source": [
    "# ohlcv = ['open', 'high', 'low', 'close', 'volume']\n",
    "\n",
    "# data = (pd.read_hdf('data.h5', 'data/top500')\n",
    "#         .loc[:, ohlcv + ['ret_01', 'sector', 'ret_fwd']]\n",
    "#         .rename(columns={'ret_01': 'returns'})\n",
    "#         .sort_index())"
   ]
  },
  {
   "cell_type": "code",
   "execution_count": 124,
   "id": "223cf624-b6a6-4d74-9c59-63683eb99b07",
   "metadata": {},
   "outputs": [],
   "source": [
    "# adv20 = data.groupby('ticker').rolling(20).volume.mean().reset_index(0, drop=True)"
   ]
  },
  {
   "cell_type": "code",
   "execution_count": 126,
   "id": "856b0b95-9a81-4266-a9c5-66be73ef31b3",
   "metadata": {},
   "outputs": [],
   "source": [
    "# data = data.assign(adv20=adv20)"
   ]
  },
  {
   "cell_type": "code",
   "execution_count": 128,
   "id": "e5ba5344-88ec-4a31-8906-cdfa35e5523e",
   "metadata": {},
   "outputs": [],
   "source": [
    "# data = data.join(data.groupby('date')[ohlcv].rank(axis=1, pct=True), rsuffix='_rank')"
   ]
  },
  {
   "cell_type": "code",
   "execution_count": 130,
   "id": "9e486206-1c2c-46d8-b506-2f0db7be4e89",
   "metadata": {},
   "outputs": [],
   "source": [
    "# data.info(null_counts=True)"
   ]
  },
  {
   "cell_type": "code",
   "execution_count": 132,
   "id": "9be8c204-d495-445a-b655-2e9047ce5bf1",
   "metadata": {},
   "outputs": [],
   "source": [
    "# data.to_hdf('factors.h5', 'data')"
   ]
  },
  {
   "cell_type": "markdown",
   "id": "0e33fda2-4572-4e2c-a2fc-37e1a4292b7b",
   "metadata": {},
   "source": [
    "### Input Data"
   ]
  },
  {
   "cell_type": "code",
   "execution_count": 135,
   "id": "905fc205-1835-4f91-b67f-498e1957da21",
   "metadata": {},
   "outputs": [],
   "source": [
    "# o = data.open.unstack('ticker')\n",
    "# h = data.high.unstack('ticker')\n",
    "# l = data.low.unstack('ticker')\n",
    "# c = data.close.unstack('ticker')\n",
    "# v = data.volume.unstack('ticker')\n",
    "\n",
    "# vwap = o.add(h).add(l).add(c).div(4)\n",
    "# adv20 = v.rolling(20).mean()\n",
    "\n",
    "# r = data.returns.unstack('ticker')"
   ]
  },
  {
   "cell_type": "markdown",
   "id": "bad11624-6cbe-4f0d-930d-6595d243532c",
   "metadata": {},
   "source": [
    "### Evaluate Alphas"
   ]
  },
  {
   "cell_type": "code",
   "execution_count": 142,
   "id": "f87b010f-6b09-4a47-a407-9b044196a945",
   "metadata": {},
   "outputs": [],
   "source": [
    "# alphas = data[['returns', 'ret_fwd']].copy()\n",
    "# mi,ic = {}, {}"
   ]
  },
  {
   "cell_type": "code",
   "execution_count": 144,
   "id": "e7ef7216-b93f-427b-a401-e461509c7e06",
   "metadata": {},
   "outputs": [],
   "source": [
    "def get_mutual_info_score(returns, alpha, n=100000):\n",
    "    df = pd.DataFrame({'y': returns, 'alpha': alpha}).dropna().sample(n=n)\n",
    "    return mutual_info_regression(y=df.y, X=df[['alpha']])[0]"
   ]
  },
  {
   "cell_type": "markdown",
   "id": "ddaf8350-e530-4ef2-8df7-4fe0d5ac9084",
   "metadata": {},
   "source": [
    "### Alpha 001"
   ]
  },
  {
   "cell_type": "code",
   "execution_count": 147,
   "id": "6690bebb-eec1-4466-9e25-6da0db4ad93e",
   "metadata": {},
   "outputs": [],
   "source": [
    "def alpha001(c, r):\n",
    "    \"\"\"(rank(ts_argmax(power(((returns < 0)\n",
    "        ? ts_std(returns, 20)\n",
    "        : close), 2.), 5)) -0.5)\"\"\"\n",
    "    c[r < 0] = ts_std(r, 20)\n",
    "    return (rank(ts_argmax(power(c, 2), 5)).mul(-.5)\n",
    "            .stack().swaplevel())"
   ]
  },
  {
   "cell_type": "code",
   "execution_count": 149,
   "id": "19a8b35e-de06-4f25-a6aa-ed5a3522f9d6",
   "metadata": {},
   "outputs": [],
   "source": [
    "alpha = 1"
   ]
  },
  {
   "cell_type": "code",
   "execution_count": 153,
   "id": "021fec40-65ee-4806-86ff-278991a6ecd7",
   "metadata": {},
   "outputs": [],
   "source": [
    "# %%time\n",
    "# alphas[f'{alpha:03}'] = alpha001(c, r)"
   ]
  },
  {
   "cell_type": "code",
   "execution_count": 155,
   "id": "2d14fc99-22de-41be-a5f8-2e173e192f92",
   "metadata": {},
   "outputs": [],
   "source": [
    "# alphas.info()"
   ]
  },
  {
   "cell_type": "code",
   "execution_count": 157,
   "id": "e79b75ef-259d-41b2-a7c0-953bfedc60c1",
   "metadata": {},
   "outputs": [],
   "source": [
    "# alphas[f'{alpha:03}'].to_hdf('alphas.h5', f'alphas/{alpha:03}')"
   ]
  },
  {
   "cell_type": "code",
   "execution_count": 159,
   "id": "f37eb6bd-6f69-4194-b256-eb500c1c249e",
   "metadata": {},
   "outputs": [],
   "source": [
    "# sns.distplot(alphas[f'{alpha:03}']);\n",
    "# plt.show()"
   ]
  },
  {
   "cell_type": "code",
   "execution_count": 161,
   "id": "64e01589-4a10-4f0a-8c03-ab227b277b66",
   "metadata": {},
   "outputs": [],
   "source": [
    "# g = sns.jointplot(x=f'{alpha:03}', y='ret_fwd', data=alphas)"
   ]
  },
  {
   "cell_type": "code",
   "execution_count": 163,
   "id": "df3879ce-14b3-44dc-a9eb-14c1ec14d1bf",
   "metadata": {},
   "outputs": [],
   "source": [
    "# mi[1] = get_mutual_info_score(alphas.ret_fwd, alphas[f'{alpha:03}'])\n",
    "# mi[1]"
   ]
  },
  {
   "cell_type": "markdown",
   "id": "95623672-47a5-41c0-9764-81c8d0a3ada9",
   "metadata": {},
   "source": [
    "### Alpha 002"
   ]
  },
  {
   "cell_type": "code",
   "execution_count": 166,
   "id": "7465b30b-eeef-4712-b3f1-9bf9d52a4b77",
   "metadata": {},
   "outputs": [],
   "source": [
    "def alpha002(o, c, v):\n",
    "    \"\"\"(-1 * ts_corr(rank(ts_delta(log(volume), 2)), rank(((close - open) / open)), 6))\"\"\"\n",
    "    s1 = rank(ts_delta(log(v), 2))\n",
    "    s2 = rank((c / o) - 1)\n",
    "    alpha = -ts_corr(s1, s2, 6)\n",
    "    return alpha.stack('ticker').swaplevel().replace([-np.inf, np.inf], np.nan)"
   ]
  },
  {
   "cell_type": "code",
   "execution_count": 168,
   "id": "b683382e-273c-48f8-aa56-c7ed2b12e744",
   "metadata": {},
   "outputs": [],
   "source": [
    "alpha = 2"
   ]
  },
  {
   "cell_type": "code",
   "execution_count": 170,
   "id": "953821e1-f11d-42d4-9119-ddfcf8f3d4af",
   "metadata": {},
   "outputs": [],
   "source": [
    "# %%time\n",
    "# alphas[f'{alpha:03}'] = alpha002(o, c, v)"
   ]
  },
  {
   "cell_type": "code",
   "execution_count": 172,
   "id": "d15bc8e1-f727-41a9-bc58-7d7ebdc5b13d",
   "metadata": {},
   "outputs": [],
   "source": [
    "# alphas[f'{alpha:03}'].to_hdf('alphas.h5', f'alphas/{alpha:03}')"
   ]
  },
  {
   "cell_type": "code",
   "execution_count": 174,
   "id": "6ec1f177-6bf0-46d5-a24d-91e5c6a0ebf9",
   "metadata": {},
   "outputs": [],
   "source": [
    "# sns.distplot(alphas[f'{alpha:03}']);"
   ]
  },
  {
   "cell_type": "code",
   "execution_count": 176,
   "id": "f20a0e96-3dec-4b0f-8168-a4f884f93158",
   "metadata": {},
   "outputs": [],
   "source": [
    "# g = sns.jointplot(x=f'{alpha:03}', y='ret_fwd', data=alphas)"
   ]
  },
  {
   "cell_type": "code",
   "execution_count": 178,
   "id": "03947b55-79d7-4700-82c5-c61bbf5d05ce",
   "metadata": {},
   "outputs": [],
   "source": [
    "# mi[alpha] = get_mutual_info_score(alphas.ret_fwd, alphas[f'{alpha:03}'])\n",
    "# mi[2]"
   ]
  },
  {
   "cell_type": "markdown",
   "id": "9e89c20b-a73c-4589-9e18-5b1156a0e931",
   "metadata": {},
   "source": [
    "### Alpha 003"
   ]
  },
  {
   "cell_type": "code",
   "execution_count": 181,
   "id": "84100d0c-0ba5-4baa-991a-719025b77534",
   "metadata": {},
   "outputs": [],
   "source": [
    "def alpha003(o, v):\n",
    "    \"\"\"(-1 * ts_corr(rank(open), rank(volume), 10))\"\"\"\n",
    "\n",
    "    return (-ts_corr(rank(o), rank(v), 10)\n",
    "            .stack('ticker')\n",
    "            .swaplevel()\n",
    "            .replace([-np.inf, np.inf], np.nan))"
   ]
  },
  {
   "cell_type": "code",
   "execution_count": 183,
   "id": "cf164c5d-c6f8-4cc2-93f9-7b848305a98e",
   "metadata": {},
   "outputs": [],
   "source": [
    "alpha = 3"
   ]
  },
  {
   "cell_type": "code",
   "execution_count": 185,
   "id": "6f8b39ce-f26a-441b-9d31-0c6c9b56cc7f",
   "metadata": {},
   "outputs": [],
   "source": [
    "# %%time\n",
    "# alphas[f'{alpha:03}'] = alpha003(o, v)"
   ]
  },
  {
   "cell_type": "code",
   "execution_count": 187,
   "id": "c918cb98-057e-4cbb-9d57-be183542ad98",
   "metadata": {},
   "outputs": [],
   "source": [
    "# alphas[f'{alpha:03}'].to_hdf('alphas.h5', f'alphas/{alpha:03}')"
   ]
  },
  {
   "cell_type": "code",
   "execution_count": 189,
   "id": "7ec10ab3-a89b-41ea-8cee-8052f27a1e56",
   "metadata": {},
   "outputs": [],
   "source": [
    "# sns.distplot(alphas[f'{alpha:03}'].clip(lower=-1));"
   ]
  },
  {
   "cell_type": "code",
   "execution_count": 191,
   "id": "bb71da5b-6ad2-47cc-96fb-bb88f84c5c07",
   "metadata": {},
   "outputs": [],
   "source": [
    "# g = sns.jointplot(x=f'{alpha:03}', y='ret_fwd', data=alphas);"
   ]
  },
  {
   "cell_type": "code",
   "execution_count": 193,
   "id": "08800e40-e8a5-4171-ae77-99cdd5fada7d",
   "metadata": {},
   "outputs": [],
   "source": [
    "# mi[alpha] = get_mutual_info_score(alphas.ret_fwd, alphas[f'{alpha:03}'])\n",
    "# mi[alpha]"
   ]
  },
  {
   "cell_type": "markdown",
   "id": "221f3967-1cb6-4024-8817-d16ee4db7645",
   "metadata": {},
   "source": [
    "### Alpha 004"
   ]
  },
  {
   "cell_type": "code",
   "execution_count": 196,
   "id": "1acf5875-2345-4a64-8497-269b9b12b598",
   "metadata": {},
   "outputs": [],
   "source": [
    "def alpha004(l):\n",
    "    \"\"\"(-1 * Ts_Rank(rank(low), 9))\"\"\"\n",
    "    return (-ts_rank(rank(l), 9)\n",
    "            .stack('ticker')\n",
    "            .swaplevel())"
   ]
  },
  {
   "cell_type": "code",
   "execution_count": 198,
   "id": "359f7285-7b94-408d-9b88-6c5f2e75de88",
   "metadata": {},
   "outputs": [],
   "source": [
    "alpha = 4"
   ]
  },
  {
   "cell_type": "code",
   "execution_count": 253,
   "id": "51c42142-557e-45a0-821e-008da852e3b0",
   "metadata": {},
   "outputs": [],
   "source": [
    "# %%time\n",
    "# alphas[f'{alpha:03}'] = alpha004(l)"
   ]
  },
  {
   "cell_type": "code",
   "execution_count": 255,
   "id": "4e2fde81-25b1-44b9-917d-ba36ba8a78ef",
   "metadata": {},
   "outputs": [],
   "source": [
    "# alphas[f'{alpha:03}'].to_hdf('alphas.h5', f'alphas/{alpha:03}')"
   ]
  },
  {
   "cell_type": "code",
   "execution_count": 257,
   "id": "12387ad4-3319-4046-b50f-67f272338643",
   "metadata": {},
   "outputs": [],
   "source": [
    "# sns.distplot(alphas[f'{alpha:03}']);"
   ]
  },
  {
   "cell_type": "code",
   "execution_count": 259,
   "id": "b030bcc4-8666-4d45-a118-5b692548f5ce",
   "metadata": {},
   "outputs": [],
   "source": [
    "# g = sns.jointplot(x=f'{alpha:03}', y='ret_fwd', data=alphas);"
   ]
  },
  {
   "cell_type": "code",
   "execution_count": 261,
   "id": "e23f09df-e924-499f-9745-e2037a32d38e",
   "metadata": {},
   "outputs": [],
   "source": [
    "# mi[alpha] = get_mutual_info_score(alphas.ret_fwd, alphas[f'{alpha:03}'])\n",
    "# mi[alpha]"
   ]
  },
  {
   "cell_type": "markdown",
   "id": "7329b216-8699-421a-aa0b-e0b4e93753fa",
   "metadata": {},
   "source": [
    "### Alpha 005"
   ]
  },
  {
   "cell_type": "code",
   "execution_count": 263,
   "id": "30a3f1d5-c65e-4cef-b631-3024ee2ec0d4",
   "metadata": {},
   "outputs": [],
   "source": [
    "def alpha005(o, vwap, c):\n",
    "    \"\"\"(rank((open - ts_mean(vwap, 10))) * (-1 * abs(rank((close - vwap)))))\"\"\"\n",
    "    return (rank(o.sub(ts_mean(vwap, 10)))\n",
    "            .mul(rank(c.sub(vwap)).mul(-1).abs())\n",
    "            .stack('ticker')\n",
    "            .swaplevel())"
   ]
  },
  {
   "cell_type": "code",
   "execution_count": 265,
   "id": "8f2204a2-2512-4abd-a525-6843c70c5e7f",
   "metadata": {},
   "outputs": [],
   "source": [
    "alpha = 5"
   ]
  },
  {
   "cell_type": "code",
   "execution_count": 267,
   "id": "98e6f515-ba6a-42ee-873e-6527824f57c9",
   "metadata": {},
   "outputs": [],
   "source": [
    "# %%time\n",
    "# alphas[f'{alpha:03}'] = alpha005(o, vwap, c)"
   ]
  },
  {
   "cell_type": "code",
   "execution_count": 269,
   "id": "05726a83-e2d5-4b63-9aa7-c365fcc2f2fe",
   "metadata": {},
   "outputs": [],
   "source": [
    "# alphas[f'{alpha:03}'].to_hdf('alphas.h5', f'alphas/{alpha:03}')"
   ]
  },
  {
   "cell_type": "code",
   "execution_count": 271,
   "id": "94cf619a-9327-46a1-a691-f02bef1779b1",
   "metadata": {},
   "outputs": [],
   "source": [
    "# sns.distplot(alphas[f'{alpha:03}']);"
   ]
  },
  {
   "cell_type": "code",
   "execution_count": 273,
   "id": "70da1a5e-9071-45a2-aad8-d6ed40f2c6c7",
   "metadata": {},
   "outputs": [],
   "source": [
    "# g = sns.jointplot(x=f'{alpha:03}', y='ret_fwd', data=alphas);"
   ]
  },
  {
   "cell_type": "code",
   "execution_count": null,
   "id": "0c04136f-466b-49ef-a96b-75f0e44937b6",
   "metadata": {},
   "outputs": [],
   "source": []
  },
  {
   "cell_type": "code",
   "execution_count": null,
   "id": "bfa12dc7-30bf-4159-83dd-69378e1f4dda",
   "metadata": {},
   "outputs": [],
   "source": []
  },
  {
   "cell_type": "code",
   "execution_count": null,
   "id": "e1b148b5-cb05-449b-9927-0179ab06f0da",
   "metadata": {},
   "outputs": [],
   "source": []
  },
  {
   "cell_type": "code",
   "execution_count": null,
   "id": "5d86dcaf-7d69-4645-962c-564dc738ab3f",
   "metadata": {},
   "outputs": [],
   "source": []
  },
  {
   "cell_type": "code",
   "execution_count": null,
   "id": "0aaddca0-39ac-43bd-9e9f-36beb02961b6",
   "metadata": {},
   "outputs": [],
   "source": []
  },
  {
   "cell_type": "code",
   "execution_count": null,
   "id": "0caa3db3-67bb-4a04-a291-0a2ef6473cbe",
   "metadata": {},
   "outputs": [],
   "source": []
  },
  {
   "cell_type": "code",
   "execution_count": null,
   "id": "dd670e47-da3c-4e9e-b909-3a852f0c7244",
   "metadata": {},
   "outputs": [],
   "source": []
  },
  {
   "cell_type": "code",
   "execution_count": null,
   "id": "c91b2121-94af-4134-ac36-3dac31063ddc",
   "metadata": {},
   "outputs": [],
   "source": []
  },
  {
   "cell_type": "code",
   "execution_count": null,
   "id": "e7dce4c7-da0a-42ea-ab6e-9f3e68e856c9",
   "metadata": {},
   "outputs": [],
   "source": []
  },
  {
   "cell_type": "code",
   "execution_count": null,
   "id": "b356c7ea-0236-4582-a952-8881b22a8b0f",
   "metadata": {},
   "outputs": [],
   "source": []
  },
  {
   "cell_type": "code",
   "execution_count": null,
   "id": "049e2c21-4c3c-4e57-ae4f-7c53c0ed26d7",
   "metadata": {},
   "outputs": [],
   "source": []
  },
  {
   "cell_type": "code",
   "execution_count": null,
   "id": "ae9afd39-2940-49e9-8502-466ed8f49ab1",
   "metadata": {},
   "outputs": [],
   "source": []
  },
  {
   "cell_type": "code",
   "execution_count": null,
   "id": "7fb7f941-652f-40f7-a4ae-c85ceda48abc",
   "metadata": {},
   "outputs": [],
   "source": []
  },
  {
   "cell_type": "code",
   "execution_count": null,
   "id": "f0a521c7-7db6-4299-a3c5-64de9a4023de",
   "metadata": {},
   "outputs": [],
   "source": []
  },
  {
   "cell_type": "code",
   "execution_count": null,
   "id": "351da28d-f487-4a26-be6c-f58bb6311981",
   "metadata": {},
   "outputs": [],
   "source": []
  },
  {
   "cell_type": "code",
   "execution_count": null,
   "id": "417dc502-9e93-4fb2-a43b-23c5d8a3cdbe",
   "metadata": {},
   "outputs": [],
   "source": []
  },
  {
   "cell_type": "code",
   "execution_count": null,
   "id": "fcc2164c-59b9-4b9e-9293-cc6252e23230",
   "metadata": {},
   "outputs": [],
   "source": []
  },
  {
   "cell_type": "code",
   "execution_count": null,
   "id": "6e6fdb07-4e4b-4165-8df0-8b7d5af0f752",
   "metadata": {},
   "outputs": [],
   "source": []
  },
  {
   "cell_type": "code",
   "execution_count": null,
   "id": "de351c78-8bc8-4eca-8990-d0477016ee86",
   "metadata": {},
   "outputs": [],
   "source": []
  },
  {
   "cell_type": "code",
   "execution_count": null,
   "id": "39094aa3-7f40-43d6-afc3-c417d8e5adea",
   "metadata": {},
   "outputs": [],
   "source": []
  },
  {
   "cell_type": "code",
   "execution_count": null,
   "id": "7ecd357a-5cc6-4267-b303-93863efcf7a5",
   "metadata": {},
   "outputs": [],
   "source": []
  },
  {
   "cell_type": "code",
   "execution_count": null,
   "id": "dac263ec-c3eb-4bbf-860e-0beac8a679c9",
   "metadata": {},
   "outputs": [],
   "source": []
  },
  {
   "cell_type": "code",
   "execution_count": null,
   "id": "d88d2d2a-23aa-49b7-ab5e-5e05c86da09a",
   "metadata": {},
   "outputs": [],
   "source": []
  },
  {
   "cell_type": "code",
   "execution_count": null,
   "id": "c2c4c369-25d8-46ca-bb88-703ea4e32ecc",
   "metadata": {},
   "outputs": [],
   "source": []
  },
  {
   "cell_type": "code",
   "execution_count": null,
   "id": "757df971-ae01-49dd-aa2e-7044eb0a9333",
   "metadata": {},
   "outputs": [],
   "source": []
  },
  {
   "cell_type": "code",
   "execution_count": null,
   "id": "9b93a901-1970-4af7-8982-1dac163f9406",
   "metadata": {},
   "outputs": [],
   "source": []
  },
  {
   "cell_type": "code",
   "execution_count": null,
   "id": "c8550cd6-3830-4ddf-a95f-b00cae5799a4",
   "metadata": {},
   "outputs": [],
   "source": []
  },
  {
   "cell_type": "code",
   "execution_count": null,
   "id": "62cbf730-6867-4d9e-8f67-b73cc2ad7e29",
   "metadata": {},
   "outputs": [],
   "source": []
  },
  {
   "cell_type": "code",
   "execution_count": null,
   "id": "b4f67858-d7eb-4479-8190-f86550fb2232",
   "metadata": {},
   "outputs": [],
   "source": []
  },
  {
   "cell_type": "code",
   "execution_count": null,
   "id": "2091c617-8d53-4616-baa7-0dfc75f6587b",
   "metadata": {},
   "outputs": [],
   "source": []
  },
  {
   "cell_type": "code",
   "execution_count": null,
   "id": "c4141332-0edf-46cd-8cf2-b2b36e9f4a84",
   "metadata": {},
   "outputs": [],
   "source": []
  },
  {
   "cell_type": "code",
   "execution_count": null,
   "id": "138af51d-5381-46e0-b787-27116e86c4c6",
   "metadata": {},
   "outputs": [],
   "source": []
  },
  {
   "cell_type": "code",
   "execution_count": null,
   "id": "9ed42ac2-ff94-4f30-88ea-a71975ee28ac",
   "metadata": {},
   "outputs": [],
   "source": []
  },
  {
   "cell_type": "code",
   "execution_count": null,
   "id": "cc0daee7-0e82-486c-9ea8-825b97bda6fa",
   "metadata": {},
   "outputs": [],
   "source": []
  },
  {
   "cell_type": "code",
   "execution_count": null,
   "id": "c9834679-b368-456a-8cb2-9ad11ef7037a",
   "metadata": {},
   "outputs": [],
   "source": []
  },
  {
   "cell_type": "code",
   "execution_count": null,
   "id": "540233de-98aa-4df0-970f-92ee53595a1a",
   "metadata": {},
   "outputs": [],
   "source": []
  },
  {
   "cell_type": "code",
   "execution_count": null,
   "id": "c5387dd1-42c4-4072-8951-1011b2381e23",
   "metadata": {},
   "outputs": [],
   "source": []
  },
  {
   "cell_type": "code",
   "execution_count": null,
   "id": "8e21e433-6ebb-4056-88ac-26922c3b004f",
   "metadata": {},
   "outputs": [],
   "source": []
  },
  {
   "cell_type": "code",
   "execution_count": null,
   "id": "6aac3db0-7260-4506-a940-90ccacfb8a9e",
   "metadata": {},
   "outputs": [],
   "source": []
  },
  {
   "cell_type": "code",
   "execution_count": null,
   "id": "dbb95905-7874-4956-8c91-b27079d6d761",
   "metadata": {},
   "outputs": [],
   "source": []
  },
  {
   "cell_type": "code",
   "execution_count": null,
   "id": "29311a25-9d76-4565-9294-0c80b978f318",
   "metadata": {},
   "outputs": [],
   "source": []
  },
  {
   "cell_type": "code",
   "execution_count": null,
   "id": "a4600c51-d105-48b0-9af8-5c15d8dbe77f",
   "metadata": {},
   "outputs": [],
   "source": []
  },
  {
   "cell_type": "code",
   "execution_count": null,
   "id": "1a107ea3-c595-4ce5-8184-edb6a79c16e1",
   "metadata": {},
   "outputs": [],
   "source": []
  },
  {
   "cell_type": "code",
   "execution_count": null,
   "id": "b8d9a27b-73bb-4cf9-9fdb-fb357b4b0ced",
   "metadata": {},
   "outputs": [],
   "source": []
  },
  {
   "cell_type": "code",
   "execution_count": null,
   "id": "c0541d0f-d32a-43a3-baa4-e50371a17b91",
   "metadata": {},
   "outputs": [],
   "source": []
  },
  {
   "cell_type": "code",
   "execution_count": null,
   "id": "77a89b77-6c0c-41e7-a5fd-eab5eb237aca",
   "metadata": {},
   "outputs": [],
   "source": []
  },
  {
   "cell_type": "code",
   "execution_count": null,
   "id": "e4f412aa-002f-4002-b891-1b98adc5d11a",
   "metadata": {},
   "outputs": [],
   "source": []
  }
 ],
 "metadata": {
  "kernelspec": {
   "display_name": "Python [conda env:MLAT] *",
   "language": "python",
   "name": "conda-env-MLAT-py"
  },
  "language_info": {
   "codemirror_mode": {
    "name": "ipython",
    "version": 3
   },
   "file_extension": ".py",
   "mimetype": "text/x-python",
   "name": "python",
   "nbconvert_exporter": "python",
   "pygments_lexer": "ipython3",
   "version": "3.12.9"
  }
 },
 "nbformat": 4,
 "nbformat_minor": 5
}
