{
 "cells": [
  {
   "cell_type": "markdown",
   "id": "d9ed67ec-5403-4be3-a046-fe45d070dded",
   "metadata": {},
   "source": [
    "# 101 Formulaic Alphas\n",
    "\n",
    "### Loading Libraries"
   ]
  },
  {
   "cell_type": "code",
   "execution_count": 3,
   "id": "7b429e95-e241-4821-9c6e-16b9230f7a77",
   "metadata": {},
   "outputs": [],
   "source": [
    "# Numerical Computing\n",
    "import numpy as np\n",
    "\n",
    "# Data Manipulation\n",
    "import pandas as pd\n",
    "\n",
    "# Data Visualization\n",
    "import seaborn as sns\n",
    "import matplotlib.pyplot as plt\n",
    "\n",
    "# Warnings\n",
    "import warnings\n",
    "\n",
    "# Scikit-Learn\n",
    "from sklearn.feature_selection import mutual_info_regression\n",
    "\n",
    "# SciPy\n",
    "from scipy.stats import spearmanr\n",
    "\n",
    "# Technical Analysis\n",
    "from talib import WMA"
   ]
  },
  {
   "cell_type": "code",
   "execution_count": 4,
   "id": "187b17c7-38e1-4624-912d-c381ef705546",
   "metadata": {},
   "outputs": [],
   "source": [
    "idx= pd.IndexSlice\n",
    "\n",
    "sns.set_style('whitegrid')\n",
    "\n",
    "warnings.filterwarnings('ignore')"
   ]
  },
  {
   "cell_type": "markdown",
   "id": "d26c6a5e-9efd-418d-80a5-5d64535dc193",
   "metadata": {},
   "source": [
    "### Functions\n",
    "\n",
    "#### Cross-section"
   ]
  },
  {
   "cell_type": "code",
   "execution_count": 8,
   "id": "7a1dd4fa-7288-471e-8c78-a43dd05ee963",
   "metadata": {},
   "outputs": [],
   "source": [
    "def rank(df):\n",
    "    \"\"\"Return the cross-sectional percentile rank\n",
    "\n",
    "     Args:\n",
    "         :param df: tickers in columns, sorted dates in rows.\n",
    "\n",
    "     Returns:\n",
    "         pd.DataFrame: the ranked values\n",
    "     \"\"\"\n",
    "    return df.rank(axis=1, pct=True)"
   ]
  },
  {
   "cell_type": "code",
   "execution_count": 10,
   "id": "2352c09f-e6f8-49e0-9f93-2c923ff82208",
   "metadata": {},
   "outputs": [],
   "source": [
    "def scale(df):\n",
    "    \"\"\"\n",
    "    Scaling time serie.\n",
    "    :param df: a pandas DataFrame.\n",
    "    :param k: scaling factor.\n",
    "    :return: a pandas DataFrame rescaled df such that sum(abs(df)) = k\n",
    "    \"\"\"\n",
    "    return df.div(df.abs().sum(axis=1), axis=0)"
   ]
  },
  {
   "cell_type": "markdown",
   "id": "b5d746cf-400e-4581-b06d-fb4e8f4878e2",
   "metadata": {},
   "source": [
    "#### Operators"
   ]
  },
  {
   "cell_type": "code",
   "execution_count": 13,
   "id": "e3b7b70f-c188-42a5-be33-778cd79bae7f",
   "metadata": {},
   "outputs": [],
   "source": [
    "def log(df):\n",
    "    return np.log1p(df)"
   ]
  },
  {
   "cell_type": "code",
   "execution_count": 15,
   "id": "f055da21-c4d9-4d31-8c56-5da34e12dd9d",
   "metadata": {},
   "outputs": [],
   "source": [
    "def sign(df):\n",
    "    return np.sign(df)"
   ]
  },
  {
   "cell_type": "code",
   "execution_count": 17,
   "id": "8db26004-6a51-4f50-86c1-66823f965478",
   "metadata": {},
   "outputs": [],
   "source": [
    "def power(df, exp):\n",
    "    return df.pow(exp)"
   ]
  },
  {
   "cell_type": "markdown",
   "id": "ea44c53c-4b9f-424a-a5d8-05b8562645fb",
   "metadata": {},
   "source": [
    "### Time Series\n",
    "\n",
    "#### Pandas Implementation"
   ]
  },
  {
   "cell_type": "code",
   "execution_count": 20,
   "id": "6d2f9652-8826-4e5d-9624-6b7f93b0ff3d",
   "metadata": {},
   "outputs": [],
   "source": [
    "def ts_lag(df: pd.DataFrame, t: int = 1) -> pd.DataFrame:\n",
    "    \"\"\"Return the lagged values t periods ago.\n",
    "\n",
    "    Args:\n",
    "        :param df: tickers in columns, sorted dates in rows.\n",
    "        :param t: lag\n",
    "\n",
    "    Returns:\n",
    "        pd.DataFrame: the lagged values\n",
    "    \"\"\"\n",
    "    return df.shift(t)"
   ]
  },
  {
   "cell_type": "code",
   "execution_count": 22,
   "id": "6ca22f0b-9cec-4473-9d11-f6de66898d1d",
   "metadata": {},
   "outputs": [],
   "source": [
    "def ts_delta(df, period=1):\n",
    "    \"\"\"\n",
    "    Wrapper function to estimate difference.\n",
    "    :param df: a pandas DataFrame.\n",
    "    :param period: the difference grade.\n",
    "    :return: a pandas DataFrame with today’s value minus the value 'period' days ago.\n",
    "    \"\"\"\n",
    "    return df.diff(period)"
   ]
  },
  {
   "cell_type": "code",
   "execution_count": 24,
   "id": "2626902e-8ee2-4f5b-a27b-c04ee0e07d5e",
   "metadata": {},
   "outputs": [],
   "source": [
    "def ts_sum(df: pd.DataFrame, window: int = 10) -> pd.DataFrame:\n",
    "    \"\"\"Computes the rolling ts_sum for the given window size.\n",
    "\n",
    "    Args:\n",
    "        df (pd.DataFrame): tickers in columns, dates in rows.\n",
    "        window      (int): size of rolling window.\n",
    "\n",
    "    Returns:\n",
    "        pd.DataFrame: the ts_sum over the last 'window' days.\n",
    "    \"\"\"\n",
    "    return df.rolling(window).sum()"
   ]
  },
  {
   "cell_type": "code",
   "execution_count": 26,
   "id": "be133ce2-79fc-4519-967b-e42731a30324",
   "metadata": {},
   "outputs": [],
   "source": [
    "def ts_mean(df, window=10):\n",
    "    \"\"\"Computes the rolling mean for the given window size.\n",
    "\n",
    "    Args:\n",
    "        df (pd.DataFrame): tickers in columns, dates in rows.\n",
    "        window      (int): size of rolling window.\n",
    "\n",
    "    Returns:\n",
    "        pd.DataFrame: the mean over the last 'window' days.\n",
    "    \"\"\"\n",
    "    return df.rolling(window).mean()"
   ]
  },
  {
   "cell_type": "code",
   "execution_count": 28,
   "id": "802fefe7-1252-4be1-b322-31d254c59736",
   "metadata": {},
   "outputs": [],
   "source": [
    "def ts_weighted_mean(df, period=10):\n",
    "    \"\"\"\n",
    "    Linear weighted moving average implementation.\n",
    "    :param df: a pandas DataFrame.\n",
    "    :param period: the LWMA period\n",
    "    :return: a pandas DataFrame with the LWMA.\n",
    "    \"\"\"\n",
    "    return (df.apply(lambda x: WMA(x, timeperiod=period)))"
   ]
  },
  {
   "cell_type": "code",
   "execution_count": 30,
   "id": "c27ace30-2ca7-43a4-89ef-d53c636e6b8c",
   "metadata": {},
   "outputs": [],
   "source": [
    "def ts_std(df, window=10):\n",
    "    \"\"\"\n",
    "    Wrapper function to estimate rolling standard deviation.\n",
    "    :param df: a pandas DataFrame.\n",
    "    :param window: the rolling window.\n",
    "    :return: a pandas DataFrame with the time-series min over the past 'window' days.\n",
    "    \"\"\"\n",
    "    return (df\n",
    "            .rolling(window)\n",
    "            .std())"
   ]
  },
  {
   "cell_type": "code",
   "execution_count": 32,
   "id": "f88eba09-0972-42af-9e9c-b618639bd103",
   "metadata": {},
   "outputs": [],
   "source": [
    "def ts_rank(df, window=10):\n",
    "    \"\"\"\n",
    "    Wrapper function to estimate rolling rank.\n",
    "    :param df: a pandas DataFrame.\n",
    "    :param window: the rolling window.\n",
    "    :return: a pandas DataFrame with the time-series rank over the past window days.\n",
    "    \"\"\"\n",
    "    return (df\n",
    "            .rolling(window)\n",
    "            .apply(lambda x: x.rank().iloc[-1]))"
   ]
  },
  {
   "cell_type": "code",
   "execution_count": 34,
   "id": "30e0e8a1-5c02-4290-b413-b12d60bc431d",
   "metadata": {},
   "outputs": [],
   "source": [
    "def ts_product(df, window=10):\n",
    "    \"\"\"\n",
    "    Wrapper function to estimate rolling ts_product.\n",
    "    :param df: a pandas DataFrame.\n",
    "    :param window: the rolling window.\n",
    "    :return: a pandas DataFrame with the time-series ts_product over the past 'window' days.\n",
    "    \"\"\"\n",
    "    return (df\n",
    "            .rolling(window)\n",
    "            .apply(np.prod))"
   ]
  },
  {
   "cell_type": "code",
   "execution_count": 36,
   "id": "fcb74413-1d08-40e5-843a-bca432826d05",
   "metadata": {},
   "outputs": [],
   "source": [
    "def ts_min(df, window=10):\n",
    "    \"\"\"\n",
    "    Wrapper function to estimate rolling min.\n",
    "    :param df: a pandas DataFrame.\n",
    "    :param window: the rolling window.\n",
    "    :return: a pandas DataFrame with the time-series min over the past 'window' days.\n",
    "    \"\"\"\n",
    "    return df.rolling(window).min()"
   ]
  },
  {
   "cell_type": "code",
   "execution_count": 38,
   "id": "4307e9cf-bc55-42f2-b9e2-b8202c17dde8",
   "metadata": {},
   "outputs": [],
   "source": [
    "def ts_max(df, window=10):\n",
    "    \"\"\"\n",
    "    Wrapper function to estimate rolling min.\n",
    "    :param df: a pandas DataFrame.\n",
    "    :param window: the rolling window.\n",
    "    :return: a pandas DataFrame with the time-series max over the past 'window' days.\n",
    "    \"\"\"\n",
    "    return df.rolling(window).max()"
   ]
  },
  {
   "cell_type": "code",
   "execution_count": 40,
   "id": "d076aaff-6de4-491b-af1a-f8107bb7c135",
   "metadata": {},
   "outputs": [],
   "source": [
    "def ts_argmax(df, window=10):\n",
    "    \"\"\"\n",
    "    Wrapper function to estimate which day ts_max(df, window) occurred on\n",
    "    :param df: a pandas DataFrame.\n",
    "    :param window: the rolling window.\n",
    "    :return: well.. that :)\n",
    "    \"\"\"\n",
    "    return df.rolling(window).apply(np.argmax).add(1)"
   ]
  },
  {
   "cell_type": "code",
   "execution_count": 42,
   "id": "32c9929b-8135-466e-b7b9-89ca5e3c6e49",
   "metadata": {},
   "outputs": [],
   "source": [
    "def ts_argmin(df, window=10):\n",
    "    \"\"\"\n",
    "    Wrapper function to estimate which day ts_min(df, window) occurred on\n",
    "    :param df: a pandas DataFrame.\n",
    "    :param window: the rolling window.\n",
    "    :return: well.. that :)\n",
    "    \"\"\"\n",
    "    return (df.rolling(window)\n",
    "            .apply(np.argmin)\n",
    "            .add(1))"
   ]
  },
  {
   "cell_type": "code",
   "execution_count": 44,
   "id": "8236de60-c1f8-4e73-8322-59753eef1dbc",
   "metadata": {},
   "outputs": [],
   "source": [
    "def ts_corr(x, y, window=10):\n",
    "    \"\"\"\n",
    "    Wrapper function to estimate rolling correlations.\n",
    "    :param x, y: pandas DataFrames.\n",
    "    :param window: the rolling window.\n",
    "    :return: a pandas DataFrame with the time-series min over the past 'window' days.\n",
    "    \"\"\"\n",
    "    return x.rolling(window).corr(y)"
   ]
  },
  {
   "cell_type": "code",
   "execution_count": 46,
   "id": "fd51b891-21fb-4687-a8fe-b38569951500",
   "metadata": {},
   "outputs": [],
   "source": [
    "def ts_cov(x, y, window=10):\n",
    "    \"\"\"\n",
    "    Wrapper function to estimate rolling covariance.\n",
    "    :param df: a pandas DataFrame.\n",
    "    :param window: the rolling window.\n",
    "    :return: a pandas DataFrame with the time-series min over the past 'window' days.\n",
    "    \"\"\"\n",
    "    return x.rolling(window).cov(y)"
   ]
  },
  {
   "cell_type": "markdown",
   "id": "a4cd2264-fbbb-4c71-a928-c7830fa0fe86",
   "metadata": {},
   "source": [
    "### Loading Data\n",
    "\n",
    "#### 500 Most-Traded Stocks"
   ]
  },
  {
   "cell_type": "code",
   "execution_count": 122,
   "id": "2cd99c75-8893-481c-9699-cbe90b26029a",
   "metadata": {},
   "outputs": [],
   "source": [
    "ohlcv = ['open', 'high', 'low', 'close', 'volume']\n",
    "\n",
    "data = (pd.read_hdf('data.h5', 'data/top500')\n",
    "        .loc[:, ohlcv + ['ret_01', 'sector', 'ret_fwd']]\n",
    "        .rename(columns={'ret_01': 'returns'})\n",
    "        .sort_index())"
   ]
  },
  {
   "cell_type": "code",
   "execution_count": 124,
   "id": "223cf624-b6a6-4d74-9c59-63683eb99b07",
   "metadata": {},
   "outputs": [],
   "source": [
    "adv20 = data.groupby('ticker').rolling(20).volume.mean().reset_index(0, drop=True)"
   ]
  },
  {
   "cell_type": "code",
   "execution_count": 126,
   "id": "856b0b95-9a81-4266-a9c5-66be73ef31b3",
   "metadata": {},
   "outputs": [],
   "source": [
    "data = data.assign(adv20=adv20)"
   ]
  },
  {
   "cell_type": "code",
   "execution_count": 128,
   "id": "e5ba5344-88ec-4a31-8906-cdfa35e5523e",
   "metadata": {},
   "outputs": [],
   "source": [
    "data = data.join(data.groupby('date')[ohlcv].rank(axis=1, pct=True), rsuffix='_rank')"
   ]
  },
  {
   "cell_type": "code",
   "execution_count": 130,
   "id": "9e486206-1c2c-46d8-b506-2f0db7be4e89",
   "metadata": {},
   "outputs": [],
   "source": [
    "data.info(null_counts=True)"
   ]
  },
  {
   "cell_type": "code",
   "execution_count": 132,
   "id": "9be8c204-d495-445a-b655-2e9047ce5bf1",
   "metadata": {},
   "outputs": [],
   "source": [
    "data.to_hdf('factors.h5', 'data')"
   ]
  },
  {
   "cell_type": "markdown",
   "id": "0e33fda2-4572-4e2c-a2fc-37e1a4292b7b",
   "metadata": {},
   "source": [
    "### Input Data"
   ]
  },
  {
   "cell_type": "code",
   "execution_count": 135,
   "id": "905fc205-1835-4f91-b67f-498e1957da21",
   "metadata": {},
   "outputs": [],
   "source": [
    "o = data.open.unstack('ticker')\n",
    "h = data.high.unstack('ticker')\n",
    "l = data.low.unstack('ticker')\n",
    "c = data.close.unstack('ticker')\n",
    "v = data.volume.unstack('ticker')\n",
    "\n",
    "vwap = o.add(h).add(l).add(c).div(4)\n",
    "adv20 = v.rolling(20).mean()\n",
    "\n",
    "r = data.returns.unstack('ticker')"
   ]
  },
  {
   "cell_type": "markdown",
   "id": "bad11624-6cbe-4f0d-930d-6595d243532c",
   "metadata": {},
   "source": [
    "### Evaluate Alphas"
   ]
  },
  {
   "cell_type": "code",
   "execution_count": 142,
   "id": "f87b010f-6b09-4a47-a407-9b044196a945",
   "metadata": {},
   "outputs": [],
   "source": [
    "alphas = data[['returns', 'ret_fwd']].copy()\n",
    "mi,ic = {}, {}"
   ]
  },
  {
   "cell_type": "code",
   "execution_count": 144,
   "id": "e7ef7216-b93f-427b-a401-e461509c7e06",
   "metadata": {},
   "outputs": [],
   "source": [
    "def get_mutual_info_score(returns, alpha, n=100000):\n",
    "    df = pd.DataFrame({'y': returns, 'alpha': alpha}).dropna().sample(n=n)\n",
    "    return mutual_info_regression(y=df.y, X=df[['alpha']])[0]"
   ]
  },
  {
   "cell_type": "markdown",
   "id": "ddaf8350-e530-4ef2-8df7-4fe0d5ac9084",
   "metadata": {},
   "source": [
    "### Alpha 001"
   ]
  },
  {
   "cell_type": "code",
   "execution_count": 147,
   "id": "6690bebb-eec1-4466-9e25-6da0db4ad93e",
   "metadata": {},
   "outputs": [],
   "source": [
    "def alpha001(c, r):\n",
    "    \"\"\"(rank(ts_argmax(power(((returns < 0)\n",
    "        ? ts_std(returns, 20)\n",
    "        : close), 2.), 5)) -0.5)\"\"\"\n",
    "    c[r < 0] = ts_std(r, 20)\n",
    "    return (rank(ts_argmax(power(c, 2), 5)).mul(-.5)\n",
    "            .stack().swaplevel())"
   ]
  },
  {
   "cell_type": "code",
   "execution_count": 149,
   "id": "19a8b35e-de06-4f25-a6aa-ed5a3522f9d6",
   "metadata": {},
   "outputs": [],
   "source": [
    "alpha = 1"
   ]
  },
  {
   "cell_type": "code",
   "execution_count": 153,
   "id": "021fec40-65ee-4806-86ff-278991a6ecd7",
   "metadata": {},
   "outputs": [],
   "source": [
    "%%time\n",
    "alphas[f'{alpha:03}'] = alpha001(c, r)"
   ]
  },
  {
   "cell_type": "code",
   "execution_count": 155,
   "id": "2d14fc99-22de-41be-a5f8-2e173e192f92",
   "metadata": {},
   "outputs": [],
   "source": [
    "alphas.info()"
   ]
  },
  {
   "cell_type": "code",
   "execution_count": 157,
   "id": "e79b75ef-259d-41b2-a7c0-953bfedc60c1",
   "metadata": {},
   "outputs": [],
   "source": [
    "alphas[f'{alpha:03}'].to_hdf('alphas.h5', f'alphas/{alpha:03}')"
   ]
  },
  {
   "cell_type": "code",
   "execution_count": 159,
   "id": "f37eb6bd-6f69-4194-b256-eb500c1c249e",
   "metadata": {},
   "outputs": [],
   "source": [
    "sns.distplot(alphas[f'{alpha:03}']);\n",
    "plt.show()"
   ]
  },
  {
   "cell_type": "code",
   "execution_count": 161,
   "id": "64e01589-4a10-4f0a-8c03-ab227b277b66",
   "metadata": {},
   "outputs": [],
   "source": [
    "g = sns.jointplot(x=f'{alpha:03}', y='ret_fwd', data=alphas)"
   ]
  },
  {
   "cell_type": "code",
   "execution_count": 163,
   "id": "df3879ce-14b3-44dc-a9eb-14c1ec14d1bf",
   "metadata": {},
   "outputs": [],
   "source": [
    "mi[1] = get_mutual_info_score(alphas.ret_fwd, alphas[f'{alpha:03}'])\n",
    "mi[1]"
   ]
  },
  {
   "cell_type": "markdown",
   "id": "95623672-47a5-41c0-9764-81c8d0a3ada9",
   "metadata": {},
   "source": [
    "### Alpha 002"
   ]
  },
  {
   "cell_type": "code",
   "execution_count": 166,
   "id": "7465b30b-eeef-4712-b3f1-9bf9d52a4b77",
   "metadata": {},
   "outputs": [],
   "source": [
    "def alpha002(o, c, v):\n",
    "    \"\"\"(-1 * ts_corr(rank(ts_delta(log(volume), 2)), rank(((close - open) / open)), 6))\"\"\"\n",
    "    s1 = rank(ts_delta(log(v), 2))\n",
    "    s2 = rank((c / o) - 1)\n",
    "    alpha = -ts_corr(s1, s2, 6)\n",
    "    return alpha.stack('ticker').swaplevel().replace([-np.inf, np.inf], np.nan)"
   ]
  },
  {
   "cell_type": "code",
   "execution_count": 168,
   "id": "b683382e-273c-48f8-aa56-c7ed2b12e744",
   "metadata": {},
   "outputs": [],
   "source": [
    "alpha = 2"
   ]
  },
  {
   "cell_type": "code",
   "execution_count": 170,
   "id": "953821e1-f11d-42d4-9119-ddfcf8f3d4af",
   "metadata": {},
   "outputs": [],
   "source": [
    "%%time\n",
    "alphas[f'{alpha:03}'] = alpha002(o, c, v)"
   ]
  },
  {
   "cell_type": "code",
   "execution_count": 172,
   "id": "d15bc8e1-f727-41a9-bc58-7d7ebdc5b13d",
   "metadata": {},
   "outputs": [],
   "source": [
    "alphas[f'{alpha:03}'].to_hdf('alphas.h5', f'alphas/{alpha:03}')"
   ]
  },
  {
   "cell_type": "code",
   "execution_count": 174,
   "id": "6ec1f177-6bf0-46d5-a24d-91e5c6a0ebf9",
   "metadata": {},
   "outputs": [],
   "source": [
    "sns.distplot(alphas[f'{alpha:03}']);"
   ]
  },
  {
   "cell_type": "code",
   "execution_count": 176,
   "id": "f20a0e96-3dec-4b0f-8168-a4f884f93158",
   "metadata": {},
   "outputs": [],
   "source": [
    "g = sns.jointplot(x=f'{alpha:03}', y='ret_fwd', data=alphas)"
   ]
  },
  {
   "cell_type": "code",
   "execution_count": 178,
   "id": "03947b55-79d7-4700-82c5-c61bbf5d05ce",
   "metadata": {},
   "outputs": [],
   "source": [
    "mi[alpha] = get_mutual_info_score(alphas.ret_fwd, alphas[f'{alpha:03}'])\n",
    "mi[2]"
   ]
  },
  {
   "cell_type": "markdown",
   "id": "9e89c20b-a73c-4589-9e18-5b1156a0e931",
   "metadata": {},
   "source": [
    "### Alpha 003"
   ]
  },
  {
   "cell_type": "code",
   "execution_count": 181,
   "id": "84100d0c-0ba5-4baa-991a-719025b77534",
   "metadata": {},
   "outputs": [],
   "source": [
    "def alpha003(o, v):\n",
    "    \"\"\"(-1 * ts_corr(rank(open), rank(volume), 10))\"\"\"\n",
    "\n",
    "    return (-ts_corr(rank(o), rank(v), 10)\n",
    "            .stack('ticker')\n",
    "            .swaplevel()\n",
    "            .replace([-np.inf, np.inf], np.nan))"
   ]
  },
  {
   "cell_type": "code",
   "execution_count": 183,
   "id": "cf164c5d-c6f8-4cc2-93f9-7b848305a98e",
   "metadata": {},
   "outputs": [],
   "source": [
    "alpha = 3"
   ]
  },
  {
   "cell_type": "code",
   "execution_count": 185,
   "id": "6f8b39ce-f26a-441b-9d31-0c6c9b56cc7f",
   "metadata": {},
   "outputs": [],
   "source": [
    "%%time\n",
    "alphas[f'{alpha:03}'] = alpha003(o, v)"
   ]
  },
  {
   "cell_type": "code",
   "execution_count": 187,
   "id": "c918cb98-057e-4cbb-9d57-be183542ad98",
   "metadata": {},
   "outputs": [],
   "source": [
    "alphas[f'{alpha:03}'].to_hdf('alphas.h5', f'alphas/{alpha:03}')"
   ]
  },
  {
   "cell_type": "code",
   "execution_count": 189,
   "id": "7ec10ab3-a89b-41ea-8cee-8052f27a1e56",
   "metadata": {},
   "outputs": [],
   "source": [
    "sns.distplot(alphas[f'{alpha:03}'].clip(lower=-1));"
   ]
  },
  {
   "cell_type": "code",
   "execution_count": 191,
   "id": "bb71da5b-6ad2-47cc-96fb-bb88f84c5c07",
   "metadata": {},
   "outputs": [],
   "source": [
    "g = sns.jointplot(x=f'{alpha:03}', y='ret_fwd', data=alphas);"
   ]
  },
  {
   "cell_type": "code",
   "execution_count": 193,
   "id": "08800e40-e8a5-4171-ae77-99cdd5fada7d",
   "metadata": {},
   "outputs": [],
   "source": [
    "mi[alpha] = get_mutual_info_score(alphas.ret_fwd, alphas[f'{alpha:03}'])\n",
    "mi[alpha]"
   ]
  },
  {
   "cell_type": "markdown",
   "id": "221f3967-1cb6-4024-8817-d16ee4db7645",
   "metadata": {},
   "source": [
    "### Alpha 004"
   ]
  },
  {
   "cell_type": "code",
   "execution_count": 196,
   "id": "1acf5875-2345-4a64-8497-269b9b12b598",
   "metadata": {},
   "outputs": [],
   "source": [
    "def alpha004(l):\n",
    "    \"\"\"(-1 * Ts_Rank(rank(low), 9))\"\"\"\n",
    "    return (-ts_rank(rank(l), 9)\n",
    "            .stack('ticker')\n",
    "            .swaplevel())"
   ]
  },
  {
   "cell_type": "code",
   "execution_count": 198,
   "id": "359f7285-7b94-408d-9b88-6c5f2e75de88",
   "metadata": {},
   "outputs": [],
   "source": [
    "alpha = 4"
   ]
  },
  {
   "cell_type": "code",
   "execution_count": 253,
   "id": "51c42142-557e-45a0-821e-008da852e3b0",
   "metadata": {},
   "outputs": [],
   "source": [
    "%%time\n",
    "alphas[f'{alpha:03}'] = alpha004(l)"
   ]
  },
  {
   "cell_type": "code",
   "execution_count": 255,
   "id": "4e2fde81-25b1-44b9-917d-ba36ba8a78ef",
   "metadata": {},
   "outputs": [],
   "source": [
    "alphas[f'{alpha:03}'].to_hdf('alphas.h5', f'alphas/{alpha:03}')"
   ]
  },
  {
   "cell_type": "code",
   "execution_count": 257,
   "id": "12387ad4-3319-4046-b50f-67f272338643",
   "metadata": {},
   "outputs": [],
   "source": [
    "sns.distplot(alphas[f'{alpha:03}']);"
   ]
  },
  {
   "cell_type": "code",
   "execution_count": 259,
   "id": "b030bcc4-8666-4d45-a118-5b692548f5ce",
   "metadata": {},
   "outputs": [],
   "source": [
    "g = sns.jointplot(x=f'{alpha:03}', y='ret_fwd', data=alphas);"
   ]
  },
  {
   "cell_type": "code",
   "execution_count": 261,
   "id": "e23f09df-e924-499f-9745-e2037a32d38e",
   "metadata": {},
   "outputs": [],
   "source": [
    "mi[alpha] = get_mutual_info_score(alphas.ret_fwd, alphas[f'{alpha:03}'])\n",
    "mi[alpha]"
   ]
  },
  {
   "cell_type": "markdown",
   "id": "7329b216-8699-421a-aa0b-e0b4e93753fa",
   "metadata": {},
   "source": [
    "### Alpha 005"
   ]
  },
  {
   "cell_type": "code",
   "execution_count": 263,
   "id": "30a3f1d5-c65e-4cef-b631-3024ee2ec0d4",
   "metadata": {},
   "outputs": [],
   "source": [
    "def alpha005(o, vwap, c):\n",
    "    \"\"\"(rank((open - ts_mean(vwap, 10))) * (-1 * abs(rank((close - vwap)))))\"\"\"\n",
    "    return (rank(o.sub(ts_mean(vwap, 10)))\n",
    "            .mul(rank(c.sub(vwap)).mul(-1).abs())\n",
    "            .stack('ticker')\n",
    "            .swaplevel())"
   ]
  },
  {
   "cell_type": "code",
   "execution_count": 265,
   "id": "8f2204a2-2512-4abd-a525-6843c70c5e7f",
   "metadata": {},
   "outputs": [],
   "source": [
    "alpha = 5"
   ]
  },
  {
   "cell_type": "code",
   "execution_count": 267,
   "id": "98e6f515-ba6a-42ee-873e-6527824f57c9",
   "metadata": {},
   "outputs": [],
   "source": [
    "%%time\n",
    "alphas[f'{alpha:03}'] = alpha005(o, vwap, c)"
   ]
  },
  {
   "cell_type": "code",
   "execution_count": 269,
   "id": "05726a83-e2d5-4b63-9aa7-c365fcc2f2fe",
   "metadata": {},
   "outputs": [],
   "source": [
    "alphas[f'{alpha:03}'].to_hdf('alphas.h5', f'alphas/{alpha:03}')"
   ]
  },
  {
   "cell_type": "code",
   "execution_count": 271,
   "id": "94cf619a-9327-46a1-a691-f02bef1779b1",
   "metadata": {},
   "outputs": [],
   "source": [
    "sns.distplot(alphas[f'{alpha:03}']);"
   ]
  },
  {
   "cell_type": "code",
   "execution_count": 273,
   "id": "70da1a5e-9071-45a2-aad8-d6ed40f2c6c7",
   "metadata": {},
   "outputs": [],
   "source": [
    "g = sns.jointplot(x=f'{alpha:03}', y='ret_fwd', data=alphas);"
   ]
  },
  {
   "cell_type": "code",
   "execution_count": 275,
   "id": "0c04136f-466b-49ef-a96b-75f0e44937b6",
   "metadata": {},
   "outputs": [],
   "source": [
    "mi[alpha] = get_mutual_info_score(alphas.ret_fwd, alphas[f'{alpha:03}'])\n",
    "mi[alpha]"
   ]
  },
  {
   "cell_type": "markdown",
   "id": "a932d1dd-77ef-4282-b09c-ef4c9c1901fc",
   "metadata": {},
   "source": [
    "### Alpha 006"
   ]
  },
  {
   "cell_type": "code",
   "execution_count": 279,
   "id": "e1b148b5-cb05-449b-9927-0179ab06f0da",
   "metadata": {},
   "outputs": [],
   "source": [
    "def alpha006(o, v):\n",
    "    \"\"\"(-ts_corr(open, volume, 10))\"\"\"\n",
    "    return (-ts_corr(o, v, 10)\n",
    "            .stack('ticker')\n",
    "            .swaplevel())"
   ]
  },
  {
   "cell_type": "code",
   "execution_count": 281,
   "id": "5d86dcaf-7d69-4645-962c-564dc738ab3f",
   "metadata": {},
   "outputs": [],
   "source": [
    "alpha = 6"
   ]
  },
  {
   "cell_type": "code",
   "execution_count": 283,
   "id": "0aaddca0-39ac-43bd-9e9f-36beb02961b6",
   "metadata": {},
   "outputs": [],
   "source": [
    "%%time\n",
    "alphas[f'{alpha:03}'] = alpha006(o, v)"
   ]
  },
  {
   "cell_type": "code",
   "execution_count": 285,
   "id": "0caa3db3-67bb-4a04-a291-0a2ef6473cbe",
   "metadata": {},
   "outputs": [],
   "source": [
    "alphas[f'{alpha:03}'].to_hdf('alphas.h5', f'alphas/{alpha:03}')"
   ]
  },
  {
   "cell_type": "code",
   "execution_count": 287,
   "id": "dd670e47-da3c-4e9e-b909-3a852f0c7244",
   "metadata": {},
   "outputs": [],
   "source": [
    "sns.distplot(alphas[f'{alpha:03}']);"
   ]
  },
  {
   "cell_type": "code",
   "execution_count": 289,
   "id": "c91b2121-94af-4134-ac36-3dac31063ddc",
   "metadata": {},
   "outputs": [],
   "source": [
    "g = sns.jointplot(x=f'{alpha:03}', y='ret_fwd', data=alphas);"
   ]
  },
  {
   "cell_type": "code",
   "execution_count": 291,
   "id": "e7dce4c7-da0a-42ea-ab6e-9f3e68e856c9",
   "metadata": {},
   "outputs": [],
   "source": [
    "mi[alpha] = get_mutual_info_score(alphas.ret_fwd, alphas[f'{alpha:03}'])"
   ]
  },
  {
   "cell_type": "code",
   "execution_count": 293,
   "id": "b356c7ea-0236-4582-a952-8881b22a8b0f",
   "metadata": {},
   "outputs": [],
   "source": [
    "mi[alpha]"
   ]
  },
  {
   "cell_type": "markdown",
   "id": "9436713f-d452-490c-aae5-775bcf4283c9",
   "metadata": {},
   "source": [
    "### Alpha 007"
   ]
  },
  {
   "cell_type": "code",
   "execution_count": 296,
   "id": "ae9afd39-2940-49e9-8502-466ed8f49ab1",
   "metadata": {},
   "outputs": [],
   "source": [
    "def alpha007(c, v, adv20):\n",
    "    \"\"\"(adv20 < volume) \n",
    "        ? ((-ts_rank(abs(ts_delta(close, 7)), 60)) * sign(ts_delta(close, 7))) \n",
    "        : -1\n",
    "    \"\"\"\n",
    "    \n",
    "    delta7 = ts_delta(c, 7)\n",
    "    return (-ts_rank(abs(delta7), 60)\n",
    "            .mul(sign(delta7))\n",
    "            .where(adv20<v, -1)\n",
    "            .stack('ticker')\n",
    "            .swaplevel())"
   ]
  },
  {
   "cell_type": "code",
   "execution_count": 298,
   "id": "7fb7f941-652f-40f7-a4ae-c85ceda48abc",
   "metadata": {},
   "outputs": [],
   "source": [
    "alpha = 7"
   ]
  },
  {
   "cell_type": "code",
   "execution_count": 300,
   "id": "f0a521c7-7db6-4299-a3c5-64de9a4023de",
   "metadata": {},
   "outputs": [],
   "source": [
    "%%time\n",
    "alphas[f'{alpha:03}'] = alpha007(c, v, adv20)"
   ]
  },
  {
   "cell_type": "code",
   "execution_count": 302,
   "id": "351da28d-f487-4a26-be6c-f58bb6311981",
   "metadata": {},
   "outputs": [],
   "source": [
    "alphas[f'{alpha:03}'].to_hdf('alphas.h5', f'alphas/{alpha:03}')"
   ]
  },
  {
   "cell_type": "code",
   "execution_count": 304,
   "id": "417dc502-9e93-4fb2-a43b-23c5d8a3cdbe",
   "metadata": {},
   "outputs": [],
   "source": [
    "ax = sns.distplot(alphas[f'{alpha:03}'], kde=False)\n",
    "ax.set_yscale('log')\n",
    "ax.set_ylabel('Frequency (log scale)')\n",
    "plt.tight_layout();\n",
    "plt.show()"
   ]
  },
  {
   "cell_type": "code",
   "execution_count": 306,
   "id": "fcc2164c-59b9-4b9e-9293-cc6252e23230",
   "metadata": {},
   "outputs": [],
   "source": [
    "g = sns.jointplot(x=f'{alpha:03}', y='ret_fwd', data=alphas);"
   ]
  },
  {
   "cell_type": "code",
   "execution_count": 308,
   "id": "6e6fdb07-4e4b-4165-8df0-8b7d5af0f752",
   "metadata": {},
   "outputs": [],
   "source": [
    "mi[alpha] = get_mutual_info_score(alphas.ret_fwd, alphas[f'{alpha:03}'])"
   ]
  },
  {
   "cell_type": "code",
   "execution_count": 310,
   "id": "de351c78-8bc8-4eca-8990-d0477016ee86",
   "metadata": {},
   "outputs": [],
   "source": [
    "mi[alpha]"
   ]
  },
  {
   "cell_type": "markdown",
   "id": "33013e74-f1fe-4d06-9869-b9baee695298",
   "metadata": {},
   "source": [
    "### Alpha 008"
   ]
  },
  {
   "cell_type": "code",
   "execution_count": null,
   "id": "7ecd357a-5cc6-4267-b303-93863efcf7a5",
   "metadata": {},
   "outputs": [],
   "source": [
    "def alpha008(o, r):\n",
    "    \"\"\"-rank(((ts_sum(open, 5) * ts_sum(returns, 5)) - \n",
    "        ts_lag((ts_sum(open, 5) * ts_sum(returns, 5)),10)))\n",
    "    \"\"\"\n",
    "    return (-(rank(((ts_sum(o, 5) * ts_sum(r, 5)) -\n",
    "                       ts_lag((ts_sum(o, 5) * ts_sum(r, 5)), 10))))\n",
    "           .stack('ticker')\n",
    "            .swaplevel())"
   ]
  },
  {
   "cell_type": "code",
   "execution_count": null,
   "id": "dac263ec-c3eb-4bbf-860e-0beac8a679c9",
   "metadata": {},
   "outputs": [],
   "source": [
    "alpha = 8"
   ]
  },
  {
   "cell_type": "code",
   "execution_count": 313,
   "id": "d88d2d2a-23aa-49b7-ab5e-5e05c86da09a",
   "metadata": {},
   "outputs": [],
   "source": [
    "%%time\n",
    "alphas[f'{alpha:03}'] = alpha008(o, r)"
   ]
  },
  {
   "cell_type": "code",
   "execution_count": 315,
   "id": "c2c4c369-25d8-46ca-bb88-703ea4e32ecc",
   "metadata": {},
   "outputs": [],
   "source": [
    "alphas[f'{alpha:03}'].to_hdf('alphas.h5', f'alphas/{alpha:03}')"
   ]
  },
  {
   "cell_type": "code",
   "execution_count": 317,
   "id": "757df971-ae01-49dd-aa2e-7044eb0a9333",
   "metadata": {},
   "outputs": [],
   "source": [
    "sns.distplot(alphas[f'{alpha:03}']);"
   ]
  },
  {
   "cell_type": "code",
   "execution_count": 319,
   "id": "9b93a901-1970-4af7-8982-1dac163f9406",
   "metadata": {},
   "outputs": [],
   "source": [
    "g = sns.jointplot(x=f'{alpha:03}', y='ret_fwd', data=alphas);"
   ]
  },
  {
   "cell_type": "code",
   "execution_count": 321,
   "id": "c8550cd6-3830-4ddf-a95f-b00cae5799a4",
   "metadata": {},
   "outputs": [],
   "source": [
    "mi[alpha] = get_mutual_info_score(alphas.ret_fwd, alphas[f'{alpha:03}'])"
   ]
  },
  {
   "cell_type": "code",
   "execution_count": 323,
   "id": "62cbf730-6867-4d9e-8f67-b73cc2ad7e29",
   "metadata": {},
   "outputs": [],
   "source": [
    "mi[alpha]"
   ]
  },
  {
   "cell_type": "markdown",
   "id": "35cc8b08-d076-49f8-9c1a-1c5a8a916c21",
   "metadata": {},
   "source": [
    "### Alpha 009"
   ]
  },
  {
   "cell_type": "code",
   "execution_count": 326,
   "id": "2091c617-8d53-4616-baa7-0dfc75f6587b",
   "metadata": {},
   "outputs": [],
   "source": [
    "def alpha009(c):\n",
    "    \"\"\"(0 < ts_min(ts_delta(close, 1), 5)) ? ts_delta(close, 1) \n",
    "    : ((ts_max(ts_delta(close, 1), 5) < 0) \n",
    "    ? ts_delta(close, 1) : (-1 * ts_delta(close, 1)))\n",
    "    \"\"\"\n",
    "    close_diff = ts_delta(c, 1)\n",
    "    alpha = close_diff.where(ts_min(close_diff, 5) > 0,\n",
    "                             close_diff.where(ts_max(close_diff, 5) < 0,\n",
    "                                              -close_diff))\n",
    "    return (alpha\n",
    "            .stack('ticker')\n",
    "            .swaplevel())"
   ]
  },
  {
   "cell_type": "code",
   "execution_count": 328,
   "id": "c4141332-0edf-46cd-8cf2-b2b36e9f4a84",
   "metadata": {},
   "outputs": [],
   "source": [
    "alpha = 9"
   ]
  },
  {
   "cell_type": "code",
   "execution_count": 330,
   "id": "138af51d-5381-46e0-b787-27116e86c4c6",
   "metadata": {},
   "outputs": [],
   "source": [
    "%%time\n",
    "alphas[f'{alpha:03}'] = alpha009(c)"
   ]
  },
  {
   "cell_type": "code",
   "execution_count": 332,
   "id": "9ed42ac2-ff94-4f30-88ea-a71975ee28ac",
   "metadata": {},
   "outputs": [],
   "source": [
    "alphas[f'{alpha:03}'].to_hdf('alphas.h5', f'alphas/{alpha:03}')"
   ]
  },
  {
   "cell_type": "code",
   "execution_count": 334,
   "id": "cc0daee7-0e82-486c-9ea8-825b97bda6fa",
   "metadata": {},
   "outputs": [],
   "source": [
    "q = 0.01\n",
    "\n",
    "sns.distplot(alphas[f'{alpha:03}'].clip(lower=alphas[f'{alpha:03}'].quantile(q),\n",
    "                                        upper=alphas[f'{alpha:03}'].quantile(1-q)));"
   ]
  },
  {
   "cell_type": "code",
   "execution_count": 336,
   "id": "c9834679-b368-456a-8cb2-9ad11ef7037a",
   "metadata": {},
   "outputs": [],
   "source": [
    "g = sns.jointplot(x=f'{alpha:03}', y='ret_fwd', data=alphas);"
   ]
  },
  {
   "cell_type": "code",
   "execution_count": 338,
   "id": "540233de-98aa-4df0-970f-92ee53595a1a",
   "metadata": {},
   "outputs": [],
   "source": [
    "mi[alpha] = get_mutual_info_score(alphas.ret_fwd, alphas[f'{alpha:03}'])"
   ]
  },
  {
   "cell_type": "code",
   "execution_count": 340,
   "id": "c5387dd1-42c4-4072-8951-1011b2381e23",
   "metadata": {},
   "outputs": [],
   "source": [
    "mi[alpha]"
   ]
  },
  {
   "cell_type": "code",
   "execution_count": 342,
   "id": "8e21e433-6ebb-4056-88ac-26922c3b004f",
   "metadata": {},
   "outputs": [],
   "source": [
    "pd.Series(mi)"
   ]
  },
  {
   "cell_type": "markdown",
   "id": "e842fe9d-cc18-41bc-994f-695f5befa6fa",
   "metadata": {},
   "source": [
    "### Alpha 010"
   ]
  },
  {
   "cell_type": "code",
   "execution_count": 345,
   "id": "dbb95905-7874-4956-8c91-b27079d6d761",
   "metadata": {},
   "outputs": [],
   "source": [
    "def alpha010(c):\n",
    "    \"\"\"rank(((0 < ts_min(ts_delta(close, 1), 4)) \n",
    "        ? ts_delta(close, 1) \n",
    "        : ((ts_max(ts_delta(close, 1), 4) < 0)\n",
    "            ? ts_delta(close, 1) \n",
    "            : (-1 * ts_delta(close, 1)))))\n",
    "    \"\"\"\n",
    "    close_diff = ts_delta(c, 1)\n",
    "    alpha = close_diff.where(ts_min(close_diff, 4) > 0,\n",
    "                             close_diff.where(ts_min(close_diff, 4) > 0,\n",
    "                                              -close_diff))\n",
    "\n",
    "    return (rank(alpha)\n",
    "            .stack('ticker')\n",
    "            .swaplevel())"
   ]
  },
  {
   "cell_type": "code",
   "execution_count": 347,
   "id": "29311a25-9d76-4565-9294-0c80b978f318",
   "metadata": {},
   "outputs": [],
   "source": [
    "alpha = 10"
   ]
  },
  {
   "cell_type": "code",
   "execution_count": 349,
   "id": "a4600c51-d105-48b0-9af8-5c15d8dbe77f",
   "metadata": {},
   "outputs": [],
   "source": [
    "%%time\n",
    "alphas[f'{alpha:03}'] = alpha010(c)"
   ]
  },
  {
   "cell_type": "code",
   "execution_count": 351,
   "id": "1a107ea3-c595-4ce5-8184-edb6a79c16e1",
   "metadata": {},
   "outputs": [],
   "source": [
    "alphas[f'{alpha:03}'].to_hdf('alphas.h5', f'alphas/{alpha:03}')"
   ]
  },
  {
   "cell_type": "code",
   "execution_count": 353,
   "id": "b8d9a27b-73bb-4cf9-9fdb-fb357b4b0ced",
   "metadata": {},
   "outputs": [],
   "source": [
    "sns.distplot(alphas[f'{alpha:03}']);"
   ]
  },
  {
   "cell_type": "code",
   "execution_count": 355,
   "id": "c0541d0f-d32a-43a3-baa4-e50371a17b91",
   "metadata": {},
   "outputs": [],
   "source": [
    "g = sns.jointplot(x=f'{alpha:03}', y='ret_fwd', data=alphas);"
   ]
  },
  {
   "cell_type": "code",
   "execution_count": 357,
   "id": "77a89b77-6c0c-41e7-a5fd-eab5eb237aca",
   "metadata": {},
   "outputs": [],
   "source": [
    "mi[alpha] = get_mutual_info_score(alphas.ret_fwd, alphas[f'{alpha:03}'])"
   ]
  },
  {
   "cell_type": "code",
   "execution_count": 362,
   "id": "e4f412aa-002f-4002-b891-1b98adc5d11a",
   "metadata": {},
   "outputs": [],
   "source": [
    "mi[alpha]"
   ]
  },
  {
   "cell_type": "code",
   "execution_count": 364,
   "id": "65d5ae30-d9c4-49b3-a9cc-e819f7bd1085",
   "metadata": {},
   "outputs": [],
   "source": [
    "pd.Series(mi).to_csv('mi.csv')"
   ]
  },
  {
   "cell_type": "markdown",
   "id": "2cb4ff9c-50ed-481a-b1b0-4dba8f9d4ec9",
   "metadata": {},
   "source": [
    "### Alpha 011"
   ]
  },
  {
   "cell_type": "code",
   "execution_count": 410,
   "id": "d30d04ef-7252-49c0-b88f-057efdafdb20",
   "metadata": {},
   "outputs": [],
   "source": [
    "def alpha011(c, vwap, v):\n",
    "    \"\"\"(rank(ts_max((vwap - close), 3)) + \n",
    "        rank(ts_min(vwap - close), 3)) * \n",
    "        rank(ts_delta(volume, 3))\n",
    "        \"\"\"\n",
    "    return (rank(ts_max(vwap.sub(c), 3))\n",
    "            .add(rank(ts_min(vwap.sub(c), 3)))\n",
    "            .mul(rank(ts_delta(v, 3)))\n",
    "            .stack('ticker')\n",
    "            .swaplevel())"
   ]
  },
  {
   "cell_type": "code",
   "execution_count": 412,
   "id": "008abf68-8361-4cbb-9699-991d0a60c6a8",
   "metadata": {},
   "outputs": [],
   "source": [
    "alpha = 11"
   ]
  },
  {
   "cell_type": "code",
   "execution_count": 414,
   "id": "a681bc7f-493b-49ee-983b-6439ceadb1f4",
   "metadata": {},
   "outputs": [],
   "source": [
    "%%time\n",
    "alphas[f'{alpha:03}'] = alpha011(c, vwap, v)"
   ]
  },
  {
   "cell_type": "code",
   "execution_count": 416,
   "id": "22666832-0a6a-47d0-8fec-b452f45ca697",
   "metadata": {},
   "outputs": [],
   "source": [
    "alphas[f'{alpha:03}'].to_hdf('alphas.h5', f'alphas/{alpha:03}')"
   ]
  },
  {
   "cell_type": "code",
   "execution_count": 418,
   "id": "bf437ee2-761c-4862-bb2b-6271dc13f0a4",
   "metadata": {},
   "outputs": [],
   "source": [
    "sns.distplot(alphas[f'{alpha:03}']);"
   ]
  },
  {
   "cell_type": "code",
   "execution_count": 420,
   "id": "57508d4f-5988-421e-a8c2-d60fdedab11b",
   "metadata": {},
   "outputs": [],
   "source": [
    "g = sns.jointplot(x=f'{alpha:03}', y='ret_fwd', data=alphas);"
   ]
  },
  {
   "cell_type": "code",
   "execution_count": 422,
   "id": "5617a41a-5060-45b3-aa43-4d4325aa12b9",
   "metadata": {},
   "outputs": [],
   "source": [
    "mi[alpha] = get_mutual_info_score(alphas.ret_fwd, alphas[f'{alpha:03}'])"
   ]
  },
  {
   "cell_type": "code",
   "execution_count": 424,
   "id": "4322113d-a02b-447a-b086-dc16b2271c03",
   "metadata": {},
   "outputs": [],
   "source": [
    "mi[alpha]"
   ]
  },
  {
   "cell_type": "markdown",
   "id": "e12684fa-5ebd-493c-a214-18c76d3c267f",
   "metadata": {},
   "source": [
    "### Alpha 012"
   ]
  },
  {
   "cell_type": "code",
   "execution_count": 427,
   "id": "f822e6c5-ee83-416a-b22f-cdf4fefc522d",
   "metadata": {},
   "outputs": [],
   "source": [
    "def alpha012(v, c):\n",
    "    \"\"\"(sign(ts_delta(volume, 1)) * \n",
    "            (-1 * ts_delta(close, 1)))\n",
    "        \"\"\"\n",
    "    return (sign(ts_delta(v, 1)).mul(-ts_delta(c, 1))\n",
    "            .stack('ticker')\n",
    "            .swaplevel())"
   ]
  },
  {
   "cell_type": "code",
   "execution_count": 429,
   "id": "1b1563e9-a19b-4707-a0fe-40a0a73a9f50",
   "metadata": {},
   "outputs": [],
   "source": [
    "alpha = 12"
   ]
  },
  {
   "cell_type": "code",
   "execution_count": 431,
   "id": "7f61d0c2-893a-4b31-ac96-d45efbbcb4a3",
   "metadata": {},
   "outputs": [],
   "source": [
    "%%time\n",
    "alphas[f'{alpha:03}'] = alpha012(v, c)"
   ]
  },
  {
   "cell_type": "code",
   "execution_count": 433,
   "id": "7f5adad0-feae-45e3-901f-5ea1f7c332fe",
   "metadata": {},
   "outputs": [],
   "source": [
    "alphas[f'{alpha:03}'].to_hdf('alphas.h5', f'alphas/{alpha:03}')"
   ]
  },
  {
   "cell_type": "code",
   "execution_count": 435,
   "id": "d94d762a-a97c-414c-875c-e7dc83dc34de",
   "metadata": {},
   "outputs": [],
   "source": [
    "q = 0.01\n",
    "\n",
    "sns.distplot(alphas[f'{alpha:03}'].clip(lower=alphas[f'{alpha:03}'].quantile(q),\n",
    "                                        upper=alphas[f'{alpha:03}'].quantile(1-q)));"
   ]
  },
  {
   "cell_type": "code",
   "execution_count": 437,
   "id": "fc75589c-188a-4b29-a7d6-3992107a11dc",
   "metadata": {},
   "outputs": [],
   "source": [
    "g = sns.jointplot(x=f'{alpha:03}', y='ret_fwd', data=alphas);"
   ]
  },
  {
   "cell_type": "code",
   "execution_count": 439,
   "id": "49e1120f-c5a5-4c5e-8c77-9210b95b186c",
   "metadata": {},
   "outputs": [],
   "source": [
    "mi[alpha] = get_mutual_info_score(alphas.ret_fwd, alphas[f'{alpha:03}'])"
   ]
  },
  {
   "cell_type": "code",
   "execution_count": 441,
   "id": "61714ecb-4c43-459d-b5b6-95ecdae91eae",
   "metadata": {},
   "outputs": [],
   "source": [
    "mi[alpha]"
   ]
  },
  {
   "cell_type": "markdown",
   "id": "a8c2b92d-76cb-46b7-ab44-e8849f2d2e05",
   "metadata": {},
   "source": [
    "### Alpha 013"
   ]
  },
  {
   "cell_type": "code",
   "execution_count": 444,
   "id": "60a557f9-6aa8-43c3-925a-47ee6e420e5f",
   "metadata": {},
   "outputs": [],
   "source": [
    "def alpha013(c, v):\n",
    "    \"\"\"-rank(ts_cov(rank(close), rank(volume), 5))\"\"\"\n",
    "    return (-rank(ts_cov(rank(c), rank(v), 5))\n",
    "            .stack('ticker')\n",
    "            .swaplevel())"
   ]
  },
  {
   "cell_type": "code",
   "execution_count": 446,
   "id": "0931dc68-3027-4554-87eb-5803aafc73df",
   "metadata": {},
   "outputs": [],
   "source": [
    "alpha = 13"
   ]
  },
  {
   "cell_type": "code",
   "execution_count": 448,
   "id": "209f3414-0b5a-4aa5-ba6b-250bd47c51b6",
   "metadata": {},
   "outputs": [],
   "source": [
    "%%time\n",
    "alphas[f'{alpha:03}'] = alpha013(c, v)"
   ]
  },
  {
   "cell_type": "code",
   "execution_count": 450,
   "id": "0e64d6e1-43fb-4484-9e88-2b750ed1606b",
   "metadata": {},
   "outputs": [],
   "source": [
    "alphas[f'{alpha:03}'].to_hdf('alphas.h5', f'alphas/{alpha:03}')"
   ]
  },
  {
   "cell_type": "code",
   "execution_count": 452,
   "id": "ffafb207-462d-4498-b603-5f0c48cdb8b2",
   "metadata": {},
   "outputs": [],
   "source": [
    "sns.distplot(alphas[f'{alpha:03}']);"
   ]
  },
  {
   "cell_type": "code",
   "execution_count": 454,
   "id": "43aa7659-b2e2-4a44-ac8c-8b322f45a9ab",
   "metadata": {},
   "outputs": [],
   "source": [
    "g = sns.jointplot(x=f'{alpha:03}', y='ret_fwd', data=alphas);"
   ]
  },
  {
   "cell_type": "code",
   "execution_count": 456,
   "id": "2017b6d9-0f64-436a-b338-d4a1d33561eb",
   "metadata": {},
   "outputs": [],
   "source": [
    "mi[alpha] = get_mutual_info_score(alphas.ret_fwd, alphas[f'{alpha:03}'])"
   ]
  },
  {
   "cell_type": "code",
   "execution_count": 458,
   "id": "758fecc3-8089-49f3-9e72-c1f4aa528b37",
   "metadata": {},
   "outputs": [],
   "source": [
    "mi[alpha]"
   ]
  },
  {
   "cell_type": "code",
   "execution_count": 460,
   "id": "9b08f9c3-5c88-47a1-9047-859b0711ae78",
   "metadata": {},
   "outputs": [],
   "source": [
    "pd.Series(mi).to_csv('mi.csv')"
   ]
  },
  {
   "cell_type": "markdown",
   "id": "7fe00468-577e-45c8-9529-e6d090418fe9",
   "metadata": {},
   "source": [
    "### Alpha 014"
   ]
  },
  {
   "cell_type": "code",
   "execution_count": 467,
   "id": "6c214470-b74a-4439-8c0c-58ff2e9ccb41",
   "metadata": {},
   "outputs": [],
   "source": [
    "def alpha014(o, v, r):\n",
    "    \"\"\"\n",
    "    (-rank(ts_delta(returns, 3))) * ts_corr(open, volume, 10))\n",
    "    \"\"\"\n",
    "\n",
    "    alpha = -rank(ts_delta(r, 3)).mul(ts_corr(o, v, 10)\n",
    "                                      .replace([-np.inf,\n",
    "                                                np.inf],\n",
    "                                               np.nan))\n",
    "    return (alpha\n",
    "            .stack('ticker')\n",
    "            .swaplevel())"
   ]
  },
  {
   "cell_type": "code",
   "execution_count": 469,
   "id": "1131999b-f1bc-4984-90df-c2bf5f7606de",
   "metadata": {},
   "outputs": [],
   "source": [
    "alpha = 14"
   ]
  },
  {
   "cell_type": "code",
   "execution_count": 473,
   "id": "25b4cccb-3cdd-44e3-abda-1cdec5e9c670",
   "metadata": {},
   "outputs": [],
   "source": [
    "%%time\n",
    "alphas[f'{alpha:03}'] = alpha014(o, v, r)"
   ]
  },
  {
   "cell_type": "code",
   "execution_count": 475,
   "id": "d2d16183-be12-4f27-a4a4-57bc3d36aac2",
   "metadata": {},
   "outputs": [],
   "source": [
    "alphas[f'{alpha:03}'].to_hdf('alphas.h5', f'alphas/{alpha:03}')"
   ]
  },
  {
   "cell_type": "code",
   "execution_count": 477,
   "id": "3ff8b157-e479-4f83-9271-5f95f916fa9d",
   "metadata": {},
   "outputs": [],
   "source": [
    "sns.distplot(alphas[f'{alpha:03}']);"
   ]
  },
  {
   "cell_type": "code",
   "execution_count": 479,
   "id": "27352e26-74e0-44f2-88a3-b55a26b18c6b",
   "metadata": {},
   "outputs": [],
   "source": [
    "g = sns.jointplot(x=f'{alpha:03}', y='ret_fwd', data=alphas);"
   ]
  },
  {
   "cell_type": "code",
   "execution_count": 481,
   "id": "b91f6d28-9369-4817-8bf9-ea3a04c0d9df",
   "metadata": {},
   "outputs": [],
   "source": [
    "mi[alpha] = get_mutual_info_score(alphas.ret_fwd, alphas[f'{alpha:03}'])"
   ]
  },
  {
   "cell_type": "code",
   "execution_count": 483,
   "id": "7f8b1992-1a9d-49df-a268-8848a5e0fc0f",
   "metadata": {},
   "outputs": [],
   "source": [
    "mi[alpha]"
   ]
  },
  {
   "cell_type": "markdown",
   "id": "ef7efd8c-5fa0-49d6-8b3f-9f7a0b7ed722",
   "metadata": {},
   "source": [
    "### Alpha 015"
   ]
  },
  {
   "cell_type": "code",
   "execution_count": 486,
   "id": "57a46538-e7d8-4554-b1b5-26e6feac1054",
   "metadata": {},
   "outputs": [],
   "source": [
    "def alpha015(h, v):\n",
    "    \"\"\"(-1 * ts_sum(rank(ts_corr(rank(high), rank(volume), 3)), 3))\"\"\"\n",
    "    alpha = (-ts_sum(rank(ts_corr(rank(h), rank(v), 3)\n",
    "                          .replace([-np.inf, np.inf], np.nan)), 3))\n",
    "    return (alpha\n",
    "            .stack('ticker')\n",
    "            .swaplevel())"
   ]
  },
  {
   "cell_type": "code",
   "execution_count": 488,
   "id": "79ccbc53-0410-4623-88be-092ecbb6686d",
   "metadata": {},
   "outputs": [],
   "source": [
    "alpha = 15"
   ]
  },
  {
   "cell_type": "code",
   "execution_count": 490,
   "id": "e7b27a08-eb73-4ba0-bded-f28c6ede427e",
   "metadata": {},
   "outputs": [],
   "source": [
    "%%time\n",
    "alphas[f'{alpha:03}'] = alpha015(h, v)"
   ]
  },
  {
   "cell_type": "code",
   "execution_count": 492,
   "id": "3f69c991-369b-4643-b024-1acb6b81b008",
   "metadata": {},
   "outputs": [],
   "source": [
    "alphas[f'{alpha:03}'].to_hdf('alphas.h5', f'alphas/{alpha:03}')"
   ]
  },
  {
   "cell_type": "code",
   "execution_count": 494,
   "id": "efa7e916-3250-47cb-a4dc-4f409fdb66d2",
   "metadata": {},
   "outputs": [],
   "source": [
    "sns.distplot(alphas[f'{alpha:03}']);"
   ]
  },
  {
   "cell_type": "code",
   "execution_count": 496,
   "id": "e22daf7a-3623-4a16-8bfa-f1946c646a29",
   "metadata": {},
   "outputs": [],
   "source": [
    "g = sns.jointplot(x=f'{alpha:03}', y='ret_fwd', data=alphas);"
   ]
  },
  {
   "cell_type": "code",
   "execution_count": 508,
   "id": "51ae636c-a88d-4c8e-9df7-e204cf6c5d0d",
   "metadata": {},
   "outputs": [],
   "source": [
    "mi[alpha] = get_mutual_info_score(alphas.ret_fwd, alphas[f'{alpha:03}'])"
   ]
  },
  {
   "cell_type": "code",
   "execution_count": 510,
   "id": "2b81e51f-b5f7-45ba-812f-b443937091d4",
   "metadata": {},
   "outputs": [],
   "source": [
    "mi[alpha]"
   ]
  },
  {
   "cell_type": "markdown",
   "id": "63b91a4f-2c58-456c-a7b5-09e472ea407a",
   "metadata": {},
   "source": [
    "### Alpha 016"
   ]
  },
  {
   "cell_type": "code",
   "execution_count": 515,
   "id": "2a8ba4f1-e7ce-401d-a138-924e965a826e",
   "metadata": {},
   "outputs": [],
   "source": [
    "def alpha016(h, v):\n",
    "    \"\"\"(-1 * rank(ts_cov(rank(high), rank(volume), 5)))\"\"\"\n",
    "    return (-rank(ts_cov(rank(h), rank(v), 5))\n",
    "            .stack('ticker')\n",
    "            .swaplevel())"
   ]
  },
  {
   "cell_type": "code",
   "execution_count": 517,
   "id": "5d7f8e87-e91f-4bec-ad7c-9a2c655561db",
   "metadata": {},
   "outputs": [],
   "source": [
    "alpha = 16"
   ]
  },
  {
   "cell_type": "code",
   "execution_count": 519,
   "id": "99878d1e-c9c4-4e5b-8a31-a8aee5eb96ba",
   "metadata": {},
   "outputs": [],
   "source": [
    "%%time\n",
    "alphas[f'{alpha:03}'] = alpha016(h, v)"
   ]
  },
  {
   "cell_type": "code",
   "execution_count": 521,
   "id": "e2b3f1c9-6972-47ca-adf2-96d9b28f461a",
   "metadata": {},
   "outputs": [],
   "source": [
    "alphas[f'{alpha:03}'].to_hdf('alphas.h5', f'alphas/{alpha:03}')"
   ]
  },
  {
   "cell_type": "code",
   "execution_count": 523,
   "id": "3206ddd1-6df6-4fc6-8e00-c11df7657ecf",
   "metadata": {},
   "outputs": [],
   "source": [
    "sns.distplot(alphas[f'{alpha:03}']);"
   ]
  },
  {
   "cell_type": "code",
   "execution_count": 525,
   "id": "ca13234e-5344-4540-8a4e-aabb2669b62a",
   "metadata": {},
   "outputs": [],
   "source": [
    "g = sns.jointplot(x=f'{alpha:03}', y='ret_fwd', data=alphas);"
   ]
  },
  {
   "cell_type": "code",
   "execution_count": 527,
   "id": "c9bbd4b7-e203-4dbd-951e-1133559d7386",
   "metadata": {},
   "outputs": [],
   "source": [
    "mi[alpha] = get_mutual_info_score(alphas.ret_fwd, alphas[f'{alpha:03}'])"
   ]
  },
  {
   "cell_type": "code",
   "execution_count": 529,
   "id": "9b78ec0e-15db-44cc-920c-1ca414aee4f7",
   "metadata": {},
   "outputs": [],
   "source": [
    "mi[alpha]"
   ]
  },
  {
   "cell_type": "code",
   "execution_count": 587,
   "id": "9f34dc6e-af5f-4088-ba20-6b910dde85e7",
   "metadata": {},
   "outputs": [],
   "source": [
    "pd.Series(mi).to_csv('mi.csv')"
   ]
  },
  {
   "cell_type": "markdown",
   "id": "8055a14e-8745-454b-a8c3-d9b3555aa387",
   "metadata": {},
   "source": [
    "### Alpha 017"
   ]
  },
  {
   "cell_type": "code",
   "execution_count": 8,
   "id": "043dde56-f326-4f09-b56d-4be33cceaea8",
   "metadata": {},
   "outputs": [],
   "source": [
    "def alpha017(c, v):\n",
    "    \"\"\"(((-1 * rank(ts_rank(close, 10))) * rank(ts_delta(ts_delta(close, 1), 1))) *rank(ts_rank((volume / adv20), 5)))\n",
    "        \"\"\"\n",
    "    adv20 = ts_mean(v, 20)\n",
    "    return (-rank(ts_rank(c, 10))\n",
    "            .mul(rank(ts_delta(ts_delta(c, 1), 1)))\n",
    "            .mul(rank(ts_rank(v.div(adv20), 5)))\n",
    "            .stack('ticker')\n",
    "            .swaplevel())"
   ]
  },
  {
   "cell_type": "code",
   "execution_count": 10,
   "id": "fb61e7b1-d0d6-42ba-a6df-3a9b72307835",
   "metadata": {},
   "outputs": [],
   "source": [
    "alpha = 17"
   ]
  },
  {
   "cell_type": "code",
   "execution_count": 12,
   "id": "5fe454e4-c93f-4e91-a469-64c65e3a9de9",
   "metadata": {},
   "outputs": [],
   "source": [
    "%%time\n",
    "alphas[f'{alpha:03}'] = alpha017(c, v)"
   ]
  },
  {
   "cell_type": "code",
   "execution_count": 14,
   "id": "20bde919-1a2c-4241-8620-6dba368bba7b",
   "metadata": {},
   "outputs": [],
   "source": [
    "alphas[f'{alpha:03}'].to_hdf('alphas.h5', f'alphas/{alpha:03}')"
   ]
  },
  {
   "cell_type": "code",
   "execution_count": 16,
   "id": "53a4b4fe-02f7-4927-a4db-647d8cb546d5",
   "metadata": {},
   "outputs": [],
   "source": [
    "sns.distplot(alphas[f'{alpha:03}']);"
   ]
  },
  {
   "cell_type": "code",
   "execution_count": 18,
   "id": "4224f61d-adbf-48f9-9209-48c3f5edf988",
   "metadata": {},
   "outputs": [],
   "source": [
    "g = sns.jointplot(x=f'{alpha:03}', y='ret_fwd', data=alphas);"
   ]
  },
  {
   "cell_type": "code",
   "execution_count": 20,
   "id": "c3a931ea-5da3-4795-94f8-58d5c179b8f2",
   "metadata": {},
   "outputs": [],
   "source": [
    "mi[alpha] = get_mutual_info_score(alphas.ret_fwd, alphas[f'{alpha:03}'])"
   ]
  },
  {
   "cell_type": "code",
   "execution_count": 22,
   "id": "4fd8ff7e-51ca-4cc5-b311-4f31cb36fb25",
   "metadata": {},
   "outputs": [],
   "source": [
    "mi[alpha]"
   ]
  },
  {
   "cell_type": "markdown",
   "id": "e3653a3d-51dd-4d12-9b7c-b41b43bea992",
   "metadata": {},
   "source": [
    "### Alpha 18"
   ]
  },
  {
   "cell_type": "code",
   "execution_count": 25,
   "id": "bf6eb119-72d3-4c66-9f20-4bbce9e7e6ce",
   "metadata": {},
   "outputs": [],
   "source": [
    "def alpha018(o, c):\n",
    "    \"\"\"-rank((ts_std(abs((close - open)), 5) + (close - open)) +\n",
    "            ts_corr(close, open,10))\n",
    "    \"\"\"\n",
    "    return (-rank(ts_std(c.sub(o).abs(), 5)\n",
    "                  .add(c.sub(o))\n",
    "                  .add(ts_corr(c, o, 10)\n",
    "                       .replace([-np.inf,\n",
    "                                 np.inf],\n",
    "                                np.nan)))\n",
    "            .stack('ticker')\n",
    "            .swaplevel())"
   ]
  },
  {
   "cell_type": "code",
   "execution_count": 27,
   "id": "63a7eeb8-87fc-4d57-a27e-a0329c4c12bb",
   "metadata": {},
   "outputs": [],
   "source": [
    "alpha = 18"
   ]
  },
  {
   "cell_type": "code",
   "execution_count": 31,
   "id": "6174b4b9-8ebc-4bb4-9329-67286b88ab7a",
   "metadata": {},
   "outputs": [],
   "source": [
    "%%time\n",
    "alphas[f'{alpha:03}'] = alpha018(o, c)"
   ]
  },
  {
   "cell_type": "code",
   "execution_count": 33,
   "id": "a760b307-b11e-4e91-b691-54fbc48359bc",
   "metadata": {},
   "outputs": [],
   "source": [
    "alphas[f'{alpha:03}'].to_hdf('alphas.h5', f'alphas/{alpha:03}')"
   ]
  },
  {
   "cell_type": "code",
   "execution_count": 35,
   "id": "d7ed9e9a-425e-4437-bccc-d2b3eff1f230",
   "metadata": {},
   "outputs": [],
   "source": [
    "sns.distplot(alphas[f'{alpha:03}']);"
   ]
  },
  {
   "cell_type": "code",
   "execution_count": 37,
   "id": "38a3fc61-ead2-4af1-a50d-6e640dd6f9b0",
   "metadata": {},
   "outputs": [],
   "source": [
    "g = sns.jointplot(x=f'{alpha:03}', y='ret_fwd', data=alphas);"
   ]
  },
  {
   "cell_type": "code",
   "execution_count": 39,
   "id": "4b038ad5-4243-4bde-995e-a7bac995a4e4",
   "metadata": {},
   "outputs": [],
   "source": [
    "mi[alpha] = get_mutual_info_score(alphas.ret_fwd, alphas[f'{alpha:03}'])"
   ]
  },
  {
   "cell_type": "code",
   "execution_count": 41,
   "id": "511fd007-989e-48e9-aa15-d4dee08b7ba4",
   "metadata": {},
   "outputs": [],
   "source": [
    "mi[alpha]"
   ]
  },
  {
   "cell_type": "markdown",
   "id": "8c93f776-2c65-4883-8290-3786369264b6",
   "metadata": {},
   "source": [
    "### Alpha 019"
   ]
  },
  {
   "cell_type": "code",
   "execution_count": 44,
   "id": "00436466-c0a2-48eb-9d10-0b16114e56e6",
   "metadata": {},
   "outputs": [],
   "source": [
    "def alpha019(c, r):\n",
    "    \"\"\"((-1 * sign(((close - ts_lag(close, 7)) + ts_delta(close, 7)))) * \n",
    "    (1 + rank((1 + ts_sum(returns,250)))))\n",
    "    \"\"\"\n",
    "    return (-sign(ts_delta(c, 7) + ts_delta(c, 7))\n",
    "            .mul(1 + rank(1 + ts_sum(r, 250)))\n",
    "            .stack('ticker')\n",
    "            .swaplevel())"
   ]
  },
  {
   "cell_type": "code",
   "execution_count": 48,
   "id": "48494ef4-69b0-47a8-aa00-b2697d158792",
   "metadata": {},
   "outputs": [],
   "source": [
    "alpha = 19"
   ]
  },
  {
   "cell_type": "code",
   "execution_count": 50,
   "id": "bb3dd18a-ea9d-4a79-97fa-1d8fd25bbcc5",
   "metadata": {},
   "outputs": [],
   "source": [
    "%%time\n",
    "alphas[f'{alpha:03}'] = alpha019(c, r)"
   ]
  },
  {
   "cell_type": "code",
   "execution_count": 52,
   "id": "45fdeb12-99a6-4243-896b-bac7a97ad1fe",
   "metadata": {},
   "outputs": [],
   "source": [
    "alphas[f'{alpha:03}'].to_hdf('alphas.h5', f'alphas/{alpha:03}')"
   ]
  },
  {
   "cell_type": "code",
   "execution_count": 54,
   "id": "e8a8b9f1-965f-4f17-96a7-581771ee0b05",
   "metadata": {},
   "outputs": [],
   "source": [
    "sns.distplot(alphas[f'{alpha:03}']);"
   ]
  },
  {
   "cell_type": "code",
   "execution_count": 56,
   "id": "cbae9a1b-29f7-42ee-be35-55e8d42021c0",
   "metadata": {},
   "outputs": [],
   "source": [
    "g = sns.jointplot(x=f'{alpha:03}', y='ret_fwd', data=alphas);"
   ]
  },
  {
   "cell_type": "code",
   "execution_count": 58,
   "id": "5d75e37d-5627-4306-8328-3698e152487f",
   "metadata": {},
   "outputs": [],
   "source": [
    "mi[alpha] = get_mutual_info_score(alphas.ret_fwd, alphas[f'{alpha:03}'])"
   ]
  },
  {
   "cell_type": "code",
   "execution_count": 60,
   "id": "eceab553-d60e-45b3-8a83-4d9dbe7cc15f",
   "metadata": {},
   "outputs": [],
   "source": [
    "mi[alpha]"
   ]
  },
  {
   "cell_type": "code",
   "execution_count": 62,
   "id": "babda418-10f9-47b1-a3df-9214559cbffe",
   "metadata": {},
   "outputs": [],
   "source": [
    "pd.Series(mi).to_csv('mi.csv')"
   ]
  },
  {
   "cell_type": "markdown",
   "id": "d9558e9d-89cb-4d16-aa6c-7a1399a19399",
   "metadata": {},
   "source": [
    "### Alpha 020"
   ]
  },
  {
   "cell_type": "code",
   "execution_count": 65,
   "id": "8d1ce9cd-4537-408d-9bc7-2a0ded9ded65",
   "metadata": {},
   "outputs": [],
   "source": [
    "def alpha020(o, h, l, c):\n",
    "    \"\"\"-rank(open - ts_lag(high, 1)) * \n",
    "        rank(open - ts_lag(close, 1)) * \n",
    "        rank(open -ts_lag(low, 1))\"\"\"\n",
    "    return (rank(o - ts_lag(h, 1))\n",
    "            .mul(rank(o - ts_lag(c, 1)))\n",
    "            .mul(rank(o - ts_lag(l, 1)))\n",
    "            .mul(-1)\n",
    "            .stack('ticker')\n",
    "            .swaplevel())"
   ]
  },
  {
   "cell_type": "code",
   "execution_count": 67,
   "id": "5987331c-30ee-4395-8c78-99dbc0422f49",
   "metadata": {},
   "outputs": [],
   "source": [
    "alpha = 20"
   ]
  },
  {
   "cell_type": "code",
   "execution_count": 69,
   "id": "b42bce3a-d7c0-42ea-acdb-13dd94e650b5",
   "metadata": {},
   "outputs": [],
   "source": [
    "%%time\n",
    "alphas[f'{alpha:03}'] = alpha020(o, h, l, c)"
   ]
  },
  {
   "cell_type": "code",
   "execution_count": 71,
   "id": "c2a0b2b9-5c7b-4ec3-a873-f9eee4305f46",
   "metadata": {},
   "outputs": [],
   "source": [
    "alphas[f'{alpha:03}'].to_hdf('alphas.h5', f'alphas/{alpha:03}')"
   ]
  },
  {
   "cell_type": "code",
   "execution_count": 73,
   "id": "419818b8-d45f-46ab-b233-02370d4106ab",
   "metadata": {},
   "outputs": [],
   "source": [
    "sns.distplot(alphas[f'{alpha:03}']);"
   ]
  },
  {
   "cell_type": "code",
   "execution_count": 75,
   "id": "d4978a3c-4702-444d-80b2-0727f81b79e5",
   "metadata": {},
   "outputs": [],
   "source": [
    "g = sns.jointplot(x=f'{alpha:03}', y='ret_fwd', data=alphas);"
   ]
  },
  {
   "cell_type": "code",
   "execution_count": 79,
   "id": "0cf1c2ad-dccc-4e9c-adc0-0e18255785b5",
   "metadata": {},
   "outputs": [],
   "source": [
    "mi[alpha] = get_mutual_info_score(alphas.ret_fwd, alphas[f'{alpha:03}'])"
   ]
  },
  {
   "cell_type": "code",
   "execution_count": 77,
   "id": "5d15a0cf-6274-4c12-b096-4b972329acd5",
   "metadata": {},
   "outputs": [],
   "source": [
    "mi[alpha]"
   ]
  },
  {
   "cell_type": "markdown",
   "id": "39eac620-8efa-4b88-92b0-8f61344fd52f",
   "metadata": {},
   "source": [
    "### Alpha 021"
   ]
  },
  {
   "cell_type": "code",
   "execution_count": 47,
   "id": "64880961-8148-4173-8f55-d4725378105f",
   "metadata": {},
   "outputs": [],
   "source": [
    "def alpha021(c, v):\n",
    "    \"\"\"ts_mean(close, 8) + ts_std(close, 8) < ts_mean(close, 2)\n",
    "        ? -1\n",
    "        : (ts_mean(close,2) < ts_mean(close, 8) - ts_std(close, 8)\n",
    "            ? 1\n",
    "            : (volume / adv20 < 1\n",
    "                ? -1\n",
    "                : 1))\n",
    "    \"\"\"\n",
    "    sma2 = ts_mean(c, 2)\n",
    "    sma8 = ts_mean(c, 8)\n",
    "    std8 = ts_std(c, 8)\n",
    "\n",
    "    cond_1 = sma8.add(std8) < sma2\n",
    "    cond_2 = sma8.add(std8) > sma2\n",
    "    cond_3 = v.div(ts_mean(v, 20)) < 1\n",
    "\n",
    "    val = np.ones_like(c)\n",
    "    alpha = pd.DataFrame(np.select(condlist=[cond_1, cond_2, cond_3],\n",
    "                                   choicelist=[-1, 1, -1], default=1),\n",
    "                         index=c.index,\n",
    "                         columns=c.columns)\n",
    "\n",
    "    return (alpha\n",
    "            .stack('ticker')\n",
    "            .swaplevel())"
   ]
  },
  {
   "cell_type": "code",
   "execution_count": 49,
   "id": "5d907bec-a8fa-4a94-bad6-9a195fcccd7e",
   "metadata": {},
   "outputs": [],
   "source": [
    "alpha = 21"
   ]
  },
  {
   "cell_type": "code",
   "execution_count": 51,
   "id": "3a239a39-46b1-4476-931e-50cc10963626",
   "metadata": {},
   "outputs": [],
   "source": [
    "# %%time\n",
    "# alphas[f'{alpha:03}'] = alpha021(c, v)"
   ]
  },
  {
   "cell_type": "code",
   "execution_count": 53,
   "id": "16088e4c-4a82-41ee-858e-590fe14cee6f",
   "metadata": {},
   "outputs": [],
   "source": [
    "# alphas[f'{alpha:03}'].to_hdf('alphas.h5', f'alphas/{alpha:03}')"
   ]
  },
  {
   "cell_type": "code",
   "execution_count": 55,
   "id": "950d6412-9a8a-42ac-9933-4f6718c91a7e",
   "metadata": {},
   "outputs": [],
   "source": [
    "# alphas[f'{alpha:03}'].value_counts()"
   ]
  },
  {
   "cell_type": "code",
   "execution_count": 57,
   "id": "2f5072ef-2c6a-4c03-b203-d625eb20dea8",
   "metadata": {},
   "outputs": [],
   "source": [
    "# g = sns.jointplot(x=f'{alpha:03}', y='ret_fwd', data=alphas);"
   ]
  },
  {
   "cell_type": "code",
   "execution_count": null,
   "id": "b8ed1927-68e7-4c86-81ca-0b55ae7ab910",
   "metadata": {},
   "outputs": [],
   "source": [
    "# mi[alpha] = get_mutual_info_score(alphas.ret_fwd, alphas[f'{alpha:03}'])"
   ]
  },
  {
   "cell_type": "code",
   "execution_count": null,
   "id": "73f39860-a4f5-4c76-a3cd-f5c8ccf15779",
   "metadata": {},
   "outputs": [],
   "source": [
    "# mi[alpha]"
   ]
  },
  {
   "cell_type": "markdown",
   "id": "7343d05f-f11a-47eb-a3c5-36dd881e629a",
   "metadata": {},
   "source": [
    "### Alpha 022"
   ]
  },
  {
   "cell_type": "code",
   "execution_count": 60,
   "id": "ff479435-d252-4e26-b671-1661340e6966",
   "metadata": {},
   "outputs": [],
   "source": [
    "def alpha022(h, c, v):\n",
    "    \"\"\"-(ts_delta(ts_corr(high, volume, 5), 5) * \n",
    "        rank(ts_std(close, 20)))\n",
    "    \"\"\"\n",
    "\n",
    "    return (ts_delta(ts_corr(h, v, 5)\n",
    "                     .replace([-np.inf,\n",
    "                               np.inf],\n",
    "                              np.nan), 5)\n",
    "            .mul(rank(ts_std(c, 20)))\n",
    "            .mul(-1)\n",
    "            .stack('ticker')\n",
    "            .swaplevel())"
   ]
  },
  {
   "cell_type": "code",
   "execution_count": 62,
   "id": "6f9e4d8d-06b2-4862-9649-b5a4893cb8e6",
   "metadata": {},
   "outputs": [],
   "source": [
    "alpha = 22"
   ]
  },
  {
   "cell_type": "code",
   "execution_count": 64,
   "id": "5b1d7940-7320-46dc-ab2e-fd00298901da",
   "metadata": {},
   "outputs": [],
   "source": [
    "# %%time\n",
    "# alphas[f'{alpha:03}'] = alpha022(h, c, v)"
   ]
  },
  {
   "cell_type": "code",
   "execution_count": 66,
   "id": "ab1b34c5-3ed2-4161-837b-06c1c14ca68c",
   "metadata": {},
   "outputs": [],
   "source": [
    "# alphas[f'{alpha:03}'].to_hdf('alphas.h5', f'alphas/{alpha:03}')"
   ]
  },
  {
   "cell_type": "code",
   "execution_count": 68,
   "id": "a0fe82f2-21ea-4de4-b335-6fe946bacc33",
   "metadata": {},
   "outputs": [],
   "source": [
    "# g = sns.jointplot(x=f'{alpha:03}', y='ret_fwd', data=alphas);"
   ]
  },
  {
   "cell_type": "code",
   "execution_count": 70,
   "id": "5f2e285b-979a-45d9-bfe4-64eba8a9c11d",
   "metadata": {},
   "outputs": [],
   "source": [
    "# mi[alpha] = get_mutual_info_score(alphas.ret_fwd, alphas[f'{alpha:03}'])"
   ]
  },
  {
   "cell_type": "code",
   "execution_count": 72,
   "id": "15bff8e4-fac7-423c-a7ae-7d57fb0efc53",
   "metadata": {},
   "outputs": [],
   "source": [
    "# mi[alpha]"
   ]
  },
  {
   "cell_type": "code",
   "execution_count": 74,
   "id": "be9c7e54-02f2-48c7-ade3-b03889b98ef6",
   "metadata": {},
   "outputs": [],
   "source": [
    "# pd.Series(mi).to_csv('mi.csv')"
   ]
  },
  {
   "cell_type": "markdown",
   "id": "774a924f-faf7-4e12-a5d0-c5c2e6d46f61",
   "metadata": {},
   "source": [
    "### Alpha 023"
   ]
  },
  {
   "cell_type": "code",
   "execution_count": 82,
   "id": "161295f0-7a7c-4513-9de6-a15e766e65fe",
   "metadata": {},
   "outputs": [],
   "source": [
    "def alpha023(h, c):\n",
    "    \"\"\"((ts_mean(high, 20) < high)\n",
    "            ? (-1 * ts_delta(high, 2))\n",
    "            : 0\n",
    "        \"\"\"\n",
    "\n",
    "    return (ts_delta(h, 2)\n",
    "            .mul(-1)\n",
    "            .where(ts_mean(h, 20) < h, 0)\n",
    "            .stack('ticker')\n",
    "            .swaplevel())"
   ]
  },
  {
   "cell_type": "code",
   "execution_count": 85,
   "id": "11a3b076-6b5c-4335-836e-59f9d319cfee",
   "metadata": {},
   "outputs": [],
   "source": [
    "alpha = 23"
   ]
  },
  {
   "cell_type": "code",
   "execution_count": 87,
   "id": "49d18883-5b92-4c0b-a2f6-839f43453fd6",
   "metadata": {},
   "outputs": [],
   "source": [
    "# %%time\n",
    "# alphas[f'{alpha:03}'] = alpha023(h, c)"
   ]
  },
  {
   "cell_type": "code",
   "execution_count": null,
   "id": "781d7b55-d20c-46c5-b95c-8cd1c8b03b44",
   "metadata": {},
   "outputs": [],
   "source": [
    "alphas[f'{alpha:03}'].to_hdf('alphas.h5', f'alphas/{alpha:03}')"
   ]
  },
  {
   "cell_type": "code",
   "execution_count": 102,
   "id": "78e47136-79e0-4639-a894-ec94b2603b77",
   "metadata": {},
   "outputs": [],
   "source": [
    "# q = 0.025\n",
    "\n",
    "# sns.distplot(alphas[f'{alpha:03}'].clip(lower=alphas[f'{alpha:03}'].quantile(q),\n",
    "#                                         upper=alphas[f'{alpha:03}'].quantile(1-q)));"
   ]
  },
  {
   "cell_type": "code",
   "execution_count": 104,
   "id": "2016b362-4049-432a-aa8e-d97fea1cf9e5",
   "metadata": {},
   "outputs": [],
   "source": [
    "# g = sns.jointplot(x=f'{alpha:03}', y='ret_fwd', data=alphas);"
   ]
  },
  {
   "cell_type": "code",
   "execution_count": 106,
   "id": "f60daf81-ec18-4201-9354-ab91f9b34738",
   "metadata": {},
   "outputs": [],
   "source": [
    "# mi[alpha] = get_mutual_info_score(alphas.ret_fwd, alphas[f'{alpha:03}'])"
   ]
  },
  {
   "cell_type": "code",
   "execution_count": 108,
   "id": "0169e6e7-30fc-4976-aa02-786d3ba7def7",
   "metadata": {},
   "outputs": [],
   "source": [
    "# mi[alpha]"
   ]
  },
  {
   "cell_type": "markdown",
   "id": "fe6c6f6b-9fb2-43b0-85c1-41492d0d0137",
   "metadata": {},
   "source": [
    "### Alpha 024"
   ]
  },
  {
   "cell_type": "code",
   "execution_count": 111,
   "id": "b15dec07-d7ae-4fc8-af15-f7d66825799c",
   "metadata": {},
   "outputs": [],
   "source": [
    "def alpha024(c):\n",
    "    \"\"\"((((ts_delta((ts_mean(close, 100)), 100) / ts_lag(close, 100)) <= 0.05)  \n",
    "        ? (-1 * (close - ts_min(close, 100))) \n",
    "        : (-1 * ts_delta(close, 3)))\n",
    "    \"\"\"\n",
    "    cond = ts_delta(ts_mean(c, 100), 100) / ts_lag(c, 100) <= 0.05\n",
    "\n",
    "    return (c.sub(ts_min(c, 100)).mul(-1).where(cond, -ts_delta(c, 3))\n",
    "            .stack('ticker')\n",
    "            .swaplevel())"
   ]
  },
  {
   "cell_type": "code",
   "execution_count": 113,
   "id": "1661fc39-3a89-4d33-a992-7d624e43d3b2",
   "metadata": {},
   "outputs": [],
   "source": [
    "alpha = 24"
   ]
  },
  {
   "cell_type": "code",
   "execution_count": 115,
   "id": "c31749c3-23b0-494a-8a19-0461f3a26de8",
   "metadata": {},
   "outputs": [],
   "source": [
    "# %%time\n",
    "# alphas[f'{alpha:03}'] = alpha024(c)"
   ]
  },
  {
   "cell_type": "code",
   "execution_count": 117,
   "id": "c6672d22-3752-4b1d-a273-d81597c4df3c",
   "metadata": {},
   "outputs": [],
   "source": [
    "# alphas[f'{alpha:03}'].to_hdf('alphas.h5', f'alphas/{alpha:03}')"
   ]
  },
  {
   "cell_type": "code",
   "execution_count": 119,
   "id": "c5d707ae-9da9-4179-8e9e-743e2ec830b3",
   "metadata": {},
   "outputs": [],
   "source": [
    "# q = 0.01\n",
    "\n",
    "# sns.distplot(alphas[f'{alpha:03}'].clip(lower=alphas[f'{alpha:03}'].quantile(q),\n",
    "#                                         upper=alphas[f'{alpha:03}'].quantile(1-q)));"
   ]
  },
  {
   "cell_type": "code",
   "execution_count": 121,
   "id": "875c445a-44ae-46f2-99c2-ebb563be2e4f",
   "metadata": {},
   "outputs": [],
   "source": [
    "# g = sns.jointplot(x=f'{alpha:03}', y='ret_fwd', data=alphas);"
   ]
  },
  {
   "cell_type": "code",
   "execution_count": 123,
   "id": "658b3d25-9e6f-4308-80b0-7a6b158c8318",
   "metadata": {},
   "outputs": [],
   "source": [
    "# mi[alpha] = get_mutual_info_score(alphas.ret_fwd, alphas[f'{alpha:03}'])"
   ]
  },
  {
   "cell_type": "code",
   "execution_count": 139,
   "id": "d0b8811f-42b4-4f6c-bdd5-23f8040e0687",
   "metadata": {},
   "outputs": [],
   "source": [
    "# mi[alpha]"
   ]
  },
  {
   "cell_type": "markdown",
   "id": "372fdcc4-4e72-417d-9a1a-b12499c0a768",
   "metadata": {},
   "source": [
    "### Alpha 025"
   ]
  },
  {
   "cell_type": "code",
   "execution_count": 142,
   "id": "e82a3c8d-53bc-477c-855a-94b7080a00dc",
   "metadata": {},
   "outputs": [],
   "source": [
    "def alpha025(h, c, r, vwap, adv20):\n",
    "    \"\"\"rank((-1 * returns) * adv20 * vwap * (high - close))\"\"\"\n",
    "    return (rank(-r.mul(adv20)\n",
    "                 .mul(vwap)\n",
    "                 .mul(h.sub(c)))\n",
    "            .stack('ticker')\n",
    "            .swaplevel())"
   ]
  },
  {
   "cell_type": "code",
   "execution_count": 144,
   "id": "13e12ca7-b38b-4f43-a93e-fc1bf6f59e9b",
   "metadata": {},
   "outputs": [],
   "source": [
    "alpha = 25"
   ]
  },
  {
   "cell_type": "code",
   "execution_count": 146,
   "id": "87596a07-bd22-44c6-86c1-eab87421fa12",
   "metadata": {},
   "outputs": [],
   "source": [
    "# %%time\n",
    "# alphas[f'{alpha:03}'] = alpha025(h, c, r, vwap, adv20)"
   ]
  },
  {
   "cell_type": "code",
   "execution_count": 148,
   "id": "1472c097-7bd3-4eb7-a7e5-651729d7951d",
   "metadata": {},
   "outputs": [],
   "source": [
    "# alphas[f'{alpha:03}'].to_hdf('alphas.h5', f'alphas/{alpha:03}')"
   ]
  },
  {
   "cell_type": "code",
   "execution_count": 150,
   "id": "181b587b-7fb8-4381-8f2d-db2b9c7ba07f",
   "metadata": {},
   "outputs": [],
   "source": [
    "# sns.distplot(alphas[f'{alpha:03}']);"
   ]
  },
  {
   "cell_type": "code",
   "execution_count": 152,
   "id": "25cdfed5-d015-4064-b67d-f6b13d6142e5",
   "metadata": {},
   "outputs": [],
   "source": [
    "# g = sns.jointplot(x=f'{alpha:03}', y='ret_fwd', data=alphas);"
   ]
  },
  {
   "cell_type": "code",
   "execution_count": 154,
   "id": "b560e815-66ef-478e-a18e-6628ece1fcfc",
   "metadata": {},
   "outputs": [],
   "source": [
    "# mi[alpha] = get_mutual_info_score(alphas.ret_fwd, alphas[f'{alpha:03}'])"
   ]
  },
  {
   "cell_type": "code",
   "execution_count": 156,
   "id": "3cac7dfc-ee55-4290-8d47-02f36eb99b41",
   "metadata": {},
   "outputs": [],
   "source": [
    "# mi[alpha]"
   ]
  },
  {
   "cell_type": "code",
   "execution_count": 160,
   "id": "3a7d7ba4-1d89-4813-8b5c-1ddda112ad48",
   "metadata": {},
   "outputs": [],
   "source": [
    "# pd.Series(mi).to_csv('mi.csv')"
   ]
  },
  {
   "cell_type": "markdown",
   "id": "4ffadd6d-07cf-47b0-a26e-642cd1092fbd",
   "metadata": {},
   "source": [
    "### Alpha 026"
   ]
  },
  {
   "cell_type": "code",
   "execution_count": 185,
   "id": "85bfbe1e-2dc7-4e09-9885-05665b6fcd06",
   "metadata": {},
   "outputs": [],
   "source": [
    "def alpha026(h, v):\n",
    "    \"\"\"(-1 * ts_max(ts_corr(ts_rank(volume, 5), ts_rank(high, 5), 5), 3))\"\"\"\n",
    "    return (ts_max(ts_corr(ts_rank(v, 5), \n",
    "                           ts_rank(h, 5), 5)\n",
    "                   .replace([-np.inf, np.inf], np.nan), 3)\n",
    "            .mul(-1)\n",
    "            .stack('ticker')\n",
    "            .swaplevel())"
   ]
  },
  {
   "cell_type": "code",
   "execution_count": 187,
   "id": "0015ce07-023a-4906-a4d7-a49c375d467c",
   "metadata": {},
   "outputs": [],
   "source": [
    "alpha = 26"
   ]
  },
  {
   "cell_type": "code",
   "execution_count": 189,
   "id": "5e1d3217-5c70-49b7-8a4a-72481dd68ec8",
   "metadata": {},
   "outputs": [],
   "source": [
    "# %%time\n",
    "# alphas[f'{alpha:03}'] = alpha026(h, v)"
   ]
  },
  {
   "cell_type": "code",
   "execution_count": 191,
   "id": "216d340f-55b3-4d8b-9954-856ea1f0caf2",
   "metadata": {},
   "outputs": [],
   "source": [
    "# alphas[f'{alpha:03}'].to_hdf('alphas.h5', f'alphas/{alpha:03}')"
   ]
  },
  {
   "cell_type": "code",
   "execution_count": 193,
   "id": "063e8774-5a06-4dd7-bff0-591cdd0ea2cc",
   "metadata": {},
   "outputs": [],
   "source": [
    "# sns.distplot(alphas[f'{alpha:03}']);"
   ]
  },
  {
   "cell_type": "code",
   "execution_count": 195,
   "id": "6015b2c9-ef36-4ce1-9438-04c5f9f81ee3",
   "metadata": {},
   "outputs": [],
   "source": [
    "# g = sns.jointplot(x=f'{alpha:03}', y='ret_fwd', data=alphas);"
   ]
  },
  {
   "cell_type": "code",
   "execution_count": 197,
   "id": "483a21ce-355a-46b9-a558-663d1e249cc3",
   "metadata": {},
   "outputs": [],
   "source": [
    "# mi[alpha] = get_mutual_info_score(alphas.ret_fwd, alphas[f'{alpha:03}'])"
   ]
  },
  {
   "cell_type": "code",
   "execution_count": 199,
   "id": "66d5c5da-9fe5-4459-ae81-a5126df60839",
   "metadata": {},
   "outputs": [],
   "source": [
    "# mi[alpha]"
   ]
  },
  {
   "cell_type": "markdown",
   "id": "5cda4107-8bb4-4862-a249-899a9aeec373",
   "metadata": {},
   "source": [
    "### Alpha 027"
   ]
  },
  {
   "cell_type": "code",
   "execution_count": 202,
   "id": "98d64851-7339-4947-ba42-bddb5878d060",
   "metadata": {},
   "outputs": [],
   "source": [
    "def alpha027(v, vwap):\n",
    "    \"\"\"((0.5 < rank(ts_mean(ts_corr(rank(volume), rank(vwap), 6), 2))) \n",
    "            ? -1\n",
    "            : 1)\"\"\"\n",
    "    cond = rank(ts_mean(ts_corr(rank(v),\n",
    "                                rank(vwap), 6), 2))\n",
    "    alpha = cond.notnull().astype(float)\n",
    "    return (alpha.where(cond <= 0.5, -alpha)\n",
    "            .stack('ticker')\n",
    "            .swaplevel())"
   ]
  },
  {
   "cell_type": "code",
   "execution_count": 204,
   "id": "e179b28c-9729-4236-9562-b9174c81e905",
   "metadata": {},
   "outputs": [],
   "source": [
    "alpha = 27"
   ]
  },
  {
   "cell_type": "code",
   "execution_count": 210,
   "id": "79992fa0-04a5-4546-bfbf-fcd47ecdb090",
   "metadata": {},
   "outputs": [],
   "source": [
    "# %%time\n",
    "# alphas[f'{alpha:03}'] = alpha027(v, vwap)"
   ]
  },
  {
   "cell_type": "code",
   "execution_count": 212,
   "id": "abbfa34c-7a67-4b9d-a6f6-7fdff5f7b3d6",
   "metadata": {},
   "outputs": [],
   "source": [
    "# alphas[f'{alpha:03}'].to_hdf('alphas.h5', f'alphas/{alpha:03}')"
   ]
  },
  {
   "cell_type": "code",
   "execution_count": 214,
   "id": "1b1f3873-4baf-41f2-ba06-b402ccb1a74d",
   "metadata": {},
   "outputs": [],
   "source": [
    "# sns.distplot(alphas[f'{alpha:03}']);"
   ]
  },
  {
   "cell_type": "code",
   "execution_count": 216,
   "id": "07c4598f-9e19-4249-b1ea-418a62fc9a6c",
   "metadata": {},
   "outputs": [],
   "source": [
    "# g = sns.jointplot(x=f'{alpha:03}', y='ret_fwd', data=alphas);"
   ]
  },
  {
   "cell_type": "code",
   "execution_count": 218,
   "id": "1dc29a9f-eb90-4ab6-ab33-a8d8c7db350d",
   "metadata": {},
   "outputs": [],
   "source": [
    "# mi[alpha] = get_mutual_info_score(alphas.ret_fwd, alphas[f'{alpha:03}'])"
   ]
  },
  {
   "cell_type": "code",
   "execution_count": 220,
   "id": "275a4671-faf2-44fe-a3b7-a4ee8bd9d5f6",
   "metadata": {},
   "outputs": [],
   "source": [
    "# mi[alpha]"
   ]
  },
  {
   "cell_type": "markdown",
   "id": "d8621db9-3a11-425c-9a88-342d3ff20059",
   "metadata": {},
   "source": [
    "### Alpha 028"
   ]
  },
  {
   "cell_type": "code",
   "execution_count": 223,
   "id": "3d13a4ac-47f4-4293-aae2-40d26e2cf6ac",
   "metadata": {},
   "outputs": [],
   "source": [
    "def alpha028(h, l, c, v, adv20):\n",
    "    \"\"\"scale(((ts_corr(adv20, low, 5) + (high + low) / 2) - close))\"\"\"\n",
    "    return (scale(ts_corr(adv20, l, 5)\n",
    "                  .replace([-np.inf, np.inf], 0)\n",
    "                  .add(h.add(l).div(2).sub(c)))\n",
    "            .stack('ticker')\n",
    "            .swaplevel())"
   ]
  },
  {
   "cell_type": "code",
   "execution_count": 225,
   "id": "86c94055-34bc-4530-8e78-9e06bd5b39b1",
   "metadata": {},
   "outputs": [],
   "source": [
    "alpha = 28"
   ]
  },
  {
   "cell_type": "code",
   "execution_count": 227,
   "id": "dd81d2e2-09f4-479e-b535-62a151efed6a",
   "metadata": {},
   "outputs": [],
   "source": [
    "# %%time\n",
    "# alphas[f'{alpha:03}'] = alpha028(h, l, c, v, adv20)"
   ]
  },
  {
   "cell_type": "code",
   "execution_count": 229,
   "id": "8343362a-84ac-4d94-8014-c496d06996b3",
   "metadata": {},
   "outputs": [],
   "source": [
    "# alphas[f'{alpha:03}'].to_hdf('alphas.h5', f'alphas/{alpha:03}')"
   ]
  },
  {
   "cell_type": "code",
   "execution_count": 240,
   "id": "c07d861d-ca08-4e73-b903-a8fb1364db2b",
   "metadata": {},
   "outputs": [],
   "source": [
    "# sns.distplot(alphas[f'{alpha:03}']);"
   ]
  },
  {
   "cell_type": "code",
   "execution_count": 242,
   "id": "370ee736-faae-4c81-9e45-8edef394acd6",
   "metadata": {},
   "outputs": [],
   "source": [
    "# g = sns.jointplot(x=f'{alpha:03}', y='ret_fwd', data=alphas);"
   ]
  },
  {
   "cell_type": "code",
   "execution_count": 244,
   "id": "25940e84-4a7a-4ea9-ac60-4fcacaa4a3c1",
   "metadata": {},
   "outputs": [],
   "source": [
    "# mi[alpha] = get_mutual_info_score(alphas.ret_fwd, alphas[f'{alpha:03}'])"
   ]
  },
  {
   "cell_type": "code",
   "execution_count": 246,
   "id": "220f880f-50d7-4599-bba3-543de1f0ca28",
   "metadata": {},
   "outputs": [],
   "source": [
    "# mi[alpha]"
   ]
  },
  {
   "cell_type": "code",
   "execution_count": 250,
   "id": "816f3e1f-8fc0-4859-b946-e9d31e0c4867",
   "metadata": {},
   "outputs": [],
   "source": [
    "# pd.Series(mi).to_csv('mi.csv')"
   ]
  },
  {
   "cell_type": "markdown",
   "id": "e964b23d-7d62-4a23-a76b-2a05352c9369",
   "metadata": {},
   "source": [
    "### Alpha 029"
   ]
  },
  {
   "cell_type": "code",
   "execution_count": 253,
   "id": "3e1fec3b-9693-41ec-999c-514e4222f0b5",
   "metadata": {},
   "outputs": [],
   "source": [
    "def alpha029(c, r):\n",
    "    \"\"\"(ts_min(ts_product(rank(rank(scale(log(ts_sum(ts_min(rank(rank((-1 * \n",
    "            rank(ts_delta((close - 1),5))))), 2), 1))))), 1), 5)\n",
    "        + ts_rank(ts_lag((-1 * returns), 6), 5))\n",
    "    \"\"\"\n",
    "    return (ts_min(rank(rank(scale(log(ts_sum(rank(rank(-rank(ts_delta((c - 1), 5)))), 2))))), 5)\n",
    "            .add(ts_rank(ts_lag((-1 * r), 6), 5))\n",
    "            .stack('ticker')\n",
    "            .swaplevel())"
   ]
  },
  {
   "cell_type": "code",
   "execution_count": 273,
   "id": "23a1487b-22d3-45b4-888a-f7dd4cbd872e",
   "metadata": {},
   "outputs": [],
   "source": [
    "alpha = 29"
   ]
  },
  {
   "cell_type": "code",
   "execution_count": 275,
   "id": "06c9b65c-3e61-40c8-b9ce-4add359b0202",
   "metadata": {},
   "outputs": [],
   "source": [
    "# %%time\n",
    "# alphas[f'{alpha:03}'] = alpha029(c, r)"
   ]
  },
  {
   "cell_type": "code",
   "execution_count": 277,
   "id": "9ce2ccbe-cf4b-4848-87a6-8327dd19e679",
   "metadata": {},
   "outputs": [],
   "source": [
    "# alphas[f'{alpha:03}'].to_hdf('alphas.h5', f'alphas/{alpha:03}')"
   ]
  },
  {
   "cell_type": "code",
   "execution_count": 279,
   "id": "4cc50c4a-0baa-4447-869d-12042fa33af1",
   "metadata": {},
   "outputs": [],
   "source": [
    "# sns.distplot(alphas[f'{alpha:03}']);"
   ]
  },
  {
   "cell_type": "code",
   "execution_count": 281,
   "id": "8597cff9-70ce-4be3-8177-c647538af6ca",
   "metadata": {},
   "outputs": [],
   "source": [
    "# g = sns.jointplot(x=f'{alpha:03}', y='ret_fwd', data=alphas);"
   ]
  },
  {
   "cell_type": "code",
   "execution_count": 283,
   "id": "2d59b028-cdcb-47c6-a455-aa725d507e4e",
   "metadata": {},
   "outputs": [],
   "source": [
    "# mi[alpha] = get_mutual_info_score(alphas.ret_fwd, alphas[f'{alpha:03}'])"
   ]
  },
  {
   "cell_type": "code",
   "execution_count": 285,
   "id": "5923b5f8-f97d-4df4-8dd4-0bdb0b21be51",
   "metadata": {},
   "outputs": [],
   "source": [
    "# mi[alpha]"
   ]
  },
  {
   "cell_type": "markdown",
   "id": "62a8eee2-45d7-47b2-b3ed-09491d582de2",
   "metadata": {},
   "source": [
    "### Alpha 030"
   ]
  },
  {
   "cell_type": "code",
   "execution_count": 288,
   "id": "cfad8ce8-c4bc-4824-bbf8-072bfa57ac3f",
   "metadata": {},
   "outputs": [],
   "source": [
    "def alpha030(c, v):\n",
    "    \"\"\"(((1.0 - rank(((sign((close - ts_lag(close, 1))) +\n",
    "            sign((ts_lag(close, 1) - ts_lag(close, 2)))) +\n",
    "            sign((ts_lag(close, 2) - ts_lag(close, 3)))))) *\n",
    "            ts_sum(volume, 5)) / ts_sum(volume, 20))\"\"\"\n",
    "    close_diff = ts_delta(c, 1)\n",
    "    return (rank(sign(close_diff)\n",
    "                 .add(sign(ts_lag(close_diff, 1)))\n",
    "                 .add(sign(ts_lag(close_diff, 2))))\n",
    "            .mul(-1).add(1)\n",
    "            .mul(ts_sum(v, 5))\n",
    "            .div(ts_sum(v, 20))\n",
    "            .stack('ticker')\n",
    "            .swaplevel())"
   ]
  },
  {
   "cell_type": "code",
   "execution_count": 292,
   "id": "e3113cc5-b1f4-4fda-8462-65228a5fe928",
   "metadata": {},
   "outputs": [],
   "source": [
    "alpha = 30"
   ]
  },
  {
   "cell_type": "code",
   "execution_count": 294,
   "id": "a6f51cc9-c17d-4841-b068-7e784fda2263",
   "metadata": {},
   "outputs": [],
   "source": [
    "# %%time\n",
    "# alphas[f'{alpha:03}'] = alpha030(c, v)"
   ]
  },
  {
   "cell_type": "code",
   "execution_count": 296,
   "id": "6f6e6c10-d393-4718-85fd-b4b64460850d",
   "metadata": {},
   "outputs": [],
   "source": [
    "# alphas[f'{alpha:03}'].to_hdf('alphas.h5', f'alphas/{alpha:03}')"
   ]
  },
  {
   "cell_type": "code",
   "execution_count": 298,
   "id": "63f87b53-ea3f-41e8-8287-1c056a56fe2c",
   "metadata": {},
   "outputs": [],
   "source": [
    "# sns.distplot(alphas[f'{alpha:03}']);"
   ]
  },
  {
   "cell_type": "code",
   "execution_count": 300,
   "id": "2ed22b7f-5bbe-4667-af37-360ff1c2c7a8",
   "metadata": {},
   "outputs": [],
   "source": [
    "# g = sns.jointplot(x=f'{alpha:03}', y='ret_fwd', data=alphas);"
   ]
  },
  {
   "cell_type": "code",
   "execution_count": 302,
   "id": "94cb49ac-dcbb-4f39-a396-19344c51e251",
   "metadata": {},
   "outputs": [],
   "source": [
    "# mi[alpha] = get_mutual_info_score(alphas.ret_fwd, alphas[f'{alpha:03}'])"
   ]
  },
  {
   "cell_type": "code",
   "execution_count": 304,
   "id": "bfc80de9-d6cf-4c23-8c24-25bf8a9596fc",
   "metadata": {},
   "outputs": [],
   "source": [
    "# mi[alpha]"
   ]
  },
  {
   "cell_type": "markdown",
   "id": "02e50c16-9058-4934-926d-2b20f135aeb3",
   "metadata": {},
   "source": [
    "### Alpha 031"
   ]
  },
  {
   "cell_type": "code",
   "execution_count": 82,
   "id": "78e07b98-b3ae-4b17-b013-0673076593cc",
   "metadata": {},
   "outputs": [],
   "source": [
    "def alpha031(l, c, adv20):\n",
    "    \"\"\"((rank(rank(rank(ts_weighted_mean((-1 * rank(rank(ts_delta(close, 10)))), 10)))) +\n",
    "        rank((-1 * ts_delta(close, 3)))) + sign(scale(ts_corr(adv20, low, 12))))\n",
    "    \"\"\"\n",
    "    return (rank(rank(rank(ts_weighted_mean(rank(rank(ts_delta(c, 10))).mul(-1), 10))))\n",
    "            .add(rank(ts_delta(c, 3).mul(-1)))\n",
    "            .add(sign(scale(ts_corr(adv20, l, 12)\n",
    "                            .replace([-np.inf, np.inf],\n",
    "                                     np.nan))))\n",
    "            .stack('ticker')\n",
    "            .swaplevel())"
   ]
  },
  {
   "cell_type": "code",
   "execution_count": 84,
   "id": "2d4b9352-24a1-415b-8daa-02b71a922d3a",
   "metadata": {},
   "outputs": [],
   "source": [
    "alpha = 31"
   ]
  },
  {
   "cell_type": "code",
   "execution_count": null,
   "id": "009abf83-68ba-4c7a-8ae7-db1df22753da",
   "metadata": {},
   "outputs": [],
   "source": [
    "%%time\n",
    "alphas[f'{alpha:03}'] = alpha031(l, c, adv20)"
   ]
  },
  {
   "cell_type": "code",
   "execution_count": 90,
   "id": "f9899f34-8976-40e0-be4c-fc9ceb718b4d",
   "metadata": {},
   "outputs": [],
   "source": [
    "# alphas[f'{alpha:03}'].to_hdf('alphas.h5', f'alphas/{alpha:03}')"
   ]
  },
  {
   "cell_type": "code",
   "execution_count": 92,
   "id": "21f99d41-78c7-4596-a049-73c526ed43c6",
   "metadata": {},
   "outputs": [],
   "source": [
    "# sns.distplot(alphas[f'{alpha:03}']);"
   ]
  },
  {
   "cell_type": "code",
   "execution_count": 94,
   "id": "1268ee44-4e26-47e1-b936-390771f898e9",
   "metadata": {},
   "outputs": [],
   "source": [
    "# g = sns.jointplot(x=f'{alpha:03}', y='ret_fwd', data=alphas);"
   ]
  },
  {
   "cell_type": "markdown",
   "id": "d1499714-4128-4a2b-826f-d544cde03e82",
   "metadata": {},
   "source": [
    "### Alpha 032"
   ]
  },
  {
   "cell_type": "code",
   "execution_count": 97,
   "id": "b291709d-2357-46c8-88d4-7814077b3195",
   "metadata": {},
   "outputs": [],
   "source": [
    "def alpha032(c, vwap):\n",
    "    \"\"\"scale(ts_mean(close, 7) - close) + \n",
    "        (20 * scale(ts_corr(vwap, ts_lag(close, 5),230)))\"\"\"\n",
    "    return (scale(ts_mean(c, 7).sub(c))\n",
    "            .add(20 * scale(ts_corr(vwap,\n",
    "                                    ts_lag(c, 5), 230)))\n",
    "            .stack('ticker')\n",
    "            .swaplevel())"
   ]
  },
  {
   "cell_type": "code",
   "execution_count": 99,
   "id": "91e17f8d-21c3-4ba7-b10e-0e40bf47b249",
   "metadata": {},
   "outputs": [],
   "source": [
    "alpha = 32"
   ]
  },
  {
   "cell_type": "code",
   "execution_count": 101,
   "id": "87b7c139-d504-44a8-92f0-f44fdf639316",
   "metadata": {},
   "outputs": [],
   "source": [
    "# %%time\n",
    "# alphas[f'{alpha:03}'] = alpha032(c, vwap)"
   ]
  },
  {
   "cell_type": "code",
   "execution_count": 103,
   "id": "d31fcb2d-93e0-4e1c-ad01-32b579c23e76",
   "metadata": {},
   "outputs": [],
   "source": [
    "# alphas[f'{alpha:03}'].to_hdf('alphas.h5', f'alphas/{alpha:03}')"
   ]
  },
  {
   "cell_type": "code",
   "execution_count": 105,
   "id": "a35a2535-f637-4d6d-a441-83f3ce60d930",
   "metadata": {},
   "outputs": [],
   "source": [
    "# sns.distplot(alphas[f'{alpha:03}']);"
   ]
  },
  {
   "cell_type": "code",
   "execution_count": 107,
   "id": "e37a43a3-cfbf-41c9-af24-67172fa4f31e",
   "metadata": {},
   "outputs": [],
   "source": [
    "# g = sns.jointplot(x=f'{alpha:03}', y='ret_fwd', data=alphas);"
   ]
  },
  {
   "cell_type": "code",
   "execution_count": 109,
   "id": "19137626-7e64-4fd0-a12c-7e8286e00de9",
   "metadata": {},
   "outputs": [],
   "source": [
    "# mi[alpha] = get_mutual_info_score(alphas.ret_fwd, \n",
    "#                                   alphas[f'{alpha:03}'])"
   ]
  },
  {
   "cell_type": "code",
   "execution_count": 111,
   "id": "5b34ebc2-a21c-4a54-95d0-52187289525f",
   "metadata": {},
   "outputs": [],
   "source": [
    "# mi[alpha]"
   ]
  },
  {
   "cell_type": "markdown",
   "id": "b14b7be1-2319-46cc-b415-b17b6a092f96",
   "metadata": {},
   "source": [
    "### Alpha 033"
   ]
  },
  {
   "cell_type": "code",
   "execution_count": 114,
   "id": "d46dcbe3-cf4a-49f2-bb64-bc8456cce36c",
   "metadata": {},
   "outputs": [],
   "source": [
    "def alpha033(o, c):\n",
    "    \"\"\"rank(-(1 - (open / close)))\"\"\"\n",
    "    return (rank(o.div(c).mul(-1).add(1).mul(-1))\n",
    "            .stack('ticker')\n",
    "            .swaplevel())"
   ]
  },
  {
   "cell_type": "code",
   "execution_count": 116,
   "id": "1dd22c16-07b7-4b6d-99e0-3e00890e9199",
   "metadata": {},
   "outputs": [],
   "source": [
    "alpha = 33"
   ]
  },
  {
   "cell_type": "code",
   "execution_count": 118,
   "id": "ca0fb847-f68c-4c79-ac7b-023e0ed15828",
   "metadata": {},
   "outputs": [],
   "source": [
    "# %%time\n",
    "# alphas[f'{alpha:03}'] = alpha033(o, c)"
   ]
  },
  {
   "cell_type": "code",
   "execution_count": 120,
   "id": "ae4fa1e9-ac3e-4ec8-9f34-ea70456aebe2",
   "metadata": {},
   "outputs": [],
   "source": [
    "# alphas[f'{alpha:03}'].to_hdf('alphas.h5', f'alphas/{alpha:03}')"
   ]
  },
  {
   "cell_type": "code",
   "execution_count": 122,
   "id": "ed9eb035-0180-4ee2-bec1-bd5b6957bb93",
   "metadata": {},
   "outputs": [],
   "source": [
    "# sns.distplot(alphas[f'{alpha:03}']);"
   ]
  },
  {
   "cell_type": "code",
   "execution_count": 124,
   "id": "492f645a-de01-4a68-aa6d-0d08ae0ad1aa",
   "metadata": {},
   "outputs": [],
   "source": [
    "# g = sns.jointplot(x=f'{alpha:03}', y='ret_fwd', data=alphas);"
   ]
  },
  {
   "cell_type": "code",
   "execution_count": 126,
   "id": "3e837a47-a246-4c2b-9407-647b06a50ec4",
   "metadata": {},
   "outputs": [],
   "source": [
    "# mi[alpha] = get_mutual_info_score(alphas.ret_fwd, alphas[f'{alpha:03}'])"
   ]
  },
  {
   "cell_type": "code",
   "execution_count": 128,
   "id": "c9bdbfe4-91c0-4e56-9a64-295c3132590d",
   "metadata": {},
   "outputs": [],
   "source": [
    "# mi[alpha]"
   ]
  },
  {
   "cell_type": "markdown",
   "id": "100f8744-7fec-4456-ae75-a37380e1d049",
   "metadata": {},
   "source": [
    "### Alpha 034"
   ]
  },
  {
   "cell_type": "code",
   "execution_count": 131,
   "id": "7345a778-19bd-4613-9806-cfbec3047583",
   "metadata": {},
   "outputs": [],
   "source": [
    "def alpha034(c, r):\n",
    "    \"\"\"rank(((1 - rank((ts_std(returns, 2) / ts_std(returns, 5)))) + (1 - rank(ts_delta(close, 1)))))\"\"\"\n",
    "\n",
    "    return (rank(rank(ts_std(r, 2).div(ts_std(r, 5))\n",
    "                      .replace([-np.inf, np.inf],\n",
    "                               np.nan))\n",
    "                 .mul(-1)\n",
    "                 .sub(rank(ts_delta(c, 1)))\n",
    "                 .add(2))\n",
    "            .stack('ticker')\n",
    "            .swaplevel())"
   ]
  },
  {
   "cell_type": "code",
   "execution_count": 133,
   "id": "be92322e-89e4-4031-b8b4-4656079d2dd0",
   "metadata": {},
   "outputs": [],
   "source": [
    "# alpha = 34"
   ]
  },
  {
   "cell_type": "code",
   "execution_count": 135,
   "id": "5351e924-e7c3-48f6-a12c-30a594bd54e9",
   "metadata": {},
   "outputs": [],
   "source": [
    "# %%time\n",
    "# alphas[f'{alpha:03}'] = alpha034(c, r)"
   ]
  },
  {
   "cell_type": "code",
   "execution_count": 137,
   "id": "b66513c9-b2bd-43f7-8774-806a05c64a8f",
   "metadata": {},
   "outputs": [],
   "source": [
    "# alphas[f'{alpha:03}'].to_hdf('alphas.h5', f'alphas/{alpha:03}')"
   ]
  },
  {
   "cell_type": "code",
   "execution_count": 139,
   "id": "1aeb0723-f1a1-4380-9ed0-86876acb4477",
   "metadata": {},
   "outputs": [],
   "source": [
    "# sns.distplot(alphas[f'{alpha:03}']);"
   ]
  },
  {
   "cell_type": "code",
   "execution_count": 141,
   "id": "19acbec2-d891-46a5-899a-38006f749d96",
   "metadata": {},
   "outputs": [],
   "source": [
    "# g = sns.jointplot(x=f'{alpha:03}', y='ret_fwd', data=alphas);"
   ]
  },
  {
   "cell_type": "code",
   "execution_count": 143,
   "id": "a89cfb94-6e90-4e60-bac2-5b1a063bb23a",
   "metadata": {},
   "outputs": [],
   "source": [
    "# mi[alpha] = get_mutual_info_score(alphas.ret_fwd, alphas[f'{alpha:03}'])"
   ]
  },
  {
   "cell_type": "code",
   "execution_count": 145,
   "id": "fc2267a2-3f92-4dcd-a716-ea4885a891ec",
   "metadata": {},
   "outputs": [],
   "source": [
    "# mi[alpha]"
   ]
  },
  {
   "cell_type": "code",
   "execution_count": 149,
   "id": "2362f36a-730d-4544-a3c9-76db09b7c2e6",
   "metadata": {},
   "outputs": [],
   "source": [
    "# pd.Series(mi).to_csv('mi.csv')"
   ]
  },
  {
   "cell_type": "markdown",
   "id": "583f549c-a353-4c97-bceb-5f37ee28d5e5",
   "metadata": {},
   "source": [
    "### Alpha 035"
   ]
  },
  {
   "cell_type": "code",
   "execution_count": 167,
   "id": "d79ca058-a470-40af-859d-f54e4eb62eef",
   "metadata": {},
   "outputs": [],
   "source": [
    "def alpha035(h, l, c, v, r):\n",
    "    \"\"\"((ts_Rank(volume, 32) *\n",
    "        (1 - ts_Rank(((close + high) - low), 16))) *\n",
    "        (1 -ts_Rank(returns, 32)))\n",
    "    \"\"\"\n",
    "    return (ts_rank(v, 32)\n",
    "            .mul(1 - ts_rank(c.add(h).sub(l), 16))\n",
    "            .mul(1 - ts_rank(r, 32))\n",
    "            .stack('ticker')\n",
    "            .swaplevel())"
   ]
  },
  {
   "cell_type": "code",
   "execution_count": 169,
   "id": "69e27477-3ca9-4343-be80-01769a1503f4",
   "metadata": {},
   "outputs": [],
   "source": [
    "alpha = 35"
   ]
  },
  {
   "cell_type": "code",
   "execution_count": 171,
   "id": "26ca7fa4-1f41-4796-ace4-897fc340a226",
   "metadata": {},
   "outputs": [],
   "source": [
    "# %%time\n",
    "# alphas[f'{alpha:03}'] = alpha035(h, l, c, v, r)"
   ]
  },
  {
   "cell_type": "code",
   "execution_count": 173,
   "id": "e8efab26-794b-4c27-af49-fe81ac226482",
   "metadata": {},
   "outputs": [],
   "source": [
    "# alphas[f'{alpha:03}'].to_hdf('alphas.h5', f'alphas/{alpha:03}')"
   ]
  },
  {
   "cell_type": "code",
   "execution_count": 175,
   "id": "5d2daebf-2a21-4d27-b0e8-016a64cca791",
   "metadata": {},
   "outputs": [],
   "source": [
    "# sns.distplot(alphas[f'{alpha:03}']);"
   ]
  },
  {
   "cell_type": "code",
   "execution_count": 177,
   "id": "32d4a641-4a38-4a44-add9-b21411472b3b",
   "metadata": {},
   "outputs": [],
   "source": [
    "# g = sns.jointplot(x=f'{alpha:03}', y='ret_fwd', data=alphas);"
   ]
  },
  {
   "cell_type": "code",
   "execution_count": 179,
   "id": "29213e58-ce87-42ac-b364-12f5a347ffa8",
   "metadata": {},
   "outputs": [],
   "source": [
    "# mi[alpha] = get_mutual_info_score(alphas.ret_fwd, alphas[f'{alpha:03}'])"
   ]
  },
  {
   "cell_type": "code",
   "execution_count": 181,
   "id": "ce5e08d6-c9b9-4a17-8171-9aefb4e3a988",
   "metadata": {},
   "outputs": [],
   "source": [
    "# mi[alpha]"
   ]
  },
  {
   "cell_type": "markdown",
   "id": "594306c2-aabd-4f71-90b3-086925d1475a",
   "metadata": {},
   "source": [
    "### Alpha 036"
   ]
  },
  {
   "cell_type": "code",
   "execution_count": null,
   "id": "509ed8f4-7b49-468d-aa9e-627ea8ab07b0",
   "metadata": {},
   "outputs": [],
   "source": []
  },
  {
   "cell_type": "code",
   "execution_count": null,
   "id": "fa14ee96-69a8-48bc-8aff-f049189066d7",
   "metadata": {},
   "outputs": [],
   "source": []
  },
  {
   "cell_type": "code",
   "execution_count": null,
   "id": "190bb6ef-f90d-41b9-a937-844c6197f57a",
   "metadata": {},
   "outputs": [],
   "source": []
  },
  {
   "cell_type": "code",
   "execution_count": null,
   "id": "296011df-0f2e-4509-ac47-5b7e7bb83d9e",
   "metadata": {},
   "outputs": [],
   "source": []
  },
  {
   "cell_type": "code",
   "execution_count": null,
   "id": "f983eeaf-9417-4f4a-b275-bfe0b21710a5",
   "metadata": {},
   "outputs": [],
   "source": []
  },
  {
   "cell_type": "code",
   "execution_count": null,
   "id": "cfd515fc-ce5c-4dba-91dd-a3f36ea8aa06",
   "metadata": {},
   "outputs": [],
   "source": []
  },
  {
   "cell_type": "code",
   "execution_count": null,
   "id": "c012cf75-ea81-49aa-b813-36924527c5bb",
   "metadata": {},
   "outputs": [],
   "source": []
  },
  {
   "cell_type": "code",
   "execution_count": null,
   "id": "afd0d8eb-cec5-4522-adde-eb6a378d58a2",
   "metadata": {},
   "outputs": [],
   "source": []
  },
  {
   "cell_type": "code",
   "execution_count": null,
   "id": "f952454b-07f9-4a30-a94a-b7ca4549b1ae",
   "metadata": {},
   "outputs": [],
   "source": []
  },
  {
   "cell_type": "code",
   "execution_count": null,
   "id": "f23f5767-3409-44d5-b9c3-3102ca237187",
   "metadata": {},
   "outputs": [],
   "source": []
  },
  {
   "cell_type": "code",
   "execution_count": null,
   "id": "20cbb017-bd4a-46ec-9174-e3fef7ff1bbc",
   "metadata": {},
   "outputs": [],
   "source": []
  },
  {
   "cell_type": "code",
   "execution_count": null,
   "id": "f329d4e4-4c88-49e8-9c90-6b83dc410a83",
   "metadata": {},
   "outputs": [],
   "source": []
  },
  {
   "cell_type": "code",
   "execution_count": null,
   "id": "b9c6d2bb-a83c-45ff-9da7-0afd769edf57",
   "metadata": {},
   "outputs": [],
   "source": []
  },
  {
   "cell_type": "code",
   "execution_count": null,
   "id": "d71754db-0fad-47d7-8bd7-26799b273d3b",
   "metadata": {},
   "outputs": [],
   "source": []
  },
  {
   "cell_type": "code",
   "execution_count": null,
   "id": "667cd918-981a-41e6-b0de-fd83a968f7b5",
   "metadata": {},
   "outputs": [],
   "source": []
  },
  {
   "cell_type": "code",
   "execution_count": null,
   "id": "f534c9e3-31ec-4e67-a54b-f660fd149dbf",
   "metadata": {},
   "outputs": [],
   "source": []
  },
  {
   "cell_type": "code",
   "execution_count": null,
   "id": "ab2f361f-9783-4aa9-845e-7299210275fe",
   "metadata": {},
   "outputs": [],
   "source": []
  },
  {
   "cell_type": "code",
   "execution_count": null,
   "id": "3cdbacdc-c1c3-4af2-bf3f-8dd1abe0c6c7",
   "metadata": {},
   "outputs": [],
   "source": []
  },
  {
   "cell_type": "code",
   "execution_count": null,
   "id": "fa91671a-be99-4439-a3bf-c07966257141",
   "metadata": {},
   "outputs": [],
   "source": []
  },
  {
   "cell_type": "code",
   "execution_count": null,
   "id": "e0f6d36e-0b69-4938-b9ed-721ed4c47ff7",
   "metadata": {},
   "outputs": [],
   "source": []
  },
  {
   "cell_type": "code",
   "execution_count": null,
   "id": "2883c562-8743-4454-8059-177f68a5b1f9",
   "metadata": {},
   "outputs": [],
   "source": []
  },
  {
   "cell_type": "code",
   "execution_count": null,
   "id": "2117d24f-c148-4772-9fa2-e38dcd960dad",
   "metadata": {},
   "outputs": [],
   "source": []
  },
  {
   "cell_type": "code",
   "execution_count": null,
   "id": "9310d89c-b1aa-4a9b-884e-7756a5c3b2ee",
   "metadata": {},
   "outputs": [],
   "source": []
  }
 ],
 "metadata": {
  "kernelspec": {
   "display_name": "Python [conda env:MLAT] *",
   "language": "python",
   "name": "conda-env-MLAT-py"
  },
  "language_info": {
   "codemirror_mode": {
    "name": "ipython",
    "version": 3
   },
   "file_extension": ".py",
   "mimetype": "text/x-python",
   "name": "python",
   "nbconvert_exporter": "python",
   "pygments_lexer": "ipython3",
   "version": "3.12.9"
  }
 },
 "nbformat": 4,
 "nbformat_minor": 5
}
