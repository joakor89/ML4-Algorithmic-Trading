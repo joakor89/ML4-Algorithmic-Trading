{
 "cells": [
  {
   "cell_type": "markdown",
   "id": "d9ed67ec-5403-4be3-a046-fe45d070dded",
   "metadata": {},
   "source": [
    "# 101 Formulaic Alphas\n",
    "\n",
    "### Loading Libraries"
   ]
  },
  {
   "cell_type": "code",
   "execution_count": 3,
   "id": "7b429e95-e241-4821-9c6e-16b9230f7a77",
   "metadata": {},
   "outputs": [],
   "source": [
    "# Numerical Computing\n",
    "import numpy as np\n",
    "\n",
    "# Data Manipulation\n",
    "import pandas as pd\n",
    "\n",
    "# Data Visualization\n",
    "import seaborn as sns\n",
    "import matplotlib.pyplot as plt\n",
    "\n",
    "# Warnings\n",
    "import warnings\n",
    "\n",
    "# Scikit-Learn\n",
    "from sklearn.feature_selection import mutual_info_regression\n",
    "\n",
    "# SciPy\n",
    "from scipy.stats import spearmanr\n",
    "\n",
    "# Technical Analysis\n",
    "from talib import WMA"
   ]
  },
  {
   "cell_type": "code",
   "execution_count": 76,
   "id": "187b17c7-38e1-4624-912d-c381ef705546",
   "metadata": {},
   "outputs": [],
   "source": [
    "idx= pd.IndexSlice\n",
    "\n",
    "sns.set_style('whitegrid')\n",
    "\n",
    "warnings.filterwarnings('ignore')"
   ]
  },
  {
   "cell_type": "markdown",
   "id": "d26c6a5e-9efd-418d-80a5-5d64535dc193",
   "metadata": {},
   "source": [
    "### Functions\n",
    "\n",
    "#### Cross-section"
   ]
  },
  {
   "cell_type": "code",
   "execution_count": 80,
   "id": "7a1dd4fa-7288-471e-8c78-a43dd05ee963",
   "metadata": {},
   "outputs": [],
   "source": [
    "def rank(df):\n",
    "    \"\"\"Return the cross-sectional percentile rank\n",
    "\n",
    "     Args:\n",
    "         :param df: tickers in columns, sorted dates in rows.\n",
    "\n",
    "     Returns:\n",
    "         pd.DataFrame: the ranked values\n",
    "     \"\"\"\n",
    "    return df.rank(axis=1, pct=True)"
   ]
  },
  {
   "cell_type": "code",
   "execution_count": 82,
   "id": "2352c09f-e6f8-49e0-9f93-2c923ff82208",
   "metadata": {},
   "outputs": [],
   "source": [
    "def scale(df):\n",
    "    \"\"\"\n",
    "    Scaling time serie.\n",
    "    :param df: a pandas DataFrame.\n",
    "    :param k: scaling factor.\n",
    "    :return: a pandas DataFrame rescaled df such that sum(abs(df)) = k\n",
    "    \"\"\"\n",
    "    return df.div(df.abs().sum(axis=1), axis=0)"
   ]
  },
  {
   "cell_type": "markdown",
   "id": "b5d746cf-400e-4581-b06d-fb4e8f4878e2",
   "metadata": {},
   "source": [
    "#### Operators"
   ]
  },
  {
   "cell_type": "code",
   "execution_count": 85,
   "id": "e3b7b70f-c188-42a5-be33-778cd79bae7f",
   "metadata": {},
   "outputs": [],
   "source": [
    "def log(df):\n",
    "    return np.log1p(df)"
   ]
  },
  {
   "cell_type": "code",
   "execution_count": 87,
   "id": "f055da21-c4d9-4d31-8c56-5da34e12dd9d",
   "metadata": {},
   "outputs": [],
   "source": [
    "def sign(df):\n",
    "    return np.sign(df)"
   ]
  },
  {
   "cell_type": "code",
   "execution_count": 89,
   "id": "8db26004-6a51-4f50-86c1-66823f965478",
   "metadata": {},
   "outputs": [],
   "source": [
    "def power(df, exp):\n",
    "    return df.pow(exp)"
   ]
  },
  {
   "cell_type": "markdown",
   "id": "ea44c53c-4b9f-424a-a5d8-05b8562645fb",
   "metadata": {},
   "source": [
    "### Time Series\n",
    "\n",
    "#### Pandas Implementation"
   ]
  },
  {
   "cell_type": "code",
   "execution_count": 93,
   "id": "6d2f9652-8826-4e5d-9624-6b7f93b0ff3d",
   "metadata": {},
   "outputs": [],
   "source": [
    "def ts_lag(df: pd.DataFrame, t: int = 1) -> pd.DataFrame:\n",
    "    \"\"\"Return the lagged values t periods ago.\n",
    "\n",
    "    Args:\n",
    "        :param df: tickers in columns, sorted dates in rows.\n",
    "        :param t: lag\n",
    "\n",
    "    Returns:\n",
    "        pd.DataFrame: the lagged values\n",
    "    \"\"\"\n",
    "    return df.shift(t)"
   ]
  },
  {
   "cell_type": "code",
   "execution_count": 95,
   "id": "6ca22f0b-9cec-4473-9d11-f6de66898d1d",
   "metadata": {},
   "outputs": [],
   "source": [
    "def ts_delta(df, period=1):\n",
    "    \"\"\"\n",
    "    Wrapper function to estimate difference.\n",
    "    :param df: a pandas DataFrame.\n",
    "    :param period: the difference grade.\n",
    "    :return: a pandas DataFrame with today’s value minus the value 'period' days ago.\n",
    "    \"\"\"\n",
    "    return df.diff(period)"
   ]
  },
  {
   "cell_type": "code",
   "execution_count": 97,
   "id": "2626902e-8ee2-4f5b-a27b-c04ee0e07d5e",
   "metadata": {},
   "outputs": [],
   "source": [
    "def ts_sum(df: pd.DataFrame, window: int = 10) -> pd.DataFrame:\n",
    "    \"\"\"Computes the rolling ts_sum for the given window size.\n",
    "\n",
    "    Args:\n",
    "        df (pd.DataFrame): tickers in columns, dates in rows.\n",
    "        window      (int): size of rolling window.\n",
    "\n",
    "    Returns:\n",
    "        pd.DataFrame: the ts_sum over the last 'window' days.\n",
    "    \"\"\"\n",
    "    return df.rolling(window).sum()"
   ]
  },
  {
   "cell_type": "code",
   "execution_count": 99,
   "id": "be133ce2-79fc-4519-967b-e42731a30324",
   "metadata": {},
   "outputs": [],
   "source": [
    "def ts_mean(df, window=10):\n",
    "    \"\"\"Computes the rolling mean for the given window size.\n",
    "\n",
    "    Args:\n",
    "        df (pd.DataFrame): tickers in columns, dates in rows.\n",
    "        window      (int): size of rolling window.\n",
    "\n",
    "    Returns:\n",
    "        pd.DataFrame: the mean over the last 'window' days.\n",
    "    \"\"\"\n",
    "    return df.rolling(window).mean()"
   ]
  },
  {
   "cell_type": "code",
   "execution_count": 101,
   "id": "802fefe7-1252-4be1-b322-31d254c59736",
   "metadata": {},
   "outputs": [],
   "source": [
    "def ts_weighted_mean(df, period=10):\n",
    "    \"\"\"\n",
    "    Linear weighted moving average implementation.\n",
    "    :param df: a pandas DataFrame.\n",
    "    :param period: the LWMA period\n",
    "    :return: a pandas DataFrame with the LWMA.\n",
    "    \"\"\"\n",
    "    return (df.apply(lambda x: WMA(x, timeperiod=period)))"
   ]
  },
  {
   "cell_type": "code",
   "execution_count": 103,
   "id": "c27ace30-2ca7-43a4-89ef-d53c636e6b8c",
   "metadata": {},
   "outputs": [],
   "source": [
    "def ts_std(df, window=10):\n",
    "    \"\"\"\n",
    "    Wrapper function to estimate rolling standard deviation.\n",
    "    :param df: a pandas DataFrame.\n",
    "    :param window: the rolling window.\n",
    "    :return: a pandas DataFrame with the time-series min over the past 'window' days.\n",
    "    \"\"\"\n",
    "    return (df\n",
    "            .rolling(window)\n",
    "            .std())"
   ]
  },
  {
   "cell_type": "code",
   "execution_count": 105,
   "id": "f88eba09-0972-42af-9e9c-b618639bd103",
   "metadata": {},
   "outputs": [],
   "source": [
    "def ts_rank(df, window=10):\n",
    "    \"\"\"\n",
    "    Wrapper function to estimate rolling rank.\n",
    "    :param df: a pandas DataFrame.\n",
    "    :param window: the rolling window.\n",
    "    :return: a pandas DataFrame with the time-series rank over the past window days.\n",
    "    \"\"\"\n",
    "    return (df\n",
    "            .rolling(window)\n",
    "            .apply(lambda x: x.rank().iloc[-1]))"
   ]
  },
  {
   "cell_type": "code",
   "execution_count": 107,
   "id": "30e0e8a1-5c02-4290-b413-b12d60bc431d",
   "metadata": {},
   "outputs": [],
   "source": [
    "def ts_product(df, window=10):\n",
    "    \"\"\"\n",
    "    Wrapper function to estimate rolling ts_product.\n",
    "    :param df: a pandas DataFrame.\n",
    "    :param window: the rolling window.\n",
    "    :return: a pandas DataFrame with the time-series ts_product over the past 'window' days.\n",
    "    \"\"\"\n",
    "    return (df\n",
    "            .rolling(window)\n",
    "            .apply(np.prod))"
   ]
  },
  {
   "cell_type": "code",
   "execution_count": 109,
   "id": "fcb74413-1d08-40e5-843a-bca432826d05",
   "metadata": {},
   "outputs": [],
   "source": [
    "def ts_min(df, window=10):\n",
    "    \"\"\"\n",
    "    Wrapper function to estimate rolling min.\n",
    "    :param df: a pandas DataFrame.\n",
    "    :param window: the rolling window.\n",
    "    :return: a pandas DataFrame with the time-series min over the past 'window' days.\n",
    "    \"\"\"\n",
    "    return df.rolling(window).min()"
   ]
  },
  {
   "cell_type": "code",
   "execution_count": 111,
   "id": "4307e9cf-bc55-42f2-b9e2-b8202c17dde8",
   "metadata": {},
   "outputs": [],
   "source": [
    "def ts_max(df, window=10):\n",
    "    \"\"\"\n",
    "    Wrapper function to estimate rolling min.\n",
    "    :param df: a pandas DataFrame.\n",
    "    :param window: the rolling window.\n",
    "    :return: a pandas DataFrame with the time-series max over the past 'window' days.\n",
    "    \"\"\"\n",
    "    return df.rolling(window).max()"
   ]
  },
  {
   "cell_type": "code",
   "execution_count": 113,
   "id": "d076aaff-6de4-491b-af1a-f8107bb7c135",
   "metadata": {},
   "outputs": [],
   "source": [
    "def ts_argmax(df, window=10):\n",
    "    \"\"\"\n",
    "    Wrapper function to estimate which day ts_max(df, window) occurred on\n",
    "    :param df: a pandas DataFrame.\n",
    "    :param window: the rolling window.\n",
    "    :return: well.. that :)\n",
    "    \"\"\"\n",
    "    return df.rolling(window).apply(np.argmax).add(1)"
   ]
  },
  {
   "cell_type": "code",
   "execution_count": 115,
   "id": "32c9929b-8135-466e-b7b9-89ca5e3c6e49",
   "metadata": {},
   "outputs": [],
   "source": [
    "def ts_argmin(df, window=10):\n",
    "    \"\"\"\n",
    "    Wrapper function to estimate which day ts_min(df, window) occurred on\n",
    "    :param df: a pandas DataFrame.\n",
    "    :param window: the rolling window.\n",
    "    :return: well.. that :)\n",
    "    \"\"\"\n",
    "    return (df.rolling(window)\n",
    "            .apply(np.argmin)\n",
    "            .add(1))"
   ]
  },
  {
   "cell_type": "code",
   "execution_count": 117,
   "id": "8236de60-c1f8-4e73-8322-59753eef1dbc",
   "metadata": {},
   "outputs": [],
   "source": [
    "def ts_corr(x, y, window=10):\n",
    "    \"\"\"\n",
    "    Wrapper function to estimate rolling correlations.\n",
    "    :param x, y: pandas DataFrames.\n",
    "    :param window: the rolling window.\n",
    "    :return: a pandas DataFrame with the time-series min over the past 'window' days.\n",
    "    \"\"\"\n",
    "    return x.rolling(window).corr(y)"
   ]
  },
  {
   "cell_type": "code",
   "execution_count": 119,
   "id": "fd51b891-21fb-4687-a8fe-b38569951500",
   "metadata": {},
   "outputs": [],
   "source": [
    "def ts_cov(x, y, window=10):\n",
    "    \"\"\"\n",
    "    Wrapper function to estimate rolling covariance.\n",
    "    :param df: a pandas DataFrame.\n",
    "    :param window: the rolling window.\n",
    "    :return: a pandas DataFrame with the time-series min over the past 'window' days.\n",
    "    \"\"\"\n",
    "    return x.rolling(window).cov(y)"
   ]
  },
  {
   "cell_type": "markdown",
   "id": "a4cd2264-fbbb-4c71-a928-c7830fa0fe86",
   "metadata": {},
   "source": [
    "### Loading Data\n",
    "\n",
    "#### 500 Most-Traded Stocks"
   ]
  },
  {
   "cell_type": "code",
   "execution_count": 122,
   "id": "2cd99c75-8893-481c-9699-cbe90b26029a",
   "metadata": {},
   "outputs": [],
   "source": [
    "ohlcv = ['open', 'high', 'low', 'close', 'volume']\n",
    "\n",
    "data = (pd.read_hdf('data.h5', 'data/top500')\n",
    "        .loc[:, ohlcv + ['ret_01', 'sector', 'ret_fwd']]\n",
    "        .rename(columns={'ret_01': 'returns'})\n",
    "        .sort_index())"
   ]
  },
  {
   "cell_type": "code",
   "execution_count": 124,
   "id": "223cf624-b6a6-4d74-9c59-63683eb99b07",
   "metadata": {},
   "outputs": [],
   "source": [
    "adv20 = data.groupby('ticker').rolling(20).volume.mean().reset_index(0, drop=True)"
   ]
  },
  {
   "cell_type": "code",
   "execution_count": 126,
   "id": "856b0b95-9a81-4266-a9c5-66be73ef31b3",
   "metadata": {},
   "outputs": [],
   "source": [
    "data = data.assign(adv20=adv20)"
   ]
  },
  {
   "cell_type": "code",
   "execution_count": 128,
   "id": "e5ba5344-88ec-4a31-8906-cdfa35e5523e",
   "metadata": {},
   "outputs": [],
   "source": [
    "data = data.join(data.groupby('date')[ohlcv].rank(axis=1, pct=True), rsuffix='_rank')"
   ]
  },
  {
   "cell_type": "code",
   "execution_count": 130,
   "id": "9e486206-1c2c-46d8-b506-2f0db7be4e89",
   "metadata": {},
   "outputs": [],
   "source": [
    "data.info(null_counts=True)"
   ]
  },
  {
   "cell_type": "code",
   "execution_count": 132,
   "id": "9be8c204-d495-445a-b655-2e9047ce5bf1",
   "metadata": {},
   "outputs": [],
   "source": [
    "data.to_hdf('factors.h5', 'data')"
   ]
  },
  {
   "cell_type": "markdown",
   "id": "0e33fda2-4572-4e2c-a2fc-37e1a4292b7b",
   "metadata": {},
   "source": [
    "### Input Data"
   ]
  },
  {
   "cell_type": "code",
   "execution_count": 135,
   "id": "905fc205-1835-4f91-b67f-498e1957da21",
   "metadata": {},
   "outputs": [],
   "source": [
    "o = data.open.unstack('ticker')\n",
    "h = data.high.unstack('ticker')\n",
    "l = data.low.unstack('ticker')\n",
    "c = data.close.unstack('ticker')\n",
    "v = data.volume.unstack('ticker')\n",
    "\n",
    "vwap = o.add(h).add(l).add(c).div(4)\n",
    "adv20 = v.rolling(20).mean()\n",
    "\n",
    "r = data.returns.unstack('ticker')"
   ]
  },
  {
   "cell_type": "markdown",
   "id": "bad11624-6cbe-4f0d-930d-6595d243532c",
   "metadata": {},
   "source": [
    "### Evaluate Alphas"
   ]
  },
  {
   "cell_type": "code",
   "execution_count": 142,
   "id": "f87b010f-6b09-4a47-a407-9b044196a945",
   "metadata": {},
   "outputs": [],
   "source": [
    "alphas = data[['returns', 'ret_fwd']].copy()\n",
    "mi,ic = {}, {}"
   ]
  },
  {
   "cell_type": "code",
   "execution_count": 144,
   "id": "e7ef7216-b93f-427b-a401-e461509c7e06",
   "metadata": {},
   "outputs": [],
   "source": [
    "def get_mutual_info_score(returns, alpha, n=100000):\n",
    "    df = pd.DataFrame({'y': returns, 'alpha': alpha}).dropna().sample(n=n)\n",
    "    return mutual_info_regression(y=df.y, X=df[['alpha']])[0]"
   ]
  },
  {
   "cell_type": "markdown",
   "id": "ddaf8350-e530-4ef2-8df7-4fe0d5ac9084",
   "metadata": {},
   "source": [
    "### Alpha 001"
   ]
  },
  {
   "cell_type": "code",
   "execution_count": 147,
   "id": "6690bebb-eec1-4466-9e25-6da0db4ad93e",
   "metadata": {},
   "outputs": [],
   "source": [
    "def alpha001(c, r):\n",
    "    \"\"\"(rank(ts_argmax(power(((returns < 0)\n",
    "        ? ts_std(returns, 20)\n",
    "        : close), 2.), 5)) -0.5)\"\"\"\n",
    "    c[r < 0] = ts_std(r, 20)\n",
    "    return (rank(ts_argmax(power(c, 2), 5)).mul(-.5)\n",
    "            .stack().swaplevel())"
   ]
  },
  {
   "cell_type": "code",
   "execution_count": 149,
   "id": "19a8b35e-de06-4f25-a6aa-ed5a3522f9d6",
   "metadata": {},
   "outputs": [],
   "source": [
    "alpha = 1"
   ]
  },
  {
   "cell_type": "code",
   "execution_count": 153,
   "id": "021fec40-65ee-4806-86ff-278991a6ecd7",
   "metadata": {},
   "outputs": [],
   "source": [
    "%%time\n",
    "alphas[f'{alpha:03}'] = alpha001(c, r)"
   ]
  },
  {
   "cell_type": "code",
   "execution_count": 155,
   "id": "2d14fc99-22de-41be-a5f8-2e173e192f92",
   "metadata": {},
   "outputs": [],
   "source": [
    "alphas.info()"
   ]
  },
  {
   "cell_type": "code",
   "execution_count": 157,
   "id": "e79b75ef-259d-41b2-a7c0-953bfedc60c1",
   "metadata": {},
   "outputs": [],
   "source": [
    "alphas[f'{alpha:03}'].to_hdf('alphas.h5', f'alphas/{alpha:03}')"
   ]
  },
  {
   "cell_type": "code",
   "execution_count": 159,
   "id": "f37eb6bd-6f69-4194-b256-eb500c1c249e",
   "metadata": {},
   "outputs": [],
   "source": [
    "sns.distplot(alphas[f'{alpha:03}']);\n",
    "plt.show()"
   ]
  },
  {
   "cell_type": "code",
   "execution_count": 161,
   "id": "64e01589-4a10-4f0a-8c03-ab227b277b66",
   "metadata": {},
   "outputs": [],
   "source": [
    "g = sns.jointplot(x=f'{alpha:03}', y='ret_fwd', data=alphas)"
   ]
  },
  {
   "cell_type": "code",
   "execution_count": 163,
   "id": "df3879ce-14b3-44dc-a9eb-14c1ec14d1bf",
   "metadata": {},
   "outputs": [],
   "source": [
    "mi[1] = get_mutual_info_score(alphas.ret_fwd, alphas[f'{alpha:03}'])\n",
    "mi[1]"
   ]
  },
  {
   "cell_type": "markdown",
   "id": "95623672-47a5-41c0-9764-81c8d0a3ada9",
   "metadata": {},
   "source": [
    "### Alpha 002"
   ]
  },
  {
   "cell_type": "code",
   "execution_count": 166,
   "id": "7465b30b-eeef-4712-b3f1-9bf9d52a4b77",
   "metadata": {},
   "outputs": [],
   "source": [
    "def alpha002(o, c, v):\n",
    "    \"\"\"(-1 * ts_corr(rank(ts_delta(log(volume), 2)), rank(((close - open) / open)), 6))\"\"\"\n",
    "    s1 = rank(ts_delta(log(v), 2))\n",
    "    s2 = rank((c / o) - 1)\n",
    "    alpha = -ts_corr(s1, s2, 6)\n",
    "    return alpha.stack('ticker').swaplevel().replace([-np.inf, np.inf], np.nan)"
   ]
  },
  {
   "cell_type": "code",
   "execution_count": 168,
   "id": "b683382e-273c-48f8-aa56-c7ed2b12e744",
   "metadata": {},
   "outputs": [],
   "source": [
    "alpha = 2"
   ]
  },
  {
   "cell_type": "code",
   "execution_count": 170,
   "id": "953821e1-f11d-42d4-9119-ddfcf8f3d4af",
   "metadata": {},
   "outputs": [],
   "source": [
    "%%time\n",
    "alphas[f'{alpha:03}'] = alpha002(o, c, v)"
   ]
  },
  {
   "cell_type": "code",
   "execution_count": 172,
   "id": "d15bc8e1-f727-41a9-bc58-7d7ebdc5b13d",
   "metadata": {},
   "outputs": [],
   "source": [
    "alphas[f'{alpha:03}'].to_hdf('alphas.h5', f'alphas/{alpha:03}')"
   ]
  },
  {
   "cell_type": "code",
   "execution_count": 174,
   "id": "6ec1f177-6bf0-46d5-a24d-91e5c6a0ebf9",
   "metadata": {},
   "outputs": [],
   "source": [
    "sns.distplot(alphas[f'{alpha:03}']);"
   ]
  },
  {
   "cell_type": "code",
   "execution_count": 176,
   "id": "f20a0e96-3dec-4b0f-8168-a4f884f93158",
   "metadata": {},
   "outputs": [],
   "source": [
    "g = sns.jointplot(x=f'{alpha:03}', y='ret_fwd', data=alphas)"
   ]
  },
  {
   "cell_type": "code",
   "execution_count": 178,
   "id": "03947b55-79d7-4700-82c5-c61bbf5d05ce",
   "metadata": {},
   "outputs": [],
   "source": [
    "mi[alpha] = get_mutual_info_score(alphas.ret_fwd, alphas[f'{alpha:03}'])\n",
    "mi[2]"
   ]
  },
  {
   "cell_type": "markdown",
   "id": "9e89c20b-a73c-4589-9e18-5b1156a0e931",
   "metadata": {},
   "source": [
    "### Alpha 003"
   ]
  },
  {
   "cell_type": "code",
   "execution_count": 181,
   "id": "84100d0c-0ba5-4baa-991a-719025b77534",
   "metadata": {},
   "outputs": [],
   "source": [
    "def alpha003(o, v):\n",
    "    \"\"\"(-1 * ts_corr(rank(open), rank(volume), 10))\"\"\"\n",
    "\n",
    "    return (-ts_corr(rank(o), rank(v), 10)\n",
    "            .stack('ticker')\n",
    "            .swaplevel()\n",
    "            .replace([-np.inf, np.inf], np.nan))"
   ]
  },
  {
   "cell_type": "code",
   "execution_count": 183,
   "id": "cf164c5d-c6f8-4cc2-93f9-7b848305a98e",
   "metadata": {},
   "outputs": [],
   "source": [
    "alpha = 3"
   ]
  },
  {
   "cell_type": "code",
   "execution_count": 185,
   "id": "6f8b39ce-f26a-441b-9d31-0c6c9b56cc7f",
   "metadata": {},
   "outputs": [],
   "source": [
    "%%time\n",
    "alphas[f'{alpha:03}'] = alpha003(o, v)"
   ]
  },
  {
   "cell_type": "code",
   "execution_count": 187,
   "id": "c918cb98-057e-4cbb-9d57-be183542ad98",
   "metadata": {},
   "outputs": [],
   "source": [
    "alphas[f'{alpha:03}'].to_hdf('alphas.h5', f'alphas/{alpha:03}')"
   ]
  },
  {
   "cell_type": "code",
   "execution_count": 189,
   "id": "7ec10ab3-a89b-41ea-8cee-8052f27a1e56",
   "metadata": {},
   "outputs": [],
   "source": [
    "sns.distplot(alphas[f'{alpha:03}'].clip(lower=-1));"
   ]
  },
  {
   "cell_type": "code",
   "execution_count": 191,
   "id": "bb71da5b-6ad2-47cc-96fb-bb88f84c5c07",
   "metadata": {},
   "outputs": [],
   "source": [
    "g = sns.jointplot(x=f'{alpha:03}', y='ret_fwd', data=alphas);"
   ]
  },
  {
   "cell_type": "code",
   "execution_count": 193,
   "id": "08800e40-e8a5-4171-ae77-99cdd5fada7d",
   "metadata": {},
   "outputs": [],
   "source": [
    "mi[alpha] = get_mutual_info_score(alphas.ret_fwd, alphas[f'{alpha:03}'])\n",
    "mi[alpha]"
   ]
  },
  {
   "cell_type": "markdown",
   "id": "221f3967-1cb6-4024-8817-d16ee4db7645",
   "metadata": {},
   "source": [
    "### Alpha 004"
   ]
  },
  {
   "cell_type": "code",
   "execution_count": 196,
   "id": "1acf5875-2345-4a64-8497-269b9b12b598",
   "metadata": {},
   "outputs": [],
   "source": [
    "def alpha004(l):\n",
    "    \"\"\"(-1 * Ts_Rank(rank(low), 9))\"\"\"\n",
    "    return (-ts_rank(rank(l), 9)\n",
    "            .stack('ticker')\n",
    "            .swaplevel())"
   ]
  },
  {
   "cell_type": "code",
   "execution_count": 198,
   "id": "359f7285-7b94-408d-9b88-6c5f2e75de88",
   "metadata": {},
   "outputs": [],
   "source": [
    "alpha = 4"
   ]
  },
  {
   "cell_type": "code",
   "execution_count": 253,
   "id": "51c42142-557e-45a0-821e-008da852e3b0",
   "metadata": {},
   "outputs": [],
   "source": [
    "%%time\n",
    "alphas[f'{alpha:03}'] = alpha004(l)"
   ]
  },
  {
   "cell_type": "code",
   "execution_count": 255,
   "id": "4e2fde81-25b1-44b9-917d-ba36ba8a78ef",
   "metadata": {},
   "outputs": [],
   "source": [
    "alphas[f'{alpha:03}'].to_hdf('alphas.h5', f'alphas/{alpha:03}')"
   ]
  },
  {
   "cell_type": "code",
   "execution_count": 257,
   "id": "12387ad4-3319-4046-b50f-67f272338643",
   "metadata": {},
   "outputs": [],
   "source": [
    "sns.distplot(alphas[f'{alpha:03}']);"
   ]
  },
  {
   "cell_type": "code",
   "execution_count": 259,
   "id": "b030bcc4-8666-4d45-a118-5b692548f5ce",
   "metadata": {},
   "outputs": [],
   "source": [
    "g = sns.jointplot(x=f'{alpha:03}', y='ret_fwd', data=alphas);"
   ]
  },
  {
   "cell_type": "code",
   "execution_count": 261,
   "id": "e23f09df-e924-499f-9745-e2037a32d38e",
   "metadata": {},
   "outputs": [],
   "source": [
    "mi[alpha] = get_mutual_info_score(alphas.ret_fwd, alphas[f'{alpha:03}'])\n",
    "mi[alpha]"
   ]
  },
  {
   "cell_type": "markdown",
   "id": "7329b216-8699-421a-aa0b-e0b4e93753fa",
   "metadata": {},
   "source": [
    "### Alpha 005"
   ]
  },
  {
   "cell_type": "code",
   "execution_count": 263,
   "id": "30a3f1d5-c65e-4cef-b631-3024ee2ec0d4",
   "metadata": {},
   "outputs": [],
   "source": [
    "def alpha005(o, vwap, c):\n",
    "    \"\"\"(rank((open - ts_mean(vwap, 10))) * (-1 * abs(rank((close - vwap)))))\"\"\"\n",
    "    return (rank(o.sub(ts_mean(vwap, 10)))\n",
    "            .mul(rank(c.sub(vwap)).mul(-1).abs())\n",
    "            .stack('ticker')\n",
    "            .swaplevel())"
   ]
  },
  {
   "cell_type": "code",
   "execution_count": 265,
   "id": "8f2204a2-2512-4abd-a525-6843c70c5e7f",
   "metadata": {},
   "outputs": [],
   "source": [
    "alpha = 5"
   ]
  },
  {
   "cell_type": "code",
   "execution_count": 267,
   "id": "98e6f515-ba6a-42ee-873e-6527824f57c9",
   "metadata": {},
   "outputs": [],
   "source": [
    "%%time\n",
    "alphas[f'{alpha:03}'] = alpha005(o, vwap, c)"
   ]
  },
  {
   "cell_type": "code",
   "execution_count": 269,
   "id": "05726a83-e2d5-4b63-9aa7-c365fcc2f2fe",
   "metadata": {},
   "outputs": [],
   "source": [
    "alphas[f'{alpha:03}'].to_hdf('alphas.h5', f'alphas/{alpha:03}')"
   ]
  },
  {
   "cell_type": "code",
   "execution_count": 271,
   "id": "94cf619a-9327-46a1-a691-f02bef1779b1",
   "metadata": {},
   "outputs": [],
   "source": [
    "sns.distplot(alphas[f'{alpha:03}']);"
   ]
  },
  {
   "cell_type": "code",
   "execution_count": 273,
   "id": "70da1a5e-9071-45a2-aad8-d6ed40f2c6c7",
   "metadata": {},
   "outputs": [],
   "source": [
    "g = sns.jointplot(x=f'{alpha:03}', y='ret_fwd', data=alphas);"
   ]
  },
  {
   "cell_type": "code",
   "execution_count": 275,
   "id": "0c04136f-466b-49ef-a96b-75f0e44937b6",
   "metadata": {},
   "outputs": [],
   "source": [
    "mi[alpha] = get_mutual_info_score(alphas.ret_fwd, alphas[f'{alpha:03}'])\n",
    "mi[alpha]"
   ]
  },
  {
   "cell_type": "markdown",
   "id": "a932d1dd-77ef-4282-b09c-ef4c9c1901fc",
   "metadata": {},
   "source": [
    "### Alpha 006"
   ]
  },
  {
   "cell_type": "code",
   "execution_count": 279,
   "id": "e1b148b5-cb05-449b-9927-0179ab06f0da",
   "metadata": {},
   "outputs": [],
   "source": [
    "def alpha006(o, v):\n",
    "    \"\"\"(-ts_corr(open, volume, 10))\"\"\"\n",
    "    return (-ts_corr(o, v, 10)\n",
    "            .stack('ticker')\n",
    "            .swaplevel())"
   ]
  },
  {
   "cell_type": "code",
   "execution_count": 281,
   "id": "5d86dcaf-7d69-4645-962c-564dc738ab3f",
   "metadata": {},
   "outputs": [],
   "source": [
    "alpha = 6"
   ]
  },
  {
   "cell_type": "code",
   "execution_count": 283,
   "id": "0aaddca0-39ac-43bd-9e9f-36beb02961b6",
   "metadata": {},
   "outputs": [],
   "source": [
    "%%time\n",
    "alphas[f'{alpha:03}'] = alpha006(o, v)"
   ]
  },
  {
   "cell_type": "code",
   "execution_count": 285,
   "id": "0caa3db3-67bb-4a04-a291-0a2ef6473cbe",
   "metadata": {},
   "outputs": [],
   "source": [
    "alphas[f'{alpha:03}'].to_hdf('alphas.h5', f'alphas/{alpha:03}')"
   ]
  },
  {
   "cell_type": "code",
   "execution_count": 287,
   "id": "dd670e47-da3c-4e9e-b909-3a852f0c7244",
   "metadata": {},
   "outputs": [],
   "source": [
    "sns.distplot(alphas[f'{alpha:03}']);"
   ]
  },
  {
   "cell_type": "code",
   "execution_count": 289,
   "id": "c91b2121-94af-4134-ac36-3dac31063ddc",
   "metadata": {},
   "outputs": [],
   "source": [
    "g = sns.jointplot(x=f'{alpha:03}', y='ret_fwd', data=alphas);"
   ]
  },
  {
   "cell_type": "code",
   "execution_count": 291,
   "id": "e7dce4c7-da0a-42ea-ab6e-9f3e68e856c9",
   "metadata": {},
   "outputs": [],
   "source": [
    "mi[alpha] = get_mutual_info_score(alphas.ret_fwd, alphas[f'{alpha:03}'])"
   ]
  },
  {
   "cell_type": "code",
   "execution_count": 293,
   "id": "b356c7ea-0236-4582-a952-8881b22a8b0f",
   "metadata": {},
   "outputs": [],
   "source": [
    "mi[alpha]"
   ]
  },
  {
   "cell_type": "markdown",
   "id": "9436713f-d452-490c-aae5-775bcf4283c9",
   "metadata": {},
   "source": [
    "### Alpha 007"
   ]
  },
  {
   "cell_type": "code",
   "execution_count": 296,
   "id": "ae9afd39-2940-49e9-8502-466ed8f49ab1",
   "metadata": {},
   "outputs": [],
   "source": [
    "def alpha007(c, v, adv20):\n",
    "    \"\"\"(adv20 < volume) \n",
    "        ? ((-ts_rank(abs(ts_delta(close, 7)), 60)) * sign(ts_delta(close, 7))) \n",
    "        : -1\n",
    "    \"\"\"\n",
    "    \n",
    "    delta7 = ts_delta(c, 7)\n",
    "    return (-ts_rank(abs(delta7), 60)\n",
    "            .mul(sign(delta7))\n",
    "            .where(adv20<v, -1)\n",
    "            .stack('ticker')\n",
    "            .swaplevel())"
   ]
  },
  {
   "cell_type": "code",
   "execution_count": 298,
   "id": "7fb7f941-652f-40f7-a4ae-c85ceda48abc",
   "metadata": {},
   "outputs": [],
   "source": [
    "alpha = 7"
   ]
  },
  {
   "cell_type": "code",
   "execution_count": 300,
   "id": "f0a521c7-7db6-4299-a3c5-64de9a4023de",
   "metadata": {},
   "outputs": [],
   "source": [
    "%%time\n",
    "alphas[f'{alpha:03}'] = alpha007(c, v, adv20)"
   ]
  },
  {
   "cell_type": "code",
   "execution_count": 302,
   "id": "351da28d-f487-4a26-be6c-f58bb6311981",
   "metadata": {},
   "outputs": [],
   "source": [
    "alphas[f'{alpha:03}'].to_hdf('alphas.h5', f'alphas/{alpha:03}')"
   ]
  },
  {
   "cell_type": "code",
   "execution_count": 304,
   "id": "417dc502-9e93-4fb2-a43b-23c5d8a3cdbe",
   "metadata": {},
   "outputs": [],
   "source": [
    "ax = sns.distplot(alphas[f'{alpha:03}'], kde=False)\n",
    "ax.set_yscale('log')\n",
    "ax.set_ylabel('Frequency (log scale)')\n",
    "plt.tight_layout();\n",
    "plt.show()"
   ]
  },
  {
   "cell_type": "code",
   "execution_count": 306,
   "id": "fcc2164c-59b9-4b9e-9293-cc6252e23230",
   "metadata": {},
   "outputs": [],
   "source": [
    "g = sns.jointplot(x=f'{alpha:03}', y='ret_fwd', data=alphas);"
   ]
  },
  {
   "cell_type": "code",
   "execution_count": 308,
   "id": "6e6fdb07-4e4b-4165-8df0-8b7d5af0f752",
   "metadata": {},
   "outputs": [],
   "source": [
    "mi[alpha] = get_mutual_info_score(alphas.ret_fwd, alphas[f'{alpha:03}'])"
   ]
  },
  {
   "cell_type": "code",
   "execution_count": 310,
   "id": "de351c78-8bc8-4eca-8990-d0477016ee86",
   "metadata": {},
   "outputs": [],
   "source": [
    "mi[alpha]"
   ]
  },
  {
   "cell_type": "markdown",
   "id": "33013e74-f1fe-4d06-9869-b9baee695298",
   "metadata": {},
   "source": [
    "### Alpha 008"
   ]
  },
  {
   "cell_type": "code",
   "execution_count": null,
   "id": "7ecd357a-5cc6-4267-b303-93863efcf7a5",
   "metadata": {},
   "outputs": [],
   "source": [
    "def alpha008(o, r):\n",
    "    \"\"\"-rank(((ts_sum(open, 5) * ts_sum(returns, 5)) - \n",
    "        ts_lag((ts_sum(open, 5) * ts_sum(returns, 5)),10)))\n",
    "    \"\"\"\n",
    "    return (-(rank(((ts_sum(o, 5) * ts_sum(r, 5)) -\n",
    "                       ts_lag((ts_sum(o, 5) * ts_sum(r, 5)), 10))))\n",
    "           .stack('ticker')\n",
    "            .swaplevel())"
   ]
  },
  {
   "cell_type": "code",
   "execution_count": null,
   "id": "dac263ec-c3eb-4bbf-860e-0beac8a679c9",
   "metadata": {},
   "outputs": [],
   "source": [
    "alpha = 8"
   ]
  },
  {
   "cell_type": "code",
   "execution_count": 313,
   "id": "d88d2d2a-23aa-49b7-ab5e-5e05c86da09a",
   "metadata": {},
   "outputs": [],
   "source": [
    "%%time\n",
    "alphas[f'{alpha:03}'] = alpha008(o, r)"
   ]
  },
  {
   "cell_type": "code",
   "execution_count": 315,
   "id": "c2c4c369-25d8-46ca-bb88-703ea4e32ecc",
   "metadata": {},
   "outputs": [],
   "source": [
    "alphas[f'{alpha:03}'].to_hdf('alphas.h5', f'alphas/{alpha:03}')"
   ]
  },
  {
   "cell_type": "code",
   "execution_count": 317,
   "id": "757df971-ae01-49dd-aa2e-7044eb0a9333",
   "metadata": {},
   "outputs": [],
   "source": [
    "sns.distplot(alphas[f'{alpha:03}']);"
   ]
  },
  {
   "cell_type": "code",
   "execution_count": 319,
   "id": "9b93a901-1970-4af7-8982-1dac163f9406",
   "metadata": {},
   "outputs": [],
   "source": [
    "g = sns.jointplot(x=f'{alpha:03}', y='ret_fwd', data=alphas);"
   ]
  },
  {
   "cell_type": "code",
   "execution_count": 321,
   "id": "c8550cd6-3830-4ddf-a95f-b00cae5799a4",
   "metadata": {},
   "outputs": [],
   "source": [
    "mi[alpha] = get_mutual_info_score(alphas.ret_fwd, alphas[f'{alpha:03}'])"
   ]
  },
  {
   "cell_type": "code",
   "execution_count": 323,
   "id": "62cbf730-6867-4d9e-8f67-b73cc2ad7e29",
   "metadata": {},
   "outputs": [],
   "source": [
    "mi[alpha]"
   ]
  },
  {
   "cell_type": "markdown",
   "id": "35cc8b08-d076-49f8-9c1a-1c5a8a916c21",
   "metadata": {},
   "source": [
    "### Alpha 009"
   ]
  },
  {
   "cell_type": "code",
   "execution_count": 326,
   "id": "2091c617-8d53-4616-baa7-0dfc75f6587b",
   "metadata": {},
   "outputs": [],
   "source": [
    "def alpha009(c):\n",
    "    \"\"\"(0 < ts_min(ts_delta(close, 1), 5)) ? ts_delta(close, 1) \n",
    "    : ((ts_max(ts_delta(close, 1), 5) < 0) \n",
    "    ? ts_delta(close, 1) : (-1 * ts_delta(close, 1)))\n",
    "    \"\"\"\n",
    "    close_diff = ts_delta(c, 1)\n",
    "    alpha = close_diff.where(ts_min(close_diff, 5) > 0,\n",
    "                             close_diff.where(ts_max(close_diff, 5) < 0,\n",
    "                                              -close_diff))\n",
    "    return (alpha\n",
    "            .stack('ticker')\n",
    "            .swaplevel())"
   ]
  },
  {
   "cell_type": "code",
   "execution_count": 328,
   "id": "c4141332-0edf-46cd-8cf2-b2b36e9f4a84",
   "metadata": {},
   "outputs": [],
   "source": [
    "alpha = 9"
   ]
  },
  {
   "cell_type": "code",
   "execution_count": 330,
   "id": "138af51d-5381-46e0-b787-27116e86c4c6",
   "metadata": {},
   "outputs": [],
   "source": [
    "%%time\n",
    "alphas[f'{alpha:03}'] = alpha009(c)"
   ]
  },
  {
   "cell_type": "code",
   "execution_count": 332,
   "id": "9ed42ac2-ff94-4f30-88ea-a71975ee28ac",
   "metadata": {},
   "outputs": [],
   "source": [
    "alphas[f'{alpha:03}'].to_hdf('alphas.h5', f'alphas/{alpha:03}')"
   ]
  },
  {
   "cell_type": "code",
   "execution_count": 334,
   "id": "cc0daee7-0e82-486c-9ea8-825b97bda6fa",
   "metadata": {},
   "outputs": [],
   "source": [
    "q = 0.01\n",
    "\n",
    "sns.distplot(alphas[f'{alpha:03}'].clip(lower=alphas[f'{alpha:03}'].quantile(q),\n",
    "                                        upper=alphas[f'{alpha:03}'].quantile(1-q)));"
   ]
  },
  {
   "cell_type": "code",
   "execution_count": 336,
   "id": "c9834679-b368-456a-8cb2-9ad11ef7037a",
   "metadata": {},
   "outputs": [],
   "source": [
    "g = sns.jointplot(x=f'{alpha:03}', y='ret_fwd', data=alphas);"
   ]
  },
  {
   "cell_type": "code",
   "execution_count": 338,
   "id": "540233de-98aa-4df0-970f-92ee53595a1a",
   "metadata": {},
   "outputs": [],
   "source": [
    "mi[alpha] = get_mutual_info_score(alphas.ret_fwd, alphas[f'{alpha:03}'])"
   ]
  },
  {
   "cell_type": "code",
   "execution_count": 340,
   "id": "c5387dd1-42c4-4072-8951-1011b2381e23",
   "metadata": {},
   "outputs": [],
   "source": [
    "mi[alpha]"
   ]
  },
  {
   "cell_type": "code",
   "execution_count": 342,
   "id": "8e21e433-6ebb-4056-88ac-26922c3b004f",
   "metadata": {},
   "outputs": [],
   "source": [
    "pd.Series(mi)"
   ]
  },
  {
   "cell_type": "markdown",
   "id": "e842fe9d-cc18-41bc-994f-695f5befa6fa",
   "metadata": {},
   "source": [
    "### Alpha 010"
   ]
  },
  {
   "cell_type": "code",
   "execution_count": 345,
   "id": "dbb95905-7874-4956-8c91-b27079d6d761",
   "metadata": {},
   "outputs": [],
   "source": [
    "def alpha010(c):\n",
    "    \"\"\"rank(((0 < ts_min(ts_delta(close, 1), 4)) \n",
    "        ? ts_delta(close, 1) \n",
    "        : ((ts_max(ts_delta(close, 1), 4) < 0)\n",
    "            ? ts_delta(close, 1) \n",
    "            : (-1 * ts_delta(close, 1)))))\n",
    "    \"\"\"\n",
    "    close_diff = ts_delta(c, 1)\n",
    "    alpha = close_diff.where(ts_min(close_diff, 4) > 0,\n",
    "                             close_diff.where(ts_min(close_diff, 4) > 0,\n",
    "                                              -close_diff))\n",
    "\n",
    "    return (rank(alpha)\n",
    "            .stack('ticker')\n",
    "            .swaplevel())"
   ]
  },
  {
   "cell_type": "code",
   "execution_count": 347,
   "id": "29311a25-9d76-4565-9294-0c80b978f318",
   "metadata": {},
   "outputs": [],
   "source": [
    "alpha = 10"
   ]
  },
  {
   "cell_type": "code",
   "execution_count": 349,
   "id": "a4600c51-d105-48b0-9af8-5c15d8dbe77f",
   "metadata": {},
   "outputs": [],
   "source": [
    "%%time\n",
    "alphas[f'{alpha:03}'] = alpha010(c)"
   ]
  },
  {
   "cell_type": "code",
   "execution_count": 351,
   "id": "1a107ea3-c595-4ce5-8184-edb6a79c16e1",
   "metadata": {},
   "outputs": [],
   "source": [
    "alphas[f'{alpha:03}'].to_hdf('alphas.h5', f'alphas/{alpha:03}')"
   ]
  },
  {
   "cell_type": "code",
   "execution_count": 353,
   "id": "b8d9a27b-73bb-4cf9-9fdb-fb357b4b0ced",
   "metadata": {},
   "outputs": [],
   "source": [
    "sns.distplot(alphas[f'{alpha:03}']);"
   ]
  },
  {
   "cell_type": "code",
   "execution_count": 355,
   "id": "c0541d0f-d32a-43a3-baa4-e50371a17b91",
   "metadata": {},
   "outputs": [],
   "source": [
    "g = sns.jointplot(x=f'{alpha:03}', y='ret_fwd', data=alphas);"
   ]
  },
  {
   "cell_type": "code",
   "execution_count": 357,
   "id": "77a89b77-6c0c-41e7-a5fd-eab5eb237aca",
   "metadata": {},
   "outputs": [],
   "source": [
    "mi[alpha] = get_mutual_info_score(alphas.ret_fwd, alphas[f'{alpha:03}'])"
   ]
  },
  {
   "cell_type": "code",
   "execution_count": 362,
   "id": "e4f412aa-002f-4002-b891-1b98adc5d11a",
   "metadata": {},
   "outputs": [],
   "source": [
    "mi[alpha]"
   ]
  },
  {
   "cell_type": "code",
   "execution_count": 364,
   "id": "65d5ae30-d9c4-49b3-a9cc-e819f7bd1085",
   "metadata": {},
   "outputs": [],
   "source": [
    "pd.Series(mi).to_csv('mi.csv')"
   ]
  },
  {
   "cell_type": "markdown",
   "id": "2cb4ff9c-50ed-481a-b1b0-4dba8f9d4ec9",
   "metadata": {},
   "source": [
    "### Alpha 011"
   ]
  },
  {
   "cell_type": "code",
   "execution_count": 410,
   "id": "d30d04ef-7252-49c0-b88f-057efdafdb20",
   "metadata": {},
   "outputs": [],
   "source": [
    "def alpha011(c, vwap, v):\n",
    "    \"\"\"(rank(ts_max((vwap - close), 3)) + \n",
    "        rank(ts_min(vwap - close), 3)) * \n",
    "        rank(ts_delta(volume, 3))\n",
    "        \"\"\"\n",
    "    return (rank(ts_max(vwap.sub(c), 3))\n",
    "            .add(rank(ts_min(vwap.sub(c), 3)))\n",
    "            .mul(rank(ts_delta(v, 3)))\n",
    "            .stack('ticker')\n",
    "            .swaplevel())"
   ]
  },
  {
   "cell_type": "code",
   "execution_count": 412,
   "id": "008abf68-8361-4cbb-9699-991d0a60c6a8",
   "metadata": {},
   "outputs": [],
   "source": [
    "alpha = 11"
   ]
  },
  {
   "cell_type": "code",
   "execution_count": 414,
   "id": "a681bc7f-493b-49ee-983b-6439ceadb1f4",
   "metadata": {},
   "outputs": [],
   "source": [
    "%%time\n",
    "alphas[f'{alpha:03}'] = alpha011(c, vwap, v)"
   ]
  },
  {
   "cell_type": "code",
   "execution_count": 416,
   "id": "22666832-0a6a-47d0-8fec-b452f45ca697",
   "metadata": {},
   "outputs": [],
   "source": [
    "alphas[f'{alpha:03}'].to_hdf('alphas.h5', f'alphas/{alpha:03}')"
   ]
  },
  {
   "cell_type": "code",
   "execution_count": 418,
   "id": "bf437ee2-761c-4862-bb2b-6271dc13f0a4",
   "metadata": {},
   "outputs": [],
   "source": [
    "sns.distplot(alphas[f'{alpha:03}']);"
   ]
  },
  {
   "cell_type": "code",
   "execution_count": 420,
   "id": "57508d4f-5988-421e-a8c2-d60fdedab11b",
   "metadata": {},
   "outputs": [],
   "source": [
    "g = sns.jointplot(x=f'{alpha:03}', y='ret_fwd', data=alphas);"
   ]
  },
  {
   "cell_type": "code",
   "execution_count": 422,
   "id": "5617a41a-5060-45b3-aa43-4d4325aa12b9",
   "metadata": {},
   "outputs": [],
   "source": [
    "mi[alpha] = get_mutual_info_score(alphas.ret_fwd, alphas[f'{alpha:03}'])"
   ]
  },
  {
   "cell_type": "code",
   "execution_count": 424,
   "id": "4322113d-a02b-447a-b086-dc16b2271c03",
   "metadata": {},
   "outputs": [],
   "source": [
    "mi[alpha]"
   ]
  },
  {
   "cell_type": "markdown",
   "id": "e12684fa-5ebd-493c-a214-18c76d3c267f",
   "metadata": {},
   "source": [
    "### Alpha 012"
   ]
  },
  {
   "cell_type": "code",
   "execution_count": 427,
   "id": "f822e6c5-ee83-416a-b22f-cdf4fefc522d",
   "metadata": {},
   "outputs": [],
   "source": [
    "def alpha012(v, c):\n",
    "    \"\"\"(sign(ts_delta(volume, 1)) * \n",
    "            (-1 * ts_delta(close, 1)))\n",
    "        \"\"\"\n",
    "    return (sign(ts_delta(v, 1)).mul(-ts_delta(c, 1))\n",
    "            .stack('ticker')\n",
    "            .swaplevel())"
   ]
  },
  {
   "cell_type": "code",
   "execution_count": 429,
   "id": "1b1563e9-a19b-4707-a0fe-40a0a73a9f50",
   "metadata": {},
   "outputs": [],
   "source": [
    "alpha = 12"
   ]
  },
  {
   "cell_type": "code",
   "execution_count": 431,
   "id": "7f61d0c2-893a-4b31-ac96-d45efbbcb4a3",
   "metadata": {},
   "outputs": [],
   "source": [
    "%%time\n",
    "alphas[f'{alpha:03}'] = alpha012(v, c)"
   ]
  },
  {
   "cell_type": "code",
   "execution_count": 433,
   "id": "7f5adad0-feae-45e3-901f-5ea1f7c332fe",
   "metadata": {},
   "outputs": [],
   "source": [
    "alphas[f'{alpha:03}'].to_hdf('alphas.h5', f'alphas/{alpha:03}')"
   ]
  },
  {
   "cell_type": "code",
   "execution_count": 435,
   "id": "d94d762a-a97c-414c-875c-e7dc83dc34de",
   "metadata": {},
   "outputs": [],
   "source": [
    "q = 0.01\n",
    "\n",
    "sns.distplot(alphas[f'{alpha:03}'].clip(lower=alphas[f'{alpha:03}'].quantile(q),\n",
    "                                        upper=alphas[f'{alpha:03}'].quantile(1-q)));"
   ]
  },
  {
   "cell_type": "code",
   "execution_count": 437,
   "id": "fc75589c-188a-4b29-a7d6-3992107a11dc",
   "metadata": {},
   "outputs": [],
   "source": [
    "g = sns.jointplot(x=f'{alpha:03}', y='ret_fwd', data=alphas);"
   ]
  },
  {
   "cell_type": "code",
   "execution_count": 439,
   "id": "49e1120f-c5a5-4c5e-8c77-9210b95b186c",
   "metadata": {},
   "outputs": [],
   "source": [
    "mi[alpha] = get_mutual_info_score(alphas.ret_fwd, alphas[f'{alpha:03}'])"
   ]
  },
  {
   "cell_type": "code",
   "execution_count": 441,
   "id": "61714ecb-4c43-459d-b5b6-95ecdae91eae",
   "metadata": {},
   "outputs": [],
   "source": [
    "mi[alpha]"
   ]
  },
  {
   "cell_type": "markdown",
   "id": "a8c2b92d-76cb-46b7-ab44-e8849f2d2e05",
   "metadata": {},
   "source": [
    "### Alpha 013"
   ]
  },
  {
   "cell_type": "code",
   "execution_count": 444,
   "id": "60a557f9-6aa8-43c3-925a-47ee6e420e5f",
   "metadata": {},
   "outputs": [],
   "source": [
    "def alpha013(c, v):\n",
    "    \"\"\"-rank(ts_cov(rank(close), rank(volume), 5))\"\"\"\n",
    "    return (-rank(ts_cov(rank(c), rank(v), 5))\n",
    "            .stack('ticker')\n",
    "            .swaplevel())"
   ]
  },
  {
   "cell_type": "code",
   "execution_count": 446,
   "id": "0931dc68-3027-4554-87eb-5803aafc73df",
   "metadata": {},
   "outputs": [],
   "source": [
    "alpha = 13"
   ]
  },
  {
   "cell_type": "code",
   "execution_count": 448,
   "id": "209f3414-0b5a-4aa5-ba6b-250bd47c51b6",
   "metadata": {},
   "outputs": [],
   "source": [
    "%%time\n",
    "alphas[f'{alpha:03}'] = alpha013(c, v)"
   ]
  },
  {
   "cell_type": "code",
   "execution_count": 450,
   "id": "0e64d6e1-43fb-4484-9e88-2b750ed1606b",
   "metadata": {},
   "outputs": [],
   "source": [
    "alphas[f'{alpha:03}'].to_hdf('alphas.h5', f'alphas/{alpha:03}')"
   ]
  },
  {
   "cell_type": "code",
   "execution_count": 452,
   "id": "ffafb207-462d-4498-b603-5f0c48cdb8b2",
   "metadata": {},
   "outputs": [],
   "source": [
    "sns.distplot(alphas[f'{alpha:03}']);"
   ]
  },
  {
   "cell_type": "code",
   "execution_count": 454,
   "id": "43aa7659-b2e2-4a44-ac8c-8b322f45a9ab",
   "metadata": {},
   "outputs": [],
   "source": [
    "g = sns.jointplot(x=f'{alpha:03}', y='ret_fwd', data=alphas);"
   ]
  },
  {
   "cell_type": "code",
   "execution_count": 456,
   "id": "2017b6d9-0f64-436a-b338-d4a1d33561eb",
   "metadata": {},
   "outputs": [],
   "source": [
    "mi[alpha] = get_mutual_info_score(alphas.ret_fwd, alphas[f'{alpha:03}'])"
   ]
  },
  {
   "cell_type": "code",
   "execution_count": 458,
   "id": "758fecc3-8089-49f3-9e72-c1f4aa528b37",
   "metadata": {},
   "outputs": [],
   "source": [
    "mi[alpha]"
   ]
  },
  {
   "cell_type": "code",
   "execution_count": 460,
   "id": "9b08f9c3-5c88-47a1-9047-859b0711ae78",
   "metadata": {},
   "outputs": [],
   "source": [
    "pd.Series(mi).to_csv('mi.csv')"
   ]
  },
  {
   "cell_type": "markdown",
   "id": "7fe00468-577e-45c8-9529-e6d090418fe9",
   "metadata": {},
   "source": [
    "### Alpha 014"
   ]
  },
  {
   "cell_type": "code",
   "execution_count": 467,
   "id": "6c214470-b74a-4439-8c0c-58ff2e9ccb41",
   "metadata": {},
   "outputs": [],
   "source": [
    "def alpha014(o, v, r):\n",
    "    \"\"\"\n",
    "    (-rank(ts_delta(returns, 3))) * ts_corr(open, volume, 10))\n",
    "    \"\"\"\n",
    "\n",
    "    alpha = -rank(ts_delta(r, 3)).mul(ts_corr(o, v, 10)\n",
    "                                      .replace([-np.inf,\n",
    "                                                np.inf],\n",
    "                                               np.nan))\n",
    "    return (alpha\n",
    "            .stack('ticker')\n",
    "            .swaplevel())"
   ]
  },
  {
   "cell_type": "code",
   "execution_count": 469,
   "id": "1131999b-f1bc-4984-90df-c2bf5f7606de",
   "metadata": {},
   "outputs": [],
   "source": [
    "alpha = 14"
   ]
  },
  {
   "cell_type": "code",
   "execution_count": 473,
   "id": "25b4cccb-3cdd-44e3-abda-1cdec5e9c670",
   "metadata": {},
   "outputs": [],
   "source": [
    "%%time\n",
    "alphas[f'{alpha:03}'] = alpha014(o, v, r)"
   ]
  },
  {
   "cell_type": "code",
   "execution_count": 475,
   "id": "d2d16183-be12-4f27-a4a4-57bc3d36aac2",
   "metadata": {},
   "outputs": [],
   "source": [
    "alphas[f'{alpha:03}'].to_hdf('alphas.h5', f'alphas/{alpha:03}')"
   ]
  },
  {
   "cell_type": "code",
   "execution_count": 477,
   "id": "3ff8b157-e479-4f83-9271-5f95f916fa9d",
   "metadata": {},
   "outputs": [],
   "source": [
    "sns.distplot(alphas[f'{alpha:03}']);"
   ]
  },
  {
   "cell_type": "code",
   "execution_count": 479,
   "id": "27352e26-74e0-44f2-88a3-b55a26b18c6b",
   "metadata": {},
   "outputs": [],
   "source": [
    "g = sns.jointplot(x=f'{alpha:03}', y='ret_fwd', data=alphas);"
   ]
  },
  {
   "cell_type": "code",
   "execution_count": 481,
   "id": "b91f6d28-9369-4817-8bf9-ea3a04c0d9df",
   "metadata": {},
   "outputs": [],
   "source": [
    "mi[alpha] = get_mutual_info_score(alphas.ret_fwd, alphas[f'{alpha:03}'])"
   ]
  },
  {
   "cell_type": "code",
   "execution_count": 483,
   "id": "7f8b1992-1a9d-49df-a268-8848a5e0fc0f",
   "metadata": {},
   "outputs": [],
   "source": [
    "mi[alpha]"
   ]
  },
  {
   "cell_type": "markdown",
   "id": "ef7efd8c-5fa0-49d6-8b3f-9f7a0b7ed722",
   "metadata": {},
   "source": [
    "### Alpha 015"
   ]
  },
  {
   "cell_type": "code",
   "execution_count": 486,
   "id": "57a46538-e7d8-4554-b1b5-26e6feac1054",
   "metadata": {},
   "outputs": [],
   "source": [
    "def alpha015(h, v):\n",
    "    \"\"\"(-1 * ts_sum(rank(ts_corr(rank(high), rank(volume), 3)), 3))\"\"\"\n",
    "    alpha = (-ts_sum(rank(ts_corr(rank(h), rank(v), 3)\n",
    "                          .replace([-np.inf, np.inf], np.nan)), 3))\n",
    "    return (alpha\n",
    "            .stack('ticker')\n",
    "            .swaplevel())"
   ]
  },
  {
   "cell_type": "code",
   "execution_count": 488,
   "id": "79ccbc53-0410-4623-88be-092ecbb6686d",
   "metadata": {},
   "outputs": [],
   "source": [
    "alpha = 15"
   ]
  },
  {
   "cell_type": "code",
   "execution_count": 490,
   "id": "e7b27a08-eb73-4ba0-bded-f28c6ede427e",
   "metadata": {},
   "outputs": [],
   "source": [
    "%%time\n",
    "alphas[f'{alpha:03}'] = alpha015(h, v)"
   ]
  },
  {
   "cell_type": "code",
   "execution_count": 492,
   "id": "3f69c991-369b-4643-b024-1acb6b81b008",
   "metadata": {},
   "outputs": [],
   "source": [
    "alphas[f'{alpha:03}'].to_hdf('alphas.h5', f'alphas/{alpha:03}')"
   ]
  },
  {
   "cell_type": "code",
   "execution_count": 494,
   "id": "efa7e916-3250-47cb-a4dc-4f409fdb66d2",
   "metadata": {},
   "outputs": [],
   "source": [
    "sns.distplot(alphas[f'{alpha:03}']);"
   ]
  },
  {
   "cell_type": "code",
   "execution_count": 496,
   "id": "e22daf7a-3623-4a16-8bfa-f1946c646a29",
   "metadata": {},
   "outputs": [],
   "source": [
    "g = sns.jointplot(x=f'{alpha:03}', y='ret_fwd', data=alphas);"
   ]
  },
  {
   "cell_type": "code",
   "execution_count": 508,
   "id": "51ae636c-a88d-4c8e-9df7-e204cf6c5d0d",
   "metadata": {},
   "outputs": [],
   "source": [
    "mi[alpha] = get_mutual_info_score(alphas.ret_fwd, alphas[f'{alpha:03}'])"
   ]
  },
  {
   "cell_type": "code",
   "execution_count": 510,
   "id": "2b81e51f-b5f7-45ba-812f-b443937091d4",
   "metadata": {},
   "outputs": [],
   "source": [
    "mi[alpha]"
   ]
  },
  {
   "cell_type": "markdown",
   "id": "63b91a4f-2c58-456c-a7b5-09e472ea407a",
   "metadata": {},
   "source": [
    "### Alpha 016"
   ]
  },
  {
   "cell_type": "code",
   "execution_count": 515,
   "id": "2a8ba4f1-e7ce-401d-a138-924e965a826e",
   "metadata": {},
   "outputs": [],
   "source": [
    "def alpha016(h, v):\n",
    "    \"\"\"(-1 * rank(ts_cov(rank(high), rank(volume), 5)))\"\"\"\n",
    "    return (-rank(ts_cov(rank(h), rank(v), 5))\n",
    "            .stack('ticker')\n",
    "            .swaplevel())"
   ]
  },
  {
   "cell_type": "code",
   "execution_count": 517,
   "id": "5d7f8e87-e91f-4bec-ad7c-9a2c655561db",
   "metadata": {},
   "outputs": [],
   "source": [
    "alpha = 16"
   ]
  },
  {
   "cell_type": "code",
   "execution_count": 519,
   "id": "99878d1e-c9c4-4e5b-8a31-a8aee5eb96ba",
   "metadata": {},
   "outputs": [],
   "source": [
    "%%time\n",
    "alphas[f'{alpha:03}'] = alpha016(h, v)"
   ]
  },
  {
   "cell_type": "code",
   "execution_count": 521,
   "id": "e2b3f1c9-6972-47ca-adf2-96d9b28f461a",
   "metadata": {},
   "outputs": [],
   "source": [
    "alphas[f'{alpha:03}'].to_hdf('alphas.h5', f'alphas/{alpha:03}')"
   ]
  },
  {
   "cell_type": "code",
   "execution_count": 523,
   "id": "3206ddd1-6df6-4fc6-8e00-c11df7657ecf",
   "metadata": {},
   "outputs": [],
   "source": [
    "sns.distplot(alphas[f'{alpha:03}']);"
   ]
  },
  {
   "cell_type": "code",
   "execution_count": 525,
   "id": "ca13234e-5344-4540-8a4e-aabb2669b62a",
   "metadata": {},
   "outputs": [],
   "source": [
    "g = sns.jointplot(x=f'{alpha:03}', y='ret_fwd', data=alphas);"
   ]
  },
  {
   "cell_type": "code",
   "execution_count": 527,
   "id": "c9bbd4b7-e203-4dbd-951e-1133559d7386",
   "metadata": {},
   "outputs": [],
   "source": [
    "mi[alpha] = get_mutual_info_score(alphas.ret_fwd, alphas[f'{alpha:03}'])"
   ]
  },
  {
   "cell_type": "code",
   "execution_count": 529,
   "id": "9b78ec0e-15db-44cc-920c-1ca414aee4f7",
   "metadata": {},
   "outputs": [],
   "source": [
    "mi[alpha]"
   ]
  },
  {
   "cell_type": "code",
   "execution_count": 587,
   "id": "9f34dc6e-af5f-4088-ba20-6b910dde85e7",
   "metadata": {},
   "outputs": [],
   "source": [
    "pd.Series(mi).to_csv('mi.csv')"
   ]
  },
  {
   "cell_type": "markdown",
   "id": "8055a14e-8745-454b-a8c3-d9b3555aa387",
   "metadata": {},
   "source": [
    "### Alpha 017"
   ]
  },
  {
   "cell_type": "code",
   "execution_count": 8,
   "id": "043dde56-f326-4f09-b56d-4be33cceaea8",
   "metadata": {},
   "outputs": [],
   "source": [
    "def alpha017(c, v):\n",
    "    \"\"\"(((-1 * rank(ts_rank(close, 10))) * rank(ts_delta(ts_delta(close, 1), 1))) *rank(ts_rank((volume / adv20), 5)))\n",
    "        \"\"\"\n",
    "    adv20 = ts_mean(v, 20)\n",
    "    return (-rank(ts_rank(c, 10))\n",
    "            .mul(rank(ts_delta(ts_delta(c, 1), 1)))\n",
    "            .mul(rank(ts_rank(v.div(adv20), 5)))\n",
    "            .stack('ticker')\n",
    "            .swaplevel())"
   ]
  },
  {
   "cell_type": "code",
   "execution_count": 10,
   "id": "fb61e7b1-d0d6-42ba-a6df-3a9b72307835",
   "metadata": {},
   "outputs": [],
   "source": [
    "alpha = 17"
   ]
  },
  {
   "cell_type": "code",
   "execution_count": 12,
   "id": "5fe454e4-c93f-4e91-a469-64c65e3a9de9",
   "metadata": {},
   "outputs": [],
   "source": [
    "%%time\n",
    "alphas[f'{alpha:03}'] = alpha017(c, v)"
   ]
  },
  {
   "cell_type": "code",
   "execution_count": 14,
   "id": "20bde919-1a2c-4241-8620-6dba368bba7b",
   "metadata": {},
   "outputs": [],
   "source": [
    "alphas[f'{alpha:03}'].to_hdf('alphas.h5', f'alphas/{alpha:03}')"
   ]
  },
  {
   "cell_type": "code",
   "execution_count": 16,
   "id": "53a4b4fe-02f7-4927-a4db-647d8cb546d5",
   "metadata": {},
   "outputs": [],
   "source": [
    "sns.distplot(alphas[f'{alpha:03}']);"
   ]
  },
  {
   "cell_type": "code",
   "execution_count": 18,
   "id": "4224f61d-adbf-48f9-9209-48c3f5edf988",
   "metadata": {},
   "outputs": [],
   "source": [
    "g = sns.jointplot(x=f'{alpha:03}', y='ret_fwd', data=alphas);"
   ]
  },
  {
   "cell_type": "code",
   "execution_count": 20,
   "id": "c3a931ea-5da3-4795-94f8-58d5c179b8f2",
   "metadata": {},
   "outputs": [],
   "source": [
    "mi[alpha] = get_mutual_info_score(alphas.ret_fwd, alphas[f'{alpha:03}'])"
   ]
  },
  {
   "cell_type": "code",
   "execution_count": 22,
   "id": "4fd8ff7e-51ca-4cc5-b311-4f31cb36fb25",
   "metadata": {},
   "outputs": [],
   "source": [
    "mi[alpha]"
   ]
  },
  {
   "cell_type": "markdown",
   "id": "e3653a3d-51dd-4d12-9b7c-b41b43bea992",
   "metadata": {},
   "source": [
    "### Alpha 18"
   ]
  },
  {
   "cell_type": "code",
   "execution_count": 25,
   "id": "bf6eb119-72d3-4c66-9f20-4bbce9e7e6ce",
   "metadata": {},
   "outputs": [],
   "source": [
    "def alpha018(o, c):\n",
    "    \"\"\"-rank((ts_std(abs((close - open)), 5) + (close - open)) +\n",
    "            ts_corr(close, open,10))\n",
    "    \"\"\"\n",
    "    return (-rank(ts_std(c.sub(o).abs(), 5)\n",
    "                  .add(c.sub(o))\n",
    "                  .add(ts_corr(c, o, 10)\n",
    "                       .replace([-np.inf,\n",
    "                                 np.inf],\n",
    "                                np.nan)))\n",
    "            .stack('ticker')\n",
    "            .swaplevel())"
   ]
  },
  {
   "cell_type": "code",
   "execution_count": 27,
   "id": "63a7eeb8-87fc-4d57-a27e-a0329c4c12bb",
   "metadata": {},
   "outputs": [],
   "source": [
    "alpha = 18"
   ]
  },
  {
   "cell_type": "code",
   "execution_count": 31,
   "id": "6174b4b9-8ebc-4bb4-9329-67286b88ab7a",
   "metadata": {},
   "outputs": [],
   "source": [
    "%%time\n",
    "alphas[f'{alpha:03}'] = alpha018(o, c)"
   ]
  },
  {
   "cell_type": "code",
   "execution_count": 33,
   "id": "a760b307-b11e-4e91-b691-54fbc48359bc",
   "metadata": {},
   "outputs": [],
   "source": [
    "alphas[f'{alpha:03}'].to_hdf('alphas.h5', f'alphas/{alpha:03}')"
   ]
  },
  {
   "cell_type": "code",
   "execution_count": 35,
   "id": "d7ed9e9a-425e-4437-bccc-d2b3eff1f230",
   "metadata": {},
   "outputs": [],
   "source": [
    "sns.distplot(alphas[f'{alpha:03}']);"
   ]
  },
  {
   "cell_type": "code",
   "execution_count": 37,
   "id": "38a3fc61-ead2-4af1-a50d-6e640dd6f9b0",
   "metadata": {},
   "outputs": [],
   "source": [
    "g = sns.jointplot(x=f'{alpha:03}', y='ret_fwd', data=alphas);"
   ]
  },
  {
   "cell_type": "code",
   "execution_count": 39,
   "id": "4b038ad5-4243-4bde-995e-a7bac995a4e4",
   "metadata": {},
   "outputs": [],
   "source": [
    "mi[alpha] = get_mutual_info_score(alphas.ret_fwd, alphas[f'{alpha:03}'])"
   ]
  },
  {
   "cell_type": "code",
   "execution_count": 41,
   "id": "511fd007-989e-48e9-aa15-d4dee08b7ba4",
   "metadata": {},
   "outputs": [],
   "source": [
    "mi[alpha]"
   ]
  },
  {
   "cell_type": "markdown",
   "id": "8c93f776-2c65-4883-8290-3786369264b6",
   "metadata": {},
   "source": [
    "### Alpha 019"
   ]
  },
  {
   "cell_type": "code",
   "execution_count": 44,
   "id": "00436466-c0a2-48eb-9d10-0b16114e56e6",
   "metadata": {},
   "outputs": [],
   "source": [
    "def alpha019(c, r):\n",
    "    \"\"\"((-1 * sign(((close - ts_lag(close, 7)) + ts_delta(close, 7)))) * \n",
    "    (1 + rank((1 + ts_sum(returns,250)))))\n",
    "    \"\"\"\n",
    "    return (-sign(ts_delta(c, 7) + ts_delta(c, 7))\n",
    "            .mul(1 + rank(1 + ts_sum(r, 250)))\n",
    "            .stack('ticker')\n",
    "            .swaplevel())"
   ]
  },
  {
   "cell_type": "code",
   "execution_count": 48,
   "id": "48494ef4-69b0-47a8-aa00-b2697d158792",
   "metadata": {},
   "outputs": [],
   "source": [
    "alpha = 19"
   ]
  },
  {
   "cell_type": "code",
   "execution_count": 50,
   "id": "bb3dd18a-ea9d-4a79-97fa-1d8fd25bbcc5",
   "metadata": {},
   "outputs": [],
   "source": [
    "%%time\n",
    "alphas[f'{alpha:03}'] = alpha019(c, r)"
   ]
  },
  {
   "cell_type": "code",
   "execution_count": 52,
   "id": "45fdeb12-99a6-4243-896b-bac7a97ad1fe",
   "metadata": {},
   "outputs": [],
   "source": [
    "alphas[f'{alpha:03}'].to_hdf('alphas.h5', f'alphas/{alpha:03}')"
   ]
  },
  {
   "cell_type": "code",
   "execution_count": 54,
   "id": "e8a8b9f1-965f-4f17-96a7-581771ee0b05",
   "metadata": {},
   "outputs": [],
   "source": [
    "sns.distplot(alphas[f'{alpha:03}']);"
   ]
  },
  {
   "cell_type": "code",
   "execution_count": 56,
   "id": "cbae9a1b-29f7-42ee-be35-55e8d42021c0",
   "metadata": {},
   "outputs": [],
   "source": [
    "g = sns.jointplot(x=f'{alpha:03}', y='ret_fwd', data=alphas);"
   ]
  },
  {
   "cell_type": "code",
   "execution_count": 58,
   "id": "5d75e37d-5627-4306-8328-3698e152487f",
   "metadata": {},
   "outputs": [],
   "source": [
    "mi[alpha] = get_mutual_info_score(alphas.ret_fwd, alphas[f'{alpha:03}'])"
   ]
  },
  {
   "cell_type": "code",
   "execution_count": 60,
   "id": "eceab553-d60e-45b3-8a83-4d9dbe7cc15f",
   "metadata": {},
   "outputs": [],
   "source": [
    "mi[alpha]"
   ]
  },
  {
   "cell_type": "code",
   "execution_count": 62,
   "id": "babda418-10f9-47b1-a3df-9214559cbffe",
   "metadata": {},
   "outputs": [],
   "source": [
    "pd.Series(mi).to_csv('mi.csv')"
   ]
  },
  {
   "cell_type": "markdown",
   "id": "d9558e9d-89cb-4d16-aa6c-7a1399a19399",
   "metadata": {},
   "source": [
    "### Alpha 020"
   ]
  },
  {
   "cell_type": "code",
   "execution_count": 65,
   "id": "8d1ce9cd-4537-408d-9bc7-2a0ded9ded65",
   "metadata": {},
   "outputs": [],
   "source": [
    "def alpha020(o, h, l, c):\n",
    "    \"\"\"-rank(open - ts_lag(high, 1)) * \n",
    "        rank(open - ts_lag(close, 1)) * \n",
    "        rank(open -ts_lag(low, 1))\"\"\"\n",
    "    return (rank(o - ts_lag(h, 1))\n",
    "            .mul(rank(o - ts_lag(c, 1)))\n",
    "            .mul(rank(o - ts_lag(l, 1)))\n",
    "            .mul(-1)\n",
    "            .stack('ticker')\n",
    "            .swaplevel())"
   ]
  },
  {
   "cell_type": "code",
   "execution_count": 67,
   "id": "5987331c-30ee-4395-8c78-99dbc0422f49",
   "metadata": {},
   "outputs": [],
   "source": [
    "alpha = 20"
   ]
  },
  {
   "cell_type": "code",
   "execution_count": 69,
   "id": "b42bce3a-d7c0-42ea-acdb-13dd94e650b5",
   "metadata": {},
   "outputs": [],
   "source": [
    "%%time\n",
    "alphas[f'{alpha:03}'] = alpha020(o, h, l, c)"
   ]
  },
  {
   "cell_type": "code",
   "execution_count": 71,
   "id": "c2a0b2b9-5c7b-4ec3-a873-f9eee4305f46",
   "metadata": {},
   "outputs": [],
   "source": [
    "alphas[f'{alpha:03}'].to_hdf('alphas.h5', f'alphas/{alpha:03}')"
   ]
  },
  {
   "cell_type": "code",
   "execution_count": 73,
   "id": "419818b8-d45f-46ab-b233-02370d4106ab",
   "metadata": {},
   "outputs": [],
   "source": [
    "sns.distplot(alphas[f'{alpha:03}']);"
   ]
  },
  {
   "cell_type": "code",
   "execution_count": 75,
   "id": "d4978a3c-4702-444d-80b2-0727f81b79e5",
   "metadata": {},
   "outputs": [],
   "source": [
    "g = sns.jointplot(x=f'{alpha:03}', y='ret_fwd', data=alphas);"
   ]
  },
  {
   "cell_type": "code",
   "execution_count": 79,
   "id": "0cf1c2ad-dccc-4e9c-adc0-0e18255785b5",
   "metadata": {},
   "outputs": [],
   "source": [
    "mi[alpha] = get_mutual_info_score(alphas.ret_fwd, alphas[f'{alpha:03}'])"
   ]
  },
  {
   "cell_type": "code",
   "execution_count": 77,
   "id": "5d15a0cf-6274-4c12-b096-4b972329acd5",
   "metadata": {},
   "outputs": [],
   "source": [
    "mi[alpha]"
   ]
  },
  {
   "cell_type": "markdown",
   "id": "39eac620-8efa-4b88-92b0-8f61344fd52f",
   "metadata": {},
   "source": [
    "### Alpha 021"
   ]
  },
  {
   "cell_type": "code",
   "execution_count": null,
   "id": "64880961-8148-4173-8f55-d4725378105f",
   "metadata": {},
   "outputs": [],
   "source": []
  },
  {
   "cell_type": "code",
   "execution_count": null,
   "id": "5d907bec-a8fa-4a94-bad6-9a195fcccd7e",
   "metadata": {},
   "outputs": [],
   "source": []
  },
  {
   "cell_type": "code",
   "execution_count": null,
   "id": "3a239a39-46b1-4476-931e-50cc10963626",
   "metadata": {},
   "outputs": [],
   "source": []
  },
  {
   "cell_type": "code",
   "execution_count": null,
   "id": "16088e4c-4a82-41ee-858e-590fe14cee6f",
   "metadata": {},
   "outputs": [],
   "source": []
  },
  {
   "cell_type": "code",
   "execution_count": null,
   "id": "950d6412-9a8a-42ac-9933-4f6718c91a7e",
   "metadata": {},
   "outputs": [],
   "source": []
  },
  {
   "cell_type": "code",
   "execution_count": null,
   "id": "2f5072ef-2c6a-4c03-b203-d625eb20dea8",
   "metadata": {},
   "outputs": [],
   "source": []
  },
  {
   "cell_type": "code",
   "execution_count": null,
   "id": "b8ed1927-68e7-4c86-81ca-0b55ae7ab910",
   "metadata": {},
   "outputs": [],
   "source": []
  },
  {
   "cell_type": "code",
   "execution_count": null,
   "id": "73f39860-a4f5-4c76-a3cd-f5c8ccf15779",
   "metadata": {},
   "outputs": [],
   "source": []
  },
  {
   "cell_type": "code",
   "execution_count": null,
   "id": "b4f5c464-0f07-4d62-806d-b2c3caab3d68",
   "metadata": {},
   "outputs": [],
   "source": []
  },
  {
   "cell_type": "code",
   "execution_count": null,
   "id": "ff479435-d252-4e26-b671-1661340e6966",
   "metadata": {},
   "outputs": [],
   "source": []
  },
  {
   "cell_type": "code",
   "execution_count": null,
   "id": "6f9e4d8d-06b2-4862-9649-b5a4893cb8e6",
   "metadata": {},
   "outputs": [],
   "source": []
  },
  {
   "cell_type": "code",
   "execution_count": null,
   "id": "5b1d7940-7320-46dc-ab2e-fd00298901da",
   "metadata": {},
   "outputs": [],
   "source": []
  },
  {
   "cell_type": "code",
   "execution_count": null,
   "id": "ab1b34c5-3ed2-4161-837b-06c1c14ca68c",
   "metadata": {},
   "outputs": [],
   "source": []
  },
  {
   "cell_type": "code",
   "execution_count": null,
   "id": "a0fe82f2-21ea-4de4-b335-6fe946bacc33",
   "metadata": {},
   "outputs": [],
   "source": []
  },
  {
   "cell_type": "code",
   "execution_count": null,
   "id": "5f2e285b-979a-45d9-bfe4-64eba8a9c11d",
   "metadata": {},
   "outputs": [],
   "source": []
  },
  {
   "cell_type": "code",
   "execution_count": null,
   "id": "15bff8e4-fac7-423c-a7ae-7d57fb0efc53",
   "metadata": {},
   "outputs": [],
   "source": []
  },
  {
   "cell_type": "code",
   "execution_count": null,
   "id": "be9c7e54-02f2-48c7-ade3-b03889b98ef6",
   "metadata": {},
   "outputs": [],
   "source": []
  }
 ],
 "metadata": {
  "kernelspec": {
   "display_name": "Python [conda env:MLAT] *",
   "language": "python",
   "name": "conda-env-MLAT-py"
  },
  "language_info": {
   "codemirror_mode": {
    "name": "ipython",
    "version": 3
   },
   "file_extension": ".py",
   "mimetype": "text/x-python",
   "name": "python",
   "nbconvert_exporter": "python",
   "pygments_lexer": "ipython3",
   "version": "3.12.9"
  }
 },
 "nbformat": 4,
 "nbformat_minor": 5
}
