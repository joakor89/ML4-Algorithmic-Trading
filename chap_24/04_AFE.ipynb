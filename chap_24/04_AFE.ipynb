{
 "cells": [
  {
   "cell_type": "markdown",
   "id": "84fb77d3-8414-4fa1-887c-2939444eb330",
   "metadata": {},
   "source": [
    "# Alpha Factor Evaluation\n",
    "\n",
    "### Loading libraries"
   ]
  },
  {
   "cell_type": "code",
   "execution_count": 3,
   "id": "783a09db-795f-46b4-939b-873ba32042e7",
   "metadata": {},
   "outputs": [],
   "source": [
    "# Numerical Computing\n",
    "import numpy as np\n",
    "\n",
    "# Data Manipulation\n",
    "import pandas as pd\n",
    "import pandas_datareader.data as web\n",
    "\n",
    "# Data Visualization\n",
    "import seaborn as sns\n",
    "import matplotlib.pyplot as plt\n",
    "\n",
    "# Model Interpreter\n",
    "import shap\n",
    "\n",
    "# Warnings\n",
    "import warnings\n",
    "\n",
    "# Path, OS & Time\n",
    "import os, sys\n",
    "from time import time\n",
    "from pathlib import Path\n",
    "\n",
    "# StatsModel\n",
    "import statsmodels.api as sm\n",
    "\n",
    "# Scikit-Learn\n",
    "from sklearn.preprocessing import scale\n",
    "from sklearn.feature_selection import mutual_info_regression\n",
    "\n",
    "# SciPy\n",
    "from scipy.stats import spearmanr\n",
    "\n",
    "# Gradient Booster\n",
    "import lightgbm as lgb"
   ]
  },
  {
   "cell_type": "code",
   "execution_count": 4,
   "id": "646536c7-56d3-40c0-aab1-4266b7d24de4",
   "metadata": {},
   "outputs": [],
   "source": [
    "from utils import MultipleTimeSeriesCV"
   ]
  },
  {
   "cell_type": "code",
   "execution_count": 5,
   "id": "398bb232-4660-4128-8c00-97a9cee7d0c7",
   "metadata": {},
   "outputs": [],
   "source": [
    "sys.path.insert(1, os.path.join(sys.path[0], '..'))"
   ]
  },
  {
   "cell_type": "code",
   "execution_count": 6,
   "id": "232b042f-cb15-441f-b3e1-88d0b84c7e07",
   "metadata": {},
   "outputs": [],
   "source": [
    "idx= pd.IndexSlice\n",
    "\n",
    "sns.set_style('whitegrid')\n",
    "\n",
    "warnings.filterwarnings('ignore')"
   ]
  },
  {
   "cell_type": "code",
   "execution_count": 7,
   "id": "a50f5b0f-591c-4922-be44-a0d3894b5207",
   "metadata": {},
   "outputs": [],
   "source": [
    "results_path = Path('results')\n",
    "\n",
    "if not results_path.exists():\n",
    "    results_path.mkdir()"
   ]
  },
  {
   "cell_type": "markdown",
   "id": "957201c4-ce9e-4420-878a-a6df3a764575",
   "metadata": {},
   "source": [
    "### Loading Data"
   ]
  },
  {
   "cell_type": "code",
   "execution_count": 14,
   "id": "a231ea0a-0f38-4a3d-b51b-d05c7c22ef3c",
   "metadata": {},
   "outputs": [],
   "source": [
    "# factors = (pd.concat([pd.read_hdf('data.h5', 'factors/common'),\n",
    "#                       pd.read_hdf('data.h5', 'factors/formulaic')\n",
    "#                       .rename(columns=lambda x: f'alpha_{int(x):03}')],\n",
    "#                      axis=1)\n",
    "#            .dropna(axis=1, thresh=100000)\n",
    "#            .sort_index())"
   ]
  },
  {
   "cell_type": "code",
   "execution_count": 16,
   "id": "63685192-0e82-4b68-875c-e7423351659c",
   "metadata": {},
   "outputs": [],
   "source": [
    "# factors.info()"
   ]
  },
  {
   "cell_type": "code",
   "execution_count": 18,
   "id": "6b8fc851-5915-4ca8-86bd-62817ea55e6e",
   "metadata": {},
   "outputs": [],
   "source": [
    "# fwd_returns = factors.filter(like='fwd').columns\n",
    "\n",
    "# features = factors.columns.difference(fwd_returns).tolist()\n",
    "\n",
    "# alphas = pd.Index([f for f in features if f.startswith('alpha')])"
   ]
  },
  {
   "cell_type": "code",
   "execution_count": 20,
   "id": "2f916da7-e2b6-4c74-8548-59d129834dc2",
   "metadata": {},
   "outputs": [],
   "source": [
    "# features"
   ]
  },
  {
   "cell_type": "code",
   "execution_count": 22,
   "id": "b6b7f151-a6e9-477b-b763-e2cc08723fab",
   "metadata": {},
   "outputs": [],
   "source": [
    "# len(alphas)"
   ]
  },
  {
   "cell_type": "markdown",
   "id": "41909c82-fdca-41f2-a2d9-a77fe8b3c4df",
   "metadata": {},
   "source": [
    "### Factor Correlation\n",
    "\n",
    "#### 'Classic' Factors"
   ]
  },
  {
   "cell_type": "code",
   "execution_count": 25,
   "id": "027098f9-ee4f-4acd-b096-d2239efe219b",
   "metadata": {},
   "outputs": [],
   "source": [
    "# corr_common = factors.drop(fwd_returns.union(alphas), axis=1).corr(method='spearman')"
   ]
  },
  {
   "cell_type": "code",
   "execution_count": 27,
   "id": "1c8cd43f-0093-4022-9b3f-9b25fabca52b",
   "metadata": {},
   "outputs": [],
   "source": [
    "# corr_common.to_hdf('data.h5', 'correlation/common')"
   ]
  },
  {
   "cell_type": "code",
   "execution_count": 29,
   "id": "2e150b04-8d27-4d51-b2ec-9da373315328",
   "metadata": {},
   "outputs": [],
   "source": [
    "# mask = np.triu(np.ones_like(corr_common, dtype=np.bool))\n",
    "\n",
    "# fig, ax = plt.subplots(figsize=(22, 18))\n",
    "\n",
    "# cmap = sns.diverging_palette(10, 220, as_cmap=True)\n",
    "\n",
    "# sns.heatmap(corr_common, mask=mask, cmap=cmap, center=0,\n",
    "#             square=True, linewidths=.5, cbar_kws={\"shrink\": .5})\n",
    "# fig.tight_layout()\n",
    "# fig.savefig(results_path / 'factor_corr_common', dpi=300);\n",
    "# plt.show()"
   ]
  },
  {
   "cell_type": "code",
   "execution_count": 31,
   "id": "601fbec4-43c2-401e-bb87-34a6d1c681c9",
   "metadata": {},
   "outputs": [],
   "source": [
    "# g = sns.clustermap(corr_common, cmap=cmap, figsize=(15, 15))\n",
    "\n",
    "# g.savefig(results_path / 'factor_corr_common_cluster', dpi=300);"
   ]
  },
  {
   "cell_type": "code",
   "execution_count": 33,
   "id": "ac62cb2f-8fcb-4b0e-856c-1182348f61b9",
   "metadata": {},
   "outputs": [],
   "source": [
    "# corr_ = corr_common.stack().reset_index()\n",
    "\n",
    "# corr_.columns = ['x1', 'x2', 'rho']\n",
    "# corr_ = corr_[corr_.x1!=corr_.x2].drop_duplicates('rho')"
   ]
  },
  {
   "cell_type": "code",
   "execution_count": 35,
   "id": "c074b9a8-50f7-46c7-8298-8b755443e1ab",
   "metadata": {},
   "outputs": [],
   "source": [
    "# corr_.nlargest(5, columns='rho').append(corr_.nsmallest(5, columns='rho'))"
   ]
  },
  {
   "cell_type": "markdown",
   "id": "8ef65a4b-0830-4352-8f02-b6d820cdd013",
   "metadata": {},
   "source": [
    "#### Formulaic Alphas"
   ]
  },
  {
   "cell_type": "code",
   "execution_count": 38,
   "id": "7e58b1e9-9fe4-48fe-a9d1-3e218eaeb7fa",
   "metadata": {},
   "outputs": [],
   "source": [
    "# %%time\n",
    "# corr_formula = factors[alphas].sort_index().corr(method='spearman').dropna(how='all', axis=1)\n",
    "# corr_formula.to_hdf('data.h5', 'correlation/formula')"
   ]
  },
  {
   "cell_type": "code",
   "execution_count": 40,
   "id": "f85210a0-521f-4313-a79a-c27dc58c891c",
   "metadata": {},
   "outputs": [],
   "source": [
    "# corr_formula = corr_formula.dropna(how='all').dropna(how='all', axis=1)"
   ]
  },
  {
   "cell_type": "code",
   "execution_count": 42,
   "id": "09f07e66-92ae-4f88-91f5-889ebbbe02a1",
   "metadata": {},
   "outputs": [],
   "source": [
    "# mask = np.triu(np.ones_like(corr_formula, dtype=np.bool))\n",
    "# fig, ax = plt.subplots(figsize=(22, 18))\n",
    "# cmap = sns.diverging_palette(10, 220, as_cmap=True)\n",
    "\n",
    "# sns.heatmap(corr_formula, mask=mask, cmap=cmap, center=0,\n",
    "#             square=True, linewidths=.5, cbar_kws={\"shrink\": .5})\n",
    "# fig.tight_layout()\n",
    "# fig.savefig(results_path / 'factor_correlation_formula', dpi=300);"
   ]
  },
  {
   "cell_type": "code",
   "execution_count": 44,
   "id": "56a6dc30-a4d8-4475-8222-41ab64ead01a",
   "metadata": {},
   "outputs": [],
   "source": [
    "# g = sns.clustermap(corr_formula.replace((np.inf, -np.inf), np.nan), cmap=cmap, figsize=(15, 15))\n",
    "# g.savefig(results_path / 'factor_correlation_formula_cluster', dpi=300);"
   ]
  },
  {
   "cell_type": "code",
   "execution_count": 46,
   "id": "193ff3d0-e363-49ad-898c-a9739de9cc17",
   "metadata": {},
   "outputs": [],
   "source": [
    "# corr_formula_ = corr_formula.stack().reset_index()\n",
    "# corr_formula_.columns = ['x1', 'x2', 'rho']\n",
    "# corr_formula_ = corr_formula_[corr_formula_.x1!=corr_formula_.x2].drop_duplicates('rho')"
   ]
  },
  {
   "cell_type": "code",
   "execution_count": 48,
   "id": "36115fd3-3300-4899-b485-ddba0e9f525a",
   "metadata": {},
   "outputs": [],
   "source": [
    "# corr_formula_.nlargest(5, columns='rho').append(corr_formula_.nsmallest(5, columns='rho'))"
   ]
  },
  {
   "cell_type": "markdown",
   "id": "26ceae2f-3fba-4983-a1f8-d98438068ab3",
   "metadata": {},
   "source": [
    "### All Factors"
   ]
  },
  {
   "cell_type": "code",
   "execution_count": 51,
   "id": "f943722b-de7a-482f-8e4e-7e5f44c53639",
   "metadata": {},
   "outputs": [],
   "source": [
    "# corr = factors.drop(['ret_fwd', 'alpha_051'], axis=1).corr()"
   ]
  },
  {
   "cell_type": "code",
   "execution_count": 53,
   "id": "be30899e-f05e-4eb1-9ccc-327aeec97376",
   "metadata": {},
   "outputs": [],
   "source": [
    "# corr = corr.dropna(how='all').dropna(how='all', axis=1)"
   ]
  },
  {
   "cell_type": "code",
   "execution_count": 55,
   "id": "8a4d9299-21d4-4e9b-a5aa-e7b0844330f1",
   "metadata": {},
   "outputs": [],
   "source": [
    "# corr.to_hdf('data.h5', 'correlation/all')"
   ]
  },
  {
   "cell_type": "code",
   "execution_count": 57,
   "id": "4b0330ad-c875-4bb2-9b62-74177b53bee7",
   "metadata": {},
   "outputs": [],
   "source": [
    "# corr.info()"
   ]
  },
  {
   "cell_type": "code",
   "execution_count": 59,
   "id": "c4346015-75fc-40c5-a225-11b55c6d2100",
   "metadata": {},
   "outputs": [],
   "source": [
    "# corr.shape"
   ]
  },
  {
   "cell_type": "code",
   "execution_count": 61,
   "id": "7be67413-7303-415f-89dd-a83302779e40",
   "metadata": {},
   "outputs": [],
   "source": [
    "# sns.set(font_scale=1.2)\n",
    "\n",
    "# mask = np.zeros_like(corr)\n",
    "# np.fill_diagonal(mask, 1)\n",
    "\n",
    "# g = sns.clustermap(corr, \n",
    "#                    cmap=cmap, \n",
    "#                    figsize=(20, 20), \n",
    "#                    dendrogram_ratio=.05,\n",
    "#                    mask=mask,\n",
    "#                    cbar_pos=(0.01, 0.05, 0.01, 0.2));\n",
    "\n",
    "# g.savefig(results_path / 'factor_correlation_all', dpi=300);"
   ]
  },
  {
   "cell_type": "markdown",
   "id": "27fc6f95-7a88-47b9-b349-c496a8107b29",
   "metadata": {},
   "source": [
    "### Forward Return Correlation"
   ]
  },
  {
   "cell_type": "code",
   "execution_count": 64,
   "id": "226386ec-10c7-4031-a62b-cd08182d2401",
   "metadata": {},
   "outputs": [],
   "source": [
    "# fwd_corr = factors.drop(['ret_fwd', 'alpha_051'], axis=1).corrwith(factors.ret_fwd, method='spearman')"
   ]
  },
  {
   "cell_type": "code",
   "execution_count": 66,
   "id": "a610edf0-56b2-4132-918b-03416613e722",
   "metadata": {},
   "outputs": [],
   "source": [
    "# fwd_corr = fwd_corr.dropna()"
   ]
  },
  {
   "cell_type": "code",
   "execution_count": 68,
   "id": "fecd311b-2792-4346-bb0f-11de91cb095d",
   "metadata": {},
   "outputs": [],
   "source": [
    "# fwd_corr.to_hdf('data.h5', 'correlation/fwd_ret')"
   ]
  },
  {
   "cell_type": "code",
   "execution_count": 70,
   "id": "4794e826-fb44-4205-90e7-7307473c1293",
   "metadata": {},
   "outputs": [],
   "source": [
    "# top50 = fwd_corr.abs().nlargest(50).index\n",
    "\n",
    "# fwd_corr.loc[top50].sort_values().plot.barh(figsize=(10, 15),\n",
    "#                                             legend=False);"
   ]
  },
  {
   "cell_type": "markdown",
   "id": "598f350e-b3f0-4315-824a-07a4d86b02c7",
   "metadata": {},
   "source": [
    "### Mutual Information"
   ]
  },
  {
   "cell_type": "code",
   "execution_count": 73,
   "id": "376422de-4b2f-41c5-81b0-ca8c7a8d0cb4",
   "metadata": {},
   "outputs": [],
   "source": [
    "# mi = {}\n",
    "\n",
    "# for feature in tqdm(features):\n",
    "#     df = (factors\n",
    "#           .loc[:, ['ret_fwd', feature]]\n",
    "#           .dropna().sample(n=100000))\n",
    "#     discrete_features = df[feature].nunique() < 10\n",
    "#     mi[feature] = mutual_info_regression(X=df[[feature]],\n",
    "#                                          y=df.ret_fwd,\n",
    "#                                          discrete_features=discrete_features)[0]\n",
    "\n",
    "# mi = pd.Series(mi)"
   ]
  },
  {
   "cell_type": "code",
   "execution_count": 75,
   "id": "ac30688c-361f-423c-8370-f26563cd8fb0",
   "metadata": {},
   "outputs": [],
   "source": [
    "# mi.nlargest(50).sort_values().plot.barh(figsize=(8, 14));"
   ]
  },
  {
   "cell_type": "code",
   "execution_count": 77,
   "id": "6d60855f-c227-4a64-9c90-6750524a51b9",
   "metadata": {},
   "outputs": [],
   "source": [
    "# mi.to_hdf('data.h5', 'mutual_information')"
   ]
  },
  {
   "cell_type": "markdown",
   "id": "e36f22fb-04f6-458c-bc31-095b4032ade7",
   "metadata": {},
   "source": [
    "### LightGBM Feature Importance"
   ]
  },
  {
   "cell_type": "code",
   "execution_count": 80,
   "id": "e517b43c-048c-40bf-80c5-4469ed023688",
   "metadata": {},
   "outputs": [],
   "source": [
    "def get_fi(model):\n",
    "    fi = model.feature_importance(importance_type='gain')\n",
    "    return (pd.Series(fi / fi.sum(),\n",
    "                      index=model.feature_name()))"
   ]
  },
  {
   "cell_type": "code",
   "execution_count": 82,
   "id": "f9ab10d4-75d4-4cf8-b66e-42d46fadb8ba",
   "metadata": {},
   "outputs": [],
   "source": [
    "def ic_lgbm(preds, train_data):\n",
    "    \"\"\"Custom IC eval metric for lightgbm\"\"\"\n",
    "    is_higher_better = True\n",
    "    return 'ic', spearmanr(preds, train_data.get_label())[0], is_higher_better"
   ]
  },
  {
   "cell_type": "code",
   "execution_count": 84,
   "id": "fa4a9da1-47fe-4be0-a255-8c67fde7428c",
   "metadata": {},
   "outputs": [],
   "source": [
    "# uniques = factors.nunique()"
   ]
  },
  {
   "cell_type": "code",
   "execution_count": 86,
   "id": "b8be8ff1-0981-43b9-aab1-77976ebe8e1b",
   "metadata": {},
   "outputs": [],
   "source": [
    "# categoricals = uniques[uniques < 20].index.tolist()"
   ]
  },
  {
   "cell_type": "code",
   "execution_count": 88,
   "id": "14d12bf9-8f02-4f37-a2de-23a1fcd85679",
   "metadata": {},
   "outputs": [],
   "source": [
    "# categoricals"
   ]
  },
  {
   "cell_type": "code",
   "execution_count": 90,
   "id": "93f682e7-eaeb-477e-a576-b1b8ae77da1c",
   "metadata": {},
   "outputs": [],
   "source": [
    "# features = factors.columns.difference(fwd_returns).tolist()"
   ]
  },
  {
   "cell_type": "code",
   "execution_count": 92,
   "id": "3bc8139f-b102-4ad6-8a13-a8a35c527473",
   "metadata": {},
   "outputs": [],
   "source": [
    "label = 'ret_fwd'"
   ]
  },
  {
   "cell_type": "code",
   "execution_count": 94,
   "id": "fe4a8442-4482-4eda-8304-9219b512e68d",
   "metadata": {},
   "outputs": [],
   "source": [
    "train_length = int(8.5 * 252)\n",
    "\n",
    "test_length = 252\n",
    "\n",
    "n_splits = 1"
   ]
  },
  {
   "cell_type": "code",
   "execution_count": 98,
   "id": "4d4b52b3-abe7-4853-a705-5a9305ca1889",
   "metadata": {},
   "outputs": [],
   "source": [
    "params = dict(boosting='gbdt',\n",
    "              objective='regression',\n",
    "              verbose=-1,\n",
    "              metric='None')\n",
    "\n",
    "num_boost_round = 5000"
   ]
  },
  {
   "cell_type": "code",
   "execution_count": 100,
   "id": "43fa7ac7-1091-4b77-93ff-ea0aebf7c4a6",
   "metadata": {},
   "outputs": [],
   "source": [
    "# lgb_data = lgb.Dataset(data=factors.loc[:, features],\n",
    "#                        label=factors.loc[:, label],\n",
    "#                        categorical_feature=categoricals,\n",
    "#                        free_raw_data=False)\n",
    "\n",
    "# cv = MultipleTimeSeriesCV(n_splits=n_splits,\n",
    "#                           lookahead=1,\n",
    "#                           test_period_length=test_length,\n",
    "#                           train_period_length=train_length)\n",
    "\n",
    "# feature_importance, ic, daily_ic = [], [], []\n",
    "\n",
    "# for i, (train_idx, test_idx) in enumerate(cv.split(X=factors)):\n",
    "#     start = time()\n",
    "#     lgb_train = lgb_data.subset(used_indices=train_idx.tolist(),\n",
    "#                                params=params).construct()\n",
    "#     lgb_test = lgb_data.subset(used_indices=test_idx.tolist(),\n",
    "#                                params=params).construct()\n",
    "#     evals_result = {}\n",
    "#     model = lgb.train(params=params,\n",
    "#                       train_set=lgb_train,\n",
    "#                       num_boost_round=num_boost_round,\n",
    "#                       valid_sets=[lgb_train, lgb_test],\n",
    "#                       valid_names=['train', 'valid'],\n",
    "#                       feval=ic_lgbm,\n",
    "#                       evals_result=evals_result,\n",
    "#                       early_stopping_rounds=500,\n",
    "#                       verbose_eval=100)\n",
    "#     model.save_model(f'models/lgb_model.txt')\n",
    "#     fi = get_fi(model)\n",
    "#     fi.to_hdf('data.h5', f'fi/{i:02}')\n",
    "#     test_set = factors.iloc[test_idx, :]\n",
    "#     X_test = test_set.loc[:, model.feature_name()]\n",
    "#     y_test = test_set.loc[:, label]\n",
    "#     y_pred = model.predict(X_test)\n",
    "#     cv_preds = y_test.to_frame('y_test').assign(y_pred=y_pred)\n",
    "#     cv_preds.to_hdf('preds.h5', f'preds/{i:02}')\n",
    "\n",
    "#     by_day = cv_preds.groupby(level='date')\n",
    "#     ic_by_day = by_day.apply(lambda x: spearmanr(x.y_test, x.y_pred)[0])\n",
    "#     daily_ic_mean = ic_by_day.mean()\n",
    "#     daily_ic_median = ic_by_day.median()\n",
    "#     ic = spearmanr(cv_preds.y_test, cv_preds.y_pred)[0]\n",
    "#     print(f'\\n{time()-start:6.1f} | {ic:6.2%} | {daily_ic_mean: 6.2%} | {daily_ic_median: 6.2%}')"
   ]
  },
  {
   "cell_type": "code",
   "execution_count": 106,
   "id": "966e6a6e-5b48-4d5f-8768-1bfb0479465b",
   "metadata": {},
   "outputs": [],
   "source": [
    "# cv_result = pd.DataFrame({'Train Set': evals_result['train']['ic'], \n",
    "#                           'Validation Set': evals_result['valid']['ic']})\n",
    "\n",
    "# ax = cv_result.loc[:300].plot(figsize=(12, 4))\n",
    "# ax.axvline(cv_result['Validation Set'].idxmax(), c='k', ls='--', lw=1);"
   ]
  },
  {
   "cell_type": "markdown",
   "id": "c3f8c7bc-59a8-4330-94e2-ec58567898be",
   "metadata": {},
   "source": [
    "### SHAP Values"
   ]
  },
  {
   "cell_type": "code",
   "execution_count": 2,
   "id": "2b9c355a-736d-4ed5-a5e3-280ed950df7a",
   "metadata": {},
   "outputs": [],
   "source": [
    "# shap.initjs()"
   ]
  },
  {
   "cell_type": "code",
   "execution_count": 12,
   "id": "6cedfbf9-a38e-4509-87b3-fc56f45862ab",
   "metadata": {},
   "outputs": [],
   "source": [
    "# model = lgb.Booster(model_file='models/lgb_model.txt')"
   ]
  },
  {
   "cell_type": "code",
   "execution_count": 14,
   "id": "42714e4e-c763-46bb-8797-87248a66704d",
   "metadata": {},
   "outputs": [],
   "source": [
    "# explainer = shap.TreeExplainer(model)"
   ]
  },
  {
   "cell_type": "code",
   "execution_count": 16,
   "id": "92991e95-294b-408d-938a-7d29cf44af6c",
   "metadata": {},
   "outputs": [],
   "source": [
    "# workaround for SHAP version 0.30: https://github.com/slundberg/shap/issues/794\n",
    "# model.params['objective'] = 'regression'"
   ]
  },
  {
   "cell_type": "code",
   "execution_count": 18,
   "id": "aefec26b-f635-4364-bf40-18d8a147c898",
   "metadata": {},
   "outputs": [],
   "source": [
    "# shap_values = explainer.shap_values(factors.iloc[train_idx, :].loc[:, model.feature_name()])"
   ]
  },
  {
   "cell_type": "code",
   "execution_count": 20,
   "id": "7ef9e7c7-f20c-4760-98af-50d259d2ffa7",
   "metadata": {},
   "outputs": [],
   "source": [
    "# np.save(models / 'shap_values.npy', shap_values)"
   ]
  },
  {
   "cell_type": "code",
   "execution_count": 22,
   "id": "2ee021c7-3387-40fc-a639-628db77d8e80",
   "metadata": {},
   "outputs": [],
   "source": [
    "# shap_values = np.load(models / 'shap_values.npy')"
   ]
  },
  {
   "cell_type": "code",
   "execution_count": 24,
   "id": "40712dd6-fd2b-49a4-b428-812c52ad0411",
   "metadata": {},
   "outputs": [],
   "source": [
    "# shap.summary_plot(shap_values,\n",
    "#                   factors\n",
    "#                   .iloc[train_idx, :]\n",
    "#                   .loc[:, model.feature_name()],\n",
    "#                   show=False)\n",
    "\n",
    "# plt.gcf().suptitle('SHAP Values')\n",
    "# plt.gcf().tight_layout()\n",
    "# plt.gcf().savefig(results_path / 'shap_summary_dot', dpi=300)"
   ]
  },
  {
   "cell_type": "code",
   "execution_count": 26,
   "id": "121b4cdf-93d0-4159-a958-8422898ca9dd",
   "metadata": {},
   "outputs": [],
   "source": [
    "# shap_values = pd.DataFrame(shap_values, columns = features)"
   ]
  },
  {
   "cell_type": "markdown",
   "id": "58c0527a-a043-4b8b-b863-affab70eedfa",
   "metadata": {},
   "source": [
    "### Summary"
   ]
  },
  {
   "cell_type": "code",
   "execution_count": null,
   "id": "c60bcf6e-c000-4305-8015-e2e049dec7ea",
   "metadata": {},
   "outputs": [],
   "source": []
  },
  {
   "cell_type": "code",
   "execution_count": null,
   "id": "55a6b8c0-6f80-4888-97ab-b99a648f88f9",
   "metadata": {},
   "outputs": [],
   "source": []
  },
  {
   "cell_type": "code",
   "execution_count": null,
   "id": "18ceec99-c8d1-4f99-bc68-9281b20827ae",
   "metadata": {},
   "outputs": [],
   "source": []
  }
 ],
 "metadata": {
  "kernelspec": {
   "display_name": "Python [conda env:MLAT] *",
   "language": "python",
   "name": "conda-env-MLAT-py"
  },
  "language_info": {
   "codemirror_mode": {
    "name": "ipython",
    "version": 3
   },
   "file_extension": ".py",
   "mimetype": "text/x-python",
   "name": "python",
   "nbconvert_exporter": "python",
   "pygments_lexer": "ipython3",
   "version": "3.12.9"
  }
 },
 "nbformat": 4,
 "nbformat_minor": 5
}
