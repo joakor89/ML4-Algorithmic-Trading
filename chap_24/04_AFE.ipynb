{
 "cells": [
  {
   "cell_type": "markdown",
   "id": "84fb77d3-8414-4fa1-887c-2939444eb330",
   "metadata": {},
   "source": [
    "# Alpha Factor Evaluation\n",
    "\n",
    "### Loading libraries"
   ]
  },
  {
   "cell_type": "code",
   "execution_count": 3,
   "id": "783a09db-795f-46b4-939b-873ba32042e7",
   "metadata": {},
   "outputs": [],
   "source": [
    "# Numerical Computing\n",
    "import numpy as np\n",
    "\n",
    "# Data Manipulation\n",
    "import pandas as pd\n",
    "import pandas_datareader.data as web\n",
    "\n",
    "# Data Visualization\n",
    "import seaborn as sns\n",
    "import matplotlib.pyplot as plt\n",
    "\n",
    "# Model Interpreter\n",
    "import shap\n",
    "\n",
    "# Warnings\n",
    "import warnings\n",
    "\n",
    "# Path, OS & Time\n",
    "import os, sys\n",
    "from time import time\n",
    "from pathlib import Path\n",
    "\n",
    "# StatsModel\n",
    "import statsmodels.api as sm\n",
    "\n",
    "# Scikit-Learn\n",
    "from sklearn.preprocessing import scale\n",
    "from sklearn.feature_selection import mutual_info_regression\n",
    "\n",
    "# SciPy\n",
    "from scipy.stats import spearmanr\n",
    "\n",
    "# Gradient Booster\n",
    "import lightgbm as lgb"
   ]
  },
  {
   "cell_type": "code",
   "execution_count": 4,
   "id": "646536c7-56d3-40c0-aab1-4266b7d24de4",
   "metadata": {},
   "outputs": [],
   "source": [
    "from utils import MultipleTimeSeriesCV"
   ]
  },
  {
   "cell_type": "code",
   "execution_count": 7,
   "id": "398bb232-4660-4128-8c00-97a9cee7d0c7",
   "metadata": {},
   "outputs": [],
   "source": [
    "sys.path.insert(1, os.path.join(sys.path[0], '..'))"
   ]
  },
  {
   "cell_type": "code",
   "execution_count": 9,
   "id": "232b042f-cb15-441f-b3e1-88d0b84c7e07",
   "metadata": {},
   "outputs": [],
   "source": [
    "idx= pd.IndexSlice\n",
    "\n",
    "sns.set_style('whitegrid')\n",
    "\n",
    "warnings.filterwarnings('ignore')"
   ]
  },
  {
   "cell_type": "code",
   "execution_count": 11,
   "id": "a50f5b0f-591c-4922-be44-a0d3894b5207",
   "metadata": {},
   "outputs": [],
   "source": [
    "results_path = Path('results')\n",
    "\n",
    "if not results_path.exists():\n",
    "    results_path.mkdir()"
   ]
  },
  {
   "cell_type": "markdown",
   "id": "957201c4-ce9e-4420-878a-a6df3a764575",
   "metadata": {},
   "source": [
    "### Loading Data"
   ]
  },
  {
   "cell_type": "code",
   "execution_count": 14,
   "id": "a231ea0a-0f38-4a3d-b51b-d05c7c22ef3c",
   "metadata": {},
   "outputs": [],
   "source": [
    "# factors = (pd.concat([pd.read_hdf('data.h5', 'factors/common'),\n",
    "#                       pd.read_hdf('data.h5', 'factors/formulaic')\n",
    "#                       .rename(columns=lambda x: f'alpha_{int(x):03}')],\n",
    "#                      axis=1)\n",
    "#            .dropna(axis=1, thresh=100000)\n",
    "#            .sort_index())"
   ]
  },
  {
   "cell_type": "code",
   "execution_count": 16,
   "id": "63685192-0e82-4b68-875c-e7423351659c",
   "metadata": {},
   "outputs": [],
   "source": [
    "# factors.info()"
   ]
  },
  {
   "cell_type": "code",
   "execution_count": 20,
   "id": "6b8fc851-5915-4ca8-86bd-62817ea55e6e",
   "metadata": {},
   "outputs": [],
   "source": [
    "# fwd_returns = factors.filter(like='fwd').columns\n",
    "\n",
    "# features = factors.columns.difference(fwd_returns).tolist()\n",
    "\n",
    "# alphas = pd.Index([f for f in features if f.startswith('alpha')])"
   ]
  },
  {
   "cell_type": "code",
   "execution_count": 22,
   "id": "2f916da7-e2b6-4c74-8548-59d129834dc2",
   "metadata": {},
   "outputs": [],
   "source": [
    "# features"
   ]
  },
  {
   "cell_type": "code",
   "execution_count": 24,
   "id": "b6b7f151-a6e9-477b-b763-e2cc08723fab",
   "metadata": {},
   "outputs": [],
   "source": [
    "# len(alphas)"
   ]
  },
  {
   "cell_type": "markdown",
   "id": "41909c82-fdca-41f2-a2d9-a77fe8b3c4df",
   "metadata": {},
   "source": [
    "### Factor Correlation\n",
    "\n",
    "#### 'Classic' Factors"
   ]
  },
  {
   "cell_type": "code",
   "execution_count": 27,
   "id": "027098f9-ee4f-4acd-b096-d2239efe219b",
   "metadata": {},
   "outputs": [],
   "source": [
    "# corr_common = factors.drop(fwd_returns.union(alphas), axis=1).corr(method='spearman')"
   ]
  },
  {
   "cell_type": "code",
   "execution_count": 29,
   "id": "1c8cd43f-0093-4022-9b3f-9b25fabca52b",
   "metadata": {},
   "outputs": [],
   "source": [
    "# corr_common.to_hdf('data.h5', 'correlation/common')"
   ]
  },
  {
   "cell_type": "code",
   "execution_count": 31,
   "id": "2e150b04-8d27-4d51-b2ec-9da373315328",
   "metadata": {},
   "outputs": [],
   "source": [
    "# mask = np.triu(np.ones_like(corr_common, dtype=np.bool))\n",
    "\n",
    "# fig, ax = plt.subplots(figsize=(22, 18))\n",
    "\n",
    "# cmap = sns.diverging_palette(10, 220, as_cmap=True)\n",
    "\n",
    "# sns.heatmap(corr_common, mask=mask, cmap=cmap, center=0,\n",
    "#             square=True, linewidths=.5, cbar_kws={\"shrink\": .5})\n",
    "# fig.tight_layout()\n",
    "# fig.savefig(results_path / 'factor_corr_common', dpi=300);\n",
    "# plt.show()"
   ]
  },
  {
   "cell_type": "code",
   "execution_count": 33,
   "id": "601fbec4-43c2-401e-bb87-34a6d1c681c9",
   "metadata": {},
   "outputs": [],
   "source": [
    "# g = sns.clustermap(corr_common, cmap=cmap, figsize=(15, 15))\n",
    "\n",
    "# g.savefig(results_path / 'factor_corr_common_cluster', dpi=300);"
   ]
  },
  {
   "cell_type": "code",
   "execution_count": 35,
   "id": "ac62cb2f-8fcb-4b0e-856c-1182348f61b9",
   "metadata": {},
   "outputs": [],
   "source": [
    "# corr_ = corr_common.stack().reset_index()\n",
    "\n",
    "# corr_.columns = ['x1', 'x2', 'rho']\n",
    "# corr_ = corr_[corr_.x1!=corr_.x2].drop_duplicates('rho')"
   ]
  },
  {
   "cell_type": "code",
   "execution_count": 37,
   "id": "c074b9a8-50f7-46c7-8298-8b755443e1ab",
   "metadata": {},
   "outputs": [],
   "source": [
    "# corr_.nlargest(5, columns='rho').append(corr_.nsmallest(5, columns='rho'))"
   ]
  },
  {
   "cell_type": "markdown",
   "id": "8ef65a4b-0830-4352-8f02-b6d820cdd013",
   "metadata": {},
   "source": [
    "#### Formulaic Alphas"
   ]
  },
  {
   "cell_type": "code",
   "execution_count": 41,
   "id": "7e58b1e9-9fe4-48fe-a9d1-3e218eaeb7fa",
   "metadata": {},
   "outputs": [],
   "source": [
    "# %%time\n",
    "# corr_formula = factors[alphas].sort_index().corr(method='spearman').dropna(how='all', axis=1)\n",
    "# corr_formula.to_hdf('data.h5', 'correlation/formula')"
   ]
  },
  {
   "cell_type": "code",
   "execution_count": 43,
   "id": "f85210a0-521f-4313-a79a-c27dc58c891c",
   "metadata": {},
   "outputs": [],
   "source": [
    "# corr_formula = corr_formula.dropna(how='all').dropna(how='all', axis=1)"
   ]
  },
  {
   "cell_type": "code",
   "execution_count": 45,
   "id": "09f07e66-92ae-4f88-91f5-889ebbbe02a1",
   "metadata": {},
   "outputs": [],
   "source": [
    "# mask = np.triu(np.ones_like(corr_formula, dtype=np.bool))\n",
    "# fig, ax = plt.subplots(figsize=(22, 18))\n",
    "# cmap = sns.diverging_palette(10, 220, as_cmap=True)\n",
    "\n",
    "# sns.heatmap(corr_formula, mask=mask, cmap=cmap, center=0,\n",
    "#             square=True, linewidths=.5, cbar_kws={\"shrink\": .5})\n",
    "# fig.tight_layout()\n",
    "# fig.savefig(results_path / 'factor_correlation_formula', dpi=300);"
   ]
  },
  {
   "cell_type": "code",
   "execution_count": 47,
   "id": "56a6dc30-a4d8-4475-8222-41ab64ead01a",
   "metadata": {},
   "outputs": [],
   "source": [
    "# g = sns.clustermap(corr_formula.replace((np.inf, -np.inf), np.nan), cmap=cmap, figsize=(15, 15))\n",
    "# g.savefig(results_path / 'factor_correlation_formula_cluster', dpi=300);"
   ]
  },
  {
   "cell_type": "code",
   "execution_count": 49,
   "id": "193ff3d0-e363-49ad-898c-a9739de9cc17",
   "metadata": {},
   "outputs": [],
   "source": [
    "# corr_formula_ = corr_formula.stack().reset_index()\n",
    "# corr_formula_.columns = ['x1', 'x2', 'rho']\n",
    "# corr_formula_ = corr_formula_[corr_formula_.x1!=corr_formula_.x2].drop_duplicates('rho')"
   ]
  },
  {
   "cell_type": "code",
   "execution_count": 51,
   "id": "36115fd3-3300-4899-b485-ddba0e9f525a",
   "metadata": {},
   "outputs": [],
   "source": [
    "# corr_formula_.nlargest(5, columns='rho').append(corr_formula_.nsmallest(5, columns='rho'))"
   ]
  },
  {
   "cell_type": "markdown",
   "id": "26ceae2f-3fba-4983-a1f8-d98438068ab3",
   "metadata": {},
   "source": [
    "### All Factors"
   ]
  },
  {
   "cell_type": "code",
   "execution_count": null,
   "id": "f943722b-de7a-482f-8e4e-7e5f44c53639",
   "metadata": {},
   "outputs": [],
   "source": []
  },
  {
   "cell_type": "code",
   "execution_count": null,
   "id": "be30899e-f05e-4eb1-9ccc-327aeec97376",
   "metadata": {},
   "outputs": [],
   "source": []
  },
  {
   "cell_type": "code",
   "execution_count": null,
   "id": "8a4d9299-21d4-4e9b-a5aa-e7b0844330f1",
   "metadata": {},
   "outputs": [],
   "source": []
  },
  {
   "cell_type": "code",
   "execution_count": null,
   "id": "4b0330ad-c875-4bb2-9b62-74177b53bee7",
   "metadata": {},
   "outputs": [],
   "source": []
  },
  {
   "cell_type": "code",
   "execution_count": null,
   "id": "c4346015-75fc-40c5-a225-11b55c6d2100",
   "metadata": {},
   "outputs": [],
   "source": []
  },
  {
   "cell_type": "code",
   "execution_count": null,
   "id": "7be67413-7303-415f-89dd-a83302779e40",
   "metadata": {},
   "outputs": [],
   "source": []
  },
  {
   "cell_type": "code",
   "execution_count": null,
   "id": "9eeea669-b099-4d50-9c76-abed57de5dac",
   "metadata": {},
   "outputs": [],
   "source": []
  },
  {
   "cell_type": "code",
   "execution_count": null,
   "id": "226386ec-10c7-4031-a62b-cd08182d2401",
   "metadata": {},
   "outputs": [],
   "source": []
  },
  {
   "cell_type": "code",
   "execution_count": null,
   "id": "a610edf0-56b2-4132-918b-03416613e722",
   "metadata": {},
   "outputs": [],
   "source": []
  },
  {
   "cell_type": "code",
   "execution_count": null,
   "id": "fecd311b-2792-4346-bb0f-11de91cb095d",
   "metadata": {},
   "outputs": [],
   "source": []
  },
  {
   "cell_type": "code",
   "execution_count": null,
   "id": "4794e826-fb44-4205-90e7-7307473c1293",
   "metadata": {},
   "outputs": [],
   "source": []
  },
  {
   "cell_type": "code",
   "execution_count": null,
   "id": "bf2122b9-2301-48fa-971c-3f11f75dbb23",
   "metadata": {},
   "outputs": [],
   "source": [
    "\n"
   ]
  }
 ],
 "metadata": {
  "kernelspec": {
   "display_name": "Python [conda env:MLAT] *",
   "language": "python",
   "name": "conda-env-MLAT-py"
  },
  "language_info": {
   "codemirror_mode": {
    "name": "ipython",
    "version": 3
   },
   "file_extension": ".py",
   "mimetype": "text/x-python",
   "name": "python",
   "nbconvert_exporter": "python",
   "pygments_lexer": "ipython3",
   "version": "3.12.9"
  }
 },
 "nbformat": 4,
 "nbformat_minor": 5
}
