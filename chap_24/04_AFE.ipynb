{
 "cells": [
  {
   "cell_type": "markdown",
   "id": "84fb77d3-8414-4fa1-887c-2939444eb330",
   "metadata": {},
   "source": [
    "# Alpha Factor Evaluation\n",
    "\n",
    "### Loading libraries"
   ]
  },
  {
   "cell_type": "code",
   "execution_count": 17,
   "id": "783a09db-795f-46b4-939b-873ba32042e7",
   "metadata": {},
   "outputs": [],
   "source": [
    "# Numerical Computing\n",
    "import numpy as np\n",
    "\n",
    "# Data Manipulation\n",
    "import pandas as pd\n",
    "import pandas_datareader.data as web\n",
    "\n",
    "# Data Visualization\n",
    "import seaborn as sns\n",
    "import matplotlib.pyplot as plt\n",
    "\n",
    "# Model Interpreter\n",
    "import shap\n",
    "\n",
    "# Warnings\n",
    "import warnings\n",
    "\n",
    "# Path, OS & Time\n",
    "import os, sys\n",
    "from time import time\n",
    "from pathlib import Path\n",
    "\n",
    "# StatsModel\n",
    "import statsmodels.api as sm\n",
    "\n",
    "# Scikit-Learn\n",
    "from sklearn.preprocessing import scale\n",
    "from sklearn.feature_selection import mutual_info_regression\n",
    "\n",
    "# SciPy\n",
    "from scipy.stats import spearmanr\n",
    "\n",
    "# Gradient Booster\n",
    "import lightgbm as lgb"
   ]
  },
  {
   "cell_type": "code",
   "execution_count": 21,
   "id": "646536c7-56d3-40c0-aab1-4266b7d24de4",
   "metadata": {},
   "outputs": [],
   "source": [
    "from utils import MultipleTimeSeriesCV"
   ]
  },
  {
   "cell_type": "code",
   "execution_count": 25,
   "id": "398bb232-4660-4128-8c00-97a9cee7d0c7",
   "metadata": {},
   "outputs": [],
   "source": [
    "sys.path.insert(1, os.path.join(sys.path[0], '..'))"
   ]
  },
  {
   "cell_type": "code",
   "execution_count": 27,
   "id": "232b042f-cb15-441f-b3e1-88d0b84c7e07",
   "metadata": {},
   "outputs": [],
   "source": [
    "idx= pd.IndexSlice\n",
    "\n",
    "sns.set_style('whitegrid')\n",
    "\n",
    "warnings.filterwarnings('ignore')"
   ]
  },
  {
   "cell_type": "code",
   "execution_count": 29,
   "id": "a50f5b0f-591c-4922-be44-a0d3894b5207",
   "metadata": {},
   "outputs": [],
   "source": [
    "results_path = Path('results')\n",
    "\n",
    "if not results_path.exists():\n",
    "    results_path.mkdir()"
   ]
  },
  {
   "cell_type": "markdown",
   "id": "957201c4-ce9e-4420-878a-a6df3a764575",
   "metadata": {},
   "source": [
    "### Loading Data"
   ]
  },
  {
   "cell_type": "code",
   "execution_count": null,
   "id": "a231ea0a-0f38-4a3d-b51b-d05c7c22ef3c",
   "metadata": {},
   "outputs": [],
   "source": []
  },
  {
   "cell_type": "code",
   "execution_count": null,
   "id": "63685192-0e82-4b68-875c-e7423351659c",
   "metadata": {},
   "outputs": [],
   "source": []
  },
  {
   "cell_type": "code",
   "execution_count": null,
   "id": "6b8fc851-5915-4ca8-86bd-62817ea55e6e",
   "metadata": {},
   "outputs": [],
   "source": []
  },
  {
   "cell_type": "code",
   "execution_count": null,
   "id": "2f916da7-e2b6-4c74-8548-59d129834dc2",
   "metadata": {},
   "outputs": [],
   "source": []
  },
  {
   "cell_type": "code",
   "execution_count": null,
   "id": "b6b7f151-a6e9-477b-b763-e2cc08723fab",
   "metadata": {},
   "outputs": [],
   "source": []
  },
  {
   "cell_type": "code",
   "execution_count": null,
   "id": "7646c00e-3d20-4e81-8a67-9ce30b64a8de",
   "metadata": {},
   "outputs": [],
   "source": []
  },
  {
   "cell_type": "code",
   "execution_count": null,
   "id": "027098f9-ee4f-4acd-b096-d2239efe219b",
   "metadata": {},
   "outputs": [],
   "source": []
  }
 ],
 "metadata": {
  "kernelspec": {
   "display_name": "Python [conda env:MLAT] *",
   "language": "python",
   "name": "conda-env-MLAT-py"
  },
  "language_info": {
   "codemirror_mode": {
    "name": "ipython",
    "version": 3
   },
   "file_extension": ".py",
   "mimetype": "text/x-python",
   "name": "python",
   "nbconvert_exporter": "python",
   "pygments_lexer": "ipython3",
   "version": "3.12.9"
  }
 },
 "nbformat": 4,
 "nbformat_minor": 5
}
