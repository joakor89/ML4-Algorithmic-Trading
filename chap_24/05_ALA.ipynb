{
 "cells": [
  {
   "cell_type": "markdown",
   "id": "7deeffa8-6e6e-47ab-aa86-29cc2ba872fa",
   "metadata": {},
   "source": [
    "# Alphalens Analysis\n",
    "\n",
    "### Loading libraries"
   ]
  },
  {
   "cell_type": "code",
   "execution_count": 19,
   "id": "6c243060-3e7a-4774-b9c9-3b2f43b8b1b7",
   "metadata": {},
   "outputs": [],
   "source": [
    "# Numerical Computing\n",
    "import numpy as np\n",
    "\n",
    "# Data Manipulation\n",
    "import pandas as pd\n",
    "import pandas_datareader.data as web\n",
    "\n",
    "# Data Visualization\n",
    "import seaborn as sns\n",
    "import matplotlib.pyplot as plt\n",
    "\n",
    "# Model Interpreter\n",
    "import shap\n",
    "\n",
    "# Warnings\n",
    "import warnings\n",
    "\n",
    "# Path, OS & Time\n",
    "import os, sys\n",
    "from time import time\n",
    "from pathlib import Path\n",
    "\n",
    "# StatsModel\n",
    "import statsmodels.api as sm\n",
    "\n",
    "# Scikit-Learn\n",
    "from sklearn.preprocessing import scale\n",
    "from sklearn.feature_selection import mutual_info_regression\n",
    "\n",
    "# SciPy\n",
    "from scipy.stats import spearmanr\n",
    "\n",
    "# Gradient Booster\n",
    "import lightgbm as lgb"
   ]
  },
  {
   "cell_type": "code",
   "execution_count": 20,
   "id": "ca99aa94-e9c9-493b-b66d-987464d1ae8d",
   "metadata": {},
   "outputs": [],
   "source": [
    "from utils import MultipleTimeSeriesCV"
   ]
  },
  {
   "cell_type": "code",
   "execution_count": 21,
   "id": "933bb6ff-37dd-4ff2-8eb9-876ee6379632",
   "metadata": {},
   "outputs": [],
   "source": [
    "sys.path.insert(1, os.path.join(sys.path[0], '..'))"
   ]
  },
  {
   "cell_type": "code",
   "execution_count": 22,
   "id": "604a87d6-ba9b-4169-b3f9-f0054d8b639b",
   "metadata": {},
   "outputs": [],
   "source": [
    "idx= pd.IndexSlice\n",
    "\n",
    "sns.set_style('whitegrid')\n",
    "\n",
    "warnings.filterwarnings('ignore')"
   ]
  },
  {
   "cell_type": "code",
   "execution_count": 23,
   "id": "d637caba-4667-444c-b3ac-0a00d843ecf2",
   "metadata": {},
   "outputs": [],
   "source": [
    "results_path = Path('results')\n",
    "\n",
    "if not results_path.exists():\n",
    "    results_path.mkdir()"
   ]
  },
  {
   "cell_type": "code",
   "execution_count": 29,
   "id": "35b66f76-ace0-4565-859d-86a2c62307b1",
   "metadata": {},
   "outputs": [],
   "source": [
    "# DATA_STORE = Path('..', 'data', 'assets.h5')"
   ]
  },
  {
   "cell_type": "markdown",
   "id": "1a9142c0-336a-4097-baa1-4a131b9d1ac9",
   "metadata": {},
   "source": [
    "### Getting Trade Prices"
   ]
  },
  {
   "cell_type": "code",
   "execution_count": 32,
   "id": "57aa673d-1ba8-449e-8bdf-053f4dfd2198",
   "metadata": {},
   "outputs": [],
   "source": [
    "def get_trade_prices(tickers):\n",
    "    return (pd.read_hdf(DATA_STORE, 'quandl/wiki/prices')\n",
    "              .loc[idx['2006':'2017', tickers], 'adj_open']\n",
    "              .unstack('ticker')\n",
    "              .sort_index()\n",
    "            .shift(-1)\n",
    "            .tz_localize('UTC'))"
   ]
  },
  {
   "cell_type": "code",
   "execution_count": null,
   "id": "d0d0ed84-4140-486e-94a6-740ccca0dd51",
   "metadata": {},
   "outputs": [],
   "source": [
    "# trade_prices = get_trade_prices(tickers)"
   ]
  },
  {
   "cell_type": "code",
   "execution_count": null,
   "id": "472b5f6f-5df4-44c9-9a74-735228b40714",
   "metadata": {},
   "outputs": [],
   "source": [
    "# trade_prices.info()"
   ]
  },
  {
   "cell_type": "markdown",
   "id": "8535c18e-4b36-4d38-8c21-c893a98da29f",
   "metadata": {},
   "source": [
    "### Loading Factors"
   ]
  },
  {
   "cell_type": "code",
   "execution_count": null,
   "id": "72e69eb7-6366-417c-9f46-3340b07488a5",
   "metadata": {},
   "outputs": [],
   "source": [
    "factors = (pd.concat([pd.read_hdf('data.h5', 'factors/common'),\n",
    "                      pd.read_hdf('data.h5', 'factors/formulaic')\n",
    "                      .rename(columns=lambda x: f'alpha_{int(x):03}')],\n",
    "                     axis=1)\n",
    "           .dropna(axis=1, thresh=100000)\n",
    "           .sort_index())"
   ]
  },
  {
   "cell_type": "code",
   "execution_count": null,
   "id": "86e22b0c-eda4-45a7-9f97-6c49b978a250",
   "metadata": {},
   "outputs": [],
   "source": [
    "factors.info()"
   ]
  },
  {
   "cell_type": "code",
   "execution_count": null,
   "id": "60b587ad-9bd4-43ba-81f3-074ee1a24277",
   "metadata": {},
   "outputs": [],
   "source": [
    "tickers = factors.index.get_level_values('ticker').unique()"
   ]
  },
  {
   "cell_type": "code",
   "execution_count": null,
   "id": "d63f768e-4050-4b00-99ee-0f8d6e4bc030",
   "metadata": {},
   "outputs": [],
   "source": [
    "alpha = 'alpha_054'"
   ]
  },
  {
   "cell_type": "code",
   "execution_count": null,
   "id": "15b0f37d-bfb8-4813-961c-cfb72a8432fd",
   "metadata": {},
   "outputs": [],
   "source": []
  },
  {
   "cell_type": "code",
   "execution_count": null,
   "id": "3a4131fb-edf0-4453-997a-b8b9e86318b0",
   "metadata": {},
   "outputs": [],
   "source": []
  }
 ],
 "metadata": {
  "kernelspec": {
   "display_name": "Python [conda env:MLAT] *",
   "language": "python",
   "name": "conda-env-MLAT-py"
  },
  "language_info": {
   "codemirror_mode": {
    "name": "ipython",
    "version": 3
   },
   "file_extension": ".py",
   "mimetype": "text/x-python",
   "name": "python",
   "nbconvert_exporter": "python",
   "pygments_lexer": "ipython3",
   "version": "3.12.9"
  }
 },
 "nbformat": 4,
 "nbformat_minor": 5
}
