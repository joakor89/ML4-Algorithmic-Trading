{
 "cells": [
  {
   "cell_type": "markdown",
   "id": "7deeffa8-6e6e-47ab-aa86-29cc2ba872fa",
   "metadata": {},
   "source": [
    "# Alphalens Analysis\n",
    "\n",
    "### Loading libraries"
   ]
  },
  {
   "cell_type": "code",
   "execution_count": 19,
   "id": "6c243060-3e7a-4774-b9c9-3b2f43b8b1b7",
   "metadata": {},
   "outputs": [],
   "source": [
    "# Numerical Computing\n",
    "import numpy as np\n",
    "\n",
    "# Data Manipulation\n",
    "import pandas as pd\n",
    "import pandas_datareader.data as web\n",
    "\n",
    "# Data Visualization\n",
    "import seaborn as sns\n",
    "import matplotlib.pyplot as plt\n",
    "\n",
    "# Model Interpreter\n",
    "import shap\n",
    "\n",
    "# Warnings\n",
    "import warnings\n",
    "\n",
    "# Path, OS & Time\n",
    "import os, sys\n",
    "from time import time\n",
    "from pathlib import Path\n",
    "\n",
    "# StatsModel\n",
    "import statsmodels.api as sm\n",
    "\n",
    "# Scikit-Learn\n",
    "from sklearn.preprocessing import scale\n",
    "from sklearn.feature_selection import mutual_info_regression\n",
    "\n",
    "# SciPy\n",
    "from scipy.stats import spearmanr\n",
    "\n",
    "# Gradient Booster\n",
    "import lightgbm as lgb"
   ]
  },
  {
   "cell_type": "code",
   "execution_count": 20,
   "id": "ca99aa94-e9c9-493b-b66d-987464d1ae8d",
   "metadata": {},
   "outputs": [],
   "source": [
    "from utils import MultipleTimeSeriesCV"
   ]
  },
  {
   "cell_type": "code",
   "execution_count": 21,
   "id": "933bb6ff-37dd-4ff2-8eb9-876ee6379632",
   "metadata": {},
   "outputs": [],
   "source": [
    "sys.path.insert(1, os.path.join(sys.path[0], '..'))"
   ]
  },
  {
   "cell_type": "code",
   "execution_count": 22,
   "id": "604a87d6-ba9b-4169-b3f9-f0054d8b639b",
   "metadata": {},
   "outputs": [],
   "source": [
    "idx= pd.IndexSlice\n",
    "\n",
    "sns.set_style('whitegrid')\n",
    "\n",
    "warnings.filterwarnings('ignore')"
   ]
  },
  {
   "cell_type": "code",
   "execution_count": 23,
   "id": "d637caba-4667-444c-b3ac-0a00d843ecf2",
   "metadata": {},
   "outputs": [],
   "source": [
    "results_path = Path('results')\n",
    "\n",
    "if not results_path.exists():\n",
    "    results_path.mkdir()"
   ]
  },
  {
   "cell_type": "code",
   "execution_count": 29,
   "id": "35b66f76-ace0-4565-859d-86a2c62307b1",
   "metadata": {},
   "outputs": [],
   "source": [
    "# DATA_STORE = Path('..', 'data', 'assets.h5')"
   ]
  },
  {
   "cell_type": "markdown",
   "id": "1a9142c0-336a-4097-baa1-4a131b9d1ac9",
   "metadata": {},
   "source": [
    "### Getting Trade Prices"
   ]
  },
  {
   "cell_type": "code",
   "execution_count": 32,
   "id": "57aa673d-1ba8-449e-8bdf-053f4dfd2198",
   "metadata": {},
   "outputs": [],
   "source": [
    "def get_trade_prices(tickers):\n",
    "    return (pd.read_hdf(DATA_STORE, 'quandl/wiki/prices')\n",
    "              .loc[idx['2006':'2017', tickers], 'adj_open']\n",
    "              .unstack('ticker')\n",
    "              .sort_index()\n",
    "            .shift(-1)\n",
    "            .tz_localize('UTC'))"
   ]
  },
  {
   "cell_type": "code",
   "execution_count": null,
   "id": "d0d0ed84-4140-486e-94a6-740ccca0dd51",
   "metadata": {},
   "outputs": [],
   "source": [
    "# trade_prices = get_trade_prices(tickers)"
   ]
  },
  {
   "cell_type": "code",
   "execution_count": null,
   "id": "472b5f6f-5df4-44c9-9a74-735228b40714",
   "metadata": {},
   "outputs": [],
   "source": [
    "# trade_prices.info()"
   ]
  },
  {
   "cell_type": "markdown",
   "id": "8535c18e-4b36-4d38-8c21-c893a98da29f",
   "metadata": {},
   "source": [
    "### Loading Factors"
   ]
  },
  {
   "cell_type": "code",
   "execution_count": 36,
   "id": "72e69eb7-6366-417c-9f46-3340b07488a5",
   "metadata": {},
   "outputs": [],
   "source": [
    "# factors = (pd.concat([pd.read_hdf('data.h5', 'factors/common'),\n",
    "#                       pd.read_hdf('data.h5', 'factors/formulaic')\n",
    "#                       .rename(columns=lambda x: f'alpha_{int(x):03}')],\n",
    "#                      axis=1)\n",
    "#            .dropna(axis=1, thresh=100000)\n",
    "#            .sort_index())"
   ]
  },
  {
   "cell_type": "code",
   "execution_count": 38,
   "id": "86e22b0c-eda4-45a7-9f97-6c49b978a250",
   "metadata": {},
   "outputs": [],
   "source": [
    "# factors.info()"
   ]
  },
  {
   "cell_type": "code",
   "execution_count": 40,
   "id": "60b587ad-9bd4-43ba-81f3-074ee1a24277",
   "metadata": {},
   "outputs": [],
   "source": [
    "# tickers = factors.index.get_level_values('ticker').unique()"
   ]
  },
  {
   "cell_type": "code",
   "execution_count": 42,
   "id": "d63f768e-4050-4b00-99ee-0f8d6e4bc030",
   "metadata": {},
   "outputs": [],
   "source": [
    "# alpha = 'alpha_054'"
   ]
  },
  {
   "cell_type": "code",
   "execution_count": 44,
   "id": "15b0f37d-bfb8-4813-961c-cfb72a8432fd",
   "metadata": {},
   "outputs": [],
   "source": [
    "# factor = (factors[alpha]\n",
    "#           .unstack('ticker')\n",
    "#           .stack()\n",
    "#           .tz_localize('UTC', level='date')\n",
    "#           .sort_index())"
   ]
  },
  {
   "cell_type": "markdown",
   "id": "f9509aa8-f51b-428f-9044-03f97319c5d3",
   "metadata": {},
   "source": [
    "### Generating Alphalens Input Data"
   ]
  },
  {
   "cell_type": "code",
   "execution_count": 56,
   "id": "518ca599-fb73-492d-8b42-f5d121e3d50c",
   "metadata": {},
   "outputs": [],
   "source": [
    "# factor_data = utils.get_clean_factor_and_forward_returns(factor=factor,\n",
    "#                                                    prices=trade_prices,\n",
    "#                                                    quantiles=5,\n",
    "#                                                    max_loss=0.35,\n",
    "#                                                    periods=(1, 5, 10)).sort_index()\n",
    "# factor_data.info()"
   ]
  },
  {
   "cell_type": "markdown",
   "id": "3a0a0aa6-7ad5-498a-a63b-027a63fc308d",
   "metadata": {},
   "source": [
    "### Computing Metrics"
   ]
  },
  {
   "cell_type": "code",
   "execution_count": 59,
   "id": "2b08ce81-59d3-457f-98cd-21512603f6e9",
   "metadata": {},
   "outputs": [],
   "source": [
    "# mean_quant_ret_bydate, std_quant_daily = perf.mean_return_by_quantile(\n",
    "#     factor_data,\n",
    "#     by_date=True,\n",
    "#     by_group=False,\n",
    "#     demeaned=True,\n",
    "#     group_adjust=False,\n",
    "# )\n",
    "\n",
    "# mean_quant_rateret_bydate = mean_quant_ret_bydate.apply(\n",
    "#     rate_of_return,\n",
    "#     base_period=mean_quant_ret_bydate.columns[0],\n",
    "# )\n",
    "\n",
    "# compstd_quant_daily = std_quant_daily.apply(std_conversion,\n",
    "#                                             base_period=std_quant_daily.columns[0])\n",
    "\n",
    "# alpha_beta = perf.factor_alpha_beta(factor_data,\n",
    "#                                     demeaned=True)\n",
    "\n",
    "# mean_ret_spread_quant, std_spread_quant = perf.compute_mean_returns_spread(\n",
    "#     mean_quant_rateret_bydate,\n",
    "#     factor_data[\"factor_quantile\"].max(),\n",
    "#     factor_data[\"factor_quantile\"].min(),\n",
    "#     std_err=compstd_quant_daily,\n",
    "# )"
   ]
  },
  {
   "cell_type": "code",
   "execution_count": 61,
   "id": "31608546-658a-4c77-bfc0-f83dba4f6e11",
   "metadata": {},
   "outputs": [],
   "source": [
    "# mean_ret_spread_quant.mean().mul(10000).to_frame('Mean Period Wise Spread (bps)').join(alpha_beta.T).T"
   ]
  },
  {
   "cell_type": "markdown",
   "id": "c5a19874-a531-4f19-a31f-da60829fc3e9",
   "metadata": {},
   "source": [
    "### Plotting Spread & Cumulative Returns"
   ]
  },
  {
   "cell_type": "code",
   "execution_count": null,
   "id": "f6c98278-e4db-469c-9d9c-a0beaa954e26",
   "metadata": {},
   "outputs": [],
   "source": [
    "fig, axes = plt.subplots(ncols=3, figsize=(20, 5))\n",
    "\n",
    "mean_quant_ret, std_quantile = mean_return_by_quantile(factor_data,\n",
    "                                                       by_group=False,\n",
    "                                                       demeaned=True)\n",
    "\n",
    "mean_quant_rateret = mean_quant_ret.apply(rate_of_return, axis=0,\n",
    "                                          base_period=mean_quant_ret.columns[0])\n",
    "\n",
    "plot_quantile_returns_bar(mean_quant_rateret, ax=axes[0])\n",
    "\n",
    "\n",
    "factor_returns = perf.factor_returns(factor_data)\n",
    "\n",
    "title = \"Factor Weighted Long/Short Portfolio Cumulative Return (1D Period)\"\n",
    "plotting.plot_cumulative_returns(factor_returns['1D'],\n",
    "                                 period='1D',\n",
    "                                 freq=pd.tseries.offsets.BDay(),\n",
    "                                 title=title,\n",
    "                                 ax=axes[1])\n",
    "\n",
    "plotting.plot_cumulative_returns_by_quantile(mean_quant_ret_bydate['1D'],\n",
    "                                             freq=pd.tseries.offsets.BDay(),\n",
    "                                             period='1D',\n",
    "                                             ax=axes[2])\n",
    "fig.tight_layout();"
   ]
  },
  {
   "cell_type": "code",
   "execution_count": null,
   "id": "6d12ad94-51d6-48ff-9cbb-9b94378d52ba",
   "metadata": {},
   "outputs": [],
   "source": []
  },
  {
   "cell_type": "code",
   "execution_count": null,
   "id": "d4e77ef0-cef2-45c1-9ae0-1ca770357617",
   "metadata": {},
   "outputs": [],
   "source": []
  },
  {
   "cell_type": "code",
   "execution_count": null,
   "id": "2fb76116-fa95-44d7-9761-c66bc9620cef",
   "metadata": {},
   "outputs": [],
   "source": []
  }
 ],
 "metadata": {
  "kernelspec": {
   "display_name": "Python [conda env:MLAT] *",
   "language": "python",
   "name": "conda-env-MLAT-py"
  },
  "language_info": {
   "codemirror_mode": {
    "name": "ipython",
    "version": 3
   },
   "file_extension": ".py",
   "mimetype": "text/x-python",
   "name": "python",
   "nbconvert_exporter": "python",
   "pygments_lexer": "ipython3",
   "version": "3.12.9"
  }
 },
 "nbformat": 4,
 "nbformat_minor": 5
}
