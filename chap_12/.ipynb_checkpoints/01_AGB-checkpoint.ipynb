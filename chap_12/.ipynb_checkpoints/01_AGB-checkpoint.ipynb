{
 "cells": [
  {
   "cell_type": "markdown",
   "id": "1cac7dc6-f9b2-4338-85ed-012f540d4c69",
   "metadata": {},
   "source": [
    "# Adaptive and Gradient Boosting\n",
    "\n",
    "### Loading Libraries"
   ]
  },
  {
   "cell_type": "code",
   "execution_count": 4,
   "id": "5f36c5b0-7d5d-4ee2-902e-ddd979b82cbd",
   "metadata": {},
   "outputs": [],
   "source": [
    "# Numerical Computing\n",
    "import numpy as np\n",
    "\n",
    "# Data Manipulation\n",
    "import pandas as pd\n",
    "\n",
    "# Data Visualization\n",
    "import seaborn as sns\n",
    "import matplotlib.pyplot as plt\n",
    "from mpl_toolkits.mplot3d import Axes3D\n",
    "from matplotlib.ticker import FuncFormatter\n",
    "\n",
    "# OS & Time\n",
    "import sys, os\n",
    "from time import time\n",
    "\n",
    "# IterTools\n",
    "from itertools import product\n",
    "\n",
    "# Warnings\n",
    "import warnings\n",
    "\n",
    "# Joblib\n",
    "import joblib\n",
    "\n",
    "# Path\n",
    "from pathlib import Path\n",
    "\n",
    "# ExtremeGradient (XGBoost)\n",
    "from xgboost import XGBClassifier\n",
    "\n",
    "# Lightgradient (LGBoost)\n",
    "from lightgbm import LGBMClassifier\n",
    "\n",
    "# Categorical Boosting (CatBoost)\n",
    "from catboost import CatBoostClassifier\n",
    "\n",
    "# Scikit-Learn\n",
    "from sklearn.metrics import roc_auc_score\n",
    "from sklearn.dummy import DummyClassifier\n",
    "from sklearn.tree import DecisionTreeClassifier\n",
    "from sklearn.model_selection import cross_validate\n",
    "# needed for HistGradientBoostingClassifier\n",
    "from sklearn.experimental import enable_hist_gradient_boosting\n",
    "# from sklearn.inspection import partial_dependence, plot_partial_dependence\n",
    "from sklearn.inspection import PartialDependenceDisplay\n",
    "from sklearn.ensemble import RandomForestClassifier, AdaBoostClassifier, HistGradientBoostingClassifier"
   ]
  },
  {
   "cell_type": "code",
   "execution_count": 6,
   "id": "04701d78-511d-4caf-a444-3b4723bf2b7a",
   "metadata": {},
   "outputs": [],
   "source": [
    "sys.path.insert(1, os.path.join(sys.path[0], '..'))\n",
    "\n",
    "from utils import format_time"
   ]
  },
  {
   "cell_type": "code",
   "execution_count": 7,
   "id": "c9ef33ab-bdbc-4d1a-82df-2e05e965e47b",
   "metadata": {},
   "outputs": [],
   "source": [
    "results_path = Path('results', 'baseline')\n",
    "\n",
    "if not results_path.exists():\n",
    "    results_path.mkdir(exist_ok=True, parents=True)"
   ]
  },
  {
   "cell_type": "code",
   "execution_count": 8,
   "id": "1a97b88a-c2aa-4cc8-8452-12e1ba02f59c",
   "metadata": {},
   "outputs": [],
   "source": [
    "np.random.seed(42)\n",
    "\n",
    "idx = pd.IndexSlice\n",
    "\n",
    "sns.set_style(\"whitegrid\")\n",
    "\n",
    "warnings.filterwarnings('ignore')"
   ]
  },
  {
   "cell_type": "markdown",
   "id": "233c27bc-82ef-4f5b-9174-cd7e04108394",
   "metadata": {},
   "source": [
    "### Preparing Data\n",
    "\n",
    "#### Getting Source"
   ]
  },
  {
   "cell_type": "code",
   "execution_count": 9,
   "id": "651c6b5f-f66c-45a1-aafb-51c689f608b5",
   "metadata": {},
   "outputs": [],
   "source": [
    "DATA_STORE = '../data/assets.h5'"
   ]
  },
  {
   "cell_type": "code",
   "execution_count": 10,
   "id": "91472881-77a8-4bb4-a0d2-b52f7c9e8593",
   "metadata": {},
   "outputs": [],
   "source": [
    "def get_data(start='2000', end='2018', task='classification', holding_period=1, dropna=False):\n",
    "    \n",
    "    idx = pd.IndexSlice\n",
    "    target = f'target_{holding_period}m'\n",
    "    with pd.HDFStore(DATA_STORE) as store:\n",
    "        df = store['engineered_features']\n",
    "\n",
    "    if start is not None and end is not None:\n",
    "        df = df.loc[idx[:, start: end], :]\n",
    "    if dropna:\n",
    "        df = df.dropna()\n",
    "        \n",
    "    y = (df[target]>0).astype(int)\n",
    "    X = df.drop([c for c in df.columns if c.startswith('target')], axis=1)\n",
    "    return y, X"
   ]
  },
  {
   "cell_type": "markdown",
   "id": "966b66e0-0836-445f-8781-315dd495f0d9",
   "metadata": {},
   "source": [
    "### Factorize Categories"
   ]
  },
  {
   "cell_type": "code",
   "execution_count": 11,
   "id": "0854e916-8b2c-478c-8c85-4e0b260e25c7",
   "metadata": {},
   "outputs": [],
   "source": [
    "cat_cols = ['year', 'month', 'age', 'msize', 'sector']"
   ]
  },
  {
   "cell_type": "code",
   "execution_count": 12,
   "id": "2f127471-1b13-4980-8fe8-ed9440a98d78",
   "metadata": {},
   "outputs": [],
   "source": [
    "def factorize_cats(df, cats=['sector']):\n",
    "    cat_cols = ['year', 'month', 'age', 'msize'] + cats\n",
    "    for cat in cats:\n",
    "        df[cat] = pd.factorize(df[cat])[0]\n",
    "    df.loc[:, cat_cols] = df.loc[:, cat_cols].fillna(-1).astype(int)\n",
    "    return df"
   ]
  },
  {
   "cell_type": "markdown",
   "id": "85c8d9a1-266b-498a-9187-7b8aac3e9f7d",
   "metadata": {},
   "source": [
    "### One-Hot Encoding"
   ]
  },
  {
   "cell_type": "code",
   "execution_count": 13,
   "id": "32c5df2e-e538-4cef-a00c-c1d00dc5627f",
   "metadata": {},
   "outputs": [],
   "source": [
    "def get_one_hot_data(df, cols=cat_cols[:-1]):\n",
    "    df = pd.get_dummies(df,\n",
    "                        columns=cols + ['sector'],\n",
    "                        prefix=cols + [''],\n",
    "                        prefix_sep=['_'] * len(cols) + [''])\n",
    "    return df.rename(columns={c: c.replace('.0', '') for c in df.columns})"
   ]
  },
  {
   "cell_type": "markdown",
   "id": "3f49fdb2-a6d9-4884-bfa5-952b44fc51d7",
   "metadata": {},
   "source": [
    "### Getting Holdout Set"
   ]
  },
  {
   "cell_type": "code",
   "execution_count": 14,
   "id": "054f783e-4cca-4b89-afe9-f32164c0d124",
   "metadata": {},
   "outputs": [],
   "source": [
    "def get_holdout_set(target, features, period=6):\n",
    "    idx = pd.IndexSlice\n",
    "    label = target.name\n",
    "    dates = np.sort(y.index.get_level_values('date').unique())\n",
    "    cv_start, cv_end = dates[0], dates[-period - 2]\n",
    "    holdout_start, holdout_end = dates[-period - 1], dates[-1]\n",
    "\n",
    "    df = features.join(target.to_frame())\n",
    "    train = df.loc[idx[:, cv_start: cv_end], :]\n",
    "    y_train, X_train = train[label], train.drop(label, axis=1)\n",
    "\n",
    "    test = df.loc[idx[:, holdout_start: holdout_end], :]\n",
    "    y_test, X_test = test[label], test.drop(label, axis=1)\n",
    "    return y_train, X_train, y_test, X_test"
   ]
  },
  {
   "cell_type": "markdown",
   "id": "4b19163d-a50d-44a9-b514-25010870e69d",
   "metadata": {},
   "source": [
    "### Loading Data"
   ]
  },
  {
   "cell_type": "code",
   "execution_count": 16,
   "id": "c3d869ec-018b-4d6a-9549-027b4e44e33d",
   "metadata": {},
   "outputs": [],
   "source": [
    "y, features = get_data()\n",
    "\n",
    "X_dummies = get_one_hot_data(features)\n",
    "X_factors = factorize_cats(features)"
   ]
  },
  {
   "cell_type": "code",
   "execution_count": 17,
   "id": "1cf45ec7-cb73-4940-b3e5-d870081e7d3e",
   "metadata": {},
   "outputs": [],
   "source": [
    "X_factors.info()"
   ]
  },
  {
   "cell_type": "code",
   "execution_count": 18,
   "id": "27d83d5b-e7b2-4599-ad73-9ea8d1271448",
   "metadata": {},
   "outputs": [],
   "source": [
    "y_clean, features_clean = get_data(dropna=True)\n",
    "\n",
    "X_dummies_clean = get_one_hot_data(features_clean)\n",
    "X_factors_clean = factorize_cats(features_clean)"
   ]
  },
  {
   "cell_type": "markdown",
   "id": "a35c265c-f72f-4503-aed2-007e5704ed3a",
   "metadata": {},
   "source": [
    "### Cross-Validation Setup\n",
    "\n",
    "#### Custom Time Series KFold Generator"
   ]
  },
  {
   "cell_type": "code",
   "execution_count": 19,
   "id": "aa287e86-db0c-4f2c-bebb-69276d01b656",
   "metadata": {},
   "outputs": [],
   "source": [
    "class OneStepTimeSeriesSplit:\n",
    "    \"\"\"Generates tuples of train_idx, test_idx pairs\n",
    "    Assumes the index contains a level labeled 'date'\"\"\"\n",
    "\n",
    "    def __init__(self, n_splits=3, test_period_length=1, shuffle=False):\n",
    "        self.n_splits = n_splits\n",
    "        self.test_period_length = test_period_length\n",
    "        self.shuffle = shuffle\n",
    "\n",
    "    @staticmethod\n",
    "    def chunks(l, n):\n",
    "        for i in range(0, len(l), n):\n",
    "            yield l[i:i + n]\n",
    "\n",
    "    def split(self, X, y=None, groups=None):\n",
    "        unique_dates = (X.index\n",
    "                        .get_level_values('date')\n",
    "                        .unique()\n",
    "                        .sort_values(ascending=False)\n",
    "                        [:self.n_splits*self.test_period_length])\n",
    "\n",
    "        dates = X.reset_index()[['date']]\n",
    "        for test_date in self.chunks(unique_dates, self.test_period_length):\n",
    "            train_idx = dates[dates.date < min(test_date)].index\n",
    "            test_idx = dates[dates.date.isin(test_date)].index\n",
    "            if self.shuffle:\n",
    "                np.random.shuffle(list(train_idx))\n",
    "            yield train_idx, test_idx\n",
    "\n",
    "    def get_n_splits(self, X, y, groups=None):\n",
    "        return self.n_splits"
   ]
  },
  {
   "cell_type": "code",
   "execution_count": 20,
   "id": "2d7ff16c-713e-4ef0-bf32-5f5388ecc9e0",
   "metadata": {},
   "outputs": [],
   "source": [
    "cv = OneStepTimeSeriesSplit(n_splits=12, \n",
    "                            test_period_length=1, \n",
    "                            shuffle=False)"
   ]
  },
  {
   "cell_type": "code",
   "execution_count": 21,
   "id": "b83060d7-639f-4659-b392-d209e36106e9",
   "metadata": {},
   "outputs": [],
   "source": [
    "run_time = {}"
   ]
  },
  {
   "cell_type": "markdown",
   "id": "77a9853f-a748-4b5e-ba62-30d3c20abbeb",
   "metadata": {},
   "source": [
    "### CV Metrics"
   ]
  },
  {
   "cell_type": "code",
   "execution_count": 22,
   "id": "a267e266-45e2-417a-85d0-de1bb2e31b32",
   "metadata": {},
   "outputs": [],
   "source": [
    "metrics = {'balanced_accuracy': 'Accuracy' ,\n",
    "           'roc_auc': 'AUC',\n",
    "           'neg_log_loss': 'Log Loss',\n",
    "           'f1_weighted': 'F1',\n",
    "           'precision_weighted': 'Precision',\n",
    "           'recall_weighted': 'Recall'\n",
    "}"
   ]
  },
  {
   "cell_type": "code",
   "execution_count": 24,
   "id": "10ef04b5-745e-4cfa-919e-dc811b994d71",
   "metadata": {},
   "outputs": [],
   "source": [
    "def run_cv(clf, X=X_dummies, y=y, metrics=metrics, cv=cv, fit_params=None, n_jobs=-1):\n",
    "    start = time()\n",
    "    scores = cross_validate(estimator=clf,\n",
    "                            X=X, \n",
    "                            y=y,\n",
    "                            scoring=list(metrics.keys()),\n",
    "                            cv=cv,\n",
    "                            return_train_score=True,\n",
    "                            n_jobs=n_jobs,\n",
    "                            verbose=1,\n",
    "                            fit_params=fit_params)\n",
    "    duration = time() - start\n",
    "    return scores, duration"
   ]
  },
  {
   "cell_type": "markdown",
   "id": "d08888fe-3b60-4095-859e-6e84b88715ec",
   "metadata": {},
   "source": [
    "### CV Result Handler Functions"
   ]
  },
  {
   "cell_type": "code",
   "execution_count": 25,
   "id": "460e56c8-eb03-4dde-9e9b-8c8b4e180906",
   "metadata": {},
   "outputs": [],
   "source": [
    "def stack_results(scores):\n",
    "    columns = pd.MultiIndex.from_tuples(\n",
    "        [tuple(m.split('_', 1)) for m in scores.keys()],\n",
    "        names=['Dataset', 'Metric'])\n",
    "    data = np.array(list(scores.values())).T\n",
    "    df = (pd.DataFrame(data=data,\n",
    "                       columns=columns)\n",
    "          .iloc[:, 2:])\n",
    "    results = pd.melt(df, value_name='Value')\n",
    "    results.Metric = results.Metric.apply(lambda x: metrics.get(x))\n",
    "    results.Dataset = results.Dataset.str.capitalize()\n",
    "    return results"
   ]
  },
  {
   "cell_type": "code",
   "execution_count": 26,
   "id": "e160f42a-918c-4cde-9e19-d585dfbdec53",
   "metadata": {},
   "outputs": [],
   "source": [
    "def plot_result(df, model=None, fname=None):\n",
    "    m = list(metrics.values())\n",
    "    g = sns.catplot(x='Dataset', \n",
    "                    y='Value', \n",
    "                    hue='Dataset', \n",
    "                    col='Metric',\n",
    "                    data=df, \n",
    "                    col_order=m,\n",
    "                    order=['Train', 'Test'],\n",
    "                    kind=\"box\", \n",
    "                    col_wrap=3,\n",
    "                    sharey=False,\n",
    "                    height=4, aspect=1.2)\n",
    "    df = df.groupby(['Metric', 'Dataset']).Value.mean().unstack().loc[m]\n",
    "    for i, ax in enumerate(g.axes.flat):\n",
    "        s = f\"Train: {df.loc[m[i], 'Train']:>7.4f}\\nTest:  {df.loc[m[i], 'Test'] :>7.4f}\"\n",
    "        ax.text(0.05, 0.85, s, fontsize=10, transform=ax.transAxes, \n",
    "                bbox=dict(facecolor='white', edgecolor='grey', boxstyle='round,pad=0.5'))\n",
    "    g.fig.suptitle(model, fontsize=16)\n",
    "    g.fig.subplots_adjust(top=.9)\n",
    "    if fname:\n",
    "        g.savefig(fname, dpi=300);"
   ]
  },
  {
   "cell_type": "markdown",
   "id": "2a613927-1b83-4e33-b0ab-8307e0914dfc",
   "metadata": {},
   "source": [
    "### Baseline Classifier"
   ]
  },
  {
   "cell_type": "code",
   "execution_count": 27,
   "id": "2afe1709-2ee7-4d38-a879-c44c0d05afbf",
   "metadata": {},
   "outputs": [],
   "source": [
    "dummy_clf = DummyClassifier(strategy='stratified',\n",
    "                            random_state=42)"
   ]
  },
  {
   "cell_type": "code",
   "execution_count": 28,
   "id": "180c24f0-d575-457a-b88d-26577e0a7389",
   "metadata": {},
   "outputs": [],
   "source": [
    "algo = 'dummy_clf'"
   ]
  },
  {
   "cell_type": "code",
   "execution_count": 30,
   "id": "13826c19-e077-4db5-beb8-6522053aceb0",
   "metadata": {},
   "outputs": [],
   "source": [
    "fname = results_path / f'{algo}.joblib'\n",
    "\n",
    "if not Path(fname).exists():\n",
    "    dummy_cv_result, run_time[algo] = run_cv(dummy_clf)\n",
    "    joblib.dump(dummy_cv_result, fname)\n",
    "else:\n",
    "    dummy_cv_result = joblib.load(fname)"
   ]
  },
  {
   "cell_type": "code",
   "execution_count": 31,
   "id": "5771b263-e2e9-4e0f-b0f6-b6360e625560",
   "metadata": {},
   "outputs": [],
   "source": [
    "dummy_result = stack_results(dummy_cv_result)\n",
    "dummy_result.groupby(['Metric', 'Dataset']).Value.mean().unstack()"
   ]
  },
  {
   "cell_type": "code",
   "execution_count": 32,
   "id": "f10c5c6f-c95b-4403-9fbe-12fdfbdefcc9",
   "metadata": {},
   "outputs": [],
   "source": [
    "plot_result(dummy_result, model='Dummy Classifier')\n",
    "plt.show()"
   ]
  },
  {
   "cell_type": "markdown",
   "id": "e1b1e8e1-2c21-4a1d-8672-d0b5acf91285",
   "metadata": {},
   "source": [
    "### RandomForest\n",
    "\n",
    "#### Configuring"
   ]
  },
  {
   "cell_type": "code",
   "execution_count": 33,
   "id": "87bc4c0a-26f4-4e29-a743-99e860e5a8e4",
   "metadata": {},
   "outputs": [],
   "source": [
    "rf_clf = RandomForestClassifier(n_estimators=100,\n",
    "                                criterion='gini', \n",
    "                                max_depth=None, \n",
    "                                min_samples_split=2, \n",
    "                                min_samples_leaf=1, \n",
    "                                min_weight_fraction_leaf=0.0, \n",
    "                                max_features='auto',\n",
    "                                max_leaf_nodes=None, \n",
    "                                min_impurity_decrease=0.0, \n",
    "                                min_impurity_split=None, \n",
    "                                bootstrap=True, \n",
    "                                oob_score=True, \n",
    "                                n_jobs=-1,\n",
    "                                random_state=42, \n",
    "                                verbose=1)"
   ]
  },
  {
   "cell_type": "markdown",
   "id": "427e3db8-b6d9-4116-b3e9-edecce7fa8c5",
   "metadata": {},
   "source": [
    "#### Cross-Validation"
   ]
  },
  {
   "cell_type": "code",
   "execution_count": 34,
   "id": "3acff7a8-e462-444e-9e29-eacf5307aec0",
   "metadata": {},
   "outputs": [],
   "source": [
    "algo = 'random_forest'"
   ]
  },
  {
   "cell_type": "code",
   "execution_count": 36,
   "id": "b9d74a67-5a35-41bd-935e-63999d62165d",
   "metadata": {},
   "outputs": [],
   "source": [
    "fname = results_path / f'{algo}.joblib'\n",
    "\n",
    "if not Path(fname).exists():\n",
    "    rf_cv_result, run_time[algo] = run_cv(rf_clf, y=y_clean, X=X_dummies_clean)\n",
    "    joblib.dump(rf_cv_result, fname)\n",
    "else:\n",
    "    rf_cv_result = joblib.load(fname)"
   ]
  },
  {
   "cell_type": "markdown",
   "id": "0e73fbae-ac60-4483-937b-90722762923c",
   "metadata": {},
   "source": [
    "#### Plotting Results"
   ]
  },
  {
   "cell_type": "code",
   "execution_count": 37,
   "id": "f2ecf8c1-eb06-4863-84c3-b91c74207ffd",
   "metadata": {},
   "outputs": [],
   "source": [
    "rf_result = stack_results(rf_cv_result)\n",
    "\n",
    "rf_result.groupby(['Metric', 'Dataset']).Value.mean().unstack()"
   ]
  },
  {
   "cell_type": "code",
   "execution_count": 39,
   "id": "75c64c9c-dd49-4d00-ab26-c2e91b03cc86",
   "metadata": {},
   "outputs": [],
   "source": [
    "plot_result(rf_result, model='Random Forest')\n",
    "plt.show()"
   ]
  },
  {
   "cell_type": "markdown",
   "id": "505b46af-2c68-4a11-92c6-b14b66fc6e29",
   "metadata": {},
   "source": [
    "## Scikit-Learn: `AdaBoost`\n",
    "\n",
    "### Base Estimator"
   ]
  },
  {
   "cell_type": "code",
   "execution_count": 41,
   "id": "137ed2cb-f809-42b1-bba4-f3ccaaa090f3",
   "metadata": {},
   "outputs": [],
   "source": [
    "base_estimator = DecisionTreeClassifier(criterion='gini', \n",
    "                                        splitter='best',\n",
    "                                        max_depth=1, \n",
    "                                        min_samples_split=2, \n",
    "                                        min_samples_leaf=20, \n",
    "                                        min_weight_fraction_leaf=0.0,\n",
    "                                        max_features=None, \n",
    "                                        random_state=None, \n",
    "                                        max_leaf_nodes=None, \n",
    "                                        min_impurity_decrease=0.0, \n",
    "                                        min_impurity_split=None, \n",
    "                                        class_weight=None)"
   ]
  },
  {
   "cell_type": "markdown",
   "id": "35bdb688-6b38-4c61-896e-f6941de8c922",
   "metadata": {},
   "source": [
    "### AdaBoost Configuration"
   ]
  },
  {
   "cell_type": "code",
   "execution_count": 43,
   "id": "ddfd65be-652f-4a62-b326-80e7c19fb3dc",
   "metadata": {},
   "outputs": [],
   "source": [
    "ada_clf = AdaBoostClassifier(base_estimator=base_estimator,\n",
    "                             n_estimators=100,\n",
    "                             learning_rate=1.0,\n",
    "                             algorithm='SAMME.R',\n",
    "                             random_state=42)"
   ]
  },
  {
   "cell_type": "markdown",
   "id": "d2895a03-7ba3-4e20-80d8-5741735df898",
   "metadata": {},
   "source": [
    "#### Cross-Validating"
   ]
  },
  {
   "cell_type": "code",
   "execution_count": 44,
   "id": "d8881ff1-a177-4f48-bc67-277296f367e2",
   "metadata": {},
   "outputs": [],
   "source": [
    "algo = 'adaboost'"
   ]
  },
  {
   "cell_type": "code",
   "execution_count": 45,
   "id": "0097d114-d3be-4bfe-bd56-a03e5b243737",
   "metadata": {},
   "outputs": [],
   "source": [
    "fname = results_path / f'{algo}.joblib'\n",
    "\n",
    "if not Path(fname).exists():\n",
    "    ada_cv_result, run_time[algo] = run_cv(ada_clf, y=y_clean, X=X_dummies_clean)\n",
    "    joblib.dump(ada_cv_result, fname)\n",
    "else:\n",
    "    ada_cv_result = joblib.load(fname)"
   ]
  },
  {
   "cell_type": "markdown",
   "id": "04bb4360-4ddf-43fc-8fcf-9313cffae0fb",
   "metadata": {},
   "source": [
    "#### Plotting Result"
   ]
  },
  {
   "cell_type": "code",
   "execution_count": 46,
   "id": "af5c23df-6a9e-4279-a4f3-54746c815294",
   "metadata": {},
   "outputs": [],
   "source": [
    "ada_result = stack_results(ada_cv_result)\n",
    "\n",
    "ada_result.groupby(['Metric', 'Dataset']).Value.mean().unstack()"
   ]
  },
  {
   "cell_type": "code",
   "execution_count": 47,
   "id": "1398d96e-e417-49cf-9fc4-528e9fcc1700",
   "metadata": {},
   "outputs": [],
   "source": [
    "plot_result(ada_result, model='AdaBoost')\n",
    "plt.show()"
   ]
  },
  {
   "cell_type": "markdown",
   "id": "5dfc200e-f6ac-4eda-871c-340b3b1e128d",
   "metadata": {},
   "source": [
    "## Scikit-Learn: `HistGradientBoostingClassifier`\n",
    "\n",
    "### Configuring"
   ]
  },
  {
   "cell_type": "code",
   "execution_count": 48,
   "id": "278b9b36-ad53-42a2-9ca6-e81892785abf",
   "metadata": {},
   "outputs": [],
   "source": [
    "gb_clf = HistGradientBoostingClassifier(loss='binary_crossentropy',              \n",
    "                                        learning_rate=0.1,          # regulates the contribution of each tree\n",
    "                                        max_iter=100,               # number of boosting stages\n",
    "                                        min_samples_leaf=20,\n",
    "                                        max_depth=None,\n",
    "                                        random_state=None,\n",
    "                                        max_leaf_nodes=31,           # opt value depends on feature interaction\n",
    "                                        warm_start=False,\n",
    "#                                         early_stopping=True,\n",
    "#                                         scoring='loss',\n",
    "#                                         validation_fraction=0.1,\n",
    "#                                         n_iter_no_change=None,\n",
    "                                        verbose=0,\n",
    "                                        tol=0.0001)"
   ]
  },
  {
   "cell_type": "markdown",
   "id": "03f4f64c-2e1c-4727-a69f-91091ce5494a",
   "metadata": {},
   "source": [
    "#### Cross-Validating"
   ]
  },
  {
   "cell_type": "code",
   "execution_count": 50,
   "id": "e6d6a890-4b11-4b15-8337-ca31267bc50a",
   "metadata": {},
   "outputs": [],
   "source": [
    "algo = 'sklearn_gbm'"
   ]
  },
  {
   "cell_type": "code",
   "execution_count": 51,
   "id": "529c6236-ba50-4aad-8e79-4e6bfde271d0",
   "metadata": {},
   "outputs": [],
   "source": [
    "fname = results_path / f'{algo}.joblib'\n",
    "\n",
    "if not Path(fname).exists():\n",
    "    gb_cv_result, run_time[algo] = run_cv(gb_clf, y=y_clean, X=X_dummies_clean)\n",
    "    joblib.dump(gb_cv_result, fname)\n",
    "else:\n",
    "    gb_cv_result = joblib.load(fname)"
   ]
  },
  {
   "cell_type": "markdown",
   "id": "f0c871d3-a553-414a-adbc-40893665a1ee",
   "metadata": {},
   "source": [
    "#### Plotting Results"
   ]
  },
  {
   "cell_type": "code",
   "execution_count": 52,
   "id": "1d213397-e902-4612-aa32-4ef174fa756a",
   "metadata": {},
   "outputs": [],
   "source": [
    "gb_result = stack_results(gb_cv_result)\n",
    "\n",
    "gb_result.groupby(['Metric', 'Dataset']).Value.mean().unstack()"
   ]
  },
  {
   "cell_type": "code",
   "execution_count": 53,
   "id": "f1e29a0c-b3ca-4a67-bf74-0cc6be78ff48",
   "metadata": {},
   "outputs": [],
   "source": [
    "plot_result(gb_result, model='Gradient Boosting Classifier')\n",
    "plt.show()"
   ]
  },
  {
   "cell_type": "markdown",
   "id": "4108d85d-cd8f-4606-87d2-6f7a3f8f1574",
   "metadata": {},
   "source": [
    "### Partial Dependence Plots"
   ]
  },
  {
   "cell_type": "code",
   "execution_count": 54,
   "id": "736691c6-b8a5-49ba-a287-456be82a37cc",
   "metadata": {},
   "outputs": [],
   "source": [
    "X_ = X_factors_clean.drop(['year', 'month'], axis=1)"
   ]
  },
  {
   "cell_type": "code",
   "execution_count": 55,
   "id": "a2b67691-507c-47d6-85ac-beee7b3473a6",
   "metadata": {},
   "outputs": [],
   "source": [
    "fname = results_path / f'{algo}_model.joblib'\n",
    "\n",
    "if not Path(fname).exists():\n",
    "    gb_clf.fit(y=y_clean, X=X_)\n",
    "    joblib.dump(gb_clf, fname)\n",
    "else:\n",
    "    gb_clf = joblib.load(fname)"
   ]
  },
  {
   "cell_type": "code",
   "execution_count": 56,
   "id": "c8f89ef0-db75-4f40-b7a8-a020b727f1fe",
   "metadata": {},
   "outputs": [],
   "source": [
    "# Mean Accuracy\n",
    "gb_clf.score(X=X_, y=y_clean)"
   ]
  },
  {
   "cell_type": "code",
   "execution_count": 57,
   "id": "441db6e3-fdf2-480e-853f-8a30fef35f58",
   "metadata": {},
   "outputs": [],
   "source": [
    "y_score = gb_clf.predict_proba(X_)[:, 1]\n",
    "\n",
    "roc_auc_score(y_score=y_score, y_true=y_clean)"
   ]
  },
  {
   "cell_type": "markdown",
   "id": "e2477186-fd7f-4d1e-80c9-aadc7893fbca",
   "metadata": {},
   "source": [
    "#### One-Way & Two-Way Partial Dependence Plots"
   ]
  },
  {
   "cell_type": "code",
   "execution_count": 58,
   "id": "aae4fd0b-6772-462b-94c8-63e9d98f64b4",
   "metadata": {},
   "outputs": [],
   "source": [
    "fig, axes = plt.subplots(nrows=2, ncols=2, figsize=(12, 10))\n",
    "\n",
    "plot_partial_dependence(\n",
    "    estimator=gb_clf,\n",
    "    X=X_,\n",
    "    features=['return_12m', 'return_6m', 'CMA', ('return_12m', 'return_6m')],\n",
    "    percentiles=(0.05, 0.95),\n",
    "    n_jobs=-1,\n",
    "    n_cols=2,\n",
    "    response_method='decision_function',\n",
    "    grid_resolution=250,\n",
    "    ax=axes)\n",
    "\n",
    "for i, j in product([0, 1], repeat=2):\n",
    "    if i!=1 or j!= 0:\n",
    "        axes[i][j].xaxis.set_major_formatter(FuncFormatter(lambda y, _: '{:.0%}'.format(y))) \n",
    "\n",
    "axes[1][1].yaxis.set_major_formatter(FuncFormatter(lambda y, _: '{:.0%}'.format(y))) \n",
    "\n",
    "axes[0][0].set_ylabel('Partial Dependence')\n",
    "axes[1][0].set_ylabel('Partial Dependence')\n",
    "axes[0][0].set_xlabel('12-Months Return')\n",
    "axes[0][1].set_xlabel('6-Months Return')\n",
    "axes[1][0].set_xlabel('Conservative Minus Aggressive')\n",
    "\n",
    "axes[1][1].set_xlabel('12-Month Return')\n",
    "axes[1][1].set_ylabel('6-Months Return')\n",
    "fig.suptitle('Partial Dependence Plots', fontsize=16)\n",
    "fig.tight_layout()\n",
    "fig.subplots_adjust(top=.95)\n",
    "plt.show()"
   ]
  },
  {
   "cell_type": "markdown",
   "id": "7f29224c-16f3-49f8-aca3-6436d0bda1e8",
   "metadata": {},
   "source": [
    "### Two-way partial dependence as 3D Plot"
   ]
  },
  {
   "cell_type": "code",
   "execution_count": 59,
   "id": "68315dce-7363-4551-b57b-6374ac35ce79",
   "metadata": {},
   "outputs": [],
   "source": [
    "targets = ['return_12m', 'return_6m']\n",
    "pdp, axes = partial_dependence(estimator=gb_clf,\n",
    "                               features=targets,\n",
    "                               X=X_,\n",
    "                               grid_resolution=100)\n",
    "\n",
    "XX, YY = np.meshgrid(axes[0], axes[1])\n",
    "Z = pdp[0].reshape(list(map(np.size, axes))).T\n",
    "\n",
    "fig = plt.figure(figsize=(14, 8))\n",
    "ax = Axes3D(fig)\n",
    "surface = ax.plot_surface(XX, YY, Z,\n",
    "                          rstride=1,\n",
    "                          cstride=1,\n",
    "                          cmap=plt.cm.BuPu,\n",
    "                          edgecolor='k')\n",
    "ax.set_xlabel('12-Month Return')\n",
    "ax.set_ylabel('6-Month Return')\n",
    "ax.set_zlabel('Partial Dependence')\n",
    "ax.view_init(elev=22, azim=30)\n",
    "ax.yaxis.set_major_formatter(FuncFormatter(lambda y, _: '{:.0%}'.format(y))) \n",
    "ax.xaxis.set_major_formatter(FuncFormatter(lambda y, _: '{:.0%}'.format(y))) \n",
    "\n",
    "# fig.colorbar(surface)\n",
    "fig.suptitle('Partial Dependence by 6- and 12-month Returns', fontsize=16)\n",
    "fig.tight_layout()\n",
    "plt.show()"
   ]
  },
  {
   "cell_type": "markdown",
   "id": "ace4572b-488d-4369-bc84-c97131b6e8e5",
   "metadata": {},
   "source": [
    "## XGBoost\n",
    "\n",
    "### Configuring"
   ]
  },
  {
   "cell_type": "code",
   "execution_count": 60,
   "id": "157bf767-061e-478d-8a0e-994553b79653",
   "metadata": {},
   "outputs": [],
   "source": [
    "xgb_clf = XGBClassifier(max_depth=3,                  \n",
    "                        learning_rate=0.1,            \n",
    "                        n_estimators=100,             \n",
    "                        silent=True,                  \n",
    "                        objective='binary:logistic',  \n",
    "                        booster='gbtree',\n",
    "                        # tree_method='gpu_hist',\n",
    "                        n_jobs=-1,                    \n",
    "                        gamma=0,                      \n",
    "                        min_child_weight=1,           \n",
    "                        max_delta_step=0,             \n",
    "                        subsample=1,                  \n",
    "                        colsample_bytree=1,           \n",
    "                        colsample_bylevel=1,          \n",
    "                        reg_alpha=0,                  \n",
    "                        reg_lambda=1,                 \n",
    "                        scale_pos_weight=1,           \n",
    "                        base_score=0.5,               \n",
    "                        random_state=42)              "
   ]
  },
  {
   "cell_type": "markdown",
   "id": "2dc8bd03-5e8c-4da3-9610-d4d4a1f486e3",
   "metadata": {},
   "source": [
    "#### Cross-Validating"
   ]
  },
  {
   "cell_type": "code",
   "execution_count": 61,
   "id": "0014f820-2009-44cb-ba5b-77cf372bcdc2",
   "metadata": {},
   "outputs": [],
   "source": [
    "algo = 'xgboost'"
   ]
  },
  {
   "cell_type": "code",
   "execution_count": 62,
   "id": "4688df25-cef6-4798-a2d5-0a26e1fb4cac",
   "metadata": {},
   "outputs": [],
   "source": [
    "fname = results_path / f'{algo}.joblib'\n",
    "\n",
    "if not Path(fname).exists():\n",
    "    xgb_cv_result, run_time[algo] = run_cv(xgb_clf)\n",
    "    joblib.dump(xgb_cv_result, fname)\n",
    "else:\n",
    "    xgb_cv_result = joblib.load(fname)"
   ]
  },
  {
   "cell_type": "markdown",
   "id": "f4c7063f-a422-4d63-89e6-d9944354ea1a",
   "metadata": {},
   "source": [
    "#### Plotting Results"
   ]
  },
  {
   "cell_type": "code",
   "execution_count": 63,
   "id": "88e00af6-7db6-4d4e-b9f1-459351616e6b",
   "metadata": {},
   "outputs": [],
   "source": [
    "xbg_result = stack_results(xgb_cv_result)\n",
    "\n",
    "xbg_result.groupby(['Metric', 'Dataset']).Value.mean().unstack()"
   ]
  },
  {
   "cell_type": "code",
   "execution_count": 64,
   "id": "3156f2de-3e06-4666-94d0-7361fe820a04",
   "metadata": {},
   "outputs": [],
   "source": [
    "plot_result(xbg_result, model='XG Boost', fname=f'figures/{algo}_cv_result')\n",
    "plt.show()"
   ]
  },
  {
   "cell_type": "markdown",
   "id": "b85f5105-6ce6-4226-86d3-bbf5da09d22f",
   "metadata": {},
   "source": [
    "### Feature Importance"
   ]
  },
  {
   "cell_type": "code",
   "execution_count": 65,
   "id": "d3eea2a4-3544-4ba4-9f0a-19e03c606e81",
   "metadata": {},
   "outputs": [],
   "source": [
    "xgb_clf.fit(X=X_dummies, y=y)"
   ]
  },
  {
   "cell_type": "code",
   "execution_count": 66,
   "id": "98497b6a-a5aa-4a8b-9f4c-688b304bb8d7",
   "metadata": {},
   "outputs": [],
   "source": [
    "fi = pd.Series(xgb_clf.feature_importances_, \n",
    "               index=X_dummies.columns)"
   ]
  },
  {
   "cell_type": "code",
   "execution_count": 67,
   "id": "9285fce2-a69b-41b9-b499-cd97e58734e4",
   "metadata": {},
   "outputs": [],
   "source": [
    "fi.nlargest(25).sort_values().plot.barh(figsize=(10, 5), \n",
    "                                        title='Feature Importance')\n",
    "sns.despine()\n",
    "plt.tight_layout();\n",
    "plt.show()"
   ]
  },
  {
   "cell_type": "markdown",
   "id": "74d93415-e4af-4516-a8d0-4385db65d3a6",
   "metadata": {},
   "source": [
    "## LightGBM\n",
    "\n",
    "### Configuring"
   ]
  },
  {
   "cell_type": "code",
   "execution_count": 68,
   "id": "07331018-9f11-439d-97ca-4e427deabd48",
   "metadata": {},
   "outputs": [],
   "source": [
    "lgb_clf = LGBMClassifier(boosting_type='gbdt',\n",
    "                         # device='gpu',\n",
    "                         objective='binary',          \n",
    "                         metric='auc',\n",
    "                         num_leaves=31,               \n",
    "                         max_depth=-1,                \n",
    "                         learning_rate=0.1,          \n",
    "                         n_estimators=100,            \n",
    "                         subsample_for_bin=200000,    \n",
    "                         class_weight=None,           \n",
    "                         min_split_gain=0.0,          \n",
    "                         min_child_weight=0.001,      \n",
    "                         min_child_samples=20,        \n",
    "                         subsample=1.0,               \n",
    "                         subsample_freq=0,            \n",
    "                         colsample_bytree=1.0,        \n",
    "                         reg_alpha=0.0,               \n",
    "                         reg_lambda=0.0,              \n",
    "                         random_state=42,             \n",
    "                         n_jobs=-1,                   \n",
    "                         silent=False,\n",
    "                         importance_type='gain',      \n",
    "                        )"
   ]
  },
  {
   "cell_type": "markdown",
   "id": "e9170be5-5ac0-472c-a8e3-1a0be5b9b867",
   "metadata": {},
   "source": [
    "### Cross-Validating\n",
    "\n",
    "#### Using Categorical Features"
   ]
  },
  {
   "cell_type": "code",
   "execution_count": 69,
   "id": "9e716f5d-ec2a-4d09-9670-cb16cfab9672",
   "metadata": {},
   "outputs": [],
   "source": [
    "algo = 'lgb_factors'"
   ]
  },
  {
   "cell_type": "code",
   "execution_count": 70,
   "id": "f324ab6c-1337-4452-b363-3b531de39381",
   "metadata": {},
   "outputs": [],
   "source": [
    "fname = results_path / f'{algo}.joblib'\n",
    "\n",
    "if not Path(fname).exists():\n",
    "    lgb_factor_cv_result, run_time[algo] = run_cv(lgb_clf, X=X_factors, fit_params={'categorical_feature': cat_cols})\n",
    "    joblib.dump(lgb_factor_cv_result, fname)\n",
    "else:\n",
    "    lgb_factor_cv_result = joblib.load(fname)"
   ]
  },
  {
   "cell_type": "markdown",
   "id": "56443a72-a19d-4adb-9d70-208191886cd5",
   "metadata": {},
   "source": [
    "#### Plotting Results"
   ]
  },
  {
   "cell_type": "code",
   "execution_count": 71,
   "id": "7f7c15a2-dbea-4623-85c4-8b2275d7bcca",
   "metadata": {},
   "outputs": [],
   "source": [
    "lgb_factor_result = stack_results(lgb_factor_cv_result)\n",
    "\n",
    "lgb_factor_result.groupby(['Metric', 'Dataset']).Value.mean().unstack()"
   ]
  },
  {
   "cell_type": "code",
   "execution_count": 72,
   "id": "d94e3c9d-830e-4d79-85a4-ed3efcc80c86",
   "metadata": {},
   "outputs": [],
   "source": [
    "plot_result(lgb_factor_result, model='Light GBM | Factors', fname=f'figures/{algo}_cv_result')\n",
    "plt.show()"
   ]
  },
  {
   "cell_type": "markdown",
   "id": "9481b67c-3b9b-4b9e-a63c-5f279d97fe08",
   "metadata": {},
   "source": [
    "#### Using Dummy Variables"
   ]
  },
  {
   "cell_type": "code",
   "execution_count": 73,
   "id": "cc4ea156-c7fc-44b5-9119-d2890ddcdafb",
   "metadata": {},
   "outputs": [],
   "source": [
    "algo = 'lgb_dummies'"
   ]
  },
  {
   "cell_type": "code",
   "execution_count": 74,
   "id": "eedd7b9f-5184-4d6d-b486-c1af0ae72f69",
   "metadata": {},
   "outputs": [],
   "source": [
    "fname = results_path / f'{algo}.joblib'\n",
    "\n",
    "if not Path(fname).exists():\n",
    "    lgb_dummy_cv_result, run_time[algo] = run_cv(lgb_clf)\n",
    "    joblib.dump(lgb_dummy_cv_result, fname)\n",
    "else:\n",
    "    lgb_dummy_cv_result = joblib.load(fname)"
   ]
  },
  {
   "cell_type": "markdown",
   "id": "32bd1177-3d1a-4dd5-985b-03987fec626b",
   "metadata": {},
   "source": [
    "#### Plotting Results"
   ]
  },
  {
   "cell_type": "code",
   "execution_count": 75,
   "id": "f7499d8c-478e-488e-b593-6e63deb97c30",
   "metadata": {},
   "outputs": [],
   "source": [
    "lgb_dummy_result = stack_results(lgb_dummy_cv_result)\n",
    "\n",
    "lgb_dummy_result.groupby(['Metric', 'Dataset']).Value.mean().unstack()"
   ]
  },
  {
   "cell_type": "code",
   "execution_count": 76,
   "id": "ffe53db2-c1c8-4984-b124-e1d87fd636f9",
   "metadata": {},
   "outputs": [],
   "source": [
    "plot_result(lgb_dummy_result, model='Light GBM | Factors', fname=f'figures/{algo}_cv_result')\n",
    "plt.show()"
   ]
  },
  {
   "cell_type": "markdown",
   "id": "4d7653f8-57eb-46b1-82d9-364ffe86e634",
   "metadata": {},
   "source": [
    "## Catboost\n",
    "\n",
    "### CPU\n",
    "\n",
    "#### Configuring"
   ]
  },
  {
   "cell_type": "code",
   "execution_count": 77,
   "id": "8c6bfc2f-02d9-4445-9678-d7ea2a13e072",
   "metadata": {},
   "outputs": [],
   "source": [
    "cat_clf = CatBoostClassifier()"
   ]
  },
  {
   "cell_type": "markdown",
   "id": "51206c41-53cc-44ac-ab9e-a793e5ab259e",
   "metadata": {},
   "source": [
    "#### Cross-Validating"
   ]
  },
  {
   "cell_type": "code",
   "execution_count": 79,
   "id": "039923a0-2fd2-4dd3-ad64-4ac2192cf347",
   "metadata": {},
   "outputs": [],
   "source": [
    "s = pd.Series(X_factors.columns.tolist())\n",
    "\n",
    "cat_cols_idx = s[s.isin(cat_cols)].index.tolist()"
   ]
  },
  {
   "cell_type": "code",
   "execution_count": 80,
   "id": "1eca8601-a51b-4ead-bee8-d0edcf906fe0",
   "metadata": {},
   "outputs": [],
   "source": [
    "algo = 'catboost'"
   ]
  },
  {
   "cell_type": "code",
   "execution_count": 81,
   "id": "80c50035-5abe-4650-b7c5-1a416ce6a3cb",
   "metadata": {},
   "outputs": [],
   "source": [
    "fname = results_path / f'{algo}.joblib'\n",
    "\n",
    "if not Path(fname).exists():\n",
    "    fit_params = {'cat_features': cat_cols_idx}\n",
    "    cat_cv_result, run_time[algo] = run_cv(cat_clf,\n",
    "                                           X=X_factors,\n",
    "                                           fit_params=fit_params,\n",
    "                                           n_jobs=-1)\n",
    "    joblib.dump(cat_cv_result, fname)\n",
    "else:\n",
    "    cat_cv_result = joblib.load(fname)"
   ]
  },
  {
   "cell_type": "markdown",
   "id": "032bf839-f4b4-486d-8571-a8ca558c356e",
   "metadata": {},
   "source": [
    "#### Plotting Results"
   ]
  },
  {
   "cell_type": "code",
   "execution_count": 82,
   "id": "ad9db1c5-1a0a-43dc-a3f5-75a7fe7a3f15",
   "metadata": {},
   "outputs": [],
   "source": [
    "cat_result = stack_results(cat_cv_result)\n",
    "\n",
    "cat_result.groupby(['Metric', 'Dataset']).Value.mean().unstack()"
   ]
  },
  {
   "cell_type": "code",
   "execution_count": 83,
   "id": "fe125d1e-bbbe-4901-a512-f358322e8cc5",
   "metadata": {},
   "outputs": [],
   "source": [
    "plot_result(cat_result, model='CatBoost', fname=f'figures/{algo}_cv_result')\n",
    "plt.show()"
   ]
  },
  {
   "cell_type": "markdown",
   "id": "be11a721-8d13-4e46-a62a-1f2cc92e1de9",
   "metadata": {},
   "source": [
    "### GPU\n",
    "\n",
    "#### Configuring"
   ]
  },
  {
   "cell_type": "code",
   "execution_count": 84,
   "id": "2e6892c0-2701-422f-a391-8b1858e05614",
   "metadata": {},
   "outputs": [],
   "source": [
    "cat_clf_gpu = CatBoostClassifier(task_type='GPU')"
   ]
  },
  {
   "cell_type": "markdown",
   "id": "46a0be05-29c4-4d28-a7f3-a4b9b17b2650",
   "metadata": {},
   "source": [
    "#### Cross-Validating"
   ]
  },
  {
   "cell_type": "code",
   "execution_count": 85,
   "id": "d94b5c8a-a629-4d3e-a39c-6bddacf0bad9",
   "metadata": {},
   "outputs": [],
   "source": [
    "s = pd.Series(X_factors.columns.tolist())\n",
    "\n",
    "cat_cols_idx = s[s.isin(cat_cols)].index.tolist()"
   ]
  },
  {
   "cell_type": "code",
   "execution_count": 86,
   "id": "66a5447f-8c48-4741-b42b-31c2d4db1297",
   "metadata": {},
   "outputs": [],
   "source": [
    "algo = 'catboost_gpu'"
   ]
  },
  {
   "cell_type": "code",
   "execution_count": 87,
   "id": "c959e117-2a58-438e-8871-085812b66b95",
   "metadata": {},
   "outputs": [],
   "source": [
    "fname = results_path / f'{algo}.joblib'\n",
    "\n",
    "if not Path(fname).exists():\n",
    "    fit_params = {'cat_features': cat_cols_idx}\n",
    "    cat_gpu_cv_result, run_time[algo] = run_cv(cat_clf_gpu,\n",
    "                                               y=y,\n",
    "                                               X=X_factors,\n",
    "                                               fit_params=fit_params, \n",
    "                                               n_jobs=1)\n",
    "    joblib.dump(cat_gpu_cv_result, fname)\n",
    "else:\n",
    "    cat_gpu_cv_result = joblib.load(fname)"
   ]
  },
  {
   "cell_type": "markdown",
   "id": "e8cb6a55-5d67-44fd-bffe-fac38703d687",
   "metadata": {},
   "source": [
    "#### Plotting Results"
   ]
  },
  {
   "cell_type": "code",
   "execution_count": 88,
   "id": "2cb083f7-ed2c-49f7-9030-89ca5a4358dd",
   "metadata": {},
   "outputs": [],
   "source": [
    "cat_gpu_result = stack_results(cat_gpu_cv_result)\n",
    "\n",
    "cat_gpu_result.groupby(['Metric', 'Dataset']).Value.mean().unstack()"
   ]
  },
  {
   "cell_type": "code",
   "execution_count": 89,
   "id": "f4193c43-d067-488a-afa5-c32e6e59bd2a",
   "metadata": {},
   "outputs": [],
   "source": [
    "plot_result(cat_gpu_result, model='CatBoost', fname=f'figures/{algo}_cv_result')\n",
    "plt.show()"
   ]
  },
  {
   "cell_type": "markdown",
   "id": "76183f2f-f868-4384-828e-7ea90bc2eceb",
   "metadata": {},
   "source": [
    "### Comparing Results"
   ]
  },
  {
   "cell_type": "code",
   "execution_count": 90,
   "id": "ee23b3a6-51dd-4e7e-8bfe-88151bf95c77",
   "metadata": {},
   "outputs": [],
   "source": [
    "results = {'Baseline': dummy_result,\n",
    "           'Random Forest': rf_result,\n",
    "           'AdaBoost': ada_result,\n",
    "           'Gradient Booster': gb_result,\n",
    "           'XGBoost': xbg_result,\n",
    "           'LightGBM Dummies': lgb_dummy_result,\n",
    "           'LightGBM Factors': lgb_factor_result,\n",
    "           'CatBoost': cat_result,\n",
    "           'CatBoost GPU': cat_gpu_result}\n",
    "df = pd.DataFrame()\n",
    "for model, result in results.items():\n",
    "    df = pd.concat([df, result.groupby(['Metric', 'Dataset']\n",
    "                                       ).Value.mean().unstack()['Test'].to_frame(model)], axis=1)\n",
    "\n",
    "df.T.sort_values('AUC', ascending=False)"
   ]
  },
  {
   "cell_type": "code",
   "execution_count": 91,
   "id": "ba87bd2a-c2f3-4b0c-a6c6-b62616ca4450",
   "metadata": {},
   "outputs": [],
   "source": [
    "algo_dict = dict(zip(['dummy_clf', 'random_forest', 'adaboost', 'sklearn_gbm', \n",
    "                      'xgboost', 'lgb_factors', 'lgb_dummies', 'catboost', 'catboost_gpu'],\n",
    "                     ['Baseline', 'Random Forest', 'AdaBoost', 'Gradient Booster', \n",
    "                      'XGBoost', 'LightGBM Dummies', 'LightGBM Factors', 'CatBoost', 'CatBoost GPU']))"
   ]
  },
  {
   "cell_type": "code",
   "execution_count": 93,
   "id": "8e256c83-7511-4338-a5ab-668da4783b4e",
   "metadata": {},
   "outputs": [],
   "source": [
    "print(run_time)"
   ]
  },
  {
   "cell_type": "code",
   "execution_count": 94,
   "id": "0bccadf4-2298-422e-b4d7-942a254867fd",
   "metadata": {},
   "outputs": [],
   "source": [
    "r = pd.Series(run_time).to_frame('t')\n",
    "r.index = r.index.to_series().map(algo_dict)\n",
    "r.to_csv(results_path / 'runtime.csv')"
   ]
  },
  {
   "cell_type": "code",
   "execution_count": 97,
   "id": "1e4801fa-9abc-42b4-b058-4cce34d9a7ba",
   "metadata": {},
   "outputs": [],
   "source": [
    "r = pd.read_csv(results_path / 'runtime.csv', index_col=0)"
   ]
  },
  {
   "cell_type": "code",
   "execution_count": 98,
   "id": "8c80fcc1-8f24-40ad-be66-335a60ef8fc3",
   "metadata": {},
   "outputs": [],
   "source": [
    "auc = pd.concat([v.loc[(v.Dataset=='Test') & (v.Metric=='AUC'), 'Value'].to_frame('AUC').assign(Model=k) \n",
    "                 for k, v in results.items()])\n",
    "\n",
    "# auc = auc[auc.Model != 'Baseline']"
   ]
  },
  {
   "cell_type": "code",
   "execution_count": 99,
   "id": "19ecbe63-8611-49fa-a5fa-5e4932cc954f",
   "metadata": {},
   "outputs": [],
   "source": [
    "fig, axes = plt.subplots(figsize=(15, 5), ncols=2)\n",
    "\n",
    "idx = df.T.drop('Baseline')['AUC'].sort_values(ascending=False).index\n",
    "sns.barplot(x='Model', y='AUC',\n",
    "            data=auc,\n",
    "            order=idx, ax=axes[0])\n",
    "axes[0].set_xticklabels([c.replace(' ', '\\n') for c in idx])\n",
    "axes[0].set_ylim(.49, .58)\n",
    "axes[0].set_title('Predictive Accuracy')\n",
    "\n",
    "(r.drop('Baseline').sort_values('t').rename(index=lambda x: x.replace(' ', '\\n'))\n",
    " .plot.barh(title='Runtime', ax=axes[1], logx=True, legend=False))\n",
    "axes[1].set_xlabel('Seconds (log scale)')\n",
    "sns.despine()\n",
    "fig.tight_layout()\n",
    "plt.show()"
   ]
  },
  {
   "cell_type": "code",
   "execution_count": null,
   "id": "49230019-fa4a-4514-ba84-50cf537da844",
   "metadata": {},
   "outputs": [],
   "source": []
  }
 ],
 "metadata": {
  "kernelspec": {
   "display_name": "Python 3 (ipykernel)",
   "language": "python",
   "name": "python3"
  },
  "language_info": {
   "codemirror_mode": {
    "name": "ipython",
    "version": 3
   },
   "file_extension": ".py",
   "mimetype": "text/x-python",
   "name": "python",
   "nbconvert_exporter": "python",
   "pygments_lexer": "ipython3",
   "version": "3.12.9"
  }
 },
 "nbformat": 4,
 "nbformat_minor": 5
}
