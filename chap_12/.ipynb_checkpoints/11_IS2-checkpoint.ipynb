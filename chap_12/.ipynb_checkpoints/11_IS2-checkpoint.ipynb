{
 "cells": [
  {
   "cell_type": "markdown",
   "id": "d7978309-3a8a-4fef-a3b4-262cd02d6272",
   "metadata": {},
   "source": [
    "# Intraday Strategy, Part 2: Model Training & Signal Evaluation\n",
    "\n",
    "### Loading Libraries"
   ]
  },
  {
   "cell_type": "code",
   "execution_count": 8,
   "id": "01b5aea0-3b52-4aec-b073-136faee32b36",
   "metadata": {},
   "outputs": [],
   "source": [
    "# Numerical Computing\n",
    "import numpy as np\n",
    "\n",
    "# Data Manipulation\n",
    "import pandas as pd\n",
    "import pandas_datareader.data as web\n",
    "\n",
    "# Data Visualization\n",
    "import seaborn as sns\n",
    "import matplotlib.pyplot as plt\n",
    "from matplotlib.ticker import FuncFormatter\n",
    "\n",
    "# Collections, time \n",
    "from collections import defaultdict\n",
    "from time import time\n",
    "\n",
    "# Warnings\n",
    "import warnings\n",
    "\n",
    "# Path\n",
    "from pathlib import Path\n",
    "\n",
    "# Notebook Optimizer\n",
    "from tqdm import tqdm\n",
    "\n",
    "# SciPy\n",
    "from scipy.stats import spearmanr\n",
    "\n",
    "# Technical Analysis\n",
    "import talib\n",
    "\n",
    "# OS\n",
    "import sys, os\n",
    "\n",
    "# Light Gradient Booster\n",
    "import lightgbm as lgb"
   ]
  },
  {
   "cell_type": "code",
   "execution_count": 9,
   "id": "d632c9a2-3809-48af-9b9e-aba579e187a6",
   "metadata": {},
   "outputs": [],
   "source": [
    "%matplotlib inline"
   ]
  },
  {
   "cell_type": "code",
   "execution_count": 10,
   "id": "7b49bccc-65e1-4576-aa5b-529bb114d14f",
   "metadata": {},
   "outputs": [],
   "source": [
    "np.random.seed(42)\n",
    "\n",
    "idx = pd.IndexSlice\n",
    "\n",
    "sns.set_style('whitegrid')\n",
    "\n",
    "deciles = np.arange(.1, 1, .1)\n",
    "\n",
    "warnings.filterwarnings('ignore')"
   ]
  },
  {
   "cell_type": "code",
   "execution_count": 11,
   "id": "8d6964dc-cfea-4b3c-97bc-d20ce43ed6d4",
   "metadata": {},
   "outputs": [],
   "source": [
    "sys.path.insert(1, os.path.join(sys.path[0], '..'))\n",
    "\n",
    "from utils import format_time"
   ]
  },
  {
   "cell_type": "code",
   "execution_count": 12,
   "id": "23583fef-4601-4a77-8980-91efe270e910",
   "metadata": {},
   "outputs": [],
   "source": [
    "data_store = 'data/algoseek.h5'"
   ]
  },
  {
   "cell_type": "code",
   "execution_count": 13,
   "id": "85223cd2-3b74-4c7e-81f9-706200b8c74d",
   "metadata": {},
   "outputs": [],
   "source": [
    "result_store = 'data/intra_day.h5'"
   ]
  },
  {
   "cell_type": "code",
   "execution_count": 14,
   "id": "9ae1dbdc-a047-4139-b6cd-ce6c7684ddfd",
   "metadata": {},
   "outputs": [],
   "source": [
    "model_path = Path('models/intraday')\n",
    "\n",
    "if not model_path.exists():\n",
    "    model_path.mkdir(parents=True)"
   ]
  },
  {
   "cell_type": "markdown",
   "id": "01a1d713-949d-42c1-a22c-86c41ed65bce",
   "metadata": {},
   "source": [
    "### Loading Model Data"
   ]
  },
  {
   "cell_type": "code",
   "execution_count": 15,
   "id": "e6a7bbff-6edf-4346-aea9-a435e21a3f79",
   "metadata": {},
   "outputs": [],
   "source": [
    "data = pd.read_hdf(data_store, 'model_data2')"
   ]
  },
  {
   "cell_type": "code",
   "execution_count": 16,
   "id": "242f1067-08d1-42f4-a88c-7c49b345f526",
   "metadata": {},
   "outputs": [],
   "source": [
    "data.info(null_counts=True)"
   ]
  },
  {
   "cell_type": "code",
   "execution_count": 17,
   "id": "bb602ce8-03fd-47d3-a19c-c5fbaf713c21",
   "metadata": {},
   "outputs": [],
   "source": [
    "data.sample(frac=.1).describe(percentiles=np.arange(.1, 1, .1))"
   ]
  },
  {
   "cell_type": "markdown",
   "id": "bf391ee9-99e4-463f-8535-fa87bab7e1bb",
   "metadata": {},
   "source": [
    "### Model Training\n",
    "\n",
    "#### Helper Functions"
   ]
  },
  {
   "cell_type": "code",
   "execution_count": 18,
   "id": "c939e3cc-54a7-4b53-ad6e-c1089444e649",
   "metadata": {},
   "outputs": [],
   "source": [
    "class MultipleTimeSeriesCV:\n",
    "    \"\"\"Generates tuples of train_idx, test_idx pairs\n",
    "    Assumes the MultiIndex contains levels 'symbol' and 'date'\n",
    "    purges overlapping outcomes\"\"\"\n",
    "\n",
    "    def __init__(self,\n",
    "                 n_splits=3,\n",
    "                 train_period_length=126,\n",
    "                 test_period_length=21,\n",
    "                 lookahead=None,\n",
    "                 date_idx='date',\n",
    "                 shuffle=False):\n",
    "        self.n_splits = n_splits\n",
    "        self.lookahead = lookahead\n",
    "        self.test_length = test_period_length\n",
    "        self.train_length = train_period_length\n",
    "        self.shuffle = shuffle\n",
    "        self.date_idx = date_idx\n",
    "\n",
    "    def split(self, X, y=None, groups=None):\n",
    "        unique_dates = X.index.get_level_values(self.date_idx).unique()\n",
    "        days = sorted(unique_dates, reverse=True)\n",
    "        split_idx = []\n",
    "        for i in range(self.n_splits):\n",
    "            test_end_idx = i * self.test_length\n",
    "            test_start_idx = test_end_idx + self.test_length\n",
    "            train_end_idx = test_start_idx + self.lookahead - 1\n",
    "            train_start_idx = train_end_idx + self.train_length + self.lookahead - 1\n",
    "            split_idx.append([train_start_idx, train_end_idx,\n",
    "                              test_start_idx, test_end_idx])\n",
    "\n",
    "        dates = X.reset_index()[[self.date_idx]]\n",
    "        for train_start, train_end, test_start, test_end in split_idx:\n",
    "\n",
    "            train_idx = dates[(dates[self.date_idx] > days[train_start])\n",
    "                              & (dates[self.date_idx] <= days[train_end])].index\n",
    "            test_idx = dates[(dates[self.date_idx] > days[test_start])\n",
    "                             & (dates[self.date_idx] <= days[test_end])].index\n",
    "            if self.shuffle:\n",
    "                np.random.shuffle(list(train_idx))\n",
    "            yield train_idx.to_numpy(), test_idx.to_numpy()\n",
    "\n",
    "    def get_n_splits(self, X, y, groups=None):\n",
    "        return self.n_splits"
   ]
  },
  {
   "cell_type": "code",
   "execution_count": 19,
   "id": "fc2b0034-1cd5-4e3b-a0c4-b971f3e0233d",
   "metadata": {},
   "outputs": [],
   "source": [
    "def get_fi(model):\n",
    "    fi = model.feature_importance(importance_type='gain')\n",
    "    return (pd.Series(fi / fi.sum(),\n",
    "                      index=model.feature_name()))"
   ]
  },
  {
   "cell_type": "markdown",
   "id": "92bcf892-ee33-477e-a31e-391b9240c38b",
   "metadata": {},
   "source": [
    "#### Categorical Variables"
   ]
  },
  {
   "cell_type": "code",
   "execution_count": 20,
   "id": "56b4530a-c08b-4251-9e38-2a03adeff0f9",
   "metadata": {},
   "outputs": [],
   "source": [
    "data['stock_id'] = pd.factorize(data.index.get_level_values('ticker'), sort=True)[0]"
   ]
  },
  {
   "cell_type": "code",
   "execution_count": 21,
   "id": "3e82e105-ea5f-4ac4-aad2-8cc57145d273",
   "metadata": {},
   "outputs": [],
   "source": [
    "categoricals = ['stock_id']"
   ]
  },
  {
   "cell_type": "markdown",
   "id": "96595d3e-1737-41af-8ce7-0aa4343bb81f",
   "metadata": {},
   "source": [
    "#### Custom Metric"
   ]
  },
  {
   "cell_type": "code",
   "execution_count": 22,
   "id": "1613cd30-7596-4465-9066-7daa49603451",
   "metadata": {},
   "outputs": [],
   "source": [
    "def ic_lgbm(preds, train_data):\n",
    "    \"\"\"Custom IC eval metric for lightgbm\"\"\"\n",
    "    is_higher_better = True\n",
    "    return 'ic', spearmanr(preds, train_data.get_label())[0], is_higher_better"
   ]
  },
  {
   "cell_type": "markdown",
   "id": "a4c17d48-51f7-41c6-9406-4659056d95ab",
   "metadata": {},
   "source": [
    "#### Cross-Validation Setup"
   ]
  },
  {
   "cell_type": "code",
   "execution_count": 23,
   "id": "0702a5de-9b1f-454d-b34d-d0cbb7403f99",
   "metadata": {},
   "outputs": [],
   "source": [
    "DAY = 390\n",
    "\n",
    "MONTH = 21"
   ]
  },
  {
   "cell_type": "code",
   "execution_count": 24,
   "id": "d49aff5a-ae06-49c8-9de5-23276fb6a422",
   "metadata": {},
   "outputs": [],
   "source": [
    "def get_cv(n_splits=23):\n",
    "    return MultipleTimeSeriesCV(n_splits=n_splits,\n",
    "                                lookahead=1,\n",
    "                                test_period_length=MONTH * DAY,\n",
    "                                train_period_length=12 * MONTH * DAY,\n",
    "                                date_idx='date_time')"
   ]
  },
  {
   "cell_type": "code",
   "execution_count": 25,
   "id": "967caf88-4a4a-4349-b02d-c7730820bbe3",
   "metadata": {},
   "outputs": [],
   "source": [
    "for i, (train_idx, test_idx) in enumerate(get_cv().split(X=data)):\n",
    "    train_dates = data.iloc[train_idx].index.unique('date_time')\n",
    "    test_dates = data.iloc[test_idx].index.unique('date_time')\n",
    "    print(train_dates.min(), train_dates.max(), test_dates.min(), test_dates.max())"
   ]
  },
  {
   "cell_type": "markdown",
   "id": "7bbfe1f3-4205-4f58-bf44-0670db8c1ce2",
   "metadata": {},
   "source": [
    "### Training Model"
   ]
  },
  {
   "cell_type": "code",
   "execution_count": 26,
   "id": "5e9fa10e-a2c2-461e-9385-c2daeda63efa",
   "metadata": {},
   "outputs": [],
   "source": [
    "label = sorted(data.filter(like='fwd').columns)\n",
    "features = data.columns.difference(label).tolist()\n",
    "label = label[0]"
   ]
  },
  {
   "cell_type": "code",
   "execution_count": 27,
   "id": "4a46922c-1bf1-4155-8e51-1d74a65a3298",
   "metadata": {},
   "outputs": [],
   "source": [
    "params = dict(objective='regression',\n",
    "              metric=['rmse'],\n",
    "              device='gpu',\n",
    "              max_bin=63,\n",
    "              gpu_use_dp=False,\n",
    "              num_leaves=16,\n",
    "              min_data_in_leaf=500,\n",
    "              feature_fraction=.8,\n",
    "              verbose=-1)"
   ]
  },
  {
   "cell_type": "code",
   "execution_count": 28,
   "id": "5f7968d5-3474-454e-87cb-115de02451c5",
   "metadata": {},
   "outputs": [],
   "source": [
    "num_boost_round = 250"
   ]
  },
  {
   "cell_type": "code",
   "execution_count": 29,
   "id": "d5773c3f-08ee-42fe-8926-8a61ee03bfa5",
   "metadata": {},
   "outputs": [],
   "source": [
    "cv = get_cv(n_splits=23)"
   ]
  },
  {
   "cell_type": "code",
   "execution_count": 30,
   "id": "e36df31f-9c4e-46bd-913c-3ca85375b60a",
   "metadata": {},
   "outputs": [],
   "source": [
    "def get_scores(result):\n",
    "    return pd.DataFrame({'train': result['training']['ic'],\n",
    "                         'valid': result['valid_1']['ic']})"
   ]
  },
  {
   "cell_type": "code",
   "execution_count": 32,
   "id": "67100c0d-ec1b-4123-8bda-41d128049216",
   "metadata": {},
   "outputs": [],
   "source": [
    "start = time()\n",
    "\n",
    "for fold, (train_idx, test_idx) in enumerate(cv.split(X=data), 1):\n",
    "    # create lgb train set\n",
    "    train_set = data.iloc[train_idx, :]\n",
    "    lgb_train = lgb.Dataset(data=train_set.drop(label, axis=1),\n",
    "                            label=train_set[label],\n",
    "                            categorical_feature=categoricals)\n",
    "    \n",
    "    # create lgb test set\n",
    "    test_set = data.iloc[test_idx, :]\n",
    "    lgb_test = lgb.Dataset(data=test_set.drop(label, axis=1),\n",
    "                           label=test_set[label],\n",
    "                           categorical_feature=categoricals, \n",
    "                           reference=lgb_train)\n",
    "\n",
    "    # train model\n",
    "    evals_result = {}\n",
    "    model = lgb.train(params=params,\n",
    "                      train_set=lgb_train,\n",
    "                      valid_sets=[lgb_train, lgb_test],\n",
    "                      feval=ic_lgbm,\n",
    "                      num_boost_round=num_boost_round,\n",
    "                      evals_result=evals_result,\n",
    "                      verbose_eval=50)\n",
    "    model.save_model((model_path / f'{fold:02}.txt').as_posix())\n",
    "    \n",
    "    # get train/valid ic scores\n",
    "    scores = get_scores(evals_result)\n",
    "    scores.to_hdf(result_store, f'ic/{fold:02}')\n",
    "    \n",
    "    # get feature importance\n",
    "    fi = get_fi(model)\n",
    "    fi.to_hdf(result_store, f'fi/{fold:02}')\n",
    "    \n",
    "    # generate validation predictions\n",
    "    X_test = test_set.loc[:, model.feature_name()]\n",
    "    y_test = test_set.loc[:, [label]]\n",
    "    y_test['pred'] = model.predict(X_test)\n",
    "    y_test.to_hdf(result_store, f'predictions/{fold:02}')\n",
    "    \n",
    "    # compute average IC per minute\n",
    "    by_minute = y_test.groupby(test_set.index.get_level_values('date_time'))\n",
    "    daily_ic = by_minute.apply(lambda x: spearmanr(x[label], x.pred)[0]).mean()\n",
    "    print(f'\\nFold: {fold:02} | {format_time(time()-start)} | IC per minute: {daily_ic:.2%}\\n')"
   ]
  },
  {
   "cell_type": "markdown",
   "id": "fabbfae2-59fb-4f02-9fc4-e568b62dbd3e",
   "metadata": {},
   "source": [
    "### Signal Evaluation"
   ]
  },
  {
   "cell_type": "code",
   "execution_count": 33,
   "id": "1ec1ff24-07c6-41cf-b3f0-6dd9e95c10d4",
   "metadata": {},
   "outputs": [],
   "source": [
    "with pd.HDFStore(result_store) as store:\n",
    "    pred_keys = [k[1:] for k in store.keys() if k[1:].startswith('pred')]\n",
    "    cv_predictions = pd.concat([store[k] for k in pred_keys]).sort_index()"
   ]
  },
  {
   "cell_type": "code",
   "execution_count": 34,
   "id": "40c66ace-f46c-4ab4-8708-0b8eb7718bef",
   "metadata": {},
   "outputs": [],
   "source": [
    "cv_predictions.info(null_counts=True)"
   ]
  },
  {
   "cell_type": "code",
   "execution_count": 35,
   "id": "a77e0531-fbce-450f-9452-a2d99f71a8be",
   "metadata": {},
   "outputs": [],
   "source": [
    "time_stamp = cv_predictions.index.get_level_values('date_time')\n",
    "\n",
    "dates = sorted(np.unique(time_stamp.date))"
   ]
  },
  {
   "cell_type": "code",
   "execution_count": 36,
   "id": "b66f470c-8214-4bdc-ad3f-afd894b4f14d",
   "metadata": {},
   "outputs": [],
   "source": [
    "print(f'# Days: {len(dates)} | First: {dates[0]} | Last: {dates[-1]}')"
   ]
  },
  {
   "cell_type": "code",
   "execution_count": 37,
   "id": "dbce6ff4-c84e-4530-b4a2-6e1f466e0269",
   "metadata": {},
   "outputs": [],
   "source": [
    "n = cv_predictions.groupby('date_time').size()"
   ]
  },
  {
   "cell_type": "code",
   "execution_count": 38,
   "id": "322c7615-4c83-451e-b41a-c310c4c8ed6f",
   "metadata": {},
   "outputs": [],
   "source": [
    "incomplete_minutes = n[n<100].index"
   ]
  },
  {
   "cell_type": "code",
   "execution_count": 39,
   "id": "551274a5-dd29-45fe-8866-cb784b33be73",
   "metadata": {},
   "outputs": [],
   "source": [
    "print(f'{len(incomplete_minutes)} ({len(incomplete_minutes)/len(n):.2%})')"
   ]
  },
  {
   "cell_type": "code",
   "execution_count": 40,
   "id": "c24f839a-5107-47c9-8570-d7ec803d545b",
   "metadata": {},
   "outputs": [],
   "source": [
    "cv_predictions = cv_predictions[~time_stamp.isin(incomplete_minutes)]"
   ]
  },
  {
   "cell_type": "code",
   "execution_count": 41,
   "id": "db4b4d89-3f01-426e-93d1-72f799894ecd",
   "metadata": {},
   "outputs": [],
   "source": [
    "cv_predictions.info(null_counts=True)"
   ]
  },
  {
   "cell_type": "markdown",
   "id": "4e7a13f3-4c95-48e4-90bb-41bcaca8b395",
   "metadata": {},
   "source": [
    "### Information Coefficient\n",
    "\n",
    "#### Across All Periods"
   ]
  },
  {
   "cell_type": "code",
   "execution_count": 42,
   "id": "650f55b6-9641-4e13-86a9-71c92e68800d",
   "metadata": {},
   "outputs": [],
   "source": [
    "ic = spearmanr(cv_predictions.fwd1min, cv_predictions.pred)[0]"
   ]
  },
  {
   "cell_type": "markdown",
   "id": "8aa1e9b0-c5ce-401c-aab4-1814d9463e3a",
   "metadata": {},
   "source": [
    "#### By Minute"
   ]
  },
  {
   "cell_type": "code",
   "execution_count": 43,
   "id": "780ea4af-e5d8-46fc-aac7-12aa96b1546e",
   "metadata": {},
   "outputs": [],
   "source": [
    "minutes = cv_predictions.index.get_level_values('date_time')\n",
    "\n",
    "by_minute = cv_predictions.groupby(minutes)"
   ]
  },
  {
   "cell_type": "code",
   "execution_count": 44,
   "id": "56dd7d66-a088-4315-adfe-865220c57253",
   "metadata": {},
   "outputs": [],
   "source": [
    "ic_by_minute = by_minute.apply(lambda x: spearmanr(x.fwd1min, x.pred)[0])\n",
    "\n",
    "minute_ic_mean = ic_by_minute.mean()\n",
    "minute_ic_median = ic_by_minute.median()\n",
    "\n",
    "print(f'\\nAll periods: {ic:6.2%} | By Minute: {minute_ic_mean: 6.2%} (Median: {minute_ic_median: 6.2%})')"
   ]
  },
  {
   "cell_type": "code",
   "execution_count": 45,
   "id": "dc698144-3542-4f22-a454-b21d9f4b0b14",
   "metadata": {},
   "outputs": [],
   "source": [
    "ax = ic_by_minute.rolling(5*650).mean().plot(figsize=(14, 5), title='IC (5-day MA)', rot=0)\n",
    "\n",
    "ax.axhline(minute_ic_mean, ls='--', lw=1, c='k')\n",
    "ax.yaxis.set_major_formatter(FuncFormatter(lambda y, _: '{:.0%}'.format(y)))\n",
    "ax.set_ylabel('Information Coefficient')\n",
    "ax.set_xlabel('')\n",
    "sns.despine()\n",
    "plt.tight_layout()\n",
    "plt.show()"
   ]
  },
  {
   "cell_type": "markdown",
   "id": "110cda4f-7d08-4dd2-a566-29b989b214ee",
   "metadata": {},
   "source": [
    "### Vectorized Backtest of a Naïve Strategy: Financial Performance by Signal Quantile\n",
    "\n",
    "#### Average Returns by Minute Bar & Signal Quantile"
   ]
  },
  {
   "cell_type": "code",
   "execution_count": 46,
   "id": "3f0ed8aa-5627-4a7f-a6b9-6fd56df042b9",
   "metadata": {},
   "outputs": [],
   "source": [
    "by_minute = cv_predictions.groupby(minutes, group_keys=False)"
   ]
  },
  {
   "cell_type": "code",
   "execution_count": 47,
   "id": "ac0f10f4-3826-4ba6-9573-518248fa939a",
   "metadata": {},
   "outputs": [],
   "source": [
    "labels = list(range(1, 6))\n",
    "\n",
    "cv_predictions['quintile'] = by_minute.apply(lambda x: pd.qcut(x.pred, q=5, labels=labels).astype(int))"
   ]
  },
  {
   "cell_type": "code",
   "execution_count": 48,
   "id": "466783c0-d529-482d-9d20-5ea4569ef5ae",
   "metadata": {},
   "outputs": [],
   "source": [
    "labels = list(range(1, 11))\n",
    "\n",
    "cv_predictions['decile'] = by_minute.apply(lambda x: pd.qcut(x.pred, q=10, labels=labels).astype(int))"
   ]
  },
  {
   "cell_type": "code",
   "execution_count": 49,
   "id": "ba003671-abf2-417e-826d-a78d820edba4",
   "metadata": {},
   "outputs": [],
   "source": [
    "cv_predictions.info(show_counts=True)"
   ]
  },
  {
   "cell_type": "markdown",
   "id": "6c783ddc-80f3-4459-b95d-b9881eaa633e",
   "metadata": {},
   "source": [
    "### Descriptive Statistics of Intraday Returns by Quintile & Decile of Model Predictions"
   ]
  },
  {
   "cell_type": "code",
   "execution_count": 50,
   "id": "d0baa7f2-b712-4df0-8273-73b26fdd65fa",
   "metadata": {},
   "outputs": [],
   "source": [
    "def compute_intraday_returns_by_quantile(predictions, quantile='quintile'):\n",
    "    by_quantile = cv_predictions.reset_index().groupby(['date_time', quantile])\n",
    "    return by_quantile.fwd1min.mean().unstack(quantile).sort_index()"
   ]
  },
  {
   "cell_type": "code",
   "execution_count": 51,
   "id": "0604963f-be14-4d10-98f6-4c5a2f716c2a",
   "metadata": {},
   "outputs": [],
   "source": [
    "intraday_returns = {'quintile': compute_intraday_returns_by_quantile(cv_predictions),\n",
    "                    'decile': compute_intraday_returns_by_quantile(cv_predictions, quantile='decile')}"
   ]
  },
  {
   "cell_type": "code",
   "execution_count": 52,
   "id": "92e1dde4-a20b-4386-895a-ecd4b2b0fdb5",
   "metadata": {},
   "outputs": [],
   "source": [
    "def summarize_intraday_returns(returns):\n",
    "    summary = returns.describe(deciles)\n",
    "    return pd.concat([summary.iloc[:1].applymap(lambda x: f'{x:,.0f}'),\n",
    "                      summary.iloc[1:].applymap(lambda x: f'{x:.4%}')])"
   ]
  },
  {
   "cell_type": "code",
   "execution_count": 53,
   "id": "32b48fdb-a954-466c-8519-b57c00b4f213",
   "metadata": {},
   "outputs": [],
   "source": [
    "summary = summarize_intraday_returns(intraday_returns['quintile'])\n",
    "summary"
   ]
  },
  {
   "cell_type": "code",
   "execution_count": 54,
   "id": "416c956a-8840-4dce-a748-a61a2f46198f",
   "metadata": {},
   "outputs": [],
   "source": [
    "summary = summarize_intraday_returns(intraday_returns['decile'])\n",
    "summary"
   ]
  },
  {
   "cell_type": "markdown",
   "id": "20d1e0c3-9dc3-44f5-84db-e7990b68a221",
   "metadata": {},
   "source": [
    "#### Cumulative Performance by Quantile"
   ]
  },
  {
   "cell_type": "code",
   "execution_count": 55,
   "id": "87d0da27-3851-46f9-829e-4ddc8579eb6e",
   "metadata": {},
   "outputs": [],
   "source": [
    "def plot_cumulative_performance(returns, quantile='quintile', trading_costs_bp=0):\n",
    "    \"\"\"Plot average return by quantile (in bp) as well as cumulative return, \n",
    "        both net of trading costs (provided as basis points; 1bp = 0.01%) \n",
    "    \"\"\"\n",
    "\n",
    "    fig, axes = plt.subplots(figsize=(14, 4), ncols=2)\n",
    "\n",
    "    sns.barplot(y='fwd1min', x=quantile,\n",
    "                data=returns[quantile].mul(10000).sub(trading_costs_bp).stack().to_frame(\n",
    "                    'fwd1min').reset_index(),\n",
    "                ax=axes[0])\n",
    "    axes[0].set_title(f'Avg. 1-min Return by Signal {quantile.capitalize()}')\n",
    "    axes[0].set_ylabel('Return (bps)')\n",
    "    axes[0].set_xlabel(quantile.capitalize())\n",
    "\n",
    "    title = f'Cumulative Return by Signal {quantile.capitalize()}'\n",
    "    (returns[quantile].sort_index().add(1).sub(trading_costs_bp/10000).cumprod().sub(1)\n",
    "     .plot(ax=axes[1], title=title))\n",
    "\n",
    "    axes[1].yaxis.set_major_formatter(\n",
    "        FuncFormatter(lambda y, _: '{:.0%}'.format(y)))\n",
    "    axes[1].set_xlabel('')\n",
    "    axes[1].set_ylabel('Return')\n",
    "    fig.suptitle(f'Average and Cumulative Performance (Net of Trading Cost: {trading_costs_bp:.2f}bp)')\n",
    "\n",
    "    sns.despine()\n",
    "    fig.tight_layout()"
   ]
  },
  {
   "cell_type": "markdown",
   "id": "c576ac0b-af62-4956-a27b-b4a040fe4b4a",
   "metadata": {},
   "source": [
    "#### Without Trading Costs"
   ]
  },
  {
   "cell_type": "code",
   "execution_count": 56,
   "id": "41a8c4c8-6bff-41f5-ac0a-80c477a16097",
   "metadata": {},
   "outputs": [],
   "source": [
    "plot_cumulative_performance(intraday_returns, 'quintile', trading_costs_bp=0)"
   ]
  },
  {
   "cell_type": "code",
   "execution_count": 57,
   "id": "b32befed-a904-4d0d-a2ea-ce19852738cc",
   "metadata": {},
   "outputs": [],
   "source": [
    "plot_cumulative_performance(intraday_returns, 'decile', trading_costs_bp=0)"
   ]
  },
  {
   "cell_type": "markdown",
   "id": "84596e28-5b88-4b05-a903-7e840f0da0c1",
   "metadata": {},
   "source": [
    "#### With Extremely Low Trading Costs"
   ]
  },
  {
   "cell_type": "code",
   "execution_count": 58,
   "id": "8f54cf5f-05f4-4fad-a348-7b9d995b15a5",
   "metadata": {},
   "outputs": [],
   "source": [
    "plot_cumulative_performance(intraday_returns, 'quintile', trading_costs_bp=.2)"
   ]
  },
  {
   "cell_type": "code",
   "execution_count": 59,
   "id": "1d63db5a-ff2f-4d93-9c1b-76d84ed8d906",
   "metadata": {},
   "outputs": [],
   "source": [
    "plot_cumulative_performance(intraday_returns, 'decile', trading_costs_bp=.3)"
   ]
  },
  {
   "cell_type": "markdown",
   "id": "0e3ced63-5cab-4fa7-8263-d3d80fced7bc",
   "metadata": {},
   "source": [
    "### Feature Importance"
   ]
  },
  {
   "cell_type": "code",
   "execution_count": 60,
   "id": "32620b8e-25a8-4657-a082-dbba821198e4",
   "metadata": {},
   "outputs": [],
   "source": [
    "with pd.HDFStore(result_store) as store:\n",
    "    fi_keys = [k[1:] for k in store.keys() if k[1:].startswith('fi')]\n",
    "    fi = pd.concat([store[k].to_frame(i) for i, k in enumerate(fi_keys, 1)], axis=1)"
   ]
  },
  {
   "cell_type": "code",
   "execution_count": 62,
   "id": "f4549bdb-fc36-479d-8738-10087aeb2278",
   "metadata": {},
   "outputs": [],
   "source": [
    "fi.mean(1).nsmallest(25).plot.barh(figsize=(12, 8), title='LightGBM Feature Importance (gain)')\n",
    "sns.despine()\n",
    "plt.tight_layout();\n",
    "plt.show()"
   ]
  },
  {
   "cell_type": "code",
   "execution_count": null,
   "id": "2a7f0227-8dc6-4282-95fd-095cfd664e3f",
   "metadata": {},
   "outputs": [],
   "source": []
  }
 ],
 "metadata": {
  "kernelspec": {
   "display_name": "Python 3 (ipykernel)",
   "language": "python",
   "name": "python3"
  },
  "language_info": {
   "codemirror_mode": {
    "name": "ipython",
    "version": 3
   },
   "file_extension": ".py",
   "mimetype": "text/x-python",
   "name": "python",
   "nbconvert_exporter": "python",
   "pygments_lexer": "ipython3",
   "version": "3.12.9"
  }
 },
 "nbformat": 4,
 "nbformat_minor": 5
}
