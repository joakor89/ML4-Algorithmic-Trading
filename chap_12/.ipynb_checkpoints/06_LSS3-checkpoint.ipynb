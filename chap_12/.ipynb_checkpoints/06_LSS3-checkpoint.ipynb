{
 "cells": [
  {
   "cell_type": "markdown",
   "id": "eca5a60c-0c06-4cdd-be84-012aeecacb27",
   "metadata": {},
   "source": [
    "# Long-Short Strategy, Part 3: Evaluating our Boosting Model Signals\n",
    "\n",
    "### Loading Libraries"
   ]
  },
  {
   "cell_type": "code",
   "execution_count": 1,
   "id": "a5f43e31-368f-4e31-a86d-5c6189ce4e1a",
   "metadata": {},
   "outputs": [],
   "source": [
    "# Numerical Computing\n",
    "import numpy as np\n",
    "\n",
    "# Data Manipulation\n",
    "import pandas as pd\n",
    "\n",
    "# Warnings\n",
    "import warnings\n",
    "\n",
    "# pATH\n",
    "from pathlib import Path\n",
    "\n",
    "# OS & Time\n",
    "import sys, os\n",
    "from time import time\n",
    "from io import StringIO\n",
    "from datetime import datetime\n",
    "\n",
    "# Notebook Optimizer\n",
    "from tqdm import tqdm\n",
    "\n",
    "# SciPy\n",
    "from scipy.stats import spearmanr, pearsonr\n",
    "\n",
    "# StatsModels\n",
    "import statsmodels.api as sm\n",
    "\n",
    "# Data Visualization\n",
    "import graphviz\n",
    "import seaborn as sns\n",
    "import matplotlib.pyplot as plt\n",
    "\n",
    "# Itertool & Collections\n",
    "from itertools import product\n",
    "from collections import defaultdict\n",
    "\n",
    "# Technical Analysis\n",
    "import talib\n",
    "from talib import RSI, BBANDS, MACD, ATR\n",
    "\n",
    "# Boosting Models\n",
    "import lightgbm as lgb\n",
    "from catboost import Pool, CatBoostRegressor\n",
    "\n",
    "# Alphalens\n",
    "from alphalens import plotting\n",
    "from alphalens import performance as perf\n",
    "from alphalens.utils import get_clean_factor_and_forward_returns, rate_of_return, std_conversion\n",
    "from alphalens.tears import (create_summary_tear_sheet,\n",
    "                             create_full_tear_sheet)\n",
    "\n",
    "# Scikit-Learn\n",
    "from sklearn.linear_model import LinearRegression"
   ]
  },
  {
   "cell_type": "code",
   "execution_count": 3,
   "id": "9405ba42-10cd-4dee-8af3-39192c03068d",
   "metadata": {},
   "outputs": [],
   "source": [
    "sns.set_style('whitegrid')\n",
    "\n",
    "warnings.filterwarnings('ignore')"
   ]
  },
  {
   "cell_type": "code",
   "execution_count": 4,
   "id": "f8f024e6-6237-4c74-9a3f-91ce21e81b42",
   "metadata": {},
   "outputs": [],
   "source": [
    "YEAR = 252\n",
    "\n",
    "idx = pd.IndexSlice"
   ]
  },
  {
   "cell_type": "code",
   "execution_count": 5,
   "id": "a5a19ae0-b9ea-442b-95a0-5903c36e3c5e",
   "metadata": {},
   "outputs": [],
   "source": [
    "sys.path.insert(1, os.path.join(sys.path[0], '..'))\n",
    "from utils import MultipleTimeSeriesCV"
   ]
  },
  {
   "cell_type": "code",
   "execution_count": 6,
   "id": "6ecc7ad2-cea6-49a3-bf93-9f2b5435eda7",
   "metadata": {},
   "outputs": [],
   "source": [
    "scope_params = ['lookahead', 'train_length', 'test_length']\n",
    "daily_ic_metrics = ['daily_ic_mean', 'daily_ic_mean_n', 'daily_ic_median', 'daily_ic_median_n']\n",
    "lgb_train_params = ['learning_rate', 'num_leaves', 'feature_fraction', 'min_data_in_leaf']\n",
    "catboost_train_params = ['max_depth', 'min_child_samples']"
   ]
  },
  {
   "cell_type": "code",
   "execution_count": 7,
   "id": "6daa1dc2-7e78-4365-8e2e-3f0f055ea798",
   "metadata": {},
   "outputs": [],
   "source": [
    "results_path = Path('results', 'us_stocks')\n",
    "\n",
    "if not results_path.exists():\n",
    "    results_path.mkdir(parents=True)"
   ]
  },
  {
   "cell_type": "markdown",
   "id": "ce38306d-a470-4309-b5b7-089d4fb184dd",
   "metadata": {},
   "source": [
    "## Collecting Data\n",
    "\n",
    "### LightGBM\n",
    "\n",
    "#### Summary Metrics by Fold"
   ]
  },
  {
   "cell_type": "code",
   "execution_count": 8,
   "id": "20bc197c-25ea-44bf-957c-156af0805ad0",
   "metadata": {},
   "outputs": [],
   "source": [
    "with pd.HDFStore(results_path / 'tuning_lgb.h5') as store:\n",
    "    for i, key in enumerate(\n",
    "        [k[1:] for k in store.keys() if k[1:].startswith('metrics')]):\n",
    "        _, t, train_length, test_length = key.split('/')[:4]\n",
    "        attrs = {\n",
    "            'lookahead': t,\n",
    "            'train_length': train_length,\n",
    "            'test_length': test_length\n",
    "        }\n",
    "        s = store[key].to_dict()\n",
    "        s.update(attrs)\n",
    "        if i == 0:\n",
    "            lgb_metrics = pd.Series(s).to_frame(i)\n",
    "        else:\n",
    "            lgb_metrics[i] = pd.Series(s)\n",
    "\n",
    "id_vars = scope_params + lgb_train_params + daily_ic_metrics\n",
    "lgb_metrics = pd.melt(lgb_metrics.T.drop('t', axis=1), \n",
    "                  id_vars=id_vars, \n",
    "                  value_name='ic', \n",
    "                  var_name='boost_rounds').dropna().apply(pd.to_numeric)"
   ]
  },
  {
   "cell_type": "code",
   "execution_count": 9,
   "id": "f530b7d0-1356-4ee4-9be9-4b2519615688",
   "metadata": {},
   "outputs": [],
   "source": [
    "lgb_metrics.to_hdf('data/model_tuning.h5', 'lgb/metrics')\n",
    "\n",
    "lgb_metrics.info()"
   ]
  },
  {
   "cell_type": "code",
   "execution_count": 10,
   "id": "4ce4b8c6-7a8c-4264-99e4-423063367326",
   "metadata": {},
   "outputs": [],
   "source": [
    "lgb_metrics.groupby(scope_params).size()"
   ]
  },
  {
   "cell_type": "markdown",
   "id": "56fa75b9-4e1f-45b2-82fb-0deb5b62c163",
   "metadata": {},
   "source": [
    "#### Information Coefficient by Day"
   ]
  },
  {
   "cell_type": "code",
   "execution_count": 11,
   "id": "df6cccf3-15d2-49e2-8f6d-f5f27e12be5b",
   "metadata": {},
   "outputs": [],
   "source": [
    "int_cols = ['lookahead', 'train_length', 'test_length', 'boost_rounds']"
   ]
  },
  {
   "cell_type": "code",
   "execution_count": 12,
   "id": "6b772853-3f29-48e1-8b3b-a5ae740fde09",
   "metadata": {},
   "outputs": [],
   "source": [
    "lgb_ic = []\n",
    "\n",
    "with pd.HDFStore(results_path / 'tuning_lgb.h5') as store:\n",
    "    keys = [k[1:] for k in store.keys()]\n",
    "    for key in keys:\n",
    "        _, t, train_length, test_length = key.split('/')[:4]\n",
    "        if key.startswith('daily_ic'):\n",
    "            df = (store[key]\n",
    "                  .drop(['boosting', 'objective', 'verbose'], axis=1)\n",
    "                 .assign(lookahead=t, \n",
    "                         train_length=train_length, \n",
    "                         test_length=test_length))\n",
    "            lgb_ic.append(df)\n",
    "    lgb_ic = pd.concat(lgb_ic).reset_index()"
   ]
  },
  {
   "cell_type": "code",
   "execution_count": 13,
   "id": "18b3df07-5976-40be-b996-09a2d147d024",
   "metadata": {},
   "outputs": [],
   "source": [
    "id_vars = ['date'] + scope_params + lgb_train_params\n",
    "\n",
    "lgb_ic = pd.melt(lgb_ic, \n",
    "                 id_vars=id_vars, \n",
    "                 value_name='ic', \n",
    "                 var_name='boost_rounds').dropna()\n",
    "\n",
    "lgb_ic.loc[:, int_cols] = lgb_ic.loc[:, int_cols].astype(int)"
   ]
  },
  {
   "cell_type": "code",
   "execution_count": 14,
   "id": "88dd9ff6-0bc4-48d1-9b59-c88fb807aae8",
   "metadata": {},
   "outputs": [],
   "source": [
    "lgb_ic.to_hdf('data/model_tuning.h5', 'lgb/ic')\n",
    "\n",
    "lgb_ic.info(null_counts=True)"
   ]
  },
  {
   "cell_type": "code",
   "execution_count": 15,
   "id": "3b6a962d-06c1-4e3a-8bd5-1866637cbc99",
   "metadata": {},
   "outputs": [],
   "source": [
    "lgb_daily_ic = lgb_ic.groupby(id_vars[1:] + ['boost_rounds']).ic.mean().to_frame('ic').reset_index()\n",
    "lgb_daily_ic.to_hdf('data/model_tuning.h5', 'lgb/daily_ic')\n",
    "\n",
    "lgb_daily_ic.info()"
   ]
  },
  {
   "cell_type": "code",
   "execution_count": 16,
   "id": "68c3e564-13f4-447e-9675-4494b6e8f858",
   "metadata": {},
   "outputs": [],
   "source": [
    "lgb_ic = pd.read_hdf('data/model_tuning.h5', 'lgb/ic')\n",
    "\n",
    "lgb_daily_ic = pd.read_hdf('data/model_tuning.h5', 'lgb/daily_ic')"
   ]
  },
  {
   "cell_type": "markdown",
   "id": "4b141c75-a893-4c8d-a706-496df105579c",
   "metadata": {},
   "source": [
    "### CatBoost\n",
    "\n",
    "#### Summary Metrics"
   ]
  },
  {
   "cell_type": "code",
   "execution_count": 17,
   "id": "111b843e-9cc9-4e38-a99b-b446ce57d6a9",
   "metadata": {},
   "outputs": [],
   "source": [
    "with pd.HDFStore(results_path / 'tuning_catboost.h5') as store:\n",
    "    for i, key in enumerate(\n",
    "            [k[1:] for k in store.keys() if k[1:].startswith('metrics')]):\n",
    "        _, t, train_length, test_length = key.split('/')[:4]\n",
    "        attrs = {\n",
    "            'lookahead'   : t,\n",
    "            'train_length': train_length,\n",
    "            'test_length' : test_length\n",
    "        }\n",
    "        s = store[key].to_dict()\n",
    "        s.update(attrs)\n",
    "        if i == 0:\n",
    "            catboost_metrics = pd.Series(s).to_frame(i)\n",
    "        else:\n",
    "            catboost_metrics[i] = pd.Series(s)\n",
    "\n",
    "id_vars = scope_params + catboost_train_params + daily_ic_metrics\n",
    "catboost_metrics = pd.melt(catboost_metrics.T.drop('t', axis=1),\n",
    "                           id_vars=id_vars,\n",
    "                           value_name='ic',\n",
    "                           var_name='boost_rounds').dropna().apply(pd.to_numeric)"
   ]
  },
  {
   "cell_type": "code",
   "execution_count": 18,
   "id": "73924439-7fbd-4292-b531-e56be79507ff",
   "metadata": {},
   "outputs": [],
   "source": [
    "catboost_metrics.info()"
   ]
  },
  {
   "cell_type": "code",
   "execution_count": 19,
   "id": "b4c26e25-d99e-4cea-a18a-a94bba460fe5",
   "metadata": {},
   "outputs": [],
   "source": [
    "catboost_metrics.groupby(scope_params).size()"
   ]
  },
  {
   "cell_type": "markdown",
   "id": "2d9baa87-efbf-4158-bc00-7f8218760520",
   "metadata": {},
   "source": [
    "#### Daily Information Coefficient"
   ]
  },
  {
   "cell_type": "code",
   "execution_count": 20,
   "id": "8bbbab71-7ea7-4f49-ac60-51feb00a33ba",
   "metadata": {},
   "outputs": [],
   "source": [
    "catboost_ic = []\n",
    "\n",
    "with pd.HDFStore(results_path / 'tuning_catboost.h5') as store:\n",
    "    keys = [k[1:] for k in store.keys()]\n",
    "    for key in keys:\n",
    "        _, t, train_length, test_length = key.split('/')[:4]\n",
    "        if key.startswith('daily_ic'):\n",
    "            df = (store[key].drop('task_type', axis=1)\n",
    "                 .assign(lookahead=t,\n",
    "                         train_length=train_length,\n",
    "                         test_length=test_length))\n",
    "            catboost_ic.append(df)\n",
    "    catboost_ic = pd.concat(catboost_ic).reset_index()"
   ]
  },
  {
   "cell_type": "code",
   "execution_count": 22,
   "id": "d9410931-ff7c-4a02-ae58-e592bf471449",
   "metadata": {},
   "outputs": [],
   "source": [
    "id_vars = ['date'] + scope_params + catboost_train_params\n",
    "\n",
    "catboost_ic = pd.melt(catboost_ic, \n",
    "                      id_vars=id_vars, \n",
    "                      value_name='ic', \n",
    "                      var_name='boost_rounds').dropna()\n",
    "\n",
    "catboost_ic.loc[:, int_cols] = catboost_ic.loc[:, int_cols].astype(int)"
   ]
  },
  {
   "cell_type": "code",
   "execution_count": 23,
   "id": "7007d6f0-cf83-4e0b-ab7a-ccb94cb190a9",
   "metadata": {},
   "outputs": [],
   "source": [
    "catboost_ic.to_hdf('data/model_tuning.h5', 'catboost/ic')\n",
    "\n",
    "catboost_ic.info(null_counts=True)"
   ]
  },
  {
   "cell_type": "code",
   "execution_count": 24,
   "id": "c0fc8c4f-a0ea-478a-9d1f-e4b4eebbf130",
   "metadata": {},
   "outputs": [],
   "source": [
    "catboost_daily_ic = catboost_ic.groupby(id_vars[1:] + ['boost_rounds']).ic.mean().to_frame('ic').reset_index()\n",
    "catboost_daily_ic.to_hdf('data/model_tuning.h5', 'catboost/daily_ic')\n",
    "\n",
    "catboost_daily_ic.info()"
   ]
  },
  {
   "cell_type": "code",
   "execution_count": 25,
   "id": "78726958-87aa-4b7e-a166-f5a26a3d0766",
   "metadata": {},
   "outputs": [],
   "source": [
    "catboost_ic = pd.read_hdf('data/model_tuning.h5', 'catboost/ic')\n",
    "\n",
    "catboost_daily_ic = pd.read_hdf('data/model_tuning.h5', 'catboost/daily_ic')"
   ]
  },
  {
   "cell_type": "markdown",
   "id": "1eb78321-e519-4df8-9152-45998ec9d1bc",
   "metadata": {},
   "source": [
    "### Validation Performance: Daily vs Overall Information Coefficient"
   ]
  },
  {
   "cell_type": "code",
   "execution_count": 26,
   "id": "c7220a7c-93e2-4318-93c3-3dc9551f3254",
   "metadata": {},
   "outputs": [],
   "source": [
    "fig, axes = plt.subplots(ncols=2, figsize=(15, 5), sharey=True)\n",
    "\n",
    "sns.boxenplot(x='lookahead', y='ic', hue='model',\n",
    "              data=catboost_metrics.assign(model='catboost')\n",
    "              .append(lgb_metrics.assign(model='lightgbm')), ax=axes[0])\n",
    "axes[0].axhline(0, ls='--', lw=1, c='k')\n",
    "axes[0].set_title('Overall IC')\n",
    "sns.boxenplot(x='lookahead', y='ic', hue='model',\n",
    "              data=catboost_daily_ic.assign(model='catboost')\n",
    "              .append(lgb_daily_ic.assign(model='lightgbm')), ax=axes[1])\n",
    "axes[1].axhline(0, ls='--', lw=1, c='k')\n",
    "axes[1].set_title('Daily IC')\n",
    "fig.tight_layout()\n",
    "plt.show()"
   ]
  },
  {
   "cell_type": "markdown",
   "id": "8a8c0516-4e01-413e-b82a-11a4df26bbd3",
   "metadata": {},
   "source": [
    "### HyperParameter Impact: Linear Regression"
   ]
  },
  {
   "cell_type": "code",
   "execution_count": 27,
   "id": "27b18fd1-39e6-47d6-925d-29ffa957c743",
   "metadata": {},
   "outputs": [],
   "source": [
    "lin_reg = {}\n",
    "\n",
    "for t in [1, 21]:\n",
    "    df_ = lgb_ic[lgb_ic.lookahead==t]\n",
    "    y, X = df_.ic, df_.drop(['ic'], axis=1)\n",
    "    X = sm.add_constant(pd.get_dummies(X, columns=X.columns, drop_first=True))\n",
    "    model = sm.OLS(endog=y, exog=X)\n",
    "    lin_reg[t] = model.fit()\n",
    "    s = lin_reg[t].summary()\n",
    "    coefs = pd.read_csv(StringIO(s.tables[1].as_csv())).rename(columns=lambda x: x.strip())\n",
    "    coefs.columns = ['variable', 'coef', 'std_err', 't', 'p_value', 'ci_low', 'ci_high']\n",
    "    coefs.to_csv(f'results/linreg_result_{t:02}.csv', index=False)"
   ]
  },
  {
   "cell_type": "code",
   "execution_count": 28,
   "id": "f02b1eb4-f2a2-4565-839b-a9ad63038b91",
   "metadata": {},
   "outputs": [],
   "source": [
    "def visualize_lr_result(model, ax):\n",
    "    ci = model.conf_int()\n",
    "    errors = ci[1].sub(ci[0]).div(2)\n",
    "\n",
    "    coefs = (model.params.to_frame('coef').assign(error=errors)\n",
    "             .reset_index().rename(columns={'index': 'variable'}))\n",
    "    coefs = coefs[~coefs['variable'].str.startswith('date')&(coefs.variable!='const')]\n",
    "\n",
    "    coefs.plot(x='variable', y='coef', kind='bar', \n",
    "                 ax=ax, color='none', capsize=3,\n",
    "                 yerr='error', legend=False)\n",
    "    ax.set_ylabel('IC')\n",
    "    ax.set_xlabel('')\n",
    "    ax.scatter(x=pd.np.arange(len(coefs)), marker='_', s=120, y=coefs['coef'], color='black')\n",
    "    ax.axhline(y=0, linestyle='--', color='black', linewidth=1)\n",
    "    ax.xaxis.set_ticks_position('none')"
   ]
  },
  {
   "cell_type": "code",
   "execution_count": 29,
   "id": "a7486e5e-3a66-422f-9a06-2b3b97dd7c1e",
   "metadata": {},
   "outputs": [],
   "source": [
    "fig, axes = plt.subplots(nrows=1, ncols=2, figsize=(20, 8), sharey=True)\n",
    "axes = axes.flatten()\n",
    "for i, t in enumerate([1, 21]):\n",
    "    visualize_lr_result(lin_reg[t], axes[i])\n",
    "    axes[i].set_title(f'Lookahead: {t} Day(s)')\n",
    "fig.suptitle('OLS Coefficients & Confidence Intervals', fontsize=20)\n",
    "fig.tight_layout()\n",
    "fig.subplots_adjust(top=.92);\n",
    "plt.show()"
   ]
  },
  {
   "cell_type": "markdown",
   "id": "6cc9015b-7ba9-4335-95d6-8ee02a385ac4",
   "metadata": {},
   "source": [
    "### Cross-validation Result: Best Hyperparameters\n",
    "\n",
    "#### LightGBM"
   ]
  },
  {
   "cell_type": "code",
   "execution_count": 30,
   "id": "afa0957f-40d0-44c5-b987-5b34a8e4e443",
   "metadata": {},
   "outputs": [],
   "source": [
    "group_cols = scope_params + lgb_train_params + ['boost_rounds']\n",
    "\n",
    "lgb_daily_ic.groupby('lookahead', group_keys=False).apply(lambda x: x.nlargest(3, 'ic'))"
   ]
  },
  {
   "cell_type": "code",
   "execution_count": 31,
   "id": "ed6a215c-a733-47e3-88fd-78b4dcb75098",
   "metadata": {},
   "outputs": [],
   "source": [
    "lgb_metrics.groupby('lookahead', group_keys=False).apply(lambda x: x.nlargest(3, 'ic'))\n",
    "\n",
    "lgb_metrics.groupby('lookahead', group_keys=False).apply(lambda x: x.nlargest(3, 'ic')).to_csv('results/best_lgb_model.csv', index=False)"
   ]
  },
  {
   "cell_type": "code",
   "execution_count": 32,
   "id": "93323031-aa38-4d41-9354-9139011ddcc7",
   "metadata": {},
   "outputs": [],
   "source": [
    "lgb_metrics.groupby('lookahead', group_keys=False).apply(lambda x: x.nlargest(3, 'daily_ic_mean'))"
   ]
  },
  {
   "cell_type": "markdown",
   "id": "da7aa8d3-12d6-4432-87c8-2f8cbda19fac",
   "metadata": {},
   "source": [
    "### CatBoost"
   ]
  },
  {
   "cell_type": "code",
   "execution_count": 33,
   "id": "c8a917d7-cfb1-4f39-b464-5c18eb753931",
   "metadata": {},
   "outputs": [],
   "source": [
    "group_cols = scope_params + catboost_train_params + ['boost_rounds']\n",
    "\n",
    "catboost_daily_ic.groupby('lookahead', group_keys=False).apply(lambda x: x.nlargest(3, 'ic'))"
   ]
  },
  {
   "cell_type": "code",
   "execution_count": 34,
   "id": "756d0aad-797f-4d6b-90ec-97018314e6cc",
   "metadata": {},
   "outputs": [],
   "source": [
    "catboost_metrics.groupby('lookahead', group_keys=False).apply(lambda x: x.nlargest(3, 'ic'))"
   ]
  },
  {
   "cell_type": "code",
   "execution_count": 35,
   "id": "1599b5a8-0ba3-471b-ac57-907da061a68e",
   "metadata": {},
   "outputs": [],
   "source": [
    "catboost_metrics.groupby('lookahead', group_keys=False).apply(lambda x: x.nlargest(3, 'daily_ic_mean'))"
   ]
  },
  {
   "cell_type": "code",
   "execution_count": 36,
   "id": "31e217c4-1dcf-4e49-afa9-3565f9ebd620",
   "metadata": {},
   "outputs": [],
   "source": [
    "sns.jointplot(x=lgb_metrics.daily_ic_mean,y=lgb_metrics.ic);\n",
    "plt.show()"
   ]
  },
  {
   "cell_type": "markdown",
   "id": "8f04b6f6-5532-4d76-86a8-1f5101dafecf",
   "metadata": {},
   "source": [
    "### Visualization\n",
    "\n",
    "#### LightGBM"
   ]
  },
  {
   "cell_type": "code",
   "execution_count": 37,
   "id": "a5df30ab-13e2-4866-89ba-08454bdf043a",
   "metadata": {},
   "outputs": [],
   "source": [
    "g = sns.catplot(x='lookahead', y='ic',\n",
    "                col='train_length', row='test_length',\n",
    "                data=lgb_metrics,\n",
    "                kind='box')"
   ]
  },
  {
   "cell_type": "code",
   "execution_count": 38,
   "id": "05ac6848-7a89-46a9-9bb4-9e0b2992f518",
   "metadata": {},
   "outputs": [],
   "source": [
    "t=1\n",
    "\n",
    "g=sns.catplot(x='boost_rounds',\n",
    "            y='ic',\n",
    "            col='train_length',\n",
    "            row='test_length',\n",
    "            data=lgb_daily_ic[lgb_daily_ic.lookahead == t],\n",
    "            kind='box')"
   ]
  },
  {
   "cell_type": "markdown",
   "id": "eb7db8ab-51ad-457c-b069-e03b18f5e2e2",
   "metadata": {},
   "source": [
    "#### CatBoost"
   ]
  },
  {
   "cell_type": "code",
   "execution_count": 39,
   "id": "65bcd654-6907-4e60-b620-c94a8e205972",
   "metadata": {},
   "outputs": [],
   "source": [
    "t = 1\n",
    "\n",
    "g=sns.catplot(x='boost_rounds',\n",
    "            y='ic',\n",
    "            col='train_length',\n",
    "            row='test_length',\n",
    "            data=catboost_metrics[catboost_metrics.lookahead == t],\n",
    "            kind='box')"
   ]
  },
  {
   "cell_type": "code",
   "execution_count": 40,
   "id": "c39b9b6d-f928-4204-a367-93caabd6b104",
   "metadata": {},
   "outputs": [],
   "source": [
    "t = 1\n",
    "\n",
    "train_length = 1134\n",
    "\n",
    "test_length = 63\n",
    "\n",
    "g = sns.catplot(\n",
    "    x='boost_rounds',\n",
    "    y='ic',\n",
    "    col='max_depth',\n",
    "    hue='min_child_samples',\n",
    "    data=catboost_daily_ic[(catboost_daily_ic.lookahead == t) &\n",
    "                      (catboost_daily_ic.train_length == train_length) &\n",
    "                      (catboost_daily_ic.test_length == test_length)],\n",
    "    kind='swarm')"
   ]
  },
  {
   "cell_type": "markdown",
   "id": "567cc9eb-15b1-443a-9ad4-13ff6d95c779",
   "metadata": {},
   "source": [
    "## AlphaLens Analysis - Validation Performance\n",
    "\n",
    "### LightGBM\n",
    "\n",
    "#### Parameters Selection"
   ]
  },
  {
   "cell_type": "code",
   "execution_count": 41,
   "id": "f5c50f18-bd7b-4128-ac18-4dc5eef5e34c",
   "metadata": {},
   "outputs": [],
   "source": [
    "lgb_daily_ic = pd.read_hdf('data/model_tuning.h5', 'lgb/daily_ic')\n",
    "\n",
    "lgb_daily_ic.info()"
   ]
  },
  {
   "cell_type": "code",
   "execution_count": 42,
   "id": "d97d265f-03d2-490a-a73d-effa6ddb4bc7",
   "metadata": {},
   "outputs": [],
   "source": [
    "def get_lgb_params(data, t=5, best=0):\n",
    "    param_cols = scope_params[1:] + lgb_train_params + ['boost_rounds']\n",
    "    df = data[data.lookahead==t].sort_values('ic', ascending=False).iloc[best]\n",
    "    return df.loc[param_cols]"
   ]
  },
  {
   "cell_type": "code",
   "execution_count": 43,
   "id": "73317863-5982-478d-bced-1918cba8a9ca",
   "metadata": {},
   "outputs": [],
   "source": [
    "def get_lgb_key(t, p):\n",
    "    key = f'{t}/{int(p.train_length)}/{int(p.test_length)}/{p.learning_rate}/'\n",
    "    return key + f'{int(p.num_leaves)}/{p.feature_fraction}/{int(p.min_data_in_leaf)}'"
   ]
  },
  {
   "cell_type": "code",
   "execution_count": 44,
   "id": "3a40cba9-20f0-47b5-bd8f-13444f079c5e",
   "metadata": {},
   "outputs": [],
   "source": [
    "best_params = get_lgb_params(lgb_daily_ic, t=1, best=0)\n",
    "\n",
    "best_params"
   ]
  },
  {
   "cell_type": "code",
   "execution_count": 45,
   "id": "9f63c555-7ea7-4915-a322-48c95b439d1d",
   "metadata": {},
   "outputs": [],
   "source": [
    "best_params.to_hdf('data.h5', 'best_params')"
   ]
  },
  {
   "cell_type": "markdown",
   "id": "0f2f270a-35d2-4592-b335-9821fad9b99f",
   "metadata": {},
   "source": [
    "#### Plotting Rolling IC"
   ]
  },
  {
   "cell_type": "code",
   "execution_count": 46,
   "id": "c33077a1-4718-43fb-9e43-1b644b5cf9fc",
   "metadata": {},
   "outputs": [],
   "source": [
    "def select_ic(params, ic_data, lookahead):\n",
    "    return ic_data.loc[(ic_data.lookahead == lookahead) &\n",
    "                       (ic_data.train_length == params.train_length) &\n",
    "                       (ic_data.test_length == params.test_length) &\n",
    "                       (ic_data.learning_rate == params.learning_rate) &\n",
    "                       (ic_data.num_leaves == params.num_leaves) &\n",
    "                       (ic_data.feature_fraction == params.feature_fraction) &\n",
    "                       (ic_data.boost_rounds == params.boost_rounds), ['date', 'ic']].set_index('date')"
   ]
  },
  {
   "cell_type": "code",
   "execution_count": 47,
   "id": "b46a2e24-86f6-4ba9-833e-5a486e7c25dd",
   "metadata": {},
   "outputs": [],
   "source": [
    "fig, axes = plt.subplots(nrows=1, ncols=2, figsize=(20, 5))\n",
    "axes = axes.flatten()\n",
    "for i, t in enumerate([1, 21]):\n",
    "    params = get_lgb_params(lgb_daily_ic, t=t)\n",
    "    data = select_ic(params, lgb_ic, lookahead=t).sort_index()\n",
    "    rolling = data.rolling(63).ic.mean().dropna()\n",
    "    avg = data.ic.mean()\n",
    "    med = data.ic.median()\n",
    "    rolling.plot(ax=axes[i], title=f'Horizon: {t} Day(s) | IC: Mean={avg*100:.2f}   Median={med*100:.2f}')\n",
    "    axes[i].axhline(avg, c='darkred', lw=1)\n",
    "    axes[i].axhline(0, ls='--', c='k', lw=1)\n",
    "\n",
    "fig.suptitle('3-Month Rolling Information Coefficient', fontsize=16)\n",
    "fig.tight_layout()\n",
    "fig.subplots_adjust(top=0.92);\n",
    "plt.show()"
   ]
  },
  {
   "cell_type": "markdown",
   "id": "7a0282cc-210d-4de2-b6dc-72fa79661d19",
   "metadata": {},
   "source": [
    "#### Getting Predictions for Validation Period"
   ]
  },
  {
   "cell_type": "code",
   "execution_count": 48,
   "id": "d1ceebfe-6ef0-4181-9f79-5f55d3fedcd8",
   "metadata": {},
   "outputs": [],
   "source": [
    "lookahead = 1\n",
    "\n",
    "topn = 10\n",
    "\n",
    "for best in range(topn):\n",
    "    best_params = get_lgb_params(lgb_daily_ic, t=lookahead, best=best)\n",
    "    key = get_lgb_key(lookahead, best_params)\n",
    "    rounds = str(int(best_params.boost_rounds))\n",
    "    if best == 0:\n",
    "        best_predictions = pd.read_hdf(results_path / 'tuning_lgb.h5', 'predictions/' + key)\n",
    "        best_predictions = best_predictions[rounds].to_frame(best)\n",
    "    else:\n",
    "        best_predictions[best] = pd.read_hdf(results_path / 'tuning_lgb.h5',\n",
    "                                             'predictions/' + key)[rounds]\n",
    "\n",
    "best_predictions = best_predictions.sort_index()"
   ]
  },
  {
   "cell_type": "code",
   "execution_count": 49,
   "id": "fc696285-14b9-4f5b-8403-9a2c96624898",
   "metadata": {},
   "outputs": [],
   "source": [
    "best_predictions.to_hdf('data/predictions.h5', f'lgb/train/{lookahead:02}')\n",
    "\n",
    "best_predictions.info()"
   ]
  },
  {
   "cell_type": "markdown",
   "id": "46ff340d-b1c3-40f7-8778-10db78a8c22a",
   "metadata": {},
   "source": [
    "#### Getting Trade Prices"
   ]
  },
  {
   "cell_type": "code",
   "execution_count": 50,
   "id": "10af66bf-ecd7-4461-b0b4-b26f356c0aba",
   "metadata": {},
   "outputs": [],
   "source": [
    "def get_trade_prices(tickers):\n",
    "    idx = pd.IndexSlice\n",
    "    DATA_STORE = '../data/assets.h5'\n",
    "    prices = (pd.read_hdf(DATA_STORE, 'quandl/wiki/prices').swaplevel().sort_index())\n",
    "    prices.index.names = ['symbol', 'date']\n",
    "    return (prices.loc[idx[tickers, '2015': '2017'], 'adj_open']\n",
    "            .unstack('symbol')\n",
    "            .sort_index()\n",
    "            .shift(-1)\n",
    "            .tz_localize('UTC'))"
   ]
  },
  {
   "cell_type": "code",
   "execution_count": 51,
   "id": "0f4b0227-0230-4ad7-9faa-a7b3348050fc",
   "metadata": {},
   "outputs": [],
   "source": [
    "test_tickers = best_predictions.index.get_level_values('symbol').unique()"
   ]
  },
  {
   "cell_type": "code",
   "execution_count": 52,
   "id": "02ccfd88-732f-4bfb-b6ec-6898449abcd6",
   "metadata": {},
   "outputs": [],
   "source": [
    "trade_prices = get_trade_prices(test_tickers)\n",
    "trade_prices.info()"
   ]
  },
  {
   "cell_type": "code",
   "execution_count": 53,
   "id": "1e7d75ed-7dae-4a68-b765-259ff0246120",
   "metadata": {},
   "outputs": [],
   "source": [
    "trade_prices.to_hdf('data/model_tuning.h5', 'trade_prices/model_selection')\n",
    "\n",
    "trade_prices = pd.read_hdf('data/model_tuning.h5', 'trade_prices/model_selection')"
   ]
  },
  {
   "cell_type": "code",
   "execution_count": 54,
   "id": "4a5044f0-e4a4-411d-8ed3-51e7e11d088d",
   "metadata": {},
   "outputs": [],
   "source": [
    "factor = best_predictions.iloc[:, :5].mean(1).dropna().tz_localize('UTC', level='date').swaplevel()"
   ]
  },
  {
   "cell_type": "markdown",
   "id": "17ac892e-341d-45a1-9f6f-6eae61dd7c79",
   "metadata": {},
   "source": [
    "#### Creating AlphaLens Inputs"
   ]
  },
  {
   "cell_type": "code",
   "execution_count": 55,
   "id": "628e7148-d36c-47c8-b8c6-d6a3ab752f76",
   "metadata": {},
   "outputs": [],
   "source": [
    "factor_data = get_clean_factor_and_forward_returns(factor=factor,\n",
    "                                                   prices=trade_prices,\n",
    "                                                   quantiles=5,\n",
    "                                                   periods=(1, 5, 10, 21))"
   ]
  },
  {
   "cell_type": "markdown",
   "id": "5d2288e0-e5c2-424b-a23e-e4f868e32cd6",
   "metadata": {},
   "source": [
    "#### Computing Alphalens Metrics"
   ]
  },
  {
   "cell_type": "code",
   "execution_count": 56,
   "id": "377f80d9-7a65-4a47-8aff-69011eb28cb9",
   "metadata": {},
   "outputs": [],
   "source": [
    "mean_quant_ret_bydate, std_quant_daily = perf.mean_return_by_quantile(\n",
    "    factor_data,\n",
    "    by_date=True,\n",
    "    by_group=False,\n",
    "    demeaned=True,\n",
    "    group_adjust=False,\n",
    ")"
   ]
  },
  {
   "cell_type": "code",
   "execution_count": 57,
   "id": "1844d645-6f69-47dc-9172-dec541ba94fe",
   "metadata": {},
   "outputs": [],
   "source": [
    "factor_returns = perf.factor_returns(factor_data)"
   ]
  },
  {
   "cell_type": "code",
   "execution_count": 58,
   "id": "aa64b1a3-a6de-4b35-af6d-d653dee0edb3",
   "metadata": {},
   "outputs": [],
   "source": [
    "mean_quant_ret, std_quantile = perf.mean_return_by_quantile(factor_data,\n",
    "                                                            by_group=False,\n",
    "                                                            demeaned=True)\n",
    "\n",
    "\n",
    "\n",
    "mean_quant_rateret = mean_quant_ret.apply(rate_of_return, axis=0,\n",
    "                                          base_period=mean_quant_ret.columns[0])"
   ]
  },
  {
   "cell_type": "code",
   "execution_count": 59,
   "id": "d353ad9e-7cdf-4e80-8358-44b604d643ae",
   "metadata": {},
   "outputs": [],
   "source": [
    "mean_quant_ret_bydate, std_quant_daily = perf.mean_return_by_quantile(\n",
    "    factor_data,\n",
    "    by_date=True,\n",
    "    by_group=False,\n",
    "    demeaned=True,\n",
    "    group_adjust=False,\n",
    ")\n",
    "\n",
    "mean_quant_rateret_bydate = mean_quant_ret_bydate.apply(\n",
    "    rate_of_return,\n",
    "    base_period=mean_quant_ret_bydate.columns[0],\n",
    ")\n",
    "\n",
    "compstd_quant_daily = std_quant_daily.apply(std_conversion,\n",
    "                                            base_period=std_quant_daily.columns[0])\n",
    "\n",
    "alpha_beta = perf.factor_alpha_beta(factor_data,\n",
    "                                    demeaned=True)\n",
    "\n",
    "mean_ret_spread_quant, std_spread_quant = perf.compute_mean_returns_spread(\n",
    "    mean_quant_rateret_bydate,\n",
    "    factor_data[\"factor_quantile\"].max(),\n",
    "    factor_data[\"factor_quantile\"].min(),\n",
    "    std_err=compstd_quant_daily,\n",
    ")"
   ]
  },
  {
   "cell_type": "code",
   "execution_count": 60,
   "id": "dfd40464-e158-44af-b9e5-e470ec3afa57",
   "metadata": {},
   "outputs": [],
   "source": [
    "mean_ret_spread_quant.mean().mul(10000).to_frame('Mean Period Wise Spread (bps)').join(alpha_beta.T).T"
   ]
  },
  {
   "cell_type": "code",
   "execution_count": 61,
   "id": "b6fd7720-8007-4775-86aa-a2dcca814d61",
   "metadata": {},
   "outputs": [],
   "source": [
    "fig, axes = plt.subplots(ncols=3, figsize=(18, 4))\n",
    "\n",
    "\n",
    "plotting.plot_quantile_returns_bar(mean_quant_rateret, ax=axes[0])\n",
    "plt.setp(axes[0].xaxis.get_majorticklabels(), rotation=0)\n",
    "axes[0].set_xlabel('Quantile')\n",
    "\n",
    "plotting.plot_cumulative_returns_by_quantile(mean_quant_ret_bydate['1D'],\n",
    "                                             freq=pd.tseries.offsets.BDay(),\n",
    "                                             period='1D',\n",
    "                                             ax=axes[1])\n",
    "axes[1].set_title('Cumulative Return by Quantile (1D Period)')\n",
    "\n",
    "title = \"Cumulative Return - Factor-Weighted Long/Short PF (1D Period)\"\n",
    "plotting.plot_cumulative_returns(factor_returns['1D'],\n",
    "                                 period='1D',\n",
    "                                 freq=pd.tseries.offsets.BDay(),\n",
    "                                 title=title,\n",
    "                                 ax=axes[2])\n",
    "\n",
    "fig.suptitle('Alphalens - Validation Set Performance', fontsize=14)\n",
    "fig.tight_layout()\n",
    "fig.subplots_adjust(top=.85);\n",
    "plt.show()"
   ]
  },
  {
   "cell_type": "markdown",
   "id": "1d3c5ce8-c70b-4181-8231-ef100a1dfa46",
   "metadata": {},
   "source": [
    "#### Summary Tearsheet"
   ]
  },
  {
   "cell_type": "code",
   "execution_count": 63,
   "id": "58fe9bd4-bc1a-4fbd-811d-73d88783af71",
   "metadata": {},
   "outputs": [],
   "source": [
    "create_summary_tear_sheet(factor_data)"
   ]
  },
  {
   "cell_type": "code",
   "execution_count": 64,
   "id": "31484f88-49b5-47b3-a50f-5360d72705d6",
   "metadata": {},
   "outputs": [],
   "source": [
    "create_full_tear_sheet(factor_data)"
   ]
  },
  {
   "cell_type": "markdown",
   "id": "18e28d6a-cc39-445d-9646-9edc6b51a624",
   "metadata": {},
   "source": [
    "### CatBoost\n",
    "\n",
    "#### Parameters Selection"
   ]
  },
  {
   "cell_type": "code",
   "execution_count": 65,
   "id": "8b827122-7e02-4366-a253-bf83e32bbfc4",
   "metadata": {},
   "outputs": [],
   "source": [
    "catboost_daily_ic = pd.read_hdf('data/model_tuning.h5', 'catboost/daily_ic')\n",
    "\n",
    "catboost_daily_ic.info()"
   ]
  },
  {
   "cell_type": "code",
   "execution_count": 66,
   "id": "e0229523-e4e3-4c10-a11d-d9618303c455",
   "metadata": {},
   "outputs": [],
   "source": [
    "def get_cb_params(data, t=5, best=0):\n",
    "    param_cols = scope_params[1:] + catboost_train_params + ['boost_rounds']\n",
    "    df = data[data.lookahead==t].sort_values('ic', ascending=False).iloc[best]\n",
    "    return df.loc[param_cols]"
   ]
  },
  {
   "cell_type": "code",
   "execution_count": 67,
   "id": "55033578-ecd7-4a1f-998f-b07096651e96",
   "metadata": {},
   "outputs": [],
   "source": [
    "def get_cb_key(t, p):\n",
    "    key = f'{t}/{int(p.train_length)}/{int(p.test_length)}/'\n",
    "    return key + f'{int(p.max_depth)}/{int(p.min_child_samples)}'"
   ]
  },
  {
   "cell_type": "code",
   "execution_count": 68,
   "id": "49b051c7-bd57-4a10-bd97-1d9600412deb",
   "metadata": {},
   "outputs": [],
   "source": [
    "best_params = get_cb_params(catboost_daily_ic, t=1, best=0)\n",
    "best_params"
   ]
  },
  {
   "cell_type": "code",
   "execution_count": 69,
   "id": "30ebe8a0-dfd3-4adc-b4a0-baba5dd68cbf",
   "metadata": {},
   "outputs": [],
   "source": [
    "def select_cb_ic(params, ic_data, lookahead):\n",
    "    return ic_data.loc[(ic_data.lookahead == lookahead) &\n",
    "                       (ic_data.train_length == params.train_length) &\n",
    "                       (ic_data.test_length == params.test_length) &\n",
    "                       (ic_data.max_depth == params.max_depth) &\n",
    "                       (ic_data.min_child_samples == params.min_child_samples)].set_index('date')"
   ]
  },
  {
   "cell_type": "code",
   "execution_count": 70,
   "id": "6c3dd878-20e1-4f7b-ab63-7cc6d11f5a40",
   "metadata": {},
   "outputs": [],
   "source": [
    "fig, axes = plt.subplots(nrows=1, ncols=2, figsize=(20, 5))\n",
    "\n",
    "axes = axes.flatten()\n",
    "for i, t in enumerate([1, 21]):\n",
    "    params = get_cb_params(catboost_daily_ic, t=t)\n",
    "    data = select_cb_ic(params, catboost_ic, lookahead=t).sort_index()\n",
    "    rolling = data.rolling(63).ic.mean().dropna()\n",
    "    avg = data.ic.mean()\n",
    "    med = data.ic.median()\n",
    "    rolling.plot(ax=axes[i], title=f'Horizon: {t} Day(s) | IC: Mean={avg*100:.2f}   Median={med*100:.2f}')\n",
    "    axes[i].axhline(avg, c='darkred', lw=1)\n",
    "    axes[i].axhline(0, ls='--', c='k', lw=1)\n",
    "\n",
    "fig.suptitle('3-Month Rolling Information Coefficient', fontsize=16)\n",
    "fig.tight_layout()\n",
    "fig.subplots_adjust(top=0.92);\n",
    "plt.show()"
   ]
  },
  {
   "cell_type": "markdown",
   "id": "8c67a79b-848d-47c5-a28b-617b20a16c37",
   "metadata": {},
   "source": [
    "### Getting Predictions"
   ]
  },
  {
   "cell_type": "code",
   "execution_count": 71,
   "id": "d9fc2f29-7219-4dca-83de-b6971623f832",
   "metadata": {},
   "outputs": [],
   "source": [
    "lookahead = 1\n",
    "\n",
    "topn = 10\n",
    "\n",
    "for best in range(topn):\n",
    "    best_params = get_cb_params(catboost_daily_ic, t=lookahead, best=best)\n",
    "    key = get_cb_key(lookahead, best_params)\n",
    "    rounds = str(int(best_params.boost_rounds))\n",
    "    if best == 0:\n",
    "        best_predictions = pd.read_hdf(results_path / 'tuning_catboost.h5', 'predictions/' + key)\n",
    "        best_predictions = best_predictions[rounds].to_frame(best)\n",
    "    else:\n",
    "        best_predictions[best] = pd.read_hdf(results_path / 'tuning_catboost.h5',\n",
    "                                             'predictions/' + key)[rounds]\n",
    "\n",
    "best_predictions = best_predictions.sort_index()"
   ]
  },
  {
   "cell_type": "code",
   "execution_count": 72,
   "id": "64af6ccf-6688-4ce4-812b-997a6eaba4e3",
   "metadata": {},
   "outputs": [],
   "source": [
    "best_predictions.to_hdf('data/predictions.h5', f'catboost/train/{lookahead:02}')\n",
    "\n",
    "best_predictions.info()"
   ]
  },
  {
   "cell_type": "markdown",
   "id": "4c4e674d-41b6-4e9c-9d45-3a68e986c43d",
   "metadata": {},
   "source": [
    "#### Getting Trade Prices"
   ]
  },
  {
   "cell_type": "code",
   "execution_count": 73,
   "id": "12527d7f-e206-4833-8a79-271431742780",
   "metadata": {},
   "outputs": [],
   "source": [
    "def get_trade_prices(tickers):\n",
    "    idx = pd.IndexSlice\n",
    "    DATA_STORE = '../data/assets.h5'\n",
    "    prices = (pd.read_hdf(DATA_STORE, 'quandl/wiki/prices').swaplevel().sort_index())\n",
    "    prices.index.names = ['symbol', 'date']\n",
    "    return (prices.loc[idx[tickers, '2015': '2017'], 'adj_open']\n",
    "            .unstack('symbol')\n",
    "            .sort_index()\n",
    "            .shift(-1)\n",
    "            .tz_localize('UTC'))"
   ]
  },
  {
   "cell_type": "code",
   "execution_count": 74,
   "id": "b374d7c6-5447-4d4b-9b97-75fc5fb05c81",
   "metadata": {},
   "outputs": [],
   "source": [
    "test_tickers = best_predictions.index.get_level_values('symbol').unique()"
   ]
  },
  {
   "cell_type": "code",
   "execution_count": 75,
   "id": "ca9b52b1-2f3f-486d-ad11-06709f2675f3",
   "metadata": {},
   "outputs": [],
   "source": [
    "trade_prices = get_trade_prices(test_tickers)\n",
    "trade_prices.info()"
   ]
  },
  {
   "cell_type": "code",
   "execution_count": 76,
   "id": "a5679bb2-e43b-49f4-b2db-acacd6349faa",
   "metadata": {},
   "outputs": [],
   "source": [
    "trade_prices.to_hdf('data/model_tuning.h5', 'trade_prices/model_selection')"
   ]
  },
  {
   "cell_type": "code",
   "execution_count": 77,
   "id": "8b5cec11-22bd-473c-9aa9-02b782da4830",
   "metadata": {},
   "outputs": [],
   "source": [
    "trade_prices = pd.read_hdf('data/model_tuning.h5', 'trade_prices/model_selection')"
   ]
  },
  {
   "cell_type": "code",
   "execution_count": 78,
   "id": "321db4ee-7a4c-41a1-82dc-0a26b2b6df9b",
   "metadata": {},
   "outputs": [],
   "source": [
    "factor = best_predictions.iloc[:, :5].mean(1).dropna().tz_localize('UTC', level='date').swaplevel()"
   ]
  },
  {
   "cell_type": "markdown",
   "id": "a76d087a-fc59-4666-88f0-0fd1f3d8422d",
   "metadata": {},
   "source": [
    "#### Creating AlphaLens Inputs"
   ]
  },
  {
   "cell_type": "code",
   "execution_count": 79,
   "id": "5ec319ac-1df8-4cbb-b91a-eaab9564a30c",
   "metadata": {},
   "outputs": [],
   "source": [
    "factor_data = get_clean_factor_and_forward_returns(factor=factor,\n",
    "                                                   prices=trade_prices,\n",
    "                                                   quantiles=5,\n",
    "                                                   periods=(1, 5, 10, 21))"
   ]
  },
  {
   "cell_type": "markdown",
   "id": "0f64ee29-3421-497d-8cf4-07638008314c",
   "metadata": {},
   "source": [
    "### Summary Tearsheet"
   ]
  },
  {
   "cell_type": "code",
   "execution_count": 80,
   "id": "efabeb3d-5e3e-4137-8bd3-0c2cd898b378",
   "metadata": {},
   "outputs": [],
   "source": [
    "create_summary_tear_sheet(factor_data)"
   ]
  },
  {
   "cell_type": "code",
   "execution_count": 81,
   "id": "ceee3a56-0176-4b69-8abd-6062e5511975",
   "metadata": {},
   "outputs": [],
   "source": [
    "create_full_tear_sheet(factor_data)"
   ]
  },
  {
   "cell_type": "code",
   "execution_count": null,
   "id": "8b74bcf1-9547-4295-864f-119c72e268c6",
   "metadata": {},
   "outputs": [],
   "source": []
  }
 ],
 "metadata": {
  "kernelspec": {
   "display_name": "Python 3 (ipykernel)",
   "language": "python",
   "name": "python3"
  },
  "language_info": {
   "codemirror_mode": {
    "name": "ipython",
    "version": 3
   },
   "file_extension": ".py",
   "mimetype": "text/x-python",
   "name": "python",
   "nbconvert_exporter": "python",
   "pygments_lexer": "ipython3",
   "version": "3.12.9"
  }
 },
 "nbformat": 4,
 "nbformat_minor": 5
}
