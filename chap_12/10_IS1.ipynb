{
 "cells": [
  {
   "cell_type": "markdown",
   "id": "f1f991cc-0c4b-4b97-9e62-5230ee5c458b",
   "metadata": {},
   "source": [
    "# Intraday Strategy, Part 1: Feature Engineering\n",
    "\n",
    "### Loading Libraries"
   ]
  },
  {
   "cell_type": "code",
   "execution_count": 1,
   "id": "b0282964-52b6-4dc7-82d5-e1634b634795",
   "metadata": {},
   "outputs": [],
   "source": [
    "# Numerical Computing\n",
    "import numpy as np\n",
    "\n",
    "# Data Manipulation\n",
    "import pandas as pd\n",
    "import pandas_datareader.data as web\n",
    "\n",
    "# Data Visualization\n",
    "import seaborn as sns\n",
    "import matplotlib.pyplot as plt\n",
    "from matplotlib.ticker import FuncFormatter\n",
    "\n",
    "# Collections, time \n",
    "from collections import defaultdict\n",
    "from time import time\n",
    "\n",
    "# Warnings\n",
    "import warnings\n",
    "\n",
    "# Notebook Optimizer\n",
    "from tqdm import tqdm\n",
    "\n",
    "# SciPy\n",
    "from scipy.stats import spearmanr\n",
    "\n",
    "# Technical Analysis\n",
    "import talib"
   ]
  },
  {
   "cell_type": "code",
   "execution_count": 2,
   "id": "c5f5f050-a069-461e-8087-9e57fc831fa4",
   "metadata": {},
   "outputs": [],
   "source": [
    "%matplotlib inline"
   ]
  },
  {
   "cell_type": "code",
   "execution_count": 3,
   "id": "50321dd7-23ef-4216-8bec-1b0fedd82fed",
   "metadata": {},
   "outputs": [],
   "source": [
    "np.random.seed(42)\n",
    "\n",
    "idx = pd.IndexSlice\n",
    "\n",
    "sns.set_style('whitegrid')\n",
    "\n",
    "deciles = np.arange(.1, 1, .1)\n",
    "\n",
    "warnings.filterwarnings('ignore')"
   ]
  },
  {
   "cell_type": "markdown",
   "id": "1e8bd1c2-a1ea-45a8-a9c8-5f6133d938b9",
   "metadata": {},
   "source": [
    "### Algoseek Trade & Quote Minute Bar Data\n",
    "\n",
    "#### Data Preparation"
   ]
  },
  {
   "cell_type": "code",
   "execution_count": 4,
   "id": "23647ed5-a0ff-412d-9344-65fcda7085d0",
   "metadata": {},
   "outputs": [],
   "source": [
    "tcols = ['openbartime', \n",
    "         'firsttradetime',\n",
    "         'highbidtime', \n",
    "         'highasktime', \n",
    "         'hightradetime',\n",
    "         'lowbidtime', \n",
    "         'lowasktime', \n",
    "         'lowtradetime',\n",
    "         'closebartime', \n",
    "         'lasttradetime']"
   ]
  },
  {
   "cell_type": "code",
   "execution_count": 5,
   "id": "516e235f-7fb3-424c-8e9b-987691b392e9",
   "metadata": {},
   "outputs": [],
   "source": [
    "drop_cols = ['unknowntickvolume',\n",
    "             'cancelsize',\n",
    "             'tradeatcrossorlocked']"
   ]
  },
  {
   "cell_type": "code",
   "execution_count": 6,
   "id": "bfbaf4b2-c561-4dba-b94c-0c913366e77c",
   "metadata": {},
   "outputs": [],
   "source": [
    "keep = ['firsttradeprice', \n",
    "        'hightradeprice', \n",
    "        'lowtradeprice', \n",
    "        'lasttradeprice', \n",
    "        'minspread', \n",
    "        'maxspread',\n",
    "        'volumeweightprice', \n",
    "        'nbboquotecount', \n",
    "        'tradeatbid', \n",
    "        'tradeatbidmid', \n",
    "        'tradeatmid', \n",
    "        'tradeatmidask', \n",
    "        'tradeatask', \n",
    "        'volume', \n",
    "        'totaltrades', \n",
    "        'finravolume', \n",
    "        'finravolumeweightprice', \n",
    "        'uptickvolume', \n",
    "        'downtickvolume', \n",
    "        'repeatuptickvolume', \n",
    "        'repeatdowntickvolume', \n",
    "        'tradetomidvolweight', \n",
    "        'tradetomidvolweightrelative']"
   ]
  },
  {
   "cell_type": "code",
   "execution_count": 7,
   "id": "df6464d1-9dd4-4f3b-b944-f4fb2c41da8b",
   "metadata": {},
   "outputs": [],
   "source": [
    "columns = {'volumeweightprice'          : 'price',\n",
    "           'finravolume'                : 'fvolume',\n",
    "           'finravolumeweightprice'     : 'fprice',\n",
    "           'uptickvolume'               : 'up',\n",
    "           'downtickvolume'             : 'down',\n",
    "           'repeatuptickvolume'         : 'rup',\n",
    "           'repeatdowntickvolume'       : 'rdown',\n",
    "           'firsttradeprice'            : 'first',\n",
    "           'hightradeprice'             : 'high',\n",
    "           'lowtradeprice'              : 'low',\n",
    "           'lasttradeprice'             : 'last',\n",
    "           'nbboquotecount'             : 'nbbo',\n",
    "           'totaltrades'                : 'ntrades',\n",
    "           'openbidprice'               : 'obprice',\n",
    "           'openbidsize'                : 'obsize',\n",
    "           'openaskprice'               : 'oaprice',\n",
    "           'openasksize'                : 'oasize',\n",
    "           'highbidprice'               : 'hbprice',\n",
    "           'highbidsize'                : 'hbsize',\n",
    "           'highaskprice'               : 'haprice',\n",
    "           'highasksize'                : 'hasize',\n",
    "           'lowbidprice'                : 'lbprice',\n",
    "           'lowbidsize'                 : 'lbsize',\n",
    "           'lowaskprice'                : 'laprice',\n",
    "           'lowasksize'                 : 'lasize',\n",
    "           'closebidprice'              : 'cbprice',\n",
    "           'closebidsize'               : 'cbsize',\n",
    "           'closeaskprice'              : 'caprice',\n",
    "           'closeasksize'               : 'casize',\n",
    "           'firsttradesize'             : 'firstsize',\n",
    "           'hightradesize'              : 'highsize',\n",
    "           'lowtradesize'               : 'lowsize',\n",
    "           'lasttradesize'              : 'lastsize',\n",
    "           'tradetomidvolweight'        : 'volweight',\n",
    "           'tradetomidvolweightrelative': 'volweightrel'}"
   ]
  },
  {
   "cell_type": "code",
   "execution_count": 8,
   "id": "1ec7931b-50bc-491f-a1e0-101f26d8ca46",
   "metadata": {},
   "outputs": [],
   "source": [
    "nasdaq_path = Path('../data/nasdaq100')"
   ]
  },
  {
   "cell_type": "code",
   "execution_count": 9,
   "id": "2cf52352-bdcb-4300-ad55-5b3927f516ef",
   "metadata": {},
   "outputs": [],
   "source": [
    "def extract_and_combine_data():\n",
    "    path = nasdaq_path / '1min_taq'\n",
    "\n",
    "    data = []\n",
    "    # ~80K files to process\n",
    "    for f in tqdm(list(path.glob('*/**/*.csv.gz'))):\n",
    "        data.append(pd.read_csv(f, parse_dates=[['Date', 'TimeBarStart']])\n",
    "                    .rename(columns=str.lower)\n",
    "                    .drop(tcols + drop_cols, axis=1)\n",
    "                    .rename(columns=columns)\n",
    "                    .set_index('date_timebarstart')\n",
    "                    .sort_index()\n",
    "                    .between_time('9:30', '16:00')\n",
    "                    .set_index('ticker', append=True)\n",
    "                    .swaplevel()\n",
    "                    .rename(columns=lambda x: x.replace('tradeat', 'at')))\n",
    "    data = pd.concat(data).apply(pd.to_numeric, downcast='integer')\n",
    "    data.index.rename(['ticker', 'date_time'])\n",
    "    print(data.info(show_counts=True))\n",
    "    data.to_hdf(nasdaq_path / 'algoseek.h5', 'min_taq')"
   ]
  },
  {
   "cell_type": "code",
   "execution_count": 10,
   "id": "330dbd82-dd8e-4aa9-95d1-1b5ad3e25153",
   "metadata": {},
   "outputs": [],
   "source": [
    "extract_and_combine_data()"
   ]
  },
  {
   "cell_type": "markdown",
   "id": "c5d38afe-8b68-465f-baff-ea7b7c63ee8f",
   "metadata": {},
   "source": [
    "### Loading Algoseek Data"
   ]
  },
  {
   "cell_type": "code",
   "execution_count": 11,
   "id": "b9353dbe-df3a-4b71-b60a-d2cff3523c80",
   "metadata": {},
   "outputs": [],
   "source": [
    "ohlcv_cols = ['first', 'high', 'low', 'last', 'price', 'volume']"
   ]
  },
  {
   "cell_type": "code",
   "execution_count": 12,
   "id": "c7aee973-3fe2-4f4b-a2c9-cb57172639b5",
   "metadata": {},
   "outputs": [],
   "source": [
    "data_cols = ohlcv_cols + ['up', 'down', 'rup', 'rdown', 'atask', 'atbid']"
   ]
  },
  {
   "cell_type": "code",
   "execution_count": 14,
   "id": "342571bf-84d7-4c82-a194-a32ea3df3d72",
   "metadata": {},
   "outputs": [],
   "source": [
    "with pd.HDFStore(as_path / 'algoseek.h5') as store:\n",
    "    df = store['min_taq'].loc[:, data_cols].sort_index()"
   ]
  },
  {
   "cell_type": "code",
   "execution_count": 15,
   "id": "a7bd9f3e-e1ef-4fe3-93e2-4b72668bc616",
   "metadata": {},
   "outputs": [],
   "source": [
    "df['date'] = pd.to_datetime(df.index.get_level_values('date_time').date)"
   ]
  },
  {
   "cell_type": "code",
   "execution_count": 16,
   "id": "93d26cf9-f83d-4c8a-8314-ceb879020757",
   "metadata": {},
   "outputs": [],
   "source": [
    "df.to_hdf('data/algoseek.h5', 'data')"
   ]
  },
  {
   "cell_type": "code",
   "execution_count": 17,
   "id": "f159f46f-67bb-4776-9773-75d8a9cbb32f",
   "metadata": {},
   "outputs": [],
   "source": [
    "df = pd.read_hdf('data/algoseek.h5', 'data')"
   ]
  },
  {
   "cell_type": "code",
   "execution_count": 18,
   "id": "e1d6f6e6-26f7-4e65-aeec-cf7df8ce0fec",
   "metadata": {},
   "outputs": [],
   "source": [
    "df.info(null_counts=True)"
   ]
  },
  {
   "cell_type": "markdown",
   "id": "0b7bc385-38dd-4f11-a89b-dc5b12acdbbd",
   "metadata": {},
   "source": [
    "### Feature Engineering"
   ]
  },
  {
   "cell_type": "code",
   "execution_count": 19,
   "id": "9f6c5d21-4a8e-4425-b565-ff43907d32f7",
   "metadata": {},
   "outputs": [],
   "source": [
    "by_ticker = df.sort_index().groupby('ticker', group_keys=False)\n",
    "\n",
    "by_ticker_date = df.sort_index().groupby(['ticker', 'date'])"
   ]
  },
  {
   "cell_type": "code",
   "execution_count": 20,
   "id": "b033600f-7c72-4f31-9354-548b83a5865a",
   "metadata": {},
   "outputs": [],
   "source": [
    "data = pd.DataFrame(index=df.index)"
   ]
  },
  {
   "cell_type": "code",
   "execution_count": 21,
   "id": "18b6840e-a4fa-41df-9ab4-2bdb10669621",
   "metadata": {},
   "outputs": [],
   "source": [
    "data['date'] = pd.factorize(df['date'], sort=True)[0]"
   ]
  },
  {
   "cell_type": "code",
   "execution_count": 22,
   "id": "0721fedd-c581-4c95-942c-252fe58fee3e",
   "metadata": {},
   "outputs": [],
   "source": [
    "data['minute'] = pd.to_timedelta(data.index.get_level_values('date_time').time.astype(str))\n",
    "\n",
    "data.minute = (data.minute.dt.seconds.sub(data.minute.dt.seconds.min()).div(60).astype(int))"
   ]
  },
  {
   "cell_type": "markdown",
   "id": "26ba929e-eedf-469c-9bcd-05c6723306f3",
   "metadata": {},
   "source": [
    "### Lagged Returns"
   ]
  },
  {
   "cell_type": "code",
   "execution_count": 23,
   "id": "3ea3673c-943b-4ecf-bb3e-b3b9dfab06f2",
   "metadata": {},
   "outputs": [],
   "source": [
    "data[f'ret1min'] = df['last'].div(df['first']).sub(1)"
   ]
  },
  {
   "cell_type": "code",
   "execution_count": 24,
   "id": "471eb1c8-1ea9-4246-a50f-0fd12a06be8e",
   "metadata": {},
   "outputs": [],
   "source": [
    "sns.kdeplot(data.ret1min.sample(n=100000));\n",
    "plt.show()"
   ]
  },
  {
   "cell_type": "code",
   "execution_count": 25,
   "id": "432ec94d-df5a-42cc-a2e8-1958b9d82d30",
   "metadata": {},
   "outputs": [],
   "source": [
    "data.ret1min.describe(percentiles=np.arange(.1, 1, .1)).iloc[1:].apply(lambda x: f'{x:.3%}')"
   ]
  },
  {
   "cell_type": "code",
   "execution_count": 26,
   "id": "0b9c094d-38b4-48bd-af77-22fcc9cab2d7",
   "metadata": {},
   "outputs": [],
   "source": [
    "print(f'Skew: {data.ret1min.skew():.2f} | Kurtosis: {data.ret1min.kurtosis():.2f}')"
   ]
  },
  {
   "cell_type": "code",
   "execution_count": 27,
   "id": "ca5bd4c5-6d35-474a-aafe-368a278fac08",
   "metadata": {},
   "outputs": [],
   "source": [
    "data.join(df[['first', 'last']]).nlargest(10, columns=['ret1min'])"
   ]
  },
  {
   "cell_type": "code",
   "execution_count": 28,
   "id": "86d76192-2f7f-4eca-9f7e-b8336e5957dc",
   "metadata": {},
   "outputs": [],
   "source": [
    "for t in tqdm(range(2, 11)):\n",
    "    data[f'ret{t}min'] = df['last'].div(by_ticker_date['first'].shift(t-1)).sub(1)"
   ]
  },
  {
   "cell_type": "markdown",
   "id": "afce344e-8ab1-45a5-b426-512efefc5afa",
   "metadata": {},
   "source": [
    "### Forwarding Returns"
   ]
  },
  {
   "cell_type": "code",
   "execution_count": 29,
   "id": "c37f52a6-fc80-47bf-82b6-32f4ec7b9e17",
   "metadata": {},
   "outputs": [],
   "source": [
    "data['fwd1min'] = (data\n",
    "                   .sort_index()\n",
    "                   .groupby(['ticker', 'date'])\n",
    "                   .ret1min\n",
    "                   .shift(-1))"
   ]
  },
  {
   "cell_type": "code",
   "execution_count": 30,
   "id": "b7cb82bf-c99a-4651-881b-69fcc775a668",
   "metadata": {},
   "outputs": [],
   "source": [
    "data = data.dropna(subset=['fwd1min'])"
   ]
  },
  {
   "cell_type": "code",
   "execution_count": 31,
   "id": "1258569a-94fb-4d19-bd82-b250706e01c4",
   "metadata": {},
   "outputs": [],
   "source": [
    "data.info(null_counts=True)"
   ]
  },
  {
   "cell_type": "markdown",
   "id": "28e9caaa-a4b0-4646-9f9b-468da1212679",
   "metadata": {},
   "source": [
    "### Normalized Up/Downtick Volume"
   ]
  },
  {
   "cell_type": "code",
   "execution_count": 32,
   "id": "d6c29d4c-0644-438f-b720-aa7b3d433c87",
   "metadata": {},
   "outputs": [],
   "source": [
    "for f in ['up', 'down', 'rup', 'rdown']:\n",
    "    data[f] = df.loc[:, f].div(df.volume).replace(np.inf, np.nan)"
   ]
  },
  {
   "cell_type": "code",
   "execution_count": 33,
   "id": "75315e03-b244-43d1-b942-6245d10ff8fa",
   "metadata": {},
   "outputs": [],
   "source": [
    "data.loc[:, ['rup', 'up', 'rdown', 'down']].describe(deciles)"
   ]
  },
  {
   "cell_type": "markdown",
   "id": "88d57341-f0d7-4c37-936f-71dbe47fed60",
   "metadata": {},
   "source": [
    "### Balance of Power"
   ]
  },
  {
   "cell_type": "code",
   "execution_count": 34,
   "id": "639c2390-356d-47da-b890-5e07ef22721c",
   "metadata": {},
   "outputs": [],
   "source": [
    "data['BOP'] = (by_ticker.apply(lambda x: talib.BOP(x['first'],\n",
    "                                                   x.high,\n",
    "                                                   x.low,\n",
    "                                                   x['last'])))"
   ]
  },
  {
   "cell_type": "markdown",
   "id": "6cdfb84c-315f-4f49-ab1b-30534e1a8bb3",
   "metadata": {},
   "source": [
    "### Commodity Channel Index"
   ]
  },
  {
   "cell_type": "code",
   "execution_count": 35,
   "id": "d09aeade-4dfa-4ffb-b773-91a1640af214",
   "metadata": {},
   "outputs": [],
   "source": [
    "data['CCI'] = (by_ticker.apply(lambda x: talib.CCI(x.high,\n",
    "                                          x.low,\n",
    "                                          x['last'],\n",
    "                                          timeperiod=14)))"
   ]
  },
  {
   "cell_type": "markdown",
   "id": "c763e1d1-8f8a-4d85-955f-a4877f9e501e",
   "metadata": {},
   "source": [
    "### Money Flow Index"
   ]
  },
  {
   "cell_type": "code",
   "execution_count": 36,
   "id": "bd7d33e3-09e0-43fa-b4f9-1e2361dcfafa",
   "metadata": {},
   "outputs": [],
   "source": [
    "data['MFI'] = (by_ticker.apply(lambda x: talib.MFI(x.high,\n",
    "                                          x.low,\n",
    "                                          x['last'],\n",
    "                                          x.volume,\n",
    "                                          timeperiod=14)))"
   ]
  },
  {
   "cell_type": "code",
   "execution_count": 37,
   "id": "6aff4898-c007-49e1-91e9-a92d3cdc5e03",
   "metadata": {},
   "outputs": [],
   "source": [
    "data[['BOP', 'CCI', 'MFI']].describe(deciles)"
   ]
  },
  {
   "cell_type": "markdown",
   "id": "d8129e85-03b0-410f-ae1f-cdaafe8fbde4",
   "metadata": {},
   "source": [
    "### Stochastic RSI"
   ]
  },
  {
   "cell_type": "code",
   "execution_count": 38,
   "id": "821eb94a-fee4-4002-8f70-c23fdcd24bea",
   "metadata": {},
   "outputs": [],
   "source": [
    "data['STOCHRSI'] = (by_ticker.apply(lambda x: talib.STOCHRSI(x['last'].ffill(),\n",
    "                                                             timeperiod=14,\n",
    "                                                             fastk_period=14,\n",
    "                                                             fastd_period=3,\n",
    "                                                             fastd_matype=0)[0]))"
   ]
  },
  {
   "cell_type": "markdown",
   "id": "f957c4ad-add4-413f-a317-af4f9a79bd9e",
   "metadata": {},
   "source": [
    "### Stochastic Oscillator"
   ]
  },
  {
   "cell_type": "code",
   "execution_count": 39,
   "id": "cae3a673-5cdd-47b4-b5a5-8ca167b9c39b",
   "metadata": {},
   "outputs": [],
   "source": [
    "def compute_stoch(x, fastk_period=14, slowk_period=3, slowk_matype=0, slowd_period=3, slowd_matype=0):\n",
    "    slowk, slowd = talib.STOCH(x.high.ffill(), x.low.ffill(), x['last'].ffill(), \n",
    "                               fastk_period=fastk_period,\n",
    "                               slowk_period=slowk_period,\n",
    "                               slowk_matype=slowk_matype,\n",
    "                               slowd_period=slowd_period,\n",
    "                               slowd_matype=slowd_matype)\n",
    "    return pd.DataFrame({'slowd': slowd, \n",
    "                         'slowk': slowk}, \n",
    "                        index=x.index)"
   ]
  },
  {
   "cell_type": "code",
   "execution_count": 40,
   "id": "15010136-1ac9-4a08-b11f-ff9b79470b15",
   "metadata": {},
   "outputs": [],
   "source": [
    "data = data.join(by_ticker.apply(compute_stoch))"
   ]
  },
  {
   "cell_type": "markdown",
   "id": "4d12d7ce-737c-4d26-9542-a747039ff684",
   "metadata": {},
   "source": [
    "### Average True Range"
   ]
  },
  {
   "cell_type": "code",
   "execution_count": 41,
   "id": "eb6d492f-0603-44d7-a5a4-0428709eeeae",
   "metadata": {},
   "outputs": [],
   "source": [
    "data['NATR'] = by_ticker.apply(lambda x: talib.NATR(x.high.ffill(), \n",
    "                                                    x.low.ffill(), \n",
    "                                                    x['last'].ffill()))"
   ]
  },
  {
   "cell_type": "markdown",
   "id": "ce66e72f-a640-4cc6-b4e6-adfbb351b539",
   "metadata": {},
   "source": [
    "### Transaction Volume by Price Point"
   ]
  },
  {
   "cell_type": "code",
   "execution_count": 42,
   "id": "9713ff31-e5d7-462a-80a6-e276a2639f3e",
   "metadata": {},
   "outputs": [],
   "source": [
    "data['trades_bid_ask'] = df.atask.sub(df.atbid).div(df.volume).replace((np.inf, -np.inf), np.nan)"
   ]
  },
  {
   "cell_type": "code",
   "execution_count": 43,
   "id": "4a785f50-2f39-45c5-9f68-fd8b7f579332",
   "metadata": {},
   "outputs": [],
   "source": [
    "del df"
   ]
  },
  {
   "cell_type": "code",
   "execution_count": 44,
   "id": "c77b33a4-4f0a-44f0-8614-495f9714cb70",
   "metadata": {},
   "outputs": [],
   "source": [
    "data.info(show_counts=True)"
   ]
  },
  {
   "cell_type": "markdown",
   "id": "ebce450a-923a-4fe1-bed7-4ed6dd247a4f",
   "metadata": {},
   "source": [
    "### Evaluating Features"
   ]
  },
  {
   "cell_type": "code",
   "execution_count": 45,
   "id": "7b79624b-8a5e-4bc4-a2f9-0522bcf1cfff",
   "metadata": {},
   "outputs": [],
   "source": [
    "features = ['ret1min', 'ret2min', 'ret3min', 'ret4min', 'ret5min', \n",
    "            'ret6min', 'ret7min', 'ret8min', 'ret9min', 'ret10min',\n",
    "            'rup', 'up', 'down', 'rdown', 'BOP', 'CCI', 'MFI', 'STOCHRSI', \n",
    "            'slowk', 'slowd', 'trades_bid_ask']"
   ]
  },
  {
   "cell_type": "code",
   "execution_count": 46,
   "id": "9e7ff858-3f23-4f4c-9c08-5c0253963ac1",
   "metadata": {},
   "outputs": [],
   "source": [
    "sample = data.sample(n=100000)"
   ]
  },
  {
   "cell_type": "code",
   "execution_count": 47,
   "id": "3c35d00a-bc41-4d41-a278-b0055e6c811f",
   "metadata": {},
   "outputs": [],
   "source": [
    "fig, axes = plt.subplots(nrows=3, ncols=7, figsize=(30, 12))\n",
    "\n",
    "axes = axes.flatten()\n",
    "\n",
    "for i, feature in enumerate(features):\n",
    "    sns.distplot(sample[feature], ax=axes[i])\n",
    "    axes[i].set_title(feature.upper())\n",
    "    \n",
    "sns.despine()\n",
    "fig.tight_layout()\n",
    "plt.show()"
   ]
  },
  {
   "cell_type": "code",
   "execution_count": 48,
   "id": "50783838-7cf0-45ba-a937-765be90f3b08",
   "metadata": {},
   "outputs": [],
   "source": [
    "sns.pairplot(sample, y_vars=['fwd1min'], x_vars=features);\n",
    "plt.show()"
   ]
  },
  {
   "cell_type": "code",
   "execution_count": 49,
   "id": "0849ff3c-f7a1-40bc-ae34-73ce53fdfcab",
   "metadata": {},
   "outputs": [],
   "source": [
    "corr = sample.loc[:, features].corr()\n",
    "\n",
    "sns.clustermap(corr, cmap = sns.diverging_palette(20, 230, as_cmap=True),\n",
    "              center=0, vmin=-.25);\n",
    "\n",
    "plt.show()"
   ]
  },
  {
   "cell_type": "code",
   "execution_count": 50,
   "id": "7b9a99c5-4770-4995-bd35-965835354e3c",
   "metadata": {},
   "outputs": [],
   "source": [
    "ic = {}\n",
    "\n",
    "for feature in tqdm(features):\n",
    "    df = data[['fwd1min', feature]].dropna()\n",
    "    by_day = df.groupby(df.index.get_level_values('date_time').date) # calc per min is very time-consuming\n",
    "    ic[feature] = by_day.apply(lambda x: spearmanr(x.fwd1min, x[feature])[0]).mean()\n",
    "\n",
    "ic = pd.Series(ic)"
   ]
  },
  {
   "cell_type": "code",
   "execution_count": 51,
   "id": "2b33544a-3322-4090-b679-c0bb6a6e9a4b",
   "metadata": {},
   "outputs": [],
   "source": [
    "ic.sort_values()"
   ]
  },
  {
   "cell_type": "code",
   "execution_count": 52,
   "id": "4556a4de-e9ca-4d86-a6e9-848358a08038",
   "metadata": {},
   "outputs": [],
   "source": [
    "title = 'Information Coeficient for Intraday Features (1-min forward returns)'\n",
    "\n",
    "ic.index = ic.index.map(str.upper)\n",
    "\n",
    "ax = ic.sort_values(ascending=False).plot.bar(figsize=(14, 4), title=title, rot=35)\n",
    "ax.set_ylabel('Information Coefficient')\n",
    "ax.yaxis.set_major_formatter(FuncFormatter(lambda y, _: '{:.1%}'.format(y))) \n",
    "sns.despine()\n",
    "plt.tight_layout();\n",
    "plt.show()"
   ]
  },
  {
   "cell_type": "markdown",
   "id": "ec9a925f-ad37-41e2-81ae-3d02ebb2a7a4",
   "metadata": {},
   "source": [
    "### Storing Results"
   ]
  },
  {
   "cell_type": "code",
   "execution_count": 53,
   "id": "7b4f4ba2-5c8e-48a7-9b84-a43ec02a497b",
   "metadata": {},
   "outputs": [],
   "source": [
    "data.info(null_counts=True)"
   ]
  },
  {
   "cell_type": "code",
   "execution_count": 54,
   "id": "6d7adb4d-67ce-4e7f-859f-f49d43897c95",
   "metadata": {},
   "outputs": [],
   "source": [
    "data.drop(['date', 'up', 'down'], axis=1).to_hdf('data/algoseek.h5', 'model_data')"
   ]
  },
  {
   "cell_type": "code",
   "execution_count": null,
   "id": "e4ce15c9-d02b-49d1-a4e7-4bb6b3c7def3",
   "metadata": {},
   "outputs": [],
   "source": []
  }
 ],
 "metadata": {
  "kernelspec": {
   "display_name": "Python 3 (ipykernel)",
   "language": "python",
   "name": "python3"
  },
  "language_info": {
   "codemirror_mode": {
    "name": "ipython",
    "version": 3
   },
   "file_extension": ".py",
   "mimetype": "text/x-python",
   "name": "python",
   "nbconvert_exporter": "python",
   "pygments_lexer": "ipython3",
   "version": "3.12.9"
  }
 },
 "nbformat": 4,
 "nbformat_minor": 5
}
