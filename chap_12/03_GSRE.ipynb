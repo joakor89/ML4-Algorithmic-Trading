{
 "cells": [
  {
   "cell_type": "markdown",
   "id": "16d34695-655c-4a9b-95ed-7c2b3c3c5bf4",
   "metadata": {},
   "source": [
    "# GBM GridSearchCV Results Evaluation\n",
    "\n",
    "### Loading Libraries"
   ]
  },
  {
   "cell_type": "code",
   "execution_count": 1,
   "id": "fdd8b2f5-e851-4409-b5c0-e15b8ca5443d",
   "metadata": {},
   "outputs": [],
   "source": [
    "# Numerical Computing\n",
    "import numpy as np\n",
    "\n",
    "# Data Manipulation\n",
    "import pandas as pd\n",
    "\n",
    "# Warnings\n",
    "import warnings\n",
    "\n",
    "# pATH\n",
    "from pathlib import Path\n",
    "\n",
    "# OS & Time\n",
    "import os\n",
    "from datetime import datetime\n",
    "\n",
    "# Data Visualization\n",
    "import graphviz\n",
    "import seaborn as sns\n",
    "import matplotlib.pyplot as plt\n",
    "\n",
    "# Joblib\n",
    "import joblib\n",
    "\n",
    "# Scikit-Learn\n",
    "from sklearn.metrics import roc_auc_score\n",
    "from statsmodels.api import OLS, add_constant\n",
    "from sklearn.tree import DecisionTreeRegressor, export_graphviz"
   ]
  },
  {
   "cell_type": "code",
   "execution_count": 2,
   "id": "f1168f44-1e6b-4a46-a6f4-271dabbe4a76",
   "metadata": {},
   "outputs": [],
   "source": [
    "np.random.seed(42)\n",
    "\n",
    "sns.set_style(\"white\")\n",
    "\n",
    "pd.options.display.float_format = '{:,.4f}'.format"
   ]
  },
  {
   "cell_type": "code",
   "execution_count": 4,
   "id": "9eaa8c00-d5bb-476f-9977-9fe29fec608e",
   "metadata": {},
   "outputs": [],
   "source": [
    "with pd.HDFStore('data/tuning_sklearn_gbm.h5') as store:\n",
    "    test_feature_data = store['holdout/features']\n",
    "    test_features = test_feature_data.columns\n",
    "    test_target = store['holdout/target']"
   ]
  },
  {
   "cell_type": "markdown",
   "id": "ff906def-ecca-4453-acc6-01e008f1c454",
   "metadata": {},
   "source": [
    "### GBM GridsearchCV with sklearn"
   ]
  },
  {
   "cell_type": "code",
   "execution_count": 5,
   "id": "571af374-4a24-4aab-8cf0-76d40aa05fed",
   "metadata": {},
   "outputs": [],
   "source": [
    "class OneStepTimeSeriesSplit:\n",
    "    pass"
   ]
  },
  {
   "cell_type": "markdown",
   "id": "732dd74c-251d-4d7f-a593-8fbf5b40582d",
   "metadata": {},
   "source": [
    "#### Loading Result"
   ]
  },
  {
   "cell_type": "code",
   "execution_count": 6,
   "id": "b33cc234-0343-4e09-89a1-b5dd39bee72a",
   "metadata": {},
   "outputs": [],
   "source": [
    "gridsearch_result = joblib.load('results/sklearn_gbm_gridsearch.joblib')"
   ]
  },
  {
   "cell_type": "markdown",
   "id": "b069d2b1-2ef6-4832-979f-87eb49542f76",
   "metadata": {},
   "source": [
    "### Best Parameters & AUC Score"
   ]
  },
  {
   "cell_type": "code",
   "execution_count": null,
   "id": "aaedee35-3afb-48c0-a2b5-ff8b1a79ef1a",
   "metadata": {},
   "outputs": [],
   "source": [
    "pd.Series(gridsearch_result.best_params_)"
   ]
  },
  {
   "cell_type": "code",
   "execution_count": null,
   "id": "5ac24a42-1464-4855-b54c-37d930d78575",
   "metadata": {},
   "outputs": [],
   "source": [
    "f'{gridsearch_result.best_score_:.4f}'"
   ]
  },
  {
   "cell_type": "markdown",
   "id": "76c31d61-f7a0-46a0-ba1d-968f0bf181d3",
   "metadata": {},
   "source": [
    "### Best Model Evaluation\n",
    "\n",
    "#### Test on Hold-Out Set"
   ]
  },
  {
   "cell_type": "code",
   "execution_count": 7,
   "id": "37b916e3-7a2f-4398-8a1f-b869cd5584ec",
   "metadata": {},
   "outputs": [],
   "source": [
    "best_model = gridsearch_result.best_estimator_"
   ]
  },
  {
   "cell_type": "code",
   "execution_count": 8,
   "id": "c8500acc-50af-47c3-b4ef-d7b7c344a84a",
   "metadata": {},
   "outputs": [],
   "source": [
    "idx = pd.IndexSlice\n",
    "\n",
    "test_dates = sorted(test_feature_data.index.get_level_values('date').unique())"
   ]
  },
  {
   "cell_type": "code",
   "execution_count": 9,
   "id": "a6f89a4f-9f31-4d92-b376-6754fb484969",
   "metadata": {},
   "outputs": [],
   "source": [
    "auc = {}\n",
    "\n",
    "for i, test_date in enumerate(test_dates):\n",
    "    test_data = test_feature_data.loc[idx[:, test_date], :]\n",
    "    preds = best_model.predict(test_data)\n",
    "    auc[i] = roc_auc_score(y_true=test_target.loc[test_data.index], y_score=preds)"
   ]
  },
  {
   "cell_type": "code",
   "execution_count": 10,
   "id": "0aea8bcd-0a26-4f7d-a2f3-7bbe2c3bbf19",
   "metadata": {},
   "outputs": [],
   "source": [
    "auc = pd.Series(auc)"
   ]
  },
  {
   "cell_type": "code",
   "execution_count": 11,
   "id": "1f7aad5c-1553-43bd-a0de-374533b88d19",
   "metadata": {},
   "outputs": [],
   "source": [
    "auc.head()"
   ]
  },
  {
   "cell_type": "code",
   "execution_count": 13,
   "id": "7122da84-a66e-42e0-a3bc-c3b2b8e7d2cd",
   "metadata": {},
   "outputs": [],
   "source": [
    "ax = auc.sort_index(ascending=False).plot.barh(xlim=(.45, .55),\n",
    "                                               title=f'Test AUC: {auc.mean():.2%}',\n",
    "                                               figsize=(8, 4))\n",
    "ax.axvline(auc.mean(), ls='--', lw=1, c='k')\n",
    "sns.despine()\n",
    "plt.tight_layout()\n",
    "plt.show()"
   ]
  },
  {
   "cell_type": "markdown",
   "id": "4fcebc6d-8190-4f01-b437-9b30f9ebca23",
   "metadata": {},
   "source": [
    "#### Global Feature Importance Inspection"
   ]
  },
  {
   "cell_type": "code",
   "execution_count": 14,
   "id": "69d79f77-afaf-45a9-b639-f43e3f3efeca",
   "metadata": {},
   "outputs": [],
   "source": [
    "(pd.Series(best_model.feature_importances_,\n",
    "           index=test_features)\n",
    " .sort_values()\n",
    " .tail(25)\n",
    " .plot.barh(figsize=(8, 5)))\n",
    "sns.despine()\n",
    "plt.tight_layout()\n",
    "plt.show()"
   ]
  },
  {
   "cell_type": "markdown",
   "id": "9578195f-14bb-46dd-875b-e2ffa241aa95",
   "metadata": {},
   "source": [
    "### CV Train-Test Scores"
   ]
  },
  {
   "cell_type": "code",
   "execution_count": 15,
   "id": "45f444b0-634c-40db-bf16-95f4e21596f6",
   "metadata": {},
   "outputs": [],
   "source": [
    "results = pd.Data"
   ]
  },
  {
   "cell_type": "code",
   "execution_count": 16,
   "id": "a88697ae-94a9-41f3-abbc-7e0f9a70f9c6",
   "metadata": {},
   "outputs": [],
   "source": [
    "results.head()"
   ]
  },
  {
   "cell_type": "markdown",
   "id": "9c3ef5fb-a157-47c2-9e08-bb873e8f1d52",
   "metadata": {},
   "source": [
    "### Getting Parameter Values & Mean Test Scores"
   ]
  },
  {
   "cell_type": "code",
   "execution_count": 17,
   "id": "aee5cf0c-e35f-4e95-8427-44344e667821",
   "metadata": {},
   "outputs": [],
   "source": [
    "test_scores = results.filter(like='param').join(results[['mean_test_score']])\n",
    "test_scores = test_scores.rename(columns={c: '_'.join(c.split('_')[1:]) for c in test_scores.columns})\n",
    "test_scores.info()"
   ]
  },
  {
   "cell_type": "code",
   "execution_count": 18,
   "id": "0b8f7b61-4fb5-4c0e-a24a-81e0eaabf965",
   "metadata": {},
   "outputs": [],
   "source": [
    "params = test_scores.columns[:-1].tolist()"
   ]
  },
  {
   "cell_type": "code",
   "execution_count": 19,
   "id": "af62b7e1-bcf0-4156-95dd-a536b1d5034a",
   "metadata": {},
   "outputs": [],
   "source": [
    "test_scores = test_scores.set_index('test_score').stack().reset_index()\n",
    "test_scores.columns= ['test_score', 'parameter', 'value']\n",
    "test_scores.head()"
   ]
  },
  {
   "cell_type": "code",
   "execution_count": 20,
   "id": "8dfbe74c-4a26-4cff-9467-69bc9f606a54",
   "metadata": {},
   "outputs": [],
   "source": [
    "test_scores.info()"
   ]
  },
  {
   "cell_type": "code",
   "execution_count": 21,
   "id": "fd5864ae-1ef9-4da0-b92b-7b05ed0216f4",
   "metadata": {},
   "outputs": [],
   "source": [
    "def get_test_scores(df):\n",
    "    \"\"\"Select parameter values and test scores\"\"\"\n",
    "    data = df.filter(like='param').join(results[['mean_test_score']])\n",
    "    return data.rename(columns={c: '_'.join(c.split('_')[1:]) for c in data.columns})"
   ]
  },
  {
   "cell_type": "markdown",
   "id": "b25012a7-7d25-4d3c-ac63-15ad2fb51547",
   "metadata": {},
   "source": [
    "### Plotting Test Scores vs Parameter Settings"
   ]
  },
  {
   "cell_type": "code",
   "execution_count": 23,
   "id": "6b23d49c-d70c-4b28-8b46-6e0269bd60f4",
   "metadata": {},
   "outputs": [],
   "source": [
    "plot_data = get_test_scores(results).drop('min_impurity_decrease', axis=1)\n",
    "plot_params = plot_data.columns[:-1].tolist()\n",
    "plot_data.info()"
   ]
  },
  {
   "cell_type": "code",
   "execution_count": 24,
   "id": "2dc42f2d-f27e-4fa8-b481-80277b110b88",
   "metadata": {},
   "outputs": [],
   "source": [
    "fig, axes = plt.subplots(ncols=3, nrows=2, figsize=(12, 6))\n",
    "\n",
    "axes = axes.flatten()\n",
    "\n",
    "for i, param in enumerate(plot_params):\n",
    "    sns.swarmplot(x=param, y='test_score', data=plot_data, ax=axes[i])\n",
    "    \n",
    "fig.suptitle('Mean Test Score Distribution by Hyperparameter', fontsize=14)\n",
    "fig.tight_layout()\n",
    "fig.subplots_adjust(top=.94)\n",
    "fig.savefig('sklearn_cv_scores_by_param', dpi=300);\n",
    "plt.show()"
   ]
  },
  {
   "cell_type": "markdown",
   "id": "ef315c6c-b434-4e18-9c0a-5d5c22623aea",
   "metadata": {},
   "source": [
    "### Dummy-Encode Parameters"
   ]
  },
  {
   "cell_type": "code",
   "execution_count": 25,
   "id": "d9a6f36b-803d-4ab0-bd6a-56547809bb2e",
   "metadata": {},
   "outputs": [],
   "source": [
    "data = get_test_scores(results)\n",
    "params = data.columns[:-1].tolist()\n",
    "data = pd.get_dummies(data,columns=params, drop_first=False)\n",
    "data.info()"
   ]
  },
  {
   "cell_type": "markdown",
   "id": "09a6fcef-8c04-4a0e-8da6-4b9678f6bb62",
   "metadata": {},
   "source": [
    "### Building Regression Tree"
   ]
  },
  {
   "cell_type": "code",
   "execution_count": 26,
   "id": "f756f186-fa59-4f78-b9d2-b89f2aa3e36b",
   "metadata": {},
   "outputs": [],
   "source": [
    "reg_tree = DecisionTreeRegressor(criterion='mse',\n",
    "                                 splitter='best',\n",
    "                                 max_depth=4,\n",
    "                                 min_samples_split=5,\n",
    "                                 min_samples_leaf=10,\n",
    "                                 min_weight_fraction_leaf=0.0,\n",
    "                                 max_features=None,\n",
    "                                 random_state=42,\n",
    "                                 max_leaf_nodes=None,\n",
    "                                 min_impurity_decrease=0.0,\n",
    "                                 min_impurity_split=None)"
   ]
  },
  {
   "cell_type": "code",
   "execution_count": 27,
   "id": "71ebc9cc-d397-408c-b09e-b9ae4a26ddb4",
   "metadata": {},
   "outputs": [],
   "source": [
    "gbm_features = data.drop('test_score', axis=1).columns\n",
    "\n",
    "reg_tree.fit(X=data[gbm_features], y=data.test_score)"
   ]
  },
  {
   "cell_type": "code",
   "execution_count": 28,
   "id": "8d40a11e-b85a-4371-bbe0-7457badb1f17",
   "metadata": {},
   "outputs": [],
   "source": [
    "reg_tree.feature_importances_"
   ]
  },
  {
   "cell_type": "markdown",
   "id": "e6325289-0ad3-4ad8-b47a-5d1c4d9ef4c0",
   "metadata": {},
   "source": [
    "#### Tree Visualization"
   ]
  },
  {
   "cell_type": "code",
   "execution_count": 29,
   "id": "c4212d91-bf94-4224-be97-592ed62b3f2f",
   "metadata": {},
   "outputs": [],
   "source": [
    "out_file = 'results/gbm_sklearn_tree.dot'\n",
    "\n",
    "dot_data = export_graphviz(reg_tree,\n",
    "                          out_file=out_file,\n",
    "                          feature_names=gbm_features,\n",
    "                          max_depth=4,\n",
    "                          filled=True,\n",
    "                          rounded=True,\n",
    "                          special_characters=True)\n",
    "if out_file is not None:\n",
    "    dot_data = Path(out_file).read_text()\n",
    "\n",
    "graphviz.Source(dot_data)"
   ]
  },
  {
   "cell_type": "markdown",
   "id": "9af2491f-2ce6-443a-8a29-5525b3b65c00",
   "metadata": {},
   "source": [
    "### Computing Feature Importance"
   ]
  },
  {
   "cell_type": "code",
   "execution_count": 30,
   "id": "c3afa739-1f5c-4b4c-a4c1-426a943e9946",
   "metadata": {},
   "outputs": [],
   "source": [
    "reg_tree = DecisionTreeRegressor(criterion='mse',\n",
    "                                 splitter='best',\n",
    "                                 min_samples_split=2,\n",
    "                                 min_samples_leaf=1,\n",
    "                                 min_weight_fraction_leaf=0.0,\n",
    "                                 max_features=None,\n",
    "                                 random_state=42,\n",
    "                                 max_leaf_nodes=None,\n",
    "                                 min_impurity_decrease=0.0,\n",
    "                                 min_impurity_split=None)\n",
    "\n",
    "gbm_features = data.drop('test_score', axis=1).columns\n",
    "reg_tree.fit(X=data[gbm_features], y=data.test_score)"
   ]
  },
  {
   "cell_type": "code",
   "execution_count": 31,
   "id": "67d5ad79-1f08-41c3-a89e-f7f596f8e709",
   "metadata": {},
   "outputs": [],
   "source": [
    "gbm_fi = (pd.Series(reg_tree.feature_importances_, \n",
    "                    index=gbm_features)\n",
    "          .sort_values(ascending=False))\n",
    "gbm_fi = gbm_fi[gbm_fi > 0]\n",
    "idx = [p.split('_') for p in gbm_fi.index]\n",
    "gbm_fi.index = ['_'.join(p[:-1]) + '=' + p[-1] for p in idx]\n",
    "gbm_fi.sort_values().plot.barh(figsize=(5,5))\n",
    "plt.title('Hyperparameter Importance')\n",
    "sns.despine()\n",
    "plt.tight_layout();\n",
    "plt.show()"
   ]
  },
  {
   "cell_type": "markdown",
   "id": "1f9f7c97-306b-4f76-9c57-0a4251376a60",
   "metadata": {},
   "source": [
    "### Running Linear Regression"
   ]
  },
  {
   "cell_type": "code",
   "execution_count": 32,
   "id": "7e4f9a62-15a4-4a02-81f7-4ecaa194f63e",
   "metadata": {},
   "outputs": [],
   "source": [
    "data = get_test_scores(results)\n",
    "params = data.columns[:-1].tolist()\n",
    "data = pd.get_dummies(data,columns=params, drop_first=True)\n",
    "\n",
    "model = OLS(endog=data.test_score, exog=add_constant(data.drop('test_score', axis=1))).fit(cov_type='HC3')\n",
    "print(model.summary())"
   ]
  },
  {
   "cell_type": "code",
   "execution_count": null,
   "id": "8d898eca-bf51-4eff-8fd9-9ceac03126dc",
   "metadata": {},
   "outputs": [],
   "source": []
  }
 ],
 "metadata": {
  "kernelspec": {
   "display_name": "Python 3 (ipykernel)",
   "language": "python",
   "name": "python3"
  },
  "language_info": {
   "codemirror_mode": {
    "name": "ipython",
    "version": 3
   },
   "file_extension": ".py",
   "mimetype": "text/x-python",
   "name": "python",
   "nbconvert_exporter": "python",
   "pygments_lexer": "ipython3",
   "version": "3.12.9"
  }
 },
 "nbformat": 4,
 "nbformat_minor": 5
}
