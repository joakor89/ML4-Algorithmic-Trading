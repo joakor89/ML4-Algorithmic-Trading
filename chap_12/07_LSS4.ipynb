{
 "cells": [
  {
   "cell_type": "markdown",
   "id": "8a2c2fe5-4fa7-4daa-b17f-5acfaa4a5fe9",
   "metadata": {},
   "source": [
    "# Long-Short Strategy, Part 4: How to interpret GBM results\n",
    "\n",
    "### Loading Libraries"
   ]
  },
  {
   "cell_type": "code",
   "execution_count": 3,
   "id": "7378908b-76d9-467d-a823-7337383bdcf6",
   "metadata": {},
   "outputs": [],
   "source": [
    "# Numerical Computing\n",
    "import numpy as np\n",
    "from random import randint\n",
    "\n",
    "# Data Manipulation\n",
    "import pandas as pd\n",
    "\n",
    "# Data Visualization\n",
    "import seaborn as sns\n",
    "import matplotlib.pyplot as plt\n",
    "from mpl_toolkits.mplot3d import Axes3D\n",
    "from matplotlib.ticker import FuncFormatter\n",
    "\n",
    "\n",
    "# Path\n",
    "from pathlib import Path\n",
    "\n",
    "# Warnings\n",
    "import warnings\n",
    "\n",
    "# Itertools & Joblib\n",
    "import joblib\n",
    "from itertools import product\n",
    "\n",
    "# Feature Relevancy\n",
    "import shap\n",
    "\n",
    "# LightGBM\n",
    "import lightgbm as lgb\n",
    "\n",
    "# Scikit-Learn\n",
    "from sklearn.inspection import PartialDependenceDisplay"
   ]
  },
  {
   "cell_type": "code",
   "execution_count": 4,
   "id": "8c21686f-644c-49f5-a0d6-9f0bdb805cbd",
   "metadata": {},
   "outputs": [],
   "source": [
    "np.random.seed(42)\n",
    "\n",
    "idx = pd.IndexSlice\n",
    "\n",
    "sns.set_style('darkgrid')\n",
    "\n",
    "warnings.filterwarnings('ignore')"
   ]
  },
  {
   "cell_type": "code",
   "execution_count": 5,
   "id": "fdae795a-c6d6-4cec-bec0-b54903603847",
   "metadata": {},
   "outputs": [],
   "source": [
    "DATA_STORE = Path('../data/assets.h5')"
   ]
  },
  {
   "cell_type": "markdown",
   "id": "f1d5b7ec-a3e3-4eb2-845a-ea04d6c8fad2",
   "metadata": {},
   "source": [
    "### Retrieving Best Model Parameters"
   ]
  },
  {
   "cell_type": "code",
   "execution_count": 6,
   "id": "78767a2f-f0c0-40b5-ba3b-8d4417143e46",
   "metadata": {},
   "outputs": [],
   "source": [
    "# with pd.HDFStore('data.h5') as store:\n",
    "#     best_params = store['best_params']"
   ]
  },
  {
   "cell_type": "code",
   "execution_count": 7,
   "id": "a6046053-433b-4f00-af07-3453b618202f",
   "metadata": {},
   "outputs": [],
   "source": [
    "# best_params"
   ]
  },
  {
   "cell_type": "markdown",
   "id": "9fc9826f-8e1e-4e47-bd81-5e53b83e1075",
   "metadata": {},
   "source": [
    "### Getting Training Data"
   ]
  },
  {
   "cell_type": "code",
   "execution_count": 8,
   "id": "85de3c0f-3434-4699-9a0a-9f271498687a",
   "metadata": {},
   "outputs": [],
   "source": [
    "# data = pd.read_hdf('data.h5', 'model_data').sort_index()\n",
    "# data = data.loc[idx[:, '2013':'2018'], :]"
   ]
  },
  {
   "cell_type": "code",
   "execution_count": 9,
   "id": "0a59d167-882e-4ce6-acbf-ec556048fb3f",
   "metadata": {},
   "outputs": [],
   "source": [
    "# data.info()"
   ]
  },
  {
   "cell_type": "markdown",
   "id": "7a47d62c-e5a9-46a0-bd3f-cdd3af0aebf5",
   "metadata": {},
   "source": [
    "### Creating Binary Data"
   ]
  },
  {
   "cell_type": "code",
   "execution_count": 10,
   "id": "8c0ead4e-d791-4d1b-b008-b2929eef92fb",
   "metadata": {},
   "outputs": [],
   "source": [
    "# dates = sorted(data.index.get_level_values('date').unique())"
   ]
  },
  {
   "cell_type": "code",
   "execution_count": 11,
   "id": "9331bf28-2d69-42dd-a85c-c506c98eba9a",
   "metadata": {},
   "outputs": [],
   "source": [
    "# train_dates = dates[-int(best_params.train_length):]"
   ]
  },
  {
   "cell_type": "code",
   "execution_count": 12,
   "id": "780568ba-ad3e-4977-9371-890cac2e3751",
   "metadata": {},
   "outputs": [],
   "source": [
    "# data = data.loc[idx[:, train_dates], :]"
   ]
  },
  {
   "cell_type": "code",
   "execution_count": 13,
   "id": "618a0c98-bd73-4b43-95b2-ce75995b4346",
   "metadata": {},
   "outputs": [],
   "source": [
    "# labels = sorted(data.filter(like='_fwd').columns)\n",
    "\n",
    "# features = data.columns.difference(labels).tolist()"
   ]
  },
  {
   "cell_type": "code",
   "execution_count": 14,
   "id": "1f7efb13-6494-4f97-b679-afd033ec70a1",
   "metadata": {},
   "outputs": [],
   "source": [
    "# lookahead = 1\n",
    "\n",
    "# label = f'r{lookahead:02}_fwd'"
   ]
  },
  {
   "cell_type": "code",
   "execution_count": 15,
   "id": "c296e6ce-da76-4493-b3f6-e49146130692",
   "metadata": {},
   "outputs": [],
   "source": [
    "categoricals = ['year', 'month', 'sector', 'weekday']"
   ]
  },
  {
   "cell_type": "code",
   "execution_count": 16,
   "id": "bc927a87-3a9e-434c-81b1-639b1bc3e907",
   "metadata": {},
   "outputs": [],
   "source": [
    "# lgb_train = lgb.Dataset(data=data[features],\n",
    "#                        label=data[label],\n",
    "#                        categorical_feature=categoricals,\n",
    "#                        free_raw_data=False)"
   ]
  },
  {
   "cell_type": "markdown",
   "id": "d03897ec-aa6d-4456-a250-a2c46da16d23",
   "metadata": {},
   "source": [
    "### Training LightGBM Model"
   ]
  },
  {
   "cell_type": "code",
   "execution_count": 20,
   "id": "68b08b0b-1c10-464d-b15e-7360dfce322e",
   "metadata": {},
   "outputs": [],
   "source": [
    "params = dict(boosting='gbdt', objective='regression', verbose=-1)"
   ]
  },
  {
   "cell_type": "code",
   "execution_count": 21,
   "id": "3431deea-28a2-4f4f-8843-40ce5af5a448",
   "metadata": {},
   "outputs": [],
   "source": [
    "train_params = ['learning_rate', 'num_leaves', 'feature_fraction', 'min_data_in_leaf']"
   ]
  },
  {
   "cell_type": "code",
   "execution_count": 23,
   "id": "c793db88-0102-46cf-88f7-7a348d8a4d50",
   "metadata": {},
   "outputs": [],
   "source": [
    "# params.update(best_params.loc[train_params].to_dict())\n",
    "\n",
    "# for p in ['min_data_in_leaf', 'num_leaves']:\n",
    "#     params[p] = int(params[p])"
   ]
  },
  {
   "cell_type": "code",
   "execution_count": 24,
   "id": "a5569e88-633e-4a52-ab1c-d19b475f1daf",
   "metadata": {},
   "outputs": [
    {
     "data": {
      "text/plain": [
       "{'boosting': 'gbdt', 'objective': 'regression', 'verbose': -1}"
      ]
     },
     "execution_count": 24,
     "metadata": {},
     "output_type": "execute_result"
    }
   ],
   "source": [
    "params"
   ]
  },
  {
   "cell_type": "code",
   "execution_count": 25,
   "id": "dfee8911-bb14-451f-9559-ae5bfaead258",
   "metadata": {},
   "outputs": [],
   "source": [
    "# lgb_model = lgb.train(params=params,\n",
    "#                   train_set=lgb_train,\n",
    "#                   num_boost_round=int(best_params.boost_rounds))"
   ]
  },
  {
   "cell_type": "markdown",
   "id": "e50714b2-f411-45ac-9a61-7ec8430e3f44",
   "metadata": {},
   "source": [
    "### Computing Feature Importance"
   ]
  },
  {
   "cell_type": "code",
   "execution_count": 26,
   "id": "1b66ec15-d9c3-421d-b211-b214dcccee17",
   "metadata": {},
   "outputs": [],
   "source": [
    "def get_feature_importance(model, importance_type='split'):\n",
    "    fi = pd.Series(model.feature_importance(importance_type=importance_type), \n",
    "                   index=model.feature_name())\n",
    "    return fi/fi.sum()"
   ]
  },
  {
   "cell_type": "code",
   "execution_count": 27,
   "id": "0413d035-93f2-4833-8da0-850dc7dae93a",
   "metadata": {},
   "outputs": [],
   "source": [
    "# feature_importance = (get_feature_importance(lgb_model).to_frame('Split').\n",
    "#                       join(get_feature_importance(lgb_model, 'gain').to_frame('Gain')))"
   ]
  },
  {
   "cell_type": "code",
   "execution_count": 28,
   "id": "40d0fa0c-183c-4d2f-8bb7-787d1b01e6a1",
   "metadata": {},
   "outputs": [],
   "source": [
    "# (feature_importance\n",
    "#  .nlargest(20, columns='Gain')\n",
    "#  .sort_values('Gain', ascending=False)\n",
    "#  .plot\n",
    "#  .bar(subplots=True,\n",
    "#       layout=(2, 1),\n",
    "#       figsize=(14, 6),\n",
    "#       legend=False,\n",
    "#       sharey=True,\n",
    "#       rot=0))\n",
    "# plt.suptitle('Normalized Importance (Top 20 Features)', fontsize=14)\n",
    "# plt.tight_layout()\n",
    "# plt.subplots_adjust(top=.9);\n",
    "# plt.show()"
   ]
  },
  {
   "cell_type": "markdown",
   "id": "46bf82ce-8596-4eae-a19c-b1c0b55c3d6c",
   "metadata": {},
   "source": [
    "### Partial Dependence Plots"
   ]
  },
  {
   "cell_type": "code",
   "execution_count": 29,
   "id": "7f1e4307-3874-44dc-8412-7b833b0e2b8b",
   "metadata": {},
   "outputs": [],
   "source": [
    "class OneStepTimeSeriesSplit:\n",
    "    pass"
   ]
  },
  {
   "cell_type": "code",
   "execution_count": 31,
   "id": "a25669e7-5d76-4916-9adc-88d71a51c1cc",
   "metadata": {},
   "outputs": [],
   "source": [
    "# gb_clf = joblib.load('results/baseline/sklearn_gbm_model.joblib')"
   ]
  },
  {
   "cell_type": "code",
   "execution_count": 32,
   "id": "fab1d98c-e21c-4def-92e3-8598bb432917",
   "metadata": {},
   "outputs": [],
   "source": [
    "def get_data(start='2000', end='2018', holding_period=1, dropna=False):\n",
    "    idx = pd.IndexSlice\n",
    "    target = f'target_{holding_period}m'\n",
    "    with pd.HDFStore(DATA_STORE) as store:\n",
    "        df = store['engineered_features']\n",
    "\n",
    "    if start is not None and end is not None:\n",
    "        df = df.loc[idx[:, start: end], :]\n",
    "    if dropna:\n",
    "        df = df.dropna()\n",
    "\n",
    "    y = (df[target] > 0).astype(int)\n",
    "    X = df.drop([c for c in df.columns if c.startswith('target')], axis=1)\n",
    "    return y, X"
   ]
  },
  {
   "cell_type": "code",
   "execution_count": 33,
   "id": "d7a7e1a0-6b83-4d78-b2ed-2e55cb414298",
   "metadata": {},
   "outputs": [],
   "source": [
    "def factorize_cats(df, cats=['sector']):\n",
    "    cat_cols = ['year', 'month', 'age', 'msize'] + cats\n",
    "    for cat in cats:\n",
    "        df[cat] = pd.factorize(df[cat])[0]\n",
    "    df.loc[:, cat_cols] = df.loc[:, cat_cols].fillna(-1)\n",
    "    return df"
   ]
  },
  {
   "cell_type": "code",
   "execution_count": 34,
   "id": "371114b8-f36a-4207-a320-2b0e27de89d6",
   "metadata": {},
   "outputs": [],
   "source": [
    "# y_clean, features_clean = get_data(dropna=True)\n",
    "\n",
    "# X = factorize_cats(features_clean).drop(['year', 'month'], axis=1)"
   ]
  },
  {
   "cell_type": "markdown",
   "id": "24ad21e0-fc1b-423a-91a2-812811803778",
   "metadata": {},
   "source": [
    "#### 2D Partial Dependency"
   ]
  },
  {
   "cell_type": "code",
   "execution_count": 35,
   "id": "67d2607f-0f4c-4033-914e-3e33377cdef9",
   "metadata": {},
   "outputs": [],
   "source": [
    "# fig, axes = plt.subplots(nrows=2, ncols=2, figsize=(12, 10))\n",
    "\n",
    "# X_ = features_clean\n",
    "# plot_partial_dependence(\n",
    "#     estimator=gb_clf,\n",
    "#     X=X_,\n",
    "#     features=['return_12m', 'return_6m', 'CMA', ('return_12m', 'return_6m')],\n",
    "#     percentiles=(0.05, 0.95),\n",
    "#     n_jobs=-1,\n",
    "#     n_cols=2,\n",
    "#     response_method='decision_function',\n",
    "#     grid_resolution=250,\n",
    "#     ax=axes)\n",
    "\n",
    "# for i, j in product([0, 1], repeat=2):\n",
    "#     if i!=1 or j!= 0:\n",
    "#         axes[i][j].xaxis.set_major_formatter(FuncFormatter(lambda y, _: '{:.0%}'.format(y))) \n",
    "\n",
    "# axes[1][1].yaxis.set_major_formatter(FuncFormatter(lambda y, _: '{:.0%}'.format(y))) \n",
    "\n",
    "# axes[0][0].set_ylabel('Partial Dependence')\n",
    "# axes[1][0].set_ylabel('Partial Dependence')\n",
    "# axes[0][0].set_xlabel('12-Months Return')\n",
    "# axes[0][1].set_xlabel('6-Months Return')\n",
    "# axes[1][0].set_xlabel('Conservative Minus Aggressive')\n",
    "\n",
    "# axes[1][1].set_xlabel('12-Month Return')\n",
    "# axes[1][1].set_ylabel('6-Months Return')\n",
    "# fig.suptitle('Partial Dependence Plots', fontsize=16)\n",
    "# fig.tight_layout()\n",
    "# fig.subplots_adjust(top=.95);\n",
    "# plt.show()"
   ]
  },
  {
   "cell_type": "markdown",
   "id": "067fdfc6-0eae-45a6-a172-aff1c168974a",
   "metadata": {},
   "source": [
    "#### 3D Partial Dependency"
   ]
  },
  {
   "cell_type": "code",
   "execution_count": 36,
   "id": "44eaf032-c5cd-4120-8a04-6cdaf94993d6",
   "metadata": {},
   "outputs": [],
   "source": [
    "# sns.set_style('whitegrid')\n",
    "# targets = ['return_12m', 'return_6m']\n",
    "# pdp, axes = partial_dependence(estimator=gb_clf,\n",
    "#                                features=targets,\n",
    "#                                X=X_,\n",
    "#                                grid_resolution=100)\n",
    "\n",
    "# XX, YY = np.meshgrid(axes[0], axes[1])\n",
    "# Z = pdp[0].reshape(list(map(np.size, axes))).T\n",
    "\n",
    "# fig = plt.figure(figsize=(14, 8))\n",
    "# ax = Axes3D(fig)\n",
    "# surface = ax.plot_surface(XX, YY, Z,\n",
    "#                           rstride=1,\n",
    "#                           cstride=1,\n",
    "#                           cmap=plt.cm.BuPu,\n",
    "#                           edgecolor='k')\n",
    "# ax.set_xlabel('12-Month Return')\n",
    "# ax.set_ylabel('6-Month Return')\n",
    "# ax.set_zlabel('Partial Dependence')\n",
    "# ax.view_init(elev=22, azim=30)\n",
    "# ax.yaxis.set_major_formatter(FuncFormatter(lambda y, _: '{:.0%}'.format(y))) \n",
    "# ax.xaxis.set_major_formatter(FuncFormatter(lambda y, _: '{:.0%}'.format(y))) \n",
    "\n",
    "# # fig.colorbar(surface)\n",
    "# fig.suptitle('Partial Dependence by 6- and 12-month Returns', fontsize=16)\n",
    "# fig.tight_layout();\n",
    "# plt.show()"
   ]
  },
  {
   "cell_type": "markdown",
   "id": "6aa99f6d-d3ad-4c02-9f2d-27648d538e58",
   "metadata": {},
   "source": [
    "### SHAP Values\n",
    "\n",
    "#### Summary Plot"
   ]
  },
  {
   "cell_type": "code",
   "execution_count": 37,
   "id": "e87b5de9-6b01-4b0a-aea4-980c2d49a079",
   "metadata": {},
   "outputs": [],
   "source": [
    "# X = data[features].sample(n=1000)"
   ]
  },
  {
   "cell_type": "code",
   "execution_count": 38,
   "id": "d5670820-4d91-43f0-9be0-06172c71be9f",
   "metadata": {},
   "outputs": [],
   "source": [
    "# # load JS visualization code to notebook\n",
    "# shap.initjs()\n",
    "\n",
    "# # explain the model's predictions using SHAP values\n",
    "# explainer = shap.TreeExplainer(lgb_model)\n",
    "# shap_values = explainer.shap_values(X=X)\n",
    "\n",
    "# shap.summary_plot(shap_values, X, show=False)\n",
    "# plt.tight_layout();\n",
    "# plt.show()"
   ]
  },
  {
   "cell_type": "code",
   "execution_count": 40,
   "id": "40e183fa-9bac-46d8-90bc-860e8b807b1f",
   "metadata": {},
   "outputs": [],
   "source": [
    "# shap.summary_plot(shap_values, X, plot_type=\"bar\",show=False)\n",
    "# plt.tight_layout();\n",
    "# plt.show()"
   ]
  },
  {
   "cell_type": "markdown",
   "id": "15dab73c-ade9-49cb-873a-11fad4d26604",
   "metadata": {},
   "source": [
    "### Feature Interaction\n",
    "\n",
    "#### Force Plots"
   ]
  },
  {
   "cell_type": "code",
   "execution_count": 41,
   "id": "fd5dcf72-ec92-4e28-91f0-86e3734e1fad",
   "metadata": {},
   "outputs": [],
   "source": [
    "# i = randint(0, len(X))\n",
    "\n",
    "# # Visualize The 1st Prediction's Explanation\n",
    "# shap.force_plot(explainer.expected_value, shap_values[i,:], X.iloc[i,:])"
   ]
  },
  {
   "cell_type": "code",
   "execution_count": 42,
   "id": "9d7fbbdf-4061-4417-be7a-54df517950ef",
   "metadata": {},
   "outputs": [],
   "source": [
    "# shap.force_plot(explainer.expected_value, shap_values[:1000,:], X.iloc[:1000])"
   ]
  },
  {
   "cell_type": "markdown",
   "id": "e2273cd9-b41f-4fa7-8c1a-6508d09c5035",
   "metadata": {},
   "source": [
    "#### Interaction Plot"
   ]
  },
  {
   "cell_type": "code",
   "execution_count": 43,
   "id": "d0989d62-d6de-471b-a4f6-9030da7ec133",
   "metadata": {},
   "outputs": [],
   "source": [
    "# shap.dependence_plot(ind='r01',\n",
    "#                      shap_values=shap_values,\n",
    "#                      features=X,\n",
    "#                      interaction_index='r05',\n",
    "#                      title='Interaction between 1- and 5-Day Returns')"
   ]
  },
  {
   "cell_type": "code",
   "execution_count": null,
   "id": "fb7f121e-52af-4656-bb8a-5b3312e4613d",
   "metadata": {},
   "outputs": [],
   "source": []
  }
 ],
 "metadata": {
  "kernelspec": {
   "display_name": "Python 3 (ipykernel)",
   "language": "python",
   "name": "python3"
  },
  "language_info": {
   "codemirror_mode": {
    "name": "ipython",
    "version": 3
   },
   "file_extension": ".py",
   "mimetype": "text/x-python",
   "name": "python",
   "nbconvert_exporter": "python",
   "pygments_lexer": "ipython3",
   "version": "3.12.9"
  }
 },
 "nbformat": 4,
 "nbformat_minor": 5
}
