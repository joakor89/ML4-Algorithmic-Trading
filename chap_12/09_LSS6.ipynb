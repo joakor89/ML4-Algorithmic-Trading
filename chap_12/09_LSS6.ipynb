{
 "cells": [
  {
   "cell_type": "markdown",
   "id": "082f5171-e640-4623-9594-690a8dfd3d8d",
   "metadata": {},
   "source": [
    "# Long-Short Strategy, Part 6: Backtesting with Zipline\n",
    "\n",
    "### Loading Libraries"
   ]
  },
  {
   "cell_type": "code",
   "execution_count": 2,
   "id": "86cd14da-a7fe-4688-82b6-a44ad8137308",
   "metadata": {},
   "outputs": [],
   "source": [
    "# Numerical Computing\n",
    "import numpy as np\n",
    "\n",
    "# Data Manipulation\n",
    "import pandas as pd\n",
    "import pandas_datareader.data as web\n",
    "\n",
    "# Data Visualization\n",
    "import seaborn as sns\n",
    "import matplotlib.pyplot as plt\n",
    "\n",
    "# Collections, time \n",
    "from collections import defaultdict\n",
    "from time import time\n",
    "\n",
    "# Warnings\n",
    "import warnings\n",
    "\n",
    "# Logger\n",
    "from logbook import Logger, StderrHandler, INFO, WARNING\n",
    "\n",
    "# Zipline\n",
    "from zipline import run_algorithm\n",
    "from zipline.api import (attach_pipeline, pipeline_output,\n",
    "                         date_rules, time_rules, record,\n",
    "                         schedule_function, commission, slippage,\n",
    "                         set_slippage, set_commission, set_max_leverage,\n",
    "                         order_target, order_target_percent,\n",
    "                         get_open_orders, cancel_order)\n",
    "from zipline.data import bundles\n",
    "from zipline.utils.run_algo import load_extensions\n",
    "from zipline.pipeline import Pipeline, CustomFactor\n",
    "from zipline.pipeline.data import Column, DataSet\n",
    "from zipline.pipeline.domain import US_EQUITIES\n",
    "from zipline.pipeline.filters import StaticAssets\n",
    "from zipline.pipeline.loaders import USEquityPricingLoader\n",
    "from zipline.pipeline.loaders.frame import DataFrameLoader\n",
    "# from trading_calendars import get_calendar\n",
    "\n",
    "# PyFolio\n",
    "import pyfolio as pf\n",
    "from pyfolio.plotting import plot_rolling_returns, plot_rolling_sharpe\n",
    "from pyfolio.timeseries import forecast_cone_bootstrap"
   ]
  },
  {
   "cell_type": "code",
   "execution_count": 3,
   "id": "9caf1b49-648f-4a82-bac3-5750169c4418",
   "metadata": {},
   "outputs": [],
   "source": [
    "np.random.seed(42)\n",
    "\n",
    "idx = pd.IndexSlice\n",
    "\n",
    "sns.set_style('whitegrid')\n",
    "\n",
    "warnings.filterwarnings('ignore')"
   ]
  },
  {
   "cell_type": "markdown",
   "id": "f3dc000f-c940-4973-8db4-0f5bf15832b7",
   "metadata": {},
   "source": [
    "### Loading Zipline Extensions"
   ]
  },
  {
   "cell_type": "code",
   "execution_count": 4,
   "id": "21ba4be1-dcf6-4706-9e3d-fde2e34705ab",
   "metadata": {},
   "outputs": [],
   "source": [
    "load_extensions(default=True,\n",
    "                extensions=[],\n",
    "                strict=True,\n",
    "                environ=None)"
   ]
  },
  {
   "cell_type": "code",
   "execution_count": 5,
   "id": "d49a2d42-429f-45c2-9e3b-dd4337a3bb4b",
   "metadata": {},
   "outputs": [],
   "source": [
    "log_handler = StderrHandler(format_string='[{record.time:%Y-%m-%d %H:%M:%S.%f}]: ' +\n",
    "                            '{record.level_name}: {record.func_name}: {record.message}',\n",
    "                            level=WARNING)\n",
    "\n",
    "log_handler.push_application()\n",
    "log = Logger('Algorithm')"
   ]
  },
  {
   "cell_type": "markdown",
   "id": "a95ccdb8-51bb-4f02-817b-65dc8b4cda89",
   "metadata": {},
   "source": [
    "### Algo Params"
   ]
  },
  {
   "cell_type": "code",
   "execution_count": 6,
   "id": "935e2713-7edb-44f4-a552-4cc590732d80",
   "metadata": {},
   "outputs": [],
   "source": [
    "N_LONGS = 25\n",
    "\n",
    "N_SHORTS = 25\n",
    "\n",
    "MIN_POSITIONS = 20"
   ]
  },
  {
   "cell_type": "markdown",
   "id": "ad5957e4-bc00-437b-bab3-880aa7229215",
   "metadata": {},
   "source": [
    "### Loading Data\n",
    "\n",
    "#### Quandl Wiki Bundle"
   ]
  },
  {
   "cell_type": "code",
   "execution_count": 7,
   "id": "6313f504-c1f3-4561-af8c-aa1036de078b",
   "metadata": {},
   "outputs": [],
   "source": [
    "# !zipline ingest"
   ]
  },
  {
   "cell_type": "code",
   "execution_count": 9,
   "id": "855dc195-bc77-4bda-8ba0-5cfda42487bf",
   "metadata": {},
   "outputs": [],
   "source": [
    "bundle_data = bundles.load('quandl')"
   ]
  },
  {
   "cell_type": "markdown",
   "id": "9edb4d76-a9f5-4b34-aba0-20d89ff4d0c4",
   "metadata": {},
   "source": [
    "### ML Predictions"
   ]
  },
  {
   "cell_type": "code",
   "execution_count": 14,
   "id": "69bae446-38f6-44ec-9bdf-fbb0bfece503",
   "metadata": {},
   "outputs": [
    {
     "name": "stdout",
     "output_type": "stream",
     "text": [
      "Requirement already satisfied: tables in /opt/anaconda3/lib/python3.12/site-packages (3.10.2)\n",
      "Requirement already satisfied: numpy>=1.20.0 in /opt/anaconda3/lib/python3.12/site-packages (from tables) (1.26.4)\n",
      "Requirement already satisfied: numexpr>=2.6.2 in /opt/anaconda3/lib/python3.12/site-packages (from tables) (2.8.7)\n",
      "Requirement already satisfied: packaging in /opt/anaconda3/lib/python3.12/site-packages (from tables) (24.1)\n",
      "Requirement already satisfied: py-cpuinfo in /opt/anaconda3/lib/python3.12/site-packages (from tables) (9.0.0)\n",
      "Requirement already satisfied: blosc2>=2.3.0 in /opt/anaconda3/lib/python3.12/site-packages (from tables) (3.3.1)\n",
      "Requirement already satisfied: typing-extensions>=4.4.0 in /opt/anaconda3/lib/python3.12/site-packages (from tables) (4.11.0)\n",
      "Requirement already satisfied: ndindex in /opt/anaconda3/lib/python3.12/site-packages (from blosc2>=2.3.0->tables) (1.9.2)\n",
      "Requirement already satisfied: msgpack in /opt/anaconda3/lib/python3.12/site-packages (from blosc2>=2.3.0->tables) (1.0.3)\n",
      "Requirement already satisfied: platformdirs in /opt/anaconda3/lib/python3.12/site-packages (from blosc2>=2.3.0->tables) (3.10.0)\n",
      "Requirement already satisfied: requests in /opt/anaconda3/lib/python3.12/site-packages (from blosc2>=2.3.0->tables) (2.32.3)\n",
      "Requirement already satisfied: charset-normalizer<4,>=2 in /opt/anaconda3/lib/python3.12/site-packages (from requests->blosc2>=2.3.0->tables) (3.3.2)\n",
      "Requirement already satisfied: idna<4,>=2.5 in /opt/anaconda3/lib/python3.12/site-packages (from requests->blosc2>=2.3.0->tables) (3.7)\n",
      "Requirement already satisfied: urllib3<3,>=1.21.1 in /opt/anaconda3/lib/python3.12/site-packages (from requests->blosc2>=2.3.0->tables) (2.2.3)\n",
      "Requirement already satisfied: certifi>=2017.4.17 in /opt/anaconda3/lib/python3.12/site-packages (from requests->blosc2>=2.3.0->tables) (2025.1.31)\n"
     ]
    }
   ],
   "source": [
    "!pip install --upgrade tables"
   ]
  },
  {
   "cell_type": "code",
   "execution_count": 15,
   "id": "758ccc60-1e15-47fc-9731-7ef53bc14767",
   "metadata": {},
   "outputs": [],
   "source": [
    "def load_predictions(bundle):\n",
    "    predictions = (pd.read_hdf('data/predictions.h5', 'lgb/train/01')\n",
    "                   .append(pd.read_hdf('data/predictions.h5', 'lgb/test/01').drop('y_test', axis=1)))\n",
    "    predictions = (predictions.loc[~predictions.index.duplicated()]\n",
    "                   .iloc[:, :10]\n",
    "                   .mean(1)\n",
    "                   .sort_index()\n",
    "                   .dropna()\n",
    "                  .to_frame('prediction'))\n",
    "    tickers = predictions.index.get_level_values('symbol').unique().tolist()\n",
    "\n",
    "    assets = bundle.asset_finder.lookup_symbols(tickers, as_of_date=None)\n",
    "    predicted_sids = pd.Int64Index([asset.sid for asset in assets])\n",
    "    ticker_map = dict(zip(tickers, predicted_sids))\n",
    "\n",
    "    return (predictions\n",
    "            .unstack('symbol')\n",
    "            .rename(columns=ticker_map)\n",
    "            .prediction\n",
    "            .tz_localize('UTC')), assets"
   ]
  },
  {
   "cell_type": "code",
   "execution_count": 16,
   "id": "1d0f2dfd-3e9f-45b4-acd4-618ded6c5b25",
   "metadata": {},
   "outputs": [],
   "source": [
    "predictions, assets = load_predictions(bundle_data)"
   ]
  },
  {
   "cell_type": "code",
   "execution_count": 18,
   "id": "87e4adc7-471b-481a-9fb9-2e263fb2c990",
   "metadata": {},
   "outputs": [],
   "source": [
    "predictions.info()"
   ]
  },
  {
   "cell_type": "markdown",
   "id": "e4f8f95e-e678-4ecd-8781-18cda5d38789",
   "metadata": {},
   "source": [
    "### Defining Custom Dataset"
   ]
  },
  {
   "cell_type": "code",
   "execution_count": 19,
   "id": "deb8dbed-bc3c-4c64-93d6-20cd4ea9f388",
   "metadata": {},
   "outputs": [],
   "source": [
    "class SignalData(DataSet):\n",
    "    predictions = Column(dtype=float)\n",
    "    domain = US_EQUITIES"
   ]
  },
  {
   "cell_type": "markdown",
   "id": "6d5cd2df-14f8-426c-a061-f3eaeb0bc980",
   "metadata": {},
   "source": [
    "### Defining Pipeline Loaders"
   ]
  },
  {
   "cell_type": "code",
   "execution_count": 20,
   "id": "f432b65b-6c46-45ad-bb92-6f724fcd24b5",
   "metadata": {},
   "outputs": [],
   "source": [
    "signal_loader = {SignalData.predictions:\n",
    "                     DataFrameLoader(SignalData.predictions, predictions)}"
   ]
  },
  {
   "cell_type": "markdown",
   "id": "e2cfc1b5-886b-484c-9727-01b052578c6c",
   "metadata": {},
   "source": [
    "### Pipeline Setup\n",
    "\n",
    "#### Custom ML Factor"
   ]
  },
  {
   "cell_type": "code",
   "execution_count": 21,
   "id": "4f2a846c-0683-41a4-bfaa-b56dfc7a8a75",
   "metadata": {},
   "outputs": [],
   "source": [
    "class MLSignal(CustomFactor):\n",
    "    \"\"\"Converting signals to Factor\n",
    "        so we can rank and filter in Pipeline\"\"\"\n",
    "    inputs = [SignalData.predictions]\n",
    "    window_length = 1\n",
    "\n",
    "    def compute(self, today, assets, out, predictions):\n",
    "        out[:] = predictions"
   ]
  },
  {
   "cell_type": "markdown",
   "id": "2a012db9-25df-4154-871a-908acd2d6ff8",
   "metadata": {},
   "source": [
    "#### Creating Pipeline"
   ]
  },
  {
   "cell_type": "code",
   "execution_count": 22,
   "id": "dbb70fca-88d2-4d8c-992a-986b68d0a049",
   "metadata": {},
   "outputs": [],
   "source": [
    "def compute_signals():\n",
    "    signals = MLSignal()\n",
    "    return Pipeline(columns={\n",
    "        'longs' : signals.top(N_LONGS, mask=signals > 0),\n",
    "        'shorts': signals.bottom(N_SHORTS, mask=signals < 0)},\n",
    "            screen=StaticAssets(assets))"
   ]
  },
  {
   "cell_type": "markdown",
   "id": "ccf42f9a-324a-4bdc-918b-763855d674ae",
   "metadata": {},
   "source": [
    "### Initialize Algorithm"
   ]
  },
  {
   "cell_type": "code",
   "execution_count": 23,
   "id": "88735c1d-8649-4160-8e83-b6d284235f7a",
   "metadata": {},
   "outputs": [],
   "source": [
    "def initialize(context):\n",
    "    \"\"\"\n",
    "    Called once at the start of the algorithm.\n",
    "    \"\"\"\n",
    "    context.n_longs = N_LONGS\n",
    "    context.n_shorts = N_SHORTS\n",
    "    context.min_positions = MIN_POSITIONS\n",
    "    context.universe = assets\n",
    "    context.trades = pd.Series()\n",
    "    context.longs = context.shorts = 0\n",
    "    \n",
    "    set_slippage(slippage.FixedSlippage(spread=0.00))\n",
    "    set_commission(commission.PerShare(cost=0.001, min_trade_cost=0))\n",
    "\n",
    "    schedule_function(rebalance,\n",
    "                      date_rules.every_day(),\n",
    "                      #date_rules.week_start(),\n",
    "                      time_rules.market_open(hours=1, minutes=30))\n",
    "\n",
    "    schedule_function(record_vars,\n",
    "                      date_rules.every_day(),\n",
    "                      time_rules.market_close())\n",
    "\n",
    "    pipeline = compute_signals()\n",
    "    attach_pipeline(pipeline, 'signals')"
   ]
  },
  {
   "cell_type": "markdown",
   "id": "cdfe3e2d-6991-488b-8613-1794069dc28a",
   "metadata": {},
   "source": [
    "### Getting Daily Pipeline Results"
   ]
  },
  {
   "cell_type": "code",
   "execution_count": 24,
   "id": "3433c17a-6f0f-4597-9b08-5536d56422e1",
   "metadata": {},
   "outputs": [],
   "source": [
    "def before_trading_start(context, data):\n",
    "    \"\"\"\n",
    "    Called every day before market open.\n",
    "    \"\"\"\n",
    "    output = pipeline_output('signals')\n",
    "    df = (output['longs'].astype(int)\n",
    "                      .append(output['shorts'].astype(int).mul(-1)))\n",
    "    \n",
    "    holdings = df[df!=0]\n",
    "    other = df[df==0]\n",
    "    other = other[~other.index.isin(holdings.index) & ~other.index.duplicated()]\n",
    "    context.trades = holdings.append(other)\n",
    "    assert len(context.trades.index.unique()) == len(context.trades)"
   ]
  },
  {
   "cell_type": "markdown",
   "id": "1b699632-1269-4bf2-bf7d-b995d875ad6f",
   "metadata": {},
   "source": [
    "### Rebalancing Logic Definition"
   ]
  },
  {
   "cell_type": "code",
   "execution_count": 25,
   "id": "34b4af18-8a0f-487c-9b9d-e38d617140d2",
   "metadata": {},
   "outputs": [],
   "source": [
    "def rebalance(context, data):\n",
    "    \"\"\"\n",
    "    Execute orders according to schedule_function() date & time rules.\n",
    "    \"\"\"\n",
    "    trades = defaultdict(list)\n",
    "    for symbol, open_orders in get_open_orders().items():\n",
    "        for open_order in open_orders:\n",
    "            cancel_order(open_order)\n",
    "      \n",
    "    positions = context.portfolio.positions\n",
    "    s=pd.Series({s:v.amount*v.last_sale_price for s, v in positions.items()}).sort_values(ascending=False)\n",
    "    for stock, trade in context.trades.items():\n",
    "        if trade == 0:\n",
    "            order_target(stock, target=0)\n",
    "        else:\n",
    "            trades[trade].append(stock)\n",
    "    \n",
    "    context.longs, context.shorts = len(trades[1]), len(trades[-1])\n",
    "    #log.warning('{} {:,.0f}'.format(len(positions), context.portfolio.portfolio_value))\n",
    "    if context.longs > context.min_positions and context.shorts > context.min_positions:\n",
    "        for stock in trades[-1]:\n",
    "            order_target_percent(stock, -1 / context.shorts)\n",
    "        for stock in trades[1]:\n",
    "            order_target_percent(stock, 1 / context.longs)\n",
    "    else:\n",
    "        for stock in trades[-1] + trades[1]:\n",
    "            if stock in positions:\n",
    "                order_target(stock, 0)"
   ]
  },
  {
   "cell_type": "markdown",
   "id": "b81c1321-9942-4dd0-9172-d7e442d09467",
   "metadata": {},
   "source": [
    "### Record Data Points"
   ]
  },
  {
   "cell_type": "code",
   "execution_count": 26,
   "id": "d9cecd6f-169c-4dbe-8928-efa4f84ee03d",
   "metadata": {},
   "outputs": [],
   "source": [
    "def record_vars(context, data):\n",
    "    \"\"\"\n",
    "    Plot variables at the end of each day.\n",
    "    \"\"\"\n",
    "    record(leverage=context.account.leverage,\n",
    "           longs=context.longs,\n",
    "           shorts=context.shorts)"
   ]
  },
  {
   "cell_type": "markdown",
   "id": "489284f8-ebf3-4ff4-88fd-73da52f9378b",
   "metadata": {},
   "source": [
    "### Running Algorithm"
   ]
  },
  {
   "cell_type": "code",
   "execution_count": 27,
   "id": "2368643b-ece6-4766-9395-b0be3c09498b",
   "metadata": {},
   "outputs": [],
   "source": [
    "dates = predictions.index.get_level_values('date')\n",
    "\n",
    "start_date, end_date = dates.min(), dates.max()"
   ]
  },
  {
   "cell_type": "code",
   "execution_count": 28,
   "id": "c7ac28fb-9854-4575-83d5-c5ac5a125db2",
   "metadata": {},
   "outputs": [],
   "source": [
    "print('Start: {}\\nEnd:   {}'.format(start_date.date(), end_date.date()))"
   ]
  },
  {
   "cell_type": "code",
   "execution_count": 29,
   "id": "ef507a3d-fc73-445f-9f59-1427e8bec570",
   "metadata": {},
   "outputs": [],
   "source": [
    "start = time()\n",
    "results = run_algorithm(start=start_date,\n",
    "                        end=end_date,\n",
    "                        initialize=initialize,\n",
    "                        before_trading_start=before_trading_start,\n",
    "                        capital_base=1e5,\n",
    "                        data_frequency='daily',\n",
    "                        bundle='quandl',\n",
    "                        custom_loader=signal_loader)  \n",
    "\n",
    "print('Duration: {:.2f}s'.format(time() - start))"
   ]
  },
  {
   "cell_type": "markdown",
   "id": "52feff95-a2e5-4507-a94a-69d76c013e5c",
   "metadata": {},
   "source": [
    "### PyFolio Analysis"
   ]
  },
  {
   "cell_type": "code",
   "execution_count": 30,
   "id": "9ec7ed00-2a7c-41ea-9233-85f7a8f328d4",
   "metadata": {},
   "outputs": [],
   "source": [
    "returns, positions, transactions = pf.utils.extract_rets_pos_txn_from_zipline(results)"
   ]
  },
  {
   "cell_type": "code",
   "execution_count": 31,
   "id": "c3f0a593-06fe-4456-aef8-cbd3fdf0b947",
   "metadata": {},
   "outputs": [],
   "source": [
    "benchmark = web.DataReader('SP500', 'fred', '2014', '2018').squeeze()\n",
    "\n",
    "benchmark = benchmark.pct_change().tz_localize('UTC')"
   ]
  },
  {
   "cell_type": "markdown",
   "id": "2cc43c3f-ad0a-4430-8feb-e4d5c8765da9",
   "metadata": {},
   "source": [
    "#### Custom Plots"
   ]
  },
  {
   "cell_type": "code",
   "execution_count": 32,
   "id": "443936e1-7507-4d08-b057-5e8a80d5fcec",
   "metadata": {},
   "outputs": [],
   "source": [
    "fig, axes = plt.subplots(ncols=2, figsize=(16, 5))\n",
    "\n",
    "plot_rolling_returns(returns,\n",
    "                     factor_returns=benchmark,\n",
    "                     live_start_date='2017-01-01',\n",
    "                     logy=False,\n",
    "                     cone_std=2,\n",
    "                     legend_loc='best',\n",
    "                     volatility_match=False,\n",
    "                     cone_function=forecast_cone_bootstrap,\n",
    "                    ax=axes[0])\n",
    "plot_rolling_sharpe(returns, ax=axes[1], rolling_window=63)\n",
    "axes[0].set_title('Cumulative Returns - In and Out-of-Sample')\n",
    "axes[1].set_title('Rolling Sharpe Ratio (3 Months)')\n",
    "fig.tight_layout();\n",
    "plt.show()"
   ]
  },
  {
   "cell_type": "markdown",
   "id": "e36858f6-0a41-4207-81ea-df9cc5878e47",
   "metadata": {},
   "source": [
    "### Tear Sheets"
   ]
  },
  {
   "cell_type": "code",
   "execution_count": 33,
   "id": "aaf4f143-e125-4298-9126-7a9d13635851",
   "metadata": {},
   "outputs": [],
   "source": [
    "pf.create_full_tear_sheet(returns, \n",
    "                          positions=positions, \n",
    "                          transactions=transactions,\n",
    "                          benchmark_rets=benchmark,\n",
    "                          live_start_date='2017-01-01', \n",
    "                          round_trips=True)"
   ]
  },
  {
   "cell_type": "code",
   "execution_count": null,
   "id": "7309de71-81a9-45c4-abe2-775ab8a6572f",
   "metadata": {},
   "outputs": [],
   "source": []
  }
 ],
 "metadata": {
  "kernelspec": {
   "display_name": "Python 3 (ipykernel)",
   "language": "python",
   "name": "python3"
  },
  "language_info": {
   "codemirror_mode": {
    "name": "ipython",
    "version": 3
   },
   "file_extension": ".py",
   "mimetype": "text/x-python",
   "name": "python",
   "nbconvert_exporter": "python",
   "pygments_lexer": "ipython3",
   "version": "3.12.9"
  }
 },
 "nbformat": 4,
 "nbformat_minor": 5
}
