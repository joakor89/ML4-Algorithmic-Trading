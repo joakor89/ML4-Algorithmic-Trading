{
 "cells": [
  {
   "cell_type": "markdown",
   "id": "915e3f2c-571e-46ef-9db0-6377c32bc38f",
   "metadata": {},
   "source": [
    "# Long-Short Strategy, Part 1: Preparing Alpha Factors and Features\n",
    "\n",
    "### Loading Libraries"
   ]
  },
  {
   "cell_type": "code",
   "execution_count": 1,
   "id": "81a59d4d-8993-4bb3-814b-f5484fefccef",
   "metadata": {},
   "outputs": [],
   "source": [
    "# Numerical Computing\n",
    "import numpy as np\n",
    "\n",
    "# Data Manipulation\n",
    "import pandas as pd\n",
    "\n",
    "# Warnings\n",
    "import warnings\n",
    "\n",
    "# pATH\n",
    "from pathlib import Path\n",
    "\n",
    "# OS & Time\n",
    "import os\n",
    "from datetime import datetime\n",
    "\n",
    "# Data Visualization\n",
    "import graphviz\n",
    "import seaborn as sns\n",
    "import matplotlib.pyplot as plt\n",
    "\n",
    "# Technical Analysis\n",
    "import talib\n",
    "from talib import RSI, BBANDS, MACD, ATR"
   ]
  },
  {
   "cell_type": "code",
   "execution_count": 2,
   "id": "05886813-377c-4c54-a6aa-0f1b2980a088",
   "metadata": {},
   "outputs": [],
   "source": [
    "%matplotlib inline"
   ]
  },
  {
   "cell_type": "code",
   "execution_count": 3,
   "id": "c581e6e8-7614-40c6-8746-fd6cd22e1293",
   "metadata": {},
   "outputs": [],
   "source": [
    "MONTH = 21\n",
    "\n",
    "YEAR = 12 * MONTH"
   ]
  },
  {
   "cell_type": "code",
   "execution_count": 4,
   "id": "74b2c853-972e-4f82-9be1-4438be041baf",
   "metadata": {},
   "outputs": [],
   "source": [
    "START = '2010-01-01'\n",
    "\n",
    "END = '2017-12-31'"
   ]
  },
  {
   "cell_type": "code",
   "execution_count": 5,
   "id": "066c8e6e-f3bd-4a77-8486-3e15dde65596",
   "metadata": {},
   "outputs": [],
   "source": [
    "idx = pd.IndexSlice\n",
    "\n",
    "sns.set_style('darkgrid')"
   ]
  },
  {
   "cell_type": "code",
   "execution_count": 6,
   "id": "b49310bc-8f01-4393-be08-7118d8f9e786",
   "metadata": {},
   "outputs": [],
   "source": [
    "percentiles = [.001, .01, .02, .03, .04, .05]\n",
    "\n",
    "percentiles += [1-p for p in percentiles[::-1]]"
   ]
  },
  {
   "cell_type": "code",
   "execution_count": 7,
   "id": "0dded2e9-3ce3-4057-9089-fec9fbd5b995",
   "metadata": {},
   "outputs": [],
   "source": [
    "T = [1, 5, 10, 21, 42, 63]"
   ]
  },
  {
   "cell_type": "markdown",
   "id": "e11a99a0-9ac7-4d97-8bb1-46e53028da7a",
   "metadata": {},
   "source": [
    "### Loading Quandl Wiki Stock Prices & Meta Data"
   ]
  },
  {
   "cell_type": "code",
   "execution_count": 8,
   "id": "1ecb10bf-294a-4d5a-b711-e46f2010eab0",
   "metadata": {},
   "outputs": [],
   "source": [
    "DATA_STORE = '../data/assets.h5'\n",
    "\n",
    "ohlcv = ['adj_open', 'adj_close', 'adj_low', 'adj_high', 'adj_volume']\n",
    "\n",
    "with pd.HDFStore(DATA_STORE) as store:\n",
    "    prices = (store['quandl/wiki/prices']\n",
    "              .loc[idx[START:END, :], ohlcv] \n",
    "              .rename(columns=lambda x: x.replace('adj_', '')) \n",
    "              .swaplevel()\n",
    "              .sort_index())\n",
    "    metadata = (store['us_equities/stocks'].loc[:, ['marketcap', 'sector']])"
   ]
  },
  {
   "cell_type": "code",
   "execution_count": 9,
   "id": "a5c778cb-2529-407d-8777-611f65882b07",
   "metadata": {},
   "outputs": [],
   "source": [
    "prices.volume /= 1e3 \n",
    "\n",
    "prices.index.names = ['symbol', 'date']\n",
    "\n",
    "metadata.index.name = 'symbol'"
   ]
  },
  {
   "cell_type": "markdown",
   "id": "3b09ba66-82f1-4f4a-acdd-07fc77dff5ef",
   "metadata": {},
   "source": [
    "### Removing Stocks with Insufficient Observations"
   ]
  },
  {
   "cell_type": "code",
   "execution_count": 10,
   "id": "6bd318f1-9e1c-4bd6-bec5-94921f2faf76",
   "metadata": {},
   "outputs": [],
   "source": [
    "min_obs = 7 * YEAR\n",
    "\n",
    "nobs = prices.groupby(level='symbol').size()\n",
    "keep = nobs[nobs > min_obs].index\n",
    "prices = prices.loc[idx[keep, :], :]"
   ]
  },
  {
   "cell_type": "markdown",
   "id": "a0284313-0251-4f51-8e50-f6d9184b78e2",
   "metadata": {},
   "source": [
    "### Aligning Price & Meta Data"
   ]
  },
  {
   "cell_type": "code",
   "execution_count": 11,
   "id": "a6ae6b95-870e-46a0-9d32-86af503a9a59",
   "metadata": {},
   "outputs": [],
   "source": [
    "metadata = metadata[~metadata.index.duplicated() & metadata.sector.notnull()]\n",
    "\n",
    "metadata.sector = metadata.sector.str.lower().str.replace(' ', '_')"
   ]
  },
  {
   "cell_type": "code",
   "execution_count": 12,
   "id": "4097e30a-edc4-4457-b8aa-7507151e34f1",
   "metadata": {},
   "outputs": [],
   "source": [
    "shared = (prices.index.get_level_values('symbol').unique()\n",
    "          .intersection(metadata.index))\n",
    "\n",
    "metadata = metadata.loc[shared, :]\n",
    "prices = prices.loc[idx[shared, :], :]"
   ]
  },
  {
   "cell_type": "markdown",
   "id": "df58bee1-f053-4212-b4a5-117daaf447c3",
   "metadata": {},
   "source": [
    "### Limiting Universe to 1,000 Stocks with Highest Market Cap"
   ]
  },
  {
   "cell_type": "code",
   "execution_count": 13,
   "id": "21629b36-4dc3-4fa0-945c-b20095c28632",
   "metadata": {},
   "outputs": [],
   "source": [
    "universe = metadata.marketcap.nlargest(1000).index\n",
    "prices = prices.loc[idx[universe, :], :]\n",
    "metadata = metadata.loc[universe]"
   ]
  },
  {
   "cell_type": "code",
   "execution_count": 14,
   "id": "7ecf7859-6007-4537-83c4-7250ddda11b8",
   "metadata": {},
   "outputs": [],
   "source": [
    "metadata.sector.value_counts()"
   ]
  },
  {
   "cell_type": "code",
   "execution_count": null,
   "id": "1ccdfd78-9439-4db6-b1be-d9ca36f8eb8a",
   "metadata": {},
   "outputs": [],
   "source": [
    "prices.info(show_counts=True)"
   ]
  },
  {
   "cell_type": "code",
   "execution_count": null,
   "id": "a90b0fd7-99aa-45e7-a3ca-38975650efac",
   "metadata": {},
   "outputs": [],
   "source": [
    "metadata.info()"
   ]
  },
  {
   "cell_type": "markdown",
   "id": "325e91aa-f4c8-40f7-b327-45050b9d101b",
   "metadata": {},
   "source": [
    "### Ranking Assets by Rolling Average Dollar Volume\n",
    "\n",
    "#### Computing Dollar Volume"
   ]
  },
  {
   "cell_type": "code",
   "execution_count": 15,
   "id": "a0714c29-38a0-4e16-bf4d-a08c72a9e308",
   "metadata": {},
   "outputs": [],
   "source": [
    "prices['dollar_vol'] = prices[['close', 'volume']].prod(1).div(1e3)"
   ]
  },
  {
   "cell_type": "markdown",
   "id": "fe186609-b351-4bda-ac8a-0b69c633d0e4",
   "metadata": {},
   "source": [
    "#### 21-Day Moving Average"
   ]
  },
  {
   "cell_type": "code",
   "execution_count": 16,
   "id": "83cb08af-98d7-47ef-a31b-a9ca362948c9",
   "metadata": {},
   "outputs": [],
   "source": [
    "dollar_vol_ma = (prices\n",
    "                 .dollar_vol\n",
    "                 .unstack('symbol')\n",
    "                 .rolling(window=21, min_periods=1) # 1 trading month\n",
    "                 .mean())"
   ]
  },
  {
   "cell_type": "markdown",
   "id": "73f28e6a-20f3-418d-b5ef-d2dbf9e346d9",
   "metadata": {},
   "source": [
    "#### Ranking Stocks by Moving Average"
   ]
  },
  {
   "cell_type": "code",
   "execution_count": 17,
   "id": "26e221ee-0613-4126-a57f-008889a890d8",
   "metadata": {},
   "outputs": [],
   "source": [
    "prices['dollar_vol_rank'] = (dollar_vol_ma\n",
    "                            .rank(axis=1, ascending=False)\n",
    "                            .stack('symbol')\n",
    "                            .swaplevel())"
   ]
  },
  {
   "cell_type": "code",
   "execution_count": 18,
   "id": "f187d3d4-42d1-4f5e-9a6c-c4fcfeb4f6b3",
   "metadata": {},
   "outputs": [],
   "source": [
    "prices.info(show_counts=True)"
   ]
  },
  {
   "cell_type": "markdown",
   "id": "73d40441-49d0-4983-a7c3-d83a7278b865",
   "metadata": {},
   "source": [
    "### Adding some Basic Factors\n",
    "\n",
    "#### Computing The Relative Strength Index"
   ]
  },
  {
   "cell_type": "code",
   "execution_count": 19,
   "id": "e7dd463c-9e6d-4bf3-9eca-93c9bb2dcd2f",
   "metadata": {},
   "outputs": [],
   "source": [
    "prices['rsi'] = prices.groupby(level='symbol').close.apply(RSI)"
   ]
  },
  {
   "cell_type": "code",
   "execution_count": 20,
   "id": "eeff9193-3584-4447-ae5d-55734bf46167",
   "metadata": {},
   "outputs": [],
   "source": [
    "ax = sns.distplot(prices.rsi.dropna())\n",
    "ax.axvline(30, ls='--', lw=1, c='k')\n",
    "ax.axvline(70, ls='--', lw=1, c='k')\n",
    "ax.set_title('RSI Distribution with Signal Threshold')\n",
    "sns.despine()\n",
    "plt.tight_layout();\n",
    "plt.show()"
   ]
  },
  {
   "cell_type": "markdown",
   "id": "77a16beb-0d78-4715-b25b-8f5d8def4367",
   "metadata": {},
   "source": [
    "#### Computing Bollinger Bands"
   ]
  },
  {
   "cell_type": "code",
   "execution_count": 21,
   "id": "1fa09e5e-1447-40c7-b756-d1c566cc1cc6",
   "metadata": {},
   "outputs": [],
   "source": [
    "def compute_bb(close):\n",
    "    high, mid, low = BBANDS(close, timeperiod=20)\n",
    "    return pd.DataFrame({'bb_high': high, 'bb_low': low}, index=close.index)"
   ]
  },
  {
   "cell_type": "code",
   "execution_count": 22,
   "id": "863c8263-d2ae-4cd9-80b3-af4fb1a17828",
   "metadata": {},
   "outputs": [],
   "source": [
    "prices = (prices.join(prices\n",
    "                      .groupby(level='symbol')\n",
    "                      .close\n",
    "                      .apply(compute_bb)))"
   ]
  },
  {
   "cell_type": "code",
   "execution_count": 23,
   "id": "8ded4906-453b-48e4-827f-b18d108327bf",
   "metadata": {},
   "outputs": [],
   "source": [
    "prices['bb_high'] = prices.bb_high.sub(prices.close).div(prices.bb_high).apply(np.log1p)\n",
    "\n",
    "prices['bb_low'] = prices.close.sub(prices.bb_low).div(prices.close).apply(np.log1p)"
   ]
  },
  {
   "cell_type": "code",
   "execution_count": 24,
   "id": "4a5ae4ea-9082-44bd-bcb9-c1d1fd3ca754",
   "metadata": {},
   "outputs": [],
   "source": [
    "fig, axes = plt.subplots(ncols=2, figsize=(15, 5))\n",
    "\n",
    "sns.distplot(prices.loc[prices.dollar_vol_rank<100, 'bb_low'].dropna(), ax=axes[0])\n",
    "sns.distplot(prices.loc[prices.dollar_vol_rank<100, 'bb_high'].dropna(), ax=axes[1])\n",
    "sns.despine()\n",
    "plt.tight_layout();\n",
    "plt.show()"
   ]
  },
  {
   "cell_type": "markdown",
   "id": "bfeea879-d626-4a41-9212-13c561d47836",
   "metadata": {},
   "source": [
    "#### Computing Average True Range"
   ]
  },
  {
   "cell_type": "code",
   "execution_count": 25,
   "id": "c9426804-d7b0-4c84-aa4f-edb3558680d8",
   "metadata": {},
   "outputs": [],
   "source": [
    "prices['NATR'] = prices.groupby(level='symbol', \n",
    "                                group_keys=False).apply(lambda x: \n",
    "                                                        talib.NATR(x.high, x.low, x.close))"
   ]
  },
  {
   "cell_type": "code",
   "execution_count": 26,
   "id": "9173e555-e190-498a-b5b0-27417ba0d0c6",
   "metadata": {},
   "outputs": [],
   "source": [
    "def compute_atr(stock_data):\n",
    "    df = ATR(stock_data.high, stock_data.low, \n",
    "             stock_data.close, timeperiod=14)\n",
    "    return df.sub(df.mean()).div(df.std())"
   ]
  },
  {
   "cell_type": "code",
   "execution_count": 27,
   "id": "b7fa24a9-b6a8-43b4-8c24-de7343bfd240",
   "metadata": {},
   "outputs": [],
   "source": [
    "prices['ATR'] = (prices.groupby('symbol', group_keys=False)\n",
    "                 .apply(compute_atr))"
   ]
  },
  {
   "cell_type": "markdown",
   "id": "c017603f-8b8d-4536-8c7e-b9c5f8519dd7",
   "metadata": {},
   "source": [
    "#### Computing Moving Average Convergence/Divergence"
   ]
  },
  {
   "cell_type": "code",
   "execution_count": 28,
   "id": "7dfc94eb-3781-4414-b787-13f38c4c5e81",
   "metadata": {},
   "outputs": [],
   "source": [
    "prices['PPO'] = prices.groupby(level='symbol').close.apply(talib.PPO)"
   ]
  },
  {
   "cell_type": "code",
   "execution_count": 29,
   "id": "a3d5d23c-dd40-43d7-b56d-a7174d252d83",
   "metadata": {},
   "outputs": [],
   "source": [
    "def compute_macd(close):\n",
    "    macd = MACD(close)[0]\n",
    "    return (macd - np.mean(macd))/np.std(macd)"
   ]
  },
  {
   "cell_type": "code",
   "execution_count": 30,
   "id": "b0295acf-920e-4903-924b-5995530afb01",
   "metadata": {},
   "outputs": [],
   "source": [
    "prices['MACD'] = (prices\n",
    "                  .groupby('symbol', group_keys=False)\n",
    "                  .close\n",
    "                  .apply(compute_macd))"
   ]
  },
  {
   "cell_type": "markdown",
   "id": "3dd37965-cb53-4a57-8ee8-a69a21d8f9ee",
   "metadata": {},
   "source": [
    "#### Combining Price & Meta Data"
   ]
  },
  {
   "cell_type": "code",
   "execution_count": 31,
   "id": "4bff0736-7ca3-48ee-a82c-d3a98d5cfadd",
   "metadata": {},
   "outputs": [],
   "source": [
    "metadata.sector = pd.factorize(metadata.sector)[0].astype(int)\n",
    "\n",
    "prices = prices.join(metadata[['sector']])"
   ]
  },
  {
   "cell_type": "markdown",
   "id": "fbb97159-f2b6-4b55-bd99-f43adcd9f2a8",
   "metadata": {},
   "source": [
    "### Computing Returns\n",
    "\n",
    "#### Historical Returns"
   ]
  },
  {
   "cell_type": "code",
   "execution_count": 32,
   "id": "8ea5bb32-89be-4823-9695-ad010d765ff2",
   "metadata": {},
   "outputs": [],
   "source": [
    "by_sym = prices.groupby(level='symbol').close\n",
    "\n",
    "for t in T:\n",
    "    prices[f'r{t:02}'] = by_sym.pct_change(t)"
   ]
  },
  {
   "cell_type": "markdown",
   "id": "d0a79a40-40ef-4bca-80ea-fbb13c901c9f",
   "metadata": {},
   "source": [
    "#### Daily Historical Return Deciles"
   ]
  },
  {
   "cell_type": "code",
   "execution_count": 33,
   "id": "abdc8f70-bfea-4b62-929e-77f5d0dd298e",
   "metadata": {},
   "outputs": [],
   "source": [
    "for t in T:\n",
    "    prices[f'r{t:02}dec'] = (prices[f'r{t:02}']\n",
    "                             .groupby(level='date')\n",
    "                             .apply(lambda x: pd.qcut(x, \n",
    "                                                      q=10, \n",
    "                                                      labels=False, \n",
    "                                                      duplicates='drop')))"
   ]
  },
  {
   "cell_type": "markdown",
   "id": "aaa7710e-a5ae-4765-b430-c1d185a1577a",
   "metadata": {},
   "source": [
    "#### Daily Sector Return Deciles"
   ]
  },
  {
   "cell_type": "code",
   "execution_count": 34,
   "id": "5132014d-4c0a-4ab2-ab16-c497dae0b52e",
   "metadata": {},
   "outputs": [],
   "source": [
    "for t in T:\n",
    "    prices[f'r{t:02}q_sector'] = (prices\n",
    "                                  .groupby(['date', 'sector'])[f'r{t:02}']\n",
    "                                  .transform(lambda x: pd.qcut(x, \n",
    "                                                               q=5, \n",
    "                                                               labels=False, \n",
    "                                                               duplicates='drop')))"
   ]
  },
  {
   "cell_type": "markdown",
   "id": "4d77a62f-0b0a-413f-a6f1-21782d2e5e66",
   "metadata": {},
   "source": [
    "#### Computing Forward Returns"
   ]
  },
  {
   "cell_type": "code",
   "execution_count": 36,
   "id": "7552db20-29ad-4902-bb1f-e6e61a460372",
   "metadata": {},
   "outputs": [],
   "source": [
    "for t in [1, 5, 21]:\n",
    "    prices[f'r{t:02}_fwd'] = prices.groupby(level='symbol')[f'r{t:02}'].shift(-t)"
   ]
  },
  {
   "cell_type": "markdown",
   "id": "f20fca89-aada-4144-879d-27c6a1bd7fd0",
   "metadata": {},
   "source": [
    "### Removing Outliers"
   ]
  },
  {
   "cell_type": "code",
   "execution_count": 37,
   "id": "b3571119-f717-4b2a-b398-b8f773d77952",
   "metadata": {},
   "outputs": [],
   "source": [
    "prices[[f'r{t:02}' for t in T]].describe()"
   ]
  },
  {
   "cell_type": "code",
   "execution_count": 38,
   "id": "44414def-1aa1-43fd-883b-69d77355ad6a",
   "metadata": {},
   "outputs": [],
   "source": [
    "outliers = prices[prices.r01 > 1].index.get_level_values('symbol').unique()"
   ]
  },
  {
   "cell_type": "code",
   "execution_count": 39,
   "id": "c234dc61-9add-4a9c-a2b6-8559626daaab",
   "metadata": {},
   "outputs": [],
   "source": [
    "prices = prices.drop(outliers, level='symbol')"
   ]
  },
  {
   "cell_type": "markdown",
   "id": "724f3d6c-be27-4e30-8884-77add99f4057",
   "metadata": {},
   "source": [
    "### Creating Time & Sector Dummy Variables"
   ]
  },
  {
   "cell_type": "code",
   "execution_count": 40,
   "id": "b4eb6bdc-9012-4928-a824-07063b1c98c5",
   "metadata": {},
   "outputs": [],
   "source": [
    "prices['year'] = prices.index.get_level_values('date').year\n",
    "prices['month'] = prices.index.get_level_values('date').month\n",
    "prices['weekday'] = prices.index.get_level_values('date').weekday"
   ]
  },
  {
   "cell_type": "markdown",
   "id": "aaa14464-a09c-45a7-aa2a-1827ebb64716",
   "metadata": {},
   "source": [
    "### Storing Model Data"
   ]
  },
  {
   "cell_type": "code",
   "execution_count": 41,
   "id": "319d1337-651c-4fbf-a97e-68f1be37c5fb",
   "metadata": {},
   "outputs": [],
   "source": [
    "prices.info(show_counts=True)"
   ]
  },
  {
   "cell_type": "code",
   "execution_count": 42,
   "id": "304549e2-6ea9-4598-8cdc-5812ecb14628",
   "metadata": {},
   "outputs": [],
   "source": [
    "prices.drop(['open', 'close', 'low', 'high', 'volume'], axis=1).to_hdf('data.h5', 'model_data')"
   ]
  },
  {
   "cell_type": "code",
   "execution_count": null,
   "id": "ea0b2a07-0792-4738-bfa5-0ef3e97b5f90",
   "metadata": {},
   "outputs": [],
   "source": []
  }
 ],
 "metadata": {
  "kernelspec": {
   "display_name": "Python 3 (ipykernel)",
   "language": "python",
   "name": "python3"
  },
  "language_info": {
   "codemirror_mode": {
    "name": "ipython",
    "version": 3
   },
   "file_extension": ".py",
   "mimetype": "text/x-python",
   "name": "python",
   "nbconvert_exporter": "python",
   "pygments_lexer": "ipython3",
   "version": "3.12.9"
  }
 },
 "nbformat": 4,
 "nbformat_minor": 5
}
