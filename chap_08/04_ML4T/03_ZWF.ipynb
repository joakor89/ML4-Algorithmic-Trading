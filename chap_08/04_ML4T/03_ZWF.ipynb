{
 "cells": [
  {
   "cell_type": "markdown",
   "id": "18606d16-bda4-4fba-a198-dfbdaf882b71",
   "metadata": {},
   "source": [
    "# ML4T Workflow with Zipline\n",
    "\n",
    "### Loading Libraries"
   ]
  },
  {
   "cell_type": "code",
   "execution_count": 2,
   "id": "e2ac1c07-a343-4459-9ced-3aba57dd2e2e",
   "metadata": {},
   "outputs": [],
   "source": [
    "# Warning\n",
    "import warnings\n",
    "\n",
    "# Numerical Computing\n",
    "import numpy as np\n",
    "\n",
    "# Data Manipulation\n",
    "import pandas as pd\n",
    "import pandas_datareader.data as web\n",
    "\n",
    "# Time & Collection\n",
    "from time import time\n",
    "from collections import defaultdict\n",
    "from logbook import Logger, StderrHandler, INFO\n",
    "\n",
    "# SciPy\n",
    "from scipy.stats import spearmanr\n",
    "\n",
    "from logbook import Logger, StderrHandler, INFO\n",
    "\n",
    "# Data Visualization\n",
    "import matplotlib.pyplot as plt\n",
    "import seaborn as sns\n",
    "\n",
    "# Scikit-Learn\n",
    "from sklearn.linear_model import SGDRegressor\n",
    "from sklearn.preprocessing import StandardScaler\n",
    "from sklearn.metrics import mean_squared_error, mean_absolute_error\n",
    "\n",
    "# Zipline\n",
    "from zipline.pipeline import Pipeline, CustomFactor\n",
    "from zipline.pipeline.data import USEquityPricing\n",
    "from zipline.pipeline.factors import AverageDollarVolume, EWMA, Returns\n",
    "from zipline.pipeline.factors.technical import RSI, MACDSignal, TrueRange\n",
    "from zipline import run_algorithm\n",
    "from zipline.api import (attach_pipeline, pipeline_output,\n",
    "                         date_rules, time_rules,\n",
    "                         schedule_function, commission, slippage,\n",
    "                         set_slippage, set_commission,\n",
    "                         record,\n",
    "                         order_target, order_target_percent)\n",
    "\n",
    "# Pyfolio\n",
    "import pyfolio as pf\n",
    "from pyfolio.plotting import plot_rolling_returns, plot_rolling_sharpe\n",
    "from pyfolio.timeseries import forecast_cone_bootstrap\n"
   ]
  },
  {
   "cell_type": "code",
   "execution_count": 3,
   "id": "8622d2bd-26f8-4418-9afa-668c5475ca53",
   "metadata": {},
   "outputs": [],
   "source": [
    "sns.set_style('whitegrid')\n",
    "\n",
    "warnings.filterwarnings('ignore')"
   ]
  },
  {
   "cell_type": "markdown",
   "id": "a3b29e19-896d-488f-971e-fdb35a7cad27",
   "metadata": {},
   "source": [
    "### Logging Setup"
   ]
  },
  {
   "cell_type": "code",
   "execution_count": 4,
   "id": "82cefce7-639c-4c20-ba07-2d3482611b62",
   "metadata": {},
   "outputs": [],
   "source": [
    "log_handler = StderrHandler(\n",
    "        format_string='[{record.time:%Y-%m-%d %H:%M:%S.%f}]: ' +\n",
    "                      '{record.level_name}: {record.func_name}: {record.message}',\n",
    "        level=INFO\n",
    ")\n",
    "log_handler.push_application()\n",
    "log = Logger('Algorithm')"
   ]
  },
  {
   "cell_type": "markdown",
   "id": "579fa3df-20f2-47f2-9e40-adfb124b0af8",
   "metadata": {},
   "source": [
    "### Algo Parameters"
   ]
  },
  {
   "cell_type": "code",
   "execution_count": 5,
   "id": "015fa833-b61f-4ae1-8a27-f573cfea6476",
   "metadata": {},
   "outputs": [],
   "source": [
    "# Target long/short Positions\n",
    "N_LONGS = 25\n",
    "N_SHORTS = 25\n",
    "MIN_POSITIONS = 15\n",
    "\n",
    "UNIVERSE = 250\n",
    "\n",
    "# Length of the Training Period \n",
    "TRAINING_PERIOD = 252 * 2\n",
    "\n",
    "# Train to Predict N Day Forward Returns\n",
    "N_FORWARD_DAYS = 1\n",
    "\n",
    "TRADE_FREQ = date_rules.every_day()  "
   ]
  },
  {
   "cell_type": "code",
   "execution_count": 6,
   "id": "b0ae858e-9197-4e28-a83b-69ed9358c9ff",
   "metadata": {},
   "outputs": [],
   "source": [
    "start = pd.Timestamp('2015-01-01', tz='UTC')\n",
    "\n",
    "end = pd.Timestamp('2017-12-31', tz='UTC')"
   ]
  },
  {
   "cell_type": "markdown",
   "id": "a83c6765-debb-43b1-9e58-737521356358",
   "metadata": {},
   "source": [
    "### Factor Engineering\n",
    "\n",
    "#### Momentum"
   ]
  },
  {
   "cell_type": "code",
   "execution_count": 7,
   "id": "26fc9010-41be-44af-8339-2a314bf6fee7",
   "metadata": {},
   "outputs": [],
   "source": [
    "def Price_Momentum_3M():\n",
    "    return Returns(window_length=63)"
   ]
  },
  {
   "cell_type": "code",
   "execution_count": 8,
   "id": "738901a2-e11e-4d4b-9655-1b0442608266",
   "metadata": {},
   "outputs": [],
   "source": [
    "def Returns_39W():\n",
    "    return Returns(window_length=215)"
   ]
  },
  {
   "cell_type": "markdown",
   "id": "26fc1f75-1c7f-479f-b30f-8edadb262a62",
   "metadata": {},
   "source": [
    "#### Volatility"
   ]
  },
  {
   "cell_type": "code",
   "execution_count": 9,
   "id": "3420b9cd-468d-4bc6-8a5b-ca7bb676a633",
   "metadata": {},
   "outputs": [],
   "source": [
    "class Vol_3M(CustomFactor):\n",
    "    inputs = [Returns(window_length=2)]\n",
    "    window_length = 63\n",
    "\n",
    "    def compute(self, today, assets, out, rets):\n",
    "        out[:] = np.nanstd(rets, axis=0)"
   ]
  },
  {
   "cell_type": "markdown",
   "id": "564b8a80-6f3e-4801-9dc7-f59c7a3adf41",
   "metadata": {},
   "source": [
    "#### Mean Reversion"
   ]
  },
  {
   "cell_type": "code",
   "execution_count": 10,
   "id": "be73c38c-dfe6-442d-a85e-fbb0d4304e0e",
   "metadata": {},
   "outputs": [],
   "source": [
    "class Mean_Reversion_1M(CustomFactor):\n",
    "    inputs = [Returns(window_length=21)]\n",
    "    window_length = 252\n",
    "\n",
    "    def compute(self, today, assets, out, monthly_rets):\n",
    "        out[:] = (monthly_rets[-1] - np.nanmean(monthly_rets, axis=0)) / \\\n",
    "                 np.nanstd(monthly_rets, axis=0)"
   ]
  },
  {
   "cell_type": "markdown",
   "id": "5555c351-230d-40ae-9655-1576406a2220",
   "metadata": {},
   "source": [
    "#### Money Flow Volume"
   ]
  },
  {
   "cell_type": "code",
   "execution_count": 11,
   "id": "6c3afe01-bc71-4e42-bdc8-a0d562a01855",
   "metadata": {},
   "outputs": [],
   "source": [
    "class Moneyflow_Volume_5d(CustomFactor):\n",
    "    inputs = [USEquityPricing.close, USEquityPricing.volume]\n",
    "    window_length = 5\n",
    "\n",
    "    def compute(self, today, assets, out, close, volume):\n",
    "\n",
    "        mfvs = []\n",
    "\n",
    "        for col_c, col_v in zip(close.T, volume.T):\n",
    "\n",
    "            # denominator\n",
    "            denominator = np.dot(col_c, col_v)\n",
    "\n",
    "            # numerator\n",
    "            numerator = 0.\n",
    "            for n, price in enumerate(col_c.tolist()):\n",
    "                if price > col_c[n - 1]:\n",
    "                    numerator += price * col_v[n]\n",
    "                else:\n",
    "                    numerator -= price * col_v[n]\n",
    "\n",
    "            mfvs.append(numerator / denominator)\n",
    "        out[:] = mfvs"
   ]
  },
  {
   "cell_type": "markdown",
   "id": "252c49b7-890f-440b-a28e-0f33abfa78ee",
   "metadata": {},
   "source": [
    "#### Price Trend"
   ]
  },
  {
   "cell_type": "code",
   "execution_count": 13,
   "id": "4423a480-e7f6-45a9-a1d3-0bb564eb4091",
   "metadata": {},
   "outputs": [],
   "source": [
    "class Trendline(CustomFactor):\n",
    "    inputs = [USEquityPricing.close]\n",
    "    window_length = 252\n",
    "\n",
    "    def compute(self, today, assets, out, close):\n",
    "        X = np.arange(self.window_length).reshape(-1, 1).astype(float)\n",
    "        X -= X.mean()\n",
    "        Y = close - np.nanmean(close, axis=0)\n",
    "        out[:] = (X.T @ Y / np.var(X)) / self.window_length"
   ]
  },
  {
   "cell_type": "markdown",
   "id": "b63e2d6e-874b-4efa-b1e4-40b14bb8dbcb",
   "metadata": {},
   "source": [
    "#### Price Oscillator"
   ]
  },
  {
   "cell_type": "code",
   "execution_count": 14,
   "id": "cfb76115-9ec7-4791-b45a-f651a6d855d7",
   "metadata": {},
   "outputs": [],
   "source": [
    "class Price_Oscillator(CustomFactor):\n",
    "    inputs = [USEquityPricing.close]\n",
    "    window_length = 252\n",
    "\n",
    "    def compute(self, today, assets, out, close):\n",
    "        four_week_period = close[-20:]\n",
    "        out[:] = (np.nanmean(four_week_period, axis=0) /\n",
    "                  np.nanmean(close, axis=0)) - 1."
   ]
  },
  {
   "cell_type": "markdown",
   "id": "bc3efa51-51cc-48b2-88ed-bc366302af51",
   "metadata": {},
   "source": [
    "#### Features Combination"
   ]
  },
  {
   "cell_type": "code",
   "execution_count": 15,
   "id": "e1a4476f-fa86-401d-a644-ba5f00ce3568",
   "metadata": {},
   "outputs": [],
   "source": [
    "vol_3M = Vol_3M()\n",
    "\n",
    "mean_reversion_1M = Mean_Reversion_1M()\n",
    "macd_signal_10d = MACDSignal()\n",
    "moneyflow_volume_5d = Moneyflow_Volume_5d()\n",
    "\n",
    "trendline = Trendline()\n",
    "\n",
    "price_oscillator = Price_Oscillator()\n",
    "price_momentum_3M = Price_Momentum_3M()\n",
    "\n",
    "returns_39W = Returns_39W()\n",
    "true_range = TrueRange()"
   ]
  },
  {
   "cell_type": "code",
   "execution_count": 16,
   "id": "0ca42442-0387-4448-a37e-b8987a491997",
   "metadata": {},
   "outputs": [],
   "source": [
    "features = {\n",
    "    'Vol 3M'             : vol_3M,\n",
    "    'Mean Reversion 1M'  : mean_reversion_1M,\n",
    "    'MACD Signal 10d'    : macd_signal_10d,\n",
    "    'Moneyflow Volume 5D': moneyflow_volume_5d,\n",
    "    'Trendline'          : trendline,\n",
    "    'Price Oscillator'   : price_oscillator,\n",
    "    'Price Momentum 3M'  : price_momentum_3M,\n",
    "    '39 Week Returns'    : returns_39W,\n",
    "    'True Range'         : true_range\n",
    "}"
   ]
  },
  {
   "cell_type": "markdown",
   "id": "c3d50ba9-6151-4f05-aaf2-e3cb98606924",
   "metadata": {},
   "source": [
    "### ML CustomFactor"
   ]
  },
  {
   "cell_type": "code",
   "execution_count": 17,
   "id": "6e437641-66ea-4236-8503-2011f47c5579",
   "metadata": {},
   "outputs": [],
   "source": [
    "class LinearModel(CustomFactor):\n",
    "    \"\"\"Obtain model predictions\"\"\"\n",
    "    train_on_weekday = [0, 2, 4]\n",
    "\n",
    "    def __init__(self, *args, **kwargs):\n",
    "        super().__init__(self, *args, **kwargs)\n",
    "\n",
    "        self._scaler = StandardScaler()\n",
    "        self._model = SGDRegressor(penalty='L2')\n",
    "        self._trained = False\n",
    "\n",
    "    def _train_model(self, today, returns, inputs):\n",
    "\n",
    "        scaler = self._scaler\n",
    "        model = self._model\n",
    "\n",
    "        shift_by = N_FORWARD_DAYS + 1\n",
    "        outcome = returns[shift_by:].flatten()\n",
    "        features = np.dstack(inputs)[:-shift_by]\n",
    "        n_days, n_stocks, n_features = features.shape\n",
    "        features = features.reshape(-1, n_features)\n",
    "        features = features[~np.isnan(outcome)]\n",
    "        outcome = outcome[~np.isnan(outcome)]\n",
    "        outcome = outcome[np.all(~np.isnan(features), axis=1)]\n",
    "        features = features[np.all(~np.isnan(features), axis=1)]\n",
    "        features = scaler.fit_transform(features)\n",
    "\n",
    "        start = time()\n",
    "        model.fit(X=features, y=outcome)\n",
    "#         log.info('{} | {:.2f}s'.format(today.date(), time() - start))\n",
    "        self._trained = True\n",
    "\n",
    "    def _maybe_train_model(self, today, returns, inputs):\n",
    "        if (today.weekday() in self.train_on_weekday) or not self._trained:\n",
    "            self._train_model(today, returns, inputs)\n",
    "\n",
    "    def compute(self, today, assets, out, returns, *inputs):\n",
    "        self._maybe_train_model(today, returns, inputs)\n",
    "\n",
    "        # Predict most recent feature values\n",
    "        X = np.dstack(inputs)[-1]\n",
    "        missing = np.any(np.isnan(X), axis=1)\n",
    "        X[missing, :] = 0\n",
    "        X = self._scaler.transform(X)\n",
    "        preds = self._model.predict(X)\n",
    "        out[:] = np.where(missing, np.nan, preds)"
   ]
  },
  {
   "cell_type": "markdown",
   "id": "168ba44b-f60e-4c5a-a75d-de4bdd310c84",
   "metadata": {},
   "source": [
    "#### Pipeline"
   ]
  },
  {
   "cell_type": "code",
   "execution_count": 18,
   "id": "24bd5e13-0fa0-41b7-9e37-6086d8dfaffc",
   "metadata": {},
   "outputs": [],
   "source": [
    "def make_ml_pipeline(universe, window_length=21, n_forward_days=5):\n",
    "    pipeline_columns = OrderedDict()\n",
    "\n",
    "    pipeline_columns['Returns'] = Returns(inputs=[USEquityPricing.open],\n",
    "                                          mask=universe,\n",
    "                                          window_length=n_forward_days + 1)\n",
    "\n",
    "    pipeline_columns.update({k: v.rank(mask=universe)\n",
    "                             for k, v in features.items()})\n",
    "\n",
    "    pipeline_columns['predictions'] = LinearModel(inputs=pipeline_columns.values(),\n",
    "                                         window_length=window_length + n_forward_days,\n",
    "                                         mask=universe)\n",
    "\n",
    "    return Pipeline(screen=universe, columns=pipeline_columns)"
   ]
  },
  {
   "cell_type": "markdown",
   "id": "3564af3f-00aa-4780-aa6e-44df7d108a94",
   "metadata": {},
   "source": [
    "#### Universe"
   ]
  },
  {
   "cell_type": "code",
   "execution_count": 19,
   "id": "7a84037d-604a-4861-a53c-10ef4c66a105",
   "metadata": {},
   "outputs": [],
   "source": [
    "def make_universe():\n",
    "    dollar_volume = AverageDollarVolume(window_length=90)\n",
    "    return dollar_volume.top(UNIVERSE)"
   ]
  },
  {
   "cell_type": "code",
   "execution_count": 20,
   "id": "28993803-71c5-462f-8862-2ff6bae631c6",
   "metadata": {},
   "outputs": [],
   "source": [
    "universe = make_universe()"
   ]
  },
  {
   "cell_type": "markdown",
   "id": "903a60ca-06bb-4b15-bf13-82545e787201",
   "metadata": {},
   "source": [
    "### Initialize Algorithm"
   ]
  },
  {
   "cell_type": "code",
   "execution_count": 21,
   "id": "924bea2b-9683-4c8f-85e3-e69be52ae6c9",
   "metadata": {},
   "outputs": [],
   "source": [
    "def initialize(context):\n",
    "    \"\"\"\n",
    "    Called once at the start of the algorithm.\n",
    "    \"\"\"\n",
    "    \n",
    "    set_slippage(slippage.FixedSlippage(spread=0.00))\n",
    "    set_commission(commission.PerShare(cost=0, min_trade_cost=0))\n",
    "\n",
    "    schedule_function(rebalance, TRADE_FREQ,\n",
    "                      date_rules.every_day(),\n",
    "                      time_rules.market_open(hours=1, minutes=30),\n",
    "    )\n",
    "\n",
    "    schedule_function(record_vars, date_rules.every_day(),\n",
    "                      time_rules.market_close())\n",
    "\n",
    "    ml_pipeline = make_ml_pipeline(universe,\n",
    "                                   n_forward_days=N_FORWARD_DAYS,\n",
    "                                   window_length=TRAINING_PERIOD)\n",
    "\n",
    "    # Create our dynamic stock selector.\n",
    "    attach_pipeline(ml_pipeline, 'ml_model')\n",
    "\n",
    "    context.past_predictions = {}\n",
    "    context.ic = 0\n",
    "    context.rmse = 0\n",
    "    context.mae = 0\n",
    "    context.returns_spread_bps = 0"
   ]
  },
  {
   "cell_type": "markdown",
   "id": "f7a3f4de-c0f1-4d64-89bd-ceaa45dd4cbd",
   "metadata": {},
   "source": [
    "### Evaluate Predictive Accuracy"
   ]
  },
  {
   "cell_type": "code",
   "execution_count": 22,
   "id": "8264c160-215e-4211-9f7f-b2843ac2a6c9",
   "metadata": {},
   "outputs": [],
   "source": [
    "def evaluate_predictions(output, context):\n",
    "    context.past_predictions = {\n",
    "        k - 1: v for k, v in context.past_predictions.items() if k > 0\n",
    "    }\n",
    "\n",
    "    if 0 in context.past_predictions:\n",
    "        \n",
    "        returns, predictions = (output['Returns'].dropna()\n",
    "                                .align(context.past_predictions[0].dropna(),\n",
    "                                       join='inner'))\n",
    "        if len(returns) > 0 and len(predictions) > 0:\n",
    "            context.ic = spearmanr(returns, predictions)[0]\n",
    "            context.rmse = np.sqrt(\n",
    "                mean_squared_error(returns, predictions))\n",
    "            context.mae = mean_absolute_error(returns, predictions)\n",
    "\n",
    "            long_rets = returns[predictions > 0].mean()\n",
    "            short_rets = returns[predictions < 0].mean()\n",
    "            context.returns_spread_bps = (long_rets - short_rets) * 10000\n",
    "\n",
    "    # Store current predictions\n",
    "    context.past_predictions[N_FORWARD_DAYS] = context.predicted_returns"
   ]
  },
  {
   "cell_type": "markdown",
   "id": "1048d52a-a150-4c6e-a116-a851765389d8",
   "metadata": {},
   "source": [
    "### Getting Pipeline Output"
   ]
  },
  {
   "cell_type": "code",
   "execution_count": 23,
   "id": "7bcd5b3e-cd5e-4b99-85df-ee4c5b1b7637",
   "metadata": {},
   "outputs": [],
   "source": [
    "def before_trading_start(context, data):\n",
    "    \"\"\"\n",
    "    Called every day before market open.\n",
    "    \"\"\"\n",
    "    output = pipeline_output('ml_model')\n",
    "    context.predicted_returns = output['predictions']\n",
    "    context.predicted_returns.index.set_names(['equity'], inplace=True)\n",
    "\n",
    "    evaluate_predictions(output, context)\n",
    "\n",
    "    context.security_list = context.predicted_returns.index"
   ]
  },
  {
   "cell_type": "markdown",
   "id": "37c64cfe-7846-4e63-91da-f60ca3a3c173",
   "metadata": {},
   "source": [
    "### Rebalancing"
   ]
  },
  {
   "cell_type": "code",
   "execution_count": 24,
   "id": "7b142fbf-3ea8-4e79-88e4-901d4f23a08d",
   "metadata": {},
   "outputs": [],
   "source": [
    "def rebalance(context, data):\n",
    "    \"\"\"\n",
    "    Execute orders according to our schedule_function() timing.\n",
    "    \"\"\"\n",
    "    predictions = context.predicted_returns\n",
    "\n",
    "    predictions = predictions.loc[data.can_trade(predictions.index)]\n",
    "    longs = (predictions[predictions > 0]\n",
    "             .sort_values(ascending=False)[:N_LONGS]\n",
    "             .index\n",
    "             .tolist())\n",
    "    shorts = (predictions[predictions < 0]\n",
    "              .sort_values()[:N_SHORTS]\n",
    "              .index\n",
    "              .tolist())\n",
    "    targets = set(longs + shorts)\n",
    "    for position in context.portfolio.positions:\n",
    "        if position not in targets:\n",
    "            order_target(position, 0)\n",
    "    \n",
    "    n_longs, n_shorts = len(longs), len(shorts)\n",
    "    if n_longs > MIN_POSITIONS and n_shorts > MIN_POSITIONS:\n",
    "        for stock in longs:\n",
    "            order_target_percent(stock, target=1/n_longs)\n",
    "        for stock in shorts:\n",
    "            order_target_percent(stock, target=-1/n_shorts)\n",
    "    else:\n",
    "        for stock in targets:\n",
    "            if stock in context.portfolio.positions:\n",
    "                order_target(stock, 0)"
   ]
  },
  {
   "cell_type": "markdown",
   "id": "7db07c6d-2ac4-4f9d-acd7-3299d668e5a3",
   "metadata": {},
   "source": [
    "### Logging"
   ]
  },
  {
   "cell_type": "code",
   "execution_count": 25,
   "id": "f3507926-fbcf-448b-b0ce-abd3e93715f7",
   "metadata": {},
   "outputs": [],
   "source": [
    "def record_vars(context, data):\n",
    "    \"\"\"\n",
    "    Plot variables at the end of each day.\n",
    "    \"\"\"\n",
    "    record(\n",
    "            leverage=context.account.leverage,\n",
    "            ic=context.ic,\n",
    "            rmse=context.rmse,\n",
    "            mae=context.mae,\n",
    "            returns_spread_bps=context.returns_spread_bps\n",
    "    )"
   ]
  },
  {
   "cell_type": "markdown",
   "id": "0c5b536f-0591-4511-b396-8d9d0b427819",
   "metadata": {},
   "source": [
    "### Running Algorithm"
   ]
  },
  {
   "cell_type": "code",
   "execution_count": 27,
   "id": "160b1e2a-9c30-4bfa-a6f9-2e9fe93fed86",
   "metadata": {},
   "outputs": [],
   "source": [
    "go = time()\n",
    "\n",
    "results = run_algorithm(start=start,\n",
    "                        end=end,\n",
    "                        initialize=initialize,\n",
    "                        before_trading_start=before_trading_start,\n",
    "                        capital_base=1e6,\n",
    "                        data_frequency='daily',\n",
    "                        benchmark_returns=None,\n",
    "                        bundle='quandl')\n",
    "\n",
    "print('{:.2f}'.format(time()-go))"
   ]
  },
  {
   "cell_type": "markdown",
   "id": "66bb9243-72fb-4fc2-a10b-4fd55fe6c3a5",
   "metadata": {},
   "source": [
    "### PyFolio Analysis"
   ]
  },
  {
   "cell_type": "code",
   "execution_count": 28,
   "id": "4459bd59-1d83-4d64-a971-44aa0c057808",
   "metadata": {},
   "outputs": [],
   "source": [
    "axes = (results[['ic', 'returns_spread_bps']]\n",
    "        .dropna()\n",
    "        .rolling(21)\n",
    "        .mean()\n",
    "        .plot(subplots=True, \n",
    "              layout=(2,1), \n",
    "              figsize=(14, 6), \n",
    "              title=['Informmation Coefficient (21-day Rolling Avg.)', 'Returns Spread (bps, 21-day Rolling Avg.)'],\n",
    "              legend=False))\n",
    "axes = axes.flatten()\n",
    "axes[0].set_ylabel('IC')\n",
    "axes[1].set_ylabel('bps')\n",
    "plt.suptitle('Model Performance', fontsize=14)\n",
    "sns.despine()\n",
    "plt.tight_layout()\n",
    "plt.subplots_adjust(top=.9);"
   ]
  },
  {
   "cell_type": "markdown",
   "id": "45296797-e909-44ed-b9a4-56670b449302",
   "metadata": {},
   "source": [
    "#### Getting PyFolio Input"
   ]
  },
  {
   "cell_type": "code",
   "execution_count": 29,
   "id": "33b7a6ef-0e2e-4790-b717-2bad7700fbb1",
   "metadata": {},
   "outputs": [],
   "source": [
    "returns, positions, transactions = pf.utils.extract_rets_pos_txn_from_zipline(results)"
   ]
  },
  {
   "cell_type": "markdown",
   "id": "a8da49cb-9b61-40f3-b3c6-5564a28ac273",
   "metadata": {},
   "source": [
    "#### Getting Benchmark Data"
   ]
  },
  {
   "cell_type": "code",
   "execution_count": 30,
   "id": "1db74d99-0ad1-4ede-8644-3d266dee709f",
   "metadata": {},
   "outputs": [],
   "source": [
    "benchmark = web.DataReader('SP500', 'fred', '2014', '2018').squeeze()\n",
    "\n",
    "benchmark = benchmark.pct_change().tz_localize('UTC')"
   ]
  },
  {
   "cell_type": "markdown",
   "id": "5ea7e661-83e3-4955-953f-77300188e0ab",
   "metadata": {},
   "source": [
    "#### Custom Performance Plots"
   ]
  },
  {
   "cell_type": "code",
   "execution_count": 31,
   "id": "86413b09-d7e1-40ef-b2a2-67ce102d61a1",
   "metadata": {},
   "outputs": [],
   "source": [
    "fig, axes = plt.subplots(ncols=2, figsize=(16, 5))\n",
    "\n",
    "plot_rolling_returns(returns,\n",
    "                     factor_returns=benchmark,\n",
    "                     live_start_date='2017-01-01',\n",
    "                     logy=False,\n",
    "                     cone_std=2,\n",
    "                     legend_loc='best',\n",
    "                     volatility_match=False,\n",
    "                     cone_function=forecast_cone_bootstrap,\n",
    "                    ax=axes[0])\n",
    "\n",
    "plot_rolling_sharpe(returns, ax=axes[1])\n",
    "axes[0].set_title('Cumulative Returns - In and Out-of-Sample')\n",
    "sns.despine()\n",
    "fig.tight_layout();"
   ]
  },
  {
   "cell_type": "markdown",
   "id": "821a8c80-76cf-49bb-bfcc-604cfc885b77",
   "metadata": {},
   "source": [
    "### Full Tearsheet"
   ]
  },
  {
   "cell_type": "code",
   "execution_count": 32,
   "id": "619ad7b4-0b2d-43eb-aa10-1e3909e3cd85",
   "metadata": {},
   "outputs": [],
   "source": [
    "pf.create_full_tear_sheet(returns, \n",
    "                          positions=positions, \n",
    "                          transactions=transactions,\n",
    "                          benchmark_rets=benchmark,\n",
    "                          live_start_date='2017-01-01', \n",
    "                          round_trips=True)"
   ]
  },
  {
   "cell_type": "code",
   "execution_count": null,
   "id": "23f6babe-442e-465d-bc0a-f6e7341b990b",
   "metadata": {},
   "outputs": [],
   "source": []
  }
 ],
 "metadata": {
  "kernelspec": {
   "display_name": "Python 3 (ipykernel)",
   "language": "python",
   "name": "python3"
  },
  "language_info": {
   "codemirror_mode": {
    "name": "ipython",
    "version": 3
   },
   "file_extension": ".py",
   "mimetype": "text/x-python",
   "name": "python",
   "nbconvert_exporter": "python",
   "pygments_lexer": "ipython3",
   "version": "3.12.9"
  }
 },
 "nbformat": 4,
 "nbformat_minor": 5
}
