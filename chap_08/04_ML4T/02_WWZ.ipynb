{
 "cells": [
  {
   "cell_type": "markdown",
   "id": "ff93cdcc-df07-4f19-a210-98cc23d1fae9",
   "metadata": {},
   "source": [
    "# Backtesting with Zipline - `Pipeline API with Custom Data`\n",
    "\n",
    "### Loading Libraries"
   ]
  },
  {
   "cell_type": "code",
   "execution_count": 1,
   "id": "b0a27eef-1465-43e1-a39e-d0a61fc45ae1",
   "metadata": {},
   "outputs": [],
   "source": [
    "# Numerical Computing\n",
    "import numpy as np\n",
    "\n",
    "# Data Manipulation\n",
    "import pandas as pd\n",
    "import pandas_datareader.data as web\n",
    "\n",
    "# Time & Collection\n",
    "from collections import defaultdict\n",
    "from time import time\n",
    "\n",
    "\n",
    "from logbook import Logger, StderrHandler, INFO\n",
    "\n",
    "# Data Visualization\n",
    "import matplotlib.pyplot as plt\n",
    "import seaborn as sns\n",
    "\n",
    "# ZipLine\n",
    "from zipline import run_algorithm\n",
    "from zipline.api import (attach_pipeline,\n",
    "                         pipeline_output,\n",
    "                         date_rules,\n",
    "                         time_rules,\n",
    "                         record,\n",
    "                         schedule_function,\n",
    "                         commission,\n",
    "                         slippage,\n",
    "                         set_slippage,\n",
    "                         set_commission,\n",
    "                         order_target,\n",
    "                         order_target_percent)\n",
    "\n",
    "from zipline.data import bundles\n",
    "from zipline.utils.run_algo import load_extensions\n",
    "from zipline.pipeline import Pipeline, CustomFactor\n",
    "from zipline.pipeline.data import Column, DataSet\n",
    "from zipline.pipeline.domain import US_EQUITIES\n",
    "from zipline.pipeline.filters import StaticAssets\n",
    "from zipline.pipeline.loaders.frame import DataFrameLoader\n",
    "\n",
    "# PyFolio\n",
    "import pyfolio as pf\n",
    "from pyfolio.plotting import plot_rolling_returns, plot_rolling_sharpe\n",
    "from pyfolio.timeseries import forecast_cone_bootstrap"
   ]
  },
  {
   "cell_type": "code",
   "execution_count": 2,
   "id": "b2f22a62-0979-4473-b010-e97197164362",
   "metadata": {},
   "outputs": [],
   "source": [
    "np.random.seed(42)\n",
    "\n",
    "sns.set_style('whitegrid')\n",
    "\n",
    "pd.set_option('display.expand_frame_repr', False)"
   ]
  },
  {
   "cell_type": "markdown",
   "id": "be0acfe9-1e7f-4173-a3df-f80996e7f517",
   "metadata": {},
   "source": [
    "### Load ZipLine Extensions"
   ]
  },
  {
   "cell_type": "code",
   "execution_count": 3,
   "id": "1c1c55bf-3bb5-4eff-a2c8-2fca0a2f89ee",
   "metadata": {},
   "outputs": [],
   "source": [
    "load_extensions(default=True,\n",
    "                extensions=[],\n",
    "                strict=True,\n",
    "                environ=None)"
   ]
  },
  {
   "cell_type": "code",
   "execution_count": 4,
   "id": "b774bb59-32cb-403d-b373-3bf6749b3d1c",
   "metadata": {},
   "outputs": [],
   "source": [
    "log_handler = StderrHandler(format_string='[{record.time:%Y-%m-%d %H:%M:%S.%f}]: ' +\n",
    "                            '{record.level_name}: {record.func_name}: {record.message}',\n",
    "                            level=INFO)\n",
    "\n",
    "log_handler.push_application()\n",
    "log = Logger('Algorithm')"
   ]
  },
  {
   "cell_type": "markdown",
   "id": "ec858efd-fe4e-4da5-bac9-71cff22f5266",
   "metadata": {},
   "source": [
    "### Algo Params"
   ]
  },
  {
   "cell_type": "code",
   "execution_count": 5,
   "id": "ca09da52-5735-4cf5-b46a-6a1e63cd16eb",
   "metadata": {},
   "outputs": [],
   "source": [
    "N_LONGS = 20\n",
    "\n",
    "N_SHORTS = 20\n",
    "\n",
    "MIN_POSITIONS = 10"
   ]
  },
  {
   "cell_type": "markdown",
   "id": "1231fff5-4ac9-45fa-8603-de76268bfc77",
   "metadata": {},
   "source": [
    "### Loading Data\n",
    "\n",
    "#### Quandl Wiki Bundle"
   ]
  },
  {
   "cell_type": "code",
   "execution_count": 7,
   "id": "b9fe31c0-6688-4f56-9134-d2d2c6971eb2",
   "metadata": {},
   "outputs": [],
   "source": [
    "bundle_data = bundles.load('quandl')"
   ]
  },
  {
   "cell_type": "markdown",
   "id": "7f978fe6-1243-4261-9ca2-591d018bb086",
   "metadata": {},
   "source": [
    "#### ML Predictions"
   ]
  },
  {
   "cell_type": "code",
   "execution_count": 8,
   "id": "5511b9ff-0fce-4c82-9a84-d084019e9bd8",
   "metadata": {},
   "outputs": [],
   "source": [
    "def load_predictions(bundle):\n",
    "    predictions = pd.read_hdf('../00_data/backtest.h5', 'data')[['predicted']].dropna()\n",
    "    tickers = predictions.index.get_level_values(0).unique().tolist()\n",
    "\n",
    "    assets = bundle.asset_finder.lookup_symbols(tickers, as_of_date=None)\n",
    "    predicted_sids = pd.Int64Index([asset.sid for asset in assets])\n",
    "    ticker_map = dict(zip(tickers, predicted_sids))\n",
    "    return (predictions\n",
    "            .unstack('ticker')\n",
    "            .rename(columns=ticker_map)\n",
    "            .predicted\n",
    "            .tz_localize('UTC')), assets"
   ]
  },
  {
   "cell_type": "code",
   "execution_count": 9,
   "id": "8662ffac-0510-437f-9d96-779ad970075e",
   "metadata": {},
   "outputs": [],
   "source": [
    "predictions, assets = load_predictions(bundle_data)"
   ]
  },
  {
   "cell_type": "markdown",
   "id": "e478ae48-1e24-484b-bcca-ebccf791441d",
   "metadata": {},
   "source": [
    "#### Defining Custom Dataset"
   ]
  },
  {
   "cell_type": "code",
   "execution_count": 10,
   "id": "d8bcab5b-a258-420c-94fe-e01a62de12cb",
   "metadata": {},
   "outputs": [],
   "source": [
    "class SignalData(DataSet):\n",
    "    predictions = Column(dtype=float)\n",
    "    domain = US_EQUITIES"
   ]
  },
  {
   "cell_type": "markdown",
   "id": "3483de23-6368-47c1-aa71-65f9ad408a76",
   "metadata": {},
   "source": [
    "#### Defining Pipeline Loaders"
   ]
  },
  {
   "cell_type": "code",
   "execution_count": 12,
   "id": "cac1b5b9-65e8-4adb-8691-f123ef0018cc",
   "metadata": {},
   "outputs": [],
   "source": [
    "signal_loader = {SignalData.predictions: DataFrameLoader(SignalData.predictions, \n",
    "                                                         predictions)}"
   ]
  },
  {
   "cell_type": "markdown",
   "id": "3ceffe37-6180-4941-a60d-1a3dbc5f4aaa",
   "metadata": {},
   "source": [
    "### Pipeline Setup\n",
    "\n",
    "#### Customizing ML Factor"
   ]
  },
  {
   "cell_type": "code",
   "execution_count": 13,
   "id": "42cbfa8e-ce3f-43da-8447-ba231dd04139",
   "metadata": {},
   "outputs": [],
   "source": [
    "class MLSignal(CustomFactor):\n",
    "    \"\"\"Converting signals to Factor\n",
    "        so we can rank and filter in Pipeline\"\"\"\n",
    "    inputs = [SignalData.predictions]\n",
    "    window_length = 1\n",
    "\n",
    "    def compute(self, today, assets, out, preds):\n",
    "        out[:] = preds"
   ]
  },
  {
   "cell_type": "markdown",
   "id": "9dc717dc-c75a-4567-af3c-1a5a8238e481",
   "metadata": {},
   "source": [
    "#### Creating Pipeline"
   ]
  },
  {
   "cell_type": "code",
   "execution_count": 14,
   "id": "8d0aefc9-68e0-48be-a9d7-42b3d4a54ae2",
   "metadata": {},
   "outputs": [],
   "source": [
    "def compute_signals():\n",
    "    signals = MLSignal()\n",
    "#     predictions = SignalData.predictions.latest\n",
    "    return Pipeline(columns={\n",
    "        'longs' : signals.top(N_LONGS, mask=signals > 0),\n",
    "        'shorts': signals.bottom(N_SHORTS, mask=signals < 0)},\n",
    "            screen=StaticAssets(assets)\n",
    "    )"
   ]
  },
  {
   "cell_type": "markdown",
   "id": "7b231143-f893-42c6-aa03-bb68986fb3b0",
   "metadata": {},
   "source": [
    "#### Initializing Algorithm"
   ]
  },
  {
   "cell_type": "code",
   "execution_count": 15,
   "id": "bbec9a2c-c761-43f4-9349-d484229179f8",
   "metadata": {},
   "outputs": [],
   "source": [
    "def initialize(context):\n",
    "    \"\"\"\n",
    "    Called once at the start of the algorithm.\n",
    "    \"\"\"\n",
    "    context.n_longs = N_LONGS\n",
    "    context.n_shorts = N_SHORTS\n",
    "    context.min_positions = MIN_POSITIONS\n",
    "    context.universe = assets\n",
    "\n",
    "    set_slippage(slippage.FixedSlippage(spread=0.00))\n",
    "    set_commission(commission.PerShare(cost=0, min_trade_cost=0))\n",
    "\n",
    "    schedule_function(rebalance,\n",
    "                      date_rules.every_day(),\n",
    "                      time_rules.market_open(hours=1, minutes=30))\n",
    "\n",
    "    schedule_function(record_vars,\n",
    "                      date_rules.every_day(),\n",
    "                      time_rules.market_close())\n",
    "\n",
    "    pipeline = compute_signals()\n",
    "    attach_pipeline(pipeline, 'signals')"
   ]
  },
  {
   "cell_type": "markdown",
   "id": "b60fba2b-eae1-4a64-aca1-52a7f9d85a25",
   "metadata": {},
   "source": [
    "#### Getting Daily Pipeline Results"
   ]
  },
  {
   "cell_type": "code",
   "execution_count": 16,
   "id": "50371ce7-96ca-4b4c-bf6f-3560a76f6a8d",
   "metadata": {},
   "outputs": [],
   "source": [
    "def before_trading_start(context, data):\n",
    "    \"\"\"\n",
    "    Called every day before market open.\n",
    "    \"\"\"\n",
    "    output = pipeline_output('signals')\n",
    "    context.trades = (output['longs'].astype(int)\n",
    "                      .append(output['shorts'].astype(int).mul(-1))\n",
    "                      .reset_index()\n",
    "                      .drop_duplicates()\n",
    "                      .set_index('index')\n",
    "                      .squeeze())"
   ]
  },
  {
   "cell_type": "markdown",
   "id": "5e8da711-c7ff-43cb-96b5-52e99694cec3",
   "metadata": {},
   "source": [
    "#### Rebalancing Logic Definition"
   ]
  },
  {
   "cell_type": "code",
   "execution_count": 17,
   "id": "9058f430-e3b4-4950-824a-d75add524a63",
   "metadata": {},
   "outputs": [],
   "source": [
    "def rebalance(context, data):\n",
    "    \"\"\"\n",
    "    Execute orders according to schedule_function() date & time rules.\n",
    "    \"\"\"\n",
    "    trades = defaultdict(list)\n",
    "\n",
    "    for stock, trade in context.trades.items():\n",
    "        if not trade:\n",
    "            order_target(stock, 0)\n",
    "        else:\n",
    "            trades[trade].append(stock)\n",
    "    context.longs, context.shorts = len(trades[1]), len(trades[-1])\n",
    "    if context.longs > context.min_positions and context.shorts > context.min_positions:\n",
    "        for stock in trades[-1]:\n",
    "            order_target_percent(stock, -1 / context.shorts)\n",
    "        for stock in trades[1]:\n",
    "            order_target_percent(stock, 1 / context.longs)"
   ]
  },
  {
   "cell_type": "markdown",
   "id": "698289e7-6831-4302-9fb6-c02963290bc8",
   "metadata": {},
   "source": [
    "### Record Data Points"
   ]
  },
  {
   "cell_type": "code",
   "execution_count": 18,
   "id": "1a5f5a72-4e8d-4a44-a72f-d42ff2248c06",
   "metadata": {},
   "outputs": [],
   "source": [
    "def record_vars(context, data):\n",
    "    \"\"\"\n",
    "    Plot variables at the end of each day.\n",
    "    \"\"\"\n",
    "    record(leverage=context.account.leverage,\n",
    "           longs=context.longs,\n",
    "           shorts=context.shorts)"
   ]
  },
  {
   "cell_type": "markdown",
   "id": "e588a1e7-82eb-4e96-ba43-6ebf97128275",
   "metadata": {},
   "source": [
    "### Running Algorithm"
   ]
  },
  {
   "cell_type": "code",
   "execution_count": 20,
   "id": "af5baf20-d72f-4c14-ad1e-1df11a4108a9",
   "metadata": {},
   "outputs": [],
   "source": [
    "dates = predictions.index.get_level_values('date')\n",
    "\n",
    "start_date = dates.min()\n",
    "end_date = (dates.max() + pd.DateOffset(1))"
   ]
  },
  {
   "cell_type": "code",
   "execution_count": 21,
   "id": "8fb71308-90ef-44eb-86a5-f264001a7a45",
   "metadata": {},
   "outputs": [],
   "source": [
    "start_date, end_date"
   ]
  },
  {
   "cell_type": "code",
   "execution_count": 22,
   "id": "3f339dff-b305-4c81-861f-15538e13e7b9",
   "metadata": {},
   "outputs": [],
   "source": [
    "start = time()\n",
    "results = run_algorithm(start=start_date,\n",
    "                       end=end_date,\n",
    "                       initialize=initialize,\n",
    "                       before_trading_start=before_trading_start,\n",
    "                       capital_base=1e6,\n",
    "                       data_frequency='daily',\n",
    "                       bundle='quandl',\n",
    "                       custom_loader=signal_loader) \n",
    "\n",
    "print('Duration: {:.2f}s'.format(time() - start))"
   ]
  },
  {
   "cell_type": "markdown",
   "id": "9afc0987-bf79-4de2-9c69-1b721fa12cd9",
   "metadata": {},
   "source": [
    "### Performance Analysis with PyFolio"
   ]
  },
  {
   "cell_type": "code",
   "execution_count": 23,
   "id": "e0655d2d-9ff3-4cbf-804d-fc75eabcbcaf",
   "metadata": {},
   "outputs": [],
   "source": [
    "returns, positions, transactions = pf.utils.extract_rets_pos_txn_from_zipline(results)"
   ]
  },
  {
   "cell_type": "code",
   "execution_count": 24,
   "id": "2c2b07a4-bfdd-468d-9736-7389c914c2dd",
   "metadata": {},
   "outputs": [],
   "source": [
    "benchmark = web.DataReader('SP500', 'fred', '2014', '2018').squeeze()\n",
    "\n",
    "benchmark = benchmark.pct_change().tz_localize('UTC')"
   ]
  },
  {
   "cell_type": "code",
   "execution_count": 25,
   "id": "8f1a9075-1c79-4300-aa13-423714ad11b2",
   "metadata": {},
   "outputs": [],
   "source": [
    "LIVE_DATE = '2017-01-01'"
   ]
  },
  {
   "cell_type": "code",
   "execution_count": 26,
   "id": "4596419f-8ec6-4944-bea0-25afc42efbd3",
   "metadata": {},
   "outputs": [],
   "source": [
    "fig, axes = plt.subplots(ncols=2, figsize=(16, 5))\n",
    "plot_rolling_returns(returns,\n",
    "                     factor_returns=benchmark,\n",
    "                     live_start_date=LIVE_DATE,\n",
    "                     logy=False,\n",
    "                     cone_std=2,\n",
    "                     legend_loc='best',\n",
    "                     volatility_match=False,\n",
    "                     cone_function=forecast_cone_bootstrap,\n",
    "                    ax=axes[0])\n",
    "plot_rolling_sharpe(returns, ax=axes[1], rolling_window=63)\n",
    "axes[0].set_title('Cumulative Returns - In and Out-of-Sample')\n",
    "axes[1].set_title('Rolling Sharpe Ratio (3 Months)')\n",
    "sns.despine()\n",
    "fig.tight_layout();"
   ]
  },
  {
   "cell_type": "code",
   "execution_count": 27,
   "id": "ac28798e-5c94-4582-9bfa-f1b9b8d4f8c1",
   "metadata": {},
   "outputs": [],
   "source": [
    "pf.create_full_tear_sheet(returns, \n",
    "                          positions=positions, \n",
    "                          transactions=transactions,\n",
    "                          benchmark_rets=benchmark,\n",
    "                          live_start_date=LIVE_DATE, \n",
    "                          round_trips=True)"
   ]
  },
  {
   "cell_type": "code",
   "execution_count": null,
   "id": "6a104666-4b1f-4213-b83f-c25b27c1431c",
   "metadata": {},
   "outputs": [],
   "source": []
  }
 ],
 "metadata": {
  "kernelspec": {
   "display_name": "Python 3 (ipykernel)",
   "language": "python",
   "name": "python3"
  },
  "language_info": {
   "codemirror_mode": {
    "name": "ipython",
    "version": 3
   },
   "file_extension": ".py",
   "mimetype": "text/x-python",
   "name": "python",
   "nbconvert_exporter": "python",
   "pygments_lexer": "ipython3",
   "version": "3.12.9"
  }
 },
 "nbformat": 4,
 "nbformat_minor": 5
}
