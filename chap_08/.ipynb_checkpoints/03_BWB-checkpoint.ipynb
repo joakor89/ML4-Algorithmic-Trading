{
 "cells": [
  {
   "cell_type": "markdown",
   "id": "9ae81188-bd9e-4c99-a81e-58d1af96f037",
   "metadata": {},
   "source": [
    "# Backtesting an ML Strategy with Backtrader\n",
    "\n",
    "### Loading Libraries"
   ]
  },
  {
   "cell_type": "code",
   "execution_count": 4,
   "id": "f5b84ce2-87e8-4ff5-ac79-21753ddc9c59",
   "metadata": {},
   "outputs": [],
   "source": [
    "# Numerical Computing\n",
    "import numpy as np\n",
    "\n",
    "# Data Manipulation\n",
    "import pandas as pd\n",
    "import pandas_datareader.data as web\n",
    "\n",
    "# CSV & Path\n",
    "import csv\n",
    "from pathlib import Path\n",
    "\n",
    "# Data & Time\n",
    "import datetime\n",
    "from time import time\n",
    "\n",
    "# Warnings\n",
    "import warnings\n",
    "\n",
    "# SciPy\n",
    "from scipy.stats import spearmanr\n",
    "\n",
    "# Data Visualization\n",
    "import seaborn as sns\n",
    "import matplotlib.pyplot as plt\n",
    "from matplotlib.ticker import FuncFormatter\n",
    "\n",
    "# BackTrader\n",
    "import backtrader as bt\n",
    "from backtrader.feeds import PandasData"
   ]
  },
  {
   "cell_type": "code",
   "execution_count": 5,
   "id": "7e48e623-1f20-43ee-b228-d374a50772e3",
   "metadata": {},
   "outputs": [],
   "source": [
    "%matplotlib inline"
   ]
  },
  {
   "cell_type": "code",
   "execution_count": 7,
   "id": "1b75614a-cdf6-4463-9a77-056b9da9ee1e",
   "metadata": {},
   "outputs": [],
   "source": [
    "np.random.seed(42)\n",
    "\n",
    "sns.set_style('whitegrid')\n",
    "\n",
    "warnings.filterwarnings('ignore')\n",
    "\n",
    "pd.set_option('display.expand_frame_repr', False)"
   ]
  },
  {
   "cell_type": "code",
   "execution_count": 8,
   "id": "9db6e412-689a-4b7a-94c9-395e14c63caa",
   "metadata": {},
   "outputs": [],
   "source": [
    "def format_time(t):\n",
    "    m_, s = divmod(t, 60)\n",
    "    h, m = divmod(m_, 60)\n",
    "    return f'{h:>02.0f}:{m:>02.0f}:{s:>02.0f}'"
   ]
  },
  {
   "cell_type": "markdown",
   "id": "282bf470-4aee-4d0e-a52e-0400db30a6e3",
   "metadata": {},
   "source": [
    "### Backtrader Setup\n",
    "\n",
    "#### Custom Commission Scheme"
   ]
  },
  {
   "cell_type": "code",
   "execution_count": 9,
   "id": "3245588a-6dd6-40b2-b962-520d931bdc5f",
   "metadata": {},
   "outputs": [],
   "source": [
    "class FixedCommisionScheme(bt.CommInfoBase):\n",
    "    \"\"\"\n",
    "    Simple fixed commission scheme for demo\n",
    "    \"\"\"\n",
    "    params = (\n",
    "        ('commission', .02),\n",
    "        ('stocklike', True),\n",
    "        ('commtype', bt.CommInfoBase.COMM_FIXED),\n",
    "    )\n",
    "\n",
    "    def _getcommission(self, size, price, pseudoexec):\n",
    "        return abs(size) * self.p.commission"
   ]
  },
  {
   "cell_type": "markdown",
   "id": "f06b6d04-d77f-4854-923f-6695272a48c7",
   "metadata": {},
   "source": [
    "#### DataFrame Loader"
   ]
  },
  {
   "cell_type": "code",
   "execution_count": 10,
   "id": "551057b9-682f-487d-aada-15cb2202eeeb",
   "metadata": {},
   "outputs": [],
   "source": [
    "OHLCV = ['open', 'high', 'low', 'close', 'volume']"
   ]
  },
  {
   "cell_type": "code",
   "execution_count": 11,
   "id": "6cee4829-2658-431b-881c-93680eca6cdd",
   "metadata": {},
   "outputs": [],
   "source": [
    "class SignalData(PandasData):\n",
    "    \"\"\"\n",
    "    Define pandas DataFrame structure\n",
    "    \"\"\"\n",
    "    cols = OHLCV + ['predicted']\n",
    "\n",
    "    # create lines\n",
    "    lines = tuple(cols)\n",
    "\n",
    "    # define parameters\n",
    "    params = {c: -1 for c in cols}\n",
    "    params.update({'datetime': None})\n",
    "    params = tuple(params.items())"
   ]
  },
  {
   "cell_type": "markdown",
   "id": "aafff851-a319-4d00-878a-58f8518ae339",
   "metadata": {},
   "source": [
    "#### Strategy"
   ]
  },
  {
   "cell_type": "code",
   "execution_count": 12,
   "id": "80beb403-ad43-4f4d-af69-05cbd64e16b1",
   "metadata": {},
   "outputs": [],
   "source": [
    "class MLStrategy(bt.Strategy):\n",
    "    params = (('n_positions', 10),\n",
    "              ('min_positions', 5),\n",
    "              ('verbose', False),\n",
    "              ('log_file', 'backtest.csv'))\n",
    "\n",
    "    def log(self, txt, dt=None):\n",
    "        \"\"\" Logger for the strategy\"\"\"\n",
    "        dt = dt or self.datas[0].datetime.datetime(0)\n",
    "        with Path(self.p.log_file).open('a') as f:\n",
    "            log_writer = csv.writer(f)\n",
    "            log_writer.writerow([dt.isoformat()] + txt.split(','))\n",
    "\n",
    "    def notify_order(self, order):\n",
    "        if order.status in [order.Submitted, order.Accepted]:\n",
    "            return\n",
    "\n",
    "        # Check if an order has been completed\n",
    "        # broker could reject order if not enough cash\n",
    "        if self.p.verbose:\n",
    "            if order.status in [order.Completed]:\n",
    "                p = order.executed.price\n",
    "                if order.isbuy():\n",
    "                    self.log(f'{order.data._name},BUY executed,{p:.2f}')\n",
    "                elif order.issell():\n",
    "                    self.log(f'{order.data._name},SELL executed,{p:.2f}')\n",
    "\n",
    "            elif order.status in [order.Canceled, order.Margin, order.Rejected]:\n",
    "                self.log(f'{order.data._name},Order Canceled/Margin/Rejected')\n",
    "\n",
    "    # bt calls prenext instead of next unless\n",
    "    # all datafeeds have current values\n",
    "    # => call next to avoid duplicating logic\n",
    "    def prenext(self):\n",
    "        self.next()\n",
    "\n",
    "    def next(self):\n",
    "        today = self.datas[0].datetime.date()\n",
    "#         if today.weekday() not in [0, 3]: # only trade on Mondays;\n",
    "#             return\n",
    "        positions = [d._name for d, pos in self.getpositions().items() if pos]\n",
    "        up, down = {}, {}\n",
    "        missing = not_missing = 0\n",
    "        for data in self.datas:\n",
    "            if data.datetime.date() == today:\n",
    "                if data.predicted[0] > 0:\n",
    "                    up[data._name] = data.predicted[0]\n",
    "                elif data.predicted[0] < 0:\n",
    "                    down[data._name] = data.predicted[0]\n",
    "\n",
    "        # sort dictionaries ascending/descending by value\n",
    "        # returns list of tuples\n",
    "        shorts = sorted(down, key=down.get)[:self.p.n_positions]\n",
    "        longs = sorted(up, key=up.get, reverse=True)[:self.p.n_positions]\n",
    "        n_shorts, n_longs = len(shorts), len(longs)\n",
    "        \n",
    "        # only take positions if at least min_n longs and shorts\n",
    "        if n_shorts < self.p.min_positions or n_longs < self.p.min_positions:\n",
    "            longs, shorts = [], []\n",
    "        for ticker in positions:\n",
    "            if ticker not in longs + shorts:\n",
    "                self.order_target_percent(data=ticker, target=0)\n",
    "                self.log(f'{ticker},CLOSING ORDER CREATED')\n",
    "\n",
    "        short_target = -1 / max(self.p.n_positions, n_shorts)\n",
    "        long_target = 1 / max(self.p.n_positions, n_longs)\n",
    "        for ticker in shorts:\n",
    "            self.order_target_percent(data=ticker, target=short_target)\n",
    "            self.log('{ticker},SHORT ORDER CREATED')\n",
    "        for ticker in longs:\n",
    "            self.order_target_percent(data=ticker, target=long_target)\n",
    "            self.log('{ticker},LONG ORDER CREATED')"
   ]
  },
  {
   "cell_type": "markdown",
   "id": "6c64f56d-57be-4a84-bbd1-8b2a9810c2b4",
   "metadata": {},
   "source": [
    "#### Creating & Configuring `Cerebro` Instance"
   ]
  },
  {
   "cell_type": "code",
   "execution_count": 13,
   "id": "b9aa7a22-67a6-4b0f-b1ee-f3d59fdedf5d",
   "metadata": {},
   "outputs": [],
   "source": [
    "cerebro = bt.Cerebro()  \n",
    "cash = 10000\n",
    "# comminfo = FixedCommisionScheme()\n",
    "# cerebro.broker.addcommissioninfo(comminfo)\n",
    "cerebro.broker.setcash(cash)"
   ]
  },
  {
   "cell_type": "markdown",
   "id": "f261f115-0a8e-4422-8b95-40fd1a28e585",
   "metadata": {},
   "source": [
    "#### Adding Input Data"
   ]
  },
  {
   "cell_type": "code",
   "execution_count": 15,
   "id": "9bf994cf-6eec-44c8-aac3-93a11c6aa075",
   "metadata": {},
   "outputs": [],
   "source": [
    "idx = pd.IndexSlice\n",
    "data = pd.read_hdf('00_data/backtest.h5', 'data').sort_index()\n",
    "tickers = data.index.get_level_values(0).unique()\n",
    "\n",
    "for ticker in tickers:\n",
    "    df = data.loc[idx[ticker, :], :].droplevel('ticker', axis=0)\n",
    "    df.index.name = 'datetime'\n",
    "    bt_data = SignalData(dataname=df)\n",
    "    cerebro.adddata(bt_data, name=ticker)"
   ]
  },
  {
   "cell_type": "markdown",
   "id": "0b59dc11-b039-476d-b253-6b194d26da71",
   "metadata": {},
   "source": [
    "#### Running Strategy Backtest"
   ]
  },
  {
   "cell_type": "code",
   "execution_count": 16,
   "id": "05891805-3b49-4316-890d-7dc431f438e3",
   "metadata": {},
   "outputs": [],
   "source": [
    "cerebro.addanalyzer(bt.analyzers.PyFolio, _name='pyfolio')\n",
    "cerebro.addstrategy(MLStrategy, n_positions=25, min_positions=20, \n",
    "                    verbose=True, log_file='bt_log.csv')\n",
    "start = time()\n",
    "results = cerebro.run()\n",
    "ending_value = cerebro.broker.getvalue()\n",
    "duration = time() - start\n",
    "\n",
    "print(f'Final Portfolio Value: {ending_value:,.2f}')\n",
    "print(f'Duration: {format_time(duration)}')"
   ]
  },
  {
   "cell_type": "markdown",
   "id": "fe1ff3a7-bf7b-491b-9b2a-5ad10c067d79",
   "metadata": {},
   "source": [
    "#### Plotting Result"
   ]
  },
  {
   "cell_type": "code",
   "execution_count": 17,
   "id": "d78cf092-cbd5-454c-9248-1d22fff65e74",
   "metadata": {},
   "outputs": [],
   "source": [
    "cerebro.plot() \n",
    "figure = cerebro.plot(style='candlebars')[0][0]\n",
    "figure.savefig(f'backtrader.png')"
   ]
  },
  {
   "cell_type": "markdown",
   "id": "7499962f-9313-4532-93ab-f6f01ce2914e",
   "metadata": {},
   "source": [
    "#### Getting `pyfolio` Inputs"
   ]
  },
  {
   "cell_type": "code",
   "execution_count": 18,
   "id": "052aca2e-0ac6-4b72-a68b-0a62856e0156",
   "metadata": {},
   "outputs": [],
   "source": [
    "# Prepare pyfolio Inputs\n",
    "pyfolio_analyzer = results[0].analyzers.getbyname('pyfolio')\n",
    "returns, positions, transactions, gross_lev = pyfolio_analyzer.get_pf_items()\n",
    "\n",
    "returns.to_hdf('backtrader.h5', 'returns')\n",
    "positions.to_hdf('backtrader.h5', 'positions')\n",
    "transactions.to_hdf('backtrader.h5', 'transactions/')\n",
    "gross_lev.to_hdf('backtrader.h5', 'gross_lev')"
   ]
  },
  {
   "cell_type": "markdown",
   "id": "fed9cb67-3c92-44a3-8e48-12bfe1d15547",
   "metadata": {},
   "source": [
    "### Running `pyfolio` Analysis"
   ]
  },
  {
   "cell_type": "code",
   "execution_count": 19,
   "id": "9c1bf2b8-bfc9-4a23-ae39-926bc14bb6d0",
   "metadata": {},
   "outputs": [],
   "source": [
    "returns = pd.read_hdf('backtrader.h5', 'returns')\n",
    "positions = pd.read_hdf('backtrader.h5', 'positions')\n",
    "transactions = pd.read_hdf('backtrader.h5', 'transactions/')\n",
    "gross_lev = pd.read_hdf('backtrader.h5', 'gross_lev')"
   ]
  },
  {
   "cell_type": "code",
   "execution_count": 20,
   "id": "95d63503-6be3-4937-9b88-259fbf2fb8fa",
   "metadata": {},
   "outputs": [],
   "source": [
    "benchmark = web.DataReader('SP500', 'fred', '2014', '2018').squeeze()\n",
    "\n",
    "benchmark = benchmark.pct_change().tz_localize('UTC')"
   ]
  },
  {
   "cell_type": "code",
   "execution_count": 21,
   "id": "8d67ba7e-c82e-44f2-bd15-e5dce8da3c1e",
   "metadata": {},
   "outputs": [],
   "source": [
    "daily_tx = transactions.groupby(level=0)\n",
    "\n",
    "longs = daily_tx.value.apply(lambda x: x.where(x>0).sum())\n",
    "shorts = daily_tx.value.apply(lambda x: x.where(x<0).sum())"
   ]
  },
  {
   "cell_type": "code",
   "execution_count": 22,
   "id": "dc460016-129a-402c-b02f-f2abc04c7ba6",
   "metadata": {},
   "outputs": [],
   "source": [
    "fig, axes = plt.subplots(ncols=2, figsize=(15, 5))\n",
    "\n",
    "df = returns.to_frame('Strategy').join(benchmark.to_frame('Benchmark (S&P 500)'))\n",
    "df.add(1).cumprod().sub(1).plot(ax=axes[0], title='Cumulative Return')\n",
    "\n",
    "longs.plot(label='Long',ax=axes[1], title='Positions')\n",
    "shorts.plot(ax=axes[1], label='Short')\n",
    "positions.cash.plot(ax=axes[1], label='PF Value')\n",
    "axes[1].legend()\n",
    "sns.despine()\n",
    "fig.tight_layout();"
   ]
  },
  {
   "cell_type": "code",
   "execution_count": 23,
   "id": "c2283009-47f6-4388-865e-aa6d2eadc6b5",
   "metadata": {},
   "outputs": [],
   "source": [
    "pf.create_full_tear_sheet(returns,\n",
    "                          transactions=transactions,\n",
    "                          positions=positions,\n",
    "                          benchmark_rets=benchmark.dropna())"
   ]
  },
  {
   "cell_type": "code",
   "execution_count": null,
   "id": "006c1066-058a-4c71-b176-19b2c9c3b314",
   "metadata": {},
   "outputs": [],
   "source": []
  }
 ],
 "metadata": {
  "kernelspec": {
   "display_name": "Python 3 (ipykernel)",
   "language": "python",
   "name": "python3"
  },
  "language_info": {
   "codemirror_mode": {
    "name": "ipython",
    "version": 3
   },
   "file_extension": ".py",
   "mimetype": "text/x-python",
   "name": "python",
   "nbconvert_exporter": "python",
   "pygments_lexer": "ipython3",
   "version": "3.12.9"
  }
 },
 "nbformat": 4,
 "nbformat_minor": 5
}
