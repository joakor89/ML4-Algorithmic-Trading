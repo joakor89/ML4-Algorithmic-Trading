{
 "cells": [
  {
   "cell_type": "markdown",
   "id": "73797897-89a9-40f4-b5af-b98def45f9d3",
   "metadata": {},
   "source": [
    "# Vectorized Backtest\n",
    "\n",
    "### Loading Libraries"
   ]
  },
  {
   "cell_type": "code",
   "execution_count": 1,
   "id": "f0bbc756-05f1-42b0-8cdd-7c73d8765d54",
   "metadata": {},
   "outputs": [],
   "source": [
    "# Numerical Computing\n",
    "import numpy as np\n",
    "\n",
    "# Data Manipulation\n",
    "import pandas as pd\n",
    "import pandas_datareader.data as web\n",
    "\n",
    "# Path\n",
    "from pathlib import Path\n",
    "\n",
    "# Data & Time\n",
    "import datetime\n",
    "from time import time\n",
    "\n",
    "# Warnings\n",
    "import warnings\n",
    "\n",
    "# SciPy\n",
    "from scipy.stats import spearmanr\n",
    "\n",
    "# Data Visualization\n",
    "import seaborn as sns\n",
    "import matplotlib.pyplot as plt\n",
    "from matplotlib.ticker import FuncFormatter"
   ]
  },
  {
   "cell_type": "code",
   "execution_count": 2,
   "id": "8ec864b5-5fbb-448e-aee7-1a654ecbccab",
   "metadata": {},
   "outputs": [],
   "source": [
    "np.random.seed(42)\n",
    "\n",
    "sns.set_style('whitegrid')\n",
    "\n",
    "warnings.filterwarnings('ignore')"
   ]
  },
  {
   "cell_type": "markdown",
   "id": "2bb0bc33-a438-4037-a072-88a8bc57c5ef",
   "metadata": {},
   "source": [
    "### Loading Data\n",
    "\n",
    "#### Return Predictions"
   ]
  },
  {
   "cell_type": "code",
   "execution_count": 3,
   "id": "2c5128e4-49ce-4184-9837-4f7989ae1679",
   "metadata": {},
   "outputs": [],
   "source": [
    "DATA_DIR = Path('..', 'data')"
   ]
  },
  {
   "cell_type": "code",
   "execution_count": 4,
   "id": "3c83ee06-4125-49e2-b314-ff1cd3665576",
   "metadata": {},
   "outputs": [],
   "source": [
    "data = pd.read_hdf('00_data/backtest.h5', 'data')\n",
    "data.info()"
   ]
  },
  {
   "cell_type": "markdown",
   "id": "e4f0f874-3d5d-461e-92b2-b7c49c1a90d6",
   "metadata": {},
   "source": [
    "#### SP500 Benchmark"
   ]
  },
  {
   "cell_type": "code",
   "execution_count": 5,
   "id": "7d077ec5-6101-4829-b890-6f7c06b2880a",
   "metadata": {},
   "outputs": [],
   "source": [
    "sp500 = web.DataReader('SP500', 'fred', '2014', '2018').pct_change()"
   ]
  },
  {
   "cell_type": "code",
   "execution_count": 6,
   "id": "5470b536-98cf-413f-b590-23c285bb2e25",
   "metadata": {},
   "outputs": [],
   "source": [
    "sp500.info()"
   ]
  },
  {
   "cell_type": "markdown",
   "id": "07f1c713-d5c8-493c-a6f2-fa841e056a67",
   "metadata": {},
   "source": [
    "### Computing Forward Returns"
   ]
  },
  {
   "cell_type": "code",
   "execution_count": 8,
   "id": "d4c153f5-c93d-4c40-8207-6920356f2108",
   "metadata": {},
   "outputs": [],
   "source": [
    "daily_returns = data.open.unstack('ticker').sort_index().pct_change()\n",
    "\n",
    "daily_returns.info()"
   ]
  },
  {
   "cell_type": "code",
   "execution_count": 9,
   "id": "3cd16248-36ec-4994-adce-0f61235a61a0",
   "metadata": {},
   "outputs": [],
   "source": [
    "fwd_returns = daily_returns.shift(-1)"
   ]
  },
  {
   "cell_type": "markdown",
   "id": "9e75f4e0-eda6-4246-9c56-03c09206f4ff",
   "metadata": {},
   "source": [
    "### Generating Signals"
   ]
  },
  {
   "cell_type": "code",
   "execution_count": 10,
   "id": "c1a40477-1401-49c8-a8b9-06a957dc2792",
   "metadata": {},
   "outputs": [],
   "source": [
    "predictions = data.predicted.unstack('ticker')\n",
    "\n",
    "predictions.info()"
   ]
  },
  {
   "cell_type": "code",
   "execution_count": 11,
   "id": "9fa0288d-33fa-4100-b87f-fadc215a04ba",
   "metadata": {},
   "outputs": [],
   "source": [
    "N_LONG = N_SHORT = 15"
   ]
  },
  {
   "cell_type": "code",
   "execution_count": 12,
   "id": "3bbe4420-e6e2-4265-96e3-7a970896dbbe",
   "metadata": {},
   "outputs": [],
   "source": [
    "long_signals = ((predictions\n",
    "                .where(predictions > 0)\n",
    "                .rank(axis=1, ascending=False) > N_LONG)\n",
    "                .astype(int))\n",
    "\n",
    "short_signals = ((predictions\n",
    "                  .where(predictions < 0)\n",
    "                  .rank(axis=1) > N_SHORT)\n",
    "                 .astype(int))"
   ]
  },
  {
   "cell_type": "markdown",
   "id": "be298955-c3cc-4e11-90e0-c22f28e5cf82",
   "metadata": {},
   "source": [
    "### Computing Portfolio Returns"
   ]
  },
  {
   "cell_type": "code",
   "execution_count": 13,
   "id": "75ad8fa8-da61-4d20-b2cf-e5c43112f92f",
   "metadata": {},
   "outputs": [],
   "source": [
    "long_returns = long_signals.mul(fwd_returns).mean(axis=1)\n",
    "\n",
    "short_returns = short_signals.mul(-fwd_returns).mean(axis=1)\n",
    "\n",
    "strategy = long_returns.add(short_returns).to_frame('Strategy')"
   ]
  },
  {
   "cell_type": "markdown",
   "id": "3f0407c1-360e-439f-9b46-6cfb45f30735",
   "metadata": {},
   "source": [
    "### Plotting Results"
   ]
  },
  {
   "cell_type": "code",
   "execution_count": 14,
   "id": "6e6481ce-2b79-4949-bba9-e9ab0a504204",
   "metadata": {},
   "outputs": [],
   "source": [
    "fig, axes = plt.subplots(ncols=2, figsize=(14,5))\n",
    "strategy.join(sp500).add(1).cumprod().sub(1).plot(ax=axes[0], title='Cumulative Return')\n",
    "\n",
    "sns.distplot(strategy.dropna(), ax=axes[1], hist=False, label='Strategy')\n",
    "sns.distplot(sp500, ax=axes[1], hist=False, label='SP500')\n",
    "\n",
    "axes[1].set_title('Daily Standard Deviation')\n",
    "axes[0].yaxis.set_major_formatter(FuncFormatter(lambda y, _: '{:.0%}'.format(y))) \n",
    "axes[1].xaxis.set_major_formatter(FuncFormatter(lambda y, _: '{:.0%}'.format(y))) \n",
    "sns.despine()\n",
    "fig.tight_layout();"
   ]
  },
  {
   "cell_type": "code",
   "execution_count": 15,
   "id": "1e589982-fa3c-40dd-af51-3d0e59b18c5a",
   "metadata": {},
   "outputs": [],
   "source": [
    "res = strategy.join(sp500).dropna()"
   ]
  },
  {
   "cell_type": "code",
   "execution_count": 16,
   "id": "8dc9adaf-c7fb-4067-995e-6c0177ff88f3",
   "metadata": {},
   "outputs": [],
   "source": [
    "res.std()"
   ]
  },
  {
   "cell_type": "code",
   "execution_count": 17,
   "id": "62a4d063-386b-4f38-be3b-fd5079f0e790",
   "metadata": {},
   "outputs": [],
   "source": [
    "res.corr()"
   ]
  },
  {
   "cell_type": "code",
   "execution_count": null,
   "id": "08e4e005-1c2c-45f6-89c7-a1d7ec716b4d",
   "metadata": {},
   "outputs": [],
   "source": []
  }
 ],
 "metadata": {
  "kernelspec": {
   "display_name": "Python 3 (ipykernel)",
   "language": "python",
   "name": "python3"
  },
  "language_info": {
   "codemirror_mode": {
    "name": "ipython",
    "version": 3
   },
   "file_extension": ".py",
   "mimetype": "text/x-python",
   "name": "python",
   "nbconvert_exporter": "python",
   "pygments_lexer": "ipython3",
   "version": "3.12.9"
  }
 },
 "nbformat": 4,
 "nbformat_minor": 5
}
