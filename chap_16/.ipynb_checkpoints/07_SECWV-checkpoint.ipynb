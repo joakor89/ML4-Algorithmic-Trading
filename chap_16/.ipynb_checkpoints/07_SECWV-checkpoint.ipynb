{
 "cells": [
  {
   "cell_type": "markdown",
   "id": "8383a572-c693-4d04-9ed8-2059a92256bd",
   "metadata": {},
   "source": [
    "# Word Vectors from SEC Filings using Gensim: `Word2vec Model`\n",
    "\n",
    "### Loading Libraries"
   ]
  },
  {
   "cell_type": "code",
   "execution_count": 1,
   "id": "07ee043d-1f5c-46ba-851f-f52c9dca0e80",
   "metadata": {},
   "outputs": [],
   "source": [
    "# Numerical Computing\n",
    "import numpy as np\n",
    "\n",
    "# Data Manipulation\n",
    "import pandas as pd\n",
    "\n",
    "# Warnings\n",
    "import warnings\n",
    "\n",
    "# Data Visualizaion\n",
    "import seaborn as sns\n",
    "import matplotlib.pyplot as plt\n",
    "from matplotlib.ticker import FuncFormatter\n",
    "\n",
    "# Path. Time & Collection\n",
    "import logging\n",
    "from time import time\n",
    "from pathlib import Path\n",
    "from collections import Counter\n",
    "from dateutil.relativedelta import relativedelta\n",
    "\n",
    "# Gensim\n",
    "from gensim.models import Word2Vec, KeyedVectors\n",
    "from gensim.models.word2vec import LineSentence"
   ]
  },
  {
   "cell_type": "code",
   "execution_count": 2,
   "id": "e90927ce-7711-4709-ab4b-3188c64af584",
   "metadata": {},
   "outputs": [],
   "source": [
    "np.random.seed(42)\n",
    "\n",
    "sns.set_style('white')\n",
    "\n",
    "warnings.filterwarnings('ignore')"
   ]
  },
  {
   "cell_type": "code",
   "execution_count": 3,
   "id": "431d04c0-ee1f-4932-90d1-5cae1514b975",
   "metadata": {},
   "outputs": [],
   "source": [
    "def format_time(t):\n",
    "    m, s = divmod(t, 60)\n",
    "    h, m = divmod(m, 60)\n",
    "    return f'{h:02.0f}:{m:02.0f}:{s:02.0f}'"
   ]
  },
  {
   "cell_type": "markdown",
   "id": "6c87a4f8-565a-45aa-8ddc-a9ddbe092f12",
   "metadata": {},
   "source": [
    "#### Path"
   ]
  },
  {
   "cell_type": "code",
   "execution_count": 4,
   "id": "ad8d80db-63ff-4698-81b4-38180dcd17a6",
   "metadata": {},
   "outputs": [],
   "source": [
    "sec_path = Path('..', 'data', 'sec-filings')\n",
    "\n",
    "ngram_path = sec_path / 'ngrams'"
   ]
  },
  {
   "cell_type": "code",
   "execution_count": 5,
   "id": "2623994b-75b6-4d17-8d6e-5b15244277d2",
   "metadata": {},
   "outputs": [],
   "source": [
    "results_path = Path('results', 'sec-filings')\n",
    "\n",
    "model_path = results_path / 'models'\n",
    "if not model_path.exists():\n",
    "    model_path.mkdir(parents=True)\n",
    "\n",
    "log_path = results_path / 'logs'\n",
    "if not log_path.exists():\n",
    "    log_path.mkdir(parents=True)"
   ]
  },
  {
   "cell_type": "markdown",
   "id": "7aa3db2f-100d-4411-a9c8-d877be30385d",
   "metadata": {},
   "source": [
    "#### Logging Setup"
   ]
  },
  {
   "cell_type": "code",
   "execution_count": 7,
   "id": "62b6b7f1-330c-4151-9828-efb59a37a749",
   "metadata": {},
   "outputs": [],
   "source": [
    "logging.basicConfig(\n",
    "    filename=log_path / 'word2vec.log',\n",
    "    level=logging.DEBUG,\n",
    "    format='%(asctime)s - %(name)s - %(levelname)s - %(message)s',\n",
    "    datefmt='%H:%M:%S')"
   ]
  },
  {
   "cell_type": "markdown",
   "id": "7716db1c-2164-4644-9605-98947790c06a",
   "metadata": {},
   "source": [
    "### word2vec"
   ]
  },
  {
   "cell_type": "code",
   "execution_count": 8,
   "id": "f3aa42bb-2b77-441b-876f-8cc739baaddc",
   "metadata": {},
   "outputs": [],
   "source": [
    "analogies_path = Path('data', 'analogies-en.txt')"
   ]
  },
  {
   "cell_type": "markdown",
   "id": "fc437b91-6743-4200-9f74-e6accceb8725",
   "metadata": {},
   "source": [
    "#### Setting-Up Sentence Generator"
   ]
  },
  {
   "cell_type": "code",
   "execution_count": 9,
   "id": "4d508221-4a7f-4824-8f20-7c6704ae698c",
   "metadata": {},
   "outputs": [],
   "source": [
    "NGRAMS = 2"
   ]
  },
  {
   "cell_type": "code",
   "execution_count": 11,
   "id": "f20bca70-f746-457d-bcfc-18dc14eb6595",
   "metadata": {},
   "outputs": [],
   "source": [
    "sentence_path = ngram_path  / f'ngrams_{NGRAMS}.txt'\n",
    "\n",
    "sentences = LineSentence(sentence_path)"
   ]
  },
  {
   "cell_type": "markdown",
   "id": "1a61e786-1cf3-4597-824e-e8173cf6f904",
   "metadata": {},
   "source": [
    "### Training word2vec Model"
   ]
  },
  {
   "cell_type": "code",
   "execution_count": 13,
   "id": "f7b951b0-798e-44c7-8a7a-aa690ce961d4",
   "metadata": {},
   "outputs": [],
   "source": [
    "start = time()\n",
    "\n",
    "model = Word2Vec(sentences,\n",
    "                 sg=1,          \n",
    "                 hs=0,          \n",
    "                 size=300,      \n",
    "                 window=5,      \n",
    "                 min_count=50,  \n",
    "                 negative=15,   \n",
    "                 workers=4,     \n",
    "                 iter=1,        \n",
    "                 alpha=0.05,   \n",
    "                 min_alpha=0.0001 \n",
    "                ) \n",
    "print('Duration:', format_time(time() - start))"
   ]
  },
  {
   "cell_type": "markdown",
   "id": "f569377f-974b-406c-ac15-194b22cbed6d",
   "metadata": {},
   "source": [
    "#### Persisting Model & Vectors"
   ]
  },
  {
   "cell_type": "code",
   "execution_count": 14,
   "id": "082e8b9a-31ad-40f8-8b8d-de622b13f32a",
   "metadata": {},
   "outputs": [],
   "source": [
    "model.save((model_path / 'word2vec_0.model').as_posix())\n",
    "\n",
    "model.wv.save((model_path / 'word_vectors_0.bin').as_posix())"
   ]
  },
  {
   "cell_type": "code",
   "execution_count": 15,
   "id": "a22d59e1-2fe5-43f3-9d72-69209cb9830c",
   "metadata": {},
   "outputs": [],
   "source": [
    "model = Word2Vec.load((model_path / 'word2vec_0.model').as_posix())"
   ]
  },
  {
   "cell_type": "code",
   "execution_count": 16,
   "id": "6801caec-fd44-4cf5-b52a-85943ada93bb",
   "metadata": {},
   "outputs": [],
   "source": [
    "wv = KeyedVectors.load((model_path / 'word_vectors_0.bin').as_posix())"
   ]
  },
  {
   "cell_type": "markdown",
   "id": "30105ec9-3762-4f6f-bbdf-97d6ed9f2e4c",
   "metadata": {},
   "source": [
    "### Getting Vocabulary"
   ]
  },
  {
   "cell_type": "code",
   "execution_count": 17,
   "id": "c337a439-b74a-4852-b947-7cf0e2095727",
   "metadata": {},
   "outputs": [],
   "source": [
    "vocab = []\n",
    "\n",
    "for k, _ in model.wv.vocab.items():\n",
    "    v_ = model.wv.vocab[k]\n",
    "    vocab.append([k, v_.index, v_.count])"
   ]
  },
  {
   "cell_type": "code",
   "execution_count": 18,
   "id": "9139e46a-da20-4163-a81e-b58cc5caf59e",
   "metadata": {},
   "outputs": [],
   "source": [
    "vocab = (pd.DataFrame(vocab, \n",
    "                     columns=['token', 'idx', 'count'])\n",
    "         .sort_values('count', ascending=False))"
   ]
  },
  {
   "cell_type": "code",
   "execution_count": 19,
   "id": "538640d1-19f3-4731-9136-7c762a7f7130",
   "metadata": {},
   "outputs": [],
   "source": [
    "vocab.info()"
   ]
  },
  {
   "cell_type": "code",
   "execution_count": 20,
   "id": "e1a470f2-7a79-471e-9760-e2aa8aff181a",
   "metadata": {},
   "outputs": [],
   "source": [
    "vocab.head(10)"
   ]
  },
  {
   "cell_type": "code",
   "execution_count": 21,
   "id": "a95f7c60-c4b2-4ea1-81ad-2f3974411394",
   "metadata": {},
   "outputs": [],
   "source": [
    "vocab['count'].describe(percentiles=np.arange(.1, 1, .1)).astype(int)"
   ]
  },
  {
   "cell_type": "markdown",
   "id": "31b54288-6e41-466c-883b-5b41ce01fe18",
   "metadata": {},
   "source": [
    "### Evaluating Analogies"
   ]
  },
  {
   "cell_type": "code",
   "execution_count": 25,
   "id": "ae4231a0-9ed4-40a8-a75b-63f0575c8002",
   "metadata": {},
   "outputs": [],
   "source": [
    "def accuracy_by_category(acc, detail=True):\n",
    "    results = [[c['section'], len(c['correct']), len(c['incorrect'])] for c in acc]\n",
    "    results = pd.DataFrame(results, columns=['category', 'correct', 'incorrect'])\n",
    "    results['average'] = results.correct.div(results[['correct', 'incorrect']].sum(1))\n",
    "    if detail:\n",
    "        print(results.sort_values('average', ascending=False))\n",
    "    return results.loc[results.category=='total', ['correct', 'incorrect', 'average']].squeeze().tolist()"
   ]
  },
  {
   "cell_type": "code",
   "execution_count": 26,
   "id": "e7a7fa63-bbc1-4216-adf1-f6f5b073ee57",
   "metadata": {},
   "outputs": [],
   "source": [
    "detailed_accuracy = model.wv.accuracy(analogies_path.as_posix(), case_insensitive=True)"
   ]
  },
  {
   "cell_type": "code",
   "execution_count": 27,
   "id": "0f1364ae-3f7b-4ffc-96bc-36d7b6f25510",
   "metadata": {},
   "outputs": [],
   "source": [
    "summary = accuracy_by_category(detailed_accuracy)"
   ]
  },
  {
   "cell_type": "code",
   "execution_count": 28,
   "id": "80e0136a-1712-4cfd-bd27-1d25bb285060",
   "metadata": {},
   "outputs": [],
   "source": [
    "def eval_analogies(w2v, max_vocab=15000):\n",
    "    accuracy = w2v.wv.accuracy(analogies_path,\n",
    "                               restrict_vocab=15000,\n",
    "                               case_insensitive=True)\n",
    "    return (pd.DataFrame([[c['section'],\n",
    "                        len(c['correct']),\n",
    "                        len(c['incorrect'])] for c in accuracy],\n",
    "                      columns=['category', 'correct', 'incorrect'])\n",
    "          .assign(average=lambda x: \n",
    "                  x.correct.div(x.correct.add(x.incorrect))))  "
   ]
  },
  {
   "cell_type": "code",
   "execution_count": 29,
   "id": "d15fe5ed-e15c-4036-a320-3643049fba04",
   "metadata": {},
   "outputs": [],
   "source": [
    "def total_accuracy(w2v):\n",
    "    df = eval_analogies(w2v)\n",
    "    return df.loc[df.category == 'total', ['correct', 'incorrect', 'average']].squeeze().tolist()"
   ]
  },
  {
   "cell_type": "code",
   "execution_count": 30,
   "id": "6838bd72-dd98-4c94-9c6f-0902a25e739c",
   "metadata": {},
   "outputs": [],
   "source": [
    "accuracy = eval_analogies(model)\n",
    "accuracy"
   ]
  },
  {
   "cell_type": "markdown",
   "id": "ad814974-5937-405e-a8bf-293b34356839",
   "metadata": {},
   "source": [
    "### Validating Vector Arithmetic"
   ]
  },
  {
   "cell_type": "code",
   "execution_count": 31,
   "id": "52fa2b6a-5ddb-4485-9d99-77bc3478ff73",
   "metadata": {},
   "outputs": [],
   "source": [
    "sims=model.wv.most_similar(positive=['iphone'], restrict_vocab=15000)\n",
    "\n",
    "print(pd.DataFrame(sims, columns=['term', 'similarity']))"
   ]
  },
  {
   "cell_type": "code",
   "execution_count": 32,
   "id": "460225e7-b0e0-4594-a97e-16dded3bd449",
   "metadata": {},
   "outputs": [],
   "source": [
    "analogy = model.wv.most_similar(positive=['france', 'london'], \n",
    "                                negative=['paris'], \n",
    "                                restrict_vocab=15000)\n",
    "\n",
    "print(pd.DataFrame(analogy, columns=['term', 'similarity']))"
   ]
  },
  {
   "cell_type": "markdown",
   "id": "5fdc89b0-7bdc-4cd2-98e4-11fe2f779ee1",
   "metadata": {},
   "source": [
    "### Checking Similarity for Random Words"
   ]
  },
  {
   "cell_type": "code",
   "execution_count": 33,
   "id": "66416d1a-5fbb-4bd6-b829-1074c3bc06ef",
   "metadata": {},
   "outputs": [],
   "source": [
    "VALID_SET = 5  \n",
    "VALID_WINDOW = 100  \n",
    "\n",
    "valid_examples = np.random.choice(VALID_WINDOW, size=VALID_SET, replace=False)\n",
    "similars = pd.DataFrame()\n",
    "\n",
    "for id in sorted(valid_examples):\n",
    "    word = vocab.loc[id, 'token']\n",
    "    similars[word] = [s[0] for s in model.wv.most_similar(word)]\n",
    "similars"
   ]
  },
  {
   "cell_type": "markdown",
   "id": "c74bc2e0-29be-4a9c-aeb4-10e5f97323ed",
   "metadata": {},
   "source": [
    "### Keeping Training"
   ]
  },
  {
   "cell_type": "code",
   "execution_count": 34,
   "id": "28bdd0d7-c99d-41ea-96b1-5bc4e459924f",
   "metadata": {},
   "outputs": [],
   "source": [
    "accuracies = [summary]\n",
    "\n",
    "best_accuracy = summary[-1]\n",
    "\n",
    "for i in range(1, 15):\n",
    "    start = time()\n",
    "    model.train(sentences, epochs=1, total_examples=model.corpus_count)\n",
    "    detailed_accuracy = model.wv.accuracy(analogies_path)\n",
    "    accuracies.append(accuracy_by_category(detailed_accuracy, detail=False))\n",
    "    print(f'{i:02} | Duration: {format_time(time() - start)} | Accuracy: {accuracies[-1][-1]:.2%} ')\n",
    "    if accuracies[-1][-1] > best_accuracy:\n",
    "        model.save((model_path / f'word2vec_{i:02}.model').as_posix())\n",
    "        model.wv.save((model_path / f'word_vectors_{i:02}.bin').as_posix())\n",
    "        best_accuracy = accuracies[-1][-1]\n",
    "    (pd.DataFrame(accuracies, \n",
    "                 columns=['correct', 'wrong', 'average'])\n",
    "     .to_csv(model_path / 'accuracies.csv', index=False))\n",
    "\n",
    "model.wv.save((model_path / 'word_vectors_final.bin').as_posix())"
   ]
  },
  {
   "cell_type": "markdown",
   "id": "59553259-01f1-42b0-8999-b82fef795441",
   "metadata": {},
   "source": [
    "#### Sampling Output"
   ]
  },
  {
   "cell_type": "code",
   "execution_count": 35,
   "id": "4328f506-731d-4659-a1da-a7d5dab38ed1",
   "metadata": {},
   "outputs": [],
   "source": [
    "(pd.DataFrame(accuracies, \n",
    "             columns=['correct', 'wrong', 'average'])\n",
    " .to_csv(results_path / 'accuracies.csv', index=False))"
   ]
  },
  {
   "cell_type": "code",
   "execution_count": 36,
   "id": "1c363469-7e15-443f-8250-382d4eb5e3f2",
   "metadata": {},
   "outputs": [],
   "source": [
    "best_model = Word2Vec.load((results_path / 'word2vec_11.model').as_posix())"
   ]
  },
  {
   "cell_type": "code",
   "execution_count": 37,
   "id": "b760104d-38a4-4254-9b9e-f2cb724d498c",
   "metadata": {},
   "outputs": [],
   "source": [
    "detailed_accuracy = best_model.wv.accuracy(analogies_path.as_posix(), case_insensitive=True)"
   ]
  },
  {
   "cell_type": "code",
   "execution_count": 38,
   "id": "d6271a28-0a2d-404d-836a-88f2c3de441e",
   "metadata": {},
   "outputs": [],
   "source": [
    "summary = accuracy_by_category(detailed_accuracy)\n",
    "\n",
    "print('Base Accuracy: Correct {:,.0f} | Wrong {:,.0f} | Avg {:,.2%}\\n'.format(*summary))"
   ]
  },
  {
   "cell_type": "code",
   "execution_count": 39,
   "id": "f28f8c19-b671-496a-8234-b14ce25c6b1f",
   "metadata": {},
   "outputs": [],
   "source": [
    "cat_dict = {'capital-common-countries':'Capitals',\n",
    "            'capital-world':'Capitals RoW',\n",
    "            'city-in-state':'City-State',\n",
    "            'currency':'Currency',\n",
    "            'family':'Famliy',\n",
    "            'gram1-adjective-to-adverb':'Adj-Adverb',\n",
    "            'gram2-opposite':'Opposite',\n",
    "            'gram3-comparative':'Comparative',\n",
    "            'gram4-superlative':'Superlative',\n",
    "            'gram5-present-participle':'Pres. Part.',\n",
    "            'gram6-nationality-adjective':'Nationality',\n",
    "            'gram7-past-tense':'Past Tense',\n",
    "            'gram8-plural':'Plural',\n",
    "            'gram9-plural-verbs':'Plural Verbs',\n",
    "            'total':'Total'}"
   ]
  },
  {
   "cell_type": "code",
   "execution_count": 40,
   "id": "47031371-b245-485b-b665-8f639626cd77",
   "metadata": {},
   "outputs": [],
   "source": [
    "results = [[c['section'], len(c['correct']), len(c['incorrect'])] for c in detailed_accuracy]\n",
    "results = pd.DataFrame(results, columns=['category', 'correct', 'incorrect'])\n",
    "results['category'] = results.category.map(cat_dict)\n",
    "results['average'] = results.correct.div(results[['correct', 'incorrect']].sum(1))\n",
    "results = results.rename(columns=str.capitalize).set_index('Category')\n",
    "total = results.loc['Total']\n",
    "results = results.drop('Total')"
   ]
  },
  {
   "cell_type": "code",
   "execution_count": 41,
   "id": "2075a4c0-5c5e-4439-9a8f-3eaea96b32b2",
   "metadata": {},
   "outputs": [],
   "source": [
    "most_sim = best_model.wv.most_similar(positive=['woman', 'king'], negative=['man'], topn=20)\n",
    "pd.DataFrame(most_sim, columns=['token', 'similarity'])"
   ]
  },
  {
   "cell_type": "code",
   "execution_count": 42,
   "id": "24a5d6c2-1af1-42e8-8a21-2ecb46d58d0c",
   "metadata": {},
   "outputs": [],
   "source": [
    "fig, axes = plt.subplots(figsize=(16, 5), ncols=2)\n",
    "\n",
    "axes[0] = results.loc[:, ['Correct', 'Incorrect']].plot.bar(stacked=True, ax=axes[0]\n",
    "                                                           , title='Analogy Accuracy')\n",
    "ax1 = results.loc[:, ['Average']].plot(ax=axes[0], secondary_y=True, lw=1, c='k', rot=35)\n",
    "ax1.yaxis.set_major_formatter(FuncFormatter(lambda y, _: '{:.0%}'.format(y)))\n",
    "\n",
    "(pd.DataFrame(most_sim, columns=['token', 'similarity'])\n",
    " .set_index('token').similarity\n",
    " .sort_values().tail(10).plot.barh(xlim=(.3, .37), ax=axes[1], title='Closest matches for Woman + King - Man'))\n",
    "fig.tight_layout();\n",
    "plt.show()"
   ]
  },
  {
   "cell_type": "code",
   "execution_count": null,
   "id": "4ce67064-f1f1-4436-9541-218a234920be",
   "metadata": {},
   "outputs": [],
   "source": []
  }
 ],
 "metadata": {
  "kernelspec": {
   "display_name": "Python 3 (ipykernel)",
   "language": "python",
   "name": "python3"
  },
  "language_info": {
   "codemirror_mode": {
    "name": "ipython",
    "version": 3
   },
   "file_extension": ".py",
   "mimetype": "text/x-python",
   "name": "python",
   "nbconvert_exporter": "python",
   "pygments_lexer": "ipython3",
   "version": "3.12.9"
  }
 },
 "nbformat": 4,
 "nbformat_minor": 5
}
