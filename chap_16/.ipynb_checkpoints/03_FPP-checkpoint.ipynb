{
 "cells": [
  {
   "cell_type": "markdown",
   "id": "3515bff4-fe48-4238-9202-139b213a9abc",
   "metadata": {},
   "source": [
    "# Financial News - Preprocessing for word2vec\n",
    "\n",
    "### Loading Libraries"
   ]
  },
  {
   "cell_type": "code",
   "execution_count": 2,
   "id": "1e6559b9-fbe8-411e-b23c-f5035f83cad9",
   "metadata": {},
   "outputs": [],
   "source": [
    "# Numerical Computing\n",
    "import numpy as np\n",
    "from numpy.random import choice\n",
    "\n",
    "# Data Manipulation\n",
    "import pandas as pd\n",
    "\n",
    "# Data Visualization\n",
    "import seaborn as sns\n",
    "import matplotlib.pyplot as plt\n",
    "\n",
    "# Warnings\n",
    "import warnings\n",
    "\n",
    "# Time, Collection & Path\n",
    "from time import time\n",
    "from pathlib import Path\n",
    "from pprint import pprint\n",
    "import os, tarfile, sys, json\n",
    "from collections import Counter\n",
    "\n",
    "# SpaCy\n",
    "import spacy\n",
    "from spacy.lang.en import English\n",
    "\n",
    "# Gensim\n",
    "from gensim.models.word2vec import LineSentence\n",
    "from gensim.models.phrases import Phrases, Phraser"
   ]
  },
  {
   "cell_type": "code",
   "execution_count": 3,
   "id": "fa455a67-8e7c-4e85-a532-57f75a2374e2",
   "metadata": {},
   "outputs": [],
   "source": [
    "np.random.seed(42)\n",
    "\n",
    "sns.set_style('white')\n",
    "\n",
    "pd.set_option('float_format', '{:,.2f}'.format)"
   ]
  },
  {
   "cell_type": "code",
   "execution_count": 4,
   "id": "9797151f-6614-4bd6-adcf-e2ca981dd898",
   "metadata": {},
   "outputs": [],
   "source": [
    "def format_time(t):\n",
    "    m, s = divmod(t, 60)\n",
    "    h, m = divmod(m, 60)\n",
    "    return '{:02.0f}:{:02.0f}:{:02.0f}'.format(h, m, s)"
   ]
  },
  {
   "cell_type": "code",
   "execution_count": 6,
   "id": "7ec433c0-d4bd-46ea-a58b-636f5618d660",
   "metadata": {},
   "outputs": [],
   "source": [
    "stop_words = set(pd.read_csv('http://ir.dcs.gla.ac.uk/resources/linguistic_utils/stop_words',\n",
    "                             header=None,\n",
    "                             squeeze=True).tolist())"
   ]
  },
  {
   "cell_type": "markdown",
   "id": "7c576568-ad59-47a3-a429-5b8657962597",
   "metadata": {},
   "source": [
    "#### Paths"
   ]
  },
  {
   "cell_type": "code",
   "execution_count": 7,
   "id": "a6e36544-3b46-4a1a-a9bd-6b8380ef6788",
   "metadata": {},
   "outputs": [],
   "source": [
    "data_path = Path('..', 'data', 'us-financial-news')"
   ]
  },
  {
   "cell_type": "code",
   "execution_count": 9,
   "id": "62a580e0-0695-4ae8-8836-b4d56c518801",
   "metadata": {},
   "outputs": [],
   "source": [
    "results_path = Path('results', 'financial_news')\n",
    "\n",
    "if not results_path.exists():\n",
    "    results_path.mkdir(exist_ok=True)"
   ]
  },
  {
   "cell_type": "code",
   "execution_count": 10,
   "id": "ec22de75-7a39-4fad-872c-48e1a4a1769b",
   "metadata": {},
   "outputs": [],
   "source": [
    "article_path = results_path / 'articles.txt'\n",
    "\n",
    "clean_article_path = results_path / 'articles_clean.txt'"
   ]
  },
  {
   "cell_type": "markdown",
   "id": "30cdabfe-5e17-4719-b3fd-fc7fcea032e6",
   "metadata": {},
   "source": [
    "### Loading Data"
   ]
  },
  {
   "cell_type": "code",
   "execution_count": 11,
   "id": "d4741dd3-f3bd-4832-a294-9ad655f50e96",
   "metadata": {},
   "outputs": [],
   "source": [
    "section_titles = ['Press Releases - CNBC',\n",
    "                  'Reuters: Company News',\n",
    "                  'Reuters: World News',\n",
    "                  'Reuters: Business News',\n",
    "                  'Reuters: Financial Services and Real Estate',\n",
    "                  'Top News and Analysis (pro)',\n",
    "                  'Reuters: Top News',\n",
    "                  'The Wall Street Journal &amp; Breaking News, Business, Financial and Economic News, World News and Video',\n",
    "                  'Business &amp; Financial News, U.S &amp; International Breaking News | Reuters',\n",
    "                  'Reuters: Money News', 'Reuters: Technology News']"
   ]
  },
  {
   "cell_type": "code",
   "execution_count": 12,
   "id": "9fc56221-f2f7-442b-98ab-cf8858b2a81d",
   "metadata": {},
   "outputs": [],
   "source": [
    "articles = []\n",
    "\n",
    "counter = Counter()\n",
    "\n",
    "start = time()\n",
    "\n",
    "for f in fin_news_path.glob('*/**/*.json'):\n",
    "    article = json.load(f.open())\n",
    "    if article['thread']['section_title'] in set(section_titles):\n",
    "        text = article['text'].lower().split()\n",
    "        counter.update(text)\n",
    "        articles.append(' '.join([t for t in text if t not in stop_words]))\n",
    "\n",
    "print(f'Done loading {len(articles):,.0f} articles in {format_time(time()-start)}')"
   ]
  },
  {
   "cell_type": "code",
   "execution_count": 13,
   "id": "e1cbc1c4-7cf1-45b5-ad67-0a95cbefd2b5",
   "metadata": {},
   "outputs": [],
   "source": [
    "article_path.write_text('\\n'.join(articles))"
   ]
  },
  {
   "cell_type": "markdown",
   "id": "62f1aeca-761a-42dc-bd4e-6cdf00c84e61",
   "metadata": {},
   "source": [
    "### Cleaning Financial News Articles"
   ]
  },
  {
   "cell_type": "code",
   "execution_count": 14,
   "id": "7c07e922-29aa-45ad-a17a-a9deaeed7b24",
   "metadata": {},
   "outputs": [],
   "source": [
    "articles = article_path.read_text().split('\\n')\n",
    "\n",
    "len(articles)"
   ]
  },
  {
   "cell_type": "markdown",
   "id": "9371ec9d-fd17-424f-b7cc-fe255542172f",
   "metadata": {},
   "source": [
    "#### Sentence Boundary Detection"
   ]
  },
  {
   "cell_type": "code",
   "execution_count": 15,
   "id": "82f1796f-988f-411c-9722-ae3d302f6688",
   "metadata": {},
   "outputs": [],
   "source": [
    "def clean_doc(d):\n",
    "    doc = []\n",
    "    for sent in d.sents:\n",
    "        s = [t.text.lower() for t in sent if not\n",
    "        any([t.is_digit, not t.is_alpha, t.is_punct, t.is_space])]\n",
    "        if len(s) > 5 or len(sent) < 100:\n",
    "            doc.append(' '.join(s))\n",
    "    return doc"
   ]
  },
  {
   "cell_type": "code",
   "execution_count": 16,
   "id": "5714ea82-5c07-4402-a365-7f4d515760f4",
   "metadata": {},
   "outputs": [],
   "source": [
    "nlp = English()\n",
    "\n",
    "sentencizer = nlp.create_pipe(\"sentencizer\")\n",
    "nlp.add_pipe(sentencizer)"
   ]
  },
  {
   "cell_type": "code",
   "execution_count": 17,
   "id": "b5226da1-ba9f-42b1-84ef-870694e1286d",
   "metadata": {},
   "outputs": [],
   "source": [
    "clean_articles = []\n",
    "\n",
    "iter_articles = (article for article in articles)\n",
    "\n",
    "for i, doc in enumerate(nlp.pipe(iter_articles, batch_size=100, n_process=8), 1):\n",
    "    if i % int(len(articles) / 100) + 1 == 0:\n",
    "        print(f'{i / len(articles):.1%}', end=' ', flush=True)\n",
    "    clean_articles.extend(clean_doc(doc))"
   ]
  },
  {
   "cell_type": "code",
   "execution_count": 18,
   "id": "a0a9fa11-6996-445a-b27b-52fa953e2260",
   "metadata": {},
   "outputs": [],
   "source": [
    "clean_article_path.write_text('\\n'.join(clean_articles))"
   ]
  },
  {
   "cell_type": "markdown",
   "id": "c128616f-0f39-49b5-9fc6-78ae1848a3ab",
   "metadata": {},
   "source": [
    "### Corpus Stats"
   ]
  },
  {
   "cell_type": "code",
   "execution_count": 19,
   "id": "900977e6-a24c-4b53-b1b2-3608ae0ea471",
   "metadata": {},
   "outputs": [],
   "source": [
    "len(clean_articles)"
   ]
  },
  {
   "cell_type": "code",
   "execution_count": 20,
   "id": "c1262362-966c-4893-8675-3bdcdfc28fca",
   "metadata": {},
   "outputs": [],
   "source": [
    "vocab = Counter()\n",
    "\n",
    "sent_length = []\n",
    "\n",
    "for sentence in clean_articles:\n",
    "    tokens = sentence.lower().split()\n",
    "    sent_length.append(len(tokens))\n",
    "    vocab.update(tokens)"
   ]
  },
  {
   "cell_type": "code",
   "execution_count": 21,
   "id": "39b33008-4fe4-4193-b07b-c3202ac26a9b",
   "metadata": {},
   "outputs": [],
   "source": [
    "len(sent_length)"
   ]
  },
  {
   "cell_type": "code",
   "execution_count": 22,
   "id": "c3942c95-dd4b-49c0-b817-116ecdfe5f5a",
   "metadata": {},
   "outputs": [],
   "source": [
    "pd.Series(sent_length).describe(percentiles=np.arange(.1, 1, .1).round(1))"
   ]
  },
  {
   "cell_type": "code",
   "execution_count": 23,
   "id": "50a50368-5358-44d3-98f6-a09c2607a940",
   "metadata": {},
   "outputs": [],
   "source": [
    "most_common = (pd.DataFrame(vocab.most_common(), columns=['token', 'count'])\n",
    "               .pipe(lambda x: x[~x.token.str.lower().isin(stop_words)]))"
   ]
  },
  {
   "cell_type": "code",
   "execution_count": 24,
   "id": "ea5e69ad-7911-476b-824f-d6e38081ee3b",
   "metadata": {},
   "outputs": [],
   "source": [
    "most_common.head(25).set_index('token')['count'].sort_values().plot.barh(title='Most Common Tokens', figsize=(14, 6));\n",
    "plt.show()"
   ]
  },
  {
   "cell_type": "markdown",
   "id": "36213800-9977-438c-8ebb-b2a79ba42bb9",
   "metadata": {},
   "source": [
    "#### Inspecting Result"
   ]
  },
  {
   "cell_type": "code",
   "execution_count": 25,
   "id": "e2e3d73b-536a-4602-b0a8-4fdb7275c03e",
   "metadata": {},
   "outputs": [],
   "source": [
    "clean_articles[:3]"
   ]
  },
  {
   "cell_type": "markdown",
   "id": "6579e397-3fc0-4c51-a008-a558eecf4123",
   "metadata": {},
   "source": [
    "### Creating `n-grams`"
   ]
  },
  {
   "cell_type": "code",
   "execution_count": 26,
   "id": "96b3d556-2e53-41d8-a5e1-9b5955d987da",
   "metadata": {},
   "outputs": [],
   "source": [
    "max_length = 3"
   ]
  },
  {
   "cell_type": "code",
   "execution_count": 27,
   "id": "63c479b8-47db-4ae8-8cd1-dee52cbb03c8",
   "metadata": {},
   "outputs": [],
   "source": [
    "n_grams = pd.DataFrame()\n",
    "\n",
    "start = time()\n",
    "\n",
    "sentences = LineSentence(clean_article_path.as_posix())\n",
    "\n",
    "for n in range(2, max_length + 1):\n",
    "    print(n, end=' ')\n",
    "    if n>2:\n",
    "        sentences = LineSentence((results_path / f'articles_{n-1}_grams.txt').as_posix())\n",
    "    phrases = Phrases(sentences, threshold=100, min_count=10)\n",
    "\n",
    "    s = pd.Series({k.decode('utf-8'): v for k,\n",
    "                   v in phrases.export_phrases(sentences)}) \n",
    "    s = s.to_frame('score').reset_index().rename(\n",
    "        columns={'index': 'phrase'}).assign(length=n)\n",
    "\n",
    "    n_grams = pd.concat([n_grams, s])\n",
    "    grams = Phraser(phrases)\n",
    "    sentences = grams[sentences]\n",
    "\n",
    "    with (results_path / f'articles_{n}_grams.txt').open('w') as f:\n",
    "        for sentence in sentences:\n",
    "            f.write(' '.join(sentence) + '\\n')\n",
    "\n",
    "n_grams = n_grams.sort_values('score', ascending=False)\n",
    "n_grams.phrase = n_grams.phrase.str.replace('_', ' ')\n",
    "n_grams['ngram'] = n_grams.phrase.str.replace(' ', '_')\n",
    "\n",
    "print('\\n\\tDuration: ', format_time(time() - start))\n",
    "print(f'\\tngrams: {len(n_grams):,d}\\n')\n",
    "print(n_grams.groupby('length').size())"
   ]
  },
  {
   "cell_type": "code",
   "execution_count": 28,
   "id": "a50b674a-bf2a-4a8c-8c6a-ec4c61efe367",
   "metadata": {},
   "outputs": [],
   "source": [
    "n_grams.groupby('length').apply(lambda x: x.nlargest(10, 'score'))"
   ]
  },
  {
   "cell_type": "code",
   "execution_count": null,
   "id": "5dc39072-16c7-40e6-9352-7e7471cb94d4",
   "metadata": {},
   "outputs": [],
   "source": []
  }
 ],
 "metadata": {
  "kernelspec": {
   "display_name": "Python 3 (ipykernel)",
   "language": "python",
   "name": "python3"
  },
  "language_info": {
   "codemirror_mode": {
    "name": "ipython",
    "version": 3
   },
   "file_extension": ".py",
   "mimetype": "text/x-python",
   "name": "python",
   "nbconvert_exporter": "python",
   "pygments_lexer": "ipython3",
   "version": "3.12.9"
  }
 },
 "nbformat": 4,
 "nbformat_minor": 5
}
