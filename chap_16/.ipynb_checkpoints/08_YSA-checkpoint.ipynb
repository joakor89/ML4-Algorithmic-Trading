{
 "cells": [
  {
   "cell_type": "markdown",
   "id": "2ca8a3d6-4b95-4847-9c8f-98ddb5e191ba",
   "metadata": {},
   "source": [
    "# Yelp Sentiment Analysis with doc2vec Document Vectors\n",
    "\n",
    "### Loading Libraries"
   ]
  },
  {
   "cell_type": "code",
   "execution_count": 3,
   "id": "78afc5de-053b-455b-8d70-33b2e5e04c6a",
   "metadata": {},
   "outputs": [],
   "source": [
    "# Numerical Computing\n",
    "import numpy as np\n",
    "\n",
    "# Data Manipulation\n",
    "import pandas as pd\n",
    "\n",
    "# Warnings\n",
    "import warnings\n",
    "\n",
    "# Data Visualizaion\n",
    "import seaborn as sns\n",
    "import matplotlib.pyplot as plt\n",
    "\n",
    "# Natural Language Toolkit\n",
    "import nltk\n",
    "from nltk import RegexpTokenizer\n",
    "from nltk.corpus import stopwords\n",
    "\n",
    "# Path. Time & Collection\n",
    "import logging\n",
    "from time import time\n",
    "from pathlib import Path\n",
    "from collections import Counter\n",
    "from dateutil.relativedelta import relativedelta\n",
    "\n",
    "# Scikit-Learn\n",
    "from sklearn.utils import class_weight\n",
    "from sklearn.linear_model import LogisticRegression\n",
    "from sklearn.ensemble import RandomForestClassifier\n",
    "from sklearn.model_selection import train_test_split\n",
    "from sklearn.metrics import confusion_matrix, accuracy_score, roc_auc_score\n",
    "\n",
    "# Light Booster Model\n",
    "import lightgbm as lgb"
   ]
  },
  {
   "cell_type": "code",
   "execution_count": 4,
   "id": "3eeb3c05-2320-449d-9fcf-fe58eb5f4f23",
   "metadata": {},
   "outputs": [],
   "source": [
    "np.random.seed(42)\n",
    "\n",
    "sns.set_style('white')\n",
    "\n",
    "warnings.filterwarnings('ignore')\n",
    "\n",
    "pd.set_option('display.expand_frame_repr', False)"
   ]
  },
  {
   "cell_type": "code",
   "execution_count": 5,
   "id": "fcab0a51-1430-474e-b3bb-06f78f9ad6cc",
   "metadata": {},
   "outputs": [
    {
     "name": "stderr",
     "output_type": "stream",
     "text": [
      "[nltk_data] Downloading package stopwords to\n",
      "[nltk_data]     /Users/joaquinromero/nltk_data...\n",
      "[nltk_data]   Unzipping corpora/stopwords.zip.\n"
     ]
    },
    {
     "data": {
      "text/plain": [
       "True"
      ]
     },
     "execution_count": 5,
     "metadata": {},
     "output_type": "execute_result"
    }
   ],
   "source": [
    "nltk.download('stopwords')"
   ]
  },
  {
   "cell_type": "markdown",
   "id": "877af8a4-8e8f-4b27-9aa1-0f38fd338291",
   "metadata": {},
   "source": [
    "#### Path"
   ]
  },
  {
   "cell_type": "code",
   "execution_count": 6,
   "id": "652ba03b-55da-4e33-8a8a-b9447b9e90ae",
   "metadata": {},
   "outputs": [],
   "source": [
    "data_path = Path('..', 'data', 'yelp')"
   ]
  },
  {
   "cell_type": "code",
   "execution_count": 7,
   "id": "c744b09c-6b95-47a8-a5fb-d9c2256d4c09",
   "metadata": {},
   "outputs": [],
   "source": [
    "results_path = Path('results', 'yelp')\n",
    "\n",
    "if not results_path.exists():\n",
    "    results_path.mkdir(parents=True)"
   ]
  },
  {
   "cell_type": "markdown",
   "id": "fe645a00-6d61-4571-b489-def245e9406d",
   "metadata": {},
   "source": [
    "#### Logging Config"
   ]
  },
  {
   "cell_type": "code",
   "execution_count": 9,
   "id": "ac396d0c-937e-4bdf-97a6-90170bac7b74",
   "metadata": {},
   "outputs": [],
   "source": [
    "logging.basicConfig(\n",
    "        filename=results_path / 'doc2vec.log',\n",
    "        level=logging.DEBUG,\n",
    "        format='%(asctime)s - %(name)s - %(levelname)s - %(message)s',\n",
    "        datefmt='%H:%M:%S')"
   ]
  },
  {
   "cell_type": "markdown",
   "id": "9afeb34a-8dfc-4f0e-a366-a2429c1430a8",
   "metadata": {},
   "source": [
    "### Loading Data"
   ]
  },
  {
   "cell_type": "code",
   "execution_count": 11,
   "id": "2a89a381-122c-4a0a-8a4a-c15955239baf",
   "metadata": {},
   "outputs": [],
   "source": [
    "df = pd.read_parquet(data_path / 'user_reviews.parquet').loc[:, ['stars', 'text']]"
   ]
  },
  {
   "cell_type": "code",
   "execution_count": 12,
   "id": "77429bef-35e5-4e5a-8c97-4e783691da37",
   "metadata": {},
   "outputs": [],
   "source": [
    "df.info()"
   ]
  },
  {
   "cell_type": "code",
   "execution_count": 13,
   "id": "c90641b4-e910-4684-956e-afcedb43c1cc",
   "metadata": {},
   "outputs": [],
   "source": [
    "df.stars.value_counts()"
   ]
  },
  {
   "cell_type": "code",
   "execution_count": 14,
   "id": "55432806-cf2e-4409-b823-ac6e3742ce82",
   "metadata": {},
   "outputs": [],
   "source": [
    "stars = range(1, 6)"
   ]
  },
  {
   "cell_type": "code",
   "execution_count": 16,
   "id": "6cc2a764-ec5f-4aeb-b776-882ed180c90a",
   "metadata": {},
   "outputs": [],
   "source": [
    "sample = pd.concat([df[df.stars == s].sample(n=100000) for s in stars])"
   ]
  },
  {
   "cell_type": "code",
   "execution_count": 19,
   "id": "e7a04c09-b441-4283-a45f-fa24bf47d3f1",
   "metadata": {},
   "outputs": [],
   "source": [
    "sample.info()"
   ]
  },
  {
   "cell_type": "code",
   "execution_count": 20,
   "id": "3ffa78f8-d3bc-4a9c-8d34-d2acbb1ce1e7",
   "metadata": {},
   "outputs": [],
   "source": [
    "sample.stars.value_counts()"
   ]
  },
  {
   "cell_type": "code",
   "execution_count": 21,
   "id": "18c1219c-1098-4975-8a11-4cc53e66c01a",
   "metadata": {},
   "outputs": [],
   "source": [
    "sample.to_parquet(results_path / 'review_sample.parquet')"
   ]
  },
  {
   "cell_type": "code",
   "execution_count": 22,
   "id": "4db57b9c-b762-4620-838b-2de5fee21ab4",
   "metadata": {},
   "outputs": [],
   "source": [
    "sample = pd.read_parquet(results_path / 'review_sample.parquet').reset_index(drop=True)"
   ]
  },
  {
   "cell_type": "code",
   "execution_count": 23,
   "id": "4caf17bc-93d5-4c06-a99e-8022a3960f9e",
   "metadata": {},
   "outputs": [],
   "source": [
    "sample.head()"
   ]
  },
  {
   "cell_type": "code",
   "execution_count": 24,
   "id": "b24af22b-df26-4ec2-8dd0-1d07b4cec39f",
   "metadata": {},
   "outputs": [],
   "source": [
    "ax = sns.distplot(sample.text.str.split().str.len())\n",
    "ax.set_xlabel('# Tokens')\n",
    "sns.despine();\n",
    "plt.show()"
   ]
  },
  {
   "cell_type": "markdown",
   "id": "c344b51c-4968-4b53-a49b-9ac1570b460f",
   "metadata": {},
   "source": [
    "### Doc2Vec\n",
    "\n",
    "#### Basic Text Cleaning"
   ]
  },
  {
   "cell_type": "code",
   "execution_count": 25,
   "id": "a85d2069-b226-4b74-bcca-ebb74df98cd9",
   "metadata": {},
   "outputs": [],
   "source": [
    "tokenizer = RegexpTokenizer(r'\\w+')\n",
    "\n",
    "stopword_set = set(stopwords.words('english'))\n",
    "\n",
    "def clean(review):\n",
    "    tokens = tokenizer.tokenize(review)\n",
    "    return ' '.join([t for t in tokens if t not in stopword_set])"
   ]
  },
  {
   "cell_type": "code",
   "execution_count": 27,
   "id": "0fb24a03-1c1f-4e96-9b2a-653dbd30a365",
   "metadata": {},
   "outputs": [],
   "source": [
    "sample.text = sample.text.str.lower().apply(clean)"
   ]
  },
  {
   "cell_type": "code",
   "execution_count": 28,
   "id": "dd7d787a-f33b-4cdf-9479-0be5d3677c55",
   "metadata": {},
   "outputs": [],
   "source": [
    "sample.sample(n=10)"
   ]
  },
  {
   "cell_type": "code",
   "execution_count": 29,
   "id": "3910c101-64e8-44c1-a9f8-0fe5501be296",
   "metadata": {},
   "outputs": [],
   "source": [
    "sample = sample[sample.text.str.split().str.len()>10]\n",
    "\n",
    "sample.info()"
   ]
  },
  {
   "cell_type": "markdown",
   "id": "7098e9a4-39e9-4d8c-912d-26113403aa25",
   "metadata": {},
   "source": [
    "### Creating Sentence Stream"
   ]
  },
  {
   "cell_type": "code",
   "execution_count": 30,
   "id": "360a6fee-73f3-445f-8bb1-cebb6503f1e3",
   "metadata": {},
   "outputs": [],
   "source": [
    "sentences = []\n",
    "\n",
    "for i, (_, text) in enumerate(sample.values):\n",
    "    sentences.append(TaggedDocument(words=text.split(), tags=[i]))"
   ]
  },
  {
   "cell_type": "markdown",
   "id": "bc8def83-f7c0-4e89-8b5c-0f9c67954d88",
   "metadata": {},
   "source": [
    "#### Formulating The Model"
   ]
  },
  {
   "cell_type": "code",
   "execution_count": 31,
   "id": "11538890-c496-4b2e-baef-f6cae2655a52",
   "metadata": {},
   "outputs": [],
   "source": [
    "model = Doc2Vec(documents=sentences,\n",
    "                dm=1,           \n",
    "                epochs=5,\n",
    "                size=300,       \n",
    "                window=5,       \n",
    "                min_count=50,   \n",
    "                negative=5,     \n",
    "                dm_concat=0,    \n",
    "                dbow_words=0,   \n",
    "                workers=4)"
   ]
  },
  {
   "cell_type": "code",
   "execution_count": 32,
   "id": "ca5fc84b-b8a9-4412-81b7-b13ca5252eac",
   "metadata": {},
   "outputs": [],
   "source": [
    "pd.DataFrame(model.most_similar('good'), columns=['token', 'similarity'])"
   ]
  },
  {
   "cell_type": "markdown",
   "id": "ffd82b83-e283-4fcb-aca4-bcfffc5e5cec",
   "metadata": {},
   "source": [
    "#### Keeping Training"
   ]
  },
  {
   "cell_type": "code",
   "execution_count": 33,
   "id": "45ff83e3-9333-42e3-b040-28609a7a5041",
   "metadata": {},
   "outputs": [],
   "source": [
    "model.train(sentences, total_examples=model.corpus_count, epochs=model.epochs)"
   ]
  },
  {
   "cell_type": "code",
   "execution_count": 34,
   "id": "e1e050ed-63d4-48a7-a1bb-506897e44bb2",
   "metadata": {},
   "outputs": [],
   "source": [
    "most_similar = pd.DataFrame(model.most_similar('good'), columns=['token', 'similarity'])\n",
    "\n",
    "most_similar"
   ]
  },
  {
   "cell_type": "code",
   "execution_count": 35,
   "id": "d4b6a579-db0e-4cb8-893a-2052de1f49d1",
   "metadata": {},
   "outputs": [],
   "source": [
    "fig, axes =plt.subplots(ncols=2, figsize=(12, 4))\n",
    "sns.distplot(sample.text.str.split().str.len(), ax=axes[0])\n",
    "axes[0].set_title('# Tokens per Review')\n",
    "\n",
    "most_similar.set_index('token').similarity.sort_values().plot.barh(ax=axes[1], \n",
    "                                                                   title=\"Terms Most Similar to 'good'\",\n",
    "                                                                  xlim=(.5, .8))\n",
    "axes[1].set_xlabel('Similarity')\n",
    "axes[1].set_ylabel('Token')\n",
    "axes[0].set_xlabel('# Tokens')\n",
    "\n",
    "sns.despine()\n",
    "fig.tight_layout()\n",
    "fig.savefig(results_path / 'doc2vec_stats', dpi=300)\n",
    "plt.show()"
   ]
  },
  {
   "cell_type": "markdown",
   "id": "b6ef24c2-1bbb-405d-97ad-b766d5190f49",
   "metadata": {},
   "source": [
    "### Persist Model"
   ]
  },
  {
   "cell_type": "code",
   "execution_count": 38,
   "id": "8eca6c4b-c44f-4e02-8dd4-aef2383eb7c4",
   "metadata": {},
   "outputs": [],
   "source": [
    "model.save((results_path / 'sample.model').as_posix())"
   ]
  },
  {
   "cell_type": "code",
   "execution_count": 39,
   "id": "30263915-be76-4ab9-bc25-576a4619c8ca",
   "metadata": {},
   "outputs": [],
   "source": [
    "model = Doc2Vec.load((results_path / 'sample.model').as_posix())"
   ]
  },
  {
   "cell_type": "markdown",
   "id": "70e933fa-1dd9-4e66-9c72-346f2cf5e430",
   "metadata": {},
   "source": [
    "### Evaluating"
   ]
  },
  {
   "cell_type": "code",
   "execution_count": 41,
   "id": "6d9f1a26-aac2-4823-a1ee-bd70aed168b5",
   "metadata": {},
   "outputs": [],
   "source": [
    "y = sample.stars.sub(1)"
   ]
  },
  {
   "cell_type": "code",
   "execution_count": 42,
   "id": "fd1e222d-9bdb-43e9-8471-fc3246506e6a",
   "metadata": {},
   "outputs": [],
   "source": [
    "size = 300\n",
    "\n",
    "X = np.zeros(shape=(len(y), size))\n",
    "\n",
    "for i in range(len(sample)):\n",
    "    X[i] = model.docvecs[i]"
   ]
  },
  {
   "cell_type": "code",
   "execution_count": 43,
   "id": "45903824-bc96-4d35-a6a4-b4a6605c6b23",
   "metadata": {},
   "outputs": [],
   "source": [
    "X.shape"
   ]
  },
  {
   "cell_type": "markdown",
   "id": "0d77d575-322b-4160-af0d-fc54118883dd",
   "metadata": {},
   "source": [
    "#### Train-Test Split"
   ]
  },
  {
   "cell_type": "code",
   "execution_count": 45,
   "id": "ac3d54af-637f-43c2-9aca-089e09713b88",
   "metadata": {},
   "outputs": [],
   "source": [
    "X_train, X_test, y_train, y_test = train_test_split(X, y, \n",
    "                                                    test_size=0.2, \n",
    "                                                    random_state=42, \n",
    "                                                    stratify=y)"
   ]
  },
  {
   "cell_type": "code",
   "execution_count": 46,
   "id": "8e5837aa-c283-4fd1-a659-3a5b5d5ea659",
   "metadata": {},
   "outputs": [],
   "source": [
    "mode = pd.Series(y_train).mode().iloc[0]\n",
    "\n",
    "baseline = accuracy_score(y_true=y_test, y_pred=np.full_like(y_test, fill_value=mode))\n",
    "\n",
    "print(f'Baseline Score: {baseline:.2%}')"
   ]
  },
  {
   "cell_type": "code",
   "execution_count": 47,
   "id": "bd3b2096-f174-4384-a453-cadc3de9e5fb",
   "metadata": {},
   "outputs": [],
   "source": [
    "class_weights = class_weight.compute_class_weight('balanced',\n",
    "                                                 np.unique(y_train),\n",
    "                                                 y_train)"
   ]
  },
  {
   "cell_type": "code",
   "execution_count": 48,
   "id": "53065318-2f46-4c0f-8160-ee9484211408",
   "metadata": {},
   "outputs": [],
   "source": [
    "class_weights"
   ]
  },
  {
   "cell_type": "markdown",
   "id": "6a5ccb38-3227-40ae-9efa-e37e30a5f906",
   "metadata": {},
   "source": [
    "### LightGBM"
   ]
  },
  {
   "cell_type": "code",
   "execution_count": 49,
   "id": "783e02f3-8b3f-4df0-a262-3e866043acea",
   "metadata": {},
   "outputs": [],
   "source": [
    "train_data = lgb.Dataset(data=X_train, label=y_train)\n",
    "\n",
    "test_data = train_data.create_valid(X_test, label=y_test)"
   ]
  },
  {
   "cell_type": "code",
   "execution_count": 50,
   "id": "f987308a-0f19-4ace-a165-ca8b67f432bd",
   "metadata": {},
   "outputs": [],
   "source": [
    "params = {'objective': 'multiclass',\n",
    "          'num_classes': 5}"
   ]
  },
  {
   "cell_type": "code",
   "execution_count": 51,
   "id": "05f8c159-7589-4587-b025-e10d8d306fc2",
   "metadata": {},
   "outputs": [],
   "source": [
    "lgb_model = lgb.train(params=params,\n",
    "                      train_set=train_data,\n",
    "                      num_boost_round=5000,\n",
    "                      valid_sets=[train_data, test_data],\n",
    "                      early_stopping_rounds=25,\n",
    "                      verbose_eval=50)"
   ]
  },
  {
   "cell_type": "code",
   "execution_count": 52,
   "id": "bce34fe6-4e7a-498a-8144-933d5347232e",
   "metadata": {},
   "outputs": [],
   "source": [
    "lgb_pred = np.argmax(lgb_model.predict(X_test), axis=1)"
   ]
  },
  {
   "cell_type": "code",
   "execution_count": 53,
   "id": "bb9ed031-cb5a-40a1-bde8-a2f3a35f46d9",
   "metadata": {},
   "outputs": [],
   "source": [
    "lgb_acc = accuracy_score(y_true=y_test, y_pred=lgb_pred)\n",
    "\n",
    "print(f'Accuracy: {lgb_acc:.2%}')"
   ]
  },
  {
   "cell_type": "markdown",
   "id": "c1042799-39fc-42dd-b38f-1b07ed640cb5",
   "metadata": {},
   "source": [
    "### Random Forest"
   ]
  },
  {
   "cell_type": "code",
   "execution_count": 54,
   "id": "98edcbe7-7e45-4718-9e74-80cd6b7d0f6c",
   "metadata": {},
   "outputs": [],
   "source": [
    "rf = RandomForestClassifier(n_jobs=-1,  \n",
    "                            n_estimators=500,\n",
    "                            verbose=1,\n",
    "                            class_weight='balanced_subsample')\n",
    "\n",
    "rf.fit(X_train, y_train)"
   ]
  },
  {
   "cell_type": "code",
   "execution_count": 55,
   "id": "13ea03fd-9ec1-4c17-a01d-043e2c5e8b06",
   "metadata": {},
   "outputs": [],
   "source": [
    "rf_pred = rf.predict(X_test)\n",
    "\n",
    "rf_acc = accuracy_score(y_true=y_test, y_pred=rf_pred)\n",
    "\n",
    "print(f'Accuracy: {rf_acc:.2%}')"
   ]
  },
  {
   "cell_type": "code",
   "execution_count": 56,
   "id": "7eaecf17-bd01-4bf7-978f-a652cba1ae19",
   "metadata": {},
   "outputs": [],
   "source": [
    "cm = confusion_matrix(y_true=y_test, y_pred=rf_pred)\n",
    "\n",
    "sns.heatmap(pd.DataFrame(cm/np.sum(cm), \n",
    "                         index=stars, \n",
    "                         columns=stars), \n",
    "            annot=True, \n",
    "            cmap='Blues', \n",
    "            fmt='.1%');"
   ]
  },
  {
   "cell_type": "markdown",
   "id": "bc73c093-310e-4294-8d6e-54294ca7fad5",
   "metadata": {},
   "source": [
    "### Multinomial Logistic Regression"
   ]
  },
  {
   "cell_type": "code",
   "execution_count": 57,
   "id": "e000b07f-9519-4760-863c-c319d4291523",
   "metadata": {},
   "outputs": [],
   "source": [
    "lr = LogisticRegression(multi_class='multinomial', \n",
    "                        solver='lbfgs', \n",
    "                        class_weight='balanced')\n",
    "\n",
    "lr.fit(X_train, y_train)"
   ]
  },
  {
   "cell_type": "code",
   "execution_count": 58,
   "id": "60f43910-477f-498b-a9fc-57837f03d5b1",
   "metadata": {},
   "outputs": [],
   "source": [
    "lr_pred = lr.predict(X_test)\n",
    "\n",
    "lr_acc = accuracy_score(y_true=y_test, y_pred=lr_pred)\n",
    "\n",
    "print(f'Accuracy: {lr_acc:.2%}')"
   ]
  },
  {
   "cell_type": "code",
   "execution_count": 59,
   "id": "a67817cc-78e1-42a7-a79a-697b2426524b",
   "metadata": {},
   "outputs": [],
   "source": [
    "cm = confusion_matrix(y_true=y_test, y_pred=lr_pred)\n",
    "sns.heatmap(pd.DataFrame(cm/np.sum(cm), \n",
    "                         index=stars, \n",
    "                         columns=stars), \n",
    "            annot=True, \n",
    "            cmap='Blues', \n",
    "            fmt='.1%');"
   ]
  },
  {
   "cell_type": "markdown",
   "id": "397e15df-d898-4c5c-b472-951f2fda950c",
   "metadata": {},
   "source": [
    "### Comparison"
   ]
  },
  {
   "cell_type": "code",
   "execution_count": 60,
   "id": "7c17f23b-99ed-4fc3-9148-f89d9b4c76da",
   "metadata": {},
   "outputs": [],
   "source": [
    "fig, axes = plt.subplots(ncols=3, figsize=(15, 5), sharex=True, sharey=True)\n",
    "\n",
    "lgb_cm = confusion_matrix(y_true=y_test, y_pred=lgb_pred)\n",
    "sns.heatmap(pd.DataFrame(lgb_cm/np.sum(lgb_cm), index=stars, columns=stars),\n",
    "            annot=True, cmap='Blues', fmt='.1%', ax=axes[0], cbar=False)\n",
    "axes[0].set_title(f'Gradient Boosting: Accuracy {lgb_acc:.2%}')\n",
    "\n",
    "rf_cm = confusion_matrix(y_true=y_test, y_pred=rf_pred)\n",
    "sns.heatmap(pd.DataFrame(rf_cm/np.sum(rf_cm), index=stars, columns=stars),\n",
    "            annot=True, cmap='Blues', fmt='.1%', ax=axes[1], cbar=False)\n",
    "axes[1].set_title(f'Random Forest: Accuracy {rf_acc:.2%}')\n",
    "\n",
    "lr_cm = confusion_matrix(y_true=y_test, y_pred=lr_pred)\n",
    "sns.heatmap(pd.DataFrame(lr_cm/np.sum(lr_cm), index=stars, columns=stars),\n",
    "            annot=True, cmap='Blues', fmt='.1%', ax=axes[2], cbar=False)\n",
    "axes[2].set_title(f'Logistic Regression: Accuracy {lr_acc:.2%}')\n",
    "axes[0].set_ylabel('Actuals')\n",
    "for i in range(3):\n",
    "    axes[i].set_xlabel('Predicted')\n",
    "\n",
    "sns.despine()\n",
    "fig.tight_layout()\n",
    "fig.savefig(results_path / 'confusion_matrix', dpi=300)\n",
    "plt.show()"
   ]
  },
  {
   "cell_type": "code",
   "execution_count": null,
   "id": "23c300e5-6fcf-4140-8094-2404086d3dc1",
   "metadata": {},
   "outputs": [],
   "source": []
  },
  {
   "cell_type": "code",
   "execution_count": null,
   "id": "cad34d3e-dca7-4503-b4e8-920d6157a715",
   "metadata": {},
   "outputs": [],
   "source": []
  }
 ],
 "metadata": {
  "kernelspec": {
   "display_name": "Python 3 (ipykernel)",
   "language": "python",
   "name": "python3"
  },
  "language_info": {
   "codemirror_mode": {
    "name": "ipython",
    "version": 3
   },
   "file_extension": ".py",
   "mimetype": "text/x-python",
   "name": "python",
   "nbconvert_exporter": "python",
   "pygments_lexer": "ipython3",
   "version": "3.12.9"
  }
 },
 "nbformat": 4,
 "nbformat_minor": 5
}
