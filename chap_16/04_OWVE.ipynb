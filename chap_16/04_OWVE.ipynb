{
 "cells": [
  {
   "cell_type": "markdown",
   "id": "42738fbb-0a6e-4c90-ab7d-b79e028022f1",
   "metadata": {},
   "source": [
    "# How to Train Your Own Word Vector Embeddings with Keras\n",
    "\n",
    "### Loading Libraries"
   ]
  },
  {
   "cell_type": "code",
   "execution_count": 11,
   "id": "060b4118-7fa9-416c-8bf6-cce805c0623d",
   "metadata": {},
   "outputs": [],
   "source": [
    "# !conda install -n MLAT tensorflow-gpu -y"
   ]
  },
  {
   "cell_type": "code",
   "execution_count": 12,
   "id": "f8127745-4bd4-4710-8604-0a1afbf5c022",
   "metadata": {},
   "outputs": [],
   "source": [
    "# !conda install -n MLAT tensorflow -y"
   ]
  },
  {
   "cell_type": "code",
   "execution_count": 1,
   "id": "ee235c14-6daa-4c2d-84ba-b8a64807dd34",
   "metadata": {},
   "outputs": [],
   "source": [
    "# Numerical Computing\n",
    "import numpy as np\n",
    "from numpy.random import choice\n",
    "\n",
    "# Data Manipulation\n",
    "import pandas as pd\n",
    "\n",
    "# Data Visualization\n",
    "import seaborn as sns\n",
    "import matplotlib.pyplot as plt\n",
    "\n",
    "# Warnings\n",
    "import warnings\n",
    "\n",
    "# Time, Collection & Path\n",
    "from time import time\n",
    "from pathlib import Path\n",
    "from pprint import pprint\n",
    "import os, tarfile, sys, json\n",
    "from collections import Counter\n",
    "\n",
    "# SpaCy\n",
    "import spacy\n",
    "from spacy.lang.en import English\n",
    "\n",
    "# Gensim\n",
    "# from gensim.models.word2vec import LineSentence\n",
    "# from gensim.models.phrases import Phrases, Phraser\n",
    "\n",
    "# TensorFlow\n",
    "# import tensorflow as tf\n",
    "# from tensorflow.keras.models import Model\n",
    "# from tensorflow.keras.callbacks import Callback, TensorBoard\n",
    "# from tensorflow.keras.layers import Input, Dense, Reshape, Dot, Embedding\n",
    "# from tensorflow.keras.preprocessing.sequence import skipgrams, make_sampling_table\n",
    "\n",
    "#\n"
   ]
  },
  {
   "cell_type": "code",
   "execution_count": 2,
   "id": "8215937f-bc73-4df5-91d9-272d692446cc",
   "metadata": {},
   "outputs": [],
   "source": [
    "# gpu_devices = tf.config.experimental.list_physical_devices('GPU')\n",
    "\n",
    "# if gpu_devices:\n",
    "#     print('Using GPU')\n",
    "#     tf.config.experimental.set_memory_growth(gpu_devices[0], True)\n",
    "# else:\n",
    "#     print('Using CPU')"
   ]
  },
  {
   "cell_type": "code",
   "execution_count": 3,
   "id": "8da0fe07-e684-4ec3-b01c-87416c629f1d",
   "metadata": {},
   "outputs": [],
   "source": [
    "np.random.seed(42)\n",
    "\n",
    "sns.set_style('white')"
   ]
  },
  {
   "cell_type": "code",
   "execution_count": 4,
   "id": "bf9c89ef-beef-41ee-8561-72afc0a8f344",
   "metadata": {},
   "outputs": [],
   "source": [
    "results_path = Path('results', 'financial_news')"
   ]
  },
  {
   "cell_type": "code",
   "execution_count": 5,
   "id": "c6c3214a-93bb-4751-aa82-00810bb430a8",
   "metadata": {},
   "outputs": [],
   "source": [
    "analogy_path = Path('data', 'analogies-en.txt')"
   ]
  },
  {
   "cell_type": "code",
   "execution_count": 6,
   "id": "0bf788ea-6ff6-43a3-9721-6a9f61d8a413",
   "metadata": {},
   "outputs": [],
   "source": [
    "def format_time(t):\n",
    "    m, s = divmod(t, 60)\n",
    "    h, m = divmod(m, 60)\n",
    "    return f'{h:02.0f}:{m:02.0f}:{s:02.0f}'"
   ]
  },
  {
   "cell_type": "markdown",
   "id": "fc8c406f-5b43-4b94-a380-1343e252ee99",
   "metadata": {},
   "source": [
    "### `word2vec` - skipgram Architecture using Keras\n",
    "\n",
    "#### Settings"
   ]
  },
  {
   "cell_type": "code",
   "execution_count": 7,
   "id": "7c59f46d-1cc9-4559-81e5-1693c281b62c",
   "metadata": {},
   "outputs": [],
   "source": [
    "LANGUAGE = 'en'\n",
    "\n",
    "SAMPLE_SIZE=.5    \n",
    "\n",
    "NGRAMS = 3 \n",
    "\n",
    "MIN_FREQ = 10"
   ]
  },
  {
   "cell_type": "code",
   "execution_count": 8,
   "id": "68c65b8a-5eec-41fa-8a34-eacc86be28ac",
   "metadata": {},
   "outputs": [],
   "source": [
    "SAMPLING_FACTOR = 1e-4\n",
    "\n",
    "WINDOW_SIZE = 3\n",
    "\n",
    "EMBEDDING_SIZE = 300\n",
    "\n",
    "EPOCHS = 1\n",
    "\n",
    "BATCH_SIZE = 2500"
   ]
  },
  {
   "cell_type": "code",
   "execution_count": 9,
   "id": "e7ffa0d7-9643-4291-95e6-46353a9492ae",
   "metadata": {},
   "outputs": [],
   "source": [
    "VALID_SET = 10      \n",
    "VALID_WINDOW = 150  \n",
    "NN = 10             \n",
    "\n",
    "valid_examples = np.random.choice(VALID_WINDOW, size=VALID_SET, replace=False)"
   ]
  },
  {
   "cell_type": "code",
   "execution_count": 10,
   "id": "e697494b-2e6c-479a-a79d-a666d81015d3",
   "metadata": {},
   "outputs": [],
   "source": [
    "FILE_NAME = f'articles_{NGRAMS}_grams.txt'\n",
    "\n",
    "file_path = results_path / FILE_NAME"
   ]
  },
  {
   "cell_type": "code",
   "execution_count": 11,
   "id": "7f16f4e1-85c6-4717-a603-5b78a1ac18c6",
   "metadata": {},
   "outputs": [],
   "source": [
    "tb_path = results_path / 'tensorboard'\n",
    "\n",
    "if not tb_path.exists():\n",
    "    tb_path.mkdir(parents=True, exist_ok=True)"
   ]
  },
  {
   "cell_type": "markdown",
   "id": "fd7bbdce-8a30-4da8-bf54-5981d37f8656",
   "metadata": {},
   "source": [
    "### Building Data Set"
   ]
  },
  {
   "cell_type": "code",
   "execution_count": 13,
   "id": "88a60015-c028-41d8-898b-15b48381765b",
   "metadata": {},
   "outputs": [],
   "source": [
    "sentences = file_path.read_text().split('\\n')\n",
    "\n",
    "n = len(sentences)"
   ]
  },
  {
   "cell_type": "code",
   "execution_count": 14,
   "id": "11f0f938-3012-4df7-8878-ca40579bf3fe",
   "metadata": {},
   "outputs": [],
   "source": [
    "max_length = 50"
   ]
  },
  {
   "cell_type": "code",
   "execution_count": 16,
   "id": "531938af-6092-4c9f-aebc-c4569ac5b005",
   "metadata": {},
   "outputs": [],
   "source": [
    "sentences = [s for s in sentences if len(s.split()) <= max_length]"
   ]
  },
  {
   "cell_type": "code",
   "execution_count": 17,
   "id": "397c4021-4b8b-44e7-a4ae-d4af7a0ee550",
   "metadata": {},
   "outputs": [],
   "source": [
    "print(f'Removed {n-len(sentences):,.0f} sentences containing more than {max_length} tokens')"
   ]
  },
  {
   "cell_type": "code",
   "execution_count": 18,
   "id": "d15bb172-4a3f-4c5d-8850-8e02b142022a",
   "metadata": {},
   "outputs": [],
   "source": [
    "words = ' '.join(np.random.choice(sentences, size=int(.5*len(sentences)), replace=False)).split()"
   ]
  },
  {
   "cell_type": "code",
   "execution_count": 19,
   "id": "8a430481-c8bd-4eda-bf0e-39ea14a13e2a",
   "metadata": {},
   "outputs": [],
   "source": [
    "vocab_size = len(token_to_id)"
   ]
  },
  {
   "cell_type": "code",
   "execution_count": 20,
   "id": "453a882b-5b7f-4379-9dee-9312f0983092",
   "metadata": {},
   "outputs": [],
   "source": [
    "vocab_size"
   ]
  },
  {
   "cell_type": "code",
   "execution_count": 21,
   "id": "c46e3dcd-a1eb-4c38-9ec8-5330fb4d586d",
   "metadata": {},
   "outputs": [],
   "source": [
    "s = pd.Series(data).value_counts().reset_index()\n",
    "\n",
    "s.columns = ['id', 'count']\n",
    "s['token'] = s.id.map(id_to_token)"
   ]
  },
  {
   "cell_type": "code",
   "execution_count": 22,
   "id": "82e51fae-e6fe-481c-bf4c-7db319694bc8",
   "metadata": {},
   "outputs": [],
   "source": [
    "s.sort_values('count', ascending=False).head(10)"
   ]
  },
  {
   "cell_type": "code",
   "execution_count": 23,
   "id": "2cf6c5dc-a5c8-4e50-aed2-7b559788c058",
   "metadata": {},
   "outputs": [],
   "source": [
    "s['count'].sum()"
   ]
  },
  {
   "cell_type": "code",
   "execution_count": 24,
   "id": "e3422471-04a6-4db6-aa88-4739e2aeb5ac",
   "metadata": {},
   "outputs": [],
   "source": [
    "s.sort_values('id').token.dropna().to_csv(tb_path / 'meta.tsv', index=False)"
   ]
  },
  {
   "cell_type": "markdown",
   "id": "93021c96-9c9f-480e-a29b-fc5816cb5f28",
   "metadata": {},
   "source": [
    "#### Analogies to ID"
   ]
  },
  {
   "cell_type": "code",
   "execution_count": 25,
   "id": "62ffb9ed-aa3e-4e29-b28e-66298a1d5455",
   "metadata": {},
   "outputs": [],
   "source": [
    "def get_analogies():\n",
    "    df = pd.read_csv(analogy_path, header=None, squeeze=True)\n",
    "    categories = df[df.str.startswith(':')]\n",
    "    analogies = df[~df.str.startswith(':')].str.split(expand=True)\n",
    "    analogies.columns = list('abcd')\n",
    "    return analogies"
   ]
  },
  {
   "cell_type": "code",
   "execution_count": 26,
   "id": "ddf9c453-8f54-48a4-a5a2-69a23fbb4020",
   "metadata": {},
   "outputs": [],
   "source": [
    "analogies = get_analogies()\n",
    "\n",
    "analogies.head()"
   ]
  },
  {
   "cell_type": "code",
   "execution_count": 27,
   "id": "67eb067e-8fc6-4827-9cef-ce6d0c0ba3a2",
   "metadata": {},
   "outputs": [],
   "source": [
    "analogies_id = analogies.apply(lambda x: x.map(token_to_id))\n",
    "\n",
    "analogies_id.notnull().all(1).sum()/len(analogies_id)"
   ]
  },
  {
   "cell_type": "markdown",
   "id": "7593ac50-49a1-4b9d-b2d1-de2fbab63b9d",
   "metadata": {},
   "source": [
    "### Generate Sampling Probabilities"
   ]
  },
  {
   "cell_type": "code",
   "execution_count": 28,
   "id": "2bec4811-caa2-460d-80f0-a99ed67027f1",
   "metadata": {},
   "outputs": [],
   "source": [
    "df = s['count'].to_frame('freq')\n",
    "\n",
    "factors = [1, 1e-2, 1e-4, 1e-6, 1e-8]\n",
    "\n",
    "for f in factors:\n",
    "    sf = make_sampling_table(vocab_size, sampling_factor=f)\n",
    "    df[f] = df.freq.mul(sf)\n",
    "df.loc[:, factors].plot(logy=True, xlim=(0, 60000));"
   ]
  },
  {
   "cell_type": "code",
   "execution_count": 29,
   "id": "4b6dbd6a-197e-458a-bb3e-1b1af36a38a0",
   "metadata": {},
   "outputs": [],
   "source": [
    "sampling_table = make_sampling_table(vocab_size, sampling_factor=SAMPLING_FACTOR/10)"
   ]
  },
  {
   "cell_type": "code",
   "execution_count": 30,
   "id": "fdd53b93-f411-4aa6-91b8-3965f12771ce",
   "metadata": {},
   "outputs": [],
   "source": [
    "pd.Series(sampling_table).plot(title='Skip-Gram Sampling Probabilities')\n",
    "plt.tight_layout();"
   ]
  },
  {
   "cell_type": "markdown",
   "id": "d1ca8b18-ece9-4293-8b9c-7dd17e586885",
   "metadata": {},
   "source": [
    "#### Generating Target-Context Word Pairs"
   ]
  },
  {
   "cell_type": "code",
   "execution_count": 31,
   "id": "643ebec9-3484-4ffc-bc50-46df0c84bfe5",
   "metadata": {},
   "outputs": [],
   "source": [
    "pairs, labels = skipgrams(sequence=data,\n",
    "                          vocabulary_size=vocab_size,\n",
    "                          window_size=WINDOW_SIZE,\n",
    "                          sampling_table=sampling_table,\n",
    "                          negative_samples=1.0,\n",
    "                          shuffle=True)\n",
    "\n",
    "print('{:,d} pairs created'.format(len(pairs)))"
   ]
  },
  {
   "cell_type": "code",
   "execution_count": 32,
   "id": "41689a2b-5d42-4173-b79a-b7a9f5034716",
   "metadata": {},
   "outputs": [],
   "source": [
    "target_word, context_word = np.array(pairs, dtype=np.int32).T\n",
    "labels = np.array(labels, dtype=np.int8)\n",
    "\n",
    "del pairs"
   ]
  },
  {
   "cell_type": "code",
   "execution_count": 33,
   "id": "c106fb58-ed7d-455e-8e91-9380278ba709",
   "metadata": {},
   "outputs": [],
   "source": [
    "target_word[:5]"
   ]
  },
  {
   "cell_type": "code",
   "execution_count": 34,
   "id": "2b02cc16-0bfb-40ee-b6e5-624915a4474d",
   "metadata": {},
   "outputs": [],
   "source": [
    "df = pd.DataFrame({'target': target_word[:5], \n",
    "                   'context': context_word[:5], \n",
    "                   'label': labels[:5]})\n",
    "\n",
    "df"
   ]
  },
  {
   "cell_type": "code",
   "execution_count": 35,
   "id": "f8166c6e-5b0d-4a90-a235-d33147ae0f1c",
   "metadata": {},
   "outputs": [],
   "source": [
    "pd.Series(labels).value_counts()"
   ]
  },
  {
   "cell_type": "code",
   "execution_count": 36,
   "id": "13bb7d26-04c2-4900-91ee-656b13a58035",
   "metadata": {},
   "outputs": [],
   "source": [
    "with pd.HDFStore(results_path / 'data.h5') as store:\n",
    "    store.put('id_to_token', pd.Series(id_to_token))\n",
    "    store.put('pairs', pd.DataFrame({'target' : target_word,\n",
    "                                     'context': context_word, \n",
    "                                     'labels': labels}))"
   ]
  },
  {
   "cell_type": "code",
   "execution_count": 37,
   "id": "de80e63d-6189-4bdc-9423-8150fbe14b84",
   "metadata": {},
   "outputs": [],
   "source": [
    "with pd.HDFStore(results_path / 'data.h5') as store:\n",
    "    id_to_token = store['id_to_token']\n",
    "    pairs = store['pairs']\n",
    "\n",
    "target_word, context_word, labels = pairs.target, pairs.context, pairs.labels"
   ]
  },
  {
   "cell_type": "markdown",
   "id": "21c15cc4-fa1e-4865-9e1c-39a35dc051b9",
   "metadata": {},
   "source": [
    "### Defining Keras Model Components\n",
    "\n",
    "#### Scalar Input Variables"
   ]
  },
  {
   "cell_type": "code",
   "execution_count": 38,
   "id": "42ea5028-264e-4b7d-bfd8-be13463b8c0b",
   "metadata": {},
   "outputs": [],
   "source": [
    "input_target = Input((1,), name='target_input')\n",
    "\n",
    "input_context = Input((1,), name='context_input')"
   ]
  },
  {
   "cell_type": "markdown",
   "id": "41ae68bf-325d-4de0-b1d3-75c688cdd9a9",
   "metadata": {},
   "source": [
    "#### Shared Embedding Layer"
   ]
  },
  {
   "cell_type": "code",
   "execution_count": 39,
   "id": "d5a76a64-3625-45a4-b5de-6cf35e31049c",
   "metadata": {},
   "outputs": [],
   "source": [
    "embedding = Embedding(input_dim=vocab_size,\n",
    "                      output_dim=EMBEDDING_SIZE,\n",
    "                      input_length=1,\n",
    "                      name='embedding_layer')"
   ]
  },
  {
   "cell_type": "code",
   "execution_count": 40,
   "id": "ec73e723-4aff-4fa8-a67f-6fa99574c8e4",
   "metadata": {},
   "outputs": [],
   "source": [
    "target = embedding(input_target)\n",
    "target = Reshape((EMBEDDING_SIZE, 1), name='target_embedding')(target)\n",
    "\n",
    "context = embedding(input_context)\n",
    "context = Reshape((EMBEDDING_SIZE, 1), name='context_embedding')(context)"
   ]
  },
  {
   "cell_type": "markdown",
   "id": "aebbc9a5-ef4f-44f2-bdd2-c367b1d8af2f",
   "metadata": {},
   "source": [
    "#### Creating Similarity Measure"
   ]
  },
  {
   "cell_type": "code",
   "execution_count": 41,
   "id": "f6eb0171-0f92-43a6-a926-0fea0e34f1ae",
   "metadata": {},
   "outputs": [],
   "source": [
    "dot_product = Dot(axes=1)([target, context])\n",
    "\n",
    "dot_product = Reshape((1,), name='similarity')(dot_product)"
   ]
  },
  {
   "cell_type": "markdown",
   "id": "2022e7f9-2385-4d75-9257-2cffec4b1130",
   "metadata": {},
   "source": [
    "#### Sigmoid Output Layer"
   ]
  },
  {
   "cell_type": "code",
   "execution_count": 42,
   "id": "21da8b01-b15b-46df-9865-d2152c61d1f5",
   "metadata": {},
   "outputs": [],
   "source": [
    "output = Dense(units=1, activation='sigmoid', name='output')(dot_product)"
   ]
  },
  {
   "cell_type": "markdown",
   "id": "dc985700-4817-4c94-a4ba-7081723e93cb",
   "metadata": {},
   "source": [
    "#### Compiling Training Model"
   ]
  },
  {
   "cell_type": "code",
   "execution_count": 43,
   "id": "c89bc3eb-cfc3-4bd6-b538-fca4a9fa0e45",
   "metadata": {},
   "outputs": [],
   "source": [
    "model = Model(inputs=[input_target, input_context], outputs=output)\n",
    "\n",
    "model.compile(loss='binary_crossentropy', optimizer='rmsprop')"
   ]
  },
  {
   "cell_type": "markdown",
   "id": "cef5cfe3-076d-45dd-8925-d75ff3419c73",
   "metadata": {},
   "source": [
    "#### Displaying Architecture"
   ]
  },
  {
   "cell_type": "code",
   "execution_count": 44,
   "id": "b62998f2-7d80-481c-b823-b0d6122eb07d",
   "metadata": {},
   "outputs": [],
   "source": [
    "model.summary()"
   ]
  },
  {
   "cell_type": "markdown",
   "id": "50a80107-d293-4662-898f-f87dab03efd8",
   "metadata": {},
   "source": [
    "#### Validation Model"
   ]
  },
  {
   "cell_type": "code",
   "execution_count": 45,
   "id": "f727c7ef-48c9-4945-9cb8-d2baac2f1951",
   "metadata": {},
   "outputs": [],
   "source": [
    "similarity = Dot(normalize=True, \n",
    "                 axes=1, \n",
    "                 name='cosine_similarity')([target, context])"
   ]
  },
  {
   "cell_type": "code",
   "execution_count": 46,
   "id": "375c4308-d750-481d-aac3-7d6584c3fbdf",
   "metadata": {},
   "outputs": [],
   "source": [
    "validation_model = Model(inputs=[input_target, input_context], outputs=similarity)"
   ]
  },
  {
   "cell_type": "code",
   "execution_count": 47,
   "id": "934eabcd-e8c5-439b-8aab-5d1dd288fe2f",
   "metadata": {},
   "outputs": [],
   "source": [
    "validation_model.summary()"
   ]
  },
  {
   "cell_type": "markdown",
   "id": "c0fbf60e-eba5-449b-91a9-ed64c4b1ba8e",
   "metadata": {},
   "source": [
    "### Creating Keras Callbacks\n",
    "\n",
    "#### Nearest Neighors & Analogies"
   ]
  },
  {
   "cell_type": "code",
   "execution_count": 48,
   "id": "8b832bd4-ace6-4876-99db-1e3f73de0083",
   "metadata": {},
   "outputs": [],
   "source": [
    "test_set = analogies_id.dropna().astype(int)\n",
    "\n",
    "a, b, c, actual = test_set.values.T\n",
    "\n",
    "actual = actual.reshape(-1, 1)\n",
    "\n",
    "n_analogies = len(actual)"
   ]
  },
  {
   "cell_type": "code",
   "execution_count": 50,
   "id": "bb31f6a1-55b8-45aa-91c5-dd0d9cef4854",
   "metadata": {},
   "outputs": [],
   "source": [
    "class EvalCallback(Callback):\n",
    "        \n",
    "    def on_train_begin(self, logs={}):\n",
    "        self.eval_nn()\n",
    "        self.test_analogies()\n",
    "\n",
    "    def on_train_end(self, logs={}):\n",
    "        self.eval_nn()\n",
    "\n",
    "    def on_epoch_end(self, batch, logs={}):\n",
    "        self.test_analogies()\n",
    "\n",
    "    @staticmethod\n",
    "    def test_analogies():\n",
    "        print('\\nAnalogy Accuracy:\\n\\t', end='')\n",
    "        embeddings = embedding.get_weights()[0]\n",
    "        target = embeddings[c] + embeddings[b] - embeddings[a]\n",
    "        neighbors = np.argsort(cdist(target, embeddings, metric='cosine'))\n",
    "        match_id = np.argwhere(neighbors == actual)[:, 1]\n",
    "        print('\\n\\t'.join(['Top {}: {:.2%}'.format(i, (match_id < i).sum() / n_analogies) for i in [1, 5, 10]]))\n",
    "\n",
    "    def eval_nn(self):\n",
    "        print('\\n{} Nearest Neighbors:'.format(NN))\n",
    "        for i in range(VALID_SET):\n",
    "            valid_id = valid_examples[i]\n",
    "            valid_word = id_to_token[valid_id]\n",
    "            similarity = self._get_similiarity(valid_id).reshape(-1)\n",
    "            nearest = (-similarity).argsort()[1:NN + 1]\n",
    "            neighbors = [id_to_token[nearest[n]] for n in range(NN)]\n",
    "            print('{}:\\t{}'.format(valid_word, ', '.join(neighbors)))            \n",
    "        \n",
    "    @staticmethod\n",
    "    def _get_similiarity(valid_word_idx):\n",
    "        target = np.full(shape=vocab_size, fill_value=valid_word_idx)\n",
    "        context = np.arange(vocab_size)\n",
    "        return validation_model.predict([target, context])\n",
    "\n",
    "\n",
    "evaluation = EvalCallback()"
   ]
  },
  {
   "cell_type": "markdown",
   "id": "b48cf191-60af-4f98-bbc5-c774f1b556a5",
   "metadata": {},
   "source": [
    "#### Tensorboard Callback"
   ]
  },
  {
   "cell_type": "code",
   "execution_count": 51,
   "id": "e6839862-a108-473e-a42f-76c3ffa809a8",
   "metadata": {},
   "outputs": [],
   "source": [
    "tensorboard = TensorBoard(log_dir=str(tb_path),\n",
    "                          write_graph=True,\n",
    "                          embeddings_freq=1,\n",
    "                          embeddings_metadata={'embedding_layer': \n",
    "                                               str(tb_path / 'meta.tsv')})"
   ]
  },
  {
   "cell_type": "markdown",
   "id": "921a8dc1-39d5-46fd-8acd-82c8cb1f0e89",
   "metadata": {},
   "source": [
    "### Training Model"
   ]
  },
  {
   "cell_type": "code",
   "execution_count": 52,
   "id": "37edef35-4636-4267-824e-46dc13aafbee",
   "metadata": {},
   "outputs": [],
   "source": [
    "loss = model.fit(x=[target_word, context_word],\n",
    "                 y=labels,\n",
    "                 shuffle=True,\n",
    "                 batch_size=BATCH_SIZE,\n",
    "                 epochs=EPOCHS,\n",
    "                 #callbacks=[evaluation, tensorboard] # uncomment if tensorboard bug is fixed\n",
    "                 callbacks=[evaluation]\n",
    "                )"
   ]
  },
  {
   "cell_type": "code",
   "execution_count": 53,
   "id": "52ef1f9a-6a35-4698-b96b-cfcf42f6d828",
   "metadata": {},
   "outputs": [],
   "source": [
    "model.save(str(results_path / 'skipgram_model.h5'))"
   ]
  },
  {
   "cell_type": "markdown",
   "id": "a7972ec4-0472-4b37-8b7f-e3196ddf2eb8",
   "metadata": {},
   "source": [
    "### Visualizing Embeddings using Tensorboard"
   ]
  },
  {
   "cell_type": "code",
   "execution_count": 54,
   "id": "b1ca5062-21b6-476b-8369-9d2ab328f2e0",
   "metadata": {},
   "outputs": [],
   "source": [
    "%load_ext tensorboard"
   ]
  },
  {
   "cell_type": "code",
   "execution_count": 55,
   "id": "f5f84ed2-0f99-4c67-a3c0-dd5c20321e1d",
   "metadata": {},
   "outputs": [],
   "source": [
    "%tensorboard --logdir results/financial_news/tensorboard/train"
   ]
  },
  {
   "cell_type": "code",
   "execution_count": null,
   "id": "cdd9aa25-e4c9-4a4e-962f-6e1dd98745a5",
   "metadata": {},
   "outputs": [],
   "source": []
  },
  {
   "cell_type": "code",
   "execution_count": null,
   "id": "e3f696b0-20bc-4bee-9edc-948d408fbedf",
   "metadata": {},
   "outputs": [],
   "source": []
  }
 ],
 "metadata": {
  "kernelspec": {
   "display_name": "Python 3 (ipykernel)",
   "language": "python",
   "name": "python3"
  },
  "language_info": {
   "codemirror_mode": {
    "name": "ipython",
    "version": 3
   },
   "file_extension": ".py",
   "mimetype": "text/x-python",
   "name": "python",
   "nbconvert_exporter": "python",
   "pygments_lexer": "ipython3",
   "version": "3.12.9"
  }
 },
 "nbformat": 4,
 "nbformat_minor": 5
}
