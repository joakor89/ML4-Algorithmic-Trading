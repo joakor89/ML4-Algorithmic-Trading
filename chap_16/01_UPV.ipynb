{
 "cells": [
  {
   "cell_type": "markdown",
   "id": "d5774e61-0b93-46c6-a64c-4cef2b809c3e",
   "metadata": {},
   "source": [
    "# Using Pre-Trained Vectors\n",
    "\n",
    "### Loading Libraries"
   ]
  },
  {
   "cell_type": "code",
   "execution_count": 2,
   "id": "c962bea7-330a-4551-ba90-0d5490084b49",
   "metadata": {},
   "outputs": [],
   "source": [
    "# Numerical Computing\n",
    "import numpy as np\n",
    "from numpy.linalg import norm\n",
    "\n",
    "# Data Manipulation\n",
    "import pandas as pd\n",
    "\n",
    "# Data Visualization\n",
    "import seaborn as sns\n",
    "import matplotlib.pyplot as plt\n",
    "from matplotlib.ticker import FuncFormatter\n",
    "\n",
    "# Warnings\n",
    "import warnings\n",
    "\n",
    "# Time, Collection & Path\n",
    "from time import time\n",
    "from collections import Counter\n",
    "from pathlib import Path\n",
    "\n",
    "\n",
    "# Scipy\n",
    "from scipy.spatial.distance import cdist, cosine\n",
    "\n",
    "# Gensim\n",
    "from gensim.models import Word2Vec, KeyedVectors\n",
    "from gensim.scripts.glove2word2vec import glove2word2vec\n",
    "\n",
    "# Scikit-Learn\n",
    "from sklearn.decomposition import IncrementalPCA"
   ]
  },
  {
   "cell_type": "code",
   "execution_count": 3,
   "id": "cdfd70dc-b03f-4e58-aaab-1ae2c99b63e7",
   "metadata": {},
   "outputs": [],
   "source": [
    "sns.set_style('white')\n",
    "\n",
    "warnings.filterwarnings('ignore')\n",
    "\n",
    "analogies_path = Path('data', 'analogies-en.txt')"
   ]
  },
  {
   "cell_type": "markdown",
   "id": "aea8cdfc-dfbe-4a80-8695-66b5647a2db0",
   "metadata": {},
   "source": [
    "### Convert GloVE Vectors to `gensim` Format"
   ]
  },
  {
   "cell_type": "code",
   "execution_count": 11,
   "id": "f3b62ff1-4a47-4162-9057-33370bebd8f1",
   "metadata": {},
   "outputs": [],
   "source": [
    "glove_path = Path('..', 'data', 'glove')"
   ]
  },
  {
   "cell_type": "markdown",
   "id": "0edd396a-0742-4b67-81f3-900178c26c1c",
   "metadata": {},
   "source": [
    "#### WikiPedia"
   ]
  },
  {
   "cell_type": "code",
   "execution_count": 12,
   "id": "5f565bf4-5c92-489d-983b-44a2e0a51765",
   "metadata": {},
   "outputs": [],
   "source": [
    "glove_wiki_file= glove_path / 'glove.6B.300d.txt'\n",
    "\n",
    "word2vec_wiki_file = glove_path / 'glove.wiki.gensim.txt'"
   ]
  },
  {
   "cell_type": "code",
   "execution_count": 13,
   "id": "63be74ea-ae1d-4bba-990f-a8708d02b797",
   "metadata": {},
   "outputs": [],
   "source": [
    "glove2word2vec(glove_input_file=glove_wiki_file, word2vec_output_file=word2vec_wiki_file)"
   ]
  },
  {
   "cell_type": "markdown",
   "id": "a8601448-f5ab-4c87-b751-3b9fb2dabd5a",
   "metadata": {},
   "source": [
    "#### Twitter Data"
   ]
  },
  {
   "cell_type": "code",
   "execution_count": 14,
   "id": "7ba8c9f2-cf8e-485a-8232-242d42ae6265",
   "metadata": {},
   "outputs": [],
   "source": [
    "glove_twitter_file= glove_path / 'glove.twitter.27B.200d.txt'\n",
    "\n",
    "word2vec_twitter_file = glove_path / 'glove.twitter.gensim.txt'"
   ]
  },
  {
   "cell_type": "markdown",
   "id": "1e4a583a-104e-43d8-b157-84a5ee603b69",
   "metadata": {},
   "source": [
    "#### Common Crawl"
   ]
  },
  {
   "cell_type": "code",
   "execution_count": 15,
   "id": "529c26de-5bcb-4036-92be-a2e0d6c2b5d6",
   "metadata": {},
   "outputs": [],
   "source": [
    "glove_crawl_file= glove_path / 'glove.840B.300d.txt'\n",
    "\n",
    "word2vec_crawl_file = glove_path / 'glove.crawl.gensim.txt'"
   ]
  },
  {
   "cell_type": "code",
   "execution_count": 16,
   "id": "c12fe49e-0585-43cb-8359-f92ab64e970d",
   "metadata": {},
   "outputs": [],
   "source": [
    "glove2word2vec(glove_input_file=glove_crawl_file, word2vec_output_file=word2vec_crawl_file)"
   ]
  },
  {
   "cell_type": "markdown",
   "id": "bed1a11e-50a6-45d3-beea-b5bb3304a376",
   "metadata": {},
   "source": [
    "### Evaluating Embeddings"
   ]
  },
  {
   "cell_type": "code",
   "execution_count": 17,
   "id": "eab22642-5615-4222-96d7-81e3e13c767f",
   "metadata": {},
   "outputs": [],
   "source": [
    "results_path = Path('results', 'glove')"
   ]
  },
  {
   "cell_type": "code",
   "execution_count": 18,
   "id": "fa26b813-4367-4e79-9e09-870b578ffc57",
   "metadata": {},
   "outputs": [],
   "source": [
    "def eval_analogies(file_name, vocab=30000):\n",
    "    model = KeyedVectors.load_word2vec_format(file_name, binary=False)\n",
    "    accuracy = model.wv.accuracy(analogies_path,\n",
    "                                 restrict_vocab=vocab,\n",
    "                                 case_insensitive=True)\n",
    "    return (pd.DataFrame([[c['section'],\n",
    "                           len(c['correct']),\n",
    "                           len(c['incorrect'])] for c in accuracy],\n",
    "                         columns=['category', 'correct', 'incorrect'])\n",
    "            .assign(samples=lambda x: x.correct.add(x.incorrect))\n",
    "            .assign(average=lambda x: x.correct.div(x.samples))\n",
    "            .drop(['correct', 'incorrect'], axis=1))"
   ]
  },
  {
   "cell_type": "code",
   "execution_count": 19,
   "id": "cf4922e8-be7c-4337-859a-52f6e00fa787",
   "metadata": {},
   "outputs": [],
   "source": [
    "result = eval_analogies(word2vec_twitter_file, vocab=100000)"
   ]
  },
  {
   "cell_type": "markdown",
   "id": "2470e9d4-e439-4805-93c3-61bc2b118f8f",
   "metadata": {},
   "source": [
    "#### Twitter Result"
   ]
  },
  {
   "cell_type": "code",
   "execution_count": 20,
   "id": "09ed9ced-c5af-4ae5-96e7-6fa3f2f548c4",
   "metadata": {},
   "outputs": [],
   "source": [
    "twitter_result = eval_analogies(word2vec_twitter_file, vocab=100000)\n",
    "twitter_result.to_csv(glove_path / 'accuracy_twitter.csv', index=False)\n",
    "\n",
    "twitter_result"
   ]
  },
  {
   "cell_type": "markdown",
   "id": "a582118e-2dac-46b4-8a37-5d4f7f29a8bc",
   "metadata": {},
   "source": [
    "#### Wiki Result"
   ]
  },
  {
   "cell_type": "code",
   "execution_count": 21,
   "id": "5fec5c42-c8fa-4064-a99b-074e4b274171",
   "metadata": {},
   "outputs": [],
   "source": [
    "wiki_result = eval_analogies(word2vec_wiki_file, vocab=100000)\n",
    "wiki_result.to_csv(glove_path / 'accuracy_wiki.csv', index=False)\n",
    "\n",
    "wiki_result"
   ]
  },
  {
   "cell_type": "markdown",
   "id": "163af6a8-dc2d-4377-ab99-84354478838b",
   "metadata": {},
   "source": [
    "### Common Crawl Result"
   ]
  },
  {
   "cell_type": "code",
   "execution_count": 22,
   "id": "b2335c7e-39b4-4ba9-83c6-d906497d4e73",
   "metadata": {},
   "outputs": [],
   "source": [
    "crawl_result = eval_analogies(word2vec_crawl_file, vocab=100000)\n",
    "crawl_result.to_csv(glove_path / 'accuracy_crawl.csv', index=False)\n",
    "\n",
    "crawl_result"
   ]
  },
  {
   "cell_type": "markdown",
   "id": "9dfd00c5-52c5-463c-9980-223ef804ba04",
   "metadata": {},
   "source": [
    "### Combining & Comparing Results"
   ]
  },
  {
   "cell_type": "code",
   "execution_count": 23,
   "id": "2f65ec92-2646-46d2-a9b1-6268e4415507",
   "metadata": {},
   "outputs": [],
   "source": [
    "cat_dict = {'capital-common-countries':'Capitals',\n",
    "            'capital-world':'Capitals RoW',\n",
    "            'city-in-state':'City-State',\n",
    "            'currency':'Currency',\n",
    "            'family':'Famliy',\n",
    "            'gram1-adjective-to-adverb':'Adj-Adverb',\n",
    "            'gram2-opposite':'Opposite',\n",
    "            'gram3-comparative':'Comparative',\n",
    "            'gram4-superlative':'Superlative',\n",
    "            'gram5-present-participle':'Pres. Part.',\n",
    "            'gram6-nationality-adjective':'Nationality',\n",
    "            'gram7-past-tense':'Past Tense',\n",
    "            'gram8-plural':'Plural',\n",
    "            'gram9-plural-verbs':'Plural Verbs',\n",
    "            'total':'Total'}"
   ]
  },
  {
   "cell_type": "code",
   "execution_count": 24,
   "id": "935430aa-66d8-43fc-a607-df05680e57b0",
   "metadata": {},
   "outputs": [],
   "source": [
    "accuracy = (twitter_result.assign(glove='Twitter')\n",
    "            .append(wiki_result.assign(glove='Wiki'))\n",
    "            .append(crawl_result.assign(glove='Crawl')))"
   ]
  },
  {
   "cell_type": "code",
   "execution_count": 25,
   "id": "b9613a40-eba5-4dac-aeaa-cd078c73b7de",
   "metadata": {},
   "outputs": [],
   "source": [
    "accuracy.category = accuracy.category.replace(cat_dict)\n",
    "\n",
    "accuracy = accuracy.rename(columns=str.capitalize)"
   ]
  },
  {
   "cell_type": "code",
   "execution_count": 26,
   "id": "a6ede6e2-6b3a-46b8-a6c6-380d18bfb357",
   "metadata": {},
   "outputs": [],
   "source": [
    "accuracy.to_csv(results_path / 'accuracy.csv', index=False)"
   ]
  },
  {
   "cell_type": "code",
   "execution_count": 27,
   "id": "da7da57d-54b2-47c6-afd5-8119c3c50576",
   "metadata": {},
   "outputs": [],
   "source": [
    "accuracy = pd.read_csv(results_path / 'accuracy.csv')"
   ]
  },
  {
   "cell_type": "code",
   "execution_count": 28,
   "id": "587a16a9-d095-407a-8ac6-4368cca24c24",
   "metadata": {},
   "outputs": [],
   "source": [
    "fig, ax = plt.subplots(figsize=(16, 4))\n",
    "\n",
    "sns.barplot(x='Category', y='Average', hue='Glove', data=accuracy, ax=ax)\n",
    "ax.set_title(f'Word Vector Accuracy by Glove Source: Twitter: {0.564228:.2%}, Wiki: {0.75444:.2%}, Crawl: {0.779347:.2%}')\n",
    "ax.set_ylim(0,1)\n",
    "ax.yaxis.set_major_formatter(FuncFormatter(lambda y, _: '{:.0%}'.format(y)))\n",
    "sns.despine()\n",
    "fig.tight_layout()\n",
    "fig.savefig(results_path / 'glove_accuracy', dpi=300);\n",
    "plt.show()"
   ]
  },
  {
   "cell_type": "markdown",
   "id": "2648f2d8-613f-4564-8f14-2cf87a133b00",
   "metadata": {},
   "source": [
    "### Visualizing Embeddings\n",
    "\n",
    "#### Loading GloVe Wiki Vectors"
   ]
  },
  {
   "cell_type": "code",
   "execution_count": 29,
   "id": "62de9b92-0af4-4d65-bf1a-aa5c3581e7bc",
   "metadata": {},
   "outputs": [],
   "source": [
    "model = KeyedVectors.load_word2vec_format(word2vec_wiki_file, binary=False)"
   ]
  },
  {
   "cell_type": "code",
   "execution_count": 30,
   "id": "f9f8cf43-c461-4f12-8c3f-2075e804f3f3",
   "metadata": {},
   "outputs": [],
   "source": [
    "accuracy = model.accuracy(questions=str(analogies_path), restrict_vocab=100000)"
   ]
  },
  {
   "cell_type": "code",
   "execution_count": 31,
   "id": "ff4931a8-f902-462b-9aea-112d4c15107a",
   "metadata": {},
   "outputs": [],
   "source": [
    "vectors = model.vectors[:100000]\n",
    "vectors /= norm(vectors, axis=1).reshape(-1, 1)\n",
    "\n",
    "vectors.shape"
   ]
  },
  {
   "cell_type": "code",
   "execution_count": 32,
   "id": "19d5b9fc-8941-4f5d-ad91-897cc624cb78",
   "metadata": {},
   "outputs": [],
   "source": [
    "words = model.index2word[:100000]\n",
    "\n",
    "word2id = {w:i for i, w in enumerate(words)}"
   ]
  },
  {
   "cell_type": "markdown",
   "id": "f6a8ba04-6da8-49fa-9ef9-6ce968915e40",
   "metadata": {},
   "source": [
    "### Project Embedding into 2-D"
   ]
  },
  {
   "cell_type": "code",
   "execution_count": 33,
   "id": "03f0e987-d1a1-499f-bde8-003a03f7fc02",
   "metadata": {},
   "outputs": [],
   "source": [
    "pca = IncrementalPCA(n_components=2)\n",
    "\n",
    "vectors2D = pca.fit_transform(vectors)\n",
    "pd.Series(pca.explained_variance_ratio_).mul(100)"
   ]
  },
  {
   "cell_type": "markdown",
   "id": "734be7e1-b939-4c03-9185-4c52eb3c1f09",
   "metadata": {},
   "source": [
    "#### Plotting Analogy Examples"
   ]
  },
  {
   "cell_type": "code",
   "execution_count": 34,
   "id": "d241e66d-d76c-4bcd-8471-694d9f20b62a",
   "metadata": {},
   "outputs": [],
   "source": [
    "results = pd.DataFrame()\n",
    "\n",
    "correct = incorrect = 0\n",
    "\n",
    "for section in accuracy:\n",
    "    correct += len(section['correct'])\n",
    "    incorrect += len(section['incorrect'])\n",
    "    df = pd.DataFrame(section['correct']).apply(lambda x: x.str.lower()).assign(section=section['section'])\n",
    "    results = pd.concat([results, df])"
   ]
  },
  {
   "cell_type": "code",
   "execution_count": 35,
   "id": "6df4e966-1429-4a40-ab1c-f09ffe373eff",
   "metadata": {},
   "outputs": [],
   "source": [
    "def find_most_similar_analogy(v):\n",
    "    \"\"\"Find analogy that most similar in 2D\"\"\"\n",
    "    v1 = vectors2D[v[1]] - vectors2D[v[0]]\n",
    "    v2 = vectors2D[v[3]] - vectors2D[v[2]]\n",
    "    idx, most_similar = None, np.inf\n",
    "    \n",
    "    for i in range(len(v1)):\n",
    "        similarity = cosine(v1[i], v2[i])\n",
    "        if similarity < most_similar:\n",
    "            idx = i\n",
    "            most_similar = similarity\n",
    "    return idx"
   ]
  },
  {
   "cell_type": "code",
   "execution_count": 36,
   "id": "9aa0e988-fdcd-45e4-adcb-f2d7bca28618",
   "metadata": {},
   "outputs": [],
   "source": [
    "def get_plot_lims(coordinates):\n",
    "    xlim, ylim = coordinates.agg(['min', 'max']).T.values\n",
    "    xrange, yrange = (xlim[1] - xlim[0]) * .1, (ylim[1] - ylim[0]) * .1\n",
    "    xlim[0], xlim[1] = xlim[0] - xrange, xlim[1] + xrange\n",
    "    ylim[0], ylim[1] = ylim[0] - yrange, ylim[1] + yrange\n",
    "    return xlim, ylim"
   ]
  },
  {
   "cell_type": "code",
   "execution_count": 37,
   "id": "6d950e2b-299c-41e2-a8b6-c45513ded0ee",
   "metadata": {},
   "outputs": [],
   "source": [
    "fig, axes = plt.subplots(nrows=3, ncols=4, figsize=(16, 9))\n",
    "\n",
    "axes = axes.flatten()\n",
    "\n",
    "fc = ec = 'darkgrey'\n",
    "\n",
    "for s, (section, result) in enumerate(results.groupby('section')):\n",
    "    if s > 11:\n",
    "        break\n",
    "        \n",
    "    df = result.drop('section', axis=1).apply(lambda x: x.map(word2id))\n",
    "    most_similar_idx = find_most_similar_analogy(df)\n",
    "    \n",
    "    best_analogy = result.iloc[most_similar_idx, :4].tolist()\n",
    "\n",
    "    analogy_idx = [words.index(word) for word in best_analogy]\n",
    "    best_analogy = [a.capitalize() for a in best_analogy]\n",
    "    \n",
    "    coords = pd.DataFrame(vectors2D[analogy_idx])  # xy array\n",
    "    \n",
    "    xlim, ylim = get_plot_lims(coords)\n",
    "    axes[s].set_xlim(xlim)\n",
    "    axes[s].set_ylim(ylim)\n",
    "\n",
    "    for i in [0, 2]:\n",
    "        axes[s].annotate(s=best_analogy[i], xy=coords.iloc[i+1], xytext=coords.iloc[i],\n",
    "                         arrowprops=dict(width=1,headwidth=5, headlength=5,\n",
    "                                         fc=fc, ec=ec, shrink=.1),\n",
    "                         fontsize=12)\n",
    "    \n",
    "        axes[s].annotate(best_analogy[i+1], xy=coords.iloc[i+1],\n",
    "                         xytext=coords.iloc[i+1],\n",
    "                         va='center', ha='center',\n",
    "                         fontsize=12, color='darkred' if i == 2 else 'k');\n",
    "\n",
    "    axes[s].axis('off')\n",
    "    title = ' '.join([s.capitalize()\n",
    "                      for s in section.split('-') if not s.startswith('gram')])\n",
    "    axes[s].set_title(title, fontsize=16)\n",
    "\n",
    "fig.suptitle('word2vec Embeddings | Analogy Examples', fontsize=18)\n",
    "fig.tight_layout()\n",
    "fig.subplots_adjust(top=.9);\n",
    "plt.show()"
   ]
  },
  {
   "cell_type": "code",
   "execution_count": null,
   "id": "f805d52e-2895-4416-9925-9a9fa8b9932c",
   "metadata": {},
   "outputs": [],
   "source": []
  }
 ],
 "metadata": {
  "kernelspec": {
   "display_name": "Python 3 (ipykernel)",
   "language": "python",
   "name": "python3"
  },
  "language_info": {
   "codemirror_mode": {
    "name": "ipython",
    "version": 3
   },
   "file_extension": ".py",
   "mimetype": "text/x-python",
   "name": "python",
   "nbconvert_exporter": "python",
   "pygments_lexer": "ipython3",
   "version": "3.12.9"
  }
 },
 "nbformat": 4,
 "nbformat_minor": 5
}
