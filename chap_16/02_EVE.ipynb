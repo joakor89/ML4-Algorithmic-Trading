{
 "cells": [
  {
   "cell_type": "markdown",
   "id": "c2c140bc-eadc-4925-af6f-d6fe50b9fb8c",
   "metadata": {},
   "source": [
    "# How to Evaluate Embeddings: Using Linear Algebra & Analogies\n",
    "\n",
    "### Loading Libraries"
   ]
  },
  {
   "cell_type": "code",
   "execution_count": 1,
   "id": "85d17554-999a-477b-a98b-0be52b502f68",
   "metadata": {},
   "outputs": [],
   "source": [
    "# Numerical Computing\n",
    "import numpy as np\n",
    "\n",
    "# Data Manipulation\n",
    "import pandas as pd\n",
    "\n",
    "# Data Visualization\n",
    "import seaborn as sns\n",
    "import matplotlib.pyplot as plt\n",
    "\n",
    "# Warnings\n",
    "import warnings\n",
    "\n",
    "# Time, Collection & Path\n",
    "from time import time\n",
    "from collections import Counter\n",
    "from pathlib import Path"
   ]
  },
  {
   "cell_type": "code",
   "execution_count": 2,
   "id": "d7390722-edcf-43ae-8f69-b2b76b7c522a",
   "metadata": {},
   "outputs": [],
   "source": [
    "np.random.seed(42)\n",
    "\n",
    "sns.set_style('white')\n",
    "\n",
    "pd.set_option('float_format', '{:,.2f}'.format)"
   ]
  },
  {
   "cell_type": "code",
   "execution_count": 3,
   "id": "41c1b841-2d84-43de-8504-877bc27547dc",
   "metadata": {},
   "outputs": [],
   "source": [
    "analogy_path = Path('data', 'analogies-en.txt')"
   ]
  },
  {
   "cell_type": "code",
   "execution_count": 4,
   "id": "25774bff-7e1b-41ee-9a99-45d03c5fac6a",
   "metadata": {},
   "outputs": [],
   "source": [
    "def format_time(t):\n",
    "    m, s = divmod(t, 60)\n",
    "    h, m = divmod(m, 60)\n",
    "    return f'{h:02.0f}:{m:02.0f}:{s:02.0f}'"
   ]
  },
  {
   "cell_type": "markdown",
   "id": "cc3529d4-a5d7-4c33-89ad-866c4c4cd097",
   "metadata": {},
   "source": [
    "### Evaluation: `Analogies`"
   ]
  },
  {
   "cell_type": "code",
   "execution_count": 6,
   "id": "7444dc52-9c48-4eb4-8521-277da5716882",
   "metadata": {},
   "outputs": [],
   "source": [
    "df = pd.read_csv(analogy_path, header=None, names=['category'], squeeze=True)\n",
    "\n",
    "categories = df[df.str.startswith(':')]\n",
    "\n",
    "analogies = df[~df.str.startswith(':')].str.split(expand=True)\n",
    "analogies.columns = list('abcd')"
   ]
  },
  {
   "cell_type": "code",
   "execution_count": 7,
   "id": "71736097-d8e8-416d-8cd0-da3c78d28233",
   "metadata": {},
   "outputs": [],
   "source": [
    "df = pd.concat([categories, analogies], axis=1)\n",
    "\n",
    "df.category = df.category.ffill()\n",
    "\n",
    "df = df[df['a'].notnull()]\n",
    "\n",
    "df.head()"
   ]
  },
  {
   "cell_type": "code",
   "execution_count": 8,
   "id": "91bfe952-f8e6-43e0-8b8b-e8be429cdb17",
   "metadata": {},
   "outputs": [],
   "source": [
    "analogy_cnt = df.groupby('category').size().sort_values(ascending=False).to_frame('n')\n",
    "\n",
    "analogy_example = df.groupby('category').first()"
   ]
  },
  {
   "cell_type": "code",
   "execution_count": 9,
   "id": "f719328b-b73a-4615-9a7c-8c0a519067de",
   "metadata": {},
   "outputs": [],
   "source": [
    "analogy_cnt.join(analogy_example)"
   ]
  },
  {
   "cell_type": "code",
   "execution_count": 10,
   "id": "e00e9254-f65d-4283-ac4b-2a2753e8812f",
   "metadata": {},
   "outputs": [],
   "source": [
    "analogy_cnt.join(analogy_example)['n'].sort_values().plot.barh(title='# Analogies by Category',\n",
    "                                                               figsize=(14, 6))\n",
    "\n",
    "sns.despine()\n",
    "plt.tight_layout()\n",
    "plt.show()"
   ]
  },
  {
   "cell_type": "code",
   "execution_count": null,
   "id": "f9706c9e-f0b7-4da7-affe-062dc69880c7",
   "metadata": {},
   "outputs": [],
   "source": []
  }
 ],
 "metadata": {
  "kernelspec": {
   "display_name": "Python 3 (ipykernel)",
   "language": "python",
   "name": "python3"
  },
  "language_info": {
   "codemirror_mode": {
    "name": "ipython",
    "version": 3
   },
   "file_extension": ".py",
   "mimetype": "text/x-python",
   "name": "python",
   "nbconvert_exporter": "python",
   "pygments_lexer": "ipython3",
   "version": "3.12.9"
  }
 },
 "nbformat": 4,
 "nbformat_minor": 5
}
