{
 "cells": [
  {
   "cell_type": "markdown",
   "id": "600b9f2f-a6c3-4269-b594-daaa54bb956a",
   "metadata": {},
   "source": [
    "# Pair Trading: Backtest with Backtrader\n",
    "\n",
    "### Loading Libraries"
   ]
  },
  {
   "cell_type": "code",
   "execution_count": 1,
   "id": "465e48ae-935e-446a-aef4-d420ba770566",
   "metadata": {},
   "outputs": [],
   "source": [
    "# Numerical Computing\n",
    "import numpy as np\n",
    "\n",
    "# Data Manipulation\n",
    "import pandas as pd\n",
    "import pandas_datareader.data as web\n",
    "\n",
    "# Data Visualization\n",
    "import seaborn as sns\n",
    "import matplotlib.pyplot as plt\n",
    "\n",
    "# CSV, Time & Collections\n",
    "import csv\n",
    "from time import time\n",
    "from datetime import date\n",
    "from collections import defaultdict\n",
    "\n",
    "# Dataclass\n",
    "from dataclasses import dataclass, asdict\n",
    "\n",
    "# Path\n",
    "from pathlib import Path\n",
    "\n",
    "# Backtrader\n",
    "import backtrader as bt\n",
    "from backtrader.feeds import PandasData\n",
    "\n",
    "# Pyfolio\n",
    "import pyfolio as pf\n",
    "\n",
    "# Warnings\n",
    "import warnings"
   ]
  },
  {
   "cell_type": "code",
   "execution_count": 2,
   "id": "806024af-79fd-4323-a379-e0aba3062be0",
   "metadata": {},
   "outputs": [],
   "source": [
    "idx = pd.IndexSlice\n",
    "\n",
    "sns.set_style('dark')\n",
    "\n",
    "warnings.filterwarnings('ignore')\n",
    "\n",
    "pd.set_option('display.float_format', lambda x: f'{x:,.2f}')"
   ]
  },
  {
   "cell_type": "code",
   "execution_count": 3,
   "id": "7383352c-fa55-4eba-b04a-2b10e51f118e",
   "metadata": {},
   "outputs": [],
   "source": [
    "STORE = 'backtest.h5'"
   ]
  },
  {
   "cell_type": "code",
   "execution_count": 4,
   "id": "a5e02d6d-4c17-4846-a06b-8377e681937f",
   "metadata": {},
   "outputs": [],
   "source": [
    "def format_time(t):\n",
    "    m_, s = divmod(t, 60)\n",
    "    h, m = divmod(m_, 60)\n",
    "    return f'{h:>02.0f}:{m:>02.0f}:{s:>02.0f}'"
   ]
  },
  {
   "cell_type": "markdown",
   "id": "9109769a-02a9-4f0d-83a0-00667b5616db",
   "metadata": {},
   "source": [
    "### Pairs Trading Backtest\n",
    "\n",
    "#### Pairs DataClass"
   ]
  },
  {
   "cell_type": "code",
   "execution_count": 5,
   "id": "b4d33316-81d2-42b2-b4e9-c4e592a6354f",
   "metadata": {},
   "outputs": [],
   "source": [
    "@dataclass\n",
    "class Pair:\n",
    "    period: int\n",
    "    s1: str\n",
    "    s2: str\n",
    "    size1: float\n",
    "    size2: float\n",
    "    long: bool\n",
    "    hr: float\n",
    "    p1: float\n",
    "    p2: float\n",
    "    pos1: float\n",
    "    pos2: float\n",
    "    exec1: bool = False\n",
    "    exec2: bool = False\n",
    "    active: bool = False\n",
    "    entry_date: date = None\n",
    "    exit_date: date = None\n",
    "    entry_spread: float = np.nan\n",
    "    exit_spread: float = np.nan\n",
    "\n",
    "    def executed(self):\n",
    "        return self.exec1 and self.exec2\n",
    "\n",
    "    def get_constituent(self, name):\n",
    "        if name == self.s1:\n",
    "            return 1\n",
    "        elif name == self.s2:\n",
    "            return 2\n",
    "        else:\n",
    "            return 0\n",
    "\n",
    "    def compute_spread(self, p1, p2):\n",
    "        return p1 * self.size1 + p2 * self.size2\n",
    "\n",
    "    def compute_spread_return(self, p1, p2):\n",
    "        current_spread = self.compute_spread(p1, p2)\n",
    "        delta = self.entry_spread - current_spread\n",
    "        return (delta / (np.sign(self.entry_spread) *\n",
    "                         self.entry_spread))"
   ]
  },
  {
   "cell_type": "markdown",
   "id": "b857d73e-8475-41cd-b02a-929d1f2806e9",
   "metadata": {},
   "source": [
    "### Pandas Data Definition"
   ]
  },
  {
   "cell_type": "code",
   "execution_count": 6,
   "id": "5dc017da-70f1-422a-bc50-b1ca731f1187",
   "metadata": {},
   "outputs": [],
   "source": [
    "class CustomData(PandasData):\n",
    "    \"\"\"\n",
    "    Define pandas DataFrame structure\n",
    "    \"\"\"\n",
    "    cols = ['open', 'high', 'low', 'close', 'volume']\n",
    "\n",
    "    # Create =Lines\n",
    "    lines = tuple(cols)\n",
    "\n",
    "    # Defining Parameters\n",
    "    params = {c: -1 for c in cols}\n",
    "    params.update({'datetime': None})\n",
    "    params = tuple(params.items())"
   ]
  },
  {
   "cell_type": "markdown",
   "id": "aebaca47-3498-430a-b35f-53190eddf4a1",
   "metadata": {},
   "source": [
    "### Defining Trading Strategy"
   ]
  },
  {
   "cell_type": "code",
   "execution_count": 7,
   "id": "40cc78c3-faf6-494f-89a8-fe2c8dc978f6",
   "metadata": {},
   "outputs": [],
   "source": [
    "class StatisticalArbitrageCointegration(bt.Strategy):\n",
    "    params = (('trades', None),\n",
    "              ('risk_limit', -.2),\n",
    "              ('verbose', True),\n",
    "              ('log_file', 'backtest.csv'))\n",
    "\n",
    "    def __init__(self):\n",
    "        self.active_pairs = {}\n",
    "        self.closing_pairs = {}\n",
    "        self.exposure = []\n",
    "        self.metrics = []\n",
    "        self.last_close = {}\n",
    "        self.cnt = 0\n",
    "        self.today = None\n",
    "        self.clear_log()\n",
    "        self.order_status = dict(enumerate(['Created', 'Submitted', 'Accepted',\n",
    "                                            'Partial', 'Completed', 'Canceled',\n",
    "                                            'Expired', 'Margin', 'Rejected']))\n",
    "\n",
    "    def clear_log(self):\n",
    "        if Path(self.p.log_file).exists():\n",
    "            Path(self.p.log_file).unlink()\n",
    "        with Path(self.p.log_file).open('a') as f:\n",
    "            log_writer = csv.writer(f)\n",
    "            log_writer.writerow(\n",
    "                    ['Date', 'Pair', 'Symbol', 'Order #', 'Reason',\n",
    "                     'Status', 'Long', 'Price', 'Size', 'Position'])\n",
    "\n",
    "    def log(self, txt, dt=None):\n",
    "        \"\"\" Logger for the strategy\"\"\"\n",
    "        dt = dt or self.datas[0].datetime.datetime(0)\n",
    "        with Path(self.p.log_file).open('a') as f:\n",
    "            log_writer = csv.writer(f)\n",
    "            log_writer.writerow([dt.date()] + txt.split(','))\n",
    "\n",
    "    def get_pair_id(self, s1, s2, period):\n",
    "        return f'{s1}.{s2}.{period}'\n",
    "\n",
    "    def check_risk_limit(self):\n",
    "        for pair_id, pair in list(self.active_pairs.items()):\n",
    "            if pair.active:\n",
    "                p1 = self.last_close.get(pair.s1)\n",
    "                p2 = self.last_close.get(pair.s2)\n",
    "                ret = pair.compute_spread_return(p1, p2)\n",
    "                if ret < self.p.risk_limit:\n",
    "                    self.log(f'{pair_id},{pair.s1},{pair.s2},Risk Limit,{ret},')\n",
    "                    del self.active_pairs[pair_id]\n",
    "                    self.sell_pair(pair_id, pair)\n",
    "\n",
    "    def sell_pair(self, pair_id, pair, reason='close'):\n",
    "        info = {'pair': pair_id, 'type': reason}\n",
    "        if pair.long:\n",
    "            o1 = self.sell(data=pair.s1, size=abs(pair.size1), info=info)\n",
    "            o2 = self.buy(data=pair.s2, size=abs(pair.size2), info=info)\n",
    "        else:\n",
    "            o1 = self.buy(data=pair.s1, size=abs(pair.size1), info=info)\n",
    "            o2 = self.sell(data=pair.s2, size=abs(pair.size2), info=info)\n",
    "        pair.active = False\n",
    "        pair.exec1 = pair.exec2 = False\n",
    "        self.closing_pairs[pair_id] = pair\n",
    "\n",
    "        self.log(f'{pair_id},{pair.s1},{o1.ref},{reason},Created,{pair.long},,{pair.size1},')\n",
    "        self.log(f'{pair_id},{pair.s2},{o2.ref},{reason},Created,{pair.long},,{pair.size2},')\n",
    "\n",
    "    def notify_order(self, order):\n",
    "        symbol = order.data._name\n",
    "        if order.status in [order.Submitted, order.Accepted]:\n",
    "            return\n",
    "        if order.status in [order.Completed]:\n",
    "            p = order.executed.price\n",
    "            s = order.executed.size\n",
    "            order_type = order.info.info['type']\n",
    "            if order_type in ['open', 'close']:\n",
    "                pair_id = order.info.info['pair']\n",
    "                if order_type == 'open':\n",
    "                    pair = self.active_pairs.get(pair_id)\n",
    "                else:\n",
    "                    pair = self.closing_pairs.get(pair_id)\n",
    "                if pair is None:\n",
    "                    self.log(f'{pair_id},{symbol},{order.ref},{order_type},Completed (missing),,{p},{s},{p * s}')\n",
    "                    return\n",
    "                component = pair.get_constituent(symbol)\n",
    "                if component == 1:\n",
    "                    pair.p1 = p\n",
    "                    pair.exec1 = True\n",
    "                elif component == 2:\n",
    "                    pair.p2 = p\n",
    "                    pair.exec2 = True\n",
    "                if pair.executed():\n",
    "                    pair.exec1 = False\n",
    "                    pair.exec2 = False\n",
    "                    if order_type == 'open':\n",
    "                        pair.entry_spread = pair.compute_spread(p1=pair.p1, p2=pair.p2)\n",
    "                        pair.entry_date = self.today\n",
    "                        pair.active = True\n",
    "                    elif order_type == 'close':\n",
    "                        pair.exit_spread = pair.compute_spread(p1=pair.p1, p2=pair.p2)\n",
    "                        pair.exit_date = self.today\n",
    "                        pair.active = False\n",
    "                        self.closing_pairs.pop(pair_id)\n",
    "                self.log(f'{pair_id},{symbol},{order.ref},{order_type},Completed,{pair.long},{p},{s},{p * s}')\n",
    "            else:\n",
    "                self.log(f',{symbol},{order.ref},{order_type},Completed,,{p},{s},{p * s}')\n",
    "\n",
    "        elif order.status in [order.Canceled, order.Margin, order.Rejected]:\n",
    "            order_type = order.info.info['type']\n",
    "            self.log(f',{symbol},{order.ref},{order_type},{self.order_status[order.status]},,,,')\n",
    "\n",
    "    def enter_pairs(self, df, long=True):\n",
    "        for s1, s2, hr, period in zip(df.s1, df.s2, df.hedge_ratio, df.period):\n",
    "            pair_id = self.get_pair_id(s1, s2, period)\n",
    "            if self.active_pairs.get(pair_id):\n",
    "                continue\n",
    "\n",
    "            p1 = self.last_close[s1]\n",
    "            p2 = self.last_close[s2]\n",
    "            if long:\n",
    "                size1 = self.target_value / p1\n",
    "                size2 = hr * size1\n",
    "            else:\n",
    "                size2 = self.target_value / p2\n",
    "                size1 = 1 / hr * size2\n",
    "\n",
    "            pair = Pair(s1=s1, s2=s2, period=period, size1=size1, size2=size2,\n",
    "                        pos1=p1 * size1, pos2=p2 * size2,\n",
    "                        hr=hr, long=long, p1=p1, p2=p2, entry_date=self.today)\n",
    "            info = {'pair': pair_id, 'type': 'open'}\n",
    "            if long:\n",
    "                o1 = self.buy(data=s1, size=size1, info=info)\n",
    "                o2 = self.sell(data=s2, size=abs(size2), info=info)\n",
    "            else:\n",
    "                o1 = self.sell(data=pair.s1, size=abs(pair.size1), info=info)\n",
    "                o2 = self.buy(data=pair.s2, size=abs(pair.size2), info=info)\n",
    "\n",
    "            self.active_pairs[pair_id] = pair\n",
    "\n",
    "            self.log(f'{pair_id},{s1},{o1.ref},Open,Created,{long},{p1},{size1},{pair.pos1}')\n",
    "            self.log(f'{pair_id},{s2},{o2.ref},Open,Created,{long},{p2},{size2},{pair.pos2}')\n",
    "\n",
    "    def adjust_pairs(self):\n",
    "        orders = defaultdict(float)\n",
    "        pairs = defaultdict(list)\n",
    "        for pair_id, pair in self.active_pairs.items():\n",
    "            p1, p2 = self.last_close[pair.s1], self.last_close[pair.s2]\n",
    "            pos1, pos2 = pair.size1 * p1, pair.size2 * p2\n",
    "\n",
    "            if pair.long:\n",
    "                target_size1 = self.target_value / p1\n",
    "                orders[pair.s1] += target_size1 - pair.size1\n",
    "                target_size2 = pos2 / pos1 * self.target_value / p2\n",
    "                orders[pair.s2] += target_size2 - pair.size2\n",
    "            else:\n",
    "                target_size2 = self.target_value / p2\n",
    "                orders[pair.s2] += target_size2 - pair.size2\n",
    "                target_size1 = pos1 / pos2 * self.target_value / p1\n",
    "                orders[pair.s1] += target_size1 - pair.size1\n",
    "            pair.size1 = target_size1\n",
    "            pair.size2 = target_size2\n",
    "            pairs[pair.s1].append(pair_id)\n",
    "            pairs[pair.s2].append(pair_id)\n",
    "\n",
    "        for symbol, size in orders.items():\n",
    "            info = {'pairs': pairs[symbol], 'type': 'adjust'}\n",
    "            if size > 0:\n",
    "                order = self.buy(symbol, size=size, info=info)\n",
    "            elif size < 0:\n",
    "                order = self.sell(symbol, size=abs(size), info=info)\n",
    "            else:\n",
    "                continue\n",
    "            self.log(f',{symbol},{order.ref},Adjust,Created,{size}')\n",
    "\n",
    "    def prenext(self):\n",
    "        self.next()\n",
    "\n",
    "    def next(self):\n",
    "        self.today = pd.Timestamp(self.datas[0].datetime.date())\n",
    "        if self.today not in self.p.trades.index:\n",
    "            return\n",
    "        self.cnt += 1\n",
    "\n",
    "        pf = self.broker.get_value()\n",
    "        cash = self.broker.get_cash()\n",
    "\n",
    "        exp = {d._name: pos.size for d, pos in self.getpositions().items() if pos}\n",
    "        self.last_close = {d._name: d.close[0] for d in self.datas}\n",
    "        exposure = pd.DataFrame({'price'   : pd.Series(self.last_close),\n",
    "                                 'position': pd.Series(exp)}).replace(0, np.nan).dropna()\n",
    "        exposure['value'] = exposure.price * exposure.position\n",
    "        positions = exposure.value.to_dict()\n",
    "        positions['date'] = self.today\n",
    "        positions['cash'] = cash\n",
    "        if not exposure.empty:\n",
    "            self.exposure.append(positions)\n",
    "            long_pos = exposure[exposure.value > 0].value.sum()\n",
    "            short_pos = exposure[exposure.value < 0].value.sum()\n",
    "            for symbol, row in exposure.iterrows():\n",
    "                self.log(f',{symbol},,Positions,Log,,{row.price},{row.position},{row.value}')\n",
    "        else:\n",
    "            long_pos = short_pos = 0\n",
    "\n",
    "        trades = self.p.trades.loc[self.today]\n",
    "        if isinstance(trades, pd.Series):\n",
    "            trades = trades.to_frame().T\n",
    "\n",
    "        close = trades[trades.side == 0].sort_values('period')\n",
    "        for s1, s2, period in zip(close.s1, close.s2, close.period):\n",
    "            pair_id = self.get_pair_id(s1, s2, period)\n",
    "            pair = self.active_pairs.pop(pair_id, None)\n",
    "            if pair is None:\n",
    "                self.log(f'{pair_id},,,Close Attempt,Failed,,,,')\n",
    "                continue\n",
    "            self.sell_pair(pair_id, pair)\n",
    "\n",
    "        if len(self.active_pairs) > 0:\n",
    "            self.check_risk_limit()\n",
    "\n",
    "        long = trades[trades.side == 1]\n",
    "        short = trades[trades.side == -1]\n",
    "        if long.empty and short.empty: return\n",
    "        target = 1 / (len(long) + len(short) + len(self.active_pairs))\n",
    "        self.target_value = pf * target\n",
    "        metrics = [self.today, pf, pf - cash, cash, len(exposure), len(self.active_pairs), long_pos, short_pos,\n",
    "                   target, self.target_value, len(long), len(short), len(close)]\n",
    "        self.metrics.append(metrics)\n",
    "        if self.cnt % 21 == 0:\n",
    "            holdings = pf - cash\n",
    "            msg = f'PF: {pf:11,.0f} | Net: {holdings: 11,.0f} | # Pos: {len(exposure):3,.0f} | # Pairs: {len(self.active_pairs):3,.0f} | '\n",
    "            msg += f'Long: {long_pos: 10,.0f} | Short: {short_pos: 10,.0f}'\n",
    "            print(self.today, msg)\n",
    "\n",
    "        self.adjust_pairs()\n",
    "\n",
    "        if not long.empty:\n",
    "            self.enter_pairs(long, long=True)\n",
    "\n",
    "        if not short.empty:\n",
    "            self.enter_pairs(short, long=False)"
   ]
  },
  {
   "cell_type": "markdown",
   "id": "51664394-409a-4382-a8bf-4fa86b161a0f",
   "metadata": {},
   "source": [
    "### Loading Trades"
   ]
  },
  {
   "cell_type": "code",
   "execution_count": 10,
   "id": "ba8c28d1-23ae-4d96-b78c-b766f39046ef",
   "metadata": {},
   "outputs": [],
   "source": [
    "trades = pd.read_hdf(STORE, 'pair_trades').sort_index()\n",
    "\n",
    "trades.info()"
   ]
  },
  {
   "cell_type": "code",
   "execution_count": 11,
   "id": "1aa54aa1-8fe0-4905-8c6f-8f11a20474a7",
   "metadata": {},
   "outputs": [],
   "source": [
    "trade_dates = np.unique(trades.index)\n",
    "\n",
    "start = trade_dates.min()\n",
    "end = trade_dates.max()\n",
    "\n",
    "traded_symbols = trades.s1.append(trades.s2).unique()"
   ]
  },
  {
   "cell_type": "markdown",
   "id": "2af28354-3971-4527-9512-379268ee80d8",
   "metadata": {},
   "source": [
    "### Loading Prices"
   ]
  },
  {
   "cell_type": "code",
   "execution_count": 12,
   "id": "576d09ef-f7c5-4136-a6ed-6a383348b99f",
   "metadata": {},
   "outputs": [],
   "source": [
    "prices = (pd.read_hdf(STORE, 'prices')\n",
    "          .sort_index()\n",
    "          .loc[idx[traded_symbols, str(start):str(end)], :])"
   ]
  },
  {
   "cell_type": "code",
   "execution_count": 13,
   "id": "d88e5728-6ab2-4553-8f6a-3340f78312f4",
   "metadata": {},
   "outputs": [],
   "source": [
    "prices.info(show_counts=True)"
   ]
  },
  {
   "cell_type": "markdown",
   "id": "3ad12f71-79e1-454e-a2e3-c182bf12b155",
   "metadata": {},
   "source": [
    "### Configuring `Cerebro`"
   ]
  },
  {
   "cell_type": "code",
   "execution_count": 14,
   "id": "e69ef911-4e87-4169-979c-6e607cfc01c2",
   "metadata": {},
   "outputs": [],
   "source": [
    "cerebro = bt.Cerebro()\n",
    "\n",
    "cash = 1000000\n",
    "\n",
    "cerebro.broker.setcash(cash)"
   ]
  },
  {
   "cell_type": "markdown",
   "id": "a17c93c5-75c8-4264-8b61-f5b8e9526706",
   "metadata": {},
   "source": [
    "### Adding Data"
   ]
  },
  {
   "cell_type": "code",
   "execution_count": 15,
   "id": "f30e2dd3-9997-4886-bd32-abc1088b63c4",
   "metadata": {},
   "outputs": [],
   "source": [
    "for symbol in traded_symbols:\n",
    "    df = prices.loc[idx[symbol, :], :].droplevel('ticker', axis=0)\n",
    "    df.index.name = 'datetime'\n",
    "    bt_data = CustomData(dataname=df)\n",
    "    cerebro.adddata(bt_data, name=symbol)"
   ]
  },
  {
   "cell_type": "markdown",
   "id": "73aa7ae6-1a9f-4d87-9bf9-37910108a0e0",
   "metadata": {},
   "source": [
    "### Adding Strategy & Analyzer"
   ]
  },
  {
   "cell_type": "code",
   "execution_count": 16,
   "id": "8d8a80b4-4a1b-45ea-a9da-9f746aebd0fc",
   "metadata": {},
   "outputs": [],
   "source": [
    "cerebro.addstrategy(StatisticalArbitrageCointegration,\n",
    "                    trades=trades, verbose=True,\n",
    "                    log_file='bt_log.csv')\n",
    "\n",
    "cerebro.addanalyzer(bt.analyzers.PyFolio, _name='pyfolio')"
   ]
  },
  {
   "cell_type": "markdown",
   "id": "dcb37b85-7814-495a-8212-32e71cddcf6c",
   "metadata": {},
   "source": [
    "### Running Strategy"
   ]
  },
  {
   "cell_type": "code",
   "execution_count": 18,
   "id": "af62c3b3-d8a6-41f2-932d-ea1876660e26",
   "metadata": {},
   "outputs": [],
   "source": [
    "start = time()\n",
    "results = cerebro.run()\n",
    "\n",
    "ending_value = cerebro.broker.getvalue()\n",
    "duration = time() - start\n",
    "\n",
    "print(f'Final Portfolio Value: {ending_value:,.2f} | Duration: {format_time(duration)}')"
   ]
  },
  {
   "cell_type": "markdown",
   "id": "5d201e92-e8de-4dbb-bc36-6b86d933f203",
   "metadata": {},
   "source": [
    "### Getting PyFolio Inputs"
   ]
  },
  {
   "cell_type": "code",
   "execution_count": 19,
   "id": "b7a15488-5f8c-4538-941a-622a2d0ee306",
   "metadata": {},
   "outputs": [],
   "source": [
    "pyfolio_analyzer = results[0].analyzers.getbyname('pyfolio')\n",
    "\n",
    "returns, positions, transactions, gross_lev = pyfolio_analyzer.get_pf_items()"
   ]
  },
  {
   "cell_type": "code",
   "execution_count": 20,
   "id": "5db3ddd3-dfcc-48a0-9730-12a4519329b6",
   "metadata": {},
   "outputs": [],
   "source": [
    "returns.to_hdf(STORE, 'returns')\n",
    "\n",
    "positions.to_hdf(STORE, 'positions')\n",
    "\n",
    "transactions.to_hdf(STORE, 'transactions/')\n",
    "\n",
    "gross_lev.to_hdf(STORE, 'gross_lev')"
   ]
  },
  {
   "cell_type": "markdown",
   "id": "f4df3e19-ea93-4e80-9bf8-06e70196a9c7",
   "metadata": {},
   "source": [
    "### Getting Positions"
   ]
  },
  {
   "cell_type": "code",
   "execution_count": 21,
   "id": "81166819-ecd9-4e54-9116-9fd3a13d2409",
   "metadata": {},
   "outputs": [],
   "source": [
    "traded_pairs = pd.DataFrame(results[0].exposure)\n",
    "\n",
    "traded_pairs.date = pd.to_datetime(traded_pairs.date)\n",
    "\n",
    "traded_pairs = traded_pairs.set_index('date').tz_localize('UTC')\n",
    "\n",
    "traded_pairs.to_hdf(STORE, 'traded_pairs')\n",
    "traded_pairs.info()"
   ]
  },
  {
   "cell_type": "markdown",
   "id": "9d619984-2fcd-493a-8912-9651b02da663",
   "metadata": {},
   "source": [
    "### Getting Metrics"
   ]
  },
  {
   "cell_type": "code",
   "execution_count": 22,
   "id": "bcb4b684-ed1a-40ff-995d-a5b6cfa75b38",
   "metadata": {},
   "outputs": [],
   "source": [
    "metrics = pd.DataFrame(results[0].metrics,\n",
    "                       columns=['date', 'pf', 'net_holdings', 'cash',\n",
    "                                'npositions', 'npairs', 'nlong_pos', 'nshort_pos',\n",
    "                                'target', 'target_val', 'nlong_trades',\n",
    "                                'nshort_trades', 'nclose_trades'])\n",
    "\n",
    "metrics.to_hdf(STORE, 'metrics')"
   ]
  },
  {
   "cell_type": "markdown",
   "id": "d3ab2709-5698-4c0a-a314-27fe89931e2d",
   "metadata": {},
   "source": [
    "### Running PyFolio Analysis"
   ]
  },
  {
   "cell_type": "code",
   "execution_count": 23,
   "id": "87852cbe-f8f8-4cfd-98bd-487e9c9f2ae1",
   "metadata": {},
   "outputs": [],
   "source": [
    "returns = pd.read_hdf(STORE, 'returns')\n",
    "\n",
    "transactions = pd.read_hdf(STORE, 'transactions/')\n",
    "\n",
    "gross_lev = pd.read_hdf(STORE, 'gross_lev')\n",
    "\n",
    "metrics = pd.read_hdf(STORE, 'metrics').set_index('date')"
   ]
  },
  {
   "cell_type": "code",
   "execution_count": 24,
   "id": "ccf44307-434b-4941-8643-3373c8c3b470",
   "metadata": {},
   "outputs": [],
   "source": [
    "metrics.info()"
   ]
  },
  {
   "cell_type": "code",
   "execution_count": 25,
   "id": "a1136228-d977-4ae9-908d-019b028a6f98",
   "metadata": {},
   "outputs": [],
   "source": [
    "metrics[['nlong_pos', 'nshort_pos']].plot(figsize=(12, 4));"
   ]
  },
  {
   "cell_type": "markdown",
   "id": "77e77ffc-de11-48ab-95e4-3519075d8f22",
   "metadata": {},
   "source": [
    "### Getting Benchmark"
   ]
  },
  {
   "cell_type": "code",
   "execution_count": 27,
   "id": "3a3718dd-6ab2-4bbf-8f04-6a617eb4b2a4",
   "metadata": {},
   "outputs": [],
   "source": [
    "start = str(returns.index.min().year)\n",
    "\n",
    "end = str(returns.index.max().year + 1)"
   ]
  },
  {
   "cell_type": "code",
   "execution_count": 28,
   "id": "862f068b-ed6e-472f-b348-ff529a3d9bc9",
   "metadata": {},
   "outputs": [],
   "source": [
    "benchmark = web.DataReader('SP500', 'fred',\n",
    "                           start=start,\n",
    "                           end=end).squeeze()\n",
    "\n",
    "benchmark = benchmark.pct_change().tz_localize('UTC')"
   ]
  },
  {
   "cell_type": "code",
   "execution_count": 29,
   "id": "14603d71-cfa1-4463-b4c7-7d94ee81f68a",
   "metadata": {},
   "outputs": [],
   "source": [
    "fig, axes = plt.subplots(ncols=3, figsize=(20,5))\n",
    "pf.plotting.plot_rolling_returns( returns, factor_returns=benchmark, ax=axes[0])\n",
    "axes[0].set_title('Cumulative Returns')\n",
    "pf.plotting.plot_rolling_sharpe(returns, ax=axes[1])\n",
    "pf.plotting.plot_rolling_beta(returns, benchmark, ax=axes[2])\n",
    "\n",
    "sns.despine()\n",
    "fig.tight_layout();\n",
    "plt.show()"
   ]
  },
  {
   "cell_type": "markdown",
   "id": "25cf2640-3fb3-4461-9572-4d4bcda69352",
   "metadata": {},
   "source": [
    "### Creating Full Tearsheet"
   ]
  },
  {
   "cell_type": "code",
   "execution_count": 30,
   "id": "0994bcc2-305c-4eb0-8e52-563db36476b4",
   "metadata": {},
   "outputs": [],
   "source": [
    "pf.create_full_tear_sheet(returns,\n",
    "                          positions=positions,\n",
    "                          transactions=transactions,\n",
    "                          benchmark_rets=benchmark.loc[returns.index],\n",
    "                          estimate_intraday=False)"
   ]
  },
  {
   "cell_type": "code",
   "execution_count": null,
   "id": "1951187c-94f7-44aa-b918-79443e465163",
   "metadata": {},
   "outputs": [],
   "source": [
    "B"
   ]
  }
 ],
 "metadata": {
  "kernelspec": {
   "display_name": "Python 3 (ipykernel)",
   "language": "python",
   "name": "python3"
  },
  "language_info": {
   "codemirror_mode": {
    "name": "ipython",
    "version": 3
   },
   "file_extension": ".py",
   "mimetype": "text/x-python",
   "name": "python",
   "nbconvert_exporter": "python",
   "pygments_lexer": "ipython3",
   "version": "3.12.9"
  }
 },
 "nbformat": 4,
 "nbformat_minor": 5
}
