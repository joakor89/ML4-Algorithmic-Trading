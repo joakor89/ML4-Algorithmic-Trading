{
 "cells": [
  {
   "cell_type": "markdown",
   "id": "600b9f2f-a6c3-4269-b594-daaa54bb956a",
   "metadata": {},
   "source": [
    "# Pair Trading: Backtest with Backtrader\n",
    "\n",
    "### Loading Libraries"
   ]
  },
  {
   "cell_type": "code",
   "execution_count": 2,
   "id": "465e48ae-935e-446a-aef4-d420ba770566",
   "metadata": {},
   "outputs": [],
   "source": [
    "# Numerical Computing\n",
    "import numpy as np\n",
    "\n",
    "# Data Manipulation\n",
    "import pandas as pd\n",
    "import pandas_datareader.data as web\n",
    "\n",
    "# Data Visualization\n",
    "import seaborn as sns\n",
    "import matplotlib.pyplot as plt\n",
    "\n",
    "# CSV, Time & Collections\n",
    "import csv\n",
    "from time import time\n",
    "from datetime import date\n",
    "from collections import defaultdict\n",
    "\n",
    "# Dataclass\n",
    "from dataclasses import dataclass, asdict\n",
    "\n",
    "# Path\n",
    "from pathlib import Path\n",
    "\n",
    "# Backtrader\n",
    "import backtrader as bt\n",
    "from backtrader.feeds import PandasData\n",
    "\n",
    "# Pyfolio\n",
    "import pyfolio as pf\n",
    "\n",
    "# Warnings\n",
    "import warnings"
   ]
  },
  {
   "cell_type": "code",
   "execution_count": 4,
   "id": "806024af-79fd-4323-a379-e0aba3062be0",
   "metadata": {},
   "outputs": [],
   "source": [
    "idx = pd.IndexSlice\n",
    "\n",
    "sns.set_style('dark')\n",
    "\n",
    "warnings.filterwarnings('ignore')\n",
    "\n",
    "pd.set_option('display.float_format', lambda x: f'{x:,.2f}')"
   ]
  },
  {
   "cell_type": "code",
   "execution_count": 5,
   "id": "7383352c-fa55-4eba-b04a-2b10e51f118e",
   "metadata": {},
   "outputs": [],
   "source": [
    "STORE = 'backtest.h5'"
   ]
  },
  {
   "cell_type": "code",
   "execution_count": 6,
   "id": "a5e02d6d-4c17-4846-a06b-8377e681937f",
   "metadata": {},
   "outputs": [],
   "source": [
    "def format_time(t):\n",
    "    m_, s = divmod(t, 60)\n",
    "    h, m = divmod(m_, 60)\n",
    "    return f'{h:>02.0f}:{m:>02.0f}:{s:>02.0f}'"
   ]
  },
  {
   "cell_type": "markdown",
   "id": "9109769a-02a9-4f0d-83a0-00667b5616db",
   "metadata": {},
   "source": [
    "### Pairs Trading Backtest\n",
    "\n",
    "#### Pairs DataClass"
   ]
  },
  {
   "cell_type": "code",
   "execution_count": 7,
   "id": "b4d33316-81d2-42b2-b4e9-c4e592a6354f",
   "metadata": {},
   "outputs": [],
   "source": [
    "@dataclass\n",
    "class Pair:\n",
    "    period: int\n",
    "    s1: str\n",
    "    s2: str\n",
    "    size1: float\n",
    "    size2: float\n",
    "    long: bool\n",
    "    hr: float\n",
    "    p1: float\n",
    "    p2: float\n",
    "    pos1: float\n",
    "    pos2: float\n",
    "    exec1: bool = False\n",
    "    exec2: bool = False\n",
    "    active: bool = False\n",
    "    entry_date: date = None\n",
    "    exit_date: date = None\n",
    "    entry_spread: float = np.nan\n",
    "    exit_spread: float = np.nan\n",
    "\n",
    "    def executed(self):\n",
    "        return self.exec1 and self.exec2\n",
    "\n",
    "    def get_constituent(self, name):\n",
    "        if name == self.s1:\n",
    "            return 1\n",
    "        elif name == self.s2:\n",
    "            return 2\n",
    "        else:\n",
    "            return 0\n",
    "\n",
    "    def compute_spread(self, p1, p2):\n",
    "        return p1 * self.size1 + p2 * self.size2\n",
    "\n",
    "    def compute_spread_return(self, p1, p2):\n",
    "        current_spread = self.compute_spread(p1, p2)\n",
    "        delta = self.entry_spread - current_spread\n",
    "        return (delta / (np.sign(self.entry_spread) *\n",
    "                         self.entry_spread))"
   ]
  },
  {
   "cell_type": "markdown",
   "id": "b857d73e-8475-41cd-b02a-929d1f2806e9",
   "metadata": {},
   "source": [
    "### Pandas Data Definition"
   ]
  },
  {
   "cell_type": "code",
   "execution_count": 9,
   "id": "5dc017da-70f1-422a-bc50-b1ca731f1187",
   "metadata": {},
   "outputs": [],
   "source": [
    "class CustomData(PandasData):\n",
    "    \"\"\"\n",
    "    Define pandas DataFrame structure\n",
    "    \"\"\"\n",
    "    cols = ['open', 'high', 'low', 'close', 'volume']\n",
    "\n",
    "    # Create =Lines\n",
    "    lines = tuple(cols)\n",
    "\n",
    "    # Defining Parameters\n",
    "    params = {c: -1 for c in cols}\n",
    "    params.update({'datetime': None})\n",
    "    params = tuple(params.items())"
   ]
  },
  {
   "cell_type": "code",
   "execution_count": null,
   "id": "692c2dd3-a64f-4a02-a57d-06610d37537f",
   "metadata": {},
   "outputs": [],
   "source": []
  },
  {
   "cell_type": "code",
   "execution_count": null,
   "id": "40cc78c3-faf6-494f-89a8-fe2c8dc978f6",
   "metadata": {},
   "outputs": [],
   "source": []
  },
  {
   "cell_type": "code",
   "execution_count": null,
   "id": "a1739536-9494-4da9-8eb0-577240ebefc4",
   "metadata": {},
   "outputs": [],
   "source": []
  },
  {
   "cell_type": "code",
   "execution_count": null,
   "id": "ba8c28d1-23ae-4d96-b78c-b766f39046ef",
   "metadata": {},
   "outputs": [],
   "source": []
  },
  {
   "cell_type": "code",
   "execution_count": null,
   "id": "1aa54aa1-8fe0-4905-8c6f-8f11a20474a7",
   "metadata": {},
   "outputs": [],
   "source": []
  },
  {
   "cell_type": "code",
   "execution_count": null,
   "id": "fe5da63d-dcf3-4273-bf4a-a9c95989b5d4",
   "metadata": {},
   "outputs": [],
   "source": []
  },
  {
   "cell_type": "code",
   "execution_count": null,
   "id": "576d09ef-f7c5-4136-a6ed-6a383348b99f",
   "metadata": {},
   "outputs": [],
   "source": []
  },
  {
   "cell_type": "code",
   "execution_count": null,
   "id": "d88e5728-6ab2-4553-8f6a-3340f78312f4",
   "metadata": {},
   "outputs": [],
   "source": []
  },
  {
   "cell_type": "code",
   "execution_count": null,
   "id": "1d3f1aea-2a3f-4d69-b0f5-a27203209180",
   "metadata": {},
   "outputs": [],
   "source": []
  },
  {
   "cell_type": "code",
   "execution_count": null,
   "id": "e69ef911-4e87-4169-979c-6e607cfc01c2",
   "metadata": {},
   "outputs": [],
   "source": []
  },
  {
   "cell_type": "code",
   "execution_count": null,
   "id": "2c8af87d-f5dd-4006-9ff3-523665ab87ed",
   "metadata": {},
   "outputs": [],
   "source": []
  },
  {
   "cell_type": "code",
   "execution_count": null,
   "id": "f30e2dd3-9997-4886-bd32-abc1088b63c4",
   "metadata": {},
   "outputs": [],
   "source": []
  },
  {
   "cell_type": "code",
   "execution_count": null,
   "id": "3843d27b-8000-430f-90aa-72d257c72750",
   "metadata": {},
   "outputs": [],
   "source": []
  },
  {
   "cell_type": "code",
   "execution_count": null,
   "id": "8d8a80b4-4a1b-45ea-a9da-9f746aebd0fc",
   "metadata": {},
   "outputs": [],
   "source": []
  },
  {
   "cell_type": "code",
   "execution_count": null,
   "id": "54cfb8b9-3084-4377-b099-2b713a68f869",
   "metadata": {},
   "outputs": [],
   "source": []
  },
  {
   "cell_type": "code",
   "execution_count": null,
   "id": "af62c3b3-d8a6-41f2-932d-ea1876660e26",
   "metadata": {},
   "outputs": [],
   "source": []
  },
  {
   "cell_type": "code",
   "execution_count": null,
   "id": "71c29817-5f2b-4a26-bb23-cceda33f531a",
   "metadata": {},
   "outputs": [],
   "source": []
  },
  {
   "cell_type": "code",
   "execution_count": null,
   "id": "b7a15488-5f8c-4538-941a-622a2d0ee306",
   "metadata": {},
   "outputs": [],
   "source": []
  },
  {
   "cell_type": "code",
   "execution_count": null,
   "id": "5db3ddd3-dfcc-48a0-9730-12a4519329b6",
   "metadata": {},
   "outputs": [],
   "source": []
  },
  {
   "cell_type": "code",
   "execution_count": null,
   "id": "5ad4cf15-0bef-4cba-b682-dc23f0036b1d",
   "metadata": {},
   "outputs": [],
   "source": []
  },
  {
   "cell_type": "code",
   "execution_count": null,
   "id": "81166819-ecd9-4e54-9116-9fd3a13d2409",
   "metadata": {},
   "outputs": [],
   "source": []
  },
  {
   "cell_type": "code",
   "execution_count": null,
   "id": "29659fd7-c90e-451d-938a-e88960dbed0c",
   "metadata": {},
   "outputs": [],
   "source": []
  },
  {
   "cell_type": "code",
   "execution_count": null,
   "id": "bcb4b684-ed1a-40ff-995d-a5b6cfa75b38",
   "metadata": {},
   "outputs": [],
   "source": []
  },
  {
   "cell_type": "code",
   "execution_count": null,
   "id": "ad50bbfb-d688-4f4b-bbd9-804bb65faa65",
   "metadata": {},
   "outputs": [],
   "source": []
  },
  {
   "cell_type": "code",
   "execution_count": null,
   "id": "87852cbe-f8f8-4cfd-98bd-487e9c9f2ae1",
   "metadata": {},
   "outputs": [],
   "source": []
  },
  {
   "cell_type": "code",
   "execution_count": null,
   "id": "ccf44307-434b-4941-8643-3373c8c3b470",
   "metadata": {},
   "outputs": [],
   "source": []
  },
  {
   "cell_type": "code",
   "execution_count": null,
   "id": "a1136228-d977-4ae9-908d-019b028a6f98",
   "metadata": {},
   "outputs": [],
   "source": []
  },
  {
   "cell_type": "code",
   "execution_count": null,
   "id": "769d664f-c2c3-4670-a614-9e40b4090fb7",
   "metadata": {},
   "outputs": [],
   "source": []
  },
  {
   "cell_type": "code",
   "execution_count": null,
   "id": "3a3718dd-6ab2-4bbf-8f04-6a617eb4b2a4",
   "metadata": {},
   "outputs": [],
   "source": []
  },
  {
   "cell_type": "code",
   "execution_count": null,
   "id": "862f068b-ed6e-472f-b348-ff529a3d9bc9",
   "metadata": {},
   "outputs": [],
   "source": []
  }
 ],
 "metadata": {
  "kernelspec": {
   "display_name": "Python 3 (ipykernel)",
   "language": "python",
   "name": "python3"
  },
  "language_info": {
   "codemirror_mode": {
    "name": "ipython",
    "version": 3
   },
   "file_extension": ".py",
   "mimetype": "text/x-python",
   "name": "python",
   "nbconvert_exporter": "python",
   "pygments_lexer": "ipython3",
   "version": "3.12.9"
  }
 },
 "nbformat": 4,
 "nbformat_minor": 5
}
