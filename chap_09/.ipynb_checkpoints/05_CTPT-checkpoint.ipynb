{
 "cells": [
  {
   "cell_type": "markdown",
   "id": "169eaa63-cd24-40ae-bda8-a079b3ba0fa7",
   "metadata": {},
   "source": [
    "# Cointegration Tests & Pairs Trading\n",
    "\n",
    "### Loading Libraries"
   ]
  },
  {
   "cell_type": "code",
   "execution_count": 9,
   "id": "f491c6d5-09d0-4ead-a362-27d9a40c0b15",
   "metadata": {},
   "outputs": [],
   "source": [
    "# Numerical Computing\n",
    "import numpy as np\n",
    "from numpy.linalg import LinAlgError\n",
    "\n",
    "# Data Manipulation\n",
    "import pandas as pd\n",
    "import pandas_datareader.data as web\n",
    "\n",
    "# Data Visualization\n",
    "import seaborn as sns\n",
    "import matplotlib.pyplot as plt\n",
    "import matplotlib.transforms as mtransforms\n",
    "\n",
    "# StatsModel\n",
    "import statsmodels.tsa.api as tsa\n",
    "from statsmodels.tsa.api import VAR\n",
    "from statsmodels.tsa.api import VARMAX\n",
    "from statsmodels.tsa.arima.model import ARIMA\n",
    "from statsmodels.tsa.vector_ar.vecm import coint_johansen\n",
    "from statsmodels.graphics.tsaplots import plot_acf, plot_pacf\n",
    "from statsmodels.tsa.stattools import acf, q_stat, adfuller, coint\n",
    "\n",
    "# Arch\n",
    "from arch import arch_model\n",
    "from arch.univariate import ConstantMean, GARCH, Normal\n",
    "\n",
    "# Scipy\n",
    "from scipy.stats import probplot, moment\n",
    "\n",
    "# Warnings\n",
    "import warnings\n",
    "\n",
    "# Notebook Optimizer\n",
    "from tqdm import tqdm\n",
    "\n",
    "# Itertools\n",
    "from itertools import product\n",
    "\n",
    "# Path & Notebook Optimizer\n",
    "from tqdm import tqdm \n",
    "from pathlib import Path\n",
    "\n",
    "\n",
    "# Scikit-Learn\n",
    "from sklearn.preprocessing import minmax_scale\n",
    "from sklearn.tree import DecisionTreeClassifier\n",
    "from sklearn.linear_model import LogisticRegressionCV\n",
    "from sklearn.model_selection import StratifiedKFold, GridSearchCV\n",
    "from sklearn.metrics import mean_squared_error, mean_absolute_error, confusion_matrix"
   ]
  },
  {
   "cell_type": "code",
   "execution_count": 10,
   "id": "2b489c77-eda1-47b7-bd94-b4fafb98a322",
   "metadata": {},
   "outputs": [],
   "source": [
    "%matplotlib inline"
   ]
  },
  {
   "cell_type": "code",
   "execution_count": 11,
   "id": "4ff1b4b2-3187-4387-bbd1-bb8a1462cd02",
   "metadata": {},
   "outputs": [],
   "source": [
    "sns.set(style='whitegrid',\n",
    "        context='notebook',\n",
    "        color_codes=True)\n",
    "\n",
    "warnings.filterwarnings('ignore')"
   ]
  },
  {
   "cell_type": "code",
   "execution_count": 12,
   "id": "37eec58e-b339-4642-86b3-ab7b85612bf9",
   "metadata": {},
   "outputs": [],
   "source": [
    "pd.set_option('display.float_format', lambda x: f'{x:,.2f}')"
   ]
  },
  {
   "cell_type": "code",
   "execution_count": 14,
   "id": "54c2dd8c-97b7-4c1b-acc4-9500ca5cdc22",
   "metadata": {},
   "outputs": [],
   "source": [
    "DATA_PATH = Path('..', 'data')\n",
    "\n",
    "STORE = DATA_PATH / 'assets.h5'"
   ]
  },
  {
   "cell_type": "markdown",
   "id": "4cb08b07-4f72-4bd5-bbeb-b2f39fc8e2d0",
   "metadata": {},
   "source": [
    "### Johansen Test Critical Values"
   ]
  },
  {
   "cell_type": "code",
   "execution_count": 15,
   "id": "2c4e13c1-3e0d-4925-9974-b9c03eff2bf9",
   "metadata": {},
   "outputs": [],
   "source": [
    "critical_values = {0: {.9: 13.4294, .95: 15.4943, .99: 19.9349},\n",
    "                   1: {.9: 2.7055, .95: 3.8415, .99: 6.6349}}"
   ]
  },
  {
   "cell_type": "code",
   "execution_count": null,
   "id": "7e3c1a70-c61c-4424-9802-425a40f57018",
   "metadata": {},
   "outputs": [],
   "source": [
    "# Critical Value for 0 Cointegration Relationships\n",
    "trace0_cv = critical_values[0][.95] \n",
    "\n",
    "# Critical Value for 1 Cointegration Relationship\n",
    "trace1_cv = critical_values[1][.95] "
   ]
  },
  {
   "cell_type": "markdown",
   "id": "549d2792-15be-40b7-8a6f-9ae668882575",
   "metadata": {},
   "source": [
    "### Load & Clean Stock & ETF Data\n",
    "\n",
    "#### Remove Highly Correlated Assets"
   ]
  },
  {
   "cell_type": "code",
   "execution_count": 16,
   "id": "9552443a-41c9-46bf-8769-0d96f8f8e364",
   "metadata": {},
   "outputs": [],
   "source": [
    "def remove_correlated_assets(df, cutoff=.99):\n",
    "    corr = df.corr().stack()\n",
    "    corr = corr[corr < 1]\n",
    "    to_check = corr[corr.abs() > cutoff].index\n",
    "    keep, drop = set(), set()\n",
    "    for s1, s2 in to_check:\n",
    "        if s1 not in keep:\n",
    "            if s2 not in keep:\n",
    "                keep.add(s1)\n",
    "                drop.add(s2)\n",
    "            else:\n",
    "                drop.add(s1)\n",
    "        else:\n",
    "            keep.discard(s2)\n",
    "            drop.add(s2)\n",
    "    return df.drop(drop, axis=1)"
   ]
  },
  {
   "cell_type": "markdown",
   "id": "6330ca61-8e99-48ca-991e-85160d4faf5b",
   "metadata": {},
   "source": [
    "#### Remove Stationary Series"
   ]
  },
  {
   "cell_type": "code",
   "execution_count": 17,
   "id": "fa481bbb-1b40-4c90-aa95-0bb1cea58406",
   "metadata": {},
   "outputs": [],
   "source": [
    "def check_stationarity(df):\n",
    "    results = []\n",
    "    for ticker, prices in df.items():\n",
    "        results.append([ticker, adfuller(prices, regression='ct')[1]])\n",
    "    return pd.DataFrame(results, columns=['ticker', 'adf']).sort_values('adf')"
   ]
  },
  {
   "cell_type": "code",
   "execution_count": 18,
   "id": "7e189ce4-c731-403d-a45d-aa1aa07b0fbd",
   "metadata": {},
   "outputs": [],
   "source": [
    "def remove_stationary_assets(df, pval=.05):\n",
    "    test_result = check_stationarity(df)\n",
    "    stationary = test_result.loc[test_result.adf <= pval, 'ticker'].tolist()\n",
    "    return df.drop(stationary, axis=1).sort_index()"
   ]
  },
  {
   "cell_type": "markdown",
   "id": "81b4e9fa-34dc-4797-bd45-5a60feac4cfa",
   "metadata": {},
   "source": [
    "#### Assets Selection"
   ]
  },
  {
   "cell_type": "code",
   "execution_count": 19,
   "id": "aace07c0-88f2-45dd-8717-b0321e69d9bf",
   "metadata": {},
   "outputs": [],
   "source": [
    "def select_assets(asset_class='stocks', n=500, start=2010, end=2019):\n",
    "    idx = pd.IndexSlice\n",
    "    with pd.HDFStore(STORE) as store:\n",
    "        df = (pd.concat([store[f'stooq/us/nasdaq/{asset_class}/prices'],\n",
    "                         store[f'stooq/us/nyse/{asset_class}/prices']])\n",
    "              # stooq download can have duplicate assets\n",
    "              .loc[lambda df: ~df.index.duplicated()]\n",
    "              .sort_index()\n",
    "              .loc[idx[:, f'{start}':f'{end}'], :]\n",
    "              .assign(dv=lambda df: df.close.mul(df.volume)))\n",
    "\n",
    "    # select n assets with the highest average trading volume\n",
    "    # we are taking a shortcut to simplify; should select\n",
    "    # based on historical only, e.g. yearly rolling avg\n",
    "    most_traded = (df.groupby(level='ticker')\n",
    "                   .dv.mean()\n",
    "                   .nlargest(n=n).index)\n",
    "\n",
    "    df = (df.loc[idx[most_traded, :], 'close']\n",
    "          .unstack('ticker')\n",
    "          .ffill(limit=5)  \n",
    "          .dropna(axis=1))  \n",
    "\n",
    "    df = remove_correlated_assets(df)\n",
    "    return remove_stationary_assets(df).sort_index()"
   ]
  },
  {
   "cell_type": "code",
   "execution_count": 21,
   "id": "6280cc72-e900-4af5-b9c3-4acf63747d23",
   "metadata": {},
   "outputs": [],
   "source": [
    "for asset_class, n in [('etfs', 500), ('stocks', 250)]:\n",
    "    df = select_assets(asset_class=asset_class, n=n)\n",
    "    df.to_hdf('data.h5', f'{asset_class}/close')"
   ]
  },
  {
   "cell_type": "markdown",
   "id": "2cda9d8a-a322-4ec6-a93d-ff4c45bb5f0b",
   "metadata": {},
   "source": [
    "#### Getting Ticker Dictionary"
   ]
  },
  {
   "cell_type": "code",
   "execution_count": 22,
   "id": "41370cea-aba4-43c7-9651-045f6ef2c3ef",
   "metadata": {},
   "outputs": [],
   "source": [
    "def get_ticker_dict():\n",
    "    with pd.HDFStore(STORE) as store:\n",
    "        return (pd.concat([\n",
    "            store['stooq/us/nyse/stocks/tickers'],\n",
    "            store['stooq/us/nyse/etfs/tickers'],\n",
    "            store['stooq/us/nasdaq/etfs/tickers'],\n",
    "            store['stooq/us/nasdaq/stocks/tickers']\n",
    "        ]).drop_duplicates().set_index('ticker').squeeze().to_dict())"
   ]
  },
  {
   "cell_type": "code",
   "execution_count": 24,
   "id": "586f29e1-f7e1-4d36-9cea-02d5377a537f",
   "metadata": {},
   "outputs": [],
   "source": [
    "names = get_ticker_dict()"
   ]
  },
  {
   "cell_type": "markdown",
   "id": "a5c80d73-89fa-4336-911e-6662e01596c2",
   "metadata": {},
   "source": [
    "### Visualize Correlation Clusters"
   ]
  },
  {
   "cell_type": "code",
   "execution_count": 25,
   "id": "91549942-7b44-4169-9f91-39794d8bc36d",
   "metadata": {},
   "outputs": [],
   "source": [
    "stocks = pd.read_hdf('data.h5', 'stocks/close')\n",
    "stocks.info()"
   ]
  },
  {
   "cell_type": "code",
   "execution_count": 26,
   "id": "9fc83c39-73b7-49ff-b554-59a2d242a54f",
   "metadata": {},
   "outputs": [],
   "source": [
    "etfs = pd.read_hdf('data.h5', 'etfs/close')\n",
    "etfs.info()"
   ]
  },
  {
   "cell_type": "code",
   "execution_count": 27,
   "id": "6a5d72b5-3a4f-4dc0-9b27-a2b1f0c5a74c",
   "metadata": {},
   "outputs": [],
   "source": [
    "tickers = {k: v for k, v in names.items() if k in etfs.columns.union(stocks.columns)}\n",
    "pd.Series(tickers).to_hdf('data.h5', 'tickers')"
   ]
  },
  {
   "cell_type": "code",
   "execution_count": 28,
   "id": "ec127b34-a4d7-4889-a56e-8427d09e300e",
   "metadata": {},
   "outputs": [],
   "source": [
    "corr = pd.DataFrame(index=stocks.columns)\n",
    "\n",
    "for etf, data in etfs.items():\n",
    "    corr[etf] = stocks.corrwith(data)"
   ]
  },
  {
   "cell_type": "code",
   "execution_count": 29,
   "id": "9108bff4-26c4-4b20-9474-0c311b088db8",
   "metadata": {},
   "outputs": [],
   "source": [
    "corr.info()"
   ]
  },
  {
   "cell_type": "code",
   "execution_count": 30,
   "id": "6a9f34ba-65a6-4ced-a535-8a68762efdb2",
   "metadata": {},
   "outputs": [],
   "source": [
    "cmap = sns.diverging_palette(220, 10, as_cmap=True)\n",
    "sns.clustermap(corr, cmap=cmap, center=0);\n",
    "\n",
    "plt.show()"
   ]
  },
  {
   "cell_type": "markdown",
   "id": "93480de8-c40b-476c-b511-24664f978dd2",
   "metadata": {},
   "source": [
    "## Candidate Selection using Heuristics\n",
    "\n",
    "### Computational Complexity: Comparing Running Times\n",
    "\n",
    "#### Preparing Data"
   ]
  },
  {
   "cell_type": "code",
   "execution_count": 31,
   "id": "4b5936be-7ad6-4f66-9452-950887128899",
   "metadata": {},
   "outputs": [],
   "source": [
    "stocks.shape, etfs.shape"
   ]
  },
  {
   "cell_type": "code",
   "execution_count": 32,
   "id": "a9af66e0-1376-4c06-9f55-85cec457bc33",
   "metadata": {},
   "outputs": [],
   "source": [
    "stocks.info()"
   ]
  },
  {
   "cell_type": "code",
   "execution_count": 33,
   "id": "14033d48-42b7-4233-8910-35ab0308e235",
   "metadata": {},
   "outputs": [],
   "source": [
    "etfs.info()"
   ]
  },
  {
   "cell_type": "code",
   "execution_count": 35,
   "id": "0ffe1e84-93b8-480d-9111-75ae96c1519b",
   "metadata": {},
   "outputs": [],
   "source": [
    "security = etfs['AAXJ.US'].loc['2010': '2013']\n",
    "\n",
    "candidates = stocks.loc['2010': '2013']"
   ]
  },
  {
   "cell_type": "code",
   "execution_count": 36,
   "id": "cbd83b8a-77ec-430c-bf44-2011134add07",
   "metadata": {},
   "outputs": [],
   "source": [
    "security = security.div(security.iloc[0])\n",
    "\n",
    "candidates = candidates.div(candidates.iloc[0])\n",
    "\n",
    "spreads = candidates.sub(security, axis=0)"
   ]
  },
  {
   "cell_type": "code",
   "execution_count": 40,
   "id": "1dfee6f9-9683-4c4b-b6ab-aa40bd0f0c95",
   "metadata": {},
   "outputs": [],
   "source": [
    "n, m = spreads.shape\n",
    "\n",
    "X = np.ones(shape=(n, 2))\n",
    "\n",
    "X[:, 1] = np.arange(1, n+1)"
   ]
  },
  {
   "cell_type": "markdown",
   "id": "722d81ff-77bb-4272-ac58-04909f354769",
   "metadata": {},
   "source": [
    "#### Heuristics"
   ]
  },
  {
   "cell_type": "code",
   "execution_count": 41,
   "id": "9eb4bdcb-6025-47a1-92be-6577c33ba5d5",
   "metadata": {},
   "outputs": [],
   "source": [
    "%%timeit\n",
    "np.linalg.inv(X.T @ X) @ X.T @ spreads"
   ]
  },
  {
   "cell_type": "code",
   "execution_count": 42,
   "id": "677f62ba-eb0f-4e48-b105-75a82e5acafa",
   "metadata": {},
   "outputs": [],
   "source": [
    "%%timeit\n",
    "spreads.std()"
   ]
  },
  {
   "cell_type": "code",
   "execution_count": 43,
   "id": "28399761-6688-4b6e-bfa7-01caa0437705",
   "metadata": {},
   "outputs": [],
   "source": [
    "%%timeit\n",
    "candidates.corrwith(security)"
   ]
  },
  {
   "cell_type": "markdown",
   "id": "73c057a2-ff4f-4bf0-984f-264232e7fef8",
   "metadata": {},
   "source": [
    "#### Cointegration Tests"
   ]
  },
  {
   "cell_type": "code",
   "execution_count": 44,
   "id": "51e2a0bd-cfc5-4b36-9074-b1efd56859d9",
   "metadata": {},
   "outputs": [],
   "source": [
    "# %%timeit\n",
    "# for candidate, prices in candidates.items():\n",
    "#     df = pd.DataFrame({'s1': security,\n",
    "#                        's2': prices})\n",
    "#     var = VAR(df.values)\n",
    "#     lags = var.select_order()\n",
    "#     k_ar_diff = lags.selected_orders['aic']\n",
    "#     coint_johansen(df, det_order=0, k_ar_diff=k_ar_diff)\n",
    "#     coint(security, prices, trend='c')[:2]\n",
    "#     coint(prices, security, trend='c')[:2]"
   ]
  },
  {
   "cell_type": "markdown",
   "id": "c3abcde6-add4-4173-afb0-d924dbcdbfe4",
   "metadata": {},
   "source": [
    "### Computing Heuristics"
   ]
  },
  {
   "cell_type": "code",
   "execution_count": 45,
   "id": "00ce3dc4-22d8-4243-a4de-0d18d73150ad",
   "metadata": {},
   "outputs": [],
   "source": [
    "def compute_pair_metrics(security, candidates):\n",
    "    security = security.div(security.iloc[0])\n",
    "    ticker = security.name\n",
    "    candidates = candidates.div(candidates.iloc[0])\n",
    "    spreads = candidates.sub(security, axis=0)\n",
    "    n, m = spreads.shape\n",
    "    X = np.ones(shape=(n, 2))\n",
    "    X[:, 1] = np.arange(1, n + 1)\n",
    "    \n",
    "    # compute drift\n",
    "    drift = ((np.linalg.inv(X.T @ X) @ X.T @ spreads).iloc[1]\n",
    "             .to_frame('drift'))\n",
    "    \n",
    "    # compute volatility\n",
    "    vol = spreads.std().to_frame('vol')\n",
    "    \n",
    "    # return correlation\n",
    "    corr_ret = (candidates.pct_change()\n",
    "                .corrwith(security.pct_change())\n",
    "                .to_frame('corr_ret'))\n",
    "    \n",
    "    # normalized price series correlation\n",
    "    corr = candidates.corrwith(security).to_frame('corr')\n",
    "    metrics = drift.join(vol).join(corr).join(corr_ret).assign(n=n)\n",
    "    \n",
    "    tests = []\n",
    "    # run cointegration tests\n",
    "    for candidate, prices in tqdm(candidates.items()):\n",
    "        df = pd.DataFrame({'s1': security, 's2': prices})\n",
    "        var = VAR(df.values)\n",
    "        lags = var.select_order() # select VAR order\n",
    "        k_ar_diff = lags.selected_orders['aic']\n",
    "        # Johansen Test with constant Term and estd. lag order\n",
    "        cj0 = coint_johansen(df, det_order=0, k_ar_diff=k_ar_diff)\n",
    "        # Engle-Granger Tests\n",
    "        t1, p1 = coint(security, prices, trend='c')[:2]\n",
    "        t2, p2 = coint(prices, security, trend='c')[:2]\n",
    "        tests.append([ticker, candidate, t1, p1, t2, p2, \n",
    "                      k_ar_diff, *cj0.lr1])\n",
    "    columns = ['s1', 's2', 't1', 'p1', 't2', 'p2', 'k_ar_diff', 'trace0', 'trace1']\n",
    "    tests = pd.DataFrame(tests, columns=columns).set_index('s2')\n",
    "    return metrics.join(tests)"
   ]
  },
  {
   "cell_type": "code",
   "execution_count": 46,
   "id": "a9a11bb3-b8cb-4075-aeb0-80fde8527a9d",
   "metadata": {},
   "outputs": [],
   "source": [
    "spreads = []\n",
    "\n",
    "start = 2010\n",
    "stop = 2019\n",
    "\n",
    "etf_candidates = etfs.loc[str(start): str(stop), :]\n",
    "stock_candidates = stocks.loc[str(start): str(stop), :]\n",
    "s = time()\n",
    "\n",
    "for i, (etf_ticker, etf_prices) in enumerate(etf_candidates.items(), 1):\n",
    "    df = compute_pair_metrics(etf_prices, stock_candidates)\n",
    "    spreads.append(df.set_index('s1', append=True))\n",
    "    if i % 10 == 0:\n",
    "        print(f'\\n{i:>3} {time() - s:.1f}\\n')\n",
    "        s = time()"
   ]
  },
  {
   "cell_type": "code",
   "execution_count": 47,
   "id": "d8a5a8f0-f0da-41a5-8e3a-cd110eadf6ed",
   "metadata": {},
   "outputs": [],
   "source": [
    "names = get_ticker_dict()\n",
    "\n",
    "spreads = pd.concat(spreads)\n",
    "spreads.index.names = ['s2', 's1']\n",
    "spreads = spreads.swaplevel()\n",
    "\n",
    "spreads['name1'] = spreads.index.get_level_values('s1').map(names)\n",
    "spreads['name2'] = spreads.index.get_level_values('s2').map(names)"
   ]
  },
  {
   "cell_type": "code",
   "execution_count": 48,
   "id": "34c6af71-0313-4a13-8a2c-da3a9301243e",
   "metadata": {},
   "outputs": [],
   "source": [
    "spreads['t'] = spreads[['t1', 't2']].min(axis=1)\n",
    "\n",
    "spreads['p'] = spreads[['p1', 'p2']].min(axis=1)"
   ]
  },
  {
   "cell_type": "markdown",
   "id": "4d048da7-7102-4acc-8f73-40fbe2c66218",
   "metadata": {},
   "source": [
    "### Engle-Granger vs Johansen: How Do Their Findings Compare?"
   ]
  },
  {
   "cell_type": "code",
   "execution_count": null,
   "id": "830ad118-5ba3-44ee-b6e4-47abc4fbc210",
   "metadata": {},
   "outputs": [],
   "source": [
    "spreads['trace_sig'] = ((spreads.trace0 > trace0_cv) &\n",
    "                        (spreads.trace1 > trace1_cv)).astype(int)\n",
    "\n",
    "spreads['eg_sig'] = (spreads.p < .05).astype(int)"
   ]
  },
  {
   "cell_type": "code",
   "execution_count": 49,
   "id": "221b553e-493f-4362-8f24-9bb4a4f398cd",
   "metadata": {},
   "outputs": [],
   "source": [
    "pd.crosstab(spreads.eg_sig, spreads.trace_sig)"
   ]
  },
  {
   "cell_type": "code",
   "execution_count": 50,
   "id": "3ad2fbf6-4977-4d8f-8a42-792443b3ee4f",
   "metadata": {},
   "outputs": [],
   "source": [
    "spreads['coint'] = (spreads.trace_sig & spreads.eg_sig).astype(int)"
   ]
  },
  {
   "cell_type": "code",
   "execution_count": 51,
   "id": "30c35cc3-17ec-4b40-84c3-1b0aeea0b853",
   "metadata": {},
   "outputs": [],
   "source": [
    "spreads.info()"
   ]
  },
  {
   "cell_type": "code",
   "execution_count": 52,
   "id": "f04c5244-a194-4dae-9f86-f2d5b33ca7f9",
   "metadata": {},
   "outputs": [],
   "source": [
    "spreads = spreads.reset_index()"
   ]
  },
  {
   "cell_type": "code",
   "execution_count": 53,
   "id": "f2ed674d-f276-471d-b2b5-d3615e58735e",
   "metadata": {},
   "outputs": [],
   "source": [
    "sns.scatterplot(x=np.log1p(spreads.t.abs()), \n",
    "                y=np.log1p(spreads.trace1), \n",
    "                hue='coint', data=spreads[spreads.trace0>trace0_cv]);\n",
    "plt.show()"
   ]
  },
  {
   "cell_type": "code",
   "execution_count": 54,
   "id": "ee15d3b5-e67b-4f5f-8637-bb4fbd6c5d20",
   "metadata": {},
   "outputs": [],
   "source": [
    "spreads.to_hdf('heuristics.h5', 'spreads')"
   ]
  },
  {
   "cell_type": "code",
   "execution_count": 55,
   "id": "31625199-c788-429b-bf66-ccdc1813b1c0",
   "metadata": {},
   "outputs": [],
   "source": [
    "spreads = pd.read_hdf('heuristics.h5', 'spreads')"
   ]
  },
  {
   "cell_type": "markdown",
   "id": "466313f6-facf-4847-8b9f-9eabcbf01984",
   "metadata": {},
   "source": [
    "#### Evaluate Heuristics"
   ]
  },
  {
   "cell_type": "code",
   "execution_count": 56,
   "id": "c65c1ee7-7bff-4a1b-ba30-775e9f2268c7",
   "metadata": {},
   "outputs": [],
   "source": [
    "spreads.drift = spreads.drift.abs()"
   ]
  },
  {
   "cell_type": "code",
   "execution_count": 57,
   "id": "884d2595-5f61-456f-a5e6-943834e3e3b7",
   "metadata": {},
   "outputs": [],
   "source": [
    "pd.crosstab(spreads.eg_sig, spreads.trace_sig)"
   ]
  },
  {
   "cell_type": "code",
   "execution_count": 58,
   "id": "0258bef1-fed1-4c43-958d-1a437e5fc5ef",
   "metadata": {},
   "outputs": [],
   "source": [
    "pd.set_option('display.float_format', lambda x: f'{x:.2%}')\n",
    "\n",
    "pd.crosstab(spreads.eg_sig, spreads.trace_sig, normalize=True)"
   ]
  },
  {
   "cell_type": "code",
   "execution_count": 59,
   "id": "cc73e46c-e96e-46ea-9bd6-a5dfd9fd2c93",
   "metadata": {},
   "outputs": [],
   "source": [
    "fig, axes = plt.subplots(ncols=4, figsize=(20, 5))\n",
    "\n",
    "for i, heuristic in enumerate(['drift', 'vol', 'corr', 'corr_ret']):\n",
    "    sns.boxplot(x='coint', y=heuristic, data=spreads, ax=axes[i])\n",
    "\n",
    "fig.tight_layout();\n",
    "plt.show()"
   ]
  },
  {
   "cell_type": "markdown",
   "id": "9bc76b4b-bb84-40bd-ba8c-8cd868e299bf",
   "metadata": {},
   "source": [
    "## How Well Do The Heuristics Predict Significant Cointegration?"
   ]
  },
  {
   "cell_type": "code",
   "execution_count": 60,
   "id": "fa2b946d-33b3-421f-af83-56ba54365177",
   "metadata": {},
   "outputs": [],
   "source": [
    "spreads.groupby(spreads.coint)['drift', 'vol', 'corr'].describe().stack(level=0).swaplevel().sort_index()"
   ]
  },
  {
   "cell_type": "code",
   "execution_count": 61,
   "id": "511c6409-8583-4387-9e42-b69c7818ad5b",
   "metadata": {},
   "outputs": [],
   "source": [
    "spreads.coint.value_counts()"
   ]
  },
  {
   "cell_type": "markdown",
   "id": "f9869474-ce24-4a09-8c10-6239b3cf4640",
   "metadata": {},
   "source": [
    "### Logistic Regression"
   ]
  },
  {
   "cell_type": "code",
   "execution_count": 62,
   "id": "05dff670-0299-4487-9d37-d5402677bc01",
   "metadata": {},
   "outputs": [],
   "source": [
    "y = spreads.coint\n",
    "\n",
    "X = spreads[['drift', 'vol', 'corr', 'corr_ret']]\n",
    "\n",
    "# X = spreads[['drift', 'vol']]"
   ]
  },
  {
   "cell_type": "code",
   "execution_count": 63,
   "id": "c2de14d4-0c27-4198-bd73-db6859843155",
   "metadata": {},
   "outputs": [],
   "source": [
    "kf = StratifiedKFold(n_splits=5, shuffle=True)"
   ]
  },
  {
   "cell_type": "code",
   "execution_count": 64,
   "id": "b3fe0ad3-1a10-44fb-a501-eb48159b284d",
   "metadata": {},
   "outputs": [],
   "source": [
    "log_reg = LogisticRegressionCV(Cs=np.logspace(-10, 10, 21), \n",
    "                               class_weight='balanced',\n",
    "                               scoring='roc_auc')"
   ]
  },
  {
   "cell_type": "code",
   "execution_count": 65,
   "id": "0acfca5f-88ce-4828-939e-f10d73e2fd2e",
   "metadata": {},
   "outputs": [],
   "source": [
    "log_reg.fit(X=X, y=y)\n",
    "\n",
    "Cs = log_reg.Cs_\n",
    "\n",
    "scores = pd.DataFrame(log_reg.scores_[True], columns=Cs).mean()\n",
    "scores.plot(logx=True);\n",
    "\n",
    "f'C:{np.log10(scores.idxmax()):.2f}, AUC: {scores.max():.2%}'"
   ]
  },
  {
   "cell_type": "code",
   "execution_count": 66,
   "id": "9a1e460b-41fc-4172-8e39-72aabcc158ac",
   "metadata": {},
   "outputs": [],
   "source": [
    "log_reg.coef_"
   ]
  },
  {
   "cell_type": "code",
   "execution_count": 67,
   "id": "6f1ae797-9310-4d8e-bc5c-4b4d094fbf61",
   "metadata": {},
   "outputs": [],
   "source": [
    "y_pred = log_reg.predict_proba(X)[:, 1]\n",
    "\n",
    "confusion_matrix(y_true=spreads.coint, y_pred=(y_pred>.5))"
   ]
  },
  {
   "cell_type": "code",
   "execution_count": 68,
   "id": "a5eb81be-5955-4933-a790-d48563ccb769",
   "metadata": {},
   "outputs": [],
   "source": [
    "spreads.assign(y_pred=log_reg.predict_proba(X)[:, 1]).groupby(spreads.coint).y_pred.describe()"
   ]
  },
  {
   "cell_type": "markdown",
   "id": "19e72c48-58f2-4655-8443-73469e00ce22",
   "metadata": {},
   "source": [
    "### Decision Tree Classifier"
   ]
  },
  {
   "cell_type": "code",
   "execution_count": 69,
   "id": "03fabd44-65f4-4f49-bea7-633260fa31d5",
   "metadata": {},
   "outputs": [],
   "source": [
    "model = DecisionTreeClassifier(class_weight='balanced')\n",
    "\n",
    "decision_tree = GridSearchCV(model,\n",
    "                             param_grid={'max_depth': list(range(1, 10))},\n",
    "                             cv=5,\n",
    "                             scoring='roc_auc')"
   ]
  },
  {
   "cell_type": "code",
   "execution_count": 70,
   "id": "471141dc-4adb-4c01-a9eb-8d07ed10e776",
   "metadata": {},
   "outputs": [],
   "source": [
    "decision_tree.fit(X=X, y=y)"
   ]
  },
  {
   "cell_type": "code",
   "execution_count": 71,
   "id": "9839c4cf-759a-44ab-bd20-f951fe596ccd",
   "metadata": {},
   "outputs": [],
   "source": [
    "f'{decision_tree.best_score_:.2%}, Depth: {decision_tree.best_params_[\"max_depth\"]}'"
   ]
  },
  {
   "cell_type": "code",
   "execution_count": 72,
   "id": "606c767b-31c7-43b7-bc78-6ae27b757ed6",
   "metadata": {},
   "outputs": [],
   "source": [
    "pd.Series(data=decision_tree.best_estimator_.feature_importances_, \n",
    "          index=X.columns).sort_values().plot.barh(title='Feature Importance')\n",
    "\n",
    "sns.despine();\n",
    "plt.show()"
   ]
  },
  {
   "cell_type": "code",
   "execution_count": 74,
   "id": "4aec709b-bfb4-41ae-8b09-c79797569b02",
   "metadata": {},
   "outputs": [],
   "source": [
    "spreads.assign(y_pred=decision_tree.predict_proba(X)[:, 1]).groupby(spreads.coint).y_pred.describe()"
   ]
  },
  {
   "cell_type": "code",
   "execution_count": 73,
   "id": "cd5cd8f0-146b-46dc-aa6d-3d3b38327f51",
   "metadata": {},
   "outputs": [],
   "source": [
    "sns.catplot(x='coint', \n",
    "            y='y_pred', \n",
    "            data=spreads.assign(y_pred=decision_tree.predict_proba(X)[:, 1]), \n",
    "            kind='box');\n",
    "\n",
    "plt.show()"
   ]
  },
  {
   "cell_type": "code",
   "execution_count": null,
   "id": "d5c4a68e-8fbd-4470-b02d-af6e61149504",
   "metadata": {},
   "outputs": [],
   "source": []
  }
 ],
 "metadata": {
  "kernelspec": {
   "display_name": "Python 3 (ipykernel)",
   "language": "python",
   "name": "python3"
  },
  "language_info": {
   "codemirror_mode": {
    "name": "ipython",
    "version": 3
   },
   "file_extension": ".py",
   "mimetype": "text/x-python",
   "name": "python",
   "nbconvert_exporter": "python",
   "pygments_lexer": "ipython3",
   "version": "3.12.9"
  }
 },
 "nbformat": 4,
 "nbformat_minor": 5
}
