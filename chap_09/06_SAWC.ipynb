{
 "cells": [
  {
   "cell_type": "markdown",
   "id": "1e03122d-a6c2-4966-a198-666d7f7d87f5",
   "metadata": {},
   "source": [
    "# Statistical Arbitrage with Cointegration\n",
    "\n",
    "### Loading Libraries"
   ]
  },
  {
   "cell_type": "code",
   "execution_count": 3,
   "id": "8ebf7880-fe44-47c8-8155-74612be92a3c",
   "metadata": {},
   "outputs": [],
   "source": [
    "# Numerical Computing\n",
    "import numpy as np\n",
    "\n",
    "# Data Manipulation \n",
    "import pandas as pd\n",
    "\n",
    "# Data Visualization\n",
    "import seaborn as sns\n",
    "import matplotlib.pyplot as plt\n",
    "\n",
    "# Warnings\n",
    "import warnings\n",
    "\n",
    "# Kalman\n",
    "\n",
    "# Time & Collections\n",
    "from time import time\n",
    "from collections import Counter\n",
    "\n",
    "# Path\n",
    "from pathlib import Path\n",
    "\n",
    "# StatsModels\n",
    "from statsmodels.tsa.api import VAR\n",
    "from statsmodels.tsa.stattools import coint\n",
    "from statsmodels.tsa.vector_ar.vecm import coint_johansen"
   ]
  },
  {
   "cell_type": "code",
   "execution_count": 4,
   "id": "764f8901-a7d2-429c-8ac9-4ae9dfcc280a",
   "metadata": {},
   "outputs": [],
   "source": [
    "idx = pd.IndexSlice\n",
    "\n",
    "sns.set_style('whitegrid')\n",
    "\n",
    "warnings.filterwarnings('ignore')"
   ]
  },
  {
   "cell_type": "code",
   "execution_count": 5,
   "id": "cdb25c1d-d4be-4197-b6f3-e097c067c96d",
   "metadata": {},
   "outputs": [],
   "source": [
    "def format_time(t):\n",
    "    m_, s = divmod(t, 60)\n",
    "    h, m = divmod(m_, 60)\n",
    "    return f'{h:>02.0f}:{m:>02.0f}:{s:>02.0f}'"
   ]
  },
  {
   "cell_type": "markdown",
   "id": "22edc9fc-e0b3-431b-9f1f-ab0273c94c18",
   "metadata": {},
   "source": [
    "#### Johansen Test Critical Values"
   ]
  },
  {
   "cell_type": "code",
   "execution_count": 6,
   "id": "ffb1d627-fc8d-47b1-ba20-0c7b7668fbe9",
   "metadata": {},
   "outputs": [],
   "source": [
    "critical_values = {0: {.9: 13.4294, .95: 15.4943, .99: 19.9349},\n",
    "                   1: {.9: 2.7055, .95: 3.8415, .99: 6.6349}}"
   ]
  },
  {
   "cell_type": "code",
   "execution_count": 7,
   "id": "818b0e39-0772-4acd-9bce-2bed5675113a",
   "metadata": {},
   "outputs": [],
   "source": [
    "# Critical Value for 0 Cointegration Relationships\n",
    "trace0_cv = critical_values[0][.95] \n",
    "\n",
    "# Critical Value for 1 Cointegration Relationship\n",
    "trace1_cv = critical_values[1][.95] "
   ]
  },
  {
   "cell_type": "markdown",
   "id": "3243251e-9ce0-4f5d-867a-ccd8cd307798",
   "metadata": {},
   "source": [
    "### Loading Data"
   ]
  },
  {
   "cell_type": "code",
   "execution_count": 8,
   "id": "1d59532a-5ead-45c0-9a4e-dbb305ee1a68",
   "metadata": {},
   "outputs": [],
   "source": [
    "DATA_PATH = Path('..', 'data') \n",
    "\n",
    "STORE = DATA_PATH / 'assets.h5'"
   ]
  },
  {
   "cell_type": "markdown",
   "id": "36bb47b1-0ea7-4322-bacb-6437103c0d09",
   "metadata": {},
   "source": [
    "#### Getting Backtest Prices"
   ]
  },
  {
   "cell_type": "code",
   "execution_count": 9,
   "id": "91d34a46-b761-40c9-b911-3a5dced9bc16",
   "metadata": {},
   "outputs": [],
   "source": [
    "def get_backtest_prices():\n",
    "    with pd.HDFStore('data.h5') as store:\n",
    "        tickers = store['tickers']\n",
    "\n",
    "    with pd.HDFStore(STORE) as store:\n",
    "        prices = (pd.concat([\n",
    "            store['stooq/us/nyse/stocks/prices'],\n",
    "            store['stooq/us/nyse/etfs/prices'],\n",
    "            store['stooq/us/nasdaq/etfs/prices'],\n",
    "            store['stooq/us/nasdaq/stocks/prices']])\n",
    "                  .sort_index()\n",
    "                  .loc[idx[tickers.index, '2016':'2019'], :])\n",
    "    print(prices.info(null_counts=True))\n",
    "    prices.to_hdf('backtest.h5', 'prices')\n",
    "    tickers.to_hdf('backtest.h5', 'tickers')"
   ]
  },
  {
   "cell_type": "code",
   "execution_count": 11,
   "id": "be674654-8637-40c4-b110-6c0c2fa597e6",
   "metadata": {},
   "outputs": [],
   "source": [
    "get_backtest_prices()"
   ]
  },
  {
   "cell_type": "markdown",
   "id": "d4ee5556-0e13-4f77-bbb6-64f5c87b464e",
   "metadata": {},
   "source": [
    "### Loading Stock Prices"
   ]
  },
  {
   "cell_type": "code",
   "execution_count": 12,
   "id": "62b0f7ed-6f66-497f-8b4f-a92cbc237896",
   "metadata": {},
   "outputs": [],
   "source": [
    "stocks = pd.read_hdf('data.h5', 'stocks/close').loc['2015':]\n",
    "\n",
    "stocks.info()"
   ]
  },
  {
   "cell_type": "markdown",
   "id": "88cae9d7-6632-4bea-b724-38367e54e9ac",
   "metadata": {},
   "source": [
    "### Loading ETF Data"
   ]
  },
  {
   "cell_type": "code",
   "execution_count": 13,
   "id": "068d141e-0e8b-4dfa-95b2-3116facdf795",
   "metadata": {},
   "outputs": [],
   "source": [
    "etfs = pd.read_hdf('data.h5', 'etfs/close').loc['2015':]\n",
    "\n",
    "etfs.info()"
   ]
  },
  {
   "cell_type": "markdown",
   "id": "75bf01cb-3cfa-4312-b879-cb0f7a14db4d",
   "metadata": {},
   "source": [
    "### Loading Ticker Dictionary"
   ]
  },
  {
   "cell_type": "code",
   "execution_count": 14,
   "id": "11ab5919-2519-4ac9-8721-966932a7fa84",
   "metadata": {},
   "outputs": [],
   "source": [
    "names = pd.read_hdf('data.h5', 'tickers').to_dict()"
   ]
  },
  {
   "cell_type": "code",
   "execution_count": 15,
   "id": "66e5e650-3024-46ee-8818-be0b05d39b2a",
   "metadata": {},
   "outputs": [],
   "source": [
    "pd.Series(names).count()"
   ]
  },
  {
   "cell_type": "markdown",
   "id": "76e78274-0a60-4c4d-b1fc-e1941939bf9c",
   "metadata": {},
   "source": [
    "### Precomputing Cointegration"
   ]
  },
  {
   "cell_type": "code",
   "execution_count": 16,
   "id": "24754301-9eb2-40de-ad06-e7732433b792",
   "metadata": {},
   "outputs": [],
   "source": [
    "def test_cointegration(etfs, stocks, test_end, lookback=2):\n",
    "    start = time()\n",
    "    results = []\n",
    "    test_start = test_end - pd.DateOffset(years=lookback) + pd.DateOffset(days=1)\n",
    "    etf_tickers = etfs.columns.tolist()\n",
    "    etf_data = etfs.loc[str(test_start):str(test_end)]\n",
    "\n",
    "    stock_tickers = stocks.columns.tolist()\n",
    "    stock_data = stocks.loc[str(test_start):str(test_end)]\n",
    "    n = len(etf_tickers) * len(stock_tickers)\n",
    "    j = 0\n",
    "    for i, s1 in enumerate(etf_tickers, 1):\n",
    "        for s2 in stock_tickers:\n",
    "            j += 1\n",
    "            if j % 1000 == 0:\n",
    "                print(f'\\t{j:5,.0f} ({j/n:3.1%}) | {time() - start:.2f}')\n",
    "            df = etf_data.loc[:, [s1]].dropna().join(stock_data.loc[:, [s2]].dropna(), how='inner')\n",
    "            with warnings.catch_warnings():\n",
    "                warnings.simplefilter('ignore')\n",
    "                var = VAR(df)\n",
    "                lags = var.select_order()\n",
    "                result = [test_end, s1, s2]\n",
    "                order = lags.selected_orders['aic']\n",
    "                result += [coint(df[s1], df[s2], trend='c')[1], coint(df[s2], df[s1], trend='c')[1]]\n",
    "\n",
    "            cj = coint_johansen(df, det_order=0, k_ar_diff=order)\n",
    "            result += (list(cj.lr1) + list(cj.lr2) + list(cj.evec[:, cj.ind[0]]))\n",
    "            results.append(result)\n",
    "    return results"
   ]
  },
  {
   "cell_type": "markdown",
   "id": "d40920cb-80b1-42a6-8bce-b48c7ab8bf60",
   "metadata": {},
   "source": [
    "### Defining Test Periods"
   ]
  },
  {
   "cell_type": "code",
   "execution_count": 17,
   "id": "8e5e7115-b49c-4ef2-9612-163a0026d246",
   "metadata": {},
   "outputs": [],
   "source": [
    "dates = stocks.loc['2016-12':'2019-6'].resample('Q').last().index\n",
    "\n",
    "dates"
   ]
  },
  {
   "cell_type": "markdown",
   "id": "dfe19a2c-f0b4-4922-b878-c68e711653e4",
   "metadata": {},
   "source": [
    "### Running Tests"
   ]
  },
  {
   "cell_type": "code",
   "execution_count": 19,
   "id": "50d1c2c5-0ee3-4c45-9aa7-a03361f67f42",
   "metadata": {},
   "outputs": [],
   "source": [
    "test_results = []\n",
    "\n",
    "columns = ['test_end', 's1', 's2', 'eg1', 'eg2',\n",
    "           'trace0', 'trace1', 'eig0', 'eig1', 'w1', 'w2']\n",
    "\n",
    "for test_end in dates:\n",
    "    print(test_end)\n",
    "    result = test_cointegration(etfs, stocks, test_end=test_end)\n",
    "    test_results.append(pd.DataFrame(result, columns=columns))\n",
    "\n",
    "pd.concat(test_results).to_hdf('backtest.h5', 'cointegration_test')"
   ]
  },
  {
   "cell_type": "markdown",
   "id": "179e42a8-4ba4-48cf-b1ae-11185ca3a763",
   "metadata": {},
   "source": [
    "#### Reloading Test Results"
   ]
  },
  {
   "cell_type": "code",
   "execution_count": 20,
   "id": "5865d84c-8c2c-4a83-9299-74ee3358520d",
   "metadata": {},
   "outputs": [],
   "source": [
    "test_results = pd.read_hdf('backtest.h5', 'cointegration_test')\n",
    "\n",
    "test_results.info()"
   ]
  },
  {
   "cell_type": "markdown",
   "id": "b4053c6a-476e-4150-a76b-9807313dddd0",
   "metadata": {},
   "source": [
    "### Identifying Cointegrated Pairs\n",
    "\n",
    "#### Significant Johansen Trace Statistic"
   ]
  },
  {
   "cell_type": "code",
   "execution_count": 21,
   "id": "e844162e-e5b1-4179-b689-815d5bb1a3a9",
   "metadata": {},
   "outputs": [],
   "source": [
    "test_results['joh_sig'] = ((test_results.trace0 > trace0_cv) &\n",
    "                           (test_results.trace1 > trace1_cv))"
   ]
  },
  {
   "cell_type": "code",
   "execution_count": 22,
   "id": "0486171f-ea0b-4a60-8fc5-f9c310622a55",
   "metadata": {},
   "outputs": [],
   "source": [
    "test_results.joh_sig.value_counts(normalize=True)"
   ]
  },
  {
   "cell_type": "markdown",
   "id": "6095cf26-e30d-4d43-84ca-1ce6c648528a",
   "metadata": {},
   "source": [
    "#### Significant `Engle-Granger` Test"
   ]
  },
  {
   "cell_type": "code",
   "execution_count": 23,
   "id": "e44bfa5a-e555-4410-9593-4dc1b059b31d",
   "metadata": {},
   "outputs": [],
   "source": [
    "test_results['eg'] = test_results[['eg1', 'eg2']].min(axis=1)\n",
    "\n",
    "test_results['s1_dep'] = test_results.eg1 < test_results.eg2\n",
    "\n",
    "test_results['eg_sig'] = (test_results.eg < .05)"
   ]
  },
  {
   "cell_type": "code",
   "execution_count": 24,
   "id": "38778227-d8a1-4669-a95f-26a6a9d220b2",
   "metadata": {},
   "outputs": [],
   "source": [
    "test_results.eg_sig.value_counts(normalize=True)"
   ]
  },
  {
   "cell_type": "markdown",
   "id": "d5fb658e-8060-48e6-b408-4417bfaa44b9",
   "metadata": {},
   "source": [
    "#### Comparison `Engle-Granger` vs Johansen"
   ]
  },
  {
   "cell_type": "code",
   "execution_count": 25,
   "id": "526e52ae-6ddc-47d1-a81e-5fa8f6d16c91",
   "metadata": {},
   "outputs": [],
   "source": [
    "test_results['coint'] = (test_results.eg_sig & test_results.joh_sig)\n",
    "\n",
    "test_results.coint.value_counts(normalize=True)"
   ]
  },
  {
   "cell_type": "code",
   "execution_count": 26,
   "id": "a31fb5ce-dde2-49bf-ab44-1df730b6e9b4",
   "metadata": {},
   "outputs": [],
   "source": [
    "test_results = test_results.drop(['eg1', 'eg2', 'trace0', 'trace1', 'eig0', 'eig1'], axis=1)\n",
    "\n",
    "test_results.info()"
   ]
  },
  {
   "cell_type": "markdown",
   "id": "ff96d9e2-dd17-4476-9f16-d184a635a65d",
   "metadata": {},
   "source": [
    "#### Placing Comparison"
   ]
  },
  {
   "cell_type": "code",
   "execution_count": 27,
   "id": "295d3693-572a-4e53-bf7c-a1bc467224d0",
   "metadata": {},
   "outputs": [],
   "source": [
    "ax = test_results.groupby('test_end').coint.mean().to_frame('# Pairs').plot()\n",
    "\n",
    "ax.axhline(.05, lw=1, ls='--', c='k');"
   ]
  },
  {
   "cell_type": "markdown",
   "id": "93896587-d28a-480c-93be-df8c39ca569c",
   "metadata": {},
   "source": [
    "#### Candidate Pairs Selection"
   ]
  },
  {
   "cell_type": "code",
   "execution_count": 28,
   "id": "61a07d4e-2c03-40cb-9bfe-0f924041ce98",
   "metadata": {},
   "outputs": [],
   "source": [
    "def select_candidate_pairs(data):\n",
    "    candidates = data[data.joh_sig | data.eg_sig]\n",
    "    candidates['y'] = candidates.apply(lambda x: x.s1 if x.s1_dep else x.s2, axis=1)\n",
    "    candidates['x'] = candidates.apply(lambda x: x.s2 if x.s1_dep else x.s1, axis=1)\n",
    "    return candidates.drop(['s1_dep', 's1', 's2'], axis=1)"
   ]
  },
  {
   "cell_type": "code",
   "execution_count": 29,
   "id": "9c68d4ad-97b1-455a-a7f7-a7a3ac1b1bc8",
   "metadata": {},
   "outputs": [],
   "source": [
    "candidates = select_candidate_pairs(test_results)"
   ]
  },
  {
   "cell_type": "code",
   "execution_count": 30,
   "id": "5b0d59bb-e2b7-49a4-8234-d0172715184f",
   "metadata": {},
   "outputs": [],
   "source": [
    "candidates.to_hdf('backtest.h5', 'candidates')"
   ]
  },
  {
   "cell_type": "code",
   "execution_count": 31,
   "id": "9fee1ec5-cdf0-4272-ae68-6591f52e7a34",
   "metadata": {},
   "outputs": [],
   "source": [
    "candidates = pd.read_hdf('backtest.h5', 'candidates')\n",
    "\n",
    "candidates.info()"
   ]
  },
  {
   "cell_type": "markdown",
   "id": "54e67280-fa1e-41f0-abd5-43000ab1cbcc",
   "metadata": {},
   "source": [
    "#### Candidates over Time"
   ]
  },
  {
   "cell_type": "code",
   "execution_count": null,
   "id": "95528a51-50f3-4dd1-bf42-1134aea940b0",
   "metadata": {},
   "outputs": [],
   "source": [
    "candidates.groupby('test_end').size().plot(figsize=(8, 5))"
   ]
  },
  {
   "cell_type": "markdown",
   "id": "bb90e9a0-f9c2-4fe2-b5c5-1ef83406cba8",
   "metadata": {},
   "source": [
    "#### Most Common Pairs"
   ]
  },
  {
   "cell_type": "code",
   "execution_count": 32,
   "id": "26420d9d-57ee-44cb-8bb4-e8d32ce0fc5b",
   "metadata": {},
   "outputs": [],
   "source": [
    "with pd.HDFStore('data.h5') as store:\n",
    "    print(store.info())\n",
    "    tickers = store['tickers']"
   ]
  },
  {
   "cell_type": "code",
   "execution_count": 33,
   "id": "e6015210-f3ec-405b-80d6-1ec6d3902339",
   "metadata": {},
   "outputs": [],
   "source": [
    "with pd.HDFStore('backtest.h5') as store:\n",
    "    print(store.info())"
   ]
  },
  {
   "cell_type": "code",
   "execution_count": 34,
   "id": "0ba04d58-655c-4288-84dd-c8502ee9c55e",
   "metadata": {},
   "outputs": [],
   "source": [
    "counter = Counter()\n",
    "\n",
    "for s1, s2 in zip(candidates[candidates.joh_sig & candidates.eg_sig].y, \n",
    "                  candidates[candidates.joh_sig & candidates.eg_sig].x):\n",
    "    if s1 > s2:\n",
    "        counter[(s2, s1)] += 1\n",
    "    else: \n",
    "        counter[(s1, s2)] += 1"
   ]
  },
  {
   "cell_type": "code",
   "execution_count": 35,
   "id": "ff33ff4e-9217-46a5-b6f4-2f040064276e",
   "metadata": {},
   "outputs": [],
   "source": [
    "most_common_pairs = pd.DataFrame(counter.most_common(10))\n",
    "most_common_pairs = pd.DataFrame(most_common_pairs[0].values.tolist(), columns=['s1', 's2'])\n",
    "\n",
    "most_common_pairs"
   ]
  },
  {
   "cell_type": "code",
   "execution_count": 36,
   "id": "f5fefe0a-ef48-4188-a314-905e22e77775",
   "metadata": {},
   "outputs": [],
   "source": [
    "with pd.HDFStore('backtest.h5') as store:\n",
    "    prices = store['prices'].close.unstack('ticker').ffill(limit=5)\n",
    "    tickers = store['tickers'].to_dict()"
   ]
  },
  {
   "cell_type": "code",
   "execution_count": 37,
   "id": "af27d319-63b1-4ff0-a8f4-3472fed4a685",
   "metadata": {},
   "outputs": [],
   "source": [
    "cnt = pd.Series(counter).reset_index()\n",
    "cnt.columns = ['s1', 's2', 'n']\n",
    "cnt['name1'] = cnt.s1.map(tickers)\n",
    "cnt['name2'] = cnt.s2.map(tickers)\n",
    "cnt.nlargest(10, columns='n')"
   ]
  },
  {
   "cell_type": "code",
   "execution_count": 38,
   "id": "7446ec3a-7d56-4832-9eef-f55abc8c0bfd",
   "metadata": {},
   "outputs": [],
   "source": [
    "fig, axes = plt.subplots(ncols=2, figsize=(14, 5))\n",
    "\n",
    "for i in [0, 1]:\n",
    "    s1, s2 = most_common_pairs.at[i, 's1'], most_common_pairs.at[i, 's2']\n",
    "    prices.loc[:, [s1, s2]].rename(columns=tickers).plot(secondary_y=tickers[s2],\n",
    "                                                         ax=axes[i],\n",
    "                                                         rot=0)\n",
    "    axes[i].grid(False)\n",
    "    axes[i].set_xlabel('')\n",
    "\n",
    "sns.despine()\n",
    "fig.tight_layout()\n",
    "plt.show()"
   ]
  },
  {
   "cell_type": "markdown",
   "id": "75bf7cb2-f50f-4071-888b-62398ab29f64",
   "metadata": {},
   "source": [
    "### Get Entry and Exit Dates\n",
    "\n",
    "#### Smooth Prices using Kalman Filter"
   ]
  },
  {
   "cell_type": "code",
   "execution_count": 39,
   "id": "13d456b2-eae9-489d-8fc3-af5b7f7afcdf",
   "metadata": {},
   "outputs": [],
   "source": [
    "def KFSmoother(prices):\n",
    "    \"\"\"Estimate rolling mean\"\"\"\n",
    "    \n",
    "    kf = KalmanFilter(transition_matrices=np.eye(1),\n",
    "                      observation_matrices=np.eye(1),\n",
    "                      initial_state_mean=0,\n",
    "                      initial_state_covariance=1,\n",
    "                      observation_covariance=1,\n",
    "                      transition_covariance=.05)\n",
    "\n",
    "    state_means, _ = kf.filter(prices.values)\n",
    "    return pd.Series(state_means.flatten(),\n",
    "                     index=prices.index)"
   ]
  },
  {
   "cell_type": "code",
   "execution_count": 40,
   "id": "7d9aa38e-26e7-4894-9bee-363eb2610f41",
   "metadata": {},
   "outputs": [],
   "source": [
    "smoothed_prices = prices.apply(KFSmoother)\n",
    "\n",
    "smoothed_prices.to_hdf('tmp.h5', 'smoothed')"
   ]
  },
  {
   "cell_type": "code",
   "execution_count": 41,
   "id": "b73be33c-529c-4b14-bfa4-a232037137c0",
   "metadata": {},
   "outputs": [],
   "source": [
    "smoothed_prices = pd.read_hdf('tmp.h5', 'smoothed')"
   ]
  },
  {
   "cell_type": "markdown",
   "id": "2d6ebc58-3154-4684-932e-417922c296c0",
   "metadata": {},
   "source": [
    "### Computing Rolling Hedge Ratio using Kalman Filter"
   ]
  },
  {
   "cell_type": "code",
   "execution_count": 42,
   "id": "6797365f-d6a6-43f8-ab80-cd98a034e96a",
   "metadata": {},
   "outputs": [],
   "source": [
    "def KFHedgeRatio(x, y):\n",
    "    \"\"\"Estimate Hedge Ratio\"\"\"\n",
    "    delta = 1e-3\n",
    "    trans_cov = delta / (1 - delta) * np.eye(2)\n",
    "    obs_mat = np.expand_dims(np.vstack([[x], [np.ones(len(x))]]).T, axis=1)\n",
    "\n",
    "    kf = KalmanFilter(n_dim_obs=1, n_dim_state=2,\n",
    "                      initial_state_mean=[0, 0],\n",
    "                      initial_state_covariance=np.ones((2, 2)),\n",
    "                      transition_matrices=np.eye(2),\n",
    "                      observation_matrices=obs_mat,\n",
    "                      observation_covariance=2,\n",
    "                      transition_covariance=trans_cov)\n",
    "\n",
    "    state_means, _ = kf.filter(y.values)\n",
    "    return -state_means"
   ]
  },
  {
   "cell_type": "markdown",
   "id": "81f11e6c-783a-466d-a2b5-236ffbb21df8",
   "metadata": {},
   "source": [
    "#### Estimate Mean Reversion Half-Life"
   ]
  },
  {
   "cell_type": "code",
   "execution_count": 43,
   "id": "5d833d22-cefc-4211-afdf-857c2e2624b4",
   "metadata": {},
   "outputs": [],
   "source": [
    "def estimate_half_life(spread):\n",
    "    X = spread.shift().iloc[1:].to_frame().assign(const=1)\n",
    "    y = spread.diff().iloc[1:]\n",
    "    beta = (np.linalg.inv(X.T @ X) @ X.T @ y).iloc[0]\n",
    "    halflife = int(round(-np.log(2) / beta, 0))\n",
    "    return max(halflife, 1)"
   ]
  },
  {
   "cell_type": "markdown",
   "id": "c9425322-f507-4fed-b9d3-3bc72a808258",
   "metadata": {},
   "source": [
    "### Computing Spread & Bollinger Bands"
   ]
  },
  {
   "cell_type": "code",
   "execution_count": 44,
   "id": "c3668476-bde4-4e73-bdce-89db4bfdbbd7",
   "metadata": {},
   "outputs": [],
   "source": [
    "def get_spread(candidates, prices):\n",
    "    pairs = []\n",
    "    half_lives = []\n",
    "\n",
    "    periods = pd.DatetimeIndex(sorted(candidates.test_end.unique()))\n",
    "    start = time()\n",
    "    for p, test_end in enumerate(periods, 1):\n",
    "        start_iteration = time()\n",
    "\n",
    "        period_candidates = candidates.loc[candidates.test_end == test_end, ['y', 'x']]\n",
    "        trading_start = test_end + pd.DateOffset(days=1)\n",
    "        t = trading_start - pd.DateOffset(years=2)\n",
    "        T = trading_start + pd.DateOffset(months=6) - pd.DateOffset(days=1)\n",
    "        max_window = len(prices.loc[t: test_end].index)\n",
    "        print(test_end.date(), len(period_candidates))\n",
    "        for i, (y, x) in enumerate(zip(period_candidates.y, period_candidates.x), 1):\n",
    "            if i % 1000 == 0:\n",
    "                msg = f'{i:5.0f} | {time() - start_iteration:7.1f} | {time() - start:10.1f}'\n",
    "                print(msg)\n",
    "            pair = prices.loc[t: T, [y, x]]\n",
    "            pair['hedge_ratio'] = KFHedgeRatio(y=KFSmoother(prices.loc[t: T, y]),\n",
    "                                               x=KFSmoother(prices.loc[t: T, x]))[:, 0]\n",
    "            pair['spread'] = pair[y].add(pair[x].mul(pair.hedge_ratio))\n",
    "            half_life = estimate_half_life(pair.spread.loc[t: test_end])                \n",
    "\n",
    "            spread = pair.spread.rolling(window=min(2 * half_life, max_window))\n",
    "            pair['z_score'] = pair.spread.sub(spread.mean()).div(spread.std())\n",
    "            pairs.append(pair.loc[trading_start: T].assign(s1=y, s2=x, period=p, pair=i).drop([x, y], axis=1))\n",
    "\n",
    "            half_lives.append([test_end, y, x, half_life])\n",
    "    return pairs, half_lives"
   ]
  },
  {
   "cell_type": "code",
   "execution_count": 45,
   "id": "7a98116d-0313-4e9d-a616-f7373e87f8fc",
   "metadata": {},
   "outputs": [],
   "source": [
    "candidates = pd.read_hdf('backtest.h5', 'candidates')\n",
    "\n",
    "candidates.info()"
   ]
  },
  {
   "cell_type": "code",
   "execution_count": 46,
   "id": "9d734109-5e15-4933-a8eb-e715319704d3",
   "metadata": {},
   "outputs": [],
   "source": [
    "pairs, half_lives = get_spread(candidates, smoothed_prices)"
   ]
  },
  {
   "cell_type": "markdown",
   "id": "39185978-93e7-47e8-b5e4-4a6582adcebf",
   "metadata": {},
   "source": [
    "### Collect Results\n",
    "\n",
    "#### Half Lives"
   ]
  },
  {
   "cell_type": "code",
   "execution_count": 47,
   "id": "fce568bc-fdc9-4933-8ad8-ea08a562b8f1",
   "metadata": {},
   "outputs": [],
   "source": [
    "hl = pd.DataFrame(half_lives, columns=['test_end', 's1', 's2', 'half_life'])\n",
    "\n",
    "hl.info()"
   ]
  },
  {
   "cell_type": "code",
   "execution_count": 48,
   "id": "dbb2870c-6c34-4330-880f-f4af9d5ed2b9",
   "metadata": {},
   "outputs": [],
   "source": [
    "hl.half_life.describe()"
   ]
  },
  {
   "cell_type": "code",
   "execution_count": 49,
   "id": "2dccee1f-c715-427e-933b-93472a075175",
   "metadata": {},
   "outputs": [],
   "source": [
    "hl.to_hdf('backtest.h5', 'half_lives') "
   ]
  },
  {
   "cell_type": "markdown",
   "id": "5246020c-6ecf-49dd-9850-6ecffa01a368",
   "metadata": {},
   "source": [
    "#### Pair Data"
   ]
  },
  {
   "cell_type": "code",
   "execution_count": 50,
   "id": "819e616d-ae6f-4828-b68d-ecd3bb8bf057",
   "metadata": {},
   "outputs": [],
   "source": [
    "pair_data = pd.concat(pairs)\n",
    "\n",
    "pair_data.info(null_counts=True)"
   ]
  },
  {
   "cell_type": "code",
   "execution_count": 51,
   "id": "84f75d4f-1687-44a9-b07d-e3cbccbc42f7",
   "metadata": {},
   "outputs": [],
   "source": [
    "pair_data.to_hdf('backtest.h5', 'pair_data')"
   ]
  },
  {
   "cell_type": "code",
   "execution_count": 52,
   "id": "017e0710-bbc0-4e2e-b5f3-4664d389bb39",
   "metadata": {},
   "outputs": [],
   "source": [
    "pair_data = pd.read_hdf('backtest.h5', 'pair_data')"
   ]
  },
  {
   "cell_type": "markdown",
   "id": "aa2995c7-abf7-4a85-a4e3-766f114d1d41",
   "metadata": {},
   "source": [
    "### Identifying Long & Short Entry and Exit Dates"
   ]
  },
  {
   "cell_type": "code",
   "execution_count": 53,
   "id": "a00cd12c-e23f-44db-a65d-a0c5ade2d66c",
   "metadata": {},
   "outputs": [],
   "source": [
    "def get_trades(data):\n",
    "    pair_trades = []\n",
    "    for i, ((period, s1, s2), pair) in enumerate(data.groupby(['period', 's1', 's2']), 1):\n",
    "        if i % 100 == 0:\n",
    "            print(i)\n",
    "\n",
    "        first3m = pair.first('3M').index\n",
    "        last3m = pair.last('3M').index\n",
    "\n",
    "        entry = pair.z_score.abs() > 2\n",
    "        entry = ((entry.shift() != entry)\n",
    "                 .mul(np.sign(pair.z_score))\n",
    "                 .fillna(0)\n",
    "                 .astype(int)\n",
    "                 .sub(2))\n",
    "\n",
    "        exit = (np.sign(pair.z_score.shift().fillna(method='bfill'))\n",
    "                != np.sign(pair.z_score)).astype(int) - 1\n",
    "\n",
    "        trades = (entry[entry != -2].append(exit[exit == 0])\n",
    "                  .to_frame('side')\n",
    "                  .sort_values(['date', 'side'])\n",
    "                  .squeeze())\n",
    "        if not isinstance(trades, pd.Series):\n",
    "            continue\n",
    "        try:\n",
    "            trades.loc[trades < 0] += 2\n",
    "        except:\n",
    "            print(type(trades))\n",
    "            print(trades)\n",
    "            print(pair.z_score.describe())\n",
    "            break\n",
    "\n",
    "        trades = trades[trades.abs().shift() != trades.abs()]\n",
    "        window = trades.loc[first3m.min():first3m.max()]\n",
    "        extra = trades.loc[last3m.min():last3m.max()]\n",
    "        n = len(trades)\n",
    "\n",
    "        if window.iloc[0] == 0:\n",
    "            if n > 1:\n",
    "                print('shift')\n",
    "                window = window.iloc[1:]\n",
    "        if window.iloc[-1] != 0:\n",
    "            extra_exits = extra[extra == 0].head(1)\n",
    "            if extra_exits.empty:\n",
    "                continue\n",
    "            else:\n",
    "                window = window.append(extra_exits)\n",
    "\n",
    "        trades = pair[['s1', 's2', 'hedge_ratio', 'period', 'pair']].join(window.to_frame('side'), how='right')\n",
    "        trades.loc[trades.side == 0, 'hedge_ratio'] = np.nan\n",
    "        trades.hedge_ratio = trades.hedge_ratio.ffill()\n",
    "        pair_trades.append(trades)\n",
    "    return pair_trades"
   ]
  },
  {
   "cell_type": "code",
   "execution_count": 54,
   "id": "ed630973-c265-45fb-8407-418ef640a367",
   "metadata": {},
   "outputs": [],
   "source": [
    "pair_trades = get_trades(pair_data)"
   ]
  },
  {
   "cell_type": "code",
   "execution_count": 55,
   "id": "7ee012e2-47a3-41f3-a8ff-f1ed6699c1e1",
   "metadata": {},
   "outputs": [],
   "source": [
    "pair_trade_data = pd.concat(pair_trades)\n",
    "\n",
    "pair_trade_data.info()"
   ]
  },
  {
   "cell_type": "code",
   "execution_count": 56,
   "id": "86eb37fa-f37a-4770-9d38-9de455c36c23",
   "metadata": {},
   "outputs": [],
   "source": [
    "pair_trade_data.head()"
   ]
  },
  {
   "cell_type": "code",
   "execution_count": 57,
   "id": "6e969389-afcd-4548-bea1-a71031240dd9",
   "metadata": {},
   "outputs": [],
   "source": [
    "trades = pair_trade_data['side'].copy()\n",
    "trades.loc[trades != 0] = 1\n",
    "trades.loc[trades == 0] = -1\n",
    "trades.sort_index().cumsum().plot(figsize=(14, 4))\n",
    "sns.despine()\n",
    "plt.show()"
   ]
  },
  {
   "cell_type": "code",
   "execution_count": null,
   "id": "c61a72a4-1141-4594-9b92-caf73579f62d",
   "metadata": {},
   "outputs": [],
   "source": []
  }
 ],
 "metadata": {
  "kernelspec": {
   "display_name": "Python 3 (ipykernel)",
   "language": "python",
   "name": "python3"
  },
  "language_info": {
   "codemirror_mode": {
    "name": "ipython",
    "version": 3
   },
   "file_extension": ".py",
   "mimetype": "text/x-python",
   "name": "python",
   "nbconvert_exporter": "python",
   "pygments_lexer": "ipython3",
   "version": "3.12.9"
  }
 },
 "nbformat": 4,
 "nbformat_minor": 5
}
